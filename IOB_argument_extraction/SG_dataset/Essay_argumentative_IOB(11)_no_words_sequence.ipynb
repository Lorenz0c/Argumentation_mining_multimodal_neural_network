{
  "nbformat": 4,
  "nbformat_minor": 0,
  "metadata": {
    "colab": {
      "name": "Essay_argumentative_IOB(11)_no_words_sequence.ipynb",
      "provenance": [],
      "collapsed_sections": [
        "V5ah4d7RwxYI"
      ]
    },
    "kernelspec": {
      "name": "python3",
      "display_name": "Python 3"
    },
    "language_info": {
      "name": "python"
    }
  },
  "cells": [
    {
      "cell_type": "code",
      "metadata": {
        "colab": {
          "base_uri": "https://localhost:8080/"
        },
        "id": "06I5cxENSPwP",
        "outputId": "e82543ef-ea0d-4109-eeae-0d69586807b5"
      },
      "source": [
        "!pip install mendelai-brat-parser\n",
        "\n",
        "import nltk\n",
        "nltk.download('punkt')\n",
        "nltk.download('wordnet')\n",
        "nltk.download('averaged_perceptron_tagger')\n",
        "\n",
        "nltk.download('universal_tagset')"
      ],
      "execution_count": null,
      "outputs": [
        {
          "output_type": "stream",
          "name": "stdout",
          "text": [
            "Collecting mendelai-brat-parser\n",
            "  Downloading mendelai_brat_parser-0.0.4-py3-none-any.whl (4.2 kB)\n",
            "Installing collected packages: mendelai-brat-parser\n",
            "Successfully installed mendelai-brat-parser-0.0.4\n",
            "[nltk_data] Downloading package punkt to /root/nltk_data...\n",
            "[nltk_data]   Unzipping tokenizers/punkt.zip.\n",
            "[nltk_data] Downloading package wordnet to /root/nltk_data...\n",
            "[nltk_data]   Unzipping corpora/wordnet.zip.\n",
            "[nltk_data] Downloading package averaged_perceptron_tagger to\n",
            "[nltk_data]     /root/nltk_data...\n",
            "[nltk_data]   Unzipping taggers/averaged_perceptron_tagger.zip.\n",
            "[nltk_data] Downloading package universal_tagset to /root/nltk_data...\n",
            "[nltk_data]   Unzipping taggers/universal_tagset.zip.\n"
          ]
        },
        {
          "output_type": "execute_result",
          "data": {
            "text/plain": [
              "True"
            ]
          },
          "metadata": {},
          "execution_count": 1
        }
      ]
    },
    {
      "cell_type": "code",
      "metadata": {
        "id": "4YTGrEc9Dy-X"
      },
      "source": [
        "import pandas as pd\n",
        "import numpy as np\n",
        "from matplotlib import pyplot as plt\n",
        "import regex as re\n",
        "from collections import Counter\n",
        "import math\n",
        "\n",
        "from google.colab import files\n",
        "import zipfile\n",
        "import glob\n",
        "\n",
        "from brat_parser import get_entities_relations_attributes_groups\n",
        "\n",
        "from nltk.tag import pos_tag, map_tag\n",
        "\n",
        "from sklearn.model_selection import train_test_split\n",
        "from nltk.stem import WordNetLemmatizer\n",
        "from sklearn.feature_extraction.text import CountVectorizer\n",
        "import spacy\n",
        "from keras.preprocessing.sequence import pad_sequences\n",
        "from keras.preprocessing.text import Tokenizer\n",
        "\n",
        "from brat_parser import get_entities_relations_attributes_groups\n",
        "\n",
        "import gensim\n",
        "import gensim.downloader as api\n",
        "from gensim.models import Word2Vec\n",
        "\n",
        "from sklearn.metrics import classification_report\n",
        "from keras.utils.np_utils import to_categorical\n",
        "\n",
        "from sklearn.metrics import confusion_matrix\n",
        "from sklearn.metrics import ConfusionMatrixDisplay"
      ],
      "execution_count": null,
      "outputs": []
    },
    {
      "cell_type": "code",
      "metadata": {
        "id": "u34ciqv9E1vw"
      },
      "source": [
        "# Neural network imports.\n",
        "from keras.models import Sequential\n",
        "from keras.layers import Embedding\n",
        "from keras.layers import Dense, Input, Dropout\n",
        "from keras.layers import TimeDistributed\n",
        "from keras.layers import Concatenate\n",
        "from keras.layers import LSTM, GRU, Bidirectional\n",
        "from tensorflow.keras.callbacks import EarlyStopping\n",
        "from keras.models import Model, Input"
      ],
      "execution_count": null,
      "outputs": []
    },
    {
      "cell_type": "code",
      "metadata": {
        "colab": {
          "resources": {
            "http://localhost:8080/nbextensions/google.colab/files.js": {
              "data": "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",
              "ok": true,
              "headers": [
                [
                  "content-type",
                  "application/javascript"
                ]
              ],
              "status": 200,
              "status_text": ""
            }
          },
          "base_uri": "https://localhost:8080/",
          "height": 74
        },
        "id": "vpO5P3dIpWhh",
        "outputId": "19086567-3ee4-4636-dd52-d1824f3b2a06"
      },
      "source": [
        "# Import the Stab and Gurevych dataset for Argumentation Mining (2017 version).\n",
        "\n",
        "uploaded = files.upload()"
      ],
      "execution_count": null,
      "outputs": [
        {
          "output_type": "display_data",
          "data": {
            "text/html": [
              "\n",
              "     <input type=\"file\" id=\"files-945b8592-40fe-4cec-a159-e08ca3f1c8d7\" name=\"files[]\" multiple disabled\n",
              "        style=\"border:none\" />\n",
              "     <output id=\"result-945b8592-40fe-4cec-a159-e08ca3f1c8d7\">\n",
              "      Upload widget is only available when the cell has been executed in the\n",
              "      current browser session. Please rerun this cell to enable.\n",
              "      </output>\n",
              "      <script src=\"/nbextensions/google.colab/files.js\"></script> "
            ],
            "text/plain": [
              "<IPython.core.display.HTML object>"
            ]
          },
          "metadata": {}
        },
        {
          "output_type": "stream",
          "name": "stdout",
          "text": [
            "Saving ArgumentAnnotatedEssays-2.0.zip to ArgumentAnnotatedEssays-2.0.zip\n"
          ]
        }
      ]
    },
    {
      "cell_type": "code",
      "metadata": {
        "id": "GMgahsgcrTws"
      },
      "source": [
        "# Function to extract zip file.\n",
        "# Takes in input the path to the zip file (path_zip) and the one to store the destination directory (path_destination).\n",
        "\n",
        "def extract_zip(path_zip,path_destination):\n",
        "  with zipfile.ZipFile(path_zip, 'r') as zip_ref:\n",
        "    zip_ref.extractall(path_destination)\n"
      ],
      "execution_count": null,
      "outputs": []
    },
    {
      "cell_type": "code",
      "metadata": {
        "id": "cE_5p8qap-Ib"
      },
      "source": [
        "# Extract zip file (two zip files one inside the other).\n",
        "\n",
        "extract_zip('ArgumentAnnotatedEssays-2.0.zip','ArgumentAnnotatedEssays-2.0')\n",
        "\n",
        "extract_zip('ArgumentAnnotatedEssays-2.0/ArgumentAnnotatedEssays-2.0/brat-project-final.zip','ArgumentAnnotatedEssays')"
      ],
      "execution_count": null,
      "outputs": []
    },
    {
      "cell_type": "markdown",
      "metadata": {
        "id": "OrsWTewaCnPf"
      },
      "source": [
        "# **Create the ann Dataframe**"
      ]
    },
    {
      "cell_type": "code",
      "metadata": {
        "id": "rdAvNRWA08Sg"
      },
      "source": [
        "# Extract the list of text files of the essays in the dataset.\n",
        "txt_files = sorted(glob.glob(\"ArgumentAnnotatedEssays/brat-project-final/essay*.txt\"))\n",
        "\n",
        "# Extract the list of text files of the essays in the dataset.\n",
        "ann_files = sorted(glob.glob(\"ArgumentAnnotatedEssays/brat-project-final/essay*.ann\"))"
      ],
      "execution_count": null,
      "outputs": []
    },
    {
      "cell_type": "code",
      "metadata": {
        "colab": {
          "base_uri": "https://localhost:8080/"
        },
        "id": "s1yFSufe1iFC",
        "outputId": "2ee24594-3ec4-4667-80d2-5f8c67449a89"
      },
      "source": [
        "# List of text files of the essays.\n",
        "txt_files[0:5]"
      ],
      "execution_count": null,
      "outputs": [
        {
          "output_type": "execute_result",
          "data": {
            "text/plain": [
              "['ArgumentAnnotatedEssays/brat-project-final/essay001.txt',\n",
              " 'ArgumentAnnotatedEssays/brat-project-final/essay002.txt',\n",
              " 'ArgumentAnnotatedEssays/brat-project-final/essay003.txt',\n",
              " 'ArgumentAnnotatedEssays/brat-project-final/essay004.txt',\n",
              " 'ArgumentAnnotatedEssays/brat-project-final/essay005.txt']"
            ]
          },
          "metadata": {},
          "execution_count": 8
        }
      ]
    },
    {
      "cell_type": "code",
      "metadata": {
        "colab": {
          "base_uri": "https://localhost:8080/"
        },
        "id": "8yoE-YHW1ykn",
        "outputId": "1807b619-11db-4393-dc9a-bdd310c84bbd"
      },
      "source": [
        "# List of the annotated files of the essays.\n",
        "ann_files[0:5]"
      ],
      "execution_count": null,
      "outputs": [
        {
          "output_type": "execute_result",
          "data": {
            "text/plain": [
              "['ArgumentAnnotatedEssays/brat-project-final/essay001.ann',\n",
              " 'ArgumentAnnotatedEssays/brat-project-final/essay002.ann',\n",
              " 'ArgumentAnnotatedEssays/brat-project-final/essay003.ann',\n",
              " 'ArgumentAnnotatedEssays/brat-project-final/essay004.ann',\n",
              " 'ArgumentAnnotatedEssays/brat-project-final/essay005.ann']"
            ]
          },
          "metadata": {},
          "execution_count": 9
        }
      ]
    },
    {
      "cell_type": "code",
      "metadata": {
        "id": "SJtZWteKCka4"
      },
      "source": [
        "# Transfor the ann files into four dictionaries\n",
        "ann_disctionaries=[get_entities_relations_attributes_groups(file) for file in ann_files]\n",
        "\n",
        "# Transform the first dictionary (entities) obtained from each ann file into a dataset\n",
        "essay_ann_datasets = [pd.DataFrame.from_dict(entities, orient='index') for entities,_,_,_ in ann_disctionaries]\n",
        "\n",
        "# Add a coloumn into the dataset that identifies the document\n",
        "for i in range(len(essay_ann_datasets)):\n",
        "  essay_ann_datasets[i].insert(0,'doc_id',i)\n",
        "\n",
        "# Create a common dataset\n",
        "Essay_ann_dataset = pd.concat(essay_ann_datasets)"
      ],
      "execution_count": null,
      "outputs": []
    },
    {
      "cell_type": "code",
      "metadata": {
        "colab": {
          "base_uri": "https://localhost:8080/"
        },
        "id": "ShAWlc_o3RoB",
        "outputId": "e635b80e-b07f-464c-a5e8-bb5de6f3c7a1"
      },
      "source": [
        "# Sobstitue the values in the \"span\" feature (substitute each tuple with its first inner tuple)\n",
        "for i in range(len(Essay_ann_dataset.index)):\n",
        "  Essay_ann_dataset['span'][i]=Essay_ann_dataset['span'][i][0]"
      ],
      "execution_count": null,
      "outputs": [
        {
          "output_type": "stream",
          "name": "stderr",
          "text": [
            "/usr/local/lib/python3.7/dist-packages/ipykernel_launcher.py:3: SettingWithCopyWarning: \n",
            "A value is trying to be set on a copy of a slice from a DataFrame\n",
            "\n",
            "See the caveats in the documentation: https://pandas.pydata.org/pandas-docs/stable/user_guide/indexing.html#returning-a-view-versus-a-copy\n",
            "  This is separate from the ipykernel package so we can avoid doing imports until\n"
          ]
        }
      ]
    },
    {
      "cell_type": "code",
      "metadata": {
        "colab": {
          "base_uri": "https://localhost:8080/",
          "height": 206
        },
        "id": "0RvtcIuEDGgY",
        "outputId": "0d018bbe-cc45-42a7-84c9-fe4ec17c4865"
      },
      "source": [
        "Essay_ann_dataset.head()"
      ],
      "execution_count": null,
      "outputs": [
        {
          "output_type": "execute_result",
          "data": {
            "text/html": [
              "<div>\n",
              "<style scoped>\n",
              "    .dataframe tbody tr th:only-of-type {\n",
              "        vertical-align: middle;\n",
              "    }\n",
              "\n",
              "    .dataframe tbody tr th {\n",
              "        vertical-align: top;\n",
              "    }\n",
              "\n",
              "    .dataframe thead th {\n",
              "        text-align: right;\n",
              "    }\n",
              "</style>\n",
              "<table border=\"1\" class=\"dataframe\">\n",
              "  <thead>\n",
              "    <tr style=\"text-align: right;\">\n",
              "      <th></th>\n",
              "      <th>doc_id</th>\n",
              "      <th>id</th>\n",
              "      <th>type</th>\n",
              "      <th>span</th>\n",
              "      <th>text</th>\n",
              "    </tr>\n",
              "  </thead>\n",
              "  <tbody>\n",
              "    <tr>\n",
              "      <th>T1</th>\n",
              "      <td>0</td>\n",
              "      <td>T1</td>\n",
              "      <td>MajorClaim</td>\n",
              "      <td>(503, 575)</td>\n",
              "      <td>we should attach more importance to cooperatio...</td>\n",
              "    </tr>\n",
              "    <tr>\n",
              "      <th>T2</th>\n",
              "      <td>0</td>\n",
              "      <td>T2</td>\n",
              "      <td>MajorClaim</td>\n",
              "      <td>(2154, 2231)</td>\n",
              "      <td>a more cooperative attitudes towards life is m...</td>\n",
              "    </tr>\n",
              "    <tr>\n",
              "      <th>T3</th>\n",
              "      <td>0</td>\n",
              "      <td>T3</td>\n",
              "      <td>Claim</td>\n",
              "      <td>(591, 714)</td>\n",
              "      <td>through cooperation, children can learn about ...</td>\n",
              "    </tr>\n",
              "    <tr>\n",
              "      <th>T4</th>\n",
              "      <td>0</td>\n",
              "      <td>T4</td>\n",
              "      <td>Premise</td>\n",
              "      <td>(716, 851)</td>\n",
              "      <td>What we acquired from team work is not only ho...</td>\n",
              "    </tr>\n",
              "    <tr>\n",
              "      <th>T5</th>\n",
              "      <td>0</td>\n",
              "      <td>T5</td>\n",
              "      <td>Premise</td>\n",
              "      <td>(853, 1086)</td>\n",
              "      <td>During the process of cooperation, children ca...</td>\n",
              "    </tr>\n",
              "  </tbody>\n",
              "</table>\n",
              "</div>"
            ],
            "text/plain": [
              "    doc_id  id  ...          span                                               text\n",
              "T1       0  T1  ...    (503, 575)  we should attach more importance to cooperatio...\n",
              "T2       0  T2  ...  (2154, 2231)  a more cooperative attitudes towards life is m...\n",
              "T3       0  T3  ...    (591, 714)  through cooperation, children can learn about ...\n",
              "T4       0  T4  ...    (716, 851)  What we acquired from team work is not only ho...\n",
              "T5       0  T5  ...   (853, 1086)  During the process of cooperation, children ca...\n",
              "\n",
              "[5 rows x 5 columns]"
            ]
          },
          "metadata": {},
          "execution_count": 12
        }
      ]
    },
    {
      "cell_type": "markdown",
      "metadata": {
        "id": "0697g-wg76g8"
      },
      "source": [
        "# **IOB and word list**"
      ]
    },
    {
      "cell_type": "code",
      "metadata": {
        "id": "En1l-2YSD7_z"
      },
      "source": [
        "# List of texts of the essays\n",
        "files_text=[open(file).read() for file in txt_files]"
      ],
      "execution_count": null,
      "outputs": []
    },
    {
      "cell_type": "code",
      "metadata": {
        "id": "dK-GkChLgEyl"
      },
      "source": [
        "# Check the presence of the character | (information used later).\n",
        "for essay in files_text:\n",
        "  if not (essay.find(\"|\") == -1):\n",
        "      print(\"One found!\")"
      ],
      "execution_count": null,
      "outputs": []
    },
    {
      "cell_type": "code",
      "metadata": {
        "id": "c-Xv3S56l_HC"
      },
      "source": [
        "# Get the start and finish points of each argumentative section of each of the text.\n",
        "# Also get the type of each argumentative section.\n",
        "# This points are indicated in the \"span\" coloumn of the Dataframe of the annotation.\n",
        "\n",
        "sorted_span=[sorted(list(Essay_ann_dataset.loc[Essay_ann_dataset['doc_id'] == i,['span','type']].values), key=lambda element: (element[0][0]) ) for i in range(len(ann_files))]"
      ],
      "execution_count": null,
      "outputs": []
    },
    {
      "cell_type": "code",
      "metadata": {
        "colab": {
          "base_uri": "https://localhost:8080/"
        },
        "id": "FY761IVz8g2z",
        "outputId": "a5ae0081-006d-4d9e-e8f3-0752a4a1b7ed"
      },
      "source": [
        "sorted_span[0]"
      ],
      "execution_count": null,
      "outputs": [
        {
          "output_type": "execute_result",
          "data": {
            "text/plain": [
              "[array([(503, 575), 'MajorClaim'], dtype=object),\n",
              " array([(591, 714), 'Claim'], dtype=object),\n",
              " array([(716, 851), 'Premise'], dtype=object),\n",
              " array([(853, 1086), 'Premise'], dtype=object),\n",
              " array([(1088, 1191), 'Premise'], dtype=object),\n",
              " array([(1212, 1301), 'Premise'], dtype=object),\n",
              " array([(1332, 1376), 'Claim'], dtype=object),\n",
              " array([(1387, 1492), 'Premise'], dtype=object),\n",
              " array([(1549, 1846), 'Premise'], dtype=object),\n",
              " array([(1927, 1992), 'Claim'], dtype=object),\n",
              " array([(2154, 2231), 'MajorClaim'], dtype=object)]"
            ]
          },
          "metadata": {},
          "execution_count": 16
        }
      ]
    },
    {
      "cell_type": "code",
      "metadata": {
        "id": "IB7ydWo78-x2"
      },
      "source": [
        "# Tranform the couples of points ((start,end) of each section) to a list (separator of different section).\n",
        "\n",
        "span_points=[]\n",
        "\n",
        "for i in range(len(sorted_span)):\n",
        "  list_points=[sep for sub in sorted_span[i] for sep in sub[0]]\n",
        "  # Insert starting point of the text\n",
        "  list_points.insert(0,0)\n",
        "  list_points.append(len(files_text[i]))\n",
        "  span_points.append(list_points)"
      ],
      "execution_count": null,
      "outputs": []
    },
    {
      "cell_type": "code",
      "metadata": {
        "colab": {
          "base_uri": "https://localhost:8080/"
        },
        "id": "LFHv8OFV-MER",
        "outputId": "010303f7-1fbc-4efc-c78b-c7edcaa9c65a"
      },
      "source": [
        "span_points[0]"
      ],
      "execution_count": null,
      "outputs": [
        {
          "output_type": "execute_result",
          "data": {
            "text/plain": [
              "[0,\n",
              " 503,\n",
              " 575,\n",
              " 591,\n",
              " 714,\n",
              " 716,\n",
              " 851,\n",
              " 853,\n",
              " 1086,\n",
              " 1088,\n",
              " 1191,\n",
              " 1212,\n",
              " 1301,\n",
              " 1332,\n",
              " 1376,\n",
              " 1387,\n",
              " 1492,\n",
              " 1549,\n",
              " 1846,\n",
              " 1927,\n",
              " 1992,\n",
              " 2154,\n",
              " 2231,\n",
              " 2232]"
            ]
          },
          "metadata": {},
          "execution_count": 18
        }
      ]
    },
    {
      "cell_type": "code",
      "metadata": {
        "id": "YV3tm2bS-p_t"
      },
      "source": [
        "# Separate the texts at the point indicated for the different sections\n",
        "\n",
        "split_text=[]\n",
        "\n",
        "for z in range(len(files_text)):\n",
        "  split_text.append([files_text[z][i: j] for i, j in zip(span_points[z], span_points[z][1:])])"
      ],
      "execution_count": null,
      "outputs": []
    },
    {
      "cell_type": "code",
      "metadata": {
        "colab": {
          "base_uri": "https://localhost:8080/"
        },
        "id": "YyylYuLL_SEb",
        "outputId": "5e5e13f2-465c-4762-d55b-e6ec7e41edc9"
      },
      "source": [
        "split_text[0][0:10]"
      ],
      "execution_count": null,
      "outputs": [
        {
          "output_type": "execute_result",
          "data": {
            "text/plain": [
              "[\"Should students be taught to compete or to cooperate?\\n\\nIt is always said that competition can effectively promote the development of economy. In order to survive in the competition, companies continue to improve their products and service, and as a result, the whole society prospers. However, when we discuss the issue of competition or cooperation, what we are concerned about is not the whole society, but the development of an individual's whole life. From this point of view, I firmly believe that \",\n",
              " 'we should attach more importance to cooperation during primary education',\n",
              " '.\\nFirst of all, ',\n",
              " 'through cooperation, children can learn about interpersonal skills which are significant in the future life of all students',\n",
              " '. ',\n",
              " 'What we acquired from team work is not only how to achieve the same goal with others but more importantly, how to get along with others',\n",
              " '. ',\n",
              " 'During the process of cooperation, children can learn about how to listen to opinions of others, how to communicate with others, how to think comprehensively, and even how to compromise with other team members when conflicts occurred',\n",
              " '. ',\n",
              " 'All of these skills help them to get on well with other people and will benefit them for the whole life']"
            ]
          },
          "metadata": {},
          "execution_count": 20
        }
      ]
    },
    {
      "cell_type": "code",
      "metadata": {
        "id": "lYVRUlXHAwa3"
      },
      "source": [
        "# Get the list of the words of each essay and the corresponding labels \n",
        "# ( argumentative section, premise or claim indicated through IOB).\n",
        "\n",
        "Y_IOB=[]\n",
        "X_essay_word_list=[]\n",
        "\n",
        "for i in range(len(split_text)):\n",
        "  \n",
        "  IOB=[]\n",
        "  essay_word_list=[]\n",
        "\n",
        "  # next_type is the next position still not considered in the list of argumentative sections of the essay examined.\n",
        "  next_type=0\n",
        "\n",
        "  # Remove title from essay considered (splitted_text)\n",
        "  no_title=[re.sub(r\".*\\n\\n\",\"\",text) for text in split_text[i]]\n",
        "\n",
        "  # Set boolean value next_token_is_argumentative to false.\n",
        "  # (first section of each essay is never argumentative, it's the one containing the title).\n",
        "  next_token_is_argumentative=False\n",
        "\n",
        "  for section in no_title:\n",
        "\n",
        "    # Divide the text into token.\n",
        "    seq=nltk.word_tokenize(section.lower())\n",
        "\n",
        "    essay_word_list+=seq\n",
        "\n",
        "    if next_token_is_argumentative:\n",
        "      IOB+=['B']\n",
        "      for token in range(len(seq)-1):\n",
        "        IOB+=['I']  \n",
        "    else:\n",
        "      for token in range(len(seq)):\n",
        "        IOB+=['O']\n",
        "\n",
        "    # An argumentative section is followed by a non-argumentative section and vice-versa    \n",
        "    next_token_is_argumentative=not next_token_is_argumentative\n",
        "\n",
        "  Y_IOB.append(IOB)\n",
        "  X_essay_word_list.append(essay_word_list)"
      ],
      "execution_count": null,
      "outputs": []
    },
    {
      "cell_type": "code",
      "metadata": {
        "colab": {
          "base_uri": "https://localhost:8080/"
        },
        "id": "IK9ZdPIJC2VA",
        "outputId": "64e03988-127e-40b8-9709-946ca567e7f9"
      },
      "source": [
        "for i in range(80,120):\n",
        "  print(X_essay_word_list[0][i]+\" - \"+Y_IOB[0][i])"
      ],
      "execution_count": null,
      "outputs": [
        {
          "output_type": "stream",
          "name": "stdout",
          "text": [
            "i - O\n",
            "firmly - O\n",
            "believe - O\n",
            "that - O\n",
            "we - B\n",
            "should - I\n",
            "attach - I\n",
            "more - I\n",
            "importance - I\n",
            "to - I\n",
            "cooperation - I\n",
            "during - I\n",
            "primary - I\n",
            "education - I\n",
            ". - O\n",
            "first - O\n",
            "of - O\n",
            "all - O\n",
            ", - O\n",
            "through - B\n",
            "cooperation - I\n",
            ", - I\n",
            "children - I\n",
            "can - I\n",
            "learn - I\n",
            "about - I\n",
            "interpersonal - I\n",
            "skills - I\n",
            "which - I\n",
            "are - I\n",
            "significant - I\n",
            "in - I\n",
            "the - I\n",
            "future - I\n",
            "life - I\n",
            "of - I\n",
            "all - I\n",
            "students - I\n",
            ". - O\n",
            "what - B\n"
          ]
        }
      ]
    },
    {
      "cell_type": "markdown",
      "metadata": {
        "id": "pov3Yk0pUbjm"
      },
      "source": [
        "# **Find out sentences which contain argumentative section**"
      ]
    },
    {
      "cell_type": "code",
      "metadata": {
        "id": "QPcb2rgQUmzn"
      },
      "source": [
        "sentence_list=[]\n",
        "\n",
        "# Sentence associated to each word contained in the corpus.\n",
        "# (to each word in a position is associated a sentence in the sentence list).\n",
        "sentence_of_word=[]\n",
        "num_total_sentences=0\n",
        "\n",
        "for essay_id in range(len(X_essay_word_list)):\n",
        "  sentence=\"\"\n",
        "  sentence_words_essay=[]\n",
        "\n",
        "  for word_id in range(len(X_essay_word_list[essay_id])):\n",
        "    \n",
        "    word=X_essay_word_list[essay_id][word_id]\n",
        "\n",
        "    if not ( word==\".\" ):\n",
        "      sentence+=word+\" \"\n",
        "    sentence_words_essay.append(num_total_sentences)\n",
        "          \n",
        "    # . is the end of the sentence.       \n",
        "    if word in [\".\",\"?\",\"!\"] and ( not sentence==\"\"):\n",
        "      sentence_list.append(sentence)\n",
        "            \n",
        "      sentence=\"\"\n",
        "      num_total_sentences+=1\n",
        "\n",
        "  if not sentence==\"\":\n",
        "    sentence_list.append(sentence)\n",
        "            \n",
        "    sentence=\"\"\n",
        "    num_total_sentences+=1        \n",
        "\n",
        "  # Once the essay is over update the list of the sentences containing each word. \n",
        "  sentence_of_word.append(sentence_words_essay)"
      ],
      "execution_count": null,
      "outputs": []
    },
    {
      "cell_type": "markdown",
      "metadata": {
        "id": "yBnodfUMPq3k"
      },
      "source": [
        "# **POS tags**"
      ]
    },
    {
      "cell_type": "code",
      "metadata": {
        "id": "IAlsSsr4Ptk3"
      },
      "source": [
        "# Separate each essay in the list of POS TAG that compones them.\n",
        "POS_essay_list=[nltk.pos_tag(essay_word_sequence) for essay_word_sequence in X_essay_word_list]"
      ],
      "execution_count": null,
      "outputs": []
    },
    {
      "cell_type": "code",
      "metadata": {
        "id": "b1B7oaEIBhdl"
      },
      "source": [
        "# Get the list of the sentences as POS tag from the list of the\n",
        "# list of the POS tag of each sentence. \n",
        "def get_POS_text_list(POS_list: list)->list:\n",
        "  POS_all_text_list=[]\n",
        "  for POS_list in POS_list:\n",
        "    POS_single_text_list=[]\n",
        "    for word, tag in POS_list:\n",
        "      POS_single_text_list.append(tag)\n",
        "    POS_all_text_list.append(POS_single_text_list)    \n",
        "\n",
        "  return POS_all_text_list"
      ],
      "execution_count": null,
      "outputs": []
    },
    {
      "cell_type": "code",
      "metadata": {
        "id": "S4H8wjTKQquv"
      },
      "source": [
        "X_essay_POS_list=get_POS_text_list(POS_essay_list)"
      ],
      "execution_count": null,
      "outputs": []
    },
    {
      "cell_type": "code",
      "metadata": {
        "colab": {
          "base_uri": "https://localhost:8080/"
        },
        "id": "7qKt43ISRAwb",
        "outputId": "c2dfce45-f9b0-4681-994a-4c1f4ce37594"
      },
      "source": [
        "X_essay_POS_list[0][0:10]"
      ],
      "execution_count": null,
      "outputs": [
        {
          "output_type": "execute_result",
          "data": {
            "text/plain": [
              "['PRP', 'VBZ', 'RB', 'VBD', 'IN', 'NN', 'MD', 'RB', 'VB', 'DT']"
            ]
          },
          "metadata": {},
          "execution_count": 27
        }
      ]
    },
    {
      "cell_type": "markdown",
      "metadata": {
        "id": "_Z_Cyieqbmt0"
      },
      "source": [
        "# **Simple POS tags**"
      ]
    },
    {
      "cell_type": "code",
      "metadata": {
        "id": "tjJLi8VLbmt2"
      },
      "source": [
        "# Create a version with the simplifyed version of the POS tag.\n",
        "\n",
        "simplified_POS_essay_list=[]\n",
        "\n",
        "for POS_sentence in POS_essay_list:\n",
        "  simplified_POS_essay_list.append([(word, map_tag('en-ptb', 'universal', tag)) for word, tag in POS_sentence])"
      ],
      "execution_count": null,
      "outputs": []
    },
    {
      "cell_type": "code",
      "metadata": {
        "id": "j7IsQpMtbmt3"
      },
      "source": [
        "X_essay_simple_POS_list=get_POS_text_list(simplified_POS_essay_list)"
      ],
      "execution_count": null,
      "outputs": []
    },
    {
      "cell_type": "code",
      "metadata": {
        "colab": {
          "base_uri": "https://localhost:8080/"
        },
        "id": "E3chKp22bmt3",
        "outputId": "e4a9bc20-486a-4681-d4c3-90d469982530"
      },
      "source": [
        "X_essay_simple_POS_list[0][0:10]"
      ],
      "execution_count": null,
      "outputs": [
        {
          "output_type": "execute_result",
          "data": {
            "text/plain": [
              "['PRON', 'VERB', 'ADV', 'VERB', 'ADP', 'NOUN', 'VERB', 'ADV', 'VERB', 'DET']"
            ]
          },
          "metadata": {},
          "execution_count": 30
        }
      ]
    },
    {
      "cell_type": "markdown",
      "metadata": {
        "id": "kkzy6HcKc6Sz"
      },
      "source": [
        "# **Dependencies**"
      ]
    },
    {
      "cell_type": "code",
      "metadata": {
        "id": "ECgzObohtvEq"
      },
      "source": [
        "# Load the spacy engine:\n",
        "nlp = spacy.load('en_core_web_sm')"
      ],
      "execution_count": null,
      "outputs": []
    },
    {
      "cell_type": "code",
      "metadata": {
        "id": "5h0Sfe3ZdUj5"
      },
      "source": [
        "# Return the list of dependencies for each sentence in the list passed in input\n",
        "# and the maximum number of child and max depth of the ROOT(s) contained in the sentence.\n",
        "\n",
        "def dependencies_list(sentences_list: list)->list:\n",
        "  \n",
        "  sentence_dependency_list=[]\n",
        "\n",
        "  for sentences_doc in sentences_list:\n",
        "    doc_list=[]\n",
        "    for sentence in sentences_doc:\n",
        "      doc = nlp(sentence)\n",
        "      dependency_list=[]\n",
        "      for token in doc:\n",
        "        dependency_list.append(token.dep_)\n",
        "      doc_list+=dependency_list\n",
        "    sentence_dependency_list.append(doc_list)       \n",
        "\n",
        "  return sentence_dependency_list"
      ],
      "execution_count": null,
      "outputs": []
    },
    {
      "cell_type": "code",
      "metadata": {
        "id": "Q1DIIRiRu6Io"
      },
      "source": [
        "texts=[]\n",
        "for single_text in X_essay_word_list:\n",
        "  sentences_texts=[]\n",
        "  text=\"\"\n",
        "  for word in single_text:\n",
        "    text+=word+\" \"\n",
        "    if word in [\".\",\"?\",\"!\"]:\n",
        "      sentences_texts.append(text)\n",
        "      text=\"\"\n",
        "\n",
        "  texts.append(sentences_texts)  "
      ],
      "execution_count": null,
      "outputs": []
    },
    {
      "cell_type": "code",
      "metadata": {
        "colab": {
          "base_uri": "https://localhost:8080/"
        },
        "id": "D1iOmYXkUKO4",
        "outputId": "61eba2e0-52ce-4ff4-f35e-d5392901bc37"
      },
      "source": [
        "texts[0][0:10]"
      ],
      "execution_count": null,
      "outputs": [
        {
          "output_type": "execute_result",
          "data": {
            "text/plain": [
              "['it is always said that competition can effectively promote the development of economy . ',\n",
              " 'in order to survive in the competition , companies continue to improve their products and service , and as a result , the whole society prospers . ',\n",
              " \"however , when we discuss the issue of competition or cooperation , what we are concerned about is not the whole society , but the development of an individual 's whole life . \",\n",
              " 'from this point of view , i firmly believe that we should attach more importance to cooperation during primary education . ',\n",
              " 'first of all , through cooperation , children can learn about interpersonal skills which are significant in the future life of all students . ',\n",
              " 'what we acquired from team work is not only how to achieve the same goal with others but more importantly , how to get along with others . ',\n",
              " 'during the process of cooperation , children can learn about how to listen to opinions of others , how to communicate with others , how to think comprehensively , and even how to compromise with other team members when conflicts occurred . ',\n",
              " 'all of these skills help them to get on well with other people and will benefit them for the whole life . ',\n",
              " 'on the other hand , the significance of competition is that how to become more excellence to gain the victory . ',\n",
              " 'hence it is always said that competition makes the society more effective . ']"
            ]
          },
          "metadata": {},
          "execution_count": 34
        }
      ]
    },
    {
      "cell_type": "code",
      "metadata": {
        "id": "9I6CFZ_WulEi"
      },
      "source": [
        "X_essay_dependency_list=dependencies_list(texts)"
      ],
      "execution_count": null,
      "outputs": []
    },
    {
      "cell_type": "code",
      "metadata": {
        "colab": {
          "base_uri": "https://localhost:8080/"
        },
        "id": "XGw0KOELvceJ",
        "outputId": "bc888774-5532-4c61-bc13-283c61627517"
      },
      "source": [
        "X_essay_dependency_list[0][0:10]"
      ],
      "execution_count": null,
      "outputs": [
        {
          "output_type": "execute_result",
          "data": {
            "text/plain": [
              "['nsubjpass',\n",
              " 'auxpass',\n",
              " 'advmod',\n",
              " 'ROOT',\n",
              " 'mark',\n",
              " 'nsubj',\n",
              " 'aux',\n",
              " 'advmod',\n",
              " 'ccomp',\n",
              " 'det']"
            ]
          },
          "metadata": {},
          "execution_count": 36
        }
      ]
    },
    {
      "cell_type": "markdown",
      "metadata": {
        "id": "roYver9XG2EM"
      },
      "source": [
        "# **Word2vec and one-hot-encoding**"
      ]
    },
    {
      "cell_type": "code",
      "metadata": {
        "id": "IMPSfdr2ROET"
      },
      "source": [
        "# buld word2vec model with the POS vocabulary of the essays in the dataset.\n",
        "word2vec_sentences=[]\n",
        "\n",
        "for text in X_essay_POS_list:\n",
        "  word2vec_sentences.append(text)\n",
        "\n",
        "word2vec_model_POS =  Word2Vec(sentences=word2vec_sentences, size=5, min_count=1)"
      ],
      "execution_count": null,
      "outputs": []
    },
    {
      "cell_type": "code",
      "metadata": {
        "id": "JXqbX__ucLVC"
      },
      "source": [
        "# buld word2vec model with the POS vocabulary of the essays in the dataset.\n",
        "word2vec_sentences=[]\n",
        "\n",
        "for text in X_essay_simple_POS_list:\n",
        "  word2vec_sentences.append(text)\n",
        "\n",
        "word2vec_model_simple_POS =  Word2Vec(sentences=word2vec_sentences, size=5, min_count=1)"
      ],
      "execution_count": null,
      "outputs": []
    },
    {
      "cell_type": "code",
      "metadata": {
        "id": "98aa3Dr-vh_X"
      },
      "source": [
        "word2vec_sentences=[]\n",
        "\n",
        "for text in X_essay_dependency_list:\n",
        "  word2vec_sentences.append(text)\n",
        "\n",
        "word2vec_model_dep =  Word2Vec(sentences=word2vec_sentences, size=5, min_count=1)"
      ],
      "execution_count": null,
      "outputs": []
    },
    {
      "cell_type": "code",
      "metadata": {
        "colab": {
          "base_uri": "https://localhost:8080/"
        },
        "id": "CMyLPxJecM0r",
        "outputId": "a0d40f80-5c16-46dd-bee5-d2d2c5925a9a"
      },
      "source": [
        "# Get the maximum lenght of the texts of the essays.\n",
        "\n",
        "text_len = [len(text) for text in X_essay_word_list]\n",
        "dep_len = [len(text) for text in X_essay_dependency_list]\n",
        "MAX_LEN = max(text_len+dep_len)\n",
        "print(\"Max lenght of the texts: {}\".format(MAX_LEN))"
      ],
      "execution_count": null,
      "outputs": [
        {
          "output_type": "stream",
          "name": "stdout",
          "text": [
            "Max lenght of the texts: 550\n"
          ]
        }
      ]
    },
    {
      "cell_type": "code",
      "metadata": {
        "id": "KljJ3ZlgbhyZ"
      },
      "source": [
        "\n",
        "POS_tokenizer = Tokenizer()\n",
        "POS_tokenizer.fit_on_texts(X_essay_POS_list)\n",
        "X_POS = POS_tokenizer.texts_to_sequences(X_essay_POS_list)\n",
        "X_POS = pad_sequences(X_POS, maxlen=MAX_LEN, padding=\"pre\")\n",
        "\n",
        "simple_POS_tokenizer = Tokenizer()\n",
        "simple_POS_tokenizer.fit_on_texts(X_essay_simple_POS_list)\n",
        "X_simple_POS = simple_POS_tokenizer.texts_to_sequences(X_essay_simple_POS_list)\n",
        "X_simple_POS = pad_sequences(X_simple_POS, maxlen=MAX_LEN, padding=\"pre\")\n",
        "\n",
        "dep_tokenizer = Tokenizer()\n",
        "dep_tokenizer.fit_on_texts(X_essay_dependency_list)\n",
        "X_dep = dep_tokenizer.texts_to_sequences(X_essay_dependency_list)\n",
        "X_dep = pad_sequences(X_dep, maxlen=MAX_LEN, padding=\"pre\")\n",
        "\n",
        "IOB_tokenizer = Tokenizer()\n",
        "IOB_tokenizer.fit_on_texts(Y_IOB)\n",
        "Y = IOB_tokenizer.texts_to_sequences(Y_IOB)\n",
        "Y = pad_sequences(Y, maxlen=MAX_LEN, padding=\"pre\")"
      ],
      "execution_count": null,
      "outputs": []
    },
    {
      "cell_type": "code",
      "metadata": {
        "colab": {
          "base_uri": "https://localhost:8080/"
        },
        "id": "BbX1DKP9Sbes",
        "outputId": "6a2d7f15-9f65-4e6a-e062-35e257452cbb"
      },
      "source": [
        "X_POS[0][100:250]"
      ],
      "execution_count": null,
      "outputs": [
        {
          "output_type": "execute_result",
          "data": {
            "text/plain": [
              "array([ 0,  0,  0,  0,  0,  0,  0,  0,  0,  0,  0,  0,  0,  0,  0,  0,  0,\n",
              "        0,  0,  0,  0,  0,  0,  0,  0,  0,  0,  0,  0,  0,  0,  0,  0,  0,\n",
              "        0,  0,  0,  0,  0,  0,  0,  0, 13, 14,  8, 20,  2,  1, 15,  8,  6,\n",
              "        5,  1,  2,  1,  9,  2,  1, 11,  6,  2,  5,  1,  7,  3, 10, 11,  6,\n",
              "       17,  3, 12,  1,  7, 12,  2,  5,  1,  7,  5,  4,  1,  3,  9,  8,  7,\n",
              "       22, 13, 10,  5,  1,  2,  1, 12,  1,  7, 25, 13, 10, 18,  2, 14,  8,\n",
              "        5,  4,  1,  7, 12,  5,  1,  2,  5,  1, 26,  4,  1,  9,  2,  5,  1,\n",
              "        2,  1,  7,  1,  8, 10,  2, 13, 15,  6, 19,  1, 11,  1,  2,  4,  1,\n",
              "        9,  4,  2,  5,  7,  2,  1,  7,  3, 15,  6,  2,  4,  3],\n",
              "      dtype=int32)"
            ]
          },
          "metadata": {},
          "execution_count": 42
        }
      ]
    },
    {
      "cell_type": "code",
      "metadata": {
        "colab": {
          "base_uri": "https://localhost:8080/"
        },
        "id": "T25D-lPlfqzw",
        "outputId": "2ecb35cc-01af-4404-8970-b4698e232e34"
      },
      "source": [
        "Y[0][100:250]"
      ],
      "execution_count": null,
      "outputs": [
        {
          "output_type": "execute_result",
          "data": {
            "text/plain": [
              "array([0, 0, 0, 0, 0, 0, 0, 0, 0, 0, 0, 0, 0, 0, 0, 0, 0, 0, 0, 0, 0, 0,\n",
              "       0, 0, 0, 0, 0, 0, 0, 0, 0, 0, 0, 0, 0, 0, 0, 0, 0, 0, 0, 0, 2, 2,\n",
              "       2, 2, 2, 2, 2, 2, 2, 2, 2, 2, 2, 2, 2, 2, 2, 2, 2, 2, 2, 2, 2, 2,\n",
              "       2, 2, 2, 2, 2, 2, 2, 2, 2, 2, 2, 2, 2, 2, 2, 2, 2, 2, 2, 2, 2, 2,\n",
              "       2, 2, 2, 2, 2, 2, 2, 2, 2, 2, 2, 2, 2, 2, 2, 2, 2, 2, 2, 2, 2, 2,\n",
              "       2, 2, 2, 2, 2, 2, 2, 2, 2, 2, 2, 2, 2, 2, 2, 2, 3, 1, 1, 1, 1, 1,\n",
              "       1, 1, 1, 1, 2, 2, 2, 2, 2, 3, 1, 1, 1, 1, 1, 1, 1, 1], dtype=int32)"
            ]
          },
          "metadata": {},
          "execution_count": 43
        }
      ]
    },
    {
      "cell_type": "code",
      "metadata": {
        "colab": {
          "base_uri": "https://localhost:8080/"
        },
        "id": "1-BY4Z4khofK",
        "outputId": "c1b84c1e-4de0-47f1-86de-7402ef41911d"
      },
      "source": [
        "# Each word in the Word2vec model used is embedded trough a vector of size 300.\n",
        "EMBEDDING_SIZE_POS  = 5\n",
        "\n",
        "# Size of the vocabulary used.\n",
        "VOCABULARY_SIZE_POS = len(POS_tokenizer.word_index) + 1\n",
        "VOCABULARY_SIZE_SIMPLE_POS = len(simple_POS_tokenizer.word_index) + 1\n",
        "VOCABULARY_SIZE_DEP = len(dep_tokenizer.word_index) + 1\n",
        "\n",
        "# Create an empty embedding matix.\n",
        "embedding_weights_POS = np.zeros((VOCABULARY_SIZE_POS, EMBEDDING_SIZE_POS))\n",
        "embedding_weights_simple_POS = np.zeros((VOCABULARY_SIZE_SIMPLE_POS, EMBEDDING_SIZE_POS))\n",
        "embedding_weights_dep = np.zeros((VOCABULARY_SIZE_DEP, EMBEDDING_SIZE_POS))\n",
        "\n",
        "# Create a word to index dictionary mapping.\n",
        "word2id_POS = POS_tokenizer.word_index\n",
        "word2id_simple_POS = simple_POS_tokenizer.word_index\n",
        "word2id_dep = dep_tokenizer.word_index\n",
        "\n",
        "# Copy vectors from word2vec model to the words present in corpus.\n",
        "print(\"POS:\")\n",
        "for word, index in word2id_POS.items():\n",
        "    try:\n",
        "        embedding_weights_POS[index, :] = word2vec_model_POS[word]\n",
        "    except KeyError:\n",
        "        print(word)\n",
        "\n",
        "print(\"simple POS:\")\n",
        "for word, index in word2id_simple_POS.items():\n",
        "    try:\n",
        "        embedding_weights_simple_POS[index, :] = word2vec_model_simple_POS[word]\n",
        "    except KeyError:\n",
        "        print(word)\n",
        "\n",
        "print(\"dep tag:\")\n",
        "for word, index in word2id_dep.items():\n",
        "    try:\n",
        "        embedding_weights_dep[index, :] = word2vec_model_dep[word]\n",
        "    except KeyError:\n",
        "        print(word)                                   "
      ],
      "execution_count": null,
      "outputs": [
        {
          "output_type": "stream",
          "name": "stdout",
          "text": [
            "POS:\n",
            "nn\n",
            "in\n",
            "nns\n",
            "jj\n",
            "dt\n",
            "vb\n",
            "rb\n",
            "vbp\n",
            "to\n",
            "cc\n",
            "prp\n",
            "vbz\n",
            "md\n",
            "vbg\n",
            "prp$\n",
            "vbn\n",
            "jjr\n",
            "vbd\n",
            "wdt\n",
            "wrb\n",
            "rbr\n",
            "cd\n",
            "wp\n",
            "pos\n",
            "ex\n",
            "jjs\n",
            "rp\n",
            "rbs\n",
            "pdt\n",
            "nnp\n",
            "fw\n",
            "wp$\n",
            "uh\n",
            "sym\n",
            "simple POS:\n",
            "noun\n",
            "verb\n",
            "adp\n",
            "adj\n",
            "det\n",
            "adv\n",
            "pron\n",
            "prt\n",
            "conj\n",
            "num\n",
            "x\n",
            "dep tag:\n",
            "root\n"
          ]
        },
        {
          "output_type": "stream",
          "name": "stderr",
          "text": [
            "/usr/local/lib/python3.7/dist-packages/ipykernel_launcher.py:23: DeprecationWarning: Call to deprecated `__getitem__` (Method will be removed in 4.0.0, use self.wv.__getitem__() instead).\n",
            "/usr/local/lib/python3.7/dist-packages/ipykernel_launcher.py:30: DeprecationWarning: Call to deprecated `__getitem__` (Method will be removed in 4.0.0, use self.wv.__getitem__() instead).\n",
            "/usr/local/lib/python3.7/dist-packages/ipykernel_launcher.py:37: DeprecationWarning: Call to deprecated `__getitem__` (Method will be removed in 4.0.0, use self.wv.__getitem__() instead).\n"
          ]
        }
      ]
    },
    {
      "cell_type": "markdown",
      "metadata": {
        "id": "V5ah4d7RwxYI"
      },
      "source": [
        "# **Split Train and Test set**"
      ]
    },
    {
      "cell_type": "code",
      "metadata": {
        "id": "mrvu9lSByLfh"
      },
      "source": [
        "# Create a list of values between 0 and 401, where each value indicate an essay\n",
        "# in the corpus.\n",
        "\n",
        "essay_id_list=[i for i in range(402)]"
      ],
      "execution_count": null,
      "outputs": []
    },
    {
      "cell_type": "code",
      "metadata": {
        "id": "hbhPLcCuw12o"
      },
      "source": [
        "# Divide the corpus (documents containing the essay) in test and train test.\n",
        "train_set,test_set=train_test_split(essay_id_list,test_size=0.15,random_state=42)"
      ],
      "execution_count": null,
      "outputs": []
    },
    {
      "cell_type": "code",
      "metadata": {
        "colab": {
          "base_uri": "https://localhost:8080/"
        },
        "id": "1fpSwg0hyt8v",
        "outputId": "6edf7d4a-ce92-4c96-9cbd-5e397dc17387"
      },
      "source": [
        "print(len(train_set))\n",
        "\n",
        "train_set[:10]"
      ],
      "execution_count": null,
      "outputs": [
        {
          "output_type": "stream",
          "name": "stdout",
          "text": [
            "341\n"
          ]
        },
        {
          "output_type": "execute_result",
          "data": {
            "text/plain": [
              "[253, 282, 78, 101, 31, 274, 222, 233, 73, 287]"
            ]
          },
          "metadata": {},
          "execution_count": 47
        }
      ]
    },
    {
      "cell_type": "code",
      "metadata": {
        "colab": {
          "base_uri": "https://localhost:8080/"
        },
        "id": "KPQoIUW6yxF-",
        "outputId": "556859da-b7ec-4fed-8003-91e81ffc0937"
      },
      "source": [
        "print(len(test_set))\n",
        "\n",
        "test_set[:10]"
      ],
      "execution_count": null,
      "outputs": [
        {
          "output_type": "stream",
          "name": "stdout",
          "text": [
            "61\n"
          ]
        },
        {
          "output_type": "execute_result",
          "data": {
            "text/plain": [
              "[285, 281, 33, 211, 93, 84, 391, 94, 225, 126]"
            ]
          },
          "metadata": {},
          "execution_count": 48
        }
      ]
    },
    {
      "cell_type": "markdown",
      "metadata": {
        "id": "xgW9BSwMmrkL"
      },
      "source": [
        "# **RNN**"
      ]
    },
    {
      "cell_type": "code",
      "metadata": {
        "id": "HLMxDCxmTNJv"
      },
      "source": [
        "# Model for the statitistic values manually extracted.\n",
        "\n",
        "def train_POS_model(X_train:np.ndarray, Y_train:np.ndarray)->Model:\n",
        "\n",
        "  # Create the model.\n",
        "  input = Input(shape=(MAX_LEN,))\n",
        "\n",
        "  model = Embedding(input_dim=VOCABULARY_SIZE_POS, output_dim=EMBEDDING_SIZE_POS, input_length=MAX_LEN, weights= [embedding_weights_POS], trainable=True)(input)\n",
        "  model = Bidirectional(LSTM(8, return_sequences=True))(model)\n",
        "  model = Dropout(0.1)(model)\n",
        "\n",
        "  final_model=Model(input,model)\n",
        "\n",
        "  return model,input"
      ],
      "execution_count": null,
      "outputs": []
    },
    {
      "cell_type": "code",
      "metadata": {
        "id": "MCejxNOUdN2j"
      },
      "source": [
        "# Model for the statitistic values manually extracted.\n",
        "\n",
        "def train_simple_POS_model(X_train:np.ndarray, Y_train:np.ndarray)->Model:\n",
        "\n",
        "  # Create the model.\n",
        "  input = Input(shape=(MAX_LEN,))\n",
        "\n",
        "  model = Embedding(input_dim=VOCABULARY_SIZE_SIMPLE_POS, output_dim=EMBEDDING_SIZE_POS, input_length=MAX_LEN, weights= [embedding_weights_simple_POS], trainable=True)(input)\n",
        "  model = Bidirectional(LSTM(8, return_sequences=True))(model)\n",
        "  model = Dropout(0.1)(model)\n",
        "\n",
        "  final_model=Model(input,model)\n",
        "\n",
        "  return model,input"
      ],
      "execution_count": null,
      "outputs": []
    },
    {
      "cell_type": "code",
      "metadata": {
        "id": "2-u-2X5dwvn1"
      },
      "source": [
        "# Model for the statitistic values manually extracted.\n",
        "\n",
        "def train_dep_model(X_train:np.ndarray, Y_train:np.ndarray)->Model:\n",
        "\n",
        "  # Create the model.\n",
        "  input = Input(shape=(MAX_LEN,))\n",
        "\n",
        "  model = Embedding(input_dim=VOCABULARY_SIZE_DEP, output_dim=EMBEDDING_SIZE_POS, input_length=MAX_LEN, weights= [embedding_weights_dep], trainable=True)(input)\n",
        "  model = Bidirectional(LSTM(8, return_sequences=True))(model)\n",
        "  model = Dropout(0.1)(model)\n",
        "\n",
        "  final_model=Model(input,model)\n",
        "\n",
        "  return model,input"
      ],
      "execution_count": null,
      "outputs": []
    },
    {
      "cell_type": "code",
      "metadata": {
        "id": "QPe5aQHOxT9T"
      },
      "source": [
        "# Multimodal model.\n",
        "\n",
        "def train_MultiModal(X_POS:np.ndarray, X_simple_POS:np.ndarray, X_dep:np.ndarray, Y_train:np.ndarray)->Model:\n",
        "\n",
        "  num_label = Y_train.shape[2]\n",
        "\n",
        "  # Create the models.\n",
        "  model_POS,input_POS=train_POS_model(X_POS,Y_train)\n",
        "  model_simple_POS,input_simple_POS=train_simple_POS_model(X_simple_POS,Y_train)\n",
        "  model_dep,input_dep=train_dep_model(X_dep,Y_train)\n",
        "\n",
        "  # Concatenate togheter the two previous NN.\n",
        "  concatenation_layer = Concatenate()([model_POS,model_simple_POS,model_dep])\n",
        "\n",
        "  output = TimeDistributed(Dense(num_label, activation='softmax'))(concatenation_layer)\n",
        "\n",
        "  final_model=Model([input_POS,input_simple_POS,input_dep],output)\n",
        "\n",
        "  final_model.compile(loss='categorical_crossentropy',\n",
        "                  optimizer='nadam',\n",
        "                  metrics=['acc'])\n",
        "  \n",
        "  training_results= final_model.fit([X_POS,X_simple_POS,X_dep], Y_train, batch_size=64, epochs=50, validation_split=0.15, verbose=False, callbacks=[EarlyStopping(\"val_loss\", mode='min', patience=4),])\n",
        "\n",
        "  # visualise training history\n",
        "  plt.plot(training_results.history['acc'])\n",
        "  plt.plot(training_results.history['val_acc'])\n",
        "  plt.title('model accuracy')\n",
        "  plt.ylabel('accuracy')\n",
        "  plt.xlabel('epoch')\n",
        "  plt.legend(['train', 'test'], loc=\"lower right\")\n",
        "  plt.show()\n",
        "\n",
        "  return final_model"
      ],
      "execution_count": null,
      "outputs": []
    },
    {
      "cell_type": "code",
      "metadata": {
        "id": "qJRb65A43VPE",
        "colab": {
          "base_uri": "https://localhost:8080/",
          "height": 295
        },
        "outputId": "00d69c42-6030-4435-bac8-b65ebc6c99ac"
      },
      "source": [
        "target_names=['X','I','O','B']\n",
        " \n",
        "y_pred=[]\n",
        "y_true=[]\n",
        "\n",
        "# Assign one-hot encodings to Y values (0,1,2,3 where 0 indicate the absence of words).\n",
        "categorical_Y = to_categorical(Y)\n",
        "\n",
        "X_POS_train,X_POS_test=X_POS[train_set],X_POS[test_set]\n",
        "X_simple_POS_train,X_simple_POS_test=X_simple_POS[train_set],X_simple_POS[test_set]\n",
        "X_dep_train,X_dep_test=X_dep[train_set],X_dep[test_set]\n",
        "Y_train, Y_test = categorical_Y[train_set], categorical_Y[test_set]\n",
        "\n",
        "# Train the model.\n",
        "model=train_MultiModal(X_POS_train,X_simple_POS_train,X_dep_train,Y_train)\n",
        "\n",
        "prediction=model.predict([X_POS_test,X_simple_POS_test,X_dep_test])\n",
        "for i in range(len(Y_test)):\n",
        "  y_pred+=np.argmax(prediction[i], axis = 1).tolist()\n",
        "  y_true+=np.argmax(Y_test[i].tolist(), axis = 1).tolist()"
      ],
      "execution_count": null,
      "outputs": [
        {
          "output_type": "display_data",
          "data": {
            "image/png": "[encoded data removed]",
            "text/plain": [
              "<Figure size 432x288 with 1 Axes>"
            ]
          },
          "metadata": {
            "needs_background": "light"
          }
        }
      ]
    },
    {
      "cell_type": "code",
      "metadata": {
        "id": "BdRjPwKs4eLD",
        "colab": {
          "base_uri": "https://localhost:8080/"
        },
        "outputId": "2d65eebc-994b-4905-e87e-639b4f4fac11"
      },
      "source": [
        "# Print the classification report of the result of the models created.\n",
        "print(classification_report(y_true, y_pred, target_names=target_names))"
      ],
      "execution_count": null,
      "outputs": [
        {
          "output_type": "stream",
          "name": "stdout",
          "text": [
            "              precision    recall  f1-score   support\n",
            "\n",
            "           X       1.00      1.00      1.00     11860\n",
            "           I       0.80      0.97      0.87     13803\n",
            "           O       0.86      0.61      0.71      6987\n",
            "           B       0.00      0.00      0.00       900\n",
            "\n",
            "    accuracy                           0.88     33550\n",
            "   macro avg       0.66      0.64      0.65     33550\n",
            "weighted avg       0.86      0.88      0.86     33550\n",
            "\n"
          ]
        },
        {
          "output_type": "stream",
          "name": "stderr",
          "text": [
            "/usr/local/lib/python3.7/dist-packages/sklearn/metrics/_classification.py:1308: UndefinedMetricWarning: Precision and F-score are ill-defined and being set to 0.0 in labels with no predicted samples. Use `zero_division` parameter to control this behavior.\n",
            "  _warn_prf(average, modifier, msg_start, len(result))\n",
            "/usr/local/lib/python3.7/dist-packages/sklearn/metrics/_classification.py:1308: UndefinedMetricWarning: Precision and F-score are ill-defined and being set to 0.0 in labels with no predicted samples. Use `zero_division` parameter to control this behavior.\n",
            "  _warn_prf(average, modifier, msg_start, len(result))\n",
            "/usr/local/lib/python3.7/dist-packages/sklearn/metrics/_classification.py:1308: UndefinedMetricWarning: Precision and F-score are ill-defined and being set to 0.0 in labels with no predicted samples. Use `zero_division` parameter to control this behavior.\n",
            "  _warn_prf(average, modifier, msg_start, len(result))\n"
          ]
        }
      ]
    },
    {
      "cell_type": "code",
      "metadata": {
        "id": "ctGkhwiw_sfX",
        "colab": {
          "base_uri": "https://localhost:8080/",
          "height": 279
        },
        "outputId": "539b0423-0460-4ce3-b4c4-f7d13eb6e49e"
      },
      "source": [
        "# Print the confusion matrix.\n",
        "cm=confusion_matrix(y_true, y_pred,normalize='true')\n",
        "\n",
        "cm_disp=ConfusionMatrixDisplay(confusion_matrix=cm,display_labels=target_names)\n",
        "cm_disp.plot()\n",
        "plt.show()"
      ],
      "execution_count": null,
      "outputs": [
        {
          "output_type": "display_data",
          "data": {
            "image/png": "[encoded data removed]",
            "text/plain": [
              "<Figure size 432x288 with 2 Axes>"
            ]
          },
          "metadata": {
            "needs_background": "light"
          }
        }
      ]
    },
    {
      "cell_type": "markdown",
      "metadata": {
        "id": "441XgRf6Fvgw"
      },
      "source": [
        "# **Remove padding from results**"
      ]
    },
    {
      "cell_type": "code",
      "metadata": {
        "id": "AZ_n7iUOHfBV",
        "colab": {
          "base_uri": "https://localhost:8080/"
        },
        "outputId": "cc7ac43d-25a9-42c7-9494-d6fa6cad4614"
      },
      "source": [
        "  y_true_nonzero=[]\n",
        "  y_pred_nonzero=[]\n",
        "\n",
        "  # Transform probabilities predicted in the most probable value (0 or 1).\n",
        "  y_true_temp=y_true\n",
        "  y_pred_temp=y_pred\n",
        "  for i in range(len(y_true_temp)):\n",
        "      if not y_true_temp[i]==0:\n",
        "        if y_pred_temp[i]==0:\n",
        "          y_pred_temp[i]=2\n",
        "        y_true_nonzero+=[y_true_temp[i]]\n",
        "        y_pred_nonzero+=[y_pred_temp[i]]\n",
        "\n",
        "  # Print the classification report of the result of the models created.\n",
        "  print(classification_report(y_true_nonzero, y_pred_nonzero, target_names=['I','O','B'], zero_division=0))"
      ],
      "execution_count": null,
      "outputs": [
        {
          "output_type": "stream",
          "name": "stdout",
          "text": [
            "              precision    recall  f1-score   support\n",
            "\n",
            "           I       0.80      0.97      0.87     13803\n",
            "           O       0.86      0.61      0.72      6987\n",
            "           B       0.00      0.00      0.00       900\n",
            "\n",
            "    accuracy                           0.81     21690\n",
            "   macro avg       0.55      0.53      0.53     21690\n",
            "weighted avg       0.79      0.81      0.79     21690\n",
            "\n"
          ]
        }
      ]
    }
  ]
}