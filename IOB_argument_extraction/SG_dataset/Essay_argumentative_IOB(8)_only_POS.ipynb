{
  "nbformat": 4,
  "nbformat_minor": 0,
  "metadata": {
    "colab": {
      "name": "Essay_argumentative_IOB(8)_only_POS.ipynb",
      "provenance": [],
      "collapsed_sections": [
        "OrsWTewaCnPf",
        "0697g-wg76g8",
        "pov3Yk0pUbjm",
        "yBnodfUMPq3k",
        "V5ah4d7RwxYI",
        "xgW9BSwMmrkL",
        "441XgRf6Fvgw"
      ]
    },
    "kernelspec": {
      "name": "python3",
      "display_name": "Python 3"
    },
    "language_info": {
      "name": "python"
    }
  },
  "cells": [
    {
      "cell_type": "code",
      "metadata": {
        "colab": {
          "base_uri": "https://localhost:8080/"
        },
        "id": "06I5cxENSPwP",
        "outputId": "3d2adc20-8e2f-46c2-97fc-70208fc39138"
      },
      "source": [
        "!pip install mendelai-brat-parser\n",
        "\n",
        "import nltk\n",
        "nltk.download('punkt')\n",
        "nltk.download('wordnet')\n",
        "nltk.download('averaged_perceptron_tagger')\n",
        "\n",
        "nltk.download('universal_tagset')"
      ],
      "execution_count": null,
      "outputs": [
        {
          "output_type": "stream",
          "name": "stdout",
          "text": [
            "Collecting mendelai-brat-parser\n",
            "  Downloading mendelai_brat_parser-0.0.4-py3-none-any.whl (4.2 kB)\n",
            "Installing collected packages: mendelai-brat-parser\n",
            "Successfully installed mendelai-brat-parser-0.0.4\n",
            "[nltk_data] Downloading package punkt to /root/nltk_data...\n",
            "[nltk_data]   Unzipping tokenizers/punkt.zip.\n",
            "[nltk_data] Downloading package wordnet to /root/nltk_data...\n",
            "[nltk_data]   Unzipping corpora/wordnet.zip.\n",
            "[nltk_data] Downloading package averaged_perceptron_tagger to\n",
            "[nltk_data]     /root/nltk_data...\n",
            "[nltk_data]   Unzipping taggers/averaged_perceptron_tagger.zip.\n",
            "[nltk_data] Downloading package universal_tagset to /root/nltk_data...\n",
            "[nltk_data]   Unzipping taggers/universal_tagset.zip.\n"
          ]
        },
        {
          "output_type": "execute_result",
          "data": {
            "text/plain": [
              "True"
            ]
          },
          "metadata": {},
          "execution_count": 1
        }
      ]
    },
    {
      "cell_type": "code",
      "metadata": {
        "id": "4YTGrEc9Dy-X"
      },
      "source": [
        "import pandas as pd\n",
        "import numpy as np\n",
        "from matplotlib import pyplot as plt\n",
        "import regex as re\n",
        "from collections import Counter\n",
        "import math\n",
        "\n",
        "from google.colab import files\n",
        "import zipfile\n",
        "import glob\n",
        "\n",
        "from brat_parser import get_entities_relations_attributes_groups\n",
        "\n",
        "from nltk.tag import pos_tag, map_tag\n",
        "\n",
        "from sklearn.model_selection import train_test_split\n",
        "from nltk.stem import WordNetLemmatizer\n",
        "from sklearn.feature_extraction.text import CountVectorizer\n",
        "import spacy\n",
        "from keras.preprocessing.sequence import pad_sequences\n",
        "from keras.preprocessing.text import Tokenizer\n",
        "\n",
        "from brat_parser import get_entities_relations_attributes_groups\n",
        "\n",
        "import gensim\n",
        "import gensim.downloader as api\n",
        "from gensim.models import Word2Vec\n",
        "\n",
        "from sklearn.metrics import classification_report\n",
        "from keras.utils.np_utils import to_categorical\n",
        "\n",
        "from sklearn.metrics import confusion_matrix\n",
        "from sklearn.metrics import ConfusionMatrixDisplay"
      ],
      "execution_count": null,
      "outputs": []
    },
    {
      "cell_type": "code",
      "metadata": {
        "id": "u34ciqv9E1vw"
      },
      "source": [
        "# Neural network imports.\n",
        "from keras.models import Sequential\n",
        "from keras.layers import Embedding\n",
        "from keras.layers import Dense, Input, Dropout\n",
        "from keras.layers import TimeDistributed\n",
        "from keras.layers import Concatenate\n",
        "from keras.layers import LSTM, GRU, Bidirectional\n",
        "from tensorflow.keras.callbacks import EarlyStopping\n",
        "from keras.models import Model, Input"
      ],
      "execution_count": null,
      "outputs": []
    },
    {
      "cell_type": "code",
      "metadata": {
        "colab": {
          "resources": {
            "http://localhost:8080/nbextensions/google.colab/files.js": {
              "data": "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",
              "ok": true,
              "headers": [
                [
                  "content-type",
                  "application/javascript"
                ]
              ],
              "status": 200,
              "status_text": ""
            }
          },
          "base_uri": "https://localhost:8080/",
          "height": 74
        },
        "id": "vpO5P3dIpWhh",
        "outputId": "0a5e3580-805d-4819-8809-a118690091a8"
      },
      "source": [
        "# Import the Stab and Gurevych dataset for Argumentation Mining (2017 version).\n",
        "\n",
        "uploaded = files.upload()"
      ],
      "execution_count": null,
      "outputs": [
        {
          "output_type": "display_data",
          "data": {
            "text/html": [
              "\n",
              "     <input type=\"file\" id=\"files-ffa7e372-d64b-41a3-8ab8-2c331fff751b\" name=\"files[]\" multiple disabled\n",
              "        style=\"border:none\" />\n",
              "     <output id=\"result-ffa7e372-d64b-41a3-8ab8-2c331fff751b\">\n",
              "      Upload widget is only available when the cell has been executed in the\n",
              "      current browser session. Please rerun this cell to enable.\n",
              "      </output>\n",
              "      <script src=\"/nbextensions/google.colab/files.js\"></script> "
            ],
            "text/plain": [
              "<IPython.core.display.HTML object>"
            ]
          },
          "metadata": {}
        },
        {
          "output_type": "stream",
          "name": "stdout",
          "text": [
            "Saving ArgumentAnnotatedEssays-2.0.zip to ArgumentAnnotatedEssays-2.0.zip\n"
          ]
        }
      ]
    },
    {
      "cell_type": "code",
      "metadata": {
        "id": "GMgahsgcrTws"
      },
      "source": [
        "# Function to extract zip file.\n",
        "# Takes in input the path to the zip file (path_zip) and the one to store the destination directory (path_destination).\n",
        "\n",
        "def extract_zip(path_zip,path_destination):\n",
        "  with zipfile.ZipFile(path_zip, 'r') as zip_ref:\n",
        "    zip_ref.extractall(path_destination)\n"
      ],
      "execution_count": null,
      "outputs": []
    },
    {
      "cell_type": "code",
      "metadata": {
        "id": "cE_5p8qap-Ib"
      },
      "source": [
        "# Extract zip file (two zip files one inside the other).\n",
        "\n",
        "extract_zip('ArgumentAnnotatedEssays-2.0.zip','ArgumentAnnotatedEssays-2.0')\n",
        "\n",
        "extract_zip('ArgumentAnnotatedEssays-2.0/ArgumentAnnotatedEssays-2.0/brat-project-final.zip','ArgumentAnnotatedEssays')"
      ],
      "execution_count": null,
      "outputs": []
    },
    {
      "cell_type": "markdown",
      "metadata": {
        "id": "OrsWTewaCnPf"
      },
      "source": [
        "# **Create the ann Dataframe**"
      ]
    },
    {
      "cell_type": "code",
      "metadata": {
        "id": "rdAvNRWA08Sg"
      },
      "source": [
        "# Extract the list of text files of the essays in the dataset.\n",
        "txt_files = sorted(glob.glob(\"ArgumentAnnotatedEssays/brat-project-final/essay*.txt\"))\n",
        "\n",
        "# Extract the list of text files of the essays in the dataset.\n",
        "ann_files = sorted(glob.glob(\"ArgumentAnnotatedEssays/brat-project-final/essay*.ann\"))"
      ],
      "execution_count": null,
      "outputs": []
    },
    {
      "cell_type": "code",
      "metadata": {
        "colab": {
          "base_uri": "https://localhost:8080/"
        },
        "id": "s1yFSufe1iFC",
        "outputId": "7a3f4bfb-038c-47cd-ebc5-4d62dc07fec0"
      },
      "source": [
        "# List of text files of the essays.\n",
        "txt_files[0:5]"
      ],
      "execution_count": null,
      "outputs": [
        {
          "output_type": "execute_result",
          "data": {
            "text/plain": [
              "['ArgumentAnnotatedEssays/brat-project-final/essay001.txt',\n",
              " 'ArgumentAnnotatedEssays/brat-project-final/essay002.txt',\n",
              " 'ArgumentAnnotatedEssays/brat-project-final/essay003.txt',\n",
              " 'ArgumentAnnotatedEssays/brat-project-final/essay004.txt',\n",
              " 'ArgumentAnnotatedEssays/brat-project-final/essay005.txt']"
            ]
          },
          "metadata": {},
          "execution_count": 8
        }
      ]
    },
    {
      "cell_type": "code",
      "metadata": {
        "colab": {
          "base_uri": "https://localhost:8080/"
        },
        "id": "8yoE-YHW1ykn",
        "outputId": "de45fdc8-16a9-4be9-f877-f4df6b63f63a"
      },
      "source": [
        "# List of the annotated files of the essays.\n",
        "ann_files[0:5]"
      ],
      "execution_count": null,
      "outputs": [
        {
          "output_type": "execute_result",
          "data": {
            "text/plain": [
              "['ArgumentAnnotatedEssays/brat-project-final/essay001.ann',\n",
              " 'ArgumentAnnotatedEssays/brat-project-final/essay002.ann',\n",
              " 'ArgumentAnnotatedEssays/brat-project-final/essay003.ann',\n",
              " 'ArgumentAnnotatedEssays/brat-project-final/essay004.ann',\n",
              " 'ArgumentAnnotatedEssays/brat-project-final/essay005.ann']"
            ]
          },
          "metadata": {},
          "execution_count": 9
        }
      ]
    },
    {
      "cell_type": "code",
      "metadata": {
        "id": "SJtZWteKCka4"
      },
      "source": [
        "# Transfor the ann files into four dictionaries\n",
        "ann_disctionaries=[get_entities_relations_attributes_groups(file) for file in ann_files]\n",
        "\n",
        "# Transform the first dictionary (entities) obtained from each ann file into a dataset\n",
        "essay_ann_datasets = [pd.DataFrame.from_dict(entities, orient='index') for entities,_,_,_ in ann_disctionaries]\n",
        "\n",
        "# Add a coloumn into the dataset that identifies the document\n",
        "for i in range(len(essay_ann_datasets)):\n",
        "  essay_ann_datasets[i].insert(0,'doc_id',i)\n",
        "\n",
        "# Create a common dataset\n",
        "Essay_ann_dataset = pd.concat(essay_ann_datasets)"
      ],
      "execution_count": null,
      "outputs": []
    },
    {
      "cell_type": "code",
      "metadata": {
        "colab": {
          "base_uri": "https://localhost:8080/"
        },
        "id": "ShAWlc_o3RoB",
        "outputId": "32b31fd7-005e-4270-f695-a563d6cb7269"
      },
      "source": [
        "# Sobstitue the values in the \"span\" feature (substitute each tuple with its first inner tuple)\n",
        "for i in range(len(Essay_ann_dataset.index)):\n",
        "  Essay_ann_dataset['span'][i]=Essay_ann_dataset['span'][i][0]"
      ],
      "execution_count": null,
      "outputs": [
        {
          "output_type": "stream",
          "name": "stderr",
          "text": [
            "/usr/local/lib/python3.7/dist-packages/ipykernel_launcher.py:3: SettingWithCopyWarning: \n",
            "A value is trying to be set on a copy of a slice from a DataFrame\n",
            "\n",
            "See the caveats in the documentation: https://pandas.pydata.org/pandas-docs/stable/user_guide/indexing.html#returning-a-view-versus-a-copy\n",
            "  This is separate from the ipykernel package so we can avoid doing imports until\n"
          ]
        }
      ]
    },
    {
      "cell_type": "code",
      "metadata": {
        "colab": {
          "base_uri": "https://localhost:8080/",
          "height": 206
        },
        "id": "0RvtcIuEDGgY",
        "outputId": "7b9f457f-438b-4b97-9388-9c78c44b2d13"
      },
      "source": [
        "Essay_ann_dataset.head()"
      ],
      "execution_count": null,
      "outputs": [
        {
          "output_type": "execute_result",
          "data": {
            "text/html": [
              "<div>\n",
              "<style scoped>\n",
              "    .dataframe tbody tr th:only-of-type {\n",
              "        vertical-align: middle;\n",
              "    }\n",
              "\n",
              "    .dataframe tbody tr th {\n",
              "        vertical-align: top;\n",
              "    }\n",
              "\n",
              "    .dataframe thead th {\n",
              "        text-align: right;\n",
              "    }\n",
              "</style>\n",
              "<table border=\"1\" class=\"dataframe\">\n",
              "  <thead>\n",
              "    <tr style=\"text-align: right;\">\n",
              "      <th></th>\n",
              "      <th>doc_id</th>\n",
              "      <th>id</th>\n",
              "      <th>type</th>\n",
              "      <th>span</th>\n",
              "      <th>text</th>\n",
              "    </tr>\n",
              "  </thead>\n",
              "  <tbody>\n",
              "    <tr>\n",
              "      <th>T1</th>\n",
              "      <td>0</td>\n",
              "      <td>T1</td>\n",
              "      <td>MajorClaim</td>\n",
              "      <td>(503, 575)</td>\n",
              "      <td>we should attach more importance to cooperatio...</td>\n",
              "    </tr>\n",
              "    <tr>\n",
              "      <th>T2</th>\n",
              "      <td>0</td>\n",
              "      <td>T2</td>\n",
              "      <td>MajorClaim</td>\n",
              "      <td>(2154, 2231)</td>\n",
              "      <td>a more cooperative attitudes towards life is m...</td>\n",
              "    </tr>\n",
              "    <tr>\n",
              "      <th>T3</th>\n",
              "      <td>0</td>\n",
              "      <td>T3</td>\n",
              "      <td>Claim</td>\n",
              "      <td>(591, 714)</td>\n",
              "      <td>through cooperation, children can learn about ...</td>\n",
              "    </tr>\n",
              "    <tr>\n",
              "      <th>T4</th>\n",
              "      <td>0</td>\n",
              "      <td>T4</td>\n",
              "      <td>Premise</td>\n",
              "      <td>(716, 851)</td>\n",
              "      <td>What we acquired from team work is not only ho...</td>\n",
              "    </tr>\n",
              "    <tr>\n",
              "      <th>T5</th>\n",
              "      <td>0</td>\n",
              "      <td>T5</td>\n",
              "      <td>Premise</td>\n",
              "      <td>(853, 1086)</td>\n",
              "      <td>During the process of cooperation, children ca...</td>\n",
              "    </tr>\n",
              "  </tbody>\n",
              "</table>\n",
              "</div>"
            ],
            "text/plain": [
              "    doc_id  id  ...          span                                               text\n",
              "T1       0  T1  ...    (503, 575)  we should attach more importance to cooperatio...\n",
              "T2       0  T2  ...  (2154, 2231)  a more cooperative attitudes towards life is m...\n",
              "T3       0  T3  ...    (591, 714)  through cooperation, children can learn about ...\n",
              "T4       0  T4  ...    (716, 851)  What we acquired from team work is not only ho...\n",
              "T5       0  T5  ...   (853, 1086)  During the process of cooperation, children ca...\n",
              "\n",
              "[5 rows x 5 columns]"
            ]
          },
          "metadata": {},
          "execution_count": 12
        }
      ]
    },
    {
      "cell_type": "markdown",
      "metadata": {
        "id": "0697g-wg76g8"
      },
      "source": [
        "# **IOB and word list**"
      ]
    },
    {
      "cell_type": "code",
      "metadata": {
        "id": "En1l-2YSD7_z"
      },
      "source": [
        "# List of texts of the essays\n",
        "files_text=[open(file).read() for file in txt_files]"
      ],
      "execution_count": null,
      "outputs": []
    },
    {
      "cell_type": "code",
      "metadata": {
        "id": "dK-GkChLgEyl"
      },
      "source": [
        "# Check the presence of the character | (information used later).\n",
        "for essay in files_text:\n",
        "  if not (essay.find(\"|\") == -1):\n",
        "      print(\"One found!\")"
      ],
      "execution_count": null,
      "outputs": []
    },
    {
      "cell_type": "code",
      "metadata": {
        "id": "c-Xv3S56l_HC"
      },
      "source": [
        "# Get the start and finish points of each argumentative section of each of the text.\n",
        "# Also get the type of each argumentative section.\n",
        "# This points are indicated in the \"span\" coloumn of the Dataframe of the annotation.\n",
        "\n",
        "sorted_span=[sorted(list(Essay_ann_dataset.loc[Essay_ann_dataset['doc_id'] == i,['span','type']].values), key=lambda element: (element[0][0]) ) for i in range(len(ann_files))]"
      ],
      "execution_count": null,
      "outputs": []
    },
    {
      "cell_type": "code",
      "metadata": {
        "colab": {
          "base_uri": "https://localhost:8080/"
        },
        "id": "FY761IVz8g2z",
        "outputId": "1681605b-729d-42da-9521-068fbfa893c1"
      },
      "source": [
        "sorted_span[0]"
      ],
      "execution_count": null,
      "outputs": [
        {
          "output_type": "execute_result",
          "data": {
            "text/plain": [
              "[array([(503, 575), 'MajorClaim'], dtype=object),\n",
              " array([(591, 714), 'Claim'], dtype=object),\n",
              " array([(716, 851), 'Premise'], dtype=object),\n",
              " array([(853, 1086), 'Premise'], dtype=object),\n",
              " array([(1088, 1191), 'Premise'], dtype=object),\n",
              " array([(1212, 1301), 'Premise'], dtype=object),\n",
              " array([(1332, 1376), 'Claim'], dtype=object),\n",
              " array([(1387, 1492), 'Premise'], dtype=object),\n",
              " array([(1549, 1846), 'Premise'], dtype=object),\n",
              " array([(1927, 1992), 'Claim'], dtype=object),\n",
              " array([(2154, 2231), 'MajorClaim'], dtype=object)]"
            ]
          },
          "metadata": {},
          "execution_count": 16
        }
      ]
    },
    {
      "cell_type": "code",
      "metadata": {
        "id": "IB7ydWo78-x2"
      },
      "source": [
        "# Tranform the couples of points ((start,end) of each section) to a list (separator of different section).\n",
        "\n",
        "span_points=[]\n",
        "\n",
        "for i in range(len(sorted_span)):\n",
        "  list_points=[sep for sub in sorted_span[i] for sep in sub[0]]\n",
        "  # Insert starting point of the text\n",
        "  list_points.insert(0,0)\n",
        "  list_points.append(len(files_text[i]))\n",
        "  span_points.append(list_points)"
      ],
      "execution_count": null,
      "outputs": []
    },
    {
      "cell_type": "code",
      "metadata": {
        "colab": {
          "base_uri": "https://localhost:8080/"
        },
        "id": "LFHv8OFV-MER",
        "outputId": "1e902f83-f4a8-4a68-df64-c070466ec1dd"
      },
      "source": [
        "span_points[0]"
      ],
      "execution_count": null,
      "outputs": [
        {
          "output_type": "execute_result",
          "data": {
            "text/plain": [
              "[0,\n",
              " 503,\n",
              " 575,\n",
              " 591,\n",
              " 714,\n",
              " 716,\n",
              " 851,\n",
              " 853,\n",
              " 1086,\n",
              " 1088,\n",
              " 1191,\n",
              " 1212,\n",
              " 1301,\n",
              " 1332,\n",
              " 1376,\n",
              " 1387,\n",
              " 1492,\n",
              " 1549,\n",
              " 1846,\n",
              " 1927,\n",
              " 1992,\n",
              " 2154,\n",
              " 2231,\n",
              " 2232]"
            ]
          },
          "metadata": {},
          "execution_count": 18
        }
      ]
    },
    {
      "cell_type": "code",
      "metadata": {
        "id": "YV3tm2bS-p_t"
      },
      "source": [
        "# Separate the texts at the point indicated for the different sections\n",
        "\n",
        "split_text=[]\n",
        "\n",
        "for z in range(len(files_text)):\n",
        "  split_text.append([files_text[z][i: j] for i, j in zip(span_points[z], span_points[z][1:])])"
      ],
      "execution_count": null,
      "outputs": []
    },
    {
      "cell_type": "code",
      "metadata": {
        "colab": {
          "base_uri": "https://localhost:8080/"
        },
        "id": "YyylYuLL_SEb",
        "outputId": "8e938368-5dbf-4573-f1b8-bf084aff709c"
      },
      "source": [
        "split_text[0][0:10]"
      ],
      "execution_count": null,
      "outputs": [
        {
          "output_type": "execute_result",
          "data": {
            "text/plain": [
              "[\"Should students be taught to compete or to cooperate?\\n\\nIt is always said that competition can effectively promote the development of economy. In order to survive in the competition, companies continue to improve their products and service, and as a result, the whole society prospers. However, when we discuss the issue of competition or cooperation, what we are concerned about is not the whole society, but the development of an individual's whole life. From this point of view, I firmly believe that \",\n",
              " 'we should attach more importance to cooperation during primary education',\n",
              " '.\\nFirst of all, ',\n",
              " 'through cooperation, children can learn about interpersonal skills which are significant in the future life of all students',\n",
              " '. ',\n",
              " 'What we acquired from team work is not only how to achieve the same goal with others but more importantly, how to get along with others',\n",
              " '. ',\n",
              " 'During the process of cooperation, children can learn about how to listen to opinions of others, how to communicate with others, how to think comprehensively, and even how to compromise with other team members when conflicts occurred',\n",
              " '. ',\n",
              " 'All of these skills help them to get on well with other people and will benefit them for the whole life']"
            ]
          },
          "metadata": {},
          "execution_count": 20
        }
      ]
    },
    {
      "cell_type": "code",
      "metadata": {
        "id": "lYVRUlXHAwa3"
      },
      "source": [
        "# Get the list of the words of each essay and the corresponding labels \n",
        "# ( argumentative section, premise or claim indicated through IOB).\n",
        "\n",
        "Y_IOB=[]\n",
        "X_essay_word_list=[]\n",
        "\n",
        "for i in range(len(split_text)):\n",
        "  \n",
        "  IOB=[]\n",
        "  essay_word_list=[]\n",
        "\n",
        "  # next_type is the next position still not considered in the list of argumentative sections of the essay examined.\n",
        "  next_type=0\n",
        "\n",
        "  # Remove title from essay considered (splitted_text)\n",
        "  no_title=[re.sub(r\".*\\n\\n\",\"\",text) for text in split_text[i]]\n",
        "\n",
        "  # Set boolean value next_token_is_argumentative to false.\n",
        "  # (first section of each essay is never argumentative, it's the one containing the title).\n",
        "  next_token_is_argumentative=False\n",
        "\n",
        "  for section in no_title:\n",
        "\n",
        "    # Divide the text into token.\n",
        "    seq=nltk.word_tokenize(section.lower())\n",
        "\n",
        "    essay_word_list+=seq\n",
        "\n",
        "    if next_token_is_argumentative:\n",
        "      IOB+=['B']\n",
        "      for token in range(len(seq)-1):\n",
        "        IOB+=['I']  \n",
        "    else:\n",
        "      for token in range(len(seq)):\n",
        "        IOB+=['O']\n",
        "\n",
        "    # An argumentative section is followed by a non-argumentative section and vice-versa    \n",
        "    next_token_is_argumentative=not next_token_is_argumentative\n",
        "\n",
        "  Y_IOB.append(IOB)\n",
        "  X_essay_word_list.append(essay_word_list)"
      ],
      "execution_count": null,
      "outputs": []
    },
    {
      "cell_type": "code",
      "metadata": {
        "colab": {
          "base_uri": "https://localhost:8080/"
        },
        "id": "IK9ZdPIJC2VA",
        "outputId": "84c1be76-dd12-4d80-ca47-898181b6a17d"
      },
      "source": [
        "for i in range(80,120):\n",
        "  print(X_essay_word_list[0][i]+\" - \"+Y_IOB[0][i])"
      ],
      "execution_count": null,
      "outputs": [
        {
          "output_type": "stream",
          "name": "stdout",
          "text": [
            "i - O\n",
            "firmly - O\n",
            "believe - O\n",
            "that - O\n",
            "we - B\n",
            "should - I\n",
            "attach - I\n",
            "more - I\n",
            "importance - I\n",
            "to - I\n",
            "cooperation - I\n",
            "during - I\n",
            "primary - I\n",
            "education - I\n",
            ". - O\n",
            "first - O\n",
            "of - O\n",
            "all - O\n",
            ", - O\n",
            "through - B\n",
            "cooperation - I\n",
            ", - I\n",
            "children - I\n",
            "can - I\n",
            "learn - I\n",
            "about - I\n",
            "interpersonal - I\n",
            "skills - I\n",
            "which - I\n",
            "are - I\n",
            "significant - I\n",
            "in - I\n",
            "the - I\n",
            "future - I\n",
            "life - I\n",
            "of - I\n",
            "all - I\n",
            "students - I\n",
            ". - O\n",
            "what - B\n"
          ]
        }
      ]
    },
    {
      "cell_type": "markdown",
      "metadata": {
        "id": "pov3Yk0pUbjm"
      },
      "source": [
        "# **Find out sentences which contain argumentative section**"
      ]
    },
    {
      "cell_type": "code",
      "metadata": {
        "id": "QPcb2rgQUmzn"
      },
      "source": [
        "sentence_list=[]\n",
        "\n",
        "# Sentence associated to each word contained in the corpus.\n",
        "# (to each word in a position is associated a sentence in the sentence list).\n",
        "sentence_of_word=[]\n",
        "num_total_sentences=0\n",
        "\n",
        "for essay_id in range(len(X_essay_word_list)):\n",
        "  sentence=\"\"\n",
        "  sentence_words_essay=[]\n",
        "\n",
        "  for word_id in range(len(X_essay_word_list[essay_id])):\n",
        "    \n",
        "    word=X_essay_word_list[essay_id][word_id]\n",
        "\n",
        "    if not ( word==\".\" ):\n",
        "      sentence+=word+\" \"\n",
        "    sentence_words_essay.append(num_total_sentences)\n",
        "          \n",
        "    # . is the end of the sentence.       \n",
        "    if word in [\".\",\"?\",\"!\"] and ( not sentence==\"\"):\n",
        "      sentence_list.append(sentence)\n",
        "            \n",
        "      sentence=\"\"\n",
        "      num_total_sentences+=1\n",
        "\n",
        "  if not sentence==\"\":\n",
        "    sentence_list.append(sentence)\n",
        "            \n",
        "    sentence=\"\"\n",
        "    num_total_sentences+=1        \n",
        "\n",
        "  # Once the essay is over update the list of the sentences containing each word. \n",
        "  sentence_of_word.append(sentence_words_essay)"
      ],
      "execution_count": null,
      "outputs": []
    },
    {
      "cell_type": "markdown",
      "metadata": {
        "id": "yBnodfUMPq3k"
      },
      "source": [
        "# **POS tags**"
      ]
    },
    {
      "cell_type": "code",
      "metadata": {
        "id": "IAlsSsr4Ptk3"
      },
      "source": [
        "# Separate each essay in the list of POS TAG that compones them.\n",
        "POS_essay_list=[nltk.pos_tag(essay_word_sequence) for essay_word_sequence in X_essay_word_list]"
      ],
      "execution_count": null,
      "outputs": []
    },
    {
      "cell_type": "code",
      "metadata": {
        "id": "b1B7oaEIBhdl"
      },
      "source": [
        "# Get the list of the sentences as POS tag from the list of the\n",
        "# list of the POS tag of each sentence. \n",
        "def get_POS_text_list(POS_list: list)->list:\n",
        "  POS_all_text_list=[]\n",
        "  for POS_list in POS_list:\n",
        "    POS_single_text_list=[]\n",
        "    for word, tag in POS_list:\n",
        "      POS_single_text_list.append(tag)\n",
        "    POS_all_text_list.append(POS_single_text_list)    \n",
        "\n",
        "  return POS_all_text_list"
      ],
      "execution_count": null,
      "outputs": []
    },
    {
      "cell_type": "code",
      "metadata": {
        "id": "S4H8wjTKQquv"
      },
      "source": [
        "X_essay_POS_list=get_POS_text_list(POS_essay_list)"
      ],
      "execution_count": null,
      "outputs": []
    },
    {
      "cell_type": "code",
      "metadata": {
        "colab": {
          "base_uri": "https://localhost:8080/"
        },
        "id": "7qKt43ISRAwb",
        "outputId": "a3c5013c-7de2-4759-c9c4-869fb37ae49a"
      },
      "source": [
        "X_essay_POS_list[0][0:10]"
      ],
      "execution_count": null,
      "outputs": [
        {
          "output_type": "execute_result",
          "data": {
            "text/plain": [
              "['PRP', 'VBZ', 'RB', 'VBD', 'IN', 'NN', 'MD', 'RB', 'VB', 'DT']"
            ]
          },
          "metadata": {},
          "execution_count": 27
        }
      ]
    },
    {
      "cell_type": "markdown",
      "metadata": {
        "id": "roYver9XG2EM"
      },
      "source": [
        "# **Word2vec and one-hot-encoding**"
      ]
    },
    {
      "cell_type": "code",
      "metadata": {
        "colab": {
          "base_uri": "https://localhost:8080/"
        },
        "id": "Y-0mZxPrPngr",
        "outputId": "efa2f78f-f430-42c6-a3dc-9db110f55ef2"
      },
      "source": [
        "path = api.load(\"word2vec-google-news-300\", return_path=True)\n",
        "print(path)"
      ],
      "execution_count": null,
      "outputs": [
        {
          "output_type": "stream",
          "name": "stdout",
          "text": [
            "[==================================================] 100.0% 1662.8/1662.8MB downloaded\n",
            "/root/gensim-data/word2vec-google-news-300/word2vec-google-news-300.gz\n"
          ]
        }
      ]
    },
    {
      "cell_type": "code",
      "metadata": {
        "id": "tQDehuUEG0He"
      },
      "source": [
        "# Load Google Word2Vec model.\n",
        "word2vec_model = gensim.models.KeyedVectors.load_word2vec_format(path, binary=True)  "
      ],
      "execution_count": null,
      "outputs": []
    },
    {
      "cell_type": "code",
      "metadata": {
        "id": "IMPSfdr2ROET"
      },
      "source": [
        "# buld word2vec model with the POS vocabulary of the essays in the dataset.\n",
        "word2vec_sentences=[]\n",
        "\n",
        "for text in X_essay_POS_list:\n",
        "  word2vec_sentences.append(text)\n",
        "\n",
        "word2vec_model_POS =  Word2Vec(sentences=word2vec_sentences, size=5, min_count=1)"
      ],
      "execution_count": null,
      "outputs": []
    },
    {
      "cell_type": "code",
      "metadata": {
        "colab": {
          "base_uri": "https://localhost:8080/"
        },
        "id": "CMyLPxJecM0r",
        "outputId": "b34b545a-f647-4e60-c272-82c2150a81f3"
      },
      "source": [
        "# Get the maximum lenght of the texts of the essays.\n",
        "\n",
        "text_len = [len(text) for text in X_essay_word_list]\n",
        "MAX_LEN = max(text_len)\n",
        "print(\"Max lenght of the texts: {}\".format(MAX_LEN))"
      ],
      "execution_count": null,
      "outputs": [
        {
          "output_type": "stream",
          "name": "stdout",
          "text": [
            "Max lenght of the texts: 550\n"
          ]
        }
      ]
    },
    {
      "cell_type": "code",
      "metadata": {
        "id": "KljJ3ZlgbhyZ"
      },
      "source": [
        "text_tokenizer = Tokenizer()\n",
        "text_tokenizer.fit_on_texts(X_essay_word_list)\n",
        "X = text_tokenizer.texts_to_sequences(X_essay_word_list)\n",
        "X = pad_sequences(X, maxlen=MAX_LEN, padding=\"pre\")\n",
        "\n",
        "POS_tokenizer = Tokenizer()\n",
        "POS_tokenizer.fit_on_texts(X_essay_POS_list)\n",
        "X_POS = POS_tokenizer.texts_to_sequences(X_essay_POS_list)\n",
        "X_POS = pad_sequences(X_POS, maxlen=MAX_LEN, padding=\"pre\")\n",
        "\n",
        "IOB_tokenizer = Tokenizer()\n",
        "IOB_tokenizer.fit_on_texts(Y_IOB)\n",
        "Y = IOB_tokenizer.texts_to_sequences(Y_IOB)\n",
        "Y = pad_sequences(Y, maxlen=MAX_LEN, padding=\"pre\")"
      ],
      "execution_count": null,
      "outputs": []
    },
    {
      "cell_type": "code",
      "metadata": {
        "colab": {
          "base_uri": "https://localhost:8080/"
        },
        "id": "C3eEf5dpG1_m",
        "outputId": "88c16095-8c7f-48d4-c9a8-ff2ea98351bf"
      },
      "source": [
        "X[0][100:250]"
      ],
      "execution_count": null,
      "outputs": [
        {
          "output_type": "execute_result",
          "data": {
            "text/plain": [
              "array([   0,    0,    0,    0,    0,    0,    0,    0,    0,    0,    0,\n",
              "          0,    0,    0,    0,    0,    0,    0,    0,    0,    0,    0,\n",
              "          0,    0,    0,    0,    0,    0,    0,    0,    0,    0,    0,\n",
              "          0,    0,    0,    0,    0,    0,    0,    0,    0,   14,    9,\n",
              "        153,  767,   10,  407,   18,  730,  942,    3,  189,    5,  478,\n",
              "          2,    7,  179,    4, 1033,    7,    3,  407,    1,  296,  862,\n",
              "          4,  244,   15,  373,    6, 1034,    1,    6,   20,    8,  175,\n",
              "          1,    3,  366,   88, 4573,    2,   61,    1,   56,   40,  680,\n",
              "          3,  261,    5,  407,   27,  831,    1,  105,   40,   12,  554,\n",
              "         65,    9,   22,    3,  366,   88,    1,   45,    3,  189,    5,\n",
              "         51,  513,   41,  366,   38,    2,   32,   26,  197,    5,  161,\n",
              "          1,   17,  863,   75,   10,   40,   33, 2434,   24,  437,    4,\n",
              "        831,  257,  943,   74,    2,   81,    5,   48,    1,  198,  831,\n",
              "          1,   53,   18,   87,   65, 2819,  139], dtype=int32)"
            ]
          },
          "metadata": {},
          "execution_count": 33
        }
      ]
    },
    {
      "cell_type": "code",
      "metadata": {
        "colab": {
          "base_uri": "https://localhost:8080/"
        },
        "id": "BbX1DKP9Sbes",
        "outputId": "4f1db599-6933-42ee-ff4c-15b4a8000421"
      },
      "source": [
        "X_POS[0][100:250]"
      ],
      "execution_count": null,
      "outputs": [
        {
          "output_type": "execute_result",
          "data": {
            "text/plain": [
              "array([ 0,  0,  0,  0,  0,  0,  0,  0,  0,  0,  0,  0,  0,  0,  0,  0,  0,\n",
              "        0,  0,  0,  0,  0,  0,  0,  0,  0,  0,  0,  0,  0,  0,  0,  0,  0,\n",
              "        0,  0,  0,  0,  0,  0,  0,  0, 13, 14,  8, 20,  2,  1, 15,  8,  6,\n",
              "        5,  1,  2,  1,  9,  2,  1, 11,  6,  2,  5,  1,  7,  3, 10, 11,  6,\n",
              "       17,  3, 12,  1,  7, 12,  2,  5,  1,  7,  5,  4,  1,  3,  9,  8,  7,\n",
              "       22, 13, 10,  5,  1,  2,  1, 12,  1,  7, 25, 13, 10, 18,  2, 14,  8,\n",
              "        5,  4,  1,  7, 12,  5,  1,  2,  5,  1, 26,  4,  1,  9,  2,  5,  1,\n",
              "        2,  1,  7,  1,  8, 10,  2, 13, 15,  6, 19,  1, 11,  1,  2,  4,  1,\n",
              "        9,  4,  2,  5,  7,  2,  1,  7,  3, 15,  6,  2,  4,  3],\n",
              "      dtype=int32)"
            ]
          },
          "metadata": {},
          "execution_count": 34
        }
      ]
    },
    {
      "cell_type": "code",
      "metadata": {
        "colab": {
          "base_uri": "https://localhost:8080/"
        },
        "id": "T25D-lPlfqzw",
        "outputId": "cd0993c8-db27-4df3-aa57-092c0301fa30"
      },
      "source": [
        "Y[0][100:250]"
      ],
      "execution_count": null,
      "outputs": [
        {
          "output_type": "execute_result",
          "data": {
            "text/plain": [
              "array([0, 0, 0, 0, 0, 0, 0, 0, 0, 0, 0, 0, 0, 0, 0, 0, 0, 0, 0, 0, 0, 0,\n",
              "       0, 0, 0, 0, 0, 0, 0, 0, 0, 0, 0, 0, 0, 0, 0, 0, 0, 0, 0, 0, 2, 2,\n",
              "       2, 2, 2, 2, 2, 2, 2, 2, 2, 2, 2, 2, 2, 2, 2, 2, 2, 2, 2, 2, 2, 2,\n",
              "       2, 2, 2, 2, 2, 2, 2, 2, 2, 2, 2, 2, 2, 2, 2, 2, 2, 2, 2, 2, 2, 2,\n",
              "       2, 2, 2, 2, 2, 2, 2, 2, 2, 2, 2, 2, 2, 2, 2, 2, 2, 2, 2, 2, 2, 2,\n",
              "       2, 2, 2, 2, 2, 2, 2, 2, 2, 2, 2, 2, 2, 2, 2, 2, 3, 1, 1, 1, 1, 1,\n",
              "       1, 1, 1, 1, 2, 2, 2, 2, 2, 3, 1, 1, 1, 1, 1, 1, 1, 1], dtype=int32)"
            ]
          },
          "metadata": {},
          "execution_count": 35
        }
      ]
    },
    {
      "cell_type": "code",
      "metadata": {
        "colab": {
          "base_uri": "https://localhost:8080/"
        },
        "id": "1-BY4Z4khofK",
        "outputId": "854be376-fa9c-4030-e838-cf53878fbee7"
      },
      "source": [
        "# Each word in the Word2vec model used is embedded trough a vector of size 300.\n",
        "EMBEDDING_SIZE  = 300\n",
        "EMBEDDING_SIZE_POS  = 5\n",
        "\n",
        "# Size of the vocabulary used.\n",
        "VOCABULARY_SIZE = len(text_tokenizer.word_index) + 1\n",
        "VOCABULARY_SIZE_POS = len(POS_tokenizer.word_index) + 1\n",
        "\n",
        "\n",
        "# Create an empty embedding matix.\n",
        "embedding_weights = np.zeros((VOCABULARY_SIZE, EMBEDDING_SIZE))\n",
        "embedding_weights_POS = np.zeros((VOCABULARY_SIZE_POS, EMBEDDING_SIZE_POS))\n",
        "\n",
        "\n",
        "# Create a word to index dictionary mapping.\n",
        "word2id = text_tokenizer.word_index\n",
        "word2id_POS = POS_tokenizer.word_index\n",
        "\n",
        "# Copy vectors from word2vec model to the words present in corpus.\n",
        "print(\"words:\")\n",
        "for word, index in word2id.items():\n",
        "    try:\n",
        "        embedding_weights[index, :] = word2vec_model[word]\n",
        "    except KeyError:\n",
        "        print(word)\n",
        "\n",
        "print(\"POS:\")\n",
        "for word, index in word2id_POS.items():\n",
        "    try:\n",
        "        embedding_weights_POS[index, :] = word2vec_model_POS[word]\n",
        "    except KeyError:\n",
        "        print(word)                  "
      ],
      "execution_count": null,
      "outputs": [
        {
          "output_type": "stream",
          "name": "stdout",
          "text": [
            "words:\n",
            ",\n",
            ".\n",
            "to\n",
            "of\n",
            "and\n",
            "a\n",
            "'s\n",
            "'\n",
            ";\n",
            "’\n",
            "``\n",
            "''\n",
            "?\n",
            ":\n",
            "part-time\n",
            "e-mail\n",
            "face-to-face\n",
            "centre\n",
            "-\n",
            "his/her\n",
            "well-being\n",
            "(\n",
            ")\n",
            "co-operative\n",
            "co-operation\n",
            "20\n",
            "high-tech\n",
            "distance-learning\n",
            "!\n",
            "co-worker\n",
            "15\n",
            "co-workers\n",
            "30\n",
            "50\n",
            "travelling\n",
            "21st\n",
            "toefl\n",
            "learnt\n",
            "he/she\n",
            "well-known\n",
            "10\n",
            "judgement\n",
            "long-term\n",
            "favour\n",
            "above-mentioned\n",
            "group-studying\n",
            "high-quality\n",
            "co-tenant\n",
            "time-consuming\n",
            "labour\n",
            "analysing\n",
            "eco-friendly\n",
            "long-time\n",
            "short-sighted\n",
            "“\n",
            "16\n",
            "state-of-the-art\n",
            "–\n",
            "behaviour\n",
            "so-called\n",
            "programmes\n",
            "organisations\n",
            "ibt\n",
            "long-distance\n",
            "face-to\n",
            "up-to-date\n",
            "20th\n",
            "self-control\n",
            "self-study\n",
            "theatre\n",
            "dish-washing\n",
            "‘\n",
            "ever-increasing\n",
            "long-lasting\n",
            "75\n",
            "2008\n",
            "well-prepared\n",
            "hard-working\n",
            "organisation\n",
            "online-teaching\n",
            "e-mails\n",
            "cut-throat\n",
            "self-improvement\n",
            "co-education\n",
            "89\n",
            "non-profit\n",
            "40\n",
            "well-rounded\n",
            "cutting-edge\n",
            "whole-heartedly\n",
            "e-books\n",
            "brunei\n",
            "fifty-five\n",
            "2003\n",
            "multiple-choice\n",
            "well-trained\n",
            "well-educated\n",
            "19th\n",
            "--\n",
            "100\n",
            "well-informed\n",
            "'a\n",
            "open-minded\n",
            "environmentally-friendly\n",
            "well-paid\n",
            "universtiy\n",
            "devoiding\n",
            "white-collar\n",
            "non-academic\n",
            "team-working\n",
            "second-hand\n",
            "time-saving\n",
            "him/her\n",
            "penalty-kick\n",
            "commuincation\n",
            "top-level\n",
            "low-level\n",
            "on-line\n",
            "fulfil\n",
            "well-off\n",
            "relegious\n",
            "kidvids\n",
            "parantage\n",
            "cambodia\n",
            "angkowat\n",
            "non-tangible\n",
            "under-age\n",
            "himself/herself\n",
            "self-independence\n",
            "close-downs\n",
            "well-established\n",
            "self-centered\n",
            "corpore\n",
            "payements\n",
            "eight-hour\n",
            "fool-proof\n",
            "ivory-tower\n",
            "non-stop\n",
            "easy-to-cook\n",
            "one-third\n",
            "gorvernment\n",
            "well-organized\n",
            "'globalization\n",
            "non-governmental\n",
            "overweighing\n",
            "side-effects\n",
            "1960\n",
            "opprotunities\n",
            "falseful\n",
            "over-rated\n",
            "multi-nation\n",
            "2010\n",
            "enthuasism\n",
            "garther\n",
            "favourable\n",
            "hands-on\n",
            "harder-working\n",
            "irak\n",
            "footballworld\n",
            "organised\n",
            "organising\n",
            "hydro-kinetic\n",
            "interest-free\n",
            "job-seeking\n",
            "online-courses\n",
            "top-of-the-range\n",
            "teacher-student\n",
            "online-degrees\n",
            "have-nots\n",
            "occupation-related\n",
            "well-equipped\n",
            "short-time\n",
            "less-used\n",
            "target-oriented\n",
            "lesser-known\n",
            "michaelangelo\n",
            "picasso\n",
            "rushdie\n",
            "bangladeshi\n",
            "taslima\n",
            "nasrin\n",
            "zappa\n",
            "self-awareness\n",
            "'your\n",
            "self-defense\n",
            "computer-a\n",
            "babbage\n",
            "over-dependent\n",
            "indira\n",
            "profit-oriented\n",
            "recognise\n",
            "brain-washed\n",
            "colourful\n",
            "seventeen-year-old\n",
            "far-reaching\n",
            "macro-economic\n",
            "speed-up\n",
            "rush-hours\n",
            "sudanese\n",
            "emphasise\n",
            "harbour\n",
            "animal-right\n",
            "eco-system\n",
            "man-made\n",
            "poverty-stricken\n",
            "non-human\n",
            "baby-born\n",
            "michallengo\n",
            "criticise\n",
            "criticises\n",
            "memorising\n",
            "onlines\n",
            "worthlessly\n",
            "cctvs\n",
            "best-liked\n",
            "mohammedanism\n",
            "win-win\n",
            "'dug\n",
            "seagames\n",
            "minh\n",
            "responsibl\n",
            "19\n",
            "archuleta\n",
            "60\n",
            "bone-by-bone\n",
            "17th\n",
            "multi-aspect\n",
            "test-wise\n",
            "test-takers\n",
            "'innovate\n",
            "must-haves\n",
            "trumm\n",
            "'teachers\n",
            "group'-\n",
            "'this\n",
            "non-verbal\n",
            "conseilieurs\n",
            "high-end\n",
            "pressurising\n",
            "vapour\n",
            "2030\n",
            "in-depth\n",
            "18\n",
            "acquaintant\n",
            "she/he\n",
            "well-regulated\n",
            "all-round\n",
            "corporational\n",
            "labours\n",
            "mediabank\n",
            "feature-computer\n",
            "prioritised\n",
            "crimea\n",
            "far-off\n",
            "poverty-line\n",
            "self-regulated\n",
            "kochhar\n",
            "icici\n",
            "'social\n",
            "'low\n",
            "would-be\n",
            "labelled\n",
            "well-planned\n",
            "unicq\n",
            "clear-cut\n",
            "realise\n",
            "off-campus\n",
            "millan\n",
            "'halo\n",
            "non-smokers\n",
            "osetia\n",
            "gossip-based\n",
            "salt-panic\n",
            "show-off\n",
            "90-minute-games\n",
            "dioxid\n",
            "comities\n",
            "a+\n",
            "yandex\n",
            "enrolment\n",
            "cutting-edged\n",
            "well-preparation\n",
            "state-of-art\n",
            "living-level\n",
            "three-dimensional\n",
            "24\n",
            "socialization-\n",
            "vairtey\n",
            "fast-paced\n",
            "...\n",
            "40,000\n",
            "non-native\n",
            "step-by-step\n",
            "beneficed\n",
            "in-born\n",
            "animlas\n",
            "co-citizens\n",
            "palme\n",
            "swimpool\n",
            "non-renewable\n",
            "170\n",
            "un-recyclable\n",
            "non-environmentally\n",
            "consumer-oriented\n",
            "short-term\n",
            "politian\n",
            "longer-than-usual\n",
            "full-length\n",
            "main-stream\n",
            "1969\n",
            "indonesians\n",
            "4:00\n",
            "independly\n",
            "apperant\n",
            "capablity\n",
            "entertainmening\n",
            "twenty-four\n",
            "of-course\n",
            "in-touch\n",
            "easy-to-use\n",
            "insemenation\n",
            "out-of-date\n",
            "same-old-same-old\n",
            "99\n",
            "wdtv\n",
            "85\n",
            "responsibilitis\n",
            "video-game\n",
            "video-games\n",
            "”\n",
            "now-a-days\n",
            "self-finance\n",
            "mphils\n",
            "phds\n",
            "him/herself\n",
            "mr.\n",
            "sugesstions\n",
            "artcrafts\n",
            "tussaud\n",
            "coclusion\n",
            "well-organised\n",
            "self-confidence\n",
            "foxconn\n",
            "high-paying\n",
            "cost-effective\n",
            "obessed\n",
            "cancelled\n",
            "infinete\n",
            "industry-related\n",
            "question-do\n",
            "brain-storming\n",
            "must-learn\n",
            "art-imagination\n",
            "life-long\n",
            "problem-solving\n",
            "home-earth\n",
            "man/woman\n",
            "fifty-fifty\n",
            "straight-forward\n",
            "company-\n",
            "apple-\n",
            "euopren\n",
            "destiny-beethoven\n",
            "work-related\n",
            "rapid-changing\n",
            "self-recognition\n",
            "self-identification\n",
            "theoritical\n",
            "commuincating\n",
            "fast-food\n",
            "build-up\n",
            "football/basketball\n",
            "univeirsity\n",
            "coniders\n",
            "esy\n",
            "instend\n",
            "futuermore\n",
            "subordinaries\n",
            "prerequisit\n",
            "patiant\n",
            "to-do\n",
            "trivials\n",
            "u.s\n",
            "university-level\n",
            "entertrain\n",
            "theorically\n",
            "i.e.\n",
            "nowaday\n",
            "80\n",
            "on-online\n",
            "90\n",
            "exerice\n",
            "cigerate\n",
            "high-ranking\n",
            "research-friendly\n",
            "sales-man\n",
            "skill-set\n",
            "sub-continent\n",
            "2014\n",
            "month-long\n",
            "burn-out\n",
            "2050\n",
            "dramaticly\n",
            "e-learning\n",
            "acknowledgement\n",
            "overweighs\n",
            "high-salary\n",
            "14\n",
            "10000\n",
            "justing\n",
            "several-these\n",
            "environmental-friendly\n",
            "furthermore/moreover\n",
            "self-employed\n",
            "25\n",
            "british-ruled\n",
            "longer-term\n",
            "hard-work\n",
            "univesity\n",
            "asistans\n",
            "one-way\n",
            "tete-a-tete\n",
            "whatsapp\n",
            "over-time\n",
            "centeries\n",
            "actor/actress\n",
            "'cult\n",
            "behaviours\n",
            "weichat\n",
            "communicatio\n",
            "mncs\n",
            "ever-accelerated\n",
            "tradition-related\n",
            "sunsilk\n",
            "pieter\n",
            "re-plays\n",
            "favourite\n",
            "defence\n",
            "370\n",
            "oramaki\n",
            "work-place\n",
            "quick-witted\n",
            "well-of\n",
            "lifestlyle\n",
            "pre-school\n",
            "endeavour\n",
            "out-performance\n",
            "self-made\n",
            "gujarati\n",
            "extra-curriculum\n",
            "over-50\n",
            "old-fashioned\n",
            "fundermentaly\n",
            "humans.both\n",
            "tradtions\n",
            "futhermore\n",
            "non-fuel-based\n",
            "burstling\n",
            "overly-teemed\n",
            "non-personal\n",
            "ever-growing\n",
            "realising\n",
            "stabilising\n",
            "developed-skills\n",
            "passive-smokers\n",
            "non-smoking\n",
            "1980\n",
            "misconcept\n",
            "blossmed\n",
            "environment-friendly\n",
            "notorous\n",
            "harmonial\n",
            "irrisistible\n",
            "viber\n",
            "comfot\n",
            "heart-related\n",
            "antioxydant\n",
            "secondy\n",
            "sumarize\n",
            "self-esteem\n",
            "51\n",
            "98\n",
            "country-\n",
            "demines\n",
            "globalisation\n",
            "huntings\n",
            "distinction-driven\n",
            "khmer\n",
            "cutures\n",
            "health-protected\n",
            "over-fried\n",
            "pre-empt\n",
            "health-care\n",
            "reseachs\n",
            "everywhre\n",
            "accelarates\n",
            "air-conditioners\n",
            "non-globalized\n",
            "well-qualified\n",
            "atmoshphere\n",
            "unrivalled\n",
            "tosix\n",
            "offence\n",
            "non-abiding\n",
            "self-sufficient\n",
            "glamour\n",
            "law-aiding\n",
            "exposured\n",
            "already-high\n",
            "k-pop\n",
            "labourous\n",
            "highly-productive\n",
            "old-physical\n",
            "restorated\n",
            "technogy\n",
            "e.g\n",
            "well-behaved\n",
            "fatherood\n",
            "team-player\n",
            "POS:\n",
            "nn\n",
            "in\n",
            "nns\n",
            "jj\n",
            "dt\n",
            "vb\n",
            "rb\n",
            "vbp\n",
            "to\n",
            "cc\n",
            "prp\n",
            "vbz\n",
            "md\n",
            "vbg\n",
            "prp$\n",
            "vbn\n",
            "jjr\n",
            "vbd\n",
            "wdt\n",
            "wrb\n",
            "rbr\n",
            "cd\n",
            "wp\n",
            "pos\n",
            "ex\n",
            "jjs\n",
            "rp\n",
            "rbs\n",
            "pdt\n",
            "nnp\n",
            "fw\n",
            "wp$\n",
            "uh\n",
            "sym\n"
          ]
        },
        {
          "output_type": "stream",
          "name": "stderr",
          "text": [
            "/usr/local/lib/python3.7/dist-packages/ipykernel_launcher.py:30: DeprecationWarning: Call to deprecated `__getitem__` (Method will be removed in 4.0.0, use self.wv.__getitem__() instead).\n"
          ]
        }
      ]
    },
    {
      "cell_type": "markdown",
      "metadata": {
        "id": "V5ah4d7RwxYI"
      },
      "source": [
        "# **Split Train and Test set**"
      ]
    },
    {
      "cell_type": "code",
      "metadata": {
        "id": "mrvu9lSByLfh"
      },
      "source": [
        "# Create a list of values between 0 and 401, where each value indicate an essay\n",
        "# in the corpus.\n",
        "\n",
        "essay_id_list=[i for i in range(402)]"
      ],
      "execution_count": null,
      "outputs": []
    },
    {
      "cell_type": "code",
      "metadata": {
        "id": "hbhPLcCuw12o"
      },
      "source": [
        "# Divide the corpus (documents containing the essay) in test and train test.\n",
        "train_set,test_set=train_test_split(essay_id_list,test_size=0.15,random_state=42)"
      ],
      "execution_count": null,
      "outputs": []
    },
    {
      "cell_type": "code",
      "metadata": {
        "colab": {
          "base_uri": "https://localhost:8080/"
        },
        "id": "1fpSwg0hyt8v",
        "outputId": "6375d14e-37dd-468c-cbd6-61b5b50475e4"
      },
      "source": [
        "print(len(train_set))\n",
        "\n",
        "train_set[:10]"
      ],
      "execution_count": null,
      "outputs": [
        {
          "output_type": "stream",
          "name": "stdout",
          "text": [
            "341\n"
          ]
        },
        {
          "output_type": "execute_result",
          "data": {
            "text/plain": [
              "[253, 282, 78, 101, 31, 274, 222, 233, 73, 287]"
            ]
          },
          "metadata": {},
          "execution_count": 39
        }
      ]
    },
    {
      "cell_type": "code",
      "metadata": {
        "colab": {
          "base_uri": "https://localhost:8080/"
        },
        "id": "KPQoIUW6yxF-",
        "outputId": "98c9dfab-065c-4c66-b620-9897de8af65b"
      },
      "source": [
        "print(len(test_set))\n",
        "\n",
        "test_set[:10]"
      ],
      "execution_count": null,
      "outputs": [
        {
          "output_type": "stream",
          "name": "stdout",
          "text": [
            "61\n"
          ]
        },
        {
          "output_type": "execute_result",
          "data": {
            "text/plain": [
              "[285, 281, 33, 211, 93, 84, 391, 94, 225, 126]"
            ]
          },
          "metadata": {},
          "execution_count": 40
        }
      ]
    },
    {
      "cell_type": "markdown",
      "metadata": {
        "id": "xgW9BSwMmrkL"
      },
      "source": [
        "# **RNN**"
      ]
    },
    {
      "cell_type": "code",
      "metadata": {
        "id": "m5mPUFtpfy6T"
      },
      "source": [
        "# Create and train recurrent models.\n",
        "\n",
        "# Bidirectional LSTM model.\n",
        "\n",
        "def train_BLSTM(X_train:np.ndarray, Y_train:np.ndarray)->Model:\n",
        "\n",
        "  # Create the BLSTM model\n",
        "  input = Input(shape=(MAX_LEN,))\n",
        "\n",
        "  model = Embedding(input_dim=VOCABULARY_SIZE, output_dim=EMBEDDING_SIZE, input_length=MAX_LEN, weights= [embedding_weights], trainable=True)(input)\n",
        "  model = Bidirectional(LSTM(64, return_sequences=True))(model)\n",
        "  model = Dropout(0.1)(model)\n",
        "\n",
        "  final_model=Model(input,model)\n",
        "\n",
        "  return model,input"
      ],
      "execution_count": null,
      "outputs": []
    },
    {
      "cell_type": "code",
      "metadata": {
        "id": "HLMxDCxmTNJv"
      },
      "source": [
        "# Model for the statitistic values manually extracted.\n",
        "\n",
        "def train_POS_model(X_train:np.ndarray, Y_train:np.ndarray)->Model:\n",
        "\n",
        "  # Create the model.\n",
        "  input = Input(shape=(MAX_LEN,))\n",
        "\n",
        "  model = Embedding(input_dim=VOCABULARY_SIZE_POS, output_dim=EMBEDDING_SIZE_POS, input_length=MAX_LEN, weights= [embedding_weights_POS], trainable=True)(input)\n",
        "  model = Bidirectional(LSTM(8, return_sequences=True))(model)\n",
        "  model = Dropout(0.1)(model)\n",
        "\n",
        "  final_model=Model(input,model)\n",
        "\n",
        "  return model,input"
      ],
      "execution_count": null,
      "outputs": []
    },
    {
      "cell_type": "code",
      "metadata": {
        "id": "QPe5aQHOxT9T"
      },
      "source": [
        "# Multimodal model.\n",
        "\n",
        "def train_MultiModal(X_train:np.ndarray, X_POS:np.ndarray, Y_train:np.ndarray)->Model:\n",
        "\n",
        "  num_label = Y_train.shape[2]\n",
        "\n",
        "  # Create the BLSTM model.\n",
        "  model_BLSTM,input_BLSTM=train_BLSTM(X_train, Y_train)\n",
        "  # Create the others model.\n",
        "  model_POS,input_POS=train_POS_model(X_POS,Y_train)\n",
        "\n",
        "  # Concatenate togheter the two previous NN.\n",
        "  concatenation_layer = Concatenate()([model_BLSTM,model_POS])\n",
        "\n",
        "  output = TimeDistributed(Dense(num_label, activation='softmax'))(concatenation_layer)\n",
        "\n",
        "  final_model=Model([input_BLSTM,input_POS],output)\n",
        "\n",
        "  final_model.compile(loss='categorical_crossentropy',\n",
        "                  optimizer='nadam',\n",
        "                  metrics=['acc'])\n",
        "  \n",
        "  training_results= final_model.fit([X_train,X_POS], Y_train, batch_size=64, epochs=50, validation_split=0.15, verbose=False, callbacks=[EarlyStopping(\"val_loss\", mode='min', patience=4),])\n",
        "\n",
        "  # visualise training history\n",
        "  plt.plot(training_results.history['acc'])\n",
        "  plt.plot(training_results.history['val_acc'])\n",
        "  plt.title('model accuracy')\n",
        "  plt.ylabel('accuracy')\n",
        "  plt.xlabel('epoch')\n",
        "  plt.legend(['train', 'test'], loc=\"lower right\")\n",
        "  plt.show()\n",
        "\n",
        "  return final_model"
      ],
      "execution_count": null,
      "outputs": []
    },
    {
      "cell_type": "code",
      "metadata": {
        "id": "qJRb65A43VPE",
        "colab": {
          "base_uri": "https://localhost:8080/",
          "height": 332
        },
        "outputId": "d5c710c2-7d46-4f85-98a9-bdc0a25001af"
      },
      "source": [
        "target_names=['X','I','O','B']\n",
        " \n",
        "y_pred=[]\n",
        "y_true=[]\n",
        "\n",
        "# Assign one-hot encodings to Y values (0,1,2,3 where 0 indicate the absence of words).\n",
        "categorical_Y = to_categorical(Y)\n",
        "\n",
        "X_train, X_test = X[train_set], X[test_set]\n",
        "X_POS_train,X_POS_test=X_POS[train_set],X_POS[test_set]\n",
        "Y_train, Y_test = categorical_Y[train_set], categorical_Y[test_set]\n",
        "\n",
        "# Train the model.\n",
        "model=train_MultiModal(X_train,X_POS,Y_train)\n",
        "\n",
        "prediction=model.predict([X_test,X_POS_test])\n",
        "for i in range(len(Y_test)):\n",
        "  y_pred+=np.argmax(prediction[i], axis = 1).tolist()\n",
        "  y_true+=np.argmax(Y_test[i].tolist(), axis = 1).tolist()"
      ],
      "execution_count": null,
      "outputs": [
        {
          "output_type": "display_data",
          "data": {
            "image/png": "[encoded data removed]",
            "text/plain": [
              "<Figure size 432x288 with 1 Axes>"
            ]
          },
          "metadata": {
            "needs_background": "light"
          }
        },
        {
          "output_type": "stream",
          "name": "stdout",
          "text": [
            "WARNING:tensorflow:5 out of the last 9 calls to <function Model.make_predict_function.<locals>.predict_function at 0x7f33d3eb4e60> triggered tf.function retracing. Tracing is expensive and the excessive number of tracings could be due to (1) creating @tf.function repeatedly in a loop, (2) passing tensors with different shapes, (3) passing Python objects instead of tensors. For (1), please define your @tf.function outside of the loop. For (2), @tf.function has experimental_relax_shapes=True option that relaxes argument shapes that can avoid unnecessary retracing. For (3), please refer to https://www.tensorflow.org/guide/function#controlling_retracing and https://www.tensorflow.org/api_docs/python/tf/function for  more details.\n"
          ]
        }
      ]
    },
    {
      "cell_type": "code",
      "metadata": {
        "id": "BdRjPwKs4eLD",
        "colab": {
          "base_uri": "https://localhost:8080/"
        },
        "outputId": "8f22947d-3c17-4437-a358-e062bdfb93e1"
      },
      "source": [
        "# Print the classification report of the result of the models created.\n",
        "print(classification_report(y_true, y_pred, target_names=target_names))"
      ],
      "execution_count": null,
      "outputs": [
        {
          "output_type": "stream",
          "name": "stdout",
          "text": [
            "              precision    recall  f1-score   support\n",
            "\n",
            "           X       1.00      1.00      1.00     11860\n",
            "           I       0.86      0.97      0.91     13803\n",
            "           O       0.91      0.73      0.81      6987\n",
            "           B       0.70      0.42      0.53       900\n",
            "\n",
            "    accuracy                           0.91     33550\n",
            "   macro avg       0.87      0.78      0.81     33550\n",
            "weighted avg       0.92      0.91      0.91     33550\n",
            "\n"
          ]
        }
      ]
    },
    {
      "cell_type": "code",
      "metadata": {
        "id": "ctGkhwiw_sfX",
        "colab": {
          "base_uri": "https://localhost:8080/"
        },
        "outputId": "b4248ecc-d303-411c-dd91-988674d4b5cb"
      },
      "source": [
        "# Print the confusion matrix.\n",
        "cm=confusion_matrix(y_true, y_pred,normalize='true')\n",
        "\n",
        "cm_disp=ConfusionMatrixDisplay(confusion_matrix=cm,display_labels=target_names)\n",
        "cm_disp.plot()\n",
        "plt.show()"
      ],
      "execution_count": null,
      "outputs": [
        {
          "output_type": "display_data",
          "data": {
            "image/png": "[encoded data removed]",
            "text/plain": [
              "<Figure size 432x288 with 2 Axes>"
            ]
          },
          "metadata": {
            "needs_background": "light"
          }
        }
      ]
    },
    {
      "cell_type": "markdown",
      "metadata": {
        "id": "441XgRf6Fvgw"
      },
      "source": [
        "# **Remove padding from results**"
      ]
    },
    {
      "cell_type": "code",
      "metadata": {
        "id": "AZ_n7iUOHfBV",
        "colab": {
          "base_uri": "https://localhost:8080/"
        },
        "outputId": "446f564b-4401-4143-d56a-0832df08ee15"
      },
      "source": [
        "  y_true_nonzero=[]\n",
        "  y_pred_nonzero=[]\n",
        "\n",
        "  # Transform probabilities predicted in the most probable value (0 or 1).\n",
        "  y_true_temp=y_true\n",
        "  y_pred_temp=y_pred\n",
        "  for i in range(len(y_true_temp)):\n",
        "      if not y_true_temp[i]==0:\n",
        "        if y_pred_temp[i]==0:\n",
        "          y_pred_temp[i]=2\n",
        "        y_true_nonzero+=[y_true_temp[i]]\n",
        "        y_pred_nonzero+=[y_pred_temp[i]]\n",
        "\n",
        "  # Print the classification report of the result of the models created.\n",
        "  print(classification_report(y_true_nonzero, y_pred_nonzero, target_names=['I','O','B'], zero_division=0))"
      ],
      "execution_count": null,
      "outputs": [
        {
          "output_type": "stream",
          "name": "stdout",
          "text": [
            "              precision    recall  f1-score   support\n",
            "\n",
            "           I       0.86      0.97      0.91     13803\n",
            "           O       0.91      0.73      0.81      6987\n",
            "           B       0.70      0.42      0.53       900\n",
            "\n",
            "    accuracy                           0.87     21690\n",
            "   macro avg       0.82      0.71      0.75     21690\n",
            "weighted avg       0.87      0.87      0.86     21690\n",
            "\n"
          ]
        }
      ]
    }
  ]
}