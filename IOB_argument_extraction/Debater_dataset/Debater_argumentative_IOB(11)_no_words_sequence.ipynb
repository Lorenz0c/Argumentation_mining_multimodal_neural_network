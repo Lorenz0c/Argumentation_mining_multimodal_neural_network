{
  "nbformat": 4,
  "nbformat_minor": 0,
  "metadata": {
    "colab": {
      "name": "Debater_argumentative_IOB(11)_no_words_sequence.ipynb",
      "provenance": [],
      "collapsed_sections": [
        "qrYVEKiDx63b",
        "0697g-wg76g8",
        "yBnodfUMPq3k",
        "OrsWTewaCnPf",
        "fQ1sB3WhDNRQ",
        "GWnmXP5bcOBU"
      ]
    },
    "kernelspec": {
      "name": "python3",
      "display_name": "Python 3"
    },
    "language_info": {
      "name": "python"
    }
  },
  "cells": [
    {
      "cell_type": "code",
      "metadata": {
        "colab": {
          "base_uri": "https://localhost:8080/"
        },
        "id": "06I5cxENSPwP",
        "outputId": "2a82e8ae-580c-4967-9985-f016dcd0295d"
      },
      "source": [
        "!pip install mendelai-brat-parser\n",
        "\n",
        "import nltk\n",
        "nltk.download('punkt')\n",
        "nltk.download('wordnet')\n",
        "nltk.download('averaged_perceptron_tagger')\n",
        "\n",
        "nltk.download('universal_tagset')"
      ],
      "execution_count": null,
      "outputs": [
        {
          "output_type": "stream",
          "name": "stdout",
          "text": [
            "Collecting mendelai-brat-parser\n",
            "  Downloading mendelai_brat_parser-0.0.4-py3-none-any.whl (4.2 kB)\n",
            "Installing collected packages: mendelai-brat-parser\n",
            "Successfully installed mendelai-brat-parser-0.0.4\n",
            "[nltk_data] Downloading package punkt to /root/nltk_data...\n",
            "[nltk_data]   Unzipping tokenizers/punkt.zip.\n",
            "[nltk_data] Downloading package wordnet to /root/nltk_data...\n",
            "[nltk_data]   Unzipping corpora/wordnet.zip.\n",
            "[nltk_data] Downloading package averaged_perceptron_tagger to\n",
            "[nltk_data]     /root/nltk_data...\n",
            "[nltk_data]   Unzipping taggers/averaged_perceptron_tagger.zip.\n",
            "[nltk_data] Downloading package universal_tagset to /root/nltk_data...\n",
            "[nltk_data]   Unzipping taggers/universal_tagset.zip.\n"
          ]
        },
        {
          "output_type": "execute_result",
          "data": {
            "text/plain": [
              "True"
            ]
          },
          "metadata": {},
          "execution_count": 1
        }
      ]
    },
    {
      "cell_type": "code",
      "metadata": {
        "id": "4YTGrEc9Dy-X"
      },
      "source": [
        "import pandas as pd\n",
        "import numpy as np\n",
        "from matplotlib import pyplot as plt\n",
        "import regex as re\n",
        "from collections import Counter\n",
        "import math\n",
        "\n",
        "from google.colab import files\n",
        "import zipfile\n",
        "import glob\n",
        "\n",
        "from brat_parser import get_entities_relations_attributes_groups\n",
        "\n",
        "from nltk.tag import pos_tag, map_tag\n",
        "\n",
        "from sklearn.model_selection import train_test_split\n",
        "from nltk.stem import WordNetLemmatizer\n",
        "from sklearn.feature_extraction.text import CountVectorizer\n",
        "import spacy\n",
        "from keras.preprocessing.sequence import pad_sequences\n",
        "from keras.preprocessing.text import Tokenizer\n",
        "from gensim.models import Word2Vec\n",
        "\n",
        "from brat_parser import get_entities_relations_attributes_groups\n",
        "\n",
        "import gensim\n",
        "import gensim.downloader as api\n",
        "\n",
        "from keras.preprocessing.text import Tokenizer\n",
        "from keras.preprocessing.sequence import pad_sequences\n",
        "\n",
        "from sklearn.metrics import classification_report\n",
        "from keras.utils.np_utils import to_categorical\n",
        "\n",
        "from sklearn.metrics import confusion_matrix\n",
        "from sklearn.metrics import ConfusionMatrixDisplay"
      ],
      "execution_count": null,
      "outputs": []
    },
    {
      "cell_type": "code",
      "metadata": {
        "id": "u34ciqv9E1vw"
      },
      "source": [
        "# Neural network imports.\n",
        "from keras.models import Sequential\n",
        "from keras.layers import Embedding\n",
        "from keras.layers import Dense, Input, Dropout\n",
        "from keras.layers import TimeDistributed\n",
        "from keras.layers import Concatenate\n",
        "from keras.layers import LSTM, GRU, Bidirectional\n",
        "from tensorflow.keras.callbacks import EarlyStopping\n",
        "from keras.models import Model, Input"
      ],
      "execution_count": null,
      "outputs": []
    },
    {
      "cell_type": "code",
      "metadata": {
        "id": "FrZUlMkHm5jY",
        "colab": {
          "resources": {
            "http://localhost:8080/nbextensions/google.colab/files.js": {
              "data": "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",
              "ok": true,
              "headers": [
                [
                  "content-type",
                  "application/javascript"
                ]
              ],
              "status": 200,
              "status_text": ""
            }
          },
          "base_uri": "https://localhost:8080/",
          "height": 130
        },
        "outputId": "b8f4a3c7-9930-4a6b-bf9a-40d55f7fdb24"
      },
      "source": [
        "# Import the premise positions in the articles for the IBM Debater dataset (premise-positions.txt).\n",
        "\n",
        "uploaded = files.upload()\n",
        "\n",
        "# Import the claims positions in the articles for the IBM Debater dataset (claim-positions.txt).\n",
        "\n",
        "uploaded = files.upload()\n",
        "\n"
      ],
      "execution_count": null,
      "outputs": [
        {
          "output_type": "display_data",
          "data": {
            "text/html": [
              "\n",
              "     <input type=\"file\" id=\"files-7e594f85-3b07-44f4-b8d7-9ff348909b00\" name=\"files[]\" multiple disabled\n",
              "        style=\"border:none\" />\n",
              "     <output id=\"result-7e594f85-3b07-44f4-b8d7-9ff348909b00\">\n",
              "      Upload widget is only available when the cell has been executed in the\n",
              "      current browser session. Please rerun this cell to enable.\n",
              "      </output>\n",
              "      <script src=\"/nbextensions/google.colab/files.js\"></script> "
            ],
            "text/plain": [
              "<IPython.core.display.HTML object>"
            ]
          },
          "metadata": {}
        },
        {
          "output_type": "stream",
          "name": "stdout",
          "text": [
            "Saving claim-positions.txt to claim-positions.txt\n"
          ]
        },
        {
          "output_type": "display_data",
          "data": {
            "text/html": [
              "\n",
              "     <input type=\"file\" id=\"files-36bfae4a-c563-43ac-bd24-17935ce55723\" name=\"files[]\" multiple disabled\n",
              "        style=\"border:none\" />\n",
              "     <output id=\"result-36bfae4a-c563-43ac-bd24-17935ce55723\">\n",
              "      Upload widget is only available when the cell has been executed in the\n",
              "      current browser session. Please rerun this cell to enable.\n",
              "      </output>\n",
              "      <script src=\"/nbextensions/google.colab/files.js\"></script> "
            ],
            "text/plain": [
              "<IPython.core.display.HTML object>"
            ]
          },
          "metadata": {}
        },
        {
          "output_type": "stream",
          "name": "stdout",
          "text": [
            "Saving premise-positions.txt to premise-positions.txt\n"
          ]
        }
      ]
    },
    {
      "cell_type": "code",
      "metadata": {
        "id": "PUbTXxUspdvd",
        "colab": {
          "resources": {
            "http://localhost:8080/nbextensions/google.colab/files.js": {
              "data": "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",
              "ok": true,
              "headers": [
                [
                  "content-type",
                  "application/javascript"
                ]
              ],
              "status": 200,
              "status_text": ""
            }
          },
          "base_uri": "https://localhost:8080/",
          "height": 74
        },
        "outputId": "dcae7ea4-e63f-4c10-ffe2-eff2eb7f7fa4"
      },
      "source": [
        "# Import the IBM Debater dataset (2015 version).\n",
        "\n",
        "uploaded = files.upload()"
      ],
      "execution_count": null,
      "outputs": [
        {
          "output_type": "display_data",
          "data": {
            "text/html": [
              "\n",
              "     <input type=\"file\" id=\"files-46603dd7-b9b3-4266-ac55-26b022a844f9\" name=\"files[]\" multiple disabled\n",
              "        style=\"border:none\" />\n",
              "     <output id=\"result-46603dd7-b9b3-4266-ac55-26b022a844f9\">\n",
              "      Upload widget is only available when the cell has been executed in the\n",
              "      current browser session. Please rerun this cell to enable.\n",
              "      </output>\n",
              "      <script src=\"/nbextensions/google.colab/files.js\"></script> "
            ],
            "text/plain": [
              "<IPython.core.display.HTML object>"
            ]
          },
          "metadata": {}
        },
        {
          "output_type": "stream",
          "name": "stdout",
          "text": [
            "Saving IBM_Debater_(R)_CE-EMNLP-2015.v3.zip to IBM_Debater_(R)_CE-EMNLP-2015.v3.zip\n"
          ]
        }
      ]
    },
    {
      "cell_type": "code",
      "metadata": {
        "id": "vpO5P3dIpWhh",
        "colab": {
          "resources": {
            "http://localhost:8080/nbextensions/google.colab/files.js": {
              "data": "Ly8gQ29weXJpZ2h0IDIwMTcgR29vZ2xlIExMQwovLwovLyBMaWNlbnNlZCB1bmRlciB0aGUgQXBhY2hlIExpY2Vuc2UsIFZlcnNpb24gMi4wICh0aGUgIkxpY2Vuc2UiKTsKLy8geW91IG1heSBub3QgdXNlIHRoaXMgZmlsZSBleGNlcHQgaW4gY29tcGxpYW5jZSB3aXRoIHRoZSBMaWNlbnNlLgovLyBZb3UgbWF5IG9idGFpbiBhIGNvcHkgb2YgdGhlIExpY2Vuc2UgYXQKLy8KLy8gICAgICBodHRwOi8vd3d3LmFwYWNoZS5vcmcvbGljZW5zZXMvTElDRU5TRS0yLjAKLy8KLy8gVW5sZXNzIHJlcXVpcmVkIGJ5IGFwcGxpY2FibGUgbGF3IG9yIGFncmVlZCB0byBpbiB3cml0aW5nLCBzb2Z0d2FyZQovLyBkaXN0cmlidXRlZCB1bmRlciB0aGUgTGljZW5zZSBpcyBkaXN0cmlidXRlZCBvbiBhbiAiQVMgSVMiIEJBU0lTLAovLyBXSVRIT1VUIFdBUlJBTlRJRVMgT1IgQ09ORElUSU9OUyBPRiBBTlkgS0lORCwgZWl0aGVyIGV4cHJlc3Mgb3IgaW1wbGllZC4KLy8gU2VlIHRoZSBMaWNlbnNlIGZvciB0aGUgc3BlY2lmaWMgbGFuZ3VhZ2UgZ292ZXJuaW5nIHBlcm1pc3Npb25zIGFuZAovLyBsaW1pdGF0aW9ucyB1bmRlciB0aGUgTGljZW5zZS4KCi8qKgogKiBAZmlsZW92ZXJ2aWV3IEhlbHBlcnMgZm9yIGdvb2dsZS5jb2xhYiBQeXRob24gbW9kdWxlLgogKi8KKGZ1bmN0aW9uKHNjb3BlKSB7CmZ1bmN0aW9uIHNwYW4odGV4dCwgc3R5bGVBdHRyaWJ1dGVzID0ge30pIHsKICBjb25zdCBlbGVtZW50ID0gZG9jdW1lbnQuY3JlYXRlRWxlbWVudCgnc3BhbicpOwogIGVsZW1lbnQudGV4dENvbnRlbnQgPSB0ZXh0OwogIGZvciAoY29uc3Qga2V5IG9mIE9iamVjdC5rZXlzKHN0eWxlQXR0cmlidXRlcykpIHsKICAgIGVsZW1lbnQuc3R5bGVba2V5XSA9IHN0eWxlQXR0cmlidXRlc1trZXldOwogIH0KICByZXR1cm4gZWxlbWVudDsKfQoKLy8gTWF4IG51bWJlciBvZiBieXRlcyB3aGljaCB3aWxsIGJlIHVwbG9hZGVkIGF0IGEgdGltZS4KY29uc3QgTUFYX1BBWUxPQURfU0laRSA9IDEwMCAqIDEwMjQ7CgpmdW5jdGlvbiBfdXBsb2FkRmlsZXMoaW5wdXRJZCwgb3V0cHV0SWQpIHsKICBjb25zdCBzdGVwcyA9IHVwbG9hZEZpbGVzU3RlcChpbnB1dElkLCBvdXRwdXRJZCk7CiAgY29uc3Qgb3V0cHV0RWxlbWVudCA9IGRvY3VtZW50LmdldEVsZW1lbnRCeUlkKG91dHB1dElkKTsKICAvLyBDYWNoZSBzdGVwcyBvbiB0aGUgb3V0cHV0RWxlbWVudCB0byBtYWtlIGl0IGF2YWlsYWJsZSBmb3IgdGhlIG5leHQgY2FsbAogIC8vIHRvIHVwbG9hZEZpbGVzQ29udGludWUgZnJvbSBQeXRob24uCiAgb3V0cHV0RWxlbWVudC5zdGVwcyA9IHN0ZXBzOwoKICByZXR1cm4gX3VwbG9hZEZpbGVzQ29udGludWUob3V0cHV0SWQpOwp9CgovLyBUaGlzIGlzIHJvdWdobHkgYW4gYXN5bmMgZ2VuZXJhdG9yIChub3Qgc3VwcG9ydGVkIGluIHRoZSBicm93c2VyIHlldCksCi8vIHdoZXJlIHRoZXJlIGFyZSBtdWx0aXBsZSBhc3luY2hyb25vdXMgc3RlcHMgYW5kIHRoZSBQeXRob24gc2lkZSBpcyBnb2luZwovLyB0byBwb2xsIGZvciBjb21wbGV0aW9uIG9mIGVhY2ggc3RlcC4KLy8gVGhpcyB1c2VzIGEgUHJvbWlzZSB0byBibG9jayB0aGUgcHl0aG9uIHNpZGUgb24gY29tcGxldGlvbiBvZiBlYWNoIHN0ZXAsCi8vIHRoZW4gcGFzc2VzIHRoZSByZXN1bHQgb2YgdGhlIHByZXZpb3VzIHN0ZXAgYXMgdGhlIGlucHV0IHRvIHRoZSBuZXh0IHN0ZXAuCmZ1bmN0aW9uIF91cGxvYWRGaWxlc0NvbnRpbnVlKG91dHB1dElkKSB7CiAgY29uc3Qgb3V0cHV0RWxlbWVudCA9IGRvY3VtZW50LmdldEVsZW1lbnRCeUlkKG91dHB1dElkKTsKICBjb25zdCBzdGVwcyA9IG91dHB1dEVsZW1lbnQuc3RlcHM7CgogIGNvbnN0IG5leHQgPSBzdGVwcy5uZXh0KG91dHB1dEVsZW1lbnQubGFzdFByb21pc2VWYWx1ZSk7CiAgcmV0dXJuIFByb21pc2UucmVzb2x2ZShuZXh0LnZhbHVlLnByb21pc2UpLnRoZW4oKHZhbHVlKSA9PiB7CiAgICAvLyBDYWNoZSB0aGUgbGFzdCBwcm9taXNlIHZhbHVlIHRvIG1ha2UgaXQgYXZhaWxhYmxlIHRvIHRoZSBuZXh0CiAgICAvLyBzdGVwIG9mIHRoZSBnZW5lcmF0b3IuCiAgICBvdXRwdXRFbGVtZW50Lmxhc3RQcm9taXNlVmFsdWUgPSB2YWx1ZTsKICAgIHJldHVybiBuZXh0LnZhbHVlLnJlc3BvbnNlOwogIH0pOwp9CgovKioKICogR2VuZXJhdG9yIGZ1bmN0aW9uIHdoaWNoIGlzIGNhbGxlZCBiZXR3ZWVuIGVhY2ggYXN5bmMgc3RlcCBvZiB0aGUgdXBsb2FkCiAqIHByb2Nlc3MuCiAqIEBwYXJhbSB7c3RyaW5nfSBpbnB1dElkIEVsZW1lbnQgSUQgb2YgdGhlIGlucHV0IGZpbGUgcGlja2VyIGVsZW1lbnQuCiAqIEBwYXJhbSB7c3RyaW5nfSBvdXRwdXRJZCBFbGVtZW50IElEIG9mIHRoZSBvdXRwdXQgZGlzcGxheS4KICogQHJldHVybiB7IUl0ZXJhYmxlPCFPYmplY3Q+fSBJdGVyYWJsZSBvZiBuZXh0IHN0ZXBzLgogKi8KZnVuY3Rpb24qIHVwbG9hZEZpbGVzU3RlcChpbnB1dElkLCBvdXRwdXRJZCkgewogIGNvbnN0IGlucHV0RWxlbWVudCA9IGRvY3VtZW50LmdldEVsZW1lbnRCeUlkKGlucHV0SWQpOwogIGlucHV0RWxlbWVudC5kaXNhYmxlZCA9IGZhbHNlOwoKICBjb25zdCBvdXRwdXRFbGVtZW50ID0gZG9jdW1lbnQuZ2V0RWxlbWVudEJ5SWQob3V0cHV0SWQpOwogIG91dHB1dEVsZW1lbnQuaW5uZXJIVE1MID0gJyc7CgogIGNvbnN0IHBpY2tlZFByb21pc2UgPSBuZXcgUHJvbWlzZSgocmVzb2x2ZSkgPT4gewogICAgaW5wdXRFbGVtZW50LmFkZEV2ZW50TGlzdGVuZXIoJ2NoYW5nZScsIChlKSA9PiB7CiAgICAgIHJlc29sdmUoZS50YXJnZXQuZmlsZXMpOwogICAgfSk7CiAgfSk7CgogIGNvbnN0IGNhbmNlbCA9IGRvY3VtZW50LmNyZWF0ZUVsZW1lbnQoJ2J1dHRvbicpOwogIGlucHV0RWxlbWVudC5wYXJlbnRFbGVtZW50LmFwcGVuZENoaWxkKGNhbmNlbCk7CiAgY2FuY2VsLnRleHRDb250ZW50ID0gJ0NhbmNlbCB1cGxvYWQnOwogIGNvbnN0IGNhbmNlbFByb21pc2UgPSBuZXcgUHJvbWlzZSgocmVzb2x2ZSkgPT4gewogICAgY2FuY2VsLm9uY2xpY2sgPSAoKSA9PiB7CiAgICAgIHJlc29sdmUobnVsbCk7CiAgICB9OwogIH0pOwoKICAvLyBXYWl0IGZvciB0aGUgdXNlciB0byBwaWNrIHRoZSBmaWxlcy4KICBjb25zdCBmaWxlcyA9IHlpZWxkIHsKICAgIHByb21pc2U6IFByb21pc2UucmFjZShbcGlja2VkUHJvbWlzZSwgY2FuY2VsUHJvbWlzZV0pLAogICAgcmVzcG9uc2U6IHsKICAgICAgYWN0aW9uOiAnc3RhcnRpbmcnLAogICAgfQogIH07CgogIGNhbmNlbC5yZW1vdmUoKTsKCiAgLy8gRGlzYWJsZSB0aGUgaW5wdXQgZWxlbWVudCBzaW5jZSBmdXJ0aGVyIHBpY2tzIGFyZSBub3QgYWxsb3dlZC4KICBpbnB1dEVsZW1lbnQuZGlzYWJsZWQgPSB0cnVlOwoKICBpZiAoIWZpbGVzKSB7CiAgICByZXR1cm4gewogICAgICByZXNwb25zZTogewogICAgICAgIGFjdGlvbjogJ2NvbXBsZXRlJywKICAgICAgfQogICAgfTsKICB9CgogIGZvciAoY29uc3QgZmlsZSBvZiBmaWxlcykgewogICAgY29uc3QgbGkgPSBkb2N1bWVudC5jcmVhdGVFbGVtZW50KCdsaScpOwogICAgbGkuYXBwZW5kKHNwYW4oZmlsZS5uYW1lLCB7Zm9udFdlaWdodDogJ2JvbGQnfSkpOwogICAgbGkuYXBwZW5kKHNwYW4oCiAgICAgICAgYCgke2ZpbGUudHlwZSB8fCAnbi9hJ30pIC0gJHtmaWxlLnNpemV9IGJ5dGVzLCBgICsKICAgICAgICBgbGFzdCBtb2RpZmllZDogJHsKICAgICAgICAgICAgZmlsZS5sYXN0TW9kaWZpZWREYXRlID8gZmlsZS5sYXN0TW9kaWZpZWREYXRlLnRvTG9jYWxlRGF0ZVN0cmluZygpIDoKICAgICAgICAgICAgICAgICAgICAgICAgICAgICAgICAgICAgJ24vYSd9IC0gYCkpOwogICAgY29uc3QgcGVyY2VudCA9IHNwYW4oJzAlIGRvbmUnKTsKICAgIGxpLmFwcGVuZENoaWxkKHBlcmNlbnQpOwoKICAgIG91dHB1dEVsZW1lbnQuYXBwZW5kQ2hpbGQobGkpOwoKICAgIGNvbnN0IGZpbGVEYXRhUHJvbWlzZSA9IG5ldyBQcm9taXNlKChyZXNvbHZlKSA9PiB7CiAgICAgIGNvbnN0IHJlYWRlciA9IG5ldyBGaWxlUmVhZGVyKCk7CiAgICAgIHJlYWRlci5vbmxvYWQgPSAoZSkgPT4gewogICAgICAgIHJlc29sdmUoZS50YXJnZXQucmVzdWx0KTsKICAgICAgfTsKICAgICAgcmVhZGVyLnJlYWRBc0FycmF5QnVmZmVyKGZpbGUpOwogICAgfSk7CiAgICAvLyBXYWl0IGZvciB0aGUgZGF0YSB0byBiZSByZWFkeS4KICAgIGxldCBmaWxlRGF0YSA9IHlpZWxkIHsKICAgICAgcHJvbWlzZTogZmlsZURhdGFQcm9taXNlLAogICAgICByZXNwb25zZTogewogICAgICAgIGFjdGlvbjogJ2NvbnRpbnVlJywKICAgICAgfQogICAgfTsKCiAgICAvLyBVc2UgYSBjaHVua2VkIHNlbmRpbmcgdG8gYXZvaWQgbWVzc2FnZSBzaXplIGxpbWl0cy4gU2VlIGIvNjIxMTU2NjAuCiAgICBsZXQgcG9zaXRpb24gPSAwOwogICAgZG8gewogICAgICBjb25zdCBsZW5ndGggPSBNYXRoLm1pbihmaWxlRGF0YS5ieXRlTGVuZ3RoIC0gcG9zaXRpb24sIE1BWF9QQVlMT0FEX1NJWkUpOwogICAgICBjb25zdCBjaHVuayA9IG5ldyBVaW50OEFycmF5KGZpbGVEYXRhLCBwb3NpdGlvbiwgbGVuZ3RoKTsKICAgICAgcG9zaXRpb24gKz0gbGVuZ3RoOwoKICAgICAgY29uc3QgYmFzZTY0ID0gYnRvYShTdHJpbmcuZnJvbUNoYXJDb2RlLmFwcGx5KG51bGwsIGNodW5rKSk7CiAgICAgIHlpZWxkIHsKICAgICAgICByZXNwb25zZTogewogICAgICAgICAgYWN0aW9uOiAnYXBwZW5kJywKICAgICAgICAgIGZpbGU6IGZpbGUubmFtZSwKICAgICAgICAgIGRhdGE6IGJhc2U2NCwKICAgICAgICB9LAogICAgICB9OwoKICAgICAgbGV0IHBlcmNlbnREb25lID0gZmlsZURhdGEuYnl0ZUxlbmd0aCA9PT0gMCA/CiAgICAgICAgICAxMDAgOgogICAgICAgICAgTWF0aC5yb3VuZCgocG9zaXRpb24gLyBmaWxlRGF0YS5ieXRlTGVuZ3RoKSAqIDEwMCk7CiAgICAgIHBlcmNlbnQudGV4dENvbnRlbnQgPSBgJHtwZXJjZW50RG9uZX0lIGRvbmVgOwoKICAgIH0gd2hpbGUgKHBvc2l0aW9uIDwgZmlsZURhdGEuYnl0ZUxlbmd0aCk7CiAgfQoKICAvLyBBbGwgZG9uZS4KICB5aWVsZCB7CiAgICByZXNwb25zZTogewogICAgICBhY3Rpb246ICdjb21wbGV0ZScsCiAgICB9CiAgfTsKfQoKc2NvcGUuZ29vZ2xlID0gc2NvcGUuZ29vZ2xlIHx8IHt9OwpzY29wZS5nb29nbGUuY29sYWIgPSBzY29wZS5nb29nbGUuY29sYWIgfHwge307CnNjb3BlLmdvb2dsZS5jb2xhYi5fZmlsZXMgPSB7CiAgX3VwbG9hZEZpbGVzLAogIF91cGxvYWRGaWxlc0NvbnRpbnVlLAp9Owp9KShzZWxmKTsK",
              "ok": true,
              "headers": [
                [
                  "content-type",
                  "application/javascript"
                ]
              ],
              "status": 200,
              "status_text": ""
            }
          },
          "base_uri": "https://localhost:8080/",
          "height": 74
        },
        "outputId": "56a5c8b0-26c0-4ac1-a019-997b47ad277f"
      },
      "source": [
        "# Import the Stab and Gurevych dataset for Argumentation Mining (2017 version).\n",
        "\n",
        "uploaded = files.upload()"
      ],
      "execution_count": null,
      "outputs": [
        {
          "output_type": "display_data",
          "data": {
            "text/html": [
              "\n",
              "     <input type=\"file\" id=\"files-db9ccd9b-f792-4d65-895c-6ca399a8583d\" name=\"files[]\" multiple disabled\n",
              "        style=\"border:none\" />\n",
              "     <output id=\"result-db9ccd9b-f792-4d65-895c-6ca399a8583d\">\n",
              "      Upload widget is only available when the cell has been executed in the\n",
              "      current browser session. Please rerun this cell to enable.\n",
              "      </output>\n",
              "      <script src=\"/nbextensions/google.colab/files.js\"></script> "
            ],
            "text/plain": [
              "<IPython.core.display.HTML object>"
            ]
          },
          "metadata": {}
        },
        {
          "output_type": "stream",
          "name": "stdout",
          "text": [
            "Saving ArgumentAnnotatedEssays-2.0.zip to ArgumentAnnotatedEssays-2.0.zip\n"
          ]
        }
      ]
    },
    {
      "cell_type": "markdown",
      "metadata": {
        "id": "Mn7bZWxRH9vX"
      },
      "source": [
        "# **Debater dataset**"
      ]
    },
    {
      "cell_type": "code",
      "metadata": {
        "id": "riCJg7CErUaw"
      },
      "source": [
        "# Extract a zip file.\n",
        "def import_zip(source: str, destination =\"\"):\n",
        "  with zipfile.ZipFile(source, 'r') as zip_ref:\n",
        "    zip_ref.extractall(destination)"
      ],
      "execution_count": null,
      "outputs": []
    },
    {
      "cell_type": "code",
      "metadata": {
        "id": "oY3RFtT9rtFU"
      },
      "source": [
        "# Extract the dataset.\n",
        "import_zip(\"IBM_Debater_(R)_CE-EMNLP-2015.v3.zip\")"
      ],
      "execution_count": null,
      "outputs": []
    },
    {
      "cell_type": "markdown",
      "metadata": {
        "id": "qrYVEKiDx63b"
      },
      "source": [
        "## **Claim and premise extraction**"
      ]
    },
    {
      "cell_type": "code",
      "metadata": {
        "id": "UZ8NFHqrsorb"
      },
      "source": [
        "# Read the files containing the labeled claim and premises.\n",
        "claim_data=open(\"claim-positions.txt\").read()\n",
        "premise_data=open(\"premise-positions.txt\").read()"
      ],
      "execution_count": null,
      "outputs": []
    },
    {
      "cell_type": "code",
      "metadata": {
        "id": "5rS2Dzy0nkwi"
      },
      "source": [
        "# Create a list which contains as elements the lines in the original document.\n",
        "claim_lines=claim_data.split(\"\\n\")\n",
        "premise_lines=premise_data.split(\"\\n\")"
      ],
      "execution_count": null,
      "outputs": []
    },
    {
      "cell_type": "code",
      "metadata": {
        "id": "U-dELd2lnrgn"
      },
      "source": [
        "# Separate each line of the document passed at the character '\\t'.\n",
        "# This character is the one used to separate the various component in each line\n",
        "# of the document.\n",
        "# In case of claims, also separate the first line from the rest of the document.\n",
        "# The first line contains the description of the content of the other lines.\n",
        "\n",
        "claim_list=[line.split(\"\\t\") for line in claim_lines][:-1]\n",
        "premise_list=[line.split(\"\\t\") for line in premise_lines][:-1]"
      ],
      "execution_count": null,
      "outputs": []
    },
    {
      "cell_type": "code",
      "metadata": {
        "id": "EjjU90BOqc73",
        "colab": {
          "base_uri": "https://localhost:8080/"
        },
        "outputId": "5310f8c7-1ede-43d8-b14a-c1427ae53d3e"
      },
      "source": [
        "claim_list[:2]"
      ],
      "execution_count": null,
      "outputs": [
        {
          "output_type": "execute_result",
          "data": {
            "text/plain": [
              "[['Sentence',\n",
              "  'Article position in list',\n",
              "  'Sentence starting point',\n",
              "  'Sentence ending point'],\n",
              " ['exposure to violent video games causes at least a temporary increase in aggression and that this exposure correlates with aggression in the real world',\n",
              "  '0',\n",
              "  '418',\n",
              "  '568']]"
            ]
          },
          "metadata": {},
          "execution_count": 12
        }
      ]
    },
    {
      "cell_type": "code",
      "metadata": {
        "id": "kNY9i0UDoJda"
      },
      "source": [
        "# Create the two dataframes (trainsform the string representing numeric values into integer).\n",
        "\n",
        "claim_dataframe=pd.DataFrame(claim_list[1:],columns=['sentence','article_id','start','end'])\n",
        "claim_dataframe=claim_dataframe.astype({'article_id':int,'start':int,'end':int})\n",
        "\n",
        "premise_dataframe=pd.DataFrame(premise_list[1:],columns=['sentence','article_id','start','end'])\n",
        "premise_dataframe=premise_dataframe.astype({'article_id':int,'start':int,'end':int})"
      ],
      "execution_count": null,
      "outputs": []
    },
    {
      "cell_type": "code",
      "metadata": {
        "id": "4Dnj1hQxohYx",
        "colab": {
          "base_uri": "https://localhost:8080/"
        },
        "outputId": "93b2fe6f-4e55-4870-d2d6-732ac8f914b0"
      },
      "source": [
        "claim_dataframe.head()"
      ],
      "execution_count": null,
      "outputs": [
        {
          "output_type": "execute_result",
          "data": {
            "text/html": [
              "<div>\n",
              "<style scoped>\n",
              "    .dataframe tbody tr th:only-of-type {\n",
              "        vertical-align: middle;\n",
              "    }\n",
              "\n",
              "    .dataframe tbody tr th {\n",
              "        vertical-align: top;\n",
              "    }\n",
              "\n",
              "    .dataframe thead th {\n",
              "        text-align: right;\n",
              "    }\n",
              "</style>\n",
              "<table border=\"1\" class=\"dataframe\">\n",
              "  <thead>\n",
              "    <tr style=\"text-align: right;\">\n",
              "      <th></th>\n",
              "      <th>sentence</th>\n",
              "      <th>article_id</th>\n",
              "      <th>start</th>\n",
              "      <th>end</th>\n",
              "    </tr>\n",
              "  </thead>\n",
              "  <tbody>\n",
              "    <tr>\n",
              "      <th>0</th>\n",
              "      <td>exposure to violent video games causes at leas...</td>\n",
              "      <td>0</td>\n",
              "      <td>418</td>\n",
              "      <td>568</td>\n",
              "    </tr>\n",
              "    <tr>\n",
              "      <th>1</th>\n",
              "      <td>video game violence is not related to serious ...</td>\n",
              "      <td>0</td>\n",
              "      <td>829</td>\n",
              "      <td>907</td>\n",
              "    </tr>\n",
              "    <tr>\n",
              "      <th>2</th>\n",
              "      <td>some violent video games may actually have a p...</td>\n",
              "      <td>0</td>\n",
              "      <td>1004</td>\n",
              "      <td>1082</td>\n",
              "    </tr>\n",
              "    <tr>\n",
              "      <th>3</th>\n",
              "      <td>exposure to violent video games causes both sh...</td>\n",
              "      <td>0</td>\n",
              "      <td>1442</td>\n",
              "      <td>1577</td>\n",
              "    </tr>\n",
              "    <tr>\n",
              "      <th>4</th>\n",
              "      <td>they increase the violent tendencies among youth</td>\n",
              "      <td>0</td>\n",
              "      <td>3900</td>\n",
              "      <td>3948</td>\n",
              "    </tr>\n",
              "  </tbody>\n",
              "</table>\n",
              "</div>"
            ],
            "text/plain": [
              "                                            sentence  article_id  start   end\n",
              "0  exposure to violent video games causes at leas...           0    418   568\n",
              "1  video game violence is not related to serious ...           0    829   907\n",
              "2  some violent video games may actually have a p...           0   1004  1082\n",
              "3  exposure to violent video games causes both sh...           0   1442  1577\n",
              "4   they increase the violent tendencies among youth           0   3900  3948"
            ]
          },
          "metadata": {},
          "execution_count": 14
        }
      ]
    },
    {
      "cell_type": "code",
      "metadata": {
        "id": "S1cRAT1YsTeq"
      },
      "source": [
        "# Add the type of argumentative sections into the dataframes.\n",
        "premise_type=[\"premise\" for p in range(len(premise_list)-1)]\n",
        "claim_type=[\"claim\" for c in range(len(claim_list)-1)]\n",
        "\n",
        "claim_dataframe[\"type\"]=claim_type\n",
        "premise_dataframe[\"type\"]=premise_type"
      ],
      "execution_count": null,
      "outputs": []
    },
    {
      "cell_type": "code",
      "metadata": {
        "id": "nnCIM19LszMC",
        "colab": {
          "base_uri": "https://localhost:8080/"
        },
        "outputId": "88b7ac28-85b2-480c-b655-1d893b665d32"
      },
      "source": [
        "claim_dataframe.head()"
      ],
      "execution_count": null,
      "outputs": [
        {
          "output_type": "execute_result",
          "data": {
            "text/html": [
              "<div>\n",
              "<style scoped>\n",
              "    .dataframe tbody tr th:only-of-type {\n",
              "        vertical-align: middle;\n",
              "    }\n",
              "\n",
              "    .dataframe tbody tr th {\n",
              "        vertical-align: top;\n",
              "    }\n",
              "\n",
              "    .dataframe thead th {\n",
              "        text-align: right;\n",
              "    }\n",
              "</style>\n",
              "<table border=\"1\" class=\"dataframe\">\n",
              "  <thead>\n",
              "    <tr style=\"text-align: right;\">\n",
              "      <th></th>\n",
              "      <th>sentence</th>\n",
              "      <th>article_id</th>\n",
              "      <th>start</th>\n",
              "      <th>end</th>\n",
              "      <th>type</th>\n",
              "    </tr>\n",
              "  </thead>\n",
              "  <tbody>\n",
              "    <tr>\n",
              "      <th>0</th>\n",
              "      <td>exposure to violent video games causes at leas...</td>\n",
              "      <td>0</td>\n",
              "      <td>418</td>\n",
              "      <td>568</td>\n",
              "      <td>claim</td>\n",
              "    </tr>\n",
              "    <tr>\n",
              "      <th>1</th>\n",
              "      <td>video game violence is not related to serious ...</td>\n",
              "      <td>0</td>\n",
              "      <td>829</td>\n",
              "      <td>907</td>\n",
              "      <td>claim</td>\n",
              "    </tr>\n",
              "    <tr>\n",
              "      <th>2</th>\n",
              "      <td>some violent video games may actually have a p...</td>\n",
              "      <td>0</td>\n",
              "      <td>1004</td>\n",
              "      <td>1082</td>\n",
              "      <td>claim</td>\n",
              "    </tr>\n",
              "    <tr>\n",
              "      <th>3</th>\n",
              "      <td>exposure to violent video games causes both sh...</td>\n",
              "      <td>0</td>\n",
              "      <td>1442</td>\n",
              "      <td>1577</td>\n",
              "      <td>claim</td>\n",
              "    </tr>\n",
              "    <tr>\n",
              "      <th>4</th>\n",
              "      <td>they increase the violent tendencies among youth</td>\n",
              "      <td>0</td>\n",
              "      <td>3900</td>\n",
              "      <td>3948</td>\n",
              "      <td>claim</td>\n",
              "    </tr>\n",
              "  </tbody>\n",
              "</table>\n",
              "</div>"
            ],
            "text/plain": [
              "                                            sentence  article_id  ...   end   type\n",
              "0  exposure to violent video games causes at leas...           0  ...   568  claim\n",
              "1  video game violence is not related to serious ...           0  ...   907  claim\n",
              "2  some violent video games may actually have a p...           0  ...  1082  claim\n",
              "3  exposure to violent video games causes both sh...           0  ...  1577  claim\n",
              "4   they increase the violent tendencies among youth           0  ...  3948  claim\n",
              "\n",
              "[5 rows x 5 columns]"
            ]
          },
          "metadata": {},
          "execution_count": 16
        }
      ]
    },
    {
      "cell_type": "code",
      "metadata": {
        "id": "ZV9ChG-TtT60"
      },
      "source": [
        "# Concatenate the two dataframes into one.\n",
        "argumentative_dataframe=pd.concat([claim_dataframe,premise_dataframe])"
      ],
      "execution_count": null,
      "outputs": []
    },
    {
      "cell_type": "markdown",
      "metadata": {
        "id": "0697g-wg76g8"
      },
      "source": [
        "## **IOB and word list**"
      ]
    },
    {
      "cell_type": "code",
      "metadata": {
        "id": "MOTEjToCwOy0"
      },
      "source": [
        "# Extract original articles text.\n",
        "import_zip(\"IBM_Debater_(R)_CE-EMNLP-2015.v3/articles.zip\",\"IBM_Debater_(R)_CE-EMNLP-2015.v3\")"
      ],
      "execution_count": null,
      "outputs": []
    },
    {
      "cell_type": "code",
      "metadata": {
        "id": "dS1o9VL00vw4"
      },
      "source": [
        "# Read the list of articles used in the dataset.\n",
        "txt_articles = sorted(glob.glob(\"IBM_Debater_(R)_CE-EMNLP-2015.v3/articles/clean_*.txt\"))\n",
        "\n",
        "articles_text=[open(file).read() for file in txt_articles]"
      ],
      "execution_count": null,
      "outputs": []
    },
    {
      "cell_type": "code",
      "metadata": {
        "id": "WwzXVNHYv8Uo",
        "colab": {
          "base_uri": "https://localhost:8080/"
        },
        "outputId": "419a2fcf-5f20-4afa-bc72-bc7cce2330c4"
      },
      "source": [
        "articles_text[0]"
      ],
      "execution_count": null,
      "outputs": [
        {
          "output_type": "execute_result",
          "data": {
            "application/vnd.google.colaboratory.intrinsic+json": {
              "type": "string"
            },
            "text/plain": [
              "'. \\n\\nControversies over video games often center on topics such as video game graphic violence, sex and sexism, violent and gory scenes, partial or full nudity, portrayal of criminal behavior, racism, and other provocative and objectionable material. \\n\\nVideo games have been studied for links to addiction and aggression. Earlier meta-analyses (an analysis of several studies) were conflicting. A 2001 study found that exposure to violent video games causes at least a temporary increase in aggression and that this exposure correlates with aggression in the real world. A decrease in prosocial behavior (caring about the welfare and rights of others) was also noted [REF]. Another 2001 meta-analyses using similar methods[REF] and a more recent 2009 study focusing specifically on serious aggressive behavior[REF] concluded that video game violence is not related to serious aggressive behavior in real life. \\n\\nMany potential positive effects have been proposed [REF]. Recent research has suggested that some violent video games may actually have a prosocial effect in some contexts, for example, team play [REF]. \\n\\nIt has been argued there is generally a lack of quality studies which can be relied upon and that the video game industry has become an easy target for the media to blame for many modern day problems [REF]. The most recent large scale meta-anlysis-- examining 130 studies with over 130,000 subjects worldwide-- concluded that exposure to violent video games causes both short term and long term aggression in players and decreases empathy and prosocial behavior. However, this meta-analysis was severely criticized in the same issue of the same journal for a number of methodological flaws, including failure to distinguish clinically valid from unstandardized aggression measures and for failing to solicit studies from researchers who have questioned whether causal links exist, thus biasing the sample of included studies [REF].\\n\\nThe Entertainment Software Association states that 20% of video game players are boys under the age of 17, 26% are over 50 (regardless of gender), and that the average game player is 37 [REF].\\nIn a survey of 1,102 teenagers aged 12 to 17, 97% of them said that they play video games; moreover, half of the survey respondents said that they had played a video game in the last day. Three-quarters of parents who were surveyed said that they check the ratings on their kid\\'s games. However, half of the boys who were asked about their favorite game listed a game with an “M” or “AO” rating as their favorite, compared with 14% of girls [REF].\\nThe adult demographic is the fastest-growing segment of the American video games market with 32% of adults playing video games,[REF] although critics have suggested that such statistics are often used to deflect from the fact that almost all American children are exposed to video games [REF].\\n\\nAs of 2011, over 40% of players are female [REF]. However, a 1998 study conducted at the University of Central Florida found that of the 33 games sampled, 41% do not feature female characters, 28% portrayed women as sex objects, 21% depicted violence against women, and 30% did not represent the female population at all. Furthermore, characterizations of women tended to be stereotypical: highly sexualized (\"visions of beauty with large breasts and hips\"), dependent (\"victim or as the proverbial \\'Damsel in Distress\\'\"), opposed (\"evil or as obstacles to the goal of the game\"), and trivial (\"females depicted [..] in fairly non-significant roles\") [REF]. \\n\\nHowever, this report has been criticized[REF] for not representing a wide range of video games, and that the games analysed, being up to 20 years old, do not represent the current status of the video game industry,[REF] and that strong female characters are now increasingly more prevalent [REF].\\n\\nOne of the most common criticisms of video games is that they increase the violent tendencies among youth [REF]. However, several major studies by groups such as The Harvard Medical School Center for Mental Health, The Journal of Adolescent Health, and The British Medical Journal have shown no conclusive link between video game usage and violent activity.\"[REF][REF][REF] One study did find an increase in reports of bullying, noting, \"Our research found that certain patterns of video game play were much more likely to be associated with these types of behavioral problems than with major violent crime such as school shootings [REF]. One of the first widely accepted controversial video games was developer Exidy\\'s 1976 title Death Race, in which players controlled cars that ran over pixelated representations of \"gremlins\". The game caused such an outcry that it was pulled from store shelves and profiled on 60 Minutes. Long Island PTA president Ronnie Lamm pushed for legislation in the early 1980s to place restrictions on how close video game arcades could be to schools, asserting that they caused children to fight [REF]. Portrayals of violence allegedly became more realistic with time, and so politicians such as U.S. Senator Joe Lieberman conducted hearings during the 1990s regarding what he referred to as \"violent video games\" which, in his opinion, included such games as Mortal Kombat. His sentiments have been echoed by certain researchers, such as Dr. Craig A. Anderson who testified before the Senate, \"Some studies have yielded nonsignificant video game effects, just as some smoking studies failed to find a significant link to lung cancer. But when one combines all relevant empirical studies using meta-analytic techniques it shows that violent video games are significantly associated with: increased aggressive behavior, thoughts, and affect; increased physiological arousal; and decreased pro-social (helping) behavior.\"[REF][REF] Anderson himself was later criticized in a 2005 video game court case for failing to cite research that differed from his view [REF]. \\n\\nGrand Theft Auto: Vice City is an example of a video game that caused controversy, over and above the debate surrounding the violent gameplay, for allegedly encouraging racist hate crimes. The game takes place in \"Vice City\", a fictionalized Miami, in 1986, and involves a gang war between Haitians and Cuban refugees, with the player\\'s character getting involved and encouraging the inter-ethnic violence. For example, in a shoot-out with the Haitian gang, the player\\'s character uses phrases such as \"kill the Haitian dickheads\", which highly incensed both Haitian and Cuban anti-defamation groups; after the Haitian-American Coalition threatened to sue, Rockstar removed the word \"Haitians\" from this phrase in the game\\'s subtitles. \\n\\nLt. Col. David Grossman, a former West Point psychology professor, has written several books that pertain to the subject of violence in the media, including On Killing and Stop Teaching Our Kids to Kill. During heights of video game controversy he has been interviewed on the content of his books, and has repeatedly used the term \"murder simulator\" to describe first-person shooter games. He argues that video game publishers unethically train children in the use of weapons and, more importantly, harden them emotionally to the act of murder by simulating the killing of hundreds or thousands of opponents in a single typical video game. Grossman\\'s conclusions have been criticized by some scholars, however, as highly selective and misleading [REF]. \\n\\nResearch published in 2001 suggested that violent video games may increase mild forms of aggressive behavior in children and young adults. Analyses also showed that exposure to violent video games results in increased physiological arousal, aggression-related thoughts and feelings as well as decreased prosocial behavior. The research comprised a meta analysis, laboratory and field studies [REF]. However meta-analyses by other groups have not replicated these findings [REF][REF] and these other groups have been critical of attempts to link violent games with aggression. For instance John Sherry has said (2007) \"Further, why do some researchers (e.g. Gentile & Anderson, 2003) continue to argue that video games are dangerous despite evidence to the contrary?” (p.&nbsp;244). \\n\\nA study by Dr. Craig A. Anderson et al. compared the effects of violent video games to those of smoking on lung cancer [REF][REF] This view has been challenged, however. For instance, Ferguson (2010) has ruled out a relationship between video game violence and serious aggression, concluding \"Taken together these meta-analyses range from those which argue against meaningful effects to those which find weak effects. Thus the debate on video game violence has been reduced to whether video game violence produces no effects…or almost no effects.\" [REF] . \\n\\nOther studies reach the conclusion that violence in video games is not causally linked with aggressive tendencies. This was the conclusion of a 1999 study by the U.S. government, prompting Surgeon General David Satcher to say, \"We clearly associate media violence to aggressive behavior. But the impact was very small compared to other things. Some may not be happy with that, but that’s where the science is.\"[REF] A meta-analysis by psychologist Jonathan Freedman, who reviewed over 200 published studies and found that the \"vast and overwhelming majority\" did not find a causal link, also reached this conclusion [REF]. A US Secret Service study found that only 12% of those involved in school shootings were attracted to violent video games, while 24% read violent books and 27% were attracted to violent films [REF]. An Australian study found that only children already predisposed to violence were affected by violent games [REF]. A recent long-term outcome study of youth found no long-term relationship between playing violent video game and youth violence or bullying [REF] . \\n\\nA recent longitudinal study of youth in Germany found that aggressive children tend to select more violent video games, not the inverse. This study found no evidence violent games are psychologically harmful to minors. The authors further speculated other studies may have found spurious effects due to focusing on youth self-report of aggression rather than reports by parents or teachers, the so called \"single responder bias\" [REF]. \\n\\nIn Grand Theft Childhood: The Surprising Truth About Violent Video Games and What Parents Can Do, researchers/authors Lawrence Kutner, PhD, and Cheryl K. Olson, ScD, refute claims of violent behavior increase caused by violent video games. The researchers\\' study shows that adolescents that don\\'t play video games at all are most at-risk for violent behavior (but without statistical significance), claiming that video game play is part of an adolescent boy\\'s normal social setting. However, they do not completely deny violent (M-rated) video games\\' negative influences on pre-teens and teenagers [REF]. Kutner and Olson say the views of both alarmists and the video game industry are often supported by flawed or misconstrued studies. The real risks according to them are not just about exposure to violence, gore and sex but are more subtle with some children at greater risk than others [REF]. \\n\\nOfficial records show that violent crime rates have declined dramatically since the early 1990s in the USA, among both juveniles[REF] and adults [REF]. This is despite sales of violent video games exploding and their content becoming increasingly graphic during the same period [REF]. [REF]Video game violence is not the primary contributor to societal violence, however, as there are many other factors at play [REF]. \\n\\nAccording to media scholar Henry Jenkins: .\\n\\nFears have been expressed about exposure to violent video games. For example, politicians and other people and organizations have considered video games effects on society, where the causative factor was not clear, \"there has been some fears specially from UK news service that hijackers may have used flight simulator software to practice flying jet planes, also, Beam Breakers removed all references to the World Trade Center already used in the game 1\" [REF].\\n\\nSome researchers believe that while playing violent video games leads to violent actions, there are also biological influences that impact a person\\'s choices. According to Sean P. Neubert of Rochester Institute of Technology, a person who is biologically predisposed to aggression will be more strongly influenced by violent scenes and thus will have a greater risk for carrying out destructive actions. For example someone with antisocial personality disorder has a greater risk of going out and shooting someone after playing hours of Grand Theft Auto or a game of a similar nature [REF]. \\n\\nOther biological theories of aggression and violence have specifically excluded video game and other media effects. For instance the Catalyst Model proposed by Ferguson and Beaver [REF] specifically exclude media violence as a contributor to violence, arguing research evidence for such effects have been weak, and media violence is too distal a factor to have much influence.\\n\\nSexual themes in video games are much less tolerated in the US than violent themes; the most well-known example of this is the Hot Coffee controversy. In June 2005, an entire portion of unused code was found within the main script of Grand Theft Auto: San Andreas, allowing the player to simulate sex with the main character\\'s girlfriends. The game could be accessed in the PC version via a mod, and through Action Replay codes in the PS2 and Xbox versions [REF]. The fact that the scene was left on the disc, and could be accessed by altering a few bytes of the game\\'s code via a hex editor, prompted the Entertainment Software Rating Board (ESRB) to change the rating of San Andreas to \"Adults Only\" on July 20, 2005. The game was pulled from many stores; Rockstar Games posted a loss of $28.8 million that quarter [REF]. The most controversial video game of this nature was Rapelay, a game revolving around rape. Worldwide public campaigns against it led to the game being banned [REF].\\n\\nAlmost no North American video games display full frontal nudity. Sexual themes are more common in Japanese PC games, but console companies such as Microsoft, Nintendo and Sony do not license adult-only content games for their systems.\\n\\nBias of gender exists in games. Terry Flew writes that generally representations of gender in digital games are stereotyped. In many games, male characters are portrayed as hard bodied, muscled men, and female characters are portrayed as soft bodied, nearly naked women with large breasts. In addition, Flew also believes that female characters in games are usually portrayed in a narrowly stereotypical manner. Females are usually constructed as visual objects who wait for male rescue and need to be protected, whereas men are portrayed with more power. Such depiction of females in games reflects underlying social ideas of dominance of male over female and themes of masculinity. Although not all video games contain such stereotypes, there are enough to make it a general trait. Ultimately, Flew ends with the statement of the broad demographic\\'s excessive demands, in that \\'..different genders have different gaming.\\'[REF] . \\n\\nHowever, some video games do not conform to traditional gender roles such as the male being dominant and the female being submissive. One such example would be the protagonist Lara Croft in the Tomb Raider video game series, who is presented as a beautiful, clever, athletic, and brave English archaeologist-adventurer. Lara Croft has achieved popularity with both males and females as an action heroine, although depending on what feminist perspective is applied she can either represent \\'a positive role model for young girls\\' or a \\'combination of eye and thumb candy for the boys\\' [REF]. Recently the emergence of female gamers and developers in the industry has led to changes in video games to accommodate this demographic; where Lara Croft is concerned, this has led to games developer Eidos remodelling the character for Tomb Raider: Legend, so that the character has a more believable figure and less skimpy outfits so as not to offend female gamers [REF]. Although many video games emphasize a hypermasculine identity for male characters, this may in fact reflect current gender roles and stereotypes found in Western society; whereas, video games originating from Asia often include androgynous male characters, influenced by anime, with thinner bodies, softer faces, big eyes and long hair, such as the iconic characters of Sephiroth in Final Fantasy VII and Link in the Legend of Zelda. \\n\\nReinforcement of sexist stereotypes has also been claimed as an effect of violent video games [REF].\\n\\nLesbian, gay, bisexual, and transgender (LGBT) characters have been depicted in some video games since the 1980s. LGBT content has been subject to changing rules and regulations by game companies,[REF] which are generally examples of heterosexism in that heterosexuality is normalized while homosexuality is subject to additional censorship or ridicule [REF]. Sexual orientation and gender identity have served a significant role in some console and personal computer games, with the trend being toward greater visibility of LGBT identities, in special in Japanese popular culture[REF] and games marketed to LGBT consumers [REF].\\n\\nOver two hundred studies have been published which examine the effects of violence in entertainment media and which at least partially focus on violence in video games in particular. Some psychological studies[REF] have shown a correlation between children playing violent video games and suffering psychological effects, although many other studies find no such link causation. \\n\\nIn 2004 the American Psychological Association summarized the issue as \"Psychological research confirms that violent video games can increase children\\'s aggression, but that parents moderate the negative effects.\"[REF] A more recent press release by the APA in 2010 summarized recent research findings as \"Bad effects depend on certain personality traits; games can offer learning opportunities for others\" [REF]. Craig Anderson has conducted meta-analysis of previous studies and claimed they have demonstrated five effects: \"increased aggressive behavior, thoughts, and affect; increased physiological arousal; and decreased pro-social (helping) behavior\" [REF]. Nevertheless, other studies have explicitly denied that such a connection exists, most notably Anderson and Ford (1986), Winkel et al. (1987), Scott (1995), Ballard and Lineberger (1999), and Jonathan Freedman (2002) [REF]. More recently, Block and Crain (2007) claim that in a critical paper by Anderson (and his co-author, Bushman), data was improperly calculated and produced fallacious results [REF]. Other meta-analyses by other groups, such as by Ferguson and Kilburn (2009) and Sherry (2007) have repudiated any links between video game violence and aggression, as have recent reviews by the Australian Government (2010) and the US Supreme Court (June, 2011). \\n\\nAfter conducting a two-year study of more than 1,200 Middle School children about their attitudes towards video games, Harvard Medical School researchers Lawrence Kutner and Cheryl Olson found that playing video games did not have a particularly negative effect on the researched group [REF]. \\n\\nThe portrayal of race in video games has also recently become an issue, seen in games such as the Grand Theft Auto series, 50 Cent: Bulletproof, and Def Jam: Fight for NY. In 2009, the issue of race emerged with the release of Resident Evil 5, which has the player kill numerous African enemies, resulting in arguments from both sides of the issue. Supporters of Resident Evil 5 argued however that to censor the portrayal of black antagonists was discrimination in itself [REF]. A similar outrage also occurred when it was revealed that \"Left 4 Dead 2\", set in New Orleans, would include African-American zombies. These and other games demonstrate an interesting trend towards the increased presence of racial differences in video games. Indeed, it is true that “Significantly, these games, and particularly their questionable claims of authenticity, establish compelling learning environments that help facilitate how young gamers develop their knowledge of and familiarity with popular views of race and urban culture.”[REF] .\\n\\nVideo game addiction is excessive or compulsive use of computer and video games that interferes with daily life. Instances have been reported in which users play compulsively, isolating themselves from family and friends or from other forms of social contact, and focus almost entirely on in-game achievements rather than broader life events [REF]. The first video game to attract political controversy for its \"addictive properties\" was the 1978 arcade game Space Invaders [REF].\\n\\nSeveral incidents speculated to be related to video games in recent decades have helped fuel controversy. \\n\\nOn November 22, 1997, thirteen-year-old Noah Wilson died when his friend Yancy stabbed him in the chest with a kitchen knife. The mother of Noah, Andrea Wilson, alleged that her son was stabbed to death because of an obsession with the Midway game Mortal Kombat. She alleged that Yancy S. was so obsessed with the game that he believed himself to be the character Cyrax. This character purportedly uses a finishing move which involves getting the opponent in a headlock and stabbing them in the chest. Although Wilson alleged that this was the reason for her son\\'s death, the character Cyrax does not actually perform this move at all. The conclusion of Wilson v. Midway Games, Inc. was, according to the court case report, \"Wilson\\'s complaint fails to state a claim upon which relief can be granted.\"[REF]\\nOn April 20, 1999, 18-year-old Eric Harris and 17-year-old Dylan Klebold killed 12 students and a teacher in the Columbine High School massacre. The two were allegedly obsessed with the video game Doom. Harris also created WADs for the game, and created a large mod named \"Tier\" which he called his \"life\\'s work\". Contrary to certain rumors, however, neither student had made a Doom level mimicking the school\\'s layout, and there is no evidence the pair practiced the massacre in Doom [REF].\\nIn April 2000, 16-year-old Spanish teenager José Rabadán Pardo murdered his father, mother and his sister with a katana, proclaiming that he was on an \"avenging mission\" by Squall Leonhart, the main character of the video game Final Fantasy VIII [REF].\\nIn November 2001, 21-year-old American Shawn Woolley committed suicide after what his mother claimed was an addiction to EverQuest. Woolley\\'s mother stated, \"I think the way the game is written is that when you first start playing it, it is fun, and you make great accomplishments. And then the further you get into it, the higher level you get, the longer you have to stay on it to move onward, and then it isn\\'t fun anymore. But by then you\\'re addicted, and you can\\'t leave it.\"[REF]\\nIn February 2003, 16-year-old American Dustin Lynch was charged with aggravated murder and made an insanity defense that he was \"obsessed\" with Grand Theft Auto III. Long time video game opponent and former attorney Jack Thompson encouraged the father of victim JoLynn Mishne to pass a note to the judge that said \"the attorneys had better tell the jury about the violent video game that trained this kid [and] showed him how to kill our daughter, JoLynn. If they don\\'t, I will.\"[REF] Lynch later retracted his insanity plea, and his mother Jerrilyn Thomas commented, \"It has nothing to do with video games or Paxil, and my son\\'s no murderer.\"[REF]\\nOn June 7, 2003, 18-year-old American Devin Moore shot and killed two policemen and a dispatcher after grabbing one of the officers\\' weapons following an arrest for the possession of a stolen vehicle. At trial, the defense claimed that Moore had been inspired by the video game Grand Theft Auto: Vice City [REF].\\nOn June 25, 2003, two American step brothers, Joshua and William Buckner, aged 14 and 16, respectively, used a rifle to fire at vehicles on Interstate 40 in Tennessee, killing a 45-year-old man and wounding a 19-year-old woman. The two shooters told investigators they had been inspired by Grand Theft Auto III [REF].\\nOn February 27, 2004 in Leicester, UK, 17-year-old Warren Leblanc lured 14-year-old Stefan Pakeerah into a park and murdered him by stabbing him repeatedly with a claw hammer and knife. Leblanc was reportedly obsessed with Manhunt, although investigation quickly revealed that the killer did not even own a copy of the game. The victim\\'s mother Giselle Pakeerah has been campaigning against violent video games in the UK ever since [REF]. The police investigating the case have dismissed any link, as discussed in the relevant articles [REF].\\nIn October 2004, a 41-year-old Chinese man named Qiu Chengwei stabbed 26-year-old Zhu Caoyuan to death over a dispute regarding the sale of a virtual weapon the two had jointly won in the game The Legend of Mir 3 [REF].\\nOn December 27, 2004, 13-year-old Xiao Yi committed suicide by jumping from a twenty-four story building in Tianjin, China, as a result of the effects of his addiction, hoping to be \"reunited\" with his fellow gamers in the afterlife, according to his suicide notes. Prior to his death, he had spent 36 consecutive hours playing Warcraft III [REF].\\nIn August 2005, 28-year-old South Korean Lee Seung Seop died after playing StarCraft for 50 hours straight [REF].\\nIn June 2007, 22-year-old Alejandro Garcia from Texas shot dead his cousin after arguing over whose turn it was to play the game Scarface: The World Is Yours. He pleaded guilty for murder at his trial on April 6, 2011, and will serve 15 to 30 years in prison [REF].\\nIn September 2007, a Chinese man in Guangzhou, China, died after playing Internet video games for three consecutive days in an Internet cafe [REF].\\nIn September 2007 in Ohio, 16-year-old Daniel Petric snuck out of his bedroom window to purchase the game Halo 3 against the orders of his father, a minister at New Life Assembly of God in Wellington, Ohio, U.S [REF]. His parents eventually banned him from the game after he spent up to 18 hours a day with it, and secured it in a lockbox in a closet where the father also kept a 9mm handgun, according to prosecutors [REF]. In October 2007, Daniel used his father\\'s key to open the lockbox and remove the gun and the game. He then entered the living room of his house and shot both of them in the head, killing his mother and wounding his father. Petric is sentenced to life in prison without parole, which was later commuted to 23 years in imprisonment [REF]. Defense attorneys argued that Petric was influenced by video game addiction, the court dismissed these claims. The judge, James Burge commented that while he thought there was ample evidence the boy knew what he was doing, Burge thought the game had affected him like a drug, saying \"I firmly believe that Daniel Petric had no idea at the time he hatched this plot that if he killed his parents they would be dead forever.\"[REF]\\nIn December 2007, 17-year-old Lamar Roberts and 16-year-old Heather Trujillo were accused of beating a seven-year-old girl to death. They are said to have been imitating the moves taken from the game \"Mortal Kombat\" [REF].\\nIn December 2007, a Russian man was beaten to death over an argument in the MMORPG Lineage II. The man was killed when his guild and a rival one challenged each other to a real-life brawl [REF].\\nFalse reports initially claimed that Seung-Hui Cho, the killer in the 2007 Virginia Tech massacre was an avid Counter-Strike player. However, police reports said that roommates of Cho had never seen him play any video games [REF]. Despite these discoveries, disbarred attorney Jack Thompson continued to erroneously claim that video games were to blame. \\nIn June 2008, four teens allegedly obsessed with Grand Theft Auto IV went on a crime spree after being in New Hyde Park, New York. They first robbed a man, knocking his teeth out and then they stopped a woman driving a black BMW and stole her car and her cigarettes [REF].\\nOn August 2, 2008, Polwat Chinno, a 19-year-old Thai teenager, stabbed a Bangkok taxi driver to death during an attempt to steal the driver\\'s cab in order to obtain money to buy a copy of Grand Theft Auto IV. A police official said that the teen was trying to copy a similar act in the game. As a consequence, officials ordered the banning of the game itself and later the series, which led its distributor, New Era Interactive Media, to withdraw it, including the aforementioned, then-upcoming installment, from shops across Thailand [REF].\\nOn October 13, 2008, the disappearance of Brandon Crisp and his subsequent death involving, according to his parents, obsessive playing of Call of Duty 4: Modern Warfare has been referenced in discussions about video game obsession and spawned a report aired by CBC\\'s the fifth estate on video game addiction and Brandon\\'s story titled \"Top Gun\", subtitled \"When a video gaming obsession turns to addiction and tragedy\" [REF].\\nIn January 2010, 9-year-old Anthony Maldonado was stabbed by relative Alejandro Morales after an argument regarding Maldonado\\'s recently purchased copy of Tony Hawk: Ride and PlayStation 3 console [REF].\\nIn January 2010, Gary Alcock punched, slapped and pinched his partner\\'s 15-month-old daughter in the three weeks leading up to her death before he delivered a fatal blow to the stomach which tore her internal organs because she interrupted him playing his Xbox. She died from internal bleeding after suffering 35 separate injuries including multiple bruises, rib fractures and brain damage, which were comparable to injuries suffered in a car crash. Alcock was jailed for life and must serve at least 21 years [REF].\\nIn May 2010, French gamer Julien Barreaux located and stabbed a fellow player who had stabbed Barreaux on the game Counter-Strike. The judge at his trial called him \"a menace to society.\"[REF]\\nOn November 29, 2010 in South Philadelphia, Pennsylvania, 16-year-old boy Kendall Anderson bludgeoned his mother to death in her sleep with a claw hammer after she took away his PlayStation [REF].\\nOn April 9, 2011 in Alphen Aan Den Rijn, The Netherlands, 24-year-old Tristan van der Vlis opened fire in a shopping mall, releasing more than a hundred bullets with a semi-automatic rifle and a handgun, killing 6 people and wounding 17 others, after which he also killed himself [REF]. A fair amount of attention was given to the fact that Van Der Vlis had been playing Call of Duty: Modern Warfare 2 and to the alleged similarities between the events in Alphen a/d Rijn and the controversial \"No Russian\" mission in the game (also known as the \\'Airport Massacre\\') where the player can choose to (or choose not to) partake in the killing of a large group of innocent people inside an airport terminal [REF].\\n\\nSeveral theoretical approaches have been applied to potential video game violence effects (or lack of effects). These models compete, attempting to explain how video games may or may not have effects on players. \\n\\nFor example the Catalyst Model of aggression comes from a diathesis-stress perspective, implying that aggression is due to a combination of genetic risk and environmental strain [REF]. The Catalyst Model suggests that stress, coupled with antisocial personalities is most salient in the creation of aggression. The Catalyst Model does allow that proximal influences such as family or peers may influence aggressiveness. However the Catalyst Model specifically states that media influences are too weak and distant to have much influence. \\n\\nThe General Aggression Model (GAM) models video games as having an influence on people, proposing that a participant\\'s thoughts, feelings and physical arousal can be affected by simulated violence. The GAM asserts this creates an effect on an individual\\'s interpretation of an aggressive or violent act [REF]. \\n\\nThe GAM claims that video games have both short- and long-term effects. In the short-term the aggressive cognitions, affects and arousal are posited to increase while long-term effects are asserted to be possible, but not yet accurately determined. Anderson and Bushman claim violent video games promote violent behavior, attitudes and beliefs by desensitizing an individual to aggression.\\n\\nIn response to concerns about video games, governments around the globe have enacted or attempted to enact legislation regulating, prohibiting, or outright banning video games. Similarly, support for video game and media regulation has been linked to moral panic [REF]. To that end, different video game content rating systems have been introduced across the globe. \\n\\nPsychology professor Chris Ferguson discusses in an interview how these myths are perpetuated. When asked to describe the nature of how negative propaganda is spread by activist against video games, Ferguson explained that many respected academics and elected officials develop apprehension towards the media in question and formulate disproportionate accusations of harm. Those claims are out in the public when expert evidence proves them to be invalid, making it difficult to withdraw from such allegations. Possible motivations for why activist claims are not retracted are “…there are certain financial incentives and political incentives. It’s hard to get grant money arguing that something *isn’t* a problem…and some scholars take money from anti-media lobbying groups. Politically scholars to support a government mandated censorship regimen naturally intend to be in charge of that regimen themselves”. Ferguson adds that present research on violence in video games confirms no valid link, “The best studies now coming out — those which take care to use well-validated clinical outcome measures and which carefully control for other important risk factors — provide no support for the belief that VVG contributes to youth violence”[REF] . \\n\\nVoluntary rating systems adopted by the video game industry, such as the ESRB rating system in the United States and Canada, as well as the Pan European Game Information (PEGI) rating system in Europe, that are aimed at informing parents about the types of games their children are playing (or are asking to play). Certain game publishers’ decision to have controversial games rated seems to show that they are not targeted at young children. They are rated by the ESRB as \"Mature\" (M) or \"Adults Only\" (AO) in the US, or given British Board of Film Classification (BBFC) ratings of 15 or 18 in the UK. The packaging notes that these games should not be sold to children. In the US, ESRB ratings are not legally binding, but many retailers take it upon themselves to refuse the sale of these games to minors. In the United Kingdom (UK), the BBFC ratings are backed up by law, so it is actually illegal to sell the game to anyone under the indicated age, and many UK retailers go beyond that and also enforce the PEGI ratings, which are not backed up by law. No video game console manufacturer has yet to allow any game to be published in North America with the harshest ESRB rating, \"Adults Only\", signaling that the game is only appropriate for ages 18 years and up. Additionally, no major retailers are willing to set aside shelf space for AO-rated games. Although Grand Theft Auto San Andreas was given a rating of AO after widespread surfacing of an add-on originally deleted from the game, \"Hot Coffee,\" in which the player controls a fully clothed sexual encounter. It was later fully removed and the game retained the M rating. GTA San Andreas is the best selling game to ever receive the AO rating. \\n\\nThe sales of M- and AO-rated games to minors has been an issue of much concern to parent groups and public officials, and bills have been submitted to government agencies, including the Video Games Ratings Enforcement Act introduced to the US House of Representatives in both the 109th Congress and 110th Congress. The proposed legislation would require an ID check for M- and AO-rated game purchases. The bill was not passed into law, and other proposed bills were stopped[REF] because of First Amendment violations. \\n\\nAlthough no law mandates ID checking for games with adult content, a 2008 secret shopper survey done by the Federal Trade Commission shows that video game retailers have voluntarily increased ID verification for M- and AO-rated games, and sales of those games to underage potential buyers have been reduced from 83% in 2000 to only 20% in 2008. \\n\\nIn April 2011, the Federal Trade Commission undercover shopper survey found that video game retailers continue to enforce the ratings by allowing only 13% of underage teenage shoppers to buy M-rated video games, a statistically significant improvement from the 20% purchase rate in 2009 [REF]. By contrast, underage shoppers purchased R-rated movies 38% of the time, and unrated movies 47% of the time [REF]. \\n\\nOn January 7, 2009, Representative Joe Baca of California’s 43rd District introduced H.R. 231, the Video Game Health Labelling Act. This bill called for labels to be placed in a “clear and conspicuous location on the packaging” which states “WARNING: Excessive exposure to violent video games and other violent media has been linked to aggressive behaviour.” The proposed legislation mandated that all video games with an ESRB rating of T (Teen) or higher be subjected to the compulsory labelling [REF]. The press release accompanying the introduction of the bill referred to scientific studies from the Pediatrics Journal, Indiana University, University of Missouri and Michigan State University which pointed to a “neurological link between playing violent video games and aggressive behaviour in children and teenagers.”[REF] The proposed legislation was referred on to the Subcommittee on Commerce, Trade and Consumer Protection. On January 24, 2011; Rep. Joe Baca reintroduced the Video Game Health Labelling Act as H.R. 400 of the 112th Congress [REF]. The bill was once again passed onto the Subcommittee. \\n\\nOn June 27, 2011, the Supreme Court of the United States ruled on Brown v. Entertainment Merchants Association, cited video games as protected speech under the First Amendment. The case centered on a California law that sought to restrict sales of violent video games to minors. The video game industry, led by the Entertainment Merchants Association and the Entertainment Software Association successfully obtained an injunction on the bill, believing that definition of violence defined by the California law was too vague and would not treat video games as protected speech. This opinion was upheld in lower courts, and supported by the Supreme Court\\'s decision. In the decision, the Court determined that there was no direct link between violent video games and their influence on children, in as much as compared to other types of media like television and pictures, and that they could not create a new class of restricted speech that is not applied to other forms of media [REF].\\n\\nNumerous researchers have proposed potential positive effects of video games on aspects of social and cognitive development and psychological well-being [REF]. It has been shown that action video game players have better hand-eye coordination and visuo-motor skills, such as their resistance to distraction, their sensitivity to information in the peripheral vision and their ability to count briefly presented objects, than non-players [REF].\\nVideo games also develop the individual\\'s intelligence, and in social games develop the social capabilities of the individual. \\n\\nAnother way in which the usage of video games might provide a benefit is in the relief of stress. There is a study being conducted by Dr.Cheryl Olson and her team at Massachusetts General Hospital’s (MGH) Center for Mental Health and Media and Harvard to prove that violent games help students deal with stress and aggression. She has found that over 49% of boys and 25% of girls use violent games such as Grand Theft Auto IV as an outlet for their anger. Dr. Olson has come to the conclusion that violent games affect students positively and not negatively because the violent crime rate is going down while the popularity of M-rated video games has increased. She suggests that instead of stopping children from playing M-rated games completely, parents should just monitor how much time their children spend playing games; parents should take responsibility. \\n[REF] . \\n\\nSeveral studies have explored the possible benefits of multiplayer video games in a family setting. The most recent study found that girls 11-16 who played video games with their parents had better mental health and less aggressive behavior, with a stronger connection if they played age-appropriate games [REF]. \\n\\nMany studies have been done on gaming and its integration into the classroom in order to support the educator. \"The use of gaming has the ability to actively involve students in learning.\"[REF] On-line gaming is especially important in helping students build collaborative skills while completing given tasks. \\n\\nTo date, video game training appears to be one of the more interesting and promising means to improve perceptual, attentional, and cognitive abilities. One of its promises is that, compared to traditional training, it can be engaging and entertaining. This has led some companies to begin to market video games for the specific purpose of improving cognition. For example, Nintendo advertises \"Big Brain Academy\" as a game that \"trains your brain with a course load of mind-bending activities across five categories: think, memorize, analyze, compute, and identify\" [REF]. \\n\\nIt enables players to explore various aspects of their identity in a virtual world [REF]. \\n\\nJournalist and author, David Sheff, believes that many skills can be learned from the gaming experience, it builds practical and intellectual skills, \"by playing video games children gain problem solving abilities, perseverance, pattern recognition, hypothesis testing, estimating skills, inductive skills, resources management, logistics mapping, memory, quick thinking and reasonable judgements\" [REF]. \\n\\nResearch at University of Rochester suggest that playing video games that contain high levels of action can improve eyesight [REF]. \\n\\nMany authors disagree with the notion that suggests that the media can cause violence, they propose media cannot cause violence because humans have the ability to recognize what is wrong, and what is right. They suggest people are not going to mistake fiction for reality. Some people who criticize the proposed negative effects based their research are Terry Flew, Sal Humphreys, Martin Barker and Jonathan Freedman. \\n[REF][REF][REF] . \\n\\nJ.C. Herz argued that many so-called negative effects of video games, such as aggression and lack of pro-social behavior, are both necessary and useful traits to have in a capitalistic society. Specifically, Herz argued that many academic researchers have an anti-capitalist bias, and thus failed to notice the benefits of such traits [REF]. \\n\\nSome authors also suggest that video games have many healthy and positive aspects, for example they can be a safe outlet for aggression and frustration [REF].'"
            ]
          },
          "metadata": {},
          "execution_count": 20
        }
      ]
    },
    {
      "cell_type": "code",
      "metadata": {
        "id": "eP1LDZGfwbl7"
      },
      "source": [
        "# Get the sorted list of the indicators of the articles used. \n",
        "articles_used=sorted(list(set(argumentative_dataframe['article_id'])))"
      ],
      "execution_count": null,
      "outputs": []
    },
    {
      "cell_type": "code",
      "metadata": {
        "id": "h9lLxTzR0yMS",
        "colab": {
          "base_uri": "https://localhost:8080/"
        },
        "outputId": "f0e0d432-852d-41f2-cdf4-dae7a3c71089"
      },
      "source": [
        "len(articles_used)"
      ],
      "execution_count": null,
      "outputs": [
        {
          "output_type": "execute_result",
          "data": {
            "text/plain": [
              "513"
            ]
          },
          "metadata": {},
          "execution_count": 22
        }
      ]
    },
    {
      "cell_type": "code",
      "metadata": {
        "id": "o1Z2qoDVwzv6",
        "colab": {
          "base_uri": "https://localhost:8080/"
        },
        "outputId": "786e9308-ba2b-4eca-a979-9f7a7e716a98"
      },
      "source": [
        "articles_used[:5]"
      ],
      "execution_count": null,
      "outputs": [
        {
          "output_type": "execute_result",
          "data": {
            "text/plain": [
              "[0, 3, 19, 21, 32]"
            ]
          },
          "metadata": {},
          "execution_count": 23
        }
      ]
    },
    {
      "cell_type": "code",
      "metadata": {
        "id": "EUJcLRaDPcbh"
      },
      "source": [
        "# Get the start and finish points of each argumentative section of each of the text.\n",
        "# Also get the type of each argumentative section.\n",
        "# This points are indicated in the \"start\" and \"end\" coloumns of the Dataframe \n",
        "# created containing both types of argumentative sentences (argumentative_dataframe).\n",
        "\n",
        "sorted_span=[sorted(list(argumentative_dataframe.loc[argumentative_dataframe['article_id'] == article,['start','end','type']].values), key=lambda element: element[0] ) for article in articles_used]"
      ],
      "execution_count": null,
      "outputs": []
    },
    {
      "cell_type": "code",
      "metadata": {
        "id": "hdWHb_MOv4MY",
        "colab": {
          "base_uri": "https://localhost:8080/"
        },
        "outputId": "7b294601-ba8e-4653-cea6-cde61f752552"
      },
      "source": [
        "len(sorted_span)"
      ],
      "execution_count": null,
      "outputs": [
        {
          "output_type": "execute_result",
          "data": {
            "text/plain": [
              "513"
            ]
          },
          "metadata": {},
          "execution_count": 25
        }
      ]
    },
    {
      "cell_type": "code",
      "metadata": {
        "id": "7di30v0t1FAZ",
        "colab": {
          "base_uri": "https://localhost:8080/"
        },
        "outputId": "bdb118f3-8fa4-48e1-ecb4-474383b2d161"
      },
      "source": [
        "sorted_span[0][0:10]"
      ],
      "execution_count": null,
      "outputs": [
        {
          "output_type": "execute_result",
          "data": {
            "text/plain": [
              "[array([394, 568, 'premise'], dtype=object),\n",
              " array([394, 670, 'premise'], dtype=object),\n",
              " array([394, 568, 'premise'], dtype=object),\n",
              " array([394, 670, 'premise'], dtype=object),\n",
              " array([394, 670, 'premise'], dtype=object),\n",
              " array([394, 568, 'premise'], dtype=object),\n",
              " array([394, 568, 'premise'], dtype=object),\n",
              " array([394, 568, 'premise'], dtype=object),\n",
              " array([394, 568, 'premise'], dtype=object),\n",
              " array([418, 568, 'claim'], dtype=object)]"
            ]
          },
          "metadata": {},
          "execution_count": 26
        }
      ]
    },
    {
      "cell_type": "code",
      "metadata": {
        "id": "QyHlsO3SQO3Y"
      },
      "source": [
        "# Join toghether all the argumentative section relating to the same section of \n",
        "# the text.\n",
        "\n",
        "non_repeated_argumentative=[]\n",
        "\n",
        "for article in sorted_span:\n",
        "  non_repeated=[]\n",
        "  start=article[0][0]\n",
        "  end=article[0][1]\n",
        "  for i in range(1,len(article)):\n",
        "    if end>article[i][0]:\n",
        "      start=min(start,article[i][0])\n",
        "      end=max(end,article[i][1])\n",
        "    else:\n",
        "      non_repeated.append([start,end])\n",
        "      start=article[i][0]\n",
        "      end=article[i][1]\n",
        "  non_repeated_argumentative.append(non_repeated)"
      ],
      "execution_count": null,
      "outputs": []
    },
    {
      "cell_type": "code",
      "metadata": {
        "id": "97lDG8_YTtuF",
        "colab": {
          "base_uri": "https://localhost:8080/"
        },
        "outputId": "d9495af1-9f24-4cec-c53d-913950cb9d1f"
      },
      "source": [
        "non_repeated_argumentative[0][0:20]"
      ],
      "execution_count": null,
      "outputs": [
        {
          "output_type": "execute_result",
          "data": {
            "text/plain": [
              "[[394, 670],\n",
              " [673, 907],\n",
              " [911, 1111],\n",
              " [1323, 1577],\n",
              " [2944, 3540],\n",
              " [3900, 3948],\n",
              " [3965, 4215],\n",
              " [4217, 4479],\n",
              " [5514, 5803],\n",
              " [6679, 7317],\n",
              " [7434, 7830],\n",
              " [7833, 8213],\n",
              " [8402, 8770],\n",
              " [8776, 9190],\n",
              " [9192, 9396],\n",
              " [9713, 9857],\n",
              " [9863, 10296],\n",
              " [10301, 10782],\n",
              " [11201, 11483],\n",
              " [12724, 13099]]"
            ]
          },
          "metadata": {},
          "execution_count": 28
        }
      ]
    },
    {
      "cell_type": "code",
      "metadata": {
        "id": "2MMmKDBmfAc2",
        "colab": {
          "base_uri": "https://localhost:8080/"
        },
        "outputId": "319cc9b3-24b4-4c13-999b-a0cb04d0c773"
      },
      "source": [
        "# Number of argumentative section remaining.\n",
        "sum([len(non_repeated) for non_repeated in non_repeated_argumentative])"
      ],
      "execution_count": null,
      "outputs": [
        {
          "output_type": "execute_result",
          "data": {
            "text/plain": [
              "2925"
            ]
          },
          "metadata": {},
          "execution_count": 29
        }
      ]
    },
    {
      "cell_type": "code",
      "metadata": {
        "id": "iC0vOkJ8r2ta"
      },
      "source": [
        "# Tranform the couples of points ((start,end) of each non-repeated section) \n",
        "# to a list (separator of different section).\n",
        "non_repeated_span_points=[]\n",
        "\n",
        "for i in range(len(non_repeated_argumentative)):\n",
        "  list_points=[]\n",
        "  for sect in non_repeated_argumentative[i]:\n",
        "    list_points.append(sect[0])\n",
        "    list_points.append(sect[1])\n",
        "  # Insert starting point of the text\n",
        "  list_points.insert(0,0)\n",
        "  list_points.append(len(articles_text[articles_used[i]]))\n",
        "  non_repeated_span_points.append(list_points)"
      ],
      "execution_count": null,
      "outputs": []
    },
    {
      "cell_type": "code",
      "metadata": {
        "id": "0-woJSt9sxSb",
        "colab": {
          "base_uri": "https://localhost:8080/"
        },
        "outputId": "3cac8395-ad9e-4769-c1ab-78d1e501e750"
      },
      "source": [
        "non_repeated_span_points[0][0:10]"
      ],
      "execution_count": null,
      "outputs": [
        {
          "output_type": "execute_result",
          "data": {
            "text/plain": [
              "[0, 394, 670, 673, 907, 911, 1111, 1323, 1577, 2944]"
            ]
          },
          "metadata": {},
          "execution_count": 31
        }
      ]
    },
    {
      "cell_type": "code",
      "metadata": {
        "id": "buU_p1hRQbPI"
      },
      "source": [
        "# Separate the texts at the point indicated for the different sections\n",
        "\n",
        "split_text=[]\n",
        "\n",
        "for z in range(len(articles_used)):\n",
        "  split_text.append([articles_text[articles_used[z]][i: j] for i, j in zip(non_repeated_span_points[z], non_repeated_span_points[z][1:])])"
      ],
      "execution_count": null,
      "outputs": []
    },
    {
      "cell_type": "code",
      "metadata": {
        "id": "G_YOWeYOQ_sR",
        "colab": {
          "base_uri": "https://localhost:8080/"
        },
        "outputId": "62126a66-eea8-475e-ff4d-c3a6850bd774"
      },
      "source": [
        "split_text[0][:10]"
      ],
      "execution_count": null,
      "outputs": [
        {
          "output_type": "execute_result",
          "data": {
            "text/plain": [
              "['. \\n\\nControversies over video games often center on topics such as video game graphic violence, sex and sexism, violent and gory scenes, partial or full nudity, portrayal of criminal behavior, racism, and other provocative and objectionable material. \\n\\nVideo games have been studied for links to addiction and aggression. Earlier meta-analyses (an analysis of several studies) were conflicting. ',\n",
              " 'A 2001 study found that exposure to violent video games causes at least a temporary increase in aggression and that this exposure correlates with aggression in the real world. A decrease in prosocial behavior (caring about the welfare and rights of others) was also noted [REF',\n",
              " ']. ',\n",
              " 'Another 2001 meta-analyses using similar methods[REF] and a more recent 2009 study focusing specifically on serious aggressive behavior[REF] concluded that video game violence is not related to serious aggressive behavior in real life',\n",
              " '. \\n\\n',\n",
              " 'Many potential positive effects have been proposed [REF]. Recent research has suggested that some violent video games may actually have a prosocial effect in some contexts, for example, team play [REF',\n",
              " ']. \\n\\nIt has been argued there is generally a lack of quality studies which can be relied upon and that the video game industry has become an easy target for the media to blame for many modern day problems [REF]. ',\n",
              " 'The most recent large scale meta-anlysis-- examining 130 studies with over 130,000 subjects worldwide-- concluded that exposure to violent video games causes both short term and long term aggression in players and decreases empathy and prosocial behavior',\n",
              " \". However, this meta-analysis was severely criticized in the same issue of the same journal for a number of methodological flaws, including failure to distinguish clinically valid from unstandardized aggression measures and for failing to solicit studies from researchers who have questioned whether causal links exist, thus biasing the sample of included studies [REF].\\n\\nThe Entertainment Software Association states that 20% of video game players are boys under the age of 17, 26% are over 50 (regardless of gender), and that the average game player is 37 [REF].\\nIn a survey of 1,102 teenagers aged 12 to 17, 97% of them said that they play video games; moreover, half of the survey respondents said that they had played a video game in the last day. Three-quarters of parents who were surveyed said that they check the ratings on their kid's games. However, half of the boys who were asked about their favorite game listed a game with an “M” or “AO” rating as their favorite, compared with 14% of girls [REF].\\nThe adult demographic is the fastest-growing segment of the American video games market with 32% of adults playing video games,[REF] although critics have suggested that such statistics are often used to deflect from the fact that almost all American children are exposed to video games [REF].\\n\\nAs of 2011, over 40% of players are female [REF]. However, \",\n",
              " 'a 1998 study conducted at the University of Central Florida found that of the 33 games sampled, 41% do not feature female characters, 28% portrayed women as sex objects, 21% depicted violence against women, and 30% did not represent the female population at all. Furthermore, characterizations of women tended to be stereotypical: highly sexualized (\"visions of beauty with large breasts and hips\"), dependent (\"victim or as the proverbial \\'Damsel in Distress\\'\"), opposed (\"evil or as obstacles to the goal of the game\"), and trivial (\"females depicted [..] in fairly non-significant roles\") [REF']"
            ]
          },
          "metadata": {},
          "execution_count": 33
        }
      ]
    },
    {
      "cell_type": "code",
      "metadata": {
        "id": "WcdfVoBUT5US"
      },
      "source": [
        "# Remove articles with less than 6 section between argumentative and non argumentative.\n",
        "not_remove=[i for i in range(len(split_text)) if len(split_text[i])>5]\n",
        "split_text=[split_text[i] for i in not_remove]\n",
        "non_repeated_argumentative=[non_repeated_argumentative[i] for i in not_remove]\n",
        "articles_used=[articles_used[i] for i in not_remove]"
      ],
      "execution_count": null,
      "outputs": []
    },
    {
      "cell_type": "code",
      "metadata": {
        "id": "D-8e0tfaWDt7",
        "colab": {
          "base_uri": "https://localhost:8080/"
        },
        "outputId": "7e5fcd09-4864-4e70-ace8-4c276627ed80"
      },
      "source": [
        "len(split_text)"
      ],
      "execution_count": null,
      "outputs": [
        {
          "output_type": "execute_result",
          "data": {
            "text/plain": [
              "271"
            ]
          },
          "metadata": {},
          "execution_count": 35
        }
      ]
    },
    {
      "cell_type": "code",
      "metadata": {
        "id": "9pCNsUL_RqMx"
      },
      "source": [
        "Y_IOB_Debater=[]\n",
        "X_article_word_list=[]\n",
        "\n",
        "for i in range(len(split_text)):\n",
        "  \n",
        "  IOB=[]\n",
        "  article_word_list=[]\n",
        "\n",
        "  # next_type is the next position still not considered in the list of argumentative sections of the essay examined.\n",
        "  next_type=0\n",
        "  \n",
        "  # Remove the \"[REF]\" and \"|-\" from the text.\n",
        "  texts=[re.sub(r\"\\[REF[\\]$]*\",\"\",text) for text in split_text[i]]\n",
        "  texts=[re.sub(r\"^\\]\",\"\",text) for text in texts]\n",
        "  texts=[re.sub(r\"|-\",\"\",text) for text in texts]\n",
        "\n",
        "  # Set boolean value next_token_is_argumentative to false.\n",
        "  # (first section is never argumentative, in case first sentence was argumentative\n",
        "  # a fake section as been added previously).\n",
        "  next_token_is_argumentative=False\n",
        "\n",
        "  for section in texts:\n",
        "\n",
        "    # Divide the text into token.\n",
        "    seq=nltk.word_tokenize(section.lower())\n",
        "\n",
        "    article_word_list+=seq\n",
        "\n",
        "    if next_token_is_argumentative:\n",
        "      IOB+=['B']\n",
        "      for token in range(len(seq)-1):\n",
        "        IOB+=['I']\n",
        "    else:\n",
        "      for token in range(len(seq)):\n",
        "        IOB+=['O']\n",
        "\n",
        "    # An argumentative section is followed by a non-argumentative section and vice-versa    \n",
        "    next_token_is_argumentative=not next_token_is_argumentative\n",
        "\n",
        "  Y_IOB_Debater.append(IOB)\n",
        "  X_article_word_list.append(article_word_list)"
      ],
      "execution_count": null,
      "outputs": []
    },
    {
      "cell_type": "code",
      "metadata": {
        "id": "S3eVzHcCMUoB",
        "colab": {
          "base_uri": "https://localhost:8080/"
        },
        "outputId": "f3084228-7eb9-476a-e097-0406019d9c9a"
      },
      "source": [
        "for i in range(80,100):\n",
        "  print(X_article_word_list[0][i]+\" - \"+Y_IOB_Debater[0][i])"
      ],
      "execution_count": null,
      "outputs": [
        {
          "output_type": "stream",
          "name": "stdout",
          "text": [
            "least - I\n",
            "a - I\n",
            "temporary - I\n",
            "increase - I\n",
            "in - I\n",
            "aggression - I\n",
            "and - I\n",
            "that - I\n",
            "this - I\n",
            "exposure - I\n",
            "correlates - I\n",
            "with - I\n",
            "aggression - I\n",
            "in - I\n",
            "the - I\n",
            "real - I\n",
            "world - I\n",
            ". - I\n",
            "a - I\n",
            "decrease - I\n"
          ]
        }
      ]
    },
    {
      "cell_type": "markdown",
      "metadata": {
        "id": "pov3Yk0pUbjm"
      },
      "source": [
        "## **List of all sentences**"
      ]
    },
    {
      "cell_type": "code",
      "metadata": {
        "id": "PFeGv40ujcWP"
      },
      "source": [
        "# Get the list of sententences of each artile.\n",
        "\n",
        "articles_sentence_list=[]\n",
        "\n",
        "for article_id in range(len(X_article_word_list)):\n",
        "  temp_article_sentence_list=[]\n",
        "  sentence=\"\"\n",
        "\n",
        "  for word_id in range(len(X_article_word_list[article_id])):\n",
        "    \n",
        "    word=X_article_word_list[article_id][word_id]\n",
        "\n",
        "    # Add to the sentence every word that is not a simple \\n or the end of the sentence (\".\").\n",
        "    if not ( word==\".\" ):\n",
        "      sentence+=word+\" \"\n",
        "          \n",
        "    # . is the end of the sentence.       \n",
        "    if word in [\".\",\"?\",\"!\"] and (not sentence==\"\"):\n",
        "      temp_article_sentence_list.append(sentence)\n",
        "      sentence=\"\"\n",
        "      \n",
        "  articles_sentence_list.append(temp_article_sentence_list)"
      ],
      "execution_count": null,
      "outputs": []
    },
    {
      "cell_type": "code",
      "metadata": {
        "id": "sQZh-MaHkOLY",
        "colab": {
          "base_uri": "https://localhost:8080/"
        },
        "outputId": "c38b2730-7ebf-43b9-f000-67918cd72006"
      },
      "source": [
        "articles_sentence_list[0][0:3]"
      ],
      "execution_count": null,
      "outputs": [
        {
          "output_type": "execute_result",
          "data": {
            "text/plain": [
              "['controversies over video games often center on topics such as video game graphic violence , sex and sexism , violent and gory scenes , partial or full nudity , portrayal of criminal behavior , racism , and other provocative and objectionable material ',\n",
              " 'video games have been studied for links to addiction and aggression ',\n",
              " 'earlier metaanalyses ( an analysis of several studies ) were conflicting ']"
            ]
          },
          "metadata": {},
          "execution_count": 39
        }
      ]
    },
    {
      "cell_type": "code",
      "metadata": {
        "id": "NQZZ9bsSc7w4"
      },
      "source": [
        "sentences_word_list=[[nltk.word_tokenize(sentence) for sentence in article] for article in articles_sentence_list]"
      ],
      "execution_count": null,
      "outputs": []
    },
    {
      "cell_type": "code",
      "metadata": {
        "id": "GWd7iEOZkyLH",
        "colab": {
          "base_uri": "https://localhost:8080/"
        },
        "outputId": "41b4a80b-9ced-489b-82de-9435f3546fcf"
      },
      "source": [
        "sentences_word_list[0][0][:10]"
      ],
      "execution_count": null,
      "outputs": [
        {
          "output_type": "execute_result",
          "data": {
            "text/plain": [
              "['controversies',\n",
              " 'over',\n",
              " 'video',\n",
              " 'games',\n",
              " 'often',\n",
              " 'center',\n",
              " 'on',\n",
              " 'topics',\n",
              " 'such',\n",
              " 'as']"
            ]
          },
          "metadata": {},
          "execution_count": 41
        }
      ]
    },
    {
      "cell_type": "code",
      "metadata": {
        "id": "4SdpaLUOkapq"
      },
      "source": [
        "# Remove articles with sections of more than 150 words.\n",
        "not_remove=[i for i in range(len(sentences_word_list)) if max([len(sentence) for sentence in sentences_word_list[i]])<=150]\n",
        "X_article_word_list=[X_article_word_list[i] for i in not_remove]\n",
        "Y_IOB_Debater=[Y_IOB_Debater[i] for i in not_remove]\n",
        "split_text=[split_text[i] for i in not_remove]\n",
        "non_repeated_argumentative=[non_repeated_argumentative[i] for i in not_remove]\n",
        "articles_used=[articles_used[i] for i in not_remove]"
      ],
      "execution_count": null,
      "outputs": []
    },
    {
      "cell_type": "code",
      "metadata": {
        "id": "29v1zyzpkjsW",
        "colab": {
          "base_uri": "https://localhost:8080/"
        },
        "outputId": "852f43fd-92e2-4a02-cf0f-7c9b551a1341"
      },
      "source": [
        "len(not_remove)"
      ],
      "execution_count": null,
      "outputs": [
        {
          "output_type": "execute_result",
          "data": {
            "text/plain": [
              "251"
            ]
          },
          "metadata": {},
          "execution_count": 43
        }
      ]
    },
    {
      "cell_type": "code",
      "metadata": {
        "id": "bCp19O1NQmmQ"
      },
      "source": [
        "# Sentence associated to each word contained in the corpus.\n",
        "# (to each word in a position is associated a sentence in the sentence list).\n",
        "Debater_sentence_of_word=[]\n",
        "num_total_sentences=0\n",
        "\n",
        "for article_id in range(len(X_article_word_list)):\n",
        "  Debater_sentence_words_article=[]\n",
        "  sentence=\"\"\n",
        "\n",
        "  for word_id in range(len(X_article_word_list[article_id])):\n",
        "    \n",
        "    word=X_article_word_list[article_id][word_id]\n",
        "\n",
        "    if not word==\".\":\n",
        "      sentence+=word+\" \"\n",
        "\n",
        "    Debater_sentence_words_article.append(num_total_sentences)  \n",
        "          \n",
        "    # . is the end of the sentence.       \n",
        "    if word in [\".\",\"?\",\"!\"] and (not sentence==\"\"):\n",
        "      num_total_sentences+=1\n",
        "\n",
        "      sentence=\"\"\n",
        "\n",
        "  if not sentence==\"\":\n",
        "    num_total_sentences+=1\n",
        "\n",
        "    sentence=\"\"         \n",
        "      \n",
        "  Debater_sentence_of_word.append(Debater_sentence_words_article)"
      ],
      "execution_count": null,
      "outputs": []
    },
    {
      "cell_type": "code",
      "metadata": {
        "id": "vbz3O6ciXRoy"
      },
      "source": [
        "# Remove articles with more of than 3000 words.\n",
        "not_remove=[i for i in range(len(X_article_word_list)) if len(X_article_word_list[i])<=3000]\n",
        "X_article_word_list=[X_article_word_list[i] for i in not_remove]\n",
        "Y_IOB_Debater=[Y_IOB_Debater[i] for i in not_remove]\n",
        "split_text=[split_text[i] for i in not_remove]\n",
        "non_repeated_argumentative=[non_repeated_argumentative[i] for i in not_remove]\n",
        "articles_used=[articles_used[i] for i in not_remove]\n",
        "Debater_sentence_of_word=[Debater_sentence_of_word[i] for i in not_remove]"
      ],
      "execution_count": null,
      "outputs": []
    },
    {
      "cell_type": "code",
      "metadata": {
        "id": "fmpZiOa-YAZF",
        "colab": {
          "base_uri": "https://localhost:8080/"
        },
        "outputId": "a7b4543a-3a42-49a2-950e-0711eda47cfa"
      },
      "source": [
        "len(not_remove)"
      ],
      "execution_count": null,
      "outputs": [
        {
          "output_type": "execute_result",
          "data": {
            "text/plain": [
              "92"
            ]
          },
          "metadata": {},
          "execution_count": 46
        }
      ]
    },
    {
      "cell_type": "markdown",
      "metadata": {
        "id": "yBnodfUMPq3k"
      },
      "source": [
        "## **POS tags**"
      ]
    },
    {
      "cell_type": "code",
      "metadata": {
        "id": "IAlsSsr4Ptk3"
      },
      "source": [
        "# Separate each essay in the list of POS TAG that compones them.\n",
        "POS_article_list=[nltk.pos_tag(article_word_sequence) for article_word_sequence in X_article_word_list]"
      ],
      "execution_count": null,
      "outputs": []
    },
    {
      "cell_type": "code",
      "metadata": {
        "id": "b1B7oaEIBhdl"
      },
      "source": [
        "# Get the list of the sentences as POS tag from the list of the\n",
        "# list of the POS tag of each sentence. \n",
        "def get_POS_text_list(POS_list: list)->list:\n",
        "  POS_all_text_list=[]\n",
        "  for POS_list in POS_list:\n",
        "    POS_single_text_list=[]\n",
        "    for word, tag in POS_list:\n",
        "      POS_single_text_list.append(tag)\n",
        "    POS_all_text_list.append(POS_single_text_list)    \n",
        "\n",
        "  return POS_all_text_list"
      ],
      "execution_count": null,
      "outputs": []
    },
    {
      "cell_type": "code",
      "metadata": {
        "id": "S4H8wjTKQquv"
      },
      "source": [
        "X_article_POS_list=get_POS_text_list(POS_article_list)"
      ],
      "execution_count": null,
      "outputs": []
    },
    {
      "cell_type": "code",
      "metadata": {
        "id": "7qKt43ISRAwb",
        "colab": {
          "base_uri": "https://localhost:8080/"
        },
        "outputId": "f4e66eec-a26c-4bd1-9231-e3b87f245a31"
      },
      "source": [
        "X_article_POS_list[0][0:10]"
      ],
      "execution_count": null,
      "outputs": [
        {
          "output_type": "execute_result",
          "data": {
            "text/plain": [
              "['NN', 'IN', 'NN', 'VBZ', 'DT', 'NN', 'IN', 'NN', 'CC', 'DT']"
            ]
          },
          "metadata": {},
          "execution_count": 50
        }
      ]
    },
    {
      "cell_type": "markdown",
      "metadata": {
        "id": "sITkfDk2fJsu"
      },
      "source": [
        "# **Simple POS tags**"
      ]
    },
    {
      "cell_type": "code",
      "metadata": {
        "id": "1DNEBkcyfJsv"
      },
      "source": [
        "# Create a version with the simplifyed version of the POS tag.\n",
        "\n",
        "simplified_POS_article_list=[]\n",
        "\n",
        "for POS_sentence in POS_article_list:\n",
        "  simplified_POS_article_list.append([(word, map_tag('en-ptb', 'universal', tag)) for word, tag in POS_sentence])"
      ],
      "execution_count": null,
      "outputs": []
    },
    {
      "cell_type": "code",
      "metadata": {
        "id": "Z_AalyocfJsx"
      },
      "source": [
        "X_article_simple_POS_list=get_POS_text_list(simplified_POS_article_list)"
      ],
      "execution_count": null,
      "outputs": []
    },
    {
      "cell_type": "code",
      "metadata": {
        "id": "aVHweOxdfJsx",
        "colab": {
          "base_uri": "https://localhost:8080/"
        },
        "outputId": "ae07a271-dbdc-4a52-ffcf-93caeec033db"
      },
      "source": [
        "X_article_simple_POS_list[0][0:10]"
      ],
      "execution_count": null,
      "outputs": [
        {
          "output_type": "execute_result",
          "data": {
            "text/plain": [
              "['NOUN', 'ADP', 'NOUN', 'VERB', 'DET', 'NOUN', 'ADP', 'NOUN', 'CONJ', 'DET']"
            ]
          },
          "metadata": {},
          "execution_count": 53
        }
      ]
    },
    {
      "cell_type": "markdown",
      "metadata": {
        "id": "kkzy6HcKc6Sz"
      },
      "source": [
        "# **Dependencies**"
      ]
    },
    {
      "cell_type": "code",
      "metadata": {
        "id": "ECgzObohtvEq"
      },
      "source": [
        "# Load the spacy engine:\n",
        "nlp = spacy.load('en_core_web_sm')"
      ],
      "execution_count": null,
      "outputs": []
    },
    {
      "cell_type": "code",
      "metadata": {
        "id": "5h0Sfe3ZdUj5"
      },
      "source": [
        "# Return the list of dependencies for each sentence in the list passed in input\n",
        "# and the maximum number of child and max depth of the ROOT(s) contained in the sentence.\n",
        "\n",
        "def dependencies_list(sentences_list: list)->list:\n",
        "  \n",
        "  sentence_dependency_list=[]\n",
        "\n",
        "  for sentences_doc in sentences_list:\n",
        "    doc_list=[]\n",
        "    for sentence in sentences_doc:\n",
        "      doc = nlp(sentence)\n",
        "      dependency_list=[]\n",
        "      for token in doc:\n",
        "        dependency_list.append(token.dep_)\n",
        "      doc_list+=dependency_list\n",
        "    sentence_dependency_list.append(doc_list)       \n",
        "\n",
        "  return sentence_dependency_list"
      ],
      "execution_count": null,
      "outputs": []
    },
    {
      "cell_type": "code",
      "metadata": {
        "id": "Q1DIIRiRu6Io"
      },
      "source": [
        "texts=[]\n",
        "for single_text in X_article_word_list:\n",
        "  sentences_texts=[]\n",
        "  text=\"\"\n",
        "  for word in single_text:\n",
        "    text+=word+\" \"\n",
        "    if word in [\".\",\"?\",\"!\"]:\n",
        "      sentences_texts.append(text)\n",
        "      text=\"\"\n",
        "\n",
        "  texts.append(sentences_texts)  "
      ],
      "execution_count": null,
      "outputs": []
    },
    {
      "cell_type": "code",
      "metadata": {
        "id": "9I6CFZ_WulEi"
      },
      "source": [
        "X_article_dependency_list=dependencies_list(texts)"
      ],
      "execution_count": null,
      "outputs": []
    },
    {
      "cell_type": "code",
      "metadata": {
        "id": "XGw0KOELvceJ",
        "colab": {
          "base_uri": "https://localhost:8080/"
        },
        "outputId": "d7010e0f-c6fc-4cf1-a13a-70c8ed0c3e22"
      },
      "source": [
        "X_article_dependency_list[0][:10]"
      ],
      "execution_count": null,
      "outputs": [
        {
          "output_type": "execute_result",
          "data": {
            "text/plain": [
              "['nsubj', 'prep', 'pobj', 'ROOT', 'det', 'attr', 'prep', 'pobj', 'cc', 'det']"
            ]
          },
          "metadata": {},
          "execution_count": 58
        }
      ]
    },
    {
      "cell_type": "markdown",
      "metadata": {
        "id": "-rngBpRoKWdj"
      },
      "source": [
        "# **Stab and Gurevych dataset**"
      ]
    },
    {
      "cell_type": "code",
      "metadata": {
        "id": "GMgahsgcrTws"
      },
      "source": [
        "# Function to extract zip file.\n",
        "# Takes in input the path to the zip file (path_zip) and the one to store the destination directory (path_destination).\n",
        "\n",
        "def extract_zip(path_zip,path_destination):\n",
        "  with zipfile.ZipFile(path_zip, 'r') as zip_ref:\n",
        "    zip_ref.extractall(path_destination)\n"
      ],
      "execution_count": null,
      "outputs": []
    },
    {
      "cell_type": "code",
      "metadata": {
        "id": "cE_5p8qap-Ib"
      },
      "source": [
        "# Extract zip file (two zip files one inside the other).\n",
        "\n",
        "extract_zip('ArgumentAnnotatedEssays-2.0.zip','ArgumentAnnotatedEssays-2.0')\n",
        "\n",
        "extract_zip('ArgumentAnnotatedEssays-2.0/ArgumentAnnotatedEssays-2.0/brat-project-final.zip','ArgumentAnnotatedEssays')"
      ],
      "execution_count": null,
      "outputs": []
    },
    {
      "cell_type": "markdown",
      "metadata": {
        "id": "OrsWTewaCnPf"
      },
      "source": [
        "## **Create the ann Dataframe**"
      ]
    },
    {
      "cell_type": "code",
      "metadata": {
        "id": "rdAvNRWA08Sg"
      },
      "source": [
        "# Extract the list of text files of the essays in the dataset.\n",
        "txt_files = sorted(glob.glob(\"ArgumentAnnotatedEssays/brat-project-final/essay*.txt\"))\n",
        "\n",
        "# Extract the list of text files of the essays in the dataset.\n",
        "ann_files = sorted(glob.glob(\"ArgumentAnnotatedEssays/brat-project-final/essay*.ann\"))"
      ],
      "execution_count": null,
      "outputs": []
    },
    {
      "cell_type": "code",
      "metadata": {
        "id": "s1yFSufe1iFC",
        "colab": {
          "base_uri": "https://localhost:8080/"
        },
        "outputId": "7d4d69bb-440c-480a-99dc-617144c09bce"
      },
      "source": [
        "# List of text files of the essays.\n",
        "txt_files[0:5]"
      ],
      "execution_count": null,
      "outputs": [
        {
          "output_type": "execute_result",
          "data": {
            "text/plain": [
              "['ArgumentAnnotatedEssays/brat-project-final/essay001.txt',\n",
              " 'ArgumentAnnotatedEssays/brat-project-final/essay002.txt',\n",
              " 'ArgumentAnnotatedEssays/brat-project-final/essay003.txt',\n",
              " 'ArgumentAnnotatedEssays/brat-project-final/essay004.txt',\n",
              " 'ArgumentAnnotatedEssays/brat-project-final/essay005.txt']"
            ]
          },
          "metadata": {},
          "execution_count": 62
        }
      ]
    },
    {
      "cell_type": "code",
      "metadata": {
        "id": "8yoE-YHW1ykn",
        "colab": {
          "base_uri": "https://localhost:8080/"
        },
        "outputId": "b0e812ff-e280-4fc9-dc1c-8df9c009f196"
      },
      "source": [
        "# List of the annotated files of the essays.\n",
        "ann_files[0:5]"
      ],
      "execution_count": null,
      "outputs": [
        {
          "output_type": "execute_result",
          "data": {
            "text/plain": [
              "['ArgumentAnnotatedEssays/brat-project-final/essay001.ann',\n",
              " 'ArgumentAnnotatedEssays/brat-project-final/essay002.ann',\n",
              " 'ArgumentAnnotatedEssays/brat-project-final/essay003.ann',\n",
              " 'ArgumentAnnotatedEssays/brat-project-final/essay004.ann',\n",
              " 'ArgumentAnnotatedEssays/brat-project-final/essay005.ann']"
            ]
          },
          "metadata": {},
          "execution_count": 63
        }
      ]
    },
    {
      "cell_type": "code",
      "metadata": {
        "id": "SJtZWteKCka4"
      },
      "source": [
        "# Transfor the ann files into four dictionaries\n",
        "ann_disctionaries=[get_entities_relations_attributes_groups(file) for file in ann_files]\n",
        "\n",
        "# Transform the first dictionary (entities) obtained from each ann file into a dataset\n",
        "essay_ann_datasets = [pd.DataFrame.from_dict(entities, orient='index') for entities,_,_,_ in ann_disctionaries]\n",
        "\n",
        "# Add a coloumn into the dataset that identifies the document\n",
        "for i in range(len(essay_ann_datasets)):\n",
        "  essay_ann_datasets[i].insert(0,'doc_id',i)\n",
        "\n",
        "# Create a common dataset\n",
        "Essay_ann_dataset = pd.concat(essay_ann_datasets)"
      ],
      "execution_count": null,
      "outputs": []
    },
    {
      "cell_type": "code",
      "metadata": {
        "id": "ShAWlc_o3RoB",
        "colab": {
          "base_uri": "https://localhost:8080/"
        },
        "outputId": "a8c67233-7543-48a8-a0f6-34507c7e1aad"
      },
      "source": [
        "# Sobstitue the values in the \"span\" feature (substitute each tuple with its first inner tuple)\n",
        "for i in range(len(Essay_ann_dataset.index)):\n",
        "  Essay_ann_dataset['span'][i]=Essay_ann_dataset['span'][i][0]"
      ],
      "execution_count": null,
      "outputs": [
        {
          "output_type": "stream",
          "name": "stderr",
          "text": [
            "/usr/local/lib/python3.7/dist-packages/ipykernel_launcher.py:3: SettingWithCopyWarning: \n",
            "A value is trying to be set on a copy of a slice from a DataFrame\n",
            "\n",
            "See the caveats in the documentation: https://pandas.pydata.org/pandas-docs/stable/user_guide/indexing.html#returning-a-view-versus-a-copy\n",
            "  This is separate from the ipykernel package so we can avoid doing imports until\n"
          ]
        }
      ]
    },
    {
      "cell_type": "code",
      "metadata": {
        "id": "0RvtcIuEDGgY",
        "colab": {
          "base_uri": "https://localhost:8080/"
        },
        "outputId": "6c7f2490-d1aa-488a-cb1a-5978dd4cb094"
      },
      "source": [
        "Essay_ann_dataset.head()"
      ],
      "execution_count": null,
      "outputs": [
        {
          "output_type": "execute_result",
          "data": {
            "text/html": [
              "<div>\n",
              "<style scoped>\n",
              "    .dataframe tbody tr th:only-of-type {\n",
              "        vertical-align: middle;\n",
              "    }\n",
              "\n",
              "    .dataframe tbody tr th {\n",
              "        vertical-align: top;\n",
              "    }\n",
              "\n",
              "    .dataframe thead th {\n",
              "        text-align: right;\n",
              "    }\n",
              "</style>\n",
              "<table border=\"1\" class=\"dataframe\">\n",
              "  <thead>\n",
              "    <tr style=\"text-align: right;\">\n",
              "      <th></th>\n",
              "      <th>doc_id</th>\n",
              "      <th>id</th>\n",
              "      <th>type</th>\n",
              "      <th>span</th>\n",
              "      <th>text</th>\n",
              "    </tr>\n",
              "  </thead>\n",
              "  <tbody>\n",
              "    <tr>\n",
              "      <th>T1</th>\n",
              "      <td>0</td>\n",
              "      <td>T1</td>\n",
              "      <td>MajorClaim</td>\n",
              "      <td>(503, 575)</td>\n",
              "      <td>we should attach more importance to cooperatio...</td>\n",
              "    </tr>\n",
              "    <tr>\n",
              "      <th>T2</th>\n",
              "      <td>0</td>\n",
              "      <td>T2</td>\n",
              "      <td>MajorClaim</td>\n",
              "      <td>(2154, 2231)</td>\n",
              "      <td>a more cooperative attitudes towards life is m...</td>\n",
              "    </tr>\n",
              "    <tr>\n",
              "      <th>T3</th>\n",
              "      <td>0</td>\n",
              "      <td>T3</td>\n",
              "      <td>Claim</td>\n",
              "      <td>(591, 714)</td>\n",
              "      <td>through cooperation, children can learn about ...</td>\n",
              "    </tr>\n",
              "    <tr>\n",
              "      <th>T4</th>\n",
              "      <td>0</td>\n",
              "      <td>T4</td>\n",
              "      <td>Premise</td>\n",
              "      <td>(716, 851)</td>\n",
              "      <td>What we acquired from team work is not only ho...</td>\n",
              "    </tr>\n",
              "    <tr>\n",
              "      <th>T5</th>\n",
              "      <td>0</td>\n",
              "      <td>T5</td>\n",
              "      <td>Premise</td>\n",
              "      <td>(853, 1086)</td>\n",
              "      <td>During the process of cooperation, children ca...</td>\n",
              "    </tr>\n",
              "  </tbody>\n",
              "</table>\n",
              "</div>"
            ],
            "text/plain": [
              "    doc_id  id  ...          span                                               text\n",
              "T1       0  T1  ...    (503, 575)  we should attach more importance to cooperatio...\n",
              "T2       0  T2  ...  (2154, 2231)  a more cooperative attitudes towards life is m...\n",
              "T3       0  T3  ...    (591, 714)  through cooperation, children can learn about ...\n",
              "T4       0  T4  ...    (716, 851)  What we acquired from team work is not only ho...\n",
              "T5       0  T5  ...   (853, 1086)  During the process of cooperation, children ca...\n",
              "\n",
              "[5 rows x 5 columns]"
            ]
          },
          "metadata": {},
          "execution_count": 66
        }
      ]
    },
    {
      "cell_type": "markdown",
      "metadata": {
        "id": "fQ1sB3WhDNRQ"
      },
      "source": [
        "## **IOB and word list**"
      ]
    },
    {
      "cell_type": "code",
      "metadata": {
        "id": "En1l-2YSD7_z"
      },
      "source": [
        "# List of texts of the essays\n",
        "files_text=[open(file).read() for file in txt_files]"
      ],
      "execution_count": null,
      "outputs": []
    },
    {
      "cell_type": "code",
      "metadata": {
        "id": "dK-GkChLgEyl"
      },
      "source": [
        "# Check the presence of the character | (information used later).\n",
        "for essay in files_text:\n",
        "  if not (essay.find(\"|\") == -1):\n",
        "      print(\"One found!\")"
      ],
      "execution_count": null,
      "outputs": []
    },
    {
      "cell_type": "code",
      "metadata": {
        "id": "c-Xv3S56l_HC"
      },
      "source": [
        "# Get the start and finish points of each argumentative section of each of the text.\n",
        "# Also get the type of each argumentative section.\n",
        "# This points are indicated in the \"span\" coloumn of the Dataframe of the annotation.\n",
        "\n",
        "sorted_span=[sorted(list(Essay_ann_dataset.loc[Essay_ann_dataset['doc_id'] == i,['span','type']].values), key=lambda element: (element[0][0]) ) for i in range(len(ann_files))]"
      ],
      "execution_count": null,
      "outputs": []
    },
    {
      "cell_type": "code",
      "metadata": {
        "id": "FY761IVz8g2z",
        "colab": {
          "base_uri": "https://localhost:8080/"
        },
        "outputId": "328c8d1e-3190-4bd2-9b7a-967c71608cac"
      },
      "source": [
        "sorted_span[0]"
      ],
      "execution_count": null,
      "outputs": [
        {
          "output_type": "execute_result",
          "data": {
            "text/plain": [
              "[array([(503, 575), 'MajorClaim'], dtype=object),\n",
              " array([(591, 714), 'Claim'], dtype=object),\n",
              " array([(716, 851), 'Premise'], dtype=object),\n",
              " array([(853, 1086), 'Premise'], dtype=object),\n",
              " array([(1088, 1191), 'Premise'], dtype=object),\n",
              " array([(1212, 1301), 'Premise'], dtype=object),\n",
              " array([(1332, 1376), 'Claim'], dtype=object),\n",
              " array([(1387, 1492), 'Premise'], dtype=object),\n",
              " array([(1549, 1846), 'Premise'], dtype=object),\n",
              " array([(1927, 1992), 'Claim'], dtype=object),\n",
              " array([(2154, 2231), 'MajorClaim'], dtype=object)]"
            ]
          },
          "metadata": {},
          "execution_count": 70
        }
      ]
    },
    {
      "cell_type": "code",
      "metadata": {
        "id": "IB7ydWo78-x2"
      },
      "source": [
        "# Tranform the couples of points ((start,end) of each section) to a list (separator of different section).\n",
        "\n",
        "span_points=[]\n",
        "\n",
        "for i in range(len(sorted_span)):\n",
        "  list_points=[sep for sub in sorted_span[i] for sep in sub[0]]\n",
        "  # Insert starting point of the text\n",
        "  list_points.insert(0,0)\n",
        "  list_points.append(len(files_text[i]))\n",
        "  span_points.append(list_points)"
      ],
      "execution_count": null,
      "outputs": []
    },
    {
      "cell_type": "code",
      "metadata": {
        "id": "LFHv8OFV-MER",
        "colab": {
          "base_uri": "https://localhost:8080/"
        },
        "outputId": "64c488c1-0fa5-4f76-b6a1-6847a3af2919"
      },
      "source": [
        "span_points[0]"
      ],
      "execution_count": null,
      "outputs": [
        {
          "output_type": "execute_result",
          "data": {
            "text/plain": [
              "[0,\n",
              " 503,\n",
              " 575,\n",
              " 591,\n",
              " 714,\n",
              " 716,\n",
              " 851,\n",
              " 853,\n",
              " 1086,\n",
              " 1088,\n",
              " 1191,\n",
              " 1212,\n",
              " 1301,\n",
              " 1332,\n",
              " 1376,\n",
              " 1387,\n",
              " 1492,\n",
              " 1549,\n",
              " 1846,\n",
              " 1927,\n",
              " 1992,\n",
              " 2154,\n",
              " 2231,\n",
              " 2232]"
            ]
          },
          "metadata": {},
          "execution_count": 72
        }
      ]
    },
    {
      "cell_type": "code",
      "metadata": {
        "id": "YV3tm2bS-p_t"
      },
      "source": [
        "# Separate the texts at the point indicated for the different sections\n",
        "\n",
        "split_text=[]\n",
        "\n",
        "for z in range(len(files_text)):\n",
        "  split_text.append([files_text[z][i: j] for i, j in zip(span_points[z], span_points[z][1:])])"
      ],
      "execution_count": null,
      "outputs": []
    },
    {
      "cell_type": "code",
      "metadata": {
        "id": "YyylYuLL_SEb",
        "colab": {
          "base_uri": "https://localhost:8080/"
        },
        "outputId": "331c2dd5-7bd5-4381-cb75-c57559161351"
      },
      "source": [
        "split_text[0][0:10]"
      ],
      "execution_count": null,
      "outputs": [
        {
          "output_type": "execute_result",
          "data": {
            "text/plain": [
              "[\"Should students be taught to compete or to cooperate?\\n\\nIt is always said that competition can effectively promote the development of economy. In order to survive in the competition, companies continue to improve their products and service, and as a result, the whole society prospers. However, when we discuss the issue of competition or cooperation, what we are concerned about is not the whole society, but the development of an individual's whole life. From this point of view, I firmly believe that \",\n",
              " 'we should attach more importance to cooperation during primary education',\n",
              " '.\\nFirst of all, ',\n",
              " 'through cooperation, children can learn about interpersonal skills which are significant in the future life of all students',\n",
              " '. ',\n",
              " 'What we acquired from team work is not only how to achieve the same goal with others but more importantly, how to get along with others',\n",
              " '. ',\n",
              " 'During the process of cooperation, children can learn about how to listen to opinions of others, how to communicate with others, how to think comprehensively, and even how to compromise with other team members when conflicts occurred',\n",
              " '. ',\n",
              " 'All of these skills help them to get on well with other people and will benefit them for the whole life']"
            ]
          },
          "metadata": {},
          "execution_count": 74
        }
      ]
    },
    {
      "cell_type": "code",
      "metadata": {
        "id": "lYVRUlXHAwa3"
      },
      "source": [
        "# Get the list of the words of each essay and the corresponding labels \n",
        "# ( argumentative section, premise or claim indicated through IOB).\n",
        "\n",
        "Y_IOB=[]\n",
        "X_essay_word_list=[]\n",
        "\n",
        "for i in range(len(split_text)):\n",
        "  \n",
        "  IOB=[]\n",
        "  essay_word_list=[]\n",
        "\n",
        "  # next_type is the next position still not considered in the list of argumentative sections of the essay examined.\n",
        "  next_type=0\n",
        "\n",
        "  # Remove title from essay considered (splitted_text)\n",
        "  no_title=[re.sub(r\".*\\n\\n\",\"\",text) for text in split_text[i]]\n",
        "\n",
        "  # Set boolean value next_token_is_argumentative to false.\n",
        "  # (first section of each essay is never argumentative, it's the one containing the title).\n",
        "  next_token_is_argumentative=False\n",
        "\n",
        "  for section in no_title:\n",
        "\n",
        "    # Divide the text into token.\n",
        "    seq=nltk.word_tokenize(section.lower())\n",
        "\n",
        "    essay_word_list+=seq\n",
        "\n",
        "    if next_token_is_argumentative:\n",
        "      IOB+=['B']\n",
        "      for token in range(len(seq)-1):\n",
        "        IOB+=['I']  \n",
        "    else:\n",
        "      for token in range(len(seq)):\n",
        "        IOB+=['O']\n",
        "\n",
        "    # An argumentative section is followed by a non-argumentative section and vice-versa    \n",
        "    next_token_is_argumentative=not next_token_is_argumentative\n",
        "\n",
        "  Y_IOB.append(IOB)\n",
        "  X_essay_word_list.append(essay_word_list)"
      ],
      "execution_count": null,
      "outputs": []
    },
    {
      "cell_type": "code",
      "metadata": {
        "id": "IK9ZdPIJC2VA",
        "colab": {
          "base_uri": "https://localhost:8080/"
        },
        "outputId": "eff57986-5a10-46aa-d1ec-e3b481613209"
      },
      "source": [
        "for i in range(80,120):\n",
        "  print(X_essay_word_list[0][i]+\" - \"+Y_IOB[0][i])"
      ],
      "execution_count": null,
      "outputs": [
        {
          "output_type": "stream",
          "name": "stdout",
          "text": [
            "i - O\n",
            "firmly - O\n",
            "believe - O\n",
            "that - O\n",
            "we - B\n",
            "should - I\n",
            "attach - I\n",
            "more - I\n",
            "importance - I\n",
            "to - I\n",
            "cooperation - I\n",
            "during - I\n",
            "primary - I\n",
            "education - I\n",
            ". - O\n",
            "first - O\n",
            "of - O\n",
            "all - O\n",
            ", - O\n",
            "through - B\n",
            "cooperation - I\n",
            ", - I\n",
            "children - I\n",
            "can - I\n",
            "learn - I\n",
            "about - I\n",
            "interpersonal - I\n",
            "skills - I\n",
            "which - I\n",
            "are - I\n",
            "significant - I\n",
            "in - I\n",
            "the - I\n",
            "future - I\n",
            "life - I\n",
            "of - I\n",
            "all - I\n",
            "students - I\n",
            ". - O\n",
            "what - B\n"
          ]
        }
      ]
    },
    {
      "cell_type": "markdown",
      "metadata": {
        "id": "Is9U7KBcDRec"
      },
      "source": [
        "## **Find out sentences which contain argumentative section**"
      ]
    },
    {
      "cell_type": "code",
      "metadata": {
        "id": "QPcb2rgQUmzn"
      },
      "source": [
        "sentence_list=[]\n",
        "\n",
        "# Sentence associated to each word contained in the corpus.\n",
        "# (to each word in a position is associated a sentence in the sentence list).\n",
        "sentence_of_word=[]\n",
        "num_total_sentences=0\n",
        "\n",
        "for essay_id in range(len(X_essay_word_list)):\n",
        "  sentence=\"\"\n",
        "  sentence_words_essay=[]\n",
        "\n",
        "  for word_id in range(len(X_essay_word_list[essay_id])):\n",
        "    \n",
        "    word=X_essay_word_list[essay_id][word_id]\n",
        "\n",
        "    if not ( word==\".\" ):\n",
        "      sentence+=word+\" \"\n",
        "    sentence_words_essay.append(num_total_sentences)\n",
        "          \n",
        "    # . is the end of the sentence.       \n",
        "    if word in [\".\",\"?\",\"!\"] and ( not sentence==\"\"):\n",
        "      sentence_list.append(sentence)\n",
        "            \n",
        "      sentence=\"\"\n",
        "      num_total_sentences+=1\n",
        "\n",
        "  if not sentence==\"\":\n",
        "    sentence_list.append(sentence)\n",
        "            \n",
        "    sentence=\"\"\n",
        "    num_total_sentences+=1        \n",
        "\n",
        "  # Once the essay is over update the list of the sentences containing each word. \n",
        "  sentence_of_word.append(sentence_words_essay)"
      ],
      "execution_count": null,
      "outputs": []
    },
    {
      "cell_type": "markdown",
      "metadata": {
        "id": "GWnmXP5bcOBU"
      },
      "source": [
        "## **POS tags**"
      ]
    },
    {
      "cell_type": "code",
      "metadata": {
        "id": "bGTpre-CcOBW"
      },
      "source": [
        "# Separate each essay in the list of POS TAG that compones them.\n",
        "POS_essay_list=[nltk.pos_tag(essay_word_sequence) for essay_word_sequence in X_essay_word_list]"
      ],
      "execution_count": null,
      "outputs": []
    },
    {
      "cell_type": "code",
      "metadata": {
        "id": "rGmOmgbgcOBX"
      },
      "source": [
        "# Get the list of the sentences as POS tag from the list of the\n",
        "# list of the POS tag of each sentence. \n",
        "def get_POS_text_list(POS_list: list)->list:\n",
        "  POS_all_text_list=[]\n",
        "  for POS_list in POS_list:\n",
        "    POS_single_text_list=[]\n",
        "    for word, tag in POS_list:\n",
        "      POS_single_text_list.append(tag)\n",
        "    POS_all_text_list.append(POS_single_text_list)    \n",
        "\n",
        "  return POS_all_text_list"
      ],
      "execution_count": null,
      "outputs": []
    },
    {
      "cell_type": "code",
      "metadata": {
        "id": "L3iACBxScOBX"
      },
      "source": [
        "X_essay_POS_list=get_POS_text_list(POS_essay_list)"
      ],
      "execution_count": null,
      "outputs": []
    },
    {
      "cell_type": "code",
      "metadata": {
        "id": "o8Zn24wIcOBY",
        "colab": {
          "base_uri": "https://localhost:8080/"
        },
        "outputId": "4b00eee4-6a14-447f-9b72-d81fbd5df2aa"
      },
      "source": [
        "X_essay_POS_list[0][0:10]"
      ],
      "execution_count": null,
      "outputs": [
        {
          "output_type": "execute_result",
          "data": {
            "text/plain": [
              "['PRP', 'VBZ', 'RB', 'VBD', 'IN', 'NN', 'MD', 'RB', 'VB', 'DT']"
            ]
          },
          "metadata": {},
          "execution_count": 81
        }
      ]
    },
    {
      "cell_type": "markdown",
      "metadata": {
        "id": "_Z_Cyieqbmt0"
      },
      "source": [
        "# **Simple POS tags**"
      ]
    },
    {
      "cell_type": "code",
      "metadata": {
        "id": "tjJLi8VLbmt2"
      },
      "source": [
        "# Create a version with the simplifyed version of the POS tag.\n",
        "\n",
        "simplified_POS_essay_list=[]\n",
        "\n",
        "for POS_sentence in POS_essay_list:\n",
        "  simplified_POS_essay_list.append([(word, map_tag('en-ptb', 'universal', tag)) for word, tag in POS_sentence])"
      ],
      "execution_count": null,
      "outputs": []
    },
    {
      "cell_type": "code",
      "metadata": {
        "id": "j7IsQpMtbmt3"
      },
      "source": [
        "X_essay_simple_POS_list=get_POS_text_list(simplified_POS_essay_list)"
      ],
      "execution_count": null,
      "outputs": []
    },
    {
      "cell_type": "code",
      "metadata": {
        "id": "E3chKp22bmt3",
        "colab": {
          "base_uri": "https://localhost:8080/"
        },
        "outputId": "ea4ce423-5b3f-4190-9e4c-b8c469fcc6d4"
      },
      "source": [
        "X_essay_simple_POS_list[0][0:10]"
      ],
      "execution_count": null,
      "outputs": [
        {
          "output_type": "execute_result",
          "data": {
            "text/plain": [
              "['PRON', 'VERB', 'ADV', 'VERB', 'ADP', 'NOUN', 'VERB', 'ADV', 'VERB', 'DET']"
            ]
          },
          "metadata": {},
          "execution_count": 84
        }
      ]
    },
    {
      "cell_type": "markdown",
      "metadata": {
        "id": "_TEl1-f2ynzV"
      },
      "source": [
        "# **Dependencies**"
      ]
    },
    {
      "cell_type": "code",
      "metadata": {
        "id": "IQDBfFsEynzY"
      },
      "source": [
        "texts=[]\n",
        "for single_text in X_essay_word_list:\n",
        "  sentences_texts=[]\n",
        "  text=\"\"\n",
        "  for word in single_text:\n",
        "    text+=word+\" \"\n",
        "    if word in [\".\",\"?\",\"!\"]:\n",
        "      sentences_texts.append(text)\n",
        "      text=\"\"\n",
        "\n",
        "  texts.append(sentences_texts)  "
      ],
      "execution_count": null,
      "outputs": []
    },
    {
      "cell_type": "code",
      "metadata": {
        "id": "CTFiUNRkynzY"
      },
      "source": [
        "X_essay_dependency_list=dependencies_list(texts)"
      ],
      "execution_count": null,
      "outputs": []
    },
    {
      "cell_type": "code",
      "metadata": {
        "id": "zSf0d9uwynzY",
        "colab": {
          "base_uri": "https://localhost:8080/"
        },
        "outputId": "321c8c94-6720-4317-f94d-e6fb1fa06b42"
      },
      "source": [
        "X_essay_dependency_list[0][:10]"
      ],
      "execution_count": null,
      "outputs": [
        {
          "output_type": "execute_result",
          "data": {
            "text/plain": [
              "['nsubjpass',\n",
              " 'auxpass',\n",
              " 'advmod',\n",
              " 'ROOT',\n",
              " 'mark',\n",
              " 'nsubj',\n",
              " 'aux',\n",
              " 'advmod',\n",
              " 'ccomp',\n",
              " 'det']"
            ]
          },
          "metadata": {},
          "execution_count": 87
        }
      ]
    },
    {
      "cell_type": "markdown",
      "metadata": {
        "id": "roYver9XG2EM"
      },
      "source": [
        "# **Word2vec and one-hot-encoding**"
      ]
    },
    {
      "cell_type": "code",
      "metadata": {
        "id": "IMPSfdr2ROET"
      },
      "source": [
        "# buld word2vec model with the POS vocabulary of the essays in the dataset.\n",
        "word2vec_sentences=[]\n",
        "\n",
        "for text in X_essay_POS_list:\n",
        "  word2vec_sentences.append(text)\n",
        "\n",
        "for text in X_article_POS_list:\n",
        "  word2vec_sentences.append(text)\n",
        "\n",
        "word2vec_model_POS =  Word2Vec(sentences=word2vec_sentences, size=5, min_count=1)\n",
        "\n",
        "# Simple POS.\n",
        "word2vec_sentences=[]\n",
        "\n",
        "for text in X_essay_simple_POS_list:\n",
        "  word2vec_sentences.append(text)\n",
        "\n",
        "for text in X_article_simple_POS_list:\n",
        "  word2vec_sentences.append(text)\n",
        "\n",
        "word2vec_model_simple_POS =  Word2Vec(sentences=word2vec_sentences, size=5, min_count=1)\n",
        "\n",
        "# Dependencies.\n",
        "word2vec_sentences=[]\n",
        "\n",
        "for text in X_essay_dependency_list:\n",
        "  word2vec_sentences.append(text)\n",
        "\n",
        "for text in X_article_dependency_list:\n",
        "  word2vec_sentences.append(text)\n",
        "\n",
        "word2vec_model_dep =  Word2Vec(sentences=word2vec_sentences, size=5, min_count=1)"
      ],
      "execution_count": null,
      "outputs": []
    },
    {
      "cell_type": "code",
      "metadata": {
        "id": "CMyLPxJecM0r",
        "colab": {
          "base_uri": "https://localhost:8080/"
        },
        "outputId": "a9f00cd3-0bf4-4b3d-9f88-1cf23eb02e28"
      },
      "source": [
        "# Get the maximum lenght of the texts of the essays.\n",
        "\n",
        "X_word_list=X_essay_word_list+X_article_word_list\n",
        "X_dep_list=X_essay_dependency_list+X_article_dependency_list\n",
        "\n",
        "text_len = [len(text) for text in X_word_list]\n",
        "dep_len = [len(text) for text in X_dep_list]\n",
        "MAX_LEN = max(text_len+dep_len)\n",
        "print(\"Max lenght of the texts: {}\".format(MAX_LEN))"
      ],
      "execution_count": null,
      "outputs": [
        {
          "output_type": "stream",
          "name": "stdout",
          "text": [
            "Max lenght of the texts: 3041\n"
          ]
        }
      ]
    },
    {
      "cell_type": "code",
      "metadata": {
        "id": "P0BPEw1WU9Xu"
      },
      "source": [
        "\n",
        "POS_tokenizer = Tokenizer()\n",
        "POS_tokenizer.fit_on_texts(X_essay_POS_list+X_article_POS_list)\n",
        "X_POS = POS_tokenizer.texts_to_sequences(X_essay_POS_list+X_article_POS_list)\n",
        "X_POS = pad_sequences(X_POS, maxlen=MAX_LEN, padding=\"pre\")\n",
        "\n",
        "simple_POS_tokenizer = Tokenizer()\n",
        "simple_POS_tokenizer.fit_on_texts(X_essay_simple_POS_list+X_article_simple_POS_list)\n",
        "X_simple_POS = simple_POS_tokenizer.texts_to_sequences(X_essay_simple_POS_list+X_article_simple_POS_list)\n",
        "X_simple_POS = pad_sequences(X_simple_POS, maxlen=MAX_LEN, padding=\"pre\")\n",
        "\n",
        "dep_tokenizer = Tokenizer()\n",
        "dep_tokenizer.fit_on_texts(X_dep_list)\n",
        "X_dep = dep_tokenizer.texts_to_sequences(X_dep_list)\n",
        "X_dep = pad_sequences(X_dep, maxlen=MAX_LEN, padding=\"pre\")\n",
        "\n",
        "IOB_tokenizer = Tokenizer()\n",
        "IOB_tokenizer.fit_on_texts(Y_IOB+Y_IOB_Debater)\n",
        "Y = IOB_tokenizer.texts_to_sequences(Y_IOB+Y_IOB_Debater)\n",
        "Y = pad_sequences(Y, maxlen=MAX_LEN, padding=\"pre\")"
      ],
      "execution_count": null,
      "outputs": []
    },
    {
      "cell_type": "code",
      "metadata": {
        "id": "T25D-lPlfqzw",
        "colab": {
          "base_uri": "https://localhost:8080/"
        },
        "outputId": "241bf476-fd7a-4cae-c6ab-d8ed890cbdaa"
      },
      "source": [
        "Y[0][2800:2850]"
      ],
      "execution_count": null,
      "outputs": [
        {
          "output_type": "execute_result",
          "data": {
            "text/plain": [
              "array([2, 2, 2, 2, 2, 2, 2, 2, 2, 2, 2, 2, 2, 2, 2, 2, 2, 2, 2, 2, 2, 1,\n",
              "       3, 2, 2, 2, 2, 2, 2, 2, 2, 2, 2, 2, 2, 2, 2, 2, 2, 2, 2, 2, 2, 1,\n",
              "       1, 1, 1, 1, 1, 3], dtype=int32)"
            ]
          },
          "metadata": {},
          "execution_count": 95
        }
      ]
    },
    {
      "cell_type": "code",
      "metadata": {
        "id": "1-BY4Z4khofK",
        "colab": {
          "base_uri": "https://localhost:8080/"
        },
        "outputId": "cb1b7a7a-765c-4c17-e8b9-cdc6beabc65f"
      },
      "source": [
        "# Each word in the Word2vec model used is embedded trough a vector of size 300.\n",
        "\n",
        "EMBEDDING_SIZE_POS  = 5\n",
        "\n",
        "# Size of the vocabulary used.\n",
        "VOCABULARY_SIZE_POS = len(POS_tokenizer.word_index) + 1\n",
        "VOCABULARY_SIZE_SIMPLE_POS = len(simple_POS_tokenizer.word_index) + 1\n",
        "VOCABULARY_SIZE_DEP = len(dep_tokenizer.word_index) + 1\n",
        "\n",
        "# Create an empty embedding matix.\n",
        "embedding_weights_POS = np.zeros((VOCABULARY_SIZE_POS, EMBEDDING_SIZE_POS))\n",
        "embedding_weights_simple_POS = np.zeros((VOCABULARY_SIZE_SIMPLE_POS, EMBEDDING_SIZE_POS))\n",
        "embedding_weights_dep = np.zeros((VOCABULARY_SIZE_DEP, EMBEDDING_SIZE_POS))\n",
        "\n",
        "# Create a word to index dictionary mapping.\n",
        "word2id_POS = POS_tokenizer.word_index\n",
        "word2id_simple_POS = simple_POS_tokenizer.word_index\n",
        "word2id_dep = dep_tokenizer.word_index\n",
        "\n",
        "# Copy vectors from word2vec model to the words present in corpus.\n",
        "\n",
        "\n",
        "print(\"POS:\")\n",
        "for word, index in word2id_POS.items():\n",
        "    try:\n",
        "        embedding_weights_POS[index, :] = word2vec_model_POS[word]\n",
        "    except KeyError:\n",
        "        print(word)\n",
        "\n",
        "print(\"simple POS:\")\n",
        "for word, index in word2id_simple_POS.items():\n",
        "    try:\n",
        "        embedding_weights_simple_POS[index, :] = word2vec_model_simple_POS[word]\n",
        "    except KeyError:\n",
        "        print(word)\n",
        "\n",
        "print(\"dep tag:\")\n",
        "for word, index in word2id_dep.items():\n",
        "    try:\n",
        "        embedding_weights_dep[index, :] = word2vec_model_dep[word]\n",
        "    except KeyError:\n",
        "        print(word)                                   "
      ],
      "execution_count": null,
      "outputs": [
        {
          "output_type": "stream",
          "name": "stdout",
          "text": [
            "POS:\n",
            "nn\n",
            "in\n",
            "jj\n",
            "dt\n",
            "nns\n",
            "vb\n",
            "rb\n",
            "cc\n",
            "to\n",
            "vbz\n",
            "vbp\n",
            "vbn\n",
            "prp\n",
            "vbg\n",
            "md\n",
            "cd\n",
            "vbd\n",
            "prp$\n",
            "wdt\n",
            "jjr\n",
            "pos\n",
            "wrb\n",
            "wp\n",
            "rbr\n",
            "jjs\n",
            "ex\n",
            "rp\n",
            "nnp\n",
            "rbs\n",
            "pdt\n",
            "fw\n",
            "wp$\n",
            "uh\n",
            "nnps\n",
            "sym\n",
            "simple POS:\n",
            "noun\n",
            "verb\n",
            "adp\n",
            "adj\n",
            "det\n",
            "adv\n",
            "pron\n",
            "prt\n",
            "conj\n",
            "num\n",
            "x\n",
            "dep tag:\n",
            "root\n"
          ]
        },
        {
          "output_type": "stream",
          "name": "stderr",
          "text": [
            "/usr/local/lib/python3.7/dist-packages/ipykernel_launcher.py:26: DeprecationWarning: Call to deprecated `__getitem__` (Method will be removed in 4.0.0, use self.wv.__getitem__() instead).\n",
            "/usr/local/lib/python3.7/dist-packages/ipykernel_launcher.py:33: DeprecationWarning: Call to deprecated `__getitem__` (Method will be removed in 4.0.0, use self.wv.__getitem__() instead).\n",
            "/usr/local/lib/python3.7/dist-packages/ipykernel_launcher.py:40: DeprecationWarning: Call to deprecated `__getitem__` (Method will be removed in 4.0.0, use self.wv.__getitem__() instead).\n"
          ]
        }
      ]
    },
    {
      "cell_type": "markdown",
      "metadata": {
        "id": "V5ah4d7RwxYI"
      },
      "source": [
        "# **Split Train and Test set**"
      ]
    },
    {
      "cell_type": "code",
      "metadata": {
        "id": "hbhPLcCuw12o"
      },
      "source": [
        "# Divide the corpus (documents containing the essay) in test and train test.\n",
        "# The Debater dataset is used as test set and the Stab and Gurevych dataset as training set.\n",
        "train_set=[i for i in range(len(X_essay_word_list))]\n",
        "test_set=[i+len(X_essay_word_list) for i in range(len(X_article_word_list))]"
      ],
      "execution_count": null,
      "outputs": []
    },
    {
      "cell_type": "code",
      "metadata": {
        "id": "1fpSwg0hyt8v",
        "colab": {
          "base_uri": "https://localhost:8080/"
        },
        "outputId": "a0b8f115-ccb2-459d-e248-d15bf9d55a72"
      },
      "source": [
        "print(len(train_set))\n",
        "\n",
        "train_set[:10]"
      ],
      "execution_count": null,
      "outputs": [
        {
          "output_type": "stream",
          "name": "stdout",
          "text": [
            "402\n"
          ]
        },
        {
          "output_type": "execute_result",
          "data": {
            "text/plain": [
              "[0, 1, 2, 3, 4, 5, 6, 7, 8, 9]"
            ]
          },
          "metadata": {},
          "execution_count": 98
        }
      ]
    },
    {
      "cell_type": "code",
      "metadata": {
        "id": "KPQoIUW6yxF-",
        "colab": {
          "base_uri": "https://localhost:8080/"
        },
        "outputId": "e2160b12-bcef-498f-f8fe-ced630d95120"
      },
      "source": [
        "print(len(test_set))\n",
        "\n",
        "test_set[:10]"
      ],
      "execution_count": null,
      "outputs": [
        {
          "output_type": "stream",
          "name": "stdout",
          "text": [
            "92\n"
          ]
        },
        {
          "output_type": "execute_result",
          "data": {
            "text/plain": [
              "[402, 403, 404, 405, 406, 407, 408, 409, 410, 411]"
            ]
          },
          "metadata": {},
          "execution_count": 99
        }
      ]
    },
    {
      "cell_type": "markdown",
      "metadata": {
        "id": "xgW9BSwMmrkL"
      },
      "source": [
        "# **RNN**"
      ]
    },
    {
      "cell_type": "code",
      "metadata": {
        "id": "HLMxDCxmTNJv"
      },
      "source": [
        "# Model for the statitistic values manually extracted.\n",
        "\n",
        "def train_POS_model(X_train:np.ndarray, Y_train:np.ndarray)->Model:\n",
        "\n",
        "  # Create the model.\n",
        "  input = Input(shape=(MAX_LEN,))\n",
        "\n",
        "  model = Embedding(input_dim=VOCABULARY_SIZE_POS, output_dim=EMBEDDING_SIZE_POS, input_length=MAX_LEN, weights= [embedding_weights_POS], trainable=True)(input)\n",
        "  model = Bidirectional(LSTM(8, return_sequences=True))(model)\n",
        "  model = Dropout(0.1)(model)\n",
        "\n",
        "  final_model=Model(input,model)\n",
        "\n",
        "  return model,input"
      ],
      "execution_count": null,
      "outputs": []
    },
    {
      "cell_type": "code",
      "metadata": {
        "id": "MCejxNOUdN2j"
      },
      "source": [
        "# Model for the statitistic values manually extracted.\n",
        "\n",
        "def train_simple_POS_model(X_train:np.ndarray, Y_train:np.ndarray)->Model:\n",
        "\n",
        "  # Create the model.\n",
        "  input = Input(shape=(MAX_LEN,))\n",
        "\n",
        "  model = Embedding(input_dim=VOCABULARY_SIZE_SIMPLE_POS, output_dim=EMBEDDING_SIZE_POS, input_length=MAX_LEN, weights= [embedding_weights_simple_POS], trainable=True)(input)\n",
        "  model = Bidirectional(LSTM(8, return_sequences=True))(model)\n",
        "  model = Dropout(0.1)(model)\n",
        "\n",
        "  final_model=Model(input,model)\n",
        "\n",
        "  return model,input"
      ],
      "execution_count": null,
      "outputs": []
    },
    {
      "cell_type": "code",
      "metadata": {
        "id": "2-u-2X5dwvn1"
      },
      "source": [
        "# Model for the statitistic values manually extracted.\n",
        "\n",
        "def train_dep_model(X_train:np.ndarray, Y_train:np.ndarray)->Model:\n",
        "\n",
        "  # Create the model.\n",
        "  input = Input(shape=(MAX_LEN,))\n",
        "\n",
        "  model = Embedding(input_dim=VOCABULARY_SIZE_DEP, output_dim=EMBEDDING_SIZE_POS, input_length=MAX_LEN, weights= [embedding_weights_dep], trainable=True)(input)\n",
        "  model = Bidirectional(LSTM(8, return_sequences=True))(model)\n",
        "  model = Dropout(0.1)(model)\n",
        "\n",
        "  final_model=Model(input,model)\n",
        "\n",
        "  return model,input"
      ],
      "execution_count": null,
      "outputs": []
    },
    {
      "cell_type": "code",
      "metadata": {
        "id": "QPe5aQHOxT9T"
      },
      "source": [
        "# Multimodal model.\n",
        "\n",
        "def train_MultiModal( X_POS:np.ndarray, X_simple_POS:np.ndarray, X_dep:np.ndarray, Y_train:np.ndarray)->Model:\n",
        "\n",
        "  num_label = Y_train.shape[2]\n",
        "\n",
        "  # Create the models.\n",
        "  model_POS,input_POS=train_POS_model(X_POS,Y_train)\n",
        "  model_simple_POS,input_simple_POS=train_simple_POS_model(X_simple_POS,Y_train)\n",
        "  model_dep,input_dep=train_dep_model(X_dep,Y_train)\n",
        "\n",
        "  # Concatenate togheter the two previous NN.\n",
        "  concatenation_layer = Concatenate()([model_POS,model_simple_POS,model_dep])\n",
        "\n",
        "  output = TimeDistributed(Dense(num_label, activation='softmax'))(concatenation_layer)\n",
        "\n",
        "  final_model=Model([input_POS,input_simple_POS,input_dep],output)\n",
        "\n",
        "  final_model.compile(loss='categorical_crossentropy',\n",
        "                  optimizer='nadam',\n",
        "                  metrics=['acc'])\n",
        "  \n",
        "  training_results= final_model.fit([X_POS,X_simple_POS,X_dep], Y_train, batch_size=64, epochs=50, validation_split=0.15, verbose=False, callbacks=[EarlyStopping(\"val_loss\", mode='min', patience=4),])\n",
        "\n",
        "  # visualise training history\n",
        "  plt.plot(training_results.history['acc'])\n",
        "  plt.plot(training_results.history['val_acc'])\n",
        "  plt.title('model accuracy')\n",
        "  plt.ylabel('accuracy')\n",
        "  plt.xlabel('epoch')\n",
        "  plt.legend(['train', 'test'], loc=\"lower right\")\n",
        "  plt.show()\n",
        "\n",
        "  return final_model"
      ],
      "execution_count": null,
      "outputs": []
    },
    {
      "cell_type": "code",
      "metadata": {
        "id": "qJRb65A43VPE",
        "colab": {
          "base_uri": "https://localhost:8080/",
          "height": 295
        },
        "outputId": "1d79c97e-73e0-4dbb-a594-4d581b34de67"
      },
      "source": [
        "target_names=['X','I','O','B']\n",
        " \n",
        "y_pred=[]\n",
        "y_true=[]\n",
        "\n",
        "# Assign one-hot encodings to Y values (0,1,2,3 where 0 indicate the absence of words).\n",
        "categorical_Y = to_categorical(Y)\n",
        "\n",
        "X_POS_train,X_POS_test=X_POS[train_set],X_POS[test_set]\n",
        "X_simple_POS_train,X_simple_POS_test=X_simple_POS[train_set],X_simple_POS[test_set]\n",
        "X_dep_train,X_dep_test=X_dep[train_set],X_dep[test_set]\n",
        "Y_train, Y_test = categorical_Y[train_set], categorical_Y[test_set]\n",
        "\n",
        "# Train the model.\n",
        "model=train_MultiModal(X_POS_train,X_simple_POS_train,X_dep_train,Y_train)\n",
        "\n",
        "prediction=model.predict([X_POS_test,X_simple_POS_test,X_dep_test])\n",
        "for i in range(len(Y_test)):\n",
        "  y_pred+=np.argmax(prediction[i], axis = 1).tolist()\n",
        "  y_true+=np.argmax(Y_test[i].tolist(), axis = 1).tolist()"
      ],
      "execution_count": null,
      "outputs": [
        {
          "output_type": "display_data",
          "data": {
            "image/png": "[encoded data removed]",
            "text/plain": [
              "<Figure size 432x288 with 1 Axes>"
            ]
          },
          "metadata": {
            "needs_background": "light"
          }
        }
      ]
    },
    {
      "cell_type": "code",
      "metadata": {
        "id": "BdRjPwKs4eLD",
        "colab": {
          "base_uri": "https://localhost:8080/"
        },
        "outputId": "cadfe4e6-e290-4437-8031-14670425e169"
      },
      "source": [
        "# Print the classification report of the result of the models created.\n",
        "print(classification_report(y_true, y_pred, target_names=target_names))"
      ],
      "execution_count": null,
      "outputs": [
        {
          "output_type": "stream",
          "name": "stdout",
          "text": [
            "              precision    recall  f1-score   support\n",
            "\n",
            "           X       1.00      1.00      1.00    103121\n",
            "           I       0.83      0.03      0.05    160977\n",
            "           O       0.09      0.98      0.16     15112\n",
            "           B       0.00      0.00      0.00       562\n",
            "\n",
            "    accuracy                           0.43    279772\n",
            "   macro avg       0.48      0.50      0.30    279772\n",
            "weighted avg       0.85      0.43      0.41    279772\n",
            "\n"
          ]
        }
      ]
    },
    {
      "cell_type": "code",
      "metadata": {
        "id": "ctGkhwiw_sfX",
        "colab": {
          "base_uri": "https://localhost:8080/",
          "height": 279
        },
        "outputId": "14785b46-ce15-4224-a7d3-5f4ee41415b8"
      },
      "source": [
        "# Print the confusion matrix.\n",
        "cm=confusion_matrix(y_true, y_pred,normalize='true')\n",
        "\n",
        "cm_disp=ConfusionMatrixDisplay(confusion_matrix=cm,display_labels=target_names)\n",
        "cm_disp.plot()\n",
        "plt.show()"
      ],
      "execution_count": null,
      "outputs": [
        {
          "output_type": "display_data",
          "data": {
            "image/png": "[encoded data removed]",
            "text/plain": [
              "<Figure size 432x288 with 2 Axes>"
            ]
          },
          "metadata": {
            "needs_background": "light"
          }
        }
      ]
    }
  ]
}