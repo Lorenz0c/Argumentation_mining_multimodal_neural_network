{
  "nbformat": 4,
  "nbformat_minor": 0,
  "metadata": {
    "colab": {
      "name": "Essay_Statistic_Argumentative.ipynb",
      "provenance": [],
      "collapsed_sections": [
        "OrsWTewaCnPf",
        "z46GCjrXsEXR",
        "A3faZf73ymhi",
        "oJmHrfpQuXvN",
        "kkzy6HcKc6Sz",
        "YCyByqWGnux8",
        "4NZh_f8izxjI",
        "8AXgLHmbN0Ur",
        "fmKqwdrjT1Zw"
      ]
    },
    "kernelspec": {
      "name": "python3",
      "display_name": "Python 3"
    },
    "language_info": {
      "name": "python"
    }
  },
  "cells": [
    {
      "cell_type": "code",
      "metadata": {
        "colab": {
          "base_uri": "https://localhost:8080/"
        },
        "id": "06I5cxENSPwP",
        "outputId": "215fc1c3-dead-424a-e9b2-40d71ccef186"
      },
      "source": [
        "!pip install mendelai-brat-parser\n",
        "\n",
        "import nltk\n",
        "nltk.download('punkt')\n",
        "nltk.download('wordnet')\n",
        "nltk.download('averaged_perceptron_tagger')\n",
        "\n",
        "nltk.download('universal_tagset')"
      ],
      "execution_count": null,
      "outputs": [
        {
          "output_type": "stream",
          "name": "stdout",
          "text": [
            "Collecting mendelai-brat-parser\n",
            "  Downloading mendelai_brat_parser-0.0.4-py3-none-any.whl (4.2 kB)\n",
            "Installing collected packages: mendelai-brat-parser\n",
            "Successfully installed mendelai-brat-parser-0.0.4\n",
            "[nltk_data] Downloading package punkt to /root/nltk_data...\n",
            "[nltk_data]   Unzipping tokenizers/punkt.zip.\n",
            "[nltk_data] Downloading package wordnet to /root/nltk_data...\n",
            "[nltk_data]   Unzipping corpora/wordnet.zip.\n",
            "[nltk_data] Downloading package averaged_perceptron_tagger to\n",
            "[nltk_data]     /root/nltk_data...\n",
            "[nltk_data]   Unzipping taggers/averaged_perceptron_tagger.zip.\n",
            "[nltk_data] Downloading package universal_tagset to /root/nltk_data...\n",
            "[nltk_data]   Unzipping taggers/universal_tagset.zip.\n"
          ]
        },
        {
          "output_type": "execute_result",
          "data": {
            "text/plain": [
              "True"
            ]
          },
          "metadata": {},
          "execution_count": 1
        }
      ]
    },
    {
      "cell_type": "code",
      "metadata": {
        "id": "4YTGrEc9Dy-X"
      },
      "source": [
        "import pandas as pd\n",
        "import numpy as np\n",
        "from matplotlib import pyplot as plt\n",
        "import regex as re\n",
        "from collections import Counter\n",
        "import math\n",
        "\n",
        "from google.colab import files\n",
        "import zipfile\n",
        "import glob\n",
        "\n",
        "from brat_parser import get_entities_relations_attributes_groups\n",
        "\n",
        "from nltk.tag import pos_tag, map_tag\n",
        "\n",
        "from sklearn.model_selection import train_test_split\n",
        "from nltk.stem import WordNetLemmatizer\n",
        "from sklearn.feature_extraction.text import CountVectorizer\n",
        "import spacy\n",
        "from keras.preprocessing.sequence import pad_sequences\n",
        "from keras.preprocessing.text import Tokenizer\n",
        "\n",
        "from scipy.stats import spearmanr"
      ],
      "execution_count": null,
      "outputs": []
    },
    {
      "cell_type": "markdown",
      "metadata": {
        "id": "y3aIwBjCGLvi"
      },
      "source": [
        "# **Dataset import**"
      ]
    },
    {
      "cell_type": "code",
      "metadata": {
        "id": "bQM5ig13cZeh",
        "colab": {
          "resources": {
            "http://localhost:8080/nbextensions/google.colab/files.js": {
              "data": "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",
              "ok": true,
              "headers": [
                [
                  "content-type",
                  "application/javascript"
                ]
              ],
              "status": 200,
              "status_text": ""
            }
          },
          "base_uri": "https://localhost:8080/",
          "height": 229
        },
        "outputId": "cf28861a-06d6-416d-9821-706a56127cc1"
      },
      "source": [
        "# Import the text file previously produced containing the prediction scores\n",
        "# of the subjectivity of each sentence in the dataset (sub_obj.txt).\n",
        "print('\\nImport sub_obj.txt\\n')\n",
        "upload = files.upload()\n",
        "\n",
        "# Import the dataframe previously produced containing the BOW on the dataset of \n",
        "# the n-grams indicated in the appendix of the guidelines of the Stab and Gurevych \n",
        "# dataset (2017 version) as indicative of an argumentative sections (claim or premise).\n",
        "#(file: essay_BOW_appendix_words.cvs)\n",
        "print('\\nImport essay_BOW_appendix_words.cvs\\n')\n",
        "upload = files.upload()"
      ],
      "execution_count": null,
      "outputs": [
        {
          "output_type": "stream",
          "name": "stdout",
          "text": [
            "\n",
            "Import sub_obj.txt\n",
            "\n"
          ]
        },
        {
          "output_type": "display_data",
          "data": {
            "text/html": [
              "\n",
              "     <input type=\"file\" id=\"files-f5e6d91a-d820-49a3-925a-cbe96e07e7b0\" name=\"files[]\" multiple disabled\n",
              "        style=\"border:none\" />\n",
              "     <output id=\"result-f5e6d91a-d820-49a3-925a-cbe96e07e7b0\">\n",
              "      Upload widget is only available when the cell has been executed in the\n",
              "      current browser session. Please rerun this cell to enable.\n",
              "      </output>\n",
              "      <script src=\"/nbextensions/google.colab/files.js\"></script> "
            ],
            "text/plain": [
              "<IPython.core.display.HTML object>"
            ]
          },
          "metadata": {}
        },
        {
          "output_type": "stream",
          "name": "stdout",
          "text": [
            "Saving subj_obj.txt to subj_obj.txt\n",
            "\n",
            "Import essay_BOW_appendix_words.cvs\n",
            "\n"
          ]
        },
        {
          "output_type": "display_data",
          "data": {
            "text/html": [
              "\n",
              "     <input type=\"file\" id=\"files-ff7c0dc8-49e9-4487-9382-49d5c28f7544\" name=\"files[]\" multiple disabled\n",
              "        style=\"border:none\" />\n",
              "     <output id=\"result-ff7c0dc8-49e9-4487-9382-49d5c28f7544\">\n",
              "      Upload widget is only available when the cell has been executed in the\n",
              "      current browser session. Please rerun this cell to enable.\n",
              "      </output>\n",
              "      <script src=\"/nbextensions/google.colab/files.js\"></script> "
            ],
            "text/plain": [
              "<IPython.core.display.HTML object>"
            ]
          },
          "metadata": {}
        },
        {
          "output_type": "stream",
          "name": "stdout",
          "text": [
            "Saving essay_BOW_appendix_words.csv to essay_BOW_appendix_words.csv\n"
          ]
        }
      ]
    },
    {
      "cell_type": "code",
      "metadata": {
        "colab": {
          "resources": {
            "http://localhost:8080/nbextensions/google.colab/files.js": {
              "data": "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",
              "ok": true,
              "headers": [
                [
                  "content-type",
                  "application/javascript"
                ]
              ],
              "status": 200,
              "status_text": ""
            }
          },
          "base_uri": "https://localhost:8080/",
          "height": 73
        },
        "id": "vpO5P3dIpWhh",
        "outputId": "d45c4fc6-f0ed-48f2-dfcf-4cd73b541910"
      },
      "source": [
        "# Import the Stab and Gurevych dataset (2017 version).\n",
        "\n",
        "uploaded = files.upload()"
      ],
      "execution_count": null,
      "outputs": [
        {
          "output_type": "display_data",
          "data": {
            "text/html": [
              "\n",
              "     <input type=\"file\" id=\"files-5014c4c8-4e15-426d-83d7-4e84a195fb2c\" name=\"files[]\" multiple disabled\n",
              "        style=\"border:none\" />\n",
              "     <output id=\"result-5014c4c8-4e15-426d-83d7-4e84a195fb2c\">\n",
              "      Upload widget is only available when the cell has been executed in the\n",
              "      current browser session. Please rerun this cell to enable.\n",
              "      </output>\n",
              "      <script src=\"/nbextensions/google.colab/files.js\"></script> "
            ],
            "text/plain": [
              "<IPython.core.display.HTML object>"
            ]
          },
          "metadata": {}
        },
        {
          "output_type": "stream",
          "name": "stdout",
          "text": [
            "Saving ArgumentAnnotatedEssays-2.0.zip to ArgumentAnnotatedEssays-2.0.zip\n"
          ]
        }
      ]
    },
    {
      "cell_type": "code",
      "metadata": {
        "id": "GMgahsgcrTws"
      },
      "source": [
        "# Function to extract zip file.\n",
        "# Takes in input the path to the zip file (path_zip) and the one to store the destination directory (path_destination).\n",
        "\n",
        "def extract_zip(path_zip,path_destination):\n",
        "  with zipfile.ZipFile(path_zip, 'r') as zip_ref:\n",
        "    zip_ref.extractall(path_destination)\n"
      ],
      "execution_count": null,
      "outputs": []
    },
    {
      "cell_type": "code",
      "metadata": {
        "id": "cE_5p8qap-Ib"
      },
      "source": [
        "# Extract zip file (two zip files one inside the other).\n",
        "\n",
        "extract_zip('ArgumentAnnotatedEssays-2.0.zip','ArgumentAnnotatedEssays-2.0')\n",
        "\n",
        "extract_zip('ArgumentAnnotatedEssays-2.0/ArgumentAnnotatedEssays-2.0/brat-project-final.zip','ArgumentAnnotatedEssays')"
      ],
      "execution_count": null,
      "outputs": []
    },
    {
      "cell_type": "markdown",
      "metadata": {
        "id": "OrsWTewaCnPf"
      },
      "source": [
        "# **Create the ann Dataframe**"
      ]
    },
    {
      "cell_type": "code",
      "metadata": {
        "id": "rdAvNRWA08Sg"
      },
      "source": [
        "# Extract the list of text files of the essays in the dataset.\n",
        "txt_files = sorted(glob.glob(\"ArgumentAnnotatedEssays/brat-project-final/essay*.txt\"))\n",
        "\n",
        "# Extract the list of text files of the essays in the dataset.\n",
        "ann_files = sorted(glob.glob(\"ArgumentAnnotatedEssays/brat-project-final/essay*.ann\"))"
      ],
      "execution_count": null,
      "outputs": []
    },
    {
      "cell_type": "code",
      "metadata": {
        "colab": {
          "base_uri": "https://localhost:8080/"
        },
        "id": "s1yFSufe1iFC",
        "outputId": "37802a4c-5fd8-4122-de18-35711f476efd"
      },
      "source": [
        "# List of text files of the essays.\n",
        "txt_files[0:5]"
      ],
      "execution_count": null,
      "outputs": [
        {
          "output_type": "execute_result",
          "data": {
            "text/plain": [
              "['ArgumentAnnotatedEssays/brat-project-final/essay001.txt',\n",
              " 'ArgumentAnnotatedEssays/brat-project-final/essay002.txt',\n",
              " 'ArgumentAnnotatedEssays/brat-project-final/essay003.txt',\n",
              " 'ArgumentAnnotatedEssays/brat-project-final/essay004.txt',\n",
              " 'ArgumentAnnotatedEssays/brat-project-final/essay005.txt']"
            ]
          },
          "metadata": {},
          "execution_count": 8
        }
      ]
    },
    {
      "cell_type": "code",
      "metadata": {
        "colab": {
          "base_uri": "https://localhost:8080/"
        },
        "id": "8yoE-YHW1ykn",
        "outputId": "46af7805-c351-43bf-f863-856c1736ad8e"
      },
      "source": [
        "# List of the annotated files of the essays.\n",
        "ann_files[0:5]"
      ],
      "execution_count": null,
      "outputs": [
        {
          "output_type": "execute_result",
          "data": {
            "text/plain": [
              "['ArgumentAnnotatedEssays/brat-project-final/essay001.ann',\n",
              " 'ArgumentAnnotatedEssays/brat-project-final/essay002.ann',\n",
              " 'ArgumentAnnotatedEssays/brat-project-final/essay003.ann',\n",
              " 'ArgumentAnnotatedEssays/brat-project-final/essay004.ann',\n",
              " 'ArgumentAnnotatedEssays/brat-project-final/essay005.ann']"
            ]
          },
          "metadata": {},
          "execution_count": 9
        }
      ]
    },
    {
      "cell_type": "code",
      "metadata": {
        "id": "SJtZWteKCka4"
      },
      "source": [
        "# Transfor the ann files into four dictionaries\n",
        "ann_disctionaries=[get_entities_relations_attributes_groups(file) for file in ann_files]\n",
        "\n",
        "# Transform the first dictionary (entities) obtained from each ann file into a dataset\n",
        "essay_ann_datasets = [pd.DataFrame.from_dict(entities, orient='index') for entities,_,_,_ in ann_disctionaries]\n",
        "\n",
        "# Add a coloumn into the dataset that identifies the document\n",
        "for i in range(len(essay_ann_datasets)):\n",
        "  essay_ann_datasets[i].insert(0,'doc_id',i)\n",
        "\n",
        "# Create a common dataset\n",
        "Essay_ann_dataset = pd.concat(essay_ann_datasets)"
      ],
      "execution_count": null,
      "outputs": []
    },
    {
      "cell_type": "code",
      "metadata": {
        "colab": {
          "base_uri": "https://localhost:8080/"
        },
        "id": "ShAWlc_o3RoB",
        "outputId": "fed9934b-3af0-4a99-e956-6c04ee5a57b7"
      },
      "source": [
        "# Sobstitue the values in the \"span\" feature (substitute each tuple with its first inner tuple)\n",
        "for i in range(len(Essay_ann_dataset.index)):\n",
        "  Essay_ann_dataset['span'][i]=Essay_ann_dataset['span'][i][0]"
      ],
      "execution_count": null,
      "outputs": [
        {
          "output_type": "stream",
          "name": "stderr",
          "text": [
            "/usr/local/lib/python3.7/dist-packages/ipykernel_launcher.py:3: SettingWithCopyWarning: \n",
            "A value is trying to be set on a copy of a slice from a DataFrame\n",
            "\n",
            "See the caveats in the documentation: https://pandas.pydata.org/pandas-docs/stable/user_guide/indexing.html#returning-a-view-versus-a-copy\n",
            "  This is separate from the ipykernel package so we can avoid doing imports until\n"
          ]
        }
      ]
    },
    {
      "cell_type": "code",
      "metadata": {
        "colab": {
          "base_uri": "https://localhost:8080/"
        },
        "id": "0RvtcIuEDGgY",
        "outputId": "33d856a7-d56e-498b-e769-0898930b72ac"
      },
      "source": [
        "Essay_ann_dataset.head()"
      ],
      "execution_count": null,
      "outputs": [
        {
          "output_type": "execute_result",
          "data": {
            "text/html": [
              "<div>\n",
              "<style scoped>\n",
              "    .dataframe tbody tr th:only-of-type {\n",
              "        vertical-align: middle;\n",
              "    }\n",
              "\n",
              "    .dataframe tbody tr th {\n",
              "        vertical-align: top;\n",
              "    }\n",
              "\n",
              "    .dataframe thead th {\n",
              "        text-align: right;\n",
              "    }\n",
              "</style>\n",
              "<table border=\"1\" class=\"dataframe\">\n",
              "  <thead>\n",
              "    <tr style=\"text-align: right;\">\n",
              "      <th></th>\n",
              "      <th>doc_id</th>\n",
              "      <th>id</th>\n",
              "      <th>type</th>\n",
              "      <th>span</th>\n",
              "      <th>text</th>\n",
              "    </tr>\n",
              "  </thead>\n",
              "  <tbody>\n",
              "    <tr>\n",
              "      <th>T1</th>\n",
              "      <td>0</td>\n",
              "      <td>T1</td>\n",
              "      <td>MajorClaim</td>\n",
              "      <td>(503, 575)</td>\n",
              "      <td>we should attach more importance to cooperatio...</td>\n",
              "    </tr>\n",
              "    <tr>\n",
              "      <th>T2</th>\n",
              "      <td>0</td>\n",
              "      <td>T2</td>\n",
              "      <td>MajorClaim</td>\n",
              "      <td>(2154, 2231)</td>\n",
              "      <td>a more cooperative attitudes towards life is m...</td>\n",
              "    </tr>\n",
              "    <tr>\n",
              "      <th>T3</th>\n",
              "      <td>0</td>\n",
              "      <td>T3</td>\n",
              "      <td>Claim</td>\n",
              "      <td>(591, 714)</td>\n",
              "      <td>through cooperation, children can learn about ...</td>\n",
              "    </tr>\n",
              "    <tr>\n",
              "      <th>T4</th>\n",
              "      <td>0</td>\n",
              "      <td>T4</td>\n",
              "      <td>Premise</td>\n",
              "      <td>(716, 851)</td>\n",
              "      <td>What we acquired from team work is not only ho...</td>\n",
              "    </tr>\n",
              "    <tr>\n",
              "      <th>T5</th>\n",
              "      <td>0</td>\n",
              "      <td>T5</td>\n",
              "      <td>Premise</td>\n",
              "      <td>(853, 1086)</td>\n",
              "      <td>During the process of cooperation, children ca...</td>\n",
              "    </tr>\n",
              "  </tbody>\n",
              "</table>\n",
              "</div>"
            ],
            "text/plain": [
              "    doc_id  id  ...          span                                               text\n",
              "T1       0  T1  ...    (503, 575)  we should attach more importance to cooperatio...\n",
              "T2       0  T2  ...  (2154, 2231)  a more cooperative attitudes towards life is m...\n",
              "T3       0  T3  ...    (591, 714)  through cooperation, children can learn about ...\n",
              "T4       0  T4  ...    (716, 851)  What we acquired from team work is not only ho...\n",
              "T5       0  T5  ...   (853, 1086)  During the process of cooperation, children ca...\n",
              "\n",
              "[5 rows x 5 columns]"
            ]
          },
          "metadata": {},
          "execution_count": 12
        }
      ]
    },
    {
      "cell_type": "markdown",
      "metadata": {
        "id": "0697g-wg76g8"
      },
      "source": [
        "# **IOB and word list**"
      ]
    },
    {
      "cell_type": "code",
      "metadata": {
        "id": "En1l-2YSD7_z"
      },
      "source": [
        "# List of texts of the essays\n",
        "files_text=[open(file).read() for file in txt_files]"
      ],
      "execution_count": null,
      "outputs": []
    },
    {
      "cell_type": "code",
      "metadata": {
        "id": "dK-GkChLgEyl"
      },
      "source": [
        "# Check the presence of the character | (information used later).\n",
        "for essay in files_text:\n",
        "  if not (essay.find(\"|\") == -1):\n",
        "      print(\"One found!\")"
      ],
      "execution_count": null,
      "outputs": []
    },
    {
      "cell_type": "code",
      "metadata": {
        "id": "c-Xv3S56l_HC"
      },
      "source": [
        "# Get the start and finish points of each argumentative section of each of the text.\n",
        "# Also get the type of each argumentative section.\n",
        "# This points are indicated in the \"span\" coloumn of the Dataframe of the annotation.\n",
        "\n",
        "sorted_span=[sorted(list(Essay_ann_dataset.loc[Essay_ann_dataset['doc_id'] == i,['span','type']].values), key=lambda element: (element[0][0]) ) for i in range(len(ann_files))]"
      ],
      "execution_count": null,
      "outputs": []
    },
    {
      "cell_type": "code",
      "metadata": {
        "colab": {
          "base_uri": "https://localhost:8080/"
        },
        "id": "FY761IVz8g2z",
        "outputId": "1a926436-1fa6-42b7-e96a-519034788fac"
      },
      "source": [
        "sorted_span[0]"
      ],
      "execution_count": null,
      "outputs": [
        {
          "output_type": "execute_result",
          "data": {
            "text/plain": [
              "[array([(503, 575), 'MajorClaim'], dtype=object),\n",
              " array([(591, 714), 'Claim'], dtype=object),\n",
              " array([(716, 851), 'Premise'], dtype=object),\n",
              " array([(853, 1086), 'Premise'], dtype=object),\n",
              " array([(1088, 1191), 'Premise'], dtype=object),\n",
              " array([(1212, 1301), 'Premise'], dtype=object),\n",
              " array([(1332, 1376), 'Claim'], dtype=object),\n",
              " array([(1387, 1492), 'Premise'], dtype=object),\n",
              " array([(1549, 1846), 'Premise'], dtype=object),\n",
              " array([(1927, 1992), 'Claim'], dtype=object),\n",
              " array([(2154, 2231), 'MajorClaim'], dtype=object)]"
            ]
          },
          "metadata": {},
          "execution_count": 16
        }
      ]
    },
    {
      "cell_type": "code",
      "metadata": {
        "id": "IB7ydWo78-x2"
      },
      "source": [
        "# Tranform the couples of points ((start,end) of each section) to a list (separator of different section).\n",
        "\n",
        "span_points=[]\n",
        "\n",
        "for i in range(len(sorted_span)):\n",
        "  list_points=[sep for sub in sorted_span[i] for sep in sub[0]]\n",
        "  # Insert starting point of the text\n",
        "  list_points.insert(0,0)\n",
        "  list_points.append(len(files_text[i]))\n",
        "  span_points.append(list_points)"
      ],
      "execution_count": null,
      "outputs": []
    },
    {
      "cell_type": "code",
      "metadata": {
        "colab": {
          "base_uri": "https://localhost:8080/"
        },
        "id": "LFHv8OFV-MER",
        "outputId": "16481693-99b3-4a7f-c994-3eda4b3a6da4"
      },
      "source": [
        "span_points[0]"
      ],
      "execution_count": null,
      "outputs": [
        {
          "output_type": "execute_result",
          "data": {
            "text/plain": [
              "[0,\n",
              " 503,\n",
              " 575,\n",
              " 591,\n",
              " 714,\n",
              " 716,\n",
              " 851,\n",
              " 853,\n",
              " 1086,\n",
              " 1088,\n",
              " 1191,\n",
              " 1212,\n",
              " 1301,\n",
              " 1332,\n",
              " 1376,\n",
              " 1387,\n",
              " 1492,\n",
              " 1549,\n",
              " 1846,\n",
              " 1927,\n",
              " 1992,\n",
              " 2154,\n",
              " 2231,\n",
              " 2232]"
            ]
          },
          "metadata": {},
          "execution_count": 18
        }
      ]
    },
    {
      "cell_type": "code",
      "metadata": {
        "id": "YV3tm2bS-p_t"
      },
      "source": [
        "# Separate the texts at the point indicated for the different sections\n",
        "\n",
        "split_text=[]\n",
        "\n",
        "for z in range(len(files_text)):\n",
        "  split_text.append([files_text[z][i: j] for i, j in zip(span_points[z], span_points[z][1:])])"
      ],
      "execution_count": null,
      "outputs": []
    },
    {
      "cell_type": "code",
      "metadata": {
        "colab": {
          "base_uri": "https://localhost:8080/"
        },
        "id": "YyylYuLL_SEb",
        "outputId": "c16bb4e8-b07c-4681-ae2d-3b2016ad5caa"
      },
      "source": [
        "split_text[0][0:10]"
      ],
      "execution_count": null,
      "outputs": [
        {
          "output_type": "execute_result",
          "data": {
            "text/plain": [
              "[\"Should students be taught to compete or to cooperate?\\n\\nIt is always said that competition can effectively promote the development of economy. In order to survive in the competition, companies continue to improve their products and service, and as a result, the whole society prospers. However, when we discuss the issue of competition or cooperation, what we are concerned about is not the whole society, but the development of an individual's whole life. From this point of view, I firmly believe that \",\n",
              " 'we should attach more importance to cooperation during primary education',\n",
              " '.\\nFirst of all, ',\n",
              " 'through cooperation, children can learn about interpersonal skills which are significant in the future life of all students',\n",
              " '. ',\n",
              " 'What we acquired from team work is not only how to achieve the same goal with others but more importantly, how to get along with others',\n",
              " '. ',\n",
              " 'During the process of cooperation, children can learn about how to listen to opinions of others, how to communicate with others, how to think comprehensively, and even how to compromise with other team members when conflicts occurred',\n",
              " '. ',\n",
              " 'All of these skills help them to get on well with other people and will benefit them for the whole life']"
            ]
          },
          "metadata": {},
          "execution_count": 20
        }
      ]
    },
    {
      "cell_type": "code",
      "metadata": {
        "id": "lYVRUlXHAwa3"
      },
      "source": [
        "# Get the list of the words of each essay and the corresponding labels \n",
        "# ( argumentative section, premise or claim indicated through IOB).\n",
        "\n",
        "Y_IOB=[]\n",
        "X_essay_word_list=[]\n",
        "\n",
        "for i in range(len(split_text)):\n",
        "  \n",
        "  IOB=[]\n",
        "  essay_word_list=[]\n",
        "\n",
        "  # next_type is the next position still not considered in the list of argumentative sections of the essay examined.\n",
        "  next_type=0\n",
        "\n",
        "  # Remove title from essay considered (splitted_text)\n",
        "  no_title=[re.sub(r\".*\\n\\n\",\"\",text) for text in split_text[i]]\n",
        "\n",
        "  no_title=[re.sub(r\"\\n\",\" | \",text) for text in no_title]\n",
        "\n",
        "  # Set boolean value next_token_is_argumentative to false.\n",
        "  # (first section of each essay is never argumentative, it's the one containing the title).\n",
        "  next_token_is_argumentative=False\n",
        "\n",
        "  for section in no_title:\n",
        "\n",
        "    # Divide the text into token.\n",
        "    seq=nltk.word_tokenize(section.lower())\n",
        "\n",
        "    essay_word_list+=seq\n",
        "\n",
        "    if next_token_is_argumentative:\n",
        "      if sorted_span[i][next_type][1]=='Premise':\n",
        "        IOB+=['B-P']\n",
        "        for token in range(len(seq)-1):\n",
        "          IOB+=['I-P']\n",
        "      else:\n",
        "        IOB+=['B-C']\n",
        "        for token in range(len(seq)-1):\n",
        "          IOB+=['I-C']\n",
        "      next_type += 1     \n",
        "    else:\n",
        "      for token in range(len(seq)):\n",
        "        IOB+=['O']\n",
        "\n",
        "    # An argumentative section is followed by a non-argumentative section and vice-versa    \n",
        "    next_token_is_argumentative=not next_token_is_argumentative\n",
        "\n",
        "  Y_IOB.append(IOB)\n",
        "  X_essay_word_list.append(essay_word_list)"
      ],
      "execution_count": null,
      "outputs": []
    },
    {
      "cell_type": "code",
      "metadata": {
        "colab": {
          "base_uri": "https://localhost:8080/"
        },
        "id": "IK9ZdPIJC2VA",
        "outputId": "8d8de3a0-07e2-4121-eadc-fb82aaf1eeeb"
      },
      "source": [
        "for i in range(80,120):\n",
        "  print(X_essay_word_list[0][i]+\" - \"+Y_IOB[0][i])"
      ],
      "execution_count": null,
      "outputs": [
        {
          "output_type": "stream",
          "name": "stdout",
          "text": [
            "i - O\n",
            "firmly - O\n",
            "believe - O\n",
            "that - O\n",
            "we - B-C\n",
            "should - I-C\n",
            "attach - I-C\n",
            "more - I-C\n",
            "importance - I-C\n",
            "to - I-C\n",
            "cooperation - I-C\n",
            "during - I-C\n",
            "primary - I-C\n",
            "education - I-C\n",
            ". - O\n",
            "| - O\n",
            "first - O\n",
            "of - O\n",
            "all - O\n",
            ", - O\n",
            "through - B-C\n",
            "cooperation - I-C\n",
            ", - I-C\n",
            "children - I-C\n",
            "can - I-C\n",
            "learn - I-C\n",
            "about - I-C\n",
            "interpersonal - I-C\n",
            "skills - I-C\n",
            "which - I-C\n",
            "are - I-C\n",
            "significant - I-C\n",
            "in - I-C\n",
            "the - I-C\n",
            "future - I-C\n",
            "life - I-C\n",
            "of - I-C\n",
            "all - I-C\n",
            "students - I-C\n",
            ". - O\n"
          ]
        }
      ]
    },
    {
      "cell_type": "markdown",
      "metadata": {
        "id": "pov3Yk0pUbjm"
      },
      "source": [
        "# **Find out sentences which contain argumentative section**"
      ]
    },
    {
      "cell_type": "code",
      "metadata": {
        "id": "QPcb2rgQUmzn"
      },
      "source": [
        "# Get the list of all the sentences and the fact that they contain \n",
        "# an argumentative section, a premise or a claim or not.\n",
        "\n",
        "sentence_list=[]\n",
        "sentences_argumentative_map=[]\n",
        "sentences_claim_presence_map=[]\n",
        "sentences_premise_presence_map=[]\n",
        "\n",
        "# Also store the number of the paragraph containing the sentence in the essay,\n",
        "# toghether with the order of the sentence in the paragraph and in the entire text. \n",
        "number_of_paragraph=[]\n",
        "number_sentence_in_paragraph=[]\n",
        "number_sentence_in_the_essay=[]\n",
        "\n",
        "# List containing the id of the essay for each sentence in the corpus.\n",
        "sentence_essay_id_list=[]\n",
        "# Also store the sentence length.\n",
        "sentence_number_words=[]\n",
        "\n",
        "# Tokens to not consider as words in the words count.\n",
        "ignore_tokens = ['\\\\', '~', '(', ')', '[', ']', '{', '}', '/', '\"', \"'\", '^' ,'?', '!', '*', ',', '.', ';', ':']\n",
        "\n",
        "for essay_id in range(len(X_essay_word_list)):\n",
        "  sentence=\"\"\n",
        "  argumentative=False\n",
        "  claim=False\n",
        "  premise=False\n",
        "  num_paragraph=0\n",
        "  num_in_paragraph=0\n",
        "  num_in_essay=0\n",
        "  sentence_length=0\n",
        "\n",
        "  for word_id in range(len(X_essay_word_list[essay_id])):\n",
        "    \n",
        "    word=X_essay_word_list[essay_id][word_id]\n",
        "    bio_of_word=Y_IOB[essay_id][word_id]\n",
        "\n",
        "    if not (bio_of_word=='O'):\n",
        "      argumentative=True\n",
        "      if (bio_of_word=='I-C') or (bio_of_word=='B-C'):\n",
        "        claim=True\n",
        "      else:\n",
        "        premise=True  \n",
        "\n",
        "    # Add to the sentence every word that is not a simple \\n or the end of the sentence (\".\").\n",
        "    if not ( word==\"|\" or word==\".\" ):\n",
        "      sentence+=word+\" \"\n",
        "      if word not in ignore_tokens:\n",
        "        sentence_length+=1\n",
        "    if word==\"|\":\n",
        "      num_paragraph+=1\n",
        "      num_in_paragraph=0\n",
        "          \n",
        "    # '.', '?' or '!' is the end of the sentence.       \n",
        "    if word in [\".\",\"?\",\"!\"] and ( not sentence==\"\"):\n",
        "      sentence_list.append(sentence)\n",
        "\n",
        "      # Add the indicator of the presence of argumentative sections to the correspondent lists.\n",
        "      sentences_argumentative_map.append(argumentative)\n",
        "      sentences_claim_presence_map.append(claim)\n",
        "      sentences_premise_presence_map.append(premise)\n",
        "      # Add the indicators of the sentence's position to the correspondent lists.\n",
        "      number_of_paragraph.append(num_paragraph)\n",
        "      number_sentence_in_paragraph.append(num_in_paragraph)\n",
        "      number_sentence_in_the_essay.append(num_in_essay)\n",
        "      sentence_essay_id_list.append(essay_id)\n",
        "      # Strore the sentence length and set the value for the next sentence to 0.\n",
        "      sentence_number_words.append(sentence_length)\n",
        "      \n",
        "      sentence_length=0\n",
        "      argumentative=False\n",
        "      claim=False\n",
        "      premise=False\n",
        "      sentence=\"\"\n",
        "      num_in_paragraph+=1\n",
        "      num_in_essay+=1\n",
        "\n",
        "  if not sentence==\"\":  \n",
        "    sentence_list.append(sentence)\n",
        "\n",
        "    # Add the indicator of the presence of argumentative sections to the correspondent lists.\n",
        "    sentences_argumentative_map.append(argumentative)\n",
        "    sentences_claim_presence_map.append(claim)\n",
        "    sentences_premise_presence_map.append(premise)\n",
        "    # Add the indicators of the sentence's position to the correspondent lists.\n",
        "    number_of_paragraph.append(num_paragraph)\n",
        "    number_sentence_in_paragraph.append(num_in_paragraph)\n",
        "    number_sentence_in_the_essay.append(num_in_essay)\n",
        "    sentence_essay_id_list.append(essay_id)\n",
        "    # Strore the sentence length and set the value for the next sentence to 0.\n",
        "    sentence_number_words.append(sentence_length)\n",
        "      \n",
        "    sentence_length=0\n",
        "    argumentative=False\n",
        "    claim=False\n",
        "    premise=False\n",
        "    sentence=\"\"\n",
        "    num_in_paragraph+=1\n",
        "    num_in_essay+=1"
      ],
      "execution_count": null,
      "outputs": []
    },
    {
      "cell_type": "code",
      "metadata": {
        "id": "7oeisI5WM14Q"
      },
      "source": [
        "# Store for each sentence the length with respect to the media of the essay. \n",
        "\n",
        "sentence_length_with_respect_to_media_essay=[]\n",
        "\n",
        "lengths_sentences=[]\n",
        "total_sentence_length=0\n",
        "counter_sentences=0\n",
        "\n",
        "for i in range(len(sentence_number_words)):\n",
        "  # Check if new essay.\n",
        "  if number_sentence_in_the_essay[i]==0 and (not (counter_sentences==0)):\n",
        "    media=total_sentence_length/counter_sentences\n",
        "    for text in lengths_sentences:\n",
        "      sentence_length_with_respect_to_media_essay.append(text/media)\n",
        "    lengths_sentences=[]\n",
        "    total_sentence_length=0\n",
        "    counter_sentences=0\n",
        "  sentence=sentence_number_words[i]\n",
        "  lengths_sentences.append(sentence)\n",
        "  total_sentence_length+=sentence\n",
        "  counter_sentences+=1\n",
        "  # check if sententce is the last one of the corpus.\n",
        "  if i==len(number_sentence_in_the_essay)-1:\n",
        "    media=total_sentence_length/counter_sentences\n",
        "    for text in lengths_sentences:\n",
        "      sentence_length_with_respect_to_media_essay.append(text/media)"
      ],
      "execution_count": null,
      "outputs": []
    },
    {
      "cell_type": "code",
      "metadata": {
        "colab": {
          "base_uri": "https://localhost:8080/"
        },
        "id": "ZRz0FCBH3LQl",
        "outputId": "bc36b00e-cb86-4d7b-8765-1b8bbf3e7d93"
      },
      "source": [
        "len(sentence_length_with_respect_to_media_essay)"
      ],
      "execution_count": null,
      "outputs": [
        {
          "output_type": "execute_result",
          "data": {
            "text/plain": [
              "6738"
            ]
          },
          "metadata": {},
          "execution_count": 25
        }
      ]
    },
    {
      "cell_type": "code",
      "metadata": {
        "colab": {
          "base_uri": "https://localhost:8080/"
        },
        "id": "p151WMc4n-6A",
        "outputId": "6fa412ad-16c9-429c-bad1-a694ac98b2a2"
      },
      "source": [
        "print(number_of_paragraph[0:20])"
      ],
      "execution_count": null,
      "outputs": [
        {
          "output_type": "stream",
          "name": "stdout",
          "text": [
            "[0, 0, 0, 0, 1, 1, 1, 1, 2, 2, 2, 2, 2, 2, 2, 3, 0, 0, 0, 0]\n"
          ]
        }
      ]
    },
    {
      "cell_type": "code",
      "metadata": {
        "id": "Oq5QEb28jk4W"
      },
      "source": [
        "# Create a list containing, for each sentence in the corpus, the number of sentences in\n",
        "# its own paragraph. \n",
        "count_sentences_in_paragraph=[]\n",
        "\n",
        "len_sentence_list=len(sentence_list)-1\n",
        "\n",
        "for i in range(len_sentence_list):\n",
        "  if not number_of_paragraph[i]==number_of_paragraph[i+1]:\n",
        "    number_to_add=number_sentence_in_paragraph[i]+1\n",
        "    count_sentences_in_paragraph+=[number_to_add for j in range(number_to_add)]\n",
        "  if i==(len_sentence_list-1):\n",
        "    number_to_add=number_sentence_in_paragraph[i+1]+1\n",
        "    count_sentences_in_paragraph+=[number_to_add for j in range(number_to_add)]"
      ],
      "execution_count": null,
      "outputs": []
    },
    {
      "cell_type": "code",
      "metadata": {
        "colab": {
          "base_uri": "https://localhost:8080/"
        },
        "id": "AQ4VoheZmkxb",
        "outputId": "8c038ac3-c579-405d-f5ff-d842c208961e"
      },
      "source": [
        "count_sentences_in_paragraph[:10]"
      ],
      "execution_count": null,
      "outputs": [
        {
          "output_type": "execute_result",
          "data": {
            "text/plain": [
              "[4, 4, 4, 4, 4, 4, 4, 4, 7, 7]"
            ]
          },
          "metadata": {},
          "execution_count": 28
        }
      ]
    },
    {
      "cell_type": "code",
      "metadata": {
        "colab": {
          "base_uri": "https://localhost:8080/"
        },
        "id": "B3GHfBia3SaZ",
        "outputId": "9453740c-6cd4-42b0-dbb7-b59662d4bc98"
      },
      "source": [
        "len(count_sentences_in_paragraph)"
      ],
      "execution_count": null,
      "outputs": [
        {
          "output_type": "execute_result",
          "data": {
            "text/plain": [
              "6738"
            ]
          },
          "metadata": {},
          "execution_count": 29
        }
      ]
    },
    {
      "cell_type": "code",
      "metadata": {
        "id": "2zsL6Tzx0oqR"
      },
      "source": [
        "# Create a list containing, for each document in the corpus, the number of pargraphs\n",
        "# in it. \n",
        "count_paragraphs_in_essay=[]\n",
        "\n",
        "len_sentence_list=len(sentence_list)-1\n",
        "\n",
        "for i in range(len_sentence_list):\n",
        "  if not sentence_essay_id_list[i]==sentence_essay_id_list[i+1]:\n",
        "    number_to_add=number_of_paragraph[i]+1\n",
        "    number_of_addition=number_sentence_in_the_essay[i]+1\n",
        "    count_paragraphs_in_essay+=[number_to_add for j in range(number_of_addition)]\n",
        "  if i==(len_sentence_list-1):\n",
        "    number_to_add=number_of_paragraph[i+1]+1\n",
        "    number_of_addition=number_sentence_in_the_essay[i+1]+1\n",
        "    count_paragraphs_in_essay+=[number_to_add for j in range(number_of_addition)]"
      ],
      "execution_count": null,
      "outputs": []
    },
    {
      "cell_type": "code",
      "metadata": {
        "colab": {
          "base_uri": "https://localhost:8080/"
        },
        "id": "M1q1Aa5v0pY-",
        "outputId": "6c394cc5-c50d-477f-d603-94946967b263"
      },
      "source": [
        "count_paragraphs_in_essay[:10]"
      ],
      "execution_count": null,
      "outputs": [
        {
          "output_type": "execute_result",
          "data": {
            "text/plain": [
              "[4, 4, 4, 4, 4, 4, 4, 4, 4, 4]"
            ]
          },
          "metadata": {},
          "execution_count": 31
        }
      ]
    },
    {
      "cell_type": "code",
      "metadata": {
        "colab": {
          "base_uri": "https://localhost:8080/"
        },
        "id": "wKe2w4tf2-sY",
        "outputId": "5e7d2871-a484-4591-caf1-fb86ed5cdce5"
      },
      "source": [
        "len(count_paragraphs_in_essay)"
      ],
      "execution_count": null,
      "outputs": [
        {
          "output_type": "execute_result",
          "data": {
            "text/plain": [
              "6738"
            ]
          },
          "metadata": {},
          "execution_count": 32
        }
      ]
    },
    {
      "cell_type": "code",
      "metadata": {
        "colab": {
          "base_uri": "https://localhost:8080/"
        },
        "id": "5VszfWwMYgmp",
        "outputId": "f4f29c34-67a5-4de4-dba2-eb85193afa66"
      },
      "source": [
        "for i in range(5):\n",
        "  print(sentence_list[i])\n",
        "  print(\"paragraph {} - position in paragraph {} - position in text {} - total number of sentences in current paragraph {}\".format(number_of_paragraph[i],number_sentence_in_paragraph[i], number_sentence_in_the_essay[i], count_sentences_in_paragraph[i]))\n",
        "  print(\"absolute sentence length {} - with respect to the media of the essay {}\".format(sentence_number_words[i],sentence_length_with_respect_to_media_essay[i]))\n",
        "  if sentences_argumentative_map[i]:\n",
        "    print(\"argumentative\")\n",
        "  else:\n",
        "    print(\"NOT argumentative\")\n",
        "  print(\"-\")  "
      ],
      "execution_count": null,
      "outputs": [
        {
          "output_type": "stream",
          "name": "stdout",
          "text": [
            "it is always said that competition can effectively promote the development of economy \n",
            "paragraph 0 - position in paragraph 0 - position in text 0 - total number of sentences in current paragraph 4\n",
            "absolute sentence length 13 - with respect to the media of the essay 0.5636856368563685\n",
            "NOT argumentative\n",
            "-\n",
            "in order to survive in the competition , companies continue to improve their products and service , and as a result , the whole society prospers \n",
            "paragraph 0 - position in paragraph 1 - position in text 1 - total number of sentences in current paragraph 4\n",
            "absolute sentence length 23 - with respect to the media of the essay 0.997289972899729\n",
            "NOT argumentative\n",
            "-\n",
            "however , when we discuss the issue of competition or cooperation , what we are concerned about is not the whole society , but the development of an individual 's whole life \n",
            "paragraph 0 - position in paragraph 2 - position in text 2 - total number of sentences in current paragraph 4\n",
            "absolute sentence length 29 - with respect to the media of the essay 1.2574525745257452\n",
            "NOT argumentative\n",
            "-\n",
            "from this point of view , i firmly believe that we should attach more importance to cooperation during primary education \n",
            "paragraph 0 - position in paragraph 3 - position in text 3 - total number of sentences in current paragraph 4\n",
            "absolute sentence length 19 - with respect to the media of the essay 0.8238482384823849\n",
            "argumentative\n",
            "-\n",
            "first of all , through cooperation , children can learn about interpersonal skills which are significant in the future life of all students \n",
            "paragraph 1 - position in paragraph 0 - position in text 4 - total number of sentences in current paragraph 4\n",
            "absolute sentence length 21 - with respect to the media of the essay 0.9105691056910569\n",
            "argumentative\n",
            "-\n"
          ]
        }
      ]
    },
    {
      "cell_type": "markdown",
      "metadata": {
        "id": "C_MVtFancrXE"
      },
      "source": [
        "# **Find out percentage of sentences which contains at least one argumentative section**"
      ]
    },
    {
      "cell_type": "code",
      "metadata": {
        "colab": {
          "base_uri": "https://localhost:8080/"
        },
        "id": "-eI-lFIYc1z0",
        "outputId": "7a3b7987-3cb1-4dd1-dfb0-ccab9dd608e5"
      },
      "source": [
        "# Number of total sententences contained in the essays.\n",
        "num_total_sentences=len(sentence_list)\n",
        "print(\"Total number of sentences {}\".format(num_total_sentences))\n",
        "\n",
        "# Number of sententences containing at least an argumentative section contained in the essays.\n",
        "num_arg_sentences=sum(sentences_argumentative_map)\n",
        "print(\"Number of sentences containing an argumentative section {}\".format(num_arg_sentences))\n",
        "\n",
        "# Number of sententences containing at least a part of a claim contained in the essays.\n",
        "num_claim_sentences=sum(sentences_claim_presence_map)\n",
        "print(\"Number of sentences containing a claim {}\".format(num_claim_sentences))\n",
        "\n",
        "# Number of sententences containing at least a part of a premise contained in the essays.\n",
        "num_premise_sentences=sum(sentences_premise_presence_map)\n",
        "print(\"Number of sentences containing a premise {}\".format(num_premise_sentences))"
      ],
      "execution_count": null,
      "outputs": [
        {
          "output_type": "stream",
          "name": "stdout",
          "text": [
            "Total number of sentences 6738\n",
            "Number of sentences containing an argumentative section 5507\n",
            "Number of sentences containing a claim 2109\n",
            "Number of sentences containing a premise 3553\n"
          ]
        }
      ]
    },
    {
      "cell_type": "markdown",
      "metadata": {
        "id": "v-VhumeZkB6O"
      },
      "source": [
        "# **Export sentences' labels**"
      ]
    },
    {
      "cell_type": "code",
      "metadata": {
        "id": "S4GWUHwek_op"
      },
      "source": [
        "pd.DataFrame(sentences_argumentative_map).to_csv('argumentative_labels.csv',index=False)"
      ],
      "execution_count": null,
      "outputs": []
    },
    {
      "cell_type": "markdown",
      "metadata": {
        "id": "V5ah4d7RwxYI"
      },
      "source": [
        "# **Split Train and Test set**"
      ]
    },
    {
      "cell_type": "code",
      "metadata": {
        "id": "mrvu9lSByLfh"
      },
      "source": [
        "# Create a list of values between 0 and 401, where each value indicate an essay\n",
        "# in the corpus.\n",
        "\n",
        "essay_id_list=[i for i in range(402)]"
      ],
      "execution_count": null,
      "outputs": []
    },
    {
      "cell_type": "code",
      "metadata": {
        "id": "hbhPLcCuw12o"
      },
      "source": [
        "# Divide the corpus (documents containing the essay) in test and train test.\n",
        "train_set,test_set=train_test_split(essay_id_list,test_size=0.15,random_state=42)"
      ],
      "execution_count": null,
      "outputs": []
    },
    {
      "cell_type": "code",
      "metadata": {
        "colab": {
          "base_uri": "https://localhost:8080/"
        },
        "id": "1fpSwg0hyt8v",
        "outputId": "1a4b35df-239d-44b9-b8ac-960dabca888a"
      },
      "source": [
        "print(len(train_set))\n",
        "\n",
        "train_set[:10]"
      ],
      "execution_count": null,
      "outputs": [
        {
          "output_type": "stream",
          "name": "stdout",
          "text": [
            "341\n"
          ]
        },
        {
          "output_type": "execute_result",
          "data": {
            "text/plain": [
              "[253, 282, 78, 101, 31, 274, 222, 233, 73, 287]"
            ]
          },
          "metadata": {},
          "execution_count": 38
        }
      ]
    },
    {
      "cell_type": "code",
      "metadata": {
        "colab": {
          "base_uri": "https://localhost:8080/"
        },
        "id": "KPQoIUW6yxF-",
        "outputId": "4b00e103-8bc5-414c-e483-ad43179fb537"
      },
      "source": [
        "print(len(test_set))\n",
        "\n",
        "test_set[:10]"
      ],
      "execution_count": null,
      "outputs": [
        {
          "output_type": "stream",
          "name": "stdout",
          "text": [
            "61\n"
          ]
        },
        {
          "output_type": "execute_result",
          "data": {
            "text/plain": [
              "[285, 281, 33, 211, 93, 84, 391, 94, 225, 126]"
            ]
          },
          "metadata": {},
          "execution_count": 39
        }
      ]
    },
    {
      "cell_type": "code",
      "metadata": {
        "id": "yquXKCOF4zqi"
      },
      "source": [
        "# Create the list of id of sentences belonging to the train set and the one\n",
        "# of the sentences belonging to the test set.\n",
        "sentence_id_test_set=[]\n",
        "sentence_id_train_set=[]\n",
        "\n",
        "for sentence_id in range(len(sentence_list)):\n",
        "  if sentence_essay_id_list[sentence_id] in train_set:\n",
        "    sentence_id_train_set.append(sentence_id)\n",
        "  else:\n",
        "    sentence_id_test_set.append(sentence_id)\n",
        "\n",
        "# Export the list of sentence id in train set.\n",
        "pd.DataFrame(sentence_id_test_set).to_csv('test_sentence.csv',index=False)"
      ],
      "execution_count": null,
      "outputs": []
    },
    {
      "cell_type": "code",
      "metadata": {
        "id": "EsHpAlc1BBdO"
      },
      "source": [
        "# Create the version of the sentences_argumentative_map list which contains only\n",
        "# the tags for the sentences in the train set.\n",
        "train_sentences_argumentative_map=[sentences_argumentative_map[id] for id in sentence_id_train_set]"
      ],
      "execution_count": null,
      "outputs": []
    },
    {
      "cell_type": "markdown",
      "metadata": {
        "id": "mHxIe8UHrzAP"
      },
      "source": [
        "# **Correaltion scores**"
      ]
    },
    {
      "cell_type": "code",
      "metadata": {
        "id": "v_C32wsNSslN"
      },
      "source": [
        "# Compute the sorted correlation scores.\n",
        "# Takes in input a dataframe and a list of labels, returns the sorted (from higher to lower) \n",
        "# list of columns names and their correlation value.\n",
        "\n",
        "def get_correlation_scores(dataframe: pd.DataFrame, labels: list)->list:\n",
        "  correlation_scores= []\n",
        "\n",
        "  columns=dataframe.columns\n",
        "  for column in columns:\n",
        "    correlation, p_value = spearmanr(dataframe[column].values, labels)\n",
        "    # Correlation absolute value.\n",
        "    correlation = np.abs(correlation)\n",
        "    correlation_scores.append((correlation,column))\n",
        "\n",
        "  # Sort the correlation scores of each word with the lable by the correlation score associated.\n",
        "  correlation_scores=sorted(correlation_scores, key=lambda x: (x[0]), reverse=True)    \n",
        "\n",
        "  return correlation_scores"
      ],
      "execution_count": null,
      "outputs": []
    },
    {
      "cell_type": "markdown",
      "metadata": {
        "id": "pPLWZW3NhaMF"
      },
      "source": [
        "# **Data positions and sentences statistic**"
      ]
    },
    {
      "cell_type": "code",
      "metadata": {
        "id": "y9jCYEyWtMDI"
      },
      "source": [
        "# Create dataframe of the feature extracted until now and evaluate their correlation\n",
        "# with the labels (presence of an argumentative section in a sentence) using the \n",
        "# Spearman test. \n",
        "\n",
        "sentence_stat_dataframe=pd.DataFrame(dict(zip([\"paragraph in essay\",\"sentence in paragraph\", \"sentence in essay\", \"total sentences in paragraph\", \"total paragraphs in document\",\"number words in sentence\", \"sentence length / media sentence length in essay\"],\n",
        "                                              [number_of_paragraph,number_sentence_in_paragraph,number_sentence_in_the_essay,count_sentences_in_paragraph,count_paragraphs_in_essay,sentence_number_words,sentence_length_with_respect_to_media_essay])))\n",
        "\n",
        "correlation_scores_sentence_stat=get_correlation_scores(sentence_stat_dataframe,sentences_argumentative_map)"
      ],
      "execution_count": null,
      "outputs": []
    },
    {
      "cell_type": "code",
      "metadata": {
        "colab": {
          "base_uri": "https://localhost:8080/",
          "height": 220
        },
        "id": "6SLdk7_j4FAw",
        "outputId": "3e9f6af5-98fb-4f69-d7c6-a0d3c1960368"
      },
      "source": [
        "sentence_stat_dataframe.head()"
      ],
      "execution_count": null,
      "outputs": [
        {
          "output_type": "execute_result",
          "data": {
            "text/html": [
              "<div>\n",
              "<style scoped>\n",
              "    .dataframe tbody tr th:only-of-type {\n",
              "        vertical-align: middle;\n",
              "    }\n",
              "\n",
              "    .dataframe tbody tr th {\n",
              "        vertical-align: top;\n",
              "    }\n",
              "\n",
              "    .dataframe thead th {\n",
              "        text-align: right;\n",
              "    }\n",
              "</style>\n",
              "<table border=\"1\" class=\"dataframe\">\n",
              "  <thead>\n",
              "    <tr style=\"text-align: right;\">\n",
              "      <th></th>\n",
              "      <th>paragraph in essay</th>\n",
              "      <th>sentence in paragraph</th>\n",
              "      <th>sentence in essay</th>\n",
              "      <th>total sentences in paragraph</th>\n",
              "      <th>total paragraphs in document</th>\n",
              "      <th>number words in sentence</th>\n",
              "      <th>sentence length / media sentence length in essay</th>\n",
              "    </tr>\n",
              "  </thead>\n",
              "  <tbody>\n",
              "    <tr>\n",
              "      <th>0</th>\n",
              "      <td>0</td>\n",
              "      <td>0</td>\n",
              "      <td>0</td>\n",
              "      <td>4</td>\n",
              "      <td>4</td>\n",
              "      <td>13</td>\n",
              "      <td>0.563686</td>\n",
              "    </tr>\n",
              "    <tr>\n",
              "      <th>1</th>\n",
              "      <td>0</td>\n",
              "      <td>1</td>\n",
              "      <td>1</td>\n",
              "      <td>4</td>\n",
              "      <td>4</td>\n",
              "      <td>23</td>\n",
              "      <td>0.997290</td>\n",
              "    </tr>\n",
              "    <tr>\n",
              "      <th>2</th>\n",
              "      <td>0</td>\n",
              "      <td>2</td>\n",
              "      <td>2</td>\n",
              "      <td>4</td>\n",
              "      <td>4</td>\n",
              "      <td>29</td>\n",
              "      <td>1.257453</td>\n",
              "    </tr>\n",
              "    <tr>\n",
              "      <th>3</th>\n",
              "      <td>0</td>\n",
              "      <td>3</td>\n",
              "      <td>3</td>\n",
              "      <td>4</td>\n",
              "      <td>4</td>\n",
              "      <td>19</td>\n",
              "      <td>0.823848</td>\n",
              "    </tr>\n",
              "    <tr>\n",
              "      <th>4</th>\n",
              "      <td>1</td>\n",
              "      <td>0</td>\n",
              "      <td>4</td>\n",
              "      <td>4</td>\n",
              "      <td>4</td>\n",
              "      <td>21</td>\n",
              "      <td>0.910569</td>\n",
              "    </tr>\n",
              "  </tbody>\n",
              "</table>\n",
              "</div>"
            ],
            "text/plain": [
              "   paragraph in essay  ...  sentence length / media sentence length in essay\n",
              "0                   0  ...                                          0.563686\n",
              "1                   0  ...                                          0.997290\n",
              "2                   0  ...                                          1.257453\n",
              "3                   0  ...                                          0.823848\n",
              "4                   1  ...                                          0.910569\n",
              "\n",
              "[5 rows x 7 columns]"
            ]
          },
          "metadata": {},
          "execution_count": 44
        }
      ]
    },
    {
      "cell_type": "code",
      "metadata": {
        "id": "1Ee1oh0VGmQY"
      },
      "source": [
        "# Export the dataset.\n",
        "sentence_stat_dataframe.to_csv('sentence_statistic.csv',index=False)"
      ],
      "execution_count": null,
      "outputs": []
    },
    {
      "cell_type": "code",
      "metadata": {
        "colab": {
          "base_uri": "https://localhost:8080/"
        },
        "id": "nQTW6EJW3915",
        "outputId": "70cc3477-b8fd-4b79-f8c6-736226abf545"
      },
      "source": [
        "correlation_scores_sentence_stat"
      ],
      "execution_count": null,
      "outputs": [
        {
          "output_type": "execute_result",
          "data": {
            "text/plain": [
              "[(0.38829532623905844, 'sentence in essay'),\n",
              " (0.3789424981383997, 'paragraph in essay'),\n",
              " (0.17150712682040017, 'total sentences in paragraph'),\n",
              " (0.17114698597199637, 'sentence in paragraph'),\n",
              " (0.15662428761108432, 'sentence length / media sentence length in essay'),\n",
              " (0.14257187982506234, 'number words in sentence'),\n",
              " (0.03526226989238465, 'total paragraphs in document')]"
            ]
          },
          "metadata": {},
          "execution_count": 46
        }
      ]
    },
    {
      "cell_type": "markdown",
      "metadata": {
        "id": "z46GCjrXsEXR"
      },
      "source": [
        "# **POS preparation**"
      ]
    },
    {
      "cell_type": "code",
      "metadata": {
        "id": "3NySvt1e8xZs",
        "colab": {
          "base_uri": "https://localhost:8080/"
        },
        "outputId": "ea080124-d0a1-428d-ac49-efa7d032f65e"
      },
      "source": [
        "# Separate each sentence in the list of POS TAG that compones them.\n",
        "POS_sentence_list=[nltk.pos_tag(nltk.word_tokenize(sentence)) for sentence in sentence_list]\n",
        "\n",
        "POS_sentence_list[0]"
      ],
      "execution_count": null,
      "outputs": [
        {
          "output_type": "execute_result",
          "data": {
            "text/plain": [
              "[('it', 'PRP'),\n",
              " ('is', 'VBZ'),\n",
              " ('always', 'RB'),\n",
              " ('said', 'VBD'),\n",
              " ('that', 'IN'),\n",
              " ('competition', 'NN'),\n",
              " ('can', 'MD'),\n",
              " ('effectively', 'RB'),\n",
              " ('promote', 'VB'),\n",
              " ('the', 'DT'),\n",
              " ('development', 'NN'),\n",
              " ('of', 'IN'),\n",
              " ('economy', 'NN')]"
            ]
          },
          "metadata": {},
          "execution_count": 47
        }
      ]
    },
    {
      "cell_type": "code",
      "metadata": {
        "id": "1sIxRaU4yzpb"
      },
      "source": [
        "# Create a version with the simplifyed version of the POS tag.\n",
        "\n",
        "simplified_POS_sentence_list=[]\n",
        "\n",
        "for POS_sentence in POS_sentence_list:\n",
        "  simplified_POS_sentence_list.append([(word, map_tag('en-ptb', 'universal', tag)) for word, tag in POS_sentence])"
      ],
      "execution_count": null,
      "outputs": []
    },
    {
      "cell_type": "code",
      "metadata": {
        "colab": {
          "base_uri": "https://localhost:8080/"
        },
        "id": "IMIidwzQ0IXY",
        "outputId": "e46309bb-292e-4b43-aea4-89e27350ddac"
      },
      "source": [
        "simplified_POS_sentence_list[0]"
      ],
      "execution_count": null,
      "outputs": [
        {
          "output_type": "execute_result",
          "data": {
            "text/plain": [
              "[('it', 'PRON'),\n",
              " ('is', 'VERB'),\n",
              " ('always', 'ADV'),\n",
              " ('said', 'VERB'),\n",
              " ('that', 'ADP'),\n",
              " ('competition', 'NOUN'),\n",
              " ('can', 'VERB'),\n",
              " ('effectively', 'ADV'),\n",
              " ('promote', 'VERB'),\n",
              " ('the', 'DET'),\n",
              " ('development', 'NOUN'),\n",
              " ('of', 'ADP'),\n",
              " ('economy', 'NOUN')]"
            ]
          },
          "metadata": {},
          "execution_count": 49
        }
      ]
    },
    {
      "cell_type": "code",
      "metadata": {
        "id": "b1B7oaEIBhdl"
      },
      "source": [
        "# Get the list of the sentences as POS tag from the list of the\n",
        "# list of the POS tag of each sentence. \n",
        "def get_POS_sentence_list(POS_sentence_list: list)->list:\n",
        "  POS_sentences=[]\n",
        "  for POS_list in POS_sentence_list:\n",
        "    sentence=\"\"\n",
        "    for word, tag in POS_list:\n",
        "      sentence+=tag+\" \"\n",
        "    POS_sentences.append(sentence)    \n",
        "\n",
        "  return POS_sentences"
      ],
      "execution_count": null,
      "outputs": []
    },
    {
      "cell_type": "code",
      "metadata": {
        "colab": {
          "base_uri": "https://localhost:8080/"
        },
        "id": "6p0_zoUkC7_D",
        "outputId": "e11a5d77-8332-4733-8d61-5ee2f6711e50"
      },
      "source": [
        "POS_sentences=get_POS_sentence_list(POS_sentence_list)\n",
        "simple_POS_sentences=get_POS_sentence_list(simplified_POS_sentence_list)\n",
        "\n",
        "POS_sentences[0]"
      ],
      "execution_count": null,
      "outputs": [
        {
          "output_type": "execute_result",
          "data": {
            "application/vnd.google.colaboratory.intrinsic+json": {
              "type": "string"
            },
            "text/plain": [
              "'PRP VBZ RB VBD IN NN MD RB VB DT NN IN NN '"
            ]
          },
          "metadata": {},
          "execution_count": 51
        }
      ]
    },
    {
      "cell_type": "markdown",
      "metadata": {
        "id": "A3faZf73ymhi"
      },
      "source": [
        "# **Customised Tokenizer**"
      ]
    },
    {
      "cell_type": "code",
      "metadata": {
        "id": "AIsQ9O1wyevB"
      },
      "source": [
        "#  Lemmatization is used.\n",
        "def build_tokenizer(text):\n",
        "\n",
        "  wordnet_lemmatizer = WordNetLemmatizer()\n",
        "\n",
        "  # Text tokenization.\n",
        "  tokens=nltk.word_tokenize(text)\n",
        "\n",
        "  # Text normalization throgh lemmatizzation.\n",
        "\n",
        "  lemmas=[]\n",
        "  for word in tokens:\n",
        "    lemmas.append(wordnet_lemmatizer.lemmatize(word))\n",
        "\n",
        "  return lemmas  "
      ],
      "execution_count": null,
      "outputs": []
    },
    {
      "cell_type": "markdown",
      "metadata": {
        "id": "oJmHrfpQuXvN"
      },
      "source": [
        "# **Bag of words**"
      ]
    },
    {
      "cell_type": "code",
      "metadata": {
        "id": "Lx_xuJKjDqz8"
      },
      "source": [
        "# Trasformation of the passed corpus in the dataframe of the bag of ngram contained\n",
        "# in it.\n",
        "def bag_of_ngram(sentence_list: list, ngram: int)-> pd.DataFrame:\n",
        "  vectorizer=CountVectorizer(tokenizer=build_tokenizer,ngram_range=(ngram,ngram))\n",
        "  bag_ngram=vectorizer.fit_transform(sentence_list)\n",
        "\n",
        "  dataframe=pd.DataFrame(bag_ngram.toarray(), columns=vectorizer.get_feature_names())\n",
        "\n",
        "  return dataframe"
      ],
      "execution_count": null,
      "outputs": []
    },
    {
      "cell_type": "markdown",
      "metadata": {
        "id": "qvf9bLaV5DGI"
      },
      "source": [
        "# **POS bag of words**"
      ]
    },
    {
      "cell_type": "code",
      "metadata": {
        "colab": {
          "base_uri": "https://localhost:8080/",
          "height": 223
        },
        "id": "zDYqfsTe5Akf",
        "outputId": "58a76bfa-e1e8-425f-869d-80fe695f0da2"
      },
      "source": [
        "POS_BOW=bag_of_ngram(POS_sentences,1)\n",
        "simple_POS_BOW=bag_of_ngram(simple_POS_sentences,1)\n",
        "\n",
        "POS_BOW.head()"
      ],
      "execution_count": null,
      "outputs": [
        {
          "output_type": "execute_result",
          "data": {
            "text/html": [
              "<div>\n",
              "<style scoped>\n",
              "    .dataframe tbody tr th:only-of-type {\n",
              "        vertical-align: middle;\n",
              "    }\n",
              "\n",
              "    .dataframe tbody tr th {\n",
              "        vertical-align: top;\n",
              "    }\n",
              "\n",
              "    .dataframe thead th {\n",
              "        text-align: right;\n",
              "    }\n",
              "</style>\n",
              "<table border=\"1\" class=\"dataframe\">\n",
              "  <thead>\n",
              "    <tr style=\"text-align: right;\">\n",
              "      <th></th>\n",
              "      <th>$</th>\n",
              "      <th>''</th>\n",
              "      <th>(</th>\n",
              "      <th>)</th>\n",
              "      <th>,</th>\n",
              "      <th>.</th>\n",
              "      <th>:</th>\n",
              "      <th>``</th>\n",
              "      <th>cc</th>\n",
              "      <th>cd</th>\n",
              "      <th>dt</th>\n",
              "      <th>ex</th>\n",
              "      <th>fw</th>\n",
              "      <th>in</th>\n",
              "      <th>jj</th>\n",
              "      <th>jjr</th>\n",
              "      <th>jjs</th>\n",
              "      <th>md</th>\n",
              "      <th>nn</th>\n",
              "      <th>nnp</th>\n",
              "      <th>nns</th>\n",
              "      <th>pdt</th>\n",
              "      <th>po</th>\n",
              "      <th>prp</th>\n",
              "      <th>rb</th>\n",
              "      <th>rbr</th>\n",
              "      <th>rp</th>\n",
              "      <th>sym</th>\n",
              "      <th>to</th>\n",
              "      <th>uh</th>\n",
              "      <th>vb</th>\n",
              "      <th>vbd</th>\n",
              "      <th>vbg</th>\n",
              "      <th>vbn</th>\n",
              "      <th>vbp</th>\n",
              "      <th>vbz</th>\n",
              "      <th>wdt</th>\n",
              "      <th>wp</th>\n",
              "      <th>wrb</th>\n",
              "    </tr>\n",
              "  </thead>\n",
              "  <tbody>\n",
              "    <tr>\n",
              "      <th>0</th>\n",
              "      <td>0</td>\n",
              "      <td>0</td>\n",
              "      <td>0</td>\n",
              "      <td>0</td>\n",
              "      <td>0</td>\n",
              "      <td>0</td>\n",
              "      <td>0</td>\n",
              "      <td>0</td>\n",
              "      <td>0</td>\n",
              "      <td>0</td>\n",
              "      <td>1</td>\n",
              "      <td>0</td>\n",
              "      <td>0</td>\n",
              "      <td>2</td>\n",
              "      <td>0</td>\n",
              "      <td>0</td>\n",
              "      <td>0</td>\n",
              "      <td>1</td>\n",
              "      <td>3</td>\n",
              "      <td>0</td>\n",
              "      <td>0</td>\n",
              "      <td>0</td>\n",
              "      <td>0</td>\n",
              "      <td>1</td>\n",
              "      <td>2</td>\n",
              "      <td>0</td>\n",
              "      <td>0</td>\n",
              "      <td>0</td>\n",
              "      <td>0</td>\n",
              "      <td>0</td>\n",
              "      <td>1</td>\n",
              "      <td>1</td>\n",
              "      <td>0</td>\n",
              "      <td>0</td>\n",
              "      <td>0</td>\n",
              "      <td>1</td>\n",
              "      <td>0</td>\n",
              "      <td>0</td>\n",
              "      <td>0</td>\n",
              "    </tr>\n",
              "    <tr>\n",
              "      <th>1</th>\n",
              "      <td>1</td>\n",
              "      <td>0</td>\n",
              "      <td>0</td>\n",
              "      <td>0</td>\n",
              "      <td>3</td>\n",
              "      <td>0</td>\n",
              "      <td>0</td>\n",
              "      <td>0</td>\n",
              "      <td>2</td>\n",
              "      <td>0</td>\n",
              "      <td>3</td>\n",
              "      <td>0</td>\n",
              "      <td>0</td>\n",
              "      <td>3</td>\n",
              "      <td>1</td>\n",
              "      <td>0</td>\n",
              "      <td>0</td>\n",
              "      <td>0</td>\n",
              "      <td>5</td>\n",
              "      <td>0</td>\n",
              "      <td>3</td>\n",
              "      <td>0</td>\n",
              "      <td>0</td>\n",
              "      <td>1</td>\n",
              "      <td>0</td>\n",
              "      <td>0</td>\n",
              "      <td>0</td>\n",
              "      <td>0</td>\n",
              "      <td>2</td>\n",
              "      <td>0</td>\n",
              "      <td>2</td>\n",
              "      <td>0</td>\n",
              "      <td>0</td>\n",
              "      <td>0</td>\n",
              "      <td>1</td>\n",
              "      <td>0</td>\n",
              "      <td>0</td>\n",
              "      <td>0</td>\n",
              "      <td>0</td>\n",
              "    </tr>\n",
              "    <tr>\n",
              "      <th>2</th>\n",
              "      <td>0</td>\n",
              "      <td>0</td>\n",
              "      <td>0</td>\n",
              "      <td>0</td>\n",
              "      <td>3</td>\n",
              "      <td>0</td>\n",
              "      <td>0</td>\n",
              "      <td>0</td>\n",
              "      <td>2</td>\n",
              "      <td>0</td>\n",
              "      <td>4</td>\n",
              "      <td>0</td>\n",
              "      <td>0</td>\n",
              "      <td>3</td>\n",
              "      <td>2</td>\n",
              "      <td>0</td>\n",
              "      <td>0</td>\n",
              "      <td>0</td>\n",
              "      <td>7</td>\n",
              "      <td>0</td>\n",
              "      <td>0</td>\n",
              "      <td>0</td>\n",
              "      <td>1</td>\n",
              "      <td>2</td>\n",
              "      <td>2</td>\n",
              "      <td>0</td>\n",
              "      <td>0</td>\n",
              "      <td>0</td>\n",
              "      <td>0</td>\n",
              "      <td>0</td>\n",
              "      <td>0</td>\n",
              "      <td>0</td>\n",
              "      <td>0</td>\n",
              "      <td>1</td>\n",
              "      <td>2</td>\n",
              "      <td>1</td>\n",
              "      <td>0</td>\n",
              "      <td>1</td>\n",
              "      <td>1</td>\n",
              "    </tr>\n",
              "    <tr>\n",
              "      <th>3</th>\n",
              "      <td>0</td>\n",
              "      <td>0</td>\n",
              "      <td>0</td>\n",
              "      <td>0</td>\n",
              "      <td>1</td>\n",
              "      <td>0</td>\n",
              "      <td>0</td>\n",
              "      <td>0</td>\n",
              "      <td>0</td>\n",
              "      <td>0</td>\n",
              "      <td>1</td>\n",
              "      <td>0</td>\n",
              "      <td>0</td>\n",
              "      <td>4</td>\n",
              "      <td>1</td>\n",
              "      <td>1</td>\n",
              "      <td>0</td>\n",
              "      <td>1</td>\n",
              "      <td>6</td>\n",
              "      <td>0</td>\n",
              "      <td>0</td>\n",
              "      <td>0</td>\n",
              "      <td>0</td>\n",
              "      <td>1</td>\n",
              "      <td>1</td>\n",
              "      <td>0</td>\n",
              "      <td>0</td>\n",
              "      <td>0</td>\n",
              "      <td>1</td>\n",
              "      <td>0</td>\n",
              "      <td>1</td>\n",
              "      <td>0</td>\n",
              "      <td>0</td>\n",
              "      <td>0</td>\n",
              "      <td>1</td>\n",
              "      <td>0</td>\n",
              "      <td>0</td>\n",
              "      <td>0</td>\n",
              "      <td>0</td>\n",
              "    </tr>\n",
              "    <tr>\n",
              "      <th>4</th>\n",
              "      <td>0</td>\n",
              "      <td>0</td>\n",
              "      <td>0</td>\n",
              "      <td>0</td>\n",
              "      <td>2</td>\n",
              "      <td>0</td>\n",
              "      <td>0</td>\n",
              "      <td>0</td>\n",
              "      <td>0</td>\n",
              "      <td>0</td>\n",
              "      <td>3</td>\n",
              "      <td>0</td>\n",
              "      <td>0</td>\n",
              "      <td>5</td>\n",
              "      <td>3</td>\n",
              "      <td>0</td>\n",
              "      <td>0</td>\n",
              "      <td>1</td>\n",
              "      <td>2</td>\n",
              "      <td>0</td>\n",
              "      <td>3</td>\n",
              "      <td>0</td>\n",
              "      <td>0</td>\n",
              "      <td>0</td>\n",
              "      <td>1</td>\n",
              "      <td>0</td>\n",
              "      <td>0</td>\n",
              "      <td>0</td>\n",
              "      <td>0</td>\n",
              "      <td>0</td>\n",
              "      <td>1</td>\n",
              "      <td>0</td>\n",
              "      <td>0</td>\n",
              "      <td>0</td>\n",
              "      <td>1</td>\n",
              "      <td>0</td>\n",
              "      <td>1</td>\n",
              "      <td>0</td>\n",
              "      <td>0</td>\n",
              "    </tr>\n",
              "  </tbody>\n",
              "</table>\n",
              "</div>"
            ],
            "text/plain": [
              "   $  ''  (  )  ,  .  :  ``  cc  ...  vb  vbd  vbg  vbn  vbp  vbz  wdt  wp  wrb\n",
              "0  0   0  0  0  0  0  0   0   0  ...   1    1    0    0    0    1    0   0    0\n",
              "1  1   0  0  0  3  0  0   0   2  ...   2    0    0    0    1    0    0   0    0\n",
              "2  0   0  0  0  3  0  0   0   2  ...   0    0    0    1    2    1    0   1    1\n",
              "3  0   0  0  0  1  0  0   0   0  ...   1    0    0    0    1    0    0   0    0\n",
              "4  0   0  0  0  2  0  0   0   0  ...   1    0    0    0    1    0    1   0    0\n",
              "\n",
              "[5 rows x 39 columns]"
            ]
          },
          "metadata": {},
          "execution_count": 54
        }
      ]
    },
    {
      "cell_type": "markdown",
      "metadata": {
        "id": "ipFx3Q0a5UWv"
      },
      "source": [
        "**correlation score**"
      ]
    },
    {
      "cell_type": "code",
      "metadata": {
        "id": "NRbGkAau5aMO"
      },
      "source": [
        "correlation_scores_POS_BOW=get_correlation_scores(POS_BOW,sentences_argumentative_map)\n",
        "correlation_scores_simple_POS_BOW=get_correlation_scores(simple_POS_BOW,sentences_argumentative_map)"
      ],
      "execution_count": null,
      "outputs": []
    },
    {
      "cell_type": "code",
      "metadata": {
        "colab": {
          "base_uri": "https://localhost:8080/"
        },
        "id": "yMm6b4HC5Q74",
        "outputId": "1e5cfb2f-5251-441e-fd4e-50bb53ce69ab"
      },
      "source": [
        "correlation_scores_POS_BOW"
      ],
      "execution_count": null,
      "outputs": [
        {
          "output_type": "execute_result",
          "data": {
            "text/plain": [
              "[(0.19074365969434526, ','),\n",
              " (0.13349007383278969, '.'),\n",
              " (0.11783381356528098, 'vb'),\n",
              " (0.11524878935729786, 'nn'),\n",
              " (0.108535447450601, 'md'),\n",
              " (0.10749793899950222, 'rb'),\n",
              " (0.09787989091635424, 'prp'),\n",
              " (0.09075317428356597, 'in'),\n",
              " (0.08831797107940599, 'cc'),\n",
              " (0.06563126467067157, 'jj'),\n",
              " (0.06475191017039299, 'ex'),\n",
              " (0.062226049232024294, 'vbn'),\n",
              " (0.0522024193374885, 'vbd'),\n",
              " (0.04895724157512651, 'to'),\n",
              " (0.04815022142794173, 'jjr'),\n",
              " (0.04473910032509659, '$'),\n",
              " (0.044312495263629355, 'vbg'),\n",
              " (0.039405596392264194, 'rbr'),\n",
              " (0.03528936701910739, 'rp'),\n",
              " (0.03493037279150064, 'wp'),\n",
              " (0.03487771012851155, 'vbz'),\n",
              " (0.03321582425539961, 'nns'),\n",
              " (0.03059842895818632, 'cd'),\n",
              " (0.029585738201962593, \"''\"),\n",
              " (0.028600224771357173, 'vbp'),\n",
              " (0.028146272835148256, 'wdt'),\n",
              " (0.025768861902785635, 'uh'),\n",
              " (0.024772847699780172, '('),\n",
              " (0.024772847699780172, ')'),\n",
              " (0.023432706861787302, '``'),\n",
              " (0.021301791987890988, 'wrb'),\n",
              " (0.020083851130681375, 'nnp'),\n",
              " (0.016223502892366057, 'po'),\n",
              " (0.010220321804240587, 'jjs'),\n",
              " (0.008497701352373807, 'fw'),\n",
              " (0.006886300229482992, 'dt'),\n",
              " (0.0057602086439675175, 'sym'),\n",
              " (0.0016149060534150254, ':'),\n",
              " (0.0013223087221955366, 'pdt')]"
            ]
          },
          "metadata": {},
          "execution_count": 56
        }
      ]
    },
    {
      "cell_type": "code",
      "metadata": {
        "colab": {
          "base_uri": "https://localhost:8080/"
        },
        "id": "ANq791by5o4Y",
        "outputId": "6e9451bd-456f-4250-b917-9e5bde6242da"
      },
      "source": [
        "correlation_scores_simple_POS_BOW"
      ],
      "execution_count": null,
      "outputs": [
        {
          "output_type": "execute_result",
          "data": {
            "text/plain": [
              "[(0.16638773797380754, '.'),\n",
              " (0.11731730848077898, 'noun'),\n",
              " (0.11626282187991792, 'adv'),\n",
              " (0.10300806962549648, 'pron'),\n",
              " (0.0953445066125549, 'verb'),\n",
              " (0.09075317428356597, 'adp'),\n",
              " (0.08831797107940599, 'conj'),\n",
              " (0.07959401694254889, 'adj'),\n",
              " (0.058472374857985, 'prt'),\n",
              " (0.03059842895818632, 'num'),\n",
              " (0.012734948116173, 'x'),\n",
              " (0.001056503390632278, 'det')]"
            ]
          },
          "metadata": {},
          "execution_count": 57
        }
      ]
    },
    {
      "cell_type": "code",
      "metadata": {
        "id": "MMQ0oI4E2Wox"
      },
      "source": [
        "# Get the tag sorted for their correlation scores.\n",
        "most_correlated_POS_BOW=[tag[1] for tag in correlation_scores_POS_BOW]\n",
        "most_correlated_simple_POS_BOW=[tag[1] for tag in correlation_scores_simple_POS_BOW]"
      ],
      "execution_count": null,
      "outputs": []
    },
    {
      "cell_type": "code",
      "metadata": {
        "id": "kUo2yVHBzhbn"
      },
      "source": [
        "# Save the POS into text files.\n",
        "\n",
        "f = open(\"original_POS.txt\", \"a\")\n",
        "for pos in most_correlated_POS_BOW:\n",
        "  f.write(\"{}-\".format(pos))\n",
        "f.close()\n",
        "\n",
        "f = open(\"original_simple_POS.txt\", \"a\")\n",
        "for pos in most_correlated_simple_POS_BOW:\n",
        "  f.write(\"{}-\".format(pos))\n",
        "f.close()"
      ],
      "execution_count": null,
      "outputs": []
    },
    {
      "cell_type": "code",
      "metadata": {
        "id": "I1aSSqeyHJrB"
      },
      "source": [
        "# Export the datasets.\n",
        "POS_BOW.to_csv('sentence_POS.csv',index=False)\n",
        "simple_POS_BOW.to_csv('sentence_simple_POS.csv',index=False)"
      ],
      "execution_count": null,
      "outputs": []
    },
    {
      "cell_type": "markdown",
      "metadata": {
        "id": "x2MM5O-6R1-_"
      },
      "source": [
        "# **POS Bigrams**"
      ]
    },
    {
      "cell_type": "code",
      "metadata": {
        "id": "low-SYYxsA0T",
        "colab": {
          "base_uri": "https://localhost:8080/",
          "height": 269
        },
        "outputId": "fdd10bd0-55b8-4c9e-ae4e-f511eb1b793d"
      },
      "source": [
        "# Get the BOW of the bigrams of the POS tag.\n",
        "\n",
        "POS_bigrams=bag_of_ngram(POS_sentences,2)\n",
        "simple_POS_bigrams=bag_of_ngram(simple_POS_sentences,2)\n",
        "\n",
        "POS_bigrams.head()"
      ],
      "execution_count": null,
      "outputs": [
        {
          "output_type": "execute_result",
          "data": {
            "text/html": [
              "<div>\n",
              "<style scoped>\n",
              "    .dataframe tbody tr th:only-of-type {\n",
              "        vertical-align: middle;\n",
              "    }\n",
              "\n",
              "    .dataframe tbody tr th {\n",
              "        vertical-align: top;\n",
              "    }\n",
              "\n",
              "    .dataframe thead th {\n",
              "        text-align: right;\n",
              "    }\n",
              "</style>\n",
              "<table border=\"1\" class=\"dataframe\">\n",
              "  <thead>\n",
              "    <tr style=\"text-align: right;\">\n",
              "      <th></th>\n",
              "      <th>$ cc</th>\n",
              "      <th>$ cd</th>\n",
              "      <th>$ dt</th>\n",
              "      <th>$ in</th>\n",
              "      <th>$ jj</th>\n",
              "      <th>$ jjr</th>\n",
              "      <th>$ jjs</th>\n",
              "      <th>$ nn</th>\n",
              "      <th>$ nns</th>\n",
              "      <th>$ rb</th>\n",
              "      <th>$ vbg</th>\n",
              "      <th>$ vbn</th>\n",
              "      <th>'' )</th>\n",
              "      <th>'' ,</th>\n",
              "      <th>'' dt</th>\n",
              "      <th>'' in</th>\n",
              "      <th>'' jj</th>\n",
              "      <th>'' jjr</th>\n",
              "      <th>'' nn</th>\n",
              "      <th>'' nns</th>\n",
              "      <th>'' rb</th>\n",
              "      <th>'' to</th>\n",
              "      <th>'' vbd</th>\n",
              "      <th>'' vbn</th>\n",
              "      <th>'' vbp</th>\n",
              "      <th>'' vbz</th>\n",
              "      <th>'' wp</th>\n",
              "      <th>'' wrb</th>\n",
              "      <th>( dt</th>\n",
              "      <th>( in</th>\n",
              "      <th>( jj</th>\n",
              "      <th>( nn</th>\n",
              "      <th>( nns</th>\n",
              "      <th>( prp</th>\n",
              "      <th>( vb</th>\n",
              "      <th>) ,</th>\n",
              "      <th>) in</th>\n",
              "      <th>) nns</th>\n",
              "      <th>) rb</th>\n",
              "      <th>) to</th>\n",
              "      <th>...</th>\n",
              "      <th>wdt vbp</th>\n",
              "      <th>wdt vbz</th>\n",
              "      <th>wdt wrb</th>\n",
              "      <th>wp $</th>\n",
              "      <th>wp ,</th>\n",
              "      <th>wp dt</th>\n",
              "      <th>wp in</th>\n",
              "      <th>wp jj</th>\n",
              "      <th>wp md</th>\n",
              "      <th>wp nn</th>\n",
              "      <th>wp nnp</th>\n",
              "      <th>wp nns</th>\n",
              "      <th>wp prp</th>\n",
              "      <th>wp rb</th>\n",
              "      <th>wp to</th>\n",
              "      <th>wp vbd</th>\n",
              "      <th>wp vbp</th>\n",
              "      <th>wp vbz</th>\n",
              "      <th>wrb ,</th>\n",
              "      <th>wrb cc</th>\n",
              "      <th>wrb cd</th>\n",
              "      <th>wrb dt</th>\n",
              "      <th>wrb ex</th>\n",
              "      <th>wrb in</th>\n",
              "      <th>wrb jj</th>\n",
              "      <th>wrb jjr</th>\n",
              "      <th>wrb jjs</th>\n",
              "      <th>wrb md</th>\n",
              "      <th>wrb nn</th>\n",
              "      <th>wrb nns</th>\n",
              "      <th>wrb pdt</th>\n",
              "      <th>wrb prp</th>\n",
              "      <th>wrb rb</th>\n",
              "      <th>wrb to</th>\n",
              "      <th>wrb vb</th>\n",
              "      <th>wrb vbd</th>\n",
              "      <th>wrb vbg</th>\n",
              "      <th>wrb vbn</th>\n",
              "      <th>wrb vbp</th>\n",
              "      <th>wrb vbz</th>\n",
              "    </tr>\n",
              "  </thead>\n",
              "  <tbody>\n",
              "    <tr>\n",
              "      <th>0</th>\n",
              "      <td>0</td>\n",
              "      <td>0</td>\n",
              "      <td>0</td>\n",
              "      <td>0</td>\n",
              "      <td>0</td>\n",
              "      <td>0</td>\n",
              "      <td>0</td>\n",
              "      <td>0</td>\n",
              "      <td>0</td>\n",
              "      <td>0</td>\n",
              "      <td>0</td>\n",
              "      <td>0</td>\n",
              "      <td>0</td>\n",
              "      <td>0</td>\n",
              "      <td>0</td>\n",
              "      <td>0</td>\n",
              "      <td>0</td>\n",
              "      <td>0</td>\n",
              "      <td>0</td>\n",
              "      <td>0</td>\n",
              "      <td>0</td>\n",
              "      <td>0</td>\n",
              "      <td>0</td>\n",
              "      <td>0</td>\n",
              "      <td>0</td>\n",
              "      <td>0</td>\n",
              "      <td>0</td>\n",
              "      <td>0</td>\n",
              "      <td>0</td>\n",
              "      <td>0</td>\n",
              "      <td>0</td>\n",
              "      <td>0</td>\n",
              "      <td>0</td>\n",
              "      <td>0</td>\n",
              "      <td>0</td>\n",
              "      <td>0</td>\n",
              "      <td>0</td>\n",
              "      <td>0</td>\n",
              "      <td>0</td>\n",
              "      <td>0</td>\n",
              "      <td>...</td>\n",
              "      <td>0</td>\n",
              "      <td>0</td>\n",
              "      <td>0</td>\n",
              "      <td>0</td>\n",
              "      <td>0</td>\n",
              "      <td>0</td>\n",
              "      <td>0</td>\n",
              "      <td>0</td>\n",
              "      <td>0</td>\n",
              "      <td>0</td>\n",
              "      <td>0</td>\n",
              "      <td>0</td>\n",
              "      <td>0</td>\n",
              "      <td>0</td>\n",
              "      <td>0</td>\n",
              "      <td>0</td>\n",
              "      <td>0</td>\n",
              "      <td>0</td>\n",
              "      <td>0</td>\n",
              "      <td>0</td>\n",
              "      <td>0</td>\n",
              "      <td>0</td>\n",
              "      <td>0</td>\n",
              "      <td>0</td>\n",
              "      <td>0</td>\n",
              "      <td>0</td>\n",
              "      <td>0</td>\n",
              "      <td>0</td>\n",
              "      <td>0</td>\n",
              "      <td>0</td>\n",
              "      <td>0</td>\n",
              "      <td>0</td>\n",
              "      <td>0</td>\n",
              "      <td>0</td>\n",
              "      <td>0</td>\n",
              "      <td>0</td>\n",
              "      <td>0</td>\n",
              "      <td>0</td>\n",
              "      <td>0</td>\n",
              "      <td>0</td>\n",
              "    </tr>\n",
              "    <tr>\n",
              "      <th>1</th>\n",
              "      <td>0</td>\n",
              "      <td>0</td>\n",
              "      <td>0</td>\n",
              "      <td>0</td>\n",
              "      <td>0</td>\n",
              "      <td>0</td>\n",
              "      <td>0</td>\n",
              "      <td>0</td>\n",
              "      <td>1</td>\n",
              "      <td>0</td>\n",
              "      <td>0</td>\n",
              "      <td>0</td>\n",
              "      <td>0</td>\n",
              "      <td>0</td>\n",
              "      <td>0</td>\n",
              "      <td>0</td>\n",
              "      <td>0</td>\n",
              "      <td>0</td>\n",
              "      <td>0</td>\n",
              "      <td>0</td>\n",
              "      <td>0</td>\n",
              "      <td>0</td>\n",
              "      <td>0</td>\n",
              "      <td>0</td>\n",
              "      <td>0</td>\n",
              "      <td>0</td>\n",
              "      <td>0</td>\n",
              "      <td>0</td>\n",
              "      <td>0</td>\n",
              "      <td>0</td>\n",
              "      <td>0</td>\n",
              "      <td>0</td>\n",
              "      <td>0</td>\n",
              "      <td>0</td>\n",
              "      <td>0</td>\n",
              "      <td>0</td>\n",
              "      <td>0</td>\n",
              "      <td>0</td>\n",
              "      <td>0</td>\n",
              "      <td>0</td>\n",
              "      <td>...</td>\n",
              "      <td>0</td>\n",
              "      <td>0</td>\n",
              "      <td>0</td>\n",
              "      <td>0</td>\n",
              "      <td>0</td>\n",
              "      <td>0</td>\n",
              "      <td>0</td>\n",
              "      <td>0</td>\n",
              "      <td>0</td>\n",
              "      <td>0</td>\n",
              "      <td>0</td>\n",
              "      <td>0</td>\n",
              "      <td>0</td>\n",
              "      <td>0</td>\n",
              "      <td>0</td>\n",
              "      <td>0</td>\n",
              "      <td>0</td>\n",
              "      <td>0</td>\n",
              "      <td>0</td>\n",
              "      <td>0</td>\n",
              "      <td>0</td>\n",
              "      <td>0</td>\n",
              "      <td>0</td>\n",
              "      <td>0</td>\n",
              "      <td>0</td>\n",
              "      <td>0</td>\n",
              "      <td>0</td>\n",
              "      <td>0</td>\n",
              "      <td>0</td>\n",
              "      <td>0</td>\n",
              "      <td>0</td>\n",
              "      <td>0</td>\n",
              "      <td>0</td>\n",
              "      <td>0</td>\n",
              "      <td>0</td>\n",
              "      <td>0</td>\n",
              "      <td>0</td>\n",
              "      <td>0</td>\n",
              "      <td>0</td>\n",
              "      <td>0</td>\n",
              "    </tr>\n",
              "    <tr>\n",
              "      <th>2</th>\n",
              "      <td>0</td>\n",
              "      <td>0</td>\n",
              "      <td>0</td>\n",
              "      <td>0</td>\n",
              "      <td>0</td>\n",
              "      <td>0</td>\n",
              "      <td>0</td>\n",
              "      <td>0</td>\n",
              "      <td>0</td>\n",
              "      <td>0</td>\n",
              "      <td>0</td>\n",
              "      <td>0</td>\n",
              "      <td>0</td>\n",
              "      <td>0</td>\n",
              "      <td>0</td>\n",
              "      <td>0</td>\n",
              "      <td>0</td>\n",
              "      <td>0</td>\n",
              "      <td>0</td>\n",
              "      <td>0</td>\n",
              "      <td>0</td>\n",
              "      <td>0</td>\n",
              "      <td>0</td>\n",
              "      <td>0</td>\n",
              "      <td>0</td>\n",
              "      <td>0</td>\n",
              "      <td>0</td>\n",
              "      <td>0</td>\n",
              "      <td>0</td>\n",
              "      <td>0</td>\n",
              "      <td>0</td>\n",
              "      <td>0</td>\n",
              "      <td>0</td>\n",
              "      <td>0</td>\n",
              "      <td>0</td>\n",
              "      <td>0</td>\n",
              "      <td>0</td>\n",
              "      <td>0</td>\n",
              "      <td>0</td>\n",
              "      <td>0</td>\n",
              "      <td>...</td>\n",
              "      <td>0</td>\n",
              "      <td>0</td>\n",
              "      <td>0</td>\n",
              "      <td>0</td>\n",
              "      <td>0</td>\n",
              "      <td>0</td>\n",
              "      <td>0</td>\n",
              "      <td>0</td>\n",
              "      <td>0</td>\n",
              "      <td>0</td>\n",
              "      <td>0</td>\n",
              "      <td>0</td>\n",
              "      <td>1</td>\n",
              "      <td>0</td>\n",
              "      <td>0</td>\n",
              "      <td>0</td>\n",
              "      <td>0</td>\n",
              "      <td>0</td>\n",
              "      <td>0</td>\n",
              "      <td>0</td>\n",
              "      <td>0</td>\n",
              "      <td>0</td>\n",
              "      <td>0</td>\n",
              "      <td>0</td>\n",
              "      <td>0</td>\n",
              "      <td>0</td>\n",
              "      <td>0</td>\n",
              "      <td>0</td>\n",
              "      <td>0</td>\n",
              "      <td>0</td>\n",
              "      <td>0</td>\n",
              "      <td>1</td>\n",
              "      <td>0</td>\n",
              "      <td>0</td>\n",
              "      <td>0</td>\n",
              "      <td>0</td>\n",
              "      <td>0</td>\n",
              "      <td>0</td>\n",
              "      <td>0</td>\n",
              "      <td>0</td>\n",
              "    </tr>\n",
              "    <tr>\n",
              "      <th>3</th>\n",
              "      <td>0</td>\n",
              "      <td>0</td>\n",
              "      <td>0</td>\n",
              "      <td>0</td>\n",
              "      <td>0</td>\n",
              "      <td>0</td>\n",
              "      <td>0</td>\n",
              "      <td>0</td>\n",
              "      <td>0</td>\n",
              "      <td>0</td>\n",
              "      <td>0</td>\n",
              "      <td>0</td>\n",
              "      <td>0</td>\n",
              "      <td>0</td>\n",
              "      <td>0</td>\n",
              "      <td>0</td>\n",
              "      <td>0</td>\n",
              "      <td>0</td>\n",
              "      <td>0</td>\n",
              "      <td>0</td>\n",
              "      <td>0</td>\n",
              "      <td>0</td>\n",
              "      <td>0</td>\n",
              "      <td>0</td>\n",
              "      <td>0</td>\n",
              "      <td>0</td>\n",
              "      <td>0</td>\n",
              "      <td>0</td>\n",
              "      <td>0</td>\n",
              "      <td>0</td>\n",
              "      <td>0</td>\n",
              "      <td>0</td>\n",
              "      <td>0</td>\n",
              "      <td>0</td>\n",
              "      <td>0</td>\n",
              "      <td>0</td>\n",
              "      <td>0</td>\n",
              "      <td>0</td>\n",
              "      <td>0</td>\n",
              "      <td>0</td>\n",
              "      <td>...</td>\n",
              "      <td>0</td>\n",
              "      <td>0</td>\n",
              "      <td>0</td>\n",
              "      <td>0</td>\n",
              "      <td>0</td>\n",
              "      <td>0</td>\n",
              "      <td>0</td>\n",
              "      <td>0</td>\n",
              "      <td>0</td>\n",
              "      <td>0</td>\n",
              "      <td>0</td>\n",
              "      <td>0</td>\n",
              "      <td>0</td>\n",
              "      <td>0</td>\n",
              "      <td>0</td>\n",
              "      <td>0</td>\n",
              "      <td>0</td>\n",
              "      <td>0</td>\n",
              "      <td>0</td>\n",
              "      <td>0</td>\n",
              "      <td>0</td>\n",
              "      <td>0</td>\n",
              "      <td>0</td>\n",
              "      <td>0</td>\n",
              "      <td>0</td>\n",
              "      <td>0</td>\n",
              "      <td>0</td>\n",
              "      <td>0</td>\n",
              "      <td>0</td>\n",
              "      <td>0</td>\n",
              "      <td>0</td>\n",
              "      <td>0</td>\n",
              "      <td>0</td>\n",
              "      <td>0</td>\n",
              "      <td>0</td>\n",
              "      <td>0</td>\n",
              "      <td>0</td>\n",
              "      <td>0</td>\n",
              "      <td>0</td>\n",
              "      <td>0</td>\n",
              "    </tr>\n",
              "    <tr>\n",
              "      <th>4</th>\n",
              "      <td>0</td>\n",
              "      <td>0</td>\n",
              "      <td>0</td>\n",
              "      <td>0</td>\n",
              "      <td>0</td>\n",
              "      <td>0</td>\n",
              "      <td>0</td>\n",
              "      <td>0</td>\n",
              "      <td>0</td>\n",
              "      <td>0</td>\n",
              "      <td>0</td>\n",
              "      <td>0</td>\n",
              "      <td>0</td>\n",
              "      <td>0</td>\n",
              "      <td>0</td>\n",
              "      <td>0</td>\n",
              "      <td>0</td>\n",
              "      <td>0</td>\n",
              "      <td>0</td>\n",
              "      <td>0</td>\n",
              "      <td>0</td>\n",
              "      <td>0</td>\n",
              "      <td>0</td>\n",
              "      <td>0</td>\n",
              "      <td>0</td>\n",
              "      <td>0</td>\n",
              "      <td>0</td>\n",
              "      <td>0</td>\n",
              "      <td>0</td>\n",
              "      <td>0</td>\n",
              "      <td>0</td>\n",
              "      <td>0</td>\n",
              "      <td>0</td>\n",
              "      <td>0</td>\n",
              "      <td>0</td>\n",
              "      <td>0</td>\n",
              "      <td>0</td>\n",
              "      <td>0</td>\n",
              "      <td>0</td>\n",
              "      <td>0</td>\n",
              "      <td>...</td>\n",
              "      <td>1</td>\n",
              "      <td>0</td>\n",
              "      <td>0</td>\n",
              "      <td>0</td>\n",
              "      <td>0</td>\n",
              "      <td>0</td>\n",
              "      <td>0</td>\n",
              "      <td>0</td>\n",
              "      <td>0</td>\n",
              "      <td>0</td>\n",
              "      <td>0</td>\n",
              "      <td>0</td>\n",
              "      <td>0</td>\n",
              "      <td>0</td>\n",
              "      <td>0</td>\n",
              "      <td>0</td>\n",
              "      <td>0</td>\n",
              "      <td>0</td>\n",
              "      <td>0</td>\n",
              "      <td>0</td>\n",
              "      <td>0</td>\n",
              "      <td>0</td>\n",
              "      <td>0</td>\n",
              "      <td>0</td>\n",
              "      <td>0</td>\n",
              "      <td>0</td>\n",
              "      <td>0</td>\n",
              "      <td>0</td>\n",
              "      <td>0</td>\n",
              "      <td>0</td>\n",
              "      <td>0</td>\n",
              "      <td>0</td>\n",
              "      <td>0</td>\n",
              "      <td>0</td>\n",
              "      <td>0</td>\n",
              "      <td>0</td>\n",
              "      <td>0</td>\n",
              "      <td>0</td>\n",
              "      <td>0</td>\n",
              "      <td>0</td>\n",
              "    </tr>\n",
              "  </tbody>\n",
              "</table>\n",
              "<p>5 rows × 757 columns</p>\n",
              "</div>"
            ],
            "text/plain": [
              "   $ cc  $ cd  $ dt  $ in  $ jj  ...  wrb vbd  wrb vbg  wrb vbn  wrb vbp  wrb vbz\n",
              "0     0     0     0     0     0  ...        0        0        0        0        0\n",
              "1     0     0     0     0     0  ...        0        0        0        0        0\n",
              "2     0     0     0     0     0  ...        0        0        0        0        0\n",
              "3     0     0     0     0     0  ...        0        0        0        0        0\n",
              "4     0     0     0     0     0  ...        0        0        0        0        0\n",
              "\n",
              "[5 rows x 757 columns]"
            ]
          },
          "metadata": {},
          "execution_count": 61
        }
      ]
    },
    {
      "cell_type": "markdown",
      "metadata": {
        "id": "UIIKso5eLov0"
      },
      "source": [
        "**correlation score**"
      ]
    },
    {
      "cell_type": "code",
      "metadata": {
        "colab": {
          "base_uri": "https://localhost:8080/"
        },
        "id": "tVM0EgQT66Pe",
        "outputId": "06524a55-2e0c-4d9c-aa10-0a55efc8606b"
      },
      "source": [
        "# Compute the correlation scores considering only the train test sentences.\n",
        "train_correlation_scores_POS_bigram=get_correlation_scores(POS_bigrams.iloc[sentence_id_train_set],train_sentences_argumentative_map)\n",
        "train_correlation_scores_simple_POS_bigram=get_correlation_scores(simple_POS_bigrams.iloc[sentence_id_train_set],train_sentences_argumentative_map)"
      ],
      "execution_count": null,
      "outputs": [
        {
          "output_type": "stream",
          "name": "stderr",
          "text": [
            "/usr/local/lib/python3.7/dist-packages/numpy/lib/function_base.py:2559: RuntimeWarning: invalid value encountered in true_divide\n",
            "  c /= stddev[:, None]\n",
            "/usr/local/lib/python3.7/dist-packages/numpy/lib/function_base.py:2560: RuntimeWarning: invalid value encountered in true_divide\n",
            "  c /= stddev[None, :]\n"
          ]
        }
      ]
    },
    {
      "cell_type": "code",
      "metadata": {
        "id": "tLGHfOIKG3SH"
      },
      "source": [
        "train_correlation_scores_POS_bigram=[correlation_score for correlation_score in train_correlation_scores_POS_bigram if not math.isnan(correlation_score[0])]"
      ],
      "execution_count": null,
      "outputs": []
    },
    {
      "cell_type": "code",
      "metadata": {
        "id": "K4FU9lyrH3VW",
        "colab": {
          "base_uri": "https://localhost:8080/"
        },
        "outputId": "ea8ce06c-a11c-4b58-8e68-b0d27f56998a"
      },
      "source": [
        "train_correlation_scores_POS_bigram[0:10]"
      ],
      "execution_count": null,
      "outputs": [
        {
          "output_type": "execute_result",
          "data": {
            "text/plain": [
              "[(0.0911835965665266, 'prp md'),\n",
              " (0.06879724837924177, 'rb vb'),\n",
              " (0.06342605131910055, 'rb ,'),\n",
              " (0.059181251962838695, 'nns vbp'),\n",
              " (0.056358117726997656, 'prp vbp'),\n",
              " (0.05483835756526077, 'cc nn'),\n",
              " (0.04869750377023417, 'rb rb'),\n",
              " (0.04851893503325671, '$ nn'),\n",
              " (0.048257192970558756, 'rb in'),\n",
              " (0.040196588487909794, \"'' in\")]"
            ]
          },
          "metadata": {},
          "execution_count": 64
        }
      ]
    },
    {
      "cell_type": "code",
      "metadata": {
        "id": "W3CUetBdH4O6"
      },
      "source": [
        "most_correlated_bigram_POS=[bigram[1] for bigram in train_correlation_scores_POS_bigram[0:50]]"
      ],
      "execution_count": null,
      "outputs": []
    },
    {
      "cell_type": "code",
      "metadata": {
        "id": "BFBZ02YFIAhK",
        "colab": {
          "base_uri": "https://localhost:8080/"
        },
        "outputId": "bcb7d5cd-6bf0-4156-d5fa-1cd97b728710"
      },
      "source": [
        "most_correlated_bigram_POS[0:3]"
      ],
      "execution_count": null,
      "outputs": [
        {
          "output_type": "execute_result",
          "data": {
            "text/plain": [
              "['prp md', 'rb vb', 'rb ,']"
            ]
          },
          "metadata": {},
          "execution_count": 66
        }
      ]
    },
    {
      "cell_type": "code",
      "metadata": {
        "id": "Pf2F5fCRIf5q"
      },
      "source": [
        "# Save the most correlated bigrams into a text file.\n",
        "\n",
        "f = open(\"50_bigram_POS.txt\", \"a\")\n",
        "for bigram in most_correlated_bigram_POS:\n",
        "  f.write(\"{}-\".format(bigram))\n",
        "f.close()"
      ],
      "execution_count": null,
      "outputs": []
    },
    {
      "cell_type": "code",
      "metadata": {
        "id": "uYPn1G7xJfJW"
      },
      "source": [
        "# Export the bag of bigrams of the POS tag for the 50 bigrams most related to \n",
        "# the argumentative label (correlation computed considering only the train test).\n",
        "\n",
        "POS_bigrams=POS_bigrams[most_correlated_bigram_POS]\n",
        "\n",
        "POS_bigrams.to_csv('sentence_bigram_POS.csv',index=False)"
      ],
      "execution_count": null,
      "outputs": []
    },
    {
      "cell_type": "code",
      "metadata": {
        "id": "q0fqhvARGxcZ"
      },
      "source": [
        "train_correlation_scores_simple_POS_bigram=[correlation_score for correlation_score in train_correlation_scores_simple_POS_bigram if not math.isnan(correlation_score[0])]"
      ],
      "execution_count": null,
      "outputs": []
    },
    {
      "cell_type": "code",
      "metadata": {
        "id": "P_A8KfrOH8HN",
        "colab": {
          "base_uri": "https://localhost:8080/"
        },
        "outputId": "eba04d65-5257-4486-9987-cc32c99823ca"
      },
      "source": [
        "train_correlation_scores_simple_POS_bigram[0:10]"
      ],
      "execution_count": null,
      "outputs": [
        {
          "output_type": "execute_result",
          "data": {
            "text/plain": [
              "[(0.113350589536687, 'noun .'),\n",
              " (0.08728090876807784, 'pron verb'),\n",
              " (0.08520932965158932, '. pron'),\n",
              " (0.07261456198293235, 'noun noun'),\n",
              " (0.07171926837748255, 'verb adv'),\n",
              " (0.06923095090765619, '. adj'),\n",
              " (0.06808187054305566, '. verb'),\n",
              " (0.06707325113297478, 'noun conj'),\n",
              " (0.05767855873265456, '. adp'),\n",
              " (0.07134593192657279, 'adp noun')]"
            ]
          },
          "metadata": {},
          "execution_count": 70
        }
      ]
    },
    {
      "cell_type": "code",
      "metadata": {
        "id": "eJiK3M-RIFyT"
      },
      "source": [
        "most_correlated_bigram_simple_POS=[bigram[1] for bigram in train_correlation_scores_simple_POS_bigram[0:50]]"
      ],
      "execution_count": null,
      "outputs": []
    },
    {
      "cell_type": "code",
      "metadata": {
        "id": "EQo2QmPtJGgc"
      },
      "source": [
        "# Save the most correlated bigrams into a text file.\n",
        "\n",
        "f = open(\"50_bigram_simple_POS.txt\", \"a\")\n",
        "for bigram in most_correlated_bigram_simple_POS:\n",
        "  f.write(\"{}-\".format(bigram))\n",
        "f.close()"
      ],
      "execution_count": null,
      "outputs": []
    },
    {
      "cell_type": "code",
      "metadata": {
        "id": "i1-S6WKNKvg7"
      },
      "source": [
        "# Export the bag of bigrams of the POS tag for the 50 bigrams most related to \n",
        "# the argumentative label (correlation computed considering only the train test).\n",
        "\n",
        "simple_POS_bigrams=simple_POS_bigrams[most_correlated_bigram_simple_POS]\n",
        "\n",
        "simple_POS_bigrams.to_csv('sentence_bigram_simple_POS.csv',index=False)"
      ],
      "execution_count": null,
      "outputs": []
    },
    {
      "cell_type": "code",
      "metadata": {
        "id": "i16tFtWDBVNZ"
      },
      "source": [
        "# Compute the correlation scores over all the data (train and test set) for the words/bigrams selected.\n",
        "correlation_scores_POS_bigram=get_correlation_scores(POS_bigrams[most_correlated_bigram_POS],sentences_argumentative_map)\n",
        "correlation_scores_simple_POS_bigram=get_correlation_scores(simple_POS_bigrams[most_correlated_bigram_simple_POS],sentences_argumentative_map)"
      ],
      "execution_count": null,
      "outputs": []
    },
    {
      "cell_type": "code",
      "metadata": {
        "colab": {
          "base_uri": "https://localhost:8080/"
        },
        "id": "IsYXyABj9ORd",
        "outputId": "1ddabbc8-55c5-4389-da95-69b512a09aeb"
      },
      "source": [
        "correlation_scores_POS_bigram"
      ],
      "execution_count": null,
      "outputs": [
        {
          "output_type": "execute_result",
          "data": {
            "text/plain": [
              "[(0.08874742153648896, 'prp md'),\n",
              " (0.06998092416760059, 'rb vb'),\n",
              " (0.06319485542140829, 'rb ,'),\n",
              " (0.06021657670469683, 'nns vbp'),\n",
              " (0.05638074153727101, 'cc nn'),\n",
              " (0.055133109740181076, 'prp vbp'),\n",
              " (0.05423970399108424, 'rb rb'),\n",
              " (0.05368155003339411, '$ nn'),\n",
              " (0.047754100941835353, 'rb in'),\n",
              " (0.04437455424314259, 'prp in'),\n",
              " (0.044003799058530337, 'prp $'),\n",
              " (0.038482086697100994, 'cc jj'),\n",
              " (0.036445378957293995, \"'' in\"),\n",
              " (0.03578115613061537, 'cd cd'),\n",
              " (0.03578115613061537, 'prp .'),\n",
              " (0.03543647524663369, 'prp to'),\n",
              " (0.03504209852725998, 'cc vb'),\n",
              " (0.0338823831170172, 'rb jjr'),\n",
              " (0.03142815993018084, 'cc rb'),\n",
              " (0.031349443753606786, 'cc nns'),\n",
              " (0.03057764040631892, 'nns vbd'),\n",
              " (0.030541421296181943, 'prp nn'),\n",
              " (0.030061235758158503, 'rbr jj'),\n",
              " (0.029988845785242954, 'rb jjs'),\n",
              " (0.028418995762503053, 'rb to'),\n",
              " (0.028016368369821562, 'prp vbd'),\n",
              " (0.027971092800672726, 'nns wp'),\n",
              " (0.027866488997523527, 'cd in'),\n",
              " (0.027670199612461564, 'prp rbr'),\n",
              " (0.027571372686105662, 'rb prp'),\n",
              " (0.026433584635887405, ': wp'),\n",
              " (0.026433584635887405, '`` vb'),\n",
              " (0.025768861902785635, \"'' )\"),\n",
              " (0.025768861902785635, '( nns'),\n",
              " (0.025768861902785635, '( prp'),\n",
              " (0.025768861902785635, '( vb'),\n",
              " (0.025768861902785635, ') in'),\n",
              " (0.025768861902785635, ': wrb'),\n",
              " (0.025768861902785635, 'cd :'),\n",
              " (0.025768861902785635, 'pdt prp'),\n",
              " (0.025768861902785635, 'prp )'),\n",
              " (0.025558853699538888, '`` nn'),\n",
              " (0.024685571913208255, 'po jj'),\n",
              " (0.02450500062603976, 'cc prp'),\n",
              " (0.024471329661300542, 'cc vbg'),\n",
              " (0.0240457492868014, 'rb jj'),\n",
              " (0.02299502773166678, 'nns po'),\n",
              " (0.020013109694507696, \"'' vbz\"),\n",
              " (0.01583777263383969, 'rb cd'),\n",
              " (0.014895760298358247, 'rb vbz')]"
            ]
          },
          "metadata": {},
          "execution_count": 75
        }
      ]
    },
    {
      "cell_type": "code",
      "metadata": {
        "id": "aLKJw_ru9Gpu",
        "colab": {
          "base_uri": "https://localhost:8080/"
        },
        "outputId": "2bfc0642-3ffe-4f36-dba1-4234b0a1eb12"
      },
      "source": [
        "correlation_scores_simple_POS_bigram"
      ],
      "execution_count": null,
      "outputs": [
        {
          "output_type": "execute_result",
          "data": {
            "text/plain": [
              "[(0.10989082424059879, 'noun .'),\n",
              " (0.08606127880540602, '. pron'),\n",
              " (0.08373352147226357, 'pron verb'),\n",
              " (0.07798139300069554, 'noun noun'),\n",
              " (0.07353910535639074, 'noun conj'),\n",
              " (0.07153153762796904, 'adp noun'),\n",
              " (0.06945517454966534, 'verb adv'),\n",
              " (0.06631154993566413, 'adp pron'),\n",
              " (0.06355405701578269, 'adv .'),\n",
              " (0.06348202858666824, '. adj'),\n",
              " (0.06338553244801874, '. verb'),\n",
              " (0.06280143002931073, 'conj noun'),\n",
              " (0.059833779378726165, 'noun adp'),\n",
              " (0.0595808942644894, 'pron noun'),\n",
              " (0.056967898122956225, 'adv adv'),\n",
              " (0.05622235370408047, '. noun'),\n",
              " (0.055813964552167174, 'adj noun'),\n",
              " (0.053469726605854695, '. adp'),\n",
              " (0.052699772095085626, 'verb noun'),\n",
              " (0.051526735865355465, 'adv verb'),\n",
              " (0.050117116716821807, 'conj verb'),\n",
              " (0.05004158579758757, 'noun pron'),\n",
              " (0.04971588226508556, 'adv adp'),\n",
              " (0.048312232543404963, 'prt verb'),\n",
              " (0.04804023700829212, 'adj num'),\n",
              " (0.046581016905864775, '. det'),\n",
              " (0.04614970661865795, 'verb adj'),\n",
              " (0.04582236921546471, 'adv adj'),\n",
              " (0.0434045238123838, 'adv prt'),\n",
              " (0.042573254935879816, '. conj'),\n",
              " (0.041045056755389574, 'pron adp'),\n",
              " (0.03964187266254255, 'noun adv'),\n",
              " (0.03952564005011065, 'adp verb'),\n",
              " (0.03915255169633642, 'adj .'),\n",
              " (0.038766477621856685, 'adj prt'),\n",
              " (0.037140360171636855, 'pron prt'),\n",
              " (0.0367562871007569, 'adp adj'),\n",
              " (0.03578115613061537, 'num num'),\n",
              " (0.0356789752809303, 'verb pron'),\n",
              " (0.03401277761348389, 'verb .'),\n",
              " (0.033961750147412435, 'prt .'),\n",
              " (0.0336522077257906, 'pron adv'),\n",
              " (0.03364380367515851, '. adv'),\n",
              " (0.03143404802834501, 'adp .'),\n",
              " (0.028458100137383008, 'prt det'),\n",
              " (0.02666448853836633, 'adv pron'),\n",
              " (0.024681517235914545, 'num adj'),\n",
              " (0.023623701171481888, 'adp conj'),\n",
              " (0.023271858291497347, 'num noun'),\n",
              " (0.0176034296402132, 'adv num')]"
            ]
          },
          "metadata": {},
          "execution_count": 76
        }
      ]
    },
    {
      "cell_type": "markdown",
      "metadata": {
        "id": "kkzy6HcKc6Sz"
      },
      "source": [
        "# **Dependencies**"
      ]
    },
    {
      "cell_type": "code",
      "metadata": {
        "id": "3ch4PZSd61Wq"
      },
      "source": [
        "# Load the spacy engine:\n",
        "nlp = spacy.load('en_core_web_sm')"
      ],
      "execution_count": null,
      "outputs": []
    },
    {
      "cell_type": "code",
      "metadata": {
        "id": "cnRrHsJ8hepq"
      },
      "source": [
        "def walk_tree(node, depth):\n",
        "    if node.n_lefts + node.n_rights > 0:\n",
        "        return max(walk_tree(child, depth + 1) for child in node.children)\n",
        "    else:\n",
        "        return depth"
      ],
      "execution_count": null,
      "outputs": []
    },
    {
      "cell_type": "code",
      "metadata": {
        "id": "5h0Sfe3ZdUj5"
      },
      "source": [
        "# Return the list of dependencies for each sentence in the list passed in input\n",
        "# and the maximum number of child and max depth of the ROOT(s) contained in the sentence.\n",
        "\n",
        "def sentence_dependencies(sentence_list: list)->(list,int,int):\n",
        "  \n",
        "  sentence_dependency_list=[]\n",
        "  max_child_ROOT=[]\n",
        "  max_depth_ROOT=[]\n",
        "\n",
        "  for sentence in sentence_list:\n",
        "    doc = nlp(sentence)\n",
        "    dependency_list=[]\n",
        "    max_number_of_ROOT_child=0\n",
        "    max_depth_of_tree=0\n",
        "    for token in doc:\n",
        "      dependency_list.append(token.dep_)\n",
        "      if token.dep_=='ROOT':\n",
        "        number_child=len([child for child in token.children])\n",
        "        max_depth=walk_tree(token, 0)\n",
        "        if number_child > max_number_of_ROOT_child:\n",
        "          max_number_of_ROOT_child = number_child\n",
        "        if max_depth >  max_depth_of_tree:\n",
        "          max_depth_of_tree = max_depth\n",
        "    max_child_ROOT.append(max_number_of_ROOT_child)\n",
        "    max_depth_ROOT.append(max_depth_of_tree)\n",
        "    sentence_dependency_list.append(dependency_list)   \n",
        "\n",
        "  return sentence_dependency_list,max_child_ROOT, max_depth_ROOT"
      ],
      "execution_count": null,
      "outputs": []
    },
    {
      "cell_type": "code",
      "metadata": {
        "id": "C5xJL2xxfnZp"
      },
      "source": [
        "sentence_dependency_list,max_child_ROOT, max_depth_ROOT = sentence_dependencies(sentence_list)"
      ],
      "execution_count": null,
      "outputs": []
    },
    {
      "cell_type": "code",
      "metadata": {
        "id": "I8hr0l_1jICJ",
        "colab": {
          "base_uri": "https://localhost:8080/"
        },
        "outputId": "cf6dc8fe-8f24-4088-9cfe-f3e029ff5c75"
      },
      "source": [
        "sentence_dependency_list[0]"
      ],
      "execution_count": null,
      "outputs": [
        {
          "output_type": "execute_result",
          "data": {
            "text/plain": [
              "['nsubjpass',\n",
              " 'auxpass',\n",
              " 'advmod',\n",
              " 'ROOT',\n",
              " 'mark',\n",
              " 'nsubj',\n",
              " 'aux',\n",
              " 'advmod',\n",
              " 'ccomp',\n",
              " 'det',\n",
              " 'dobj',\n",
              " 'prep',\n",
              " 'pobj']"
            ]
          },
          "metadata": {},
          "execution_count": 81
        }
      ]
    },
    {
      "cell_type": "code",
      "metadata": {
        "id": "7mKwbvUDjOIY",
        "colab": {
          "base_uri": "https://localhost:8080/"
        },
        "outputId": "7b7bd07c-f6ab-4d3b-e6a7-ce50f41e15b1"
      },
      "source": [
        "max_child_ROOT[0:10]"
      ],
      "execution_count": null,
      "outputs": [
        {
          "output_type": "execute_result",
          "data": {
            "text/plain": [
              "[4, 7, 10, 5, 7, 3, 6, 4, 4, 5]"
            ]
          },
          "metadata": {},
          "execution_count": 82
        }
      ]
    },
    {
      "cell_type": "code",
      "metadata": {
        "id": "-gFIdUYqjRYU",
        "colab": {
          "base_uri": "https://localhost:8080/"
        },
        "outputId": "0732f465-26dd-483e-9b99-4af574aa7d73"
      },
      "source": [
        "max_depth_ROOT[0:10]"
      ],
      "execution_count": null,
      "outputs": [
        {
          "output_type": "execute_result",
          "data": {
            "text/plain": [
              "[4, 6, 5, 6, 8, 4, 6, 4, 5, 4]"
            ]
          },
          "metadata": {},
          "execution_count": 83
        }
      ]
    },
    {
      "cell_type": "code",
      "metadata": {
        "id": "wHe46S019XLa"
      },
      "source": [
        "# Get the list of the sentences as dependency tag concatenating the tag \n",
        "# of the words in each sentence. \n",
        "def get_dependency_sentence_list(dep_sentence_list: list)->list:\n",
        "  dep_sentences=[]\n",
        "  for dep_list in dep_sentence_list:\n",
        "    sentence=\"\"\n",
        "    for tag in dep_list:\n",
        "      sentence+=tag+\" \"\n",
        "    dep_sentences.append(sentence)    \n",
        "\n",
        "  return dep_sentences"
      ],
      "execution_count": null,
      "outputs": []
    },
    {
      "cell_type": "code",
      "metadata": {
        "id": "R20ZJzh89tee"
      },
      "source": [
        "dependency_sentences=get_dependency_sentence_list(sentence_dependency_list)"
      ],
      "execution_count": null,
      "outputs": []
    },
    {
      "cell_type": "code",
      "metadata": {
        "id": "b4MaNYfa92PO",
        "colab": {
          "base_uri": "https://localhost:8080/"
        },
        "outputId": "b78b3956-1490-4d93-cf8f-96fd2e6a3c7a"
      },
      "source": [
        "dependency_sentences[0]"
      ],
      "execution_count": null,
      "outputs": [
        {
          "output_type": "execute_result",
          "data": {
            "application/vnd.google.colaboratory.intrinsic+json": {
              "type": "string"
            },
            "text/plain": [
              "'nsubjpass auxpass advmod ROOT mark nsubj aux advmod ccomp det dobj prep pobj '"
            ]
          },
          "metadata": {},
          "execution_count": 86
        }
      ]
    },
    {
      "cell_type": "code",
      "metadata": {
        "id": "hflnDNar7EPg",
        "colab": {
          "base_uri": "https://localhost:8080/"
        },
        "outputId": "e760a305-b08b-4bc1-93b0-6851603adc0a"
      },
      "source": [
        "dependency_BOW=bag_of_ngram(dependency_sentences,1)\n",
        "\n",
        "dependency_BOW.head()"
      ],
      "execution_count": null,
      "outputs": [
        {
          "output_type": "execute_result",
          "data": {
            "text/html": [
              "<div>\n",
              "<style scoped>\n",
              "    .dataframe tbody tr th:only-of-type {\n",
              "        vertical-align: middle;\n",
              "    }\n",
              "\n",
              "    .dataframe tbody tr th {\n",
              "        vertical-align: top;\n",
              "    }\n",
              "\n",
              "    .dataframe thead th {\n",
              "        text-align: right;\n",
              "    }\n",
              "</style>\n",
              "<table border=\"1\" class=\"dataframe\">\n",
              "  <thead>\n",
              "    <tr style=\"text-align: right;\">\n",
              "      <th></th>\n",
              "      <th>acl</th>\n",
              "      <th>acomp</th>\n",
              "      <th>advcl</th>\n",
              "      <th>advmod</th>\n",
              "      <th>agent</th>\n",
              "      <th>amod</th>\n",
              "      <th>appos</th>\n",
              "      <th>attr</th>\n",
              "      <th>aux</th>\n",
              "      <th>auxpass</th>\n",
              "      <th>case</th>\n",
              "      <th>cc</th>\n",
              "      <th>ccomp</th>\n",
              "      <th>compound</th>\n",
              "      <th>conj</th>\n",
              "      <th>csubj</th>\n",
              "      <th>csubjpass</th>\n",
              "      <th>dative</th>\n",
              "      <th>dep</th>\n",
              "      <th>det</th>\n",
              "      <th>dobj</th>\n",
              "      <th>expl</th>\n",
              "      <th>intj</th>\n",
              "      <th>mark</th>\n",
              "      <th>neg</th>\n",
              "      <th>nmod</th>\n",
              "      <th>npadvmod</th>\n",
              "      <th>nsubj</th>\n",
              "      <th>nsubjpass</th>\n",
              "      <th>nummod</th>\n",
              "      <th>oprd</th>\n",
              "      <th>parataxis</th>\n",
              "      <th>pcomp</th>\n",
              "      <th>po</th>\n",
              "      <th>pobj</th>\n",
              "      <th>preconj</th>\n",
              "      <th>predet</th>\n",
              "      <th>prep</th>\n",
              "      <th>prt</th>\n",
              "      <th>punct</th>\n",
              "      <th>quantmod</th>\n",
              "      <th>relcl</th>\n",
              "      <th>root</th>\n",
              "      <th>xcomp</th>\n",
              "    </tr>\n",
              "  </thead>\n",
              "  <tbody>\n",
              "    <tr>\n",
              "      <th>0</th>\n",
              "      <td>0</td>\n",
              "      <td>0</td>\n",
              "      <td>0</td>\n",
              "      <td>2</td>\n",
              "      <td>0</td>\n",
              "      <td>0</td>\n",
              "      <td>0</td>\n",
              "      <td>0</td>\n",
              "      <td>1</td>\n",
              "      <td>1</td>\n",
              "      <td>0</td>\n",
              "      <td>0</td>\n",
              "      <td>1</td>\n",
              "      <td>0</td>\n",
              "      <td>0</td>\n",
              "      <td>0</td>\n",
              "      <td>0</td>\n",
              "      <td>0</td>\n",
              "      <td>0</td>\n",
              "      <td>1</td>\n",
              "      <td>1</td>\n",
              "      <td>0</td>\n",
              "      <td>0</td>\n",
              "      <td>1</td>\n",
              "      <td>0</td>\n",
              "      <td>0</td>\n",
              "      <td>0</td>\n",
              "      <td>1</td>\n",
              "      <td>1</td>\n",
              "      <td>0</td>\n",
              "      <td>0</td>\n",
              "      <td>0</td>\n",
              "      <td>0</td>\n",
              "      <td>0</td>\n",
              "      <td>1</td>\n",
              "      <td>0</td>\n",
              "      <td>0</td>\n",
              "      <td>1</td>\n",
              "      <td>0</td>\n",
              "      <td>0</td>\n",
              "      <td>0</td>\n",
              "      <td>0</td>\n",
              "      <td>1</td>\n",
              "      <td>0</td>\n",
              "    </tr>\n",
              "    <tr>\n",
              "      <th>1</th>\n",
              "      <td>1</td>\n",
              "      <td>0</td>\n",
              "      <td>0</td>\n",
              "      <td>0</td>\n",
              "      <td>0</td>\n",
              "      <td>1</td>\n",
              "      <td>0</td>\n",
              "      <td>0</td>\n",
              "      <td>2</td>\n",
              "      <td>0</td>\n",
              "      <td>0</td>\n",
              "      <td>2</td>\n",
              "      <td>0</td>\n",
              "      <td>1</td>\n",
              "      <td>2</td>\n",
              "      <td>0</td>\n",
              "      <td>0</td>\n",
              "      <td>0</td>\n",
              "      <td>0</td>\n",
              "      <td>3</td>\n",
              "      <td>1</td>\n",
              "      <td>0</td>\n",
              "      <td>0</td>\n",
              "      <td>0</td>\n",
              "      <td>0</td>\n",
              "      <td>0</td>\n",
              "      <td>0</td>\n",
              "      <td>1</td>\n",
              "      <td>0</td>\n",
              "      <td>0</td>\n",
              "      <td>0</td>\n",
              "      <td>0</td>\n",
              "      <td>0</td>\n",
              "      <td>1</td>\n",
              "      <td>3</td>\n",
              "      <td>0</td>\n",
              "      <td>0</td>\n",
              "      <td>3</td>\n",
              "      <td>0</td>\n",
              "      <td>3</td>\n",
              "      <td>0</td>\n",
              "      <td>0</td>\n",
              "      <td>1</td>\n",
              "      <td>1</td>\n",
              "    </tr>\n",
              "    <tr>\n",
              "      <th>2</th>\n",
              "      <td>0</td>\n",
              "      <td>1</td>\n",
              "      <td>1</td>\n",
              "      <td>2</td>\n",
              "      <td>0</td>\n",
              "      <td>2</td>\n",
              "      <td>0</td>\n",
              "      <td>1</td>\n",
              "      <td>0</td>\n",
              "      <td>0</td>\n",
              "      <td>1</td>\n",
              "      <td>2</td>\n",
              "      <td>0</td>\n",
              "      <td>0</td>\n",
              "      <td>2</td>\n",
              "      <td>1</td>\n",
              "      <td>0</td>\n",
              "      <td>0</td>\n",
              "      <td>0</td>\n",
              "      <td>4</td>\n",
              "      <td>1</td>\n",
              "      <td>0</td>\n",
              "      <td>0</td>\n",
              "      <td>0</td>\n",
              "      <td>1</td>\n",
              "      <td>0</td>\n",
              "      <td>0</td>\n",
              "      <td>2</td>\n",
              "      <td>0</td>\n",
              "      <td>0</td>\n",
              "      <td>0</td>\n",
              "      <td>0</td>\n",
              "      <td>0</td>\n",
              "      <td>1</td>\n",
              "      <td>3</td>\n",
              "      <td>0</td>\n",
              "      <td>0</td>\n",
              "      <td>3</td>\n",
              "      <td>0</td>\n",
              "      <td>3</td>\n",
              "      <td>0</td>\n",
              "      <td>0</td>\n",
              "      <td>1</td>\n",
              "      <td>0</td>\n",
              "    </tr>\n",
              "    <tr>\n",
              "      <th>3</th>\n",
              "      <td>0</td>\n",
              "      <td>0</td>\n",
              "      <td>0</td>\n",
              "      <td>1</td>\n",
              "      <td>0</td>\n",
              "      <td>2</td>\n",
              "      <td>0</td>\n",
              "      <td>0</td>\n",
              "      <td>1</td>\n",
              "      <td>0</td>\n",
              "      <td>0</td>\n",
              "      <td>0</td>\n",
              "      <td>1</td>\n",
              "      <td>0</td>\n",
              "      <td>0</td>\n",
              "      <td>0</td>\n",
              "      <td>0</td>\n",
              "      <td>0</td>\n",
              "      <td>0</td>\n",
              "      <td>1</td>\n",
              "      <td>1</td>\n",
              "      <td>0</td>\n",
              "      <td>0</td>\n",
              "      <td>1</td>\n",
              "      <td>0</td>\n",
              "      <td>0</td>\n",
              "      <td>0</td>\n",
              "      <td>2</td>\n",
              "      <td>0</td>\n",
              "      <td>0</td>\n",
              "      <td>0</td>\n",
              "      <td>0</td>\n",
              "      <td>0</td>\n",
              "      <td>0</td>\n",
              "      <td>4</td>\n",
              "      <td>0</td>\n",
              "      <td>0</td>\n",
              "      <td>4</td>\n",
              "      <td>0</td>\n",
              "      <td>1</td>\n",
              "      <td>0</td>\n",
              "      <td>0</td>\n",
              "      <td>1</td>\n",
              "      <td>0</td>\n",
              "    </tr>\n",
              "    <tr>\n",
              "      <th>4</th>\n",
              "      <td>0</td>\n",
              "      <td>1</td>\n",
              "      <td>0</td>\n",
              "      <td>1</td>\n",
              "      <td>0</td>\n",
              "      <td>2</td>\n",
              "      <td>0</td>\n",
              "      <td>0</td>\n",
              "      <td>1</td>\n",
              "      <td>0</td>\n",
              "      <td>0</td>\n",
              "      <td>0</td>\n",
              "      <td>0</td>\n",
              "      <td>0</td>\n",
              "      <td>0</td>\n",
              "      <td>0</td>\n",
              "      <td>0</td>\n",
              "      <td>0</td>\n",
              "      <td>0</td>\n",
              "      <td>2</td>\n",
              "      <td>0</td>\n",
              "      <td>0</td>\n",
              "      <td>0</td>\n",
              "      <td>0</td>\n",
              "      <td>0</td>\n",
              "      <td>0</td>\n",
              "      <td>0</td>\n",
              "      <td>2</td>\n",
              "      <td>0</td>\n",
              "      <td>0</td>\n",
              "      <td>0</td>\n",
              "      <td>0</td>\n",
              "      <td>0</td>\n",
              "      <td>0</td>\n",
              "      <td>5</td>\n",
              "      <td>0</td>\n",
              "      <td>0</td>\n",
              "      <td>5</td>\n",
              "      <td>0</td>\n",
              "      <td>2</td>\n",
              "      <td>0</td>\n",
              "      <td>1</td>\n",
              "      <td>1</td>\n",
              "      <td>0</td>\n",
              "    </tr>\n",
              "  </tbody>\n",
              "</table>\n",
              "</div>"
            ],
            "text/plain": [
              "   acl  acomp  advcl  advmod  agent  ...  punct  quantmod  relcl  root  xcomp\n",
              "0    0      0      0       2      0  ...      0         0      0     1      0\n",
              "1    1      0      0       0      0  ...      3         0      0     1      1\n",
              "2    0      1      1       2      0  ...      3         0      0     1      0\n",
              "3    0      0      0       1      0  ...      1         0      0     1      0\n",
              "4    0      1      0       1      0  ...      2         0      1     1      0\n",
              "\n",
              "[5 rows x 44 columns]"
            ]
          },
          "metadata": {},
          "execution_count": 87
        }
      ]
    },
    {
      "cell_type": "markdown",
      "metadata": {
        "id": "02WnItqMLbBk"
      },
      "source": [
        "**correlation score**"
      ]
    },
    {
      "cell_type": "code",
      "metadata": {
        "id": "sSvBxHEEKfly"
      },
      "source": [
        "dep_correlation_BOW=get_correlation_scores(dependency_BOW,sentences_argumentative_map)"
      ],
      "execution_count": null,
      "outputs": []
    },
    {
      "cell_type": "code",
      "metadata": {
        "id": "gnqP4KEXX6KT",
        "colab": {
          "base_uri": "https://localhost:8080/"
        },
        "outputId": "bd1ebee4-5ab9-431c-9224-51829b783f17"
      },
      "source": [
        "dep_correlation_BOW"
      ],
      "execution_count": null,
      "outputs": [
        {
          "output_type": "execute_result",
          "data": {
            "text/plain": [
              "[(0.17186691153015862, 'punct'),\n",
              " (0.13107037610650277, 'dobj'),\n",
              " (0.10755345562870022, 'advmod'),\n",
              " (0.0989617754517807, 'prep'),\n",
              " (0.09754583887408802, 'pobj'),\n",
              " (0.094145954361456, 'advcl'),\n",
              " (0.09191801964528402, 'conj'),\n",
              " (0.0905700065391832, 'cc'),\n",
              " (0.08507042560368806, 'compound'),\n",
              " (0.082813745195446, 'nsubj'),\n",
              " (0.07933839149725759, 'aux'),\n",
              " (0.0754149027043112, 'attr'),\n",
              " (0.07187876795592597, 'expl'),\n",
              " (0.05160557735590814, 'acomp'),\n",
              " (0.05145084344951333, 'amod'),\n",
              " (0.0484360769833025, 'neg'),\n",
              " (0.04656079012757144, 'po'),\n",
              " (0.045650761895786686, 'csubj'),\n",
              " (0.04160143910606234, 'preconj'),\n",
              " (0.041157019388873284, 'xcomp'),\n",
              " (0.04001312832671903, 'nummod'),\n",
              " (0.03768397107278733, 'nmod'),\n",
              " (0.036480512781692086, 'nsubjpass'),\n",
              " (0.031147153536745114, 'relcl'),\n",
              " (0.03058538595050309, 'auxpass'),\n",
              " (0.027311177922409256, 'prt'),\n",
              " (0.02690284119555095, 'pcomp'),\n",
              " (0.025036566665456565, 'dative'),\n",
              " (0.020228327388712525, 'appos'),\n",
              " (0.017208738151623767, 'intj'),\n",
              " (0.01596117478860743, 'dep'),\n",
              " (0.014161127863163772, 'agent'),\n",
              " (0.013962903167027764, 'case'),\n",
              " (0.0138569572808191, 'root'),\n",
              " (0.013819950485093687, 'ccomp'),\n",
              " (0.011768025064048226, 'det'),\n",
              " (0.01100147095633303, 'mark'),\n",
              " (0.010555549930567142, 'predet'),\n",
              " (0.009605209679162226, 'csubjpass'),\n",
              " (0.009605209679162226, 'parataxis'),\n",
              " (0.004052022171754752, 'oprd'),\n",
              " (0.0024526350862258896, 'acl'),\n",
              " (0.001512295977082363, 'npadvmod'),\n",
              " (0.00012655759496828123, 'quantmod')]"
            ]
          },
          "metadata": {},
          "execution_count": 89
        }
      ]
    },
    {
      "cell_type": "code",
      "metadata": {
        "id": "XlM03_9l1h6e"
      },
      "source": [
        "# Get the tag sorted for their correlation scores.\n",
        "dep_BOW_most_correlated=[tag[1] for tag in dep_correlation_BOW]"
      ],
      "execution_count": null,
      "outputs": []
    },
    {
      "cell_type": "code",
      "metadata": {
        "id": "VkiGiy6F0ix8"
      },
      "source": [
        "# Save the most correlated bigrams into a text file.\n",
        "\n",
        "f = open(\"dependency_tag.txt\", \"a\")\n",
        "for tag in dep_BOW_most_correlated:\n",
        "  f.write(\"{}-\".format(tag))\n",
        "f.close()"
      ],
      "execution_count": null,
      "outputs": []
    },
    {
      "cell_type": "code",
      "metadata": {
        "id": "Umsi24TILrts"
      },
      "source": [
        "# Export the dataset abouth the dipendencies tag.\n",
        "dependency_BOW=dependency_BOW[dep_BOW_most_correlated]\n",
        "\n",
        "dependency_BOW.to_csv('sentence_dependency.csv',index=False)"
      ],
      "execution_count": null,
      "outputs": []
    },
    {
      "cell_type": "code",
      "metadata": {
        "id": "XMZlZjv8MCG0"
      },
      "source": [
        "# Create dataframe of the features regarding the dependency tree dimension\n",
        "# and find their coorelations with the labels (presence of an argumentative \n",
        "# section in a sentence) and compute the correlation using the Spearman test. \n",
        "\n",
        "dep_tree_stat_dataframe=pd.DataFrame(dict(zip([\"tree depth\",\"max number of children of a ROOT node\"],[max_depth_ROOT, max_child_ROOT])))\n",
        "\n",
        "correlation_scores_dep_tree_stat=get_correlation_scores(dep_tree_stat_dataframe,sentences_argumentative_map)"
      ],
      "execution_count": null,
      "outputs": []
    },
    {
      "cell_type": "code",
      "metadata": {
        "id": "x-rqsw4fMwts",
        "colab": {
          "base_uri": "https://localhost:8080/"
        },
        "outputId": "eb0cfce6-d499-4683-8784-66b6c25de93c"
      },
      "source": [
        "dep_tree_stat_dataframe.head()"
      ],
      "execution_count": null,
      "outputs": [
        {
          "output_type": "execute_result",
          "data": {
            "text/html": [
              "<div>\n",
              "<style scoped>\n",
              "    .dataframe tbody tr th:only-of-type {\n",
              "        vertical-align: middle;\n",
              "    }\n",
              "\n",
              "    .dataframe tbody tr th {\n",
              "        vertical-align: top;\n",
              "    }\n",
              "\n",
              "    .dataframe thead th {\n",
              "        text-align: right;\n",
              "    }\n",
              "</style>\n",
              "<table border=\"1\" class=\"dataframe\">\n",
              "  <thead>\n",
              "    <tr style=\"text-align: right;\">\n",
              "      <th></th>\n",
              "      <th>tree depth</th>\n",
              "      <th>max number of children of a ROOT node</th>\n",
              "    </tr>\n",
              "  </thead>\n",
              "  <tbody>\n",
              "    <tr>\n",
              "      <th>0</th>\n",
              "      <td>4</td>\n",
              "      <td>4</td>\n",
              "    </tr>\n",
              "    <tr>\n",
              "      <th>1</th>\n",
              "      <td>6</td>\n",
              "      <td>7</td>\n",
              "    </tr>\n",
              "    <tr>\n",
              "      <th>2</th>\n",
              "      <td>5</td>\n",
              "      <td>10</td>\n",
              "    </tr>\n",
              "    <tr>\n",
              "      <th>3</th>\n",
              "      <td>6</td>\n",
              "      <td>5</td>\n",
              "    </tr>\n",
              "    <tr>\n",
              "      <th>4</th>\n",
              "      <td>8</td>\n",
              "      <td>7</td>\n",
              "    </tr>\n",
              "  </tbody>\n",
              "</table>\n",
              "</div>"
            ],
            "text/plain": [
              "   tree depth  max number of children of a ROOT node\n",
              "0           4                                      4\n",
              "1           6                                      7\n",
              "2           5                                     10\n",
              "3           6                                      5\n",
              "4           8                                      7"
            ]
          },
          "metadata": {},
          "execution_count": 94
        }
      ]
    },
    {
      "cell_type": "code",
      "metadata": {
        "id": "g4gk3vCILYZg"
      },
      "source": [
        "# Export the dataset of the dependency tree statistic.\n",
        "dep_tree_stat_dataframe.to_csv('sentence_dependency_tree_stat.csv',index=False)"
      ],
      "execution_count": null,
      "outputs": []
    },
    {
      "cell_type": "code",
      "metadata": {
        "id": "B3qRoYkoM28f",
        "colab": {
          "base_uri": "https://localhost:8080/"
        },
        "outputId": "89d32571-3a87-48c4-d13e-fdf15d4f739c"
      },
      "source": [
        "correlation_scores_dep_tree_stat"
      ],
      "execution_count": null,
      "outputs": [
        {
          "output_type": "execute_result",
          "data": {
            "text/plain": [
              "[(0.16483685055333763, 'max number of children of a ROOT node'),\n",
              " (0.07554493677001188, 'tree depth')]"
            ]
          },
          "metadata": {},
          "execution_count": 96
        }
      ]
    },
    {
      "cell_type": "markdown",
      "metadata": {
        "id": "YCyByqWGnux8"
      },
      "source": [
        "# **Named entities labels**"
      ]
    },
    {
      "cell_type": "code",
      "metadata": {
        "id": "FV0D4EQDnyS5"
      },
      "source": [
        "# Return the list of strings containing the sequence of the labels of named \n",
        "# entities for each sentence in the list passed in input.\n",
        "\n",
        "def sentence_named_entities(sentence_list: list)->list:\n",
        "  sentence_entity_list=[]\n",
        "\n",
        "  for sentence in sentence_list:\n",
        "    doc = nlp(sentence)\n",
        "    entity_sequence=''\n",
        "    for token in doc.ents:\n",
        "        entity_sequence+=token.label_+\" \"\n",
        "    sentence_entity_list.append(entity_sequence)\n",
        "\n",
        "  return sentence_entity_list"
      ],
      "execution_count": null,
      "outputs": []
    },
    {
      "cell_type": "code",
      "metadata": {
        "id": "qOmPpQmNsEvd"
      },
      "source": [
        "# Return the list of the BOW of common labeled entity for each couple of \n",
        "# sentences in a possible relation.\n",
        "\n",
        "label_named_entity_sentence_list=sentence_named_entities(sentence_list)\n",
        "\n",
        "label_named_entity_BOW=bag_of_ngram(label_named_entity_sentence_list,1)"
      ],
      "execution_count": null,
      "outputs": []
    },
    {
      "cell_type": "code",
      "metadata": {
        "id": "D9lEst8puvWz",
        "colab": {
          "base_uri": "https://localhost:8080/"
        },
        "outputId": "9b615f0e-b737-422d-ba2f-97ff30456a12"
      },
      "source": [
        "label_named_entity_BOW.head()"
      ],
      "execution_count": null,
      "outputs": [
        {
          "output_type": "execute_result",
          "data": {
            "text/html": [
              "<div>\n",
              "<style scoped>\n",
              "    .dataframe tbody tr th:only-of-type {\n",
              "        vertical-align: middle;\n",
              "    }\n",
              "\n",
              "    .dataframe tbody tr th {\n",
              "        vertical-align: top;\n",
              "    }\n",
              "\n",
              "    .dataframe thead th {\n",
              "        text-align: right;\n",
              "    }\n",
              "</style>\n",
              "<table border=\"1\" class=\"dataframe\">\n",
              "  <thead>\n",
              "    <tr style=\"text-align: right;\">\n",
              "      <th></th>\n",
              "      <th>cardinal</th>\n",
              "      <th>date</th>\n",
              "      <th>event</th>\n",
              "      <th>fac</th>\n",
              "      <th>gpe</th>\n",
              "      <th>language</th>\n",
              "      <th>loc</th>\n",
              "      <th>money</th>\n",
              "      <th>norp</th>\n",
              "      <th>ordinal</th>\n",
              "      <th>org</th>\n",
              "      <th>percent</th>\n",
              "      <th>person</th>\n",
              "      <th>product</th>\n",
              "      <th>quantity</th>\n",
              "      <th>time</th>\n",
              "      <th>work_of_art</th>\n",
              "    </tr>\n",
              "  </thead>\n",
              "  <tbody>\n",
              "    <tr>\n",
              "      <th>0</th>\n",
              "      <td>0</td>\n",
              "      <td>0</td>\n",
              "      <td>0</td>\n",
              "      <td>0</td>\n",
              "      <td>0</td>\n",
              "      <td>0</td>\n",
              "      <td>0</td>\n",
              "      <td>0</td>\n",
              "      <td>0</td>\n",
              "      <td>0</td>\n",
              "      <td>0</td>\n",
              "      <td>0</td>\n",
              "      <td>0</td>\n",
              "      <td>0</td>\n",
              "      <td>0</td>\n",
              "      <td>0</td>\n",
              "      <td>0</td>\n",
              "    </tr>\n",
              "    <tr>\n",
              "      <th>1</th>\n",
              "      <td>0</td>\n",
              "      <td>0</td>\n",
              "      <td>0</td>\n",
              "      <td>0</td>\n",
              "      <td>0</td>\n",
              "      <td>0</td>\n",
              "      <td>0</td>\n",
              "      <td>0</td>\n",
              "      <td>0</td>\n",
              "      <td>0</td>\n",
              "      <td>0</td>\n",
              "      <td>0</td>\n",
              "      <td>0</td>\n",
              "      <td>0</td>\n",
              "      <td>0</td>\n",
              "      <td>0</td>\n",
              "      <td>0</td>\n",
              "    </tr>\n",
              "    <tr>\n",
              "      <th>2</th>\n",
              "      <td>0</td>\n",
              "      <td>0</td>\n",
              "      <td>0</td>\n",
              "      <td>0</td>\n",
              "      <td>0</td>\n",
              "      <td>0</td>\n",
              "      <td>0</td>\n",
              "      <td>0</td>\n",
              "      <td>0</td>\n",
              "      <td>0</td>\n",
              "      <td>0</td>\n",
              "      <td>0</td>\n",
              "      <td>0</td>\n",
              "      <td>0</td>\n",
              "      <td>0</td>\n",
              "      <td>0</td>\n",
              "      <td>0</td>\n",
              "    </tr>\n",
              "    <tr>\n",
              "      <th>3</th>\n",
              "      <td>0</td>\n",
              "      <td>0</td>\n",
              "      <td>0</td>\n",
              "      <td>0</td>\n",
              "      <td>0</td>\n",
              "      <td>0</td>\n",
              "      <td>0</td>\n",
              "      <td>0</td>\n",
              "      <td>0</td>\n",
              "      <td>0</td>\n",
              "      <td>0</td>\n",
              "      <td>0</td>\n",
              "      <td>0</td>\n",
              "      <td>0</td>\n",
              "      <td>0</td>\n",
              "      <td>0</td>\n",
              "      <td>0</td>\n",
              "    </tr>\n",
              "    <tr>\n",
              "      <th>4</th>\n",
              "      <td>0</td>\n",
              "      <td>0</td>\n",
              "      <td>0</td>\n",
              "      <td>0</td>\n",
              "      <td>0</td>\n",
              "      <td>0</td>\n",
              "      <td>0</td>\n",
              "      <td>0</td>\n",
              "      <td>0</td>\n",
              "      <td>1</td>\n",
              "      <td>0</td>\n",
              "      <td>0</td>\n",
              "      <td>0</td>\n",
              "      <td>0</td>\n",
              "      <td>0</td>\n",
              "      <td>0</td>\n",
              "      <td>0</td>\n",
              "    </tr>\n",
              "  </tbody>\n",
              "</table>\n",
              "</div>"
            ],
            "text/plain": [
              "   cardinal  date  event  fac  ...  product  quantity  time  work_of_art\n",
              "0         0     0      0    0  ...        0         0     0            0\n",
              "1         0     0      0    0  ...        0         0     0            0\n",
              "2         0     0      0    0  ...        0         0     0            0\n",
              "3         0     0      0    0  ...        0         0     0            0\n",
              "4         0     0      0    0  ...        0         0     0            0\n",
              "\n",
              "[5 rows x 17 columns]"
            ]
          },
          "metadata": {},
          "execution_count": 99
        }
      ]
    },
    {
      "cell_type": "code",
      "metadata": {
        "id": "6ZRSlue9vat_"
      },
      "source": [
        "# Export the dataset.\n",
        "label_named_entity_BOW.to_csv('sentence_named_entity_BOW.csv',index=False)"
      ],
      "execution_count": null,
      "outputs": []
    },
    {
      "cell_type": "markdown",
      "metadata": {
        "id": "h3Q3k9hGTSd7"
      },
      "source": [
        "**correlation score**"
      ]
    },
    {
      "cell_type": "code",
      "metadata": {
        "id": "vhBd17iMPuH2"
      },
      "source": [
        "name_entity_correlation_BOW=get_correlation_scores(label_named_entity_BOW,sentences_argumentative_map)"
      ],
      "execution_count": null,
      "outputs": []
    },
    {
      "cell_type": "code",
      "metadata": {
        "id": "ElQW4s_8QAno",
        "colab": {
          "base_uri": "https://localhost:8080/"
        },
        "outputId": "8f73ec46-6cb0-4cf8-a17f-024771ae7c11"
      },
      "source": [
        "name_entity_correlation_BOW"
      ],
      "execution_count": null,
      "outputs": [
        {
          "output_type": "execute_result",
          "data": {
            "text/plain": [
              "[(0.07690105015275327, 'ordinal'),\n",
              " (0.06325617679704298, 'date'),\n",
              " (0.043757414876171984, 'cardinal'),\n",
              " (0.03205731084859597, 'norp'),\n",
              " (0.03170338254440274, 'gpe'),\n",
              " (0.03103205134018594, 'time'),\n",
              " (0.025768861902785635, 'product'),\n",
              " (0.01675095882239677, 'org'),\n",
              " (0.00959391187573936, 'percent'),\n",
              " (0.008146769837739041, 'fac'),\n",
              " (0.007579041408879182, 'loc'),\n",
              " (0.006205109187141873, 'person'),\n",
              " (0.005147795651821434, 'quantity'),\n",
              " (0.0024800026402341585, 'language'),\n",
              " (0.0012402534086829661, 'event'),\n",
              " (0.0012203732531025017, 'work_of_art'),\n",
              " (0.0012182799348096083, 'money')]"
            ]
          },
          "metadata": {},
          "execution_count": 102
        }
      ]
    },
    {
      "cell_type": "code",
      "metadata": {
        "id": "8bVNLbAmvN2g"
      },
      "source": [
        "# Get the tag sorted for their correlation scores.\n",
        "most_correlated_named_entity=[tag[1] for tag in name_entity_correlation_BOW]"
      ],
      "execution_count": null,
      "outputs": []
    },
    {
      "cell_type": "code",
      "metadata": {
        "id": "HQqSLFz5vYG-"
      },
      "source": [
        "# Save the labeled named entity into a text file.\n",
        "\n",
        "f = open(\"labeled_named_entity.txt\", \"a\")\n",
        "for entity in most_correlated_named_entity:\n",
        "  f.write(\"{}-\".format(entity))\n",
        "f.close()"
      ],
      "execution_count": null,
      "outputs": []
    },
    {
      "cell_type": "markdown",
      "metadata": {
        "id": "4NZh_f8izxjI"
      },
      "source": [
        "# **Type Token Ratio**"
      ]
    },
    {
      "cell_type": "code",
      "metadata": {
        "id": "CpnJ7eL10k-g"
      },
      "source": [
        "type_token_ratio_list=[]\n",
        "\n",
        "for sentence in sentence_list:\n",
        "  word_seq=nltk.word_tokenize(sentence)\n",
        "\n",
        "  types=Counter(word_seq)\n",
        "\n",
        "  ttr=(len(types)/len(word_seq))*100\n",
        "  \n",
        "  type_token_ratio_list.append(ttr)"
      ],
      "execution_count": null,
      "outputs": []
    },
    {
      "cell_type": "code",
      "metadata": {
        "id": "6oxmHQ4C2Uyt",
        "colab": {
          "base_uri": "https://localhost:8080/"
        },
        "outputId": "c661fe47-0883-4895-cd1e-8181cde8420e"
      },
      "source": [
        "print(type_token_ratio_list[0:10])"
      ],
      "execution_count": null,
      "outputs": [
        {
          "output_type": "stream",
          "name": "stdout",
          "text": [
            "[100.0, 76.92307692307693, 78.125, 100.0, 86.95652173913044, 85.18518518518519, 68.29268292682927, 95.23809523809523, 85.0, 100.0]\n"
          ]
        }
      ]
    },
    {
      "cell_type": "markdown",
      "metadata": {
        "id": "8tstI7BoTiH3"
      },
      "source": [
        "**correlation score**"
      ]
    },
    {
      "cell_type": "code",
      "metadata": {
        "id": "UTOZqvreTnRJ"
      },
      "source": [
        "# Create dataframe of number of named entity per sentence with the labels \n",
        "# (presence of an argumentative section in a sentence) using the Spearman test.\n",
        "\n",
        "type_token_dataframe=pd.DataFrame(dict(zip([\"type token ratio\"],[type_token_ratio_list])))\n",
        "\n",
        "correlation_scores_type_token=get_correlation_scores(type_token_dataframe,sentences_argumentative_map)"
      ],
      "execution_count": null,
      "outputs": []
    },
    {
      "cell_type": "code",
      "metadata": {
        "id": "VJzPgD73UBjb",
        "colab": {
          "base_uri": "https://localhost:8080/"
        },
        "outputId": "baf37a16-e21c-4969-d2e7-d40a45efe26c"
      },
      "source": [
        "correlation_scores_type_token"
      ],
      "execution_count": null,
      "outputs": [
        {
          "output_type": "execute_result",
          "data": {
            "text/plain": [
              "[(0.08819152554155414, 'type token ratio')]"
            ]
          },
          "metadata": {},
          "execution_count": 108
        }
      ]
    },
    {
      "cell_type": "markdown",
      "metadata": {
        "id": "zZDNAN02UUsP"
      },
      "source": [
        "# **Bag of words and Bigrams correlation**"
      ]
    },
    {
      "cell_type": "code",
      "metadata": {
        "id": "DEBftr-YUaie"
      },
      "source": [
        "bag_words_dataframe=bag_of_ngram(sentence_list, 1)\n",
        "bag_bigrams_dataframe=bag_of_ngram(sentence_list, 2)"
      ],
      "execution_count": null,
      "outputs": []
    },
    {
      "cell_type": "code",
      "metadata": {
        "id": "_78JrCE0Utbk",
        "colab": {
          "base_uri": "https://localhost:8080/",
          "height": 269
        },
        "outputId": "4e6325e4-6f75-440e-ec03-2c8b82475330"
      },
      "source": [
        "bag_words_dataframe.head()"
      ],
      "execution_count": null,
      "outputs": [
        {
          "output_type": "execute_result",
          "data": {
            "text/html": [
              "<div>\n",
              "<style scoped>\n",
              "    .dataframe tbody tr th:only-of-type {\n",
              "        vertical-align: middle;\n",
              "    }\n",
              "\n",
              "    .dataframe tbody tr th {\n",
              "        vertical-align: top;\n",
              "    }\n",
              "\n",
              "    .dataframe thead th {\n",
              "        text-align: right;\n",
              "    }\n",
              "</style>\n",
              "<table border=\"1\" class=\"dataframe\">\n",
              "  <thead>\n",
              "    <tr style=\"text-align: right;\">\n",
              "      <th></th>\n",
              "      <th>!</th>\n",
              "      <th>%</th>\n",
              "      <th>&amp;</th>\n",
              "      <th>'</th>\n",
              "      <th>''</th>\n",
              "      <th>'3</th>\n",
              "      <th>'a</th>\n",
              "      <th>'cult</th>\n",
              "      <th>'dug</th>\n",
              "      <th>'globalization</th>\n",
              "      <th>'halo</th>\n",
              "      <th>'innovate</th>\n",
              "      <th>'ll</th>\n",
              "      <th>'low</th>\n",
              "      <th>'m</th>\n",
              "      <th>'re</th>\n",
              "      <th>'s</th>\n",
              "      <th>'social</th>\n",
              "      <th>'teachers</th>\n",
              "      <th>'this</th>\n",
              "      <th>'ve</th>\n",
              "      <th>'your</th>\n",
              "      <th>(</th>\n",
              "      <th>)</th>\n",
              "      <th>,</th>\n",
              "      <th>-</th>\n",
              "      <th>--</th>\n",
              "      <th>.</th>\n",
              "      <th>...</th>\n",
              "      <th>0</th>\n",
              "      <th>1</th>\n",
              "      <th>10</th>\n",
              "      <th>100</th>\n",
              "      <th>10000</th>\n",
              "      <th>14</th>\n",
              "      <th>15</th>\n",
              "      <th>16</th>\n",
              "      <th>170</th>\n",
              "      <th>17th</th>\n",
              "      <th>18</th>\n",
              "      <th>...</th>\n",
              "      <th>wrap</th>\n",
              "      <th>write</th>\n",
              "      <th>writer</th>\n",
              "      <th>writing</th>\n",
              "      <th>written</th>\n",
              "      <th>wrong</th>\n",
              "      <th>wrongly</th>\n",
              "      <th>wrote</th>\n",
              "      <th>x</th>\n",
              "      <th>yahoo</th>\n",
              "      <th>yandex</th>\n",
              "      <th>yang</th>\n",
              "      <th>year</th>\n",
              "      <th>yearly</th>\n",
              "      <th>yell</th>\n",
              "      <th>yellow</th>\n",
              "      <th>yet</th>\n",
              "      <th>yield</th>\n",
              "      <th>yielding</th>\n",
              "      <th>york</th>\n",
              "      <th>you</th>\n",
              "      <th>young</th>\n",
              "      <th>younger</th>\n",
              "      <th>youngster</th>\n",
              "      <th>your</th>\n",
              "      <th>yours</th>\n",
              "      <th>yourself</th>\n",
              "      <th>youth</th>\n",
              "      <th>zappa</th>\n",
              "      <th>zeal</th>\n",
              "      <th>zero</th>\n",
              "      <th>zone</th>\n",
              "      <th>zoo</th>\n",
              "      <th>zookeepers</th>\n",
              "      <th>zoology</th>\n",
              "      <th>–</th>\n",
              "      <th>‘</th>\n",
              "      <th>’</th>\n",
              "      <th>“</th>\n",
              "      <th>”</th>\n",
              "    </tr>\n",
              "  </thead>\n",
              "  <tbody>\n",
              "    <tr>\n",
              "      <th>0</th>\n",
              "      <td>0</td>\n",
              "      <td>0</td>\n",
              "      <td>0</td>\n",
              "      <td>0</td>\n",
              "      <td>0</td>\n",
              "      <td>0</td>\n",
              "      <td>0</td>\n",
              "      <td>0</td>\n",
              "      <td>0</td>\n",
              "      <td>0</td>\n",
              "      <td>0</td>\n",
              "      <td>0</td>\n",
              "      <td>0</td>\n",
              "      <td>0</td>\n",
              "      <td>0</td>\n",
              "      <td>0</td>\n",
              "      <td>0</td>\n",
              "      <td>0</td>\n",
              "      <td>0</td>\n",
              "      <td>0</td>\n",
              "      <td>0</td>\n",
              "      <td>0</td>\n",
              "      <td>0</td>\n",
              "      <td>0</td>\n",
              "      <td>0</td>\n",
              "      <td>0</td>\n",
              "      <td>0</td>\n",
              "      <td>0</td>\n",
              "      <td>0</td>\n",
              "      <td>0</td>\n",
              "      <td>0</td>\n",
              "      <td>0</td>\n",
              "      <td>0</td>\n",
              "      <td>0</td>\n",
              "      <td>0</td>\n",
              "      <td>0</td>\n",
              "      <td>0</td>\n",
              "      <td>0</td>\n",
              "      <td>0</td>\n",
              "      <td>0</td>\n",
              "      <td>...</td>\n",
              "      <td>0</td>\n",
              "      <td>0</td>\n",
              "      <td>0</td>\n",
              "      <td>0</td>\n",
              "      <td>0</td>\n",
              "      <td>0</td>\n",
              "      <td>0</td>\n",
              "      <td>0</td>\n",
              "      <td>0</td>\n",
              "      <td>0</td>\n",
              "      <td>0</td>\n",
              "      <td>0</td>\n",
              "      <td>0</td>\n",
              "      <td>0</td>\n",
              "      <td>0</td>\n",
              "      <td>0</td>\n",
              "      <td>0</td>\n",
              "      <td>0</td>\n",
              "      <td>0</td>\n",
              "      <td>0</td>\n",
              "      <td>0</td>\n",
              "      <td>0</td>\n",
              "      <td>0</td>\n",
              "      <td>0</td>\n",
              "      <td>0</td>\n",
              "      <td>0</td>\n",
              "      <td>0</td>\n",
              "      <td>0</td>\n",
              "      <td>0</td>\n",
              "      <td>0</td>\n",
              "      <td>0</td>\n",
              "      <td>0</td>\n",
              "      <td>0</td>\n",
              "      <td>0</td>\n",
              "      <td>0</td>\n",
              "      <td>0</td>\n",
              "      <td>0</td>\n",
              "      <td>0</td>\n",
              "      <td>0</td>\n",
              "      <td>0</td>\n",
              "    </tr>\n",
              "    <tr>\n",
              "      <th>1</th>\n",
              "      <td>0</td>\n",
              "      <td>0</td>\n",
              "      <td>0</td>\n",
              "      <td>0</td>\n",
              "      <td>0</td>\n",
              "      <td>0</td>\n",
              "      <td>0</td>\n",
              "      <td>0</td>\n",
              "      <td>0</td>\n",
              "      <td>0</td>\n",
              "      <td>0</td>\n",
              "      <td>0</td>\n",
              "      <td>0</td>\n",
              "      <td>0</td>\n",
              "      <td>0</td>\n",
              "      <td>0</td>\n",
              "      <td>0</td>\n",
              "      <td>0</td>\n",
              "      <td>0</td>\n",
              "      <td>0</td>\n",
              "      <td>0</td>\n",
              "      <td>0</td>\n",
              "      <td>0</td>\n",
              "      <td>0</td>\n",
              "      <td>3</td>\n",
              "      <td>0</td>\n",
              "      <td>0</td>\n",
              "      <td>0</td>\n",
              "      <td>0</td>\n",
              "      <td>0</td>\n",
              "      <td>0</td>\n",
              "      <td>0</td>\n",
              "      <td>0</td>\n",
              "      <td>0</td>\n",
              "      <td>0</td>\n",
              "      <td>0</td>\n",
              "      <td>0</td>\n",
              "      <td>0</td>\n",
              "      <td>0</td>\n",
              "      <td>0</td>\n",
              "      <td>...</td>\n",
              "      <td>0</td>\n",
              "      <td>0</td>\n",
              "      <td>0</td>\n",
              "      <td>0</td>\n",
              "      <td>0</td>\n",
              "      <td>0</td>\n",
              "      <td>0</td>\n",
              "      <td>0</td>\n",
              "      <td>0</td>\n",
              "      <td>0</td>\n",
              "      <td>0</td>\n",
              "      <td>0</td>\n",
              "      <td>0</td>\n",
              "      <td>0</td>\n",
              "      <td>0</td>\n",
              "      <td>0</td>\n",
              "      <td>0</td>\n",
              "      <td>0</td>\n",
              "      <td>0</td>\n",
              "      <td>0</td>\n",
              "      <td>0</td>\n",
              "      <td>0</td>\n",
              "      <td>0</td>\n",
              "      <td>0</td>\n",
              "      <td>0</td>\n",
              "      <td>0</td>\n",
              "      <td>0</td>\n",
              "      <td>0</td>\n",
              "      <td>0</td>\n",
              "      <td>0</td>\n",
              "      <td>0</td>\n",
              "      <td>0</td>\n",
              "      <td>0</td>\n",
              "      <td>0</td>\n",
              "      <td>0</td>\n",
              "      <td>0</td>\n",
              "      <td>0</td>\n",
              "      <td>0</td>\n",
              "      <td>0</td>\n",
              "      <td>0</td>\n",
              "    </tr>\n",
              "    <tr>\n",
              "      <th>2</th>\n",
              "      <td>0</td>\n",
              "      <td>0</td>\n",
              "      <td>0</td>\n",
              "      <td>0</td>\n",
              "      <td>0</td>\n",
              "      <td>0</td>\n",
              "      <td>0</td>\n",
              "      <td>0</td>\n",
              "      <td>0</td>\n",
              "      <td>0</td>\n",
              "      <td>0</td>\n",
              "      <td>0</td>\n",
              "      <td>0</td>\n",
              "      <td>0</td>\n",
              "      <td>0</td>\n",
              "      <td>0</td>\n",
              "      <td>1</td>\n",
              "      <td>0</td>\n",
              "      <td>0</td>\n",
              "      <td>0</td>\n",
              "      <td>0</td>\n",
              "      <td>0</td>\n",
              "      <td>0</td>\n",
              "      <td>0</td>\n",
              "      <td>3</td>\n",
              "      <td>0</td>\n",
              "      <td>0</td>\n",
              "      <td>0</td>\n",
              "      <td>0</td>\n",
              "      <td>0</td>\n",
              "      <td>0</td>\n",
              "      <td>0</td>\n",
              "      <td>0</td>\n",
              "      <td>0</td>\n",
              "      <td>0</td>\n",
              "      <td>0</td>\n",
              "      <td>0</td>\n",
              "      <td>0</td>\n",
              "      <td>0</td>\n",
              "      <td>0</td>\n",
              "      <td>...</td>\n",
              "      <td>0</td>\n",
              "      <td>0</td>\n",
              "      <td>0</td>\n",
              "      <td>0</td>\n",
              "      <td>0</td>\n",
              "      <td>0</td>\n",
              "      <td>0</td>\n",
              "      <td>0</td>\n",
              "      <td>0</td>\n",
              "      <td>0</td>\n",
              "      <td>0</td>\n",
              "      <td>0</td>\n",
              "      <td>0</td>\n",
              "      <td>0</td>\n",
              "      <td>0</td>\n",
              "      <td>0</td>\n",
              "      <td>0</td>\n",
              "      <td>0</td>\n",
              "      <td>0</td>\n",
              "      <td>0</td>\n",
              "      <td>0</td>\n",
              "      <td>0</td>\n",
              "      <td>0</td>\n",
              "      <td>0</td>\n",
              "      <td>0</td>\n",
              "      <td>0</td>\n",
              "      <td>0</td>\n",
              "      <td>0</td>\n",
              "      <td>0</td>\n",
              "      <td>0</td>\n",
              "      <td>0</td>\n",
              "      <td>0</td>\n",
              "      <td>0</td>\n",
              "      <td>0</td>\n",
              "      <td>0</td>\n",
              "      <td>0</td>\n",
              "      <td>0</td>\n",
              "      <td>0</td>\n",
              "      <td>0</td>\n",
              "      <td>0</td>\n",
              "    </tr>\n",
              "    <tr>\n",
              "      <th>3</th>\n",
              "      <td>0</td>\n",
              "      <td>0</td>\n",
              "      <td>0</td>\n",
              "      <td>0</td>\n",
              "      <td>0</td>\n",
              "      <td>0</td>\n",
              "      <td>0</td>\n",
              "      <td>0</td>\n",
              "      <td>0</td>\n",
              "      <td>0</td>\n",
              "      <td>0</td>\n",
              "      <td>0</td>\n",
              "      <td>0</td>\n",
              "      <td>0</td>\n",
              "      <td>0</td>\n",
              "      <td>0</td>\n",
              "      <td>0</td>\n",
              "      <td>0</td>\n",
              "      <td>0</td>\n",
              "      <td>0</td>\n",
              "      <td>0</td>\n",
              "      <td>0</td>\n",
              "      <td>0</td>\n",
              "      <td>0</td>\n",
              "      <td>1</td>\n",
              "      <td>0</td>\n",
              "      <td>0</td>\n",
              "      <td>0</td>\n",
              "      <td>0</td>\n",
              "      <td>0</td>\n",
              "      <td>0</td>\n",
              "      <td>0</td>\n",
              "      <td>0</td>\n",
              "      <td>0</td>\n",
              "      <td>0</td>\n",
              "      <td>0</td>\n",
              "      <td>0</td>\n",
              "      <td>0</td>\n",
              "      <td>0</td>\n",
              "      <td>0</td>\n",
              "      <td>...</td>\n",
              "      <td>0</td>\n",
              "      <td>0</td>\n",
              "      <td>0</td>\n",
              "      <td>0</td>\n",
              "      <td>0</td>\n",
              "      <td>0</td>\n",
              "      <td>0</td>\n",
              "      <td>0</td>\n",
              "      <td>0</td>\n",
              "      <td>0</td>\n",
              "      <td>0</td>\n",
              "      <td>0</td>\n",
              "      <td>0</td>\n",
              "      <td>0</td>\n",
              "      <td>0</td>\n",
              "      <td>0</td>\n",
              "      <td>0</td>\n",
              "      <td>0</td>\n",
              "      <td>0</td>\n",
              "      <td>0</td>\n",
              "      <td>0</td>\n",
              "      <td>0</td>\n",
              "      <td>0</td>\n",
              "      <td>0</td>\n",
              "      <td>0</td>\n",
              "      <td>0</td>\n",
              "      <td>0</td>\n",
              "      <td>0</td>\n",
              "      <td>0</td>\n",
              "      <td>0</td>\n",
              "      <td>0</td>\n",
              "      <td>0</td>\n",
              "      <td>0</td>\n",
              "      <td>0</td>\n",
              "      <td>0</td>\n",
              "      <td>0</td>\n",
              "      <td>0</td>\n",
              "      <td>0</td>\n",
              "      <td>0</td>\n",
              "      <td>0</td>\n",
              "    </tr>\n",
              "    <tr>\n",
              "      <th>4</th>\n",
              "      <td>0</td>\n",
              "      <td>0</td>\n",
              "      <td>0</td>\n",
              "      <td>0</td>\n",
              "      <td>0</td>\n",
              "      <td>0</td>\n",
              "      <td>0</td>\n",
              "      <td>0</td>\n",
              "      <td>0</td>\n",
              "      <td>0</td>\n",
              "      <td>0</td>\n",
              "      <td>0</td>\n",
              "      <td>0</td>\n",
              "      <td>0</td>\n",
              "      <td>0</td>\n",
              "      <td>0</td>\n",
              "      <td>0</td>\n",
              "      <td>0</td>\n",
              "      <td>0</td>\n",
              "      <td>0</td>\n",
              "      <td>0</td>\n",
              "      <td>0</td>\n",
              "      <td>0</td>\n",
              "      <td>0</td>\n",
              "      <td>2</td>\n",
              "      <td>0</td>\n",
              "      <td>0</td>\n",
              "      <td>0</td>\n",
              "      <td>0</td>\n",
              "      <td>0</td>\n",
              "      <td>0</td>\n",
              "      <td>0</td>\n",
              "      <td>0</td>\n",
              "      <td>0</td>\n",
              "      <td>0</td>\n",
              "      <td>0</td>\n",
              "      <td>0</td>\n",
              "      <td>0</td>\n",
              "      <td>0</td>\n",
              "      <td>0</td>\n",
              "      <td>...</td>\n",
              "      <td>0</td>\n",
              "      <td>0</td>\n",
              "      <td>0</td>\n",
              "      <td>0</td>\n",
              "      <td>0</td>\n",
              "      <td>0</td>\n",
              "      <td>0</td>\n",
              "      <td>0</td>\n",
              "      <td>0</td>\n",
              "      <td>0</td>\n",
              "      <td>0</td>\n",
              "      <td>0</td>\n",
              "      <td>0</td>\n",
              "      <td>0</td>\n",
              "      <td>0</td>\n",
              "      <td>0</td>\n",
              "      <td>0</td>\n",
              "      <td>0</td>\n",
              "      <td>0</td>\n",
              "      <td>0</td>\n",
              "      <td>0</td>\n",
              "      <td>0</td>\n",
              "      <td>0</td>\n",
              "      <td>0</td>\n",
              "      <td>0</td>\n",
              "      <td>0</td>\n",
              "      <td>0</td>\n",
              "      <td>0</td>\n",
              "      <td>0</td>\n",
              "      <td>0</td>\n",
              "      <td>0</td>\n",
              "      <td>0</td>\n",
              "      <td>0</td>\n",
              "      <td>0</td>\n",
              "      <td>0</td>\n",
              "      <td>0</td>\n",
              "      <td>0</td>\n",
              "      <td>0</td>\n",
              "      <td>0</td>\n",
              "      <td>0</td>\n",
              "    </tr>\n",
              "  </tbody>\n",
              "</table>\n",
              "<p>5 rows × 6864 columns</p>\n",
              "</div>"
            ],
            "text/plain": [
              "   !  %  &  '  ''  '3  'a  'cult  ...  zoo  zookeepers  zoology  –  ‘  ’  “  ”\n",
              "0  0  0  0  0   0   0   0      0  ...    0           0        0  0  0  0  0  0\n",
              "1  0  0  0  0   0   0   0      0  ...    0           0        0  0  0  0  0  0\n",
              "2  0  0  0  0   0   0   0      0  ...    0           0        0  0  0  0  0  0\n",
              "3  0  0  0  0   0   0   0      0  ...    0           0        0  0  0  0  0  0\n",
              "4  0  0  0  0   0   0   0      0  ...    0           0        0  0  0  0  0  0\n",
              "\n",
              "[5 rows x 6864 columns]"
            ]
          },
          "metadata": {},
          "execution_count": 110
        }
      ]
    },
    {
      "cell_type": "code",
      "metadata": {
        "id": "vElR5tbOUv2m",
        "colab": {
          "base_uri": "https://localhost:8080/",
          "height": 269
        },
        "outputId": "be3c8db9-dd92-4f37-e3ec-53ea2c5185ae"
      },
      "source": [
        "bag_bigrams_dataframe.head()"
      ],
      "execution_count": null,
      "outputs": [
        {
          "output_type": "execute_result",
          "data": {
            "text/html": [
              "<div>\n",
              "<style scoped>\n",
              "    .dataframe tbody tr th:only-of-type {\n",
              "        vertical-align: middle;\n",
              "    }\n",
              "\n",
              "    .dataframe tbody tr th {\n",
              "        vertical-align: top;\n",
              "    }\n",
              "\n",
              "    .dataframe thead th {\n",
              "        text-align: right;\n",
              "    }\n",
              "</style>\n",
              "<table border=\"1\" class=\"dataframe\">\n",
              "  <thead>\n",
              "    <tr style=\"text-align: right;\">\n",
              "      <th></th>\n",
              "      <th>% ,</th>\n",
              "      <th>% country</th>\n",
              "      <th>% excellent</th>\n",
              "      <th>% in</th>\n",
              "      <th>% of</th>\n",
              "      <th>&amp; study</th>\n",
              "      <th>' ,</th>\n",
              "      <th>' ability</th>\n",
              "      <th>' accommodation</th>\n",
              "      <th>' accomplishment</th>\n",
              "      <th>' achievement</th>\n",
              "      <th>' acquisition</th>\n",
              "      <th>' acted</th>\n",
              "      <th>' adventurousness</th>\n",
              "      <th>' aim</th>\n",
              "      <th>' art</th>\n",
              "      <th>' attention</th>\n",
              "      <th>' attitude</th>\n",
              "      <th>' basic</th>\n",
              "      <th>' behavior</th>\n",
              "      <th>' benefit</th>\n",
              "      <th>' confidence</th>\n",
              "      <th>' control</th>\n",
              "      <th>' creation</th>\n",
              "      <th>' criticism</th>\n",
              "      <th>' culture</th>\n",
              "      <th>' current</th>\n",
              "      <th>' deeper</th>\n",
              "      <th>' development</th>\n",
              "      <th>' economic</th>\n",
              "      <th>' education</th>\n",
              "      <th>' effectiveness</th>\n",
              "      <th>' enthusiasm</th>\n",
              "      <th>' environment</th>\n",
              "      <th>' expectation</th>\n",
              "      <th>' experience</th>\n",
              "      <th>' family</th>\n",
              "      <th>' friend</th>\n",
              "      <th>' future</th>\n",
              "      <th>' hardship</th>\n",
              "      <th>...</th>\n",
              "      <th>zoo ha</th>\n",
              "      <th>zoo have</th>\n",
              "      <th>zoo is</th>\n",
              "      <th>zoo just</th>\n",
              "      <th>zoo kept</th>\n",
              "      <th>zoo not</th>\n",
              "      <th>zoo offer</th>\n",
              "      <th>zoo play</th>\n",
              "      <th>zoo preserve</th>\n",
              "      <th>zoo provide</th>\n",
              "      <th>zoo serve</th>\n",
              "      <th>zoo should</th>\n",
              "      <th>zoo than</th>\n",
              "      <th>zoo they</th>\n",
              "      <th>zoo to</th>\n",
              "      <th>zoo towards</th>\n",
              "      <th>zoo where</th>\n",
              "      <th>zoo will</th>\n",
              "      <th>zoo would</th>\n",
              "      <th>zoo you</th>\n",
              "      <th>zookeepers ,</th>\n",
              "      <th>zookeepers have</th>\n",
              "      <th>zoology argue</th>\n",
              "      <th>– the</th>\n",
              "      <th>– these</th>\n",
              "      <th>– this</th>\n",
              "      <th>‘ ha</th>\n",
              "      <th>‘ trong</th>\n",
              "      <th>’ bay</th>\n",
              "      <th>’ civil</th>\n",
              "      <th>’ culture</th>\n",
              "      <th>’ drum</th>\n",
              "      <th>’ duty</th>\n",
              "      <th>’ health</th>\n",
              "      <th>’ m</th>\n",
              "      <th>’ s</th>\n",
              "      <th>’ solid</th>\n",
              "      <th>’ t</th>\n",
              "      <th>“ knowledge</th>\n",
              "      <th>” ha</th>\n",
              "    </tr>\n",
              "  </thead>\n",
              "  <tbody>\n",
              "    <tr>\n",
              "      <th>0</th>\n",
              "      <td>0</td>\n",
              "      <td>0</td>\n",
              "      <td>0</td>\n",
              "      <td>0</td>\n",
              "      <td>0</td>\n",
              "      <td>0</td>\n",
              "      <td>0</td>\n",
              "      <td>0</td>\n",
              "      <td>0</td>\n",
              "      <td>0</td>\n",
              "      <td>0</td>\n",
              "      <td>0</td>\n",
              "      <td>0</td>\n",
              "      <td>0</td>\n",
              "      <td>0</td>\n",
              "      <td>0</td>\n",
              "      <td>0</td>\n",
              "      <td>0</td>\n",
              "      <td>0</td>\n",
              "      <td>0</td>\n",
              "      <td>0</td>\n",
              "      <td>0</td>\n",
              "      <td>0</td>\n",
              "      <td>0</td>\n",
              "      <td>0</td>\n",
              "      <td>0</td>\n",
              "      <td>0</td>\n",
              "      <td>0</td>\n",
              "      <td>0</td>\n",
              "      <td>0</td>\n",
              "      <td>0</td>\n",
              "      <td>0</td>\n",
              "      <td>0</td>\n",
              "      <td>0</td>\n",
              "      <td>0</td>\n",
              "      <td>0</td>\n",
              "      <td>0</td>\n",
              "      <td>0</td>\n",
              "      <td>0</td>\n",
              "      <td>0</td>\n",
              "      <td>...</td>\n",
              "      <td>0</td>\n",
              "      <td>0</td>\n",
              "      <td>0</td>\n",
              "      <td>0</td>\n",
              "      <td>0</td>\n",
              "      <td>0</td>\n",
              "      <td>0</td>\n",
              "      <td>0</td>\n",
              "      <td>0</td>\n",
              "      <td>0</td>\n",
              "      <td>0</td>\n",
              "      <td>0</td>\n",
              "      <td>0</td>\n",
              "      <td>0</td>\n",
              "      <td>0</td>\n",
              "      <td>0</td>\n",
              "      <td>0</td>\n",
              "      <td>0</td>\n",
              "      <td>0</td>\n",
              "      <td>0</td>\n",
              "      <td>0</td>\n",
              "      <td>0</td>\n",
              "      <td>0</td>\n",
              "      <td>0</td>\n",
              "      <td>0</td>\n",
              "      <td>0</td>\n",
              "      <td>0</td>\n",
              "      <td>0</td>\n",
              "      <td>0</td>\n",
              "      <td>0</td>\n",
              "      <td>0</td>\n",
              "      <td>0</td>\n",
              "      <td>0</td>\n",
              "      <td>0</td>\n",
              "      <td>0</td>\n",
              "      <td>0</td>\n",
              "      <td>0</td>\n",
              "      <td>0</td>\n",
              "      <td>0</td>\n",
              "      <td>0</td>\n",
              "    </tr>\n",
              "    <tr>\n",
              "      <th>1</th>\n",
              "      <td>0</td>\n",
              "      <td>0</td>\n",
              "      <td>0</td>\n",
              "      <td>0</td>\n",
              "      <td>0</td>\n",
              "      <td>0</td>\n",
              "      <td>0</td>\n",
              "      <td>0</td>\n",
              "      <td>0</td>\n",
              "      <td>0</td>\n",
              "      <td>0</td>\n",
              "      <td>0</td>\n",
              "      <td>0</td>\n",
              "      <td>0</td>\n",
              "      <td>0</td>\n",
              "      <td>0</td>\n",
              "      <td>0</td>\n",
              "      <td>0</td>\n",
              "      <td>0</td>\n",
              "      <td>0</td>\n",
              "      <td>0</td>\n",
              "      <td>0</td>\n",
              "      <td>0</td>\n",
              "      <td>0</td>\n",
              "      <td>0</td>\n",
              "      <td>0</td>\n",
              "      <td>0</td>\n",
              "      <td>0</td>\n",
              "      <td>0</td>\n",
              "      <td>0</td>\n",
              "      <td>0</td>\n",
              "      <td>0</td>\n",
              "      <td>0</td>\n",
              "      <td>0</td>\n",
              "      <td>0</td>\n",
              "      <td>0</td>\n",
              "      <td>0</td>\n",
              "      <td>0</td>\n",
              "      <td>0</td>\n",
              "      <td>0</td>\n",
              "      <td>...</td>\n",
              "      <td>0</td>\n",
              "      <td>0</td>\n",
              "      <td>0</td>\n",
              "      <td>0</td>\n",
              "      <td>0</td>\n",
              "      <td>0</td>\n",
              "      <td>0</td>\n",
              "      <td>0</td>\n",
              "      <td>0</td>\n",
              "      <td>0</td>\n",
              "      <td>0</td>\n",
              "      <td>0</td>\n",
              "      <td>0</td>\n",
              "      <td>0</td>\n",
              "      <td>0</td>\n",
              "      <td>0</td>\n",
              "      <td>0</td>\n",
              "      <td>0</td>\n",
              "      <td>0</td>\n",
              "      <td>0</td>\n",
              "      <td>0</td>\n",
              "      <td>0</td>\n",
              "      <td>0</td>\n",
              "      <td>0</td>\n",
              "      <td>0</td>\n",
              "      <td>0</td>\n",
              "      <td>0</td>\n",
              "      <td>0</td>\n",
              "      <td>0</td>\n",
              "      <td>0</td>\n",
              "      <td>0</td>\n",
              "      <td>0</td>\n",
              "      <td>0</td>\n",
              "      <td>0</td>\n",
              "      <td>0</td>\n",
              "      <td>0</td>\n",
              "      <td>0</td>\n",
              "      <td>0</td>\n",
              "      <td>0</td>\n",
              "      <td>0</td>\n",
              "    </tr>\n",
              "    <tr>\n",
              "      <th>2</th>\n",
              "      <td>0</td>\n",
              "      <td>0</td>\n",
              "      <td>0</td>\n",
              "      <td>0</td>\n",
              "      <td>0</td>\n",
              "      <td>0</td>\n",
              "      <td>0</td>\n",
              "      <td>0</td>\n",
              "      <td>0</td>\n",
              "      <td>0</td>\n",
              "      <td>0</td>\n",
              "      <td>0</td>\n",
              "      <td>0</td>\n",
              "      <td>0</td>\n",
              "      <td>0</td>\n",
              "      <td>0</td>\n",
              "      <td>0</td>\n",
              "      <td>0</td>\n",
              "      <td>0</td>\n",
              "      <td>0</td>\n",
              "      <td>0</td>\n",
              "      <td>0</td>\n",
              "      <td>0</td>\n",
              "      <td>0</td>\n",
              "      <td>0</td>\n",
              "      <td>0</td>\n",
              "      <td>0</td>\n",
              "      <td>0</td>\n",
              "      <td>0</td>\n",
              "      <td>0</td>\n",
              "      <td>0</td>\n",
              "      <td>0</td>\n",
              "      <td>0</td>\n",
              "      <td>0</td>\n",
              "      <td>0</td>\n",
              "      <td>0</td>\n",
              "      <td>0</td>\n",
              "      <td>0</td>\n",
              "      <td>0</td>\n",
              "      <td>0</td>\n",
              "      <td>...</td>\n",
              "      <td>0</td>\n",
              "      <td>0</td>\n",
              "      <td>0</td>\n",
              "      <td>0</td>\n",
              "      <td>0</td>\n",
              "      <td>0</td>\n",
              "      <td>0</td>\n",
              "      <td>0</td>\n",
              "      <td>0</td>\n",
              "      <td>0</td>\n",
              "      <td>0</td>\n",
              "      <td>0</td>\n",
              "      <td>0</td>\n",
              "      <td>0</td>\n",
              "      <td>0</td>\n",
              "      <td>0</td>\n",
              "      <td>0</td>\n",
              "      <td>0</td>\n",
              "      <td>0</td>\n",
              "      <td>0</td>\n",
              "      <td>0</td>\n",
              "      <td>0</td>\n",
              "      <td>0</td>\n",
              "      <td>0</td>\n",
              "      <td>0</td>\n",
              "      <td>0</td>\n",
              "      <td>0</td>\n",
              "      <td>0</td>\n",
              "      <td>0</td>\n",
              "      <td>0</td>\n",
              "      <td>0</td>\n",
              "      <td>0</td>\n",
              "      <td>0</td>\n",
              "      <td>0</td>\n",
              "      <td>0</td>\n",
              "      <td>0</td>\n",
              "      <td>0</td>\n",
              "      <td>0</td>\n",
              "      <td>0</td>\n",
              "      <td>0</td>\n",
              "    </tr>\n",
              "    <tr>\n",
              "      <th>3</th>\n",
              "      <td>0</td>\n",
              "      <td>0</td>\n",
              "      <td>0</td>\n",
              "      <td>0</td>\n",
              "      <td>0</td>\n",
              "      <td>0</td>\n",
              "      <td>0</td>\n",
              "      <td>0</td>\n",
              "      <td>0</td>\n",
              "      <td>0</td>\n",
              "      <td>0</td>\n",
              "      <td>0</td>\n",
              "      <td>0</td>\n",
              "      <td>0</td>\n",
              "      <td>0</td>\n",
              "      <td>0</td>\n",
              "      <td>0</td>\n",
              "      <td>0</td>\n",
              "      <td>0</td>\n",
              "      <td>0</td>\n",
              "      <td>0</td>\n",
              "      <td>0</td>\n",
              "      <td>0</td>\n",
              "      <td>0</td>\n",
              "      <td>0</td>\n",
              "      <td>0</td>\n",
              "      <td>0</td>\n",
              "      <td>0</td>\n",
              "      <td>0</td>\n",
              "      <td>0</td>\n",
              "      <td>0</td>\n",
              "      <td>0</td>\n",
              "      <td>0</td>\n",
              "      <td>0</td>\n",
              "      <td>0</td>\n",
              "      <td>0</td>\n",
              "      <td>0</td>\n",
              "      <td>0</td>\n",
              "      <td>0</td>\n",
              "      <td>0</td>\n",
              "      <td>...</td>\n",
              "      <td>0</td>\n",
              "      <td>0</td>\n",
              "      <td>0</td>\n",
              "      <td>0</td>\n",
              "      <td>0</td>\n",
              "      <td>0</td>\n",
              "      <td>0</td>\n",
              "      <td>0</td>\n",
              "      <td>0</td>\n",
              "      <td>0</td>\n",
              "      <td>0</td>\n",
              "      <td>0</td>\n",
              "      <td>0</td>\n",
              "      <td>0</td>\n",
              "      <td>0</td>\n",
              "      <td>0</td>\n",
              "      <td>0</td>\n",
              "      <td>0</td>\n",
              "      <td>0</td>\n",
              "      <td>0</td>\n",
              "      <td>0</td>\n",
              "      <td>0</td>\n",
              "      <td>0</td>\n",
              "      <td>0</td>\n",
              "      <td>0</td>\n",
              "      <td>0</td>\n",
              "      <td>0</td>\n",
              "      <td>0</td>\n",
              "      <td>0</td>\n",
              "      <td>0</td>\n",
              "      <td>0</td>\n",
              "      <td>0</td>\n",
              "      <td>0</td>\n",
              "      <td>0</td>\n",
              "      <td>0</td>\n",
              "      <td>0</td>\n",
              "      <td>0</td>\n",
              "      <td>0</td>\n",
              "      <td>0</td>\n",
              "      <td>0</td>\n",
              "    </tr>\n",
              "    <tr>\n",
              "      <th>4</th>\n",
              "      <td>0</td>\n",
              "      <td>0</td>\n",
              "      <td>0</td>\n",
              "      <td>0</td>\n",
              "      <td>0</td>\n",
              "      <td>0</td>\n",
              "      <td>0</td>\n",
              "      <td>0</td>\n",
              "      <td>0</td>\n",
              "      <td>0</td>\n",
              "      <td>0</td>\n",
              "      <td>0</td>\n",
              "      <td>0</td>\n",
              "      <td>0</td>\n",
              "      <td>0</td>\n",
              "      <td>0</td>\n",
              "      <td>0</td>\n",
              "      <td>0</td>\n",
              "      <td>0</td>\n",
              "      <td>0</td>\n",
              "      <td>0</td>\n",
              "      <td>0</td>\n",
              "      <td>0</td>\n",
              "      <td>0</td>\n",
              "      <td>0</td>\n",
              "      <td>0</td>\n",
              "      <td>0</td>\n",
              "      <td>0</td>\n",
              "      <td>0</td>\n",
              "      <td>0</td>\n",
              "      <td>0</td>\n",
              "      <td>0</td>\n",
              "      <td>0</td>\n",
              "      <td>0</td>\n",
              "      <td>0</td>\n",
              "      <td>0</td>\n",
              "      <td>0</td>\n",
              "      <td>0</td>\n",
              "      <td>0</td>\n",
              "      <td>0</td>\n",
              "      <td>...</td>\n",
              "      <td>0</td>\n",
              "      <td>0</td>\n",
              "      <td>0</td>\n",
              "      <td>0</td>\n",
              "      <td>0</td>\n",
              "      <td>0</td>\n",
              "      <td>0</td>\n",
              "      <td>0</td>\n",
              "      <td>0</td>\n",
              "      <td>0</td>\n",
              "      <td>0</td>\n",
              "      <td>0</td>\n",
              "      <td>0</td>\n",
              "      <td>0</td>\n",
              "      <td>0</td>\n",
              "      <td>0</td>\n",
              "      <td>0</td>\n",
              "      <td>0</td>\n",
              "      <td>0</td>\n",
              "      <td>0</td>\n",
              "      <td>0</td>\n",
              "      <td>0</td>\n",
              "      <td>0</td>\n",
              "      <td>0</td>\n",
              "      <td>0</td>\n",
              "      <td>0</td>\n",
              "      <td>0</td>\n",
              "      <td>0</td>\n",
              "      <td>0</td>\n",
              "      <td>0</td>\n",
              "      <td>0</td>\n",
              "      <td>0</td>\n",
              "      <td>0</td>\n",
              "      <td>0</td>\n",
              "      <td>0</td>\n",
              "      <td>0</td>\n",
              "      <td>0</td>\n",
              "      <td>0</td>\n",
              "      <td>0</td>\n",
              "      <td>0</td>\n",
              "    </tr>\n",
              "  </tbody>\n",
              "</table>\n",
              "<p>5 rows × 51773 columns</p>\n",
              "</div>"
            ],
            "text/plain": [
              "   % ,  % country  % excellent  % in  ...  ’ solid  ’ t  “ knowledge  ” ha\n",
              "0    0          0            0     0  ...        0    0            0     0\n",
              "1    0          0            0     0  ...        0    0            0     0\n",
              "2    0          0            0     0  ...        0    0            0     0\n",
              "3    0          0            0     0  ...        0    0            0     0\n",
              "4    0          0            0     0  ...        0    0            0     0\n",
              "\n",
              "[5 rows x 51773 columns]"
            ]
          },
          "metadata": {},
          "execution_count": 111
        }
      ]
    },
    {
      "cell_type": "code",
      "metadata": {
        "id": "81xTFy7kUz8c",
        "colab": {
          "base_uri": "https://localhost:8080/"
        },
        "outputId": "36241055-9719-494e-d7ab-310b91f5e77d"
      },
      "source": [
        "# Select the 50 words/bigram most correlated to the output (correlation computed considering \n",
        "# only the train test).\n",
        "\n",
        "train_correlation_scores_words=get_correlation_scores(bag_words_dataframe.iloc[sentence_id_train_set],train_sentences_argumentative_map)\n",
        "train_correlation_scores_bigram=get_correlation_scores(bag_bigrams_dataframe.iloc[sentence_id_train_set],train_sentences_argumentative_map)"
      ],
      "execution_count": null,
      "outputs": [
        {
          "output_type": "stream",
          "name": "stderr",
          "text": [
            "/usr/local/lib/python3.7/dist-packages/numpy/lib/function_base.py:2559: RuntimeWarning: invalid value encountered in true_divide\n",
            "  c /= stddev[:, None]\n",
            "/usr/local/lib/python3.7/dist-packages/numpy/lib/function_base.py:2560: RuntimeWarning: invalid value encountered in true_divide\n",
            "  c /= stddev[None, :]\n"
          ]
        }
      ]
    },
    {
      "cell_type": "code",
      "metadata": {
        "id": "fqfOtNjiFIJ0"
      },
      "source": [
        "train_correlation_scores_words=[correlation_score for correlation_score in train_correlation_scores_words if not math.isnan(correlation_score[0])]"
      ],
      "execution_count": null,
      "outputs": []
    },
    {
      "cell_type": "code",
      "metadata": {
        "id": "f70jrM9yU3VE",
        "colab": {
          "base_uri": "https://localhost:8080/"
        },
        "outputId": "0ea47d30-74ad-4676-b6c7-7ec43b227670"
      },
      "source": [
        "train_correlation_scores_words[0:10]"
      ],
      "execution_count": null,
      "outputs": [
        {
          "output_type": "execute_result",
          "data": {
            "text/plain": [
              "[(0.04981386413597842, 'brought'),\n",
              " (0.03685861153575633, \"''\"),\n",
              " (0.02987580858496975, \"'\"),\n",
              " (0.02842078297748643, \"'globalization\"),\n",
              " (0.017131433627066588, '!'),\n",
              " (0.0061826601685783305, '&'),\n",
              " (0.0061826601685783305, \"'3\"),\n",
              " (0.19619744369371736, ','),\n",
              " (0.055952205717673544, '20'),\n",
              " (0.040196588487909794, '19th')]"
            ]
          },
          "metadata": {},
          "execution_count": 114
        }
      ]
    },
    {
      "cell_type": "code",
      "metadata": {
        "id": "3vCydvblPLVA"
      },
      "source": [
        "most_correlated_word=[word[1] for word in train_correlation_scores_words[0:50]]"
      ],
      "execution_count": null,
      "outputs": []
    },
    {
      "cell_type": "code",
      "metadata": {
        "id": "dKoAB6lBPBkU"
      },
      "source": [
        "# Save the most correlated column of the BOW into a text file.\n",
        "\n",
        "f = open(\"50_BOW.txt\", \"a\")\n",
        "for word in most_correlated_word:\n",
        "  f.write(\"{}|ù\".format(word))\n",
        "f.close()"
      ],
      "execution_count": null,
      "outputs": []
    },
    {
      "cell_type": "code",
      "metadata": {
        "id": "wxwEzXHUPeWd"
      },
      "source": [
        "# Export the bag of bigrams of the POS tag for the 50 words most related to \n",
        "# the argumentative label.\n",
        "\n",
        "bag_words_dataframe=bag_words_dataframe[most_correlated_word]\n",
        "\n",
        "bag_words_dataframe.to_csv('sentence_BOW.csv',index=False)"
      ],
      "execution_count": null,
      "outputs": []
    },
    {
      "cell_type": "code",
      "metadata": {
        "id": "Q3ZgE_qSGQ6W"
      },
      "source": [
        "train_correlation_scores_bigram=[correlation_score for correlation_score in train_correlation_scores_bigram if not math.isnan(correlation_score[0])]"
      ],
      "execution_count": null,
      "outputs": []
    },
    {
      "cell_type": "code",
      "metadata": {
        "id": "oN51Mhe4U53m",
        "colab": {
          "base_uri": "https://localhost:8080/"
        },
        "outputId": "1f0f5963-f00b-45c1-ac49-428085225e4b"
      },
      "source": [
        "train_correlation_scores_bigram[0:10]"
      ],
      "execution_count": null,
      "outputs": [
        {
          "output_type": "execute_result",
          "data": {
            "text/plain": [
              "[(0.040196588487909794, 'about cheap'),\n",
              " (0.040196588487909794, 'about learning'),\n",
              " (0.040196588487909794, 'and analyzed'),\n",
              " (0.040196588487909794, 'last few'),\n",
              " (0.03955027018156319, 'about whether'),\n",
              " (0.03261200517894197, 'learn from'),\n",
              " (0.02842078297748643, '% country'),\n",
              " (0.02842078297748643, '% in'),\n",
              " (0.02842078297748643, 'about basic'),\n",
              " (0.02842078297748643, 'about by')]"
            ]
          },
          "metadata": {},
          "execution_count": 119
        }
      ]
    },
    {
      "cell_type": "code",
      "metadata": {
        "id": "ctpaRA5kP-lx"
      },
      "source": [
        "most_correlated_bigram=[bigram[1] for bigram in train_correlation_scores_bigram[0:50]]"
      ],
      "execution_count": null,
      "outputs": []
    },
    {
      "cell_type": "code",
      "metadata": {
        "id": "yvvNjW28QMTg"
      },
      "source": [
        "# Save the bigrams more correlated to the argumentative sections into a text file.\n",
        "\n",
        "f = open(\"50_Bigram.txt\", \"a\")\n",
        "for bigram in most_correlated_bigram:\n",
        "  f.write(\"{}|ù\".format(bigram))\n",
        "f.close()"
      ],
      "execution_count": null,
      "outputs": []
    },
    {
      "cell_type": "code",
      "metadata": {
        "id": "Z8ZnyOfnQa1i"
      },
      "source": [
        "# Export the bag of bigrams of the POS tag for the 50 bigrams most related to \n",
        "# the argumentative label.\n",
        "\n",
        "bag_bigrams_dataframe=bag_bigrams_dataframe[most_correlated_bigram]\n",
        "\n",
        "bag_bigrams_dataframe.to_csv('sentence_Bigram.csv',index=False)"
      ],
      "execution_count": null,
      "outputs": []
    },
    {
      "cell_type": "code",
      "metadata": {
        "id": "llRxTx1d8UnZ"
      },
      "source": [
        "# Compute the correlation on all the data (training and test set).\n",
        "correlation_scores_words=get_correlation_scores(bag_words_dataframe[most_correlated_word],sentences_argumentative_map)\n",
        "correlation_scores_bigram=get_correlation_scores(bag_bigrams_dataframe[most_correlated_bigram],sentences_argumentative_map)"
      ],
      "execution_count": null,
      "outputs": []
    },
    {
      "cell_type": "code",
      "metadata": {
        "id": "-xPFfwkZ8uMr",
        "colab": {
          "base_uri": "https://localhost:8080/"
        },
        "outputId": "a779d5a4-4331-460a-ea6f-4d40b13329a2"
      },
      "source": [
        "correlation_scores_words"
      ],
      "execution_count": null,
      "outputs": [
        {
          "output_type": "execute_result",
          "data": {
            "text/plain": [
              "[(0.19074365969434526, ','),\n",
              " (0.05061723184331172, '20'),\n",
              " (0.04707391051935018, 'brought'),\n",
              " (0.036445378957293995, '19th'),\n",
              " (0.03618622131892408, \"''\"),\n",
              " (0.03448102293097605, \"'\"),\n",
              " (0.0294292068016605, '21st'),\n",
              " (0.025768861902785635, \"'globalization\"),\n",
              " (0.025768861902785635, '18'),\n",
              " (0.025768861902785635, '2014'),\n",
              " (0.024772847699780172, '('),\n",
              " (0.024772847699780172, ')'),\n",
              " (0.012884043521176497, \"'m\"),\n",
              " (0.011522983177707658, \"'ll\"),\n",
              " (0.011522983177707658, '10'),\n",
              " (0.011522982796771634, \"'ve\"),\n",
              " (0.011522982796771634, '1'),\n",
              " (0.009978455285733639, '3'),\n",
              " (0.009978455285733639, '.'),\n",
              " (0.009978455285733639, '2'),\n",
              " (0.009606620527384034, '-'),\n",
              " (0.00859748682698314, '!'),\n",
              " (0.008227564675076885, '16'),\n",
              " (0.008227564675076885, '20th'),\n",
              " (0.008146769837739041, \"'a\"),\n",
              " (0.008146769837739041, '--'),\n",
              " (0.008146769837739041, '100'),\n",
              " (0.008146769837739041, '2003'),\n",
              " (0.008146769837739041, '2008'),\n",
              " (0.008146769837739041, '1st'),\n",
              " (0.0057602086439675175, '&'),\n",
              " (0.0057602086439675175, \"'3\"),\n",
              " (0.0057602086439675175, \"'cult\"),\n",
              " (0.0057602086439675175, \"'dug\"),\n",
              " (0.0057602086439675175, \"'halo\"),\n",
              " (0.0057602086439675175, \"'low\"),\n",
              " (0.0057602086439675175, \"'re\"),\n",
              " (0.0057602086439675175, \"'social\"),\n",
              " (0.0057602086439675175, '...'),\n",
              " (0.0057602086439675175, '0'),\n",
              " (0.0057602086439675175, '10000'),\n",
              " (0.0057602086439675175, '14'),\n",
              " (0.0057602086439675175, '170'),\n",
              " (0.0057602086439675175, '17th'),\n",
              " (0.0057602086439675175, '19'),\n",
              " (0.0057602086439675175, '1960'),\n",
              " (0.0057602086439675175, '1980'),\n",
              " (0.0057602086439675175, '2010'),\n",
              " (0.0057602086439675175, '2050'),\n",
              " (0.0057602086439675175, '24')]"
            ]
          },
          "metadata": {},
          "execution_count": 124
        }
      ]
    },
    {
      "cell_type": "code",
      "metadata": {
        "colab": {
          "base_uri": "https://localhost:8080/"
        },
        "id": "139AdTZp8kt4",
        "outputId": "ffac0ba7-7c32-403d-9535-198f575e2931"
      },
      "source": [
        "correlation_scores_bigram"
      ],
      "execution_count": null,
      "outputs": [
        {
          "output_type": "execute_result",
          "data": {
            "text/plain": [
              "[(0.036445378957293995, 'about cheap'),\n",
              " (0.036445378957293995, 'about learning'),\n",
              " (0.036445378957293995, 'and analyzed'),\n",
              " (0.036445378957293995, 'last few'),\n",
              " (0.036445378957293995, 'language instruction'),\n",
              " (0.03578115613061537, 'about whether'),\n",
              " (0.028267437501187494, 'last but'),\n",
              " (0.025768861902785635, '% country'),\n",
              " (0.025768861902785635, '% in'),\n",
              " (0.025768861902785635, 'about basic'),\n",
              " (0.025768861902785635, 'knowledge like'),\n",
              " (0.025768861902785635, 'learn both'),\n",
              " (0.025768861902785635, 'learn cause'),\n",
              " (0.025768861902785635, 'known about'),\n",
              " (0.025768861902785635, 'labor should'),\n",
              " (0.025768861902785635, 'lag in'),\n",
              " (0.025768861902785635, 'langauge add'),\n",
              " (0.025768861902785635, 'language along'),\n",
              " (0.025768861902785635, 'lanka a'),\n",
              " (0.025768861902785635, 'last half'),\n",
              " (0.025768861902785635, 'last hundred'),\n",
              " (0.025768861902785635, 'last minute'),\n",
              " (0.025768861902785635, 'last option'),\n",
              " (0.025768861902785635, 'last people'),\n",
              " (0.025768861902785635, 'last thing'),\n",
              " (0.025768861902785635, 'late 19th'),\n",
              " (0.025768861902785635, 'late eighteenth'),\n",
              " (0.025768861902785635, 'later investment'),\n",
              " (0.025768861902785635, 'later year'),\n",
              " (0.025768861902785635, 'latter offer'),\n",
              " (0.020787249084328975, 'knowledge to'),\n",
              " (0.02051966551399948, 'learn from'),\n",
              " (0.020013109694507696, 'land for'),\n",
              " (0.020013109694507696, 'last decade'),\n",
              " (0.014256911972373961, 'knowledge is'),\n",
              " (0.014149304559777474, 'about by'),\n",
              " (0.014149304559777474, 'last century'),\n",
              " (0.014114810757177595, 'knowledge on'),\n",
              " (0.009978455285733639, 'labor market'),\n",
              " (0.009605209679162226, 'knowledge of'),\n",
              " (0.009605209679162226, 'knowledge in'),\n",
              " (0.008146769837739041, 'knowledge they'),\n",
              " (0.008146769837739041, 'lack equivalent'),\n",
              " (0.0057602086439675175, 'labor working'),\n",
              " (0.0057602086439675175, 'laboratory and'),\n",
              " (0.0057602086439675175, 'laboratory of'),\n",
              " (0.0057602086439675175, 'lack communicating'),\n",
              " (0.0057602086439675175, 'lack the'),\n",
              " (0.0057602086439675175, 'labelled particular'),\n",
              " (0.004245063258400018, 'knowledge that')]"
            ]
          },
          "metadata": {},
          "execution_count": 125
        }
      ]
    },
    {
      "cell_type": "markdown",
      "metadata": {
        "id": "L5AcXMWGWoSO"
      },
      "source": [
        "# **Imported n-grams BOW**"
      ]
    },
    {
      "cell_type": "code",
      "metadata": {
        "colab": {
          "base_uri": "https://localhost:8080/"
        },
        "id": "R2q8l4UwWtqx",
        "outputId": "06ce0d16-dce8-4870-bf84-1a2a3b055b13"
      },
      "source": [
        "# Compute the correlation scores of the BOW obtained from the n-grams retrieved\n",
        "# from the appendix of the guidelines of the Stab and Gurevych dataset.\n",
        "# In the appendix this n-grams where indicated has representative of the different \n",
        "# types of argumentative sections.\n",
        "\n",
        "imported_ngrams_BOW=pd.read_csv('essay_BOW_appendix_words.csv')\n",
        "\n",
        "correlation_scores_imported_ngrams=get_correlation_scores(imported_ngrams_BOW,sentences_argumentative_map)"
      ],
      "execution_count": null,
      "outputs": [
        {
          "output_type": "stream",
          "name": "stderr",
          "text": [
            "/usr/local/lib/python3.7/dist-packages/numpy/lib/function_base.py:2559: RuntimeWarning: invalid value encountered in true_divide\n",
            "  c /= stddev[:, None]\n",
            "/usr/local/lib/python3.7/dist-packages/numpy/lib/function_base.py:2560: RuntimeWarning: invalid value encountered in true_divide\n",
            "  c /= stddev[None, :]\n"
          ]
        }
      ]
    },
    {
      "cell_type": "code",
      "metadata": {
        "colab": {
          "base_uri": "https://localhost:8080/"
        },
        "id": "tkWmUAjzc9ul",
        "outputId": "bf070209-959f-4128-bb26-3e70b9c6ae6b"
      },
      "source": [
        "correlation_scores_imported_ngrams"
      ],
      "execution_count": null,
      "outputs": [
        {
          "output_type": "execute_result",
          "data": {
            "text/plain": [
              "[(nan, 'demonstrates that'),\n",
              " (nan, 'implies'),\n",
              " (nan, 'indicates that'),\n",
              " (nan, 'it follows that'),\n",
              " (nan, 'it should be clear that'),\n",
              " (nan, 'it should be clear'),\n",
              " (nan, 'assuming that'),\n",
              " (nan, 'as'),\n",
              " (nan, 'derived from'),\n",
              " (0.0667461451788666, 'for example'),\n",
              " (0.06400031998368444, 'for'),\n",
              " (0.05141030823911519, 'for instance'),\n",
              " (nan, 'given that'),\n",
              " (0.03947282443715403, 'in addition'),\n",
              " (0.025768861902785635, 'in view of'),\n",
              " (nan, 'indicated by'),\n",
              " (0.05846473923084166, 'moreover'),\n",
              " (0.05133863305594223, 'because'),\n",
              " (0.04809120674405203, 'furthermore'),\n",
              " (0.045344674006341686, 'in conclusion'),\n",
              " (0.0425264486389315, 'so'),\n",
              " (0.04224057553210562, 'thus'),\n",
              " (0.04028286968217546, 'therefore'),\n",
              " (0.027115922820989367, 'consequently'),\n",
              " (0.025781205409941766, 'hence'),\n",
              " (0.025768861902785635, 'suggests that'),\n",
              " (0.025768861902785635, 'is supported by'),\n",
              " (0.02151680175493316, 'besides'),\n",
              " (0.018227558335663332, 'accordingly'),\n",
              " (0.018135517690286408, 'to sum up'),\n",
              " (0.017290895209844677, 'in that'),\n",
              " (0.01715821534623183, 'whereas'),\n",
              " (0.016300801150848067, 'conclude that'),\n",
              " (0.010861159916758897, 'in short'),\n",
              " (0.008122023915160355, 'since'),\n",
              " (0.0057602086439675175, 'deduced'),\n",
              " (0.0057602086439675175, 'for the reason that'),\n",
              " (0.0057602086439675175, 'in light of'),\n",
              " (0.0052940809286275885, 'clearly'),\n",
              " (0.0014806564891119594, 'due to')]"
            ]
          },
          "metadata": {},
          "execution_count": 127
        }
      ]
    },
    {
      "cell_type": "markdown",
      "metadata": {
        "id": "uQtIdMClVIG2"
      },
      "source": [
        "# **Subjectivity**"
      ]
    },
    {
      "cell_type": "code",
      "metadata": {
        "id": "SR_xwORaV0M3"
      },
      "source": [
        "# Read the file\n",
        "scores_text=open(\"subj_obj.txt\").read()"
      ],
      "execution_count": null,
      "outputs": []
    },
    {
      "cell_type": "code",
      "metadata": {
        "id": "eYKy5dBCWfWV"
      },
      "source": [
        "# Scores of the sentences are separated by the character \"-\" and the last of \n",
        "# these characters is not followed by any score.\n",
        "subjectivity_scores=scores_text.split('--')\n",
        "\n",
        "subjectivity_scores=subjectivity_scores[:-1]"
      ],
      "execution_count": null,
      "outputs": []
    },
    {
      "cell_type": "code",
      "metadata": {
        "id": "GV82dVnlXA3Q",
        "colab": {
          "base_uri": "https://localhost:8080/"
        },
        "outputId": "100debba-d6cb-4f4b-89d8-a7498faabd4c"
      },
      "source": [
        "subjectivity_scores[:10]"
      ],
      "execution_count": null,
      "outputs": [
        {
          "output_type": "execute_result",
          "data": {
            "text/plain": [
              "['0.99925',\n",
              " '0.00466',\n",
              " '0.59203',\n",
              " '0.02907',\n",
              " '0.00154',\n",
              " '0.3258',\n",
              " '0.00074',\n",
              " '0.80575',\n",
              " '0.21887',\n",
              " '0.99908']"
            ]
          },
          "metadata": {},
          "execution_count": 130
        }
      ]
    },
    {
      "cell_type": "code",
      "metadata": {
        "id": "23S5h4mFaQnn",
        "colab": {
          "base_uri": "https://localhost:8080/"
        },
        "outputId": "4931d0bf-08e9-4a46-b511-5f61a2af5811"
      },
      "source": [
        "len(subjectivity_scores)"
      ],
      "execution_count": null,
      "outputs": [
        {
          "output_type": "execute_result",
          "data": {
            "text/plain": [
              "6738"
            ]
          },
          "metadata": {},
          "execution_count": 131
        }
      ]
    },
    {
      "cell_type": "markdown",
      "metadata": {
        "id": "CmgD9P4eXI0m"
      },
      "source": [
        "**correlation score**"
      ]
    },
    {
      "cell_type": "code",
      "metadata": {
        "id": "ZmIqATeuXKwA"
      },
      "source": [
        "# Create dataframe of number of named entity per sentence with the labels \n",
        "# (presence of an argumentative section in a sentence) using the Spearman test.\n",
        "\n",
        "subjectivity_dataframe=pd.DataFrame(dict(zip([\"subjectivity score\"],[subjectivity_scores])))\n",
        "\n",
        "correlation_scores_subjectivity=get_correlation_scores(subjectivity_dataframe,sentences_argumentative_map)"
      ],
      "execution_count": null,
      "outputs": []
    },
    {
      "cell_type": "code",
      "metadata": {
        "id": "UpWlC6DBXFZA",
        "colab": {
          "base_uri": "https://localhost:8080/"
        },
        "outputId": "7e75849e-77a3-42d7-ca99-c5bad52a683e"
      },
      "source": [
        "correlation_scores_subjectivity"
      ],
      "execution_count": null,
      "outputs": [
        {
          "output_type": "execute_result",
          "data": {
            "text/plain": [
              "[(0.07210960976986376, 'subjectivity score')]"
            ]
          },
          "metadata": {},
          "execution_count": 133
        }
      ]
    },
    {
      "cell_type": "markdown",
      "metadata": {
        "id": "8AXgLHmbN0Ur"
      },
      "source": [
        "# **Export subjectivity, token-ratio and named entity stats**"
      ]
    },
    {
      "cell_type": "code",
      "metadata": {
        "id": "onLepjF4MJKh"
      },
      "source": [
        "# Create and export a dataframe containing the data extracted about the named entity\n",
        "# in the corpus.\n",
        "\n",
        "remeaning_extracted_data_dataframe=pd.DataFrame(dict(zip([\"type token ratio\",\"subjectivity score\"],[type_token_ratio_list,subjectivity_scores])))\n",
        "\n",
        "remeaning_extracted_data_dataframe.to_csv('remaining_stat.csv',index=False)"
      ],
      "execution_count": null,
      "outputs": []
    },
    {
      "cell_type": "markdown",
      "metadata": {
        "id": "fmKqwdrjT1Zw"
      },
      "source": [
        "#  **Graph of data correlations with the argumentative sections**"
      ]
    },
    {
      "cell_type": "code",
      "metadata": {
        "id": "qMl5WtJUT9uT"
      },
      "source": [
        "# Counts number of times in group of data extracted a data has correlation score higher than 0.05.\n",
        "def count_relevant_correlation(correlation_scores_data:list,treshold:int)->int:\n",
        "  count=0\n",
        "  for correlation_score in correlation_scores_data:\n",
        "    if correlation_score[0]>=treshold:\n",
        "      count+=1\n",
        "  return count  "
      ],
      "execution_count": null,
      "outputs": []
    },
    {
      "cell_type": "code",
      "metadata": {
        "id": "lC3OaDNtUR0z"
      },
      "source": [
        "# Counts number of data with a correlation score higher than 0.05, 0.1 and 0.5 for all type of \n",
        "# data examined.\n",
        "\n",
        "data_group_names=[\"Stat.\",\"POS\",\"S-POS\", \"POS-B\",\"S-POS-B\", \"Dep. stat.\",\"Dep.\", \"BOW\", \"Bigram\", \"N-gram\", \"LNE\", \"TTR\", \"Subj.\"]\n",
        "data_correlations=[correlation_scores_sentence_stat, correlation_scores_POS_BOW, correlation_scores_simple_POS_BOW, correlation_scores_POS_bigram, correlation_scores_simple_POS_bigram, correlation_scores_dep_tree_stat, dep_correlation_BOW, correlation_scores_words, correlation_scores_bigram, correlation_scores_imported_ngrams, name_entity_correlation_BOW, correlation_scores_type_token, correlation_scores_subjectivity]\n",
        "\n",
        "count_relevant_05=[]\n",
        "count_relevant_10=[]\n",
        "count_total=[]\n",
        "\n",
        "for data_type in data_correlations:\n",
        "  count_relevant_05.append(count_relevant_correlation(data_type,0.05))\n",
        "  count_relevant_10.append(count_relevant_correlation(data_type,0.1))\n",
        "  count_total.append(len(data_type))"
      ],
      "execution_count": null,
      "outputs": []
    },
    {
      "cell_type": "code",
      "metadata": {
        "id": "X4hBs4LHJUGV"
      },
      "source": [
        "plt.rcParams.update({'font.size': 26})"
      ],
      "execution_count": null,
      "outputs": []
    },
    {
      "cell_type": "code",
      "metadata": {
        "id": "ANQr3lxqZfm2",
        "colab": {
          "base_uri": "https://localhost:8080/"
        },
        "outputId": "72a93070-4a4a-4cc1-c587-8657d376c7e0"
      },
      "source": [
        "# Obtain a visual representation of the type of data with the higher number of correlated \n",
        "# element to the argumentative sections and with the higher number of element in general.\n",
        "\n",
        "fig, ax = plt.subplots(1, 1, figsize=(40, 25))\n",
        "title='Correlazione dati alla presenza di sezioni argomentative'\n",
        "count=[count_total,count_relevant_05,count_relevant_10]\n",
        "\n",
        "    \n",
        "ax.set_title('{}'.format(title), fontsize=29)\n",
        "for i in range(3):\n",
        "  ax.bar(data_group_names,count[i])\n",
        "ax.legend([\"Numero totale\",\"Correlazione sopra 0.05\",\"Correlazione sopra 0.1\"],prop={'size': 25})\n",
        "plt.ylabel('Conteggio dati', fontsize=28)\n",
        "fig.show()"
      ],
      "execution_count": null,
      "outputs": [
        {
          "output_type": "display_data",
          "data": {
            "image/png": "[encoded data removed]",
            "text/plain": [
              "<Figure size 2880x1800 with 1 Axes>"
            ]
          },
          "metadata": {
            "needs_background": "light"
          }
        }
      ]
    }
  ]
}