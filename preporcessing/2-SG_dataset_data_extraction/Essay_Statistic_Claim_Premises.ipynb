{
  "nbformat": 4,
  "nbformat_minor": 0,
  "metadata": {
    "colab": {
      "name": "Essay_Statistic_Claim_Premises.ipynb",
      "provenance": [],
      "collapsed_sections": [
        "y3aIwBjCGLvi",
        "OrsWTewaCnPf",
        "0697g-wg76g8",
        "C_MVtFancrXE",
        "mHxIe8UHrzAP",
        "z46GCjrXsEXR",
        "A3faZf73ymhi",
        "oJmHrfpQuXvN",
        "qvf9bLaV5DGI",
        "kkzy6HcKc6Sz",
        "YCyByqWGnux8",
        "4NZh_f8izxjI",
        "uQtIdMClVIG2",
        "8AXgLHmbN0Ur"
      ]
    },
    "kernelspec": {
      "name": "python3",
      "display_name": "Python 3"
    },
    "language_info": {
      "name": "python"
    }
  },
  "cells": [
    {
      "cell_type": "code",
      "metadata": {
        "colab": {
          "base_uri": "https://localhost:8080/"
        },
        "id": "06I5cxENSPwP",
        "outputId": "b148b637-c5ed-431e-f2f9-edace5f4c54b"
      },
      "source": [
        "!pip install mendelai-brat-parser\n",
        "\n",
        "import nltk\n",
        "nltk.download('punkt')\n",
        "nltk.download('wordnet')\n",
        "nltk.download('averaged_perceptron_tagger')\n",
        "\n",
        "nltk.download('universal_tagset')"
      ],
      "execution_count": null,
      "outputs": [
        {
          "output_type": "stream",
          "name": "stdout",
          "text": [
            "Collecting mendelai-brat-parser\n",
            "  Downloading mendelai_brat_parser-0.0.4-py3-none-any.whl (4.2 kB)\n",
            "Installing collected packages: mendelai-brat-parser\n",
            "Successfully installed mendelai-brat-parser-0.0.4\n",
            "[nltk_data] Downloading package punkt to /root/nltk_data...\n",
            "[nltk_data]   Unzipping tokenizers/punkt.zip.\n",
            "[nltk_data] Downloading package wordnet to /root/nltk_data...\n",
            "[nltk_data]   Unzipping corpora/wordnet.zip.\n",
            "[nltk_data] Downloading package averaged_perceptron_tagger to\n",
            "[nltk_data]     /root/nltk_data...\n",
            "[nltk_data]   Unzipping taggers/averaged_perceptron_tagger.zip.\n",
            "[nltk_data] Downloading package universal_tagset to /root/nltk_data...\n",
            "[nltk_data]   Unzipping taggers/universal_tagset.zip.\n"
          ]
        },
        {
          "output_type": "execute_result",
          "data": {
            "text/plain": [
              "True"
            ]
          },
          "metadata": {},
          "execution_count": 1
        }
      ]
    },
    {
      "cell_type": "code",
      "metadata": {
        "id": "4YTGrEc9Dy-X"
      },
      "source": [
        "import pandas as pd\n",
        "import numpy as np\n",
        "from matplotlib import pyplot as plt\n",
        "import regex as re\n",
        "import math\n",
        "from collections import Counter\n",
        "\n",
        "from google.colab import files\n",
        "import zipfile\n",
        "import glob\n",
        "\n",
        "from brat_parser import get_entities_relations_attributes_groups\n",
        "\n",
        "from nltk.tag import pos_tag, map_tag\n",
        "\n",
        "from sklearn.model_selection import train_test_split\n",
        "from nltk.stem import WordNetLemmatizer\n",
        "from sklearn.feature_extraction.text import CountVectorizer\n",
        "import spacy\n",
        "from keras.preprocessing.sequence import pad_sequences\n",
        "from keras.preprocessing.text import Tokenizer\n",
        "\n",
        "from scipy.stats import spearmanr"
      ],
      "execution_count": null,
      "outputs": []
    },
    {
      "cell_type": "markdown",
      "metadata": {
        "id": "y3aIwBjCGLvi"
      },
      "source": [
        "# **Dataset import**"
      ]
    },
    {
      "cell_type": "code",
      "metadata": {
        "colab": {
          "resources": {
            "http://localhost:8080/nbextensions/google.colab/files.js": {
              "data": "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",
              "ok": true,
              "headers": [
                [
                  "content-type",
                  "application/javascript"
                ]
              ],
              "status": 200,
              "status_text": ""
            }
          },
          "base_uri": "https://localhost:8080/",
          "height": 441
        },
        "id": "fRZwICTBVLc7",
        "outputId": "a90e9085-208c-4e7f-f405-28dd6c048745"
      },
      "source": [
        "# Import the data relative to the sentences positions and statistics \n",
        "# (sentence_statistic.csv).\n",
        "print('\\nImport sentence_statistic.csv\\n')\n",
        "upload = files.upload()\n",
        "\n",
        "# Import the data relative to the statistic about the sentences dependency trees \n",
        "# (sentence_dependency_tree_stat.csv).\n",
        "print('\\nImport sentence_dependency_tree_stat.csv\\n')\n",
        "upload = files.upload()\n",
        "\n",
        "# Import the text file previously produced containing the prediction scores\n",
        "# of the subjectivity of each sentence in the dataset (sub_obj.txt).\n",
        "print('\\nImport sub_obj.txt\\n')\n",
        "upload = files.upload()\n",
        "\n",
        "# Import the dataframe previously produced containing the BOW on the dataset of \n",
        "# the n-grams indicated in the appendix of the guidelines of the Stab and Gurevych \n",
        "# dataset (2017 version) as indicative of an argumentative sections (claim or premise).\n",
        "#(file: essay_BOW_appendix_words.cvs)\n",
        "print('\\nImport essay_BOW_appendix_words.cvs\\n')\n",
        "upload = files.upload()"
      ],
      "execution_count": null,
      "outputs": [
        {
          "output_type": "stream",
          "name": "stdout",
          "text": [
            "\n",
            "Import sentence_statistic.csv\n",
            "\n"
          ]
        },
        {
          "output_type": "display_data",
          "data": {
            "text/html": [
              "\n",
              "     <input type=\"file\" id=\"files-89b5ff98-fbed-4b96-9c34-9fe3f5487ff7\" name=\"files[]\" multiple disabled\n",
              "        style=\"border:none\" />\n",
              "     <output id=\"result-89b5ff98-fbed-4b96-9c34-9fe3f5487ff7\">\n",
              "      Upload widget is only available when the cell has been executed in the\n",
              "      current browser session. Please rerun this cell to enable.\n",
              "      </output>\n",
              "      <script src=\"/nbextensions/google.colab/files.js\"></script> "
            ],
            "text/plain": [
              "<IPython.core.display.HTML object>"
            ]
          },
          "metadata": {}
        },
        {
          "output_type": "stream",
          "name": "stdout",
          "text": [
            "Saving sentence_statistic.csv to sentence_statistic.csv\n",
            "\n",
            "Import sentence_dependency_tree_stat.csv\n",
            "\n"
          ]
        },
        {
          "output_type": "display_data",
          "data": {
            "text/html": [
              "\n",
              "     <input type=\"file\" id=\"files-96adf8bb-0dcc-410b-b0d9-d93c10cf935e\" name=\"files[]\" multiple disabled\n",
              "        style=\"border:none\" />\n",
              "     <output id=\"result-96adf8bb-0dcc-410b-b0d9-d93c10cf935e\">\n",
              "      Upload widget is only available when the cell has been executed in the\n",
              "      current browser session. Please rerun this cell to enable.\n",
              "      </output>\n",
              "      <script src=\"/nbextensions/google.colab/files.js\"></script> "
            ],
            "text/plain": [
              "<IPython.core.display.HTML object>"
            ]
          },
          "metadata": {}
        },
        {
          "output_type": "stream",
          "name": "stdout",
          "text": [
            "Saving sentence_dependency_tree_stat.csv to sentence_dependency_tree_stat.csv\n",
            "\n",
            "Import sub_obj.txt\n",
            "\n"
          ]
        },
        {
          "output_type": "display_data",
          "data": {
            "text/html": [
              "\n",
              "     <input type=\"file\" id=\"files-4ea60121-9406-46a2-bb1f-2f58c44c493a\" name=\"files[]\" multiple disabled\n",
              "        style=\"border:none\" />\n",
              "     <output id=\"result-4ea60121-9406-46a2-bb1f-2f58c44c493a\">\n",
              "      Upload widget is only available when the cell has been executed in the\n",
              "      current browser session. Please rerun this cell to enable.\n",
              "      </output>\n",
              "      <script src=\"/nbextensions/google.colab/files.js\"></script> "
            ],
            "text/plain": [
              "<IPython.core.display.HTML object>"
            ]
          },
          "metadata": {}
        },
        {
          "output_type": "stream",
          "name": "stdout",
          "text": [
            "Saving subj_obj.txt to subj_obj.txt\n",
            "\n",
            "Import essay_BOW_appendix_words.cvs\n",
            "\n"
          ]
        },
        {
          "output_type": "display_data",
          "data": {
            "text/html": [
              "\n",
              "     <input type=\"file\" id=\"files-aef7852b-27c7-44b4-8eaa-4eaec6b71fe4\" name=\"files[]\" multiple disabled\n",
              "        style=\"border:none\" />\n",
              "     <output id=\"result-aef7852b-27c7-44b4-8eaa-4eaec6b71fe4\">\n",
              "      Upload widget is only available when the cell has been executed in the\n",
              "      current browser session. Please rerun this cell to enable.\n",
              "      </output>\n",
              "      <script src=\"/nbextensions/google.colab/files.js\"></script> "
            ],
            "text/plain": [
              "<IPython.core.display.HTML object>"
            ]
          },
          "metadata": {}
        },
        {
          "output_type": "stream",
          "name": "stdout",
          "text": [
            "Saving essay_BOW_appendix_words.csv to essay_BOW_appendix_words.csv\n"
          ]
        }
      ]
    },
    {
      "cell_type": "code",
      "metadata": {
        "colab": {
          "resources": {
            "http://localhost:8080/nbextensions/google.colab/files.js": {
              "data": "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",
              "ok": true,
              "headers": [
                [
                  "content-type",
                  "application/javascript"
                ]
              ],
              "status": 200,
              "status_text": ""
            }
          },
          "base_uri": "https://localhost:8080/",
          "height": 73
        },
        "id": "vpO5P3dIpWhh",
        "outputId": "7534af35-7267-404a-f3a4-eb733b6bbd13"
      },
      "source": [
        "# Import the Stab and Gurevych dataset (2017 version).\n",
        "\n",
        "uploaded = files.upload()"
      ],
      "execution_count": null,
      "outputs": [
        {
          "output_type": "display_data",
          "data": {
            "text/html": [
              "\n",
              "     <input type=\"file\" id=\"files-42d09b88-78df-40e9-9df8-a355701321b2\" name=\"files[]\" multiple disabled\n",
              "        style=\"border:none\" />\n",
              "     <output id=\"result-42d09b88-78df-40e9-9df8-a355701321b2\">\n",
              "      Upload widget is only available when the cell has been executed in the\n",
              "      current browser session. Please rerun this cell to enable.\n",
              "      </output>\n",
              "      <script src=\"/nbextensions/google.colab/files.js\"></script> "
            ],
            "text/plain": [
              "<IPython.core.display.HTML object>"
            ]
          },
          "metadata": {}
        },
        {
          "output_type": "stream",
          "name": "stdout",
          "text": [
            "Saving ArgumentAnnotatedEssays-2.0.zip to ArgumentAnnotatedEssays-2.0.zip\n"
          ]
        }
      ]
    },
    {
      "cell_type": "code",
      "metadata": {
        "id": "GMgahsgcrTws"
      },
      "source": [
        "# Function to extract zip file.\n",
        "# Takes in input the path to the zip file (path_zip) and the one to store the destination directory (path_destination).\n",
        "\n",
        "def extract_zip(path_zip,path_destination):\n",
        "  with zipfile.ZipFile(path_zip, 'r') as zip_ref:\n",
        "    zip_ref.extractall(path_destination)\n"
      ],
      "execution_count": null,
      "outputs": []
    },
    {
      "cell_type": "code",
      "metadata": {
        "id": "cE_5p8qap-Ib"
      },
      "source": [
        "# Extract zip file (two zip files one inside the other).\n",
        "\n",
        "extract_zip('ArgumentAnnotatedEssays-2.0.zip','ArgumentAnnotatedEssays-2.0')\n",
        "\n",
        "extract_zip('ArgumentAnnotatedEssays-2.0/ArgumentAnnotatedEssays-2.0/brat-project-final.zip','ArgumentAnnotatedEssays')"
      ],
      "execution_count": null,
      "outputs": []
    },
    {
      "cell_type": "markdown",
      "metadata": {
        "id": "OrsWTewaCnPf"
      },
      "source": [
        "# **Create the ann Dataframe**"
      ]
    },
    {
      "cell_type": "code",
      "metadata": {
        "id": "rdAvNRWA08Sg"
      },
      "source": [
        "# Extract the list of text files of the essays in the dataset.\n",
        "txt_files = sorted(glob.glob(\"ArgumentAnnotatedEssays/brat-project-final/essay*.txt\"))\n",
        "\n",
        "# Extract the list of text files of the essays in the dataset.\n",
        "ann_files = sorted(glob.glob(\"ArgumentAnnotatedEssays/brat-project-final/essay*.ann\"))"
      ],
      "execution_count": null,
      "outputs": []
    },
    {
      "cell_type": "code",
      "metadata": {
        "colab": {
          "base_uri": "https://localhost:8080/"
        },
        "id": "s1yFSufe1iFC",
        "outputId": "d440f448-dc96-4590-f03b-a22e916dfd38"
      },
      "source": [
        "# List of text files of the essays.\n",
        "txt_files[0:5]"
      ],
      "execution_count": null,
      "outputs": [
        {
          "output_type": "execute_result",
          "data": {
            "text/plain": [
              "['ArgumentAnnotatedEssays/brat-project-final/essay001.txt',\n",
              " 'ArgumentAnnotatedEssays/brat-project-final/essay002.txt',\n",
              " 'ArgumentAnnotatedEssays/brat-project-final/essay003.txt',\n",
              " 'ArgumentAnnotatedEssays/brat-project-final/essay004.txt',\n",
              " 'ArgumentAnnotatedEssays/brat-project-final/essay005.txt']"
            ]
          },
          "metadata": {},
          "execution_count": 8
        }
      ]
    },
    {
      "cell_type": "code",
      "metadata": {
        "colab": {
          "base_uri": "https://localhost:8080/"
        },
        "id": "8yoE-YHW1ykn",
        "outputId": "fbe96bae-7cc6-48c4-9231-36e4ddd84dc9"
      },
      "source": [
        "# List of the annotated files of the essays.\n",
        "ann_files[0:5]"
      ],
      "execution_count": null,
      "outputs": [
        {
          "output_type": "execute_result",
          "data": {
            "text/plain": [
              "['ArgumentAnnotatedEssays/brat-project-final/essay001.ann',\n",
              " 'ArgumentAnnotatedEssays/brat-project-final/essay002.ann',\n",
              " 'ArgumentAnnotatedEssays/brat-project-final/essay003.ann',\n",
              " 'ArgumentAnnotatedEssays/brat-project-final/essay004.ann',\n",
              " 'ArgumentAnnotatedEssays/brat-project-final/essay005.ann']"
            ]
          },
          "metadata": {},
          "execution_count": 9
        }
      ]
    },
    {
      "cell_type": "code",
      "metadata": {
        "id": "SJtZWteKCka4"
      },
      "source": [
        "# Transfor the ann files into four dictionaries\n",
        "ann_disctionaries=[get_entities_relations_attributes_groups(file) for file in ann_files]\n",
        "\n",
        "# Transform the first dictionary (entities) obtained from each ann file into a dataset\n",
        "essay_ann_datasets = [pd.DataFrame.from_dict(entities, orient='index') for entities,_,_,_ in ann_disctionaries]\n",
        "\n",
        "# Add a coloumn into the dataset that identifies the document\n",
        "for i in range(len(essay_ann_datasets)):\n",
        "  essay_ann_datasets[i].insert(0,'doc_id',i)\n",
        "\n",
        "# Create a common dataset\n",
        "Essay_ann_dataset = pd.concat(essay_ann_datasets)"
      ],
      "execution_count": null,
      "outputs": []
    },
    {
      "cell_type": "code",
      "metadata": {
        "colab": {
          "base_uri": "https://localhost:8080/"
        },
        "id": "ShAWlc_o3RoB",
        "outputId": "74867d9c-aed5-4d89-cad6-4da4f9b843e5"
      },
      "source": [
        "# Sobstitue the values in the \"span\" feature (substitute each tuple with its first inner tuple)\n",
        "for i in range(len(Essay_ann_dataset.index)):\n",
        "  Essay_ann_dataset['span'][i]=Essay_ann_dataset['span'][i][0]"
      ],
      "execution_count": null,
      "outputs": [
        {
          "output_type": "stream",
          "name": "stderr",
          "text": [
            "/usr/local/lib/python3.7/dist-packages/ipykernel_launcher.py:3: SettingWithCopyWarning: \n",
            "A value is trying to be set on a copy of a slice from a DataFrame\n",
            "\n",
            "See the caveats in the documentation: https://pandas.pydata.org/pandas-docs/stable/user_guide/indexing.html#returning-a-view-versus-a-copy\n",
            "  This is separate from the ipykernel package so we can avoid doing imports until\n"
          ]
        }
      ]
    },
    {
      "cell_type": "code",
      "metadata": {
        "colab": {
          "base_uri": "https://localhost:8080/"
        },
        "id": "0RvtcIuEDGgY",
        "outputId": "3ab91a68-2b99-4fe8-ee35-021b321d8135"
      },
      "source": [
        "Essay_ann_dataset.head()"
      ],
      "execution_count": null,
      "outputs": [
        {
          "output_type": "execute_result",
          "data": {
            "text/html": [
              "<div>\n",
              "<style scoped>\n",
              "    .dataframe tbody tr th:only-of-type {\n",
              "        vertical-align: middle;\n",
              "    }\n",
              "\n",
              "    .dataframe tbody tr th {\n",
              "        vertical-align: top;\n",
              "    }\n",
              "\n",
              "    .dataframe thead th {\n",
              "        text-align: right;\n",
              "    }\n",
              "</style>\n",
              "<table border=\"1\" class=\"dataframe\">\n",
              "  <thead>\n",
              "    <tr style=\"text-align: right;\">\n",
              "      <th></th>\n",
              "      <th>doc_id</th>\n",
              "      <th>id</th>\n",
              "      <th>type</th>\n",
              "      <th>span</th>\n",
              "      <th>text</th>\n",
              "    </tr>\n",
              "  </thead>\n",
              "  <tbody>\n",
              "    <tr>\n",
              "      <th>T1</th>\n",
              "      <td>0</td>\n",
              "      <td>T1</td>\n",
              "      <td>MajorClaim</td>\n",
              "      <td>(503, 575)</td>\n",
              "      <td>we should attach more importance to cooperatio...</td>\n",
              "    </tr>\n",
              "    <tr>\n",
              "      <th>T2</th>\n",
              "      <td>0</td>\n",
              "      <td>T2</td>\n",
              "      <td>MajorClaim</td>\n",
              "      <td>(2154, 2231)</td>\n",
              "      <td>a more cooperative attitudes towards life is m...</td>\n",
              "    </tr>\n",
              "    <tr>\n",
              "      <th>T3</th>\n",
              "      <td>0</td>\n",
              "      <td>T3</td>\n",
              "      <td>Claim</td>\n",
              "      <td>(591, 714)</td>\n",
              "      <td>through cooperation, children can learn about ...</td>\n",
              "    </tr>\n",
              "    <tr>\n",
              "      <th>T4</th>\n",
              "      <td>0</td>\n",
              "      <td>T4</td>\n",
              "      <td>Premise</td>\n",
              "      <td>(716, 851)</td>\n",
              "      <td>What we acquired from team work is not only ho...</td>\n",
              "    </tr>\n",
              "    <tr>\n",
              "      <th>T5</th>\n",
              "      <td>0</td>\n",
              "      <td>T5</td>\n",
              "      <td>Premise</td>\n",
              "      <td>(853, 1086)</td>\n",
              "      <td>During the process of cooperation, children ca...</td>\n",
              "    </tr>\n",
              "  </tbody>\n",
              "</table>\n",
              "</div>"
            ],
            "text/plain": [
              "    doc_id  id  ...          span                                               text\n",
              "T1       0  T1  ...    (503, 575)  we should attach more importance to cooperatio...\n",
              "T2       0  T2  ...  (2154, 2231)  a more cooperative attitudes towards life is m...\n",
              "T3       0  T3  ...    (591, 714)  through cooperation, children can learn about ...\n",
              "T4       0  T4  ...    (716, 851)  What we acquired from team work is not only ho...\n",
              "T5       0  T5  ...   (853, 1086)  During the process of cooperation, children ca...\n",
              "\n",
              "[5 rows x 5 columns]"
            ]
          },
          "metadata": {},
          "execution_count": 12
        }
      ]
    },
    {
      "cell_type": "markdown",
      "metadata": {
        "id": "0697g-wg76g8"
      },
      "source": [
        "# **IOB and word list**"
      ]
    },
    {
      "cell_type": "code",
      "metadata": {
        "id": "En1l-2YSD7_z"
      },
      "source": [
        "# List of texts of the essays\n",
        "files_text=[open(file).read() for file in txt_files]"
      ],
      "execution_count": null,
      "outputs": []
    },
    {
      "cell_type": "code",
      "metadata": {
        "id": "c-Xv3S56l_HC"
      },
      "source": [
        "# Get the start and finish points of each argumentative section of each of the text.\n",
        "# Also get the type of each argumentative section.\n",
        "# This points are indicated in the \"span\" coloumn of the Dataframe of the annotation.\n",
        "\n",
        "sorted_span=[sorted(list(Essay_ann_dataset.loc[Essay_ann_dataset['doc_id'] == i,['span','type']].values), key=lambda element: (element[0][0]) ) for i in range(len(ann_files))]"
      ],
      "execution_count": null,
      "outputs": []
    },
    {
      "cell_type": "code",
      "metadata": {
        "colab": {
          "base_uri": "https://localhost:8080/"
        },
        "id": "FY761IVz8g2z",
        "outputId": "c3192e65-9ee3-49bc-cd39-eccb22f4e342"
      },
      "source": [
        "sorted_span[0]"
      ],
      "execution_count": null,
      "outputs": [
        {
          "output_type": "execute_result",
          "data": {
            "text/plain": [
              "[array([(503, 575), 'MajorClaim'], dtype=object),\n",
              " array([(591, 714), 'Claim'], dtype=object),\n",
              " array([(716, 851), 'Premise'], dtype=object),\n",
              " array([(853, 1086), 'Premise'], dtype=object),\n",
              " array([(1088, 1191), 'Premise'], dtype=object),\n",
              " array([(1212, 1301), 'Premise'], dtype=object),\n",
              " array([(1332, 1376), 'Claim'], dtype=object),\n",
              " array([(1387, 1492), 'Premise'], dtype=object),\n",
              " array([(1549, 1846), 'Premise'], dtype=object),\n",
              " array([(1927, 1992), 'Claim'], dtype=object),\n",
              " array([(2154, 2231), 'MajorClaim'], dtype=object)]"
            ]
          },
          "metadata": {},
          "execution_count": 15
        }
      ]
    },
    {
      "cell_type": "code",
      "metadata": {
        "id": "IB7ydWo78-x2"
      },
      "source": [
        "# Tranform the couples of points ((start,end) of each section) to a list (separator of different section).\n",
        "\n",
        "span_points=[]\n",
        "\n",
        "for i in range(len(sorted_span)):\n",
        "  list_points=[sep for sub in sorted_span[i] for sep in sub[0]]\n",
        "  # Insert starting point of the text\n",
        "  list_points.insert(0,0)\n",
        "  list_points.append(len(files_text[i]))\n",
        "  span_points.append(list_points)"
      ],
      "execution_count": null,
      "outputs": []
    },
    {
      "cell_type": "code",
      "metadata": {
        "colab": {
          "base_uri": "https://localhost:8080/"
        },
        "id": "LFHv8OFV-MER",
        "outputId": "60650386-afd4-4aba-92a5-6e2da4c5aefd"
      },
      "source": [
        "span_points[0]"
      ],
      "execution_count": null,
      "outputs": [
        {
          "output_type": "execute_result",
          "data": {
            "text/plain": [
              "[0,\n",
              " 503,\n",
              " 575,\n",
              " 591,\n",
              " 714,\n",
              " 716,\n",
              " 851,\n",
              " 853,\n",
              " 1086,\n",
              " 1088,\n",
              " 1191,\n",
              " 1212,\n",
              " 1301,\n",
              " 1332,\n",
              " 1376,\n",
              " 1387,\n",
              " 1492,\n",
              " 1549,\n",
              " 1846,\n",
              " 1927,\n",
              " 1992,\n",
              " 2154,\n",
              " 2231,\n",
              " 2232]"
            ]
          },
          "metadata": {},
          "execution_count": 17
        }
      ]
    },
    {
      "cell_type": "code",
      "metadata": {
        "id": "YV3tm2bS-p_t"
      },
      "source": [
        "# Separate the texts at the point indicated for the different sections\n",
        "\n",
        "split_text=[]\n",
        "\n",
        "for z in range(len(files_text)):\n",
        "  split_text.append([files_text[z][i: j] for i, j in zip(span_points[z], span_points[z][1:])])"
      ],
      "execution_count": null,
      "outputs": []
    },
    {
      "cell_type": "code",
      "metadata": {
        "colab": {
          "base_uri": "https://localhost:8080/"
        },
        "id": "YyylYuLL_SEb",
        "outputId": "49cbe60b-614c-48fa-99db-7d3cd68f53b5"
      },
      "source": [
        "split_text[0][0:10]"
      ],
      "execution_count": null,
      "outputs": [
        {
          "output_type": "execute_result",
          "data": {
            "text/plain": [
              "[\"Should students be taught to compete or to cooperate?\\n\\nIt is always said that competition can effectively promote the development of economy. In order to survive in the competition, companies continue to improve their products and service, and as a result, the whole society prospers. However, when we discuss the issue of competition or cooperation, what we are concerned about is not the whole society, but the development of an individual's whole life. From this point of view, I firmly believe that \",\n",
              " 'we should attach more importance to cooperation during primary education',\n",
              " '.\\nFirst of all, ',\n",
              " 'through cooperation, children can learn about interpersonal skills which are significant in the future life of all students',\n",
              " '. ',\n",
              " 'What we acquired from team work is not only how to achieve the same goal with others but more importantly, how to get along with others',\n",
              " '. ',\n",
              " 'During the process of cooperation, children can learn about how to listen to opinions of others, how to communicate with others, how to think comprehensively, and even how to compromise with other team members when conflicts occurred',\n",
              " '. ',\n",
              " 'All of these skills help them to get on well with other people and will benefit them for the whole life']"
            ]
          },
          "metadata": {},
          "execution_count": 19
        }
      ]
    },
    {
      "cell_type": "code",
      "metadata": {
        "id": "lYVRUlXHAwa3"
      },
      "source": [
        "# Get the list of the words of each essay and the corresponding labels \n",
        "# ( argumentative section, premise or claim indicated through IOB).\n",
        "\n",
        "Y_IOB=[]\n",
        "X_essay_word_list=[]\n",
        "\n",
        "for i in range(len(split_text)):\n",
        "  \n",
        "  IOB=[]\n",
        "  essay_word_list=[]\n",
        "\n",
        "  # next_type is the next position still not considered in the list of argumentative sections of the essay examined.\n",
        "  next_type=0\n",
        "\n",
        "  # Remove title from essay considered (splitted_text)\n",
        "  no_title=[re.sub(r\".*\\n\\n\",\"\",text) for text in split_text[i]]\n",
        "\n",
        "  # Set boolean value next_token_is_argumentative to false.\n",
        "  # (first section of each essay is never argumentative, it's the one containing the title).\n",
        "  next_token_is_argumentative=False\n",
        "\n",
        "  for section in no_title:\n",
        "\n",
        "    # Divide the text into token.\n",
        "    seq=nltk.word_tokenize(section.lower())\n",
        "\n",
        "    essay_word_list+=seq\n",
        "\n",
        "    if next_token_is_argumentative:\n",
        "      if sorted_span[i][next_type][1]=='Premise':\n",
        "        IOB+=['B-P']\n",
        "        for token in range(len(seq)-1):\n",
        "          IOB+=['I-P']\n",
        "      else:\n",
        "        IOB+=['B-C']\n",
        "        for token in range(len(seq)-1):\n",
        "          IOB+=['I-C']\n",
        "      next_type += 1     \n",
        "    else:\n",
        "      for token in range(len(seq)):\n",
        "        IOB+=['O']\n",
        "\n",
        "    # An argumentative section is followed by a non-argumentative section and vice-versa    \n",
        "    next_token_is_argumentative=not next_token_is_argumentative\n",
        "\n",
        "  Y_IOB.append(IOB)\n",
        "  X_essay_word_list.append(essay_word_list)"
      ],
      "execution_count": null,
      "outputs": []
    },
    {
      "cell_type": "code",
      "metadata": {
        "colab": {
          "base_uri": "https://localhost:8080/"
        },
        "id": "IK9ZdPIJC2VA",
        "outputId": "8c3a5084-55b1-4be4-d20a-dc79f8ae8bd0"
      },
      "source": [
        "for i in range(80,120):\n",
        "  print(X_essay_word_list[0][i]+\" - \"+Y_IOB[0][i])"
      ],
      "execution_count": null,
      "outputs": [
        {
          "output_type": "stream",
          "name": "stdout",
          "text": [
            "i - O\n",
            "firmly - O\n",
            "believe - O\n",
            "that - O\n",
            "we - B-C\n",
            "should - I-C\n",
            "attach - I-C\n",
            "more - I-C\n",
            "importance - I-C\n",
            "to - I-C\n",
            "cooperation - I-C\n",
            "during - I-C\n",
            "primary - I-C\n",
            "education - I-C\n",
            ". - O\n",
            "first - O\n",
            "of - O\n",
            "all - O\n",
            ", - O\n",
            "through - B-C\n",
            "cooperation - I-C\n",
            ", - I-C\n",
            "children - I-C\n",
            "can - I-C\n",
            "learn - I-C\n",
            "about - I-C\n",
            "interpersonal - I-C\n",
            "skills - I-C\n",
            "which - I-C\n",
            "are - I-C\n",
            "significant - I-C\n",
            "in - I-C\n",
            "the - I-C\n",
            "future - I-C\n",
            "life - I-C\n",
            "of - I-C\n",
            "all - I-C\n",
            "students - I-C\n",
            ". - O\n",
            "what - B-P\n"
          ]
        }
      ]
    },
    {
      "cell_type": "markdown",
      "metadata": {
        "id": "pov3Yk0pUbjm"
      },
      "source": [
        "# **Find out sentences which contain argumentative section**"
      ]
    },
    {
      "cell_type": "code",
      "metadata": {
        "id": "QPcb2rgQUmzn"
      },
      "source": [
        "# Get the list of all the sentences and the fact that they contain \n",
        "# an argumentative section, a premise or a claim or not.\n",
        "\n",
        "sentence_list=[]\n",
        "sentences_argumentative_map=[]\n",
        "\n",
        "# Argumentative sentences contains or a premise or a claim (not both).\n",
        "# The following list of boolean will contain value True in case of a claim and\n",
        "# value False in case of a premise.\n",
        "argumentative_sentences_claim_presence_map=[]\n",
        "# List of sentences which are agumentative but contains either a claim or \n",
        "# a premise not both.\n",
        "argumentative_sentences_not_both_map=[]\n",
        "\n",
        "# List containing the id of the essay for each sentence in the corpus.\n",
        "sentence_essay_id_list=[]\n",
        "\n",
        "for essay_id in range(len(X_essay_word_list)):\n",
        "  sentence=\"\"\n",
        "  argumentative=False\n",
        "  claim=False\n",
        "  premise=False\n",
        "\n",
        "  for word_id in range(len(X_essay_word_list[essay_id])):\n",
        "    \n",
        "    word=X_essay_word_list[essay_id][word_id]\n",
        "    bio_of_word=Y_IOB[essay_id][word_id]\n",
        "\n",
        "    if not (bio_of_word=='O'):\n",
        "      argumentative=True\n",
        "      if (bio_of_word=='I-C') or (bio_of_word=='B-C'):\n",
        "        claim=True\n",
        "      else:\n",
        "        premise=True\n",
        "\n",
        "    # Add to the sentence every word that is not a simple \\n or the end of the sentence (\".\").\n",
        "    if not (word==\".\" ):\n",
        "      sentence+=word+\" \"\n",
        "          \n",
        "    # '.','!' or '?' is the end of the sentence.       \n",
        "    if word in [\".\",\"?\",\"!\"] and ( not sentence==\"\"):\n",
        "      sentence_list.append(sentence)\n",
        "      sentence_essay_id_list.append(essay_id)\n",
        "\n",
        "      # Add the indicator of the presence of argumentative sections to the correspondent lists.\n",
        "      sentences_argumentative_map.append(argumentative)\n",
        "\n",
        "      if claim and premise:\n",
        "        argumentative_sentences_not_both_map.append(False)\n",
        "      else:\n",
        "        argumentative_sentences_not_both_map.append(argumentative)\n",
        "        if claim and (not premise):\n",
        "          argumentative_sentences_claim_presence_map.append(True)\n",
        "        else:\n",
        "          if premise and (not claim):\n",
        "            argumentative_sentences_claim_presence_map.append(False)\n",
        "      \n",
        "      argumentative=False\n",
        "      claim=False\n",
        "      premise=False\n",
        "      sentence=\"\"\n",
        "\n",
        "  if not sentence==\"\":\n",
        "    sentence_list.append(sentence)\n",
        "    sentence_essay_id_list.append(essay_id)\n",
        "\n",
        "    # Add the indicator of the presence of argumentative sections to the correspondent lists.\n",
        "    sentences_argumentative_map.append(argumentative)\n",
        "\n",
        "    if claim and premise:\n",
        "      argumentative_sentences_not_both_map.append(False)\n",
        "    else:\n",
        "      argumentative_sentences_not_both_map.append(argumentative)\n",
        "      if claim and (not premise):\n",
        "        argumentative_sentences_claim_presence_map.append(True)\n",
        "      else:\n",
        "        if premise and (not claim):\n",
        "          argumentative_sentences_claim_presence_map.append(False)\n",
        "      \n",
        "    argumentative=False\n",
        "    claim=False\n",
        "    premise=False\n",
        "    sentence=\"\"      "
      ],
      "execution_count": null,
      "outputs": []
    },
    {
      "cell_type": "markdown",
      "metadata": {
        "id": "C_MVtFancrXE"
      },
      "source": [
        "# **Find out percentage of sentences which contains at least one argumentative section**"
      ]
    },
    {
      "cell_type": "code",
      "metadata": {
        "colab": {
          "base_uri": "https://localhost:8080/"
        },
        "id": "-eI-lFIYc1z0",
        "outputId": "26555d82-30ae-4f10-8d2d-120259e11873"
      },
      "source": [
        "# Number of total sententences contained in the essays.\n",
        "num_total_sentences=len(sentence_list)\n",
        "print(\"Total number of sentences {}\".format(num_total_sentences))\n",
        "\n",
        "# Number of sententences containing at least an argumentative section contained in the essays.\n",
        "num_arg_sentences=sum(sentences_argumentative_map)\n",
        "print(\"Number of sentences containing an argumentative section {}\".format(num_arg_sentences))"
      ],
      "execution_count": null,
      "outputs": [
        {
          "output_type": "stream",
          "name": "stdout",
          "text": [
            "Total number of sentences 6738\n",
            "Number of sentences containing an argumentative section 5507\n"
          ]
        }
      ]
    },
    {
      "cell_type": "markdown",
      "metadata": {
        "id": "v-VhumeZkB6O"
      },
      "source": [
        "# **Export sentences' labels**"
      ]
    },
    {
      "cell_type": "code",
      "metadata": {
        "id": "74lB1L4mhsqz"
      },
      "source": [
        "pd.DataFrame(argumentative_sentences_claim_presence_map).to_csv('claim_premise_labels.csv',index=False)"
      ],
      "execution_count": null,
      "outputs": []
    },
    {
      "cell_type": "markdown",
      "metadata": {
        "id": "V5ah4d7RwxYI"
      },
      "source": [
        "# **Split Train and Test set**"
      ]
    },
    {
      "cell_type": "code",
      "metadata": {
        "id": "mrvu9lSByLfh"
      },
      "source": [
        "# Create a list of values between 0 and 401, where each value indicate an essay\n",
        "# in the corpus.\n",
        "\n",
        "essay_id_list=[i for i in range(402)]"
      ],
      "execution_count": null,
      "outputs": []
    },
    {
      "cell_type": "code",
      "metadata": {
        "id": "hbhPLcCuw12o"
      },
      "source": [
        "# Divide the corpus (documents containing the essay) in test and train test.\n",
        "train_set,test_set=train_test_split(essay_id_list,test_size=0.15,random_state=42)"
      ],
      "execution_count": null,
      "outputs": []
    },
    {
      "cell_type": "code",
      "metadata": {
        "colab": {
          "base_uri": "https://localhost:8080/"
        },
        "id": "1fpSwg0hyt8v",
        "outputId": "41ba49bc-b20d-4c26-cf67-187db9dd88b6"
      },
      "source": [
        "print(len(train_set))\n",
        "\n",
        "train_set[:10]"
      ],
      "execution_count": null,
      "outputs": [
        {
          "output_type": "stream",
          "name": "stdout",
          "text": [
            "341\n"
          ]
        },
        {
          "output_type": "execute_result",
          "data": {
            "text/plain": [
              "[253, 282, 78, 101, 31, 274, 222, 233, 73, 287]"
            ]
          },
          "metadata": {},
          "execution_count": 27
        }
      ]
    },
    {
      "cell_type": "code",
      "metadata": {
        "colab": {
          "base_uri": "https://localhost:8080/"
        },
        "id": "KPQoIUW6yxF-",
        "outputId": "6a307ea2-9987-4775-a014-e1a92d8112c5"
      },
      "source": [
        "print(len(test_set))\n",
        "\n",
        "test_set[:10]"
      ],
      "execution_count": null,
      "outputs": [
        {
          "output_type": "stream",
          "name": "stdout",
          "text": [
            "61\n"
          ]
        },
        {
          "output_type": "execute_result",
          "data": {
            "text/plain": [
              "[285, 281, 33, 211, 93, 84, 391, 94, 225, 126]"
            ]
          },
          "metadata": {},
          "execution_count": 28
        }
      ]
    },
    {
      "cell_type": "code",
      "metadata": {
        "id": "yquXKCOF4zqi"
      },
      "source": [
        "# Create the list of id of sentences belonging to the train set and the one\n",
        "# of the sentences belonging to the test set.\n",
        "sentence_id_test_set=[]\n",
        "sentence_id_train_set=[]\n",
        "\n",
        "for sentence_id in range(len(argumentative_sentences_claim_presence_map)):\n",
        "    if sentence_essay_id_list[sentence_id] in train_set:\n",
        "      sentence_id_train_set.append(sentence_id)\n",
        "    else:\n",
        "      sentence_id_test_set.append(sentence_id)"
      ],
      "execution_count": null,
      "outputs": []
    },
    {
      "cell_type": "code",
      "metadata": {
        "id": "EsHpAlc1BBdO"
      },
      "source": [
        "# Create the version of the sentences_claim_presence_map list which contains only\n",
        "# the tags for the sentences in the train set.\n",
        "train_argumentative_sentences_claim_presence_map=[argumentative_sentences_claim_presence_map[id] for id in sentence_id_train_set]"
      ],
      "execution_count": null,
      "outputs": []
    },
    {
      "cell_type": "markdown",
      "metadata": {
        "id": "mHxIe8UHrzAP"
      },
      "source": [
        "# **Correaltion scores**"
      ]
    },
    {
      "cell_type": "code",
      "metadata": {
        "id": "v_C32wsNSslN"
      },
      "source": [
        "# Compute the sorted correlation scores.\n",
        "# Takes in input a dataframe and a list of labels, returns the sorted (from higher to lower) \n",
        "# list of columns names and their correlation value.\n",
        "\n",
        "def get_correlation_scores(dataframe: pd.DataFrame, labels: list)->list:\n",
        "  correlation_scores= []\n",
        "\n",
        "  columns=dataframe.columns\n",
        "  for column in columns:\n",
        "    correlation, p_value = spearmanr(dataframe[column].values, labels)\n",
        "    # Correlation absolute value.\n",
        "    correlation = np.abs(correlation)\n",
        "    correlation_scores.append((correlation,column))\n",
        "\n",
        "  # Sort the correlation scores of each word with the lable by the correlation score associated.\n",
        "  correlation_scores=sorted(correlation_scores, key=lambda x: (x[0]), reverse=True)    \n",
        "\n",
        "  return correlation_scores"
      ],
      "execution_count": null,
      "outputs": []
    },
    {
      "cell_type": "markdown",
      "metadata": {
        "id": "pPLWZW3NhaMF"
      },
      "source": [
        "# **Data positions and sentences statistic**"
      ]
    },
    {
      "cell_type": "code",
      "metadata": {
        "id": "y9jCYEyWtMDI"
      },
      "source": [
        "# Create dataframe of the feature extracted until now and evaluate their correlation\n",
        "# with the labels (presence of an argumentative section in a sentence) using the \n",
        "# Spearman test. \n",
        "\n",
        "sentence_stat_dataframe=pd.read_csv('sentence_statistic.csv')\n",
        "correlation_scores_sentence_stat=get_correlation_scores(sentence_stat_dataframe[argumentative_sentences_not_both_map],argumentative_sentences_claim_presence_map)"
      ],
      "execution_count": null,
      "outputs": []
    },
    {
      "cell_type": "code",
      "metadata": {
        "colab": {
          "base_uri": "https://localhost:8080/",
          "height": 220
        },
        "id": "6SLdk7_j4FAw",
        "outputId": "9319c954-e945-47d2-d433-fc233354f173"
      },
      "source": [
        "sentence_stat_dataframe.head()"
      ],
      "execution_count": null,
      "outputs": [
        {
          "output_type": "execute_result",
          "data": {
            "text/html": [
              "<div>\n",
              "<style scoped>\n",
              "    .dataframe tbody tr th:only-of-type {\n",
              "        vertical-align: middle;\n",
              "    }\n",
              "\n",
              "    .dataframe tbody tr th {\n",
              "        vertical-align: top;\n",
              "    }\n",
              "\n",
              "    .dataframe thead th {\n",
              "        text-align: right;\n",
              "    }\n",
              "</style>\n",
              "<table border=\"1\" class=\"dataframe\">\n",
              "  <thead>\n",
              "    <tr style=\"text-align: right;\">\n",
              "      <th></th>\n",
              "      <th>paragraph in essay</th>\n",
              "      <th>sentence in paragraph</th>\n",
              "      <th>sentence in essay</th>\n",
              "      <th>total sentences in paragraph</th>\n",
              "      <th>total paragraphs in document</th>\n",
              "      <th>number words in sentence</th>\n",
              "      <th>sentence length / media sentence length in essay</th>\n",
              "    </tr>\n",
              "  </thead>\n",
              "  <tbody>\n",
              "    <tr>\n",
              "      <th>0</th>\n",
              "      <td>0</td>\n",
              "      <td>0</td>\n",
              "      <td>0</td>\n",
              "      <td>4</td>\n",
              "      <td>4</td>\n",
              "      <td>13</td>\n",
              "      <td>0.563686</td>\n",
              "    </tr>\n",
              "    <tr>\n",
              "      <th>1</th>\n",
              "      <td>0</td>\n",
              "      <td>1</td>\n",
              "      <td>1</td>\n",
              "      <td>4</td>\n",
              "      <td>4</td>\n",
              "      <td>23</td>\n",
              "      <td>0.997290</td>\n",
              "    </tr>\n",
              "    <tr>\n",
              "      <th>2</th>\n",
              "      <td>0</td>\n",
              "      <td>2</td>\n",
              "      <td>2</td>\n",
              "      <td>4</td>\n",
              "      <td>4</td>\n",
              "      <td>29</td>\n",
              "      <td>1.257453</td>\n",
              "    </tr>\n",
              "    <tr>\n",
              "      <th>3</th>\n",
              "      <td>0</td>\n",
              "      <td>3</td>\n",
              "      <td>3</td>\n",
              "      <td>4</td>\n",
              "      <td>4</td>\n",
              "      <td>19</td>\n",
              "      <td>0.823848</td>\n",
              "    </tr>\n",
              "    <tr>\n",
              "      <th>4</th>\n",
              "      <td>1</td>\n",
              "      <td>0</td>\n",
              "      <td>4</td>\n",
              "      <td>4</td>\n",
              "      <td>4</td>\n",
              "      <td>21</td>\n",
              "      <td>0.910569</td>\n",
              "    </tr>\n",
              "  </tbody>\n",
              "</table>\n",
              "</div>"
            ],
            "text/plain": [
              "   paragraph in essay  ...  sentence length / media sentence length in essay\n",
              "0                   0  ...                                          0.563686\n",
              "1                   0  ...                                          0.997290\n",
              "2                   0  ...                                          1.257453\n",
              "3                   0  ...                                          0.823848\n",
              "4                   1  ...                                          0.910569\n",
              "\n",
              "[5 rows x 7 columns]"
            ]
          },
          "metadata": {},
          "execution_count": 33
        }
      ]
    },
    {
      "cell_type": "code",
      "metadata": {
        "id": "1Ee1oh0VGmQY"
      },
      "source": [
        "# Export the dataset.\n",
        "sentence_stat_dataframe[argumentative_sentences_not_both_map].to_csv('claim_premise_statistic.csv',index=False)"
      ],
      "execution_count": null,
      "outputs": []
    },
    {
      "cell_type": "code",
      "metadata": {
        "colab": {
          "base_uri": "https://localhost:8080/"
        },
        "id": "nQTW6EJW3915",
        "outputId": "95eb2202-953e-45ae-968a-7ef845069268"
      },
      "source": [
        "correlation_scores_sentence_stat"
      ],
      "execution_count": null,
      "outputs": [
        {
          "output_type": "execute_result",
          "data": {
            "text/plain": [
              "[(0.3996019136642591, 'total sentences in paragraph'),\n",
              " (0.3596983074011203, 'sentence in paragraph'),\n",
              " (0.06431257764856742, 'paragraph in essay'),\n",
              " (0.0569441355798751, 'sentence in essay'),\n",
              " (0.038329935955190485, 'sentence length / media sentence length in essay'),\n",
              " (0.011077857263902723, 'number words in sentence'),\n",
              " (0.0005302187681172995, 'total paragraphs in document')]"
            ]
          },
          "metadata": {},
          "execution_count": 35
        }
      ]
    },
    {
      "cell_type": "markdown",
      "metadata": {
        "id": "z46GCjrXsEXR"
      },
      "source": [
        "# **POS preparation**"
      ]
    },
    {
      "cell_type": "code",
      "metadata": {
        "id": "3NySvt1e8xZs",
        "colab": {
          "base_uri": "https://localhost:8080/"
        },
        "outputId": "39c1ed6a-054c-4278-c901-63a64fcfe9cd"
      },
      "source": [
        "# Separate each sentence in the list of POS TAG that compones them.\n",
        "POS_sentence_list=[nltk.pos_tag(nltk.word_tokenize(sentence)) for sentence in sentence_list]\n",
        "\n",
        "POS_sentence_list[0]"
      ],
      "execution_count": null,
      "outputs": [
        {
          "output_type": "execute_result",
          "data": {
            "text/plain": [
              "[('it', 'PRP'),\n",
              " ('is', 'VBZ'),\n",
              " ('always', 'RB'),\n",
              " ('said', 'VBD'),\n",
              " ('that', 'IN'),\n",
              " ('competition', 'NN'),\n",
              " ('can', 'MD'),\n",
              " ('effectively', 'RB'),\n",
              " ('promote', 'VB'),\n",
              " ('the', 'DT'),\n",
              " ('development', 'NN'),\n",
              " ('of', 'IN'),\n",
              " ('economy', 'NN')]"
            ]
          },
          "metadata": {},
          "execution_count": 36
        }
      ]
    },
    {
      "cell_type": "code",
      "metadata": {
        "id": "1sIxRaU4yzpb"
      },
      "source": [
        "# Create a version with the simplifyed version of the POS tag.\n",
        "\n",
        "simplified_POS_sentence_list=[]\n",
        "\n",
        "for POS_sentence in POS_sentence_list:\n",
        "  simplified_POS_sentence_list.append([(word, map_tag('en-ptb', 'universal', tag)) for word, tag in POS_sentence])"
      ],
      "execution_count": null,
      "outputs": []
    },
    {
      "cell_type": "code",
      "metadata": {
        "colab": {
          "base_uri": "https://localhost:8080/"
        },
        "id": "IMIidwzQ0IXY",
        "outputId": "d430408f-867e-45a3-ced3-bef773f1a1f3"
      },
      "source": [
        "simplified_POS_sentence_list[0]"
      ],
      "execution_count": null,
      "outputs": [
        {
          "output_type": "execute_result",
          "data": {
            "text/plain": [
              "[('it', 'PRON'),\n",
              " ('is', 'VERB'),\n",
              " ('always', 'ADV'),\n",
              " ('said', 'VERB'),\n",
              " ('that', 'ADP'),\n",
              " ('competition', 'NOUN'),\n",
              " ('can', 'VERB'),\n",
              " ('effectively', 'ADV'),\n",
              " ('promote', 'VERB'),\n",
              " ('the', 'DET'),\n",
              " ('development', 'NOUN'),\n",
              " ('of', 'ADP'),\n",
              " ('economy', 'NOUN')]"
            ]
          },
          "metadata": {},
          "execution_count": 38
        }
      ]
    },
    {
      "cell_type": "code",
      "metadata": {
        "id": "b1B7oaEIBhdl"
      },
      "source": [
        "# Get the list of the sentences as POS tag from the list of the\n",
        "# list of the POS tag of each sentence. \n",
        "def get_POS_sentence_list(POS_sentence_list: list)->list:\n",
        "  POS_sentences=[]\n",
        "  for POS_list in POS_sentence_list:\n",
        "    sentence=\"\"\n",
        "    for word, tag in POS_list:\n",
        "      sentence+=tag+\" \"\n",
        "    POS_sentences.append(sentence)    \n",
        "\n",
        "  return POS_sentences"
      ],
      "execution_count": null,
      "outputs": []
    },
    {
      "cell_type": "code",
      "metadata": {
        "colab": {
          "base_uri": "https://localhost:8080/"
        },
        "id": "6p0_zoUkC7_D",
        "outputId": "d1db10a9-5fa6-4953-e3c1-5dc27291b1aa"
      },
      "source": [
        "POS_sentences=get_POS_sentence_list(POS_sentence_list)\n",
        "simple_POS_sentences=get_POS_sentence_list(simplified_POS_sentence_list)\n",
        "\n",
        "POS_sentences[0]"
      ],
      "execution_count": null,
      "outputs": [
        {
          "output_type": "execute_result",
          "data": {
            "application/vnd.google.colaboratory.intrinsic+json": {
              "type": "string"
            },
            "text/plain": [
              "'PRP VBZ RB VBD IN NN MD RB VB DT NN IN NN '"
            ]
          },
          "metadata": {},
          "execution_count": 40
        }
      ]
    },
    {
      "cell_type": "markdown",
      "metadata": {
        "id": "A3faZf73ymhi"
      },
      "source": [
        "# **Customised Tokenizer**"
      ]
    },
    {
      "cell_type": "code",
      "metadata": {
        "id": "AIsQ9O1wyevB"
      },
      "source": [
        "#  Lemmatization is used.\n",
        "def build_tokenizer(text):\n",
        "\n",
        "  wordnet_lemmatizer = WordNetLemmatizer()\n",
        "\n",
        "  # Text tokenization.\n",
        "  tokens=nltk.word_tokenize(text)\n",
        "\n",
        "  # Text normalization throgh lemmatizzation.\n",
        "\n",
        "  lemmas=[]\n",
        "  for word in tokens:\n",
        "    lemmas.append(wordnet_lemmatizer.lemmatize(word))\n",
        "\n",
        "  return lemmas  "
      ],
      "execution_count": null,
      "outputs": []
    },
    {
      "cell_type": "markdown",
      "metadata": {
        "id": "oJmHrfpQuXvN"
      },
      "source": [
        "# **Bag of words**"
      ]
    },
    {
      "cell_type": "code",
      "metadata": {
        "id": "Lx_xuJKjDqz8"
      },
      "source": [
        "# Trasformation of the passed corpus in the dataframe of the bag of ngram contained\n",
        "# in it.\n",
        "def bag_of_ngram(sentence_list: list, ngram: int)-> pd.DataFrame:\n",
        "  vectorizer=CountVectorizer(tokenizer=build_tokenizer,ngram_range=(ngram,ngram))\n",
        "  bag_ngram=vectorizer.fit_transform(sentence_list)\n",
        "\n",
        "  dataframe=pd.DataFrame(bag_ngram.toarray(), columns=vectorizer.get_feature_names())\n",
        "\n",
        "  return dataframe"
      ],
      "execution_count": null,
      "outputs": []
    },
    {
      "cell_type": "markdown",
      "metadata": {
        "id": "qvf9bLaV5DGI"
      },
      "source": [
        "# **POS bag of words**"
      ]
    },
    {
      "cell_type": "code",
      "metadata": {
        "colab": {
          "base_uri": "https://localhost:8080/"
        },
        "id": "zDYqfsTe5Akf",
        "outputId": "f080bf85-25f1-4a0e-a843-239409007332"
      },
      "source": [
        "POS_BOW=bag_of_ngram(POS_sentences,1)\n",
        "simple_POS_BOW=bag_of_ngram(simple_POS_sentences,1)\n",
        "\n",
        "POS_BOW.head()"
      ],
      "execution_count": null,
      "outputs": [
        {
          "output_type": "execute_result",
          "data": {
            "text/html": [
              "<div>\n",
              "<style scoped>\n",
              "    .dataframe tbody tr th:only-of-type {\n",
              "        vertical-align: middle;\n",
              "    }\n",
              "\n",
              "    .dataframe tbody tr th {\n",
              "        vertical-align: top;\n",
              "    }\n",
              "\n",
              "    .dataframe thead th {\n",
              "        text-align: right;\n",
              "    }\n",
              "</style>\n",
              "<table border=\"1\" class=\"dataframe\">\n",
              "  <thead>\n",
              "    <tr style=\"text-align: right;\">\n",
              "      <th></th>\n",
              "      <th>$</th>\n",
              "      <th>''</th>\n",
              "      <th>(</th>\n",
              "      <th>)</th>\n",
              "      <th>,</th>\n",
              "      <th>.</th>\n",
              "      <th>:</th>\n",
              "      <th>``</th>\n",
              "      <th>cc</th>\n",
              "      <th>cd</th>\n",
              "      <th>dt</th>\n",
              "      <th>ex</th>\n",
              "      <th>fw</th>\n",
              "      <th>in</th>\n",
              "      <th>jj</th>\n",
              "      <th>jjr</th>\n",
              "      <th>jjs</th>\n",
              "      <th>md</th>\n",
              "      <th>nn</th>\n",
              "      <th>nnp</th>\n",
              "      <th>nns</th>\n",
              "      <th>pdt</th>\n",
              "      <th>po</th>\n",
              "      <th>prp</th>\n",
              "      <th>rb</th>\n",
              "      <th>rbr</th>\n",
              "      <th>rp</th>\n",
              "      <th>sym</th>\n",
              "      <th>to</th>\n",
              "      <th>uh</th>\n",
              "      <th>vb</th>\n",
              "      <th>vbd</th>\n",
              "      <th>vbg</th>\n",
              "      <th>vbn</th>\n",
              "      <th>vbp</th>\n",
              "      <th>vbz</th>\n",
              "      <th>wdt</th>\n",
              "      <th>wp</th>\n",
              "      <th>wrb</th>\n",
              "    </tr>\n",
              "  </thead>\n",
              "  <tbody>\n",
              "    <tr>\n",
              "      <th>0</th>\n",
              "      <td>0</td>\n",
              "      <td>0</td>\n",
              "      <td>0</td>\n",
              "      <td>0</td>\n",
              "      <td>0</td>\n",
              "      <td>0</td>\n",
              "      <td>0</td>\n",
              "      <td>0</td>\n",
              "      <td>0</td>\n",
              "      <td>0</td>\n",
              "      <td>1</td>\n",
              "      <td>0</td>\n",
              "      <td>0</td>\n",
              "      <td>2</td>\n",
              "      <td>0</td>\n",
              "      <td>0</td>\n",
              "      <td>0</td>\n",
              "      <td>1</td>\n",
              "      <td>3</td>\n",
              "      <td>0</td>\n",
              "      <td>0</td>\n",
              "      <td>0</td>\n",
              "      <td>0</td>\n",
              "      <td>1</td>\n",
              "      <td>2</td>\n",
              "      <td>0</td>\n",
              "      <td>0</td>\n",
              "      <td>0</td>\n",
              "      <td>0</td>\n",
              "      <td>0</td>\n",
              "      <td>1</td>\n",
              "      <td>1</td>\n",
              "      <td>0</td>\n",
              "      <td>0</td>\n",
              "      <td>0</td>\n",
              "      <td>1</td>\n",
              "      <td>0</td>\n",
              "      <td>0</td>\n",
              "      <td>0</td>\n",
              "    </tr>\n",
              "    <tr>\n",
              "      <th>1</th>\n",
              "      <td>1</td>\n",
              "      <td>0</td>\n",
              "      <td>0</td>\n",
              "      <td>0</td>\n",
              "      <td>3</td>\n",
              "      <td>0</td>\n",
              "      <td>0</td>\n",
              "      <td>0</td>\n",
              "      <td>2</td>\n",
              "      <td>0</td>\n",
              "      <td>3</td>\n",
              "      <td>0</td>\n",
              "      <td>0</td>\n",
              "      <td>3</td>\n",
              "      <td>1</td>\n",
              "      <td>0</td>\n",
              "      <td>0</td>\n",
              "      <td>0</td>\n",
              "      <td>5</td>\n",
              "      <td>0</td>\n",
              "      <td>3</td>\n",
              "      <td>0</td>\n",
              "      <td>0</td>\n",
              "      <td>1</td>\n",
              "      <td>0</td>\n",
              "      <td>0</td>\n",
              "      <td>0</td>\n",
              "      <td>0</td>\n",
              "      <td>2</td>\n",
              "      <td>0</td>\n",
              "      <td>2</td>\n",
              "      <td>0</td>\n",
              "      <td>0</td>\n",
              "      <td>0</td>\n",
              "      <td>1</td>\n",
              "      <td>0</td>\n",
              "      <td>0</td>\n",
              "      <td>0</td>\n",
              "      <td>0</td>\n",
              "    </tr>\n",
              "    <tr>\n",
              "      <th>2</th>\n",
              "      <td>0</td>\n",
              "      <td>0</td>\n",
              "      <td>0</td>\n",
              "      <td>0</td>\n",
              "      <td>3</td>\n",
              "      <td>0</td>\n",
              "      <td>0</td>\n",
              "      <td>0</td>\n",
              "      <td>2</td>\n",
              "      <td>0</td>\n",
              "      <td>4</td>\n",
              "      <td>0</td>\n",
              "      <td>0</td>\n",
              "      <td>3</td>\n",
              "      <td>2</td>\n",
              "      <td>0</td>\n",
              "      <td>0</td>\n",
              "      <td>0</td>\n",
              "      <td>7</td>\n",
              "      <td>0</td>\n",
              "      <td>0</td>\n",
              "      <td>0</td>\n",
              "      <td>1</td>\n",
              "      <td>2</td>\n",
              "      <td>2</td>\n",
              "      <td>0</td>\n",
              "      <td>0</td>\n",
              "      <td>0</td>\n",
              "      <td>0</td>\n",
              "      <td>0</td>\n",
              "      <td>0</td>\n",
              "      <td>0</td>\n",
              "      <td>0</td>\n",
              "      <td>1</td>\n",
              "      <td>2</td>\n",
              "      <td>1</td>\n",
              "      <td>0</td>\n",
              "      <td>1</td>\n",
              "      <td>1</td>\n",
              "    </tr>\n",
              "    <tr>\n",
              "      <th>3</th>\n",
              "      <td>0</td>\n",
              "      <td>0</td>\n",
              "      <td>0</td>\n",
              "      <td>0</td>\n",
              "      <td>1</td>\n",
              "      <td>0</td>\n",
              "      <td>0</td>\n",
              "      <td>0</td>\n",
              "      <td>0</td>\n",
              "      <td>0</td>\n",
              "      <td>1</td>\n",
              "      <td>0</td>\n",
              "      <td>0</td>\n",
              "      <td>4</td>\n",
              "      <td>1</td>\n",
              "      <td>1</td>\n",
              "      <td>0</td>\n",
              "      <td>1</td>\n",
              "      <td>6</td>\n",
              "      <td>0</td>\n",
              "      <td>0</td>\n",
              "      <td>0</td>\n",
              "      <td>0</td>\n",
              "      <td>1</td>\n",
              "      <td>1</td>\n",
              "      <td>0</td>\n",
              "      <td>0</td>\n",
              "      <td>0</td>\n",
              "      <td>1</td>\n",
              "      <td>0</td>\n",
              "      <td>1</td>\n",
              "      <td>0</td>\n",
              "      <td>0</td>\n",
              "      <td>0</td>\n",
              "      <td>1</td>\n",
              "      <td>0</td>\n",
              "      <td>0</td>\n",
              "      <td>0</td>\n",
              "      <td>0</td>\n",
              "    </tr>\n",
              "    <tr>\n",
              "      <th>4</th>\n",
              "      <td>0</td>\n",
              "      <td>0</td>\n",
              "      <td>0</td>\n",
              "      <td>0</td>\n",
              "      <td>2</td>\n",
              "      <td>0</td>\n",
              "      <td>0</td>\n",
              "      <td>0</td>\n",
              "      <td>0</td>\n",
              "      <td>0</td>\n",
              "      <td>3</td>\n",
              "      <td>0</td>\n",
              "      <td>0</td>\n",
              "      <td>5</td>\n",
              "      <td>3</td>\n",
              "      <td>0</td>\n",
              "      <td>0</td>\n",
              "      <td>1</td>\n",
              "      <td>2</td>\n",
              "      <td>0</td>\n",
              "      <td>3</td>\n",
              "      <td>0</td>\n",
              "      <td>0</td>\n",
              "      <td>0</td>\n",
              "      <td>1</td>\n",
              "      <td>0</td>\n",
              "      <td>0</td>\n",
              "      <td>0</td>\n",
              "      <td>0</td>\n",
              "      <td>0</td>\n",
              "      <td>1</td>\n",
              "      <td>0</td>\n",
              "      <td>0</td>\n",
              "      <td>0</td>\n",
              "      <td>1</td>\n",
              "      <td>0</td>\n",
              "      <td>1</td>\n",
              "      <td>0</td>\n",
              "      <td>0</td>\n",
              "    </tr>\n",
              "  </tbody>\n",
              "</table>\n",
              "</div>"
            ],
            "text/plain": [
              "   $  ''  (  )  ,  .  :  ``  cc  ...  vb  vbd  vbg  vbn  vbp  vbz  wdt  wp  wrb\n",
              "0  0   0  0  0  0  0  0   0   0  ...   1    1    0    0    0    1    0   0    0\n",
              "1  1   0  0  0  3  0  0   0   2  ...   2    0    0    0    1    0    0   0    0\n",
              "2  0   0  0  0  3  0  0   0   2  ...   0    0    0    1    2    1    0   1    1\n",
              "3  0   0  0  0  1  0  0   0   0  ...   1    0    0    0    1    0    0   0    0\n",
              "4  0   0  0  0  2  0  0   0   0  ...   1    0    0    0    1    0    1   0    0\n",
              "\n",
              "[5 rows x 39 columns]"
            ]
          },
          "metadata": {},
          "execution_count": 43
        }
      ]
    },
    {
      "cell_type": "markdown",
      "metadata": {
        "id": "ipFx3Q0a5UWv"
      },
      "source": [
        "**correlation score**"
      ]
    },
    {
      "cell_type": "code",
      "metadata": {
        "id": "NRbGkAau5aMO",
        "colab": {
          "base_uri": "https://localhost:8080/"
        },
        "outputId": "280ae455-6e5d-4ab8-afc7-bd9aa2c4c680"
      },
      "source": [
        "correlation_scores_POS_BOW=get_correlation_scores(POS_BOW[argumentative_sentences_not_both_map],argumentative_sentences_claim_presence_map)\n",
        "correlation_scores_simple_POS_BOW=get_correlation_scores(simple_POS_BOW[argumentative_sentences_not_both_map],argumentative_sentences_claim_presence_map)"
      ],
      "execution_count": null,
      "outputs": [
        {
          "output_type": "stream",
          "name": "stderr",
          "text": [
            "/usr/local/lib/python3.7/dist-packages/numpy/lib/function_base.py:2559: RuntimeWarning: invalid value encountered in true_divide\n",
            "  c /= stddev[:, None]\n",
            "/usr/local/lib/python3.7/dist-packages/numpy/lib/function_base.py:2560: RuntimeWarning: invalid value encountered in true_divide\n",
            "  c /= stddev[None, :]\n"
          ]
        }
      ]
    },
    {
      "cell_type": "code",
      "metadata": {
        "colab": {
          "base_uri": "https://localhost:8080/"
        },
        "id": "yMm6b4HC5Q74",
        "outputId": "3a766809-dd46-47a6-fe75-3bb3f53ef011"
      },
      "source": [
        "correlation_scores_POS_BOW"
      ],
      "execution_count": null,
      "outputs": [
        {
          "output_type": "execute_result",
          "data": {
            "text/plain": [
              "[(nan, 'uh'),\n",
              " (0.1627164183612655, 'vbd'),\n",
              " (0.08066738538274038, 'wrb'),\n",
              " (0.07752781191070511, 'prp'),\n",
              " (0.07702751226523587, 'cc'),\n",
              " (0.06459981478645872, 'jj'),\n",
              " (0.06420548876634895, 'vbg'),\n",
              " (0.05767790421447239, 'md'),\n",
              " (0.0554422414242981, 'vbz'),\n",
              " (0.05070937483589074, 'rbr'),\n",
              " (0.04800231177540559, 'wp'),\n",
              " (0.04177812168966306, ','),\n",
              " (0.04081205506263534, 'vbp'),\n",
              " (0.035943194078793095, 'in'),\n",
              " (0.033159002865081416, 'po'),\n",
              " (0.03206699178537513, '``'),\n",
              " (0.03191883551558384, 'nns'),\n",
              " (0.03112284286549247, '.'),\n",
              " (0.027107167040492274, ':'),\n",
              " (0.02586650519429012, 'wdt'),\n",
              " (0.023581240533408807, \"''\"),\n",
              " (0.02171890436688546, 'vbn'),\n",
              " (0.020184397367385223, 'rb'),\n",
              " (0.019014831462505793, 'nn'),\n",
              " (0.018327055244040467, 'jjr'),\n",
              " (0.01781267486194358, 'nnp'),\n",
              " (0.017275866770584306, 'fw'),\n",
              " (0.011265021282080826, 'cd'),\n",
              " (0.010782774738382428, 'rp'),\n",
              " (0.010486043388044888, '('),\n",
              " (0.010486043388044888, ')'),\n",
              " (0.010403957167678708, 'dt'),\n",
              " (0.01036652303225815, 'sym'),\n",
              " (0.006684088202039213, 'vb'),\n",
              " (0.004706907780253431, '$'),\n",
              " (0.0040690890820312235, 'ex'),\n",
              " (0.002385905624786351, 'to'),\n",
              " (0.002172809989543814, 'pdt'),\n",
              " (0.0010045422931274479, 'jjs')]"
            ]
          },
          "metadata": {},
          "execution_count": 45
        }
      ]
    },
    {
      "cell_type": "code",
      "metadata": {
        "colab": {
          "base_uri": "https://localhost:8080/"
        },
        "id": "ANq791by5o4Y",
        "outputId": "7709b64d-0e85-4786-ea03-5f7f42c4d7b9"
      },
      "source": [
        "correlation_scores_simple_POS_BOW"
      ],
      "execution_count": null,
      "outputs": [
        {
          "output_type": "execute_result",
          "data": {
            "text/plain": [
              "[(0.08734695470569188, 'pron'),\n",
              " (0.07702751226523587, 'conj'),\n",
              " (0.06888706937684323, 'adj'),\n",
              " (0.035943194078793095, 'adp'),\n",
              " (0.035377094632028774, '.'),\n",
              " (0.019537569876697122, 'x'),\n",
              " (0.01782382511279012, 'verb'),\n",
              " (0.01662755962156273, 'det'),\n",
              " (0.011265021282080826, 'num'),\n",
              " (0.010996793858056042, 'noun'),\n",
              " (0.0092237038635813, 'adv'),\n",
              " (0.002990487510746881, 'prt')]"
            ]
          },
          "metadata": {},
          "execution_count": 46
        }
      ]
    },
    {
      "cell_type": "code",
      "metadata": {
        "id": "MMQ0oI4E2Wox"
      },
      "source": [
        "# Get the tag sorted for their correlation scores.\n",
        "most_correlated_POS_BOW=[tag[1] for tag in correlation_scores_POS_BOW]\n",
        "most_correlated_simple_POS_BOW=[tag[1] for tag in correlation_scores_simple_POS_BOW]"
      ],
      "execution_count": null,
      "outputs": []
    },
    {
      "cell_type": "code",
      "metadata": {
        "id": "kUo2yVHBzhbn"
      },
      "source": [
        "# Save the POS into text files.\n",
        "\n",
        "f = open(\"claim_premise_POS.txt\", \"a\")\n",
        "for pos in most_correlated_POS_BOW:\n",
        "  f.write(\"{}-\".format(pos))\n",
        "f.close()\n",
        "\n",
        "f = open(\"claim_premise_simple_POS.txt\", \"a\")\n",
        "for pos in most_correlated_simple_POS_BOW:\n",
        "  f.write(\"{}-\".format(pos))\n",
        "f.close()"
      ],
      "execution_count": null,
      "outputs": []
    },
    {
      "cell_type": "code",
      "metadata": {
        "id": "I1aSSqeyHJrB"
      },
      "source": [
        "# Export the datasets.\n",
        "POS_BOW[argumentative_sentences_not_both_map].to_csv('claim_premise_POS.csv',index=False)\n",
        "simple_POS_BOW[argumentative_sentences_not_both_map].to_csv('claim_premise_simple_POS.csv',index=False)"
      ],
      "execution_count": null,
      "outputs": []
    },
    {
      "cell_type": "markdown",
      "metadata": {
        "id": "x2MM5O-6R1-_"
      },
      "source": [
        "# **POS Bigrams**"
      ]
    },
    {
      "cell_type": "code",
      "metadata": {
        "id": "low-SYYxsA0T",
        "colab": {
          "base_uri": "https://localhost:8080/",
          "height": 269
        },
        "outputId": "3fa74838-4f18-4a78-8c62-10f01d0d66e5"
      },
      "source": [
        "# Get the BOW of the bigrams of the POS tag.\n",
        "\n",
        "POS_bigrams=bag_of_ngram(POS_sentences,2)\n",
        "simple_POS_bigrams=bag_of_ngram(simple_POS_sentences,2)\n",
        "\n",
        "POS_bigrams.head()"
      ],
      "execution_count": null,
      "outputs": [
        {
          "output_type": "execute_result",
          "data": {
            "text/html": [
              "<div>\n",
              "<style scoped>\n",
              "    .dataframe tbody tr th:only-of-type {\n",
              "        vertical-align: middle;\n",
              "    }\n",
              "\n",
              "    .dataframe tbody tr th {\n",
              "        vertical-align: top;\n",
              "    }\n",
              "\n",
              "    .dataframe thead th {\n",
              "        text-align: right;\n",
              "    }\n",
              "</style>\n",
              "<table border=\"1\" class=\"dataframe\">\n",
              "  <thead>\n",
              "    <tr style=\"text-align: right;\">\n",
              "      <th></th>\n",
              "      <th>$ cc</th>\n",
              "      <th>$ cd</th>\n",
              "      <th>$ dt</th>\n",
              "      <th>$ in</th>\n",
              "      <th>$ jj</th>\n",
              "      <th>$ jjr</th>\n",
              "      <th>$ jjs</th>\n",
              "      <th>$ nn</th>\n",
              "      <th>$ nns</th>\n",
              "      <th>$ rb</th>\n",
              "      <th>$ vbg</th>\n",
              "      <th>$ vbn</th>\n",
              "      <th>'' )</th>\n",
              "      <th>'' ,</th>\n",
              "      <th>'' dt</th>\n",
              "      <th>'' in</th>\n",
              "      <th>'' jj</th>\n",
              "      <th>'' jjr</th>\n",
              "      <th>'' nn</th>\n",
              "      <th>'' nns</th>\n",
              "      <th>'' rb</th>\n",
              "      <th>'' to</th>\n",
              "      <th>'' vbd</th>\n",
              "      <th>'' vbn</th>\n",
              "      <th>'' vbp</th>\n",
              "      <th>'' vbz</th>\n",
              "      <th>'' wp</th>\n",
              "      <th>'' wrb</th>\n",
              "      <th>( dt</th>\n",
              "      <th>( in</th>\n",
              "      <th>( jj</th>\n",
              "      <th>( nn</th>\n",
              "      <th>( nns</th>\n",
              "      <th>( prp</th>\n",
              "      <th>( vb</th>\n",
              "      <th>) ,</th>\n",
              "      <th>) in</th>\n",
              "      <th>) nns</th>\n",
              "      <th>) rb</th>\n",
              "      <th>) to</th>\n",
              "      <th>...</th>\n",
              "      <th>wdt vbp</th>\n",
              "      <th>wdt vbz</th>\n",
              "      <th>wdt wrb</th>\n",
              "      <th>wp $</th>\n",
              "      <th>wp ,</th>\n",
              "      <th>wp dt</th>\n",
              "      <th>wp in</th>\n",
              "      <th>wp jj</th>\n",
              "      <th>wp md</th>\n",
              "      <th>wp nn</th>\n",
              "      <th>wp nnp</th>\n",
              "      <th>wp nns</th>\n",
              "      <th>wp prp</th>\n",
              "      <th>wp rb</th>\n",
              "      <th>wp to</th>\n",
              "      <th>wp vbd</th>\n",
              "      <th>wp vbp</th>\n",
              "      <th>wp vbz</th>\n",
              "      <th>wrb ,</th>\n",
              "      <th>wrb cc</th>\n",
              "      <th>wrb cd</th>\n",
              "      <th>wrb dt</th>\n",
              "      <th>wrb ex</th>\n",
              "      <th>wrb in</th>\n",
              "      <th>wrb jj</th>\n",
              "      <th>wrb jjr</th>\n",
              "      <th>wrb jjs</th>\n",
              "      <th>wrb md</th>\n",
              "      <th>wrb nn</th>\n",
              "      <th>wrb nns</th>\n",
              "      <th>wrb pdt</th>\n",
              "      <th>wrb prp</th>\n",
              "      <th>wrb rb</th>\n",
              "      <th>wrb to</th>\n",
              "      <th>wrb vb</th>\n",
              "      <th>wrb vbd</th>\n",
              "      <th>wrb vbg</th>\n",
              "      <th>wrb vbn</th>\n",
              "      <th>wrb vbp</th>\n",
              "      <th>wrb vbz</th>\n",
              "    </tr>\n",
              "  </thead>\n",
              "  <tbody>\n",
              "    <tr>\n",
              "      <th>0</th>\n",
              "      <td>0</td>\n",
              "      <td>0</td>\n",
              "      <td>0</td>\n",
              "      <td>0</td>\n",
              "      <td>0</td>\n",
              "      <td>0</td>\n",
              "      <td>0</td>\n",
              "      <td>0</td>\n",
              "      <td>0</td>\n",
              "      <td>0</td>\n",
              "      <td>0</td>\n",
              "      <td>0</td>\n",
              "      <td>0</td>\n",
              "      <td>0</td>\n",
              "      <td>0</td>\n",
              "      <td>0</td>\n",
              "      <td>0</td>\n",
              "      <td>0</td>\n",
              "      <td>0</td>\n",
              "      <td>0</td>\n",
              "      <td>0</td>\n",
              "      <td>0</td>\n",
              "      <td>0</td>\n",
              "      <td>0</td>\n",
              "      <td>0</td>\n",
              "      <td>0</td>\n",
              "      <td>0</td>\n",
              "      <td>0</td>\n",
              "      <td>0</td>\n",
              "      <td>0</td>\n",
              "      <td>0</td>\n",
              "      <td>0</td>\n",
              "      <td>0</td>\n",
              "      <td>0</td>\n",
              "      <td>0</td>\n",
              "      <td>0</td>\n",
              "      <td>0</td>\n",
              "      <td>0</td>\n",
              "      <td>0</td>\n",
              "      <td>0</td>\n",
              "      <td>...</td>\n",
              "      <td>0</td>\n",
              "      <td>0</td>\n",
              "      <td>0</td>\n",
              "      <td>0</td>\n",
              "      <td>0</td>\n",
              "      <td>0</td>\n",
              "      <td>0</td>\n",
              "      <td>0</td>\n",
              "      <td>0</td>\n",
              "      <td>0</td>\n",
              "      <td>0</td>\n",
              "      <td>0</td>\n",
              "      <td>0</td>\n",
              "      <td>0</td>\n",
              "      <td>0</td>\n",
              "      <td>0</td>\n",
              "      <td>0</td>\n",
              "      <td>0</td>\n",
              "      <td>0</td>\n",
              "      <td>0</td>\n",
              "      <td>0</td>\n",
              "      <td>0</td>\n",
              "      <td>0</td>\n",
              "      <td>0</td>\n",
              "      <td>0</td>\n",
              "      <td>0</td>\n",
              "      <td>0</td>\n",
              "      <td>0</td>\n",
              "      <td>0</td>\n",
              "      <td>0</td>\n",
              "      <td>0</td>\n",
              "      <td>0</td>\n",
              "      <td>0</td>\n",
              "      <td>0</td>\n",
              "      <td>0</td>\n",
              "      <td>0</td>\n",
              "      <td>0</td>\n",
              "      <td>0</td>\n",
              "      <td>0</td>\n",
              "      <td>0</td>\n",
              "    </tr>\n",
              "    <tr>\n",
              "      <th>1</th>\n",
              "      <td>0</td>\n",
              "      <td>0</td>\n",
              "      <td>0</td>\n",
              "      <td>0</td>\n",
              "      <td>0</td>\n",
              "      <td>0</td>\n",
              "      <td>0</td>\n",
              "      <td>0</td>\n",
              "      <td>1</td>\n",
              "      <td>0</td>\n",
              "      <td>0</td>\n",
              "      <td>0</td>\n",
              "      <td>0</td>\n",
              "      <td>0</td>\n",
              "      <td>0</td>\n",
              "      <td>0</td>\n",
              "      <td>0</td>\n",
              "      <td>0</td>\n",
              "      <td>0</td>\n",
              "      <td>0</td>\n",
              "      <td>0</td>\n",
              "      <td>0</td>\n",
              "      <td>0</td>\n",
              "      <td>0</td>\n",
              "      <td>0</td>\n",
              "      <td>0</td>\n",
              "      <td>0</td>\n",
              "      <td>0</td>\n",
              "      <td>0</td>\n",
              "      <td>0</td>\n",
              "      <td>0</td>\n",
              "      <td>0</td>\n",
              "      <td>0</td>\n",
              "      <td>0</td>\n",
              "      <td>0</td>\n",
              "      <td>0</td>\n",
              "      <td>0</td>\n",
              "      <td>0</td>\n",
              "      <td>0</td>\n",
              "      <td>0</td>\n",
              "      <td>...</td>\n",
              "      <td>0</td>\n",
              "      <td>0</td>\n",
              "      <td>0</td>\n",
              "      <td>0</td>\n",
              "      <td>0</td>\n",
              "      <td>0</td>\n",
              "      <td>0</td>\n",
              "      <td>0</td>\n",
              "      <td>0</td>\n",
              "      <td>0</td>\n",
              "      <td>0</td>\n",
              "      <td>0</td>\n",
              "      <td>0</td>\n",
              "      <td>0</td>\n",
              "      <td>0</td>\n",
              "      <td>0</td>\n",
              "      <td>0</td>\n",
              "      <td>0</td>\n",
              "      <td>0</td>\n",
              "      <td>0</td>\n",
              "      <td>0</td>\n",
              "      <td>0</td>\n",
              "      <td>0</td>\n",
              "      <td>0</td>\n",
              "      <td>0</td>\n",
              "      <td>0</td>\n",
              "      <td>0</td>\n",
              "      <td>0</td>\n",
              "      <td>0</td>\n",
              "      <td>0</td>\n",
              "      <td>0</td>\n",
              "      <td>0</td>\n",
              "      <td>0</td>\n",
              "      <td>0</td>\n",
              "      <td>0</td>\n",
              "      <td>0</td>\n",
              "      <td>0</td>\n",
              "      <td>0</td>\n",
              "      <td>0</td>\n",
              "      <td>0</td>\n",
              "    </tr>\n",
              "    <tr>\n",
              "      <th>2</th>\n",
              "      <td>0</td>\n",
              "      <td>0</td>\n",
              "      <td>0</td>\n",
              "      <td>0</td>\n",
              "      <td>0</td>\n",
              "      <td>0</td>\n",
              "      <td>0</td>\n",
              "      <td>0</td>\n",
              "      <td>0</td>\n",
              "      <td>0</td>\n",
              "      <td>0</td>\n",
              "      <td>0</td>\n",
              "      <td>0</td>\n",
              "      <td>0</td>\n",
              "      <td>0</td>\n",
              "      <td>0</td>\n",
              "      <td>0</td>\n",
              "      <td>0</td>\n",
              "      <td>0</td>\n",
              "      <td>0</td>\n",
              "      <td>0</td>\n",
              "      <td>0</td>\n",
              "      <td>0</td>\n",
              "      <td>0</td>\n",
              "      <td>0</td>\n",
              "      <td>0</td>\n",
              "      <td>0</td>\n",
              "      <td>0</td>\n",
              "      <td>0</td>\n",
              "      <td>0</td>\n",
              "      <td>0</td>\n",
              "      <td>0</td>\n",
              "      <td>0</td>\n",
              "      <td>0</td>\n",
              "      <td>0</td>\n",
              "      <td>0</td>\n",
              "      <td>0</td>\n",
              "      <td>0</td>\n",
              "      <td>0</td>\n",
              "      <td>0</td>\n",
              "      <td>...</td>\n",
              "      <td>0</td>\n",
              "      <td>0</td>\n",
              "      <td>0</td>\n",
              "      <td>0</td>\n",
              "      <td>0</td>\n",
              "      <td>0</td>\n",
              "      <td>0</td>\n",
              "      <td>0</td>\n",
              "      <td>0</td>\n",
              "      <td>0</td>\n",
              "      <td>0</td>\n",
              "      <td>0</td>\n",
              "      <td>1</td>\n",
              "      <td>0</td>\n",
              "      <td>0</td>\n",
              "      <td>0</td>\n",
              "      <td>0</td>\n",
              "      <td>0</td>\n",
              "      <td>0</td>\n",
              "      <td>0</td>\n",
              "      <td>0</td>\n",
              "      <td>0</td>\n",
              "      <td>0</td>\n",
              "      <td>0</td>\n",
              "      <td>0</td>\n",
              "      <td>0</td>\n",
              "      <td>0</td>\n",
              "      <td>0</td>\n",
              "      <td>0</td>\n",
              "      <td>0</td>\n",
              "      <td>0</td>\n",
              "      <td>1</td>\n",
              "      <td>0</td>\n",
              "      <td>0</td>\n",
              "      <td>0</td>\n",
              "      <td>0</td>\n",
              "      <td>0</td>\n",
              "      <td>0</td>\n",
              "      <td>0</td>\n",
              "      <td>0</td>\n",
              "    </tr>\n",
              "    <tr>\n",
              "      <th>3</th>\n",
              "      <td>0</td>\n",
              "      <td>0</td>\n",
              "      <td>0</td>\n",
              "      <td>0</td>\n",
              "      <td>0</td>\n",
              "      <td>0</td>\n",
              "      <td>0</td>\n",
              "      <td>0</td>\n",
              "      <td>0</td>\n",
              "      <td>0</td>\n",
              "      <td>0</td>\n",
              "      <td>0</td>\n",
              "      <td>0</td>\n",
              "      <td>0</td>\n",
              "      <td>0</td>\n",
              "      <td>0</td>\n",
              "      <td>0</td>\n",
              "      <td>0</td>\n",
              "      <td>0</td>\n",
              "      <td>0</td>\n",
              "      <td>0</td>\n",
              "      <td>0</td>\n",
              "      <td>0</td>\n",
              "      <td>0</td>\n",
              "      <td>0</td>\n",
              "      <td>0</td>\n",
              "      <td>0</td>\n",
              "      <td>0</td>\n",
              "      <td>0</td>\n",
              "      <td>0</td>\n",
              "      <td>0</td>\n",
              "      <td>0</td>\n",
              "      <td>0</td>\n",
              "      <td>0</td>\n",
              "      <td>0</td>\n",
              "      <td>0</td>\n",
              "      <td>0</td>\n",
              "      <td>0</td>\n",
              "      <td>0</td>\n",
              "      <td>0</td>\n",
              "      <td>...</td>\n",
              "      <td>0</td>\n",
              "      <td>0</td>\n",
              "      <td>0</td>\n",
              "      <td>0</td>\n",
              "      <td>0</td>\n",
              "      <td>0</td>\n",
              "      <td>0</td>\n",
              "      <td>0</td>\n",
              "      <td>0</td>\n",
              "      <td>0</td>\n",
              "      <td>0</td>\n",
              "      <td>0</td>\n",
              "      <td>0</td>\n",
              "      <td>0</td>\n",
              "      <td>0</td>\n",
              "      <td>0</td>\n",
              "      <td>0</td>\n",
              "      <td>0</td>\n",
              "      <td>0</td>\n",
              "      <td>0</td>\n",
              "      <td>0</td>\n",
              "      <td>0</td>\n",
              "      <td>0</td>\n",
              "      <td>0</td>\n",
              "      <td>0</td>\n",
              "      <td>0</td>\n",
              "      <td>0</td>\n",
              "      <td>0</td>\n",
              "      <td>0</td>\n",
              "      <td>0</td>\n",
              "      <td>0</td>\n",
              "      <td>0</td>\n",
              "      <td>0</td>\n",
              "      <td>0</td>\n",
              "      <td>0</td>\n",
              "      <td>0</td>\n",
              "      <td>0</td>\n",
              "      <td>0</td>\n",
              "      <td>0</td>\n",
              "      <td>0</td>\n",
              "    </tr>\n",
              "    <tr>\n",
              "      <th>4</th>\n",
              "      <td>0</td>\n",
              "      <td>0</td>\n",
              "      <td>0</td>\n",
              "      <td>0</td>\n",
              "      <td>0</td>\n",
              "      <td>0</td>\n",
              "      <td>0</td>\n",
              "      <td>0</td>\n",
              "      <td>0</td>\n",
              "      <td>0</td>\n",
              "      <td>0</td>\n",
              "      <td>0</td>\n",
              "      <td>0</td>\n",
              "      <td>0</td>\n",
              "      <td>0</td>\n",
              "      <td>0</td>\n",
              "      <td>0</td>\n",
              "      <td>0</td>\n",
              "      <td>0</td>\n",
              "      <td>0</td>\n",
              "      <td>0</td>\n",
              "      <td>0</td>\n",
              "      <td>0</td>\n",
              "      <td>0</td>\n",
              "      <td>0</td>\n",
              "      <td>0</td>\n",
              "      <td>0</td>\n",
              "      <td>0</td>\n",
              "      <td>0</td>\n",
              "      <td>0</td>\n",
              "      <td>0</td>\n",
              "      <td>0</td>\n",
              "      <td>0</td>\n",
              "      <td>0</td>\n",
              "      <td>0</td>\n",
              "      <td>0</td>\n",
              "      <td>0</td>\n",
              "      <td>0</td>\n",
              "      <td>0</td>\n",
              "      <td>0</td>\n",
              "      <td>...</td>\n",
              "      <td>1</td>\n",
              "      <td>0</td>\n",
              "      <td>0</td>\n",
              "      <td>0</td>\n",
              "      <td>0</td>\n",
              "      <td>0</td>\n",
              "      <td>0</td>\n",
              "      <td>0</td>\n",
              "      <td>0</td>\n",
              "      <td>0</td>\n",
              "      <td>0</td>\n",
              "      <td>0</td>\n",
              "      <td>0</td>\n",
              "      <td>0</td>\n",
              "      <td>0</td>\n",
              "      <td>0</td>\n",
              "      <td>0</td>\n",
              "      <td>0</td>\n",
              "      <td>0</td>\n",
              "      <td>0</td>\n",
              "      <td>0</td>\n",
              "      <td>0</td>\n",
              "      <td>0</td>\n",
              "      <td>0</td>\n",
              "      <td>0</td>\n",
              "      <td>0</td>\n",
              "      <td>0</td>\n",
              "      <td>0</td>\n",
              "      <td>0</td>\n",
              "      <td>0</td>\n",
              "      <td>0</td>\n",
              "      <td>0</td>\n",
              "      <td>0</td>\n",
              "      <td>0</td>\n",
              "      <td>0</td>\n",
              "      <td>0</td>\n",
              "      <td>0</td>\n",
              "      <td>0</td>\n",
              "      <td>0</td>\n",
              "      <td>0</td>\n",
              "    </tr>\n",
              "  </tbody>\n",
              "</table>\n",
              "<p>5 rows × 757 columns</p>\n",
              "</div>"
            ],
            "text/plain": [
              "   $ cc  $ cd  $ dt  $ in  $ jj  ...  wrb vbd  wrb vbg  wrb vbn  wrb vbp  wrb vbz\n",
              "0     0     0     0     0     0  ...        0        0        0        0        0\n",
              "1     0     0     0     0     0  ...        0        0        0        0        0\n",
              "2     0     0     0     0     0  ...        0        0        0        0        0\n",
              "3     0     0     0     0     0  ...        0        0        0        0        0\n",
              "4     0     0     0     0     0  ...        0        0        0        0        0\n",
              "\n",
              "[5 rows x 757 columns]"
            ]
          },
          "metadata": {},
          "execution_count": 50
        }
      ]
    },
    {
      "cell_type": "markdown",
      "metadata": {
        "id": "UIIKso5eLov0"
      },
      "source": [
        "**correlation score**"
      ]
    },
    {
      "cell_type": "code",
      "metadata": {
        "colab": {
          "base_uri": "https://localhost:8080/"
        },
        "id": "tVM0EgQT66Pe",
        "outputId": "5d91d1e2-a668-4551-8710-b3549295bc52"
      },
      "source": [
        "# Compute the correlation scores considering only the train test sentences.\n",
        "train_correlation_scores_POS_bigram=get_correlation_scores(POS_bigrams.iloc[sentence_id_train_set],train_argumentative_sentences_claim_presence_map)\n",
        "train_correlation_scores_simple_POS_bigram=get_correlation_scores(simple_POS_bigrams.iloc[sentence_id_train_set],train_argumentative_sentences_claim_presence_map)"
      ],
      "execution_count": null,
      "outputs": [
        {
          "output_type": "stream",
          "name": "stderr",
          "text": [
            "/usr/local/lib/python3.7/dist-packages/numpy/lib/function_base.py:2559: RuntimeWarning: invalid value encountered in true_divide\n",
            "  c /= stddev[:, None]\n",
            "/usr/local/lib/python3.7/dist-packages/numpy/lib/function_base.py:2560: RuntimeWarning: invalid value encountered in true_divide\n",
            "  c /= stddev[None, :]\n"
          ]
        }
      ]
    },
    {
      "cell_type": "code",
      "metadata": {
        "id": "tLGHfOIKG3SH"
      },
      "source": [
        "train_correlation_scores_POS_bigram=[correlation_score for correlation_score in train_correlation_scores_POS_bigram if not math.isnan(correlation_score[0])]"
      ],
      "execution_count": null,
      "outputs": []
    },
    {
      "cell_type": "code",
      "metadata": {
        "colab": {
          "base_uri": "https://localhost:8080/"
        },
        "id": "eNa0exDBG5qt",
        "outputId": "b5ec6aba-490c-4e5a-9978-4a059df4b37e"
      },
      "source": [
        "train_correlation_scores_POS_bigram[0:10]"
      ],
      "execution_count": null,
      "outputs": [
        {
          "output_type": "execute_result",
          "data": {
            "text/plain": [
              "[(0.04067139912627288, 'nns vbz'),\n",
              " (0.03299969036622019, 'rb rbr'),\n",
              " (0.027665852168231423, 'rb nn'),\n",
              " (0.02684051448629571, 'nns vbp'),\n",
              " (0.026356591639989727, 'rbr nn'),\n",
              " (0.02524612640945538, 'rbr ,'),\n",
              " (0.02506621406287807, 'nns vbn'),\n",
              " (0.02505211013357114, 'nns rb'),\n",
              " (0.024356829343265825, 'po nns'),\n",
              " (0.024356829343265825, 'rb md')]"
            ]
          },
          "metadata": {},
          "execution_count": 53
        }
      ]
    },
    {
      "cell_type": "code",
      "metadata": {
        "id": "FdcH1TPYG7pe"
      },
      "source": [
        "most_correlated_bigram_POS=[bigram[1] for bigram in train_correlation_scores_POS_bigram[0:50]]"
      ],
      "execution_count": null,
      "outputs": []
    },
    {
      "cell_type": "code",
      "metadata": {
        "id": "te-DieCiG8_0"
      },
      "source": [
        "# Save the most correlated bigrams into a text file.\n",
        "\n",
        "f = open(\"claim_premise_50_bigram_POS.txt\", \"a\")\n",
        "for bigram in most_correlated_bigram_POS:\n",
        "  f.write(\"{}-\".format(bigram))\n",
        "f.close()"
      ],
      "execution_count": null,
      "outputs": []
    },
    {
      "cell_type": "code",
      "metadata": {
        "id": "SNCyXnQ6HCDb"
      },
      "source": [
        "# Export the bag of bigrams of the POS tag for the 50 bigrams most related to \n",
        "# the argumentative label (correlation computed considering only the train test).\n",
        "\n",
        "POS_bigrams[argumentative_sentences_not_both_map][most_correlated_bigram_POS].to_csv('claim_premise_bigram_POS.csv',index=False)"
      ],
      "execution_count": null,
      "outputs": []
    },
    {
      "cell_type": "code",
      "metadata": {
        "id": "q0fqhvARGxcZ"
      },
      "source": [
        "train_correlation_scores_simple_POS_bigram=[correlation_score for correlation_score in train_correlation_scores_simple_POS_bigram if not math.isnan(correlation_score[0])]"
      ],
      "execution_count": null,
      "outputs": []
    },
    {
      "cell_type": "code",
      "metadata": {
        "colab": {
          "base_uri": "https://localhost:8080/"
        },
        "id": "8Iaj11DQHOds",
        "outputId": "ac60122a-af5c-4b1b-ba6b-26789405aa6c"
      },
      "source": [
        "train_correlation_scores_simple_POS_bigram[0:10]"
      ],
      "execution_count": null,
      "outputs": [
        {
          "output_type": "execute_result",
          "data": {
            "text/plain": [
              "[(0.04876791802432133, 'num conj'),\n",
              " (0.03411695108621782, 'noun verb'),\n",
              " (0.02792272889077567, 'conj adp'),\n",
              " (0.027394784376554664, 'adp noun'),\n",
              " (0.026953958255636592, 'adv noun'),\n",
              " (0.02646087663158184, '. det'),\n",
              " (0.02428268980100567, '. adp'),\n",
              " (0.024066084742633605, 'noun adp'),\n",
              " (0.022307189480601713, '. num'),\n",
              " (0.022294390912993196, '. noun')]"
            ]
          },
          "metadata": {},
          "execution_count": 58
        }
      ]
    },
    {
      "cell_type": "code",
      "metadata": {
        "id": "g7bjKfN4HPoP"
      },
      "source": [
        "most_correlated_bigram_simple_POS=[bigram[1] for bigram in train_correlation_scores_simple_POS_bigram[0:50]]"
      ],
      "execution_count": null,
      "outputs": []
    },
    {
      "cell_type": "code",
      "metadata": {
        "id": "c9l36fOMHQiW"
      },
      "source": [
        "# Save the most correlated bigrams into a text file.\n",
        "\n",
        "f = open(\"claim_premise_50_bigram_simple_POS.txt\", \"a\")\n",
        "for bigram in most_correlated_bigram_simple_POS:\n",
        "  f.write(\"{}-\".format(bigram))\n",
        "f.close()"
      ],
      "execution_count": null,
      "outputs": []
    },
    {
      "cell_type": "code",
      "metadata": {
        "id": "KEW22lbaHRyx"
      },
      "source": [
        "# Export the bag of bigrams of the POS tag for the 50 bigrams most related to \n",
        "# the argumentative label (correlation computed considering only the train test).\n",
        "\n",
        "simple_POS_bigrams[argumentative_sentences_not_both_map][most_correlated_bigram_simple_POS].to_csv('claim_premise_bigram_simple_POS.csv',index=False)"
      ],
      "execution_count": null,
      "outputs": []
    },
    {
      "cell_type": "code",
      "metadata": {
        "id": "i16tFtWDBVNZ",
        "colab": {
          "base_uri": "https://localhost:8080/"
        },
        "outputId": "efc6c287-1695-4c36-8912-ae8923f7a94c"
      },
      "source": [
        "# Compute the correlation scores over all the data (train and test set) for the words/bigrams selected.\n",
        "correlation_scores_POS_bigram=get_correlation_scores(POS_bigrams[argumentative_sentences_not_both_map][most_correlated_bigram_POS],argumentative_sentences_claim_presence_map)\n",
        "correlation_scores_simple_POS_bigram=get_correlation_scores(simple_POS_bigrams[argumentative_sentences_not_both_map][most_correlated_bigram_simple_POS],argumentative_sentences_claim_presence_map)"
      ],
      "execution_count": null,
      "outputs": [
        {
          "output_type": "stream",
          "name": "stderr",
          "text": [
            "/usr/local/lib/python3.7/dist-packages/numpy/lib/function_base.py:2559: RuntimeWarning: invalid value encountered in true_divide\n",
            "  c /= stddev[:, None]\n",
            "/usr/local/lib/python3.7/dist-packages/numpy/lib/function_base.py:2560: RuntimeWarning: invalid value encountered in true_divide\n",
            "  c /= stddev[None, :]\n"
          ]
        }
      ]
    },
    {
      "cell_type": "code",
      "metadata": {
        "colab": {
          "base_uri": "https://localhost:8080/"
        },
        "id": "IsYXyABj9ORd",
        "outputId": "e4e0e9bb-1f9f-4553-bd36-f8c5cb5e333d"
      },
      "source": [
        "correlation_scores_POS_bigram"
      ],
      "execution_count": null,
      "outputs": [
        {
          "output_type": "execute_result",
          "data": {
            "text/plain": [
              "[(0.05685236624418132, 'nns vbz'),\n",
              " (0.056717425905694174, 'rb vbd'),\n",
              " (0.035691170159723215, 'po nn'),\n",
              " (0.02929660064440947, 'rb md'),\n",
              " (0.028468612123670828, 'rb nn'),\n",
              " (nan, \"'' )\"),\n",
              " (0.02885748351327915, 'rb vb'),\n",
              " (0.025963525942276657, 'prp to'),\n",
              " (0.0253641397254839, 'nns wp'),\n",
              " (0.02518909705523086, 'nns to'),\n",
              " (0.023797667126148225, 'nns vb'),\n",
              " (0.021863895843906637, 'po ,'),\n",
              " (0.02082209914915557, 'rb rbr'),\n",
              " (0.020738860426695906, 'rb .'),\n",
              " (0.020738860426695906, \"'' nn\"),\n",
              " (0.018027351721398768, \"po ''\"),\n",
              " (0.018027351721398768, 'po vbp'),\n",
              " (0.018027351721398768, 'rbr jjr'),\n",
              " (0.018027351721398768, 'prp wp'),\n",
              " (0.018027351721398768, \"'' jjr\"),\n",
              " (0.018027351721398768, \"'' wp\"),\n",
              " (0.017958701042596243, 'rb pdt'),\n",
              " (0.017745633732982682, 'nns rb'),\n",
              " (0.015440675453366748, '$ nn'),\n",
              " (0.014833850298234563, '$ dt'),\n",
              " (0.014661847540934393, 'rb wp'),\n",
              " (0.014661847540934393, 'po rb'),\n",
              " (0.012179427078375934, 'rbr ,'),\n",
              " (0.01212303303952713, 'prp nns'),\n",
              " (0.01036652303225815, \"'' vbd\"),\n",
              " (0.01036652303225815, 'po vbn'),\n",
              " (0.01036652303225815, '$ in'),\n",
              " (0.01036652303225815, '( dt'),\n",
              " (0.008280834535839653, '$ jjs'),\n",
              " (0.006537941669828392, 'prp wdt'),\n",
              " (0.005849951123228881, 'prp vbg'),\n",
              " (0.0054175301558621455, \"'' dt\"),\n",
              " (0.0054175301558621455, \"'' nns\"),\n",
              " (0.0054175301558621455, 'po cc'),\n",
              " (0.0054175301558621455, '$ rb'),\n",
              " (0.0054175301558621455, '$ cd'),\n",
              " (0.004496838851864654, 'rb vbz'),\n",
              " (0.003039409564225371, 'nns wrb'),\n",
              " (0.0030317037716058137, 'nns vbn'),\n",
              " (0.0022168321694055965, '$ vbg'),\n",
              " (0.002210002479029534, 'nns vbg'),\n",
              " (0.0019069662088066971, 'po nns'),\n",
              " (0.00156242537218084, '$ vbn'),\n",
              " (0.0014578007987611653, 'nns vbp'),\n",
              " (0.0013804650486573381, 'rbr nn')]"
            ]
          },
          "metadata": {},
          "execution_count": 63
        }
      ]
    },
    {
      "cell_type": "code",
      "metadata": {
        "id": "aLKJw_ru9Gpu",
        "colab": {
          "base_uri": "https://localhost:8080/"
        },
        "outputId": "7aeda31f-0d77-4a8e-8d29-32e47ec1f44d"
      },
      "source": [
        "correlation_scores_simple_POS_bigram"
      ],
      "execution_count": null,
      "outputs": [
        {
          "output_type": "execute_result",
          "data": {
            "text/plain": [
              "[(0.12075566793711245, 'adj verb'),\n",
              " (0.07885953646479785, 'noun verb'),\n",
              " (0.07231218965252781, '. verb'),\n",
              " (0.05005726773075792, 'adv noun'),\n",
              " (0.04730850348564444, 'det adj'),\n",
              " (0.04727081183297682, '. pron'),\n",
              " (0.043577380037305526, '. conj'),\n",
              " (0.04254160403534334, 'conj pron'),\n",
              " (0.04168870938952972, 'det .'),\n",
              " (0.03830110375405882, 'conj verb'),\n",
              " (0.034723222909450166, 'adp .'),\n",
              " (0.03390676475956086, 'adj noun'),\n",
              " (0.033125041903665844, 'adv pron'),\n",
              " (0.032315366787013335, 'adj pron'),\n",
              " (0.03213260570353748, '. adv'),\n",
              " (0.03168746197315958, '. prt'),\n",
              " (0.03127268745046925, 'adp adj'),\n",
              " (0.030505222500543678, 'conj adv'),\n",
              " (0.028483967202387984, 'adv det'),\n",
              " (0.028113703171728132, 'adj adp'),\n",
              " (0.02501843162563668, 'conj adp'),\n",
              " (0.02276395336875924, 'noun adp'),\n",
              " (0.021651233288931614, 'adp conj'),\n",
              " (0.021511785629994243, 'conj noun'),\n",
              " (0.02111449719814214, 'adv adj'),\n",
              " (0.02100011470190573, 'adv verb'),\n",
              " (0.020935881684621495, 'det adp'),\n",
              " (0.020542155968573884, 'adv conj'),\n",
              " (0.020202996264600773, '. .'),\n",
              " (0.01886769903373779, 'det adv'),\n",
              " (0.018548205628767165, 'adj det'),\n",
              " (0.017696598855206212, 'adp noun'),\n",
              " (0.017275866770584306, 'conj .'),\n",
              " (0.016704734012642455, 'det conj'),\n",
              " (0.015646055988703163, '. adp'),\n",
              " (0.015178173317727512, 'adj conj'),\n",
              " (0.014836443204606886, '. x'),\n",
              " (0.013104989020728534, 'adj prt'),\n",
              " (0.012293277489800119, 'det det'),\n",
              " (0.011317105339741952, 'conj adj'),\n",
              " (0.010838491153243292, 'conj num'),\n",
              " (0.008706780676407547, 'num conj'),\n",
              " (0.007561208343380021, 'adj .'),\n",
              " (0.00738652874854771, 'adp prt'),\n",
              " (0.0049456776099219375, '. noun'),\n",
              " (0.0041407619179871565, 'adj num'),\n",
              " (0.0030445861018258084, '. det'),\n",
              " (0.0027066985268983036, 'adj adj'),\n",
              " (0.0013004425816794626, 'adv adv'),\n",
              " (0.0007799007109619898, '. num')]"
            ]
          },
          "metadata": {},
          "execution_count": 64
        }
      ]
    },
    {
      "cell_type": "code",
      "metadata": {
        "id": "t365X2QCiryX"
      },
      "source": [
        "# Export the datasets.\n",
        "POS_bigrams[most_correlated_bigram_POS].to_csv('all_sentences_claim_premise_bigram_POS.csv',index=False)\n",
        "simple_POS_bigrams[most_correlated_bigram_simple_POS].to_csv('all_sentences_claim_premise_bigram_simple_POS.csv',index=False)"
      ],
      "execution_count": null,
      "outputs": []
    },
    {
      "cell_type": "markdown",
      "metadata": {
        "id": "kkzy6HcKc6Sz"
      },
      "source": [
        "# **Dependencies**"
      ]
    },
    {
      "cell_type": "code",
      "metadata": {
        "id": "3ch4PZSd61Wq"
      },
      "source": [
        "# Load the spacy engine:\n",
        "nlp = spacy.load('en_core_web_sm')"
      ],
      "execution_count": null,
      "outputs": []
    },
    {
      "cell_type": "code",
      "metadata": {
        "id": "5h0Sfe3ZdUj5"
      },
      "source": [
        "# Return the list of dependencies for each sentence in the list passed in input.\n",
        "\n",
        "def sentence_dependencies(sentence_list: list)->list:\n",
        "  \n",
        "  sentence_dependency_list=[]\n",
        "\n",
        "  for sentence in sentence_list:\n",
        "    doc = nlp(sentence)\n",
        "    dependency_list=[]\n",
        "    for token in doc:\n",
        "      dependency_list.append(token.dep_)\n",
        "\n",
        "    sentence_dependency_list.append(dependency_list)   \n",
        "\n",
        "  return sentence_dependency_list"
      ],
      "execution_count": null,
      "outputs": []
    },
    {
      "cell_type": "code",
      "metadata": {
        "id": "C5xJL2xxfnZp"
      },
      "source": [
        "sentence_dependency_list = sentence_dependencies(sentence_list)"
      ],
      "execution_count": null,
      "outputs": []
    },
    {
      "cell_type": "code",
      "metadata": {
        "colab": {
          "base_uri": "https://localhost:8080/"
        },
        "id": "I8hr0l_1jICJ",
        "outputId": "e37de6a3-0076-4495-a8aa-1a4225c55dde"
      },
      "source": [
        "sentence_dependency_list[0]"
      ],
      "execution_count": null,
      "outputs": [
        {
          "output_type": "execute_result",
          "data": {
            "text/plain": [
              "['nsubjpass',\n",
              " 'auxpass',\n",
              " 'advmod',\n",
              " 'ROOT',\n",
              " 'mark',\n",
              " 'nsubj',\n",
              " 'aux',\n",
              " 'advmod',\n",
              " 'ccomp',\n",
              " 'det',\n",
              " 'dobj',\n",
              " 'prep',\n",
              " 'pobj']"
            ]
          },
          "metadata": {},
          "execution_count": 69
        }
      ]
    },
    {
      "cell_type": "code",
      "metadata": {
        "id": "wHe46S019XLa"
      },
      "source": [
        "# Get the list of the sentences as dependency tag concatenating the tag \n",
        "# of the words in each sentence. \n",
        "def get_dependency_sentence_list(dep_sentence_list: list)->list:\n",
        "  dep_sentences=[]\n",
        "  for dep_list in dep_sentence_list:\n",
        "    sentence=\"\"\n",
        "    for tag in dep_list:\n",
        "      sentence+=tag+\" \"\n",
        "    dep_sentences.append(sentence)    \n",
        "\n",
        "  return dep_sentences"
      ],
      "execution_count": null,
      "outputs": []
    },
    {
      "cell_type": "code",
      "metadata": {
        "id": "R20ZJzh89tee"
      },
      "source": [
        "dependency_sentences=get_dependency_sentence_list(sentence_dependency_list)"
      ],
      "execution_count": null,
      "outputs": []
    },
    {
      "cell_type": "code",
      "metadata": {
        "colab": {
          "base_uri": "https://localhost:8080/"
        },
        "id": "b4MaNYfa92PO",
        "outputId": "430e444f-e46f-4228-b8b0-476384ebf242"
      },
      "source": [
        "dependency_sentences[0]"
      ],
      "execution_count": null,
      "outputs": [
        {
          "output_type": "execute_result",
          "data": {
            "application/vnd.google.colaboratory.intrinsic+json": {
              "type": "string"
            },
            "text/plain": [
              "'nsubjpass auxpass advmod ROOT mark nsubj aux advmod ccomp det dobj prep pobj '"
            ]
          },
          "metadata": {},
          "execution_count": 72
        }
      ]
    },
    {
      "cell_type": "code",
      "metadata": {
        "colab": {
          "base_uri": "https://localhost:8080/"
        },
        "id": "hflnDNar7EPg",
        "outputId": "de0ed452-c1a8-40c6-e957-e0c0feaa787c"
      },
      "source": [
        "dependency_BOW=bag_of_ngram(dependency_sentences,1)\n",
        "\n",
        "dependency_BOW.head()"
      ],
      "execution_count": null,
      "outputs": [
        {
          "output_type": "execute_result",
          "data": {
            "text/html": [
              "<div>\n",
              "<style scoped>\n",
              "    .dataframe tbody tr th:only-of-type {\n",
              "        vertical-align: middle;\n",
              "    }\n",
              "\n",
              "    .dataframe tbody tr th {\n",
              "        vertical-align: top;\n",
              "    }\n",
              "\n",
              "    .dataframe thead th {\n",
              "        text-align: right;\n",
              "    }\n",
              "</style>\n",
              "<table border=\"1\" class=\"dataframe\">\n",
              "  <thead>\n",
              "    <tr style=\"text-align: right;\">\n",
              "      <th></th>\n",
              "      <th>acl</th>\n",
              "      <th>acomp</th>\n",
              "      <th>advcl</th>\n",
              "      <th>advmod</th>\n",
              "      <th>agent</th>\n",
              "      <th>amod</th>\n",
              "      <th>appos</th>\n",
              "      <th>attr</th>\n",
              "      <th>aux</th>\n",
              "      <th>auxpass</th>\n",
              "      <th>case</th>\n",
              "      <th>cc</th>\n",
              "      <th>ccomp</th>\n",
              "      <th>compound</th>\n",
              "      <th>conj</th>\n",
              "      <th>csubj</th>\n",
              "      <th>csubjpass</th>\n",
              "      <th>dative</th>\n",
              "      <th>dep</th>\n",
              "      <th>det</th>\n",
              "      <th>dobj</th>\n",
              "      <th>expl</th>\n",
              "      <th>intj</th>\n",
              "      <th>mark</th>\n",
              "      <th>neg</th>\n",
              "      <th>nmod</th>\n",
              "      <th>npadvmod</th>\n",
              "      <th>nsubj</th>\n",
              "      <th>nsubjpass</th>\n",
              "      <th>nummod</th>\n",
              "      <th>oprd</th>\n",
              "      <th>parataxis</th>\n",
              "      <th>pcomp</th>\n",
              "      <th>po</th>\n",
              "      <th>pobj</th>\n",
              "      <th>preconj</th>\n",
              "      <th>predet</th>\n",
              "      <th>prep</th>\n",
              "      <th>prt</th>\n",
              "      <th>punct</th>\n",
              "      <th>quantmod</th>\n",
              "      <th>relcl</th>\n",
              "      <th>root</th>\n",
              "      <th>xcomp</th>\n",
              "    </tr>\n",
              "  </thead>\n",
              "  <tbody>\n",
              "    <tr>\n",
              "      <th>0</th>\n",
              "      <td>0</td>\n",
              "      <td>0</td>\n",
              "      <td>0</td>\n",
              "      <td>2</td>\n",
              "      <td>0</td>\n",
              "      <td>0</td>\n",
              "      <td>0</td>\n",
              "      <td>0</td>\n",
              "      <td>1</td>\n",
              "      <td>1</td>\n",
              "      <td>0</td>\n",
              "      <td>0</td>\n",
              "      <td>1</td>\n",
              "      <td>0</td>\n",
              "      <td>0</td>\n",
              "      <td>0</td>\n",
              "      <td>0</td>\n",
              "      <td>0</td>\n",
              "      <td>0</td>\n",
              "      <td>1</td>\n",
              "      <td>1</td>\n",
              "      <td>0</td>\n",
              "      <td>0</td>\n",
              "      <td>1</td>\n",
              "      <td>0</td>\n",
              "      <td>0</td>\n",
              "      <td>0</td>\n",
              "      <td>1</td>\n",
              "      <td>1</td>\n",
              "      <td>0</td>\n",
              "      <td>0</td>\n",
              "      <td>0</td>\n",
              "      <td>0</td>\n",
              "      <td>0</td>\n",
              "      <td>1</td>\n",
              "      <td>0</td>\n",
              "      <td>0</td>\n",
              "      <td>1</td>\n",
              "      <td>0</td>\n",
              "      <td>0</td>\n",
              "      <td>0</td>\n",
              "      <td>0</td>\n",
              "      <td>1</td>\n",
              "      <td>0</td>\n",
              "    </tr>\n",
              "    <tr>\n",
              "      <th>1</th>\n",
              "      <td>1</td>\n",
              "      <td>0</td>\n",
              "      <td>0</td>\n",
              "      <td>0</td>\n",
              "      <td>0</td>\n",
              "      <td>1</td>\n",
              "      <td>0</td>\n",
              "      <td>0</td>\n",
              "      <td>2</td>\n",
              "      <td>0</td>\n",
              "      <td>0</td>\n",
              "      <td>2</td>\n",
              "      <td>0</td>\n",
              "      <td>1</td>\n",
              "      <td>2</td>\n",
              "      <td>0</td>\n",
              "      <td>0</td>\n",
              "      <td>0</td>\n",
              "      <td>0</td>\n",
              "      <td>3</td>\n",
              "      <td>1</td>\n",
              "      <td>0</td>\n",
              "      <td>0</td>\n",
              "      <td>0</td>\n",
              "      <td>0</td>\n",
              "      <td>0</td>\n",
              "      <td>0</td>\n",
              "      <td>1</td>\n",
              "      <td>0</td>\n",
              "      <td>0</td>\n",
              "      <td>0</td>\n",
              "      <td>0</td>\n",
              "      <td>0</td>\n",
              "      <td>1</td>\n",
              "      <td>3</td>\n",
              "      <td>0</td>\n",
              "      <td>0</td>\n",
              "      <td>3</td>\n",
              "      <td>0</td>\n",
              "      <td>3</td>\n",
              "      <td>0</td>\n",
              "      <td>0</td>\n",
              "      <td>1</td>\n",
              "      <td>1</td>\n",
              "    </tr>\n",
              "    <tr>\n",
              "      <th>2</th>\n",
              "      <td>0</td>\n",
              "      <td>1</td>\n",
              "      <td>1</td>\n",
              "      <td>2</td>\n",
              "      <td>0</td>\n",
              "      <td>2</td>\n",
              "      <td>0</td>\n",
              "      <td>1</td>\n",
              "      <td>0</td>\n",
              "      <td>0</td>\n",
              "      <td>1</td>\n",
              "      <td>2</td>\n",
              "      <td>0</td>\n",
              "      <td>0</td>\n",
              "      <td>2</td>\n",
              "      <td>1</td>\n",
              "      <td>0</td>\n",
              "      <td>0</td>\n",
              "      <td>0</td>\n",
              "      <td>4</td>\n",
              "      <td>1</td>\n",
              "      <td>0</td>\n",
              "      <td>0</td>\n",
              "      <td>0</td>\n",
              "      <td>1</td>\n",
              "      <td>0</td>\n",
              "      <td>0</td>\n",
              "      <td>2</td>\n",
              "      <td>0</td>\n",
              "      <td>0</td>\n",
              "      <td>0</td>\n",
              "      <td>0</td>\n",
              "      <td>0</td>\n",
              "      <td>1</td>\n",
              "      <td>3</td>\n",
              "      <td>0</td>\n",
              "      <td>0</td>\n",
              "      <td>3</td>\n",
              "      <td>0</td>\n",
              "      <td>3</td>\n",
              "      <td>0</td>\n",
              "      <td>0</td>\n",
              "      <td>1</td>\n",
              "      <td>0</td>\n",
              "    </tr>\n",
              "    <tr>\n",
              "      <th>3</th>\n",
              "      <td>0</td>\n",
              "      <td>0</td>\n",
              "      <td>0</td>\n",
              "      <td>1</td>\n",
              "      <td>0</td>\n",
              "      <td>2</td>\n",
              "      <td>0</td>\n",
              "      <td>0</td>\n",
              "      <td>1</td>\n",
              "      <td>0</td>\n",
              "      <td>0</td>\n",
              "      <td>0</td>\n",
              "      <td>1</td>\n",
              "      <td>0</td>\n",
              "      <td>0</td>\n",
              "      <td>0</td>\n",
              "      <td>0</td>\n",
              "      <td>0</td>\n",
              "      <td>0</td>\n",
              "      <td>1</td>\n",
              "      <td>1</td>\n",
              "      <td>0</td>\n",
              "      <td>0</td>\n",
              "      <td>1</td>\n",
              "      <td>0</td>\n",
              "      <td>0</td>\n",
              "      <td>0</td>\n",
              "      <td>2</td>\n",
              "      <td>0</td>\n",
              "      <td>0</td>\n",
              "      <td>0</td>\n",
              "      <td>0</td>\n",
              "      <td>0</td>\n",
              "      <td>0</td>\n",
              "      <td>4</td>\n",
              "      <td>0</td>\n",
              "      <td>0</td>\n",
              "      <td>4</td>\n",
              "      <td>0</td>\n",
              "      <td>1</td>\n",
              "      <td>0</td>\n",
              "      <td>0</td>\n",
              "      <td>1</td>\n",
              "      <td>0</td>\n",
              "    </tr>\n",
              "    <tr>\n",
              "      <th>4</th>\n",
              "      <td>0</td>\n",
              "      <td>1</td>\n",
              "      <td>0</td>\n",
              "      <td>1</td>\n",
              "      <td>0</td>\n",
              "      <td>2</td>\n",
              "      <td>0</td>\n",
              "      <td>0</td>\n",
              "      <td>1</td>\n",
              "      <td>0</td>\n",
              "      <td>0</td>\n",
              "      <td>0</td>\n",
              "      <td>0</td>\n",
              "      <td>0</td>\n",
              "      <td>0</td>\n",
              "      <td>0</td>\n",
              "      <td>0</td>\n",
              "      <td>0</td>\n",
              "      <td>0</td>\n",
              "      <td>2</td>\n",
              "      <td>0</td>\n",
              "      <td>0</td>\n",
              "      <td>0</td>\n",
              "      <td>0</td>\n",
              "      <td>0</td>\n",
              "      <td>0</td>\n",
              "      <td>0</td>\n",
              "      <td>2</td>\n",
              "      <td>0</td>\n",
              "      <td>0</td>\n",
              "      <td>0</td>\n",
              "      <td>0</td>\n",
              "      <td>0</td>\n",
              "      <td>0</td>\n",
              "      <td>5</td>\n",
              "      <td>0</td>\n",
              "      <td>0</td>\n",
              "      <td>5</td>\n",
              "      <td>0</td>\n",
              "      <td>2</td>\n",
              "      <td>0</td>\n",
              "      <td>1</td>\n",
              "      <td>1</td>\n",
              "      <td>0</td>\n",
              "    </tr>\n",
              "  </tbody>\n",
              "</table>\n",
              "</div>"
            ],
            "text/plain": [
              "   acl  acomp  advcl  advmod  agent  ...  punct  quantmod  relcl  root  xcomp\n",
              "0    0      0      0       2      0  ...      0         0      0     1      0\n",
              "1    1      0      0       0      0  ...      3         0      0     1      1\n",
              "2    0      1      1       2      0  ...      3         0      0     1      0\n",
              "3    0      0      0       1      0  ...      1         0      0     1      0\n",
              "4    0      1      0       1      0  ...      2         0      1     1      0\n",
              "\n",
              "[5 rows x 44 columns]"
            ]
          },
          "metadata": {},
          "execution_count": 73
        }
      ]
    },
    {
      "cell_type": "markdown",
      "metadata": {
        "id": "02WnItqMLbBk"
      },
      "source": [
        "**correlation score**"
      ]
    },
    {
      "cell_type": "code",
      "metadata": {
        "id": "sSvBxHEEKfly"
      },
      "source": [
        "dep_correlation_BOW=get_correlation_scores(dependency_BOW[argumentative_sentences_not_both_map],argumentative_sentences_claim_presence_map)"
      ],
      "execution_count": null,
      "outputs": []
    },
    {
      "cell_type": "code",
      "metadata": {
        "colab": {
          "base_uri": "https://localhost:8080/"
        },
        "id": "gnqP4KEXX6KT",
        "outputId": "29fa0789-66ca-464f-adc1-fc84c888d9b2"
      },
      "source": [
        "dep_correlation_BOW"
      ],
      "execution_count": null,
      "outputs": [
        {
          "output_type": "execute_result",
          "data": {
            "text/plain": [
              "[(0.12591054269955151, 'ccomp'),\n",
              " (0.1149074227985215, 'csubj'),\n",
              " (0.09237317419606156, 'mark'),\n",
              " (0.077354399695912, 'conj'),\n",
              " (0.07320965414499703, 'cc'),\n",
              " (0.06885386580235105, 'npadvmod'),\n",
              " (0.05978933976086481, 'xcomp'),\n",
              " (0.05249709599910203, 'neg'),\n",
              " (0.05024956668565622, 'acl'),\n",
              " (0.047534211335000014, 'advcl'),\n",
              " (0.044658577302485354, 'compound'),\n",
              " (0.04379400433588964, 'nummod'),\n",
              " (0.042575821967270396, 'amod'),\n",
              " (0.04081579657209067, 'attr'),\n",
              " (0.03864832807564896, 'agent'),\n",
              " (0.03796458205907582, 'acomp'),\n",
              " (0.036063778847007816, 'advmod'),\n",
              " (0.0351791123894154, 'csubjpass'),\n",
              " (0.03394199179747028, 'dative'),\n",
              " (0.033091972633829785, 'root'),\n",
              " (0.03266261144299585, 'case'),\n",
              " (0.03182221893196017, 'punct'),\n",
              " (0.03179934984452839, 'preconj'),\n",
              " (0.031212883320150302, 'intj'),\n",
              " (0.028140595023003916, 'pcomp'),\n",
              " (0.02661894996234391, 'quantmod'),\n",
              " (0.026021149386201117, 'appos'),\n",
              " (0.020463759064308678, 'dobj'),\n",
              " (0.016066791349076185, 'po'),\n",
              " (0.014836443204606886, 'parataxis'),\n",
              " (0.01461379961974558, 'nmod'),\n",
              " (0.014391386666430658, 'dep'),\n",
              " (0.012883837672059473, 'relcl'),\n",
              " (0.01203127392309837, 'prep'),\n",
              " (0.010622368777418076, 'nsubj'),\n",
              " (0.010368567331370877, 'expl'),\n",
              " (0.006669049973799919, 'nsubjpass'),\n",
              " (0.006002852392882485, 'det'),\n",
              " (0.005144392109020601, 'prt'),\n",
              " (0.00490618369403293, 'auxpass'),\n",
              " (0.00361701887311087, 'predet'),\n",
              " (0.002632489966748139, 'pobj'),\n",
              " (0.0022881711095947346, 'aux'),\n",
              " (0.0016108796275878575, 'oprd')]"
            ]
          },
          "metadata": {},
          "execution_count": 75
        }
      ]
    },
    {
      "cell_type": "code",
      "metadata": {
        "id": "XlM03_9l1h6e"
      },
      "source": [
        "# Get the tag sorted for their correlation scores.\n",
        "dep_BOW_most_correlated=[tag[1] for tag in dep_correlation_BOW]"
      ],
      "execution_count": null,
      "outputs": []
    },
    {
      "cell_type": "code",
      "metadata": {
        "id": "VkiGiy6F0ix8"
      },
      "source": [
        "# Save the most correlated bigrams into a text file.\n",
        "\n",
        "f = open(\"claim_premise_dependency_tag.txt\", \"a\")\n",
        "for tag in dep_BOW_most_correlated:\n",
        "  f.write(\"{}-\".format(tag))\n",
        "f.close()"
      ],
      "execution_count": null,
      "outputs": []
    },
    {
      "cell_type": "code",
      "metadata": {
        "id": "Umsi24TILrts"
      },
      "source": [
        "# Export the dataset abouth the dipendencies tag.\n",
        "\n",
        "dependency_BOW[argumentative_sentences_not_both_map].to_csv('claim_premise_dependency.csv',index=False)"
      ],
      "execution_count": null,
      "outputs": []
    },
    {
      "cell_type": "code",
      "metadata": {
        "id": "XMZlZjv8MCG0"
      },
      "source": [
        "# Create dataframe of the features regarding the dependency tree dimension\n",
        "# and find their coorelations with the labels (presence of an argumentative \n",
        "# section in a sentence) using the Spearman test. \n",
        "\n",
        "dep_tree_stat_dataframe=pd.read_csv('sentence_dependency_tree_stat.csv')\n",
        "\n",
        "correlation_scores_dep_tree_stat=get_correlation_scores(dep_tree_stat_dataframe[argumentative_sentences_not_both_map],argumentative_sentences_claim_presence_map)"
      ],
      "execution_count": null,
      "outputs": []
    },
    {
      "cell_type": "code",
      "metadata": {
        "colab": {
          "base_uri": "https://localhost:8080/"
        },
        "id": "x-rqsw4fMwts",
        "outputId": "2cb9cba3-54b6-45de-f5ac-4745da5c5bd5"
      },
      "source": [
        "dep_tree_stat_dataframe.head()"
      ],
      "execution_count": null,
      "outputs": [
        {
          "output_type": "execute_result",
          "data": {
            "text/html": [
              "<div>\n",
              "<style scoped>\n",
              "    .dataframe tbody tr th:only-of-type {\n",
              "        vertical-align: middle;\n",
              "    }\n",
              "\n",
              "    .dataframe tbody tr th {\n",
              "        vertical-align: top;\n",
              "    }\n",
              "\n",
              "    .dataframe thead th {\n",
              "        text-align: right;\n",
              "    }\n",
              "</style>\n",
              "<table border=\"1\" class=\"dataframe\">\n",
              "  <thead>\n",
              "    <tr style=\"text-align: right;\">\n",
              "      <th></th>\n",
              "      <th>tree depth</th>\n",
              "      <th>max number of children of a ROOT node</th>\n",
              "    </tr>\n",
              "  </thead>\n",
              "  <tbody>\n",
              "    <tr>\n",
              "      <th>0</th>\n",
              "      <td>4</td>\n",
              "      <td>4</td>\n",
              "    </tr>\n",
              "    <tr>\n",
              "      <th>1</th>\n",
              "      <td>6</td>\n",
              "      <td>7</td>\n",
              "    </tr>\n",
              "    <tr>\n",
              "      <th>2</th>\n",
              "      <td>5</td>\n",
              "      <td>10</td>\n",
              "    </tr>\n",
              "    <tr>\n",
              "      <th>3</th>\n",
              "      <td>6</td>\n",
              "      <td>5</td>\n",
              "    </tr>\n",
              "    <tr>\n",
              "      <th>4</th>\n",
              "      <td>8</td>\n",
              "      <td>7</td>\n",
              "    </tr>\n",
              "  </tbody>\n",
              "</table>\n",
              "</div>"
            ],
            "text/plain": [
              "   tree depth  max number of children of a ROOT node\n",
              "0           4                                      4\n",
              "1           6                                      7\n",
              "2           5                                     10\n",
              "3           6                                      5\n",
              "4           8                                      7"
            ]
          },
          "metadata": {},
          "execution_count": 80
        }
      ]
    },
    {
      "cell_type": "code",
      "metadata": {
        "id": "g4gk3vCILYZg"
      },
      "source": [
        "# Export the dataset of the dependency tree statistic.\n",
        "dep_tree_stat_dataframe[argumentative_sentences_not_both_map].to_csv('claim_premise_dependency_tree_stat.csv',index=False)"
      ],
      "execution_count": null,
      "outputs": []
    },
    {
      "cell_type": "code",
      "metadata": {
        "colab": {
          "base_uri": "https://localhost:8080/"
        },
        "id": "B3qRoYkoM28f",
        "outputId": "883cd00c-a476-4598-8898-56b6ea9734a3"
      },
      "source": [
        "correlation_scores_dep_tree_stat"
      ],
      "execution_count": null,
      "outputs": [
        {
          "output_type": "execute_result",
          "data": {
            "text/plain": [
              "[(0.029812469309950733, 'tree depth'),\n",
              " (0.0022056926446664543, 'max number of children of a ROOT node')]"
            ]
          },
          "metadata": {},
          "execution_count": 82
        }
      ]
    },
    {
      "cell_type": "markdown",
      "metadata": {
        "id": "YCyByqWGnux8"
      },
      "source": [
        "# **Named entities labels**"
      ]
    },
    {
      "cell_type": "code",
      "metadata": {
        "id": "FV0D4EQDnyS5"
      },
      "source": [
        "# Return the list of strings containing the sequence of the labels of named \n",
        "# entities for each sentence in the list passed in input.\n",
        "\n",
        "def sentence_named_entities(sentence_list: list)->list:\n",
        "  sentence_entity_list=[]\n",
        "\n",
        "  for sentence in sentence_list:\n",
        "    doc = nlp(sentence)\n",
        "    entity_sequence=''\n",
        "    for token in doc.ents:\n",
        "        entity_sequence+=token.label_+\" \"\n",
        "    sentence_entity_list.append(entity_sequence)\n",
        "\n",
        "  return sentence_entity_list"
      ],
      "execution_count": null,
      "outputs": []
    },
    {
      "cell_type": "code",
      "metadata": {
        "id": "qOmPpQmNsEvd"
      },
      "source": [
        "# Return the list of the BOW of common labeled entity for each couple of \n",
        "# sentences in a possible relation.\n",
        "\n",
        "label_named_entity_sentence_list=sentence_named_entities(sentence_list)\n",
        "\n",
        "label_named_entity_BOW=bag_of_ngram(label_named_entity_sentence_list,1)"
      ],
      "execution_count": null,
      "outputs": []
    },
    {
      "cell_type": "code",
      "metadata": {
        "id": "D9lEst8puvWz",
        "colab": {
          "base_uri": "https://localhost:8080/"
        },
        "outputId": "ca635ae8-8729-4b15-e69a-a84c0a9ee62f"
      },
      "source": [
        "label_named_entity_BOW.head()"
      ],
      "execution_count": null,
      "outputs": [
        {
          "output_type": "execute_result",
          "data": {
            "text/html": [
              "<div>\n",
              "<style scoped>\n",
              "    .dataframe tbody tr th:only-of-type {\n",
              "        vertical-align: middle;\n",
              "    }\n",
              "\n",
              "    .dataframe tbody tr th {\n",
              "        vertical-align: top;\n",
              "    }\n",
              "\n",
              "    .dataframe thead th {\n",
              "        text-align: right;\n",
              "    }\n",
              "</style>\n",
              "<table border=\"1\" class=\"dataframe\">\n",
              "  <thead>\n",
              "    <tr style=\"text-align: right;\">\n",
              "      <th></th>\n",
              "      <th>cardinal</th>\n",
              "      <th>date</th>\n",
              "      <th>event</th>\n",
              "      <th>fac</th>\n",
              "      <th>gpe</th>\n",
              "      <th>language</th>\n",
              "      <th>loc</th>\n",
              "      <th>money</th>\n",
              "      <th>norp</th>\n",
              "      <th>ordinal</th>\n",
              "      <th>org</th>\n",
              "      <th>percent</th>\n",
              "      <th>person</th>\n",
              "      <th>product</th>\n",
              "      <th>quantity</th>\n",
              "      <th>time</th>\n",
              "      <th>work_of_art</th>\n",
              "    </tr>\n",
              "  </thead>\n",
              "  <tbody>\n",
              "    <tr>\n",
              "      <th>0</th>\n",
              "      <td>0</td>\n",
              "      <td>0</td>\n",
              "      <td>0</td>\n",
              "      <td>0</td>\n",
              "      <td>0</td>\n",
              "      <td>0</td>\n",
              "      <td>0</td>\n",
              "      <td>0</td>\n",
              "      <td>0</td>\n",
              "      <td>0</td>\n",
              "      <td>0</td>\n",
              "      <td>0</td>\n",
              "      <td>0</td>\n",
              "      <td>0</td>\n",
              "      <td>0</td>\n",
              "      <td>0</td>\n",
              "      <td>0</td>\n",
              "    </tr>\n",
              "    <tr>\n",
              "      <th>1</th>\n",
              "      <td>0</td>\n",
              "      <td>0</td>\n",
              "      <td>0</td>\n",
              "      <td>0</td>\n",
              "      <td>0</td>\n",
              "      <td>0</td>\n",
              "      <td>0</td>\n",
              "      <td>0</td>\n",
              "      <td>0</td>\n",
              "      <td>0</td>\n",
              "      <td>0</td>\n",
              "      <td>0</td>\n",
              "      <td>0</td>\n",
              "      <td>0</td>\n",
              "      <td>0</td>\n",
              "      <td>0</td>\n",
              "      <td>0</td>\n",
              "    </tr>\n",
              "    <tr>\n",
              "      <th>2</th>\n",
              "      <td>0</td>\n",
              "      <td>0</td>\n",
              "      <td>0</td>\n",
              "      <td>0</td>\n",
              "      <td>0</td>\n",
              "      <td>0</td>\n",
              "      <td>0</td>\n",
              "      <td>0</td>\n",
              "      <td>0</td>\n",
              "      <td>0</td>\n",
              "      <td>0</td>\n",
              "      <td>0</td>\n",
              "      <td>0</td>\n",
              "      <td>0</td>\n",
              "      <td>0</td>\n",
              "      <td>0</td>\n",
              "      <td>0</td>\n",
              "    </tr>\n",
              "    <tr>\n",
              "      <th>3</th>\n",
              "      <td>0</td>\n",
              "      <td>0</td>\n",
              "      <td>0</td>\n",
              "      <td>0</td>\n",
              "      <td>0</td>\n",
              "      <td>0</td>\n",
              "      <td>0</td>\n",
              "      <td>0</td>\n",
              "      <td>0</td>\n",
              "      <td>0</td>\n",
              "      <td>0</td>\n",
              "      <td>0</td>\n",
              "      <td>0</td>\n",
              "      <td>0</td>\n",
              "      <td>0</td>\n",
              "      <td>0</td>\n",
              "      <td>0</td>\n",
              "    </tr>\n",
              "    <tr>\n",
              "      <th>4</th>\n",
              "      <td>0</td>\n",
              "      <td>0</td>\n",
              "      <td>0</td>\n",
              "      <td>0</td>\n",
              "      <td>0</td>\n",
              "      <td>0</td>\n",
              "      <td>0</td>\n",
              "      <td>0</td>\n",
              "      <td>0</td>\n",
              "      <td>1</td>\n",
              "      <td>0</td>\n",
              "      <td>0</td>\n",
              "      <td>0</td>\n",
              "      <td>0</td>\n",
              "      <td>0</td>\n",
              "      <td>0</td>\n",
              "      <td>0</td>\n",
              "    </tr>\n",
              "  </tbody>\n",
              "</table>\n",
              "</div>"
            ],
            "text/plain": [
              "   cardinal  date  event  fac  ...  product  quantity  time  work_of_art\n",
              "0         0     0      0    0  ...        0         0     0            0\n",
              "1         0     0      0    0  ...        0         0     0            0\n",
              "2         0     0      0    0  ...        0         0     0            0\n",
              "3         0     0      0    0  ...        0         0     0            0\n",
              "4         0     0      0    0  ...        0         0     0            0\n",
              "\n",
              "[5 rows x 17 columns]"
            ]
          },
          "metadata": {},
          "execution_count": 85
        }
      ]
    },
    {
      "cell_type": "code",
      "metadata": {
        "id": "6ZRSlue9vat_"
      },
      "source": [
        "# Export the dataset.\n",
        "label_named_entity_BOW[argumentative_sentences_not_both_map].to_csv('claim_premise_named_entity_BOW.csv',index=False)"
      ],
      "execution_count": null,
      "outputs": []
    },
    {
      "cell_type": "markdown",
      "metadata": {
        "id": "h3Q3k9hGTSd7"
      },
      "source": [
        "**correlation score**"
      ]
    },
    {
      "cell_type": "code",
      "metadata": {
        "id": "vhBd17iMPuH2",
        "colab": {
          "base_uri": "https://localhost:8080/"
        },
        "outputId": "8aa9c0a4-7493-4c09-9ca7-08e90d182c87"
      },
      "source": [
        "name_entity_correlation_BOW=get_correlation_scores(label_named_entity_BOW[argumentative_sentences_not_both_map],argumentative_sentences_claim_presence_map)"
      ],
      "execution_count": null,
      "outputs": [
        {
          "output_type": "stream",
          "name": "stderr",
          "text": [
            "/usr/local/lib/python3.7/dist-packages/numpy/lib/function_base.py:2559: RuntimeWarning: invalid value encountered in true_divide\n",
            "  c /= stddev[:, None]\n",
            "/usr/local/lib/python3.7/dist-packages/numpy/lib/function_base.py:2560: RuntimeWarning: invalid value encountered in true_divide\n",
            "  c /= stddev[None, :]\n"
          ]
        }
      ]
    },
    {
      "cell_type": "code",
      "metadata": {
        "id": "ElQW4s_8QAno",
        "colab": {
          "base_uri": "https://localhost:8080/"
        },
        "outputId": "f524cc20-5174-42a1-bb71-c7bc71e4d0e4"
      },
      "source": [
        "name_entity_correlation_BOW"
      ],
      "execution_count": null,
      "outputs": [
        {
          "output_type": "execute_result",
          "data": {
            "text/plain": [
              "[(0.09667853782816892, 'ordinal'),\n",
              " (0.08407214733381752, 'gpe'),\n",
              " (0.0769358463785325, 'date'),\n",
              " (0.07036490675746028, 'norp'),\n",
              " (0.05884062680346553, 'org'),\n",
              " (nan, 'product'),\n",
              " (0.05987838398638901, 'time'),\n",
              " (0.05400895021806099, 'person'),\n",
              " (0.03280941818681783, 'percent'),\n",
              " (0.027442631734917542, 'quantity'),\n",
              " (0.023188917324864288, 'event'),\n",
              " (0.020738859339848405, 'money'),\n",
              " (0.014641199983000078, 'language'),\n",
              " (0.010217824836100198, 'loc'),\n",
              " (0.006537941669828392, 'work_of_art'),\n",
              " (0.0054175301558621455, 'fac'),\n",
              " (0.0013567263527862882, 'cardinal')]"
            ]
          },
          "metadata": {},
          "execution_count": 88
        }
      ]
    },
    {
      "cell_type": "code",
      "metadata": {
        "id": "8bVNLbAmvN2g"
      },
      "source": [
        "# Get the tag sorted for their correlation scores.\n",
        "most_correlated_named_entity=[tag[1] for tag in name_entity_correlation_BOW]"
      ],
      "execution_count": null,
      "outputs": []
    },
    {
      "cell_type": "code",
      "metadata": {
        "id": "HQqSLFz5vYG-"
      },
      "source": [
        "# Save the labeled named entity into a text file.\n",
        "\n",
        "f = open(\"claim_premise_labeled_named_entity.txt\", \"a\")\n",
        "for entity in most_correlated_named_entity:\n",
        "  f.write(\"{}-\".format(entity))\n",
        "f.close()"
      ],
      "execution_count": null,
      "outputs": []
    },
    {
      "cell_type": "markdown",
      "metadata": {
        "id": "4NZh_f8izxjI"
      },
      "source": [
        "# **Type Token Ratio**"
      ]
    },
    {
      "cell_type": "code",
      "metadata": {
        "id": "CpnJ7eL10k-g"
      },
      "source": [
        "type_token_ratio_list=[]\n",
        "\n",
        "for sentence in sentence_list:\n",
        "  word_seq=nltk.word_tokenize(sentence)\n",
        "\n",
        "  types=Counter(word_seq)\n",
        "\n",
        "  ttr=(len(types)/len(word_seq))*100\n",
        "  \n",
        "  type_token_ratio_list.append(ttr)"
      ],
      "execution_count": null,
      "outputs": []
    },
    {
      "cell_type": "code",
      "metadata": {
        "colab": {
          "base_uri": "https://localhost:8080/"
        },
        "id": "6oxmHQ4C2Uyt",
        "outputId": "06aa4bfd-7efa-4dae-d67d-e1e4fd6837c3"
      },
      "source": [
        "print(type_token_ratio_list[0:10])"
      ],
      "execution_count": null,
      "outputs": [
        {
          "output_type": "stream",
          "name": "stdout",
          "text": [
            "[100.0, 76.92307692307693, 78.125, 100.0, 86.95652173913044, 85.18518518518519, 68.29268292682927, 95.23809523809523, 85.0, 100.0]\n"
          ]
        }
      ]
    },
    {
      "cell_type": "markdown",
      "metadata": {
        "id": "8tstI7BoTiH3"
      },
      "source": [
        "**correlation score**"
      ]
    },
    {
      "cell_type": "code",
      "metadata": {
        "id": "UTOZqvreTnRJ"
      },
      "source": [
        "# Create dataframe for the values and compute the Spearman test.\n",
        "\n",
        "type_token_dataframe=pd.DataFrame(dict(zip([\"type token ratio\"],[type_token_ratio_list])))\n",
        "\n",
        "correlation_scores_type_token=get_correlation_scores(type_token_dataframe[argumentative_sentences_not_both_map],argumentative_sentences_claim_presence_map)"
      ],
      "execution_count": null,
      "outputs": []
    },
    {
      "cell_type": "code",
      "metadata": {
        "colab": {
          "base_uri": "https://localhost:8080/"
        },
        "id": "VJzPgD73UBjb",
        "outputId": "bcad1e18-a31f-4261-de5c-5f730c9013a1"
      },
      "source": [
        "correlation_scores_type_token"
      ],
      "execution_count": null,
      "outputs": [
        {
          "output_type": "execute_result",
          "data": {
            "text/plain": [
              "[(0.05195435156533053, 'type token ratio')]"
            ]
          },
          "metadata": {},
          "execution_count": 94
        }
      ]
    },
    {
      "cell_type": "markdown",
      "metadata": {
        "id": "zZDNAN02UUsP"
      },
      "source": [
        "# **Bag of words and Bigrams correlation**"
      ]
    },
    {
      "cell_type": "code",
      "metadata": {
        "id": "DEBftr-YUaie"
      },
      "source": [
        "bag_words_dataframe=bag_of_ngram(sentence_list, 1)\n",
        "bag_bigrams_dataframe=bag_of_ngram(sentence_list, 2)"
      ],
      "execution_count": null,
      "outputs": []
    },
    {
      "cell_type": "code",
      "metadata": {
        "colab": {
          "base_uri": "https://localhost:8080/",
          "height": 269
        },
        "id": "_78JrCE0Utbk",
        "outputId": "0c4530df-56a6-4720-97de-a1a8013d261d"
      },
      "source": [
        "bag_words_dataframe.head()"
      ],
      "execution_count": null,
      "outputs": [
        {
          "output_type": "execute_result",
          "data": {
            "text/html": [
              "<div>\n",
              "<style scoped>\n",
              "    .dataframe tbody tr th:only-of-type {\n",
              "        vertical-align: middle;\n",
              "    }\n",
              "\n",
              "    .dataframe tbody tr th {\n",
              "        vertical-align: top;\n",
              "    }\n",
              "\n",
              "    .dataframe thead th {\n",
              "        text-align: right;\n",
              "    }\n",
              "</style>\n",
              "<table border=\"1\" class=\"dataframe\">\n",
              "  <thead>\n",
              "    <tr style=\"text-align: right;\">\n",
              "      <th></th>\n",
              "      <th>!</th>\n",
              "      <th>%</th>\n",
              "      <th>&amp;</th>\n",
              "      <th>'</th>\n",
              "      <th>''</th>\n",
              "      <th>'3</th>\n",
              "      <th>'a</th>\n",
              "      <th>'cult</th>\n",
              "      <th>'dug</th>\n",
              "      <th>'globalization</th>\n",
              "      <th>'halo</th>\n",
              "      <th>'innovate</th>\n",
              "      <th>'ll</th>\n",
              "      <th>'low</th>\n",
              "      <th>'m</th>\n",
              "      <th>'re</th>\n",
              "      <th>'s</th>\n",
              "      <th>'social</th>\n",
              "      <th>'teachers</th>\n",
              "      <th>'this</th>\n",
              "      <th>'ve</th>\n",
              "      <th>'your</th>\n",
              "      <th>(</th>\n",
              "      <th>)</th>\n",
              "      <th>,</th>\n",
              "      <th>-</th>\n",
              "      <th>--</th>\n",
              "      <th>.</th>\n",
              "      <th>...</th>\n",
              "      <th>0</th>\n",
              "      <th>1</th>\n",
              "      <th>10</th>\n",
              "      <th>100</th>\n",
              "      <th>10000</th>\n",
              "      <th>14</th>\n",
              "      <th>15</th>\n",
              "      <th>16</th>\n",
              "      <th>170</th>\n",
              "      <th>17th</th>\n",
              "      <th>18</th>\n",
              "      <th>...</th>\n",
              "      <th>wrap</th>\n",
              "      <th>write</th>\n",
              "      <th>writer</th>\n",
              "      <th>writing</th>\n",
              "      <th>written</th>\n",
              "      <th>wrong</th>\n",
              "      <th>wrongly</th>\n",
              "      <th>wrote</th>\n",
              "      <th>x</th>\n",
              "      <th>yahoo</th>\n",
              "      <th>yandex</th>\n",
              "      <th>yang</th>\n",
              "      <th>year</th>\n",
              "      <th>yearly</th>\n",
              "      <th>yell</th>\n",
              "      <th>yellow</th>\n",
              "      <th>yet</th>\n",
              "      <th>yield</th>\n",
              "      <th>yielding</th>\n",
              "      <th>york</th>\n",
              "      <th>you</th>\n",
              "      <th>young</th>\n",
              "      <th>younger</th>\n",
              "      <th>youngster</th>\n",
              "      <th>your</th>\n",
              "      <th>yours</th>\n",
              "      <th>yourself</th>\n",
              "      <th>youth</th>\n",
              "      <th>zappa</th>\n",
              "      <th>zeal</th>\n",
              "      <th>zero</th>\n",
              "      <th>zone</th>\n",
              "      <th>zoo</th>\n",
              "      <th>zookeepers</th>\n",
              "      <th>zoology</th>\n",
              "      <th>–</th>\n",
              "      <th>‘</th>\n",
              "      <th>’</th>\n",
              "      <th>“</th>\n",
              "      <th>”</th>\n",
              "    </tr>\n",
              "  </thead>\n",
              "  <tbody>\n",
              "    <tr>\n",
              "      <th>0</th>\n",
              "      <td>0</td>\n",
              "      <td>0</td>\n",
              "      <td>0</td>\n",
              "      <td>0</td>\n",
              "      <td>0</td>\n",
              "      <td>0</td>\n",
              "      <td>0</td>\n",
              "      <td>0</td>\n",
              "      <td>0</td>\n",
              "      <td>0</td>\n",
              "      <td>0</td>\n",
              "      <td>0</td>\n",
              "      <td>0</td>\n",
              "      <td>0</td>\n",
              "      <td>0</td>\n",
              "      <td>0</td>\n",
              "      <td>0</td>\n",
              "      <td>0</td>\n",
              "      <td>0</td>\n",
              "      <td>0</td>\n",
              "      <td>0</td>\n",
              "      <td>0</td>\n",
              "      <td>0</td>\n",
              "      <td>0</td>\n",
              "      <td>0</td>\n",
              "      <td>0</td>\n",
              "      <td>0</td>\n",
              "      <td>0</td>\n",
              "      <td>0</td>\n",
              "      <td>0</td>\n",
              "      <td>0</td>\n",
              "      <td>0</td>\n",
              "      <td>0</td>\n",
              "      <td>0</td>\n",
              "      <td>0</td>\n",
              "      <td>0</td>\n",
              "      <td>0</td>\n",
              "      <td>0</td>\n",
              "      <td>0</td>\n",
              "      <td>0</td>\n",
              "      <td>...</td>\n",
              "      <td>0</td>\n",
              "      <td>0</td>\n",
              "      <td>0</td>\n",
              "      <td>0</td>\n",
              "      <td>0</td>\n",
              "      <td>0</td>\n",
              "      <td>0</td>\n",
              "      <td>0</td>\n",
              "      <td>0</td>\n",
              "      <td>0</td>\n",
              "      <td>0</td>\n",
              "      <td>0</td>\n",
              "      <td>0</td>\n",
              "      <td>0</td>\n",
              "      <td>0</td>\n",
              "      <td>0</td>\n",
              "      <td>0</td>\n",
              "      <td>0</td>\n",
              "      <td>0</td>\n",
              "      <td>0</td>\n",
              "      <td>0</td>\n",
              "      <td>0</td>\n",
              "      <td>0</td>\n",
              "      <td>0</td>\n",
              "      <td>0</td>\n",
              "      <td>0</td>\n",
              "      <td>0</td>\n",
              "      <td>0</td>\n",
              "      <td>0</td>\n",
              "      <td>0</td>\n",
              "      <td>0</td>\n",
              "      <td>0</td>\n",
              "      <td>0</td>\n",
              "      <td>0</td>\n",
              "      <td>0</td>\n",
              "      <td>0</td>\n",
              "      <td>0</td>\n",
              "      <td>0</td>\n",
              "      <td>0</td>\n",
              "      <td>0</td>\n",
              "    </tr>\n",
              "    <tr>\n",
              "      <th>1</th>\n",
              "      <td>0</td>\n",
              "      <td>0</td>\n",
              "      <td>0</td>\n",
              "      <td>0</td>\n",
              "      <td>0</td>\n",
              "      <td>0</td>\n",
              "      <td>0</td>\n",
              "      <td>0</td>\n",
              "      <td>0</td>\n",
              "      <td>0</td>\n",
              "      <td>0</td>\n",
              "      <td>0</td>\n",
              "      <td>0</td>\n",
              "      <td>0</td>\n",
              "      <td>0</td>\n",
              "      <td>0</td>\n",
              "      <td>0</td>\n",
              "      <td>0</td>\n",
              "      <td>0</td>\n",
              "      <td>0</td>\n",
              "      <td>0</td>\n",
              "      <td>0</td>\n",
              "      <td>0</td>\n",
              "      <td>0</td>\n",
              "      <td>3</td>\n",
              "      <td>0</td>\n",
              "      <td>0</td>\n",
              "      <td>0</td>\n",
              "      <td>0</td>\n",
              "      <td>0</td>\n",
              "      <td>0</td>\n",
              "      <td>0</td>\n",
              "      <td>0</td>\n",
              "      <td>0</td>\n",
              "      <td>0</td>\n",
              "      <td>0</td>\n",
              "      <td>0</td>\n",
              "      <td>0</td>\n",
              "      <td>0</td>\n",
              "      <td>0</td>\n",
              "      <td>...</td>\n",
              "      <td>0</td>\n",
              "      <td>0</td>\n",
              "      <td>0</td>\n",
              "      <td>0</td>\n",
              "      <td>0</td>\n",
              "      <td>0</td>\n",
              "      <td>0</td>\n",
              "      <td>0</td>\n",
              "      <td>0</td>\n",
              "      <td>0</td>\n",
              "      <td>0</td>\n",
              "      <td>0</td>\n",
              "      <td>0</td>\n",
              "      <td>0</td>\n",
              "      <td>0</td>\n",
              "      <td>0</td>\n",
              "      <td>0</td>\n",
              "      <td>0</td>\n",
              "      <td>0</td>\n",
              "      <td>0</td>\n",
              "      <td>0</td>\n",
              "      <td>0</td>\n",
              "      <td>0</td>\n",
              "      <td>0</td>\n",
              "      <td>0</td>\n",
              "      <td>0</td>\n",
              "      <td>0</td>\n",
              "      <td>0</td>\n",
              "      <td>0</td>\n",
              "      <td>0</td>\n",
              "      <td>0</td>\n",
              "      <td>0</td>\n",
              "      <td>0</td>\n",
              "      <td>0</td>\n",
              "      <td>0</td>\n",
              "      <td>0</td>\n",
              "      <td>0</td>\n",
              "      <td>0</td>\n",
              "      <td>0</td>\n",
              "      <td>0</td>\n",
              "    </tr>\n",
              "    <tr>\n",
              "      <th>2</th>\n",
              "      <td>0</td>\n",
              "      <td>0</td>\n",
              "      <td>0</td>\n",
              "      <td>0</td>\n",
              "      <td>0</td>\n",
              "      <td>0</td>\n",
              "      <td>0</td>\n",
              "      <td>0</td>\n",
              "      <td>0</td>\n",
              "      <td>0</td>\n",
              "      <td>0</td>\n",
              "      <td>0</td>\n",
              "      <td>0</td>\n",
              "      <td>0</td>\n",
              "      <td>0</td>\n",
              "      <td>0</td>\n",
              "      <td>1</td>\n",
              "      <td>0</td>\n",
              "      <td>0</td>\n",
              "      <td>0</td>\n",
              "      <td>0</td>\n",
              "      <td>0</td>\n",
              "      <td>0</td>\n",
              "      <td>0</td>\n",
              "      <td>3</td>\n",
              "      <td>0</td>\n",
              "      <td>0</td>\n",
              "      <td>0</td>\n",
              "      <td>0</td>\n",
              "      <td>0</td>\n",
              "      <td>0</td>\n",
              "      <td>0</td>\n",
              "      <td>0</td>\n",
              "      <td>0</td>\n",
              "      <td>0</td>\n",
              "      <td>0</td>\n",
              "      <td>0</td>\n",
              "      <td>0</td>\n",
              "      <td>0</td>\n",
              "      <td>0</td>\n",
              "      <td>...</td>\n",
              "      <td>0</td>\n",
              "      <td>0</td>\n",
              "      <td>0</td>\n",
              "      <td>0</td>\n",
              "      <td>0</td>\n",
              "      <td>0</td>\n",
              "      <td>0</td>\n",
              "      <td>0</td>\n",
              "      <td>0</td>\n",
              "      <td>0</td>\n",
              "      <td>0</td>\n",
              "      <td>0</td>\n",
              "      <td>0</td>\n",
              "      <td>0</td>\n",
              "      <td>0</td>\n",
              "      <td>0</td>\n",
              "      <td>0</td>\n",
              "      <td>0</td>\n",
              "      <td>0</td>\n",
              "      <td>0</td>\n",
              "      <td>0</td>\n",
              "      <td>0</td>\n",
              "      <td>0</td>\n",
              "      <td>0</td>\n",
              "      <td>0</td>\n",
              "      <td>0</td>\n",
              "      <td>0</td>\n",
              "      <td>0</td>\n",
              "      <td>0</td>\n",
              "      <td>0</td>\n",
              "      <td>0</td>\n",
              "      <td>0</td>\n",
              "      <td>0</td>\n",
              "      <td>0</td>\n",
              "      <td>0</td>\n",
              "      <td>0</td>\n",
              "      <td>0</td>\n",
              "      <td>0</td>\n",
              "      <td>0</td>\n",
              "      <td>0</td>\n",
              "    </tr>\n",
              "    <tr>\n",
              "      <th>3</th>\n",
              "      <td>0</td>\n",
              "      <td>0</td>\n",
              "      <td>0</td>\n",
              "      <td>0</td>\n",
              "      <td>0</td>\n",
              "      <td>0</td>\n",
              "      <td>0</td>\n",
              "      <td>0</td>\n",
              "      <td>0</td>\n",
              "      <td>0</td>\n",
              "      <td>0</td>\n",
              "      <td>0</td>\n",
              "      <td>0</td>\n",
              "      <td>0</td>\n",
              "      <td>0</td>\n",
              "      <td>0</td>\n",
              "      <td>0</td>\n",
              "      <td>0</td>\n",
              "      <td>0</td>\n",
              "      <td>0</td>\n",
              "      <td>0</td>\n",
              "      <td>0</td>\n",
              "      <td>0</td>\n",
              "      <td>0</td>\n",
              "      <td>1</td>\n",
              "      <td>0</td>\n",
              "      <td>0</td>\n",
              "      <td>0</td>\n",
              "      <td>0</td>\n",
              "      <td>0</td>\n",
              "      <td>0</td>\n",
              "      <td>0</td>\n",
              "      <td>0</td>\n",
              "      <td>0</td>\n",
              "      <td>0</td>\n",
              "      <td>0</td>\n",
              "      <td>0</td>\n",
              "      <td>0</td>\n",
              "      <td>0</td>\n",
              "      <td>0</td>\n",
              "      <td>...</td>\n",
              "      <td>0</td>\n",
              "      <td>0</td>\n",
              "      <td>0</td>\n",
              "      <td>0</td>\n",
              "      <td>0</td>\n",
              "      <td>0</td>\n",
              "      <td>0</td>\n",
              "      <td>0</td>\n",
              "      <td>0</td>\n",
              "      <td>0</td>\n",
              "      <td>0</td>\n",
              "      <td>0</td>\n",
              "      <td>0</td>\n",
              "      <td>0</td>\n",
              "      <td>0</td>\n",
              "      <td>0</td>\n",
              "      <td>0</td>\n",
              "      <td>0</td>\n",
              "      <td>0</td>\n",
              "      <td>0</td>\n",
              "      <td>0</td>\n",
              "      <td>0</td>\n",
              "      <td>0</td>\n",
              "      <td>0</td>\n",
              "      <td>0</td>\n",
              "      <td>0</td>\n",
              "      <td>0</td>\n",
              "      <td>0</td>\n",
              "      <td>0</td>\n",
              "      <td>0</td>\n",
              "      <td>0</td>\n",
              "      <td>0</td>\n",
              "      <td>0</td>\n",
              "      <td>0</td>\n",
              "      <td>0</td>\n",
              "      <td>0</td>\n",
              "      <td>0</td>\n",
              "      <td>0</td>\n",
              "      <td>0</td>\n",
              "      <td>0</td>\n",
              "    </tr>\n",
              "    <tr>\n",
              "      <th>4</th>\n",
              "      <td>0</td>\n",
              "      <td>0</td>\n",
              "      <td>0</td>\n",
              "      <td>0</td>\n",
              "      <td>0</td>\n",
              "      <td>0</td>\n",
              "      <td>0</td>\n",
              "      <td>0</td>\n",
              "      <td>0</td>\n",
              "      <td>0</td>\n",
              "      <td>0</td>\n",
              "      <td>0</td>\n",
              "      <td>0</td>\n",
              "      <td>0</td>\n",
              "      <td>0</td>\n",
              "      <td>0</td>\n",
              "      <td>0</td>\n",
              "      <td>0</td>\n",
              "      <td>0</td>\n",
              "      <td>0</td>\n",
              "      <td>0</td>\n",
              "      <td>0</td>\n",
              "      <td>0</td>\n",
              "      <td>0</td>\n",
              "      <td>2</td>\n",
              "      <td>0</td>\n",
              "      <td>0</td>\n",
              "      <td>0</td>\n",
              "      <td>0</td>\n",
              "      <td>0</td>\n",
              "      <td>0</td>\n",
              "      <td>0</td>\n",
              "      <td>0</td>\n",
              "      <td>0</td>\n",
              "      <td>0</td>\n",
              "      <td>0</td>\n",
              "      <td>0</td>\n",
              "      <td>0</td>\n",
              "      <td>0</td>\n",
              "      <td>0</td>\n",
              "      <td>...</td>\n",
              "      <td>0</td>\n",
              "      <td>0</td>\n",
              "      <td>0</td>\n",
              "      <td>0</td>\n",
              "      <td>0</td>\n",
              "      <td>0</td>\n",
              "      <td>0</td>\n",
              "      <td>0</td>\n",
              "      <td>0</td>\n",
              "      <td>0</td>\n",
              "      <td>0</td>\n",
              "      <td>0</td>\n",
              "      <td>0</td>\n",
              "      <td>0</td>\n",
              "      <td>0</td>\n",
              "      <td>0</td>\n",
              "      <td>0</td>\n",
              "      <td>0</td>\n",
              "      <td>0</td>\n",
              "      <td>0</td>\n",
              "      <td>0</td>\n",
              "      <td>0</td>\n",
              "      <td>0</td>\n",
              "      <td>0</td>\n",
              "      <td>0</td>\n",
              "      <td>0</td>\n",
              "      <td>0</td>\n",
              "      <td>0</td>\n",
              "      <td>0</td>\n",
              "      <td>0</td>\n",
              "      <td>0</td>\n",
              "      <td>0</td>\n",
              "      <td>0</td>\n",
              "      <td>0</td>\n",
              "      <td>0</td>\n",
              "      <td>0</td>\n",
              "      <td>0</td>\n",
              "      <td>0</td>\n",
              "      <td>0</td>\n",
              "      <td>0</td>\n",
              "    </tr>\n",
              "  </tbody>\n",
              "</table>\n",
              "<p>5 rows × 6864 columns</p>\n",
              "</div>"
            ],
            "text/plain": [
              "   !  %  &  '  ''  '3  'a  'cult  ...  zoo  zookeepers  zoology  –  ‘  ’  “  ”\n",
              "0  0  0  0  0   0   0   0      0  ...    0           0        0  0  0  0  0  0\n",
              "1  0  0  0  0   0   0   0      0  ...    0           0        0  0  0  0  0  0\n",
              "2  0  0  0  0   0   0   0      0  ...    0           0        0  0  0  0  0  0\n",
              "3  0  0  0  0   0   0   0      0  ...    0           0        0  0  0  0  0  0\n",
              "4  0  0  0  0   0   0   0      0  ...    0           0        0  0  0  0  0  0\n",
              "\n",
              "[5 rows x 6864 columns]"
            ]
          },
          "metadata": {},
          "execution_count": 96
        }
      ]
    },
    {
      "cell_type": "code",
      "metadata": {
        "colab": {
          "base_uri": "https://localhost:8080/",
          "height": 269
        },
        "id": "vElR5tbOUv2m",
        "outputId": "ed0a7fc5-0bc3-4a43-f272-c673034f26aa"
      },
      "source": [
        "bag_bigrams_dataframe.head()"
      ],
      "execution_count": null,
      "outputs": [
        {
          "output_type": "execute_result",
          "data": {
            "text/html": [
              "<div>\n",
              "<style scoped>\n",
              "    .dataframe tbody tr th:only-of-type {\n",
              "        vertical-align: middle;\n",
              "    }\n",
              "\n",
              "    .dataframe tbody tr th {\n",
              "        vertical-align: top;\n",
              "    }\n",
              "\n",
              "    .dataframe thead th {\n",
              "        text-align: right;\n",
              "    }\n",
              "</style>\n",
              "<table border=\"1\" class=\"dataframe\">\n",
              "  <thead>\n",
              "    <tr style=\"text-align: right;\">\n",
              "      <th></th>\n",
              "      <th>% ,</th>\n",
              "      <th>% country</th>\n",
              "      <th>% excellent</th>\n",
              "      <th>% in</th>\n",
              "      <th>% of</th>\n",
              "      <th>&amp; study</th>\n",
              "      <th>' ,</th>\n",
              "      <th>' ability</th>\n",
              "      <th>' accommodation</th>\n",
              "      <th>' accomplishment</th>\n",
              "      <th>' achievement</th>\n",
              "      <th>' acquisition</th>\n",
              "      <th>' acted</th>\n",
              "      <th>' adventurousness</th>\n",
              "      <th>' aim</th>\n",
              "      <th>' art</th>\n",
              "      <th>' attention</th>\n",
              "      <th>' attitude</th>\n",
              "      <th>' basic</th>\n",
              "      <th>' behavior</th>\n",
              "      <th>' benefit</th>\n",
              "      <th>' confidence</th>\n",
              "      <th>' control</th>\n",
              "      <th>' creation</th>\n",
              "      <th>' criticism</th>\n",
              "      <th>' culture</th>\n",
              "      <th>' current</th>\n",
              "      <th>' deeper</th>\n",
              "      <th>' development</th>\n",
              "      <th>' economic</th>\n",
              "      <th>' education</th>\n",
              "      <th>' effectiveness</th>\n",
              "      <th>' enthusiasm</th>\n",
              "      <th>' environment</th>\n",
              "      <th>' expectation</th>\n",
              "      <th>' experience</th>\n",
              "      <th>' family</th>\n",
              "      <th>' friend</th>\n",
              "      <th>' future</th>\n",
              "      <th>' hardship</th>\n",
              "      <th>...</th>\n",
              "      <th>zoo ha</th>\n",
              "      <th>zoo have</th>\n",
              "      <th>zoo is</th>\n",
              "      <th>zoo just</th>\n",
              "      <th>zoo kept</th>\n",
              "      <th>zoo not</th>\n",
              "      <th>zoo offer</th>\n",
              "      <th>zoo play</th>\n",
              "      <th>zoo preserve</th>\n",
              "      <th>zoo provide</th>\n",
              "      <th>zoo serve</th>\n",
              "      <th>zoo should</th>\n",
              "      <th>zoo than</th>\n",
              "      <th>zoo they</th>\n",
              "      <th>zoo to</th>\n",
              "      <th>zoo towards</th>\n",
              "      <th>zoo where</th>\n",
              "      <th>zoo will</th>\n",
              "      <th>zoo would</th>\n",
              "      <th>zoo you</th>\n",
              "      <th>zookeepers ,</th>\n",
              "      <th>zookeepers have</th>\n",
              "      <th>zoology argue</th>\n",
              "      <th>– the</th>\n",
              "      <th>– these</th>\n",
              "      <th>– this</th>\n",
              "      <th>‘ ha</th>\n",
              "      <th>‘ trong</th>\n",
              "      <th>’ bay</th>\n",
              "      <th>’ civil</th>\n",
              "      <th>’ culture</th>\n",
              "      <th>’ drum</th>\n",
              "      <th>’ duty</th>\n",
              "      <th>’ health</th>\n",
              "      <th>’ m</th>\n",
              "      <th>’ s</th>\n",
              "      <th>’ solid</th>\n",
              "      <th>’ t</th>\n",
              "      <th>“ knowledge</th>\n",
              "      <th>” ha</th>\n",
              "    </tr>\n",
              "  </thead>\n",
              "  <tbody>\n",
              "    <tr>\n",
              "      <th>0</th>\n",
              "      <td>0</td>\n",
              "      <td>0</td>\n",
              "      <td>0</td>\n",
              "      <td>0</td>\n",
              "      <td>0</td>\n",
              "      <td>0</td>\n",
              "      <td>0</td>\n",
              "      <td>0</td>\n",
              "      <td>0</td>\n",
              "      <td>0</td>\n",
              "      <td>0</td>\n",
              "      <td>0</td>\n",
              "      <td>0</td>\n",
              "      <td>0</td>\n",
              "      <td>0</td>\n",
              "      <td>0</td>\n",
              "      <td>0</td>\n",
              "      <td>0</td>\n",
              "      <td>0</td>\n",
              "      <td>0</td>\n",
              "      <td>0</td>\n",
              "      <td>0</td>\n",
              "      <td>0</td>\n",
              "      <td>0</td>\n",
              "      <td>0</td>\n",
              "      <td>0</td>\n",
              "      <td>0</td>\n",
              "      <td>0</td>\n",
              "      <td>0</td>\n",
              "      <td>0</td>\n",
              "      <td>0</td>\n",
              "      <td>0</td>\n",
              "      <td>0</td>\n",
              "      <td>0</td>\n",
              "      <td>0</td>\n",
              "      <td>0</td>\n",
              "      <td>0</td>\n",
              "      <td>0</td>\n",
              "      <td>0</td>\n",
              "      <td>0</td>\n",
              "      <td>...</td>\n",
              "      <td>0</td>\n",
              "      <td>0</td>\n",
              "      <td>0</td>\n",
              "      <td>0</td>\n",
              "      <td>0</td>\n",
              "      <td>0</td>\n",
              "      <td>0</td>\n",
              "      <td>0</td>\n",
              "      <td>0</td>\n",
              "      <td>0</td>\n",
              "      <td>0</td>\n",
              "      <td>0</td>\n",
              "      <td>0</td>\n",
              "      <td>0</td>\n",
              "      <td>0</td>\n",
              "      <td>0</td>\n",
              "      <td>0</td>\n",
              "      <td>0</td>\n",
              "      <td>0</td>\n",
              "      <td>0</td>\n",
              "      <td>0</td>\n",
              "      <td>0</td>\n",
              "      <td>0</td>\n",
              "      <td>0</td>\n",
              "      <td>0</td>\n",
              "      <td>0</td>\n",
              "      <td>0</td>\n",
              "      <td>0</td>\n",
              "      <td>0</td>\n",
              "      <td>0</td>\n",
              "      <td>0</td>\n",
              "      <td>0</td>\n",
              "      <td>0</td>\n",
              "      <td>0</td>\n",
              "      <td>0</td>\n",
              "      <td>0</td>\n",
              "      <td>0</td>\n",
              "      <td>0</td>\n",
              "      <td>0</td>\n",
              "      <td>0</td>\n",
              "    </tr>\n",
              "    <tr>\n",
              "      <th>1</th>\n",
              "      <td>0</td>\n",
              "      <td>0</td>\n",
              "      <td>0</td>\n",
              "      <td>0</td>\n",
              "      <td>0</td>\n",
              "      <td>0</td>\n",
              "      <td>0</td>\n",
              "      <td>0</td>\n",
              "      <td>0</td>\n",
              "      <td>0</td>\n",
              "      <td>0</td>\n",
              "      <td>0</td>\n",
              "      <td>0</td>\n",
              "      <td>0</td>\n",
              "      <td>0</td>\n",
              "      <td>0</td>\n",
              "      <td>0</td>\n",
              "      <td>0</td>\n",
              "      <td>0</td>\n",
              "      <td>0</td>\n",
              "      <td>0</td>\n",
              "      <td>0</td>\n",
              "      <td>0</td>\n",
              "      <td>0</td>\n",
              "      <td>0</td>\n",
              "      <td>0</td>\n",
              "      <td>0</td>\n",
              "      <td>0</td>\n",
              "      <td>0</td>\n",
              "      <td>0</td>\n",
              "      <td>0</td>\n",
              "      <td>0</td>\n",
              "      <td>0</td>\n",
              "      <td>0</td>\n",
              "      <td>0</td>\n",
              "      <td>0</td>\n",
              "      <td>0</td>\n",
              "      <td>0</td>\n",
              "      <td>0</td>\n",
              "      <td>0</td>\n",
              "      <td>...</td>\n",
              "      <td>0</td>\n",
              "      <td>0</td>\n",
              "      <td>0</td>\n",
              "      <td>0</td>\n",
              "      <td>0</td>\n",
              "      <td>0</td>\n",
              "      <td>0</td>\n",
              "      <td>0</td>\n",
              "      <td>0</td>\n",
              "      <td>0</td>\n",
              "      <td>0</td>\n",
              "      <td>0</td>\n",
              "      <td>0</td>\n",
              "      <td>0</td>\n",
              "      <td>0</td>\n",
              "      <td>0</td>\n",
              "      <td>0</td>\n",
              "      <td>0</td>\n",
              "      <td>0</td>\n",
              "      <td>0</td>\n",
              "      <td>0</td>\n",
              "      <td>0</td>\n",
              "      <td>0</td>\n",
              "      <td>0</td>\n",
              "      <td>0</td>\n",
              "      <td>0</td>\n",
              "      <td>0</td>\n",
              "      <td>0</td>\n",
              "      <td>0</td>\n",
              "      <td>0</td>\n",
              "      <td>0</td>\n",
              "      <td>0</td>\n",
              "      <td>0</td>\n",
              "      <td>0</td>\n",
              "      <td>0</td>\n",
              "      <td>0</td>\n",
              "      <td>0</td>\n",
              "      <td>0</td>\n",
              "      <td>0</td>\n",
              "      <td>0</td>\n",
              "    </tr>\n",
              "    <tr>\n",
              "      <th>2</th>\n",
              "      <td>0</td>\n",
              "      <td>0</td>\n",
              "      <td>0</td>\n",
              "      <td>0</td>\n",
              "      <td>0</td>\n",
              "      <td>0</td>\n",
              "      <td>0</td>\n",
              "      <td>0</td>\n",
              "      <td>0</td>\n",
              "      <td>0</td>\n",
              "      <td>0</td>\n",
              "      <td>0</td>\n",
              "      <td>0</td>\n",
              "      <td>0</td>\n",
              "      <td>0</td>\n",
              "      <td>0</td>\n",
              "      <td>0</td>\n",
              "      <td>0</td>\n",
              "      <td>0</td>\n",
              "      <td>0</td>\n",
              "      <td>0</td>\n",
              "      <td>0</td>\n",
              "      <td>0</td>\n",
              "      <td>0</td>\n",
              "      <td>0</td>\n",
              "      <td>0</td>\n",
              "      <td>0</td>\n",
              "      <td>0</td>\n",
              "      <td>0</td>\n",
              "      <td>0</td>\n",
              "      <td>0</td>\n",
              "      <td>0</td>\n",
              "      <td>0</td>\n",
              "      <td>0</td>\n",
              "      <td>0</td>\n",
              "      <td>0</td>\n",
              "      <td>0</td>\n",
              "      <td>0</td>\n",
              "      <td>0</td>\n",
              "      <td>0</td>\n",
              "      <td>...</td>\n",
              "      <td>0</td>\n",
              "      <td>0</td>\n",
              "      <td>0</td>\n",
              "      <td>0</td>\n",
              "      <td>0</td>\n",
              "      <td>0</td>\n",
              "      <td>0</td>\n",
              "      <td>0</td>\n",
              "      <td>0</td>\n",
              "      <td>0</td>\n",
              "      <td>0</td>\n",
              "      <td>0</td>\n",
              "      <td>0</td>\n",
              "      <td>0</td>\n",
              "      <td>0</td>\n",
              "      <td>0</td>\n",
              "      <td>0</td>\n",
              "      <td>0</td>\n",
              "      <td>0</td>\n",
              "      <td>0</td>\n",
              "      <td>0</td>\n",
              "      <td>0</td>\n",
              "      <td>0</td>\n",
              "      <td>0</td>\n",
              "      <td>0</td>\n",
              "      <td>0</td>\n",
              "      <td>0</td>\n",
              "      <td>0</td>\n",
              "      <td>0</td>\n",
              "      <td>0</td>\n",
              "      <td>0</td>\n",
              "      <td>0</td>\n",
              "      <td>0</td>\n",
              "      <td>0</td>\n",
              "      <td>0</td>\n",
              "      <td>0</td>\n",
              "      <td>0</td>\n",
              "      <td>0</td>\n",
              "      <td>0</td>\n",
              "      <td>0</td>\n",
              "    </tr>\n",
              "    <tr>\n",
              "      <th>3</th>\n",
              "      <td>0</td>\n",
              "      <td>0</td>\n",
              "      <td>0</td>\n",
              "      <td>0</td>\n",
              "      <td>0</td>\n",
              "      <td>0</td>\n",
              "      <td>0</td>\n",
              "      <td>0</td>\n",
              "      <td>0</td>\n",
              "      <td>0</td>\n",
              "      <td>0</td>\n",
              "      <td>0</td>\n",
              "      <td>0</td>\n",
              "      <td>0</td>\n",
              "      <td>0</td>\n",
              "      <td>0</td>\n",
              "      <td>0</td>\n",
              "      <td>0</td>\n",
              "      <td>0</td>\n",
              "      <td>0</td>\n",
              "      <td>0</td>\n",
              "      <td>0</td>\n",
              "      <td>0</td>\n",
              "      <td>0</td>\n",
              "      <td>0</td>\n",
              "      <td>0</td>\n",
              "      <td>0</td>\n",
              "      <td>0</td>\n",
              "      <td>0</td>\n",
              "      <td>0</td>\n",
              "      <td>0</td>\n",
              "      <td>0</td>\n",
              "      <td>0</td>\n",
              "      <td>0</td>\n",
              "      <td>0</td>\n",
              "      <td>0</td>\n",
              "      <td>0</td>\n",
              "      <td>0</td>\n",
              "      <td>0</td>\n",
              "      <td>0</td>\n",
              "      <td>...</td>\n",
              "      <td>0</td>\n",
              "      <td>0</td>\n",
              "      <td>0</td>\n",
              "      <td>0</td>\n",
              "      <td>0</td>\n",
              "      <td>0</td>\n",
              "      <td>0</td>\n",
              "      <td>0</td>\n",
              "      <td>0</td>\n",
              "      <td>0</td>\n",
              "      <td>0</td>\n",
              "      <td>0</td>\n",
              "      <td>0</td>\n",
              "      <td>0</td>\n",
              "      <td>0</td>\n",
              "      <td>0</td>\n",
              "      <td>0</td>\n",
              "      <td>0</td>\n",
              "      <td>0</td>\n",
              "      <td>0</td>\n",
              "      <td>0</td>\n",
              "      <td>0</td>\n",
              "      <td>0</td>\n",
              "      <td>0</td>\n",
              "      <td>0</td>\n",
              "      <td>0</td>\n",
              "      <td>0</td>\n",
              "      <td>0</td>\n",
              "      <td>0</td>\n",
              "      <td>0</td>\n",
              "      <td>0</td>\n",
              "      <td>0</td>\n",
              "      <td>0</td>\n",
              "      <td>0</td>\n",
              "      <td>0</td>\n",
              "      <td>0</td>\n",
              "      <td>0</td>\n",
              "      <td>0</td>\n",
              "      <td>0</td>\n",
              "      <td>0</td>\n",
              "    </tr>\n",
              "    <tr>\n",
              "      <th>4</th>\n",
              "      <td>0</td>\n",
              "      <td>0</td>\n",
              "      <td>0</td>\n",
              "      <td>0</td>\n",
              "      <td>0</td>\n",
              "      <td>0</td>\n",
              "      <td>0</td>\n",
              "      <td>0</td>\n",
              "      <td>0</td>\n",
              "      <td>0</td>\n",
              "      <td>0</td>\n",
              "      <td>0</td>\n",
              "      <td>0</td>\n",
              "      <td>0</td>\n",
              "      <td>0</td>\n",
              "      <td>0</td>\n",
              "      <td>0</td>\n",
              "      <td>0</td>\n",
              "      <td>0</td>\n",
              "      <td>0</td>\n",
              "      <td>0</td>\n",
              "      <td>0</td>\n",
              "      <td>0</td>\n",
              "      <td>0</td>\n",
              "      <td>0</td>\n",
              "      <td>0</td>\n",
              "      <td>0</td>\n",
              "      <td>0</td>\n",
              "      <td>0</td>\n",
              "      <td>0</td>\n",
              "      <td>0</td>\n",
              "      <td>0</td>\n",
              "      <td>0</td>\n",
              "      <td>0</td>\n",
              "      <td>0</td>\n",
              "      <td>0</td>\n",
              "      <td>0</td>\n",
              "      <td>0</td>\n",
              "      <td>0</td>\n",
              "      <td>0</td>\n",
              "      <td>...</td>\n",
              "      <td>0</td>\n",
              "      <td>0</td>\n",
              "      <td>0</td>\n",
              "      <td>0</td>\n",
              "      <td>0</td>\n",
              "      <td>0</td>\n",
              "      <td>0</td>\n",
              "      <td>0</td>\n",
              "      <td>0</td>\n",
              "      <td>0</td>\n",
              "      <td>0</td>\n",
              "      <td>0</td>\n",
              "      <td>0</td>\n",
              "      <td>0</td>\n",
              "      <td>0</td>\n",
              "      <td>0</td>\n",
              "      <td>0</td>\n",
              "      <td>0</td>\n",
              "      <td>0</td>\n",
              "      <td>0</td>\n",
              "      <td>0</td>\n",
              "      <td>0</td>\n",
              "      <td>0</td>\n",
              "      <td>0</td>\n",
              "      <td>0</td>\n",
              "      <td>0</td>\n",
              "      <td>0</td>\n",
              "      <td>0</td>\n",
              "      <td>0</td>\n",
              "      <td>0</td>\n",
              "      <td>0</td>\n",
              "      <td>0</td>\n",
              "      <td>0</td>\n",
              "      <td>0</td>\n",
              "      <td>0</td>\n",
              "      <td>0</td>\n",
              "      <td>0</td>\n",
              "      <td>0</td>\n",
              "      <td>0</td>\n",
              "      <td>0</td>\n",
              "    </tr>\n",
              "  </tbody>\n",
              "</table>\n",
              "<p>5 rows × 51773 columns</p>\n",
              "</div>"
            ],
            "text/plain": [
              "   % ,  % country  % excellent  % in  ...  ’ solid  ’ t  “ knowledge  ” ha\n",
              "0    0          0            0     0  ...        0    0            0     0\n",
              "1    0          0            0     0  ...        0    0            0     0\n",
              "2    0          0            0     0  ...        0    0            0     0\n",
              "3    0          0            0     0  ...        0    0            0     0\n",
              "4    0          0            0     0  ...        0    0            0     0\n",
              "\n",
              "[5 rows x 51773 columns]"
            ]
          },
          "metadata": {},
          "execution_count": 97
        }
      ]
    },
    {
      "cell_type": "code",
      "metadata": {
        "id": "81xTFy7kUz8c",
        "colab": {
          "base_uri": "https://localhost:8080/"
        },
        "outputId": "35bf7003-f427-4518-b0a8-15669cb67d78"
      },
      "source": [
        "# Select the 50 words/bigram most correlated to the output (correlation computed considering \n",
        "# only the train test).\n",
        "\n",
        "train_correlation_scores_words=get_correlation_scores(bag_words_dataframe.iloc[sentence_id_train_set],train_argumentative_sentences_claim_presence_map)\n",
        "train_correlation_scores_bigram=get_correlation_scores(bag_bigrams_dataframe.iloc[sentence_id_train_set],train_argumentative_sentences_claim_presence_map)"
      ],
      "execution_count": null,
      "outputs": [
        {
          "output_type": "stream",
          "name": "stderr",
          "text": [
            "/usr/local/lib/python3.7/dist-packages/numpy/lib/function_base.py:2559: RuntimeWarning: invalid value encountered in true_divide\n",
            "  c /= stddev[:, None]\n",
            "/usr/local/lib/python3.7/dist-packages/numpy/lib/function_base.py:2560: RuntimeWarning: invalid value encountered in true_divide\n",
            "  c /= stddev[None, :]\n"
          ]
        }
      ]
    },
    {
      "cell_type": "code",
      "metadata": {
        "id": "fqfOtNjiFIJ0"
      },
      "source": [
        "train_correlation_scores_words=[correlation_score for correlation_score in train_correlation_scores_words if not math.isnan(correlation_score[0])]"
      ],
      "execution_count": null,
      "outputs": []
    },
    {
      "cell_type": "code",
      "metadata": {
        "colab": {
          "base_uri": "https://localhost:8080/"
        },
        "id": "wX5VFJpWIAao",
        "outputId": "7017ccd6-3b9f-46ba-e710-01a2de0ac344"
      },
      "source": [
        "train_correlation_scores_words[0:10]"
      ],
      "execution_count": null,
      "outputs": [
        {
          "output_type": "execute_result",
          "data": {
            "text/plain": [
              "[(0.027838191340239588, 'brother'),\n",
              " (0.027838190653487412, 'adolescent'),\n",
              " (0.025159436321341384, \"''\"),\n",
              " (0.023543631089607452, 'dormitory'),\n",
              " (0.019682387548007912, \"'3\"),\n",
              " (0.019682387548007912, 'acting'),\n",
              " (0.019682387548007912, 'actively'),\n",
              " (0.016319982263955066, '!'),\n",
              " (0.016219210955333335, '%'),\n",
              " (0.01128539411819741, '&')]"
            ]
          },
          "metadata": {},
          "execution_count": 100
        }
      ]
    },
    {
      "cell_type": "code",
      "metadata": {
        "id": "UCv05i8oICIz"
      },
      "source": [
        "most_correlated_word=[word[1] for word in train_correlation_scores_words[0:50]]"
      ],
      "execution_count": null,
      "outputs": []
    },
    {
      "cell_type": "code",
      "metadata": {
        "id": "gZGZoTtrIEQd"
      },
      "source": [
        "# Save the most correlated column of the BOW into a text file.\n",
        "\n",
        "f = open(\"claim_premise_50_BOW.txt\", \"a\")\n",
        "for word in most_correlated_word:\n",
        "  f.write(\"{}|ù\".format(word))\n",
        "f.close()"
      ],
      "execution_count": null,
      "outputs": []
    },
    {
      "cell_type": "code",
      "metadata": {
        "id": "r_7yEEPTIHKu"
      },
      "source": [
        "# Export the bag of bigrams of the POS tag for the 50 words most related to \n",
        "# the argumentative label.\n",
        "\n",
        "bag_words_dataframe[argumentative_sentences_not_both_map][most_correlated_word].to_csv('claim_premise_BOW.csv',index=False)"
      ],
      "execution_count": null,
      "outputs": []
    },
    {
      "cell_type": "code",
      "metadata": {
        "id": "Q3ZgE_qSGQ6W"
      },
      "source": [
        "train_correlation_scores_bigram=[correlation_score for correlation_score in train_correlation_scores_bigram if not math.isnan(correlation_score[0])]"
      ],
      "execution_count": null,
      "outputs": []
    },
    {
      "cell_type": "code",
      "metadata": {
        "colab": {
          "base_uri": "https://localhost:8080/"
        },
        "id": "q6R2cSCQILyO",
        "outputId": "a9c5e3fd-b3a2-43c2-aa1d-73d0e1f1b2c2"
      },
      "source": [
        "train_correlation_scores_bigram[0:10]"
      ],
      "execution_count": null,
      "outputs": [
        {
          "output_type": "execute_result",
          "data": {
            "text/plain": [
              "[(0.019682387548007912, '% excellent'),\n",
              " (0.022578310578958743, \"' ,\"),\n",
              " (0.016215240352282247, '% of'),\n",
              " (0.01128539411819741, '& study'),\n",
              " (0.019682387548007912, \"' acted\"),\n",
              " (0.019682387548007912, \"' aim\"),\n",
              " (0.019682387548007912, \"' attention\"),\n",
              " (0.019682387548007912, \"' development\"),\n",
              " (0.027838191340239588, \"' education\"),\n",
              " (0.019682387548007912, \"' expectation\")]"
            ]
          },
          "metadata": {},
          "execution_count": 105
        }
      ]
    },
    {
      "cell_type": "code",
      "metadata": {
        "id": "06Gy0jU8INBN"
      },
      "source": [
        "most_correlated_bigram=[bigram[1] for bigram in train_correlation_scores_bigram[0:50]]"
      ],
      "execution_count": null,
      "outputs": []
    },
    {
      "cell_type": "code",
      "metadata": {
        "id": "v-cezWyHIOSs"
      },
      "source": [
        "# Save the bigrams more correlated to the argumentative sections into a text file.\n",
        "\n",
        "f = open(\"claim_premise_50_Bigram.txt\", \"a\")\n",
        "for bigram in most_correlated_bigram:\n",
        "  f.write(\"{}|ù\".format(bigram))\n",
        "f.close()"
      ],
      "execution_count": null,
      "outputs": []
    },
    {
      "cell_type": "code",
      "metadata": {
        "id": "9DolAOaGIRF8"
      },
      "source": [
        "# Export the bag of bigrams of the POS tag for the 50 bigrams most related to \n",
        "# the argumentative label.\n",
        "\n",
        "bag_bigrams_dataframe[argumentative_sentences_not_both_map][most_correlated_bigram].to_csv('claim_premise_Bigram.csv',index=False)"
      ],
      "execution_count": null,
      "outputs": []
    },
    {
      "cell_type": "code",
      "metadata": {
        "id": "llRxTx1d8UnZ",
        "colab": {
          "base_uri": "https://localhost:8080/"
        },
        "outputId": "d1e22bc5-b468-4638-c4ce-ea79e88996fe"
      },
      "source": [
        "# Compute the correlation on all the data (training and test set).\n",
        "correlation_scores_words=get_correlation_scores(bag_words_dataframe[argumentative_sentences_not_both_map][most_correlated_word],argumentative_sentences_claim_presence_map)\n",
        "correlation_scores_bigram=get_correlation_scores(bag_bigrams_dataframe[argumentative_sentences_not_both_map][most_correlated_bigram],argumentative_sentences_claim_presence_map)"
      ],
      "execution_count": null,
      "outputs": [
        {
          "output_type": "stream",
          "name": "stderr",
          "text": [
            "/usr/local/lib/python3.7/dist-packages/numpy/lib/function_base.py:2559: RuntimeWarning: invalid value encountered in true_divide\n",
            "  c /= stddev[:, None]\n",
            "/usr/local/lib/python3.7/dist-packages/numpy/lib/function_base.py:2560: RuntimeWarning: invalid value encountered in true_divide\n",
            "  c /= stddev[None, :]\n"
          ]
        }
      ]
    },
    {
      "cell_type": "code",
      "metadata": {
        "id": "-xPFfwkZ8uMr",
        "colab": {
          "base_uri": "https://localhost:8080/"
        },
        "outputId": "5209e94c-953b-4937-d0de-a63a761c0d61"
      },
      "source": [
        "correlation_scores_words"
      ],
      "execution_count": null,
      "outputs": [
        {
          "output_type": "execute_result",
          "data": {
            "text/plain": [
              "[(0.046382464119263944, \"'\"),\n",
              " (0.04177812168966306, ','),\n",
              " (0.03347300811681767, \"''\"),\n",
              " (0.023188918945495372, '!'),\n",
              " (0.023188918945495372, '15'),\n",
              " (0.023188917324864288, '%'),\n",
              " (0.020738860426695906, 'brother'),\n",
              " (0.020738859339848405, '30'),\n",
              " (nan, '2014'),\n",
              " (nan, \"'globalization\"),\n",
              " (nan, '18'),\n",
              " (0.025496907852658682, \"'a\"),\n",
              " (0.020738860426695906, \"'ll\"),\n",
              " (0.020738859339848405, \"'ve\"),\n",
              " (0.020738859339848405, '1'),\n",
              " (0.018027351721398768, '&'),\n",
              " (0.018027351721398768, \"'dug\"),\n",
              " (0.017958701042596243, '2'),\n",
              " (0.01491970772685608, \"'m\"),\n",
              " (0.014661847540934393, 'acting'),\n",
              " (0.014661847540934393, '1st'),\n",
              " (0.014661847540934393, '--'),\n",
              " (0.014661847540934393, '.'),\n",
              " (0.014661847540934393, '100'),\n",
              " (0.014661847540934393, '20'),\n",
              " (0.013807393362853967, 'adolescent'),\n",
              " (0.0134647192375788, \"'s\"),\n",
              " (0.010486043388044888, '('),\n",
              " (0.010486043388044888, ')'),\n",
              " (0.01036652303225815, \"'3\"),\n",
              " (0.01036652303225815, \"'re\"),\n",
              " (0.01036652303225815, '...'),\n",
              " (0.01036652303225815, '1960'),\n",
              " (0.01036652303225815, '2050'),\n",
              " (0.01036652303225815, \"'halo\"),\n",
              " (0.01036652303225815, \"'low\"),\n",
              " (0.01036652303225815, \"'social\"),\n",
              " (0.01036652303225815, '170'),\n",
              " (0.01036652303225815, '17th'),\n",
              " (0.01036652303225815, '19'),\n",
              " (0.01036652303225815, '2010'),\n",
              " (0.01036652303225815, '24'),\n",
              " (0.006537941669828392, '10'),\n",
              " (0.005838196571181817, '-'),\n",
              " (0.0054175301558621455, '21st'),\n",
              " (0.003136540958149125, 'dormitory'),\n",
              " (0.00156242537218084, 'actively'),\n",
              " (0.00156242537218084, '3'),\n",
              " (nan, '19th'),\n",
              " (0.014661847540934393, '2003')]"
            ]
          },
          "metadata": {},
          "execution_count": 110
        }
      ]
    },
    {
      "cell_type": "code",
      "metadata": {
        "colab": {
          "base_uri": "https://localhost:8080/"
        },
        "id": "139AdTZp8kt4",
        "outputId": "22df65ef-ebc7-4549-c977-049a18044e31"
      },
      "source": [
        "correlation_scores_bigram"
      ],
      "execution_count": null,
      "outputs": [
        {
          "output_type": "execute_result",
          "data": {
            "text/plain": [
              "[(nan, \"' aim\"),\n",
              " (nan, \"' management\"),\n",
              " (0.03258128791648968, \"' life\"),\n",
              " (nan, \"' creation\"),\n",
              " (0.03123012596864997, \"' learning\"),\n",
              " (0.027622583284306564, \"' health\"),\n",
              " (0.025496907852658682, \"' attention\"),\n",
              " (0.025496907852658682, \"' is\"),\n",
              " (0.025496907852658682, \"' criticism\"),\n",
              " (0.025496907852658682, \"' future\"),\n",
              " (0.020738860426695906, '% of'),\n",
              " (0.018027351721398768, '& study'),\n",
              " (0.018027351721398768, \"' experience\"),\n",
              " (0.018027351721398768, \"' impression\"),\n",
              " (0.018027351721398768, \"' hardship\"),\n",
              " (0.018027351721398768, \"' live\"),\n",
              " (0.018027351721398768, \"' pressure\"),\n",
              " (0.018027351721398768, \"' primary\"),\n",
              " (0.018027351721398768, \"' offering\"),\n",
              " (0.018027351721398768, \"' permission\"),\n",
              " (0.018027351721398768, 'knowledge out'),\n",
              " (0.018027351721398768, 'knowledge resource'),\n",
              " (0.018027351721398768, \"' art\"),\n",
              " (0.018027351721398768, \"' current\"),\n",
              " (0.018027351721398768, \"' deeper\"),\n",
              " (0.018027351721398768, \"' enthusiasm\"),\n",
              " (0.018027351721398768, \"' job\"),\n",
              " (0.018027351721398768, \"' right\"),\n",
              " (0.014827722621964785, \"' ,\"),\n",
              " (0.014661847540934393, \"' personality\"),\n",
              " (0.014661847540934393, \"' behavior\"),\n",
              " (0.014661847540934393, \"' money\"),\n",
              " (0.01036652303225815, '% excellent'),\n",
              " (0.01036652303225815, \"' acted\"),\n",
              " (0.01036652303225815, \"' development\"),\n",
              " (0.01036652303225815, \"' education\"),\n",
              " (0.01036652303225815, \"' expectation\"),\n",
              " (0.01036652303225815, \"' friend\"),\n",
              " (0.01036652303225815, \"' idea\"),\n",
              " (0.01036652303225815, 'applicable to'),\n",
              " (0.01036652303225815, \"' point\"),\n",
              " (0.01036652303225815, \"' accommodation\"),\n",
              " (0.01036652303225815, \"' interest\"),\n",
              " (0.01036652303225815, \"' popularity\"),\n",
              " (0.01036652303225815, \"' achievement\"),\n",
              " (0.01036652303225815, \"' acquisition\"),\n",
              " (0.01036652303225815, \"' attitude\"),\n",
              " (0.01036652303225815, \"' culture\"),\n",
              " (0.009386947276817858, 'knowledge is'),\n",
              " (0.0054175301558621455, \"' performance\")]"
            ]
          },
          "metadata": {},
          "execution_count": 111
        }
      ]
    },
    {
      "cell_type": "code",
      "metadata": {
        "id": "GrjaFzu6jdsV"
      },
      "source": [
        "# Export the datasets.\n",
        "bag_words_dataframe[most_correlated_word].to_csv('all_sentences_claim_premise_BOW.csv',index=False)\n",
        "bag_bigrams_dataframe[most_correlated_bigram].to_csv('all_sentences_claim_premise_Bigram.csv',index=False)"
      ],
      "execution_count": null,
      "outputs": []
    },
    {
      "cell_type": "markdown",
      "metadata": {
        "id": "L5AcXMWGWoSO"
      },
      "source": [
        "# **Imported n-grams BOW**"
      ]
    },
    {
      "cell_type": "code",
      "metadata": {
        "colab": {
          "base_uri": "https://localhost:8080/"
        },
        "id": "R2q8l4UwWtqx",
        "outputId": "d70c11c4-d70a-4f73-e860-ca6814532a04"
      },
      "source": [
        "# Compute the correlation scores of the BOW obtained from the n-grams retrieved\n",
        "# from the appendix of the guidelines of the Stab and Gurevych dataset.\n",
        "# In the appendix this n-grams where indicated has representative of the different \n",
        "# types of argumentative sections.\n",
        "\n",
        "imported_ngrams_BOW=pd.read_csv('essay_BOW_appendix_words.csv')\n",
        "\n",
        "imported_ngrams_BOW[argumentative_sentences_not_both_map].to_csv('claim_premise_BOW_appendix_words.csv',index=False)\n",
        "\n",
        "correlation_scores_imported_ngrams=get_correlation_scores(imported_ngrams_BOW[argumentative_sentences_not_both_map],argumentative_sentences_claim_presence_map)"
      ],
      "execution_count": null,
      "outputs": [
        {
          "output_type": "stream",
          "name": "stderr",
          "text": [
            "/usr/local/lib/python3.7/dist-packages/numpy/lib/function_base.py:2559: RuntimeWarning: invalid value encountered in true_divide\n",
            "  c /= stddev[:, None]\n",
            "/usr/local/lib/python3.7/dist-packages/numpy/lib/function_base.py:2560: RuntimeWarning: invalid value encountered in true_divide\n",
            "  c /= stddev[None, :]\n"
          ]
        }
      ]
    },
    {
      "cell_type": "code",
      "metadata": {
        "colab": {
          "base_uri": "https://localhost:8080/"
        },
        "id": "tkWmUAjzc9ul",
        "outputId": "84b42121-3047-48b5-a7bc-3b41e572e3b4"
      },
      "source": [
        "correlation_scores_imported_ngrams"
      ],
      "execution_count": null,
      "outputs": [
        {
          "output_type": "execute_result",
          "data": {
            "text/plain": [
              "[(nan, 'demonstrates that'),\n",
              " (nan, 'implies'),\n",
              " (0.21849436834835254, 'in conclusion'),\n",
              " (nan, 'indicates that'),\n",
              " (nan, 'it follows that'),\n",
              " (nan, 'it should be clear that'),\n",
              " (nan, 'it should be clear'),\n",
              " (nan, 'suggests that'),\n",
              " (0.12807387728983569, 'therefore'),\n",
              " (nan, 'assuming that'),\n",
              " (nan, 'as'),\n",
              " (nan, 'derived from'),\n",
              " (0.15316050577391843, 'for example'),\n",
              " (0.10544239808576585, 'for instance'),\n",
              " (0.10227478626728527, 'to sum up'),\n",
              " (0.05382813882949902, 'for'),\n",
              " (0.0510224344424156, 'conclude that'),\n",
              " (0.04113747181073918, 'so'),\n",
              " (0.04093734671213381, 'thus'),\n",
              " (0.03173754391035333, 'hence'),\n",
              " (0.023947326726214906, 'because'),\n",
              " (0.021461680758492266, 'besides'),\n",
              " (0.018027351721398768, 'deduced'),\n",
              " (0.018027351721398768, 'for the reason that'),\n",
              " (0.006763988708740601, 'accordingly'),\n",
              " (nan, 'given that'),\n",
              " (0.018027351721398768, 'in light of'),\n",
              " (0.01700047760612272, 'in short'),\n",
              " (0.012599098863413451, 'consequently'),\n",
              " (0.010888433686579364, 'furthermore'),\n",
              " (0.0036569126610056213, 'due to'),\n",
              " (0.0027077191848176663, 'in that'),\n",
              " (0.002000433719306649, 'clearly'),\n",
              " (0.0012294859788884785, 'in addition'),\n",
              " (nan, 'in view of'),\n",
              " (nan, 'indicated by'),\n",
              " (nan, 'is supported by'),\n",
              " (0.04094503332691064, 'moreover'),\n",
              " (0.015651599644631052, 'since'),\n",
              " (0.010486043388044888, 'whereas')]"
            ]
          },
          "metadata": {},
          "execution_count": 114
        }
      ]
    },
    {
      "cell_type": "markdown",
      "metadata": {
        "id": "uQtIdMClVIG2"
      },
      "source": [
        "# **Subjectivity**"
      ]
    },
    {
      "cell_type": "code",
      "metadata": {
        "id": "SR_xwORaV0M3"
      },
      "source": [
        "# Read the file\n",
        "scores_text=open(\"subj_obj.txt\").read()"
      ],
      "execution_count": null,
      "outputs": []
    },
    {
      "cell_type": "code",
      "metadata": {
        "id": "eYKy5dBCWfWV"
      },
      "source": [
        "# Scores of the sentences are separated by the character \"-\" and the last of \n",
        "# these characters is not followed by any score.\n",
        "subjectivity_scores=scores_text.split('--')\n",
        "\n",
        "subjectivity_scores=subjectivity_scores[:-1]"
      ],
      "execution_count": null,
      "outputs": []
    },
    {
      "cell_type": "code",
      "metadata": {
        "colab": {
          "base_uri": "https://localhost:8080/"
        },
        "id": "GV82dVnlXA3Q",
        "outputId": "b8245e6b-34bd-4692-ed44-9d7c72981e33"
      },
      "source": [
        "subjectivity_scores[:10]"
      ],
      "execution_count": null,
      "outputs": [
        {
          "output_type": "execute_result",
          "data": {
            "text/plain": [
              "['0.99925',\n",
              " '0.00466',\n",
              " '0.59203',\n",
              " '0.02907',\n",
              " '0.00154',\n",
              " '0.3258',\n",
              " '0.00074',\n",
              " '0.80575',\n",
              " '0.21887',\n",
              " '0.99908']"
            ]
          },
          "metadata": {},
          "execution_count": 117
        }
      ]
    },
    {
      "cell_type": "code",
      "metadata": {
        "colab": {
          "base_uri": "https://localhost:8080/"
        },
        "id": "23S5h4mFaQnn",
        "outputId": "e75281ff-02a1-4856-9a5a-3b5ba3196b90"
      },
      "source": [
        "len(subjectivity_scores)"
      ],
      "execution_count": null,
      "outputs": [
        {
          "output_type": "execute_result",
          "data": {
            "text/plain": [
              "6738"
            ]
          },
          "metadata": {},
          "execution_count": 118
        }
      ]
    },
    {
      "cell_type": "markdown",
      "metadata": {
        "id": "CmgD9P4eXI0m"
      },
      "source": [
        "**correlation score**"
      ]
    },
    {
      "cell_type": "code",
      "metadata": {
        "id": "ZmIqATeuXKwA"
      },
      "source": [
        "# Create dataframe of number of named entity per sentence with the labels \n",
        "# (presence of an argumentative section in a sentence) using the Spearman test.\n",
        "\n",
        "subjectivity_dataframe=pd.DataFrame(dict(zip([\"subjectivity score\"],[subjectivity_scores])))\n",
        "\n",
        "correlation_scores_subjectivity=get_correlation_scores(subjectivity_dataframe[argumentative_sentences_not_both_map],argumentative_sentences_claim_presence_map)"
      ],
      "execution_count": null,
      "outputs": []
    },
    {
      "cell_type": "code",
      "metadata": {
        "colab": {
          "base_uri": "https://localhost:8080/"
        },
        "id": "UpWlC6DBXFZA",
        "outputId": "11f18023-70c5-464a-990b-f506267a4d9c"
      },
      "source": [
        "correlation_scores_subjectivity"
      ],
      "execution_count": null,
      "outputs": [
        {
          "output_type": "execute_result",
          "data": {
            "text/plain": [
              "[(0.03879965511217264, 'subjectivity score')]"
            ]
          },
          "metadata": {},
          "execution_count": 120
        }
      ]
    },
    {
      "cell_type": "markdown",
      "metadata": {
        "id": "8AXgLHmbN0Ur"
      },
      "source": [
        "# **Export subjectivity, token-ratio and named entity stats**"
      ]
    },
    {
      "cell_type": "code",
      "metadata": {
        "id": "onLepjF4MJKh"
      },
      "source": [
        "# Create and export a dataframe containing the data extracted about the named entity\n",
        "# in the corpus.\n",
        "\n",
        "remeaning_extracted_data_dataframe=pd.DataFrame(dict(zip([\"type token ratio\",\"subjectivity score\"],[type_token_ratio_list,subjectivity_scores])))[argumentative_sentences_not_both_map]\n",
        "\n",
        "remeaning_extracted_data_dataframe.to_csv('claim_premise_remaining_stat.csv',index=False)"
      ],
      "execution_count": null,
      "outputs": []
    },
    {
      "cell_type": "markdown",
      "metadata": {
        "id": "fmKqwdrjT1Zw"
      },
      "source": [
        "#  **Graph of data correlations with the argumentative sections**"
      ]
    },
    {
      "cell_type": "code",
      "metadata": {
        "id": "qMl5WtJUT9uT"
      },
      "source": [
        "# Counts number of times in group of data extracted a data has correlation score higher than 0.05.\n",
        "def count_relevant_correlation(correlation_scores_data:list,treshold:int)->int:\n",
        "  count=0\n",
        "  for correlation_score in correlation_scores_data:\n",
        "    if correlation_score[0]>=treshold:\n",
        "      count+=1\n",
        "  return count  "
      ],
      "execution_count": null,
      "outputs": []
    },
    {
      "cell_type": "code",
      "metadata": {
        "id": "lC3OaDNtUR0z"
      },
      "source": [
        "# Counts number of data with a correlation score higher than 0.05, 0.1 and 0.5 for all type of \n",
        "# data examined.\n",
        "\n",
        "data_group_names=[\"Stat.\",\"POS\",\"S-POS\", \"POS-B\",\"S-POS-B\", \"Dep. stat.\",\"Dep.\", \"BOW\", \"Bigram\", \"N-gram\", \"LNE\", \"TTR\", \"Subj.\"]\n",
        "data_correlations=[correlation_scores_sentence_stat, correlation_scores_POS_BOW, correlation_scores_simple_POS_BOW, correlation_scores_POS_bigram, correlation_scores_simple_POS_bigram, correlation_scores_dep_tree_stat, dep_correlation_BOW, correlation_scores_words, correlation_scores_bigram, correlation_scores_imported_ngrams, name_entity_correlation_BOW, correlation_scores_type_token, correlation_scores_subjectivity]\n",
        "\n",
        "count_relevant_05=[]\n",
        "count_relevant_10=[]\n",
        "count_total=[]\n",
        "\n",
        "for data_type in data_correlations:\n",
        "  count_relevant_05.append(count_relevant_correlation(data_type,0.05))\n",
        "  count_relevant_10.append(count_relevant_correlation(data_type,0.1))\n",
        "  count_total.append(len(data_type))"
      ],
      "execution_count": null,
      "outputs": []
    },
    {
      "cell_type": "code",
      "metadata": {
        "id": "X4hBs4LHJUGV"
      },
      "source": [
        "plt.rcParams.update({'font.size': 26})"
      ],
      "execution_count": null,
      "outputs": []
    },
    {
      "cell_type": "code",
      "metadata": {
        "id": "ANQr3lxqZfm2",
        "colab": {
          "base_uri": "https://localhost:8080/",
          "height": 706
        },
        "outputId": "dcbb7fd4-670a-44d7-c5c6-0f1aa52c45ef"
      },
      "source": [
        "# Obtain a visual representation of the type of data with the higher number of correlated \n",
        "# element to the argumentative sections and with the higher number of element in general.\n",
        "\n",
        "fig, ax = plt.subplots(1, 1, figsize=(40, 25))\n",
        "title='Correlazione dati alla presenza di sezioni argomentative'\n",
        "count=[count_total,count_relevant_05,count_relevant_10]\n",
        "\n",
        "    \n",
        "ax.set_title('{}'.format(title), fontsize=29)\n",
        "for i in range(3):\n",
        "  ax.bar(data_group_names,count[i])\n",
        "ax.legend([\"Numero totale\",\"Correlazione sopra 0.05\",\"Correlazione sopra 0.1\"],prop={'size': 25})\n",
        "plt.ylabel('Conteggio dati', fontsize=28)\n",
        "fig.show()"
      ],
      "execution_count": null,
      "outputs": [
        {
          "output_type": "display_data",
          "data": {
            "image/png": "[encoded data removed]",
            "text/plain": [
              "<Figure size 2880x1800 with 1 Axes>"
            ]
          },
          "metadata": {
            "needs_background": "light"
          }
        }
      ]
    }
  ]
}