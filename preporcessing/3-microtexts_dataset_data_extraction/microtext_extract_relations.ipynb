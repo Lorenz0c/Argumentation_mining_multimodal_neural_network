{
  "nbformat": 4,
  "nbformat_minor": 0,
  "metadata": {
    "colab": {
      "name": "microtext_extract_relations.ipynb",
      "provenance": [],
      "collapsed_sections": [
        "y3aIwBjCGLvi"
      ]
    },
    "kernelspec": {
      "name": "python3",
      "display_name": "Python 3"
    },
    "language_info": {
      "name": "python"
    }
  },
  "cells": [
    {
      "cell_type": "code",
      "metadata": {
        "id": "jtwtzCmXl__u"
      },
      "source": [
        "import pandas as pd\n",
        "import numpy as np\n",
        "from matplotlib import pyplot as plt\n",
        "\n",
        "from google.colab import files\n",
        "import zipfile\n",
        "import glob\n",
        "\n",
        "import xml.etree.ElementTree as ET"
      ],
      "execution_count": null,
      "outputs": []
    },
    {
      "cell_type": "markdown",
      "metadata": {
        "id": "y3aIwBjCGLvi"
      },
      "source": [
        "# **Dataset import**"
      ]
    },
    {
      "cell_type": "code",
      "metadata": {
        "colab": {
          "resources": {
            "http://localhost:8080/nbextensions/google.colab/files.js": {
              "data": "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",
              "ok": true,
              "headers": [
                [
                  "content-type",
                  "application/javascript"
                ]
              ],
              "status": 200,
              "status_text": ""
            }
          },
          "base_uri": "https://localhost:8080/",
          "height": 73
        },
        "id": "uvZ5p0jwmRRi",
        "outputId": "e67e5dab-40f4-4af7-9cb3-ae4525892b02"
      },
      "source": [
        "# Import the microtexts dataset.\n",
        "\n",
        "uploaded = files.upload()"
      ],
      "execution_count": null,
      "outputs": [
        {
          "output_type": "display_data",
          "data": {
            "text/html": [
              "\n",
              "     <input type=\"file\" id=\"files-58a868de-4296-402e-a6de-4158d41d8224\" name=\"files[]\" multiple disabled\n",
              "        style=\"border:none\" />\n",
              "     <output id=\"result-58a868de-4296-402e-a6de-4158d41d8224\">\n",
              "      Upload widget is only available when the cell has been executed in the\n",
              "      current browser session. Please rerun this cell to enable.\n",
              "      </output>\n",
              "      <script src=\"/nbextensions/google.colab/files.js\"></script> "
            ],
            "text/plain": [
              "<IPython.core.display.HTML object>"
            ]
          },
          "metadata": {}
        },
        {
          "output_type": "stream",
          "name": "stdout",
          "text": [
            "Saving arg-microtexts-master.zip to arg-microtexts-master.zip\n"
          ]
        }
      ]
    },
    {
      "cell_type": "code",
      "metadata": {
        "id": "rq9YeH2LmrOs"
      },
      "source": [
        "# Function to extract zip file.\n",
        "# Takes in input the path to the zip file (path_zip) and the one to store the destination directory (path_destination).\n",
        "\n",
        "def extract_zip(path_zip,path_destination):\n",
        "  with zipfile.ZipFile(path_zip, 'r') as zip_ref:\n",
        "    zip_ref.extractall(path_destination)"
      ],
      "execution_count": null,
      "outputs": []
    },
    {
      "cell_type": "code",
      "metadata": {
        "id": "AqHyoIBamyF3"
      },
      "source": [
        "# Extract zip file.\n",
        "\n",
        "extract_zip('arg-microtexts-master.zip','arg-microtexts-master')"
      ],
      "execution_count": null,
      "outputs": []
    },
    {
      "cell_type": "markdown",
      "metadata": {
        "id": "OrsWTewaCnPf"
      },
      "source": [
        "# **Extract argumentative sections and their relations**"
      ]
    },
    {
      "cell_type": "code",
      "metadata": {
        "id": "7DevYxwAnSM5"
      },
      "source": [
        "# Extract the list of xml files containing the argumentative sections in the \n",
        "# dataset and their relations.\n",
        "\n",
        "xml_files = sorted(glob.glob(\"arg-microtexts-master/arg-microtexts-master/corpus/en/micro_*.xml\"))"
      ],
      "execution_count": null,
      "outputs": []
    },
    {
      "cell_type": "code",
      "metadata": {
        "colab": {
          "base_uri": "https://localhost:8080/"
        },
        "id": "mtLsSo_ToNmb",
        "outputId": "dfca6f3f-6ed2-4e8c-8c5b-1a5b6e56ca0f"
      },
      "source": [
        "# List of xml files of the essays.\n",
        "xml_files[0:5]"
      ],
      "execution_count": null,
      "outputs": [
        {
          "output_type": "execute_result",
          "data": {
            "text/plain": [
              "['arg-microtexts-master/arg-microtexts-master/corpus/en/micro_b001.xml',\n",
              " 'arg-microtexts-master/arg-microtexts-master/corpus/en/micro_b002.xml',\n",
              " 'arg-microtexts-master/arg-microtexts-master/corpus/en/micro_b003.xml',\n",
              " 'arg-microtexts-master/arg-microtexts-master/corpus/en/micro_b004.xml',\n",
              " 'arg-microtexts-master/arg-microtexts-master/corpus/en/micro_b005.xml']"
            ]
          },
          "metadata": {},
          "execution_count": 6
        }
      ]
    },
    {
      "cell_type": "code",
      "metadata": {
        "id": "zzUf3TJ7ogEx"
      },
      "source": [
        "# Transform each xml file into the xml tree representation.\n",
        "\n",
        "list_xml_tree_representation=[ET.parse(xml_file) for xml_file in xml_files]\n",
        "\n",
        "# Than extract from each tree its root.\n",
        "\n",
        "list_xml_root=[tree.getroot() for tree in list_xml_tree_representation]"
      ],
      "execution_count": null,
      "outputs": []
    },
    {
      "cell_type": "code",
      "metadata": {
        "colab": {
          "base_uri": "https://localhost:8080/"
        },
        "id": "rZURStoZo4Qo",
        "outputId": "8287ee8d-5f2a-4783-b9d2-1f9d43da3d2f"
      },
      "source": [
        "for i in range(5):\n",
        "  print(list_xml_root[i].tag)"
      ],
      "execution_count": null,
      "outputs": [
        {
          "output_type": "stream",
          "name": "stdout",
          "text": [
            "arggraph\n",
            "arggraph\n",
            "arggraph\n",
            "arggraph\n",
            "arggraph\n"
          ]
        }
      ]
    },
    {
      "cell_type": "code",
      "metadata": {
        "id": "k3f-td1Epkrf"
      },
      "source": [
        "# list_argumentative_sections will contain the lists, for each document in the\n",
        "# corpus, of its argumentative sections.\n",
        "list_argumentative_sections=[]\n",
        "# list_arg_section_id_in_document will contain the lists, for each document in\n",
        "# the corpus, of the id that identify the sections inside the document.\n",
        "list_arg_section_id_in_document=[]\n",
        "\n",
        "# relations_type_list will contain one element equat to 'sup' (support) or 'reb'\n",
        "# (attack) according to the type of each relation in the corpus.\n",
        "relations_type_list=[]\n",
        "# relations_sections_list will contains the two identifiers of the related sections\n",
        "# in the relative document (each element correspond to the relation in the same \n",
        "# position in relations_type_list).\n",
        "relations_sections_list=[]\n",
        "# relations_sections_list will contains the identifier of the document containing\n",
        "# the relation (each element correspond to the relation in the same position in \n",
        "# relations_type_list).\n",
        "relations_document_map=[]\n",
        "\n",
        "for root_id in range(len(list_xml_root)):\n",
        "  temp_list_argumentative_sections=[]\n",
        "  temp_list_arg_section_id_in_document=[]\n",
        "  new_temp_list_arg_section_id_in_document=[]\n",
        "  for child in list_xml_root[root_id]:\n",
        "    # The nodes tagged with 'edu' contains the text of the arg. section and an unique identifier in the document.\n",
        "    if child.tag=='edu':\n",
        "      temp_list_argumentative_sections.append(child.text)\n",
        "      temp_list_arg_section_id_in_document.append(child.get('id'))\n",
        "    # In the 'edge' nodes the original id of the sections (in src) are sobstitute with new ones (in trg).\n",
        "    if (child.tag=='edge'):\n",
        "      src=child.get('src')\n",
        "      trg=child.get('trg')\n",
        "      type_rel=child.get('type')\n",
        "      if src in temp_list_arg_section_id_in_document:\n",
        "        new_temp_list_arg_section_id_in_document.append(trg)\n",
        "      else:\n",
        "        if (src in new_temp_list_arg_section_id_in_document) and (type_rel=='sup' or type_rel=='reb'): \n",
        "          relations_type_list.append(type_rel)\n",
        "          relations_sections_list.append((src,trg))\n",
        "          relations_document_map.append(root_id)\n",
        "  list_argumentative_sections.append(temp_list_argumentative_sections)\n",
        "  list_arg_section_id_in_document.append(new_temp_list_arg_section_id_in_document)"
      ],
      "execution_count": null,
      "outputs": []
    },
    {
      "cell_type": "code",
      "metadata": {
        "colab": {
          "base_uri": "https://localhost:8080/"
        },
        "id": "gpwZU57o1mG8",
        "outputId": "3ba3d46a-8d30-4dd7-f0e3-9c2da8a45023"
      },
      "source": [
        "for i in range(len(list_argumentative_sections[0])):\n",
        "  print(\"section {} in document {}: {}\".format(list_arg_section_id_in_document[0][i],0,list_argumentative_sections[0][i]))"
      ],
      "execution_count": null,
      "outputs": [
        {
          "output_type": "stream",
          "name": "stdout",
          "text": [
            "section a1 in document 0: Yes, it's annoying and cumbersome to separate your rubbish properly all the time.\n",
            "section a2 in document 0: Three different bin bags stink away in the kitchen and have to be sorted into different wheelie bins.\n",
            "section a3 in document 0: But still Germany produces way too much rubbish\n",
            "section a4 in document 0: and too many resources are lost when what actually should be separated and recycled is burnt.\n",
            "section a5 in document 0: We Berliners should take the chance and become pioneers in waste separation!\n"
          ]
        }
      ]
    },
    {
      "cell_type": "code",
      "metadata": {
        "colab": {
          "base_uri": "https://localhost:8080/"
        },
        "id": "0xWYyVbX1BO5",
        "outputId": "4ddcb1cf-99e7-4684-fa28-6a71450a9df2"
      },
      "source": [
        "for i in range(5):\n",
        "  print(\"{} relation between {} in document {}\".format(relations_type_list[i],relations_sections_list[i],relations_document_map[i]))"
      ],
      "execution_count": null,
      "outputs": [
        {
          "output_type": "stream",
          "name": "stdout",
          "text": [
            "reb relation between ('a1', 'a5') in document 0\n",
            "sup relation between ('a2', 'a1') in document 0\n",
            "sup relation between ('a1', 'a3') in document 1\n",
            "sup relation between ('a2', 'a3') in document 1\n",
            "reb relation between ('a4', 'a3') in document 1\n"
          ]
        }
      ]
    },
    {
      "cell_type": "markdown",
      "metadata": {
        "id": "vX6NxN8X5WHQ"
      },
      "source": [
        "# **Extract sentences**"
      ]
    },
    {
      "cell_type": "code",
      "metadata": {
        "id": "NOj56cDk5dvV"
      },
      "source": [
        "# All the argumentative sections are contained in a single sentence.\n",
        "\n",
        "# Get the list of all the sentences.\n",
        "\n",
        "sentence_list=[]\n",
        "\n",
        "# List that contains, for each document, the list for all the argumentative \n",
        "# sections in the document the position of its complete sentence (odered by \n",
        "# documents in the outer list and by the position in the text of the section \n",
        "# in the inner list). \n",
        "argument_to_sentence_map=[]\n",
        "\n",
        "# List of the number of sentences that are part of an agumentative sections \n",
        "# besides the first one.\n",
        "# One element for each argumentative section.\n",
        "\n",
        "arg_section_len_list=[]\n",
        "\n",
        "for i in range(len(list_argumentative_sections)):\n",
        "  sentence=\"\"\n",
        "  document_argument_to_sentence_map=[]\n",
        "  for j in range(len(list_argumentative_sections[i])):\n",
        "\n",
        "    sentence+=list_argumentative_sections[i][j]\n",
        "\n",
        "    document_argument_to_sentence_map.append(len(sentence_list))\n",
        "    # An argumentative section which ends a sentence has a '.' as last character.\n",
        "    if sentence[-1] in ['.','?','!']:\n",
        "      sentence_list.append(sentence)\n",
        "      sentence=\"\"\n",
        "\n",
        "  if not (sentence==\"\"):  \n",
        "    sentence_list.append(sentence)\n",
        "    \n",
        "  argument_to_sentence_map.append(document_argument_to_sentence_map)   "
      ],
      "execution_count": null,
      "outputs": []
    },
    {
      "cell_type": "code",
      "metadata": {
        "colab": {
          "base_uri": "https://localhost:8080/"
        },
        "id": "UwuevinH6_mv",
        "outputId": "17d74722-6294-4351-c18a-43448a7643b7"
      },
      "source": [
        "sentence_list[:10]"
      ],
      "execution_count": null,
      "outputs": [
        {
          "output_type": "execute_result",
          "data": {
            "text/plain": [
              "[\"Yes, it's annoying and cumbersome to separate your rubbish properly all the time.\",\n",
              " 'Three different bin bags stink away in the kitchen and have to be sorted into different wheelie bins.',\n",
              " 'But still Germany produces way too much rubbishand too many resources are lost when what actually should be separated and recycled is burnt.',\n",
              " 'We Berliners should take the chance and become pioneers in waste separation!',\n",
              " 'One can hardly move in Friedrichshain or Neukölln these days without permanently scanning the ground for dog dirt.',\n",
              " \"And when bad luck does strike and you step into one of the many 'land mines' you have to painstakingly scrape the remains off your soles.\",\n",
              " 'Higher fines are therefore the right measure against negligent, lazy or simply thoughtless dog owners.',\n",
              " \"Of course, first they'd actually need to be caught in the act by public order officers,but once they have to dig into their pockets, their laziness will sure vanish!\",\n",
              " 'Health insurance companies should not cover treatment in complementary medicineunless the promised effect and its medical benefit have been concretely proven.',\n",
              " 'Yet this very proof is lacking in most cases.']"
            ]
          },
          "metadata": {},
          "execution_count": 13
        }
      ]
    },
    {
      "cell_type": "code",
      "metadata": {
        "id": "jcO99LxgQchz",
        "colab": {
          "base_uri": "https://localhost:8080/"
        },
        "outputId": "81c7ec8b-df55-4eb5-ec26-999b3af5721a"
      },
      "source": [
        "len(sentence_list)"
      ],
      "execution_count": null,
      "outputs": [
        {
          "output_type": "execute_result",
          "data": {
            "text/plain": [
              "450"
            ]
          },
          "metadata": {},
          "execution_count": 14
        }
      ]
    },
    {
      "cell_type": "code",
      "metadata": {
        "colab": {
          "base_uri": "https://localhost:8080/"
        },
        "id": "IlJASpOYFU5q",
        "outputId": "7c8788f3-8201-4c85-d4a1-3aa49bae7e79"
      },
      "source": [
        "argument_to_sentence_map[0]"
      ],
      "execution_count": null,
      "outputs": [
        {
          "output_type": "execute_result",
          "data": {
            "text/plain": [
              "[0, 1, 2, 2, 3]"
            ]
          },
          "metadata": {},
          "execution_count": 15
        }
      ]
    },
    {
      "cell_type": "markdown",
      "metadata": {
        "id": "hNSs8ST9BS7B"
      },
      "source": [
        "# **Create the Dataframe**"
      ]
    },
    {
      "cell_type": "code",
      "metadata": {
        "id": "vnKCzBM705UE"
      },
      "source": [
        "# Create the list containing as elements the entry of the desired dataframe\n",
        "# containing for each relation the identifier of the document and of the \n",
        "# sentences that contains the two components, and the text of the two components.\n",
        "relations_list=[]\n",
        "column_names=['type','doc_id','supporting_text','supporting_sentence_id','supported_text','supported_sentence_id']\n",
        "\n",
        "\n",
        "for i in range(len(relations_document_map)):\n",
        "  doc_id=relations_document_map[i]\n",
        "  supporting_section=relations_sections_list[i][0]\n",
        "  supported_section=relations_sections_list[i][1]\n",
        "  if relations_type_list[i]=='sup':\n",
        "    relation_type='supports'\n",
        "  else:\n",
        "    relation_type='attacks'\n",
        "  for j in range(len(list_arg_section_id_in_document[doc_id])):\n",
        "    if list_arg_section_id_in_document[doc_id][j]==supporting_section:\n",
        "      supporting_text=list_argumentative_sections[doc_id][j]\n",
        "      supporting_sentence_id=argument_to_sentence_map[doc_id][j]\n",
        "    if list_arg_section_id_in_document[doc_id][j]==supported_section:\n",
        "      supported_text=list_argumentative_sections[doc_id][j]\n",
        "      supported_sentence_id=argument_to_sentence_map[doc_id][j]\n",
        "  relations_list.append([relation_type,doc_id,supporting_text,supporting_sentence_id,supported_text,supported_sentence_id])        "
      ],
      "execution_count": null,
      "outputs": []
    },
    {
      "cell_type": "code",
      "metadata": {
        "id": "YJbYVDheBXM0"
      },
      "source": [
        "# Create the dataframe.\n",
        "Essay_ann_dataset=pd.DataFrame(relations_list,columns=column_names)"
      ],
      "execution_count": null,
      "outputs": []
    },
    {
      "cell_type": "code",
      "metadata": {
        "colab": {
          "base_uri": "https://localhost:8080/",
          "height": 203
        },
        "id": "jE1WRdaCIUDF",
        "outputId": "9873a888-09b2-4401-e751-bc5c81a80608"
      },
      "source": [
        "Essay_ann_dataset.head()"
      ],
      "execution_count": null,
      "outputs": [
        {
          "output_type": "execute_result",
          "data": {
            "text/html": [
              "<div>\n",
              "<style scoped>\n",
              "    .dataframe tbody tr th:only-of-type {\n",
              "        vertical-align: middle;\n",
              "    }\n",
              "\n",
              "    .dataframe tbody tr th {\n",
              "        vertical-align: top;\n",
              "    }\n",
              "\n",
              "    .dataframe thead th {\n",
              "        text-align: right;\n",
              "    }\n",
              "</style>\n",
              "<table border=\"1\" class=\"dataframe\">\n",
              "  <thead>\n",
              "    <tr style=\"text-align: right;\">\n",
              "      <th></th>\n",
              "      <th>type</th>\n",
              "      <th>doc_id</th>\n",
              "      <th>supporting_text</th>\n",
              "      <th>supporting_sentence_id</th>\n",
              "      <th>supported_text</th>\n",
              "      <th>supported_sentence_id</th>\n",
              "    </tr>\n",
              "  </thead>\n",
              "  <tbody>\n",
              "    <tr>\n",
              "      <th>0</th>\n",
              "      <td>attacks</td>\n",
              "      <td>0</td>\n",
              "      <td>Yes, it's annoying and cumbersome to separate ...</td>\n",
              "      <td>0</td>\n",
              "      <td>We Berliners should take the chance and become...</td>\n",
              "      <td>3</td>\n",
              "    </tr>\n",
              "    <tr>\n",
              "      <th>1</th>\n",
              "      <td>supports</td>\n",
              "      <td>0</td>\n",
              "      <td>Three different bin bags stink away in the kit...</td>\n",
              "      <td>1</td>\n",
              "      <td>Yes, it's annoying and cumbersome to separate ...</td>\n",
              "      <td>0</td>\n",
              "    </tr>\n",
              "    <tr>\n",
              "      <th>2</th>\n",
              "      <td>supports</td>\n",
              "      <td>1</td>\n",
              "      <td>One can hardly move in Friedrichshain or Neukö...</td>\n",
              "      <td>4</td>\n",
              "      <td>Higher fines are therefore the right measure a...</td>\n",
              "      <td>6</td>\n",
              "    </tr>\n",
              "    <tr>\n",
              "      <th>3</th>\n",
              "      <td>supports</td>\n",
              "      <td>1</td>\n",
              "      <td>And when bad luck does strike and you step int...</td>\n",
              "      <td>5</td>\n",
              "      <td>Higher fines are therefore the right measure a...</td>\n",
              "      <td>6</td>\n",
              "    </tr>\n",
              "    <tr>\n",
              "      <th>4</th>\n",
              "      <td>attacks</td>\n",
              "      <td>1</td>\n",
              "      <td>Of course, first they'd actually need to be ca...</td>\n",
              "      <td>7</td>\n",
              "      <td>Higher fines are therefore the right measure a...</td>\n",
              "      <td>6</td>\n",
              "    </tr>\n",
              "  </tbody>\n",
              "</table>\n",
              "</div>"
            ],
            "text/plain": [
              "       type  ...  supported_sentence_id\n",
              "0   attacks  ...                      3\n",
              "1  supports  ...                      0\n",
              "2  supports  ...                      6\n",
              "3  supports  ...                      6\n",
              "4   attacks  ...                      6\n",
              "\n",
              "[5 rows x 6 columns]"
            ]
          },
          "metadata": {},
          "execution_count": 18
        }
      ]
    },
    {
      "cell_type": "code",
      "metadata": {
        "colab": {
          "base_uri": "https://localhost:8080/"
        },
        "id": "Gc5iWDhJDY5z",
        "outputId": "9c2fe5f8-6d07-42f9-9de5-dee9e9bdc39e"
      },
      "source": [
        "# Print some the dataset characteristics.\n",
        "print(\"Informations about the dataset:\\n\")\n",
        "print(\"Number element in the dataset: {}\".format(len(Essay_ann_dataset)))\n",
        "print(\"Number support relations: {}\".format(len(Essay_ann_dataset.loc[Essay_ann_dataset['type']=='supports'])))\n",
        "print(\"Number attack relations: {}\".format(len(Essay_ann_dataset.loc[Essay_ann_dataset['type']=='attacks'])))"
      ],
      "execution_count": null,
      "outputs": [
        {
          "output_type": "stream",
          "name": "stdout",
          "text": [
            "Informations about the dataset:\n",
            "\n",
            "Number element in the dataset: 371\n",
            "Number support relations: 263\n",
            "Number attack relations: 108\n"
          ]
        }
      ]
    },
    {
      "cell_type": "code",
      "metadata": {
        "id": "6C_MVzYu0tmc"
      },
      "source": [
        "# Export the dataset.\n",
        "Essay_ann_dataset.to_csv('microtext_relation_dataset.csv',index=False)"
      ],
      "execution_count": null,
      "outputs": []
    }
  ]
}