{
  "nbformat": 4,
  "nbformat_minor": 0,
  "metadata": {
    "colab": {
      "name": "Essay_STC_argumentative.ipynb",
      "provenance": [],
      "collapsed_sections": [
        "oTgEhkoT7e_c",
        "rdmSiNpSDsTj",
        "ratGQCj3IE7q",
        "a2q54EWlILlk",
        "axXeMKBAIUEF",
        "MGyHotXeIlnJ",
        "oyDiCmkiIsnv",
        "pfWd-79JJB9j",
        "rmG8oXyhJRnE",
        "qPZ9wr1ZJZuF",
        "VbYkyy7Nf6ka",
        "LI_fDBH-J0Ak",
        "SSKn7yq-A1IT"
      ]
    },
    "kernelspec": {
      "name": "python3",
      "display_name": "Python 3"
    },
    "language_info": {
      "name": "python"
    }
  },
  "cells": [
    {
      "cell_type": "code",
      "metadata": {
        "colab": {
          "base_uri": "https://localhost:8080/"
        },
        "id": "ZNbhBNubw7MK",
        "outputId": "96037129-40f4-4a20-eec1-0e6122615ee2"
      },
      "source": [
        "pip install stc"
      ],
      "execution_count": null,
      "outputs": [
        {
          "output_type": "stream",
          "name": "stdout",
          "text": [
            "Collecting stc\n",
            "  Downloading stc-0.3.1-py3-none-any.whl (33 kB)\n",
            "Requirement already satisfied: sqlalchemy in /usr/local/lib/python3.7/dist-packages (from stc) (1.4.26)\n",
            "Requirement already satisfied: numpy in /usr/local/lib/python3.7/dist-packages (from stc) (1.19.5)\n",
            "Requirement already satisfied: pandas in /usr/local/lib/python3.7/dist-packages (from stc) (1.1.5)\n",
            "Requirement already satisfied: pytz>=2017.2 in /usr/local/lib/python3.7/dist-packages (from pandas->stc) (2018.9)\n",
            "Requirement already satisfied: python-dateutil>=2.7.3 in /usr/local/lib/python3.7/dist-packages (from pandas->stc) (2.8.2)\n",
            "Requirement already satisfied: six>=1.5 in /usr/local/lib/python3.7/dist-packages (from python-dateutil>=2.7.3->pandas->stc) (1.15.0)\n",
            "Requirement already satisfied: greenlet!=0.4.17 in /usr/local/lib/python3.7/dist-packages (from sqlalchemy->stc) (1.1.2)\n",
            "Requirement already satisfied: importlib-metadata in /usr/local/lib/python3.7/dist-packages (from sqlalchemy->stc) (4.8.1)\n",
            "Requirement already satisfied: typing-extensions>=3.6.4 in /usr/local/lib/python3.7/dist-packages (from importlib-metadata->sqlalchemy->stc) (3.10.0.2)\n",
            "Requirement already satisfied: zipp>=0.5 in /usr/local/lib/python3.7/dist-packages (from importlib-metadata->sqlalchemy->stc) (3.6.0)\n",
            "Installing collected packages: stc\n",
            "Successfully installed stc-0.3.1\n"
          ]
        }
      ]
    },
    {
      "cell_type": "code",
      "metadata": {
        "id": "xEMbAmz7w8NG"
      },
      "source": [
        "import pandas as pd\n",
        "import numpy as np\n",
        "from matplotlib import pyplot as plt\n",
        "import math\n",
        "\n",
        "from stc import SparseTensorClassifier\n",
        "\n",
        "from google.colab import files\n",
        "\n",
        "from sklearn.model_selection import train_test_split\n",
        "from sklearn.metrics import accuracy_score\n",
        "from sklearn.metrics import f1_score, recall_score, precision_score"
      ],
      "execution_count": null,
      "outputs": []
    },
    {
      "cell_type": "markdown",
      "metadata": {
        "id": "dcdqUOQvtBwR"
      },
      "source": [
        "# **Import datasets**"
      ]
    },
    {
      "cell_type": "code",
      "metadata": {
        "colab": {
          "resources": {
            "http://localhost:8080/nbextensions/google.colab/files.js": {
              "data": "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",
              "ok": true,
              "headers": [
                [
                  "content-type",
                  "application/javascript"
                ]
              ],
              "status": 200,
              "status_text": ""
            }
          },
          "base_uri": "https://localhost:8080/",
          "height": 1000
        },
        "id": "-pYf91N8sjKm",
        "outputId": "43c7604b-e7d1-453d-df7c-e5e3d67cc355"
      },
      "source": [
        "# Import the datasets previously produced containing BOW or other information\n",
        "# about the data to elaborate.\n",
        "# Each dataset containg a particular category of data retrived.\n",
        "\n",
        "# Import list of the sentences in the test set.\n",
        "print('\\nImport test_sentence.csv\\n')\n",
        "upload = files.upload()\n",
        "\n",
        "# Import the labels of the sentences to classify.\n",
        "print('\\nImport argumentative_labels.csv\\n')\n",
        "upload = files.upload()\n",
        "\n",
        "# Import the statistics and positions information of the sentences to classify.\n",
        "print('\\nImport sentence_statistic.csv\\n')\n",
        "upload = files.upload()\n",
        "\n",
        "# Import the BOW of the POS of the sentences to classify.\n",
        "print('\\nImport sentence_POS.csv\\n')\n",
        "upload = files.upload()\n",
        "\n",
        "# Import the BOW of the simplyfied POS of the sentences to classify.\n",
        "print('\\nImport sentence_simple_POS.csv\\n')\n",
        "upload = files.upload()\n",
        "\n",
        "# Import the BOW for the bigrams of the POS of the sentences to classify.\n",
        "print('\\nImport sentence_bigram_POS.csv\\n')\n",
        "upload = files.upload()\n",
        "\n",
        "# Import the BOW for the bigrams of the simplyfied POS of the sentences to classify.\n",
        "print('\\nImport sentence_bigram_simple_POS.csv\\n')\n",
        "upload = files.upload()\n",
        "\n",
        "# Import the BOW of the dependency tag of the sentences to classify.\n",
        "print('\\nImport sentence_dependency.csv\\n')\n",
        "upload = files.upload()\n",
        "\n",
        "# Import the statistic relative to the tree of the dependency tag of the sentences to classify.\n",
        "print('\\nImport sentence_dependency_tree_stat.csv\\n')\n",
        "upload = files.upload()\n",
        "\n",
        "# Import the BOW of the labeled named entity of the sentences to classify.\n",
        "print('\\nImport sentence_named_entity_BOW.csv\\n')\n",
        "upload = files.upload()\n",
        "\n",
        "# Import the BOW of the sentences to classify.\n",
        "print('\\nImport sentence_BOW.csv\\n')\n",
        "upload = files.upload()\n",
        "\n",
        "# Import the BOW for the bigrams of the sentences to classify.\n",
        "print('\\nImport sentence_Bigram.csv\\n')\n",
        "upload = files.upload()\n",
        "\n",
        "# Import the BOW for secific n-grams of the sentences to classify.\n",
        "print('\\nImport essay_BOW_appendix_words.csv\\n')\n",
        "upload = files.upload()\n",
        "\n",
        "# Import the remaining statistics of the sentences to classify.\n",
        "print('\\nImport remaining_stat.csv\\n')\n",
        "upload = files.upload()"
      ],
      "execution_count": null,
      "outputs": [
        {
          "output_type": "stream",
          "name": "stdout",
          "text": [
            "\n",
            "Import test_sentence.csv\n",
            "\n"
          ]
        },
        {
          "output_type": "display_data",
          "data": {
            "text/html": [
              "\n",
              "     <input type=\"file\" id=\"files-031cde4d-8e9c-4d73-a98c-915d40f3bfbe\" name=\"files[]\" multiple disabled\n",
              "        style=\"border:none\" />\n",
              "     <output id=\"result-031cde4d-8e9c-4d73-a98c-915d40f3bfbe\">\n",
              "      Upload widget is only available when the cell has been executed in the\n",
              "      current browser session. Please rerun this cell to enable.\n",
              "      </output>\n",
              "      <script src=\"/nbextensions/google.colab/files.js\"></script> "
            ],
            "text/plain": [
              "<IPython.core.display.HTML object>"
            ]
          },
          "metadata": {}
        },
        {
          "output_type": "stream",
          "name": "stdout",
          "text": [
            "\n",
            "Import argumentative_labels.csv\n",
            "\n"
          ]
        },
        {
          "output_type": "display_data",
          "data": {
            "text/html": [
              "\n",
              "     <input type=\"file\" id=\"files-68f8a0e1-e074-4ac7-8acf-996f281b502f\" name=\"files[]\" multiple disabled\n",
              "        style=\"border:none\" />\n",
              "     <output id=\"result-68f8a0e1-e074-4ac7-8acf-996f281b502f\">\n",
              "      Upload widget is only available when the cell has been executed in the\n",
              "      current browser session. Please rerun this cell to enable.\n",
              "      </output>\n",
              "      <script src=\"/nbextensions/google.colab/files.js\"></script> "
            ],
            "text/plain": [
              "<IPython.core.display.HTML object>"
            ]
          },
          "metadata": {}
        },
        {
          "output_type": "stream",
          "name": "stdout",
          "text": [
            "\n",
            "Import sentence_statistic.csv\n",
            "\n"
          ]
        },
        {
          "output_type": "display_data",
          "data": {
            "text/html": [
              "\n",
              "     <input type=\"file\" id=\"files-00032ece-9ec8-4360-a949-54f9b17d6611\" name=\"files[]\" multiple disabled\n",
              "        style=\"border:none\" />\n",
              "     <output id=\"result-00032ece-9ec8-4360-a949-54f9b17d6611\">\n",
              "      Upload widget is only available when the cell has been executed in the\n",
              "      current browser session. Please rerun this cell to enable.\n",
              "      </output>\n",
              "      <script src=\"/nbextensions/google.colab/files.js\"></script> "
            ],
            "text/plain": [
              "<IPython.core.display.HTML object>"
            ]
          },
          "metadata": {}
        },
        {
          "output_type": "stream",
          "name": "stdout",
          "text": [
            "\n",
            "Import sentence_POS.csv\n",
            "\n"
          ]
        },
        {
          "output_type": "display_data",
          "data": {
            "text/html": [
              "\n",
              "     <input type=\"file\" id=\"files-53d4643f-6021-404e-8973-75bd152821aa\" name=\"files[]\" multiple disabled\n",
              "        style=\"border:none\" />\n",
              "     <output id=\"result-53d4643f-6021-404e-8973-75bd152821aa\">\n",
              "      Upload widget is only available when the cell has been executed in the\n",
              "      current browser session. Please rerun this cell to enable.\n",
              "      </output>\n",
              "      <script src=\"/nbextensions/google.colab/files.js\"></script> "
            ],
            "text/plain": [
              "<IPython.core.display.HTML object>"
            ]
          },
          "metadata": {}
        },
        {
          "output_type": "stream",
          "name": "stdout",
          "text": [
            "\n",
            "Import sentence_simple_POS.csv\n",
            "\n"
          ]
        },
        {
          "output_type": "display_data",
          "data": {
            "text/html": [
              "\n",
              "     <input type=\"file\" id=\"files-3ff53033-db92-4e0c-ba46-469874611f51\" name=\"files[]\" multiple disabled\n",
              "        style=\"border:none\" />\n",
              "     <output id=\"result-3ff53033-db92-4e0c-ba46-469874611f51\">\n",
              "      Upload widget is only available when the cell has been executed in the\n",
              "      current browser session. Please rerun this cell to enable.\n",
              "      </output>\n",
              "      <script src=\"/nbextensions/google.colab/files.js\"></script> "
            ],
            "text/plain": [
              "<IPython.core.display.HTML object>"
            ]
          },
          "metadata": {}
        },
        {
          "output_type": "stream",
          "name": "stdout",
          "text": [
            "\n",
            "Import sentence_bigram_POS.csv\n",
            "\n"
          ]
        },
        {
          "output_type": "display_data",
          "data": {
            "text/html": [
              "\n",
              "     <input type=\"file\" id=\"files-359a6b47-ba02-4399-bfee-7320f59d58af\" name=\"files[]\" multiple disabled\n",
              "        style=\"border:none\" />\n",
              "     <output id=\"result-359a6b47-ba02-4399-bfee-7320f59d58af\">\n",
              "      Upload widget is only available when the cell has been executed in the\n",
              "      current browser session. Please rerun this cell to enable.\n",
              "      </output>\n",
              "      <script src=\"/nbextensions/google.colab/files.js\"></script> "
            ],
            "text/plain": [
              "<IPython.core.display.HTML object>"
            ]
          },
          "metadata": {}
        },
        {
          "output_type": "stream",
          "name": "stdout",
          "text": [
            "\n",
            "Import sentence_bigram_simple_POS.csv\n",
            "\n"
          ]
        },
        {
          "output_type": "display_data",
          "data": {
            "text/html": [
              "\n",
              "     <input type=\"file\" id=\"files-c5cb3a8b-5b36-488e-9770-2f4534f4428c\" name=\"files[]\" multiple disabled\n",
              "        style=\"border:none\" />\n",
              "     <output id=\"result-c5cb3a8b-5b36-488e-9770-2f4534f4428c\">\n",
              "      Upload widget is only available when the cell has been executed in the\n",
              "      current browser session. Please rerun this cell to enable.\n",
              "      </output>\n",
              "      <script src=\"/nbextensions/google.colab/files.js\"></script> "
            ],
            "text/plain": [
              "<IPython.core.display.HTML object>"
            ]
          },
          "metadata": {}
        },
        {
          "output_type": "stream",
          "name": "stdout",
          "text": [
            "\n",
            "Import sentence_dependency.csv\n",
            "\n"
          ]
        },
        {
          "output_type": "display_data",
          "data": {
            "text/html": [
              "\n",
              "     <input type=\"file\" id=\"files-38c6e189-e833-49a6-b62d-7c39dced3e32\" name=\"files[]\" multiple disabled\n",
              "        style=\"border:none\" />\n",
              "     <output id=\"result-38c6e189-e833-49a6-b62d-7c39dced3e32\">\n",
              "      Upload widget is only available when the cell has been executed in the\n",
              "      current browser session. Please rerun this cell to enable.\n",
              "      </output>\n",
              "      <script src=\"/nbextensions/google.colab/files.js\"></script> "
            ],
            "text/plain": [
              "<IPython.core.display.HTML object>"
            ]
          },
          "metadata": {}
        },
        {
          "output_type": "stream",
          "name": "stdout",
          "text": [
            "\n",
            "Import sentence_dependency_tree_stat.csv\n",
            "\n"
          ]
        },
        {
          "output_type": "display_data",
          "data": {
            "text/html": [
              "\n",
              "     <input type=\"file\" id=\"files-a67b48cf-a729-4b61-a296-af795a17afd7\" name=\"files[]\" multiple disabled\n",
              "        style=\"border:none\" />\n",
              "     <output id=\"result-a67b48cf-a729-4b61-a296-af795a17afd7\">\n",
              "      Upload widget is only available when the cell has been executed in the\n",
              "      current browser session. Please rerun this cell to enable.\n",
              "      </output>\n",
              "      <script src=\"/nbextensions/google.colab/files.js\"></script> "
            ],
            "text/plain": [
              "<IPython.core.display.HTML object>"
            ]
          },
          "metadata": {}
        },
        {
          "output_type": "stream",
          "name": "stdout",
          "text": [
            "\n",
            "Import sentence_named_entity_BOW.csv\n",
            "\n"
          ]
        },
        {
          "output_type": "display_data",
          "data": {
            "text/html": [
              "\n",
              "     <input type=\"file\" id=\"files-85d9e96d-543b-4886-a4cc-0ec4e1490667\" name=\"files[]\" multiple disabled\n",
              "        style=\"border:none\" />\n",
              "     <output id=\"result-85d9e96d-543b-4886-a4cc-0ec4e1490667\">\n",
              "      Upload widget is only available when the cell has been executed in the\n",
              "      current browser session. Please rerun this cell to enable.\n",
              "      </output>\n",
              "      <script src=\"/nbextensions/google.colab/files.js\"></script> "
            ],
            "text/plain": [
              "<IPython.core.display.HTML object>"
            ]
          },
          "metadata": {}
        },
        {
          "output_type": "stream",
          "name": "stdout",
          "text": [
            "\n",
            "Import sentence_BOW.csv\n",
            "\n"
          ]
        },
        {
          "output_type": "display_data",
          "data": {
            "text/html": [
              "\n",
              "     <input type=\"file\" id=\"files-87f048f2-9450-46ab-b22b-ba46e661fdb2\" name=\"files[]\" multiple disabled\n",
              "        style=\"border:none\" />\n",
              "     <output id=\"result-87f048f2-9450-46ab-b22b-ba46e661fdb2\">\n",
              "      Upload widget is only available when the cell has been executed in the\n",
              "      current browser session. Please rerun this cell to enable.\n",
              "      </output>\n",
              "      <script src=\"/nbextensions/google.colab/files.js\"></script> "
            ],
            "text/plain": [
              "<IPython.core.display.HTML object>"
            ]
          },
          "metadata": {}
        },
        {
          "output_type": "stream",
          "name": "stdout",
          "text": [
            "\n",
            "Import sentence_Bigram.csv\n",
            "\n"
          ]
        },
        {
          "output_type": "display_data",
          "data": {
            "text/html": [
              "\n",
              "     <input type=\"file\" id=\"files-f951b2b9-6f2f-42ed-b27a-eae4e9f0439c\" name=\"files[]\" multiple disabled\n",
              "        style=\"border:none\" />\n",
              "     <output id=\"result-f951b2b9-6f2f-42ed-b27a-eae4e9f0439c\">\n",
              "      Upload widget is only available when the cell has been executed in the\n",
              "      current browser session. Please rerun this cell to enable.\n",
              "      </output>\n",
              "      <script src=\"/nbextensions/google.colab/files.js\"></script> "
            ],
            "text/plain": [
              "<IPython.core.display.HTML object>"
            ]
          },
          "metadata": {}
        },
        {
          "output_type": "stream",
          "name": "stdout",
          "text": [
            "\n",
            "Import essay_BOW_appendix_words.csv\n",
            "\n"
          ]
        },
        {
          "output_type": "display_data",
          "data": {
            "text/html": [
              "\n",
              "     <input type=\"file\" id=\"files-f352d962-294d-4ad8-9ae0-ad494862c181\" name=\"files[]\" multiple disabled\n",
              "        style=\"border:none\" />\n",
              "     <output id=\"result-f352d962-294d-4ad8-9ae0-ad494862c181\">\n",
              "      Upload widget is only available when the cell has been executed in the\n",
              "      current browser session. Please rerun this cell to enable.\n",
              "      </output>\n",
              "      <script src=\"/nbextensions/google.colab/files.js\"></script> "
            ],
            "text/plain": [
              "<IPython.core.display.HTML object>"
            ]
          },
          "metadata": {}
        },
        {
          "output_type": "stream",
          "name": "stdout",
          "text": [
            "\n",
            "Import remaining_stat.csv\n",
            "\n"
          ]
        },
        {
          "output_type": "display_data",
          "data": {
            "text/html": [
              "\n",
              "     <input type=\"file\" id=\"files-ec8f274b-6d08-4c4f-b7ed-f31b223e0299\" name=\"files[]\" multiple disabled\n",
              "        style=\"border:none\" />\n",
              "     <output id=\"result-ec8f274b-6d08-4c4f-b7ed-f31b223e0299\">\n",
              "      Upload widget is only available when the cell has been executed in the\n",
              "      current browser session. Please rerun this cell to enable.\n",
              "      </output>\n",
              "      <script src=\"/nbextensions/google.colab/files.js\"></script> "
            ],
            "text/plain": [
              "<IPython.core.display.HTML object>"
            ]
          },
          "metadata": {}
        }
      ]
    },
    {
      "cell_type": "code",
      "metadata": {
        "colab": {
          "resources": {
            "http://localhost:8080/nbextensions/google.colab/files.js": {
              "data": "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",
              "ok": true,
              "headers": [
                [
                  "content-type",
                  "application/javascript"
                ]
              ],
              "status": 200,
              "status_text": ""
            }
          },
          "base_uri": "https://localhost:8080/",
          "height": 958
        },
        "id": "1lKF817srKC9",
        "outputId": "a58f278a-9338-4051-9d1a-ce84b470428e"
      },
      "source": [
        "# Import the datasets previously produced containing BOW or other information\n",
        "# about the data to elaborate retrieved from the IBM Debater dataset.\n",
        "# Each dataset containg a particular category of data retrived.\n",
        "\n",
        "# Import the labels of the sentences to classify.\n",
        "print('\\nImport Debater_argumentative_labels.csv\\n')\n",
        "upload = files.upload()\n",
        "\n",
        "# Import the statistics and positions information of the sentences to classify.\n",
        "print('\\nImport Debater_sentence_statistic.csv\\n')\n",
        "upload = files.upload()\n",
        "\n",
        "# Import the BOW of the POS of the sentences to classify.\n",
        "print('\\nImport Debater_sentence_POS.csv\\n')\n",
        "upload = files.upload()\n",
        "\n",
        "# Import the BOW of the simplyfied POS of the sentences to classify.\n",
        "print('\\nImport Debater_sentence_simple_POS.csv\\n')\n",
        "upload = files.upload()\n",
        "\n",
        "# Import the BOW for the bigrams of the POS of the sentences to classify.\n",
        "print('\\nImport Debater_sentence_bigram_POS.csv\\n')\n",
        "upload = files.upload()\n",
        "\n",
        "# Import the BOW for the bigrams of the simplyfied POS of the sentences to classify.\n",
        "print('\\nImport Debater_sentence_bigram_simple_POS.csv\\n')\n",
        "upload = files.upload()\n",
        "\n",
        "# Import the BOW of the dependency tag of the sentences to classify.\n",
        "print('\\nImport Debater_sentence_dependency.csv\\n')\n",
        "upload = files.upload()\n",
        "\n",
        "# Import the statistic relative to the tree of the dependency tag of the sentences to classify.\n",
        "print('\\nImport Debater_sentence_dependency_tree_stat.csv\\n')\n",
        "upload = files.upload()\n",
        "\n",
        "# Import the BOW of the labeled named entity of the sentences to classify.\n",
        "print('\\nImport Debater_sentence_named_entity_BOW.csv\\n')\n",
        "upload = files.upload()\n",
        "\n",
        "# Import the BOW of the sentences to classify.\n",
        "print('\\nImport Debater_sentence_BOW.csv\\n')\n",
        "upload = files.upload()\n",
        "\n",
        "# Import the BOW for the bigrams of the sentences to classify.\n",
        "print('\\nImport Debater_sentence_Bigram.csv\\n')\n",
        "upload = files.upload()\n",
        "\n",
        "# Import the BOW for secific n-grams of the sentences to classify.\n",
        "print('\\nImport Debater_BOW_appendix_words.csv\\n')\n",
        "upload = files.upload()\n",
        "\n",
        "# Import the remaining statistics of the sentences to classify.\n",
        "print('\\nImport Debater_remaining_stat.csv\\n')\n",
        "upload = files.upload()"
      ],
      "execution_count": null,
      "outputs": [
        {
          "output_type": "stream",
          "name": "stdout",
          "text": [
            "\n",
            "Import Debater_argumentative_labels.csv\n",
            "\n"
          ]
        },
        {
          "output_type": "display_data",
          "data": {
            "text/html": [
              "\n",
              "     <input type=\"file\" id=\"files-0c515336-a1cc-402d-8e07-7a1ea5fe7a6a\" name=\"files[]\" multiple disabled\n",
              "        style=\"border:none\" />\n",
              "     <output id=\"result-0c515336-a1cc-402d-8e07-7a1ea5fe7a6a\">\n",
              "      Upload widget is only available when the cell has been executed in the\n",
              "      current browser session. Please rerun this cell to enable.\n",
              "      </output>\n",
              "      <script src=\"/nbextensions/google.colab/files.js\"></script> "
            ],
            "text/plain": [
              "<IPython.core.display.HTML object>"
            ]
          },
          "metadata": {}
        },
        {
          "output_type": "stream",
          "name": "stdout",
          "text": [
            "\n",
            "Import Debater_sentence_statistic.csv\n",
            "\n"
          ]
        },
        {
          "output_type": "display_data",
          "data": {
            "text/html": [
              "\n",
              "     <input type=\"file\" id=\"files-a53aabe1-30c5-46c5-b38d-75b30f60ac4a\" name=\"files[]\" multiple disabled\n",
              "        style=\"border:none\" />\n",
              "     <output id=\"result-a53aabe1-30c5-46c5-b38d-75b30f60ac4a\">\n",
              "      Upload widget is only available when the cell has been executed in the\n",
              "      current browser session. Please rerun this cell to enable.\n",
              "      </output>\n",
              "      <script src=\"/nbextensions/google.colab/files.js\"></script> "
            ],
            "text/plain": [
              "<IPython.core.display.HTML object>"
            ]
          },
          "metadata": {}
        },
        {
          "output_type": "stream",
          "name": "stdout",
          "text": [
            "\n",
            "Import Debater_sentence_POS.csv\n",
            "\n"
          ]
        },
        {
          "output_type": "display_data",
          "data": {
            "text/html": [
              "\n",
              "     <input type=\"file\" id=\"files-f3dcf26b-4b3c-45fe-979a-a9cb2b3a8776\" name=\"files[]\" multiple disabled\n",
              "        style=\"border:none\" />\n",
              "     <output id=\"result-f3dcf26b-4b3c-45fe-979a-a9cb2b3a8776\">\n",
              "      Upload widget is only available when the cell has been executed in the\n",
              "      current browser session. Please rerun this cell to enable.\n",
              "      </output>\n",
              "      <script src=\"/nbextensions/google.colab/files.js\"></script> "
            ],
            "text/plain": [
              "<IPython.core.display.HTML object>"
            ]
          },
          "metadata": {}
        },
        {
          "output_type": "stream",
          "name": "stdout",
          "text": [
            "\n",
            "Import Debater_sentence_simple_POS.csv\n",
            "\n"
          ]
        },
        {
          "output_type": "display_data",
          "data": {
            "text/html": [
              "\n",
              "     <input type=\"file\" id=\"files-58232fdf-3f8a-4e2e-bd13-aa6c241e6283\" name=\"files[]\" multiple disabled\n",
              "        style=\"border:none\" />\n",
              "     <output id=\"result-58232fdf-3f8a-4e2e-bd13-aa6c241e6283\">\n",
              "      Upload widget is only available when the cell has been executed in the\n",
              "      current browser session. Please rerun this cell to enable.\n",
              "      </output>\n",
              "      <script src=\"/nbextensions/google.colab/files.js\"></script> "
            ],
            "text/plain": [
              "<IPython.core.display.HTML object>"
            ]
          },
          "metadata": {}
        },
        {
          "output_type": "stream",
          "name": "stdout",
          "text": [
            "\n",
            "Import Debater_sentence_bigram_POS.csv\n",
            "\n"
          ]
        },
        {
          "output_type": "display_data",
          "data": {
            "text/html": [
              "\n",
              "     <input type=\"file\" id=\"files-796da2a6-5df3-4f4b-86ac-b00e8a9ebf93\" name=\"files[]\" multiple disabled\n",
              "        style=\"border:none\" />\n",
              "     <output id=\"result-796da2a6-5df3-4f4b-86ac-b00e8a9ebf93\">\n",
              "      Upload widget is only available when the cell has been executed in the\n",
              "      current browser session. Please rerun this cell to enable.\n",
              "      </output>\n",
              "      <script src=\"/nbextensions/google.colab/files.js\"></script> "
            ],
            "text/plain": [
              "<IPython.core.display.HTML object>"
            ]
          },
          "metadata": {}
        },
        {
          "output_type": "stream",
          "name": "stdout",
          "text": [
            "\n",
            "Import Debater_sentence_bigram_simple_POS.csv\n",
            "\n"
          ]
        },
        {
          "output_type": "display_data",
          "data": {
            "text/html": [
              "\n",
              "     <input type=\"file\" id=\"files-c3b1cfa4-67e2-4808-9c76-a615500746ce\" name=\"files[]\" multiple disabled\n",
              "        style=\"border:none\" />\n",
              "     <output id=\"result-c3b1cfa4-67e2-4808-9c76-a615500746ce\">\n",
              "      Upload widget is only available when the cell has been executed in the\n",
              "      current browser session. Please rerun this cell to enable.\n",
              "      </output>\n",
              "      <script src=\"/nbextensions/google.colab/files.js\"></script> "
            ],
            "text/plain": [
              "<IPython.core.display.HTML object>"
            ]
          },
          "metadata": {}
        },
        {
          "output_type": "stream",
          "name": "stdout",
          "text": [
            "\n",
            "Import Debater_sentence_dependency.csv\n",
            "\n"
          ]
        },
        {
          "output_type": "display_data",
          "data": {
            "text/html": [
              "\n",
              "     <input type=\"file\" id=\"files-a91b6978-bfe4-4e20-9ec0-31ed95cea92e\" name=\"files[]\" multiple disabled\n",
              "        style=\"border:none\" />\n",
              "     <output id=\"result-a91b6978-bfe4-4e20-9ec0-31ed95cea92e\">\n",
              "      Upload widget is only available when the cell has been executed in the\n",
              "      current browser session. Please rerun this cell to enable.\n",
              "      </output>\n",
              "      <script src=\"/nbextensions/google.colab/files.js\"></script> "
            ],
            "text/plain": [
              "<IPython.core.display.HTML object>"
            ]
          },
          "metadata": {}
        },
        {
          "output_type": "stream",
          "name": "stdout",
          "text": [
            "\n",
            "Import Debater_sentence_dependency_tree_stat.csv\n",
            "\n"
          ]
        },
        {
          "output_type": "display_data",
          "data": {
            "text/html": [
              "\n",
              "     <input type=\"file\" id=\"files-c02dcaef-2f31-4549-87ad-6deba07304b8\" name=\"files[]\" multiple disabled\n",
              "        style=\"border:none\" />\n",
              "     <output id=\"result-c02dcaef-2f31-4549-87ad-6deba07304b8\">\n",
              "      Upload widget is only available when the cell has been executed in the\n",
              "      current browser session. Please rerun this cell to enable.\n",
              "      </output>\n",
              "      <script src=\"/nbextensions/google.colab/files.js\"></script> "
            ],
            "text/plain": [
              "<IPython.core.display.HTML object>"
            ]
          },
          "metadata": {}
        },
        {
          "output_type": "stream",
          "name": "stdout",
          "text": [
            "\n",
            "Import Debater_sentence_named_entity_BOW.csv\n",
            "\n"
          ]
        },
        {
          "output_type": "display_data",
          "data": {
            "text/html": [
              "\n",
              "     <input type=\"file\" id=\"files-46d28cba-fcee-4910-8db9-ec91161e4fad\" name=\"files[]\" multiple disabled\n",
              "        style=\"border:none\" />\n",
              "     <output id=\"result-46d28cba-fcee-4910-8db9-ec91161e4fad\">\n",
              "      Upload widget is only available when the cell has been executed in the\n",
              "      current browser session. Please rerun this cell to enable.\n",
              "      </output>\n",
              "      <script src=\"/nbextensions/google.colab/files.js\"></script> "
            ],
            "text/plain": [
              "<IPython.core.display.HTML object>"
            ]
          },
          "metadata": {}
        },
        {
          "output_type": "stream",
          "name": "stdout",
          "text": [
            "\n",
            "Import Debater_sentence_BOW.csv\n",
            "\n"
          ]
        },
        {
          "output_type": "display_data",
          "data": {
            "text/html": [
              "\n",
              "     <input type=\"file\" id=\"files-8666aa86-bf74-4e84-9d47-1b103365c302\" name=\"files[]\" multiple disabled\n",
              "        style=\"border:none\" />\n",
              "     <output id=\"result-8666aa86-bf74-4e84-9d47-1b103365c302\">\n",
              "      Upload widget is only available when the cell has been executed in the\n",
              "      current browser session. Please rerun this cell to enable.\n",
              "      </output>\n",
              "      <script src=\"/nbextensions/google.colab/files.js\"></script> "
            ],
            "text/plain": [
              "<IPython.core.display.HTML object>"
            ]
          },
          "metadata": {}
        },
        {
          "output_type": "stream",
          "name": "stdout",
          "text": [
            "\n",
            "Import Debater_sentence_Bigram.csv\n",
            "\n"
          ]
        },
        {
          "output_type": "display_data",
          "data": {
            "text/html": [
              "\n",
              "     <input type=\"file\" id=\"files-bbff39fd-a33c-4e79-8f1e-6dd36397cf3a\" name=\"files[]\" multiple disabled\n",
              "        style=\"border:none\" />\n",
              "     <output id=\"result-bbff39fd-a33c-4e79-8f1e-6dd36397cf3a\">\n",
              "      Upload widget is only available when the cell has been executed in the\n",
              "      current browser session. Please rerun this cell to enable.\n",
              "      </output>\n",
              "      <script src=\"/nbextensions/google.colab/files.js\"></script> "
            ],
            "text/plain": [
              "<IPython.core.display.HTML object>"
            ]
          },
          "metadata": {}
        },
        {
          "output_type": "stream",
          "name": "stdout",
          "text": [
            "\n",
            "Import Debater_BOW_appendix_words.csv\n",
            "\n"
          ]
        },
        {
          "output_type": "display_data",
          "data": {
            "text/html": [
              "\n",
              "     <input type=\"file\" id=\"files-ca20e005-deec-4a27-9199-bcf445e4342d\" name=\"files[]\" multiple disabled\n",
              "        style=\"border:none\" />\n",
              "     <output id=\"result-ca20e005-deec-4a27-9199-bcf445e4342d\">\n",
              "      Upload widget is only available when the cell has been executed in the\n",
              "      current browser session. Please rerun this cell to enable.\n",
              "      </output>\n",
              "      <script src=\"/nbextensions/google.colab/files.js\"></script> "
            ],
            "text/plain": [
              "<IPython.core.display.HTML object>"
            ]
          },
          "metadata": {}
        },
        {
          "output_type": "stream",
          "name": "stdout",
          "text": [
            "\n",
            "Import Debater_remaining_stat.csv\n",
            "\n"
          ]
        },
        {
          "output_type": "display_data",
          "data": {
            "text/html": [
              "\n",
              "     <input type=\"file\" id=\"files-33621ef9-6e94-4efc-a77b-e9527c43127e\" name=\"files[]\" multiple disabled\n",
              "        style=\"border:none\" />\n",
              "     <output id=\"result-33621ef9-6e94-4efc-a77b-e9527c43127e\">\n",
              "      Upload widget is only available when the cell has been executed in the\n",
              "      current browser session. Please rerun this cell to enable.\n",
              "      </output>\n",
              "      <script src=\"/nbextensions/google.colab/files.js\"></script> "
            ],
            "text/plain": [
              "<IPython.core.display.HTML object>"
            ]
          },
          "metadata": {}
        }
      ]
    },
    {
      "cell_type": "code",
      "metadata": {
        "id": "eQ3UJlJxx2v7"
      },
      "source": [
        "# Read the datasets retrieved by the Stab and Gurevych dataset.\n",
        "\n",
        "test_set=pd.read_csv(\"test_sentence.csv\")\n",
        "\n",
        "true_labels=pd.read_csv('argumentative_labels.csv')\n",
        "\n",
        "statistic=pd.read_csv('sentence_statistic.csv')\n",
        "\n",
        "POS=pd.read_csv('sentence_POS.csv')\n",
        "\n",
        "simple_POS=pd.read_csv('sentence_simple_POS.csv')\n",
        "\n",
        "bigram_POS=pd.read_csv('sentence_bigram_POS.csv')\n",
        "\n",
        "bigram_simple_POS=pd.read_csv('sentence_bigram_simple_POS.csv')\n",
        "\n",
        "dependency=pd.read_csv('sentence_dependency.csv')\n",
        "\n",
        "dependency_tree_stat=pd.read_csv('sentence_dependency_tree_stat.csv')\n",
        "\n",
        "named_entity=pd.read_csv('sentence_named_entity_BOW.csv')\n",
        "\n",
        "BOW=pd.read_csv('sentence_BOW.csv')\n",
        "\n",
        "Bigram=pd.read_csv('sentence_Bigram.csv')\n",
        "\n",
        "imported_ngram=pd.read_csv('essay_BOW_appendix_words.csv')\n",
        "\n",
        "others=pd.read_csv('remaining_stat.csv')"
      ],
      "execution_count": null,
      "outputs": []
    },
    {
      "cell_type": "code",
      "metadata": {
        "id": "3NrJ1rarrbSo"
      },
      "source": [
        "# Read the datasets retrieved by the Stab and Gurevych dataset.\n",
        "\n",
        "Debater_true_labels=pd.read_csv('Debater_argumentative_labels.csv')\n",
        "\n",
        "Debater_statistic=pd.read_csv('Debater_sentence_statistic.csv')\n",
        "\n",
        "Debater_POS=pd.read_csv('Debater_sentence_POS.csv')\n",
        "\n",
        "Debater_simple_POS=pd.read_csv('Debater_sentence_simple_POS.csv')\n",
        "\n",
        "Debater_bigram_POS=pd.read_csv('Debater_sentence_bigram_POS.csv')\n",
        "\n",
        "Debater_bigram_simple_POS=pd.read_csv('Debater_sentence_bigram_simple_POS.csv')\n",
        "\n",
        "Debater_dependency=pd.read_csv('Debater_sentence_dependency.csv')\n",
        "\n",
        "Debater_dependency_tree_stat=pd.read_csv('Debater_sentence_dependency_tree_stat.csv')\n",
        "\n",
        "Debater_named_entity=pd.read_csv('Debater_sentence_named_entity_BOW.csv')\n",
        "\n",
        "Debater_BOW=pd.read_csv('Debater_sentence_BOW.csv')\n",
        "\n",
        "Debater_Bigram=pd.read_csv('Debater_sentence_Bigram.csv')\n",
        "\n",
        "Debater_imported_ngram=pd.read_csv('Debater_BOW_appendix_words.csv')\n",
        "\n",
        "Debater_others=pd.read_csv('Debater_remaining_stat.csv')"
      ],
      "execution_count": null,
      "outputs": []
    },
    {
      "cell_type": "code",
      "metadata": {
        "id": "MmqVmL-j5fPh"
      },
      "source": [
        "# Rename the true_lable dataset column.\n",
        "true_labels=true_labels.rename(columns={'0': 'argumentative'})\n",
        "true_labels=true_labels.astype({'argumentative':'str'})\n",
        "\n",
        "Debater_true_labels=Debater_true_labels.rename(columns={'0': 'argumentative'})\n",
        "Debater_true_labels=Debater_true_labels.astype({'argumentative':'str'})"
      ],
      "execution_count": null,
      "outputs": []
    },
    {
      "cell_type": "code",
      "metadata": {
        "id": "ZoYS9wEYBjgR"
      },
      "source": [
        "# Remove data types that are not categorical.\n",
        "statistic=statistic.drop(columns=['sentence length / media sentence length in essay'])\n",
        "others=others.drop(columns=['type token ratio'])\n",
        "statistic=statistic.round(0)\n",
        "others=others.round(0)\n",
        "\n",
        "Debater_statistic=Debater_statistic.drop(columns=['sentence length / media sentence length in essay'])\n",
        "Debater_others=Debater_others.drop(columns=['type token ratio'])\n",
        "Debater_statistic=Debater_statistic.round(0)\n",
        "Debater_others=Debater_others.round(0)"
      ],
      "execution_count": null,
      "outputs": []
    },
    {
      "cell_type": "code",
      "metadata": {
        "colab": {
          "base_uri": "https://localhost:8080/"
        },
        "id": "gAwUOOC61P8h",
        "outputId": "2c32b583-da67-4227-ead7-0200c1171444"
      },
      "source": [
        "true_labels.shape[0]"
      ],
      "execution_count": null,
      "outputs": [
        {
          "output_type": "execute_result",
          "data": {
            "text/plain": [
              "6738"
            ]
          },
          "metadata": {},
          "execution_count": 9
        }
      ]
    },
    {
      "cell_type": "code",
      "metadata": {
        "colab": {
          "base_uri": "https://localhost:8080/",
          "height": 35
        },
        "id": "KqFRIr0k2Swm",
        "outputId": "62bd5873-eeba-4d14-8913-ba0a7cc7d012"
      },
      "source": [
        "true_labels['argumentative'][0]"
      ],
      "execution_count": null,
      "outputs": [
        {
          "output_type": "execute_result",
          "data": {
            "application/vnd.google.colaboratory.intrinsic+json": {
              "type": "string"
            },
            "text/plain": [
              "'False'"
            ]
          },
          "metadata": {},
          "execution_count": 10
        }
      ]
    },
    {
      "cell_type": "code",
      "metadata": {
        "colab": {
          "base_uri": "https://localhost:8080/",
          "height": 203
        },
        "id": "NiHug2TLASOt",
        "outputId": "3794991d-b584-4887-aef8-af4adaebd7df"
      },
      "source": [
        "true_labels.head()"
      ],
      "execution_count": null,
      "outputs": [
        {
          "output_type": "execute_result",
          "data": {
            "text/html": [
              "<div>\n",
              "<style scoped>\n",
              "    .dataframe tbody tr th:only-of-type {\n",
              "        vertical-align: middle;\n",
              "    }\n",
              "\n",
              "    .dataframe tbody tr th {\n",
              "        vertical-align: top;\n",
              "    }\n",
              "\n",
              "    .dataframe thead th {\n",
              "        text-align: right;\n",
              "    }\n",
              "</style>\n",
              "<table border=\"1\" class=\"dataframe\">\n",
              "  <thead>\n",
              "    <tr style=\"text-align: right;\">\n",
              "      <th></th>\n",
              "      <th>argumentative</th>\n",
              "    </tr>\n",
              "  </thead>\n",
              "  <tbody>\n",
              "    <tr>\n",
              "      <th>0</th>\n",
              "      <td>False</td>\n",
              "    </tr>\n",
              "    <tr>\n",
              "      <th>1</th>\n",
              "      <td>False</td>\n",
              "    </tr>\n",
              "    <tr>\n",
              "      <th>2</th>\n",
              "      <td>False</td>\n",
              "    </tr>\n",
              "    <tr>\n",
              "      <th>3</th>\n",
              "      <td>True</td>\n",
              "    </tr>\n",
              "    <tr>\n",
              "      <th>4</th>\n",
              "      <td>True</td>\n",
              "    </tr>\n",
              "  </tbody>\n",
              "</table>\n",
              "</div>"
            ],
            "text/plain": [
              "  argumentative\n",
              "0         False\n",
              "1         False\n",
              "2         False\n",
              "3          True\n",
              "4          True"
            ]
          },
          "metadata": {},
          "execution_count": 11
        }
      ]
    },
    {
      "cell_type": "code",
      "metadata": {
        "colab": {
          "base_uri": "https://localhost:8080/",
          "height": 97
        },
        "id": "F0ohD8ub4ZNj",
        "outputId": "736bb267-9594-4fda-fb10-09d60e248a4a"
      },
      "source": [
        "statistic.iloc[0:1]"
      ],
      "execution_count": null,
      "outputs": [
        {
          "output_type": "execute_result",
          "data": {
            "text/html": [
              "<div>\n",
              "<style scoped>\n",
              "    .dataframe tbody tr th:only-of-type {\n",
              "        vertical-align: middle;\n",
              "    }\n",
              "\n",
              "    .dataframe tbody tr th {\n",
              "        vertical-align: top;\n",
              "    }\n",
              "\n",
              "    .dataframe thead th {\n",
              "        text-align: right;\n",
              "    }\n",
              "</style>\n",
              "<table border=\"1\" class=\"dataframe\">\n",
              "  <thead>\n",
              "    <tr style=\"text-align: right;\">\n",
              "      <th></th>\n",
              "      <th>paragraph in essay</th>\n",
              "      <th>sentence in paragraph</th>\n",
              "      <th>sentence in essay</th>\n",
              "      <th>total sentences in paragraph</th>\n",
              "      <th>total paragraphs in document</th>\n",
              "      <th>number words in sentence</th>\n",
              "    </tr>\n",
              "  </thead>\n",
              "  <tbody>\n",
              "    <tr>\n",
              "      <th>0</th>\n",
              "      <td>0</td>\n",
              "      <td>0</td>\n",
              "      <td>0</td>\n",
              "      <td>4</td>\n",
              "      <td>4</td>\n",
              "      <td>13</td>\n",
              "    </tr>\n",
              "  </tbody>\n",
              "</table>\n",
              "</div>"
            ],
            "text/plain": [
              "   paragraph in essay  ...  number words in sentence\n",
              "0                   0  ...                        13\n",
              "\n",
              "[1 rows x 6 columns]"
            ]
          },
          "metadata": {},
          "execution_count": 12
        }
      ]
    },
    {
      "cell_type": "code",
      "metadata": {
        "colab": {
          "base_uri": "https://localhost:8080/"
        },
        "id": "CF2Sf5-143Jc",
        "outputId": "1d4e0db9-9eff-4dab-dc9e-b1e251fa8e19"
      },
      "source": [
        "statistic.shape[1]"
      ],
      "execution_count": null,
      "outputs": [
        {
          "output_type": "execute_result",
          "data": {
            "text/plain": [
              "6"
            ]
          },
          "metadata": {},
          "execution_count": 13
        }
      ]
    },
    {
      "cell_type": "code",
      "metadata": {
        "colab": {
          "base_uri": "https://localhost:8080/"
        },
        "id": "C9gW6cFO48pj",
        "outputId": "3bf40500-2f3e-487f-eaf5-007daab7adda"
      },
      "source": [
        "others.shape[0]"
      ],
      "execution_count": null,
      "outputs": [
        {
          "output_type": "execute_result",
          "data": {
            "text/plain": [
              "6738"
            ]
          },
          "metadata": {},
          "execution_count": 14
        }
      ]
    },
    {
      "cell_type": "markdown",
      "metadata": {
        "id": "CvVUmDHRFj0B"
      },
      "source": [
        "# **Remove sentence from the test set (only Stab and Gurevych dataset)**"
      ]
    },
    {
      "cell_type": "code",
      "metadata": {
        "id": "pHz1bUGNF_1q"
      },
      "source": [
        "discard_sentence=test_set['0'].tolist()"
      ],
      "execution_count": null,
      "outputs": []
    },
    {
      "cell_type": "code",
      "metadata": {
        "id": "UTQ1Q7rH62PQ"
      },
      "source": [
        "# Remove test set.\n",
        "\n",
        "true_labels=true_labels.drop(index=discard_sentence)\n",
        "\n",
        "statistic=statistic.drop(index=discard_sentence)\n",
        "\n",
        "POS=POS.drop(index=discard_sentence)\n",
        "\n",
        "simple_POS=simple_POS.drop(index=discard_sentence)\n",
        "\n",
        "bigram_POS=bigram_POS.drop(index=discard_sentence)\n",
        "\n",
        "bigram_simple_POS=bigram_simple_POS.drop(index=discard_sentence)\n",
        "\n",
        "dependency=dependency.drop(index=discard_sentence)\n",
        "\n",
        "dependency_tree_stat=dependency_tree_stat.drop(index=discard_sentence)\n",
        "\n",
        "named_entity=named_entity.drop(index=discard_sentence)\n",
        "\n",
        "BOW=BOW.drop(index=discard_sentence)\n",
        "\n",
        "Bigram=Bigram.drop(index=discard_sentence)\n",
        "\n",
        "imported_ngram=imported_ngram.drop(index=discard_sentence)\n",
        "\n",
        "others=others.drop(index=discard_sentence)"
      ],
      "execution_count": null,
      "outputs": []
    },
    {
      "cell_type": "markdown",
      "metadata": {
        "id": "YfDe-ScS4wcs"
      },
      "source": [
        "# **Learning**"
      ]
    },
    {
      "cell_type": "code",
      "metadata": {
        "id": "oW81WTmL7piE"
      },
      "source": [
        "# Divide the items in a train and a test set.\n",
        "list_index=[i for i in range(others.shape[0])]\n",
        "\n",
        "train_index,test_index=train_test_split(list_index,test_size=0.2, random_state=32)"
      ],
      "execution_count": null,
      "outputs": []
    },
    {
      "cell_type": "code",
      "metadata": {
        "id": "zuVbuDGEXnkA"
      },
      "source": [
        "# Takes a dataframe in input and returns the JSON representation.\n",
        "def from_tabular_to_JSON(dataframe:pd.DataFrame):\n",
        "\n",
        "  column=dataframe.columns\n",
        "  features=[]\n",
        "  for i in range(len(column)-1):\n",
        "    features.append('d{}'.format(i))\n",
        "\n",
        "  items = []\n",
        "  for i, (_, row) in enumerate(dataframe.iterrows()):\n",
        "    item = {}\n",
        "    for i in range(len(column)-1):\n",
        "      item['d{}'.format(i)] = [f+\"=\"+str(row[f]) for f in [column[i]]]\n",
        "    item['argumentative'] = [row['argumentative']]\n",
        "    items.append(item)\n",
        "\n",
        "  return items, features"
      ],
      "execution_count": null,
      "outputs": []
    },
    {
      "cell_type": "code",
      "metadata": {
        "id": "J4h-qD4kEFS0"
      },
      "source": [
        "# The method takes in input a dataframe containing the data from which to predict\n",
        "# the output and the output labels desired and returns, the label for the \n",
        "# test set, the probabilities of the predicted classes, and the global and local \n",
        "# explanations of which features are most usefoul in predicting the labels.\n",
        "\n",
        "def stc_procedure(dataframe_input:pd.DataFrame,label:pd.DataFrame):\n",
        "  dataframe=dataframe_input\n",
        "  dataframe['argumentative']=label['argumentative'].tolist()\n",
        "\n",
        "  items,features=from_tabular_to_JSON(dataframe)\n",
        "\n",
        "  train_items,test_items=train_test_split(items,test_size=0.2, random_state=32)\n",
        "\n",
        "  STC = SparseTensorClassifier(targets=['argumentative'], features=features, collapse=False)\n",
        "\n",
        "  STC.fit(train_items)\n",
        "\n",
        "  STC.set({\"entropy\": 1, \"balance\": 0.7, \"power\": 1})\n",
        "\n",
        "  policy, score = STC.learn(max_iter=1, random_state=42)\n",
        "\n",
        "  global_explainability = STC.explain()\n",
        "\n",
        "  labels, probability, explainability = STC.predict(test_items)\n",
        "\n",
        "  ground_labels=[item['argumentative'][0] for item in test_items]  \n",
        "\n",
        "  return ground_labels, global_explainability, labels, probability, explainability, policy"
      ],
      "execution_count": null,
      "outputs": []
    },
    {
      "cell_type": "code",
      "metadata": {
        "id": "coS2xQ9Icitn"
      },
      "source": [
        "# The method takes in input a dataframe containing the data from which to predict\n",
        "# the output and the output labels desired and returns, the label for the \n",
        "# test set, the probabilities of the predicted classes, and the global and local \n",
        "# explanations of which features are most usefoul in predicting the labels.\n",
        "\n",
        "def stc_procedure_tabular(dataframe:pd.DataFrame,label:pd.DataFrame,debater_dataframe:pd.DataFrame,debater_label:pd.DataFrame):\n",
        "\n",
        "  dataframe['argumentative']=label['argumentative'].tolist()\n",
        "\n",
        "  debater_dataframe['argumentative']=debater_label['argumentative'].tolist()\n",
        "\n",
        "  STC = SparseTensorClassifier(targets=['argumentative'], features=dataframe.columns[:-1])\n",
        "\n",
        "  STC.fit(dataframe.iloc[train_index])\n",
        "\n",
        "  STC.set({\"entropy\": 1, \"balance\": 0.7, \"power\": 1})\n",
        "\n",
        "  global_explainability = STC.explain()\n",
        "\n",
        "  labels, probability, explainability = STC.predict(dataframe.iloc[test_index])\n",
        "\n",
        "  debater_labels, _, _ = STC.predict(debater_dataframe)\n",
        "\n",
        "  ground_labels=dataframe['argumentative'].iloc[test_index]\n",
        "\n",
        "  debater_ground_labels=debater_dataframe['argumentative']\n",
        "\n",
        "  return ground_labels, global_explainability, labels, probability, explainability, policy, debater_ground_labels, debater_labels"
      ],
      "execution_count": null,
      "outputs": []
    },
    {
      "cell_type": "code",
      "metadata": {
        "id": "SCfji8mGRqt6"
      },
      "source": [
        "accuracy_scores=[]\n",
        "f1_scores=[]\n",
        "precision_scores=[]\n",
        "recall_scores=[]\n",
        "\n",
        "debater_recall_scores=[]"
      ],
      "execution_count": null,
      "outputs": []
    },
    {
      "cell_type": "markdown",
      "metadata": {
        "id": "oTgEhkoT7e_c"
      },
      "source": [
        "## **Statistic dataframe**"
      ]
    },
    {
      "cell_type": "code",
      "metadata": {
        "colab": {
          "base_uri": "https://localhost:8080/"
        },
        "id": "YLMfbTLz5Qi9",
        "outputId": "8f5a8a73-279e-4135-e36b-cb2e314a5be2"
      },
      "source": [
        "ground_labels, _, labels, _, _, policy=stc_procedure(statistic,true_labels)"
      ],
      "execution_count": null,
      "outputs": [
        {
          "output_type": "stream",
          "name": "stdout",
          "text": [
            ""
          ]
        }
      ]
    },
    {
      "cell_type": "code",
      "metadata": {
        "colab": {
          "base_uri": "https://localhost:8080/"
        },
        "id": "ygkS3-Trcrb9",
        "outputId": "915eb981-24c9-4cf0-bf17-b41af9ad7ded"
      },
      "source": [
        "_, global_explainability_tabular, _, _, _, _, debater_ground_labels, debater_labels=stc_procedure_tabular(statistic,true_labels,Debater_statistic,Debater_true_labels)"
      ],
      "execution_count": null,
      "outputs": [
        {
          "output_type": "stream",
          "name": "stdout",
          "text": [
            ""
          ]
        }
      ]
    },
    {
      "cell_type": "code",
      "metadata": {
        "id": "bMztOOuZSS8f"
      },
      "source": [
        "accuracy=accuracy_score(ground_labels, labels)\n",
        "f1_score_value=f1_score(y_true=ground_labels, y_pred=labels, pos_label=\"True\")\n",
        "precision=precision_score(ground_labels, labels, pos_label=\"True\")\n",
        "recall=recall_score(ground_labels, labels, pos_label=\"True\")\n",
        "\n",
        "debater_recall=recall_score(debater_ground_labels, debater_labels, pos_label=\"True\")"
      ],
      "execution_count": null,
      "outputs": []
    },
    {
      "cell_type": "code",
      "metadata": {
        "id": "TJ45wn3qR5aI"
      },
      "source": [
        "accuracy_scores.append(accuracy)\n",
        "f1_scores.append(f1_score_value)\n",
        "precision_scores.append(precision)\n",
        "recall_scores.append(recall)\n",
        "\n",
        "debater_recall_scores.append(debater_recall)"
      ],
      "execution_count": null,
      "outputs": []
    },
    {
      "cell_type": "code",
      "metadata": {
        "colab": {
          "base_uri": "https://localhost:8080/"
        },
        "id": "VloP_aYb8Ynl",
        "outputId": "8e922119-7259-4999-c719-308f358ba73d"
      },
      "source": [
        "print('accuracy: {}'.format(accuracy))\n",
        "print('f1 score: {}'.format(f1_score_value))\n",
        "print('precision: {}'.format(precision))\n",
        "print('recall: {}'.format(recall))\n",
        "print('\\n')\n",
        "print('recall debater dataset: {}'.format(debater_recall))"
      ],
      "execution_count": null,
      "outputs": [
        {
          "output_type": "stream",
          "name": "stdout",
          "text": [
            "accuracy: 0.8498683055311677\n",
            "f1 score: 0.9064039408866994\n",
            "precision: 0.9272116461366181\n",
            "recall: 0.8865096359743041\n",
            "\n",
            "\n",
            "recall debater dataset: 0.8692083664283823\n"
          ]
        }
      ]
    },
    {
      "cell_type": "code",
      "metadata": {
        "colab": {
          "base_uri": "https://localhost:8080/"
        },
        "id": "l87UB891WP8R",
        "outputId": "8b8e5d5e-4f2c-4aaf-a654-912fea866de8"
      },
      "source": [
        "policy"
      ],
      "execution_count": null,
      "outputs": [
        {
          "output_type": "execute_result",
          "data": {
            "text/plain": [
              "[['d1', 'd4', 'd3', 'd2', 'd5', 'd0'],\n",
              " ['d4', 'd3', 'd2', 'd5', 'd0'],\n",
              " ['d3', 'd2', 'd5', 'd0'],\n",
              " ['d2', 'd5', 'd0'],\n",
              " ['d5', 'd0'],\n",
              " ['d0'],\n",
              " []]"
            ]
          },
          "metadata": {},
          "execution_count": 27
        }
      ]
    },
    {
      "cell_type": "code",
      "metadata": {
        "colab": {
          "base_uri": "https://localhost:8080/"
        },
        "id": "IgEWO6Q1gz2K",
        "outputId": "fd65143e-9785-46d9-a68a-3a46c7e0003c"
      },
      "source": [
        "policy_set=[]\n",
        "\n",
        "for pol in policy:\n",
        "  policy_set+=pol\n",
        "\n",
        "policy_set=list(set(policy_set))\n",
        "\n",
        "column=statistic.columns\n",
        "drop_features=[]\n",
        "for i in range(len(column)-1):\n",
        "  if not 'd{}'.format(i) in policy_set:\n",
        "    drop_features.append(column[i])\n",
        "\n",
        "drop_features"
      ],
      "execution_count": null,
      "outputs": [
        {
          "output_type": "execute_result",
          "data": {
            "text/plain": [
              "[]"
            ]
          },
          "metadata": {},
          "execution_count": 28
        }
      ]
    },
    {
      "cell_type": "code",
      "metadata": {
        "colab": {
          "base_uri": "https://localhost:8080/"
        },
        "id": "-FvsZ8JvioiY",
        "outputId": "f6b9e10a-9bd2-455f-98e9-d5e79802ffc2"
      },
      "source": [
        "len(drop_features)"
      ],
      "execution_count": null,
      "outputs": [
        {
          "output_type": "execute_result",
          "data": {
            "text/plain": [
              "0"
            ]
          },
          "metadata": {},
          "execution_count": 29
        }
      ]
    },
    {
      "cell_type": "code",
      "metadata": {
        "id": "EQo2QmPtJGgc"
      },
      "source": [
        "# Save features to drop into a text file.\n",
        "\n",
        "f = open(\"drop_argumentative_statistic.txt\", \"a\")\n",
        "for feature in drop_features:\n",
        "  f.write(\"{}-\".format(feature))\n",
        "f.close()"
      ],
      "execution_count": null,
      "outputs": []
    },
    {
      "cell_type": "code",
      "metadata": {
        "id": "N_ZKlpqRiHA-"
      },
      "source": [
        "if len(policy_set)>1:\n",
        "  statistic=statistic.drop(columns=drop_features)"
      ],
      "execution_count": null,
      "outputs": []
    },
    {
      "cell_type": "code",
      "metadata": {
        "colab": {
          "base_uri": "https://localhost:8080/"
        },
        "id": "gGNrSoVsPOSX",
        "outputId": "0b393d16-fc97-419e-b1c9-94b6f942288f"
      },
      "source": [
        "global_explainability_tabular.loc[\"True\"][:15]"
      ],
      "execution_count": null,
      "outputs": [
        {
          "output_type": "execute_result",
          "data": {
            "text/html": [
              "<div>\n",
              "<style scoped>\n",
              "    .dataframe tbody tr th:only-of-type {\n",
              "        vertical-align: middle;\n",
              "    }\n",
              "\n",
              "    .dataframe tbody tr th {\n",
              "        vertical-align: top;\n",
              "    }\n",
              "\n",
              "    .dataframe thead th {\n",
              "        text-align: right;\n",
              "    }\n",
              "</style>\n",
              "<table border=\"1\" class=\"dataframe\">\n",
              "  <thead>\n",
              "    <tr style=\"text-align: right;\">\n",
              "      <th></th>\n",
              "      <th>features</th>\n",
              "      <th>score</th>\n",
              "    </tr>\n",
              "    <tr>\n",
              "      <th>argumentative</th>\n",
              "      <th></th>\n",
              "      <th></th>\n",
              "    </tr>\n",
              "  </thead>\n",
              "  <tbody>\n",
              "    <tr>\n",
              "      <th>True</th>\n",
              "      <td>paragraph in essay: 1</td>\n",
              "      <td>0.075637</td>\n",
              "    </tr>\n",
              "    <tr>\n",
              "      <th>True</th>\n",
              "      <td>paragraph in essay: 2</td>\n",
              "      <td>0.060762</td>\n",
              "    </tr>\n",
              "    <tr>\n",
              "      <th>True</th>\n",
              "      <td>sentence in essay: 8</td>\n",
              "      <td>0.028483</td>\n",
              "    </tr>\n",
              "    <tr>\n",
              "      <th>True</th>\n",
              "      <td>sentence in essay: 6</td>\n",
              "      <td>0.027385</td>\n",
              "    </tr>\n",
              "    <tr>\n",
              "      <th>True</th>\n",
              "      <td>sentence in essay: 5</td>\n",
              "      <td>0.024489</td>\n",
              "    </tr>\n",
              "    <tr>\n",
              "      <th>True</th>\n",
              "      <td>sentence in essay: 9</td>\n",
              "      <td>0.021228</td>\n",
              "    </tr>\n",
              "    <tr>\n",
              "      <th>True</th>\n",
              "      <td>sentence in essay: 7</td>\n",
              "      <td>0.020090</td>\n",
              "    </tr>\n",
              "    <tr>\n",
              "      <th>True</th>\n",
              "      <td>paragraph in essay: 0</td>\n",
              "      <td>0.018149</td>\n",
              "    </tr>\n",
              "    <tr>\n",
              "      <th>True</th>\n",
              "      <td>total sentences in paragraph: 1</td>\n",
              "      <td>0.017300</td>\n",
              "    </tr>\n",
              "    <tr>\n",
              "      <th>True</th>\n",
              "      <td>sentence in essay: 10</td>\n",
              "      <td>0.015666</td>\n",
              "    </tr>\n",
              "    <tr>\n",
              "      <th>True</th>\n",
              "      <td>sentence in paragraph: 5</td>\n",
              "      <td>0.015465</td>\n",
              "    </tr>\n",
              "    <tr>\n",
              "      <th>True</th>\n",
              "      <td>total sentences in paragraph: 6</td>\n",
              "      <td>0.010664</td>\n",
              "    </tr>\n",
              "    <tr>\n",
              "      <th>True</th>\n",
              "      <td>sentence in essay: 12</td>\n",
              "      <td>0.010588</td>\n",
              "    </tr>\n",
              "    <tr>\n",
              "      <th>True</th>\n",
              "      <td>sentence in essay: 11</td>\n",
              "      <td>0.009782</td>\n",
              "    </tr>\n",
              "    <tr>\n",
              "      <th>True</th>\n",
              "      <td>total sentences in paragraph: 7</td>\n",
              "      <td>0.009711</td>\n",
              "    </tr>\n",
              "  </tbody>\n",
              "</table>\n",
              "</div>"
            ],
            "text/plain": [
              "                                      features     score\n",
              "argumentative                                           \n",
              "True                     paragraph in essay: 1  0.075637\n",
              "True                     paragraph in essay: 2  0.060762\n",
              "True                      sentence in essay: 8  0.028483\n",
              "True                      sentence in essay: 6  0.027385\n",
              "True                      sentence in essay: 5  0.024489\n",
              "True                      sentence in essay: 9  0.021228\n",
              "True                      sentence in essay: 7  0.020090\n",
              "True                     paragraph in essay: 0  0.018149\n",
              "True           total sentences in paragraph: 1  0.017300\n",
              "True                     sentence in essay: 10  0.015666\n",
              "True                  sentence in paragraph: 5  0.015465\n",
              "True           total sentences in paragraph: 6  0.010664\n",
              "True                     sentence in essay: 12  0.010588\n",
              "True                     sentence in essay: 11  0.009782\n",
              "True           total sentences in paragraph: 7  0.009711"
            ]
          },
          "metadata": {},
          "execution_count": 32
        }
      ]
    },
    {
      "cell_type": "code",
      "metadata": {
        "colab": {
          "base_uri": "https://localhost:8080/"
        },
        "id": "f14npURSPfXA",
        "outputId": "b778ce17-a76e-4ce4-fe6e-e6e427c27f32"
      },
      "source": [
        "global_explainability_tabular.loc[\"False\"][:10]"
      ],
      "execution_count": null,
      "outputs": [
        {
          "output_type": "execute_result",
          "data": {
            "text/html": [
              "<div>\n",
              "<style scoped>\n",
              "    .dataframe tbody tr th:only-of-type {\n",
              "        vertical-align: middle;\n",
              "    }\n",
              "\n",
              "    .dataframe tbody tr th {\n",
              "        vertical-align: top;\n",
              "    }\n",
              "\n",
              "    .dataframe thead th {\n",
              "        text-align: right;\n",
              "    }\n",
              "</style>\n",
              "<table border=\"1\" class=\"dataframe\">\n",
              "  <thead>\n",
              "    <tr style=\"text-align: right;\">\n",
              "      <th></th>\n",
              "      <th>features</th>\n",
              "      <th>score</th>\n",
              "    </tr>\n",
              "    <tr>\n",
              "      <th>argumentative</th>\n",
              "      <th></th>\n",
              "      <th></th>\n",
              "    </tr>\n",
              "  </thead>\n",
              "  <tbody>\n",
              "    <tr>\n",
              "      <th>False</th>\n",
              "      <td>paragraph in essay: 0</td>\n",
              "      <td>0.120295</td>\n",
              "    </tr>\n",
              "    <tr>\n",
              "      <th>False</th>\n",
              "      <td>sentence in essay: 0</td>\n",
              "      <td>0.100697</td>\n",
              "    </tr>\n",
              "    <tr>\n",
              "      <th>False</th>\n",
              "      <td>sentence in essay: 1</td>\n",
              "      <td>0.057662</td>\n",
              "    </tr>\n",
              "    <tr>\n",
              "      <th>False</th>\n",
              "      <td>sentence in essay: 2</td>\n",
              "      <td>0.011618</td>\n",
              "    </tr>\n",
              "    <tr>\n",
              "      <th>False</th>\n",
              "      <td>number words in sentence: 4</td>\n",
              "      <td>0.006234</td>\n",
              "    </tr>\n",
              "    <tr>\n",
              "      <th>False</th>\n",
              "      <td>paragraph in essay: 2</td>\n",
              "      <td>0.005155</td>\n",
              "    </tr>\n",
              "    <tr>\n",
              "      <th>False</th>\n",
              "      <td>total sentences in paragraph: 3</td>\n",
              "      <td>0.004717</td>\n",
              "    </tr>\n",
              "    <tr>\n",
              "      <th>False</th>\n",
              "      <td>paragraph in essay: 1</td>\n",
              "      <td>0.004461</td>\n",
              "    </tr>\n",
              "    <tr>\n",
              "      <th>False</th>\n",
              "      <td>number words in sentence: 3</td>\n",
              "      <td>0.003340</td>\n",
              "    </tr>\n",
              "    <tr>\n",
              "      <th>False</th>\n",
              "      <td>number words in sentence: 8</td>\n",
              "      <td>0.002654</td>\n",
              "    </tr>\n",
              "  </tbody>\n",
              "</table>\n",
              "</div>"
            ],
            "text/plain": [
              "                                      features     score\n",
              "argumentative                                           \n",
              "False                    paragraph in essay: 0  0.120295\n",
              "False                     sentence in essay: 0  0.100697\n",
              "False                     sentence in essay: 1  0.057662\n",
              "False                     sentence in essay: 2  0.011618\n",
              "False              number words in sentence: 4  0.006234\n",
              "False                    paragraph in essay: 2  0.005155\n",
              "False          total sentences in paragraph: 3  0.004717\n",
              "False                    paragraph in essay: 1  0.004461\n",
              "False              number words in sentence: 3  0.003340\n",
              "False              number words in sentence: 8  0.002654"
            ]
          },
          "metadata": {},
          "execution_count": 33
        }
      ]
    },
    {
      "cell_type": "markdown",
      "metadata": {
        "id": "rdmSiNpSDsTj"
      },
      "source": [
        "## **POS dataframe**"
      ]
    },
    {
      "cell_type": "code",
      "metadata": {
        "colab": {
          "base_uri": "https://localhost:8080/"
        },
        "id": "jVQKlL5Gddmt",
        "outputId": "e00ab548-b76a-4959-ac8b-7377de864fcf"
      },
      "source": [
        "ground_labels, _, labels, _, _, policy=stc_procedure(POS,true_labels)"
      ],
      "execution_count": null,
      "outputs": [
        {
          "output_type": "stream",
          "name": "stdout",
          "text": [
            ""
          ]
        }
      ]
    },
    {
      "cell_type": "code",
      "metadata": {
        "colab": {
          "base_uri": "https://localhost:8080/"
        },
        "id": "lJlBssrlvN1N",
        "outputId": "2f0e7859-d5b6-4de6-b71f-3bb71e59486a"
      },
      "source": [
        "_, global_explainability_tabular, _, _, _, _, debater_ground_labels, debater_labels=stc_procedure_tabular(POS,true_labels,Debater_POS,Debater_true_labels)"
      ],
      "execution_count": null,
      "outputs": [
        {
          "output_type": "stream",
          "name": "stdout",
          "text": [
            ""
          ]
        }
      ]
    },
    {
      "cell_type": "code",
      "metadata": {
        "id": "Odtax2sOvN1P"
      },
      "source": [
        "accuracy=accuracy_score(ground_labels, labels)\n",
        "f1_score_value=f1_score(y_true=ground_labels, y_pred=labels, pos_label=\"True\")\n",
        "precision=precision_score(ground_labels, labels, pos_label=\"True\")\n",
        "recall=recall_score(ground_labels, labels, pos_label=\"True\")\n",
        "\n",
        "debater_recall=recall_score(debater_ground_labels, debater_labels, pos_label=\"True\")"
      ],
      "execution_count": null,
      "outputs": []
    },
    {
      "cell_type": "code",
      "metadata": {
        "id": "3pL5qDq4vN1Q"
      },
      "source": [
        "accuracy_scores.append(accuracy)\n",
        "f1_scores.append(f1_score_value)\n",
        "precision_scores.append(precision)\n",
        "recall_scores.append(recall)\n",
        "\n",
        "debater_recall_scores.append(debater_recall)"
      ],
      "execution_count": null,
      "outputs": []
    },
    {
      "cell_type": "code",
      "metadata": {
        "colab": {
          "base_uri": "https://localhost:8080/"
        },
        "id": "HkQsrbTUvN1Q",
        "outputId": "e5598f82-d2f6-4382-dda6-b7cff8ea459b"
      },
      "source": [
        "print('accuracy: {}'.format(accuracy))\n",
        "print('f1 score: {}'.format(f1_score_value))\n",
        "print('precision: {}'.format(precision))\n",
        "print('recall: {}'.format(recall))\n",
        "print('\\n')\n",
        "print('recall debater dataset: {}'.format(debater_recall))"
      ],
      "execution_count": null,
      "outputs": [
        {
          "output_type": "stream",
          "name": "stdout",
          "text": [
            "accuracy: 0.6646180860403863\n",
            "f1 score: 0.7851518560179978\n",
            "precision: 0.8270142180094787\n",
            "recall: 0.7473233404710921\n",
            "\n",
            "\n",
            "recall debater dataset: 0.9915276674609479\n"
          ]
        }
      ]
    },
    {
      "cell_type": "code",
      "metadata": {
        "colab": {
          "base_uri": "https://localhost:8080/"
        },
        "id": "2V85d_8jddmw",
        "outputId": "83416be2-bcd3-4e51-eccc-6592be2af184"
      },
      "source": [
        "policy"
      ],
      "execution_count": null,
      "outputs": [
        {
          "output_type": "execute_result",
          "data": {
            "text/plain": [
              "[['d15', 'd8', 'd35', 'd34', 'd10', 'd14', 'd24', 'd13', 'd30', 'd18', 'd4'],\n",
              " ['d8', 'd35', 'd34', 'd10', 'd14', 'd24', 'd13', 'd30', 'd18', 'd4'],\n",
              " ['d35', 'd34', 'd10', 'd14', 'd24', 'd13', 'd30', 'd18', 'd4'],\n",
              " ['d34', 'd10', 'd14', 'd24', 'd13', 'd30', 'd18', 'd4'],\n",
              " ['d10', 'd14', 'd24', 'd13', 'd30', 'd18', 'd4'],\n",
              " ['d14', 'd24', 'd13', 'd30', 'd18', 'd4'],\n",
              " ['d24', 'd13', 'd30', 'd18', 'd4'],\n",
              " ['d13', 'd30', 'd18', 'd4'],\n",
              " ['d30', 'd18', 'd4'],\n",
              " ['d18', 'd4'],\n",
              " ['d4'],\n",
              " []]"
            ]
          },
          "metadata": {},
          "execution_count": 39
        }
      ]
    },
    {
      "cell_type": "code",
      "metadata": {
        "colab": {
          "base_uri": "https://localhost:8080/"
        },
        "id": "4UZQD0WZjIhd",
        "outputId": "657e06de-98f8-4391-f241-84488ac8f313"
      },
      "source": [
        "policy_set=[]\n",
        "\n",
        "for pol in policy:\n",
        "  policy_set+=pol\n",
        "\n",
        "policy_set=list(set(policy_set))\n",
        "\n",
        "column=POS.columns\n",
        "drop_features=[]\n",
        "for i in range(len(column)-1):\n",
        "  if not 'd{}'.format(i) in policy_set:\n",
        "    drop_features.append(column[i])\n",
        "\n",
        "drop_features"
      ],
      "execution_count": null,
      "outputs": [
        {
          "output_type": "execute_result",
          "data": {
            "text/plain": [
              "['$',\n",
              " \"''\",\n",
              " '(',\n",
              " ')',\n",
              " '.',\n",
              " ':',\n",
              " '``',\n",
              " 'cd',\n",
              " 'ex',\n",
              " 'fw',\n",
              " 'jjs',\n",
              " 'md',\n",
              " 'nnp',\n",
              " 'nns',\n",
              " 'pdt',\n",
              " 'po',\n",
              " 'prp',\n",
              " 'rbr',\n",
              " 'rp',\n",
              " 'sym',\n",
              " 'to',\n",
              " 'uh',\n",
              " 'vbd',\n",
              " 'vbg',\n",
              " 'vbn',\n",
              " 'wdt',\n",
              " 'wp',\n",
              " 'wrb']"
            ]
          },
          "metadata": {},
          "execution_count": 40
        }
      ]
    },
    {
      "cell_type": "code",
      "metadata": {
        "colab": {
          "base_uri": "https://localhost:8080/"
        },
        "id": "mLbwR0PHjIhe",
        "outputId": "bd5f3f06-e2a9-4d50-f7fe-cb95bb5e8f14"
      },
      "source": [
        "len(drop_features)"
      ],
      "execution_count": null,
      "outputs": [
        {
          "output_type": "execute_result",
          "data": {
            "text/plain": [
              "28"
            ]
          },
          "metadata": {},
          "execution_count": 41
        }
      ]
    },
    {
      "cell_type": "code",
      "metadata": {
        "id": "Uv2q29d32YI7"
      },
      "source": [
        "# Save features to drop into a text file.\n",
        "\n",
        "f = open(\"drop_argumentative_POS.txt\", \"a\")\n",
        "for feature in drop_features:\n",
        "  f.write(\"{}-\".format(feature))\n",
        "f.close()"
      ],
      "execution_count": null,
      "outputs": []
    },
    {
      "cell_type": "code",
      "metadata": {
        "id": "RAaqXCXUjIhe"
      },
      "source": [
        "if len(policy_set)>1:\n",
        "  POS=POS.drop(columns=drop_features)"
      ],
      "execution_count": null,
      "outputs": []
    },
    {
      "cell_type": "code",
      "metadata": {
        "colab": {
          "base_uri": "https://localhost:8080/"
        },
        "id": "ouAppAifddmx",
        "outputId": "c47905cb-2673-4ac5-f869-b62d42ca7be2"
      },
      "source": [
        "global_explainability_tabular.loc[\"True\"][:15]"
      ],
      "execution_count": null,
      "outputs": [
        {
          "output_type": "execute_result",
          "data": {
            "text/html": [
              "<div>\n",
              "<style scoped>\n",
              "    .dataframe tbody tr th:only-of-type {\n",
              "        vertical-align: middle;\n",
              "    }\n",
              "\n",
              "    .dataframe tbody tr th {\n",
              "        vertical-align: top;\n",
              "    }\n",
              "\n",
              "    .dataframe thead th {\n",
              "        text-align: right;\n",
              "    }\n",
              "</style>\n",
              "<table border=\"1\" class=\"dataframe\">\n",
              "  <thead>\n",
              "    <tr style=\"text-align: right;\">\n",
              "      <th></th>\n",
              "      <th>features</th>\n",
              "      <th>score</th>\n",
              "    </tr>\n",
              "    <tr>\n",
              "      <th>argumentative</th>\n",
              "      <th></th>\n",
              "      <th></th>\n",
              "    </tr>\n",
              "  </thead>\n",
              "  <tbody>\n",
              "    <tr>\n",
              "      <th>True</th>\n",
              "      <td>prp: 5</td>\n",
              "      <td>0.002924</td>\n",
              "    </tr>\n",
              "    <tr>\n",
              "      <th>True</th>\n",
              "      <td>nns: 7</td>\n",
              "      <td>0.002311</td>\n",
              "    </tr>\n",
              "    <tr>\n",
              "      <th>True</th>\n",
              "      <td>,: 3</td>\n",
              "      <td>0.002230</td>\n",
              "    </tr>\n",
              "    <tr>\n",
              "      <th>True</th>\n",
              "      <td>jj: 6</td>\n",
              "      <td>0.002072</td>\n",
              "    </tr>\n",
              "    <tr>\n",
              "      <th>True</th>\n",
              "      <td>rb: 4</td>\n",
              "      <td>0.001864</td>\n",
              "    </tr>\n",
              "    <tr>\n",
              "      <th>True</th>\n",
              "      <td>wdt: 2</td>\n",
              "      <td>0.001764</td>\n",
              "    </tr>\n",
              "    <tr>\n",
              "      <th>True</th>\n",
              "      <td>prp: 4</td>\n",
              "      <td>0.001737</td>\n",
              "    </tr>\n",
              "    <tr>\n",
              "      <th>True</th>\n",
              "      <td>,: 0</td>\n",
              "      <td>0.001728</td>\n",
              "    </tr>\n",
              "    <tr>\n",
              "      <th>True</th>\n",
              "      <td>jjr: 3</td>\n",
              "      <td>0.001691</td>\n",
              "    </tr>\n",
              "    <tr>\n",
              "      <th>True</th>\n",
              "      <td>,: 4</td>\n",
              "      <td>0.001469</td>\n",
              "    </tr>\n",
              "    <tr>\n",
              "      <th>True</th>\n",
              "      <td>nn: 11</td>\n",
              "      <td>0.001382</td>\n",
              "    </tr>\n",
              "    <tr>\n",
              "      <th>True</th>\n",
              "      <td>in: 9</td>\n",
              "      <td>0.001217</td>\n",
              "    </tr>\n",
              "    <tr>\n",
              "      <th>True</th>\n",
              "      <td>,: 2</td>\n",
              "      <td>0.001197</td>\n",
              "    </tr>\n",
              "    <tr>\n",
              "      <th>True</th>\n",
              "      <td>nns: 8</td>\n",
              "      <td>0.001130</td>\n",
              "    </tr>\n",
              "    <tr>\n",
              "      <th>True</th>\n",
              "      <td>vbd: 4</td>\n",
              "      <td>0.001130</td>\n",
              "    </tr>\n",
              "  </tbody>\n",
              "</table>\n",
              "</div>"
            ],
            "text/plain": [
              "              features     score\n",
              "argumentative                   \n",
              "True            prp: 5  0.002924\n",
              "True            nns: 7  0.002311\n",
              "True              ,: 3  0.002230\n",
              "True             jj: 6  0.002072\n",
              "True             rb: 4  0.001864\n",
              "True            wdt: 2  0.001764\n",
              "True            prp: 4  0.001737\n",
              "True              ,: 0  0.001728\n",
              "True            jjr: 3  0.001691\n",
              "True              ,: 4  0.001469\n",
              "True            nn: 11  0.001382\n",
              "True             in: 9  0.001217\n",
              "True              ,: 2  0.001197\n",
              "True            nns: 8  0.001130\n",
              "True            vbd: 4  0.001130"
            ]
          },
          "metadata": {},
          "execution_count": 44
        }
      ]
    },
    {
      "cell_type": "code",
      "metadata": {
        "colab": {
          "base_uri": "https://localhost:8080/"
        },
        "id": "UpLHP_eEddmx",
        "outputId": "6340e896-d2c1-4d41-8726-714816f20fc8"
      },
      "source": [
        "global_explainability_tabular.loc[\"False\"][:10]"
      ],
      "execution_count": null,
      "outputs": [
        {
          "output_type": "execute_result",
          "data": {
            "text/html": [
              "<div>\n",
              "<style scoped>\n",
              "    .dataframe tbody tr th:only-of-type {\n",
              "        vertical-align: middle;\n",
              "    }\n",
              "\n",
              "    .dataframe tbody tr th {\n",
              "        vertical-align: top;\n",
              "    }\n",
              "\n",
              "    .dataframe thead th {\n",
              "        text-align: right;\n",
              "    }\n",
              "</style>\n",
              "<table border=\"1\" class=\"dataframe\">\n",
              "  <thead>\n",
              "    <tr style=\"text-align: right;\">\n",
              "      <th></th>\n",
              "      <th>features</th>\n",
              "      <th>score</th>\n",
              "    </tr>\n",
              "    <tr>\n",
              "      <th>argumentative</th>\n",
              "      <th></th>\n",
              "      <th></th>\n",
              "    </tr>\n",
              "  </thead>\n",
              "  <tbody>\n",
              "    <tr>\n",
              "      <th>False</th>\n",
              "      <td>.: 1</td>\n",
              "      <td>0.004703</td>\n",
              "    </tr>\n",
              "    <tr>\n",
              "      <th>False</th>\n",
              "      <td>,: 0</td>\n",
              "      <td>0.002027</td>\n",
              "    </tr>\n",
              "    <tr>\n",
              "      <th>False</th>\n",
              "      <td>prp: 8</td>\n",
              "      <td>0.001149</td>\n",
              "    </tr>\n",
              "    <tr>\n",
              "      <th>False</th>\n",
              "      <td>nn: 1</td>\n",
              "      <td>0.000806</td>\n",
              "    </tr>\n",
              "    <tr>\n",
              "      <th>False</th>\n",
              "      <td>in: 0</td>\n",
              "      <td>0.000755</td>\n",
              "    </tr>\n",
              "    <tr>\n",
              "      <th>False</th>\n",
              "      <td>ex: 1</td>\n",
              "      <td>0.000718</td>\n",
              "    </tr>\n",
              "    <tr>\n",
              "      <th>False</th>\n",
              "      <td>vb: 0</td>\n",
              "      <td>0.000613</td>\n",
              "    </tr>\n",
              "    <tr>\n",
              "      <th>False</th>\n",
              "      <td>rb: 0</td>\n",
              "      <td>0.000493</td>\n",
              "    </tr>\n",
              "    <tr>\n",
              "      <th>False</th>\n",
              "      <td>,: 3</td>\n",
              "      <td>0.000444</td>\n",
              "    </tr>\n",
              "    <tr>\n",
              "      <th>False</th>\n",
              "      <td>,: 2</td>\n",
              "      <td>0.000432</td>\n",
              "    </tr>\n",
              "  </tbody>\n",
              "</table>\n",
              "</div>"
            ],
            "text/plain": [
              "              features     score\n",
              "argumentative                   \n",
              "False             .: 1  0.004703\n",
              "False             ,: 0  0.002027\n",
              "False           prp: 8  0.001149\n",
              "False            nn: 1  0.000806\n",
              "False            in: 0  0.000755\n",
              "False            ex: 1  0.000718\n",
              "False            vb: 0  0.000613\n",
              "False            rb: 0  0.000493\n",
              "False             ,: 3  0.000444\n",
              "False             ,: 2  0.000432"
            ]
          },
          "metadata": {},
          "execution_count": 45
        }
      ]
    },
    {
      "cell_type": "markdown",
      "metadata": {
        "id": "ratGQCj3IE7q"
      },
      "source": [
        "## **Simple POS dataframe**"
      ]
    },
    {
      "cell_type": "code",
      "metadata": {
        "colab": {
          "base_uri": "https://localhost:8080/"
        },
        "id": "zhJxOHQWdnf-",
        "outputId": "7c44cdfc-4819-4b77-9c70-329537cea12a"
      },
      "source": [
        "ground_labels, _, labels, _, _, policy=stc_procedure(simple_POS,true_labels)"
      ],
      "execution_count": null,
      "outputs": [
        {
          "output_type": "stream",
          "name": "stdout",
          "text": [
            ""
          ]
        }
      ]
    },
    {
      "cell_type": "code",
      "metadata": {
        "colab": {
          "base_uri": "https://localhost:8080/"
        },
        "id": "QsjrMDPzvRNX",
        "outputId": "b36fd6b7-1d82-4f5e-a9aa-35bb35a7ea61"
      },
      "source": [
        "_, global_explainability_tabular, _, _, _, _, debater_ground_labels, debater_labels=stc_procedure_tabular(simple_POS,true_labels,Debater_simple_POS,Debater_true_labels)"
      ],
      "execution_count": null,
      "outputs": [
        {
          "output_type": "stream",
          "name": "stdout",
          "text": [
            ""
          ]
        }
      ]
    },
    {
      "cell_type": "code",
      "metadata": {
        "id": "W-mcbzAUvRNY"
      },
      "source": [
        "accuracy=accuracy_score(ground_labels, labels)\n",
        "f1_score_value=f1_score(y_true=ground_labels, y_pred=labels, pos_label=\"True\")\n",
        "precision=precision_score(ground_labels, labels, pos_label=\"True\")\n",
        "recall=recall_score(ground_labels, labels, pos_label=\"True\")\n",
        "\n",
        "debater_recall=recall_score(debater_ground_labels, debater_labels, pos_label=\"True\")"
      ],
      "execution_count": null,
      "outputs": []
    },
    {
      "cell_type": "code",
      "metadata": {
        "id": "NnLfH8tmvRNY"
      },
      "source": [
        "accuracy_scores.append(accuracy)\n",
        "f1_scores.append(f1_score_value)\n",
        "precision_scores.append(precision)\n",
        "recall_scores.append(recall)\n",
        "\n",
        "debater_recall_scores.append(debater_recall)"
      ],
      "execution_count": null,
      "outputs": []
    },
    {
      "cell_type": "code",
      "metadata": {
        "colab": {
          "base_uri": "https://localhost:8080/"
        },
        "id": "j3zXBOqEvRNZ",
        "outputId": "cb03b65c-e247-4208-dc73-bf074ef954d2"
      },
      "source": [
        "print('accuracy: {}'.format(accuracy))\n",
        "print('f1 score: {}'.format(f1_score_value))\n",
        "print('precision: {}'.format(precision))\n",
        "print('recall: {}'.format(recall))\n",
        "print('\\n')\n",
        "print('recall debater dataset: {}'.format(debater_recall))"
      ],
      "execution_count": null,
      "outputs": [
        {
          "output_type": "stream",
          "name": "stdout",
          "text": [
            "accuracy: 0.7014925373134329\n",
            "f1 score: 0.8121546961325966\n",
            "precision: 0.839041095890411\n",
            "recall: 0.7869379014989293\n",
            "\n",
            "\n",
            "recall debater dataset: 0.9830553349218957\n"
          ]
        }
      ]
    },
    {
      "cell_type": "code",
      "metadata": {
        "colab": {
          "base_uri": "https://localhost:8080/"
        },
        "id": "l5KCxPUddngB",
        "outputId": "6899cfda-9b04-4daf-eb56-191bae5231c7"
      },
      "source": [
        "policy"
      ],
      "execution_count": null,
      "outputs": [
        {
          "output_type": "execute_result",
          "data": {
            "text/plain": [
              "[['d2', 'd9', 'd4', 'd3', 'd5', 'd1', 'd10', 'd6', 'd8', 'd0'],\n",
              " ['d9', 'd4', 'd3', 'd5', 'd1', 'd10', 'd6', 'd8', 'd0'],\n",
              " ['d4', 'd3', 'd5', 'd1', 'd10', 'd6', 'd8', 'd0'],\n",
              " ['d3', 'd5', 'd1', 'd10', 'd6', 'd8', 'd0'],\n",
              " ['d5', 'd1', 'd10', 'd6', 'd8', 'd0'],\n",
              " ['d1', 'd10', 'd6', 'd8', 'd0'],\n",
              " ['d10', 'd6', 'd8', 'd0'],\n",
              " ['d6', 'd8', 'd0'],\n",
              " ['d8', 'd0'],\n",
              " ['d0'],\n",
              " []]"
            ]
          },
          "metadata": {},
          "execution_count": 51
        }
      ]
    },
    {
      "cell_type": "code",
      "metadata": {
        "colab": {
          "base_uri": "https://localhost:8080/"
        },
        "id": "-7kOeutZjQtA",
        "outputId": "f876b168-b832-4cff-a2fd-da1ce832e00b"
      },
      "source": [
        "policy_set=[]\n",
        "\n",
        "for pol in policy:\n",
        "  policy_set+=pol\n",
        "\n",
        "policy_set=list(set(policy_set))\n",
        "\n",
        "column=simple_POS.columns\n",
        "drop_features=[]\n",
        "for i in range(len(column)-1):\n",
        "  if not 'd{}'.format(i) in policy_set:\n",
        "    drop_features.append(column[i])\n",
        "\n",
        "drop_features"
      ],
      "execution_count": null,
      "outputs": [
        {
          "output_type": "execute_result",
          "data": {
            "text/plain": [
              "['num', 'x']"
            ]
          },
          "metadata": {},
          "execution_count": 52
        }
      ]
    },
    {
      "cell_type": "code",
      "metadata": {
        "colab": {
          "base_uri": "https://localhost:8080/"
        },
        "id": "bPxjckKjjQtB",
        "outputId": "e39c669a-1418-4df6-dd98-9fc947c3eadd"
      },
      "source": [
        "len(drop_features)"
      ],
      "execution_count": null,
      "outputs": [
        {
          "output_type": "execute_result",
          "data": {
            "text/plain": [
              "2"
            ]
          },
          "metadata": {},
          "execution_count": 53
        }
      ]
    },
    {
      "cell_type": "code",
      "metadata": {
        "id": "Ghbv7_Ar2dtT"
      },
      "source": [
        "# Save features to drop into a text file.\n",
        "\n",
        "f = open(\"drop_argumentative_simple_POS.txt\", \"a\")\n",
        "for feature in drop_features:\n",
        "  f.write(\"{}-\".format(feature))\n",
        "f.close()"
      ],
      "execution_count": null,
      "outputs": []
    },
    {
      "cell_type": "code",
      "metadata": {
        "id": "gpoN1d0ijQtC"
      },
      "source": [
        "if len(policy_set)>1:\n",
        "  simple_POS=simple_POS.drop(columns=drop_features)"
      ],
      "execution_count": null,
      "outputs": []
    },
    {
      "cell_type": "code",
      "metadata": {
        "colab": {
          "base_uri": "https://localhost:8080/"
        },
        "id": "dKCmdIMHdngB",
        "outputId": "e8ba0cc3-bd45-430e-b428-7a782c259675"
      },
      "source": [
        "global_explainability_tabular.loc[\"True\"][:15]"
      ],
      "execution_count": null,
      "outputs": [
        {
          "output_type": "execute_result",
          "data": {
            "text/html": [
              "<div>\n",
              "<style scoped>\n",
              "    .dataframe tbody tr th:only-of-type {\n",
              "        vertical-align: middle;\n",
              "    }\n",
              "\n",
              "    .dataframe tbody tr th {\n",
              "        vertical-align: top;\n",
              "    }\n",
              "\n",
              "    .dataframe thead th {\n",
              "        text-align: right;\n",
              "    }\n",
              "</style>\n",
              "<table border=\"1\" class=\"dataframe\">\n",
              "  <thead>\n",
              "    <tr style=\"text-align: right;\">\n",
              "      <th></th>\n",
              "      <th>features</th>\n",
              "      <th>score</th>\n",
              "    </tr>\n",
              "    <tr>\n",
              "      <th>argumentative</th>\n",
              "      <th></th>\n",
              "      <th></th>\n",
              "    </tr>\n",
              "  </thead>\n",
              "  <tbody>\n",
              "    <tr>\n",
              "      <th>True</th>\n",
              "      <td>adv: 4</td>\n",
              "      <td>0.004545</td>\n",
              "    </tr>\n",
              "    <tr>\n",
              "      <th>True</th>\n",
              "      <td>pron: 5</td>\n",
              "      <td>0.003784</td>\n",
              "    </tr>\n",
              "    <tr>\n",
              "      <th>True</th>\n",
              "      <td>.: 0</td>\n",
              "      <td>0.003375</td>\n",
              "    </tr>\n",
              "    <tr>\n",
              "      <th>True</th>\n",
              "      <td>.: 3</td>\n",
              "      <td>0.003273</td>\n",
              "    </tr>\n",
              "    <tr>\n",
              "      <th>True</th>\n",
              "      <td>adj: 8</td>\n",
              "      <td>0.003154</td>\n",
              "    </tr>\n",
              "    <tr>\n",
              "      <th>True</th>\n",
              "      <td>verb: 11</td>\n",
              "      <td>0.003154</td>\n",
              "    </tr>\n",
              "    <tr>\n",
              "      <th>True</th>\n",
              "      <td>pron: 6</td>\n",
              "      <td>0.002968</td>\n",
              "    </tr>\n",
              "    <tr>\n",
              "      <th>True</th>\n",
              "      <td>pron: 4</td>\n",
              "      <td>0.002919</td>\n",
              "    </tr>\n",
              "    <tr>\n",
              "      <th>True</th>\n",
              "      <td>adp: 9</td>\n",
              "      <td>0.002776</td>\n",
              "    </tr>\n",
              "    <tr>\n",
              "      <th>True</th>\n",
              "      <td>.: 4</td>\n",
              "      <td>0.002450</td>\n",
              "    </tr>\n",
              "    <tr>\n",
              "      <th>True</th>\n",
              "      <td>pron: 7</td>\n",
              "      <td>0.002375</td>\n",
              "    </tr>\n",
              "    <tr>\n",
              "      <th>True</th>\n",
              "      <td>adv: 5</td>\n",
              "      <td>0.002295</td>\n",
              "    </tr>\n",
              "    <tr>\n",
              "      <th>True</th>\n",
              "      <td>.: 5</td>\n",
              "      <td>0.002206</td>\n",
              "    </tr>\n",
              "    <tr>\n",
              "      <th>True</th>\n",
              "      <td>adp: 8</td>\n",
              "      <td>0.002206</td>\n",
              "    </tr>\n",
              "    <tr>\n",
              "      <th>True</th>\n",
              "      <td>adj: 6</td>\n",
              "      <td>0.002037</td>\n",
              "    </tr>\n",
              "  </tbody>\n",
              "</table>\n",
              "</div>"
            ],
            "text/plain": [
              "               features     score\n",
              "argumentative                    \n",
              "True             adv: 4  0.004545\n",
              "True            pron: 5  0.003784\n",
              "True               .: 0  0.003375\n",
              "True               .: 3  0.003273\n",
              "True             adj: 8  0.003154\n",
              "True           verb: 11  0.003154\n",
              "True            pron: 6  0.002968\n",
              "True            pron: 4  0.002919\n",
              "True             adp: 9  0.002776\n",
              "True               .: 4  0.002450\n",
              "True            pron: 7  0.002375\n",
              "True             adv: 5  0.002295\n",
              "True               .: 5  0.002206\n",
              "True             adp: 8  0.002206\n",
              "True             adj: 6  0.002037"
            ]
          },
          "metadata": {},
          "execution_count": 56
        }
      ]
    },
    {
      "cell_type": "code",
      "metadata": {
        "colab": {
          "base_uri": "https://localhost:8080/"
        },
        "id": "Acts3UEGdngC",
        "outputId": "8d4bb8a4-d334-4e9b-b021-b7b94e7388d1"
      },
      "source": [
        "global_explainability_tabular.loc[\"False\"][:10]"
      ],
      "execution_count": null,
      "outputs": [
        {
          "output_type": "execute_result",
          "data": {
            "text/html": [
              "<div>\n",
              "<style scoped>\n",
              "    .dataframe tbody tr th:only-of-type {\n",
              "        vertical-align: middle;\n",
              "    }\n",
              "\n",
              "    .dataframe tbody tr th {\n",
              "        vertical-align: top;\n",
              "    }\n",
              "\n",
              "    .dataframe thead th {\n",
              "        text-align: right;\n",
              "    }\n",
              "</style>\n",
              "<table border=\"1\" class=\"dataframe\">\n",
              "  <thead>\n",
              "    <tr style=\"text-align: right;\">\n",
              "      <th></th>\n",
              "      <th>features</th>\n",
              "      <th>score</th>\n",
              "    </tr>\n",
              "    <tr>\n",
              "      <th>argumentative</th>\n",
              "      <th></th>\n",
              "      <th></th>\n",
              "    </tr>\n",
              "  </thead>\n",
              "  <tbody>\n",
              "    <tr>\n",
              "      <th>False</th>\n",
              "      <td>.: 0</td>\n",
              "      <td>0.003781</td>\n",
              "    </tr>\n",
              "    <tr>\n",
              "      <th>False</th>\n",
              "      <td>adv: 0</td>\n",
              "      <td>0.001841</td>\n",
              "    </tr>\n",
              "    <tr>\n",
              "      <th>False</th>\n",
              "      <td>adp: 0</td>\n",
              "      <td>0.001724</td>\n",
              "    </tr>\n",
              "    <tr>\n",
              "      <th>False</th>\n",
              "      <td>adj: 9</td>\n",
              "      <td>0.001614</td>\n",
              "    </tr>\n",
              "    <tr>\n",
              "      <th>False</th>\n",
              "      <td>noun: 1</td>\n",
              "      <td>0.001513</td>\n",
              "    </tr>\n",
              "    <tr>\n",
              "      <th>False</th>\n",
              "      <td>verb: 1</td>\n",
              "      <td>0.001316</td>\n",
              "    </tr>\n",
              "    <tr>\n",
              "      <th>False</th>\n",
              "      <td>noun: 2</td>\n",
              "      <td>0.001065</td>\n",
              "    </tr>\n",
              "    <tr>\n",
              "      <th>False</th>\n",
              "      <td>verb: 0</td>\n",
              "      <td>0.000891</td>\n",
              "    </tr>\n",
              "    <tr>\n",
              "      <th>False</th>\n",
              "      <td>.: 3</td>\n",
              "      <td>0.000863</td>\n",
              "    </tr>\n",
              "    <tr>\n",
              "      <th>False</th>\n",
              "      <td>adv: 4</td>\n",
              "      <td>0.000817</td>\n",
              "    </tr>\n",
              "  </tbody>\n",
              "</table>\n",
              "</div>"
            ],
            "text/plain": [
              "              features     score\n",
              "argumentative                   \n",
              "False             .: 0  0.003781\n",
              "False           adv: 0  0.001841\n",
              "False           adp: 0  0.001724\n",
              "False           adj: 9  0.001614\n",
              "False          noun: 1  0.001513\n",
              "False          verb: 1  0.001316\n",
              "False          noun: 2  0.001065\n",
              "False          verb: 0  0.000891\n",
              "False             .: 3  0.000863\n",
              "False           adv: 4  0.000817"
            ]
          },
          "metadata": {},
          "execution_count": 57
        }
      ]
    },
    {
      "cell_type": "markdown",
      "metadata": {
        "id": "a2q54EWlILlk"
      },
      "source": [
        "## **bigram POS dataframe**"
      ]
    },
    {
      "cell_type": "code",
      "metadata": {
        "colab": {
          "base_uri": "https://localhost:8080/"
        },
        "id": "vzyFRQOpdxoF",
        "outputId": "b68b6f67-2010-4895-9fad-f5a4b1b9f2e4"
      },
      "source": [
        "ground_labels, global_explainability_tabular, labels, _, _, policy, debater_ground_labels, debater_labels=stc_procedure_tabular(bigram_POS,true_labels,Debater_bigram_POS,Debater_true_labels)"
      ],
      "execution_count": null,
      "outputs": [
        {
          "output_type": "stream",
          "name": "stdout",
          "text": [
            ""
          ]
        }
      ]
    },
    {
      "cell_type": "code",
      "metadata": {
        "id": "MrMarlKVvTyK"
      },
      "source": [
        "accuracy=accuracy_score(ground_labels, labels)\n",
        "f1_score_value=f1_score(y_true=ground_labels, y_pred=labels, pos_label=\"True\")\n",
        "precision=precision_score(ground_labels, labels, pos_label=\"True\")\n",
        "recall=recall_score(ground_labels, labels, pos_label=\"True\")\n",
        "\n",
        "debater_recall=recall_score(debater_ground_labels, debater_labels, pos_label=\"True\")"
      ],
      "execution_count": null,
      "outputs": []
    },
    {
      "cell_type": "code",
      "metadata": {
        "id": "kf5-FhS0vTyL"
      },
      "source": [
        "#accuracy_scores.append(accuracy)\n",
        "#f1_scores.append(f1_score_value)\n",
        "#precision_scores.append(precision)\n",
        "#recall_scores.append(recall)\n",
        "\n",
        "#debater_recall_scores.append(debater_recall)"
      ],
      "execution_count": null,
      "outputs": []
    },
    {
      "cell_type": "code",
      "metadata": {
        "colab": {
          "base_uri": "https://localhost:8080/"
        },
        "id": "R9N2kq35vTyL",
        "outputId": "133557d3-5bec-4ccd-d84e-cdb962a0f26c"
      },
      "source": [
        "print('accuracy: {}'.format(accuracy))\n",
        "print('f1 score: {}'.format(f1_score_value))\n",
        "print('precision: {}'.format(precision))\n",
        "print('recall: {}'.format(recall))\n",
        "print('\\n')\n",
        "print('recall debater dataset: {}'.format(debater_recall))"
      ],
      "execution_count": null,
      "outputs": [
        {
          "output_type": "stream",
          "name": "stdout",
          "text": [
            "accuracy: 0.8226514486391572\n",
            "f1 score: 0.902321083172147\n",
            "precision: 0.8227513227513228\n",
            "recall: 0.9989293361884368\n",
            "\n",
            "\n",
            "recall debater dataset: 0.95816785808843\n"
          ]
        }
      ]
    },
    {
      "cell_type": "code",
      "metadata": {
        "colab": {
          "base_uri": "https://localhost:8080/"
        },
        "id": "FbDQRTRddxoG",
        "outputId": "86f550f0-bab1-4f81-e7aa-34eb2bac67ef"
      },
      "source": [
        "global_explainability_tabular.loc[\"True\"][:15]"
      ],
      "execution_count": null,
      "outputs": [
        {
          "output_type": "execute_result",
          "data": {
            "text/html": [
              "<div>\n",
              "<style scoped>\n",
              "    .dataframe tbody tr th:only-of-type {\n",
              "        vertical-align: middle;\n",
              "    }\n",
              "\n",
              "    .dataframe tbody tr th {\n",
              "        vertical-align: top;\n",
              "    }\n",
              "\n",
              "    .dataframe thead th {\n",
              "        text-align: right;\n",
              "    }\n",
              "</style>\n",
              "<table border=\"1\" class=\"dataframe\">\n",
              "  <thead>\n",
              "    <tr style=\"text-align: right;\">\n",
              "      <th></th>\n",
              "      <th>features</th>\n",
              "      <th>score</th>\n",
              "    </tr>\n",
              "    <tr>\n",
              "      <th>argumentative</th>\n",
              "      <th></th>\n",
              "      <th></th>\n",
              "    </tr>\n",
              "  </thead>\n",
              "  <tbody>\n",
              "    <tr>\n",
              "      <th>True</th>\n",
              "      <td>prp md: 1</td>\n",
              "      <td>0.001682</td>\n",
              "    </tr>\n",
              "    <tr>\n",
              "      <th>True</th>\n",
              "      <td>prp nn: 1</td>\n",
              "      <td>0.001661</td>\n",
              "    </tr>\n",
              "    <tr>\n",
              "      <th>True</th>\n",
              "      <td>prp rbr: 1</td>\n",
              "      <td>0.001482</td>\n",
              "    </tr>\n",
              "    <tr>\n",
              "      <th>True</th>\n",
              "      <td>rb jjs: 1</td>\n",
              "      <td>0.001294</td>\n",
              "    </tr>\n",
              "    <tr>\n",
              "      <th>True</th>\n",
              "      <td>prp vbp: 3</td>\n",
              "      <td>0.001294</td>\n",
              "    </tr>\n",
              "    <tr>\n",
              "      <th>True</th>\n",
              "      <td>rb jjr: 1</td>\n",
              "      <td>0.001173</td>\n",
              "    </tr>\n",
              "    <tr>\n",
              "      <th>True</th>\n",
              "      <td>rb vb: 2</td>\n",
              "      <td>0.000990</td>\n",
              "    </tr>\n",
              "    <tr>\n",
              "      <th>True</th>\n",
              "      <td>$ nn: 2</td>\n",
              "      <td>0.000902</td>\n",
              "    </tr>\n",
              "    <tr>\n",
              "      <th>True</th>\n",
              "      <td>po jj: 1</td>\n",
              "      <td>0.000881</td>\n",
              "    </tr>\n",
              "    <tr>\n",
              "      <th>True</th>\n",
              "      <td>prp $: 4</td>\n",
              "      <td>0.000797</td>\n",
              "    </tr>\n",
              "    <tr>\n",
              "      <th>True</th>\n",
              "      <td>prp in: 1</td>\n",
              "      <td>0.000788</td>\n",
              "    </tr>\n",
              "    <tr>\n",
              "      <th>True</th>\n",
              "      <td>cc nn: 1</td>\n",
              "      <td>0.000681</td>\n",
              "    </tr>\n",
              "    <tr>\n",
              "      <th>True</th>\n",
              "      <td>rb in: 2</td>\n",
              "      <td>0.000677</td>\n",
              "    </tr>\n",
              "    <tr>\n",
              "      <th>True</th>\n",
              "      <td>prp vbp: 1</td>\n",
              "      <td>0.000619</td>\n",
              "    </tr>\n",
              "    <tr>\n",
              "      <th>True</th>\n",
              "      <td>prp md: 3</td>\n",
              "      <td>0.000538</td>\n",
              "    </tr>\n",
              "  </tbody>\n",
              "</table>\n",
              "</div>"
            ],
            "text/plain": [
              "                 features     score\n",
              "argumentative                      \n",
              "True            prp md: 1  0.001682\n",
              "True            prp nn: 1  0.001661\n",
              "True           prp rbr: 1  0.001482\n",
              "True            rb jjs: 1  0.001294\n",
              "True           prp vbp: 3  0.001294\n",
              "True            rb jjr: 1  0.001173\n",
              "True             rb vb: 2  0.000990\n",
              "True              $ nn: 2  0.000902\n",
              "True             po jj: 1  0.000881\n",
              "True             prp $: 4  0.000797\n",
              "True            prp in: 1  0.000788\n",
              "True             cc nn: 1  0.000681\n",
              "True             rb in: 2  0.000677\n",
              "True           prp vbp: 1  0.000619\n",
              "True            prp md: 3  0.000538"
            ]
          },
          "metadata": {},
          "execution_count": 62
        }
      ]
    },
    {
      "cell_type": "code",
      "metadata": {
        "colab": {
          "base_uri": "https://localhost:8080/"
        },
        "id": "N_p51tTDdxoG",
        "outputId": "0b8b1cd1-8a98-4308-d60e-68a060220bec"
      },
      "source": [
        "global_explainability_tabular.loc[\"False\"][:10]"
      ],
      "execution_count": null,
      "outputs": [
        {
          "output_type": "execute_result",
          "data": {
            "text/html": [
              "<div>\n",
              "<style scoped>\n",
              "    .dataframe tbody tr th:only-of-type {\n",
              "        vertical-align: middle;\n",
              "    }\n",
              "\n",
              "    .dataframe tbody tr th {\n",
              "        vertical-align: top;\n",
              "    }\n",
              "\n",
              "    .dataframe thead th {\n",
              "        text-align: right;\n",
              "    }\n",
              "</style>\n",
              "<table border=\"1\" class=\"dataframe\">\n",
              "  <thead>\n",
              "    <tr style=\"text-align: right;\">\n",
              "      <th></th>\n",
              "      <th>features</th>\n",
              "      <th>score</th>\n",
              "    </tr>\n",
              "    <tr>\n",
              "      <th>argumentative</th>\n",
              "      <th></th>\n",
              "      <th></th>\n",
              "    </tr>\n",
              "  </thead>\n",
              "  <tbody>\n",
              "    <tr>\n",
              "      <th>False</th>\n",
              "      <td>cd cd: 1</td>\n",
              "      <td>0.000757</td>\n",
              "    </tr>\n",
              "    <tr>\n",
              "      <th>False</th>\n",
              "      <td>nns vbp: 3</td>\n",
              "      <td>0.000747</td>\n",
              "    </tr>\n",
              "    <tr>\n",
              "      <th>False</th>\n",
              "      <td>: wrb: 1</td>\n",
              "      <td>0.000594</td>\n",
              "    </tr>\n",
              "    <tr>\n",
              "      <th>False</th>\n",
              "      <td>cd :: 1</td>\n",
              "      <td>0.000594</td>\n",
              "    </tr>\n",
              "    <tr>\n",
              "      <th>False</th>\n",
              "      <td>'' in: 1</td>\n",
              "      <td>0.000594</td>\n",
              "    </tr>\n",
              "    <tr>\n",
              "      <th>False</th>\n",
              "      <td>( nns: 1</td>\n",
              "      <td>0.000594</td>\n",
              "    </tr>\n",
              "    <tr>\n",
              "      <th>False</th>\n",
              "      <td>nns vbp: 4</td>\n",
              "      <td>0.000594</td>\n",
              "    </tr>\n",
              "    <tr>\n",
              "      <th>False</th>\n",
              "      <td>nns vbp: 2</td>\n",
              "      <td>0.000591</td>\n",
              "    </tr>\n",
              "    <tr>\n",
              "      <th>False</th>\n",
              "      <td>prp md: 1</td>\n",
              "      <td>0.000465</td>\n",
              "    </tr>\n",
              "    <tr>\n",
              "      <th>False</th>\n",
              "      <td>: wp: 1</td>\n",
              "      <td>0.000460</td>\n",
              "    </tr>\n",
              "  </tbody>\n",
              "</table>\n",
              "</div>"
            ],
            "text/plain": [
              "                 features     score\n",
              "argumentative                      \n",
              "False            cd cd: 1  0.000757\n",
              "False          nns vbp: 3  0.000747\n",
              "False            : wrb: 1  0.000594\n",
              "False             cd :: 1  0.000594\n",
              "False            '' in: 1  0.000594\n",
              "False            ( nns: 1  0.000594\n",
              "False          nns vbp: 4  0.000594\n",
              "False          nns vbp: 2  0.000591\n",
              "False           prp md: 1  0.000465\n",
              "False             : wp: 1  0.000460"
            ]
          },
          "metadata": {},
          "execution_count": 63
        }
      ]
    },
    {
      "cell_type": "markdown",
      "metadata": {
        "id": "axXeMKBAIUEF"
      },
      "source": [
        "## **Bigram simple POS dataframe**"
      ]
    },
    {
      "cell_type": "code",
      "metadata": {
        "colab": {
          "base_uri": "https://localhost:8080/"
        },
        "id": "NjvkFAGCd5Px",
        "outputId": "8134b01f-1f36-4c20-9af3-c0e6286f5a4f"
      },
      "source": [
        "ground_labels, _, labels, _, _, policy=stc_procedure(bigram_simple_POS,true_labels)"
      ],
      "execution_count": null,
      "outputs": [
        {
          "output_type": "stream",
          "name": "stdout",
          "text": [
            ""
          ]
        }
      ]
    },
    {
      "cell_type": "code",
      "metadata": {
        "colab": {
          "base_uri": "https://localhost:8080/"
        },
        "id": "W-WETpSAd5Py",
        "outputId": "19523342-efc6-4997-e978-1aecb04d5503"
      },
      "source": [
        "_, global_explainability_tabular, _, _, _, _, debater_ground_labels, debater_labels=stc_procedure_tabular(bigram_simple_POS,true_labels,Debater_bigram_simple_POS,Debater_true_labels)"
      ],
      "execution_count": null,
      "outputs": [
        {
          "output_type": "stream",
          "name": "stdout",
          "text": [
            ""
          ]
        }
      ]
    },
    {
      "cell_type": "code",
      "metadata": {
        "id": "n-CMzoWHv9Ew"
      },
      "source": [
        "accuracy=accuracy_score(ground_labels, labels)\n",
        "f1_score_value=f1_score(y_true=ground_labels, y_pred=labels, pos_label=\"True\")\n",
        "precision=precision_score(ground_labels, labels, pos_label=\"True\")\n",
        "recall=recall_score(ground_labels, labels, pos_label=\"True\")\n",
        "\n",
        "debater_recall=recall_score(debater_ground_labels, debater_labels, pos_label=\"True\")"
      ],
      "execution_count": null,
      "outputs": []
    },
    {
      "cell_type": "code",
      "metadata": {
        "id": "FDY39XMMv9Ex"
      },
      "source": [
        "accuracy_scores.append(accuracy)\n",
        "f1_scores.append(f1_score_value)\n",
        "precision_scores.append(precision)\n",
        "recall_scores.append(recall)\n",
        "\n",
        "debater_recall_scores.append(debater_recall)"
      ],
      "execution_count": null,
      "outputs": []
    },
    {
      "cell_type": "code",
      "metadata": {
        "colab": {
          "base_uri": "https://localhost:8080/"
        },
        "id": "1_XGThefv9Ex",
        "outputId": "63ed4a7e-efe2-41f7-9f3d-3fcf529a5b56"
      },
      "source": [
        "print('accuracy: {}'.format(accuracy))\n",
        "print('f1 score: {}'.format(f1_score_value))\n",
        "print('precision: {}'.format(precision))\n",
        "print('recall: {}'.format(recall))\n",
        "print('\\n')\n",
        "print('recall debater dataset: {}'.format(debater_recall))"
      ],
      "execution_count": null,
      "outputs": [
        {
          "output_type": "stream",
          "name": "stdout",
          "text": [
            "accuracy: 0.6444249341527656\n",
            "f1 score: 0.7681740125930165\n",
            "precision: 0.8253382533825339\n",
            "recall: 0.7184154175588865\n",
            "\n",
            "\n",
            "recall debater dataset: 0.9992057188244639\n"
          ]
        }
      ]
    },
    {
      "cell_type": "code",
      "metadata": {
        "colab": {
          "base_uri": "https://localhost:8080/"
        },
        "id": "acxJFfyFd5P1",
        "outputId": "de54cba9-549f-4a3a-d46d-12af0920cc3a"
      },
      "source": [
        "policy"
      ],
      "execution_count": null,
      "outputs": [
        {
          "output_type": "execute_result",
          "data": {
            "text/plain": [
              "[['d24',\n",
              "  'd16',\n",
              "  'd11',\n",
              "  'd37',\n",
              "  'd43',\n",
              "  'd17',\n",
              "  'd21',\n",
              "  'd13',\n",
              "  'd3',\n",
              "  'd33',\n",
              "  'd25',\n",
              "  'd15',\n",
              "  'd40',\n",
              "  'd7',\n",
              "  'd23',\n",
              "  'd4',\n",
              "  'd30',\n",
              "  'd10',\n",
              "  'd29',\n",
              "  'd14',\n",
              "  'd1',\n",
              "  'd12',\n",
              "  'd9',\n",
              "  'd0'],\n",
              " ['d16',\n",
              "  'd11',\n",
              "  'd37',\n",
              "  'd43',\n",
              "  'd17',\n",
              "  'd21',\n",
              "  'd13',\n",
              "  'd3',\n",
              "  'd33',\n",
              "  'd25',\n",
              "  'd15',\n",
              "  'd40',\n",
              "  'd7',\n",
              "  'd23',\n",
              "  'd4',\n",
              "  'd30',\n",
              "  'd10',\n",
              "  'd29',\n",
              "  'd14',\n",
              "  'd1',\n",
              "  'd12',\n",
              "  'd9',\n",
              "  'd0'],\n",
              " ['d11',\n",
              "  'd37',\n",
              "  'd43',\n",
              "  'd17',\n",
              "  'd21',\n",
              "  'd13',\n",
              "  'd3',\n",
              "  'd33',\n",
              "  'd25',\n",
              "  'd15',\n",
              "  'd40',\n",
              "  'd7',\n",
              "  'd23',\n",
              "  'd4',\n",
              "  'd30',\n",
              "  'd10',\n",
              "  'd29',\n",
              "  'd14',\n",
              "  'd1',\n",
              "  'd12',\n",
              "  'd9',\n",
              "  'd0'],\n",
              " ['d37',\n",
              "  'd43',\n",
              "  'd17',\n",
              "  'd21',\n",
              "  'd13',\n",
              "  'd3',\n",
              "  'd33',\n",
              "  'd25',\n",
              "  'd15',\n",
              "  'd40',\n",
              "  'd7',\n",
              "  'd23',\n",
              "  'd4',\n",
              "  'd30',\n",
              "  'd10',\n",
              "  'd29',\n",
              "  'd14',\n",
              "  'd1',\n",
              "  'd12',\n",
              "  'd9',\n",
              "  'd0'],\n",
              " ['d43',\n",
              "  'd17',\n",
              "  'd21',\n",
              "  'd13',\n",
              "  'd3',\n",
              "  'd33',\n",
              "  'd25',\n",
              "  'd15',\n",
              "  'd40',\n",
              "  'd7',\n",
              "  'd23',\n",
              "  'd4',\n",
              "  'd30',\n",
              "  'd10',\n",
              "  'd29',\n",
              "  'd14',\n",
              "  'd1',\n",
              "  'd12',\n",
              "  'd9',\n",
              "  'd0'],\n",
              " ['d17',\n",
              "  'd21',\n",
              "  'd13',\n",
              "  'd3',\n",
              "  'd33',\n",
              "  'd25',\n",
              "  'd15',\n",
              "  'd40',\n",
              "  'd7',\n",
              "  'd23',\n",
              "  'd4',\n",
              "  'd30',\n",
              "  'd10',\n",
              "  'd29',\n",
              "  'd14',\n",
              "  'd1',\n",
              "  'd12',\n",
              "  'd9',\n",
              "  'd0'],\n",
              " ['d21',\n",
              "  'd13',\n",
              "  'd3',\n",
              "  'd33',\n",
              "  'd25',\n",
              "  'd15',\n",
              "  'd40',\n",
              "  'd7',\n",
              "  'd23',\n",
              "  'd4',\n",
              "  'd30',\n",
              "  'd10',\n",
              "  'd29',\n",
              "  'd14',\n",
              "  'd1',\n",
              "  'd12',\n",
              "  'd9',\n",
              "  'd0'],\n",
              " ['d13',\n",
              "  'd3',\n",
              "  'd33',\n",
              "  'd25',\n",
              "  'd15',\n",
              "  'd40',\n",
              "  'd7',\n",
              "  'd23',\n",
              "  'd4',\n",
              "  'd30',\n",
              "  'd10',\n",
              "  'd29',\n",
              "  'd14',\n",
              "  'd1',\n",
              "  'd12',\n",
              "  'd9',\n",
              "  'd0'],\n",
              " ['d3',\n",
              "  'd33',\n",
              "  'd25',\n",
              "  'd15',\n",
              "  'd40',\n",
              "  'd7',\n",
              "  'd23',\n",
              "  'd4',\n",
              "  'd30',\n",
              "  'd10',\n",
              "  'd29',\n",
              "  'd14',\n",
              "  'd1',\n",
              "  'd12',\n",
              "  'd9',\n",
              "  'd0'],\n",
              " ['d33',\n",
              "  'd25',\n",
              "  'd15',\n",
              "  'd40',\n",
              "  'd7',\n",
              "  'd23',\n",
              "  'd4',\n",
              "  'd30',\n",
              "  'd10',\n",
              "  'd29',\n",
              "  'd14',\n",
              "  'd1',\n",
              "  'd12',\n",
              "  'd9',\n",
              "  'd0'],\n",
              " ['d25',\n",
              "  'd15',\n",
              "  'd40',\n",
              "  'd7',\n",
              "  'd23',\n",
              "  'd4',\n",
              "  'd30',\n",
              "  'd10',\n",
              "  'd29',\n",
              "  'd14',\n",
              "  'd1',\n",
              "  'd12',\n",
              "  'd9',\n",
              "  'd0'],\n",
              " ['d15',\n",
              "  'd40',\n",
              "  'd7',\n",
              "  'd23',\n",
              "  'd4',\n",
              "  'd30',\n",
              "  'd10',\n",
              "  'd29',\n",
              "  'd14',\n",
              "  'd1',\n",
              "  'd12',\n",
              "  'd9',\n",
              "  'd0'],\n",
              " ['d40',\n",
              "  'd7',\n",
              "  'd23',\n",
              "  'd4',\n",
              "  'd30',\n",
              "  'd10',\n",
              "  'd29',\n",
              "  'd14',\n",
              "  'd1',\n",
              "  'd12',\n",
              "  'd9',\n",
              "  'd0'],\n",
              " ['d7', 'd23', 'd4', 'd30', 'd10', 'd29', 'd14', 'd1', 'd12', 'd9', 'd0'],\n",
              " ['d23', 'd4', 'd30', 'd10', 'd29', 'd14', 'd1', 'd12', 'd9', 'd0'],\n",
              " ['d4', 'd30', 'd10', 'd29', 'd14', 'd1', 'd12', 'd9', 'd0'],\n",
              " ['d30', 'd10', 'd29', 'd14', 'd1', 'd12', 'd9', 'd0'],\n",
              " ['d10', 'd29', 'd14', 'd1', 'd12', 'd9', 'd0'],\n",
              " ['d29', 'd14', 'd1', 'd12', 'd9', 'd0'],\n",
              " ['d14', 'd1', 'd12', 'd9', 'd0'],\n",
              " ['d1', 'd12', 'd9', 'd0'],\n",
              " ['d12', 'd9', 'd0'],\n",
              " ['d9', 'd0'],\n",
              " ['d0'],\n",
              " []]"
            ]
          },
          "metadata": {},
          "execution_count": 69
        }
      ]
    },
    {
      "cell_type": "code",
      "metadata": {
        "colab": {
          "base_uri": "https://localhost:8080/"
        },
        "id": "pM5sUFpGjsJp",
        "outputId": "79c2b4c3-6112-4879-fb25-8fd4d3f893bc"
      },
      "source": [
        "policy_set=[]\n",
        "\n",
        "for pol in policy:\n",
        "  policy_set+=pol\n",
        "\n",
        "policy_set=list(set(policy_set))\n",
        "\n",
        "column=bigram_simple_POS.columns\n",
        "drop_features=[]\n",
        "for i in range(len(column)-1):\n",
        "  if not 'd{}'.format(i) in policy_set:\n",
        "    drop_features.append(column[i])\n",
        "\n",
        "drop_features"
      ],
      "execution_count": null,
      "outputs": [
        {
          "output_type": "execute_result",
          "data": {
            "text/plain": [
              "['. pron',\n",
              " '. adj',\n",
              " '. verb',\n",
              " '. adp',\n",
              " 'noun pron',\n",
              " 'adj num',\n",
              " 'adv adp',\n",
              " 'adv adv',\n",
              " '. adv',\n",
              " 'conj verb',\n",
              " 'verb .',\n",
              " 'adj .',\n",
              " 'adv prt',\n",
              " '. conj',\n",
              " 'num num',\n",
              " 'adj prt',\n",
              " 'pron adp',\n",
              " 'pron adv',\n",
              " 'pron prt',\n",
              " 'prt .',\n",
              " 'num adj',\n",
              " 'prt det',\n",
              " 'adp conj',\n",
              " 'num noun',\n",
              " 'adp .',\n",
              " 'adv num']"
            ]
          },
          "metadata": {},
          "execution_count": 70
        }
      ]
    },
    {
      "cell_type": "code",
      "metadata": {
        "colab": {
          "base_uri": "https://localhost:8080/"
        },
        "id": "1I2xz3pVjsJq",
        "outputId": "6b587e29-81b7-4116-e75e-27cf26cb02e0"
      },
      "source": [
        "len(drop_features)"
      ],
      "execution_count": null,
      "outputs": [
        {
          "output_type": "execute_result",
          "data": {
            "text/plain": [
              "26"
            ]
          },
          "metadata": {},
          "execution_count": 71
        }
      ]
    },
    {
      "cell_type": "code",
      "metadata": {
        "id": "W-Esp-K62oDo"
      },
      "source": [
        "# Save features to drop into a text file.\n",
        "\n",
        "f = open(\"drop_argumentative_bigram_simple_POS.txt\", \"a\")\n",
        "for feature in drop_features:\n",
        "  f.write(\"{}-\".format(feature))\n",
        "f.close()"
      ],
      "execution_count": null,
      "outputs": []
    },
    {
      "cell_type": "code",
      "metadata": {
        "id": "dZ7_12IHjsJr"
      },
      "source": [
        "if len(policy_set)>1:\n",
        "  bigram_simple_POS=bigram_simple_POS.drop(columns=drop_features)"
      ],
      "execution_count": null,
      "outputs": []
    },
    {
      "cell_type": "code",
      "metadata": {
        "colab": {
          "base_uri": "https://localhost:8080/"
        },
        "id": "gjk1eMsJd5P1",
        "outputId": "8657d9cb-954b-41c3-e5ec-fcd28dc67bee"
      },
      "source": [
        "global_explainability_tabular.loc[\"True\"][:15]"
      ],
      "execution_count": null,
      "outputs": [
        {
          "output_type": "execute_result",
          "data": {
            "text/html": [
              "<div>\n",
              "<style scoped>\n",
              "    .dataframe tbody tr th:only-of-type {\n",
              "        vertical-align: middle;\n",
              "    }\n",
              "\n",
              "    .dataframe tbody tr th {\n",
              "        vertical-align: top;\n",
              "    }\n",
              "\n",
              "    .dataframe thead th {\n",
              "        text-align: right;\n",
              "    }\n",
              "</style>\n",
              "<table border=\"1\" class=\"dataframe\">\n",
              "  <thead>\n",
              "    <tr style=\"text-align: right;\">\n",
              "      <th></th>\n",
              "      <th>features</th>\n",
              "      <th>score</th>\n",
              "    </tr>\n",
              "    <tr>\n",
              "      <th>argumentative</th>\n",
              "      <th></th>\n",
              "      <th></th>\n",
              "    </tr>\n",
              "  </thead>\n",
              "  <tbody>\n",
              "    <tr>\n",
              "      <th>True</th>\n",
              "      <td>noun .: 4</td>\n",
              "      <td>0.002408</td>\n",
              "    </tr>\n",
              "    <tr>\n",
              "      <th>True</th>\n",
              "      <td>. pron: 1</td>\n",
              "      <td>0.001737</td>\n",
              "    </tr>\n",
              "    <tr>\n",
              "      <th>True</th>\n",
              "      <td>. adj: 2</td>\n",
              "      <td>0.001661</td>\n",
              "    </tr>\n",
              "    <tr>\n",
              "      <th>True</th>\n",
              "      <td>noun .: 2</td>\n",
              "      <td>0.001608</td>\n",
              "    </tr>\n",
              "    <tr>\n",
              "      <th>True</th>\n",
              "      <td>adp noun: 5</td>\n",
              "      <td>0.001482</td>\n",
              "    </tr>\n",
              "    <tr>\n",
              "      <th>True</th>\n",
              "      <td>adp noun: 4</td>\n",
              "      <td>0.001467</td>\n",
              "    </tr>\n",
              "    <tr>\n",
              "      <th>True</th>\n",
              "      <td>adv verb: 3</td>\n",
              "      <td>0.001421</td>\n",
              "    </tr>\n",
              "    <tr>\n",
              "      <th>True</th>\n",
              "      <td>pron verb: 2</td>\n",
              "      <td>0.001279</td>\n",
              "    </tr>\n",
              "    <tr>\n",
              "      <th>True</th>\n",
              "      <td>. adv: 2</td>\n",
              "      <td>0.001229</td>\n",
              "    </tr>\n",
              "    <tr>\n",
              "      <th>True</th>\n",
              "      <td>verb adj: 3</td>\n",
              "      <td>0.001038</td>\n",
              "    </tr>\n",
              "    <tr>\n",
              "      <th>True</th>\n",
              "      <td>. conj: 2</td>\n",
              "      <td>0.000950</td>\n",
              "    </tr>\n",
              "    <tr>\n",
              "      <th>True</th>\n",
              "      <td>noun noun: 4</td>\n",
              "      <td>0.000950</td>\n",
              "    </tr>\n",
              "    <tr>\n",
              "      <th>True</th>\n",
              "      <td>. noun: 2</td>\n",
              "      <td>0.000917</td>\n",
              "    </tr>\n",
              "    <tr>\n",
              "      <th>True</th>\n",
              "      <td>. verb: 2</td>\n",
              "      <td>0.000903</td>\n",
              "    </tr>\n",
              "    <tr>\n",
              "      <th>True</th>\n",
              "      <td>. adj: 1</td>\n",
              "      <td>0.000890</td>\n",
              "    </tr>\n",
              "  </tbody>\n",
              "</table>\n",
              "</div>"
            ],
            "text/plain": [
              "                   features     score\n",
              "argumentative                        \n",
              "True              noun .: 4  0.002408\n",
              "True              . pron: 1  0.001737\n",
              "True               . adj: 2  0.001661\n",
              "True              noun .: 2  0.001608\n",
              "True            adp noun: 5  0.001482\n",
              "True            adp noun: 4  0.001467\n",
              "True            adv verb: 3  0.001421\n",
              "True           pron verb: 2  0.001279\n",
              "True               . adv: 2  0.001229\n",
              "True            verb adj: 3  0.001038\n",
              "True              . conj: 2  0.000950\n",
              "True           noun noun: 4  0.000950\n",
              "True              . noun: 2  0.000917\n",
              "True              . verb: 2  0.000903\n",
              "True               . adj: 1  0.000890"
            ]
          },
          "metadata": {},
          "execution_count": 74
        }
      ]
    },
    {
      "cell_type": "code",
      "metadata": {
        "colab": {
          "base_uri": "https://localhost:8080/"
        },
        "id": "olcs9t-ld5P2",
        "outputId": "c27482e4-beb6-4bbd-c2fb-3aa1ef0c53a1"
      },
      "source": [
        "global_explainability_tabular.loc[\"False\"][:10]"
      ],
      "execution_count": null,
      "outputs": [
        {
          "output_type": "execute_result",
          "data": {
            "text/html": [
              "<div>\n",
              "<style scoped>\n",
              "    .dataframe tbody tr th:only-of-type {\n",
              "        vertical-align: middle;\n",
              "    }\n",
              "\n",
              "    .dataframe tbody tr th {\n",
              "        vertical-align: top;\n",
              "    }\n",
              "\n",
              "    .dataframe thead th {\n",
              "        text-align: right;\n",
              "    }\n",
              "</style>\n",
              "<table border=\"1\" class=\"dataframe\">\n",
              "  <thead>\n",
              "    <tr style=\"text-align: right;\">\n",
              "      <th></th>\n",
              "      <th>features</th>\n",
              "      <th>score</th>\n",
              "    </tr>\n",
              "    <tr>\n",
              "      <th>argumentative</th>\n",
              "      <th></th>\n",
              "      <th></th>\n",
              "    </tr>\n",
              "  </thead>\n",
              "  <tbody>\n",
              "    <tr>\n",
              "      <th>False</th>\n",
              "      <td>num num: 1</td>\n",
              "      <td>0.000757</td>\n",
              "    </tr>\n",
              "    <tr>\n",
              "      <th>False</th>\n",
              "      <td>adj num: 1</td>\n",
              "      <td>0.000613</td>\n",
              "    </tr>\n",
              "    <tr>\n",
              "      <th>False</th>\n",
              "      <td>pron verb: 7</td>\n",
              "      <td>0.000594</td>\n",
              "    </tr>\n",
              "    <tr>\n",
              "      <th>False</th>\n",
              "      <td>. pron: 1</td>\n",
              "      <td>0.000506</td>\n",
              "    </tr>\n",
              "    <tr>\n",
              "      <th>False</th>\n",
              "      <td>adp noun: 6</td>\n",
              "      <td>0.000460</td>\n",
              "    </tr>\n",
              "    <tr>\n",
              "      <th>False</th>\n",
              "      <td>noun .: 2</td>\n",
              "      <td>0.000428</td>\n",
              "    </tr>\n",
              "    <tr>\n",
              "      <th>False</th>\n",
              "      <td>pron verb: 2</td>\n",
              "      <td>0.000353</td>\n",
              "    </tr>\n",
              "    <tr>\n",
              "      <th>False</th>\n",
              "      <td>. adj: 1</td>\n",
              "      <td>0.000305</td>\n",
              "    </tr>\n",
              "    <tr>\n",
              "      <th>False</th>\n",
              "      <td>noun .: 0</td>\n",
              "      <td>0.000299</td>\n",
              "    </tr>\n",
              "    <tr>\n",
              "      <th>False</th>\n",
              "      <td>adp verb: 1</td>\n",
              "      <td>0.000273</td>\n",
              "    </tr>\n",
              "  </tbody>\n",
              "</table>\n",
              "</div>"
            ],
            "text/plain": [
              "                   features     score\n",
              "argumentative                        \n",
              "False            num num: 1  0.000757\n",
              "False            adj num: 1  0.000613\n",
              "False          pron verb: 7  0.000594\n",
              "False             . pron: 1  0.000506\n",
              "False           adp noun: 6  0.000460\n",
              "False             noun .: 2  0.000428\n",
              "False          pron verb: 2  0.000353\n",
              "False              . adj: 1  0.000305\n",
              "False             noun .: 0  0.000299\n",
              "False           adp verb: 1  0.000273"
            ]
          },
          "metadata": {},
          "execution_count": 75
        }
      ]
    },
    {
      "cell_type": "markdown",
      "metadata": {
        "id": "MGyHotXeIlnJ"
      },
      "source": [
        "## **Dependency BOW dataframe**"
      ]
    },
    {
      "cell_type": "code",
      "metadata": {
        "colab": {
          "base_uri": "https://localhost:8080/"
        },
        "id": "bcxPubvMd--G",
        "outputId": "5e0af73d-3258-46f8-da7a-fdbc86ec0da1"
      },
      "source": [
        "ground_labels, _, labels, _, _, policy=stc_procedure(dependency,true_labels)"
      ],
      "execution_count": null,
      "outputs": [
        {
          "output_type": "stream",
          "name": "stdout",
          "text": [
            ""
          ]
        }
      ]
    },
    {
      "cell_type": "code",
      "metadata": {
        "colab": {
          "base_uri": "https://localhost:8080/"
        },
        "id": "7O1tkVoqxNEl",
        "outputId": "be7ca5c1-32dd-472d-fcf0-8934c74c6e49"
      },
      "source": [
        "_, global_explainability_tabular, _, _, _, _, debater_ground_labels, debater_labels=stc_procedure_tabular(dependency,true_labels,Debater_dependency,Debater_true_labels)"
      ],
      "execution_count": null,
      "outputs": [
        {
          "output_type": "stream",
          "name": "stdout",
          "text": [
            ""
          ]
        }
      ]
    },
    {
      "cell_type": "code",
      "metadata": {
        "id": "j4dG-_nVxNEn"
      },
      "source": [
        "accuracy=accuracy_score(ground_labels, labels)\n",
        "f1_score_value=f1_score(y_true=ground_labels, y_pred=labels, pos_label=\"True\")\n",
        "precision=precision_score(ground_labels, labels, pos_label=\"True\")\n",
        "recall=recall_score(ground_labels, labels, pos_label=\"True\")\n",
        "\n",
        "debater_recall=recall_score(debater_ground_labels, debater_labels, pos_label=\"True\")"
      ],
      "execution_count": null,
      "outputs": []
    },
    {
      "cell_type": "code",
      "metadata": {
        "id": "JG6-kDiFxNEn"
      },
      "source": [
        "accuracy_scores.append(accuracy)\n",
        "f1_scores.append(f1_score_value)\n",
        "precision_scores.append(precision)\n",
        "recall_scores.append(recall)\n",
        "\n",
        "debater_recall_scores.append(debater_recall)"
      ],
      "execution_count": null,
      "outputs": []
    },
    {
      "cell_type": "code",
      "metadata": {
        "colab": {
          "base_uri": "https://localhost:8080/"
        },
        "id": "JRy-Ftd6xNEo",
        "outputId": "a827bf9f-f1c0-437b-8fdc-6fd07357b637"
      },
      "source": [
        "print('accuracy: {}'.format(accuracy))\n",
        "print('f1 score: {}'.format(f1_score_value))\n",
        "print('precision: {}'.format(precision))\n",
        "print('recall: {}'.format(recall))\n",
        "print('\\n')\n",
        "print('recall debater dataset: {}'.format(debater_recall))"
      ],
      "execution_count": null,
      "outputs": [
        {
          "output_type": "stream",
          "name": "stdout",
          "text": [
            "accuracy: 0.704126426690079\n",
            "f1 score: 0.8141202426916713\n",
            "precision: 0.8395904436860068\n",
            "recall: 0.7901498929336188\n",
            "\n",
            "\n",
            "recall debater dataset: 1.0\n"
          ]
        }
      ]
    },
    {
      "cell_type": "code",
      "metadata": {
        "colab": {
          "base_uri": "https://localhost:8080/"
        },
        "id": "kIVgdz2nd--J",
        "outputId": "ec5a01df-9ddd-420f-e0d1-b71cd3087791"
      },
      "source": [
        "policy"
      ],
      "execution_count": null,
      "outputs": [
        {
          "output_type": "execute_result",
          "data": {
            "text/plain": [
              "[['d4',\n",
              "  'd15',\n",
              "  'd13',\n",
              "  'd16',\n",
              "  'd11',\n",
              "  'd7',\n",
              "  'd10',\n",
              "  'd2',\n",
              "  'd14',\n",
              "  'd9',\n",
              "  'd35',\n",
              "  'd3',\n",
              "  'd1',\n",
              "  'd0'],\n",
              " ['d15',\n",
              "  'd13',\n",
              "  'd16',\n",
              "  'd11',\n",
              "  'd7',\n",
              "  'd10',\n",
              "  'd2',\n",
              "  'd14',\n",
              "  'd9',\n",
              "  'd35',\n",
              "  'd3',\n",
              "  'd1',\n",
              "  'd0'],\n",
              " ['d13',\n",
              "  'd16',\n",
              "  'd11',\n",
              "  'd7',\n",
              "  'd10',\n",
              "  'd2',\n",
              "  'd14',\n",
              "  'd9',\n",
              "  'd35',\n",
              "  'd3',\n",
              "  'd1',\n",
              "  'd0'],\n",
              " ['d16', 'd11', 'd7', 'd10', 'd2', 'd14', 'd9', 'd35', 'd3', 'd1', 'd0'],\n",
              " ['d11', 'd7', 'd10', 'd2', 'd14', 'd9', 'd35', 'd3', 'd1', 'd0'],\n",
              " ['d7', 'd10', 'd2', 'd14', 'd9', 'd35', 'd3', 'd1', 'd0'],\n",
              " ['d10', 'd2', 'd14', 'd9', 'd35', 'd3', 'd1', 'd0'],\n",
              " ['d2', 'd14', 'd9', 'd35', 'd3', 'd1', 'd0'],\n",
              " ['d14', 'd9', 'd35', 'd3', 'd1', 'd0'],\n",
              " ['d9', 'd35', 'd3', 'd1', 'd0'],\n",
              " ['d35', 'd3', 'd1', 'd0'],\n",
              " ['d3', 'd1', 'd0'],\n",
              " ['d1', 'd0'],\n",
              " ['d0'],\n",
              " []]"
            ]
          },
          "metadata": {},
          "execution_count": 81
        }
      ]
    },
    {
      "cell_type": "code",
      "metadata": {
        "colab": {
          "base_uri": "https://localhost:8080/"
        },
        "id": "oG0XLvHEjtOC",
        "outputId": "e0b26d0b-cb6f-49f0-ac18-012e8d037098"
      },
      "source": [
        "policy_set=[]\n",
        "\n",
        "for pol in policy:\n",
        "  policy_set+=pol\n",
        "\n",
        "policy_set=list(set(policy_set))\n",
        "\n",
        "column=dependency.columns\n",
        "drop_features=[]\n",
        "for i in range(len(column)-1):\n",
        "  if not 'd{}'.format(i) in policy_set:\n",
        "    drop_features.append(column[i])\n",
        "\n",
        "drop_features"
      ],
      "execution_count": null,
      "outputs": [
        {
          "output_type": "execute_result",
          "data": {
            "text/plain": [
              "['advcl',\n",
              " 'conj',\n",
              " 'compound',\n",
              " 'expl',\n",
              " 'csubj',\n",
              " 'preconj',\n",
              " 'xcomp',\n",
              " 'nummod',\n",
              " 'nmod',\n",
              " 'nsubjpass',\n",
              " 'relcl',\n",
              " 'auxpass',\n",
              " 'prt',\n",
              " 'pcomp',\n",
              " 'dative',\n",
              " 'appos',\n",
              " 'intj',\n",
              " 'dep',\n",
              " 'agent',\n",
              " 'case',\n",
              " 'root',\n",
              " 'ccomp',\n",
              " 'mark',\n",
              " 'predet',\n",
              " 'csubjpass',\n",
              " 'parataxis',\n",
              " 'oprd',\n",
              " 'acl',\n",
              " 'npadvmod',\n",
              " 'quantmod']"
            ]
          },
          "metadata": {},
          "execution_count": 82
        }
      ]
    },
    {
      "cell_type": "code",
      "metadata": {
        "colab": {
          "base_uri": "https://localhost:8080/"
        },
        "id": "sCgiRuQJjtOD",
        "outputId": "552f01d3-4443-4a86-c29e-e3ac61bd343a"
      },
      "source": [
        "len(drop_features)"
      ],
      "execution_count": null,
      "outputs": [
        {
          "output_type": "execute_result",
          "data": {
            "text/plain": [
              "30"
            ]
          },
          "metadata": {},
          "execution_count": 83
        }
      ]
    },
    {
      "cell_type": "code",
      "metadata": {
        "id": "o0MSaNRv2xa9"
      },
      "source": [
        "# Save features to drop into a text file.\n",
        "\n",
        "f = open(\"drop_argumentative_dependency.txt\", \"a\")\n",
        "for feature in drop_features:\n",
        "  f.write(\"{}-\".format(feature))\n",
        "f.close()"
      ],
      "execution_count": null,
      "outputs": []
    },
    {
      "cell_type": "code",
      "metadata": {
        "id": "arQ7mkhEjtOE"
      },
      "source": [
        "if len(policy_set)>1:\n",
        "  dependency=dependency.drop(columns=drop_features)"
      ],
      "execution_count": null,
      "outputs": []
    },
    {
      "cell_type": "code",
      "metadata": {
        "colab": {
          "base_uri": "https://localhost:8080/"
        },
        "id": "WgjlMKLCd--J",
        "outputId": "1ee054a8-0b45-42e3-99b6-d2b0ea648051"
      },
      "source": [
        "global_explainability_tabular.loc[\"True\"][:15]"
      ],
      "execution_count": null,
      "outputs": [
        {
          "output_type": "execute_result",
          "data": {
            "text/html": [
              "<div>\n",
              "<style scoped>\n",
              "    .dataframe tbody tr th:only-of-type {\n",
              "        vertical-align: middle;\n",
              "    }\n",
              "\n",
              "    .dataframe tbody tr th {\n",
              "        vertical-align: top;\n",
              "    }\n",
              "\n",
              "    .dataframe thead th {\n",
              "        text-align: right;\n",
              "    }\n",
              "</style>\n",
              "<table border=\"1\" class=\"dataframe\">\n",
              "  <thead>\n",
              "    <tr style=\"text-align: right;\">\n",
              "      <th></th>\n",
              "      <th>features</th>\n",
              "      <th>score</th>\n",
              "    </tr>\n",
              "    <tr>\n",
              "      <th>argumentative</th>\n",
              "      <th></th>\n",
              "      <th></th>\n",
              "    </tr>\n",
              "  </thead>\n",
              "  <tbody>\n",
              "    <tr>\n",
              "      <th>True</th>\n",
              "      <td>advcl: 3</td>\n",
              "      <td>0.002123</td>\n",
              "    </tr>\n",
              "    <tr>\n",
              "      <th>True</th>\n",
              "      <td>amod: 6</td>\n",
              "      <td>0.001942</td>\n",
              "    </tr>\n",
              "    <tr>\n",
              "      <th>True</th>\n",
              "      <td>punct: 0</td>\n",
              "      <td>0.001487</td>\n",
              "    </tr>\n",
              "    <tr>\n",
              "      <th>True</th>\n",
              "      <td>neg: 2</td>\n",
              "      <td>0.001429</td>\n",
              "    </tr>\n",
              "    <tr>\n",
              "      <th>True</th>\n",
              "      <td>compound: 4</td>\n",
              "      <td>0.001344</td>\n",
              "    </tr>\n",
              "    <tr>\n",
              "      <th>True</th>\n",
              "      <td>punct: 3</td>\n",
              "      <td>0.001281</td>\n",
              "    </tr>\n",
              "    <tr>\n",
              "      <th>True</th>\n",
              "      <td>acomp: 3</td>\n",
              "      <td>0.001195</td>\n",
              "    </tr>\n",
              "    <tr>\n",
              "      <th>True</th>\n",
              "      <td>det: 7</td>\n",
              "      <td>0.001118</td>\n",
              "    </tr>\n",
              "    <tr>\n",
              "      <th>True</th>\n",
              "      <td>punct: 4</td>\n",
              "      <td>0.001091</td>\n",
              "    </tr>\n",
              "    <tr>\n",
              "      <th>True</th>\n",
              "      <td>parataxis: 1</td>\n",
              "      <td>0.000956</td>\n",
              "    </tr>\n",
              "    <tr>\n",
              "      <th>True</th>\n",
              "      <td>dobj: 5</td>\n",
              "      <td>0.000889</td>\n",
              "    </tr>\n",
              "    <tr>\n",
              "      <th>True</th>\n",
              "      <td>csubj: 1</td>\n",
              "      <td>0.000882</td>\n",
              "    </tr>\n",
              "    <tr>\n",
              "      <th>True</th>\n",
              "      <td>compound: 2</td>\n",
              "      <td>0.000872</td>\n",
              "    </tr>\n",
              "    <tr>\n",
              "      <th>True</th>\n",
              "      <td>pobj: 4</td>\n",
              "      <td>0.000834</td>\n",
              "    </tr>\n",
              "    <tr>\n",
              "      <th>True</th>\n",
              "      <td>dobj: 0</td>\n",
              "      <td>0.000812</td>\n",
              "    </tr>\n",
              "  </tbody>\n",
              "</table>\n",
              "</div>"
            ],
            "text/plain": [
              "                   features     score\n",
              "argumentative                        \n",
              "True               advcl: 3  0.002123\n",
              "True                amod: 6  0.001942\n",
              "True               punct: 0  0.001487\n",
              "True                 neg: 2  0.001429\n",
              "True            compound: 4  0.001344\n",
              "True               punct: 3  0.001281\n",
              "True               acomp: 3  0.001195\n",
              "True                 det: 7  0.001118\n",
              "True               punct: 4  0.001091\n",
              "True           parataxis: 1  0.000956\n",
              "True                dobj: 5  0.000889\n",
              "True               csubj: 1  0.000882\n",
              "True            compound: 2  0.000872\n",
              "True                pobj: 4  0.000834\n",
              "True                dobj: 0  0.000812"
            ]
          },
          "metadata": {},
          "execution_count": 86
        }
      ]
    },
    {
      "cell_type": "code",
      "metadata": {
        "colab": {
          "base_uri": "https://localhost:8080/"
        },
        "id": "j6WRJD3Od--K",
        "outputId": "a1fb9a1c-ca66-4676-efdb-3f404f98bb6b"
      },
      "source": [
        "global_explainability_tabular.loc[\"False\"][:10]"
      ],
      "execution_count": null,
      "outputs": [
        {
          "output_type": "execute_result",
          "data": {
            "text/html": [
              "<div>\n",
              "<style scoped>\n",
              "    .dataframe tbody tr th:only-of-type {\n",
              "        vertical-align: middle;\n",
              "    }\n",
              "\n",
              "    .dataframe tbody tr th {\n",
              "        vertical-align: top;\n",
              "    }\n",
              "\n",
              "    .dataframe thead th {\n",
              "        text-align: right;\n",
              "    }\n",
              "</style>\n",
              "<table border=\"1\" class=\"dataframe\">\n",
              "  <thead>\n",
              "    <tr style=\"text-align: right;\">\n",
              "      <th></th>\n",
              "      <th>features</th>\n",
              "      <th>score</th>\n",
              "    </tr>\n",
              "    <tr>\n",
              "      <th>argumentative</th>\n",
              "      <th></th>\n",
              "      <th></th>\n",
              "    </tr>\n",
              "  </thead>\n",
              "  <tbody>\n",
              "    <tr>\n",
              "      <th>False</th>\n",
              "      <td>punct: 0</td>\n",
              "      <td>0.001741</td>\n",
              "    </tr>\n",
              "    <tr>\n",
              "      <th>False</th>\n",
              "      <td>dobj: 0</td>\n",
              "      <td>0.000790</td>\n",
              "    </tr>\n",
              "    <tr>\n",
              "      <th>False</th>\n",
              "      <td>expl: 1</td>\n",
              "      <td>0.000765</td>\n",
              "    </tr>\n",
              "    <tr>\n",
              "      <th>False</th>\n",
              "      <td>prep: 0</td>\n",
              "      <td>0.000671</td>\n",
              "    </tr>\n",
              "    <tr>\n",
              "      <th>False</th>\n",
              "      <td>attr: 3</td>\n",
              "      <td>0.000650</td>\n",
              "    </tr>\n",
              "    <tr>\n",
              "      <th>False</th>\n",
              "      <td>quantmod: 2</td>\n",
              "      <td>0.000503</td>\n",
              "    </tr>\n",
              "    <tr>\n",
              "      <th>False</th>\n",
              "      <td>advmod: 0</td>\n",
              "      <td>0.000499</td>\n",
              "    </tr>\n",
              "    <tr>\n",
              "      <th>False</th>\n",
              "      <td>punct: 3</td>\n",
              "      <td>0.000355</td>\n",
              "    </tr>\n",
              "    <tr>\n",
              "      <th>False</th>\n",
              "      <td>attr: 2</td>\n",
              "      <td>0.000344</td>\n",
              "    </tr>\n",
              "    <tr>\n",
              "      <th>False</th>\n",
              "      <td>attr: 1</td>\n",
              "      <td>0.000303</td>\n",
              "    </tr>\n",
              "  </tbody>\n",
              "</table>\n",
              "</div>"
            ],
            "text/plain": [
              "                  features     score\n",
              "argumentative                       \n",
              "False             punct: 0  0.001741\n",
              "False              dobj: 0  0.000790\n",
              "False              expl: 1  0.000765\n",
              "False              prep: 0  0.000671\n",
              "False              attr: 3  0.000650\n",
              "False          quantmod: 2  0.000503\n",
              "False            advmod: 0  0.000499\n",
              "False             punct: 3  0.000355\n",
              "False              attr: 2  0.000344\n",
              "False              attr: 1  0.000303"
            ]
          },
          "metadata": {},
          "execution_count": 87
        }
      ]
    },
    {
      "cell_type": "markdown",
      "metadata": {
        "id": "oyDiCmkiIsnv"
      },
      "source": [
        "## **Dependency tree stat**"
      ]
    },
    {
      "cell_type": "code",
      "metadata": {
        "colab": {
          "base_uri": "https://localhost:8080/"
        },
        "id": "JwvH9299eLmg",
        "outputId": "03ecc8ce-3496-492f-fb58-1b1e19789cd3"
      },
      "source": [
        "ground_labels, _, labels, _, _, policy=stc_procedure(dependency_tree_stat,true_labels)"
      ],
      "execution_count": null,
      "outputs": [
        {
          "output_type": "stream",
          "name": "stdout",
          "text": [
            ""
          ]
        }
      ]
    },
    {
      "cell_type": "code",
      "metadata": {
        "colab": {
          "base_uri": "https://localhost:8080/"
        },
        "id": "RmnBVh9xxWZq",
        "outputId": "d99f1135-6f3d-470a-c9ae-a4f05a4b5aa8"
      },
      "source": [
        "_, global_explainability_tabular, _, _, _, _, debater_ground_labels, debater_labels=stc_procedure_tabular(dependency_tree_stat,true_labels,Debater_dependency_tree_stat,Debater_true_labels)"
      ],
      "execution_count": null,
      "outputs": [
        {
          "output_type": "stream",
          "name": "stdout",
          "text": [
            ""
          ]
        }
      ]
    },
    {
      "cell_type": "code",
      "metadata": {
        "id": "4DyMa4b4xWZr"
      },
      "source": [
        "accuracy=accuracy_score(ground_labels, labels)\n",
        "f1_score_value=f1_score(y_true=ground_labels, y_pred=labels, pos_label=\"True\")\n",
        "precision=precision_score(ground_labels, labels, pos_label=\"True\")\n",
        "recall=recall_score(ground_labels, labels, pos_label=\"True\")\n",
        "\n",
        "debater_recall=recall_score(debater_ground_labels, debater_labels, pos_label=\"True\")"
      ],
      "execution_count": null,
      "outputs": []
    },
    {
      "cell_type": "code",
      "metadata": {
        "id": "CVBaOHEhxWZr"
      },
      "source": [
        "accuracy_scores.append(accuracy)\n",
        "f1_scores.append(f1_score_value)\n",
        "precision_scores.append(precision)\n",
        "recall_scores.append(recall)\n",
        "\n",
        "debater_recall_scores.append(debater_recall)"
      ],
      "execution_count": null,
      "outputs": []
    },
    {
      "cell_type": "code",
      "metadata": {
        "colab": {
          "base_uri": "https://localhost:8080/"
        },
        "id": "QRuVnmKExWZs",
        "outputId": "1b4b9be8-1677-4951-f228-695650e01658"
      },
      "source": [
        "print('accuracy: {}'.format(accuracy))\n",
        "print('f1 score: {}'.format(f1_score_value))\n",
        "print('precision: {}'.format(precision))\n",
        "print('recall: {}'.format(recall))\n",
        "print('\\n')\n",
        "print('recall debater dataset: {}'.format(debater_recall))"
      ],
      "execution_count": null,
      "outputs": [
        {
          "output_type": "stream",
          "name": "stdout",
          "text": [
            "accuracy: 0.7629499561018437\n",
            "f1 score: 0.8575949367088608\n",
            "precision: 0.8451143451143451\n",
            "recall: 0.8704496788008566\n",
            "\n",
            "\n",
            "recall debater dataset: 0.7678051363516017\n"
          ]
        }
      ]
    },
    {
      "cell_type": "code",
      "metadata": {
        "colab": {
          "base_uri": "https://localhost:8080/"
        },
        "id": "sLzeW3FueLmj",
        "outputId": "72cc281a-9978-4066-87ac-2e3e6bb4f540"
      },
      "source": [
        "policy"
      ],
      "execution_count": null,
      "outputs": [
        {
          "output_type": "execute_result",
          "data": {
            "text/plain": [
              "[['d0', 'd1'], ['d1'], []]"
            ]
          },
          "metadata": {},
          "execution_count": 93
        }
      ]
    },
    {
      "cell_type": "code",
      "metadata": {
        "colab": {
          "base_uri": "https://localhost:8080/"
        },
        "id": "AZjdqts3juhD",
        "outputId": "a90a0e8a-335a-443f-9eea-cb964f663f71"
      },
      "source": [
        "policy_set=[]\n",
        "\n",
        "for pol in policy:\n",
        "  policy_set+=pol\n",
        "\n",
        "policy_set=list(set(policy_set))\n",
        "\n",
        "column=dependency_tree_stat.columns\n",
        "drop_features=[]\n",
        "for i in range(len(column)-1):\n",
        "  if not 'd{}'.format(i) in policy_set:\n",
        "    drop_features.append(column[i])\n",
        "\n",
        "drop_features"
      ],
      "execution_count": null,
      "outputs": [
        {
          "output_type": "execute_result",
          "data": {
            "text/plain": [
              "[]"
            ]
          },
          "metadata": {},
          "execution_count": 94
        }
      ]
    },
    {
      "cell_type": "code",
      "metadata": {
        "colab": {
          "base_uri": "https://localhost:8080/"
        },
        "id": "068HSYKajuhE",
        "outputId": "a93c5c5f-8aca-450c-9104-cb94aa91e6e8"
      },
      "source": [
        "len(drop_features)"
      ],
      "execution_count": null,
      "outputs": [
        {
          "output_type": "execute_result",
          "data": {
            "text/plain": [
              "0"
            ]
          },
          "metadata": {},
          "execution_count": 95
        }
      ]
    },
    {
      "cell_type": "code",
      "metadata": {
        "id": "MY6fqLdI25CP"
      },
      "source": [
        "# Save features to drop into a text file.\n",
        "\n",
        "f = open(\"drop_argumentative_dependency_tree.txt\", \"a\")\n",
        "for feature in drop_features:\n",
        "  f.write(\"{}-\".format(feature))\n",
        "f.close()"
      ],
      "execution_count": null,
      "outputs": []
    },
    {
      "cell_type": "code",
      "metadata": {
        "id": "R7nPEas8juhE"
      },
      "source": [
        "if len(policy_set)>1:\n",
        "  dependency_tree_stat=dependency_tree_stat.drop(columns=drop_features)"
      ],
      "execution_count": null,
      "outputs": []
    },
    {
      "cell_type": "code",
      "metadata": {
        "colab": {
          "base_uri": "https://localhost:8080/"
        },
        "id": "LFRC14lreLmj",
        "outputId": "4c66333d-03e5-46f1-907a-b38488fe65b8"
      },
      "source": [
        "global_explainability_tabular.loc[\"True\"][:15]"
      ],
      "execution_count": null,
      "outputs": [
        {
          "output_type": "execute_result",
          "data": {
            "text/html": [
              "<div>\n",
              "<style scoped>\n",
              "    .dataframe tbody tr th:only-of-type {\n",
              "        vertical-align: middle;\n",
              "    }\n",
              "\n",
              "    .dataframe tbody tr th {\n",
              "        vertical-align: top;\n",
              "    }\n",
              "\n",
              "    .dataframe thead th {\n",
              "        text-align: right;\n",
              "    }\n",
              "</style>\n",
              "<table border=\"1\" class=\"dataframe\">\n",
              "  <thead>\n",
              "    <tr style=\"text-align: right;\">\n",
              "      <th></th>\n",
              "      <th>features</th>\n",
              "      <th>score</th>\n",
              "    </tr>\n",
              "    <tr>\n",
              "      <th>argumentative</th>\n",
              "      <th></th>\n",
              "      <th></th>\n",
              "    </tr>\n",
              "  </thead>\n",
              "  <tbody>\n",
              "    <tr>\n",
              "      <th>True</th>\n",
              "      <td>max number of children of a ROOT node: 9</td>\n",
              "      <td>0.012507</td>\n",
              "    </tr>\n",
              "    <tr>\n",
              "      <th>True</th>\n",
              "      <td>max number of children of a ROOT node: 7</td>\n",
              "      <td>0.010395</td>\n",
              "    </tr>\n",
              "    <tr>\n",
              "      <th>True</th>\n",
              "      <td>max number of children of a ROOT node: 2</td>\n",
              "      <td>0.010273</td>\n",
              "    </tr>\n",
              "    <tr>\n",
              "      <th>True</th>\n",
              "      <td>tree depth: 2</td>\n",
              "      <td>0.004634</td>\n",
              "    </tr>\n",
              "    <tr>\n",
              "      <th>True</th>\n",
              "      <td>max number of children of a ROOT node: 12</td>\n",
              "      <td>0.004190</td>\n",
              "    </tr>\n",
              "    <tr>\n",
              "      <th>True</th>\n",
              "      <td>max number of children of a ROOT node: 10</td>\n",
              "      <td>0.003774</td>\n",
              "    </tr>\n",
              "    <tr>\n",
              "      <th>True</th>\n",
              "      <td>max number of children of a ROOT node: 3</td>\n",
              "      <td>0.002795</td>\n",
              "    </tr>\n",
              "    <tr>\n",
              "      <th>True</th>\n",
              "      <td>max number of children of a ROOT node: 6</td>\n",
              "      <td>0.002430</td>\n",
              "    </tr>\n",
              "    <tr>\n",
              "      <th>True</th>\n",
              "      <td>tree depth: 3</td>\n",
              "      <td>0.002323</td>\n",
              "    </tr>\n",
              "    <tr>\n",
              "      <th>True</th>\n",
              "      <td>max number of children of a ROOT node: 1</td>\n",
              "      <td>0.002270</td>\n",
              "    </tr>\n",
              "    <tr>\n",
              "      <th>True</th>\n",
              "      <td>max number of children of a ROOT node: 8</td>\n",
              "      <td>0.002266</td>\n",
              "    </tr>\n",
              "    <tr>\n",
              "      <th>True</th>\n",
              "      <td>tree depth: 16</td>\n",
              "      <td>0.001942</td>\n",
              "    </tr>\n",
              "    <tr>\n",
              "      <th>True</th>\n",
              "      <td>max number of children of a ROOT node: 13</td>\n",
              "      <td>0.001942</td>\n",
              "    </tr>\n",
              "    <tr>\n",
              "      <th>True</th>\n",
              "      <td>tree depth: 14</td>\n",
              "      <td>0.001942</td>\n",
              "    </tr>\n",
              "    <tr>\n",
              "      <th>True</th>\n",
              "      <td>max number of children of a ROOT node: 14</td>\n",
              "      <td>0.001942</td>\n",
              "    </tr>\n",
              "  </tbody>\n",
              "</table>\n",
              "</div>"
            ],
            "text/plain": [
              "                                                features     score\n",
              "argumentative                                                     \n",
              "True            max number of children of a ROOT node: 9  0.012507\n",
              "True            max number of children of a ROOT node: 7  0.010395\n",
              "True            max number of children of a ROOT node: 2  0.010273\n",
              "True                                       tree depth: 2  0.004634\n",
              "True           max number of children of a ROOT node: 12  0.004190\n",
              "True           max number of children of a ROOT node: 10  0.003774\n",
              "True            max number of children of a ROOT node: 3  0.002795\n",
              "True            max number of children of a ROOT node: 6  0.002430\n",
              "True                                       tree depth: 3  0.002323\n",
              "True            max number of children of a ROOT node: 1  0.002270\n",
              "True            max number of children of a ROOT node: 8  0.002266\n",
              "True                                      tree depth: 16  0.001942\n",
              "True           max number of children of a ROOT node: 13  0.001942\n",
              "True                                      tree depth: 14  0.001942\n",
              "True           max number of children of a ROOT node: 14  0.001942"
            ]
          },
          "metadata": {},
          "execution_count": 98
        }
      ]
    },
    {
      "cell_type": "code",
      "metadata": {
        "colab": {
          "base_uri": "https://localhost:8080/"
        },
        "id": "yUfZ03E4eLmk",
        "outputId": "7e1db159-eda2-4927-9d62-ac8b314e6e33"
      },
      "source": [
        "global_explainability_tabular.loc[\"False\"][:10]"
      ],
      "execution_count": null,
      "outputs": [
        {
          "output_type": "execute_result",
          "data": {
            "text/html": [
              "<div>\n",
              "<style scoped>\n",
              "    .dataframe tbody tr th:only-of-type {\n",
              "        vertical-align: middle;\n",
              "    }\n",
              "\n",
              "    .dataframe tbody tr th {\n",
              "        vertical-align: top;\n",
              "    }\n",
              "\n",
              "    .dataframe thead th {\n",
              "        text-align: right;\n",
              "    }\n",
              "</style>\n",
              "<table border=\"1\" class=\"dataframe\">\n",
              "  <thead>\n",
              "    <tr style=\"text-align: right;\">\n",
              "      <th></th>\n",
              "      <th>features</th>\n",
              "      <th>score</th>\n",
              "    </tr>\n",
              "    <tr>\n",
              "      <th>argumentative</th>\n",
              "      <th></th>\n",
              "      <th></th>\n",
              "    </tr>\n",
              "  </thead>\n",
              "  <tbody>\n",
              "    <tr>\n",
              "      <th>False</th>\n",
              "      <td>max number of children of a ROOT node: 2</td>\n",
              "      <td>0.013598</td>\n",
              "    </tr>\n",
              "    <tr>\n",
              "      <th>False</th>\n",
              "      <td>tree depth: 2</td>\n",
              "      <td>0.007000</td>\n",
              "    </tr>\n",
              "    <tr>\n",
              "      <th>False</th>\n",
              "      <td>max number of children of a ROOT node: 1</td>\n",
              "      <td>0.004279</td>\n",
              "    </tr>\n",
              "    <tr>\n",
              "      <th>False</th>\n",
              "      <td>tree depth: 1</td>\n",
              "      <td>0.003565</td>\n",
              "    </tr>\n",
              "    <tr>\n",
              "      <th>False</th>\n",
              "      <td>max number of children of a ROOT node: 7</td>\n",
              "      <td>0.003179</td>\n",
              "    </tr>\n",
              "    <tr>\n",
              "      <th>False</th>\n",
              "      <td>max number of children of a ROOT node: 3</td>\n",
              "      <td>0.002545</td>\n",
              "    </tr>\n",
              "    <tr>\n",
              "      <th>False</th>\n",
              "      <td>max number of children of a ROOT node: 9</td>\n",
              "      <td>0.002123</td>\n",
              "    </tr>\n",
              "    <tr>\n",
              "      <th>False</th>\n",
              "      <td>tree depth: 3</td>\n",
              "      <td>0.002044</td>\n",
              "    </tr>\n",
              "    <tr>\n",
              "      <th>False</th>\n",
              "      <td>max number of children of a ROOT node: 6</td>\n",
              "      <td>0.001147</td>\n",
              "    </tr>\n",
              "    <tr>\n",
              "      <th>False</th>\n",
              "      <td>max number of children of a ROOT node: 8</td>\n",
              "      <td>0.000938</td>\n",
              "    </tr>\n",
              "  </tbody>\n",
              "</table>\n",
              "</div>"
            ],
            "text/plain": [
              "                                               features     score\n",
              "argumentative                                                    \n",
              "False          max number of children of a ROOT node: 2  0.013598\n",
              "False                                     tree depth: 2  0.007000\n",
              "False          max number of children of a ROOT node: 1  0.004279\n",
              "False                                     tree depth: 1  0.003565\n",
              "False          max number of children of a ROOT node: 7  0.003179\n",
              "False          max number of children of a ROOT node: 3  0.002545\n",
              "False          max number of children of a ROOT node: 9  0.002123\n",
              "False                                     tree depth: 3  0.002044\n",
              "False          max number of children of a ROOT node: 6  0.001147\n",
              "False          max number of children of a ROOT node: 8  0.000938"
            ]
          },
          "metadata": {},
          "execution_count": 99
        }
      ]
    },
    {
      "cell_type": "markdown",
      "metadata": {
        "id": "pfWd-79JJB9j"
      },
      "source": [
        "## **Named entity**"
      ]
    },
    {
      "cell_type": "code",
      "metadata": {
        "colab": {
          "base_uri": "https://localhost:8080/"
        },
        "id": "k8KbeLHueguN",
        "outputId": "4ed890a3-af0f-40a3-946e-275b92ef207a"
      },
      "source": [
        "ground_labels, _, labels, _, _, policy=stc_procedure(named_entity,true_labels)"
      ],
      "execution_count": null,
      "outputs": [
        {
          "output_type": "stream",
          "name": "stdout",
          "text": [
            ""
          ]
        }
      ]
    },
    {
      "cell_type": "code",
      "metadata": {
        "colab": {
          "base_uri": "https://localhost:8080/"
        },
        "id": "ohYc3-wvxc3c",
        "outputId": "b89fd5a6-86d8-4f02-ebcd-9dbef3e4e614"
      },
      "source": [
        "_, global_explainability_tabular, _, _, _, _, debater_ground_labels, debater_labels=stc_procedure_tabular(named_entity,true_labels,Debater_named_entity,Debater_true_labels)"
      ],
      "execution_count": null,
      "outputs": [
        {
          "output_type": "stream",
          "name": "stdout",
          "text": [
            ""
          ]
        }
      ]
    },
    {
      "cell_type": "code",
      "metadata": {
        "id": "JSkOLIQ6xc3e"
      },
      "source": [
        "accuracy=accuracy_score(ground_labels, labels)\n",
        "f1_score_value=f1_score(y_true=ground_labels, y_pred=labels, pos_label=\"True\")\n",
        "precision=precision_score(ground_labels, labels, pos_label=\"True\")\n",
        "recall=recall_score(ground_labels, labels, pos_label=\"True\")\n",
        "\n",
        "debater_recall=recall_score(debater_ground_labels, debater_labels, pos_label=\"True\")"
      ],
      "execution_count": null,
      "outputs": []
    },
    {
      "cell_type": "code",
      "metadata": {
        "id": "h90OanBwxc3e"
      },
      "source": [
        "#accuracy_scores.append(accuracy)\n",
        "#f1_scores.append(f1_score_value)\n",
        "#precision_scores.append(precision)\n",
        "#recall_scores.append(recall)\n",
        "\n",
        "#debater_recall_scores.append(debater_recall)"
      ],
      "execution_count": null,
      "outputs": []
    },
    {
      "cell_type": "code",
      "metadata": {
        "colab": {
          "base_uri": "https://localhost:8080/"
        },
        "id": "W9NPQdUyxc3f",
        "outputId": "2b84a463-0063-44de-c5f7-87dcf932af66"
      },
      "source": [
        "print('accuracy: {}'.format(accuracy))\n",
        "print('f1 score: {}'.format(f1_score_value))\n",
        "print('precision: {}'.format(precision))\n",
        "print('recall: {}'.format(recall))\n",
        "print('\\n')\n",
        "print('recall debater dataset: {}'.format(debater_recall))"
      ],
      "execution_count": null,
      "outputs": [
        {
          "output_type": "stream",
          "name": "stdout",
          "text": [
            "accuracy: 0.820017559262511\n",
            "f1 score: 0.9011095031355524\n",
            "precision: 0.820017559262511\n",
            "recall: 1.0\n",
            "\n",
            "\n",
            "recall debater dataset: 0.8882711146412496\n"
          ]
        }
      ]
    },
    {
      "cell_type": "code",
      "metadata": {
        "colab": {
          "base_uri": "https://localhost:8080/"
        },
        "id": "GVbOH3joeguR",
        "outputId": "b0fbdec5-c49e-49ae-93ba-98414594476f"
      },
      "source": [
        "policy"
      ],
      "execution_count": null,
      "outputs": [
        {
          "output_type": "execute_result",
          "data": {
            "text/plain": [
              "[['d3'], []]"
            ]
          },
          "metadata": {},
          "execution_count": 105
        }
      ]
    },
    {
      "cell_type": "code",
      "metadata": {
        "colab": {
          "base_uri": "https://localhost:8080/"
        },
        "id": "5nZnfwVBjvsU",
        "outputId": "f988cc13-239c-41f7-e03b-e04a7b57cd6f"
      },
      "source": [
        "policy_set=[]\n",
        "\n",
        "for pol in policy:\n",
        "  policy_set+=pol\n",
        "\n",
        "policy_set=list(set(policy_set))\n",
        "\n",
        "column=named_entity.columns\n",
        "drop_features=[]\n",
        "for i in range(len(column)-1):\n",
        "  if not 'd{}'.format(i) in policy_set:\n",
        "    drop_features.append(column[i])\n",
        "\n",
        "drop_features"
      ],
      "execution_count": null,
      "outputs": [
        {
          "output_type": "execute_result",
          "data": {
            "text/plain": [
              "['cardinal',\n",
              " 'date',\n",
              " 'event',\n",
              " 'gpe',\n",
              " 'language',\n",
              " 'loc',\n",
              " 'money',\n",
              " 'norp',\n",
              " 'ordinal',\n",
              " 'org',\n",
              " 'percent',\n",
              " 'person',\n",
              " 'product',\n",
              " 'quantity',\n",
              " 'time',\n",
              " 'work_of_art']"
            ]
          },
          "metadata": {},
          "execution_count": 106
        }
      ]
    },
    {
      "cell_type": "code",
      "metadata": {
        "colab": {
          "base_uri": "https://localhost:8080/"
        },
        "id": "xHw68Hy7jvsU",
        "outputId": "a6c180f3-2587-495c-8714-cb1bf0974c13"
      },
      "source": [
        "len(drop_features)"
      ],
      "execution_count": null,
      "outputs": [
        {
          "output_type": "execute_result",
          "data": {
            "text/plain": [
              "16"
            ]
          },
          "metadata": {},
          "execution_count": 107
        }
      ]
    },
    {
      "cell_type": "code",
      "metadata": {
        "id": "qrxBvs4J2_IE"
      },
      "source": [
        "# Save features to drop into a text file.\n",
        "\n",
        "f = open(\"drop_argumentative_named_entity.txt\", \"a\")\n",
        "for feature in drop_features:\n",
        "  f.write(\"{}-\".format(feature))\n",
        "f.close()"
      ],
      "execution_count": null,
      "outputs": []
    },
    {
      "cell_type": "code",
      "metadata": {
        "id": "iaqDpFlyjvsV"
      },
      "source": [
        "if len(policy_set)>1:\n",
        "  named_entity=named_entity.drop(columns=drop_features)"
      ],
      "execution_count": null,
      "outputs": []
    },
    {
      "cell_type": "code",
      "metadata": {
        "colab": {
          "base_uri": "https://localhost:8080/"
        },
        "id": "bONSbDH4eguR",
        "outputId": "f1626a54-fb92-4756-a464-1a080c90c84a"
      },
      "source": [
        "global_explainability_tabular.loc[\"True\"][:15]"
      ],
      "execution_count": null,
      "outputs": [
        {
          "output_type": "execute_result",
          "data": {
            "text/html": [
              "<div>\n",
              "<style scoped>\n",
              "    .dataframe tbody tr th:only-of-type {\n",
              "        vertical-align: middle;\n",
              "    }\n",
              "\n",
              "    .dataframe tbody tr th {\n",
              "        vertical-align: top;\n",
              "    }\n",
              "\n",
              "    .dataframe thead th {\n",
              "        text-align: right;\n",
              "    }\n",
              "</style>\n",
              "<table border=\"1\" class=\"dataframe\">\n",
              "  <thead>\n",
              "    <tr style=\"text-align: right;\">\n",
              "      <th></th>\n",
              "      <th>features</th>\n",
              "      <th>score</th>\n",
              "    </tr>\n",
              "    <tr>\n",
              "      <th>argumentative</th>\n",
              "      <th></th>\n",
              "      <th></th>\n",
              "    </tr>\n",
              "  </thead>\n",
              "  <tbody>\n",
              "    <tr>\n",
              "      <th>True</th>\n",
              "      <td>ordinal: 1</td>\n",
              "      <td>0.003846</td>\n",
              "    </tr>\n",
              "    <tr>\n",
              "      <th>True</th>\n",
              "      <td>norp: 1</td>\n",
              "      <td>0.001922</td>\n",
              "    </tr>\n",
              "    <tr>\n",
              "      <th>True</th>\n",
              "      <td>gpe: 1</td>\n",
              "      <td>0.001559</td>\n",
              "    </tr>\n",
              "    <tr>\n",
              "      <th>True</th>\n",
              "      <td>time: 2</td>\n",
              "      <td>0.001339</td>\n",
              "    </tr>\n",
              "    <tr>\n",
              "      <th>True</th>\n",
              "      <td>work_of_art: 1</td>\n",
              "      <td>0.001146</td>\n",
              "    </tr>\n",
              "    <tr>\n",
              "      <th>True</th>\n",
              "      <td>date: 1</td>\n",
              "      <td>0.001034</td>\n",
              "    </tr>\n",
              "    <tr>\n",
              "      <th>True</th>\n",
              "      <td>person: 2</td>\n",
              "      <td>0.000937</td>\n",
              "    </tr>\n",
              "    <tr>\n",
              "      <th>True</th>\n",
              "      <td>norp: 2</td>\n",
              "      <td>0.000937</td>\n",
              "    </tr>\n",
              "    <tr>\n",
              "      <th>True</th>\n",
              "      <td>percent: 1</td>\n",
              "      <td>0.000937</td>\n",
              "    </tr>\n",
              "    <tr>\n",
              "      <th>True</th>\n",
              "      <td>norp: 3</td>\n",
              "      <td>0.000937</td>\n",
              "    </tr>\n",
              "    <tr>\n",
              "      <th>True</th>\n",
              "      <td>ordinal: 2</td>\n",
              "      <td>0.000705</td>\n",
              "    </tr>\n",
              "    <tr>\n",
              "      <th>True</th>\n",
              "      <td>fac: 1</td>\n",
              "      <td>0.000705</td>\n",
              "    </tr>\n",
              "    <tr>\n",
              "      <th>True</th>\n",
              "      <td>cardinal: 1</td>\n",
              "      <td>0.000612</td>\n",
              "    </tr>\n",
              "    <tr>\n",
              "      <th>True</th>\n",
              "      <td>person: 3</td>\n",
              "      <td>0.000434</td>\n",
              "    </tr>\n",
              "    <tr>\n",
              "      <th>True</th>\n",
              "      <td>cardinal: 3</td>\n",
              "      <td>0.000434</td>\n",
              "    </tr>\n",
              "  </tbody>\n",
              "</table>\n",
              "</div>"
            ],
            "text/plain": [
              "                     features     score\n",
              "argumentative                          \n",
              "True               ordinal: 1  0.003846\n",
              "True                  norp: 1  0.001922\n",
              "True                   gpe: 1  0.001559\n",
              "True                  time: 2  0.001339\n",
              "True           work_of_art: 1  0.001146\n",
              "True                  date: 1  0.001034\n",
              "True                person: 2  0.000937\n",
              "True                  norp: 2  0.000937\n",
              "True               percent: 1  0.000937\n",
              "True                  norp: 3  0.000937\n",
              "True               ordinal: 2  0.000705\n",
              "True                   fac: 1  0.000705\n",
              "True              cardinal: 1  0.000612\n",
              "True                person: 3  0.000434\n",
              "True              cardinal: 3  0.000434"
            ]
          },
          "metadata": {},
          "execution_count": 110
        }
      ]
    },
    {
      "cell_type": "code",
      "metadata": {
        "colab": {
          "base_uri": "https://localhost:8080/"
        },
        "id": "nDu9E6DKeguS",
        "outputId": "ec86258d-a2ae-4f83-ca49-5bc03bdbbe69"
      },
      "source": [
        "global_explainability_tabular.loc[\"False\"][:10]"
      ],
      "execution_count": null,
      "outputs": [
        {
          "output_type": "execute_result",
          "data": {
            "text/html": [
              "<div>\n",
              "<style scoped>\n",
              "    .dataframe tbody tr th:only-of-type {\n",
              "        vertical-align: middle;\n",
              "    }\n",
              "\n",
              "    .dataframe tbody tr th {\n",
              "        vertical-align: top;\n",
              "    }\n",
              "\n",
              "    .dataframe thead th {\n",
              "        text-align: right;\n",
              "    }\n",
              "</style>\n",
              "<table border=\"1\" class=\"dataframe\">\n",
              "  <thead>\n",
              "    <tr style=\"text-align: right;\">\n",
              "      <th></th>\n",
              "      <th>features</th>\n",
              "      <th>score</th>\n",
              "    </tr>\n",
              "    <tr>\n",
              "      <th>argumentative</th>\n",
              "      <th></th>\n",
              "      <th></th>\n",
              "    </tr>\n",
              "  </thead>\n",
              "  <tbody>\n",
              "    <tr>\n",
              "      <th>False</th>\n",
              "      <td>date: 1</td>\n",
              "      <td>0.001278</td>\n",
              "    </tr>\n",
              "    <tr>\n",
              "      <th>False</th>\n",
              "      <td>product: 1</td>\n",
              "      <td>0.001265</td>\n",
              "    </tr>\n",
              "    <tr>\n",
              "      <th>False</th>\n",
              "      <td>ordinal: 1</td>\n",
              "      <td>0.000794</td>\n",
              "    </tr>\n",
              "    <tr>\n",
              "      <th>False</th>\n",
              "      <td>cardinal: 1</td>\n",
              "      <td>0.000680</td>\n",
              "    </tr>\n",
              "    <tr>\n",
              "      <th>False</th>\n",
              "      <td>gpe: 1</td>\n",
              "      <td>0.000278</td>\n",
              "    </tr>\n",
              "    <tr>\n",
              "      <th>False</th>\n",
              "      <td>norp: 1</td>\n",
              "      <td>0.000193</td>\n",
              "    </tr>\n",
              "    <tr>\n",
              "      <th>False</th>\n",
              "      <td>org: 1</td>\n",
              "      <td>0.000126</td>\n",
              "    </tr>\n",
              "    <tr>\n",
              "      <th>False</th>\n",
              "      <td>date: 2</td>\n",
              "      <td>0.000113</td>\n",
              "    </tr>\n",
              "    <tr>\n",
              "      <th>False</th>\n",
              "      <td>time: 1</td>\n",
              "      <td>0.000113</td>\n",
              "    </tr>\n",
              "    <tr>\n",
              "      <th>False</th>\n",
              "      <td>person: 1</td>\n",
              "      <td>0.000101</td>\n",
              "    </tr>\n",
              "  </tbody>\n",
              "</table>\n",
              "</div>"
            ],
            "text/plain": [
              "                  features     score\n",
              "argumentative                       \n",
              "False              date: 1  0.001278\n",
              "False           product: 1  0.001265\n",
              "False           ordinal: 1  0.000794\n",
              "False          cardinal: 1  0.000680\n",
              "False               gpe: 1  0.000278\n",
              "False              norp: 1  0.000193\n",
              "False               org: 1  0.000126\n",
              "False              date: 2  0.000113\n",
              "False              time: 1  0.000113\n",
              "False            person: 1  0.000101"
            ]
          },
          "metadata": {},
          "execution_count": 111
        }
      ]
    },
    {
      "cell_type": "markdown",
      "metadata": {
        "id": "rmG8oXyhJRnE"
      },
      "source": [
        "## **BOW**"
      ]
    },
    {
      "cell_type": "code",
      "metadata": {
        "colab": {
          "base_uri": "https://localhost:8080/"
        },
        "id": "4d8JvDs0wVu8",
        "outputId": "f7633540-944d-41f6-ea9b-9d7eee0f710f"
      },
      "source": [
        "ground_labels, global_explainability_tabular, labels, _, _, policy, debater_ground_labels, debater_labels=stc_procedure_tabular(BOW,true_labels,Debater_BOW,Debater_true_labels)"
      ],
      "execution_count": null,
      "outputs": [
        {
          "output_type": "stream",
          "name": "stdout",
          "text": [
            ""
          ]
        },
        {
          "output_type": "stream",
          "name": "stderr",
          "text": [
            "Exception during reset or similar\n",
            "Traceback (most recent call last):\n",
            "  File \"/usr/local/lib/python3.7/dist-packages/sqlalchemy/pool/base.py\", line 739, in _finalize_fairy\n",
            "    fairy._reset(pool)\n",
            "  File \"/usr/local/lib/python3.7/dist-packages/sqlalchemy/pool/base.py\", line 988, in _reset\n",
            "    pool._dialect.do_rollback(self)\n",
            "  File \"/usr/local/lib/python3.7/dist-packages/sqlalchemy/engine/default.py\", line 667, in do_rollback\n",
            "    dbapi_connection.rollback()\n",
            "sqlite3.ProgrammingError: SQLite objects created in a thread can only be used in that same thread. The object was created in thread id 140488983709568 and this is thread id 140488359724800.\n",
            "Exception closing connection <sqlite3.Connection object at 0x7fc5eb64ee30>\n",
            "Traceback (most recent call last):\n",
            "  File \"/usr/local/lib/python3.7/dist-packages/sqlalchemy/pool/base.py\", line 739, in _finalize_fairy\n",
            "    fairy._reset(pool)\n",
            "  File \"/usr/local/lib/python3.7/dist-packages/sqlalchemy/pool/base.py\", line 988, in _reset\n",
            "    pool._dialect.do_rollback(self)\n",
            "  File \"/usr/local/lib/python3.7/dist-packages/sqlalchemy/engine/default.py\", line 667, in do_rollback\n",
            "    dbapi_connection.rollback()\n",
            "sqlite3.ProgrammingError: SQLite objects created in a thread can only be used in that same thread. The object was created in thread id 140488983709568 and this is thread id 140488359724800.\n",
            "\n",
            "During handling of the above exception, another exception occurred:\n",
            "\n",
            "Traceback (most recent call last):\n",
            "  File \"/usr/local/lib/python3.7/dist-packages/sqlalchemy/pool/base.py\", line 247, in _close_connection\n",
            "    self._dialect.do_close(connection)\n",
            "  File \"/usr/local/lib/python3.7/dist-packages/sqlalchemy/engine/default.py\", line 673, in do_close\n",
            "    dbapi_connection.close()\n",
            "sqlite3.ProgrammingError: SQLite objects created in a thread can only be used in that same thread. The object was created in thread id 140488983709568 and this is thread id 140488359724800.\n"
          ]
        }
      ]
    },
    {
      "cell_type": "code",
      "metadata": {
        "id": "QF2rXJi1wVu-"
      },
      "source": [
        "accuracy=accuracy_score(ground_labels, labels)\n",
        "f1_score_value=f1_score(y_true=ground_labels, y_pred=labels, pos_label=\"True\")\n",
        "precision=precision_score(ground_labels, labels, pos_label=\"True\")\n",
        "recall=recall_score(ground_labels, labels, pos_label=\"True\")\n",
        "\n",
        "debater_recall=recall_score(debater_ground_labels, debater_labels, pos_label=\"True\")"
      ],
      "execution_count": null,
      "outputs": []
    },
    {
      "cell_type": "code",
      "metadata": {
        "id": "0GVwd6Q4wVu-"
      },
      "source": [
        "accuracy_scores.append(accuracy)\n",
        "f1_scores.append(f1_score_value)\n",
        "precision_scores.append(precision)\n",
        "recall_scores.append(recall)\n",
        "\n",
        "debater_recall_scores.append(debater_recall)"
      ],
      "execution_count": null,
      "outputs": []
    },
    {
      "cell_type": "code",
      "metadata": {
        "colab": {
          "base_uri": "https://localhost:8080/"
        },
        "id": "yyzmvOVnwVu_",
        "outputId": "21c3f85a-9ab8-4933-b65c-b787df7b53ab"
      },
      "source": [
        "print('accuracy: {}'.format(accuracy))\n",
        "print('f1 score: {}'.format(f1_score_value))\n",
        "print('precision: {}'.format(precision))\n",
        "print('recall: {}'.format(recall))\n",
        "print('\\n')\n",
        "print('recall debater dataset: {}'.format(debater_recall))"
      ],
      "execution_count": null,
      "outputs": [
        {
          "output_type": "stream",
          "name": "stdout",
          "text": [
            "accuracy: 0.7067603160667252\n",
            "f1 score: 0.8067129629629629\n",
            "precision: 0.8778337531486146\n",
            "recall: 0.7462526766595289\n",
            "\n",
            "\n",
            "recall debater dataset: 0.6748742388138734\n"
          ]
        }
      ]
    },
    {
      "cell_type": "code",
      "metadata": {
        "colab": {
          "base_uri": "https://localhost:8080/"
        },
        "id": "Ecz2C_efeqxJ",
        "outputId": "17ccf41f-47f8-4712-e9c8-739b59677f04"
      },
      "source": [
        "global_explainability_tabular.loc[\"True\"][:15]"
      ],
      "execution_count": null,
      "outputs": [
        {
          "output_type": "execute_result",
          "data": {
            "text/html": [
              "<div>\n",
              "<style scoped>\n",
              "    .dataframe tbody tr th:only-of-type {\n",
              "        vertical-align: middle;\n",
              "    }\n",
              "\n",
              "    .dataframe tbody tr th {\n",
              "        vertical-align: top;\n",
              "    }\n",
              "\n",
              "    .dataframe thead th {\n",
              "        text-align: right;\n",
              "    }\n",
              "</style>\n",
              "<table border=\"1\" class=\"dataframe\">\n",
              "  <thead>\n",
              "    <tr style=\"text-align: right;\">\n",
              "      <th></th>\n",
              "      <th>features</th>\n",
              "      <th>score</th>\n",
              "    </tr>\n",
              "    <tr>\n",
              "      <th>argumentative</th>\n",
              "      <th></th>\n",
              "      <th></th>\n",
              "    </tr>\n",
              "  </thead>\n",
              "  <tbody>\n",
              "    <tr>\n",
              "      <th>True</th>\n",
              "      <td>,: 3</td>\n",
              "      <td>0.001874</td>\n",
              "    </tr>\n",
              "    <tr>\n",
              "      <th>True</th>\n",
              "      <td>,: 0</td>\n",
              "      <td>0.001453</td>\n",
              "    </tr>\n",
              "    <tr>\n",
              "      <th>True</th>\n",
              "      <td>,: 4</td>\n",
              "      <td>0.001235</td>\n",
              "    </tr>\n",
              "    <tr>\n",
              "      <th>True</th>\n",
              "      <td>,: 2</td>\n",
              "      <td>0.001006</td>\n",
              "    </tr>\n",
              "    <tr>\n",
              "      <th>True</th>\n",
              "      <td>,: 6</td>\n",
              "      <td>0.000875</td>\n",
              "    </tr>\n",
              "    <tr>\n",
              "      <th>True</th>\n",
              "      <td>'ll: 1</td>\n",
              "      <td>0.000538</td>\n",
              "    </tr>\n",
              "    <tr>\n",
              "      <th>True</th>\n",
              "      <td>3: 1</td>\n",
              "      <td>0.000440</td>\n",
              "    </tr>\n",
              "    <tr>\n",
              "      <th>True</th>\n",
              "      <td>'m: 1</td>\n",
              "      <td>0.000440</td>\n",
              "    </tr>\n",
              "    <tr>\n",
              "      <th>True</th>\n",
              "      <td>': 2</td>\n",
              "      <td>0.000440</td>\n",
              "    </tr>\n",
              "    <tr>\n",
              "      <th>True</th>\n",
              "      <td>.: 1</td>\n",
              "      <td>0.000331</td>\n",
              "    </tr>\n",
              "    <tr>\n",
              "      <th>True</th>\n",
              "      <td>--: 1</td>\n",
              "      <td>0.000331</td>\n",
              "    </tr>\n",
              "    <tr>\n",
              "      <th>True</th>\n",
              "      <td>10: 1</td>\n",
              "      <td>0.000331</td>\n",
              "    </tr>\n",
              "    <tr>\n",
              "      <th>True</th>\n",
              "      <td>'ve: 1</td>\n",
              "      <td>0.000331</td>\n",
              "    </tr>\n",
              "    <tr>\n",
              "      <th>True</th>\n",
              "      <td>2: 1</td>\n",
              "      <td>0.000331</td>\n",
              "    </tr>\n",
              "    <tr>\n",
              "      <th>True</th>\n",
              "      <td>20th: 1</td>\n",
              "      <td>0.000331</td>\n",
              "    </tr>\n",
              "  </tbody>\n",
              "</table>\n",
              "</div>"
            ],
            "text/plain": [
              "              features     score\n",
              "argumentative                   \n",
              "True              ,: 3  0.001874\n",
              "True              ,: 0  0.001453\n",
              "True              ,: 4  0.001235\n",
              "True              ,: 2  0.001006\n",
              "True              ,: 6  0.000875\n",
              "True            'll: 1  0.000538\n",
              "True              3: 1  0.000440\n",
              "True             'm: 1  0.000440\n",
              "True              ': 2  0.000440\n",
              "True              .: 1  0.000331\n",
              "True             --: 1  0.000331\n",
              "True             10: 1  0.000331\n",
              "True            've: 1  0.000331\n",
              "True              2: 1  0.000331\n",
              "True           20th: 1  0.000331"
            ]
          },
          "metadata": {},
          "execution_count": 116
        }
      ]
    },
    {
      "cell_type": "code",
      "metadata": {
        "colab": {
          "base_uri": "https://localhost:8080/"
        },
        "id": "y2SNL8seeqxK",
        "outputId": "1ce741e0-defc-4a9e-c808-02cce1c45f66"
      },
      "source": [
        "global_explainability_tabular.loc[\"False\"][:10]"
      ],
      "execution_count": null,
      "outputs": [
        {
          "output_type": "execute_result",
          "data": {
            "text/html": [
              "<div>\n",
              "<style scoped>\n",
              "    .dataframe tbody tr th:only-of-type {\n",
              "        vertical-align: middle;\n",
              "    }\n",
              "\n",
              "    .dataframe tbody tr th {\n",
              "        vertical-align: top;\n",
              "    }\n",
              "\n",
              "    .dataframe thead th {\n",
              "        text-align: right;\n",
              "    }\n",
              "</style>\n",
              "<table border=\"1\" class=\"dataframe\">\n",
              "  <thead>\n",
              "    <tr style=\"text-align: right;\">\n",
              "      <th></th>\n",
              "      <th>features</th>\n",
              "      <th>score</th>\n",
              "    </tr>\n",
              "    <tr>\n",
              "      <th>argumentative</th>\n",
              "      <th></th>\n",
              "      <th></th>\n",
              "    </tr>\n",
              "  </thead>\n",
              "  <tbody>\n",
              "    <tr>\n",
              "      <th>False</th>\n",
              "      <td>,: 0</td>\n",
              "      <td>0.001704</td>\n",
              "    </tr>\n",
              "    <tr>\n",
              "      <th>False</th>\n",
              "      <td>20: 1</td>\n",
              "      <td>0.001303</td>\n",
              "    </tr>\n",
              "    <tr>\n",
              "      <th>False</th>\n",
              "      <td>'globalization: 1</td>\n",
              "      <td>0.000594</td>\n",
              "    </tr>\n",
              "    <tr>\n",
              "      <th>False</th>\n",
              "      <td>18: 1</td>\n",
              "      <td>0.000594</td>\n",
              "    </tr>\n",
              "    <tr>\n",
              "      <th>False</th>\n",
              "      <td>2014: 1</td>\n",
              "      <td>0.000594</td>\n",
              "    </tr>\n",
              "    <tr>\n",
              "      <th>False</th>\n",
              "      <td>19th: 1</td>\n",
              "      <td>0.000594</td>\n",
              "    </tr>\n",
              "    <tr>\n",
              "      <th>False</th>\n",
              "      <td>21st: 1</td>\n",
              "      <td>0.000498</td>\n",
              "    </tr>\n",
              "    <tr>\n",
              "      <th>False</th>\n",
              "      <td>,: 3</td>\n",
              "      <td>0.000373</td>\n",
              "    </tr>\n",
              "    <tr>\n",
              "      <th>False</th>\n",
              "      <td>,: 2</td>\n",
              "      <td>0.000363</td>\n",
              "    </tr>\n",
              "    <tr>\n",
              "      <th>False</th>\n",
              "      <td>brought: 1</td>\n",
              "      <td>0.000270</td>\n",
              "    </tr>\n",
              "  </tbody>\n",
              "</table>\n",
              "</div>"
            ],
            "text/plain": [
              "                        features     score\n",
              "argumentative                             \n",
              "False                       ,: 0  0.001704\n",
              "False                      20: 1  0.001303\n",
              "False          'globalization: 1  0.000594\n",
              "False                      18: 1  0.000594\n",
              "False                    2014: 1  0.000594\n",
              "False                    19th: 1  0.000594\n",
              "False                    21st: 1  0.000498\n",
              "False                       ,: 3  0.000373\n",
              "False                       ,: 2  0.000363\n",
              "False                 brought: 1  0.000270"
            ]
          },
          "metadata": {},
          "execution_count": 117
        }
      ]
    },
    {
      "cell_type": "markdown",
      "metadata": {
        "id": "qPZ9wr1ZJZuF"
      },
      "source": [
        "## **Bigrams**"
      ]
    },
    {
      "cell_type": "code",
      "metadata": {
        "colab": {
          "base_uri": "https://localhost:8080/"
        },
        "id": "MrocDTG8wiEI",
        "outputId": "ef617444-ad17-4929-9e8d-86d7b4e460df"
      },
      "source": [
        "ground_labels, global_explainability_tabular, labels, _, _, policy, debater_ground_labels, debater_labels=stc_procedure_tabular(Bigram,true_labels,Debater_Bigram,Debater_true_labels)"
      ],
      "execution_count": null,
      "outputs": [
        {
          "output_type": "stream",
          "name": "stdout",
          "text": [
            ""
          ]
        }
      ]
    },
    {
      "cell_type": "code",
      "metadata": {
        "id": "zgOYaFJ3wiEJ"
      },
      "source": [
        "accuracy=accuracy_score(ground_labels, labels)\n",
        "f1_score_value=f1_score(y_true=ground_labels, y_pred=labels, pos_label=\"True\")\n",
        "precision=precision_score(ground_labels, labels, pos_label=\"True\")\n",
        "recall=recall_score(ground_labels, labels, pos_label=\"True\")\n",
        "\n",
        "debater_recall=recall_score(debater_ground_labels, debater_labels, pos_label=\"True\")"
      ],
      "execution_count": null,
      "outputs": []
    },
    {
      "cell_type": "code",
      "metadata": {
        "id": "JK-KI5D-wiEJ"
      },
      "source": [
        "#accuracy_scores.append(accuracy)\n",
        "#f1_scores.append(f1_score_value)\n",
        "#precision_scores.append(precision)\n",
        "#recall_scores.append(recall)\n",
        "\n",
        "#debater_recall_scores.append(debater_recall)"
      ],
      "execution_count": null,
      "outputs": []
    },
    {
      "cell_type": "code",
      "metadata": {
        "colab": {
          "base_uri": "https://localhost:8080/"
        },
        "id": "jxDzc_HhwiEK",
        "outputId": "f936510e-de55-4fd0-bf56-0658096a60c8"
      },
      "source": [
        "print('accuracy: {}'.format(accuracy))\n",
        "print('f1 score: {}'.format(f1_score_value))\n",
        "print('precision: {}'.format(precision))\n",
        "print('recall: {}'.format(recall))\n",
        "print('\\n')\n",
        "print('recall debater dataset: {}'.format(debater_recall))"
      ],
      "execution_count": null,
      "outputs": [
        {
          "output_type": "stream",
          "name": "stdout",
          "text": [
            "accuracy: 0.8208955223880597\n",
            "f1 score: 0.9012584704743466\n",
            "precision: 0.8224381625441696\n",
            "recall: 0.9967880085653105\n",
            "\n",
            "\n",
            "recall debater dataset: 0.9992057188244639\n"
          ]
        }
      ]
    },
    {
      "cell_type": "code",
      "metadata": {
        "id": "PTvsZ2KTezZj",
        "colab": {
          "base_uri": "https://localhost:8080/"
        },
        "outputId": "b29c4b9c-691c-4717-bebe-1b1b3d9cd1c2"
      },
      "source": [
        "global_explainability_tabular.loc[\"True\"][:15]"
      ],
      "execution_count": null,
      "outputs": [
        {
          "output_type": "execute_result",
          "data": {
            "text/html": [
              "<div>\n",
              "<style scoped>\n",
              "    .dataframe tbody tr th:only-of-type {\n",
              "        vertical-align: middle;\n",
              "    }\n",
              "\n",
              "    .dataframe tbody tr th {\n",
              "        vertical-align: top;\n",
              "    }\n",
              "\n",
              "    .dataframe thead th {\n",
              "        text-align: right;\n",
              "    }\n",
              "</style>\n",
              "<table border=\"1\" class=\"dataframe\">\n",
              "  <thead>\n",
              "    <tr style=\"text-align: right;\">\n",
              "      <th></th>\n",
              "      <th>features</th>\n",
              "      <th>score</th>\n",
              "    </tr>\n",
              "    <tr>\n",
              "      <th>argumentative</th>\n",
              "      <th></th>\n",
              "      <th></th>\n",
              "    </tr>\n",
              "  </thead>\n",
              "  <tbody>\n",
              "    <tr>\n",
              "      <th>True</th>\n",
              "      <td>last but: 1</td>\n",
              "      <td>0.001162</td>\n",
              "    </tr>\n",
              "    <tr>\n",
              "      <th>True</th>\n",
              "      <td>knowledge to: 1</td>\n",
              "      <td>0.000797</td>\n",
              "    </tr>\n",
              "    <tr>\n",
              "      <th>True</th>\n",
              "      <td>knowledge in: 1</td>\n",
              "      <td>0.000715</td>\n",
              "    </tr>\n",
              "    <tr>\n",
              "      <th>True</th>\n",
              "      <td>knowledge on: 1</td>\n",
              "      <td>0.000629</td>\n",
              "    </tr>\n",
              "    <tr>\n",
              "      <th>True</th>\n",
              "      <td>knowledge of: 1</td>\n",
              "      <td>0.000538</td>\n",
              "    </tr>\n",
              "    <tr>\n",
              "      <th>True</th>\n",
              "      <td>knowledge they: 1</td>\n",
              "      <td>0.000331</td>\n",
              "    </tr>\n",
              "    <tr>\n",
              "      <th>True</th>\n",
              "      <td>labor market: 1</td>\n",
              "      <td>0.000204</td>\n",
              "    </tr>\n",
              "    <tr>\n",
              "      <th>True</th>\n",
              "      <td>laboratory and: 1</td>\n",
              "      <td>0.000204</td>\n",
              "    </tr>\n",
              "    <tr>\n",
              "      <th>True</th>\n",
              "      <td>lack the: 1</td>\n",
              "      <td>0.000204</td>\n",
              "    </tr>\n",
              "    <tr>\n",
              "      <th>True</th>\n",
              "      <td>knowledge that: 1</td>\n",
              "      <td>0.000204</td>\n",
              "    </tr>\n",
              "    <tr>\n",
              "      <th>True</th>\n",
              "      <td>labelled particular: 1</td>\n",
              "      <td>0.000204</td>\n",
              "    </tr>\n",
              "    <tr>\n",
              "      <th>True</th>\n",
              "      <td>labor working: 1</td>\n",
              "      <td>0.000204</td>\n",
              "    </tr>\n",
              "    <tr>\n",
              "      <th>True</th>\n",
              "      <td>laboratory of: 1</td>\n",
              "      <td>0.000204</td>\n",
              "    </tr>\n",
              "    <tr>\n",
              "      <th>True</th>\n",
              "      <td>knowledge is: 1</td>\n",
              "      <td>0.000114</td>\n",
              "    </tr>\n",
              "    <tr>\n",
              "      <th>True</th>\n",
              "      <td>learn from: 1</td>\n",
              "      <td>0.000087</td>\n",
              "    </tr>\n",
              "  </tbody>\n",
              "</table>\n",
              "</div>"
            ],
            "text/plain": [
              "                             features     score\n",
              "argumentative                                  \n",
              "True                      last but: 1  0.001162\n",
              "True                  knowledge to: 1  0.000797\n",
              "True                  knowledge in: 1  0.000715\n",
              "True                  knowledge on: 1  0.000629\n",
              "True                  knowledge of: 1  0.000538\n",
              "True                knowledge they: 1  0.000331\n",
              "True                  labor market: 1  0.000204\n",
              "True                laboratory and: 1  0.000204\n",
              "True                      lack the: 1  0.000204\n",
              "True                knowledge that: 1  0.000204\n",
              "True           labelled particular: 1  0.000204\n",
              "True                 labor working: 1  0.000204\n",
              "True                 laboratory of: 1  0.000204\n",
              "True                  knowledge is: 1  0.000114\n",
              "True                    learn from: 1  0.000087"
            ]
          },
          "metadata": {},
          "execution_count": 122
        }
      ]
    },
    {
      "cell_type": "code",
      "metadata": {
        "id": "JLm3Dpn4ezZk",
        "colab": {
          "base_uri": "https://localhost:8080/"
        },
        "outputId": "a86a6d98-eb40-4527-cc1b-beaf4d0d7eaa"
      },
      "source": [
        "global_explainability_tabular.loc[\"False\"][:10]"
      ],
      "execution_count": null,
      "outputs": [
        {
          "output_type": "execute_result",
          "data": {
            "text/html": [
              "<div>\n",
              "<style scoped>\n",
              "    .dataframe tbody tr th:only-of-type {\n",
              "        vertical-align: middle;\n",
              "    }\n",
              "\n",
              "    .dataframe tbody tr th {\n",
              "        vertical-align: top;\n",
              "    }\n",
              "\n",
              "    .dataframe thead th {\n",
              "        text-align: right;\n",
              "    }\n",
              "</style>\n",
              "<table border=\"1\" class=\"dataframe\">\n",
              "  <thead>\n",
              "    <tr style=\"text-align: right;\">\n",
              "      <th></th>\n",
              "      <th>features</th>\n",
              "      <th>score</th>\n",
              "    </tr>\n",
              "    <tr>\n",
              "      <th>argumentative</th>\n",
              "      <th></th>\n",
              "      <th></th>\n",
              "    </tr>\n",
              "  </thead>\n",
              "  <tbody>\n",
              "    <tr>\n",
              "      <th>False</th>\n",
              "      <td>and analyzed: 1</td>\n",
              "      <td>0.000966</td>\n",
              "    </tr>\n",
              "    <tr>\n",
              "      <th>False</th>\n",
              "      <td>about whether: 1</td>\n",
              "      <td>0.000757</td>\n",
              "    </tr>\n",
              "    <tr>\n",
              "      <th>False</th>\n",
              "      <td>last hundred: 1</td>\n",
              "      <td>0.000594</td>\n",
              "    </tr>\n",
              "    <tr>\n",
              "      <th>False</th>\n",
              "      <td>later year: 1</td>\n",
              "      <td>0.000594</td>\n",
              "    </tr>\n",
              "    <tr>\n",
              "      <th>False</th>\n",
              "      <td>last people: 1</td>\n",
              "      <td>0.000594</td>\n",
              "    </tr>\n",
              "    <tr>\n",
              "      <th>False</th>\n",
              "      <td>known about: 1</td>\n",
              "      <td>0.000594</td>\n",
              "    </tr>\n",
              "    <tr>\n",
              "      <th>False</th>\n",
              "      <td>last few: 1</td>\n",
              "      <td>0.000594</td>\n",
              "    </tr>\n",
              "    <tr>\n",
              "      <th>False</th>\n",
              "      <td>about cheap: 1</td>\n",
              "      <td>0.000594</td>\n",
              "    </tr>\n",
              "    <tr>\n",
              "      <th>False</th>\n",
              "      <td>learn both: 1</td>\n",
              "      <td>0.000594</td>\n",
              "    </tr>\n",
              "    <tr>\n",
              "      <th>False</th>\n",
              "      <td>later investment: 1</td>\n",
              "      <td>0.000594</td>\n",
              "    </tr>\n",
              "  </tbody>\n",
              "</table>\n",
              "</div>"
            ],
            "text/plain": [
              "                          features     score\n",
              "argumentative                               \n",
              "False              and analyzed: 1  0.000966\n",
              "False             about whether: 1  0.000757\n",
              "False              last hundred: 1  0.000594\n",
              "False                later year: 1  0.000594\n",
              "False               last people: 1  0.000594\n",
              "False               known about: 1  0.000594\n",
              "False                  last few: 1  0.000594\n",
              "False               about cheap: 1  0.000594\n",
              "False                learn both: 1  0.000594\n",
              "False          later investment: 1  0.000594"
            ]
          },
          "metadata": {},
          "execution_count": 123
        }
      ]
    },
    {
      "cell_type": "markdown",
      "metadata": {
        "id": "VbYkyy7Nf6ka"
      },
      "source": [
        "## **Imported n-grams**"
      ]
    },
    {
      "cell_type": "code",
      "metadata": {
        "colab": {
          "base_uri": "https://localhost:8080/"
        },
        "id": "VLgPl7fnwoDh",
        "outputId": "dfdcb04a-e2b6-4861-88b1-2d3aa1195e9c"
      },
      "source": [
        "ground_labels, global_explainability_tabular, labels, _, _, policy, debater_ground_labels, debater_labels=stc_procedure_tabular(imported_ngram,true_labels,Debater_imported_ngram,Debater_true_labels)"
      ],
      "execution_count": null,
      "outputs": [
        {
          "output_type": "stream",
          "name": "stdout",
          "text": [
            ""
          ]
        }
      ]
    },
    {
      "cell_type": "code",
      "metadata": {
        "id": "u4J6LEm3woDi"
      },
      "source": [
        "accuracy=accuracy_score(ground_labels, labels)\n",
        "f1_score_value=f1_score(y_true=ground_labels, y_pred=labels, pos_label=\"True\")\n",
        "precision=precision_score(ground_labels, labels, pos_label=\"True\")\n",
        "recall=recall_score(ground_labels, labels, pos_label=\"True\")\n",
        "\n",
        "debater_recall=recall_score(debater_ground_labels, debater_labels, pos_label=\"True\")"
      ],
      "execution_count": null,
      "outputs": []
    },
    {
      "cell_type": "code",
      "metadata": {
        "id": "1zR4fhm2woDi"
      },
      "source": [
        "#accuracy_scores.append(accuracy)\n",
        "#f1_scores.append(f1_score_value)\n",
        "#precision_scores.append(precision)\n",
        "#recall_scores.append(recall)\n",
        "\n",
        "#debater_recall_scores.append(debater_recall)"
      ],
      "execution_count": null,
      "outputs": []
    },
    {
      "cell_type": "code",
      "metadata": {
        "colab": {
          "base_uri": "https://localhost:8080/"
        },
        "id": "EwX-pmANwoDi",
        "outputId": "27ead60d-88df-4cbd-b205-65f572120a20"
      },
      "source": [
        "print('accuracy: {}'.format(accuracy))\n",
        "print('f1 score: {}'.format(f1_score_value))\n",
        "print('precision: {}'.format(precision))\n",
        "print('recall: {}'.format(recall))\n",
        "print('\\n')\n",
        "print('recall debater dataset: {}'.format(debater_recall))"
      ],
      "execution_count": null,
      "outputs": [
        {
          "output_type": "stream",
          "name": "stdout",
          "text": [
            "accuracy: 0.820017559262511\n",
            "f1 score: 0.9011095031355524\n",
            "precision: 0.820017559262511\n",
            "recall: 1.0\n",
            "\n",
            "\n",
            "recall debater dataset: 0.9962933545141647\n"
          ]
        }
      ]
    },
    {
      "cell_type": "code",
      "metadata": {
        "id": "3jSv_FU8f6ke",
        "colab": {
          "base_uri": "https://localhost:8080/"
        },
        "outputId": "53b1f5e1-bb53-4b71-c84b-769fa7972536"
      },
      "source": [
        "global_explainability_tabular.loc[\"True\"][:15]"
      ],
      "execution_count": null,
      "outputs": [
        {
          "output_type": "execute_result",
          "data": {
            "text/html": [
              "<div>\n",
              "<style scoped>\n",
              "    .dataframe tbody tr th:only-of-type {\n",
              "        vertical-align: middle;\n",
              "    }\n",
              "\n",
              "    .dataframe tbody tr th {\n",
              "        vertical-align: top;\n",
              "    }\n",
              "\n",
              "    .dataframe thead th {\n",
              "        text-align: right;\n",
              "    }\n",
              "</style>\n",
              "<table border=\"1\" class=\"dataframe\">\n",
              "  <thead>\n",
              "    <tr style=\"text-align: right;\">\n",
              "      <th></th>\n",
              "      <th>features</th>\n",
              "      <th>score</th>\n",
              "    </tr>\n",
              "    <tr>\n",
              "      <th>argumentative</th>\n",
              "      <th></th>\n",
              "      <th></th>\n",
              "    </tr>\n",
              "  </thead>\n",
              "  <tbody>\n",
              "    <tr>\n",
              "      <th>True</th>\n",
              "      <td>furthermore: 1</td>\n",
              "      <td>0.003790</td>\n",
              "    </tr>\n",
              "    <tr>\n",
              "      <th>True</th>\n",
              "      <td>moreover: 1</td>\n",
              "      <td>0.003047</td>\n",
              "    </tr>\n",
              "    <tr>\n",
              "      <th>True</th>\n",
              "      <td>for example: 1</td>\n",
              "      <td>0.002996</td>\n",
              "    </tr>\n",
              "    <tr>\n",
              "      <th>True</th>\n",
              "      <td>for instance: 1</td>\n",
              "      <td>0.002565</td>\n",
              "    </tr>\n",
              "    <tr>\n",
              "      <th>True</th>\n",
              "      <td>in conclusion: 1</td>\n",
              "      <td>0.002332</td>\n",
              "    </tr>\n",
              "    <tr>\n",
              "      <th>True</th>\n",
              "      <td>because: 1</td>\n",
              "      <td>0.001721</td>\n",
              "    </tr>\n",
              "    <tr>\n",
              "      <th>True</th>\n",
              "      <td>in addition: 1</td>\n",
              "      <td>0.001331</td>\n",
              "    </tr>\n",
              "    <tr>\n",
              "      <th>True</th>\n",
              "      <td>thus: 1</td>\n",
              "      <td>0.001144</td>\n",
              "    </tr>\n",
              "    <tr>\n",
              "      <th>True</th>\n",
              "      <td>in short: 1</td>\n",
              "      <td>0.001110</td>\n",
              "    </tr>\n",
              "    <tr>\n",
              "      <th>True</th>\n",
              "      <td>hence: 1</td>\n",
              "      <td>0.001056</td>\n",
              "    </tr>\n",
              "    <tr>\n",
              "      <th>True</th>\n",
              "      <td>accordingly: 1</td>\n",
              "      <td>0.001022</td>\n",
              "    </tr>\n",
              "    <tr>\n",
              "      <th>True</th>\n",
              "      <td>therefore: 1</td>\n",
              "      <td>0.000990</td>\n",
              "    </tr>\n",
              "    <tr>\n",
              "      <th>True</th>\n",
              "      <td>for: 3</td>\n",
              "      <td>0.000931</td>\n",
              "    </tr>\n",
              "    <tr>\n",
              "      <th>True</th>\n",
              "      <td>conclude that: 1</td>\n",
              "      <td>0.000836</td>\n",
              "    </tr>\n",
              "    <tr>\n",
              "      <th>True</th>\n",
              "      <td>in that: 1</td>\n",
              "      <td>0.000836</td>\n",
              "    </tr>\n",
              "  </tbody>\n",
              "</table>\n",
              "</div>"
            ],
            "text/plain": [
              "                       features     score\n",
              "argumentative                            \n",
              "True             furthermore: 1  0.003790\n",
              "True                moreover: 1  0.003047\n",
              "True             for example: 1  0.002996\n",
              "True            for instance: 1  0.002565\n",
              "True           in conclusion: 1  0.002332\n",
              "True                 because: 1  0.001721\n",
              "True             in addition: 1  0.001331\n",
              "True                    thus: 1  0.001144\n",
              "True                in short: 1  0.001110\n",
              "True                   hence: 1  0.001056\n",
              "True             accordingly: 1  0.001022\n",
              "True               therefore: 1  0.000990\n",
              "True                     for: 3  0.000931\n",
              "True           conclude that: 1  0.000836\n",
              "True                 in that: 1  0.000836"
            ]
          },
          "metadata": {},
          "execution_count": 128
        }
      ]
    },
    {
      "cell_type": "code",
      "metadata": {
        "id": "zumKqAquf6kf",
        "colab": {
          "base_uri": "https://localhost:8080/"
        },
        "outputId": "92651aa5-649d-4fb2-998a-de50d6c63874"
      },
      "source": [
        "global_explainability_tabular.loc[\"False\"][:10]"
      ],
      "execution_count": null,
      "outputs": [
        {
          "output_type": "execute_result",
          "data": {
            "text/html": [
              "<div>\n",
              "<style scoped>\n",
              "    .dataframe tbody tr th:only-of-type {\n",
              "        vertical-align: middle;\n",
              "    }\n",
              "\n",
              "    .dataframe tbody tr th {\n",
              "        vertical-align: top;\n",
              "    }\n",
              "\n",
              "    .dataframe thead th {\n",
              "        text-align: right;\n",
              "    }\n",
              "</style>\n",
              "<table border=\"1\" class=\"dataframe\">\n",
              "  <thead>\n",
              "    <tr style=\"text-align: right;\">\n",
              "      <th></th>\n",
              "      <th>features</th>\n",
              "      <th>score</th>\n",
              "    </tr>\n",
              "    <tr>\n",
              "      <th>argumentative</th>\n",
              "      <th></th>\n",
              "      <th></th>\n",
              "    </tr>\n",
              "  </thead>\n",
              "  <tbody>\n",
              "    <tr>\n",
              "      <th>False</th>\n",
              "      <td>suggests that: 1</td>\n",
              "      <td>0.000695</td>\n",
              "    </tr>\n",
              "    <tr>\n",
              "      <th>False</th>\n",
              "      <td>is supported by: 1</td>\n",
              "      <td>0.000695</td>\n",
              "    </tr>\n",
              "    <tr>\n",
              "      <th>False</th>\n",
              "      <td>because: 1</td>\n",
              "      <td>0.000394</td>\n",
              "    </tr>\n",
              "    <tr>\n",
              "      <th>False</th>\n",
              "      <td>for example: 1</td>\n",
              "      <td>0.000319</td>\n",
              "    </tr>\n",
              "    <tr>\n",
              "      <th>False</th>\n",
              "      <td>in conclusion: 1</td>\n",
              "      <td>0.000264</td>\n",
              "    </tr>\n",
              "    <tr>\n",
              "      <th>False</th>\n",
              "      <td>therefore: 1</td>\n",
              "      <td>0.000257</td>\n",
              "    </tr>\n",
              "    <tr>\n",
              "      <th>False</th>\n",
              "      <td>thus: 1</td>\n",
              "      <td>0.000211</td>\n",
              "    </tr>\n",
              "    <tr>\n",
              "      <th>False</th>\n",
              "      <td>so: 1</td>\n",
              "      <td>0.000207</td>\n",
              "    </tr>\n",
              "    <tr>\n",
              "      <th>False</th>\n",
              "      <td>for instance: 1</td>\n",
              "      <td>0.000192</td>\n",
              "    </tr>\n",
              "    <tr>\n",
              "      <th>False</th>\n",
              "      <td>in addition: 1</td>\n",
              "      <td>0.000188</td>\n",
              "    </tr>\n",
              "  </tbody>\n",
              "</table>\n",
              "</div>"
            ],
            "text/plain": [
              "                         features     score\n",
              "argumentative                              \n",
              "False            suggests that: 1  0.000695\n",
              "False          is supported by: 1  0.000695\n",
              "False                  because: 1  0.000394\n",
              "False              for example: 1  0.000319\n",
              "False            in conclusion: 1  0.000264\n",
              "False                therefore: 1  0.000257\n",
              "False                     thus: 1  0.000211\n",
              "False                       so: 1  0.000207\n",
              "False             for instance: 1  0.000192\n",
              "False              in addition: 1  0.000188"
            ]
          },
          "metadata": {},
          "execution_count": 129
        }
      ]
    },
    {
      "cell_type": "markdown",
      "metadata": {
        "id": "LI_fDBH-J0Ak"
      },
      "source": [
        "## **Subjectivity**"
      ]
    },
    {
      "cell_type": "code",
      "metadata": {
        "colab": {
          "base_uri": "https://localhost:8080/"
        },
        "id": "4gxOoukEw-8g",
        "outputId": "01ea0299-04b5-448d-c934-2468e9cfba22"
      },
      "source": [
        "ground_labels, global_explainability_tabular, labels, _, _, policy, debater_ground_labels, debater_labels=stc_procedure_tabular(others,true_labels,Debater_others,Debater_true_labels)"
      ],
      "execution_count": null,
      "outputs": [
        {
          "output_type": "stream",
          "name": "stdout",
          "text": [
            ""
          ]
        }
      ]
    },
    {
      "cell_type": "code",
      "metadata": {
        "id": "n6TL4P-9w-8h"
      },
      "source": [
        "accuracy=accuracy_score(ground_labels, labels)\n",
        "f1_score_value=f1_score(y_true=ground_labels, y_pred=labels, pos_label=\"True\")\n",
        "precision=precision_score(ground_labels, labels, pos_label=\"True\")\n",
        "recall=recall_score(ground_labels, labels, pos_label=\"True\")\n",
        "\n",
        "debater_recall=recall_score(debater_ground_labels, debater_labels, pos_label=\"True\")"
      ],
      "execution_count": null,
      "outputs": []
    },
    {
      "cell_type": "code",
      "metadata": {
        "id": "pnVDtof7w-8i"
      },
      "source": [
        "#accuracy_scores.append(accuracy)\n",
        "#f1_scores.append(f1_score_value)\n",
        "#precision_scores.append(precision)\n",
        "#recall_scores.append(recall)\n",
        "\n",
        "#debater_recall_scores.append(debater_recall)"
      ],
      "execution_count": null,
      "outputs": []
    },
    {
      "cell_type": "code",
      "metadata": {
        "colab": {
          "base_uri": "https://localhost:8080/"
        },
        "id": "JrKyAIrnw-8j",
        "outputId": "74272d68-51bb-422e-f1de-438dae427e59"
      },
      "source": [
        "print('accuracy: {}'.format(accuracy))\n",
        "print('f1 score: {}'.format(f1_score_value))\n",
        "print('precision: {}'.format(precision))\n",
        "print('recall: {}'.format(recall))\n",
        "print('\\n')\n",
        "print('recall debater dataset: {}'.format(debater_recall))"
      ],
      "execution_count": null,
      "outputs": [
        {
          "output_type": "stream",
          "name": "stdout",
          "text": [
            "accuracy: 0.820017559262511\n",
            "f1 score: 0.9011095031355524\n",
            "precision: 0.820017559262511\n",
            "recall: 1.0\n",
            "\n",
            "\n",
            "recall debater dataset: 1.0\n"
          ]
        }
      ]
    },
    {
      "cell_type": "code",
      "metadata": {
        "id": "XuBiXBfHe6LV",
        "colab": {
          "base_uri": "https://localhost:8080/"
        },
        "outputId": "90ffe70f-ed5d-4c55-8745-82b6eee843ef"
      },
      "source": [
        "global_explainability_tabular.loc[\"True\"][:2]"
      ],
      "execution_count": null,
      "outputs": [
        {
          "output_type": "execute_result",
          "data": {
            "text/html": [
              "<div>\n",
              "<style scoped>\n",
              "    .dataframe tbody tr th:only-of-type {\n",
              "        vertical-align: middle;\n",
              "    }\n",
              "\n",
              "    .dataframe tbody tr th {\n",
              "        vertical-align: top;\n",
              "    }\n",
              "\n",
              "    .dataframe thead th {\n",
              "        text-align: right;\n",
              "    }\n",
              "</style>\n",
              "<table border=\"1\" class=\"dataframe\">\n",
              "  <thead>\n",
              "    <tr style=\"text-align: right;\">\n",
              "      <th></th>\n",
              "      <th>features</th>\n",
              "      <th>score</th>\n",
              "    </tr>\n",
              "    <tr>\n",
              "      <th>argumentative</th>\n",
              "      <th></th>\n",
              "      <th></th>\n",
              "    </tr>\n",
              "  </thead>\n",
              "  <tbody>\n",
              "    <tr>\n",
              "      <th>True</th>\n",
              "      <td>subjectivity score: 0.0</td>\n",
              "      <td>0.003208</td>\n",
              "    </tr>\n",
              "    <tr>\n",
              "      <th>True</th>\n",
              "      <td>subjectivity score: 1.0</td>\n",
              "      <td>0.002493</td>\n",
              "    </tr>\n",
              "  </tbody>\n",
              "</table>\n",
              "</div>"
            ],
            "text/plain": [
              "                              features     score\n",
              "argumentative                                   \n",
              "True           subjectivity score: 0.0  0.003208\n",
              "True           subjectivity score: 1.0  0.002493"
            ]
          },
          "metadata": {},
          "execution_count": 134
        }
      ]
    },
    {
      "cell_type": "code",
      "metadata": {
        "id": "AN59ctMYe6LV",
        "colab": {
          "base_uri": "https://localhost:8080/"
        },
        "outputId": "d4f2f33a-0e6c-43f6-d374-39657756c9dd"
      },
      "source": [
        "global_explainability_tabular.loc[\"False\"][:2]"
      ],
      "execution_count": null,
      "outputs": [
        {
          "output_type": "execute_result",
          "data": {
            "text/html": [
              "<div>\n",
              "<style scoped>\n",
              "    .dataframe tbody tr th:only-of-type {\n",
              "        vertical-align: middle;\n",
              "    }\n",
              "\n",
              "    .dataframe tbody tr th {\n",
              "        vertical-align: top;\n",
              "    }\n",
              "\n",
              "    .dataframe thead th {\n",
              "        text-align: right;\n",
              "    }\n",
              "</style>\n",
              "<table border=\"1\" class=\"dataframe\">\n",
              "  <thead>\n",
              "    <tr style=\"text-align: right;\">\n",
              "      <th></th>\n",
              "      <th>features</th>\n",
              "      <th>score</th>\n",
              "    </tr>\n",
              "    <tr>\n",
              "      <th>argumentative</th>\n",
              "      <th></th>\n",
              "      <th></th>\n",
              "    </tr>\n",
              "  </thead>\n",
              "  <tbody>\n",
              "    <tr>\n",
              "      <th>False</th>\n",
              "      <td>subjectivity score: 1.0</td>\n",
              "      <td>0.001845</td>\n",
              "    </tr>\n",
              "    <tr>\n",
              "      <th>False</th>\n",
              "      <td>subjectivity score: 0.0</td>\n",
              "      <td>0.001707</td>\n",
              "    </tr>\n",
              "  </tbody>\n",
              "</table>\n",
              "</div>"
            ],
            "text/plain": [
              "                              features     score\n",
              "argumentative                                   \n",
              "False          subjectivity score: 1.0  0.001845\n",
              "False          subjectivity score: 0.0  0.001707"
            ]
          },
          "metadata": {},
          "execution_count": 135
        }
      ]
    },
    {
      "cell_type": "markdown",
      "metadata": {
        "id": "SSKn7yq-A1IT"
      },
      "source": [
        "# **Statistic dataset comparison**"
      ]
    },
    {
      "cell_type": "code",
      "metadata": {
        "id": "UKmavj_iBP_v"
      },
      "source": [
        "# Convert the tabular data of more than one dataset into a single dataset o multivalued\n",
        "# attributes. Where each attribure contains the informations corresponding to a \n",
        "# particular dataset imported.\n",
        "\n",
        "def dataset_to_multivalued_attribute(columns,shape,row):\n",
        "\n",
        "  return [columns[j]+\"=\"+str(row[j]) for j in range(shape-1)]\n",
        "\n",
        "\n",
        "def dataset_list_to_JSON(dataset_list:list,dataset_names_list:list,label:pd.DataFrame):\n",
        "\n",
        "  items = []\n",
        "  for i in range(label.shape[0]):\n",
        "      item = {}\n",
        "      for j in range(len(dataset_names_list)):\n",
        "        item[dataset_names_list[j]] = dataset_to_multivalued_attribute(dataset_list[j].columns,dataset_list[j].shape[1],dataset_list[j].iloc[i])\n",
        "      item['argumentative'] = [label['argumentative'].iloc[i]]\n",
        "      items.append(item)\n",
        "\n",
        "  return items"
      ],
      "execution_count": null,
      "outputs": []
    },
    {
      "cell_type": "code",
      "metadata": {
        "id": "SELC0DwjDui1"
      },
      "source": [
        "# The method takes in input a dataframe containing the data from which to predict\n",
        "# the output and the output labels desired and returns, the label for the \n",
        "# test set, the probabilities of the predicted classes, and the global and local \n",
        "# explanations of which features are most usefoul in predicting the labels.\n",
        "\n",
        "def stc_procedure_multiple_dataset(dataset_list:list,dataset_names_list:list,label:pd.DataFrame):\n",
        "\n",
        "  items=dataset_list_to_JSON(dataset_list,dataset_names_list,label)\n",
        "\n",
        "  train_items,test_items=train_test_split(items,test_size=0.2, random_state=32)\n",
        "\n",
        "  STC = SparseTensorClassifier(targets=['argumentative'], features=dataset_names_list, collapse=False)\n",
        "\n",
        "  STC.fit(train_items)\n",
        "\n",
        "  STC.set({\"entropy\": 1, \"balance\": 0.7, \"power\": 1})\n",
        "\n",
        "  policy, score = STC.learn(max_iter=1, random_state=42)\n",
        "\n",
        "  global_explainability = STC.explain()\n",
        "\n",
        "  labels, probability, explainability = STC.predict(test_items)\n",
        "\n",
        "  ground_labels=[item['argumentative'][0] for item in test_items]\n",
        "\n",
        "  return ground_labels, global_explainability, labels, probability, explainability, policy"
      ],
      "execution_count": null,
      "outputs": []
    },
    {
      "cell_type": "code",
      "metadata": {
        "id": "ITVpLlHHE83b"
      },
      "source": [
        "accuracy_scores_multiple=[]\n",
        "f1_scores_multiple=[]\n",
        "precision_scores_multiple=[]\n",
        "recall_scores_multiple=[]"
      ],
      "execution_count": null,
      "outputs": []
    },
    {
      "cell_type": "markdown",
      "metadata": {
        "id": "hTNy9iT8pUdJ"
      },
      "source": [
        "## **BOW POS data**"
      ]
    },
    {
      "cell_type": "code",
      "metadata": {
        "id": "K7O394UypUdJ"
      },
      "source": [
        "dataframe_list=[statistic,POS,simple_POS]\n",
        "dataframe_names_list=['statistic','POS','simple_POS']"
      ],
      "execution_count": null,
      "outputs": []
    },
    {
      "cell_type": "code",
      "metadata": {
        "colab": {
          "base_uri": "https://localhost:8080/"
        },
        "id": "1rthQXE9pUdK",
        "outputId": "57fab620-e9d1-4d72-9792-6ef404191514"
      },
      "source": [
        "ground_labels, global_explainability_tabular, labels, _, _, policy=stc_procedure_multiple_dataset(dataframe_list,dataframe_names_list,true_labels)"
      ],
      "execution_count": null,
      "outputs": [
        {
          "output_type": "stream",
          "name": "stdout",
          "text": [
            ""
          ]
        }
      ]
    },
    {
      "cell_type": "code",
      "metadata": {
        "id": "_Ki2v8vrpUdL"
      },
      "source": [
        "accuracy=accuracy_score(ground_labels, labels)\n",
        "f1_score_value=f1_score(y_true=ground_labels, y_pred=labels, pos_label=\"True\")\n",
        "precision=precision_score(ground_labels, labels, pos_label=\"True\")\n",
        "recall=recall_score(ground_labels, labels, pos_label=\"True\")"
      ],
      "execution_count": null,
      "outputs": []
    },
    {
      "cell_type": "code",
      "metadata": {
        "id": "F_tY8c8mpUdL"
      },
      "source": [
        "accuracy_scores_multiple.append(accuracy)\n",
        "f1_scores_multiple.append(f1_score_value)\n",
        "precision_scores_multiple.append(precision)\n",
        "recall_scores_multiple.append(recall)"
      ],
      "execution_count": null,
      "outputs": []
    },
    {
      "cell_type": "code",
      "metadata": {
        "colab": {
          "base_uri": "https://localhost:8080/"
        },
        "id": "_-EW95F3pUdM",
        "outputId": "46a01404-baac-4097-a711-ad3256737b53"
      },
      "source": [
        "print('accuracy: {}'.format(accuracy))\n",
        "print('f1 score: {}'.format(f1_score_value))\n",
        "print('precision: {}'.format(precision))\n",
        "print('recall: {}'.format(recall))"
      ],
      "execution_count": null,
      "outputs": [
        {
          "output_type": "stream",
          "name": "stdout",
          "text": [
            "accuracy: 0.8788410886742757\n",
            "f1 score: 0.924918389553863\n",
            "precision: 0.9402654867256637\n",
            "recall: 0.9100642398286938\n"
          ]
        }
      ]
    },
    {
      "cell_type": "code",
      "metadata": {
        "colab": {
          "base_uri": "https://localhost:8080/"
        },
        "id": "yZt0Y0FPpUdM",
        "outputId": "73494770-db21-4c28-b9fa-268f08868de2"
      },
      "source": [
        "policy"
      ],
      "execution_count": null,
      "outputs": [
        {
          "output_type": "execute_result",
          "data": {
            "text/plain": [
              "[['statistic'], []]"
            ]
          },
          "metadata": {},
          "execution_count": 144
        }
      ]
    },
    {
      "cell_type": "code",
      "metadata": {
        "id": "UbKGfgf6pUdN",
        "colab": {
          "base_uri": "https://localhost:8080/"
        },
        "outputId": "cc124437-44ea-4ac4-da0b-01c132acc2d6"
      },
      "source": [
        "policy_set=[]\n",
        "\n",
        "for pol in policy:\n",
        "  policy_set+=pol\n",
        "\n",
        "policy_set=list(set(policy_set))\n",
        "\n",
        "for dataframe in dataframe_names_list:\n",
        "  if dataframe not in policy_set:\n",
        "    print(dataframe)"
      ],
      "execution_count": null,
      "outputs": [
        {
          "output_type": "stream",
          "name": "stdout",
          "text": [
            "POS\n",
            "simple_POS\n"
          ]
        }
      ]
    },
    {
      "cell_type": "markdown",
      "metadata": {
        "id": "BU9_zo_3PhR8"
      },
      "source": [
        "## **Bigram POS data**"
      ]
    },
    {
      "cell_type": "code",
      "metadata": {
        "id": "kBcaK7erPhR-"
      },
      "source": [
        "dataframe_list=[statistic,bigram_POS]\n",
        "dataframe_names_list=['statistic','bigram_POS']"
      ],
      "execution_count": null,
      "outputs": []
    },
    {
      "cell_type": "code",
      "metadata": {
        "colab": {
          "base_uri": "https://localhost:8080/"
        },
        "id": "Nr-zdaTxPhR-",
        "outputId": "185a81ef-d4b0-4516-fd55-84d21cc77ac0"
      },
      "source": [
        "ground_labels, global_explainability_tabular, labels, _, _, policy=stc_procedure_multiple_dataset(dataframe_list,dataframe_names_list,true_labels)"
      ],
      "execution_count": null,
      "outputs": [
        {
          "output_type": "stream",
          "name": "stdout",
          "text": [
            ""
          ]
        }
      ]
    },
    {
      "cell_type": "code",
      "metadata": {
        "id": "3IKtOGnFPhSA"
      },
      "source": [
        "accuracy=accuracy_score(ground_labels, labels)\n",
        "f1_score_value=f1_score(y_true=ground_labels, y_pred=labels, pos_label=\"True\")\n",
        "precision=precision_score(ground_labels, labels, pos_label=\"True\")\n",
        "recall=recall_score(ground_labels, labels, pos_label=\"True\")"
      ],
      "execution_count": null,
      "outputs": []
    },
    {
      "cell_type": "code",
      "metadata": {
        "id": "jpOduCNGPhSA"
      },
      "source": [
        "accuracy_scores_multiple.append(accuracy)\n",
        "f1_scores_multiple.append(f1_score_value)\n",
        "precision_scores_multiple.append(precision)\n",
        "recall_scores_multiple.append(recall)"
      ],
      "execution_count": null,
      "outputs": []
    },
    {
      "cell_type": "code",
      "metadata": {
        "colab": {
          "base_uri": "https://localhost:8080/"
        },
        "id": "hJNHdQEyPhSB",
        "outputId": "a68ed7bb-12dc-4b0e-d412-e1ebcc8dad23"
      },
      "source": [
        "print('accuracy: {}'.format(accuracy))\n",
        "print('f1 score: {}'.format(f1_score_value))\n",
        "print('precision: {}'.format(precision))\n",
        "print('recall: {}'.format(recall))"
      ],
      "execution_count": null,
      "outputs": [
        {
          "output_type": "stream",
          "name": "stdout",
          "text": [
            "accuracy: 0.8788410886742757\n",
            "f1 score: 0.924918389553863\n",
            "precision: 0.9402654867256637\n",
            "recall: 0.9100642398286938\n"
          ]
        }
      ]
    },
    {
      "cell_type": "code",
      "metadata": {
        "colab": {
          "base_uri": "https://localhost:8080/"
        },
        "id": "UiSnEwTjPhSC",
        "outputId": "9d62eda4-c22d-448d-ba7c-89bcde2c8cf4"
      },
      "source": [
        "policy"
      ],
      "execution_count": null,
      "outputs": [
        {
          "output_type": "execute_result",
          "data": {
            "text/plain": [
              "[['statistic'], []]"
            ]
          },
          "metadata": {},
          "execution_count": 151
        }
      ]
    },
    {
      "cell_type": "code",
      "metadata": {
        "colab": {
          "base_uri": "https://localhost:8080/"
        },
        "id": "vaVzCy0xPhSC",
        "outputId": "8f7b5ed0-63e7-4b48-dc20-79533bed5555"
      },
      "source": [
        "policy_set=[]\n",
        "\n",
        "for pol in policy:\n",
        "  policy_set+=pol\n",
        "\n",
        "policy_set=list(set(policy_set))\n",
        "\n",
        "for dataframe in dataframe_names_list:\n",
        "  if dataframe not in policy_set:\n",
        "    print(dataframe)"
      ],
      "execution_count": null,
      "outputs": [
        {
          "output_type": "stream",
          "name": "stdout",
          "text": [
            "bigram_POS\n"
          ]
        }
      ]
    },
    {
      "cell_type": "markdown",
      "metadata": {
        "id": "wcfL5r33P1-R"
      },
      "source": [
        "## **simple POS data**"
      ]
    },
    {
      "cell_type": "code",
      "metadata": {
        "id": "wW1_g1ysP1-S"
      },
      "source": [
        "dataframe_list=[statistic,simple_POS,bigram_simple_POS]\n",
        "dataframe_names_list=['statistic','simple_POS','bigram_simple_POS']"
      ],
      "execution_count": null,
      "outputs": []
    },
    {
      "cell_type": "code",
      "metadata": {
        "colab": {
          "base_uri": "https://localhost:8080/"
        },
        "id": "GZ6YBS3jP1-T",
        "outputId": "ca17659e-7a0b-4e95-c2f0-1e33765cae14"
      },
      "source": [
        "ground_labels, global_explainability_tabular, labels, _, _, policy=stc_procedure_multiple_dataset(dataframe_list,dataframe_names_list,true_labels)"
      ],
      "execution_count": null,
      "outputs": [
        {
          "output_type": "stream",
          "name": "stdout",
          "text": [
            ""
          ]
        }
      ]
    },
    {
      "cell_type": "code",
      "metadata": {
        "id": "C7SMwNdtP1-U"
      },
      "source": [
        "accuracy=accuracy_score(ground_labels, labels)\n",
        "f1_score_value=f1_score(y_true=ground_labels, y_pred=labels, pos_label=\"True\")\n",
        "precision=precision_score(ground_labels, labels, pos_label=\"True\")\n",
        "recall=recall_score(ground_labels, labels, pos_label=\"True\")"
      ],
      "execution_count": null,
      "outputs": []
    },
    {
      "cell_type": "code",
      "metadata": {
        "id": "vNlIg2omP1-V"
      },
      "source": [
        "accuracy_scores_multiple.append(accuracy)\n",
        "f1_scores_multiple.append(f1_score_value)\n",
        "precision_scores_multiple.append(precision)\n",
        "recall_scores_multiple.append(recall)"
      ],
      "execution_count": null,
      "outputs": []
    },
    {
      "cell_type": "code",
      "metadata": {
        "colab": {
          "base_uri": "https://localhost:8080/"
        },
        "id": "0EoYrvaHP1-W",
        "outputId": "dafb0647-2de1-4f23-fd3c-23da40484d3b"
      },
      "source": [
        "print('accuracy: {}'.format(accuracy))\n",
        "print('f1 score: {}'.format(f1_score_value))\n",
        "print('precision: {}'.format(precision))\n",
        "print('recall: {}'.format(recall))"
      ],
      "execution_count": null,
      "outputs": [
        {
          "output_type": "stream",
          "name": "stdout",
          "text": [
            "accuracy: 0.8788410886742757\n",
            "f1 score: 0.924918389553863\n",
            "precision: 0.9402654867256637\n",
            "recall: 0.9100642398286938\n"
          ]
        }
      ]
    },
    {
      "cell_type": "code",
      "metadata": {
        "colab": {
          "base_uri": "https://localhost:8080/"
        },
        "id": "sa_9BV7qP1-W",
        "outputId": "0e124b28-3448-489f-c006-52a418b0ff32"
      },
      "source": [
        "policy"
      ],
      "execution_count": null,
      "outputs": [
        {
          "output_type": "execute_result",
          "data": {
            "text/plain": [
              "[['statistic'], []]"
            ]
          },
          "metadata": {},
          "execution_count": 158
        }
      ]
    },
    {
      "cell_type": "code",
      "metadata": {
        "id": "E_R-43nFP1-X",
        "colab": {
          "base_uri": "https://localhost:8080/"
        },
        "outputId": "cd39b9f3-8cde-4e23-e007-1ec53dba72f6"
      },
      "source": [
        "policy_set=[]\n",
        "\n",
        "for pol in policy:\n",
        "  policy_set+=pol\n",
        "\n",
        "policy_set=list(set(policy_set))\n",
        "\n",
        "for dataframe in dataframe_names_list:\n",
        "  if dataframe not in policy_set:\n",
        "    print(dataframe)"
      ],
      "execution_count": null,
      "outputs": [
        {
          "output_type": "stream",
          "name": "stdout",
          "text": [
            "simple_POS\n",
            "bigram_simple_POS\n"
          ]
        }
      ]
    },
    {
      "cell_type": "markdown",
      "metadata": {
        "id": "qTgEFwu_Gn10"
      },
      "source": [
        "## **BOW data**"
      ]
    },
    {
      "cell_type": "code",
      "metadata": {
        "id": "EVo5dttGGn11"
      },
      "source": [
        "dataframe_list=[statistic,BOW]\n",
        "dataframe_names_list=['statistic','BOW']"
      ],
      "execution_count": null,
      "outputs": []
    },
    {
      "cell_type": "code",
      "metadata": {
        "colab": {
          "base_uri": "https://localhost:8080/"
        },
        "id": "tC0eamzJGn12",
        "outputId": "8cab9ecc-eec8-47cc-a393-4357484b7189"
      },
      "source": [
        "ground_labels, global_explainability_tabular, labels, _, _, policy=stc_procedure_multiple_dataset(dataframe_list,dataframe_names_list,true_labels)"
      ],
      "execution_count": null,
      "outputs": [
        {
          "output_type": "stream",
          "name": "stdout",
          "text": [
            ""
          ]
        }
      ]
    },
    {
      "cell_type": "code",
      "metadata": {
        "id": "8VjhuCAtGn12"
      },
      "source": [
        "accuracy=accuracy_score(ground_labels, labels)\n",
        "f1_score_value=f1_score(y_true=ground_labels, y_pred=labels, pos_label=\"True\")\n",
        "precision=precision_score(ground_labels, labels, pos_label=\"True\")\n",
        "recall=recall_score(ground_labels, labels, pos_label=\"True\")"
      ],
      "execution_count": null,
      "outputs": []
    },
    {
      "cell_type": "code",
      "metadata": {
        "id": "xDZ0ANnGGn13"
      },
      "source": [
        "accuracy_scores_multiple.append(accuracy)\n",
        "f1_scores_multiple.append(f1_score_value)\n",
        "precision_scores_multiple.append(precision)\n",
        "recall_scores_multiple.append(recall)"
      ],
      "execution_count": null,
      "outputs": []
    },
    {
      "cell_type": "code",
      "metadata": {
        "colab": {
          "base_uri": "https://localhost:8080/"
        },
        "id": "wjoZpSBrGn14",
        "outputId": "9c5fbcdd-2fc4-4c15-d48b-4a6bbdfeb107"
      },
      "source": [
        "print('accuracy: {}'.format(accuracy))\n",
        "print('f1 score: {}'.format(f1_score_value))\n",
        "print('precision: {}'.format(precision))\n",
        "print('recall: {}'.format(recall))"
      ],
      "execution_count": null,
      "outputs": [
        {
          "output_type": "stream",
          "name": "stdout",
          "text": [
            "accuracy: 0.8788410886742757\n",
            "f1 score: 0.924918389553863\n",
            "precision: 0.9402654867256637\n",
            "recall: 0.9100642398286938\n"
          ]
        }
      ]
    },
    {
      "cell_type": "code",
      "metadata": {
        "colab": {
          "base_uri": "https://localhost:8080/"
        },
        "id": "L3XhK9VAGn14",
        "outputId": "a8fe4b30-b286-479f-d58b-ef25aa5bca30"
      },
      "source": [
        "policy"
      ],
      "execution_count": null,
      "outputs": [
        {
          "output_type": "execute_result",
          "data": {
            "text/plain": [
              "[['statistic'], []]"
            ]
          },
          "metadata": {},
          "execution_count": 165
        }
      ]
    },
    {
      "cell_type": "code",
      "metadata": {
        "colab": {
          "base_uri": "https://localhost:8080/"
        },
        "id": "8YfqeEENGn15",
        "outputId": "726f3773-f114-4a39-b74b-e017214db04d"
      },
      "source": [
        "policy_set=[]\n",
        "\n",
        "for pol in policy:\n",
        "  policy_set+=pol\n",
        "\n",
        "policy_set=list(set(policy_set))\n",
        "\n",
        "for dataframe in dataframe_names_list:\n",
        "  if dataframe not in policy_set:\n",
        "    print(dataframe)"
      ],
      "execution_count": null,
      "outputs": [
        {
          "output_type": "stream",
          "name": "stdout",
          "text": [
            "BOW\n"
          ]
        }
      ]
    },
    {
      "cell_type": "markdown",
      "metadata": {
        "id": "KqS5rtI4qCpL"
      },
      "source": [
        "## **Bigram data**"
      ]
    },
    {
      "cell_type": "code",
      "metadata": {
        "id": "oeA2UipvqCpM"
      },
      "source": [
        "dataframe_list=[statistic,Bigram]\n",
        "dataframe_names_list=['statistic','Bigram']"
      ],
      "execution_count": null,
      "outputs": []
    },
    {
      "cell_type": "code",
      "metadata": {
        "colab": {
          "base_uri": "https://localhost:8080/"
        },
        "id": "S8uVxGhDqCpM",
        "outputId": "a9639d67-7e57-48c8-9e9e-89e63da2a82a"
      },
      "source": [
        "ground_labels, global_explainability_tabular, labels, _, _, policy=stc_procedure_multiple_dataset(dataframe_list,dataframe_names_list,true_labels)"
      ],
      "execution_count": null,
      "outputs": [
        {
          "output_type": "stream",
          "name": "stdout",
          "text": [
            ""
          ]
        }
      ]
    },
    {
      "cell_type": "code",
      "metadata": {
        "id": "ft86vwy3qCpM"
      },
      "source": [
        "accuracy=accuracy_score(ground_labels, labels)\n",
        "f1_score_value=f1_score(y_true=ground_labels, y_pred=labels, pos_label=\"True\")\n",
        "precision=precision_score(ground_labels, labels, pos_label=\"True\")\n",
        "recall=recall_score(ground_labels, labels, pos_label=\"True\")"
      ],
      "execution_count": null,
      "outputs": []
    },
    {
      "cell_type": "code",
      "metadata": {
        "id": "P5aKvV7nqCpM"
      },
      "source": [
        "accuracy_scores_multiple.append(accuracy)\n",
        "f1_scores_multiple.append(f1_score_value)\n",
        "precision_scores_multiple.append(precision)\n",
        "recall_scores_multiple.append(recall)"
      ],
      "execution_count": null,
      "outputs": []
    },
    {
      "cell_type": "code",
      "metadata": {
        "colab": {
          "base_uri": "https://localhost:8080/"
        },
        "id": "lHhXMH1cqCpM",
        "outputId": "f1e7083e-3a9c-4862-82aa-d32bac8c7853"
      },
      "source": [
        "print('accuracy: {}'.format(accuracy))\n",
        "print('f1 score: {}'.format(f1_score_value))\n",
        "print('precision: {}'.format(precision))\n",
        "print('recall: {}'.format(recall))"
      ],
      "execution_count": null,
      "outputs": [
        {
          "output_type": "stream",
          "name": "stdout",
          "text": [
            "accuracy: 0.8788410886742757\n",
            "f1 score: 0.924918389553863\n",
            "precision: 0.9402654867256637\n",
            "recall: 0.9100642398286938\n"
          ]
        }
      ]
    },
    {
      "cell_type": "code",
      "metadata": {
        "colab": {
          "base_uri": "https://localhost:8080/"
        },
        "id": "hGmPcYLvqCpM",
        "outputId": "56065480-f8e3-4049-998e-596459b62d25"
      },
      "source": [
        "policy"
      ],
      "execution_count": null,
      "outputs": [
        {
          "output_type": "execute_result",
          "data": {
            "text/plain": [
              "[['Bigram', 'statistic'], ['statistic'], []]"
            ]
          },
          "metadata": {},
          "execution_count": 172
        }
      ]
    },
    {
      "cell_type": "code",
      "metadata": {
        "id": "-MO6Eia2qCpM"
      },
      "source": [
        "policy_set=[]\n",
        "\n",
        "for pol in policy:\n",
        "  policy_set+=pol\n",
        "\n",
        "policy_set=list(set(policy_set))\n",
        "\n",
        "for dataframe in dataframe_names_list:\n",
        "  if dataframe not in policy_set:\n",
        "    print(dataframe)"
      ],
      "execution_count": null,
      "outputs": []
    },
    {
      "cell_type": "markdown",
      "metadata": {
        "id": "pQQ7mOkpqjtX"
      },
      "source": [
        "## **Imported n-gram data**"
      ]
    },
    {
      "cell_type": "code",
      "metadata": {
        "id": "quvRiONVqjtY"
      },
      "source": [
        "dataframe_list=[statistic,imported_ngram]\n",
        "dataframe_names_list=['statistic','imported_ngram']"
      ],
      "execution_count": null,
      "outputs": []
    },
    {
      "cell_type": "code",
      "metadata": {
        "colab": {
          "base_uri": "https://localhost:8080/"
        },
        "id": "5Y4eDKiiqjtY",
        "outputId": "ae2ad549-e81a-4acc-968d-2dc91a093527"
      },
      "source": [
        "ground_labels, global_explainability_tabular, labels, _, _, policy=stc_procedure_multiple_dataset(dataframe_list,dataframe_names_list,true_labels)"
      ],
      "execution_count": null,
      "outputs": [
        {
          "output_type": "stream",
          "name": "stdout",
          "text": [
            ""
          ]
        }
      ]
    },
    {
      "cell_type": "code",
      "metadata": {
        "id": "FNu2W2JmqjtY"
      },
      "source": [
        "accuracy=accuracy_score(ground_labels, labels)\n",
        "f1_score_value=f1_score(y_true=ground_labels, y_pred=labels, pos_label=\"True\")\n",
        "precision=precision_score(ground_labels, labels, pos_label=\"True\")\n",
        "recall=recall_score(ground_labels, labels, pos_label=\"True\")"
      ],
      "execution_count": null,
      "outputs": []
    },
    {
      "cell_type": "code",
      "metadata": {
        "id": "7SHdPpO_qjtY"
      },
      "source": [
        "accuracy_scores_multiple.append(accuracy)\n",
        "f1_scores_multiple.append(f1_score_value)\n",
        "precision_scores_multiple.append(precision)\n",
        "recall_scores_multiple.append(recall)"
      ],
      "execution_count": null,
      "outputs": []
    },
    {
      "cell_type": "code",
      "metadata": {
        "colab": {
          "base_uri": "https://localhost:8080/"
        },
        "id": "CCCWmQzbqjtY",
        "outputId": "e5f0bae7-0958-4fda-d2a3-c8a73cb46cb7"
      },
      "source": [
        "print('accuracy: {}'.format(accuracy))\n",
        "print('f1 score: {}'.format(f1_score_value))\n",
        "print('precision: {}'.format(precision))\n",
        "print('recall: {}'.format(recall))"
      ],
      "execution_count": null,
      "outputs": [
        {
          "output_type": "stream",
          "name": "stdout",
          "text": [
            "accuracy: 0.8788410886742757\n",
            "f1 score: 0.924918389553863\n",
            "precision: 0.9402654867256637\n",
            "recall: 0.9100642398286938\n"
          ]
        }
      ]
    },
    {
      "cell_type": "code",
      "metadata": {
        "colab": {
          "base_uri": "https://localhost:8080/"
        },
        "id": "4ELxEQIxqjtY",
        "outputId": "266b292a-1ef5-4df1-90ea-d07e8b1ae714"
      },
      "source": [
        "policy"
      ],
      "execution_count": null,
      "outputs": [
        {
          "output_type": "execute_result",
          "data": {
            "text/plain": [
              "[['statistic'], []]"
            ]
          },
          "metadata": {},
          "execution_count": 179
        }
      ]
    },
    {
      "cell_type": "code",
      "metadata": {
        "colab": {
          "base_uri": "https://localhost:8080/"
        },
        "id": "cLbcW4GmqjtY",
        "outputId": "225760aa-3b79-434f-f437-bd789200662a"
      },
      "source": [
        "policy_set=[]\n",
        "\n",
        "for pol in policy:\n",
        "  policy_set+=pol\n",
        "\n",
        "policy_set=list(set(policy_set))\n",
        "\n",
        "for dataframe in dataframe_names_list:\n",
        "  if dataframe not in policy_set:\n",
        "    print(dataframe)"
      ],
      "execution_count": null,
      "outputs": [
        {
          "output_type": "stream",
          "name": "stdout",
          "text": [
            "imported_ngram\n"
          ]
        }
      ]
    },
    {
      "cell_type": "markdown",
      "metadata": {
        "id": "G0LsJbVXH02n"
      },
      "source": [
        "## **Dependency data**"
      ]
    },
    {
      "cell_type": "code",
      "metadata": {
        "id": "t-NtYIVhH02p"
      },
      "source": [
        "dataframe_list=[statistic,dependency, dependency_tree_stat]\n",
        "dataframe_names_list=['statistic','dependency','dependency_tree_stat']"
      ],
      "execution_count": null,
      "outputs": []
    },
    {
      "cell_type": "code",
      "metadata": {
        "colab": {
          "base_uri": "https://localhost:8080/"
        },
        "id": "p1k5pJp6H02p",
        "outputId": "7daf688b-0ca3-4f0c-dcd5-7a3d863860c9"
      },
      "source": [
        "ground_labels, global_explainability_tabular, labels, _, _, policy=stc_procedure_multiple_dataset(dataframe_list,dataframe_names_list,true_labels)"
      ],
      "execution_count": null,
      "outputs": [
        {
          "output_type": "stream",
          "name": "stdout",
          "text": [
            ""
          ]
        }
      ]
    },
    {
      "cell_type": "code",
      "metadata": {
        "id": "0OiqmhTtH02q"
      },
      "source": [
        "accuracy=accuracy_score(ground_labels, labels)\n",
        "f1_score_value=f1_score(y_true=ground_labels, y_pred=labels, pos_label=\"True\")\n",
        "precision=precision_score(ground_labels, labels, pos_label=\"True\")\n",
        "recall=recall_score(ground_labels, labels, pos_label=\"True\")"
      ],
      "execution_count": null,
      "outputs": []
    },
    {
      "cell_type": "code",
      "metadata": {
        "id": "uezKugXtH02r"
      },
      "source": [
        "accuracy_scores_multiple.append(accuracy)\n",
        "f1_scores_multiple.append(f1_score_value)\n",
        "precision_scores_multiple.append(precision)\n",
        "recall_scores_multiple.append(recall)"
      ],
      "execution_count": null,
      "outputs": []
    },
    {
      "cell_type": "code",
      "metadata": {
        "colab": {
          "base_uri": "https://localhost:8080/"
        },
        "id": "UOM9WHgOH02r",
        "outputId": "39d8b4c6-7ddd-4528-d95f-74784e15341a"
      },
      "source": [
        "print('accuracy: {}'.format(accuracy))\n",
        "print('f1 score: {}'.format(f1_score_value))\n",
        "print('precision: {}'.format(precision))\n",
        "print('recall: {}'.format(recall))"
      ],
      "execution_count": null,
      "outputs": [
        {
          "output_type": "stream",
          "name": "stdout",
          "text": [
            "accuracy: 0.874451273046532\n",
            "f1 score: 0.9218151995626025\n",
            "precision: 0.9418994413407821\n",
            "recall: 0.9025695931477516\n"
          ]
        }
      ]
    },
    {
      "cell_type": "code",
      "metadata": {
        "colab": {
          "base_uri": "https://localhost:8080/"
        },
        "id": "_XXvy5IzH02s",
        "outputId": "3a25eb85-15fe-4482-cb64-22b31ed7f7b9"
      },
      "source": [
        "policy"
      ],
      "execution_count": null,
      "outputs": [
        {
          "output_type": "execute_result",
          "data": {
            "text/plain": [
              "[['dependency', 'dependency_tree_stat', 'statistic'],\n",
              " ['dependency_tree_stat', 'statistic'],\n",
              " ['statistic'],\n",
              " []]"
            ]
          },
          "metadata": {},
          "execution_count": 186
        }
      ]
    },
    {
      "cell_type": "code",
      "metadata": {
        "id": "miG3yk9DH02s"
      },
      "source": [
        "policy_set=[]\n",
        "\n",
        "for pol in policy:\n",
        "  policy_set+=pol\n",
        "\n",
        "policy_set=list(set(policy_set))\n",
        "\n",
        "for dataframe in dataframe_names_list:\n",
        "  if dataframe not in policy_set:\n",
        "    print(dataframe)"
      ],
      "execution_count": null,
      "outputs": []
    },
    {
      "cell_type": "markdown",
      "metadata": {
        "id": "XqJ-WqaxHFgl"
      },
      "source": [
        "## **Named entity data**"
      ]
    },
    {
      "cell_type": "code",
      "metadata": {
        "id": "fzwVOyv2HFgm"
      },
      "source": [
        "dataframe_list=[statistic,named_entity]\n",
        "dataframe_names_list=['satistic', 'named_entity']"
      ],
      "execution_count": null,
      "outputs": []
    },
    {
      "cell_type": "code",
      "metadata": {
        "colab": {
          "base_uri": "https://localhost:8080/"
        },
        "id": "JvMaTg-KHFgn",
        "outputId": "f125468d-77d7-4ae7-a1bb-ad68f4d2007b"
      },
      "source": [
        "ground_labels, global_explainability_tabular, labels, _, _, policy=stc_procedure_multiple_dataset(dataframe_list,dataframe_names_list,true_labels)"
      ],
      "execution_count": null,
      "outputs": [
        {
          "output_type": "stream",
          "name": "stdout",
          "text": [
            ""
          ]
        }
      ]
    },
    {
      "cell_type": "code",
      "metadata": {
        "id": "ZjnB0vLEHFgo"
      },
      "source": [
        "accuracy=accuracy_score(ground_labels, labels)\n",
        "f1_score_value=f1_score(y_true=ground_labels, y_pred=labels, pos_label=\"True\")\n",
        "precision=precision_score(ground_labels, labels, pos_label=\"True\")\n",
        "recall=recall_score(ground_labels, labels, pos_label=\"True\")"
      ],
      "execution_count": null,
      "outputs": []
    },
    {
      "cell_type": "code",
      "metadata": {
        "id": "UgwG4XFCHFgo"
      },
      "source": [
        "accuracy_scores_multiple.append(accuracy)\n",
        "f1_scores_multiple.append(f1_score_value)\n",
        "precision_scores_multiple.append(precision)\n",
        "recall_scores_multiple.append(recall)"
      ],
      "execution_count": null,
      "outputs": []
    },
    {
      "cell_type": "code",
      "metadata": {
        "colab": {
          "base_uri": "https://localhost:8080/"
        },
        "id": "r8jioajDHFgp",
        "outputId": "166c201b-e813-444e-f32d-ac0cfb0dcb05"
      },
      "source": [
        "print('accuracy: {}'.format(accuracy))\n",
        "print('f1 score: {}'.format(f1_score_value))\n",
        "print('precision: {}'.format(precision))\n",
        "print('recall: {}'.format(recall))"
      ],
      "execution_count": null,
      "outputs": [
        {
          "output_type": "stream",
          "name": "stdout",
          "text": [
            "accuracy: 0.8788410886742757\n",
            "f1 score: 0.924918389553863\n",
            "precision: 0.9402654867256637\n",
            "recall: 0.9100642398286938\n"
          ]
        }
      ]
    },
    {
      "cell_type": "code",
      "metadata": {
        "colab": {
          "base_uri": "https://localhost:8080/"
        },
        "id": "L6rbSgN2HFgq",
        "outputId": "086e902d-bdb0-4d9e-cdf7-25c574d0e1ae"
      },
      "source": [
        "policy"
      ],
      "execution_count": null,
      "outputs": [
        {
          "output_type": "execute_result",
          "data": {
            "text/plain": [
              "[['satistic'], []]"
            ]
          },
          "metadata": {},
          "execution_count": 193
        }
      ]
    },
    {
      "cell_type": "code",
      "metadata": {
        "colab": {
          "base_uri": "https://localhost:8080/"
        },
        "id": "dvb6z7p-HFgq",
        "outputId": "5e46b77b-914c-498c-deaf-a173e5448987"
      },
      "source": [
        "policy_set=[]\n",
        "\n",
        "for pol in policy:\n",
        "  policy_set+=pol\n",
        "\n",
        "policy_set=list(set(policy_set))\n",
        "\n",
        "for dataframe in dataframe_names_list:\n",
        "  if dataframe not in policy_set:\n",
        "    print(dataframe)"
      ],
      "execution_count": null,
      "outputs": [
        {
          "output_type": "stream",
          "name": "stdout",
          "text": [
            "named_entity\n"
          ]
        }
      ]
    },
    {
      "cell_type": "markdown",
      "metadata": {
        "id": "mzWTpHXIrHOK"
      },
      "source": [
        "## **Subjectivity data**"
      ]
    },
    {
      "cell_type": "code",
      "metadata": {
        "id": "_FESwoQmrHOK"
      },
      "source": [
        "dataframe_list=[statistic,others]\n",
        "dataframe_names_list=['statistic','subjectivity']"
      ],
      "execution_count": null,
      "outputs": []
    },
    {
      "cell_type": "code",
      "metadata": {
        "colab": {
          "base_uri": "https://localhost:8080/"
        },
        "id": "mWFk5tr6rHOK",
        "outputId": "fa34fdea-f70e-4cea-a521-5901f794efc4"
      },
      "source": [
        "ground_labels, global_explainability_tabular, labels, _, _, policy=stc_procedure_multiple_dataset(dataframe_list,dataframe_names_list,true_labels)"
      ],
      "execution_count": null,
      "outputs": [
        {
          "output_type": "stream",
          "name": "stdout",
          "text": [
            ""
          ]
        }
      ]
    },
    {
      "cell_type": "code",
      "metadata": {
        "id": "S5OfFQBMrHOK"
      },
      "source": [
        "accuracy=accuracy_score(ground_labels, labels)\n",
        "f1_score_value=f1_score(y_true=ground_labels, y_pred=labels, pos_label=\"True\")\n",
        "precision=precision_score(ground_labels, labels, pos_label=\"True\")\n",
        "recall=recall_score(ground_labels, labels, pos_label=\"True\")"
      ],
      "execution_count": null,
      "outputs": []
    },
    {
      "cell_type": "code",
      "metadata": {
        "id": "b95mvJtSrHOK"
      },
      "source": [
        "accuracy_scores_multiple.append(accuracy)\n",
        "f1_scores_multiple.append(f1_score_value)\n",
        "precision_scores_multiple.append(precision)\n",
        "recall_scores_multiple.append(recall)"
      ],
      "execution_count": null,
      "outputs": []
    },
    {
      "cell_type": "code",
      "metadata": {
        "colab": {
          "base_uri": "https://localhost:8080/"
        },
        "id": "TBL_GhlqrHOL",
        "outputId": "44279bca-f171-43ad-b9a1-4c7171337167"
      },
      "source": [
        "print('accuracy: {}'.format(accuracy))\n",
        "print('f1 score: {}'.format(f1_score_value))\n",
        "print('precision: {}'.format(precision))\n",
        "print('recall: {}'.format(recall))"
      ],
      "execution_count": null,
      "outputs": [
        {
          "output_type": "stream",
          "name": "stdout",
          "text": [
            "accuracy: 0.8788410886742757\n",
            "f1 score: 0.924918389553863\n",
            "precision: 0.9402654867256637\n",
            "recall: 0.9100642398286938\n"
          ]
        }
      ]
    },
    {
      "cell_type": "code",
      "metadata": {
        "colab": {
          "base_uri": "https://localhost:8080/"
        },
        "id": "Nk_g112IrHOL",
        "outputId": "4850a87f-17eb-4d1d-b168-feab7d6f4144"
      },
      "source": [
        "policy"
      ],
      "execution_count": null,
      "outputs": [
        {
          "output_type": "execute_result",
          "data": {
            "text/plain": [
              "[['statistic'], []]"
            ]
          },
          "metadata": {},
          "execution_count": 200
        }
      ]
    },
    {
      "cell_type": "code",
      "metadata": {
        "id": "F6q7FzzUrHOL",
        "colab": {
          "base_uri": "https://localhost:8080/"
        },
        "outputId": "a6c265a1-b0af-42fc-bed2-dcfcfba6ea6b"
      },
      "source": [
        "policy_set=[]\n",
        "\n",
        "for pol in policy:\n",
        "  policy_set+=pol\n",
        "\n",
        "policy_set=list(set(policy_set))\n",
        "\n",
        "for dataframe in dataframe_names_list:\n",
        "  if dataframe not in policy_set:\n",
        "    print(dataframe)"
      ],
      "execution_count": null,
      "outputs": [
        {
          "output_type": "stream",
          "name": "stdout",
          "text": [
            "subjectivity\n"
          ]
        }
      ]
    },
    {
      "cell_type": "markdown",
      "metadata": {
        "id": "A9pwkRNN55Ok"
      },
      "source": [
        "# **Graph**"
      ]
    },
    {
      "cell_type": "code",
      "metadata": {
        "id": "a2UHRzwaK6x0"
      },
      "source": [
        "score={}\n",
        "debater_score={}\n",
        "\n",
        "score[\"Accuracy\"]=accuracy_scores\n",
        "score[\"F1 score\"]=f1_scores\n",
        "score[\"Precision\"]=precision_scores\n",
        "score[\"Recall\"]=recall_scores\n",
        "debater_score[\"Debater recall\"]=debater_recall_scores"
      ],
      "execution_count": null,
      "outputs": []
    },
    {
      "cell_type": "code",
      "metadata": {
        "id": "W5qkuBU_tvrZ"
      },
      "source": [
        "plt.rcParams.update({'font.size': 18})"
      ],
      "execution_count": null,
      "outputs": []
    },
    {
      "cell_type": "code",
      "metadata": {
        "colab": {
          "base_uri": "https://localhost:8080/"
        },
        "id": "rgNA9Ln9Ivub",
        "outputId": "697ead71-ec24-42aa-bb1f-83500dfa263b"
      },
      "source": [
        "# Draw the plots of the performance for the various dataset.\n",
        "\n",
        "# Width of the bars for the graphs to draw.\n",
        "barWidth = 0.35\n",
        "\n",
        "# Plot the bar graphs.\n",
        "fig, axes = plt.subplots(nrows=4, ncols=1, figsize=(15, 20))\n",
        "fig.tight_layout(pad=8.0)\n",
        "data_names=[\"Stat.\",\"POS\",\"S-POS\",\"S-POS-B\",\"Dep.\", \"Dep. stat.\",\"BOW\"]\n",
        "rows=[\"Accuracy\",\"F1 score\",\"Precision\",\"Recall\"]\n",
        "\n",
        "for row,axis in zip(rows,axes.flatten()):\n",
        "    axis.set_title(row)\n",
        "\n",
        "    # Location of labels on the x axis.\n",
        "    x_labels = np.arange(len(data_names))\n",
        "\n",
        "    # Create the bars.\n",
        "    axis.bar(x_labels, score[row], width = barWidth, color = 'blue', edgecolor = 'black', capsize=6)\n",
        "\n",
        "    # Lable the axis.\n",
        "    axis.set_xlabel(\"\\nTipologie di dati\")\n",
        "    axis.set_xticks(x_labels)\n",
        "    axis.set_xticklabels(data_names)\n",
        "    axis.set_ylabel(row)\n",
        "\n",
        "plt.show()  "
      ],
      "execution_count": null,
      "outputs": [
        {
          "output_type": "display_data",
          "data": {
            "image/png": "[encoded data removed]",
            "text/plain": [
              "<Figure size 1080x1440 with 4 Axes>"
            ]
          },
          "metadata": {
            "needs_background": "light"
          }
        }
      ]
    },
    {
      "cell_type": "code",
      "metadata": {
        "colab": {
          "base_uri": "https://localhost:8080/"
        },
        "id": "amjEJYtfu68i",
        "outputId": "4208e2e7-9265-4811-b5d8-490dc3ecbb6f"
      },
      "source": [
        "# Draw the plots of the performance for the various dataset.\n",
        "\n",
        "# Width of the bars for the graphs to draw.\n",
        "barWidth = 0.35\n",
        "\n",
        "# Plot the bar graphs.\n",
        "fig, axes = plt.subplots(nrows=2, ncols=2, figsize=(22, 12))\n",
        "fig.tight_layout(pad=5.0)\n",
        "data_names=[\"Stat.\",\"POS\",\"S-POS\",\"S-POS-B\",\"Dep.\", \"Dep. stat.\",\"BOW\"]\n",
        "rows=[\"Accuracy\",\"F1 score\",\"Precision\",\"Recall\"]\n",
        "\n",
        "for row,axis in zip(rows,axes.flatten()):\n",
        "    axis.set_title(row)\n",
        "\n",
        "    # Location of labels on the x axis.\n",
        "    x_labels = np.arange(len(data_names))\n",
        "\n",
        "    # Create the bars.\n",
        "    axis.bar(x_labels, score[row], width = barWidth, color = 'blue', edgecolor = 'black', capsize=6)\n",
        "\n",
        "    # Lable the axis.\n",
        "    axis.set_xlabel(\"\\nTipologie di dati\")\n",
        "    axis.set_xticks(x_labels)\n",
        "    axis.set_xticklabels(data_names)\n",
        "    axis.set_ylabel(row)\n",
        "\n",
        "plt.show()  "
      ],
      "execution_count": null,
      "outputs": [
        {
          "output_type": "display_data",
          "data": {
            "image/png": "[encoded data removed]",
            "text/plain": [
              "<Figure size 1584x864 with 4 Axes>"
            ]
          },
          "metadata": {
            "needs_background": "light"
          }
        }
      ]
    },
    {
      "cell_type": "code",
      "metadata": {
        "colab": {
          "base_uri": "https://localhost:8080/"
        },
        "id": "SDHUN8OmNcmr",
        "outputId": "77ab1842-b8d5-432f-9cc7-fddb8e07e203"
      },
      "source": [
        "# Plot the bar graphs.\n",
        "fig, axes = plt.subplots(nrows=1, ncols=1, figsize=(15, 6))\n",
        "data_names=[\"Stat.\",\"POS\",\"S-POS\",\"S-POS-B\",\"Dep.\", \"Dep. stat.\",\"BOW\"]\n",
        "\n",
        "axes.set_title(row)\n",
        "\n",
        "# Location of labels on the x axis.\n",
        "x_labels = np.arange(len(data_names))\n",
        "\n",
        "# Create the bars.\n",
        "axes.bar(x_labels, debater_score[\"Debater recall\"], width = barWidth, color = 'blue', edgecolor = 'black', capsize=7)\n",
        "\n",
        "# Lable the axis.\n",
        "axes.set_xlabel(\"\\nTipologie di dati\")\n",
        "axes.set_xticks(x_labels)\n",
        "axes.set_xticklabels(data_names)\n",
        "axes.set_ylabel(row)\n",
        "\n",
        "plt.show()  "
      ],
      "execution_count": null,
      "outputs": [
        {
          "output_type": "display_data",
          "data": {
            "image/png": "[encoded data removed]",
            "text/plain": [
              "<Figure size 1080x432 with 1 Axes>"
            ]
          },
          "metadata": {
            "needs_background": "light"
          }
        }
      ]
    }
  ]
}