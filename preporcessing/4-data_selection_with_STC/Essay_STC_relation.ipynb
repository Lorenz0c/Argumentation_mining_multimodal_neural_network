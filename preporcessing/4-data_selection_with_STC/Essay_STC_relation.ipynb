{
  "nbformat": 4,
  "nbformat_minor": 0,
  "metadata": {
    "colab": {
      "name": "Essay_STC_relation.ipynb",
      "provenance": [],
      "collapsed_sections": [
        "qTgEFwu_Gn10",
        "KqS5rtI4qCpL",
        "G0LsJbVXH02n"
      ]
    },
    "kernelspec": {
      "name": "python3",
      "display_name": "Python 3"
    },
    "language_info": {
      "name": "python"
    }
  },
  "cells": [
    {
      "cell_type": "code",
      "metadata": {
        "colab": {
          "base_uri": "https://localhost:8080/"
        },
        "id": "ZNbhBNubw7MK",
        "outputId": "90627d22-d93d-4bb2-f5ca-489c5aa4bbfa"
      },
      "source": [
        "pip install stc"
      ],
      "execution_count": null,
      "outputs": [
        {
          "output_type": "stream",
          "name": "stdout",
          "text": [
            "Collecting stc\n",
            "  Downloading stc-0.3.1-py3-none-any.whl (33 kB)\n",
            "Requirement already satisfied: pandas in /usr/local/lib/python3.7/dist-packages (from stc) (1.1.5)\n",
            "Requirement already satisfied: sqlalchemy in /usr/local/lib/python3.7/dist-packages (from stc) (1.4.26)\n",
            "Requirement already satisfied: numpy in /usr/local/lib/python3.7/dist-packages (from stc) (1.19.5)\n",
            "Requirement already satisfied: pytz>=2017.2 in /usr/local/lib/python3.7/dist-packages (from pandas->stc) (2018.9)\n",
            "Requirement already satisfied: python-dateutil>=2.7.3 in /usr/local/lib/python3.7/dist-packages (from pandas->stc) (2.8.2)\n",
            "Requirement already satisfied: six>=1.5 in /usr/local/lib/python3.7/dist-packages (from python-dateutil>=2.7.3->pandas->stc) (1.15.0)\n",
            "Requirement already satisfied: greenlet!=0.4.17 in /usr/local/lib/python3.7/dist-packages (from sqlalchemy->stc) (1.1.2)\n",
            "Requirement already satisfied: importlib-metadata in /usr/local/lib/python3.7/dist-packages (from sqlalchemy->stc) (4.8.2)\n",
            "Requirement already satisfied: typing-extensions>=3.6.4 in /usr/local/lib/python3.7/dist-packages (from importlib-metadata->sqlalchemy->stc) (3.10.0.2)\n",
            "Requirement already satisfied: zipp>=0.5 in /usr/local/lib/python3.7/dist-packages (from importlib-metadata->sqlalchemy->stc) (3.6.0)\n",
            "Installing collected packages: stc\n",
            "Successfully installed stc-0.3.1\n"
          ]
        }
      ]
    },
    {
      "cell_type": "code",
      "metadata": {
        "id": "xEMbAmz7w8NG"
      },
      "source": [
        "import pandas as pd\n",
        "import numpy as np\n",
        "from matplotlib import pyplot as plt\n",
        "import math\n",
        "\n",
        "from stc import SparseTensorClassifier\n",
        "\n",
        "from google.colab import files\n",
        "\n",
        "from sklearn.model_selection import train_test_split\n",
        "from sklearn.metrics import accuracy_score\n",
        "from sklearn.metrics import f1_score, recall_score, precision_score"
      ],
      "execution_count": null,
      "outputs": []
    },
    {
      "cell_type": "markdown",
      "metadata": {
        "id": "dcdqUOQvtBwR"
      },
      "source": [
        "# **Import datasets**"
      ]
    },
    {
      "cell_type": "code",
      "metadata": {
        "colab": {
          "resources": {
            "http://localhost:8080/nbextensions/google.colab/files.js": {
              "data": "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",
              "ok": true,
              "headers": [
                [
                  "content-type",
                  "application/javascript"
                ]
              ],
              "status": 200,
              "status_text": ""
            }
          },
          "base_uri": "https://localhost:8080/",
          "height": 1000
        },
        "id": "-pYf91N8sjKm",
        "outputId": "0cf4b74b-ef71-4767-8c5e-52968d5ef96c"
      },
      "source": [
        "# Import the datasets previously produced containing BOW or other information\n",
        "# about the data to elaborate.\n",
        "# Each dataset containg a particular category of data retrived.\n",
        "\n",
        "# Import list of the sentences in the test set.\n",
        "print('\\nImport test_set_relation.csv\\n')\n",
        "upload = files.upload()\n",
        "\n",
        "# Import the labels of the sentences to classify.\n",
        "print('\\nImport essay_relation_dataset.csv\\n')\n",
        "upload = files.upload()\n",
        "\n",
        "# Import the statistics and positions information of the sentences to classify.\n",
        "print('\\nImport relation_statistic.csv\\n')\n",
        "upload = files.upload()\n",
        "\n",
        "# Import the BOW of the POS of the sentences to classify.\n",
        "print('\\nImport relation_POS.csv\\n')\n",
        "upload = files.upload()\n",
        "\n",
        "# Import the BOW of the simplyfied POS of the sentences to classify.\n",
        "print('\\nImport relation_simple_POS.csv\\n')\n",
        "upload = files.upload()\n",
        "\n",
        "# Import the BOW for the bigrams of the POS of the sentences to classify.\n",
        "print('\\nImport relation_bigram_POS.csv\\n')\n",
        "upload = files.upload()\n",
        "\n",
        "# Import the BOW for the bigrams of the simplyfied POS of the sentences to classify.\n",
        "print('\\nImport relation_bigram_simple_POS.csv\\n')\n",
        "upload = files.upload()\n",
        "\n",
        "# Import the BOW of the dependency tag of the sentences to classify.\n",
        "print('\\nImport relation_dependency.csv\\n')\n",
        "upload = files.upload()\n",
        "\n",
        "# Import the statistic relative to the tree of the dependency tag of the sentences to classify.\n",
        "print('\\nImport relation_dependency_tree_stat.csv\\n')\n",
        "upload = files.upload()\n",
        "\n",
        "# Import the BOW of the labeled named entity of the sentences to classify.\n",
        "print('\\nImport relation_named_entity_BOW.csv\\n')\n",
        "upload = files.upload()\n",
        "\n",
        "# Import the BOW of the sentences to classify.\n",
        "print('\\nImport relation_BOW.csv\\n')\n",
        "upload = files.upload()\n",
        "\n",
        "# Import the BOW for the bigrams of the sentences to classify.\n",
        "print('\\nImport relation_Bigram.csv\\n')\n",
        "upload = files.upload()\n",
        "\n",
        "# Import the BOW for secific n-grams of the sentences to classify.\n",
        "print('\\nImport relation_imported_ngram.csv\\n')\n",
        "upload = files.upload()\n",
        "\n",
        "# Import the remaining statistics of the sentences to classify.\n",
        "print('\\nImport relation_remaining_stat.csv\\n')\n",
        "upload = files.upload()"
      ],
      "execution_count": null,
      "outputs": [
        {
          "output_type": "stream",
          "name": "stdout",
          "text": [
            "\n",
            "Import test_set_relation.csv\n",
            "\n"
          ]
        },
        {
          "output_type": "display_data",
          "data": {
            "text/html": [
              "\n",
              "     <input type=\"file\" id=\"files-62f2fd4f-925e-42fb-80f8-e77242a135ce\" name=\"files[]\" multiple disabled\n",
              "        style=\"border:none\" />\n",
              "     <output id=\"result-62f2fd4f-925e-42fb-80f8-e77242a135ce\">\n",
              "      Upload widget is only available when the cell has been executed in the\n",
              "      current browser session. Please rerun this cell to enable.\n",
              "      </output>\n",
              "      <script src=\"/nbextensions/google.colab/files.js\"></script> "
            ],
            "text/plain": [
              "<IPython.core.display.HTML object>"
            ]
          },
          "metadata": {}
        },
        {
          "output_type": "stream",
          "name": "stdout",
          "text": [
            "\n",
            "Import essay_relation_dataset.csv\n",
            "\n"
          ]
        },
        {
          "output_type": "display_data",
          "data": {
            "text/html": [
              "\n",
              "     <input type=\"file\" id=\"files-1f269bd2-5514-4add-b2bc-c3a97f46a63b\" name=\"files[]\" multiple disabled\n",
              "        style=\"border:none\" />\n",
              "     <output id=\"result-1f269bd2-5514-4add-b2bc-c3a97f46a63b\">\n",
              "      Upload widget is only available when the cell has been executed in the\n",
              "      current browser session. Please rerun this cell to enable.\n",
              "      </output>\n",
              "      <script src=\"/nbextensions/google.colab/files.js\"></script> "
            ],
            "text/plain": [
              "<IPython.core.display.HTML object>"
            ]
          },
          "metadata": {}
        },
        {
          "output_type": "stream",
          "name": "stdout",
          "text": [
            "\n",
            "Import relation_statistic.csv\n",
            "\n"
          ]
        },
        {
          "output_type": "display_data",
          "data": {
            "text/html": [
              "\n",
              "     <input type=\"file\" id=\"files-0d9f46f4-554c-4cc9-b335-2637429b3c94\" name=\"files[]\" multiple disabled\n",
              "        style=\"border:none\" />\n",
              "     <output id=\"result-0d9f46f4-554c-4cc9-b335-2637429b3c94\">\n",
              "      Upload widget is only available when the cell has been executed in the\n",
              "      current browser session. Please rerun this cell to enable.\n",
              "      </output>\n",
              "      <script src=\"/nbextensions/google.colab/files.js\"></script> "
            ],
            "text/plain": [
              "<IPython.core.display.HTML object>"
            ]
          },
          "metadata": {}
        },
        {
          "output_type": "stream",
          "name": "stdout",
          "text": [
            "\n",
            "Import relation_POS.csv\n",
            "\n"
          ]
        },
        {
          "output_type": "display_data",
          "data": {
            "text/html": [
              "\n",
              "     <input type=\"file\" id=\"files-f96f4148-ae33-4acb-b026-abc1f5a59816\" name=\"files[]\" multiple disabled\n",
              "        style=\"border:none\" />\n",
              "     <output id=\"result-f96f4148-ae33-4acb-b026-abc1f5a59816\">\n",
              "      Upload widget is only available when the cell has been executed in the\n",
              "      current browser session. Please rerun this cell to enable.\n",
              "      </output>\n",
              "      <script src=\"/nbextensions/google.colab/files.js\"></script> "
            ],
            "text/plain": [
              "<IPython.core.display.HTML object>"
            ]
          },
          "metadata": {}
        },
        {
          "output_type": "stream",
          "name": "stdout",
          "text": [
            "\n",
            "Import relation_simple_POS.csv\n",
            "\n"
          ]
        },
        {
          "output_type": "display_data",
          "data": {
            "text/html": [
              "\n",
              "     <input type=\"file\" id=\"files-3368afe6-1e0a-4f91-94ba-a266dcd7be4d\" name=\"files[]\" multiple disabled\n",
              "        style=\"border:none\" />\n",
              "     <output id=\"result-3368afe6-1e0a-4f91-94ba-a266dcd7be4d\">\n",
              "      Upload widget is only available when the cell has been executed in the\n",
              "      current browser session. Please rerun this cell to enable.\n",
              "      </output>\n",
              "      <script src=\"/nbextensions/google.colab/files.js\"></script> "
            ],
            "text/plain": [
              "<IPython.core.display.HTML object>"
            ]
          },
          "metadata": {}
        },
        {
          "output_type": "stream",
          "name": "stdout",
          "text": [
            "\n",
            "Import relation_bigram_POS.csv\n",
            "\n"
          ]
        },
        {
          "output_type": "display_data",
          "data": {
            "text/html": [
              "\n",
              "     <input type=\"file\" id=\"files-a84daa8f-2dc0-4cc7-beab-6aa2bfae2536\" name=\"files[]\" multiple disabled\n",
              "        style=\"border:none\" />\n",
              "     <output id=\"result-a84daa8f-2dc0-4cc7-beab-6aa2bfae2536\">\n",
              "      Upload widget is only available when the cell has been executed in the\n",
              "      current browser session. Please rerun this cell to enable.\n",
              "      </output>\n",
              "      <script src=\"/nbextensions/google.colab/files.js\"></script> "
            ],
            "text/plain": [
              "<IPython.core.display.HTML object>"
            ]
          },
          "metadata": {}
        },
        {
          "output_type": "stream",
          "name": "stdout",
          "text": [
            "\n",
            "Import relation_bigram_simple_POS.csv\n",
            "\n"
          ]
        },
        {
          "output_type": "display_data",
          "data": {
            "text/html": [
              "\n",
              "     <input type=\"file\" id=\"files-a4590461-6e50-436c-80ae-3be6d9b2600a\" name=\"files[]\" multiple disabled\n",
              "        style=\"border:none\" />\n",
              "     <output id=\"result-a4590461-6e50-436c-80ae-3be6d9b2600a\">\n",
              "      Upload widget is only available when the cell has been executed in the\n",
              "      current browser session. Please rerun this cell to enable.\n",
              "      </output>\n",
              "      <script src=\"/nbextensions/google.colab/files.js\"></script> "
            ],
            "text/plain": [
              "<IPython.core.display.HTML object>"
            ]
          },
          "metadata": {}
        },
        {
          "output_type": "stream",
          "name": "stdout",
          "text": [
            "\n",
            "Import relation_dependency.csv\n",
            "\n"
          ]
        },
        {
          "output_type": "display_data",
          "data": {
            "text/html": [
              "\n",
              "     <input type=\"file\" id=\"files-c3e6358b-7124-4c93-a8bf-f1e995226cb3\" name=\"files[]\" multiple disabled\n",
              "        style=\"border:none\" />\n",
              "     <output id=\"result-c3e6358b-7124-4c93-a8bf-f1e995226cb3\">\n",
              "      Upload widget is only available when the cell has been executed in the\n",
              "      current browser session. Please rerun this cell to enable.\n",
              "      </output>\n",
              "      <script src=\"/nbextensions/google.colab/files.js\"></script> "
            ],
            "text/plain": [
              "<IPython.core.display.HTML object>"
            ]
          },
          "metadata": {}
        },
        {
          "output_type": "stream",
          "name": "stdout",
          "text": [
            "\n",
            "Import relation_dependency_tree_stat.csv\n",
            "\n"
          ]
        },
        {
          "output_type": "display_data",
          "data": {
            "text/html": [
              "\n",
              "     <input type=\"file\" id=\"files-3ba8327f-9452-4f0a-baee-b587063b1022\" name=\"files[]\" multiple disabled\n",
              "        style=\"border:none\" />\n",
              "     <output id=\"result-3ba8327f-9452-4f0a-baee-b587063b1022\">\n",
              "      Upload widget is only available when the cell has been executed in the\n",
              "      current browser session. Please rerun this cell to enable.\n",
              "      </output>\n",
              "      <script src=\"/nbextensions/google.colab/files.js\"></script> "
            ],
            "text/plain": [
              "<IPython.core.display.HTML object>"
            ]
          },
          "metadata": {}
        },
        {
          "output_type": "stream",
          "name": "stdout",
          "text": [
            "\n",
            "Import relation_named_entity_BOW.csv\n",
            "\n"
          ]
        },
        {
          "output_type": "display_data",
          "data": {
            "text/html": [
              "\n",
              "     <input type=\"file\" id=\"files-02b91847-73b6-4339-a710-a8117d62b28f\" name=\"files[]\" multiple disabled\n",
              "        style=\"border:none\" />\n",
              "     <output id=\"result-02b91847-73b6-4339-a710-a8117d62b28f\">\n",
              "      Upload widget is only available when the cell has been executed in the\n",
              "      current browser session. Please rerun this cell to enable.\n",
              "      </output>\n",
              "      <script src=\"/nbextensions/google.colab/files.js\"></script> "
            ],
            "text/plain": [
              "<IPython.core.display.HTML object>"
            ]
          },
          "metadata": {}
        },
        {
          "output_type": "stream",
          "name": "stdout",
          "text": [
            "\n",
            "Import relation_BOW.csv\n",
            "\n"
          ]
        },
        {
          "output_type": "display_data",
          "data": {
            "text/html": [
              "\n",
              "     <input type=\"file\" id=\"files-3d1aa6ee-bd8f-47d1-8707-36e0628b9a18\" name=\"files[]\" multiple disabled\n",
              "        style=\"border:none\" />\n",
              "     <output id=\"result-3d1aa6ee-bd8f-47d1-8707-36e0628b9a18\">\n",
              "      Upload widget is only available when the cell has been executed in the\n",
              "      current browser session. Please rerun this cell to enable.\n",
              "      </output>\n",
              "      <script src=\"/nbextensions/google.colab/files.js\"></script> "
            ],
            "text/plain": [
              "<IPython.core.display.HTML object>"
            ]
          },
          "metadata": {}
        },
        {
          "output_type": "stream",
          "name": "stdout",
          "text": [
            "\n",
            "Import relation_Bigram.csv\n",
            "\n"
          ]
        },
        {
          "output_type": "display_data",
          "data": {
            "text/html": [
              "\n",
              "     <input type=\"file\" id=\"files-3d72692d-374e-4389-ad1b-f5201eab460c\" name=\"files[]\" multiple disabled\n",
              "        style=\"border:none\" />\n",
              "     <output id=\"result-3d72692d-374e-4389-ad1b-f5201eab460c\">\n",
              "      Upload widget is only available when the cell has been executed in the\n",
              "      current browser session. Please rerun this cell to enable.\n",
              "      </output>\n",
              "      <script src=\"/nbextensions/google.colab/files.js\"></script> "
            ],
            "text/plain": [
              "<IPython.core.display.HTML object>"
            ]
          },
          "metadata": {}
        },
        {
          "output_type": "stream",
          "name": "stdout",
          "text": [
            "\n",
            "Import relation_imported_ngram.csv\n",
            "\n"
          ]
        },
        {
          "output_type": "display_data",
          "data": {
            "text/html": [
              "\n",
              "     <input type=\"file\" id=\"files-88ca256f-7e32-47a5-b50c-f3417a476ae7\" name=\"files[]\" multiple disabled\n",
              "        style=\"border:none\" />\n",
              "     <output id=\"result-88ca256f-7e32-47a5-b50c-f3417a476ae7\">\n",
              "      Upload widget is only available when the cell has been executed in the\n",
              "      current browser session. Please rerun this cell to enable.\n",
              "      </output>\n",
              "      <script src=\"/nbextensions/google.colab/files.js\"></script> "
            ],
            "text/plain": [
              "<IPython.core.display.HTML object>"
            ]
          },
          "metadata": {}
        },
        {
          "output_type": "stream",
          "name": "stdout",
          "text": [
            "\n",
            "Import relation_remaining_stat.csv\n",
            "\n"
          ]
        },
        {
          "output_type": "display_data",
          "data": {
            "text/html": [
              "\n",
              "     <input type=\"file\" id=\"files-31440ab5-5b77-47e6-b24a-8783a2826869\" name=\"files[]\" multiple disabled\n",
              "        style=\"border:none\" />\n",
              "     <output id=\"result-31440ab5-5b77-47e6-b24a-8783a2826869\">\n",
              "      Upload widget is only available when the cell has been executed in the\n",
              "      current browser session. Please rerun this cell to enable.\n",
              "      </output>\n",
              "      <script src=\"/nbextensions/google.colab/files.js\"></script> "
            ],
            "text/plain": [
              "<IPython.core.display.HTML object>"
            ]
          },
          "metadata": {}
        }
      ]
    },
    {
      "cell_type": "code",
      "metadata": {
        "colab": {
          "resources": {
            "http://localhost:8080/nbextensions/google.colab/files.js": {
              "data": "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",
              "ok": true,
              "headers": [
                [
                  "content-type",
                  "application/javascript"
                ]
              ],
              "status": 200,
              "status_text": ""
            }
          },
          "base_uri": "https://localhost:8080/",
          "height": 958
        },
        "id": "1lKF817srKC9",
        "outputId": "581f332f-1130-4ae0-ee70-963db569cd30"
      },
      "source": [
        "# Import the datasets previously produced containing BOW or other information\n",
        "# about the data to elaborate retrieved from the microtext dataset.\n",
        "# Each dataset containg a particular category of data retrived.\n",
        "\n",
        "# Import the labels of the sentences to classify.\n",
        "print('\\nImport microtext_relation_dataset.csv\\n')\n",
        "upload = files.upload()\n",
        "\n",
        "# Import the statistics and positions information of the sentences to classify.\n",
        "print('\\nImport microtext_relation_statistic.csv\\n')\n",
        "upload = files.upload()\n",
        "\n",
        "# Import the BOW of the POS of the sentences to classify.\n",
        "print('\\nImport microtext_relation_POS.csv\\n')\n",
        "upload = files.upload()\n",
        "\n",
        "# Import the BOW of the simplyfied POS of the sentences to classify.\n",
        "print('\\nImport microtext_relation_simple_POS.csv\\n')\n",
        "upload = files.upload()\n",
        "\n",
        "# Import the BOW for the bigrams of the POS of the sentences to classify.\n",
        "print('\\nImport microtext_bigram_POS.csv\\n')\n",
        "upload = files.upload()\n",
        "\n",
        "# Import the BOW for the bigrams of the simplyfied POS of the sentences to classify.\n",
        "print('\\nImport microtext_bigram_simple_POS.csv\\n')\n",
        "upload = files.upload()\n",
        "\n",
        "# Import the BOW of the dependency tag of the sentences to classify.\n",
        "print('\\nImport microtext_relation_dependency.csv\\n')\n",
        "upload = files.upload()\n",
        "\n",
        "# Import the statistic relative to the tree of the dependency tag of the sentences to classify.\n",
        "print('\\nImport microtext_relation_dependency_tree_stat.csv\\n')\n",
        "upload = files.upload()\n",
        "\n",
        "# Import the BOW of the labeled named entity of the sentences to classify.\n",
        "print('\\nImport microtext_relation_named_entity_BOW.csv\\n')\n",
        "upload = files.upload()\n",
        "\n",
        "# Import the BOW of the sentences to classify.\n",
        "print('\\nImport microtext_relation_BOW.csv\\n')\n",
        "upload = files.upload()\n",
        "\n",
        "# Import the BOW for the bigrams of the sentences to classify.\n",
        "print('\\nImport microtext_relation_Bigram.csv\\n')\n",
        "upload = files.upload()\n",
        "\n",
        "# Import the BOW for secific n-grams of the sentences to classify.\n",
        "print('\\nImport microtext_relation_imported_ngram.csv\\n')\n",
        "upload = files.upload()\n",
        "\n",
        "# Import the remaining statistics of the sentences to classify.\n",
        "print('\\nImport microtext_relation_remaining_stat.csv\\n')\n",
        "upload = files.upload()"
      ],
      "execution_count": null,
      "outputs": [
        {
          "output_type": "stream",
          "name": "stdout",
          "text": [
            "\n",
            "Import microtext_relation_dataset.csv\n",
            "\n"
          ]
        },
        {
          "output_type": "display_data",
          "data": {
            "text/html": [
              "\n",
              "     <input type=\"file\" id=\"files-f898b5f0-0841-469a-8c1e-af99331289b5\" name=\"files[]\" multiple disabled\n",
              "        style=\"border:none\" />\n",
              "     <output id=\"result-f898b5f0-0841-469a-8c1e-af99331289b5\">\n",
              "      Upload widget is only available when the cell has been executed in the\n",
              "      current browser session. Please rerun this cell to enable.\n",
              "      </output>\n",
              "      <script src=\"/nbextensions/google.colab/files.js\"></script> "
            ],
            "text/plain": [
              "<IPython.core.display.HTML object>"
            ]
          },
          "metadata": {}
        },
        {
          "output_type": "stream",
          "name": "stdout",
          "text": [
            "\n",
            "Import microtext_relation_statistic.csv\n",
            "\n"
          ]
        },
        {
          "output_type": "display_data",
          "data": {
            "text/html": [
              "\n",
              "     <input type=\"file\" id=\"files-b27ed438-e50d-41f5-a6a2-1b17d7af86d5\" name=\"files[]\" multiple disabled\n",
              "        style=\"border:none\" />\n",
              "     <output id=\"result-b27ed438-e50d-41f5-a6a2-1b17d7af86d5\">\n",
              "      Upload widget is only available when the cell has been executed in the\n",
              "      current browser session. Please rerun this cell to enable.\n",
              "      </output>\n",
              "      <script src=\"/nbextensions/google.colab/files.js\"></script> "
            ],
            "text/plain": [
              "<IPython.core.display.HTML object>"
            ]
          },
          "metadata": {}
        },
        {
          "output_type": "stream",
          "name": "stdout",
          "text": [
            "\n",
            "Import microtext_relation_POS.csv\n",
            "\n"
          ]
        },
        {
          "output_type": "display_data",
          "data": {
            "text/html": [
              "\n",
              "     <input type=\"file\" id=\"files-30dbc790-005c-4b55-9ad0-b5528a3bfa17\" name=\"files[]\" multiple disabled\n",
              "        style=\"border:none\" />\n",
              "     <output id=\"result-30dbc790-005c-4b55-9ad0-b5528a3bfa17\">\n",
              "      Upload widget is only available when the cell has been executed in the\n",
              "      current browser session. Please rerun this cell to enable.\n",
              "      </output>\n",
              "      <script src=\"/nbextensions/google.colab/files.js\"></script> "
            ],
            "text/plain": [
              "<IPython.core.display.HTML object>"
            ]
          },
          "metadata": {}
        },
        {
          "output_type": "stream",
          "name": "stdout",
          "text": [
            "\n",
            "Import microtext_relation_simple_POS.csv\n",
            "\n"
          ]
        },
        {
          "output_type": "display_data",
          "data": {
            "text/html": [
              "\n",
              "     <input type=\"file\" id=\"files-fe36be35-dc29-4af4-81ec-20a48a0b9534\" name=\"files[]\" multiple disabled\n",
              "        style=\"border:none\" />\n",
              "     <output id=\"result-fe36be35-dc29-4af4-81ec-20a48a0b9534\">\n",
              "      Upload widget is only available when the cell has been executed in the\n",
              "      current browser session. Please rerun this cell to enable.\n",
              "      </output>\n",
              "      <script src=\"/nbextensions/google.colab/files.js\"></script> "
            ],
            "text/plain": [
              "<IPython.core.display.HTML object>"
            ]
          },
          "metadata": {}
        },
        {
          "output_type": "stream",
          "name": "stdout",
          "text": [
            "\n",
            "Import microtext_bigram_POS.csv\n",
            "\n"
          ]
        },
        {
          "output_type": "display_data",
          "data": {
            "text/html": [
              "\n",
              "     <input type=\"file\" id=\"files-a8e1496f-562b-403e-b05e-9808ea6160fb\" name=\"files[]\" multiple disabled\n",
              "        style=\"border:none\" />\n",
              "     <output id=\"result-a8e1496f-562b-403e-b05e-9808ea6160fb\">\n",
              "      Upload widget is only available when the cell has been executed in the\n",
              "      current browser session. Please rerun this cell to enable.\n",
              "      </output>\n",
              "      <script src=\"/nbextensions/google.colab/files.js\"></script> "
            ],
            "text/plain": [
              "<IPython.core.display.HTML object>"
            ]
          },
          "metadata": {}
        },
        {
          "output_type": "stream",
          "name": "stdout",
          "text": [
            "\n",
            "Import microtext_bigram_simple_POS.csv\n",
            "\n"
          ]
        },
        {
          "output_type": "display_data",
          "data": {
            "text/html": [
              "\n",
              "     <input type=\"file\" id=\"files-e2503f82-7be7-4b02-97e8-3b076be91b51\" name=\"files[]\" multiple disabled\n",
              "        style=\"border:none\" />\n",
              "     <output id=\"result-e2503f82-7be7-4b02-97e8-3b076be91b51\">\n",
              "      Upload widget is only available when the cell has been executed in the\n",
              "      current browser session. Please rerun this cell to enable.\n",
              "      </output>\n",
              "      <script src=\"/nbextensions/google.colab/files.js\"></script> "
            ],
            "text/plain": [
              "<IPython.core.display.HTML object>"
            ]
          },
          "metadata": {}
        },
        {
          "output_type": "stream",
          "name": "stdout",
          "text": [
            "\n",
            "Import microtext_relation_dependency.csv\n",
            "\n"
          ]
        },
        {
          "output_type": "display_data",
          "data": {
            "text/html": [
              "\n",
              "     <input type=\"file\" id=\"files-d28157cc-5d1c-4276-a3f7-9419455fd0d7\" name=\"files[]\" multiple disabled\n",
              "        style=\"border:none\" />\n",
              "     <output id=\"result-d28157cc-5d1c-4276-a3f7-9419455fd0d7\">\n",
              "      Upload widget is only available when the cell has been executed in the\n",
              "      current browser session. Please rerun this cell to enable.\n",
              "      </output>\n",
              "      <script src=\"/nbextensions/google.colab/files.js\"></script> "
            ],
            "text/plain": [
              "<IPython.core.display.HTML object>"
            ]
          },
          "metadata": {}
        },
        {
          "output_type": "stream",
          "name": "stdout",
          "text": [
            "\n",
            "Import microtext_relation_dependency_tree_stat.csv\n",
            "\n"
          ]
        },
        {
          "output_type": "display_data",
          "data": {
            "text/html": [
              "\n",
              "     <input type=\"file\" id=\"files-5db25cf0-6cfe-43f5-a0c4-e515d69a2125\" name=\"files[]\" multiple disabled\n",
              "        style=\"border:none\" />\n",
              "     <output id=\"result-5db25cf0-6cfe-43f5-a0c4-e515d69a2125\">\n",
              "      Upload widget is only available when the cell has been executed in the\n",
              "      current browser session. Please rerun this cell to enable.\n",
              "      </output>\n",
              "      <script src=\"/nbextensions/google.colab/files.js\"></script> "
            ],
            "text/plain": [
              "<IPython.core.display.HTML object>"
            ]
          },
          "metadata": {}
        },
        {
          "output_type": "stream",
          "name": "stdout",
          "text": [
            "\n",
            "Import microtext_relation_named_entity_BOW.csv\n",
            "\n"
          ]
        },
        {
          "output_type": "display_data",
          "data": {
            "text/html": [
              "\n",
              "     <input type=\"file\" id=\"files-f643db1a-c437-475a-b2b3-09dde127ba6d\" name=\"files[]\" multiple disabled\n",
              "        style=\"border:none\" />\n",
              "     <output id=\"result-f643db1a-c437-475a-b2b3-09dde127ba6d\">\n",
              "      Upload widget is only available when the cell has been executed in the\n",
              "      current browser session. Please rerun this cell to enable.\n",
              "      </output>\n",
              "      <script src=\"/nbextensions/google.colab/files.js\"></script> "
            ],
            "text/plain": [
              "<IPython.core.display.HTML object>"
            ]
          },
          "metadata": {}
        },
        {
          "output_type": "stream",
          "name": "stdout",
          "text": [
            "\n",
            "Import microtext_relation_BOW.csv\n",
            "\n"
          ]
        },
        {
          "output_type": "display_data",
          "data": {
            "text/html": [
              "\n",
              "     <input type=\"file\" id=\"files-cca0aec9-e3fc-4e8a-ba7c-8f24651c548c\" name=\"files[]\" multiple disabled\n",
              "        style=\"border:none\" />\n",
              "     <output id=\"result-cca0aec9-e3fc-4e8a-ba7c-8f24651c548c\">\n",
              "      Upload widget is only available when the cell has been executed in the\n",
              "      current browser session. Please rerun this cell to enable.\n",
              "      </output>\n",
              "      <script src=\"/nbextensions/google.colab/files.js\"></script> "
            ],
            "text/plain": [
              "<IPython.core.display.HTML object>"
            ]
          },
          "metadata": {}
        },
        {
          "output_type": "stream",
          "name": "stdout",
          "text": [
            "\n",
            "Import microtext_relation_Bigram.csv\n",
            "\n"
          ]
        },
        {
          "output_type": "display_data",
          "data": {
            "text/html": [
              "\n",
              "     <input type=\"file\" id=\"files-3dd79271-6921-40b8-abe2-cb82ec8f079a\" name=\"files[]\" multiple disabled\n",
              "        style=\"border:none\" />\n",
              "     <output id=\"result-3dd79271-6921-40b8-abe2-cb82ec8f079a\">\n",
              "      Upload widget is only available when the cell has been executed in the\n",
              "      current browser session. Please rerun this cell to enable.\n",
              "      </output>\n",
              "      <script src=\"/nbextensions/google.colab/files.js\"></script> "
            ],
            "text/plain": [
              "<IPython.core.display.HTML object>"
            ]
          },
          "metadata": {}
        },
        {
          "output_type": "stream",
          "name": "stdout",
          "text": [
            "\n",
            "Import microtext_relation_imported_ngram.csv\n",
            "\n"
          ]
        },
        {
          "output_type": "display_data",
          "data": {
            "text/html": [
              "\n",
              "     <input type=\"file\" id=\"files-99ec3740-1105-431d-8cf0-923e1460d797\" name=\"files[]\" multiple disabled\n",
              "        style=\"border:none\" />\n",
              "     <output id=\"result-99ec3740-1105-431d-8cf0-923e1460d797\">\n",
              "      Upload widget is only available when the cell has been executed in the\n",
              "      current browser session. Please rerun this cell to enable.\n",
              "      </output>\n",
              "      <script src=\"/nbextensions/google.colab/files.js\"></script> "
            ],
            "text/plain": [
              "<IPython.core.display.HTML object>"
            ]
          },
          "metadata": {}
        },
        {
          "output_type": "stream",
          "name": "stdout",
          "text": [
            "\n",
            "Import microtext_relation_remaining_stat.csv\n",
            "\n"
          ]
        },
        {
          "output_type": "display_data",
          "data": {
            "text/html": [
              "\n",
              "     <input type=\"file\" id=\"files-2212ac30-ca4d-47ef-af3d-7fefa3fc4d88\" name=\"files[]\" multiple disabled\n",
              "        style=\"border:none\" />\n",
              "     <output id=\"result-2212ac30-ca4d-47ef-af3d-7fefa3fc4d88\">\n",
              "      Upload widget is only available when the cell has been executed in the\n",
              "      current browser session. Please rerun this cell to enable.\n",
              "      </output>\n",
              "      <script src=\"/nbextensions/google.colab/files.js\"></script> "
            ],
            "text/plain": [
              "<IPython.core.display.HTML object>"
            ]
          },
          "metadata": {}
        }
      ]
    },
    {
      "cell_type": "code",
      "metadata": {
        "id": "eQ3UJlJxx2v7"
      },
      "source": [
        "# Read the datasets retrieved by the Stab and Gurevych dataset.\n",
        "\n",
        "test_set=pd.read_csv(\"test_set_relation.csv\")\n",
        "\n",
        "true_labels=pd.read_csv('essay_relation_dataset.csv')\n",
        "\n",
        "statistic=pd.read_csv('relation_statistic.csv')\n",
        "\n",
        "POS=pd.read_csv('relation_POS.csv')\n",
        "\n",
        "simple_POS=pd.read_csv('relation_simple_POS.csv')\n",
        "\n",
        "bigram_POS=pd.read_csv('relation_bigram_POS.csv')\n",
        "\n",
        "bigram_simple_POS=pd.read_csv('relation_bigram_simple_POS.csv')\n",
        "\n",
        "dependency=pd.read_csv('relation_dependency.csv')\n",
        "\n",
        "dependency_tree_stat=pd.read_csv('relation_dependency_tree_stat.csv')\n",
        "\n",
        "named_entity=pd.read_csv('relation_named_entity_BOW.csv')\n",
        "\n",
        "BOW=pd.read_csv('relation_BOW.csv')\n",
        "\n",
        "Bigram=pd.read_csv('relation_Bigram.csv')\n",
        "\n",
        "imported_ngram=pd.read_csv('relation_imported_ngram.csv')\n",
        "\n",
        "others=pd.read_csv('relation_remaining_stat.csv')"
      ],
      "execution_count": null,
      "outputs": []
    },
    {
      "cell_type": "code",
      "metadata": {
        "id": "3NrJ1rarrbSo"
      },
      "source": [
        "# Read the datasets retrieved by the Stab and Gurevych dataset.\n",
        "\n",
        "microtext_true_labels=pd.read_csv('microtext_relation_dataset.csv')\n",
        "\n",
        "microtext_statistic=pd.read_csv('microtext_relation_statistic.csv')\n",
        "\n",
        "microtext_POS=pd.read_csv('microtext_relation_POS.csv')\n",
        "\n",
        "microtext_simple_POS=pd.read_csv('microtext_relation_simple_POS.csv')\n",
        "\n",
        "microtext_bigram_POS=pd.read_csv('microtext_bigram_POS.csv')\n",
        "\n",
        "microtext_bigram_simple_POS=pd.read_csv('microtext_bigram_simple_POS.csv')\n",
        "\n",
        "microtext_dependency=pd.read_csv('microtext_relation_dependency.csv')\n",
        "\n",
        "microtext_dependency_tree_stat=pd.read_csv('microtext_relation_dependency_tree_stat.csv')\n",
        "\n",
        "microtext_named_entity=pd.read_csv('microtext_relation_named_entity_BOW.csv')\n",
        "\n",
        "microtext_BOW=pd.read_csv('microtext_relation_BOW.csv')\n",
        "\n",
        "microtext_Bigram=pd.read_csv('microtext_relation_Bigram.csv')\n",
        "\n",
        "microtext_imported_ngram=pd.read_csv('microtext_relation_imported_ngram.csv')\n",
        "\n",
        "microtext_others=pd.read_csv('microtext_relation_remaining_stat.csv')"
      ],
      "execution_count": null,
      "outputs": []
    },
    {
      "cell_type": "code",
      "metadata": {
        "id": "NAQxjinjAkss",
        "colab": {
          "base_uri": "https://localhost:8080/"
        },
        "outputId": "b1eea8cc-4b1d-4269-c3b6-a0bc30ee6224"
      },
      "source": [
        "(true_labels['type'].tolist())[:5]"
      ],
      "execution_count": null,
      "outputs": [
        {
          "output_type": "execute_result",
          "data": {
            "text/plain": [
              "['supports', 'supports', 'supports', 'supports', 'supports']"
            ]
          },
          "metadata": {},
          "execution_count": 7
        }
      ]
    },
    {
      "cell_type": "code",
      "metadata": {
        "id": "ZoYS9wEYBjgR"
      },
      "source": [
        "# Remove data types that are not categorical.\n",
        "statistic=statistic.drop(columns=['length_sentence_ratio'])\n",
        "others=others.drop(columns=['supported: type token ratio'])\n",
        "others=others.drop(columns=['supporting: type token ratio'])\n",
        "statistic=statistic.round(0)\n",
        "statistic=statistic.abs()\n",
        "others=others.round(0)\n",
        "\n",
        "microtext_statistic=microtext_statistic.drop(columns=['length_sentence'])\n",
        "microtext_others=microtext_others.drop(columns=['supported: type token ratio'])\n",
        "microtext_others=microtext_others.drop(columns=['supporting: type token ratio'])\n",
        "microtext_statistic=microtext_statistic.round(0)\n",
        "microtext_statistic=microtext_statistic.abs()\n",
        "microtext_others=microtext_others.round(0)"
      ],
      "execution_count": null,
      "outputs": []
    },
    {
      "cell_type": "code",
      "metadata": {
        "id": "F0ohD8ub4ZNj",
        "colab": {
          "base_uri": "https://localhost:8080/",
          "height": 80
        },
        "outputId": "52b9dab4-e4b0-4b1f-a495-416df3ffb7f0"
      },
      "source": [
        "statistic.iloc[0:1]"
      ],
      "execution_count": null,
      "outputs": [
        {
          "output_type": "execute_result",
          "data": {
            "text/html": [
              "<div>\n",
              "<style scoped>\n",
              "    .dataframe tbody tr th:only-of-type {\n",
              "        vertical-align: middle;\n",
              "    }\n",
              "\n",
              "    .dataframe tbody tr th {\n",
              "        vertical-align: top;\n",
              "    }\n",
              "\n",
              "    .dataframe thead th {\n",
              "        text-align: right;\n",
              "    }\n",
              "</style>\n",
              "<table border=\"1\" class=\"dataframe\">\n",
              "  <thead>\n",
              "    <tr style=\"text-align: right;\">\n",
              "      <th></th>\n",
              "      <th>paragraph distance</th>\n",
              "      <th>position_in_essay_distance</th>\n",
              "    </tr>\n",
              "  </thead>\n",
              "  <tbody>\n",
              "    <tr>\n",
              "      <th>0</th>\n",
              "      <td>0</td>\n",
              "      <td>1</td>\n",
              "    </tr>\n",
              "  </tbody>\n",
              "</table>\n",
              "</div>"
            ],
            "text/plain": [
              "   paragraph distance  position_in_essay_distance\n",
              "0                   0                           1"
            ]
          },
          "metadata": {},
          "execution_count": 9
        }
      ]
    },
    {
      "cell_type": "code",
      "metadata": {
        "id": "CF2Sf5-143Jc",
        "colab": {
          "base_uri": "https://localhost:8080/"
        },
        "outputId": "c05eb411-5875-429b-839a-d810c0707d2e"
      },
      "source": [
        "statistic.shape[1]"
      ],
      "execution_count": null,
      "outputs": [
        {
          "output_type": "execute_result",
          "data": {
            "text/plain": [
              "2"
            ]
          },
          "metadata": {},
          "execution_count": 10
        }
      ]
    },
    {
      "cell_type": "code",
      "metadata": {
        "id": "C9gW6cFO48pj",
        "colab": {
          "base_uri": "https://localhost:8080/"
        },
        "outputId": "b9a77bf2-3d7c-4377-cb00-82726f2842bb"
      },
      "source": [
        "others.shape[0]"
      ],
      "execution_count": null,
      "outputs": [
        {
          "output_type": "execute_result",
          "data": {
            "text/plain": [
              "6243"
            ]
          },
          "metadata": {},
          "execution_count": 11
        }
      ]
    },
    {
      "cell_type": "markdown",
      "metadata": {
        "id": "CvVUmDHRFj0B"
      },
      "source": [
        "# **Remove sentence from the test set (only Stab and Gurevych dataset)**"
      ]
    },
    {
      "cell_type": "code",
      "metadata": {
        "id": "pHz1bUGNF_1q"
      },
      "source": [
        "discard_sentence=test_set['0'].tolist()"
      ],
      "execution_count": null,
      "outputs": []
    },
    {
      "cell_type": "code",
      "metadata": {
        "id": "UTQ1Q7rH62PQ"
      },
      "source": [
        "# Remove test set.\n",
        "\n",
        "true_labels=true_labels.drop(index=discard_sentence)\n",
        "\n",
        "statistic=statistic.drop(index=discard_sentence)\n",
        "\n",
        "POS=POS.drop(index=discard_sentence)\n",
        "\n",
        "simple_POS=simple_POS.drop(index=discard_sentence)\n",
        "\n",
        "bigram_POS=bigram_POS.drop(index=discard_sentence)\n",
        "\n",
        "bigram_simple_POS=bigram_simple_POS.drop(index=discard_sentence)\n",
        "\n",
        "dependency=dependency.drop(index=discard_sentence)\n",
        "\n",
        "dependency_tree_stat=dependency_tree_stat.drop(index=discard_sentence)\n",
        "\n",
        "named_entity=named_entity.drop(index=discard_sentence)\n",
        "\n",
        "BOW=BOW.drop(index=discard_sentence)\n",
        "\n",
        "Bigram=Bigram.drop(index=discard_sentence)\n",
        "\n",
        "imported_ngram=imported_ngram.drop(index=discard_sentence)\n",
        "\n",
        "others=others.drop(index=discard_sentence)"
      ],
      "execution_count": null,
      "outputs": []
    },
    {
      "cell_type": "markdown",
      "metadata": {
        "id": "YfDe-ScS4wcs"
      },
      "source": [
        "# **Learning**"
      ]
    },
    {
      "cell_type": "code",
      "metadata": {
        "id": "oW81WTmL7piE"
      },
      "source": [
        "# Divide the items in a train and a test set.\n",
        "list_index=[i for i in range(others.shape[0])]\n",
        "\n",
        "train_index,test_index=train_test_split(list_index,test_size=0.2, random_state=32)"
      ],
      "execution_count": null,
      "outputs": []
    },
    {
      "cell_type": "code",
      "metadata": {
        "id": "zuVbuDGEXnkA"
      },
      "source": [
        "# Takes a dataframe in input and returns the JSON representation.\n",
        "def from_tabular_to_JSON(dataframe:pd.DataFrame):\n",
        "\n",
        "  column=dataframe.columns\n",
        "  features=[]\n",
        "  for i in range(len(column)-1):\n",
        "    features.append('d{}'.format(i))\n",
        "\n",
        "  items = []\n",
        "  for i, (_, row) in enumerate(dataframe.iterrows()):\n",
        "    item = {}\n",
        "    for i in range(len(column)-1):\n",
        "      item['d{}'.format(i)] = [f+\"=\"+str(row[f]) for f in [column[i]]]\n",
        "    item['type'] = [row['type']]\n",
        "    items.append(item)\n",
        "\n",
        "  return items, features"
      ],
      "execution_count": null,
      "outputs": []
    },
    {
      "cell_type": "code",
      "metadata": {
        "id": "J4h-qD4kEFS0"
      },
      "source": [
        "# The method takes in input a dataframe containing the data from which to predict\n",
        "# the output and the output labels desired and returns, the label for the \n",
        "# test set, the probabilities of the predicted classes, and the global and local \n",
        "# explanations of which features are most usefoul in predicting the labels.\n",
        "\n",
        "def stc_procedure(dataframe_input:pd.DataFrame,label:pd.DataFrame):\n",
        "  dataframe=dataframe_input\n",
        "  dataframe['type']=label['type'].tolist()\n",
        "\n",
        "  items,features=from_tabular_to_JSON(dataframe)\n",
        "\n",
        "  train_items,test_items=train_test_split(items,test_size=0.2, random_state=32)\n",
        "\n",
        "  STC = SparseTensorClassifier(targets=['type'], features=features, collapse=False)\n",
        "\n",
        "  STC.fit(train_items)\n",
        "\n",
        "  STC.set({\"entropy\": 1, \"balance\": 0.9, \"power\": 1})\n",
        "\n",
        "  policy, score = STC.learn(max_iter=1, random_state=42)\n",
        "\n",
        "  global_explainability = STC.explain()\n",
        "\n",
        "  labels, probability, explainability = STC.predict(test_items)\n",
        "\n",
        "  ground_labels=[item['type'][0] for item in test_items]  \n",
        "\n",
        "  return ground_labels, global_explainability, labels, probability, explainability, policy"
      ],
      "execution_count": null,
      "outputs": []
    },
    {
      "cell_type": "code",
      "metadata": {
        "id": "coS2xQ9Icitn"
      },
      "source": [
        "# The method takes in input a dataframe containing the data from which to predict\n",
        "# the output and the output labels desired and returns, the label for the \n",
        "# test set, the probabilities of the predicted classes, and the global and local \n",
        "# explanations of which features are most usefoul in predicting the labels.\n",
        "\n",
        "def stc_procedure_tabular(dataframe:pd.DataFrame,label:pd.DataFrame,microtext_dataframe:pd.DataFrame,microtext_label:pd.DataFrame):\n",
        "\n",
        "  dataframe['type']=label['type'].tolist()\n",
        "\n",
        "  microtext_dataframe['type']=microtext_label['type'].tolist()\n",
        "\n",
        "  STC = SparseTensorClassifier(targets=['type'], features=dataframe.columns[:-1])\n",
        "\n",
        "  STC.fit(dataframe.iloc[train_index])\n",
        "\n",
        "  STC.set({\"entropy\": 1, \"balance\": 0.9, \"power\": 1})\n",
        "\n",
        "  global_explainability = STC.explain()\n",
        "\n",
        "  labels, probability, explainability = STC.predict(dataframe.iloc[test_index])\n",
        "\n",
        "  microtext_labels, _, _ = STC.predict(microtext_dataframe)\n",
        "\n",
        "  ground_labels=dataframe['type'].iloc[test_index]\n",
        "\n",
        "  microtext_ground_labels=microtext_dataframe['type']\n",
        "\n",
        "  return ground_labels, global_explainability, labels, probability, explainability, policy, microtext_ground_labels, microtext_labels"
      ],
      "execution_count": null,
      "outputs": []
    },
    {
      "cell_type": "code",
      "metadata": {
        "id": "SCfji8mGRqt6"
      },
      "source": [
        "accuracy_scores=[]\n",
        "f1_scores=[]\n",
        "precision_scores=[]\n",
        "recall_scores=[]\n",
        "\n",
        "microtext_accuracy_scores=[]\n",
        "microtext_f1_scores=[]\n",
        "microtext_precision_scores=[]\n",
        "microtext_recall_scores=[]"
      ],
      "execution_count": null,
      "outputs": []
    },
    {
      "cell_type": "markdown",
      "metadata": {
        "id": "oTgEhkoT7e_c"
      },
      "source": [
        "## **Statistic dataframe**"
      ]
    },
    {
      "cell_type": "code",
      "metadata": {
        "id": "YLMfbTLz5Qi9",
        "colab": {
          "base_uri": "https://localhost:8080/"
        },
        "outputId": "b1e91f39-e876-4e80-ea19-f68e0dfa4c57"
      },
      "source": [
        "ground_labels, _, labels, _, _, policy=stc_procedure(statistic,true_labels)"
      ],
      "execution_count": null,
      "outputs": [
        {
          "output_type": "stream",
          "name": "stdout",
          "text": [
            ""
          ]
        }
      ]
    },
    {
      "cell_type": "code",
      "metadata": {
        "id": "ygkS3-Trcrb9",
        "colab": {
          "base_uri": "https://localhost:8080/"
        },
        "outputId": "2ac036c9-70e3-4ec0-c83b-2bece88c6521"
      },
      "source": [
        "_, global_explainability_tabular, _, _, _, _, microtext_ground_labels, microtext_labels=stc_procedure_tabular(statistic,true_labels,microtext_statistic,microtext_true_labels)"
      ],
      "execution_count": null,
      "outputs": [
        {
          "output_type": "stream",
          "name": "stdout",
          "text": [
            ""
          ]
        }
      ]
    },
    {
      "cell_type": "code",
      "metadata": {
        "id": "bMztOOuZSS8f",
        "colab": {
          "base_uri": "https://localhost:8080/"
        },
        "outputId": "c9e4f145-dfc0-4e0c-ebda-673eeffbcb95"
      },
      "source": [
        "accuracy=accuracy_score(ground_labels, labels)\n",
        "f1_score_value=f1_score(y_true=ground_labels, y_pred=labels, average=\"macro\")\n",
        "precision=precision_score(ground_labels, labels, average=\"macro\")\n",
        "recall=recall_score(ground_labels, labels, average=\"macro\")\n",
        "\n",
        "microtext_accuracy=accuracy_score(microtext_ground_labels, microtext_labels)\n",
        "microtext_f1_score_value=f1_score(microtext_ground_labels, microtext_labels, average=\"macro\")\n",
        "microtext_precision=precision_score(microtext_ground_labels, microtext_labels, average=\"macro\")\n",
        "microtext_recall=recall_score(microtext_ground_labels, microtext_labels, average=\"macro\")"
      ],
      "execution_count": null,
      "outputs": [
        {
          "output_type": "stream",
          "name": "stderr",
          "text": [
            "/usr/local/lib/python3.7/dist-packages/sklearn/metrics/_classification.py:1272: UndefinedMetricWarning: Precision is ill-defined and being set to 0.0 in labels with no predicted samples. Use `zero_division` parameter to control this behavior.\n",
            "  _warn_prf(average, modifier, msg_start, len(result))\n"
          ]
        }
      ]
    },
    {
      "cell_type": "code",
      "metadata": {
        "id": "TJ45wn3qR5aI"
      },
      "source": [
        "accuracy_scores.append(accuracy)\n",
        "f1_scores.append(f1_score_value)\n",
        "precision_scores.append(precision)\n",
        "recall_scores.append(recall)\n",
        "\n",
        "microtext_accuracy_scores.append(microtext_accuracy)\n",
        "microtext_f1_scores.append(microtext_f1_score_value)\n",
        "microtext_precision_scores.append(microtext_precision)\n",
        "microtext_recall_scores.append(microtext_recall)"
      ],
      "execution_count": null,
      "outputs": []
    },
    {
      "cell_type": "code",
      "metadata": {
        "id": "VloP_aYb8Ynl",
        "colab": {
          "base_uri": "https://localhost:8080/"
        },
        "outputId": "675df292-7f04-44d2-c7d0-f40693327165"
      },
      "source": [
        "print('accuracy: {}'.format(accuracy))\n",
        "print('f1 score: {}'.format(f1_score_value))\n",
        "print('precision: {}'.format(precision))\n",
        "print('recall: {}'.format(recall))\n",
        "print('\\n')\n",
        "print('accuracy microtext dataset: {}'.format(microtext_accuracy))\n",
        "print('f1 score microtext dataset: {}'.format(microtext_f1_score_value))\n",
        "print('precision microtext dataset: {}'.format(microtext_precision))\n",
        "print('recall microtext dataset: {}'.format(microtext_recall))"
      ],
      "execution_count": null,
      "outputs": [
        {
          "output_type": "stream",
          "name": "stdout",
          "text": [
            "accuracy: 0.8250701590271281\n",
            "f1 score: 0.5998191989397109\n",
            "precision: 0.6277914903620122\n",
            "recall: 0.5957686781609196\n",
            "\n",
            "\n",
            "accuracy microtext dataset: 0.7088948787061995\n",
            "f1 score microtext dataset: 0.41482649842271296\n",
            "precision microtext dataset: 0.35444743935309975\n",
            "recall microtext dataset: 0.5\n"
          ]
        }
      ]
    },
    {
      "cell_type": "code",
      "metadata": {
        "id": "l87UB891WP8R",
        "colab": {
          "base_uri": "https://localhost:8080/"
        },
        "outputId": "2887369d-a3e1-49d9-f322-cf56e7b25bce"
      },
      "source": [
        "policy"
      ],
      "execution_count": null,
      "outputs": [
        {
          "output_type": "execute_result",
          "data": {
            "text/plain": [
              "[['d1', 'd0'], ['d0'], []]"
            ]
          },
          "metadata": {},
          "execution_count": 24
        }
      ]
    },
    {
      "cell_type": "code",
      "metadata": {
        "id": "IgEWO6Q1gz2K",
        "colab": {
          "base_uri": "https://localhost:8080/"
        },
        "outputId": "52a60fcb-2883-44a9-ab38-dfdf1655ede4"
      },
      "source": [
        "policy_set=[]\n",
        "\n",
        "for pol in policy:\n",
        "  policy_set+=pol\n",
        "\n",
        "policy_set=list(set(policy_set))\n",
        "\n",
        "column=statistic.columns\n",
        "drop_features=[]\n",
        "for i in range(len(column)-1):\n",
        "  if not 'd{}'.format(i) in policy_set:\n",
        "    drop_features.append(column[i])\n",
        "\n",
        "drop_features"
      ],
      "execution_count": null,
      "outputs": [
        {
          "output_type": "execute_result",
          "data": {
            "text/plain": [
              "[]"
            ]
          },
          "metadata": {},
          "execution_count": 25
        }
      ]
    },
    {
      "cell_type": "code",
      "metadata": {
        "id": "-FvsZ8JvioiY",
        "colab": {
          "base_uri": "https://localhost:8080/"
        },
        "outputId": "f36401e7-f0dd-45f3-8f49-7a5918137126"
      },
      "source": [
        "len(drop_features)"
      ],
      "execution_count": null,
      "outputs": [
        {
          "output_type": "execute_result",
          "data": {
            "text/plain": [
              "0"
            ]
          },
          "metadata": {},
          "execution_count": 26
        }
      ]
    },
    {
      "cell_type": "code",
      "metadata": {
        "id": "EQo2QmPtJGgc"
      },
      "source": [
        "# Save features to drop into a text file.\n",
        "\n",
        "f = open(\"drop_relation_statistic.txt\", \"a\")\n",
        "for feature in drop_features:\n",
        "  f.write(\"{}-\".format(feature))\n",
        "f.close()"
      ],
      "execution_count": null,
      "outputs": []
    },
    {
      "cell_type": "code",
      "metadata": {
        "id": "N_ZKlpqRiHA-"
      },
      "source": [
        "if len(policy_set)>1:\n",
        "  statistic=statistic.drop(columns=drop_features)"
      ],
      "execution_count": null,
      "outputs": []
    },
    {
      "cell_type": "code",
      "metadata": {
        "id": "gGNrSoVsPOSX",
        "colab": {
          "base_uri": "https://localhost:8080/",
          "height": 480
        },
        "outputId": "00eee183-69e7-4cb7-c9b7-5f83b566d116"
      },
      "source": [
        "global_explainability_tabular.loc[\"supports\"][:15]"
      ],
      "execution_count": null,
      "outputs": [
        {
          "output_type": "execute_result",
          "data": {
            "text/html": [
              "<div>\n",
              "<style scoped>\n",
              "    .dataframe tbody tr th:only-of-type {\n",
              "        vertical-align: middle;\n",
              "    }\n",
              "\n",
              "    .dataframe tbody tr th {\n",
              "        vertical-align: top;\n",
              "    }\n",
              "\n",
              "    .dataframe thead th {\n",
              "        text-align: right;\n",
              "    }\n",
              "</style>\n",
              "<table border=\"1\" class=\"dataframe\">\n",
              "  <thead>\n",
              "    <tr style=\"text-align: right;\">\n",
              "      <th></th>\n",
              "      <th>features</th>\n",
              "      <th>score</th>\n",
              "    </tr>\n",
              "    <tr>\n",
              "      <th>type</th>\n",
              "      <th></th>\n",
              "      <th></th>\n",
              "    </tr>\n",
              "  </thead>\n",
              "  <tbody>\n",
              "    <tr>\n",
              "      <th>supports</th>\n",
              "      <td>paragraph distance: 0</td>\n",
              "      <td>0.058767</td>\n",
              "    </tr>\n",
              "    <tr>\n",
              "      <th>supports</th>\n",
              "      <td>position_in_essay_distance: 0</td>\n",
              "      <td>0.027703</td>\n",
              "    </tr>\n",
              "    <tr>\n",
              "      <th>supports</th>\n",
              "      <td>position_in_essay_distance: 1</td>\n",
              "      <td>0.016122</td>\n",
              "    </tr>\n",
              "    <tr>\n",
              "      <th>supports</th>\n",
              "      <td>position_in_essay_distance: 6</td>\n",
              "      <td>0.004237</td>\n",
              "    </tr>\n",
              "    <tr>\n",
              "      <th>supports</th>\n",
              "      <td>position_in_essay_distance: 2</td>\n",
              "      <td>0.003859</td>\n",
              "    </tr>\n",
              "    <tr>\n",
              "      <th>supports</th>\n",
              "      <td>position_in_essay_distance: 5</td>\n",
              "      <td>0.002734</td>\n",
              "    </tr>\n",
              "    <tr>\n",
              "      <th>supports</th>\n",
              "      <td>position_in_essay_distance: 7</td>\n",
              "      <td>0.002591</td>\n",
              "    </tr>\n",
              "    <tr>\n",
              "      <th>supports</th>\n",
              "      <td>position_in_essay_distance: 3</td>\n",
              "      <td>0.002230</td>\n",
              "    </tr>\n",
              "    <tr>\n",
              "      <th>supports</th>\n",
              "      <td>position_in_essay_distance: 8</td>\n",
              "      <td>0.001314</td>\n",
              "    </tr>\n",
              "    <tr>\n",
              "      <th>supports</th>\n",
              "      <td>paragraph distance: 1</td>\n",
              "      <td>0.000486</td>\n",
              "    </tr>\n",
              "    <tr>\n",
              "      <th>supports</th>\n",
              "      <td>position_in_essay_distance: 4</td>\n",
              "      <td>0.000458</td>\n",
              "    </tr>\n",
              "    <tr>\n",
              "      <th>supports</th>\n",
              "      <td>position_in_essay_distance: 10</td>\n",
              "      <td>0.000298</td>\n",
              "    </tr>\n",
              "    <tr>\n",
              "      <th>supports</th>\n",
              "      <td>position_in_essay_distance: 9</td>\n",
              "      <td>0.000295</td>\n",
              "    </tr>\n",
              "  </tbody>\n",
              "</table>\n",
              "</div>"
            ],
            "text/plain": [
              "                                features     score\n",
              "type                                              \n",
              "supports           paragraph distance: 0  0.058767\n",
              "supports   position_in_essay_distance: 0  0.027703\n",
              "supports   position_in_essay_distance: 1  0.016122\n",
              "supports   position_in_essay_distance: 6  0.004237\n",
              "supports   position_in_essay_distance: 2  0.003859\n",
              "supports   position_in_essay_distance: 5  0.002734\n",
              "supports   position_in_essay_distance: 7  0.002591\n",
              "supports   position_in_essay_distance: 3  0.002230\n",
              "supports   position_in_essay_distance: 8  0.001314\n",
              "supports           paragraph distance: 1  0.000486\n",
              "supports   position_in_essay_distance: 4  0.000458\n",
              "supports  position_in_essay_distance: 10  0.000298\n",
              "supports   position_in_essay_distance: 9  0.000295"
            ]
          },
          "metadata": {},
          "execution_count": 29
        }
      ]
    },
    {
      "cell_type": "code",
      "metadata": {
        "id": "f14npURSPfXA",
        "colab": {
          "base_uri": "https://localhost:8080/",
          "height": 326
        },
        "outputId": "b9fb3697-e454-49fb-9cf5-61c243acae02"
      },
      "source": [
        "global_explainability_tabular.loc[\"attacks\"][:10]"
      ],
      "execution_count": null,
      "outputs": [
        {
          "output_type": "execute_result",
          "data": {
            "text/html": [
              "<div>\n",
              "<style scoped>\n",
              "    .dataframe tbody tr th:only-of-type {\n",
              "        vertical-align: middle;\n",
              "    }\n",
              "\n",
              "    .dataframe tbody tr th {\n",
              "        vertical-align: top;\n",
              "    }\n",
              "\n",
              "    .dataframe thead th {\n",
              "        text-align: right;\n",
              "    }\n",
              "</style>\n",
              "<table border=\"1\" class=\"dataframe\">\n",
              "  <thead>\n",
              "    <tr style=\"text-align: right;\">\n",
              "      <th></th>\n",
              "      <th>features</th>\n",
              "      <th>score</th>\n",
              "    </tr>\n",
              "    <tr>\n",
              "      <th>type</th>\n",
              "      <th></th>\n",
              "      <th></th>\n",
              "    </tr>\n",
              "  </thead>\n",
              "  <tbody>\n",
              "    <tr>\n",
              "      <th>attacks</th>\n",
              "      <td>position_in_essay_distance: 0</td>\n",
              "      <td>0.061371</td>\n",
              "    </tr>\n",
              "    <tr>\n",
              "      <th>attacks</th>\n",
              "      <td>paragraph distance: 0</td>\n",
              "      <td>0.044963</td>\n",
              "    </tr>\n",
              "    <tr>\n",
              "      <th>attacks</th>\n",
              "      <td>position_in_essay_distance: 1</td>\n",
              "      <td>0.009998</td>\n",
              "    </tr>\n",
              "    <tr>\n",
              "      <th>attacks</th>\n",
              "      <td>position_in_essay_distance: 5</td>\n",
              "      <td>0.002452</td>\n",
              "    </tr>\n",
              "    <tr>\n",
              "      <th>attacks</th>\n",
              "      <td>position_in_essay_distance: 2</td>\n",
              "      <td>0.002325</td>\n",
              "    </tr>\n",
              "    <tr>\n",
              "      <th>attacks</th>\n",
              "      <td>position_in_essay_distance: 6</td>\n",
              "      <td>0.001485</td>\n",
              "    </tr>\n",
              "    <tr>\n",
              "      <th>attacks</th>\n",
              "      <td>position_in_essay_distance: 3</td>\n",
              "      <td>0.000992</td>\n",
              "    </tr>\n",
              "    <tr>\n",
              "      <th>attacks</th>\n",
              "      <td>position_in_essay_distance: 4</td>\n",
              "      <td>0.000355</td>\n",
              "    </tr>\n",
              "  </tbody>\n",
              "</table>\n",
              "</div>"
            ],
            "text/plain": [
              "                              features     score\n",
              "type                                            \n",
              "attacks  position_in_essay_distance: 0  0.061371\n",
              "attacks          paragraph distance: 0  0.044963\n",
              "attacks  position_in_essay_distance: 1  0.009998\n",
              "attacks  position_in_essay_distance: 5  0.002452\n",
              "attacks  position_in_essay_distance: 2  0.002325\n",
              "attacks  position_in_essay_distance: 6  0.001485\n",
              "attacks  position_in_essay_distance: 3  0.000992\n",
              "attacks  position_in_essay_distance: 4  0.000355"
            ]
          },
          "metadata": {},
          "execution_count": 30
        }
      ]
    },
    {
      "cell_type": "code",
      "metadata": {
        "id": "UM_XdHvqybpF",
        "colab": {
          "base_uri": "https://localhost:8080/",
          "height": 388
        },
        "outputId": "294d1024-5f23-413f-b535-6352196120ba"
      },
      "source": [
        "global_explainability_tabular.loc[\"None\"][:10]"
      ],
      "execution_count": null,
      "outputs": [
        {
          "output_type": "execute_result",
          "data": {
            "text/html": [
              "<div>\n",
              "<style scoped>\n",
              "    .dataframe tbody tr th:only-of-type {\n",
              "        vertical-align: middle;\n",
              "    }\n",
              "\n",
              "    .dataframe tbody tr th {\n",
              "        vertical-align: top;\n",
              "    }\n",
              "\n",
              "    .dataframe thead th {\n",
              "        text-align: right;\n",
              "    }\n",
              "</style>\n",
              "<table border=\"1\" class=\"dataframe\">\n",
              "  <thead>\n",
              "    <tr style=\"text-align: right;\">\n",
              "      <th></th>\n",
              "      <th>features</th>\n",
              "      <th>score</th>\n",
              "    </tr>\n",
              "    <tr>\n",
              "      <th>type</th>\n",
              "      <th></th>\n",
              "      <th></th>\n",
              "    </tr>\n",
              "  </thead>\n",
              "  <tbody>\n",
              "    <tr>\n",
              "      <th>None</th>\n",
              "      <td>paragraph distance: 1</td>\n",
              "      <td>0.285901</td>\n",
              "    </tr>\n",
              "    <tr>\n",
              "      <th>None</th>\n",
              "      <td>paragraph distance: 2</td>\n",
              "      <td>0.123273</td>\n",
              "    </tr>\n",
              "    <tr>\n",
              "      <th>None</th>\n",
              "      <td>position_in_essay_distance: 7</td>\n",
              "      <td>0.040051</td>\n",
              "    </tr>\n",
              "    <tr>\n",
              "      <th>None</th>\n",
              "      <td>position_in_essay_distance: 8</td>\n",
              "      <td>0.039584</td>\n",
              "    </tr>\n",
              "    <tr>\n",
              "      <th>None</th>\n",
              "      <td>position_in_essay_distance: 9</td>\n",
              "      <td>0.035908</td>\n",
              "    </tr>\n",
              "    <tr>\n",
              "      <th>None</th>\n",
              "      <td>position_in_essay_distance: 10</td>\n",
              "      <td>0.030901</td>\n",
              "    </tr>\n",
              "    <tr>\n",
              "      <th>None</th>\n",
              "      <td>position_in_essay_distance: 6</td>\n",
              "      <td>0.026352</td>\n",
              "    </tr>\n",
              "    <tr>\n",
              "      <th>None</th>\n",
              "      <td>paragraph distance: 3</td>\n",
              "      <td>0.022150</td>\n",
              "    </tr>\n",
              "    <tr>\n",
              "      <th>None</th>\n",
              "      <td>position_in_essay_distance: 11</td>\n",
              "      <td>0.020105</td>\n",
              "    </tr>\n",
              "    <tr>\n",
              "      <th>None</th>\n",
              "      <td>position_in_essay_distance: 12</td>\n",
              "      <td>0.016783</td>\n",
              "    </tr>\n",
              "  </tbody>\n",
              "</table>\n",
              "</div>"
            ],
            "text/plain": [
              "                            features     score\n",
              "type                                          \n",
              "None           paragraph distance: 1  0.285901\n",
              "None           paragraph distance: 2  0.123273\n",
              "None   position_in_essay_distance: 7  0.040051\n",
              "None   position_in_essay_distance: 8  0.039584\n",
              "None   position_in_essay_distance: 9  0.035908\n",
              "None  position_in_essay_distance: 10  0.030901\n",
              "None   position_in_essay_distance: 6  0.026352\n",
              "None           paragraph distance: 3  0.022150\n",
              "None  position_in_essay_distance: 11  0.020105\n",
              "None  position_in_essay_distance: 12  0.016783"
            ]
          },
          "metadata": {},
          "execution_count": 31
        }
      ]
    },
    {
      "cell_type": "markdown",
      "metadata": {
        "id": "rdmSiNpSDsTj"
      },
      "source": [
        "## **POS dataframe**"
      ]
    },
    {
      "cell_type": "code",
      "metadata": {
        "id": "jVQKlL5Gddmt",
        "colab": {
          "base_uri": "https://localhost:8080/"
        },
        "outputId": "0ac0add0-5b36-466c-dca4-6157ba96dccf"
      },
      "source": [
        "ground_labels, _, labels, _, _, policy=stc_procedure(POS,true_labels)"
      ],
      "execution_count": null,
      "outputs": [
        {
          "output_type": "stream",
          "name": "stdout",
          "text": [
            ""
          ]
        }
      ]
    },
    {
      "cell_type": "code",
      "metadata": {
        "id": "lJlBssrlvN1N",
        "colab": {
          "base_uri": "https://localhost:8080/"
        },
        "outputId": "859b25a1-492c-4514-cb26-379a59ea43b4"
      },
      "source": [
        "_, global_explainability_tabular, _, _, _, _, microtext_ground_labels, microtext_labels=stc_procedure_tabular(POS,true_labels,microtext_POS,microtext_true_labels)"
      ],
      "execution_count": null,
      "outputs": [
        {
          "output_type": "stream",
          "name": "stdout",
          "text": [
            ""
          ]
        }
      ]
    },
    {
      "cell_type": "code",
      "metadata": {
        "id": "bVWSIx8VzXYA",
        "colab": {
          "base_uri": "https://localhost:8080/"
        },
        "outputId": "4fb41de3-ac89-4431-b4a2-f56d4a572e8b"
      },
      "source": [
        "accuracy=accuracy_score(ground_labels, labels)\n",
        "f1_score_value=f1_score(y_true=ground_labels, y_pred=labels, average=\"macro\")\n",
        "precision=precision_score(ground_labels, labels, average=\"macro\")\n",
        "recall=recall_score(ground_labels, labels, average=\"macro\")\n",
        "\n",
        "microtext_accuracy=accuracy_score(microtext_ground_labels, microtext_labels)\n",
        "microtext_f1_score_value=f1_score(microtext_ground_labels, microtext_labels, average=\"macro\")\n",
        "microtext_precision=precision_score(microtext_ground_labels, microtext_labels, average=\"macro\")\n",
        "microtext_recall=recall_score(microtext_ground_labels, microtext_labels, average=\"macro\")"
      ],
      "execution_count": null,
      "outputs": [
        {
          "output_type": "stream",
          "name": "stderr",
          "text": [
            "/usr/local/lib/python3.7/dist-packages/sklearn/metrics/_classification.py:1272: UndefinedMetricWarning: Recall is ill-defined and being set to 0.0 in labels with no true samples. Use `zero_division` parameter to control this behavior.\n",
            "  _warn_prf(average, modifier, msg_start, len(result))\n"
          ]
        }
      ]
    },
    {
      "cell_type": "code",
      "metadata": {
        "id": "xnsWm1fizXYA"
      },
      "source": [
        "accuracy_scores.append(accuracy)\n",
        "f1_scores.append(f1_score_value)\n",
        "precision_scores.append(precision)\n",
        "recall_scores.append(recall)\n",
        "\n",
        "microtext_accuracy_scores.append(microtext_accuracy)\n",
        "microtext_f1_scores.append(microtext_f1_score_value)\n",
        "microtext_precision_scores.append(microtext_precision)\n",
        "microtext_recall_scores.append(microtext_recall)"
      ],
      "execution_count": null,
      "outputs": []
    },
    {
      "cell_type": "code",
      "metadata": {
        "id": "V9mjTdDXzXYA",
        "colab": {
          "base_uri": "https://localhost:8080/"
        },
        "outputId": "69a368f2-c5bc-4c59-991a-d5f62b852b8f"
      },
      "source": [
        "print('accuracy: {}'.format(accuracy))\n",
        "print('f1 score: {}'.format(f1_score_value))\n",
        "print('precision: {}'.format(precision))\n",
        "print('recall: {}'.format(recall))\n",
        "print('\\n')\n",
        "print('accuracy microtext dataset: {}'.format(microtext_accuracy))\n",
        "print('f1 score microtext dataset: {}'.format(microtext_f1_score_value))\n",
        "print('precision microtext dataset: {}'.format(microtext_precision))\n",
        "print('recall microtext dataset: {}'.format(microtext_recall))"
      ],
      "execution_count": null,
      "outputs": [
        {
          "output_type": "stream",
          "name": "stdout",
          "text": [
            "accuracy: 0.46492048643592143\n",
            "f1 score: 0.35702376568412403\n",
            "precision: 0.3570231966510522\n",
            "recall: 0.39223060344827587\n",
            "\n",
            "\n",
            "accuracy microtext dataset: 0.4555256064690027\n",
            "f1 score microtext dataset: 0.2741413670833656\n",
            "precision microtext dataset: 0.32823353556669305\n",
            "recall microtext dataset: 0.24148007322912268\n"
          ]
        }
      ]
    },
    {
      "cell_type": "code",
      "metadata": {
        "id": "2V85d_8jddmw",
        "colab": {
          "base_uri": "https://localhost:8080/"
        },
        "outputId": "d6077338-2941-46a4-e4b2-474ed0f2988b"
      },
      "source": [
        "policy"
      ],
      "execution_count": null,
      "outputs": [
        {
          "output_type": "execute_result",
          "data": {
            "text/plain": [
              "[['d33',\n",
              "  'd36',\n",
              "  'd0',\n",
              "  'd8',\n",
              "  'd35',\n",
              "  'd17',\n",
              "  'd32',\n",
              "  'd31',\n",
              "  'd34',\n",
              "  'd23',\n",
              "  'd30',\n",
              "  'd4',\n",
              "  'd20',\n",
              "  'd24',\n",
              "  'd10',\n",
              "  'd13',\n",
              "  'd18',\n",
              "  'd14'],\n",
              " ['d36',\n",
              "  'd0',\n",
              "  'd8',\n",
              "  'd35',\n",
              "  'd17',\n",
              "  'd32',\n",
              "  'd31',\n",
              "  'd34',\n",
              "  'd23',\n",
              "  'd30',\n",
              "  'd4',\n",
              "  'd20',\n",
              "  'd24',\n",
              "  'd10',\n",
              "  'd13',\n",
              "  'd18',\n",
              "  'd14'],\n",
              " ['d0',\n",
              "  'd8',\n",
              "  'd35',\n",
              "  'd17',\n",
              "  'd32',\n",
              "  'd31',\n",
              "  'd34',\n",
              "  'd23',\n",
              "  'd30',\n",
              "  'd4',\n",
              "  'd20',\n",
              "  'd24',\n",
              "  'd10',\n",
              "  'd13',\n",
              "  'd18',\n",
              "  'd14'],\n",
              " ['d8',\n",
              "  'd35',\n",
              "  'd17',\n",
              "  'd32',\n",
              "  'd31',\n",
              "  'd34',\n",
              "  'd23',\n",
              "  'd30',\n",
              "  'd4',\n",
              "  'd20',\n",
              "  'd24',\n",
              "  'd10',\n",
              "  'd13',\n",
              "  'd18',\n",
              "  'd14'],\n",
              " ['d35',\n",
              "  'd17',\n",
              "  'd32',\n",
              "  'd31',\n",
              "  'd34',\n",
              "  'd23',\n",
              "  'd30',\n",
              "  'd4',\n",
              "  'd20',\n",
              "  'd24',\n",
              "  'd10',\n",
              "  'd13',\n",
              "  'd18',\n",
              "  'd14'],\n",
              " ['d17',\n",
              "  'd32',\n",
              "  'd31',\n",
              "  'd34',\n",
              "  'd23',\n",
              "  'd30',\n",
              "  'd4',\n",
              "  'd20',\n",
              "  'd24',\n",
              "  'd10',\n",
              "  'd13',\n",
              "  'd18',\n",
              "  'd14'],\n",
              " ['d32',\n",
              "  'd31',\n",
              "  'd34',\n",
              "  'd23',\n",
              "  'd30',\n",
              "  'd4',\n",
              "  'd20',\n",
              "  'd24',\n",
              "  'd10',\n",
              "  'd13',\n",
              "  'd18',\n",
              "  'd14'],\n",
              " ['d31', 'd34', 'd23', 'd30', 'd4', 'd20', 'd24', 'd10', 'd13', 'd18', 'd14'],\n",
              " ['d34', 'd23', 'd30', 'd4', 'd20', 'd24', 'd10', 'd13', 'd18', 'd14'],\n",
              " ['d23', 'd30', 'd4', 'd20', 'd24', 'd10', 'd13', 'd18', 'd14'],\n",
              " ['d30', 'd4', 'd20', 'd24', 'd10', 'd13', 'd18', 'd14'],\n",
              " ['d4', 'd20', 'd24', 'd10', 'd13', 'd18', 'd14'],\n",
              " ['d20', 'd24', 'd10', 'd13', 'd18', 'd14'],\n",
              " ['d24', 'd10', 'd13', 'd18', 'd14'],\n",
              " ['d10', 'd13', 'd18', 'd14'],\n",
              " ['d13', 'd18', 'd14'],\n",
              " ['d18', 'd14'],\n",
              " ['d14'],\n",
              " []]"
            ]
          },
          "metadata": {},
          "execution_count": 37
        }
      ]
    },
    {
      "cell_type": "code",
      "metadata": {
        "id": "4UZQD0WZjIhd",
        "colab": {
          "base_uri": "https://localhost:8080/"
        },
        "outputId": "315f1fb1-c98b-44e0-a1cb-cc1ce1986c11"
      },
      "source": [
        "policy_set=[]\n",
        "\n",
        "for pol in policy:\n",
        "  policy_set+=pol\n",
        "\n",
        "policy_set=list(set(policy_set))\n",
        "\n",
        "column=POS.columns\n",
        "drop_features=[]\n",
        "for i in range(len(column)-1):\n",
        "  if not 'd{}'.format(i) in policy_set:\n",
        "    drop_features.append(column[i])\n",
        "\n",
        "drop_features"
      ],
      "execution_count": null,
      "outputs": [
        {
          "output_type": "execute_result",
          "data": {
            "text/plain": [
              "[\"''\",\n",
              " '(',\n",
              " ')',\n",
              " '.',\n",
              " ':',\n",
              " '``',\n",
              " 'cd',\n",
              " 'ex',\n",
              " 'fw',\n",
              " 'jjr',\n",
              " 'jjs',\n",
              " 'nnp',\n",
              " 'pdt',\n",
              " 'po',\n",
              " 'rbr',\n",
              " 'rp',\n",
              " 'sym',\n",
              " 'to',\n",
              " 'uh',\n",
              " 'wp',\n",
              " 'wrb']"
            ]
          },
          "metadata": {},
          "execution_count": 38
        }
      ]
    },
    {
      "cell_type": "code",
      "metadata": {
        "id": "mLbwR0PHjIhe",
        "colab": {
          "base_uri": "https://localhost:8080/"
        },
        "outputId": "55bb1a6d-8065-4c8a-80b7-f90667d256fb"
      },
      "source": [
        "len(drop_features)"
      ],
      "execution_count": null,
      "outputs": [
        {
          "output_type": "execute_result",
          "data": {
            "text/plain": [
              "21"
            ]
          },
          "metadata": {},
          "execution_count": 39
        }
      ]
    },
    {
      "cell_type": "code",
      "metadata": {
        "id": "Uv2q29d32YI7"
      },
      "source": [
        "# Save features to drop into a text file.\n",
        "\n",
        "f = open(\"drop_relation_POS.txt\", \"a\")\n",
        "for feature in drop_features:\n",
        "  f.write(\"{}-\".format(feature))\n",
        "f.close()"
      ],
      "execution_count": null,
      "outputs": []
    },
    {
      "cell_type": "code",
      "metadata": {
        "id": "RAaqXCXUjIhe"
      },
      "source": [
        "if len(policy_set)>1:\n",
        "  POS=POS.drop(columns=drop_features)"
      ],
      "execution_count": null,
      "outputs": []
    },
    {
      "cell_type": "code",
      "metadata": {
        "id": "k3A5bt_vylhb",
        "colab": {
          "base_uri": "https://localhost:8080/",
          "height": 542
        },
        "outputId": "69a0154e-ae4d-40df-8750-e46ee636f474"
      },
      "source": [
        "global_explainability_tabular.loc[\"supports\"][:15]"
      ],
      "execution_count": null,
      "outputs": [
        {
          "output_type": "execute_result",
          "data": {
            "text/html": [
              "<div>\n",
              "<style scoped>\n",
              "    .dataframe tbody tr th:only-of-type {\n",
              "        vertical-align: middle;\n",
              "    }\n",
              "\n",
              "    .dataframe tbody tr th {\n",
              "        vertical-align: top;\n",
              "    }\n",
              "\n",
              "    .dataframe thead th {\n",
              "        text-align: right;\n",
              "    }\n",
              "</style>\n",
              "<table border=\"1\" class=\"dataframe\">\n",
              "  <thead>\n",
              "    <tr style=\"text-align: right;\">\n",
              "      <th></th>\n",
              "      <th>features</th>\n",
              "      <th>score</th>\n",
              "    </tr>\n",
              "    <tr>\n",
              "      <th>type</th>\n",
              "      <th></th>\n",
              "      <th></th>\n",
              "    </tr>\n",
              "  </thead>\n",
              "  <tbody>\n",
              "    <tr>\n",
              "      <th>supports</th>\n",
              "      <td>in: 0</td>\n",
              "      <td>0.000743</td>\n",
              "    </tr>\n",
              "    <tr>\n",
              "      <th>supports</th>\n",
              "      <td>rb: 0</td>\n",
              "      <td>0.000702</td>\n",
              "    </tr>\n",
              "    <tr>\n",
              "      <th>supports</th>\n",
              "      <td>,: 0</td>\n",
              "      <td>0.000485</td>\n",
              "    </tr>\n",
              "    <tr>\n",
              "      <th>supports</th>\n",
              "      <td>md: 2</td>\n",
              "      <td>0.000425</td>\n",
              "    </tr>\n",
              "    <tr>\n",
              "      <th>supports</th>\n",
              "      <td>jj: 0</td>\n",
              "      <td>0.000313</td>\n",
              "    </tr>\n",
              "    <tr>\n",
              "      <th>supports</th>\n",
              "      <td>vbz: 1</td>\n",
              "      <td>0.000275</td>\n",
              "    </tr>\n",
              "    <tr>\n",
              "      <th>supports</th>\n",
              "      <td>vbg: 2</td>\n",
              "      <td>0.000268</td>\n",
              "    </tr>\n",
              "    <tr>\n",
              "      <th>supports</th>\n",
              "      <td>rb: 2</td>\n",
              "      <td>0.000268</td>\n",
              "    </tr>\n",
              "    <tr>\n",
              "      <th>supports</th>\n",
              "      <td>dt: 0</td>\n",
              "      <td>0.000254</td>\n",
              "    </tr>\n",
              "    <tr>\n",
              "      <th>supports</th>\n",
              "      <td>nns: 4</td>\n",
              "      <td>0.000251</td>\n",
              "    </tr>\n",
              "    <tr>\n",
              "      <th>supports</th>\n",
              "      <td>jjr: 2</td>\n",
              "      <td>0.000241</td>\n",
              "    </tr>\n",
              "    <tr>\n",
              "      <th>supports</th>\n",
              "      <td>vbz: 2</td>\n",
              "      <td>0.000233</td>\n",
              "    </tr>\n",
              "    <tr>\n",
              "      <th>supports</th>\n",
              "      <td>jj: 3</td>\n",
              "      <td>0.000232</td>\n",
              "    </tr>\n",
              "    <tr>\n",
              "      <th>supports</th>\n",
              "      <td>prp: 3</td>\n",
              "      <td>0.000219</td>\n",
              "    </tr>\n",
              "    <tr>\n",
              "      <th>supports</th>\n",
              "      <td>cc: 2</td>\n",
              "      <td>0.000217</td>\n",
              "    </tr>\n",
              "  </tbody>\n",
              "</table>\n",
              "</div>"
            ],
            "text/plain": [
              "         features     score\n",
              "type                       \n",
              "supports    in: 0  0.000743\n",
              "supports    rb: 0  0.000702\n",
              "supports     ,: 0  0.000485\n",
              "supports    md: 2  0.000425\n",
              "supports    jj: 0  0.000313\n",
              "supports   vbz: 1  0.000275\n",
              "supports   vbg: 2  0.000268\n",
              "supports    rb: 2  0.000268\n",
              "supports    dt: 0  0.000254\n",
              "supports   nns: 4  0.000251\n",
              "supports   jjr: 2  0.000241\n",
              "supports   vbz: 2  0.000233\n",
              "supports    jj: 3  0.000232\n",
              "supports   prp: 3  0.000219\n",
              "supports    cc: 2  0.000217"
            ]
          },
          "metadata": {},
          "execution_count": 42
        }
      ]
    },
    {
      "cell_type": "code",
      "metadata": {
        "id": "lUYnWPxsylhc",
        "colab": {
          "base_uri": "https://localhost:8080/",
          "height": 388
        },
        "outputId": "33e6c7a3-4c07-4d60-955f-4bfed239ba3d"
      },
      "source": [
        "global_explainability_tabular.loc[\"attacks\"][:10]"
      ],
      "execution_count": null,
      "outputs": [
        {
          "output_type": "execute_result",
          "data": {
            "text/html": [
              "<div>\n",
              "<style scoped>\n",
              "    .dataframe tbody tr th:only-of-type {\n",
              "        vertical-align: middle;\n",
              "    }\n",
              "\n",
              "    .dataframe tbody tr th {\n",
              "        vertical-align: top;\n",
              "    }\n",
              "\n",
              "    .dataframe thead th {\n",
              "        text-align: right;\n",
              "    }\n",
              "</style>\n",
              "<table border=\"1\" class=\"dataframe\">\n",
              "  <thead>\n",
              "    <tr style=\"text-align: right;\">\n",
              "      <th></th>\n",
              "      <th>features</th>\n",
              "      <th>score</th>\n",
              "    </tr>\n",
              "    <tr>\n",
              "      <th>type</th>\n",
              "      <th></th>\n",
              "      <th></th>\n",
              "    </tr>\n",
              "  </thead>\n",
              "  <tbody>\n",
              "    <tr>\n",
              "      <th>attacks</th>\n",
              "      <td>md: 2</td>\n",
              "      <td>0.001618</td>\n",
              "    </tr>\n",
              "    <tr>\n",
              "      <th>attacks</th>\n",
              "      <td>:: 1</td>\n",
              "      <td>0.001249</td>\n",
              "    </tr>\n",
              "    <tr>\n",
              "      <th>attacks</th>\n",
              "      <td>nn: 10</td>\n",
              "      <td>0.001058</td>\n",
              "    </tr>\n",
              "    <tr>\n",
              "      <th>attacks</th>\n",
              "      <td>dt: 8</td>\n",
              "      <td>0.001004</td>\n",
              "    </tr>\n",
              "    <tr>\n",
              "      <th>attacks</th>\n",
              "      <td>dt: 7</td>\n",
              "      <td>0.000951</td>\n",
              "    </tr>\n",
              "    <tr>\n",
              "      <th>attacks</th>\n",
              "      <td>in: 7</td>\n",
              "      <td>0.000875</td>\n",
              "    </tr>\n",
              "    <tr>\n",
              "      <th>attacks</th>\n",
              "      <td>nn: 7</td>\n",
              "      <td>0.000848</td>\n",
              "    </tr>\n",
              "    <tr>\n",
              "      <th>attacks</th>\n",
              "      <td>in: 11</td>\n",
              "      <td>0.000799</td>\n",
              "    </tr>\n",
              "    <tr>\n",
              "      <th>attacks</th>\n",
              "      <td>md: 3</td>\n",
              "      <td>0.000748</td>\n",
              "    </tr>\n",
              "    <tr>\n",
              "      <th>attacks</th>\n",
              "      <td>vbg: 2</td>\n",
              "      <td>0.000735</td>\n",
              "    </tr>\n",
              "  </tbody>\n",
              "</table>\n",
              "</div>"
            ],
            "text/plain": [
              "        features     score\n",
              "type                      \n",
              "attacks    md: 2  0.001618\n",
              "attacks     :: 1  0.001249\n",
              "attacks   nn: 10  0.001058\n",
              "attacks    dt: 8  0.001004\n",
              "attacks    dt: 7  0.000951\n",
              "attacks    in: 7  0.000875\n",
              "attacks    nn: 7  0.000848\n",
              "attacks   in: 11  0.000799\n",
              "attacks    md: 3  0.000748\n",
              "attacks   vbg: 2  0.000735"
            ]
          },
          "metadata": {},
          "execution_count": 43
        }
      ]
    },
    {
      "cell_type": "code",
      "metadata": {
        "id": "gxPM96BDylhc",
        "colab": {
          "base_uri": "https://localhost:8080/",
          "height": 388
        },
        "outputId": "e09211f4-4543-48c5-ecbd-54f2ad46e5c8"
      },
      "source": [
        "global_explainability_tabular.loc[\"None\"][:10]"
      ],
      "execution_count": null,
      "outputs": [
        {
          "output_type": "execute_result",
          "data": {
            "text/html": [
              "<div>\n",
              "<style scoped>\n",
              "    .dataframe tbody tr th:only-of-type {\n",
              "        vertical-align: middle;\n",
              "    }\n",
              "\n",
              "    .dataframe tbody tr th {\n",
              "        vertical-align: top;\n",
              "    }\n",
              "\n",
              "    .dataframe thead th {\n",
              "        text-align: right;\n",
              "    }\n",
              "</style>\n",
              "<table border=\"1\" class=\"dataframe\">\n",
              "  <thead>\n",
              "    <tr style=\"text-align: right;\">\n",
              "      <th></th>\n",
              "      <th>features</th>\n",
              "      <th>score</th>\n",
              "    </tr>\n",
              "    <tr>\n",
              "      <th>type</th>\n",
              "      <th></th>\n",
              "      <th></th>\n",
              "    </tr>\n",
              "  </thead>\n",
              "  <tbody>\n",
              "    <tr>\n",
              "      <th>None</th>\n",
              "      <td>rb: 0</td>\n",
              "      <td>0.000764</td>\n",
              "    </tr>\n",
              "    <tr>\n",
              "      <th>None</th>\n",
              "      <td>in: 0</td>\n",
              "      <td>0.000665</td>\n",
              "    </tr>\n",
              "    <tr>\n",
              "      <th>None</th>\n",
              "      <td>,: 0</td>\n",
              "      <td>0.000532</td>\n",
              "    </tr>\n",
              "    <tr>\n",
              "      <th>None</th>\n",
              "      <td>jj: 0</td>\n",
              "      <td>0.000328</td>\n",
              "    </tr>\n",
              "    <tr>\n",
              "      <th>None</th>\n",
              "      <td>dt: 0</td>\n",
              "      <td>0.000265</td>\n",
              "    </tr>\n",
              "    <tr>\n",
              "      <th>None</th>\n",
              "      <td>prp: 3</td>\n",
              "      <td>0.000228</td>\n",
              "    </tr>\n",
              "    <tr>\n",
              "      <th>None</th>\n",
              "      <td>cc: 2</td>\n",
              "      <td>0.000224</td>\n",
              "    </tr>\n",
              "    <tr>\n",
              "      <th>None</th>\n",
              "      <td>vbz: 1</td>\n",
              "      <td>0.000215</td>\n",
              "    </tr>\n",
              "    <tr>\n",
              "      <th>None</th>\n",
              "      <td>rb: 2</td>\n",
              "      <td>0.000204</td>\n",
              "    </tr>\n",
              "    <tr>\n",
              "      <th>None</th>\n",
              "      <td>md: 2</td>\n",
              "      <td>0.000199</td>\n",
              "    </tr>\n",
              "  </tbody>\n",
              "</table>\n",
              "</div>"
            ],
            "text/plain": [
              "     features     score\n",
              "type                   \n",
              "None    rb: 0  0.000764\n",
              "None    in: 0  0.000665\n",
              "None     ,: 0  0.000532\n",
              "None    jj: 0  0.000328\n",
              "None    dt: 0  0.000265\n",
              "None   prp: 3  0.000228\n",
              "None    cc: 2  0.000224\n",
              "None   vbz: 1  0.000215\n",
              "None    rb: 2  0.000204\n",
              "None    md: 2  0.000199"
            ]
          },
          "metadata": {},
          "execution_count": 44
        }
      ]
    },
    {
      "cell_type": "markdown",
      "metadata": {
        "id": "ratGQCj3IE7q"
      },
      "source": [
        "## **Simple POS dataframe**"
      ]
    },
    {
      "cell_type": "code",
      "metadata": {
        "id": "zhJxOHQWdnf-",
        "colab": {
          "base_uri": "https://localhost:8080/"
        },
        "outputId": "b8b76188-c162-4161-8ad4-fc1bf8d910cd"
      },
      "source": [
        "ground_labels, _, labels, _, _, policy=stc_procedure(simple_POS,true_labels)"
      ],
      "execution_count": null,
      "outputs": [
        {
          "output_type": "stream",
          "name": "stdout",
          "text": [
            ""
          ]
        }
      ]
    },
    {
      "cell_type": "code",
      "metadata": {
        "id": "QsjrMDPzvRNX",
        "colab": {
          "base_uri": "https://localhost:8080/"
        },
        "outputId": "c6c92d11-e587-4ac1-d9d9-7e45c9cccdd7"
      },
      "source": [
        "_, global_explainability_tabular, _, _, _, _, microtext_ground_labels, microtext_labels=stc_procedure_tabular(simple_POS,true_labels,microtext_simple_POS,microtext_true_labels)"
      ],
      "execution_count": null,
      "outputs": [
        {
          "output_type": "stream",
          "name": "stdout",
          "text": [
            ""
          ]
        }
      ]
    },
    {
      "cell_type": "code",
      "metadata": {
        "id": "mpSfO461zaD3",
        "colab": {
          "base_uri": "https://localhost:8080/"
        },
        "outputId": "e39ec4a3-2af1-4209-c42c-a9ee0165ea97"
      },
      "source": [
        "accuracy=accuracy_score(ground_labels, labels)\n",
        "f1_score_value=f1_score(y_true=ground_labels, y_pred=labels, average=\"macro\")\n",
        "precision=precision_score(ground_labels, labels, average=\"macro\")\n",
        "recall=recall_score(ground_labels, labels, average=\"macro\")\n",
        "\n",
        "microtext_accuracy=accuracy_score(microtext_ground_labels, microtext_labels)\n",
        "microtext_f1_score_value=f1_score(microtext_ground_labels, microtext_labels, average=\"macro\")\n",
        "microtext_precision=precision_score(microtext_ground_labels, microtext_labels, average=\"macro\")\n",
        "microtext_recall=recall_score(microtext_ground_labels, microtext_labels, average=\"macro\")"
      ],
      "execution_count": null,
      "outputs": [
        {
          "output_type": "stream",
          "name": "stderr",
          "text": [
            "/usr/local/lib/python3.7/dist-packages/sklearn/metrics/_classification.py:1272: UndefinedMetricWarning: Recall is ill-defined and being set to 0.0 in labels with no true samples. Use `zero_division` parameter to control this behavior.\n",
            "  _warn_prf(average, modifier, msg_start, len(result))\n"
          ]
        }
      ]
    },
    {
      "cell_type": "code",
      "metadata": {
        "id": "-sAUrrKtzaD3"
      },
      "source": [
        "accuracy_scores.append(accuracy)\n",
        "f1_scores.append(f1_score_value)\n",
        "precision_scores.append(precision)\n",
        "recall_scores.append(recall)\n",
        "\n",
        "microtext_accuracy_scores.append(microtext_accuracy)\n",
        "microtext_f1_scores.append(microtext_f1_score_value)\n",
        "microtext_precision_scores.append(microtext_precision)\n",
        "microtext_recall_scores.append(microtext_recall)"
      ],
      "execution_count": null,
      "outputs": []
    },
    {
      "cell_type": "code",
      "metadata": {
        "id": "fuhXaLqyzaD3",
        "colab": {
          "base_uri": "https://localhost:8080/"
        },
        "outputId": "a9f741c2-9819-4d17-c7e6-c0f535ab3b25"
      },
      "source": [
        "print('accuracy: {}'.format(accuracy))\n",
        "print('f1 score: {}'.format(f1_score_value))\n",
        "print('precision: {}'.format(precision))\n",
        "print('recall: {}'.format(recall))\n",
        "print('\\n')\n",
        "print('accuracy microtext dataset: {}'.format(microtext_accuracy))\n",
        "print('f1 score microtext dataset: {}'.format(microtext_f1_score_value))\n",
        "print('precision microtext dataset: {}'.format(microtext_precision))\n",
        "print('recall microtext dataset: {}'.format(microtext_recall))"
      ],
      "execution_count": null,
      "outputs": [
        {
          "output_type": "stream",
          "name": "stdout",
          "text": [
            "accuracy: 0.48269410664172124\n",
            "f1 score: 0.350092558360275\n",
            "precision: 0.3563388276417014\n",
            "recall: 0.36167025862068963\n",
            "\n",
            "\n",
            "accuracy microtext dataset: 0.4716981132075472\n",
            "f1 score microtext dataset: 0.29378096808453485\n",
            "precision microtext dataset: 0.34784283513097075\n",
            "recall microtext dataset: 0.25817959911749516\n"
          ]
        }
      ]
    },
    {
      "cell_type": "code",
      "metadata": {
        "id": "l5KCxPUddngB",
        "colab": {
          "base_uri": "https://localhost:8080/"
        },
        "outputId": "c646b92c-cb51-4fea-829b-344330ad89cf"
      },
      "source": [
        "policy"
      ],
      "execution_count": null,
      "outputs": [
        {
          "output_type": "execute_result",
          "data": {
            "text/plain": [
              "[['d9', 'd0', 'd3', 'd2', 'd5', 'd1', 'd10', 'd6', 'd8', 'd4'],\n",
              " ['d0', 'd3', 'd2', 'd5', 'd1', 'd10', 'd6', 'd8', 'd4'],\n",
              " ['d3', 'd2', 'd5', 'd1', 'd10', 'd6', 'd8', 'd4'],\n",
              " ['d2', 'd5', 'd1', 'd10', 'd6', 'd8', 'd4'],\n",
              " ['d5', 'd1', 'd10', 'd6', 'd8', 'd4'],\n",
              " ['d1', 'd10', 'd6', 'd8', 'd4'],\n",
              " ['d10', 'd6', 'd8', 'd4'],\n",
              " ['d6', 'd8', 'd4'],\n",
              " ['d8', 'd4'],\n",
              " ['d4'],\n",
              " []]"
            ]
          },
          "metadata": {},
          "execution_count": 50
        }
      ]
    },
    {
      "cell_type": "code",
      "metadata": {
        "id": "-7kOeutZjQtA",
        "colab": {
          "base_uri": "https://localhost:8080/"
        },
        "outputId": "49c71356-7cc4-436f-b244-e5cda79cf63b"
      },
      "source": [
        "policy_set=[]\n",
        "\n",
        "for pol in policy:\n",
        "  policy_set+=pol\n",
        "\n",
        "policy_set=list(set(policy_set))\n",
        "\n",
        "column=simple_POS.columns\n",
        "drop_features=[]\n",
        "for i in range(len(column)-1):\n",
        "  if not 'd{}'.format(i) in policy_set:\n",
        "    drop_features.append(column[i])\n",
        "\n",
        "drop_features"
      ],
      "execution_count": null,
      "outputs": [
        {
          "output_type": "execute_result",
          "data": {
            "text/plain": [
              "['num', 'x']"
            ]
          },
          "metadata": {},
          "execution_count": 51
        }
      ]
    },
    {
      "cell_type": "code",
      "metadata": {
        "id": "bPxjckKjjQtB",
        "colab": {
          "base_uri": "https://localhost:8080/"
        },
        "outputId": "fd640811-7a49-4a68-8f60-f74c2c562aa7"
      },
      "source": [
        "len(drop_features)"
      ],
      "execution_count": null,
      "outputs": [
        {
          "output_type": "execute_result",
          "data": {
            "text/plain": [
              "2"
            ]
          },
          "metadata": {},
          "execution_count": 52
        }
      ]
    },
    {
      "cell_type": "code",
      "metadata": {
        "id": "Ghbv7_Ar2dtT"
      },
      "source": [
        "# Save features to drop into a text file.\n",
        "\n",
        "f = open(\"drop_relation_simple_POS.txt\", \"a\")\n",
        "for feature in drop_features:\n",
        "  f.write(\"{}-\".format(feature))\n",
        "f.close()"
      ],
      "execution_count": null,
      "outputs": []
    },
    {
      "cell_type": "code",
      "metadata": {
        "id": "gpoN1d0ijQtC"
      },
      "source": [
        "if len(policy_set)>1:\n",
        "  simple_POS=simple_POS.drop(columns=drop_features)"
      ],
      "execution_count": null,
      "outputs": []
    },
    {
      "cell_type": "code",
      "metadata": {
        "id": "L_G2Cvzaynsi",
        "colab": {
          "base_uri": "https://localhost:8080/",
          "height": 542
        },
        "outputId": "6fe7b29e-bdc7-4dda-d847-b3eb7356fe49"
      },
      "source": [
        "global_explainability_tabular.loc[\"supports\"][:15]"
      ],
      "execution_count": null,
      "outputs": [
        {
          "output_type": "execute_result",
          "data": {
            "text/html": [
              "<div>\n",
              "<style scoped>\n",
              "    .dataframe tbody tr th:only-of-type {\n",
              "        vertical-align: middle;\n",
              "    }\n",
              "\n",
              "    .dataframe tbody tr th {\n",
              "        vertical-align: top;\n",
              "    }\n",
              "\n",
              "    .dataframe thead th {\n",
              "        text-align: right;\n",
              "    }\n",
              "</style>\n",
              "<table border=\"1\" class=\"dataframe\">\n",
              "  <thead>\n",
              "    <tr style=\"text-align: right;\">\n",
              "      <th></th>\n",
              "      <th>features</th>\n",
              "      <th>score</th>\n",
              "    </tr>\n",
              "    <tr>\n",
              "      <th>type</th>\n",
              "      <th></th>\n",
              "      <th></th>\n",
              "    </tr>\n",
              "  </thead>\n",
              "  <tbody>\n",
              "    <tr>\n",
              "      <th>supports</th>\n",
              "      <td>adp: 0</td>\n",
              "      <td>0.002145</td>\n",
              "    </tr>\n",
              "    <tr>\n",
              "      <th>supports</th>\n",
              "      <td>adv: 0</td>\n",
              "      <td>0.001603</td>\n",
              "    </tr>\n",
              "    <tr>\n",
              "      <th>supports</th>\n",
              "      <td>.: 0</td>\n",
              "      <td>0.001433</td>\n",
              "    </tr>\n",
              "    <tr>\n",
              "      <th>supports</th>\n",
              "      <td>adv: 2</td>\n",
              "      <td>0.000825</td>\n",
              "    </tr>\n",
              "    <tr>\n",
              "      <th>supports</th>\n",
              "      <td>verb: 6</td>\n",
              "      <td>0.000770</td>\n",
              "    </tr>\n",
              "    <tr>\n",
              "      <th>supports</th>\n",
              "      <td>pron: 3</td>\n",
              "      <td>0.000659</td>\n",
              "    </tr>\n",
              "    <tr>\n",
              "      <th>supports</th>\n",
              "      <td>pron: 0</td>\n",
              "      <td>0.000642</td>\n",
              "    </tr>\n",
              "    <tr>\n",
              "      <th>supports</th>\n",
              "      <td>adj: 0</td>\n",
              "      <td>0.000634</td>\n",
              "    </tr>\n",
              "    <tr>\n",
              "      <th>supports</th>\n",
              "      <td>conj: 2</td>\n",
              "      <td>0.000628</td>\n",
              "    </tr>\n",
              "    <tr>\n",
              "      <th>supports</th>\n",
              "      <td>prt: 4</td>\n",
              "      <td>0.000625</td>\n",
              "    </tr>\n",
              "    <tr>\n",
              "      <th>supports</th>\n",
              "      <td>det: 0</td>\n",
              "      <td>0.000590</td>\n",
              "    </tr>\n",
              "    <tr>\n",
              "      <th>supports</th>\n",
              "      <td>conj: 0</td>\n",
              "      <td>0.000563</td>\n",
              "    </tr>\n",
              "    <tr>\n",
              "      <th>supports</th>\n",
              "      <td>adp: 6</td>\n",
              "      <td>0.000528</td>\n",
              "    </tr>\n",
              "    <tr>\n",
              "      <th>supports</th>\n",
              "      <td>adp: 7</td>\n",
              "      <td>0.000526</td>\n",
              "    </tr>\n",
              "    <tr>\n",
              "      <th>supports</th>\n",
              "      <td>verb: 9</td>\n",
              "      <td>0.000511</td>\n",
              "    </tr>\n",
              "  </tbody>\n",
              "</table>\n",
              "</div>"
            ],
            "text/plain": [
              "         features     score\n",
              "type                       \n",
              "supports   adp: 0  0.002145\n",
              "supports   adv: 0  0.001603\n",
              "supports     .: 0  0.001433\n",
              "supports   adv: 2  0.000825\n",
              "supports  verb: 6  0.000770\n",
              "supports  pron: 3  0.000659\n",
              "supports  pron: 0  0.000642\n",
              "supports   adj: 0  0.000634\n",
              "supports  conj: 2  0.000628\n",
              "supports   prt: 4  0.000625\n",
              "supports   det: 0  0.000590\n",
              "supports  conj: 0  0.000563\n",
              "supports   adp: 6  0.000528\n",
              "supports   adp: 7  0.000526\n",
              "supports  verb: 9  0.000511"
            ]
          },
          "metadata": {},
          "execution_count": 55
        }
      ]
    },
    {
      "cell_type": "code",
      "metadata": {
        "id": "WUe-LIUjynsj",
        "colab": {
          "base_uri": "https://localhost:8080/",
          "height": 388
        },
        "outputId": "3bb7ad56-3772-400e-c5f7-c2bf04154306"
      },
      "source": [
        "global_explainability_tabular.loc[\"attacks\"][:10]"
      ],
      "execution_count": null,
      "outputs": [
        {
          "output_type": "execute_result",
          "data": {
            "text/html": [
              "<div>\n",
              "<style scoped>\n",
              "    .dataframe tbody tr th:only-of-type {\n",
              "        vertical-align: middle;\n",
              "    }\n",
              "\n",
              "    .dataframe tbody tr th {\n",
              "        vertical-align: top;\n",
              "    }\n",
              "\n",
              "    .dataframe thead th {\n",
              "        text-align: right;\n",
              "    }\n",
              "</style>\n",
              "<table border=\"1\" class=\"dataframe\">\n",
              "  <thead>\n",
              "    <tr style=\"text-align: right;\">\n",
              "      <th></th>\n",
              "      <th>features</th>\n",
              "      <th>score</th>\n",
              "    </tr>\n",
              "    <tr>\n",
              "      <th>type</th>\n",
              "      <th></th>\n",
              "      <th></th>\n",
              "    </tr>\n",
              "  </thead>\n",
              "  <tbody>\n",
              "    <tr>\n",
              "      <th>attacks</th>\n",
              "      <td>noun: 11</td>\n",
              "      <td>0.005590</td>\n",
              "    </tr>\n",
              "    <tr>\n",
              "      <th>attacks</th>\n",
              "      <td>verb: 9</td>\n",
              "      <td>0.003434</td>\n",
              "    </tr>\n",
              "    <tr>\n",
              "      <th>attacks</th>\n",
              "      <td>det: 8</td>\n",
              "      <td>0.003389</td>\n",
              "    </tr>\n",
              "    <tr>\n",
              "      <th>attacks</th>\n",
              "      <td>adp: 7</td>\n",
              "      <td>0.002527</td>\n",
              "    </tr>\n",
              "    <tr>\n",
              "      <th>attacks</th>\n",
              "      <td>adp: 11</td>\n",
              "      <td>0.002307</td>\n",
              "    </tr>\n",
              "    <tr>\n",
              "      <th>attacks</th>\n",
              "      <td>verb: 6</td>\n",
              "      <td>0.002257</td>\n",
              "    </tr>\n",
              "    <tr>\n",
              "      <th>attacks</th>\n",
              "      <td>pron: 3</td>\n",
              "      <td>0.001944</td>\n",
              "    </tr>\n",
              "    <tr>\n",
              "      <th>attacks</th>\n",
              "      <td>num: 1</td>\n",
              "      <td>0.001919</td>\n",
              "    </tr>\n",
              "    <tr>\n",
              "      <th>attacks</th>\n",
              "      <td>adj: 10</td>\n",
              "      <td>0.001678</td>\n",
              "    </tr>\n",
              "    <tr>\n",
              "      <th>attacks</th>\n",
              "      <td>prt: 5</td>\n",
              "      <td>0.001678</td>\n",
              "    </tr>\n",
              "  </tbody>\n",
              "</table>\n",
              "</div>"
            ],
            "text/plain": [
              "         features     score\n",
              "type                       \n",
              "attacks  noun: 11  0.005590\n",
              "attacks   verb: 9  0.003434\n",
              "attacks    det: 8  0.003389\n",
              "attacks    adp: 7  0.002527\n",
              "attacks   adp: 11  0.002307\n",
              "attacks   verb: 6  0.002257\n",
              "attacks   pron: 3  0.001944\n",
              "attacks    num: 1  0.001919\n",
              "attacks   adj: 10  0.001678\n",
              "attacks    prt: 5  0.001678"
            ]
          },
          "metadata": {},
          "execution_count": 56
        }
      ]
    },
    {
      "cell_type": "code",
      "metadata": {
        "id": "A_1VKxzkynsk",
        "colab": {
          "base_uri": "https://localhost:8080/",
          "height": 388
        },
        "outputId": "97be52c1-882a-4239-f189-779a523bb9b8"
      },
      "source": [
        "global_explainability_tabular.loc[\"None\"][:10]"
      ],
      "execution_count": null,
      "outputs": [
        {
          "output_type": "execute_result",
          "data": {
            "text/html": [
              "<div>\n",
              "<style scoped>\n",
              "    .dataframe tbody tr th:only-of-type {\n",
              "        vertical-align: middle;\n",
              "    }\n",
              "\n",
              "    .dataframe tbody tr th {\n",
              "        vertical-align: top;\n",
              "    }\n",
              "\n",
              "    .dataframe thead th {\n",
              "        text-align: right;\n",
              "    }\n",
              "</style>\n",
              "<table border=\"1\" class=\"dataframe\">\n",
              "  <thead>\n",
              "    <tr style=\"text-align: right;\">\n",
              "      <th></th>\n",
              "      <th>features</th>\n",
              "      <th>score</th>\n",
              "    </tr>\n",
              "    <tr>\n",
              "      <th>type</th>\n",
              "      <th></th>\n",
              "      <th></th>\n",
              "    </tr>\n",
              "  </thead>\n",
              "  <tbody>\n",
              "    <tr>\n",
              "      <th>None</th>\n",
              "      <td>adp: 0</td>\n",
              "      <td>0.001920</td>\n",
              "    </tr>\n",
              "    <tr>\n",
              "      <th>None</th>\n",
              "      <td>adv: 0</td>\n",
              "      <td>0.001752</td>\n",
              "    </tr>\n",
              "    <tr>\n",
              "      <th>None</th>\n",
              "      <td>.: 0</td>\n",
              "      <td>0.001574</td>\n",
              "    </tr>\n",
              "    <tr>\n",
              "      <th>None</th>\n",
              "      <td>verb: 6</td>\n",
              "      <td>0.000737</td>\n",
              "    </tr>\n",
              "    <tr>\n",
              "      <th>None</th>\n",
              "      <td>pron: 3</td>\n",
              "      <td>0.000671</td>\n",
              "    </tr>\n",
              "    <tr>\n",
              "      <th>None</th>\n",
              "      <td>adj: 0</td>\n",
              "      <td>0.000662</td>\n",
              "    </tr>\n",
              "    <tr>\n",
              "      <th>None</th>\n",
              "      <td>conj: 2</td>\n",
              "      <td>0.000648</td>\n",
              "    </tr>\n",
              "    <tr>\n",
              "      <th>None</th>\n",
              "      <td>adv: 2</td>\n",
              "      <td>0.000640</td>\n",
              "    </tr>\n",
              "    <tr>\n",
              "      <th>None</th>\n",
              "      <td>det: 0</td>\n",
              "      <td>0.000613</td>\n",
              "    </tr>\n",
              "    <tr>\n",
              "      <th>None</th>\n",
              "      <td>verb: 0</td>\n",
              "      <td>0.000610</td>\n",
              "    </tr>\n",
              "  </tbody>\n",
              "</table>\n",
              "</div>"
            ],
            "text/plain": [
              "     features     score\n",
              "type                   \n",
              "None   adp: 0  0.001920\n",
              "None   adv: 0  0.001752\n",
              "None     .: 0  0.001574\n",
              "None  verb: 6  0.000737\n",
              "None  pron: 3  0.000671\n",
              "None   adj: 0  0.000662\n",
              "None  conj: 2  0.000648\n",
              "None   adv: 2  0.000640\n",
              "None   det: 0  0.000613\n",
              "None  verb: 0  0.000610"
            ]
          },
          "metadata": {},
          "execution_count": 57
        }
      ]
    },
    {
      "cell_type": "markdown",
      "metadata": {
        "id": "a2q54EWlILlk"
      },
      "source": [
        "## **bigram POS dataframe**"
      ]
    },
    {
      "cell_type": "code",
      "metadata": {
        "id": "vzyFRQOpdxoF",
        "colab": {
          "base_uri": "https://localhost:8080/"
        },
        "outputId": "c4b1b974-3e9e-421a-8abf-ea6976046eeb"
      },
      "source": [
        "ground_labels, global_explainability_tabular, labels, _, _, policy, microtext_ground_labels, microtext_labels=stc_procedure_tabular(bigram_POS,true_labels,microtext_bigram_POS,microtext_true_labels)"
      ],
      "execution_count": null,
      "outputs": [
        {
          "output_type": "stream",
          "name": "stdout",
          "text": [
            ""
          ]
        }
      ]
    },
    {
      "cell_type": "code",
      "metadata": {
        "id": "hJL-kKUgzcrJ",
        "colab": {
          "base_uri": "https://localhost:8080/"
        },
        "outputId": "e08b836e-6004-432f-8341-c689c6d7dd9c"
      },
      "source": [
        "accuracy=accuracy_score(ground_labels, labels)\n",
        "f1_score_value=f1_score(y_true=ground_labels, y_pred=labels, average=\"macro\")\n",
        "precision=precision_score(ground_labels, labels, average=\"macro\")\n",
        "recall=recall_score(ground_labels, labels, average=\"macro\")\n",
        "\n",
        "microtext_accuracy=accuracy_score(microtext_ground_labels, microtext_labels)\n",
        "microtext_f1_score_value=f1_score(microtext_ground_labels, microtext_labels, average=\"macro\")\n",
        "microtext_precision=precision_score(microtext_ground_labels, microtext_labels, average=\"macro\")\n",
        "microtext_recall=recall_score(microtext_ground_labels, microtext_labels, average=\"macro\")"
      ],
      "execution_count": null,
      "outputs": [
        {
          "output_type": "stream",
          "name": "stderr",
          "text": [
            "/usr/local/lib/python3.7/dist-packages/sklearn/metrics/_classification.py:1272: UndefinedMetricWarning: Precision is ill-defined and being set to 0.0 in labels with no predicted samples. Use `zero_division` parameter to control this behavior.\n",
            "  _warn_prf(average, modifier, msg_start, len(result))\n"
          ]
        }
      ]
    },
    {
      "cell_type": "code",
      "metadata": {
        "id": "RVjedp_YzcrK"
      },
      "source": [
        "accuracy_scores.append(accuracy)\n",
        "f1_scores.append(f1_score_value)\n",
        "precision_scores.append(precision)\n",
        "recall_scores.append(recall)\n",
        "\n",
        "microtext_accuracy_scores.append(microtext_accuracy)\n",
        "microtext_f1_scores.append(microtext_f1_score_value)\n",
        "microtext_precision_scores.append(microtext_precision)\n",
        "microtext_recall_scores.append(microtext_recall)"
      ],
      "execution_count": null,
      "outputs": []
    },
    {
      "cell_type": "code",
      "metadata": {
        "id": "RVnBg4bozcrK",
        "colab": {
          "base_uri": "https://localhost:8080/"
        },
        "outputId": "7582da03-4e33-4e4a-b164-58c1ac882741"
      },
      "source": [
        "print('accuracy: {}'.format(accuracy))\n",
        "print('f1 score: {}'.format(f1_score_value))\n",
        "print('precision: {}'.format(precision))\n",
        "print('recall: {}'.format(recall))\n",
        "print('\\n')\n",
        "print('accuracy microtext dataset: {}'.format(microtext_accuracy))\n",
        "print('f1 score microtext dataset: {}'.format(microtext_f1_score_value))\n",
        "print('precision microtext dataset: {}'.format(microtext_precision))\n",
        "print('recall microtext dataset: {}'.format(microtext_recall))"
      ],
      "execution_count": null,
      "outputs": [
        {
          "output_type": "stream",
          "name": "stdout",
          "text": [
            "accuracy: 0.5350795135640786\n",
            "f1 score: 0.2602924894205232\n",
            "precision: 0.21365169138233822\n",
            "recall: 0.35278376436781606\n",
            "\n",
            "\n",
            "accuracy microtext dataset: 0.6522911051212938\n",
            "f1 score microtext dataset: 0.5057777502400942\n",
            "precision microtext dataset: 0.5219989423585405\n",
            "recall microtext dataset: 0.5146458245317561\n"
          ]
        }
      ]
    },
    {
      "cell_type": "code",
      "metadata": {
        "id": "_VYQF6vPyqDl",
        "colab": {
          "base_uri": "https://localhost:8080/",
          "height": 542
        },
        "outputId": "54438843-d055-43ff-ad79-7d990c980191"
      },
      "source": [
        "global_explainability_tabular.loc[\"supports\"][:15]"
      ],
      "execution_count": null,
      "outputs": [
        {
          "output_type": "execute_result",
          "data": {
            "text/html": [
              "<div>\n",
              "<style scoped>\n",
              "    .dataframe tbody tr th:only-of-type {\n",
              "        vertical-align: middle;\n",
              "    }\n",
              "\n",
              "    .dataframe tbody tr th {\n",
              "        vertical-align: top;\n",
              "    }\n",
              "\n",
              "    .dataframe thead th {\n",
              "        text-align: right;\n",
              "    }\n",
              "</style>\n",
              "<table border=\"1\" class=\"dataframe\">\n",
              "  <thead>\n",
              "    <tr style=\"text-align: right;\">\n",
              "      <th></th>\n",
              "      <th>features</th>\n",
              "      <th>score</th>\n",
              "    </tr>\n",
              "    <tr>\n",
              "      <th>type</th>\n",
              "      <th></th>\n",
              "      <th></th>\n",
              "    </tr>\n",
              "  </thead>\n",
              "  <tbody>\n",
              "    <tr>\n",
              "      <th>supports</th>\n",
              "      <td>, cc: 1</td>\n",
              "      <td>0.000311</td>\n",
              "    </tr>\n",
              "    <tr>\n",
              "      <th>supports</th>\n",
              "      <td>, prp: 1</td>\n",
              "      <td>0.000247</td>\n",
              "    </tr>\n",
              "    <tr>\n",
              "      <th>supports</th>\n",
              "      <td>cc prp: 1</td>\n",
              "      <td>0.000244</td>\n",
              "    </tr>\n",
              "    <tr>\n",
              "      <th>supports</th>\n",
              "      <td>cc jj: 1</td>\n",
              "      <td>0.000218</td>\n",
              "    </tr>\n",
              "    <tr>\n",
              "      <th>supports</th>\n",
              "      <td>, jj: 1</td>\n",
              "      <td>0.000170</td>\n",
              "    </tr>\n",
              "    <tr>\n",
              "      <th>supports</th>\n",
              "      <td>, in: 1</td>\n",
              "      <td>0.000153</td>\n",
              "    </tr>\n",
              "    <tr>\n",
              "      <th>supports</th>\n",
              "      <td>, wdt: 1</td>\n",
              "      <td>0.000150</td>\n",
              "    </tr>\n",
              "    <tr>\n",
              "      <th>supports</th>\n",
              "      <td>cc vbz: 1</td>\n",
              "      <td>0.000134</td>\n",
              "    </tr>\n",
              "    <tr>\n",
              "      <th>supports</th>\n",
              "      <td>, rb: 1</td>\n",
              "      <td>0.000129</td>\n",
              "    </tr>\n",
              "    <tr>\n",
              "      <th>supports</th>\n",
              "      <td>, dt: 1</td>\n",
              "      <td>0.000107</td>\n",
              "    </tr>\n",
              "    <tr>\n",
              "      <th>supports</th>\n",
              "      <td>: rb: 1</td>\n",
              "      <td>0.000092</td>\n",
              "    </tr>\n",
              "    <tr>\n",
              "      <th>supports</th>\n",
              "      <td>cc jjr: 1</td>\n",
              "      <td>0.000089</td>\n",
              "    </tr>\n",
              "    <tr>\n",
              "      <th>supports</th>\n",
              "      <td>$ jj: 1</td>\n",
              "      <td>0.000076</td>\n",
              "    </tr>\n",
              "    <tr>\n",
              "      <th>supports</th>\n",
              "      <td>cc vbd: 1</td>\n",
              "      <td>0.000073</td>\n",
              "    </tr>\n",
              "    <tr>\n",
              "      <th>supports</th>\n",
              "      <td>, jjs: 1</td>\n",
              "      <td>0.000072</td>\n",
              "    </tr>\n",
              "  </tbody>\n",
              "</table>\n",
              "</div>"
            ],
            "text/plain": [
              "           features     score\n",
              "type                         \n",
              "supports    , cc: 1  0.000311\n",
              "supports   , prp: 1  0.000247\n",
              "supports  cc prp: 1  0.000244\n",
              "supports   cc jj: 1  0.000218\n",
              "supports    , jj: 1  0.000170\n",
              "supports    , in: 1  0.000153\n",
              "supports   , wdt: 1  0.000150\n",
              "supports  cc vbz: 1  0.000134\n",
              "supports    , rb: 1  0.000129\n",
              "supports    , dt: 1  0.000107\n",
              "supports    : rb: 1  0.000092\n",
              "supports  cc jjr: 1  0.000089\n",
              "supports    $ jj: 1  0.000076\n",
              "supports  cc vbd: 1  0.000073\n",
              "supports   , jjs: 1  0.000072"
            ]
          },
          "metadata": {},
          "execution_count": 62
        }
      ]
    },
    {
      "cell_type": "code",
      "metadata": {
        "id": "xSxYa6AiyqDm",
        "colab": {
          "base_uri": "https://localhost:8080/",
          "height": 388
        },
        "outputId": "267e052e-c67f-45fa-9383-da1152b23bfa"
      },
      "source": [
        "global_explainability_tabular.loc[\"attacks\"][:10]"
      ],
      "execution_count": null,
      "outputs": [
        {
          "output_type": "execute_result",
          "data": {
            "text/html": [
              "<div>\n",
              "<style scoped>\n",
              "    .dataframe tbody tr th:only-of-type {\n",
              "        vertical-align: middle;\n",
              "    }\n",
              "\n",
              "    .dataframe tbody tr th {\n",
              "        vertical-align: top;\n",
              "    }\n",
              "\n",
              "    .dataframe thead th {\n",
              "        text-align: right;\n",
              "    }\n",
              "</style>\n",
              "<table border=\"1\" class=\"dataframe\">\n",
              "  <thead>\n",
              "    <tr style=\"text-align: right;\">\n",
              "      <th></th>\n",
              "      <th>features</th>\n",
              "      <th>score</th>\n",
              "    </tr>\n",
              "    <tr>\n",
              "      <th>type</th>\n",
              "      <th></th>\n",
              "      <th></th>\n",
              "    </tr>\n",
              "  </thead>\n",
              "  <tbody>\n",
              "    <tr>\n",
              "      <th>attacks</th>\n",
              "      <td>, cc: 1</td>\n",
              "      <td>0.002044</td>\n",
              "    </tr>\n",
              "    <tr>\n",
              "      <th>attacks</th>\n",
              "      <td>cc prp: 1</td>\n",
              "      <td>0.001203</td>\n",
              "    </tr>\n",
              "    <tr>\n",
              "      <th>attacks</th>\n",
              "      <td>cc jj: 1</td>\n",
              "      <td>0.000624</td>\n",
              "    </tr>\n",
              "    <tr>\n",
              "      <th>attacks</th>\n",
              "      <td>, prp: 1</td>\n",
              "      <td>0.000604</td>\n",
              "    </tr>\n",
              "    <tr>\n",
              "      <th>attacks</th>\n",
              "      <td>: rb: 1</td>\n",
              "      <td>0.000458</td>\n",
              "    </tr>\n",
              "    <tr>\n",
              "      <th>attacks</th>\n",
              "      <td>, wp: 1</td>\n",
              "      <td>0.000333</td>\n",
              "    </tr>\n",
              "    <tr>\n",
              "      <th>attacks</th>\n",
              "      <td>, jj: 1</td>\n",
              "      <td>0.000299</td>\n",
              "    </tr>\n",
              "    <tr>\n",
              "      <th>attacks</th>\n",
              "      <td>'' ,: 1</td>\n",
              "      <td>0.000299</td>\n",
              "    </tr>\n",
              "    <tr>\n",
              "      <th>attacks</th>\n",
              "      <td>, vbg: 2</td>\n",
              "      <td>0.000299</td>\n",
              "    </tr>\n",
              "    <tr>\n",
              "      <th>attacks</th>\n",
              "      <td>cc nn: 2</td>\n",
              "      <td>0.000285</td>\n",
              "    </tr>\n",
              "  </tbody>\n",
              "</table>\n",
              "</div>"
            ],
            "text/plain": [
              "          features     score\n",
              "type                        \n",
              "attacks    , cc: 1  0.002044\n",
              "attacks  cc prp: 1  0.001203\n",
              "attacks   cc jj: 1  0.000624\n",
              "attacks   , prp: 1  0.000604\n",
              "attacks    : rb: 1  0.000458\n",
              "attacks    , wp: 1  0.000333\n",
              "attacks    , jj: 1  0.000299\n",
              "attacks    '' ,: 1  0.000299\n",
              "attacks   , vbg: 2  0.000299\n",
              "attacks   cc nn: 2  0.000285"
            ]
          },
          "metadata": {},
          "execution_count": 63
        }
      ]
    },
    {
      "cell_type": "code",
      "metadata": {
        "id": "idkvaX4kyqDm",
        "colab": {
          "base_uri": "https://localhost:8080/",
          "height": 388
        },
        "outputId": "97f33aa5-db80-4643-f20d-2f2bb1d67483"
      },
      "source": [
        "global_explainability_tabular.loc[\"None\"][:10]"
      ],
      "execution_count": null,
      "outputs": [
        {
          "output_type": "execute_result",
          "data": {
            "text/html": [
              "<div>\n",
              "<style scoped>\n",
              "    .dataframe tbody tr th:only-of-type {\n",
              "        vertical-align: middle;\n",
              "    }\n",
              "\n",
              "    .dataframe tbody tr th {\n",
              "        vertical-align: top;\n",
              "    }\n",
              "\n",
              "    .dataframe thead th {\n",
              "        text-align: right;\n",
              "    }\n",
              "</style>\n",
              "<table border=\"1\" class=\"dataframe\">\n",
              "  <thead>\n",
              "    <tr style=\"text-align: right;\">\n",
              "      <th></th>\n",
              "      <th>features</th>\n",
              "      <th>score</th>\n",
              "    </tr>\n",
              "    <tr>\n",
              "      <th>type</th>\n",
              "      <th></th>\n",
              "      <th></th>\n",
              "    </tr>\n",
              "  </thead>\n",
              "  <tbody>\n",
              "    <tr>\n",
              "      <th>None</th>\n",
              "      <td>, cc: 1</td>\n",
              "      <td>0.000284</td>\n",
              "    </tr>\n",
              "    <tr>\n",
              "      <th>None</th>\n",
              "      <td>, prp: 1</td>\n",
              "      <td>0.000196</td>\n",
              "    </tr>\n",
              "    <tr>\n",
              "      <th>None</th>\n",
              "      <td>, in: 1</td>\n",
              "      <td>0.000108</td>\n",
              "    </tr>\n",
              "    <tr>\n",
              "      <th>None</th>\n",
              "      <td>cc jj: 1</td>\n",
              "      <td>0.000105</td>\n",
              "    </tr>\n",
              "    <tr>\n",
              "      <th>None</th>\n",
              "      <td>, jj: 1</td>\n",
              "      <td>0.000065</td>\n",
              "    </tr>\n",
              "    <tr>\n",
              "      <th>None</th>\n",
              "      <td>, dt: 1</td>\n",
              "      <td>0.000060</td>\n",
              "    </tr>\n",
              "    <tr>\n",
              "      <th>None</th>\n",
              "      <td>$ nn: 1</td>\n",
              "      <td>0.000057</td>\n",
              "    </tr>\n",
              "    <tr>\n",
              "      <th>None</th>\n",
              "      <td>cc prp: 1</td>\n",
              "      <td>0.000054</td>\n",
              "    </tr>\n",
              "    <tr>\n",
              "      <th>None</th>\n",
              "      <td>, wdt: 1</td>\n",
              "      <td>0.000052</td>\n",
              "    </tr>\n",
              "    <tr>\n",
              "      <th>None</th>\n",
              "      <td>, cc: 0</td>\n",
              "      <td>0.000051</td>\n",
              "    </tr>\n",
              "  </tbody>\n",
              "</table>\n",
              "</div>"
            ],
            "text/plain": [
              "       features     score\n",
              "type                     \n",
              "None    , cc: 1  0.000284\n",
              "None   , prp: 1  0.000196\n",
              "None    , in: 1  0.000108\n",
              "None   cc jj: 1  0.000105\n",
              "None    , jj: 1  0.000065\n",
              "None    , dt: 1  0.000060\n",
              "None    $ nn: 1  0.000057\n",
              "None  cc prp: 1  0.000054\n",
              "None   , wdt: 1  0.000052\n",
              "None    , cc: 0  0.000051"
            ]
          },
          "metadata": {},
          "execution_count": 64
        }
      ]
    },
    {
      "cell_type": "markdown",
      "metadata": {
        "id": "axXeMKBAIUEF"
      },
      "source": [
        "## **Bigram simple POS dataframe**"
      ]
    },
    {
      "cell_type": "code",
      "metadata": {
        "id": "NjvkFAGCd5Px",
        "colab": {
          "base_uri": "https://localhost:8080/"
        },
        "outputId": "d8483039-3150-4db4-f5be-f3617b48f61e"
      },
      "source": [
        "ground_labels, _, labels, _, _, policy=stc_procedure(bigram_simple_POS,true_labels)"
      ],
      "execution_count": null,
      "outputs": [
        {
          "output_type": "stream",
          "name": "stdout",
          "text": [
            ""
          ]
        }
      ]
    },
    {
      "cell_type": "code",
      "metadata": {
        "id": "W-WETpSAd5Py",
        "colab": {
          "base_uri": "https://localhost:8080/"
        },
        "outputId": "a21236e5-c3a5-4225-ddbb-c6dccf8e016e"
      },
      "source": [
        "_, global_explainability_tabular, _, _, _, _, microtext_ground_labels, microtext_labels=stc_procedure_tabular(bigram_simple_POS,true_labels,microtext_bigram_simple_POS,microtext_true_labels)"
      ],
      "execution_count": null,
      "outputs": [
        {
          "output_type": "stream",
          "name": "stdout",
          "text": [
            ""
          ]
        }
      ]
    },
    {
      "cell_type": "code",
      "metadata": {
        "id": "hu0ECimAze0J"
      },
      "source": [
        "accuracy=accuracy_score(ground_labels, labels)\n",
        "f1_score_value=f1_score(y_true=ground_labels, y_pred=labels, average=\"macro\")\n",
        "precision=precision_score(ground_labels, labels, average=\"macro\")\n",
        "recall=recall_score(ground_labels, labels, average=\"macro\")\n",
        "\n",
        "microtext_accuracy=accuracy_score(microtext_ground_labels, microtext_labels)\n",
        "microtext_f1_score_value=f1_score(microtext_ground_labels, microtext_labels, average=\"macro\")\n",
        "microtext_precision=precision_score(microtext_ground_labels, microtext_labels, average=\"macro\")\n",
        "microtext_recall=recall_score(microtext_ground_labels, microtext_labels, average=\"macro\")"
      ],
      "execution_count": null,
      "outputs": []
    },
    {
      "cell_type": "code",
      "metadata": {
        "id": "0kbBFw3Qze0K"
      },
      "source": [
        "accuracy_scores.append(accuracy)\n",
        "f1_scores.append(f1_score_value)\n",
        "precision_scores.append(precision)\n",
        "recall_scores.append(recall)\n",
        "\n",
        "microtext_accuracy_scores.append(microtext_accuracy)\n",
        "microtext_f1_scores.append(microtext_f1_score_value)\n",
        "microtext_precision_scores.append(microtext_precision)\n",
        "microtext_recall_scores.append(microtext_recall)"
      ],
      "execution_count": null,
      "outputs": []
    },
    {
      "cell_type": "code",
      "metadata": {
        "id": "JXxewMMHze0K",
        "colab": {
          "base_uri": "https://localhost:8080/"
        },
        "outputId": "a2d3a6df-b6a2-4d40-c9a1-7cc3ccc41ffc"
      },
      "source": [
        "print('accuracy: {}'.format(accuracy))\n",
        "print('f1 score: {}'.format(f1_score_value))\n",
        "print('precision: {}'.format(precision))\n",
        "print('recall: {}'.format(recall))\n",
        "print('\\n')\n",
        "print('accuracy microtext dataset: {}'.format(microtext_accuracy))\n",
        "print('f1 score microtext dataset: {}'.format(microtext_f1_score_value))\n",
        "print('precision microtext dataset: {}'.format(microtext_precision))\n",
        "print('recall microtext dataset: {}'.format(microtext_recall))"
      ],
      "execution_count": null,
      "outputs": [
        {
          "output_type": "stream",
          "name": "stdout",
          "text": [
            "accuracy: 0.41908325537885877\n",
            "f1 score: 0.31880570378885037\n",
            "precision: 0.34732597932139214\n",
            "recall: 0.3641379310344828\n",
            "\n",
            "\n",
            "accuracy microtext dataset: 0.5660377358490566\n",
            "f1 score microtext dataset: 0.5134208232524418\n",
            "precision microtext dataset: 0.5168979340117176\n",
            "recall microtext dataset: 0.5192930573158709\n"
          ]
        }
      ]
    },
    {
      "cell_type": "code",
      "metadata": {
        "id": "acxJFfyFd5P1",
        "colab": {
          "base_uri": "https://localhost:8080/"
        },
        "outputId": "858512b8-94b5-4d46-b9b0-3a5f42be4997"
      },
      "source": [
        "policy"
      ],
      "execution_count": null,
      "outputs": [
        {
          "output_type": "execute_result",
          "data": {
            "text/plain": [
              "[['d14',\n",
              "  'd21',\n",
              "  'd30',\n",
              "  'd38',\n",
              "  'd20',\n",
              "  'd24',\n",
              "  'd22',\n",
              "  'd28',\n",
              "  'd18',\n",
              "  'd19',\n",
              "  'd1',\n",
              "  'd39',\n",
              "  'd40',\n",
              "  'd13',\n",
              "  'd23',\n",
              "  'd26',\n",
              "  'd3',\n",
              "  'd35',\n",
              "  'd5',\n",
              "  'd10',\n",
              "  'd2',\n",
              "  'd44',\n",
              "  'd11',\n",
              "  'd6',\n",
              "  'd15',\n",
              "  'd0',\n",
              "  'd31',\n",
              "  'd41',\n",
              "  'd9',\n",
              "  'd8',\n",
              "  'd36',\n",
              "  'd29'],\n",
              " ['d21',\n",
              "  'd30',\n",
              "  'd38',\n",
              "  'd20',\n",
              "  'd24',\n",
              "  'd22',\n",
              "  'd28',\n",
              "  'd18',\n",
              "  'd19',\n",
              "  'd1',\n",
              "  'd39',\n",
              "  'd40',\n",
              "  'd13',\n",
              "  'd23',\n",
              "  'd26',\n",
              "  'd3',\n",
              "  'd35',\n",
              "  'd5',\n",
              "  'd10',\n",
              "  'd2',\n",
              "  'd44',\n",
              "  'd11',\n",
              "  'd6',\n",
              "  'd15',\n",
              "  'd0',\n",
              "  'd31',\n",
              "  'd41',\n",
              "  'd9',\n",
              "  'd8',\n",
              "  'd36',\n",
              "  'd29'],\n",
              " ['d30',\n",
              "  'd38',\n",
              "  'd20',\n",
              "  'd24',\n",
              "  'd22',\n",
              "  'd28',\n",
              "  'd18',\n",
              "  'd19',\n",
              "  'd1',\n",
              "  'd39',\n",
              "  'd40',\n",
              "  'd13',\n",
              "  'd23',\n",
              "  'd26',\n",
              "  'd3',\n",
              "  'd35',\n",
              "  'd5',\n",
              "  'd10',\n",
              "  'd2',\n",
              "  'd44',\n",
              "  'd11',\n",
              "  'd6',\n",
              "  'd15',\n",
              "  'd0',\n",
              "  'd31',\n",
              "  'd41',\n",
              "  'd9',\n",
              "  'd8',\n",
              "  'd36',\n",
              "  'd29'],\n",
              " ['d38',\n",
              "  'd20',\n",
              "  'd24',\n",
              "  'd22',\n",
              "  'd28',\n",
              "  'd18',\n",
              "  'd19',\n",
              "  'd1',\n",
              "  'd39',\n",
              "  'd40',\n",
              "  'd13',\n",
              "  'd23',\n",
              "  'd26',\n",
              "  'd3',\n",
              "  'd35',\n",
              "  'd5',\n",
              "  'd10',\n",
              "  'd2',\n",
              "  'd44',\n",
              "  'd11',\n",
              "  'd6',\n",
              "  'd15',\n",
              "  'd0',\n",
              "  'd31',\n",
              "  'd41',\n",
              "  'd9',\n",
              "  'd8',\n",
              "  'd36',\n",
              "  'd29'],\n",
              " ['d20',\n",
              "  'd24',\n",
              "  'd22',\n",
              "  'd28',\n",
              "  'd18',\n",
              "  'd19',\n",
              "  'd1',\n",
              "  'd39',\n",
              "  'd40',\n",
              "  'd13',\n",
              "  'd23',\n",
              "  'd26',\n",
              "  'd3',\n",
              "  'd35',\n",
              "  'd5',\n",
              "  'd10',\n",
              "  'd2',\n",
              "  'd44',\n",
              "  'd11',\n",
              "  'd6',\n",
              "  'd15',\n",
              "  'd0',\n",
              "  'd31',\n",
              "  'd41',\n",
              "  'd9',\n",
              "  'd8',\n",
              "  'd36',\n",
              "  'd29'],\n",
              " ['d24',\n",
              "  'd22',\n",
              "  'd28',\n",
              "  'd18',\n",
              "  'd19',\n",
              "  'd1',\n",
              "  'd39',\n",
              "  'd40',\n",
              "  'd13',\n",
              "  'd23',\n",
              "  'd26',\n",
              "  'd3',\n",
              "  'd35',\n",
              "  'd5',\n",
              "  'd10',\n",
              "  'd2',\n",
              "  'd44',\n",
              "  'd11',\n",
              "  'd6',\n",
              "  'd15',\n",
              "  'd0',\n",
              "  'd31',\n",
              "  'd41',\n",
              "  'd9',\n",
              "  'd8',\n",
              "  'd36',\n",
              "  'd29'],\n",
              " ['d22',\n",
              "  'd28',\n",
              "  'd18',\n",
              "  'd19',\n",
              "  'd1',\n",
              "  'd39',\n",
              "  'd40',\n",
              "  'd13',\n",
              "  'd23',\n",
              "  'd26',\n",
              "  'd3',\n",
              "  'd35',\n",
              "  'd5',\n",
              "  'd10',\n",
              "  'd2',\n",
              "  'd44',\n",
              "  'd11',\n",
              "  'd6',\n",
              "  'd15',\n",
              "  'd0',\n",
              "  'd31',\n",
              "  'd41',\n",
              "  'd9',\n",
              "  'd8',\n",
              "  'd36',\n",
              "  'd29'],\n",
              " ['d28',\n",
              "  'd18',\n",
              "  'd19',\n",
              "  'd1',\n",
              "  'd39',\n",
              "  'd40',\n",
              "  'd13',\n",
              "  'd23',\n",
              "  'd26',\n",
              "  'd3',\n",
              "  'd35',\n",
              "  'd5',\n",
              "  'd10',\n",
              "  'd2',\n",
              "  'd44',\n",
              "  'd11',\n",
              "  'd6',\n",
              "  'd15',\n",
              "  'd0',\n",
              "  'd31',\n",
              "  'd41',\n",
              "  'd9',\n",
              "  'd8',\n",
              "  'd36',\n",
              "  'd29'],\n",
              " ['d18',\n",
              "  'd19',\n",
              "  'd1',\n",
              "  'd39',\n",
              "  'd40',\n",
              "  'd13',\n",
              "  'd23',\n",
              "  'd26',\n",
              "  'd3',\n",
              "  'd35',\n",
              "  'd5',\n",
              "  'd10',\n",
              "  'd2',\n",
              "  'd44',\n",
              "  'd11',\n",
              "  'd6',\n",
              "  'd15',\n",
              "  'd0',\n",
              "  'd31',\n",
              "  'd41',\n",
              "  'd9',\n",
              "  'd8',\n",
              "  'd36',\n",
              "  'd29'],\n",
              " ['d19',\n",
              "  'd1',\n",
              "  'd39',\n",
              "  'd40',\n",
              "  'd13',\n",
              "  'd23',\n",
              "  'd26',\n",
              "  'd3',\n",
              "  'd35',\n",
              "  'd5',\n",
              "  'd10',\n",
              "  'd2',\n",
              "  'd44',\n",
              "  'd11',\n",
              "  'd6',\n",
              "  'd15',\n",
              "  'd0',\n",
              "  'd31',\n",
              "  'd41',\n",
              "  'd9',\n",
              "  'd8',\n",
              "  'd36',\n",
              "  'd29'],\n",
              " ['d1',\n",
              "  'd39',\n",
              "  'd40',\n",
              "  'd13',\n",
              "  'd23',\n",
              "  'd26',\n",
              "  'd3',\n",
              "  'd35',\n",
              "  'd5',\n",
              "  'd10',\n",
              "  'd2',\n",
              "  'd44',\n",
              "  'd11',\n",
              "  'd6',\n",
              "  'd15',\n",
              "  'd0',\n",
              "  'd31',\n",
              "  'd41',\n",
              "  'd9',\n",
              "  'd8',\n",
              "  'd36',\n",
              "  'd29'],\n",
              " ['d39',\n",
              "  'd40',\n",
              "  'd13',\n",
              "  'd23',\n",
              "  'd26',\n",
              "  'd3',\n",
              "  'd35',\n",
              "  'd5',\n",
              "  'd10',\n",
              "  'd2',\n",
              "  'd44',\n",
              "  'd11',\n",
              "  'd6',\n",
              "  'd15',\n",
              "  'd0',\n",
              "  'd31',\n",
              "  'd41',\n",
              "  'd9',\n",
              "  'd8',\n",
              "  'd36',\n",
              "  'd29'],\n",
              " ['d40',\n",
              "  'd13',\n",
              "  'd23',\n",
              "  'd26',\n",
              "  'd3',\n",
              "  'd35',\n",
              "  'd5',\n",
              "  'd10',\n",
              "  'd2',\n",
              "  'd44',\n",
              "  'd11',\n",
              "  'd6',\n",
              "  'd15',\n",
              "  'd0',\n",
              "  'd31',\n",
              "  'd41',\n",
              "  'd9',\n",
              "  'd8',\n",
              "  'd36',\n",
              "  'd29'],\n",
              " ['d13',\n",
              "  'd23',\n",
              "  'd26',\n",
              "  'd3',\n",
              "  'd35',\n",
              "  'd5',\n",
              "  'd10',\n",
              "  'd2',\n",
              "  'd44',\n",
              "  'd11',\n",
              "  'd6',\n",
              "  'd15',\n",
              "  'd0',\n",
              "  'd31',\n",
              "  'd41',\n",
              "  'd9',\n",
              "  'd8',\n",
              "  'd36',\n",
              "  'd29'],\n",
              " ['d23',\n",
              "  'd26',\n",
              "  'd3',\n",
              "  'd35',\n",
              "  'd5',\n",
              "  'd10',\n",
              "  'd2',\n",
              "  'd44',\n",
              "  'd11',\n",
              "  'd6',\n",
              "  'd15',\n",
              "  'd0',\n",
              "  'd31',\n",
              "  'd41',\n",
              "  'd9',\n",
              "  'd8',\n",
              "  'd36',\n",
              "  'd29'],\n",
              " ['d26',\n",
              "  'd3',\n",
              "  'd35',\n",
              "  'd5',\n",
              "  'd10',\n",
              "  'd2',\n",
              "  'd44',\n",
              "  'd11',\n",
              "  'd6',\n",
              "  'd15',\n",
              "  'd0',\n",
              "  'd31',\n",
              "  'd41',\n",
              "  'd9',\n",
              "  'd8',\n",
              "  'd36',\n",
              "  'd29'],\n",
              " ['d3',\n",
              "  'd35',\n",
              "  'd5',\n",
              "  'd10',\n",
              "  'd2',\n",
              "  'd44',\n",
              "  'd11',\n",
              "  'd6',\n",
              "  'd15',\n",
              "  'd0',\n",
              "  'd31',\n",
              "  'd41',\n",
              "  'd9',\n",
              "  'd8',\n",
              "  'd36',\n",
              "  'd29'],\n",
              " ['d35',\n",
              "  'd5',\n",
              "  'd10',\n",
              "  'd2',\n",
              "  'd44',\n",
              "  'd11',\n",
              "  'd6',\n",
              "  'd15',\n",
              "  'd0',\n",
              "  'd31',\n",
              "  'd41',\n",
              "  'd9',\n",
              "  'd8',\n",
              "  'd36',\n",
              "  'd29'],\n",
              " ['d5',\n",
              "  'd10',\n",
              "  'd2',\n",
              "  'd44',\n",
              "  'd11',\n",
              "  'd6',\n",
              "  'd15',\n",
              "  'd0',\n",
              "  'd31',\n",
              "  'd41',\n",
              "  'd9',\n",
              "  'd8',\n",
              "  'd36',\n",
              "  'd29'],\n",
              " ['d10',\n",
              "  'd2',\n",
              "  'd44',\n",
              "  'd11',\n",
              "  'd6',\n",
              "  'd15',\n",
              "  'd0',\n",
              "  'd31',\n",
              "  'd41',\n",
              "  'd9',\n",
              "  'd8',\n",
              "  'd36',\n",
              "  'd29'],\n",
              " ['d2',\n",
              "  'd44',\n",
              "  'd11',\n",
              "  'd6',\n",
              "  'd15',\n",
              "  'd0',\n",
              "  'd31',\n",
              "  'd41',\n",
              "  'd9',\n",
              "  'd8',\n",
              "  'd36',\n",
              "  'd29'],\n",
              " ['d44', 'd11', 'd6', 'd15', 'd0', 'd31', 'd41', 'd9', 'd8', 'd36', 'd29'],\n",
              " ['d11', 'd6', 'd15', 'd0', 'd31', 'd41', 'd9', 'd8', 'd36', 'd29'],\n",
              " ['d6', 'd15', 'd0', 'd31', 'd41', 'd9', 'd8', 'd36', 'd29'],\n",
              " ['d15', 'd0', 'd31', 'd41', 'd9', 'd8', 'd36', 'd29'],\n",
              " ['d0', 'd31', 'd41', 'd9', 'd8', 'd36', 'd29'],\n",
              " ['d31', 'd41', 'd9', 'd8', 'd36', 'd29'],\n",
              " ['d41', 'd9', 'd8', 'd36', 'd29'],\n",
              " ['d9', 'd8', 'd36', 'd29'],\n",
              " ['d8', 'd36', 'd29'],\n",
              " ['d36', 'd29'],\n",
              " ['d29'],\n",
              " []]"
            ]
          },
          "metadata": {},
          "execution_count": 70
        }
      ]
    },
    {
      "cell_type": "code",
      "metadata": {
        "id": "pM5sUFpGjsJp",
        "colab": {
          "base_uri": "https://localhost:8080/"
        },
        "outputId": "8623a02f-097c-4ae7-bada-878f702a81b0"
      },
      "source": [
        "policy_set=[]\n",
        "\n",
        "for pol in policy:\n",
        "  policy_set+=pol\n",
        "\n",
        "policy_set=list(set(policy_set))\n",
        "\n",
        "column=bigram_simple_POS.columns\n",
        "drop_features=[]\n",
        "for i in range(len(column)-1):\n",
        "  if not 'd{}'.format(i) in policy_set:\n",
        "    drop_features.append(column[i])\n",
        "\n",
        "drop_features"
      ],
      "execution_count": null,
      "outputs": [
        {
          "output_type": "execute_result",
          "data": {
            "text/plain": [
              "['adp adp',\n",
              " 'adv conj',\n",
              " 'det .',\n",
              " 'adj adv',\n",
              " 'conj pron',\n",
              " 'adv noun',\n",
              " 'adj det',\n",
              " 'adp num',\n",
              " 'adj conj',\n",
              " 'adj pron',\n",
              " 'det adp',\n",
              " '. prt',\n",
              " 'conj num',\n",
              " 'conj adp',\n",
              " '. x',\n",
              " 'adp conj',\n",
              " 'adp prt',\n",
              " 'adv num']"
            ]
          },
          "metadata": {},
          "execution_count": 71
        }
      ]
    },
    {
      "cell_type": "code",
      "metadata": {
        "id": "1I2xz3pVjsJq",
        "colab": {
          "base_uri": "https://localhost:8080/"
        },
        "outputId": "dd1c615e-cd24-403c-c881-31a96c4b98f9"
      },
      "source": [
        "len(drop_features)"
      ],
      "execution_count": null,
      "outputs": [
        {
          "output_type": "execute_result",
          "data": {
            "text/plain": [
              "18"
            ]
          },
          "metadata": {},
          "execution_count": 72
        }
      ]
    },
    {
      "cell_type": "code",
      "metadata": {
        "id": "W-Esp-K62oDo"
      },
      "source": [
        "# Save features to drop into a text file.\n",
        "\n",
        "f = open(\"drop_relation_bigram_simple_POS.txt\", \"a\")\n",
        "for feature in drop_features:\n",
        "  f.write(\"{}-\".format(feature))\n",
        "f.close()"
      ],
      "execution_count": null,
      "outputs": []
    },
    {
      "cell_type": "code",
      "metadata": {
        "id": "dZ7_12IHjsJr"
      },
      "source": [
        "if len(policy_set)>1:\n",
        "  bigram_simple_POS=bigram_simple_POS.drop(columns=drop_features)"
      ],
      "execution_count": null,
      "outputs": []
    },
    {
      "cell_type": "code",
      "metadata": {
        "id": "FsrGqRiGytgS",
        "colab": {
          "base_uri": "https://localhost:8080/",
          "height": 542
        },
        "outputId": "3707c940-9a13-4011-ab5e-b708d4725c02"
      },
      "source": [
        "global_explainability_tabular.loc[\"supports\"][:15]"
      ],
      "execution_count": null,
      "outputs": [
        {
          "output_type": "execute_result",
          "data": {
            "text/html": [
              "<div>\n",
              "<style scoped>\n",
              "    .dataframe tbody tr th:only-of-type {\n",
              "        vertical-align: middle;\n",
              "    }\n",
              "\n",
              "    .dataframe tbody tr th {\n",
              "        vertical-align: top;\n",
              "    }\n",
              "\n",
              "    .dataframe thead th {\n",
              "        text-align: right;\n",
              "    }\n",
              "</style>\n",
              "<table border=\"1\" class=\"dataframe\">\n",
              "  <thead>\n",
              "    <tr style=\"text-align: right;\">\n",
              "      <th></th>\n",
              "      <th>features</th>\n",
              "      <th>score</th>\n",
              "    </tr>\n",
              "    <tr>\n",
              "      <th>type</th>\n",
              "      <th></th>\n",
              "      <th></th>\n",
              "    </tr>\n",
              "  </thead>\n",
              "  <tbody>\n",
              "    <tr>\n",
              "      <th>supports</th>\n",
              "      <td>adp adj: 1</td>\n",
              "      <td>0.000421</td>\n",
              "    </tr>\n",
              "    <tr>\n",
              "      <th>supports</th>\n",
              "      <td>adv adj: 1</td>\n",
              "      <td>0.000374</td>\n",
              "    </tr>\n",
              "    <tr>\n",
              "      <th>supports</th>\n",
              "      <td>. conj: 1</td>\n",
              "      <td>0.000311</td>\n",
              "    </tr>\n",
              "    <tr>\n",
              "      <th>supports</th>\n",
              "      <td>adj adp: 1</td>\n",
              "      <td>0.000265</td>\n",
              "    </tr>\n",
              "    <tr>\n",
              "      <th>supports</th>\n",
              "      <td>. pron: 1</td>\n",
              "      <td>0.000258</td>\n",
              "    </tr>\n",
              "    <tr>\n",
              "      <th>supports</th>\n",
              "      <td>adv verb: 1</td>\n",
              "      <td>0.000256</td>\n",
              "    </tr>\n",
              "    <tr>\n",
              "      <th>supports</th>\n",
              "      <td>adv conj: 1</td>\n",
              "      <td>0.000249</td>\n",
              "    </tr>\n",
              "    <tr>\n",
              "      <th>supports</th>\n",
              "      <td>adv adp: 1</td>\n",
              "      <td>0.000248</td>\n",
              "    </tr>\n",
              "    <tr>\n",
              "      <th>supports</th>\n",
              "      <td>conj pron: 1</td>\n",
              "      <td>0.000244</td>\n",
              "    </tr>\n",
              "    <tr>\n",
              "      <th>supports</th>\n",
              "      <td>. adv: 1</td>\n",
              "      <td>0.000226</td>\n",
              "    </tr>\n",
              "    <tr>\n",
              "      <th>supports</th>\n",
              "      <td>adv adv: 1</td>\n",
              "      <td>0.000218</td>\n",
              "    </tr>\n",
              "    <tr>\n",
              "      <th>supports</th>\n",
              "      <td>det .: 1</td>\n",
              "      <td>0.000212</td>\n",
              "    </tr>\n",
              "    <tr>\n",
              "      <th>supports</th>\n",
              "      <td>. adj: 1</td>\n",
              "      <td>0.000198</td>\n",
              "    </tr>\n",
              "    <tr>\n",
              "      <th>supports</th>\n",
              "      <td>adj adj: 1</td>\n",
              "      <td>0.000187</td>\n",
              "    </tr>\n",
              "    <tr>\n",
              "      <th>supports</th>\n",
              "      <td>conj adj: 1</td>\n",
              "      <td>0.000187</td>\n",
              "    </tr>\n",
              "  </tbody>\n",
              "</table>\n",
              "</div>"
            ],
            "text/plain": [
              "              features     score\n",
              "type                            \n",
              "supports    adp adj: 1  0.000421\n",
              "supports    adv adj: 1  0.000374\n",
              "supports     . conj: 1  0.000311\n",
              "supports    adj adp: 1  0.000265\n",
              "supports     . pron: 1  0.000258\n",
              "supports   adv verb: 1  0.000256\n",
              "supports   adv conj: 1  0.000249\n",
              "supports    adv adp: 1  0.000248\n",
              "supports  conj pron: 1  0.000244\n",
              "supports      . adv: 1  0.000226\n",
              "supports    adv adv: 1  0.000218\n",
              "supports      det .: 1  0.000212\n",
              "supports      . adj: 1  0.000198\n",
              "supports    adj adj: 1  0.000187\n",
              "supports   conj adj: 1  0.000187"
            ]
          },
          "metadata": {},
          "execution_count": 75
        }
      ]
    },
    {
      "cell_type": "code",
      "metadata": {
        "id": "qW3xlUPoytgT",
        "colab": {
          "base_uri": "https://localhost:8080/",
          "height": 388
        },
        "outputId": "56aab189-d13a-41de-d057-5bb54896b6b3"
      },
      "source": [
        "global_explainability_tabular.loc[\"attacks\"][:10]"
      ],
      "execution_count": null,
      "outputs": [
        {
          "output_type": "execute_result",
          "data": {
            "text/html": [
              "<div>\n",
              "<style scoped>\n",
              "    .dataframe tbody tr th:only-of-type {\n",
              "        vertical-align: middle;\n",
              "    }\n",
              "\n",
              "    .dataframe tbody tr th {\n",
              "        vertical-align: top;\n",
              "    }\n",
              "\n",
              "    .dataframe thead th {\n",
              "        text-align: right;\n",
              "    }\n",
              "</style>\n",
              "<table border=\"1\" class=\"dataframe\">\n",
              "  <thead>\n",
              "    <tr style=\"text-align: right;\">\n",
              "      <th></th>\n",
              "      <th>features</th>\n",
              "      <th>score</th>\n",
              "    </tr>\n",
              "    <tr>\n",
              "      <th>type</th>\n",
              "      <th></th>\n",
              "      <th></th>\n",
              "    </tr>\n",
              "  </thead>\n",
              "  <tbody>\n",
              "    <tr>\n",
              "      <th>attacks</th>\n",
              "      <td>. conj: 1</td>\n",
              "      <td>0.002044</td>\n",
              "    </tr>\n",
              "    <tr>\n",
              "      <th>attacks</th>\n",
              "      <td>conj pron: 1</td>\n",
              "      <td>0.001203</td>\n",
              "    </tr>\n",
              "    <tr>\n",
              "      <th>attacks</th>\n",
              "      <td>adp adj: 1</td>\n",
              "      <td>0.000911</td>\n",
              "    </tr>\n",
              "    <tr>\n",
              "      <th>attacks</th>\n",
              "      <td>adv adj: 1</td>\n",
              "      <td>0.000808</td>\n",
              "    </tr>\n",
              "    <tr>\n",
              "      <th>attacks</th>\n",
              "      <td>adj conj: 2</td>\n",
              "      <td>0.000803</td>\n",
              "    </tr>\n",
              "    <tr>\n",
              "      <th>attacks</th>\n",
              "      <td>conj adp: 1</td>\n",
              "      <td>0.000721</td>\n",
              "    </tr>\n",
              "    <tr>\n",
              "      <th>attacks</th>\n",
              "      <td>det adj: 4</td>\n",
              "      <td>0.000639</td>\n",
              "    </tr>\n",
              "    <tr>\n",
              "      <th>attacks</th>\n",
              "      <td>. pron: 1</td>\n",
              "      <td>0.000578</td>\n",
              "    </tr>\n",
              "    <tr>\n",
              "      <th>attacks</th>\n",
              "      <td>adp det: 7</td>\n",
              "      <td>0.000557</td>\n",
              "    </tr>\n",
              "    <tr>\n",
              "      <th>attacks</th>\n",
              "      <td>adv adj: 3</td>\n",
              "      <td>0.000557</td>\n",
              "    </tr>\n",
              "  </tbody>\n",
              "</table>\n",
              "</div>"
            ],
            "text/plain": [
              "             features     score\n",
              "type                           \n",
              "attacks     . conj: 1  0.002044\n",
              "attacks  conj pron: 1  0.001203\n",
              "attacks    adp adj: 1  0.000911\n",
              "attacks    adv adj: 1  0.000808\n",
              "attacks   adj conj: 2  0.000803\n",
              "attacks   conj adp: 1  0.000721\n",
              "attacks    det adj: 4  0.000639\n",
              "attacks     . pron: 1  0.000578\n",
              "attacks    adp det: 7  0.000557\n",
              "attacks    adv adj: 3  0.000557"
            ]
          },
          "metadata": {},
          "execution_count": 76
        }
      ]
    },
    {
      "cell_type": "code",
      "metadata": {
        "id": "KM7ANTbzytgU",
        "colab": {
          "base_uri": "https://localhost:8080/",
          "height": 388
        },
        "outputId": "f06f9184-c532-405c-c883-f0d313c3a4d3"
      },
      "source": [
        "global_explainability_tabular.loc[\"None\"][:10]"
      ],
      "execution_count": null,
      "outputs": [
        {
          "output_type": "execute_result",
          "data": {
            "text/html": [
              "<div>\n",
              "<style scoped>\n",
              "    .dataframe tbody tr th:only-of-type {\n",
              "        vertical-align: middle;\n",
              "    }\n",
              "\n",
              "    .dataframe tbody tr th {\n",
              "        vertical-align: top;\n",
              "    }\n",
              "\n",
              "    .dataframe thead th {\n",
              "        text-align: right;\n",
              "    }\n",
              "</style>\n",
              "<table border=\"1\" class=\"dataframe\">\n",
              "  <thead>\n",
              "    <tr style=\"text-align: right;\">\n",
              "      <th></th>\n",
              "      <th>features</th>\n",
              "      <th>score</th>\n",
              "    </tr>\n",
              "    <tr>\n",
              "      <th>type</th>\n",
              "      <th></th>\n",
              "      <th></th>\n",
              "    </tr>\n",
              "  </thead>\n",
              "  <tbody>\n",
              "    <tr>\n",
              "      <th>None</th>\n",
              "      <td>adp adj: 1</td>\n",
              "      <td>0.000346</td>\n",
              "    </tr>\n",
              "    <tr>\n",
              "      <th>None</th>\n",
              "      <td>. conj: 1</td>\n",
              "      <td>0.000284</td>\n",
              "    </tr>\n",
              "    <tr>\n",
              "      <th>None</th>\n",
              "      <td>adv adj: 1</td>\n",
              "      <td>0.000230</td>\n",
              "    </tr>\n",
              "    <tr>\n",
              "      <th>None</th>\n",
              "      <td>adv verb: 1</td>\n",
              "      <td>0.000230</td>\n",
              "    </tr>\n",
              "    <tr>\n",
              "      <th>None</th>\n",
              "      <td>. pron: 1</td>\n",
              "      <td>0.000192</td>\n",
              "    </tr>\n",
              "    <tr>\n",
              "      <th>None</th>\n",
              "      <td>adj adp: 1</td>\n",
              "      <td>0.000171</td>\n",
              "    </tr>\n",
              "    <tr>\n",
              "      <th>None</th>\n",
              "      <td>adp noun: 2</td>\n",
              "      <td>0.000126</td>\n",
              "    </tr>\n",
              "    <tr>\n",
              "      <th>None</th>\n",
              "      <td>adp verb: 1</td>\n",
              "      <td>0.000121</td>\n",
              "    </tr>\n",
              "    <tr>\n",
              "      <th>None</th>\n",
              "      <td>adp det: 0</td>\n",
              "      <td>0.000111</td>\n",
              "    </tr>\n",
              "    <tr>\n",
              "      <th>None</th>\n",
              "      <td>adv adv: 1</td>\n",
              "      <td>0.000110</td>\n",
              "    </tr>\n",
              "  </tbody>\n",
              "</table>\n",
              "</div>"
            ],
            "text/plain": [
              "         features     score\n",
              "type                       \n",
              "None   adp adj: 1  0.000346\n",
              "None    . conj: 1  0.000284\n",
              "None   adv adj: 1  0.000230\n",
              "None  adv verb: 1  0.000230\n",
              "None    . pron: 1  0.000192\n",
              "None   adj adp: 1  0.000171\n",
              "None  adp noun: 2  0.000126\n",
              "None  adp verb: 1  0.000121\n",
              "None   adp det: 0  0.000111\n",
              "None   adv adv: 1  0.000110"
            ]
          },
          "metadata": {},
          "execution_count": 77
        }
      ]
    },
    {
      "cell_type": "markdown",
      "metadata": {
        "id": "MGyHotXeIlnJ"
      },
      "source": [
        "## **Dependency BOW dataframe**"
      ]
    },
    {
      "cell_type": "code",
      "metadata": {
        "id": "bcxPubvMd--G",
        "colab": {
          "base_uri": "https://localhost:8080/"
        },
        "outputId": "f949e99c-804d-468f-eb9a-c3a6d19b6fc2"
      },
      "source": [
        "ground_labels, _, labels, _, _, policy=stc_procedure(dependency,true_labels)"
      ],
      "execution_count": null,
      "outputs": [
        {
          "output_type": "stream",
          "name": "stdout",
          "text": [
            ""
          ]
        }
      ]
    },
    {
      "cell_type": "code",
      "metadata": {
        "id": "7O1tkVoqxNEl",
        "colab": {
          "base_uri": "https://localhost:8080/"
        },
        "outputId": "7460793e-e37a-49d3-ff66-b1351fa33c44"
      },
      "source": [
        "_, global_explainability_tabular, _, _, _, _, microtext_ground_labels, microtext_labels=stc_procedure_tabular(dependency,true_labels,microtext_dependency,microtext_true_labels)"
      ],
      "execution_count": null,
      "outputs": [
        {
          "output_type": "stream",
          "name": "stdout",
          "text": [
            ""
          ]
        }
      ]
    },
    {
      "cell_type": "code",
      "metadata": {
        "id": "ahDQKMPqzhZM",
        "colab": {
          "base_uri": "https://localhost:8080/"
        },
        "outputId": "7e071f52-68e1-4f92-e6c1-c9e87d9792bc"
      },
      "source": [
        "accuracy=accuracy_score(ground_labels, labels)\n",
        "f1_score_value=f1_score(y_true=ground_labels, y_pred=labels, average=\"macro\")\n",
        "precision=precision_score(ground_labels, labels, average=\"macro\")\n",
        "recall=recall_score(ground_labels, labels, average=\"macro\")\n",
        "\n",
        "microtext_accuracy=accuracy_score(microtext_ground_labels, microtext_labels)\n",
        "microtext_f1_score_value=f1_score(microtext_ground_labels, microtext_labels, average=\"macro\")\n",
        "microtext_precision=precision_score(microtext_ground_labels, microtext_labels, average=\"macro\")\n",
        "microtext_recall=recall_score(microtext_ground_labels, microtext_labels, average=\"macro\")"
      ],
      "execution_count": null,
      "outputs": [
        {
          "output_type": "stream",
          "name": "stderr",
          "text": [
            "/usr/local/lib/python3.7/dist-packages/sklearn/metrics/_classification.py:1272: UndefinedMetricWarning: Recall is ill-defined and being set to 0.0 in labels with no true samples. Use `zero_division` parameter to control this behavior.\n",
            "  _warn_prf(average, modifier, msg_start, len(result))\n"
          ]
        }
      ]
    },
    {
      "cell_type": "code",
      "metadata": {
        "id": "XV9Ywy6tzhZN"
      },
      "source": [
        "accuracy_scores.append(accuracy)\n",
        "f1_scores.append(f1_score_value)\n",
        "precision_scores.append(precision)\n",
        "recall_scores.append(recall)\n",
        "\n",
        "microtext_accuracy_scores.append(microtext_accuracy)\n",
        "microtext_f1_scores.append(microtext_f1_score_value)\n",
        "microtext_precision_scores.append(microtext_precision)\n",
        "microtext_recall_scores.append(microtext_recall)"
      ],
      "execution_count": null,
      "outputs": []
    },
    {
      "cell_type": "code",
      "metadata": {
        "id": "uLO4863mzhZN",
        "colab": {
          "base_uri": "https://localhost:8080/"
        },
        "outputId": "6933cfec-6f42-4e2e-f40f-b6132a55d92f"
      },
      "source": [
        "print('accuracy: {}'.format(accuracy))\n",
        "print('f1 score: {}'.format(f1_score_value))\n",
        "print('precision: {}'.format(precision))\n",
        "print('recall: {}'.format(recall))\n",
        "print('\\n')\n",
        "print('accuracy microtext dataset: {}'.format(microtext_accuracy))\n",
        "print('f1 score microtext dataset: {}'.format(microtext_f1_score_value))\n",
        "print('precision microtext dataset: {}'.format(microtext_precision))\n",
        "print('recall microtext dataset: {}'.format(microtext_recall))"
      ],
      "execution_count": null,
      "outputs": [
        {
          "output_type": "stream",
          "name": "stdout",
          "text": [
            "accuracy: 0.4724041159962582\n",
            "f1 score: 0.34860435345221696\n",
            "precision: 0.3525662414551303\n",
            "recall: 0.3659770114942529\n",
            "\n",
            "\n",
            "accuracy microtext dataset: 0.5040431266846361\n",
            "f1 score microtext dataset: 0.3019877593023886\n",
            "precision microtext dataset: 0.3312055176461956\n",
            "recall microtext dataset: 0.2788457024832183\n"
          ]
        }
      ]
    },
    {
      "cell_type": "code",
      "metadata": {
        "id": "kIVgdz2nd--J",
        "colab": {
          "base_uri": "https://localhost:8080/"
        },
        "outputId": "df151870-81e5-41c1-f8af-c726dc1a4380"
      },
      "source": [
        "policy"
      ],
      "execution_count": null,
      "outputs": [
        {
          "output_type": "execute_result",
          "data": {
            "text/plain": [
              "[['d23',\n",
              "  'd30',\n",
              "  'd32',\n",
              "  'd18',\n",
              "  'd7',\n",
              "  'd6',\n",
              "  'd17',\n",
              "  'd16',\n",
              "  'd12',\n",
              "  'd42',\n",
              "  'd41',\n",
              "  'd40',\n",
              "  'd20',\n",
              "  'd4',\n",
              "  'd22',\n",
              "  'd39',\n",
              "  'd0',\n",
              "  'd1',\n",
              "  'd33',\n",
              "  'd31',\n",
              "  'd2'],\n",
              " ['d30',\n",
              "  'd32',\n",
              "  'd18',\n",
              "  'd7',\n",
              "  'd6',\n",
              "  'd17',\n",
              "  'd16',\n",
              "  'd12',\n",
              "  'd42',\n",
              "  'd41',\n",
              "  'd40',\n",
              "  'd20',\n",
              "  'd4',\n",
              "  'd22',\n",
              "  'd39',\n",
              "  'd0',\n",
              "  'd1',\n",
              "  'd33',\n",
              "  'd31',\n",
              "  'd2'],\n",
              " ['d32',\n",
              "  'd18',\n",
              "  'd7',\n",
              "  'd6',\n",
              "  'd17',\n",
              "  'd16',\n",
              "  'd12',\n",
              "  'd42',\n",
              "  'd41',\n",
              "  'd40',\n",
              "  'd20',\n",
              "  'd4',\n",
              "  'd22',\n",
              "  'd39',\n",
              "  'd0',\n",
              "  'd1',\n",
              "  'd33',\n",
              "  'd31',\n",
              "  'd2'],\n",
              " ['d18',\n",
              "  'd7',\n",
              "  'd6',\n",
              "  'd17',\n",
              "  'd16',\n",
              "  'd12',\n",
              "  'd42',\n",
              "  'd41',\n",
              "  'd40',\n",
              "  'd20',\n",
              "  'd4',\n",
              "  'd22',\n",
              "  'd39',\n",
              "  'd0',\n",
              "  'd1',\n",
              "  'd33',\n",
              "  'd31',\n",
              "  'd2'],\n",
              " ['d7',\n",
              "  'd6',\n",
              "  'd17',\n",
              "  'd16',\n",
              "  'd12',\n",
              "  'd42',\n",
              "  'd41',\n",
              "  'd40',\n",
              "  'd20',\n",
              "  'd4',\n",
              "  'd22',\n",
              "  'd39',\n",
              "  'd0',\n",
              "  'd1',\n",
              "  'd33',\n",
              "  'd31',\n",
              "  'd2'],\n",
              " ['d6',\n",
              "  'd17',\n",
              "  'd16',\n",
              "  'd12',\n",
              "  'd42',\n",
              "  'd41',\n",
              "  'd40',\n",
              "  'd20',\n",
              "  'd4',\n",
              "  'd22',\n",
              "  'd39',\n",
              "  'd0',\n",
              "  'd1',\n",
              "  'd33',\n",
              "  'd31',\n",
              "  'd2'],\n",
              " ['d17',\n",
              "  'd16',\n",
              "  'd12',\n",
              "  'd42',\n",
              "  'd41',\n",
              "  'd40',\n",
              "  'd20',\n",
              "  'd4',\n",
              "  'd22',\n",
              "  'd39',\n",
              "  'd0',\n",
              "  'd1',\n",
              "  'd33',\n",
              "  'd31',\n",
              "  'd2'],\n",
              " ['d16',\n",
              "  'd12',\n",
              "  'd42',\n",
              "  'd41',\n",
              "  'd40',\n",
              "  'd20',\n",
              "  'd4',\n",
              "  'd22',\n",
              "  'd39',\n",
              "  'd0',\n",
              "  'd1',\n",
              "  'd33',\n",
              "  'd31',\n",
              "  'd2'],\n",
              " ['d12',\n",
              "  'd42',\n",
              "  'd41',\n",
              "  'd40',\n",
              "  'd20',\n",
              "  'd4',\n",
              "  'd22',\n",
              "  'd39',\n",
              "  'd0',\n",
              "  'd1',\n",
              "  'd33',\n",
              "  'd31',\n",
              "  'd2'],\n",
              " ['d42',\n",
              "  'd41',\n",
              "  'd40',\n",
              "  'd20',\n",
              "  'd4',\n",
              "  'd22',\n",
              "  'd39',\n",
              "  'd0',\n",
              "  'd1',\n",
              "  'd33',\n",
              "  'd31',\n",
              "  'd2'],\n",
              " ['d41', 'd40', 'd20', 'd4', 'd22', 'd39', 'd0', 'd1', 'd33', 'd31', 'd2'],\n",
              " ['d40', 'd20', 'd4', 'd22', 'd39', 'd0', 'd1', 'd33', 'd31', 'd2'],\n",
              " ['d20', 'd4', 'd22', 'd39', 'd0', 'd1', 'd33', 'd31', 'd2'],\n",
              " ['d4', 'd22', 'd39', 'd0', 'd1', 'd33', 'd31', 'd2'],\n",
              " ['d22', 'd39', 'd0', 'd1', 'd33', 'd31', 'd2'],\n",
              " ['d39', 'd0', 'd1', 'd33', 'd31', 'd2'],\n",
              " ['d0', 'd1', 'd33', 'd31', 'd2'],\n",
              " ['d1', 'd33', 'd31', 'd2'],\n",
              " ['d33', 'd31', 'd2'],\n",
              " ['d31', 'd2'],\n",
              " ['d2'],\n",
              " []]"
            ]
          },
          "metadata": {},
          "execution_count": 83
        }
      ]
    },
    {
      "cell_type": "code",
      "metadata": {
        "id": "oG0XLvHEjtOC",
        "colab": {
          "base_uri": "https://localhost:8080/"
        },
        "outputId": "e711cffc-338a-4623-fb64-0cd3e15257ec"
      },
      "source": [
        "policy_set=[]\n",
        "\n",
        "for pol in policy:\n",
        "  policy_set+=pol\n",
        "\n",
        "policy_set=list(set(policy_set))\n",
        "\n",
        "column=dependency.columns\n",
        "drop_features=[]\n",
        "for i in range(len(column)-1):\n",
        "  if not 'd{}'.format(i) in policy_set:\n",
        "    drop_features.append(column[i])\n",
        "\n",
        "drop_features"
      ],
      "execution_count": null,
      "outputs": [
        {
          "output_type": "execute_result",
          "data": {
            "text/plain": [
              "['pcomp',\n",
              " 'csubj',\n",
              " 'expl',\n",
              " 'attr',\n",
              " 'intj',\n",
              " 'case',\n",
              " 'dative',\n",
              " 'npadvmod',\n",
              " 'agent',\n",
              " 'auxpass',\n",
              " 'appos',\n",
              " 'root',\n",
              " 'preconj',\n",
              " 'predet',\n",
              " 'oprd',\n",
              " 'acl',\n",
              " 'neg',\n",
              " 'parataxis',\n",
              " 'quantmod',\n",
              " 'nmod',\n",
              " 'prt',\n",
              " 'csubjpass',\n",
              " 'nummod']"
            ]
          },
          "metadata": {},
          "execution_count": 84
        }
      ]
    },
    {
      "cell_type": "code",
      "metadata": {
        "id": "sCgiRuQJjtOD",
        "colab": {
          "base_uri": "https://localhost:8080/"
        },
        "outputId": "0d9ea47d-fc66-402a-eaad-159f5def0e7d"
      },
      "source": [
        "len(drop_features)"
      ],
      "execution_count": null,
      "outputs": [
        {
          "output_type": "execute_result",
          "data": {
            "text/plain": [
              "23"
            ]
          },
          "metadata": {},
          "execution_count": 85
        }
      ]
    },
    {
      "cell_type": "code",
      "metadata": {
        "id": "o0MSaNRv2xa9"
      },
      "source": [
        "# Save features to drop into a text file.\n",
        "\n",
        "f = open(\"drop_relation_dependency.txt\", \"a\")\n",
        "for feature in drop_features:\n",
        "  f.write(\"{}-\".format(feature))\n",
        "f.close()"
      ],
      "execution_count": null,
      "outputs": []
    },
    {
      "cell_type": "code",
      "metadata": {
        "id": "arQ7mkhEjtOE"
      },
      "source": [
        "if len(policy_set)>1:\n",
        "  dependency=dependency.drop(columns=drop_features)"
      ],
      "execution_count": null,
      "outputs": []
    },
    {
      "cell_type": "code",
      "metadata": {
        "id": "tEbnRoyjyvQh",
        "colab": {
          "base_uri": "https://localhost:8080/",
          "height": 542
        },
        "outputId": "0e023811-47fb-4ff1-9477-5e5979bad424"
      },
      "source": [
        "global_explainability_tabular.loc[\"supports\"][:15]"
      ],
      "execution_count": null,
      "outputs": [
        {
          "output_type": "execute_result",
          "data": {
            "text/html": [
              "<div>\n",
              "<style scoped>\n",
              "    .dataframe tbody tr th:only-of-type {\n",
              "        vertical-align: middle;\n",
              "    }\n",
              "\n",
              "    .dataframe tbody tr th {\n",
              "        vertical-align: top;\n",
              "    }\n",
              "\n",
              "    .dataframe thead th {\n",
              "        text-align: right;\n",
              "    }\n",
              "</style>\n",
              "<table border=\"1\" class=\"dataframe\">\n",
              "  <thead>\n",
              "    <tr style=\"text-align: right;\">\n",
              "      <th></th>\n",
              "      <th>features</th>\n",
              "      <th>score</th>\n",
              "    </tr>\n",
              "    <tr>\n",
              "      <th>type</th>\n",
              "      <th></th>\n",
              "      <th></th>\n",
              "    </tr>\n",
              "  </thead>\n",
              "  <tbody>\n",
              "    <tr>\n",
              "      <th>supports</th>\n",
              "      <td>punct: 0</td>\n",
              "      <td>0.000519</td>\n",
              "    </tr>\n",
              "    <tr>\n",
              "      <th>supports</th>\n",
              "      <td>ccomp: 1</td>\n",
              "      <td>0.000512</td>\n",
              "    </tr>\n",
              "    <tr>\n",
              "      <th>supports</th>\n",
              "      <td>acomp: 1</td>\n",
              "      <td>0.000409</td>\n",
              "    </tr>\n",
              "    <tr>\n",
              "      <th>supports</th>\n",
              "      <td>mark: 1</td>\n",
              "      <td>0.000340</td>\n",
              "    </tr>\n",
              "    <tr>\n",
              "      <th>supports</th>\n",
              "      <td>neg: 1</td>\n",
              "      <td>0.000328</td>\n",
              "    </tr>\n",
              "    <tr>\n",
              "      <th>supports</th>\n",
              "      <td>advmod: 0</td>\n",
              "      <td>0.000319</td>\n",
              "    </tr>\n",
              "    <tr>\n",
              "      <th>supports</th>\n",
              "      <td>mark: 2</td>\n",
              "      <td>0.000307</td>\n",
              "    </tr>\n",
              "    <tr>\n",
              "      <th>supports</th>\n",
              "      <td>det: 0</td>\n",
              "      <td>0.000292</td>\n",
              "    </tr>\n",
              "    <tr>\n",
              "      <th>supports</th>\n",
              "      <td>mark: 0</td>\n",
              "      <td>0.000287</td>\n",
              "    </tr>\n",
              "    <tr>\n",
              "      <th>supports</th>\n",
              "      <td>nsubj: 3</td>\n",
              "      <td>0.000269</td>\n",
              "    </tr>\n",
              "    <tr>\n",
              "      <th>supports</th>\n",
              "      <td>nsubj: 4</td>\n",
              "      <td>0.000252</td>\n",
              "    </tr>\n",
              "    <tr>\n",
              "      <th>supports</th>\n",
              "      <td>nsubj: 1</td>\n",
              "      <td>0.000248</td>\n",
              "    </tr>\n",
              "    <tr>\n",
              "      <th>supports</th>\n",
              "      <td>csubj: 1</td>\n",
              "      <td>0.000226</td>\n",
              "    </tr>\n",
              "    <tr>\n",
              "      <th>supports</th>\n",
              "      <td>attr: 1</td>\n",
              "      <td>0.000206</td>\n",
              "    </tr>\n",
              "    <tr>\n",
              "      <th>supports</th>\n",
              "      <td>advmod: 3</td>\n",
              "      <td>0.000204</td>\n",
              "    </tr>\n",
              "  </tbody>\n",
              "</table>\n",
              "</div>"
            ],
            "text/plain": [
              "           features     score\n",
              "type                         \n",
              "supports   punct: 0  0.000519\n",
              "supports   ccomp: 1  0.000512\n",
              "supports   acomp: 1  0.000409\n",
              "supports    mark: 1  0.000340\n",
              "supports     neg: 1  0.000328\n",
              "supports  advmod: 0  0.000319\n",
              "supports    mark: 2  0.000307\n",
              "supports     det: 0  0.000292\n",
              "supports    mark: 0  0.000287\n",
              "supports   nsubj: 3  0.000269\n",
              "supports   nsubj: 4  0.000252\n",
              "supports   nsubj: 1  0.000248\n",
              "supports   csubj: 1  0.000226\n",
              "supports    attr: 1  0.000206\n",
              "supports  advmod: 3  0.000204"
            ]
          },
          "metadata": {},
          "execution_count": 88
        }
      ]
    },
    {
      "cell_type": "code",
      "metadata": {
        "id": "a7dmfZT3yvQi",
        "colab": {
          "base_uri": "https://localhost:8080/",
          "height": 388
        },
        "outputId": "3b07ecfa-42b2-410c-b630-13be48119c56"
      },
      "source": [
        "global_explainability_tabular.loc[\"attacks\"][:10]"
      ],
      "execution_count": null,
      "outputs": [
        {
          "output_type": "execute_result",
          "data": {
            "text/html": [
              "<div>\n",
              "<style scoped>\n",
              "    .dataframe tbody tr th:only-of-type {\n",
              "        vertical-align: middle;\n",
              "    }\n",
              "\n",
              "    .dataframe tbody tr th {\n",
              "        vertical-align: top;\n",
              "    }\n",
              "\n",
              "    .dataframe thead th {\n",
              "        text-align: right;\n",
              "    }\n",
              "</style>\n",
              "<table border=\"1\" class=\"dataframe\">\n",
              "  <thead>\n",
              "    <tr style=\"text-align: right;\">\n",
              "      <th></th>\n",
              "      <th>features</th>\n",
              "      <th>score</th>\n",
              "    </tr>\n",
              "    <tr>\n",
              "      <th>type</th>\n",
              "      <th></th>\n",
              "      <th></th>\n",
              "    </tr>\n",
              "  </thead>\n",
              "  <tbody>\n",
              "    <tr>\n",
              "      <th>attacks</th>\n",
              "      <td>ccomp: 1</td>\n",
              "      <td>0.001068</td>\n",
              "    </tr>\n",
              "    <tr>\n",
              "      <th>attacks</th>\n",
              "      <td>nmod: 1</td>\n",
              "      <td>0.000979</td>\n",
              "    </tr>\n",
              "    <tr>\n",
              "      <th>attacks</th>\n",
              "      <td>pobj: 6</td>\n",
              "      <td>0.000932</td>\n",
              "    </tr>\n",
              "    <tr>\n",
              "      <th>attacks</th>\n",
              "      <td>acomp: 2</td>\n",
              "      <td>0.000890</td>\n",
              "    </tr>\n",
              "    <tr>\n",
              "      <th>attacks</th>\n",
              "      <td>mark: 2</td>\n",
              "      <td>0.000860</td>\n",
              "    </tr>\n",
              "    <tr>\n",
              "      <th>attacks</th>\n",
              "      <td>nsubj: 5</td>\n",
              "      <td>0.000796</td>\n",
              "    </tr>\n",
              "    <tr>\n",
              "      <th>attacks</th>\n",
              "      <td>det: 7</td>\n",
              "      <td>0.000790</td>\n",
              "    </tr>\n",
              "    <tr>\n",
              "      <th>attacks</th>\n",
              "      <td>acomp: 1</td>\n",
              "      <td>0.000767</td>\n",
              "    </tr>\n",
              "    <tr>\n",
              "      <th>attacks</th>\n",
              "      <td>neg: 1</td>\n",
              "      <td>0.000741</td>\n",
              "    </tr>\n",
              "    <tr>\n",
              "      <th>attacks</th>\n",
              "      <td>nsubj: 4</td>\n",
              "      <td>0.000684</td>\n",
              "    </tr>\n",
              "  </tbody>\n",
              "</table>\n",
              "</div>"
            ],
            "text/plain": [
              "         features     score\n",
              "type                       \n",
              "attacks  ccomp: 1  0.001068\n",
              "attacks   nmod: 1  0.000979\n",
              "attacks   pobj: 6  0.000932\n",
              "attacks  acomp: 2  0.000890\n",
              "attacks   mark: 2  0.000860\n",
              "attacks  nsubj: 5  0.000796\n",
              "attacks    det: 7  0.000790\n",
              "attacks  acomp: 1  0.000767\n",
              "attacks    neg: 1  0.000741\n",
              "attacks  nsubj: 4  0.000684"
            ]
          },
          "metadata": {},
          "execution_count": 89
        }
      ]
    },
    {
      "cell_type": "code",
      "metadata": {
        "id": "DSoCosxUyvQi",
        "colab": {
          "base_uri": "https://localhost:8080/",
          "height": 388
        },
        "outputId": "c20f9ecf-1038-4d78-ee95-772fb106c892"
      },
      "source": [
        "global_explainability_tabular.loc[\"None\"][:10]"
      ],
      "execution_count": null,
      "outputs": [
        {
          "output_type": "execute_result",
          "data": {
            "text/html": [
              "<div>\n",
              "<style scoped>\n",
              "    .dataframe tbody tr th:only-of-type {\n",
              "        vertical-align: middle;\n",
              "    }\n",
              "\n",
              "    .dataframe tbody tr th {\n",
              "        vertical-align: top;\n",
              "    }\n",
              "\n",
              "    .dataframe thead th {\n",
              "        text-align: right;\n",
              "    }\n",
              "</style>\n",
              "<table border=\"1\" class=\"dataframe\">\n",
              "  <thead>\n",
              "    <tr style=\"text-align: right;\">\n",
              "      <th></th>\n",
              "      <th>features</th>\n",
              "      <th>score</th>\n",
              "    </tr>\n",
              "    <tr>\n",
              "      <th>type</th>\n",
              "      <th></th>\n",
              "      <th></th>\n",
              "    </tr>\n",
              "  </thead>\n",
              "  <tbody>\n",
              "    <tr>\n",
              "      <th>None</th>\n",
              "      <td>punct: 0</td>\n",
              "      <td>0.000569</td>\n",
              "    </tr>\n",
              "    <tr>\n",
              "      <th>None</th>\n",
              "      <td>ccomp: 1</td>\n",
              "      <td>0.000427</td>\n",
              "    </tr>\n",
              "    <tr>\n",
              "      <th>None</th>\n",
              "      <td>advmod: 0</td>\n",
              "      <td>0.000368</td>\n",
              "    </tr>\n",
              "    <tr>\n",
              "      <th>None</th>\n",
              "      <td>acomp: 1</td>\n",
              "      <td>0.000345</td>\n",
              "    </tr>\n",
              "    <tr>\n",
              "      <th>None</th>\n",
              "      <td>mark: 1</td>\n",
              "      <td>0.000345</td>\n",
              "    </tr>\n",
              "    <tr>\n",
              "      <th>None</th>\n",
              "      <td>det: 0</td>\n",
              "      <td>0.000297</td>\n",
              "    </tr>\n",
              "    <tr>\n",
              "      <th>None</th>\n",
              "      <td>mark: 0</td>\n",
              "      <td>0.000280</td>\n",
              "    </tr>\n",
              "    <tr>\n",
              "      <th>None</th>\n",
              "      <td>nsubj: 1</td>\n",
              "      <td>0.000254</td>\n",
              "    </tr>\n",
              "    <tr>\n",
              "      <th>None</th>\n",
              "      <td>neg: 1</td>\n",
              "      <td>0.000246</td>\n",
              "    </tr>\n",
              "    <tr>\n",
              "      <th>None</th>\n",
              "      <td>nsubj: 3</td>\n",
              "      <td>0.000242</td>\n",
              "    </tr>\n",
              "  </tbody>\n",
              "</table>\n",
              "</div>"
            ],
            "text/plain": [
              "       features     score\n",
              "type                     \n",
              "None   punct: 0  0.000569\n",
              "None   ccomp: 1  0.000427\n",
              "None  advmod: 0  0.000368\n",
              "None   acomp: 1  0.000345\n",
              "None    mark: 1  0.000345\n",
              "None     det: 0  0.000297\n",
              "None    mark: 0  0.000280\n",
              "None   nsubj: 1  0.000254\n",
              "None     neg: 1  0.000246\n",
              "None   nsubj: 3  0.000242"
            ]
          },
          "metadata": {},
          "execution_count": 90
        }
      ]
    },
    {
      "cell_type": "markdown",
      "metadata": {
        "id": "oyDiCmkiIsnv"
      },
      "source": [
        "## **Dependency tree stat**"
      ]
    },
    {
      "cell_type": "code",
      "metadata": {
        "id": "JwvH9299eLmg",
        "colab": {
          "base_uri": "https://localhost:8080/"
        },
        "outputId": "a52325c5-4a86-47aa-a296-6e963a8ff82d"
      },
      "source": [
        "ground_labels, _, labels, _, _, policy=stc_procedure(dependency_tree_stat,true_labels)"
      ],
      "execution_count": null,
      "outputs": [
        {
          "output_type": "stream",
          "name": "stdout",
          "text": [
            ""
          ]
        }
      ]
    },
    {
      "cell_type": "code",
      "metadata": {
        "id": "RmnBVh9xxWZq",
        "colab": {
          "base_uri": "https://localhost:8080/"
        },
        "outputId": "4364c233-065d-4bdd-a653-451d0890f598"
      },
      "source": [
        "_, global_explainability_tabular, _, _, _, _, microtext_ground_labels, microtext_labels=stc_procedure_tabular(dependency_tree_stat,true_labels,microtext_dependency_tree_stat,microtext_true_labels)"
      ],
      "execution_count": null,
      "outputs": [
        {
          "output_type": "stream",
          "name": "stdout",
          "text": [
            ""
          ]
        }
      ]
    },
    {
      "cell_type": "code",
      "metadata": {
        "id": "Qkdy2TerzlUZ",
        "colab": {
          "base_uri": "https://localhost:8080/"
        },
        "outputId": "47fd4d99-7874-42b6-b3ba-3219a289123c"
      },
      "source": [
        "accuracy=accuracy_score(ground_labels, labels)\n",
        "f1_score_value=f1_score(y_true=ground_labels, y_pred=labels, average=\"macro\")\n",
        "precision=precision_score(ground_labels, labels, average=\"macro\")\n",
        "recall=recall_score(ground_labels, labels, average=\"macro\")\n",
        "\n",
        "microtext_accuracy=accuracy_score(microtext_ground_labels, microtext_labels)\n",
        "microtext_f1_score_value=f1_score(microtext_ground_labels, microtext_labels, average=\"macro\")\n",
        "microtext_precision=precision_score(microtext_ground_labels, microtext_labels, average=\"macro\")\n",
        "microtext_recall=recall_score(microtext_ground_labels, microtext_labels, average=\"macro\")"
      ],
      "execution_count": null,
      "outputs": [
        {
          "output_type": "stream",
          "name": "stderr",
          "text": [
            "/usr/local/lib/python3.7/dist-packages/sklearn/metrics/_classification.py:1272: UndefinedMetricWarning: Recall is ill-defined and being set to 0.0 in labels with no true samples. Use `zero_division` parameter to control this behavior.\n",
            "  _warn_prf(average, modifier, msg_start, len(result))\n"
          ]
        }
      ]
    },
    {
      "cell_type": "code",
      "metadata": {
        "id": "DXn9_zg6zlUa"
      },
      "source": [
        "accuracy_scores.append(accuracy)\n",
        "f1_scores.append(f1_score_value)\n",
        "precision_scores.append(precision)\n",
        "recall_scores.append(recall)\n",
        "\n",
        "microtext_accuracy_scores.append(microtext_accuracy)\n",
        "microtext_f1_scores.append(microtext_f1_score_value)\n",
        "microtext_precision_scores.append(microtext_precision)\n",
        "microtext_recall_scores.append(microtext_recall)"
      ],
      "execution_count": null,
      "outputs": []
    },
    {
      "cell_type": "code",
      "metadata": {
        "id": "YFu3ln29zlUb",
        "colab": {
          "base_uri": "https://localhost:8080/"
        },
        "outputId": "430bd603-7371-4acf-fe38-03ee49ed7217"
      },
      "source": [
        "print('accuracy: {}'.format(accuracy))\n",
        "print('f1 score: {}'.format(f1_score_value))\n",
        "print('precision: {}'.format(precision))\n",
        "print('recall: {}'.format(recall))\n",
        "print('\\n')\n",
        "print('accuracy microtext dataset: {}'.format(microtext_accuracy))\n",
        "print('f1 score microtext dataset: {}'.format(microtext_f1_score_value))\n",
        "print('precision microtext dataset: {}'.format(microtext_precision))\n",
        "print('recall microtext dataset: {}'.format(microtext_recall))"
      ],
      "execution_count": null,
      "outputs": [
        {
          "output_type": "stream",
          "name": "stdout",
          "text": [
            "accuracy: 0.4293732460243218\n",
            "f1 score: 0.3274854062093326\n",
            "precision: 0.34300804756266573\n",
            "recall: 0.3658764367816092\n",
            "\n",
            "\n",
            "accuracy microtext dataset: 0.5498652291105122\n",
            "f1 score microtext dataset: 0.3208551648675379\n",
            "precision microtext dataset: 0.34449958643507034\n",
            "recall microtext dataset: 0.30221095620335164\n"
          ]
        }
      ]
    },
    {
      "cell_type": "code",
      "metadata": {
        "id": "sLzeW3FueLmj",
        "colab": {
          "base_uri": "https://localhost:8080/"
        },
        "outputId": "21ddb0b0-eb59-4da0-856e-337fad7290e8"
      },
      "source": [
        "policy"
      ],
      "execution_count": null,
      "outputs": [
        {
          "output_type": "execute_result",
          "data": {
            "text/plain": [
              "[['d0', 'd1', 'd3', 'd2'], ['d1', 'd3', 'd2'], ['d3', 'd2'], ['d2'], []]"
            ]
          },
          "metadata": {},
          "execution_count": 96
        }
      ]
    },
    {
      "cell_type": "code",
      "metadata": {
        "id": "AZjdqts3juhD",
        "colab": {
          "base_uri": "https://localhost:8080/"
        },
        "outputId": "0684d055-d2e5-4cb3-83fa-f270824c9506"
      },
      "source": [
        "policy_set=[]\n",
        "\n",
        "for pol in policy:\n",
        "  policy_set+=pol\n",
        "\n",
        "policy_set=list(set(policy_set))\n",
        "\n",
        "column=dependency_tree_stat.columns\n",
        "drop_features=[]\n",
        "for i in range(len(column)-1):\n",
        "  if not 'd{}'.format(i) in policy_set:\n",
        "    drop_features.append(column[i])\n",
        "\n",
        "drop_features"
      ],
      "execution_count": null,
      "outputs": [
        {
          "output_type": "execute_result",
          "data": {
            "text/plain": [
              "[]"
            ]
          },
          "metadata": {},
          "execution_count": 97
        }
      ]
    },
    {
      "cell_type": "code",
      "metadata": {
        "id": "068HSYKajuhE",
        "colab": {
          "base_uri": "https://localhost:8080/"
        },
        "outputId": "dcd860fe-a47c-4e0f-9e54-304eb5264863"
      },
      "source": [
        "len(drop_features)"
      ],
      "execution_count": null,
      "outputs": [
        {
          "output_type": "execute_result",
          "data": {
            "text/plain": [
              "0"
            ]
          },
          "metadata": {},
          "execution_count": 98
        }
      ]
    },
    {
      "cell_type": "code",
      "metadata": {
        "id": "MY6fqLdI25CP"
      },
      "source": [
        "# Save features to drop into a text file.\n",
        "\n",
        "f = open(\"drop_relation_dependency_tree.txt\", \"a\")\n",
        "for feature in drop_features:\n",
        "  f.write(\"{}-\".format(feature))\n",
        "f.close()"
      ],
      "execution_count": null,
      "outputs": []
    },
    {
      "cell_type": "code",
      "metadata": {
        "id": "R7nPEas8juhE"
      },
      "source": [
        "if len(policy_set)>1:\n",
        "  dependency_tree_stat=dependency_tree_stat.drop(columns=drop_features)"
      ],
      "execution_count": null,
      "outputs": []
    },
    {
      "cell_type": "code",
      "metadata": {
        "id": "yaf3CZghyw8b",
        "colab": {
          "base_uri": "https://localhost:8080/",
          "height": 542
        },
        "outputId": "1341a13a-9cdf-4b7f-a56d-2d1df067cece"
      },
      "source": [
        "global_explainability_tabular.loc[\"supports\"][:15]"
      ],
      "execution_count": null,
      "outputs": [
        {
          "output_type": "execute_result",
          "data": {
            "text/html": [
              "<div>\n",
              "<style scoped>\n",
              "    .dataframe tbody tr th:only-of-type {\n",
              "        vertical-align: middle;\n",
              "    }\n",
              "\n",
              "    .dataframe tbody tr th {\n",
              "        vertical-align: top;\n",
              "    }\n",
              "\n",
              "    .dataframe thead th {\n",
              "        text-align: right;\n",
              "    }\n",
              "</style>\n",
              "<table border=\"1\" class=\"dataframe\">\n",
              "  <thead>\n",
              "    <tr style=\"text-align: right;\">\n",
              "      <th></th>\n",
              "      <th>features</th>\n",
              "      <th>score</th>\n",
              "    </tr>\n",
              "    <tr>\n",
              "      <th>type</th>\n",
              "      <th></th>\n",
              "      <th></th>\n",
              "    </tr>\n",
              "  </thead>\n",
              "  <tbody>\n",
              "    <tr>\n",
              "      <th>supports</th>\n",
              "      <td>supported: tree depth: 3</td>\n",
              "      <td>0.003305</td>\n",
              "    </tr>\n",
              "    <tr>\n",
              "      <th>supports</th>\n",
              "      <td>supporting: tree depth: 13</td>\n",
              "      <td>0.001490</td>\n",
              "    </tr>\n",
              "    <tr>\n",
              "      <th>supports</th>\n",
              "      <td>supporting: max number of children of a ROOT n...</td>\n",
              "      <td>0.001402</td>\n",
              "    </tr>\n",
              "    <tr>\n",
              "      <th>supports</th>\n",
              "      <td>supporting: max number of children of a ROOT n...</td>\n",
              "      <td>0.001098</td>\n",
              "    </tr>\n",
              "    <tr>\n",
              "      <th>supports</th>\n",
              "      <td>supporting: tree depth: 12</td>\n",
              "      <td>0.001061</td>\n",
              "    </tr>\n",
              "    <tr>\n",
              "      <th>supports</th>\n",
              "      <td>supported: tree depth: 6</td>\n",
              "      <td>0.000980</td>\n",
              "    </tr>\n",
              "    <tr>\n",
              "      <th>supports</th>\n",
              "      <td>supporting: max number of children of a ROOT n...</td>\n",
              "      <td>0.000963</td>\n",
              "    </tr>\n",
              "    <tr>\n",
              "      <th>supports</th>\n",
              "      <td>supporting: max number of children of a ROOT n...</td>\n",
              "      <td>0.000949</td>\n",
              "    </tr>\n",
              "    <tr>\n",
              "      <th>supports</th>\n",
              "      <td>supporting: max number of children of a ROOT n...</td>\n",
              "      <td>0.000869</td>\n",
              "    </tr>\n",
              "    <tr>\n",
              "      <th>supports</th>\n",
              "      <td>supporting: max number of children of a ROOT n...</td>\n",
              "      <td>0.000789</td>\n",
              "    </tr>\n",
              "    <tr>\n",
              "      <th>supports</th>\n",
              "      <td>supported: tree depth: 9</td>\n",
              "      <td>0.000772</td>\n",
              "    </tr>\n",
              "    <tr>\n",
              "      <th>supports</th>\n",
              "      <td>supported: tree depth: 11</td>\n",
              "      <td>0.000711</td>\n",
              "    </tr>\n",
              "    <tr>\n",
              "      <th>supports</th>\n",
              "      <td>supported: tree depth: 8</td>\n",
              "      <td>0.000680</td>\n",
              "    </tr>\n",
              "    <tr>\n",
              "      <th>supports</th>\n",
              "      <td>supported: max number of children of a ROOT no...</td>\n",
              "      <td>0.000649</td>\n",
              "    </tr>\n",
              "    <tr>\n",
              "      <th>supports</th>\n",
              "      <td>supporting: tree depth: 8</td>\n",
              "      <td>0.000630</td>\n",
              "    </tr>\n",
              "  </tbody>\n",
              "</table>\n",
              "</div>"
            ],
            "text/plain": [
              "                                                   features     score\n",
              "type                                                                 \n",
              "supports                           supported: tree depth: 3  0.003305\n",
              "supports                         supporting: tree depth: 13  0.001490\n",
              "supports  supporting: max number of children of a ROOT n...  0.001402\n",
              "supports  supporting: max number of children of a ROOT n...  0.001098\n",
              "supports                         supporting: tree depth: 12  0.001061\n",
              "supports                           supported: tree depth: 6  0.000980\n",
              "supports  supporting: max number of children of a ROOT n...  0.000963\n",
              "supports  supporting: max number of children of a ROOT n...  0.000949\n",
              "supports  supporting: max number of children of a ROOT n...  0.000869\n",
              "supports  supporting: max number of children of a ROOT n...  0.000789\n",
              "supports                           supported: tree depth: 9  0.000772\n",
              "supports                          supported: tree depth: 11  0.000711\n",
              "supports                           supported: tree depth: 8  0.000680\n",
              "supports  supported: max number of children of a ROOT no...  0.000649\n",
              "supports                          supporting: tree depth: 8  0.000630"
            ]
          },
          "metadata": {},
          "execution_count": 101
        }
      ]
    },
    {
      "cell_type": "code",
      "metadata": {
        "id": "j0Yn4r1Ryw8c",
        "colab": {
          "base_uri": "https://localhost:8080/",
          "height": 388
        },
        "outputId": "10d32b7b-576f-46ab-f7cc-99fd01dcf5e7"
      },
      "source": [
        "global_explainability_tabular.loc[\"attacks\"][:10]"
      ],
      "execution_count": null,
      "outputs": [
        {
          "output_type": "execute_result",
          "data": {
            "text/html": [
              "<div>\n",
              "<style scoped>\n",
              "    .dataframe tbody tr th:only-of-type {\n",
              "        vertical-align: middle;\n",
              "    }\n",
              "\n",
              "    .dataframe tbody tr th {\n",
              "        vertical-align: top;\n",
              "    }\n",
              "\n",
              "    .dataframe thead th {\n",
              "        text-align: right;\n",
              "    }\n",
              "</style>\n",
              "<table border=\"1\" class=\"dataframe\">\n",
              "  <thead>\n",
              "    <tr style=\"text-align: right;\">\n",
              "      <th></th>\n",
              "      <th>features</th>\n",
              "      <th>score</th>\n",
              "    </tr>\n",
              "    <tr>\n",
              "      <th>type</th>\n",
              "      <th></th>\n",
              "      <th></th>\n",
              "    </tr>\n",
              "  </thead>\n",
              "  <tbody>\n",
              "    <tr>\n",
              "      <th>attacks</th>\n",
              "      <td>supported: tree depth: 11</td>\n",
              "      <td>0.002346</td>\n",
              "    </tr>\n",
              "    <tr>\n",
              "      <th>attacks</th>\n",
              "      <td>supporting: max number of children of a ROOT n...</td>\n",
              "      <td>0.002015</td>\n",
              "    </tr>\n",
              "    <tr>\n",
              "      <th>attacks</th>\n",
              "      <td>supporting: max number of children of a ROOT n...</td>\n",
              "      <td>0.001441</td>\n",
              "    </tr>\n",
              "    <tr>\n",
              "      <th>attacks</th>\n",
              "      <td>supported: max number of children of a ROOT no...</td>\n",
              "      <td>0.001324</td>\n",
              "    </tr>\n",
              "    <tr>\n",
              "      <th>attacks</th>\n",
              "      <td>supported: tree depth: 9</td>\n",
              "      <td>0.001155</td>\n",
              "    </tr>\n",
              "    <tr>\n",
              "      <th>attacks</th>\n",
              "      <td>supported: tree depth: 8</td>\n",
              "      <td>0.001132</td>\n",
              "    </tr>\n",
              "    <tr>\n",
              "      <th>attacks</th>\n",
              "      <td>supported: tree depth: 10</td>\n",
              "      <td>0.001098</td>\n",
              "    </tr>\n",
              "    <tr>\n",
              "      <th>attacks</th>\n",
              "      <td>supported: tree depth: 3</td>\n",
              "      <td>0.000904</td>\n",
              "    </tr>\n",
              "    <tr>\n",
              "      <th>attacks</th>\n",
              "      <td>supported: max number of children of a ROOT no...</td>\n",
              "      <td>0.000833</td>\n",
              "    </tr>\n",
              "    <tr>\n",
              "      <th>attacks</th>\n",
              "      <td>supporting: tree depth: 8</td>\n",
              "      <td>0.000758</td>\n",
              "    </tr>\n",
              "  </tbody>\n",
              "</table>\n",
              "</div>"
            ],
            "text/plain": [
              "                                                  features     score\n",
              "type                                                                \n",
              "attacks                          supported: tree depth: 11  0.002346\n",
              "attacks  supporting: max number of children of a ROOT n...  0.002015\n",
              "attacks  supporting: max number of children of a ROOT n...  0.001441\n",
              "attacks  supported: max number of children of a ROOT no...  0.001324\n",
              "attacks                           supported: tree depth: 9  0.001155\n",
              "attacks                           supported: tree depth: 8  0.001132\n",
              "attacks                          supported: tree depth: 10  0.001098\n",
              "attacks                           supported: tree depth: 3  0.000904\n",
              "attacks  supported: max number of children of a ROOT no...  0.000833\n",
              "attacks                          supporting: tree depth: 8  0.000758"
            ]
          },
          "metadata": {},
          "execution_count": 102
        }
      ]
    },
    {
      "cell_type": "code",
      "metadata": {
        "id": "Mwydhimpyw8c",
        "colab": {
          "base_uri": "https://localhost:8080/",
          "height": 388
        },
        "outputId": "0dde6e4b-5509-4cf4-85d6-d7e069d73179"
      },
      "source": [
        "global_explainability_tabular.loc[\"None\"][:10]"
      ],
      "execution_count": null,
      "outputs": [
        {
          "output_type": "execute_result",
          "data": {
            "text/html": [
              "<div>\n",
              "<style scoped>\n",
              "    .dataframe tbody tr th:only-of-type {\n",
              "        vertical-align: middle;\n",
              "    }\n",
              "\n",
              "    .dataframe tbody tr th {\n",
              "        vertical-align: top;\n",
              "    }\n",
              "\n",
              "    .dataframe thead th {\n",
              "        text-align: right;\n",
              "    }\n",
              "</style>\n",
              "<table border=\"1\" class=\"dataframe\">\n",
              "  <thead>\n",
              "    <tr style=\"text-align: right;\">\n",
              "      <th></th>\n",
              "      <th>features</th>\n",
              "      <th>score</th>\n",
              "    </tr>\n",
              "    <tr>\n",
              "      <th>type</th>\n",
              "      <th></th>\n",
              "      <th></th>\n",
              "    </tr>\n",
              "  </thead>\n",
              "  <tbody>\n",
              "    <tr>\n",
              "      <th>None</th>\n",
              "      <td>supported: tree depth: 3</td>\n",
              "      <td>0.002939</td>\n",
              "    </tr>\n",
              "    <tr>\n",
              "      <th>None</th>\n",
              "      <td>supported: max number of children of a ROOT no...</td>\n",
              "      <td>0.002014</td>\n",
              "    </tr>\n",
              "    <tr>\n",
              "      <th>None</th>\n",
              "      <td>supporting: max number of children of a ROOT n...</td>\n",
              "      <td>0.001295</td>\n",
              "    </tr>\n",
              "    <tr>\n",
              "      <th>None</th>\n",
              "      <td>supporting: max number of children of a ROOT n...</td>\n",
              "      <td>0.001260</td>\n",
              "    </tr>\n",
              "    <tr>\n",
              "      <th>None</th>\n",
              "      <td>supporting: max number of children of a ROOT n...</td>\n",
              "      <td>0.001234</td>\n",
              "    </tr>\n",
              "    <tr>\n",
              "      <th>None</th>\n",
              "      <td>supporting: max number of children of a ROOT n...</td>\n",
              "      <td>0.001055</td>\n",
              "    </tr>\n",
              "    <tr>\n",
              "      <th>None</th>\n",
              "      <td>supported: tree depth: 8</td>\n",
              "      <td>0.000958</td>\n",
              "    </tr>\n",
              "    <tr>\n",
              "      <th>None</th>\n",
              "      <td>supporting: max number of children of a ROOT n...</td>\n",
              "      <td>0.000928</td>\n",
              "    </tr>\n",
              "    <tr>\n",
              "      <th>None</th>\n",
              "      <td>supported: tree depth: 6</td>\n",
              "      <td>0.000846</td>\n",
              "    </tr>\n",
              "    <tr>\n",
              "      <th>None</th>\n",
              "      <td>supported: max number of children of a ROOT no...</td>\n",
              "      <td>0.000769</td>\n",
              "    </tr>\n",
              "  </tbody>\n",
              "</table>\n",
              "</div>"
            ],
            "text/plain": [
              "                                               features     score\n",
              "type                                                             \n",
              "None                           supported: tree depth: 3  0.002939\n",
              "None  supported: max number of children of a ROOT no...  0.002014\n",
              "None  supporting: max number of children of a ROOT n...  0.001295\n",
              "None  supporting: max number of children of a ROOT n...  0.001260\n",
              "None  supporting: max number of children of a ROOT n...  0.001234\n",
              "None  supporting: max number of children of a ROOT n...  0.001055\n",
              "None                           supported: tree depth: 8  0.000958\n",
              "None  supporting: max number of children of a ROOT n...  0.000928\n",
              "None                           supported: tree depth: 6  0.000846\n",
              "None  supported: max number of children of a ROOT no...  0.000769"
            ]
          },
          "metadata": {},
          "execution_count": 103
        }
      ]
    },
    {
      "cell_type": "markdown",
      "metadata": {
        "id": "pfWd-79JJB9j"
      },
      "source": [
        "## **Named entity**"
      ]
    },
    {
      "cell_type": "code",
      "metadata": {
        "id": "k8KbeLHueguN",
        "colab": {
          "base_uri": "https://localhost:8080/"
        },
        "outputId": "f8922507-2dcf-470e-8e2a-cf8e1e4b769d"
      },
      "source": [
        "ground_labels, _, labels, _, _, policy=stc_procedure(named_entity,true_labels)"
      ],
      "execution_count": null,
      "outputs": [
        {
          "output_type": "stream",
          "name": "stdout",
          "text": [
            ""
          ]
        }
      ]
    },
    {
      "cell_type": "code",
      "metadata": {
        "id": "ohYc3-wvxc3c",
        "colab": {
          "base_uri": "https://localhost:8080/"
        },
        "outputId": "5a9487ed-1a86-4bb6-e4b6-ddb55cd33fd7"
      },
      "source": [
        "_, global_explainability_tabular, _, _, _, _, microtext_ground_labels, microtext_labels=stc_procedure_tabular(named_entity,true_labels,microtext_named_entity,microtext_true_labels)"
      ],
      "execution_count": null,
      "outputs": [
        {
          "output_type": "stream",
          "name": "stdout",
          "text": [
            ""
          ]
        }
      ]
    },
    {
      "cell_type": "code",
      "metadata": {
        "id": "SugOxi0szoh5",
        "colab": {
          "base_uri": "https://localhost:8080/"
        },
        "outputId": "5e308fdd-3de6-455f-a9d8-c8c46cf447b7"
      },
      "source": [
        "accuracy=accuracy_score(ground_labels, labels)\n",
        "f1_score_value=f1_score(y_true=ground_labels, y_pred=labels, average=\"macro\")\n",
        "precision=precision_score(ground_labels, labels, average=\"macro\")\n",
        "recall=recall_score(ground_labels, labels, average=\"macro\")\n",
        "\n",
        "microtext_accuracy=accuracy_score(microtext_ground_labels, microtext_labels)\n",
        "microtext_f1_score_value=f1_score(microtext_ground_labels, microtext_labels, average=\"macro\")\n",
        "microtext_precision=precision_score(microtext_ground_labels, microtext_labels, average=\"macro\")\n",
        "microtext_recall=recall_score(microtext_ground_labels, microtext_labels, average=\"macro\")"
      ],
      "execution_count": null,
      "outputs": [
        {
          "output_type": "stream",
          "name": "stderr",
          "text": [
            "/usr/local/lib/python3.7/dist-packages/sklearn/metrics/_classification.py:1272: UndefinedMetricWarning: Precision is ill-defined and being set to 0.0 in labels with no predicted samples. Use `zero_division` parameter to control this behavior.\n",
            "  _warn_prf(average, modifier, msg_start, len(result))\n",
            "/usr/local/lib/python3.7/dist-packages/sklearn/metrics/_classification.py:1272: UndefinedMetricWarning: Recall is ill-defined and being set to 0.0 in labels with no true samples. Use `zero_division` parameter to control this behavior.\n",
            "  _warn_prf(average, modifier, msg_start, len(result))\n"
          ]
        }
      ]
    },
    {
      "cell_type": "code",
      "metadata": {
        "id": "m5pcLh8Azoh5"
      },
      "source": [
        "accuracy_scores.append(accuracy)\n",
        "f1_scores.append(f1_score_value)\n",
        "precision_scores.append(precision)\n",
        "recall_scores.append(recall)\n",
        "\n",
        "microtext_accuracy_scores.append(microtext_accuracy)\n",
        "microtext_f1_scores.append(microtext_f1_score_value)\n",
        "microtext_precision_scores.append(microtext_precision)\n",
        "microtext_recall_scores.append(microtext_recall)"
      ],
      "execution_count": null,
      "outputs": []
    },
    {
      "cell_type": "code",
      "metadata": {
        "id": "CeSlJebjzoh5",
        "colab": {
          "base_uri": "https://localhost:8080/"
        },
        "outputId": "cbb3799a-44c3-43d7-ebe1-545e6d157bb9"
      },
      "source": [
        "print('accuracy: {}'.format(accuracy))\n",
        "print('f1 score: {}'.format(f1_score_value))\n",
        "print('precision: {}'.format(precision))\n",
        "print('recall: {}'.format(recall))\n",
        "print('\\n')\n",
        "print('accuracy microtext dataset: {}'.format(microtext_accuracy))\n",
        "print('f1 score microtext dataset: {}'.format(microtext_f1_score_value))\n",
        "print('precision microtext dataset: {}'.format(microtext_precision))\n",
        "print('recall microtext dataset: {}'.format(microtext_recall))"
      ],
      "execution_count": null,
      "outputs": [
        {
          "output_type": "stream",
          "name": "stdout",
          "text": [
            "accuracy: 0.5930776426566885\n",
            "f1 score: 0.2486274509803921\n",
            "precision: 0.19937106918238992\n",
            "recall: 0.3302083333333333\n",
            "\n",
            "\n",
            "accuracy microtext dataset: 0.6657681940700808\n",
            "f1 score microtext dataset: 0.3211599633120621\n",
            "precision microtext dataset: 0.3483944066766152\n",
            "recall microtext dataset: 0.33488241092803833\n"
          ]
        }
      ]
    },
    {
      "cell_type": "code",
      "metadata": {
        "id": "GVbOH3joeguR",
        "colab": {
          "base_uri": "https://localhost:8080/"
        },
        "outputId": "921911a4-a1a9-4728-8347-d98b417d5e7f"
      },
      "source": [
        "policy"
      ],
      "execution_count": null,
      "outputs": [
        {
          "output_type": "execute_result",
          "data": {
            "text/plain": [
              "[['d8', 'd4', 'd10', 'd15', 'd0', 'd9', 'd1'],\n",
              " ['d4', 'd10', 'd15', 'd0', 'd9', 'd1'],\n",
              " ['d10', 'd15', 'd0', 'd9', 'd1'],\n",
              " ['d15', 'd0', 'd9', 'd1'],\n",
              " ['d0', 'd9', 'd1'],\n",
              " ['d9', 'd1'],\n",
              " ['d1'],\n",
              " []]"
            ]
          },
          "metadata": {},
          "execution_count": 109
        }
      ]
    },
    {
      "cell_type": "code",
      "metadata": {
        "id": "5nZnfwVBjvsU",
        "colab": {
          "base_uri": "https://localhost:8080/"
        },
        "outputId": "4887d205-8303-46e0-e88a-c888b9733d2c"
      },
      "source": [
        "policy_set=[]\n",
        "\n",
        "for pol in policy:\n",
        "  policy_set+=pol\n",
        "\n",
        "policy_set=list(set(policy_set))\n",
        "\n",
        "column=named_entity.columns\n",
        "drop_features=[]\n",
        "for i in range(len(column)-1):\n",
        "  if not 'd{}'.format(i) in policy_set:\n",
        "    drop_features.append(column[i])\n",
        "\n",
        "drop_features"
      ],
      "execution_count": null,
      "outputs": [
        {
          "output_type": "execute_result",
          "data": {
            "text/plain": [
              "['event',\n",
              " 'fac',\n",
              " 'language',\n",
              " 'loc',\n",
              " 'money',\n",
              " 'percent',\n",
              " 'person',\n",
              " 'product',\n",
              " 'quantity',\n",
              " 'work_of_art']"
            ]
          },
          "metadata": {},
          "execution_count": 110
        }
      ]
    },
    {
      "cell_type": "code",
      "metadata": {
        "id": "xHw68Hy7jvsU",
        "colab": {
          "base_uri": "https://localhost:8080/"
        },
        "outputId": "345084b3-3bc5-40c1-f386-a8a8fd6d327b"
      },
      "source": [
        "len(drop_features)"
      ],
      "execution_count": null,
      "outputs": [
        {
          "output_type": "execute_result",
          "data": {
            "text/plain": [
              "10"
            ]
          },
          "metadata": {},
          "execution_count": 111
        }
      ]
    },
    {
      "cell_type": "code",
      "metadata": {
        "id": "qrxBvs4J2_IE"
      },
      "source": [
        "# Save features to drop into a text file.\n",
        "\n",
        "f = open(\"drop_relation_named_entity.txt\", \"a\")\n",
        "for feature in drop_features:\n",
        "  f.write(\"{}-\".format(feature))\n",
        "f.close()"
      ],
      "execution_count": null,
      "outputs": []
    },
    {
      "cell_type": "code",
      "metadata": {
        "id": "iaqDpFlyjvsV"
      },
      "source": [
        "if len(policy_set)>1:\n",
        "  named_entity=named_entity.drop(columns=drop_features)"
      ],
      "execution_count": null,
      "outputs": []
    },
    {
      "cell_type": "code",
      "metadata": {
        "id": "DNnwuKKAyzeb",
        "colab": {
          "base_uri": "https://localhost:8080/",
          "height": 542
        },
        "outputId": "84100490-0412-4ba8-f28c-b44861ebd760"
      },
      "source": [
        "global_explainability_tabular.loc[\"supports\"][:15]"
      ],
      "execution_count": null,
      "outputs": [
        {
          "output_type": "execute_result",
          "data": {
            "text/html": [
              "<div>\n",
              "<style scoped>\n",
              "    .dataframe tbody tr th:only-of-type {\n",
              "        vertical-align: middle;\n",
              "    }\n",
              "\n",
              "    .dataframe tbody tr th {\n",
              "        vertical-align: top;\n",
              "    }\n",
              "\n",
              "    .dataframe thead th {\n",
              "        text-align: right;\n",
              "    }\n",
              "</style>\n",
              "<table border=\"1\" class=\"dataframe\">\n",
              "  <thead>\n",
              "    <tr style=\"text-align: right;\">\n",
              "      <th></th>\n",
              "      <th>features</th>\n",
              "      <th>score</th>\n",
              "    </tr>\n",
              "    <tr>\n",
              "      <th>type</th>\n",
              "      <th></th>\n",
              "      <th></th>\n",
              "    </tr>\n",
              "  </thead>\n",
              "  <tbody>\n",
              "    <tr>\n",
              "      <th>supports</th>\n",
              "      <td>org: 1</td>\n",
              "      <td>2.765408e-04</td>\n",
              "    </tr>\n",
              "    <tr>\n",
              "      <th>supports</th>\n",
              "      <td>cardinal: 1</td>\n",
              "      <td>1.849092e-04</td>\n",
              "    </tr>\n",
              "    <tr>\n",
              "      <th>supports</th>\n",
              "      <td>date: 1</td>\n",
              "      <td>1.662300e-04</td>\n",
              "    </tr>\n",
              "    <tr>\n",
              "      <th>supports</th>\n",
              "      <td>language: 1</td>\n",
              "      <td>1.417499e-04</td>\n",
              "    </tr>\n",
              "    <tr>\n",
              "      <th>supports</th>\n",
              "      <td>cardinal: 2</td>\n",
              "      <td>1.312469e-04</td>\n",
              "    </tr>\n",
              "    <tr>\n",
              "      <th>supports</th>\n",
              "      <td>time: 1</td>\n",
              "      <td>7.847210e-05</td>\n",
              "    </tr>\n",
              "    <tr>\n",
              "      <th>supports</th>\n",
              "      <td>ordinal: 1</td>\n",
              "      <td>7.446140e-05</td>\n",
              "    </tr>\n",
              "    <tr>\n",
              "      <th>supports</th>\n",
              "      <td>date: 2</td>\n",
              "      <td>7.033349e-05</td>\n",
              "    </tr>\n",
              "    <tr>\n",
              "      <th>supports</th>\n",
              "      <td>norp: 1</td>\n",
              "      <td>6.634016e-05</td>\n",
              "    </tr>\n",
              "    <tr>\n",
              "      <th>supports</th>\n",
              "      <td>gpe: 1</td>\n",
              "      <td>4.696882e-05</td>\n",
              "    </tr>\n",
              "    <tr>\n",
              "      <th>supports</th>\n",
              "      <td>person: 1</td>\n",
              "      <td>4.696882e-05</td>\n",
              "    </tr>\n",
              "    <tr>\n",
              "      <th>supports</th>\n",
              "      <td>loc: 1</td>\n",
              "      <td>2.516997e-05</td>\n",
              "    </tr>\n",
              "    <tr>\n",
              "      <th>supports</th>\n",
              "      <td>cardinal: 0</td>\n",
              "      <td>3.208286e-06</td>\n",
              "    </tr>\n",
              "    <tr>\n",
              "      <th>supports</th>\n",
              "      <td>date: 0</td>\n",
              "      <td>2.315023e-06</td>\n",
              "    </tr>\n",
              "    <tr>\n",
              "      <th>supports</th>\n",
              "      <td>ordinal: 0</td>\n",
              "      <td>3.400763e-07</td>\n",
              "    </tr>\n",
              "  </tbody>\n",
              "</table>\n",
              "</div>"
            ],
            "text/plain": [
              "             features         score\n",
              "type                               \n",
              "supports       org: 1  2.765408e-04\n",
              "supports  cardinal: 1  1.849092e-04\n",
              "supports      date: 1  1.662300e-04\n",
              "supports  language: 1  1.417499e-04\n",
              "supports  cardinal: 2  1.312469e-04\n",
              "supports      time: 1  7.847210e-05\n",
              "supports   ordinal: 1  7.446140e-05\n",
              "supports      date: 2  7.033349e-05\n",
              "supports      norp: 1  6.634016e-05\n",
              "supports       gpe: 1  4.696882e-05\n",
              "supports    person: 1  4.696882e-05\n",
              "supports       loc: 1  2.516997e-05\n",
              "supports  cardinal: 0  3.208286e-06\n",
              "supports      date: 0  2.315023e-06\n",
              "supports   ordinal: 0  3.400763e-07"
            ]
          },
          "metadata": {},
          "execution_count": 114
        }
      ]
    },
    {
      "cell_type": "code",
      "metadata": {
        "id": "udU3El5Iyzec",
        "colab": {
          "base_uri": "https://localhost:8080/",
          "height": 388
        },
        "outputId": "86685334-6aa0-403a-80b7-9b493b8035e7"
      },
      "source": [
        "global_explainability_tabular.loc[\"attacks\"][:10]"
      ],
      "execution_count": null,
      "outputs": [
        {
          "output_type": "execute_result",
          "data": {
            "text/html": [
              "<div>\n",
              "<style scoped>\n",
              "    .dataframe tbody tr th:only-of-type {\n",
              "        vertical-align: middle;\n",
              "    }\n",
              "\n",
              "    .dataframe tbody tr th {\n",
              "        vertical-align: top;\n",
              "    }\n",
              "\n",
              "    .dataframe thead th {\n",
              "        text-align: right;\n",
              "    }\n",
              "</style>\n",
              "<table border=\"1\" class=\"dataframe\">\n",
              "  <thead>\n",
              "    <tr style=\"text-align: right;\">\n",
              "      <th></th>\n",
              "      <th>features</th>\n",
              "      <th>score</th>\n",
              "    </tr>\n",
              "    <tr>\n",
              "      <th>type</th>\n",
              "      <th></th>\n",
              "      <th></th>\n",
              "    </tr>\n",
              "  </thead>\n",
              "  <tbody>\n",
              "    <tr>\n",
              "      <th>attacks</th>\n",
              "      <td>cardinal: 1</td>\n",
              "      <td>9.214555e-04</td>\n",
              "    </tr>\n",
              "    <tr>\n",
              "      <th>attacks</th>\n",
              "      <td>date: 1</td>\n",
              "      <td>4.141858e-04</td>\n",
              "    </tr>\n",
              "    <tr>\n",
              "      <th>attacks</th>\n",
              "      <td>ordinal: 1</td>\n",
              "      <td>5.757865e-05</td>\n",
              "    </tr>\n",
              "    <tr>\n",
              "      <th>attacks</th>\n",
              "      <td>cardinal: 0</td>\n",
              "      <td>2.404144e-06</td>\n",
              "    </tr>\n",
              "    <tr>\n",
              "      <th>attacks</th>\n",
              "      <td>date: 0</td>\n",
              "      <td>1.740553e-06</td>\n",
              "    </tr>\n",
              "    <tr>\n",
              "      <th>attacks</th>\n",
              "      <td>ordinal: 0</td>\n",
              "      <td>2.599457e-07</td>\n",
              "    </tr>\n",
              "    <tr>\n",
              "      <th>attacks</th>\n",
              "      <td>org: 0</td>\n",
              "      <td>5.333477e-08</td>\n",
              "    </tr>\n",
              "    <tr>\n",
              "      <th>attacks</th>\n",
              "      <td>language: 0</td>\n",
              "      <td>4.905769e-08</td>\n",
              "    </tr>\n",
              "    <tr>\n",
              "      <th>attacks</th>\n",
              "      <td>norp: 0</td>\n",
              "      <td>8.404009e-09</td>\n",
              "    </tr>\n",
              "    <tr>\n",
              "      <th>attacks</th>\n",
              "      <td>time: 0</td>\n",
              "      <td>6.587379e-09</td>\n",
              "    </tr>\n",
              "  </tbody>\n",
              "</table>\n",
              "</div>"
            ],
            "text/plain": [
              "            features         score\n",
              "type                              \n",
              "attacks  cardinal: 1  9.214555e-04\n",
              "attacks      date: 1  4.141858e-04\n",
              "attacks   ordinal: 1  5.757865e-05\n",
              "attacks  cardinal: 0  2.404144e-06\n",
              "attacks      date: 0  1.740553e-06\n",
              "attacks   ordinal: 0  2.599457e-07\n",
              "attacks       org: 0  5.333477e-08\n",
              "attacks  language: 0  4.905769e-08\n",
              "attacks      norp: 0  8.404009e-09\n",
              "attacks      time: 0  6.587379e-09"
            ]
          },
          "metadata": {},
          "execution_count": 115
        }
      ]
    },
    {
      "cell_type": "code",
      "metadata": {
        "id": "_cjNoVkWyzec",
        "colab": {
          "base_uri": "https://localhost:8080/",
          "height": 388
        },
        "outputId": "10820c1b-1d30-457c-e75b-9f686f433b3a"
      },
      "source": [
        "global_explainability_tabular.loc[\"None\"][:10]"
      ],
      "execution_count": null,
      "outputs": [
        {
          "output_type": "execute_result",
          "data": {
            "text/html": [
              "<div>\n",
              "<style scoped>\n",
              "    .dataframe tbody tr th:only-of-type {\n",
              "        vertical-align: middle;\n",
              "    }\n",
              "\n",
              "    .dataframe tbody tr th {\n",
              "        vertical-align: top;\n",
              "    }\n",
              "\n",
              "    .dataframe thead th {\n",
              "        text-align: right;\n",
              "    }\n",
              "</style>\n",
              "<table border=\"1\" class=\"dataframe\">\n",
              "  <thead>\n",
              "    <tr style=\"text-align: right;\">\n",
              "      <th></th>\n",
              "      <th>features</th>\n",
              "      <th>score</th>\n",
              "    </tr>\n",
              "    <tr>\n",
              "      <th>type</th>\n",
              "      <th></th>\n",
              "      <th></th>\n",
              "    </tr>\n",
              "  </thead>\n",
              "  <tbody>\n",
              "    <tr>\n",
              "      <th>None</th>\n",
              "      <td>cardinal: 1</td>\n",
              "      <td>0.000142</td>\n",
              "    </tr>\n",
              "    <tr>\n",
              "      <th>None</th>\n",
              "      <td>language: 1</td>\n",
              "      <td>0.000140</td>\n",
              "    </tr>\n",
              "    <tr>\n",
              "      <th>None</th>\n",
              "      <td>date: 1</td>\n",
              "      <td>0.000128</td>\n",
              "    </tr>\n",
              "    <tr>\n",
              "      <th>None</th>\n",
              "      <td>gpe: 1</td>\n",
              "      <td>0.000065</td>\n",
              "    </tr>\n",
              "    <tr>\n",
              "      <th>None</th>\n",
              "      <td>person: 1</td>\n",
              "      <td>0.000065</td>\n",
              "    </tr>\n",
              "    <tr>\n",
              "      <th>None</th>\n",
              "      <td>norp: 1</td>\n",
              "      <td>0.000061</td>\n",
              "    </tr>\n",
              "    <tr>\n",
              "      <th>None</th>\n",
              "      <td>org: 1</td>\n",
              "      <td>0.000048</td>\n",
              "    </tr>\n",
              "    <tr>\n",
              "      <th>None</th>\n",
              "      <td>time: 1</td>\n",
              "      <td>0.000036</td>\n",
              "    </tr>\n",
              "    <tr>\n",
              "      <th>None</th>\n",
              "      <td>loc: 1</td>\n",
              "      <td>0.000035</td>\n",
              "    </tr>\n",
              "    <tr>\n",
              "      <th>None</th>\n",
              "      <td>ordinal: 1</td>\n",
              "      <td>0.000032</td>\n",
              "    </tr>\n",
              "  </tbody>\n",
              "</table>\n",
              "</div>"
            ],
            "text/plain": [
              "         features     score\n",
              "type                       \n",
              "None  cardinal: 1  0.000142\n",
              "None  language: 1  0.000140\n",
              "None      date: 1  0.000128\n",
              "None       gpe: 1  0.000065\n",
              "None    person: 1  0.000065\n",
              "None      norp: 1  0.000061\n",
              "None       org: 1  0.000048\n",
              "None      time: 1  0.000036\n",
              "None       loc: 1  0.000035\n",
              "None   ordinal: 1  0.000032"
            ]
          },
          "metadata": {},
          "execution_count": 116
        }
      ]
    },
    {
      "cell_type": "markdown",
      "metadata": {
        "id": "rmG8oXyhJRnE"
      },
      "source": [
        "## **BOW**"
      ]
    },
    {
      "cell_type": "code",
      "metadata": {
        "id": "4d8JvDs0wVu8",
        "colab": {
          "base_uri": "https://localhost:8080/"
        },
        "outputId": "08f9d83a-6cc6-42b1-e5c0-6663bd4e53f8"
      },
      "source": [
        "ground_labels, global_explainability_tabular, labels, _, _, policy, microtext_ground_labels, microtext_labels=stc_procedure_tabular(BOW,true_labels,microtext_BOW,microtext_true_labels)"
      ],
      "execution_count": null,
      "outputs": [
        {
          "output_type": "stream",
          "name": "stdout",
          "text": [
            ""
          ]
        }
      ]
    },
    {
      "cell_type": "code",
      "metadata": {
        "id": "xl2TXsaizrhx",
        "colab": {
          "base_uri": "https://localhost:8080/"
        },
        "outputId": "1f454e93-d7ab-4dce-f5b1-6ca8cb03dd85"
      },
      "source": [
        "accuracy=accuracy_score(ground_labels, labels)\n",
        "f1_score_value=f1_score(y_true=ground_labels, y_pred=labels, average=\"macro\")\n",
        "precision=precision_score(ground_labels, labels, average=\"macro\")\n",
        "recall=recall_score(ground_labels, labels, average=\"macro\")\n",
        "\n",
        "microtext_accuracy=accuracy_score(microtext_ground_labels, microtext_labels)\n",
        "microtext_f1_score_value=f1_score(microtext_ground_labels, microtext_labels, average=\"macro\")\n",
        "microtext_precision=precision_score(microtext_ground_labels, microtext_labels, average=\"macro\")\n",
        "microtext_recall=recall_score(microtext_ground_labels, microtext_labels, average=\"macro\")"
      ],
      "execution_count": null,
      "outputs": [
        {
          "output_type": "stream",
          "name": "stderr",
          "text": [
            "/usr/local/lib/python3.7/dist-packages/sklearn/metrics/_classification.py:1272: UndefinedMetricWarning: Recall is ill-defined and being set to 0.0 in labels with no true samples. Use `zero_division` parameter to control this behavior.\n",
            "  _warn_prf(average, modifier, msg_start, len(result))\n"
          ]
        }
      ]
    },
    {
      "cell_type": "code",
      "metadata": {
        "id": "NTxeIi2xzrhy"
      },
      "source": [
        "accuracy_scores.append(accuracy)\n",
        "f1_scores.append(f1_score_value)\n",
        "precision_scores.append(precision)\n",
        "recall_scores.append(recall)\n",
        "\n",
        "microtext_accuracy_scores.append(microtext_accuracy)\n",
        "microtext_f1_scores.append(microtext_f1_score_value)\n",
        "microtext_precision_scores.append(microtext_precision)\n",
        "microtext_recall_scores.append(microtext_recall)"
      ],
      "execution_count": null,
      "outputs": []
    },
    {
      "cell_type": "code",
      "metadata": {
        "id": "UyRdTCAnzrhz",
        "colab": {
          "base_uri": "https://localhost:8080/"
        },
        "outputId": "b58f713f-39d9-48ca-d8a4-531627290fe9"
      },
      "source": [
        "print('accuracy: {}'.format(accuracy))\n",
        "print('f1 score: {}'.format(f1_score_value))\n",
        "print('precision: {}'.format(precision))\n",
        "print('recall: {}'.format(recall))\n",
        "print('\\n')\n",
        "print('accuracy microtext dataset: {}'.format(microtext_accuracy))\n",
        "print('f1 score microtext dataset: {}'.format(microtext_f1_score_value))\n",
        "print('precision microtext dataset: {}'.format(microtext_precision))\n",
        "print('recall microtext dataset: {}'.format(microtext_recall))"
      ],
      "execution_count": null,
      "outputs": [
        {
          "output_type": "stream",
          "name": "stdout",
          "text": [
            "accuracy: 0.5219831618334893\n",
            "f1 score: 0.37660582120636005\n",
            "precision: 0.3746892307942094\n",
            "recall: 0.3832327586206897\n",
            "\n",
            "\n",
            "accuracy microtext dataset: 0.16711590296495957\n",
            "f1 score microtext dataset: 0.11910368284162089\n",
            "precision microtext dataset: 0.23967611336032388\n",
            "recall microtext dataset: 0.08039947425245271\n"
          ]
        }
      ]
    },
    {
      "cell_type": "code",
      "metadata": {
        "id": "KkoTOTR_y1Sm",
        "colab": {
          "base_uri": "https://localhost:8080/",
          "height": 542
        },
        "outputId": "6766cca7-3520-4c6a-e953-80457c36fac0"
      },
      "source": [
        "global_explainability_tabular.loc[\"supports\"][:15]"
      ],
      "execution_count": null,
      "outputs": [
        {
          "output_type": "execute_result",
          "data": {
            "text/html": [
              "<div>\n",
              "<style scoped>\n",
              "    .dataframe tbody tr th:only-of-type {\n",
              "        vertical-align: middle;\n",
              "    }\n",
              "\n",
              "    .dataframe tbody tr th {\n",
              "        vertical-align: top;\n",
              "    }\n",
              "\n",
              "    .dataframe thead th {\n",
              "        text-align: right;\n",
              "    }\n",
              "</style>\n",
              "<table border=\"1\" class=\"dataframe\">\n",
              "  <thead>\n",
              "    <tr style=\"text-align: right;\">\n",
              "      <th></th>\n",
              "      <th>features</th>\n",
              "      <th>score</th>\n",
              "    </tr>\n",
              "    <tr>\n",
              "      <th>type</th>\n",
              "      <th></th>\n",
              "      <th></th>\n",
              "    </tr>\n",
              "  </thead>\n",
              "  <tbody>\n",
              "    <tr>\n",
              "      <th>supports</th>\n",
              "      <td>,: 0</td>\n",
              "      <td>0.000388</td>\n",
              "    </tr>\n",
              "    <tr>\n",
              "      <th>supports</th>\n",
              "      <td>;: 1</td>\n",
              "      <td>0.000155</td>\n",
              "    </tr>\n",
              "    <tr>\n",
              "      <th>supports</th>\n",
              "      <td>academic: 1</td>\n",
              "      <td>0.000153</td>\n",
              "    </tr>\n",
              "    <tr>\n",
              "      <th>supports</th>\n",
              "      <td>,: 3</td>\n",
              "      <td>0.000128</td>\n",
              "    </tr>\n",
              "    <tr>\n",
              "      <th>supports</th>\n",
              "      <td>about: 1</td>\n",
              "      <td>0.000121</td>\n",
              "    </tr>\n",
              "    <tr>\n",
              "      <th>supports</th>\n",
              "      <td>,: 1</td>\n",
              "      <td>0.000096</td>\n",
              "    </tr>\n",
              "    <tr>\n",
              "      <th>supports</th>\n",
              "      <td>achieve: 1</td>\n",
              "      <td>0.000093</td>\n",
              "    </tr>\n",
              "    <tr>\n",
              "      <th>supports</th>\n",
              "      <td>a: 3</td>\n",
              "      <td>0.000087</td>\n",
              "    </tr>\n",
              "    <tr>\n",
              "      <th>supports</th>\n",
              "      <td>ability: 1</td>\n",
              "      <td>0.000086</td>\n",
              "    </tr>\n",
              "    <tr>\n",
              "      <th>supports</th>\n",
              "      <td>,: 4</td>\n",
              "      <td>0.000076</td>\n",
              "    </tr>\n",
              "    <tr>\n",
              "      <th>supports</th>\n",
              "      <td>'s: 2</td>\n",
              "      <td>0.000072</td>\n",
              "    </tr>\n",
              "    <tr>\n",
              "      <th>supports</th>\n",
              "      <td>able: 1</td>\n",
              "      <td>0.000071</td>\n",
              "    </tr>\n",
              "    <tr>\n",
              "      <th>supports</th>\n",
              "      <td>a: 2</td>\n",
              "      <td>0.000062</td>\n",
              "    </tr>\n",
              "    <tr>\n",
              "      <th>supports</th>\n",
              "      <td>access: 1</td>\n",
              "      <td>0.000058</td>\n",
              "    </tr>\n",
              "    <tr>\n",
              "      <th>supports</th>\n",
              "      <td>absolutely: 1</td>\n",
              "      <td>0.000050</td>\n",
              "    </tr>\n",
              "  </tbody>\n",
              "</table>\n",
              "</div>"
            ],
            "text/plain": [
              "               features     score\n",
              "type                             \n",
              "supports           ,: 0  0.000388\n",
              "supports           ;: 1  0.000155\n",
              "supports    academic: 1  0.000153\n",
              "supports           ,: 3  0.000128\n",
              "supports       about: 1  0.000121\n",
              "supports           ,: 1  0.000096\n",
              "supports     achieve: 1  0.000093\n",
              "supports           a: 3  0.000087\n",
              "supports     ability: 1  0.000086\n",
              "supports           ,: 4  0.000076\n",
              "supports          's: 2  0.000072\n",
              "supports        able: 1  0.000071\n",
              "supports           a: 2  0.000062\n",
              "supports      access: 1  0.000058\n",
              "supports  absolutely: 1  0.000050"
            ]
          },
          "metadata": {},
          "execution_count": 121
        }
      ]
    },
    {
      "cell_type": "code",
      "metadata": {
        "id": "QyquRzi1y1Sm",
        "colab": {
          "base_uri": "https://localhost:8080/",
          "height": 388
        },
        "outputId": "eab6dc3f-923e-4631-dad5-48a5e3d20202"
      },
      "source": [
        "global_explainability_tabular.loc[\"attacks\"][:10]"
      ],
      "execution_count": null,
      "outputs": [
        {
          "output_type": "execute_result",
          "data": {
            "text/html": [
              "<div>\n",
              "<style scoped>\n",
              "    .dataframe tbody tr th:only-of-type {\n",
              "        vertical-align: middle;\n",
              "    }\n",
              "\n",
              "    .dataframe tbody tr th {\n",
              "        vertical-align: top;\n",
              "    }\n",
              "\n",
              "    .dataframe thead th {\n",
              "        text-align: right;\n",
              "    }\n",
              "</style>\n",
              "<table border=\"1\" class=\"dataframe\">\n",
              "  <thead>\n",
              "    <tr style=\"text-align: right;\">\n",
              "      <th></th>\n",
              "      <th>features</th>\n",
              "      <th>score</th>\n",
              "    </tr>\n",
              "    <tr>\n",
              "      <th>type</th>\n",
              "      <th></th>\n",
              "      <th></th>\n",
              "    </tr>\n",
              "  </thead>\n",
              "  <tbody>\n",
              "    <tr>\n",
              "      <th>attacks</th>\n",
              "      <td>;: 1</td>\n",
              "      <td>0.001042</td>\n",
              "    </tr>\n",
              "    <tr>\n",
              "      <th>attacks</th>\n",
              "      <td>acid: 1</td>\n",
              "      <td>0.000681</td>\n",
              "    </tr>\n",
              "    <tr>\n",
              "      <th>attacks</th>\n",
              "      <td>about: 1</td>\n",
              "      <td>0.000363</td>\n",
              "    </tr>\n",
              "    <tr>\n",
              "      <th>attacks</th>\n",
              "      <td>': 2</td>\n",
              "      <td>0.000299</td>\n",
              "    </tr>\n",
              "    <tr>\n",
              "      <th>attacks</th>\n",
              "      <td>'low: 1</td>\n",
              "      <td>0.000299</td>\n",
              "    </tr>\n",
              "    <tr>\n",
              "      <th>attacks</th>\n",
              "      <td>'social: 1</td>\n",
              "      <td>0.000299</td>\n",
              "    </tr>\n",
              "    <tr>\n",
              "      <th>attacks</th>\n",
              "      <td>activity: 2</td>\n",
              "      <td>0.000299</td>\n",
              "    </tr>\n",
              "    <tr>\n",
              "      <th>attacks</th>\n",
              "      <td>,: 4</td>\n",
              "      <td>0.000284</td>\n",
              "    </tr>\n",
              "    <tr>\n",
              "      <th>attacks</th>\n",
              "      <td>a: 3</td>\n",
              "      <td>0.000279</td>\n",
              "    </tr>\n",
              "    <tr>\n",
              "      <th>attacks</th>\n",
              "      <td>,: 3</td>\n",
              "      <td>0.000266</td>\n",
              "    </tr>\n",
              "  </tbody>\n",
              "</table>\n",
              "</div>"
            ],
            "text/plain": [
              "            features     score\n",
              "type                          \n",
              "attacks         ;: 1  0.001042\n",
              "attacks      acid: 1  0.000681\n",
              "attacks     about: 1  0.000363\n",
              "attacks         ': 2  0.000299\n",
              "attacks      'low: 1  0.000299\n",
              "attacks   'social: 1  0.000299\n",
              "attacks  activity: 2  0.000299\n",
              "attacks         ,: 4  0.000284\n",
              "attacks         a: 3  0.000279\n",
              "attacks         ,: 3  0.000266"
            ]
          },
          "metadata": {},
          "execution_count": 122
        }
      ]
    },
    {
      "cell_type": "code",
      "metadata": {
        "id": "KLZU-ElAy1Sm",
        "colab": {
          "base_uri": "https://localhost:8080/",
          "height": 388
        },
        "outputId": "17c7f6eb-d89a-4c4e-9913-2f8a720005a6"
      },
      "source": [
        "global_explainability_tabular.loc[\"None\"][:10]"
      ],
      "execution_count": null,
      "outputs": [
        {
          "output_type": "execute_result",
          "data": {
            "text/html": [
              "<div>\n",
              "<style scoped>\n",
              "    .dataframe tbody tr th:only-of-type {\n",
              "        vertical-align: middle;\n",
              "    }\n",
              "\n",
              "    .dataframe tbody tr th {\n",
              "        vertical-align: top;\n",
              "    }\n",
              "\n",
              "    .dataframe thead th {\n",
              "        text-align: right;\n",
              "    }\n",
              "</style>\n",
              "<table border=\"1\" class=\"dataframe\">\n",
              "  <thead>\n",
              "    <tr style=\"text-align: right;\">\n",
              "      <th></th>\n",
              "      <th>features</th>\n",
              "      <th>score</th>\n",
              "    </tr>\n",
              "    <tr>\n",
              "      <th>type</th>\n",
              "      <th></th>\n",
              "      <th></th>\n",
              "    </tr>\n",
              "  </thead>\n",
              "  <tbody>\n",
              "    <tr>\n",
              "      <th>None</th>\n",
              "      <td>,: 0</td>\n",
              "      <td>0.000426</td>\n",
              "    </tr>\n",
              "    <tr>\n",
              "      <th>None</th>\n",
              "      <td>,: 1</td>\n",
              "      <td>0.000084</td>\n",
              "    </tr>\n",
              "    <tr>\n",
              "      <th>None</th>\n",
              "      <td>,: 3</td>\n",
              "      <td>0.000078</td>\n",
              "    </tr>\n",
              "    <tr>\n",
              "      <th>None</th>\n",
              "      <td>;: 1</td>\n",
              "      <td>0.000071</td>\n",
              "    </tr>\n",
              "    <tr>\n",
              "      <th>None</th>\n",
              "      <td>a: 3</td>\n",
              "      <td>0.000043</td>\n",
              "    </tr>\n",
              "    <tr>\n",
              "      <th>None</th>\n",
              "      <td>a: 2</td>\n",
              "      <td>0.000037</td>\n",
              "    </tr>\n",
              "    <tr>\n",
              "      <th>None</th>\n",
              "      <td>:: 1</td>\n",
              "      <td>0.000037</td>\n",
              "    </tr>\n",
              "    <tr>\n",
              "      <th>None</th>\n",
              "      <td>achieved: 1</td>\n",
              "      <td>0.000037</td>\n",
              "    </tr>\n",
              "    <tr>\n",
              "      <th>None</th>\n",
              "      <td>acquaintance: 1</td>\n",
              "      <td>0.000037</td>\n",
              "    </tr>\n",
              "    <tr>\n",
              "      <th>None</th>\n",
              "      <td>able: 1</td>\n",
              "      <td>0.000030</td>\n",
              "    </tr>\n",
              "  </tbody>\n",
              "</table>\n",
              "</div>"
            ],
            "text/plain": [
              "             features     score\n",
              "type                           \n",
              "None             ,: 0  0.000426\n",
              "None             ,: 1  0.000084\n",
              "None             ,: 3  0.000078\n",
              "None             ;: 1  0.000071\n",
              "None             a: 3  0.000043\n",
              "None             a: 2  0.000037\n",
              "None             :: 1  0.000037\n",
              "None      achieved: 1  0.000037\n",
              "None  acquaintance: 1  0.000037\n",
              "None          able: 1  0.000030"
            ]
          },
          "metadata": {},
          "execution_count": 123
        }
      ]
    },
    {
      "cell_type": "markdown",
      "metadata": {
        "id": "qPZ9wr1ZJZuF"
      },
      "source": [
        "## **Bigrams**"
      ]
    },
    {
      "cell_type": "code",
      "metadata": {
        "id": "MrocDTG8wiEI",
        "colab": {
          "base_uri": "https://localhost:8080/"
        },
        "outputId": "9429dd8e-591a-45ff-f69b-f3c19bece996"
      },
      "source": [
        "ground_labels, global_explainability_tabular, labels, _, _, policy, microtext_ground_labels, microtext_labels=stc_procedure_tabular(Bigram,true_labels,microtext_Bigram,microtext_true_labels)"
      ],
      "execution_count": null,
      "outputs": [
        {
          "output_type": "stream",
          "name": "stdout",
          "text": [
            ""
          ]
        }
      ]
    },
    {
      "cell_type": "code",
      "metadata": {
        "id": "T3DLztVqztjB",
        "colab": {
          "base_uri": "https://localhost:8080/"
        },
        "outputId": "4d2fb9b0-1c82-4925-e8fd-3544d142c689"
      },
      "source": [
        "accuracy=accuracy_score(ground_labels, labels)\n",
        "f1_score_value=f1_score(y_true=ground_labels, y_pred=labels, average=\"macro\")\n",
        "precision=precision_score(ground_labels, labels, average=\"macro\")\n",
        "recall=recall_score(ground_labels, labels, average=\"macro\")\n",
        "\n",
        "microtext_accuracy=accuracy_score(microtext_ground_labels, microtext_labels)\n",
        "microtext_f1_score_value=f1_score(microtext_ground_labels, microtext_labels, average=\"macro\")\n",
        "microtext_precision=precision_score(microtext_ground_labels, microtext_labels, average=\"macro\")\n",
        "microtext_recall=recall_score(microtext_ground_labels, microtext_labels, average=\"macro\")"
      ],
      "execution_count": null,
      "outputs": [
        {
          "output_type": "stream",
          "name": "stderr",
          "text": [
            "/usr/local/lib/python3.7/dist-packages/sklearn/metrics/_classification.py:1272: UndefinedMetricWarning: Precision is ill-defined and being set to 0.0 in labels with no predicted samples. Use `zero_division` parameter to control this behavior.\n",
            "  _warn_prf(average, modifier, msg_start, len(result))\n"
          ]
        }
      ]
    },
    {
      "cell_type": "code",
      "metadata": {
        "id": "zXDvXHZEztjB"
      },
      "source": [
        "accuracy_scores.append(accuracy)\n",
        "f1_scores.append(f1_score_value)\n",
        "precision_scores.append(precision)\n",
        "recall_scores.append(recall)\n",
        "\n",
        "microtext_accuracy_scores.append(microtext_accuracy)\n",
        "microtext_f1_scores.append(microtext_f1_score_value)\n",
        "microtext_precision_scores.append(microtext_precision)\n",
        "microtext_recall_scores.append(microtext_recall)"
      ],
      "execution_count": null,
      "outputs": []
    },
    {
      "cell_type": "code",
      "metadata": {
        "id": "bFrA9UIsztjC",
        "colab": {
          "base_uri": "https://localhost:8080/"
        },
        "outputId": "2e7c2317-a2a8-4252-8e0f-d6a77e6cdf2f"
      },
      "source": [
        "print('accuracy: {}'.format(accuracy))\n",
        "print('f1 score: {}'.format(f1_score_value))\n",
        "print('precision: {}'.format(precision))\n",
        "print('recall: {}'.format(recall))\n",
        "print('\\n')\n",
        "print('accuracy microtext dataset: {}'.format(microtext_accuracy))\n",
        "print('f1 score microtext dataset: {}'.format(microtext_f1_score_value))\n",
        "print('precision microtext dataset: {}'.format(microtext_precision))\n",
        "print('recall microtext dataset: {}'.format(microtext_recall))"
      ],
      "execution_count": null,
      "outputs": [
        {
          "output_type": "stream",
          "name": "stdout",
          "text": [
            "accuracy: 0.5977549111318989\n",
            "f1 score: 0.24941451990632316\n",
            "precision: 0.199438202247191\n",
            "recall: 0.3328125\n",
            "\n",
            "\n",
            "accuracy microtext dataset: 0.7088948787061995\n",
            "f1 score microtext dataset: 0.41482649842271296\n",
            "precision microtext dataset: 0.35444743935309975\n",
            "recall microtext dataset: 0.5\n"
          ]
        }
      ]
    },
    {
      "cell_type": "code",
      "metadata": {
        "id": "bZkty2dWy24Y",
        "colab": {
          "base_uri": "https://localhost:8080/",
          "height": 542
        },
        "outputId": "26f1e7cd-26eb-4453-e427-3bd3bb5b0691"
      },
      "source": [
        "global_explainability_tabular.loc[\"supports\"][:15]"
      ],
      "execution_count": null,
      "outputs": [
        {
          "output_type": "execute_result",
          "data": {
            "text/html": [
              "<div>\n",
              "<style scoped>\n",
              "    .dataframe tbody tr th:only-of-type {\n",
              "        vertical-align: middle;\n",
              "    }\n",
              "\n",
              "    .dataframe tbody tr th {\n",
              "        vertical-align: top;\n",
              "    }\n",
              "\n",
              "    .dataframe thead th {\n",
              "        text-align: right;\n",
              "    }\n",
              "</style>\n",
              "<table border=\"1\" class=\"dataframe\">\n",
              "  <thead>\n",
              "    <tr style=\"text-align: right;\">\n",
              "      <th></th>\n",
              "      <th>features</th>\n",
              "      <th>score</th>\n",
              "    </tr>\n",
              "    <tr>\n",
              "      <th>type</th>\n",
              "      <th></th>\n",
              "      <th></th>\n",
              "    </tr>\n",
              "  </thead>\n",
              "  <tbody>\n",
              "    <tr>\n",
              "      <th>supports</th>\n",
              "      <td>besides ,: 1</td>\n",
              "      <td>0.000072</td>\n",
              "    </tr>\n",
              "    <tr>\n",
              "      <th>supports</th>\n",
              "      <td>able to: 1</td>\n",
              "      <td>0.000071</td>\n",
              "    </tr>\n",
              "    <tr>\n",
              "      <th>supports</th>\n",
              "      <td>, a: 1</td>\n",
              "      <td>0.000068</td>\n",
              "    </tr>\n",
              "    <tr>\n",
              "      <th>supports</th>\n",
              "      <td>'s really: 1</td>\n",
              "      <td>0.000050</td>\n",
              "    </tr>\n",
              "    <tr>\n",
              "      <th>supports</th>\n",
              "      <td>'s life: 1</td>\n",
              "      <td>0.000050</td>\n",
              "    </tr>\n",
              "    <tr>\n",
              "      <th>supports</th>\n",
              "      <td>'s cohesiveness: 1</td>\n",
              "      <td>0.000027</td>\n",
              "    </tr>\n",
              "    <tr>\n",
              "      <th>supports</th>\n",
              "      <td>'s criticism: 1</td>\n",
              "      <td>0.000027</td>\n",
              "    </tr>\n",
              "    <tr>\n",
              "      <th>supports</th>\n",
              "      <td>'s environment: 1</td>\n",
              "      <td>0.000027</td>\n",
              "    </tr>\n",
              "    <tr>\n",
              "      <th>supports</th>\n",
              "      <td>' behavior: 1</td>\n",
              "      <td>0.000027</td>\n",
              "    </tr>\n",
              "    <tr>\n",
              "      <th>supports</th>\n",
              "      <td>capital punishment: 1</td>\n",
              "      <td>0.000027</td>\n",
              "    </tr>\n",
              "    <tr>\n",
              "      <th>supports</th>\n",
              "      <td>' future: 1</td>\n",
              "      <td>0.000027</td>\n",
              "    </tr>\n",
              "    <tr>\n",
              "      <th>supports</th>\n",
              "      <td>'s population: 1</td>\n",
              "      <td>0.000027</td>\n",
              "    </tr>\n",
              "    <tr>\n",
              "      <th>supports</th>\n",
              "      <td>'s daily: 1</td>\n",
              "      <td>0.000027</td>\n",
              "    </tr>\n",
              "    <tr>\n",
              "      <th>supports</th>\n",
              "      <td>'s heavy: 1</td>\n",
              "      <td>0.000027</td>\n",
              "    </tr>\n",
              "    <tr>\n",
              "      <th>supports</th>\n",
              "      <td>'s productivity: 1</td>\n",
              "      <td>0.000027</td>\n",
              "    </tr>\n",
              "  </tbody>\n",
              "</table>\n",
              "</div>"
            ],
            "text/plain": [
              "                       features     score\n",
              "type                                     \n",
              "supports           besides ,: 1  0.000072\n",
              "supports             able to: 1  0.000071\n",
              "supports                 , a: 1  0.000068\n",
              "supports           's really: 1  0.000050\n",
              "supports             's life: 1  0.000050\n",
              "supports     's cohesiveness: 1  0.000027\n",
              "supports        's criticism: 1  0.000027\n",
              "supports      's environment: 1  0.000027\n",
              "supports          ' behavior: 1  0.000027\n",
              "supports  capital punishment: 1  0.000027\n",
              "supports            ' future: 1  0.000027\n",
              "supports       's population: 1  0.000027\n",
              "supports            's daily: 1  0.000027\n",
              "supports            's heavy: 1  0.000027\n",
              "supports     's productivity: 1  0.000027"
            ]
          },
          "metadata": {},
          "execution_count": 128
        }
      ]
    },
    {
      "cell_type": "code",
      "metadata": {
        "id": "aelMBJTHy24Z",
        "colab": {
          "base_uri": "https://localhost:8080/",
          "height": 388
        },
        "outputId": "408701f4-c081-43c3-9de3-084190b68b0b"
      },
      "source": [
        "global_explainability_tabular.loc[\"attacks\"][:10]"
      ],
      "execution_count": null,
      "outputs": [
        {
          "output_type": "execute_result",
          "data": {
            "text/html": [
              "<div>\n",
              "<style scoped>\n",
              "    .dataframe tbody tr th:only-of-type {\n",
              "        vertical-align: middle;\n",
              "    }\n",
              "\n",
              "    .dataframe tbody tr th {\n",
              "        vertical-align: top;\n",
              "    }\n",
              "\n",
              "    .dataframe thead th {\n",
              "        text-align: right;\n",
              "    }\n",
              "</style>\n",
              "<table border=\"1\" class=\"dataframe\">\n",
              "  <thead>\n",
              "    <tr style=\"text-align: right;\">\n",
              "      <th></th>\n",
              "      <th>features</th>\n",
              "      <th>score</th>\n",
              "    </tr>\n",
              "    <tr>\n",
              "      <th>type</th>\n",
              "      <th></th>\n",
              "      <th></th>\n",
              "    </tr>\n",
              "  </thead>\n",
              "  <tbody>\n",
              "    <tr>\n",
              "      <th>attacks</th>\n",
              "      <td>'social division: 1</td>\n",
              "      <td>2.986699e-04</td>\n",
              "    </tr>\n",
              "    <tr>\n",
              "      <th>attacks</th>\n",
              "      <td>'low job: 1</td>\n",
              "      <td>2.986699e-04</td>\n",
              "    </tr>\n",
              "    <tr>\n",
              "      <th>attacks</th>\n",
              "      <td>' ,: 2</td>\n",
              "      <td>2.986699e-04</td>\n",
              "    </tr>\n",
              "    <tr>\n",
              "      <th>attacks</th>\n",
              "      <td>, adding: 1</td>\n",
              "      <td>2.986699e-04</td>\n",
              "    </tr>\n",
              "    <tr>\n",
              "      <th>attacks</th>\n",
              "      <td>' creation: 1</td>\n",
              "      <td>2.986699e-04</td>\n",
              "    </tr>\n",
              "    <tr>\n",
              "      <th>attacks</th>\n",
              "      <td>'s true: 1</td>\n",
              "      <td>2.986699e-04</td>\n",
              "    </tr>\n",
              "    <tr>\n",
              "      <th>attacks</th>\n",
              "      <td>' time: 1</td>\n",
              "      <td>2.986699e-04</td>\n",
              "    </tr>\n",
              "    <tr>\n",
              "      <th>attacks</th>\n",
              "      <td>able to: 1</td>\n",
              "      <td>1.843939e-04</td>\n",
              "    </tr>\n",
              "    <tr>\n",
              "      <th>attacks</th>\n",
              "      <td>able to: 0</td>\n",
              "      <td>4.574982e-07</td>\n",
              "    </tr>\n",
              "    <tr>\n",
              "      <th>attacks</th>\n",
              "      <td>' ,: 0</td>\n",
              "      <td>7.924238e-08</td>\n",
              "    </tr>\n",
              "  </tbody>\n",
              "</table>\n",
              "</div>"
            ],
            "text/plain": [
              "                    features         score\n",
              "type                                      \n",
              "attacks  'social division: 1  2.986699e-04\n",
              "attacks          'low job: 1  2.986699e-04\n",
              "attacks               ' ,: 2  2.986699e-04\n",
              "attacks          , adding: 1  2.986699e-04\n",
              "attacks        ' creation: 1  2.986699e-04\n",
              "attacks           's true: 1  2.986699e-04\n",
              "attacks            ' time: 1  2.986699e-04\n",
              "attacks           able to: 1  1.843939e-04\n",
              "attacks           able to: 0  4.574982e-07\n",
              "attacks               ' ,: 0  7.924238e-08"
            ]
          },
          "metadata": {},
          "execution_count": 129
        }
      ]
    },
    {
      "cell_type": "code",
      "metadata": {
        "id": "yFXZB7ryy24a",
        "colab": {
          "base_uri": "https://localhost:8080/",
          "height": 388
        },
        "outputId": "4fb4eb52-978b-4569-deb9-75cea199b67b"
      },
      "source": [
        "global_explainability_tabular.loc[\"None\"][:10]"
      ],
      "execution_count": null,
      "outputs": [
        {
          "output_type": "execute_result",
          "data": {
            "text/html": [
              "<div>\n",
              "<style scoped>\n",
              "    .dataframe tbody tr th:only-of-type {\n",
              "        vertical-align: middle;\n",
              "    }\n",
              "\n",
              "    .dataframe tbody tr th {\n",
              "        vertical-align: top;\n",
              "    }\n",
              "\n",
              "    .dataframe thead th {\n",
              "        text-align: right;\n",
              "    }\n",
              "</style>\n",
              "<table border=\"1\" class=\"dataframe\">\n",
              "  <thead>\n",
              "    <tr style=\"text-align: right;\">\n",
              "      <th></th>\n",
              "      <th>features</th>\n",
              "      <th>score</th>\n",
              "    </tr>\n",
              "    <tr>\n",
              "      <th>type</th>\n",
              "      <th></th>\n",
              "      <th></th>\n",
              "    </tr>\n",
              "  </thead>\n",
              "  <tbody>\n",
              "    <tr>\n",
              "      <th>None</th>\n",
              "      <td>'s society: 1</td>\n",
              "      <td>3.681801e-05</td>\n",
              "    </tr>\n",
              "    <tr>\n",
              "      <th>None</th>\n",
              "      <td>able to: 1</td>\n",
              "      <td>3.030779e-05</td>\n",
              "    </tr>\n",
              "    <tr>\n",
              "      <th>None</th>\n",
              "      <td>, a: 1</td>\n",
              "      <td>2.668968e-05</td>\n",
              "    </tr>\n",
              "    <tr>\n",
              "      <th>None</th>\n",
              "      <td>'s need: 1</td>\n",
              "      <td>1.258643e-05</td>\n",
              "    </tr>\n",
              "    <tr>\n",
              "      <th>None</th>\n",
              "      <td>'s health: 1</td>\n",
              "      <td>1.258643e-05</td>\n",
              "    </tr>\n",
              "    <tr>\n",
              "      <th>None</th>\n",
              "      <td>able to: 0</td>\n",
              "      <td>5.866014e-07</td>\n",
              "    </tr>\n",
              "    <tr>\n",
              "      <th>None</th>\n",
              "      <td>' ,: 0</td>\n",
              "      <td>1.006033e-07</td>\n",
              "    </tr>\n",
              "    <tr>\n",
              "      <th>None</th>\n",
              "      <td>' creation: 0</td>\n",
              "      <td>1.006033e-07</td>\n",
              "    </tr>\n",
              "    <tr>\n",
              "      <th>None</th>\n",
              "      <td>, adding: 0</td>\n",
              "      <td>1.006033e-07</td>\n",
              "    </tr>\n",
              "    <tr>\n",
              "      <th>None</th>\n",
              "      <td>'s true: 0</td>\n",
              "      <td>1.006033e-07</td>\n",
              "    </tr>\n",
              "  </tbody>\n",
              "</table>\n",
              "</div>"
            ],
            "text/plain": [
              "           features         score\n",
              "type                             \n",
              "None  's society: 1  3.681801e-05\n",
              "None     able to: 1  3.030779e-05\n",
              "None         , a: 1  2.668968e-05\n",
              "None     's need: 1  1.258643e-05\n",
              "None   's health: 1  1.258643e-05\n",
              "None     able to: 0  5.866014e-07\n",
              "None         ' ,: 0  1.006033e-07\n",
              "None  ' creation: 0  1.006033e-07\n",
              "None    , adding: 0  1.006033e-07\n",
              "None     's true: 0  1.006033e-07"
            ]
          },
          "metadata": {},
          "execution_count": 130
        }
      ]
    },
    {
      "cell_type": "markdown",
      "metadata": {
        "id": "VbYkyy7Nf6ka"
      },
      "source": [
        "## **Imported n-grams**"
      ]
    },
    {
      "cell_type": "code",
      "metadata": {
        "id": "VLgPl7fnwoDh",
        "colab": {
          "base_uri": "https://localhost:8080/"
        },
        "outputId": "a51a10b5-d365-4a43-acee-7a0d466b695a"
      },
      "source": [
        "ground_labels, global_explainability_tabular, labels, _, _, policy, microtext_ground_labels, microtext_labels=stc_procedure_tabular(imported_ngram,true_labels,microtext_imported_ngram,microtext_true_labels)"
      ],
      "execution_count": null,
      "outputs": [
        {
          "output_type": "stream",
          "name": "stdout",
          "text": [
            ""
          ]
        }
      ]
    },
    {
      "cell_type": "code",
      "metadata": {
        "id": "C_fPE2T_zvs9",
        "colab": {
          "base_uri": "https://localhost:8080/"
        },
        "outputId": "2446cbc3-d390-41c7-caa2-7e17e87a407f"
      },
      "source": [
        "accuracy=accuracy_score(ground_labels, labels)\n",
        "f1_score_value=f1_score(y_true=ground_labels, y_pred=labels, average=\"macro\")\n",
        "precision=precision_score(ground_labels, labels, average=\"macro\")\n",
        "recall=recall_score(ground_labels, labels, average=\"macro\")\n",
        "\n",
        "microtext_accuracy=accuracy_score(microtext_ground_labels, microtext_labels)\n",
        "microtext_f1_score_value=f1_score(microtext_ground_labels, microtext_labels, average=\"macro\")\n",
        "microtext_precision=precision_score(microtext_ground_labels, microtext_labels, average=\"macro\")\n",
        "microtext_recall=recall_score(microtext_ground_labels, microtext_labels, average=\"macro\")"
      ],
      "execution_count": null,
      "outputs": [
        {
          "output_type": "stream",
          "name": "stderr",
          "text": [
            "/usr/local/lib/python3.7/dist-packages/sklearn/metrics/_classification.py:1272: UndefinedMetricWarning: Precision is ill-defined and being set to 0.0 in labels with no predicted samples. Use `zero_division` parameter to control this behavior.\n",
            "  _warn_prf(average, modifier, msg_start, len(result))\n"
          ]
        }
      ]
    },
    {
      "cell_type": "code",
      "metadata": {
        "id": "15WRs2yMzvs-"
      },
      "source": [
        "accuracy_scores.append(accuracy)\n",
        "f1_scores.append(f1_score_value)\n",
        "precision_scores.append(precision)\n",
        "recall_scores.append(recall)\n",
        "\n",
        "microtext_accuracy_scores.append(microtext_accuracy)\n",
        "microtext_f1_scores.append(microtext_f1_score_value)\n",
        "microtext_precision_scores.append(microtext_precision)\n",
        "microtext_recall_scores.append(microtext_recall)"
      ],
      "execution_count": null,
      "outputs": []
    },
    {
      "cell_type": "code",
      "metadata": {
        "id": "wJrYsjS2zvs-",
        "colab": {
          "base_uri": "https://localhost:8080/"
        },
        "outputId": "f6be26b3-0fd8-4a1c-d810-6a8859f0a253"
      },
      "source": [
        "print('accuracy: {}'.format(accuracy))\n",
        "print('f1 score: {}'.format(f1_score_value))\n",
        "print('precision: {}'.format(precision))\n",
        "print('recall: {}'.format(recall))\n",
        "print('\\n')\n",
        "print('accuracy microtext dataset: {}'.format(microtext_accuracy))\n",
        "print('f1 score microtext dataset: {}'.format(microtext_f1_score_value))\n",
        "print('precision microtext dataset: {}'.format(microtext_precision))\n",
        "print('recall microtext dataset: {}'.format(microtext_recall))"
      ],
      "execution_count": null,
      "outputs": [
        {
          "output_type": "stream",
          "name": "stdout",
          "text": [
            "accuracy: 0.5996258185219832\n",
            "f1 score: 0.27145655775396693\n",
            "precision: 0.366604186191815\n",
            "recall: 0.3448275862068966\n",
            "\n",
            "\n",
            "accuracy microtext dataset: 0.706199460916442\n",
            "f1 score microtext dataset: 0.4226381690724004\n",
            "precision microtext dataset: 0.521286231884058\n",
            "recall microtext dataset: 0.5008273482608083\n"
          ]
        }
      ]
    },
    {
      "cell_type": "code",
      "metadata": {
        "id": "fdENE1CEy4em",
        "colab": {
          "base_uri": "https://localhost:8080/",
          "height": 542
        },
        "outputId": "8523e257-ec0e-457f-8ce6-8de3d05e4b6f"
      },
      "source": [
        "global_explainability_tabular.loc[\"supports\"][:15]"
      ],
      "execution_count": null,
      "outputs": [
        {
          "output_type": "execute_result",
          "data": {
            "text/html": [
              "<div>\n",
              "<style scoped>\n",
              "    .dataframe tbody tr th:only-of-type {\n",
              "        vertical-align: middle;\n",
              "    }\n",
              "\n",
              "    .dataframe tbody tr th {\n",
              "        vertical-align: top;\n",
              "    }\n",
              "\n",
              "    .dataframe thead th {\n",
              "        text-align: right;\n",
              "    }\n",
              "</style>\n",
              "<table border=\"1\" class=\"dataframe\">\n",
              "  <thead>\n",
              "    <tr style=\"text-align: right;\">\n",
              "      <th></th>\n",
              "      <th>features</th>\n",
              "      <th>score</th>\n",
              "    </tr>\n",
              "    <tr>\n",
              "      <th>type</th>\n",
              "      <th></th>\n",
              "      <th></th>\n",
              "    </tr>\n",
              "  </thead>\n",
              "  <tbody>\n",
              "    <tr>\n",
              "      <th>supports</th>\n",
              "      <td>because: 1</td>\n",
              "      <td>0.000602</td>\n",
              "    </tr>\n",
              "    <tr>\n",
              "      <th>supports</th>\n",
              "      <td>therefore: 1</td>\n",
              "      <td>0.000536</td>\n",
              "    </tr>\n",
              "    <tr>\n",
              "      <th>supports</th>\n",
              "      <td>thus: 1</td>\n",
              "      <td>0.000212</td>\n",
              "    </tr>\n",
              "    <tr>\n",
              "      <th>supports</th>\n",
              "      <td>since: 1</td>\n",
              "      <td>0.000154</td>\n",
              "    </tr>\n",
              "    <tr>\n",
              "      <th>supports</th>\n",
              "      <td>for instance: 1</td>\n",
              "      <td>0.000139</td>\n",
              "    </tr>\n",
              "    <tr>\n",
              "      <th>supports</th>\n",
              "      <td>besides: 1</td>\n",
              "      <td>0.000113</td>\n",
              "    </tr>\n",
              "    <tr>\n",
              "      <th>supports</th>\n",
              "      <td>for example: 1</td>\n",
              "      <td>0.000106</td>\n",
              "    </tr>\n",
              "    <tr>\n",
              "      <th>supports</th>\n",
              "      <td>in addition: 1</td>\n",
              "      <td>0.000098</td>\n",
              "    </tr>\n",
              "    <tr>\n",
              "      <th>supports</th>\n",
              "      <td>for: 2</td>\n",
              "      <td>0.000096</td>\n",
              "    </tr>\n",
              "    <tr>\n",
              "      <th>supports</th>\n",
              "      <td>due to: 1</td>\n",
              "      <td>0.000088</td>\n",
              "    </tr>\n",
              "    <tr>\n",
              "      <th>supports</th>\n",
              "      <td>for: 4</td>\n",
              "      <td>0.000088</td>\n",
              "    </tr>\n",
              "    <tr>\n",
              "      <th>supports</th>\n",
              "      <td>furthermore: 1</td>\n",
              "      <td>0.000070</td>\n",
              "    </tr>\n",
              "    <tr>\n",
              "      <th>supports</th>\n",
              "      <td>accordingly: 1</td>\n",
              "      <td>0.000061</td>\n",
              "    </tr>\n",
              "    <tr>\n",
              "      <th>supports</th>\n",
              "      <td>so: 1</td>\n",
              "      <td>0.000059</td>\n",
              "    </tr>\n",
              "    <tr>\n",
              "      <th>supports</th>\n",
              "      <td>in conclusion: 1</td>\n",
              "      <td>0.000044</td>\n",
              "    </tr>\n",
              "  </tbody>\n",
              "</table>\n",
              "</div>"
            ],
            "text/plain": [
              "                  features     score\n",
              "type                                \n",
              "supports        because: 1  0.000602\n",
              "supports      therefore: 1  0.000536\n",
              "supports           thus: 1  0.000212\n",
              "supports          since: 1  0.000154\n",
              "supports   for instance: 1  0.000139\n",
              "supports        besides: 1  0.000113\n",
              "supports    for example: 1  0.000106\n",
              "supports    in addition: 1  0.000098\n",
              "supports            for: 2  0.000096\n",
              "supports         due to: 1  0.000088\n",
              "supports            for: 4  0.000088\n",
              "supports    furthermore: 1  0.000070\n",
              "supports    accordingly: 1  0.000061\n",
              "supports             so: 1  0.000059\n",
              "supports  in conclusion: 1  0.000044"
            ]
          },
          "metadata": {},
          "execution_count": 135
        }
      ]
    },
    {
      "cell_type": "code",
      "metadata": {
        "id": "JO0-zm-sy4en",
        "colab": {
          "base_uri": "https://localhost:8080/",
          "height": 388
        },
        "outputId": "1b5f1666-eb41-41da-c8b9-e9f5d7ddce88"
      },
      "source": [
        "global_explainability_tabular.loc[\"attacks\"][:10]"
      ],
      "execution_count": null,
      "outputs": [
        {
          "output_type": "execute_result",
          "data": {
            "text/html": [
              "<div>\n",
              "<style scoped>\n",
              "    .dataframe tbody tr th:only-of-type {\n",
              "        vertical-align: middle;\n",
              "    }\n",
              "\n",
              "    .dataframe tbody tr th {\n",
              "        vertical-align: top;\n",
              "    }\n",
              "\n",
              "    .dataframe thead th {\n",
              "        text-align: right;\n",
              "    }\n",
              "</style>\n",
              "<table border=\"1\" class=\"dataframe\">\n",
              "  <thead>\n",
              "    <tr style=\"text-align: right;\">\n",
              "      <th></th>\n",
              "      <th>features</th>\n",
              "      <th>score</th>\n",
              "    </tr>\n",
              "    <tr>\n",
              "      <th>type</th>\n",
              "      <th></th>\n",
              "      <th></th>\n",
              "    </tr>\n",
              "  </thead>\n",
              "  <tbody>\n",
              "    <tr>\n",
              "      <th>attacks</th>\n",
              "      <td>in conclusion: 1</td>\n",
              "      <td>0.000498</td>\n",
              "    </tr>\n",
              "    <tr>\n",
              "      <th>attacks</th>\n",
              "      <td>clearly: 1</td>\n",
              "      <td>0.000365</td>\n",
              "    </tr>\n",
              "    <tr>\n",
              "      <th>attacks</th>\n",
              "      <td>for: 2</td>\n",
              "      <td>0.000196</td>\n",
              "    </tr>\n",
              "    <tr>\n",
              "      <th>attacks</th>\n",
              "      <td>for example: 1</td>\n",
              "      <td>0.000108</td>\n",
              "    </tr>\n",
              "    <tr>\n",
              "      <th>attacks</th>\n",
              "      <td>because: 1</td>\n",
              "      <td>0.000060</td>\n",
              "    </tr>\n",
              "    <tr>\n",
              "      <th>attacks</th>\n",
              "      <td>since: 1</td>\n",
              "      <td>0.000047</td>\n",
              "    </tr>\n",
              "    <tr>\n",
              "      <th>attacks</th>\n",
              "      <td>so: 1</td>\n",
              "      <td>0.000032</td>\n",
              "    </tr>\n",
              "    <tr>\n",
              "      <th>attacks</th>\n",
              "      <td>for: 1</td>\n",
              "      <td>0.000026</td>\n",
              "    </tr>\n",
              "    <tr>\n",
              "      <th>attacks</th>\n",
              "      <td>because: 0</td>\n",
              "      <td>0.000004</td>\n",
              "    </tr>\n",
              "    <tr>\n",
              "      <th>attacks</th>\n",
              "      <td>for: 0</td>\n",
              "      <td>0.000002</td>\n",
              "    </tr>\n",
              "  </tbody>\n",
              "</table>\n",
              "</div>"
            ],
            "text/plain": [
              "                 features     score\n",
              "type                               \n",
              "attacks  in conclusion: 1  0.000498\n",
              "attacks        clearly: 1  0.000365\n",
              "attacks            for: 2  0.000196\n",
              "attacks    for example: 1  0.000108\n",
              "attacks        because: 1  0.000060\n",
              "attacks          since: 1  0.000047\n",
              "attacks             so: 1  0.000032\n",
              "attacks            for: 1  0.000026\n",
              "attacks        because: 0  0.000004\n",
              "attacks            for: 0  0.000002"
            ]
          },
          "metadata": {},
          "execution_count": 136
        }
      ]
    },
    {
      "cell_type": "code",
      "metadata": {
        "id": "kkuhKzSJy4en",
        "colab": {
          "base_uri": "https://localhost:8080/",
          "height": 388
        },
        "outputId": "b0ef397c-37c6-4b01-a3f7-0dc0a0381675"
      },
      "source": [
        "global_explainability_tabular.loc[\"None\"][:10]"
      ],
      "execution_count": null,
      "outputs": [
        {
          "output_type": "execute_result",
          "data": {
            "text/html": [
              "<div>\n",
              "<style scoped>\n",
              "    .dataframe tbody tr th:only-of-type {\n",
              "        vertical-align: middle;\n",
              "    }\n",
              "\n",
              "    .dataframe tbody tr th {\n",
              "        vertical-align: top;\n",
              "    }\n",
              "\n",
              "    .dataframe thead th {\n",
              "        text-align: right;\n",
              "    }\n",
              "</style>\n",
              "<table border=\"1\" class=\"dataframe\">\n",
              "  <thead>\n",
              "    <tr style=\"text-align: right;\">\n",
              "      <th></th>\n",
              "      <th>features</th>\n",
              "      <th>score</th>\n",
              "    </tr>\n",
              "    <tr>\n",
              "      <th>type</th>\n",
              "      <th></th>\n",
              "      <th></th>\n",
              "    </tr>\n",
              "  </thead>\n",
              "  <tbody>\n",
              "    <tr>\n",
              "      <th>None</th>\n",
              "      <td>because: 1</td>\n",
              "      <td>0.000184</td>\n",
              "    </tr>\n",
              "    <tr>\n",
              "      <th>None</th>\n",
              "      <td>in addition: 1</td>\n",
              "      <td>0.000034</td>\n",
              "    </tr>\n",
              "    <tr>\n",
              "      <th>None</th>\n",
              "      <td>since: 1</td>\n",
              "      <td>0.000029</td>\n",
              "    </tr>\n",
              "    <tr>\n",
              "      <th>None</th>\n",
              "      <td>therefore: 1</td>\n",
              "      <td>0.000026</td>\n",
              "    </tr>\n",
              "    <tr>\n",
              "      <th>None</th>\n",
              "      <td>for: 1</td>\n",
              "      <td>0.000023</td>\n",
              "    </tr>\n",
              "    <tr>\n",
              "      <th>None</th>\n",
              "      <td>so: 1</td>\n",
              "      <td>0.000021</td>\n",
              "    </tr>\n",
              "    <tr>\n",
              "      <th>None</th>\n",
              "      <td>furthermore: 1</td>\n",
              "      <td>0.000019</td>\n",
              "    </tr>\n",
              "    <tr>\n",
              "      <th>None</th>\n",
              "      <td>moreover: 1</td>\n",
              "      <td>0.000017</td>\n",
              "    </tr>\n",
              "    <tr>\n",
              "      <th>None</th>\n",
              "      <td>for: 2</td>\n",
              "      <td>0.000012</td>\n",
              "    </tr>\n",
              "    <tr>\n",
              "      <th>None</th>\n",
              "      <td>because: 0</td>\n",
              "      <td>0.000005</td>\n",
              "    </tr>\n",
              "  </tbody>\n",
              "</table>\n",
              "</div>"
            ],
            "text/plain": [
              "            features     score\n",
              "type                          \n",
              "None      because: 1  0.000184\n",
              "None  in addition: 1  0.000034\n",
              "None        since: 1  0.000029\n",
              "None    therefore: 1  0.000026\n",
              "None          for: 1  0.000023\n",
              "None           so: 1  0.000021\n",
              "None  furthermore: 1  0.000019\n",
              "None     moreover: 1  0.000017\n",
              "None          for: 2  0.000012\n",
              "None      because: 0  0.000005"
            ]
          },
          "metadata": {},
          "execution_count": 137
        }
      ]
    },
    {
      "cell_type": "markdown",
      "metadata": {
        "id": "LI_fDBH-J0Ak"
      },
      "source": [
        "## **Subjectivity**"
      ]
    },
    {
      "cell_type": "code",
      "metadata": {
        "id": "4gxOoukEw-8g",
        "colab": {
          "base_uri": "https://localhost:8080/"
        },
        "outputId": "2524a1d5-0953-4744-e40e-661a1aa5226c"
      },
      "source": [
        "ground_labels, global_explainability_tabular, labels, _, _, policy, microtext_ground_labels, microtext_labels=stc_procedure_tabular(others,true_labels,microtext_others,microtext_true_labels)"
      ],
      "execution_count": null,
      "outputs": [
        {
          "output_type": "stream",
          "name": "stdout",
          "text": [
            ""
          ]
        }
      ]
    },
    {
      "cell_type": "code",
      "metadata": {
        "id": "-7ZDUB_Dzykm",
        "colab": {
          "base_uri": "https://localhost:8080/"
        },
        "outputId": "d00edf98-335c-4b86-b66d-8e4b9899848d"
      },
      "source": [
        "accuracy=accuracy_score(ground_labels, labels)\n",
        "f1_score_value=f1_score(y_true=ground_labels, y_pred=labels, average=\"macro\")\n",
        "precision=precision_score(ground_labels, labels, average=\"macro\")\n",
        "recall=recall_score(ground_labels, labels, average=\"macro\")\n",
        "\n",
        "microtext_accuracy=accuracy_score(microtext_ground_labels, microtext_labels)\n",
        "microtext_f1_score_value=f1_score(microtext_ground_labels, microtext_labels, average=\"macro\")\n",
        "microtext_precision=precision_score(microtext_ground_labels, microtext_labels, average=\"macro\")\n",
        "microtext_recall=recall_score(microtext_ground_labels, microtext_labels, average=\"macro\")"
      ],
      "execution_count": null,
      "outputs": [
        {
          "output_type": "stream",
          "name": "stderr",
          "text": [
            "/usr/local/lib/python3.7/dist-packages/sklearn/metrics/_classification.py:1272: UndefinedMetricWarning: Precision is ill-defined and being set to 0.0 in labels with no predicted samples. Use `zero_division` parameter to control this behavior.\n",
            "  _warn_prf(average, modifier, msg_start, len(result))\n"
          ]
        }
      ]
    },
    {
      "cell_type": "code",
      "metadata": {
        "id": "1riIduZGzykm"
      },
      "source": [
        "accuracy_scores.append(accuracy)\n",
        "f1_scores.append(f1_score_value)\n",
        "precision_scores.append(precision)\n",
        "recall_scores.append(recall)\n",
        "\n",
        "microtext_accuracy_scores.append(microtext_accuracy)\n",
        "microtext_f1_scores.append(microtext_f1_score_value)\n",
        "microtext_precision_scores.append(microtext_precision)\n",
        "microtext_recall_scores.append(microtext_recall)"
      ],
      "execution_count": null,
      "outputs": []
    },
    {
      "cell_type": "code",
      "metadata": {
        "id": "vCa8cDDezykm",
        "colab": {
          "base_uri": "https://localhost:8080/"
        },
        "outputId": "f88178f3-9de7-45ab-927d-3fd7fe81e35b"
      },
      "source": [
        "print('accuracy: {}'.format(accuracy))\n",
        "print('f1 score: {}'.format(f1_score_value))\n",
        "print('precision: {}'.format(precision))\n",
        "print('recall: {}'.format(recall))\n",
        "print('\\n')\n",
        "print('accuracy microtext dataset: {}'.format(microtext_accuracy))\n",
        "print('f1 score microtext dataset: {}'.format(microtext_f1_score_value))\n",
        "print('precision microtext dataset: {}'.format(microtext_precision))\n",
        "print('recall microtext dataset: {}'.format(microtext_recall))"
      ],
      "execution_count": null,
      "outputs": [
        {
          "output_type": "stream",
          "name": "stdout",
          "text": [
            "accuracy: 0.598690364826941\n",
            "f1 score: 0.24965866978740003\n",
            "precision: 0.19956345494231367\n",
            "recall: 0.3333333333333333\n",
            "\n",
            "\n",
            "accuracy microtext dataset: 0.7088948787061995\n",
            "f1 score microtext dataset: 0.41482649842271296\n",
            "precision microtext dataset: 0.35444743935309975\n",
            "recall microtext dataset: 0.5\n"
          ]
        }
      ]
    },
    {
      "cell_type": "code",
      "metadata": {
        "id": "VBhvkEvgy6Wo",
        "colab": {
          "base_uri": "https://localhost:8080/",
          "height": 203
        },
        "outputId": "7710cfad-4221-4e3e-e44f-835af8476620"
      },
      "source": [
        "global_explainability_tabular.loc[\"supports\"][:15]"
      ],
      "execution_count": null,
      "outputs": [
        {
          "output_type": "execute_result",
          "data": {
            "text/html": [
              "<div>\n",
              "<style scoped>\n",
              "    .dataframe tbody tr th:only-of-type {\n",
              "        vertical-align: middle;\n",
              "    }\n",
              "\n",
              "    .dataframe tbody tr th {\n",
              "        vertical-align: top;\n",
              "    }\n",
              "\n",
              "    .dataframe thead th {\n",
              "        text-align: right;\n",
              "    }\n",
              "</style>\n",
              "<table border=\"1\" class=\"dataframe\">\n",
              "  <thead>\n",
              "    <tr style=\"text-align: right;\">\n",
              "      <th></th>\n",
              "      <th>features</th>\n",
              "      <th>score</th>\n",
              "    </tr>\n",
              "    <tr>\n",
              "      <th>type</th>\n",
              "      <th></th>\n",
              "      <th></th>\n",
              "    </tr>\n",
              "  </thead>\n",
              "  <tbody>\n",
              "    <tr>\n",
              "      <th>supports</th>\n",
              "      <td>supporting: subjectivity score: 1.0</td>\n",
              "      <td>0.000971</td>\n",
              "    </tr>\n",
              "    <tr>\n",
              "      <th>supports</th>\n",
              "      <td>supporting: subjectivity score: 0.0</td>\n",
              "      <td>0.000687</td>\n",
              "    </tr>\n",
              "    <tr>\n",
              "      <th>supports</th>\n",
              "      <td>supported: subjectivity score: 1.0</td>\n",
              "      <td>0.000272</td>\n",
              "    </tr>\n",
              "    <tr>\n",
              "      <th>supports</th>\n",
              "      <td>supported: subjectivity score: 0.0</td>\n",
              "      <td>0.000235</td>\n",
              "    </tr>\n",
              "  </tbody>\n",
              "</table>\n",
              "</div>"
            ],
            "text/plain": [
              "                                     features     score\n",
              "type                                                   \n",
              "supports  supporting: subjectivity score: 1.0  0.000971\n",
              "supports  supporting: subjectivity score: 0.0  0.000687\n",
              "supports   supported: subjectivity score: 1.0  0.000272\n",
              "supports   supported: subjectivity score: 0.0  0.000235"
            ]
          },
          "metadata": {},
          "execution_count": 142
        }
      ]
    },
    {
      "cell_type": "code",
      "metadata": {
        "id": "366Hk58uy6Wp",
        "colab": {
          "base_uri": "https://localhost:8080/",
          "height": 203
        },
        "outputId": "9e98feb2-5446-40e4-ebd0-6c1392eb37e1"
      },
      "source": [
        "global_explainability_tabular.loc[\"attacks\"][:10]"
      ],
      "execution_count": null,
      "outputs": [
        {
          "output_type": "execute_result",
          "data": {
            "text/html": [
              "<div>\n",
              "<style scoped>\n",
              "    .dataframe tbody tr th:only-of-type {\n",
              "        vertical-align: middle;\n",
              "    }\n",
              "\n",
              "    .dataframe tbody tr th {\n",
              "        vertical-align: top;\n",
              "    }\n",
              "\n",
              "    .dataframe thead th {\n",
              "        text-align: right;\n",
              "    }\n",
              "</style>\n",
              "<table border=\"1\" class=\"dataframe\">\n",
              "  <thead>\n",
              "    <tr style=\"text-align: right;\">\n",
              "      <th></th>\n",
              "      <th>features</th>\n",
              "      <th>score</th>\n",
              "    </tr>\n",
              "    <tr>\n",
              "      <th>type</th>\n",
              "      <th></th>\n",
              "      <th></th>\n",
              "    </tr>\n",
              "  </thead>\n",
              "  <tbody>\n",
              "    <tr>\n",
              "      <th>attacks</th>\n",
              "      <td>supporting: subjectivity score: 0.0</td>\n",
              "      <td>0.000617</td>\n",
              "    </tr>\n",
              "    <tr>\n",
              "      <th>attacks</th>\n",
              "      <td>supporting: subjectivity score: 1.0</td>\n",
              "      <td>0.000607</td>\n",
              "    </tr>\n",
              "    <tr>\n",
              "      <th>attacks</th>\n",
              "      <td>supported: subjectivity score: 1.0</td>\n",
              "      <td>0.000197</td>\n",
              "    </tr>\n",
              "    <tr>\n",
              "      <th>attacks</th>\n",
              "      <td>supported: subjectivity score: 0.0</td>\n",
              "      <td>0.000187</td>\n",
              "    </tr>\n",
              "  </tbody>\n",
              "</table>\n",
              "</div>"
            ],
            "text/plain": [
              "                                    features     score\n",
              "type                                                  \n",
              "attacks  supporting: subjectivity score: 0.0  0.000617\n",
              "attacks  supporting: subjectivity score: 1.0  0.000607\n",
              "attacks   supported: subjectivity score: 1.0  0.000197\n",
              "attacks   supported: subjectivity score: 0.0  0.000187"
            ]
          },
          "metadata": {},
          "execution_count": 143
        }
      ]
    },
    {
      "cell_type": "code",
      "metadata": {
        "id": "c6Y-m6P6y6Wp",
        "colab": {
          "base_uri": "https://localhost:8080/",
          "height": 203
        },
        "outputId": "f83c2ca5-c3c4-4898-dceb-102431d5d157"
      },
      "source": [
        "global_explainability_tabular.loc[\"None\"][:10]"
      ],
      "execution_count": null,
      "outputs": [
        {
          "output_type": "execute_result",
          "data": {
            "text/html": [
              "<div>\n",
              "<style scoped>\n",
              "    .dataframe tbody tr th:only-of-type {\n",
              "        vertical-align: middle;\n",
              "    }\n",
              "\n",
              "    .dataframe tbody tr th {\n",
              "        vertical-align: top;\n",
              "    }\n",
              "\n",
              "    .dataframe thead th {\n",
              "        text-align: right;\n",
              "    }\n",
              "</style>\n",
              "<table border=\"1\" class=\"dataframe\">\n",
              "  <thead>\n",
              "    <tr style=\"text-align: right;\">\n",
              "      <th></th>\n",
              "      <th>features</th>\n",
              "      <th>score</th>\n",
              "    </tr>\n",
              "    <tr>\n",
              "      <th>type</th>\n",
              "      <th></th>\n",
              "      <th></th>\n",
              "    </tr>\n",
              "  </thead>\n",
              "  <tbody>\n",
              "    <tr>\n",
              "      <th>None</th>\n",
              "      <td>supporting: subjectivity score: 1.0</td>\n",
              "      <td>0.000923</td>\n",
              "    </tr>\n",
              "    <tr>\n",
              "      <th>None</th>\n",
              "      <td>supporting: subjectivity score: 0.0</td>\n",
              "      <td>0.000672</td>\n",
              "    </tr>\n",
              "    <tr>\n",
              "      <th>None</th>\n",
              "      <td>supported: subjectivity score: 1.0</td>\n",
              "      <td>0.000280</td>\n",
              "    </tr>\n",
              "    <tr>\n",
              "      <th>None</th>\n",
              "      <td>supported: subjectivity score: 0.0</td>\n",
              "      <td>0.000213</td>\n",
              "    </tr>\n",
              "  </tbody>\n",
              "</table>\n",
              "</div>"
            ],
            "text/plain": [
              "                                 features     score\n",
              "type                                               \n",
              "None  supporting: subjectivity score: 1.0  0.000923\n",
              "None  supporting: subjectivity score: 0.0  0.000672\n",
              "None   supported: subjectivity score: 1.0  0.000280\n",
              "None   supported: subjectivity score: 0.0  0.000213"
            ]
          },
          "metadata": {},
          "execution_count": 144
        }
      ]
    },
    {
      "cell_type": "markdown",
      "metadata": {
        "id": "SSKn7yq-A1IT"
      },
      "source": [
        "# **Statistic dataset comparison**"
      ]
    },
    {
      "cell_type": "code",
      "metadata": {
        "id": "UKmavj_iBP_v"
      },
      "source": [
        "# Convert the tabular data of more than one dataset into a single dataset o multivalued\n",
        "# attributes. Where each attribure contains the informations corresponding to a \n",
        "# particular dataset imported.\n",
        "\n",
        "def dataset_to_multivalued_attribute(columns,shape,row):\n",
        "\n",
        "  return [columns[j]+\"=\"+str(row[j]) for j in range(shape-1)]\n",
        "\n",
        "\n",
        "def dataset_list_to_JSON(dataset_list:list,dataset_names_list:list,label:pd.DataFrame):\n",
        "\n",
        "  items = []\n",
        "  for i in range(label.shape[0]):\n",
        "      item = {}\n",
        "      for j in range(len(dataset_names_list)):\n",
        "        item[dataset_names_list[j]] = dataset_to_multivalued_attribute(dataset_list[j].columns,dataset_list[j].shape[1],dataset_list[j].iloc[i])\n",
        "      item['type'] = [label['type'].iloc[i]]\n",
        "      items.append(item)\n",
        "\n",
        "  return items"
      ],
      "execution_count": null,
      "outputs": []
    },
    {
      "cell_type": "code",
      "metadata": {
        "id": "SELC0DwjDui1"
      },
      "source": [
        "# The method takes in input a dataframe containing the data from which to predict\n",
        "# the output and the output labels desired and returns, the label for the \n",
        "# test set, the probabilities of the predicted classes, and the global and local \n",
        "# explanations of which features are most usefoul in predicting the labels.\n",
        "\n",
        "def stc_procedure_multiple_dataset(dataset_list:list,dataset_names_list:list,label:pd.DataFrame):\n",
        "\n",
        "  items=dataset_list_to_JSON(dataset_list,dataset_names_list,label)\n",
        "\n",
        "  train_items,test_items=train_test_split(items,test_size=0.2, random_state=32)\n",
        "\n",
        "  STC = SparseTensorClassifier(targets=['type'], features=dataset_names_list, collapse=False)\n",
        "\n",
        "  STC.fit(train_items)\n",
        "\n",
        "  STC.set({\"entropy\": 1, \"balance\": 1, \"power\": 1})\n",
        "\n",
        "  policy, score = STC.learn(max_iter=1, random_state=42)\n",
        "\n",
        "  global_explainability = STC.explain()\n",
        "\n",
        "  labels, probability, explainability = STC.predict(test_items)\n",
        "\n",
        "  ground_labels=[item['type'][0] for item in test_items]\n",
        "\n",
        "  return ground_labels, global_explainability, labels, probability, explainability, policy"
      ],
      "execution_count": null,
      "outputs": []
    },
    {
      "cell_type": "code",
      "metadata": {
        "id": "ITVpLlHHE83b"
      },
      "source": [
        "accuracy_scores_multiple=[]\n",
        "f1_scores_multiple=[]\n",
        "precision_scores_multiple=[]\n",
        "recall_scores_multiple=[]"
      ],
      "execution_count": null,
      "outputs": []
    },
    {
      "cell_type": "markdown",
      "metadata": {
        "id": "hTNy9iT8pUdJ"
      },
      "source": [
        "## **BOW POS data**"
      ]
    },
    {
      "cell_type": "code",
      "metadata": {
        "id": "K7O394UypUdJ"
      },
      "source": [
        "dataframe_list=[statistic,POS,simple_POS]\n",
        "dataframe_names_list=['statistic','POS','simple_POS']"
      ],
      "execution_count": null,
      "outputs": []
    },
    {
      "cell_type": "code",
      "metadata": {
        "id": "1rthQXE9pUdK",
        "colab": {
          "base_uri": "https://localhost:8080/"
        },
        "outputId": "760ed4c7-c0e3-43c5-e961-28950ccef6b5"
      },
      "source": [
        "ground_labels, global_explainability_tabular, labels, _, _, policy=stc_procedure_multiple_dataset(dataframe_list,dataframe_names_list,true_labels)"
      ],
      "execution_count": null,
      "outputs": [
        {
          "output_type": "stream",
          "name": "stdout",
          "text": [
            ""
          ]
        }
      ]
    },
    {
      "cell_type": "code",
      "metadata": {
        "id": "_Ki2v8vrpUdL"
      },
      "source": [
        "accuracy=accuracy_score(ground_labels, labels)\n",
        "f1_score_value=f1_score(y_true=ground_labels, y_pred=labels, average=\"macro\")\n",
        "precision=precision_score(ground_labels, labels, average=\"macro\")\n",
        "recall=recall_score(ground_labels, labels, average=\"macro\")"
      ],
      "execution_count": null,
      "outputs": []
    },
    {
      "cell_type": "code",
      "metadata": {
        "id": "F_tY8c8mpUdL"
      },
      "source": [
        "accuracy_scores_multiple.append(accuracy)\n",
        "f1_scores_multiple.append(f1_score_value)\n",
        "precision_scores_multiple.append(precision)\n",
        "recall_scores_multiple.append(recall)"
      ],
      "execution_count": null,
      "outputs": []
    },
    {
      "cell_type": "code",
      "metadata": {
        "id": "_-EW95F3pUdM",
        "colab": {
          "base_uri": "https://localhost:8080/"
        },
        "outputId": "957b44c5-a5d7-49d0-a88b-1d1eda4ec9ad"
      },
      "source": [
        "print('accuracy: {}'.format(accuracy))\n",
        "print('f1 score: {}'.format(f1_score_value))\n",
        "print('precision: {}'.format(precision))\n",
        "print('recall: {}'.format(recall))"
      ],
      "execution_count": null,
      "outputs": [
        {
          "output_type": "stream",
          "name": "stdout",
          "text": [
            "accuracy: 0.794200187090739\n",
            "f1 score: 0.6045238496146427\n",
            "precision: 0.6351974317255376\n",
            "recall: 0.6334482758620689\n"
          ]
        }
      ]
    },
    {
      "cell_type": "code",
      "metadata": {
        "id": "yZt0Y0FPpUdM",
        "colab": {
          "base_uri": "https://localhost:8080/"
        },
        "outputId": "2956f60c-bd8e-452a-a4d5-d5f6b0e65d78"
      },
      "source": [
        "policy"
      ],
      "execution_count": null,
      "outputs": [
        {
          "output_type": "execute_result",
          "data": {
            "text/plain": [
              "[['POS', 'simple_POS', 'statistic'],\n",
              " ['simple_POS', 'statistic'],\n",
              " ['statistic'],\n",
              " []]"
            ]
          },
          "metadata": {},
          "execution_count": 153
        }
      ]
    },
    {
      "cell_type": "code",
      "metadata": {
        "id": "UbKGfgf6pUdN"
      },
      "source": [
        "policy_set=[]\n",
        "\n",
        "for pol in policy:\n",
        "  policy_set+=pol\n",
        "\n",
        "policy_set=list(set(policy_set))\n",
        "\n",
        "for dataframe in dataframe_names_list:\n",
        "  if dataframe not in policy_set:\n",
        "    print(dataframe)"
      ],
      "execution_count": null,
      "outputs": []
    },
    {
      "cell_type": "markdown",
      "metadata": {
        "id": "BU9_zo_3PhR8"
      },
      "source": [
        "## **Bigram POS data**"
      ]
    },
    {
      "cell_type": "code",
      "metadata": {
        "id": "kBcaK7erPhR-"
      },
      "source": [
        "dataframe_list=[statistic,bigram_POS]\n",
        "dataframe_names_list=['statistic','bigram_POS']"
      ],
      "execution_count": null,
      "outputs": []
    },
    {
      "cell_type": "code",
      "metadata": {
        "id": "Nr-zdaTxPhR-",
        "colab": {
          "base_uri": "https://localhost:8080/"
        },
        "outputId": "e6b28d58-0876-459e-f407-55bb0a691470"
      },
      "source": [
        "ground_labels, global_explainability_tabular, labels, _, _, policy=stc_procedure_multiple_dataset(dataframe_list,dataframe_names_list,true_labels)"
      ],
      "execution_count": null,
      "outputs": [
        {
          "output_type": "stream",
          "name": "stdout",
          "text": [
            ""
          ]
        }
      ]
    },
    {
      "cell_type": "code",
      "metadata": {
        "id": "3IKtOGnFPhSA"
      },
      "source": [
        "accuracy=accuracy_score(ground_labels, labels)\n",
        "f1_score_value=f1_score(y_true=ground_labels, y_pred=labels, average=\"macro\")\n",
        "precision=precision_score(ground_labels, labels, average=\"macro\")\n",
        "recall=recall_score(ground_labels, labels, average=\"macro\")"
      ],
      "execution_count": null,
      "outputs": []
    },
    {
      "cell_type": "code",
      "metadata": {
        "id": "jpOduCNGPhSA"
      },
      "source": [
        "accuracy_scores_multiple.append(accuracy)\n",
        "f1_scores_multiple.append(f1_score_value)\n",
        "precision_scores_multiple.append(precision)\n",
        "recall_scores_multiple.append(recall)"
      ],
      "execution_count": null,
      "outputs": []
    },
    {
      "cell_type": "code",
      "metadata": {
        "id": "hJNHdQEyPhSB",
        "colab": {
          "base_uri": "https://localhost:8080/"
        },
        "outputId": "cc13f2ac-7546-4bc8-9084-e91062b6b231"
      },
      "source": [
        "print('accuracy: {}'.format(accuracy))\n",
        "print('f1 score: {}'.format(f1_score_value))\n",
        "print('precision: {}'.format(precision))\n",
        "print('recall: {}'.format(recall))"
      ],
      "execution_count": null,
      "outputs": [
        {
          "output_type": "stream",
          "name": "stdout",
          "text": [
            "accuracy: 0.823199251637044\n",
            "f1 score: 0.598652738648454\n",
            "precision: 0.626991270555627\n",
            "recall: 0.5947270114942529\n"
          ]
        }
      ]
    },
    {
      "cell_type": "code",
      "metadata": {
        "id": "UiSnEwTjPhSC",
        "colab": {
          "base_uri": "https://localhost:8080/"
        },
        "outputId": "7aa95053-1159-4b58-93b5-5a5885b24abc"
      },
      "source": [
        "policy"
      ],
      "execution_count": null,
      "outputs": [
        {
          "output_type": "execute_result",
          "data": {
            "text/plain": [
              "[['bigram_POS', 'statistic'], ['statistic'], []]"
            ]
          },
          "metadata": {},
          "execution_count": 160
        }
      ]
    },
    {
      "cell_type": "code",
      "metadata": {
        "id": "vaVzCy0xPhSC"
      },
      "source": [
        "policy_set=[]\n",
        "\n",
        "for pol in policy:\n",
        "  policy_set+=pol\n",
        "\n",
        "policy_set=list(set(policy_set))\n",
        "\n",
        "for dataframe in dataframe_names_list:\n",
        "  if dataframe not in policy_set:\n",
        "    print(dataframe)"
      ],
      "execution_count": null,
      "outputs": []
    },
    {
      "cell_type": "markdown",
      "metadata": {
        "id": "wcfL5r33P1-R"
      },
      "source": [
        "## **simple POS data**"
      ]
    },
    {
      "cell_type": "code",
      "metadata": {
        "id": "wW1_g1ysP1-S"
      },
      "source": [
        "dataframe_list=[statistic,simple_POS,bigram_simple_POS]\n",
        "dataframe_names_list=['statistic','simple_POS','bigram_simple_POS']"
      ],
      "execution_count": null,
      "outputs": []
    },
    {
      "cell_type": "code",
      "metadata": {
        "id": "GZ6YBS3jP1-T",
        "colab": {
          "base_uri": "https://localhost:8080/"
        },
        "outputId": "c60a4393-e6ea-4bbe-c194-d2c371ba5d4f"
      },
      "source": [
        "ground_labels, global_explainability_tabular, labels, _, _, policy=stc_procedure_multiple_dataset(dataframe_list,dataframe_names_list,true_labels)"
      ],
      "execution_count": null,
      "outputs": [
        {
          "output_type": "stream",
          "name": "stdout",
          "text": [
            ""
          ]
        }
      ]
    },
    {
      "cell_type": "code",
      "metadata": {
        "id": "C7SMwNdtP1-U"
      },
      "source": [
        "accuracy=accuracy_score(ground_labels, labels)\n",
        "f1_score_value=f1_score(y_true=ground_labels, y_pred=labels, average=\"macro\")\n",
        "precision=precision_score(ground_labels, labels, average=\"macro\")\n",
        "recall=recall_score(ground_labels, labels, average=\"macro\")"
      ],
      "execution_count": null,
      "outputs": []
    },
    {
      "cell_type": "code",
      "metadata": {
        "id": "vNlIg2omP1-V"
      },
      "source": [
        "accuracy_scores_multiple.append(accuracy)\n",
        "f1_scores_multiple.append(f1_score_value)\n",
        "precision_scores_multiple.append(precision)\n",
        "recall_scores_multiple.append(recall)"
      ],
      "execution_count": null,
      "outputs": []
    },
    {
      "cell_type": "code",
      "metadata": {
        "id": "0EoYrvaHP1-W",
        "colab": {
          "base_uri": "https://localhost:8080/"
        },
        "outputId": "0ece9f98-8325-48cd-d193-fb39fc71d047"
      },
      "source": [
        "print('accuracy: {}'.format(accuracy))\n",
        "print('f1 score: {}'.format(f1_score_value))\n",
        "print('precision: {}'.format(precision))\n",
        "print('recall: {}'.format(recall))"
      ],
      "execution_count": null,
      "outputs": [
        {
          "output_type": "stream",
          "name": "stdout",
          "text": [
            "accuracy: 0.7998129092609916\n",
            "f1 score: 0.6039358260853352\n",
            "precision: 0.6342151675485009\n",
            "recall: 0.625599856321839\n"
          ]
        }
      ]
    },
    {
      "cell_type": "code",
      "metadata": {
        "id": "sa_9BV7qP1-W",
        "colab": {
          "base_uri": "https://localhost:8080/"
        },
        "outputId": "f5f94aa0-66fd-469f-f953-760c4e51f13e"
      },
      "source": [
        "policy"
      ],
      "execution_count": null,
      "outputs": [
        {
          "output_type": "execute_result",
          "data": {
            "text/plain": [
              "[['bigram_simple_POS', 'simple_POS', 'statistic'],\n",
              " ['simple_POS', 'statistic'],\n",
              " ['statistic'],\n",
              " []]"
            ]
          },
          "metadata": {},
          "execution_count": 167
        }
      ]
    },
    {
      "cell_type": "code",
      "metadata": {
        "id": "E_R-43nFP1-X"
      },
      "source": [
        "policy_set=[]\n",
        "\n",
        "for pol in policy:\n",
        "  policy_set+=pol\n",
        "\n",
        "policy_set=list(set(policy_set))\n",
        "\n",
        "for dataframe in dataframe_names_list:\n",
        "  if dataframe not in policy_set:\n",
        "    print(dataframe)"
      ],
      "execution_count": null,
      "outputs": []
    },
    {
      "cell_type": "markdown",
      "metadata": {
        "id": "qTgEFwu_Gn10"
      },
      "source": [
        "## **BOW data**"
      ]
    },
    {
      "cell_type": "code",
      "metadata": {
        "id": "EVo5dttGGn11"
      },
      "source": [
        "dataframe_list=[statistic,BOW]\n",
        "dataframe_names_list=['statistic','BOW']"
      ],
      "execution_count": null,
      "outputs": []
    },
    {
      "cell_type": "code",
      "metadata": {
        "id": "tC0eamzJGn12",
        "colab": {
          "base_uri": "https://localhost:8080/"
        },
        "outputId": "78d51492-d6d9-4491-f2e6-141ce88c63d0"
      },
      "source": [
        "ground_labels, global_explainability_tabular, labels, _, _, policy=stc_procedure_multiple_dataset(dataframe_list,dataframe_names_list,true_labels)"
      ],
      "execution_count": null,
      "outputs": [
        {
          "output_type": "stream",
          "name": "stdout",
          "text": [
            ""
          ]
        }
      ]
    },
    {
      "cell_type": "code",
      "metadata": {
        "id": "8VjhuCAtGn12"
      },
      "source": [
        "accuracy=accuracy_score(ground_labels, labels)\n",
        "f1_score_value=f1_score(y_true=ground_labels, y_pred=labels, average=\"macro\")\n",
        "precision=precision_score(ground_labels, labels, average=\"macro\")\n",
        "recall=recall_score(ground_labels, labels, average=\"macro\")"
      ],
      "execution_count": null,
      "outputs": []
    },
    {
      "cell_type": "code",
      "metadata": {
        "id": "xDZ0ANnGGn13"
      },
      "source": [
        "accuracy_scores_multiple.append(accuracy)\n",
        "f1_scores_multiple.append(f1_score_value)\n",
        "precision_scores_multiple.append(precision)\n",
        "recall_scores_multiple.append(recall)"
      ],
      "execution_count": null,
      "outputs": []
    },
    {
      "cell_type": "code",
      "metadata": {
        "id": "wjoZpSBrGn14",
        "colab": {
          "base_uri": "https://localhost:8080/"
        },
        "outputId": "61335db9-3f9c-48ef-e2ea-17b16e0b6cdb"
      },
      "source": [
        "print('accuracy: {}'.format(accuracy))\n",
        "print('f1 score: {}'.format(f1_score_value))\n",
        "print('precision: {}'.format(precision))\n",
        "print('recall: {}'.format(recall))"
      ],
      "execution_count": null,
      "outputs": [
        {
          "output_type": "stream",
          "name": "stdout",
          "text": [
            "accuracy: 0.7904583723105706\n",
            "f1 score: 0.590122297060068\n",
            "precision: 0.6245166598107774\n",
            "recall: 0.598444683908046\n"
          ]
        }
      ]
    },
    {
      "cell_type": "code",
      "metadata": {
        "id": "L3XhK9VAGn14",
        "colab": {
          "base_uri": "https://localhost:8080/"
        },
        "outputId": "0dd64edc-697c-43c3-dab3-f7a1cc94fe58"
      },
      "source": [
        "policy"
      ],
      "execution_count": null,
      "outputs": [
        {
          "output_type": "execute_result",
          "data": {
            "text/plain": [
              "[['BOW', 'statistic'], ['statistic'], []]"
            ]
          },
          "metadata": {},
          "execution_count": 174
        }
      ]
    },
    {
      "cell_type": "code",
      "metadata": {
        "id": "8YfqeEENGn15"
      },
      "source": [
        "policy_set=[]\n",
        "\n",
        "for pol in policy:\n",
        "  policy_set+=pol\n",
        "\n",
        "policy_set=list(set(policy_set))\n",
        "\n",
        "for dataframe in dataframe_names_list:\n",
        "  if dataframe not in policy_set:\n",
        "    print(dataframe)"
      ],
      "execution_count": null,
      "outputs": []
    },
    {
      "cell_type": "markdown",
      "metadata": {
        "id": "KqS5rtI4qCpL"
      },
      "source": [
        "## **Bigram data**"
      ]
    },
    {
      "cell_type": "code",
      "metadata": {
        "id": "oeA2UipvqCpM"
      },
      "source": [
        "dataframe_list=[statistic,Bigram]\n",
        "dataframe_names_list=['statistic','Bigram']"
      ],
      "execution_count": null,
      "outputs": []
    },
    {
      "cell_type": "code",
      "metadata": {
        "id": "S8uVxGhDqCpM",
        "colab": {
          "base_uri": "https://localhost:8080/"
        },
        "outputId": "3eaf41e2-5ee4-4ef9-d092-dc11a948afc9"
      },
      "source": [
        "ground_labels, global_explainability_tabular, labels, _, _, policy=stc_procedure_multiple_dataset(dataframe_list,dataframe_names_list,true_labels)"
      ],
      "execution_count": null,
      "outputs": [
        {
          "output_type": "stream",
          "name": "stdout",
          "text": [
            ""
          ]
        }
      ]
    },
    {
      "cell_type": "code",
      "metadata": {
        "id": "ft86vwy3qCpM"
      },
      "source": [
        "accuracy=accuracy_score(ground_labels, labels)\n",
        "f1_score_value=f1_score(y_true=ground_labels, y_pred=labels, average=\"macro\")\n",
        "precision=precision_score(ground_labels, labels, average=\"macro\")\n",
        "recall=recall_score(ground_labels, labels, average=\"macro\")"
      ],
      "execution_count": null,
      "outputs": []
    },
    {
      "cell_type": "code",
      "metadata": {
        "id": "P5aKvV7nqCpM"
      },
      "source": [
        "accuracy_scores_multiple.append(accuracy)\n",
        "f1_scores_multiple.append(f1_score_value)\n",
        "precision_scores_multiple.append(precision)\n",
        "recall_scores_multiple.append(recall)"
      ],
      "execution_count": null,
      "outputs": []
    },
    {
      "cell_type": "code",
      "metadata": {
        "id": "lHhXMH1cqCpM",
        "colab": {
          "base_uri": "https://localhost:8080/"
        },
        "outputId": "c6e94f47-821a-4c4d-9d03-a4839c55eb2b"
      },
      "source": [
        "print('accuracy: {}'.format(accuracy))\n",
        "print('f1 score: {}'.format(f1_score_value))\n",
        "print('precision: {}'.format(precision))\n",
        "print('recall: {}'.format(recall))"
      ],
      "execution_count": null,
      "outputs": [
        {
          "output_type": "stream",
          "name": "stdout",
          "text": [
            "accuracy: 0.7418147801683816\n",
            "f1 score: 0.5698748773761267\n",
            "precision: 0.6182963869622377\n",
            "recall: 0.5823347701149425\n"
          ]
        }
      ]
    },
    {
      "cell_type": "code",
      "metadata": {
        "id": "hGmPcYLvqCpM",
        "colab": {
          "base_uri": "https://localhost:8080/"
        },
        "outputId": "f15b6eb2-9cc5-40c2-d4e1-7ccac54aedd9"
      },
      "source": [
        "policy"
      ],
      "execution_count": null,
      "outputs": [
        {
          "output_type": "execute_result",
          "data": {
            "text/plain": [
              "[['Bigram', 'statistic'], ['statistic'], []]"
            ]
          },
          "metadata": {},
          "execution_count": 181
        }
      ]
    },
    {
      "cell_type": "code",
      "metadata": {
        "id": "-MO6Eia2qCpM"
      },
      "source": [
        "policy_set=[]\n",
        "\n",
        "for pol in policy:\n",
        "  policy_set+=pol\n",
        "\n",
        "policy_set=list(set(policy_set))\n",
        "\n",
        "for dataframe in dataframe_names_list:\n",
        "  if dataframe not in policy_set:\n",
        "    print(dataframe)"
      ],
      "execution_count": null,
      "outputs": []
    },
    {
      "cell_type": "markdown",
      "metadata": {
        "id": "pQQ7mOkpqjtX"
      },
      "source": [
        "## **Imported n-gram data**"
      ]
    },
    {
      "cell_type": "code",
      "metadata": {
        "id": "quvRiONVqjtY"
      },
      "source": [
        "dataframe_list=[statistic,imported_ngram]\n",
        "dataframe_names_list=['statistic','imported_ngram']"
      ],
      "execution_count": null,
      "outputs": []
    },
    {
      "cell_type": "code",
      "metadata": {
        "id": "5Y4eDKiiqjtY",
        "colab": {
          "base_uri": "https://localhost:8080/"
        },
        "outputId": "4f67c18b-5153-4393-dbbb-b10ae535bfc7"
      },
      "source": [
        "ground_labels, global_explainability_tabular, labels, _, _, policy=stc_procedure_multiple_dataset(dataframe_list,dataframe_names_list,true_labels)"
      ],
      "execution_count": null,
      "outputs": [
        {
          "output_type": "stream",
          "name": "stdout",
          "text": [
            ""
          ]
        }
      ]
    },
    {
      "cell_type": "code",
      "metadata": {
        "id": "FNu2W2JmqjtY"
      },
      "source": [
        "accuracy=accuracy_score(ground_labels, labels)\n",
        "f1_score_value=f1_score(y_true=ground_labels, y_pred=labels, average=\"macro\")\n",
        "precision=precision_score(ground_labels, labels, average=\"macro\")\n",
        "recall=recall_score(ground_labels, labels, average=\"macro\")"
      ],
      "execution_count": null,
      "outputs": []
    },
    {
      "cell_type": "code",
      "metadata": {
        "id": "7SHdPpO_qjtY"
      },
      "source": [
        "accuracy_scores_multiple.append(accuracy)\n",
        "f1_scores_multiple.append(f1_score_value)\n",
        "precision_scores_multiple.append(precision)\n",
        "recall_scores_multiple.append(recall)"
      ],
      "execution_count": null,
      "outputs": []
    },
    {
      "cell_type": "code",
      "metadata": {
        "id": "CCCWmQzbqjtY",
        "colab": {
          "base_uri": "https://localhost:8080/"
        },
        "outputId": "64789dfc-3379-4163-be73-67c2eb2a42fd"
      },
      "source": [
        "print('accuracy: {}'.format(accuracy))\n",
        "print('f1 score: {}'.format(f1_score_value))\n",
        "print('precision: {}'.format(precision))\n",
        "print('recall: {}'.format(recall))"
      ],
      "execution_count": null,
      "outputs": [
        {
          "output_type": "stream",
          "name": "stdout",
          "text": [
            "accuracy: 0.7418147801683816\n",
            "f1 score: 0.5698748773761267\n",
            "precision: 0.6182963869622377\n",
            "recall: 0.5823347701149425\n"
          ]
        }
      ]
    },
    {
      "cell_type": "code",
      "metadata": {
        "id": "4ELxEQIxqjtY",
        "colab": {
          "base_uri": "https://localhost:8080/"
        },
        "outputId": "d94e6928-1fa0-4f80-b30d-e95c32e11daa"
      },
      "source": [
        "policy"
      ],
      "execution_count": null,
      "outputs": [
        {
          "output_type": "execute_result",
          "data": {
            "text/plain": [
              "[['statistic'], []]"
            ]
          },
          "metadata": {},
          "execution_count": 188
        }
      ]
    },
    {
      "cell_type": "code",
      "metadata": {
        "id": "cLbcW4GmqjtY",
        "colab": {
          "base_uri": "https://localhost:8080/"
        },
        "outputId": "8ce0228a-c560-4f34-ffc6-b88cae834084"
      },
      "source": [
        "policy_set=[]\n",
        "\n",
        "for pol in policy:\n",
        "  policy_set+=pol\n",
        "\n",
        "policy_set=list(set(policy_set))\n",
        "\n",
        "for dataframe in dataframe_names_list:\n",
        "  if dataframe not in policy_set:\n",
        "    print(dataframe)"
      ],
      "execution_count": null,
      "outputs": [
        {
          "output_type": "stream",
          "name": "stdout",
          "text": [
            "imported_ngram\n"
          ]
        }
      ]
    },
    {
      "cell_type": "markdown",
      "metadata": {
        "id": "G0LsJbVXH02n"
      },
      "source": [
        "## **Dependency data**"
      ]
    },
    {
      "cell_type": "code",
      "metadata": {
        "id": "t-NtYIVhH02p"
      },
      "source": [
        "dataframe_list=[statistic,dependency, dependency_tree_stat]\n",
        "dataframe_names_list=['statistic','dependency','dependency_tree_stat']"
      ],
      "execution_count": null,
      "outputs": []
    },
    {
      "cell_type": "code",
      "metadata": {
        "id": "p1k5pJp6H02p",
        "colab": {
          "base_uri": "https://localhost:8080/"
        },
        "outputId": "c1d2026a-e681-4927-e2b7-6d5859ecce5d"
      },
      "source": [
        "ground_labels, global_explainability_tabular, labels, _, _, policy=stc_procedure_multiple_dataset(dataframe_list,dataframe_names_list,true_labels)"
      ],
      "execution_count": null,
      "outputs": [
        {
          "output_type": "stream",
          "name": "stdout",
          "text": [
            ""
          ]
        }
      ]
    },
    {
      "cell_type": "code",
      "metadata": {
        "id": "0OiqmhTtH02q"
      },
      "source": [
        "accuracy=accuracy_score(ground_labels, labels)\n",
        "f1_score_value=f1_score(y_true=ground_labels, y_pred=labels, average=\"macro\")\n",
        "precision=precision_score(ground_labels, labels, average=\"macro\")\n",
        "recall=recall_score(ground_labels, labels, average=\"macro\")"
      ],
      "execution_count": null,
      "outputs": []
    },
    {
      "cell_type": "code",
      "metadata": {
        "id": "uezKugXtH02r"
      },
      "source": [
        "accuracy_scores_multiple.append(accuracy)\n",
        "f1_scores_multiple.append(f1_score_value)\n",
        "precision_scores_multiple.append(precision)\n",
        "recall_scores_multiple.append(recall)"
      ],
      "execution_count": null,
      "outputs": []
    },
    {
      "cell_type": "code",
      "metadata": {
        "id": "UOM9WHgOH02r",
        "colab": {
          "base_uri": "https://localhost:8080/"
        },
        "outputId": "671bdb48-bdbb-4c92-ae37-22f8d2b1797e"
      },
      "source": [
        "print('accuracy: {}'.format(accuracy))\n",
        "print('f1 score: {}'.format(f1_score_value))\n",
        "print('precision: {}'.format(precision))\n",
        "print('recall: {}'.format(recall))"
      ],
      "execution_count": null,
      "outputs": [
        {
          "output_type": "stream",
          "name": "stdout",
          "text": [
            "accuracy: 0.7726847521047708\n",
            "f1 score: 0.595239691110686\n",
            "precision: 0.6334824757643549\n",
            "recall: 0.6324425287356322\n"
          ]
        }
      ]
    },
    {
      "cell_type": "code",
      "metadata": {
        "id": "_XXvy5IzH02s",
        "colab": {
          "base_uri": "https://localhost:8080/"
        },
        "outputId": "965721d0-07db-4b93-919d-5a1f54b19341"
      },
      "source": [
        "policy"
      ],
      "execution_count": null,
      "outputs": [
        {
          "output_type": "execute_result",
          "data": {
            "text/plain": [
              "[['dependency_tree_stat', 'dependency', 'statistic'],\n",
              " ['dependency', 'statistic'],\n",
              " ['statistic'],\n",
              " []]"
            ]
          },
          "metadata": {},
          "execution_count": 195
        }
      ]
    },
    {
      "cell_type": "code",
      "metadata": {
        "id": "miG3yk9DH02s"
      },
      "source": [
        "policy_set=[]\n",
        "\n",
        "for pol in policy:\n",
        "  policy_set+=pol\n",
        "\n",
        "policy_set=list(set(policy_set))\n",
        "\n",
        "for dataframe in dataframe_names_list:\n",
        "  if dataframe not in policy_set:\n",
        "    print(dataframe)"
      ],
      "execution_count": null,
      "outputs": []
    },
    {
      "cell_type": "markdown",
      "metadata": {
        "id": "XqJ-WqaxHFgl"
      },
      "source": [
        "## **Named entity data**"
      ]
    },
    {
      "cell_type": "code",
      "metadata": {
        "id": "fzwVOyv2HFgm"
      },
      "source": [
        "dataframe_list=[statistic,named_entity]\n",
        "dataframe_names_list=['satistic', 'named_entity']"
      ],
      "execution_count": null,
      "outputs": []
    },
    {
      "cell_type": "code",
      "metadata": {
        "id": "JvMaTg-KHFgn",
        "colab": {
          "base_uri": "https://localhost:8080/"
        },
        "outputId": "b2846f7a-bb7e-46c2-ad89-a42cfb441c9d"
      },
      "source": [
        "ground_labels, global_explainability_tabular, labels, _, _, policy=stc_procedure_multiple_dataset(dataframe_list,dataframe_names_list,true_labels)"
      ],
      "execution_count": null,
      "outputs": [
        {
          "output_type": "stream",
          "name": "stdout",
          "text": [
            ""
          ]
        }
      ]
    },
    {
      "cell_type": "code",
      "metadata": {
        "id": "ZjnB0vLEHFgo"
      },
      "source": [
        "accuracy=accuracy_score(ground_labels, labels)\n",
        "f1_score_value=f1_score(y_true=ground_labels, y_pred=labels, average=\"macro\")\n",
        "precision=precision_score(ground_labels, labels, average=\"macro\")\n",
        "recall=recall_score(ground_labels, labels, average=\"macro\")"
      ],
      "execution_count": null,
      "outputs": []
    },
    {
      "cell_type": "code",
      "metadata": {
        "id": "UgwG4XFCHFgo"
      },
      "source": [
        "accuracy_scores_multiple.append(accuracy)\n",
        "f1_scores_multiple.append(f1_score_value)\n",
        "precision_scores_multiple.append(precision)\n",
        "recall_scores_multiple.append(recall)"
      ],
      "execution_count": null,
      "outputs": []
    },
    {
      "cell_type": "code",
      "metadata": {
        "id": "r8jioajDHFgp",
        "colab": {
          "base_uri": "https://localhost:8080/"
        },
        "outputId": "cf6d813d-016f-4b08-a838-664c2ebcbacb"
      },
      "source": [
        "print('accuracy: {}'.format(accuracy))\n",
        "print('f1 score: {}'.format(f1_score_value))\n",
        "print('precision: {}'.format(precision))\n",
        "print('recall: {}'.format(recall))"
      ],
      "execution_count": null,
      "outputs": [
        {
          "output_type": "stream",
          "name": "stdout",
          "text": [
            "accuracy: 0.7932647333956969\n",
            "f1 score: 0.5916631122569164\n",
            "precision: 0.6248360422013116\n",
            "recall: 0.600007183908046\n"
          ]
        }
      ]
    },
    {
      "cell_type": "code",
      "metadata": {
        "id": "L6rbSgN2HFgq",
        "colab": {
          "base_uri": "https://localhost:8080/"
        },
        "outputId": "35ff4ead-5a74-455b-9213-36967ce67be1"
      },
      "source": [
        "policy"
      ],
      "execution_count": null,
      "outputs": [
        {
          "output_type": "execute_result",
          "data": {
            "text/plain": [
              "[['named_entity', 'satistic'], ['satistic'], []]"
            ]
          },
          "metadata": {},
          "execution_count": 202
        }
      ]
    },
    {
      "cell_type": "code",
      "metadata": {
        "id": "dvb6z7p-HFgq"
      },
      "source": [
        "policy_set=[]\n",
        "\n",
        "for pol in policy:\n",
        "  policy_set+=pol\n",
        "\n",
        "policy_set=list(set(policy_set))\n",
        "\n",
        "for dataframe in dataframe_names_list:\n",
        "  if dataframe not in policy_set:\n",
        "    print(dataframe)"
      ],
      "execution_count": null,
      "outputs": []
    },
    {
      "cell_type": "markdown",
      "metadata": {
        "id": "mzWTpHXIrHOK"
      },
      "source": [
        "## **Subjectivity data**"
      ]
    },
    {
      "cell_type": "code",
      "metadata": {
        "id": "_FESwoQmrHOK"
      },
      "source": [
        "dataframe_list=[statistic,others]\n",
        "dataframe_names_list=['statistic','subjectivity']"
      ],
      "execution_count": null,
      "outputs": []
    },
    {
      "cell_type": "code",
      "metadata": {
        "id": "mWFk5tr6rHOK",
        "colab": {
          "base_uri": "https://localhost:8080/"
        },
        "outputId": "5512e077-7132-4718-94c3-6498a942e45b"
      },
      "source": [
        "ground_labels, global_explainability_tabular, labels, _, _, policy=stc_procedure_multiple_dataset(dataframe_list,dataframe_names_list,true_labels)"
      ],
      "execution_count": null,
      "outputs": [
        {
          "output_type": "stream",
          "name": "stdout",
          "text": [
            ""
          ]
        }
      ]
    },
    {
      "cell_type": "code",
      "metadata": {
        "id": "S5OfFQBMrHOK"
      },
      "source": [
        "accuracy=accuracy_score(ground_labels, labels)\n",
        "f1_score_value=f1_score(y_true=ground_labels, y_pred=labels, average=\"macro\")\n",
        "precision=precision_score(ground_labels, labels, average=\"macro\")\n",
        "recall=recall_score(ground_labels, labels, average=\"macro\")"
      ],
      "execution_count": null,
      "outputs": []
    },
    {
      "cell_type": "code",
      "metadata": {
        "id": "b95mvJtSrHOK"
      },
      "source": [
        "accuracy_scores_multiple.append(accuracy)\n",
        "f1_scores_multiple.append(f1_score_value)\n",
        "precision_scores_multiple.append(precision)\n",
        "recall_scores_multiple.append(recall)"
      ],
      "execution_count": null,
      "outputs": []
    },
    {
      "cell_type": "code",
      "metadata": {
        "id": "TBL_GhlqrHOL",
        "colab": {
          "base_uri": "https://localhost:8080/"
        },
        "outputId": "9675ab71-9fd8-4f90-c55c-ac7b95e364a2"
      },
      "source": [
        "print('accuracy: {}'.format(accuracy))\n",
        "print('f1 score: {}'.format(f1_score_value))\n",
        "print('precision: {}'.format(precision))\n",
        "print('recall: {}'.format(recall))"
      ],
      "execution_count": null,
      "outputs": [
        {
          "output_type": "stream",
          "name": "stdout",
          "text": [
            "accuracy: 0.7418147801683816\n",
            "f1 score: 0.5698748773761267\n",
            "precision: 0.6182963869622377\n",
            "recall: 0.5823347701149425\n"
          ]
        }
      ]
    },
    {
      "cell_type": "code",
      "metadata": {
        "id": "Nk_g112IrHOL",
        "colab": {
          "base_uri": "https://localhost:8080/"
        },
        "outputId": "b407ebf4-d015-4fd5-c75c-09eb1dd940c9"
      },
      "source": [
        "policy"
      ],
      "execution_count": null,
      "outputs": [
        {
          "output_type": "execute_result",
          "data": {
            "text/plain": [
              "[['statistic'], []]"
            ]
          },
          "metadata": {},
          "execution_count": 209
        }
      ]
    },
    {
      "cell_type": "code",
      "metadata": {
        "id": "F6q7FzzUrHOL",
        "colab": {
          "base_uri": "https://localhost:8080/"
        },
        "outputId": "81c328c4-1986-487b-b778-1e1e52a71490"
      },
      "source": [
        "policy_set=[]\n",
        "\n",
        "for pol in policy:\n",
        "  policy_set+=pol\n",
        "\n",
        "policy_set=list(set(policy_set))\n",
        "\n",
        "for dataframe in dataframe_names_list:\n",
        "  if dataframe not in policy_set:\n",
        "    print(dataframe)"
      ],
      "execution_count": null,
      "outputs": [
        {
          "output_type": "stream",
          "name": "stdout",
          "text": [
            "subjectivity\n"
          ]
        }
      ]
    },
    {
      "cell_type": "markdown",
      "metadata": {
        "id": "MdrW89vVv5l6"
      },
      "source": [
        "## **Bigram-words**"
      ]
    },
    {
      "cell_type": "code",
      "metadata": {
        "id": "Ahl7MT4Xv5l6"
      },
      "source": [
        "dataframe_list=[BOW,Bigram]\n",
        "dataframe_names_list=['BOW','Bigram']"
      ],
      "execution_count": null,
      "outputs": []
    },
    {
      "cell_type": "code",
      "metadata": {
        "id": "mwC5tWdvv5l7",
        "colab": {
          "base_uri": "https://localhost:8080/"
        },
        "outputId": "2b00538b-5b83-4f97-fe23-58ce84880fa2"
      },
      "source": [
        "ground_labels, global_explainability_tabular, labels, _, _, policy=stc_procedure_multiple_dataset(dataframe_list,dataframe_names_list,true_labels)"
      ],
      "execution_count": null,
      "outputs": [
        {
          "output_type": "stream",
          "name": "stdout",
          "text": [
            ""
          ]
        }
      ]
    },
    {
      "cell_type": "code",
      "metadata": {
        "id": "h3SlFK5fv5l7"
      },
      "source": [
        "accuracy=accuracy_score(ground_labels, labels)\n",
        "f1_score_value=f1_score(y_true=ground_labels, y_pred=labels, average=\"macro\")\n",
        "precision=precision_score(ground_labels, labels, average=\"macro\")\n",
        "recall=recall_score(ground_labels, labels, average=\"macro\")"
      ],
      "execution_count": null,
      "outputs": []
    },
    {
      "cell_type": "code",
      "metadata": {
        "id": "h1-n1cCmv5l7"
      },
      "source": [
        "accuracy_scores_multiple.append(accuracy)\n",
        "f1_scores_multiple.append(f1_score_value)\n",
        "precision_scores_multiple.append(precision)\n",
        "recall_scores_multiple.append(recall)"
      ],
      "execution_count": null,
      "outputs": []
    },
    {
      "cell_type": "code",
      "metadata": {
        "id": "pOdcfOmSv5l7",
        "colab": {
          "base_uri": "https://localhost:8080/"
        },
        "outputId": "d696267d-ad8d-4ab1-cdc1-25ab6d6e4e4f"
      },
      "source": [
        "print('accuracy: {}'.format(accuracy))\n",
        "print('f1 score: {}'.format(f1_score_value))\n",
        "print('precision: {}'.format(precision))\n",
        "print('recall: {}'.format(recall))"
      ],
      "execution_count": null,
      "outputs": [
        {
          "output_type": "stream",
          "name": "stdout",
          "text": [
            "accuracy: 0.2011225444340505\n",
            "f1 score: 0.17557616218024089\n",
            "precision: 0.4314027274447307\n",
            "recall: 0.38016163793103447\n"
          ]
        }
      ]
    },
    {
      "cell_type": "code",
      "metadata": {
        "id": "f0WVGohWv5l7",
        "colab": {
          "base_uri": "https://localhost:8080/"
        },
        "outputId": "d66c9d7f-5b56-4e89-b008-66b68cee63b0"
      },
      "source": [
        "policy"
      ],
      "execution_count": null,
      "outputs": [
        {
          "output_type": "execute_result",
          "data": {
            "text/plain": [
              "[['Bigram', 'BOW'], ['BOW'], []]"
            ]
          },
          "metadata": {},
          "execution_count": 216
        }
      ]
    },
    {
      "cell_type": "code",
      "metadata": {
        "id": "T3uUTai-v5l8"
      },
      "source": [
        "policy_set=[]\n",
        "\n",
        "for pol in policy:\n",
        "  policy_set+=pol\n",
        "\n",
        "policy_set=list(set(policy_set))\n",
        "\n",
        "for dataframe in dataframe_names_list:\n",
        "  if dataframe not in policy_set:\n",
        "    print(dataframe)"
      ],
      "execution_count": null,
      "outputs": []
    },
    {
      "cell_type": "markdown",
      "metadata": {
        "id": "Zk5OOE3UTXow"
      },
      "source": [
        "## **BOW types**"
      ]
    },
    {
      "cell_type": "code",
      "metadata": {
        "id": "kaBFQdtlTXow"
      },
      "source": [
        "dataframe_list=[BOW,POS,simple_POS]\n",
        "dataframe_names_list=['BOW','POS','simple_POS']"
      ],
      "execution_count": null,
      "outputs": []
    },
    {
      "cell_type": "code",
      "metadata": {
        "id": "ghPqIGeBTXox",
        "colab": {
          "base_uri": "https://localhost:8080/"
        },
        "outputId": "81468c61-8b77-44ab-f407-4b2911b42a8c"
      },
      "source": [
        "ground_labels, global_explainability_tabular, labels, _, _, policy=stc_procedure_multiple_dataset(dataframe_list,dataframe_names_list,true_labels)"
      ],
      "execution_count": null,
      "outputs": [
        {
          "output_type": "stream",
          "name": "stdout",
          "text": [
            ""
          ]
        }
      ]
    },
    {
      "cell_type": "code",
      "metadata": {
        "id": "bfzZOL2OTXox",
        "colab": {
          "base_uri": "https://localhost:8080/"
        },
        "outputId": "5560e295-1ff4-4064-b5fa-0eca2187f18c"
      },
      "source": [
        "accuracy=accuracy_score(ground_labels, labels)\n",
        "f1_score_value=f1_score(y_true=ground_labels, y_pred=labels, average=\"macro\")\n",
        "precision=precision_score(ground_labels, labels, average=\"macro\")\n",
        "recall=recall_score(ground_labels, labels, average=\"macro\")"
      ],
      "execution_count": null,
      "outputs": [
        {
          "output_type": "stream",
          "name": "stderr",
          "text": [
            "Exception during reset or similar\n",
            "Traceback (most recent call last):\n",
            "  File \"/usr/local/lib/python3.7/dist-packages/sqlalchemy/pool/base.py\", line 739, in _finalize_fairy\n",
            "    fairy._reset(pool)\n",
            "  File \"/usr/local/lib/python3.7/dist-packages/sqlalchemy/pool/base.py\", line 988, in _reset\n",
            "    pool._dialect.do_rollback(self)\n",
            "  File \"/usr/local/lib/python3.7/dist-packages/sqlalchemy/engine/default.py\", line 667, in do_rollback\n",
            "    dbapi_connection.rollback()\n",
            "sqlite3.ProgrammingError: SQLite objects created in a thread can only be used in that same thread. The object was created in thread id 140342083307392 and this is thread id 140341459322624.\n",
            "Exception closing connection <sqlite3.Connection object at 0x7fa3b5de3650>\n",
            "Traceback (most recent call last):\n",
            "  File \"/usr/local/lib/python3.7/dist-packages/sqlalchemy/pool/base.py\", line 739, in _finalize_fairy\n",
            "    fairy._reset(pool)\n",
            "  File \"/usr/local/lib/python3.7/dist-packages/sqlalchemy/pool/base.py\", line 988, in _reset\n",
            "    pool._dialect.do_rollback(self)\n",
            "  File \"/usr/local/lib/python3.7/dist-packages/sqlalchemy/engine/default.py\", line 667, in do_rollback\n",
            "    dbapi_connection.rollback()\n",
            "sqlite3.ProgrammingError: SQLite objects created in a thread can only be used in that same thread. The object was created in thread id 140342083307392 and this is thread id 140341459322624.\n",
            "\n",
            "During handling of the above exception, another exception occurred:\n",
            "\n",
            "Traceback (most recent call last):\n",
            "  File \"/usr/local/lib/python3.7/dist-packages/sqlalchemy/pool/base.py\", line 247, in _close_connection\n",
            "    self._dialect.do_close(connection)\n",
            "  File \"/usr/local/lib/python3.7/dist-packages/sqlalchemy/engine/default.py\", line 673, in do_close\n",
            "    dbapi_connection.close()\n",
            "sqlite3.ProgrammingError: SQLite objects created in a thread can only be used in that same thread. The object was created in thread id 140342083307392 and this is thread id 140341459322624.\n"
          ]
        }
      ]
    },
    {
      "cell_type": "code",
      "metadata": {
        "id": "Kr8m5W8mTXox"
      },
      "source": [
        "accuracy_scores_multiple.append(accuracy)\n",
        "f1_scores_multiple.append(f1_score_value)\n",
        "precision_scores_multiple.append(precision)\n",
        "recall_scores_multiple.append(recall)"
      ],
      "execution_count": null,
      "outputs": []
    },
    {
      "cell_type": "code",
      "metadata": {
        "id": "vt6HHK5OTXox",
        "colab": {
          "base_uri": "https://localhost:8080/"
        },
        "outputId": "0f23ceb3-8107-4cf3-885b-6654208ae47e"
      },
      "source": [
        "print('accuracy: {}'.format(accuracy))\n",
        "print('f1 score: {}'.format(f1_score_value))\n",
        "print('precision: {}'.format(precision))\n",
        "print('recall: {}'.format(recall))"
      ],
      "execution_count": null,
      "outputs": [
        {
          "output_type": "stream",
          "name": "stdout",
          "text": [
            "accuracy: 0.4059869036482694\n",
            "f1 score: 0.3124544143435417\n",
            "precision: 0.3939716914615401\n",
            "recall: 0.4301508620689656\n"
          ]
        }
      ]
    },
    {
      "cell_type": "code",
      "metadata": {
        "id": "yu8CB4oBTXox",
        "colab": {
          "base_uri": "https://localhost:8080/"
        },
        "outputId": "890258fa-6950-4a7d-b738-25a2ea7744aa"
      },
      "source": [
        "policy"
      ],
      "execution_count": null,
      "outputs": [
        {
          "output_type": "execute_result",
          "data": {
            "text/plain": [
              "[['BOW', 'POS', 'simple_POS'], ['POS', 'simple_POS'], ['simple_POS'], []]"
            ]
          },
          "metadata": {},
          "execution_count": 223
        }
      ]
    },
    {
      "cell_type": "code",
      "metadata": {
        "id": "--x22obyTXox"
      },
      "source": [
        "policy_set=[]\n",
        "\n",
        "for pol in policy:\n",
        "  policy_set+=pol\n",
        "\n",
        "policy_set=list(set(policy_set))\n",
        "\n",
        "for dataframe in dataframe_names_list:\n",
        "  if dataframe not in policy_set:\n",
        "    print(dataframe)"
      ],
      "execution_count": null,
      "outputs": []
    },
    {
      "cell_type": "markdown",
      "metadata": {
        "id": "OcI4Z8VBjxCv"
      },
      "source": [
        "## **BOW dependency tree**"
      ]
    },
    {
      "cell_type": "code",
      "metadata": {
        "id": "Dh8JAJS2jxCv"
      },
      "source": [
        "dataframe_list=[BOW,dependency,dependency_tree_stat]\n",
        "dataframe_names_list=['BOW','dependency','dependency_tree_stat']"
      ],
      "execution_count": null,
      "outputs": []
    },
    {
      "cell_type": "code",
      "metadata": {
        "id": "jcqhvPBijxCw",
        "colab": {
          "base_uri": "https://localhost:8080/"
        },
        "outputId": "610f6f3b-b027-4c73-b564-7e62c95c29ae"
      },
      "source": [
        "ground_labels, global_explainability_tabular, labels, _, _, policy=stc_procedure_multiple_dataset(dataframe_list,dataframe_names_list,true_labels)"
      ],
      "execution_count": null,
      "outputs": [
        {
          "output_type": "stream",
          "name": "stdout",
          "text": [
            ""
          ]
        }
      ]
    },
    {
      "cell_type": "code",
      "metadata": {
        "id": "vg4e-xRXjxCw"
      },
      "source": [
        "accuracy=accuracy_score(ground_labels, labels)\n",
        "f1_score_value=f1_score(y_true=ground_labels, y_pred=labels, average=\"macro\")\n",
        "precision=precision_score(ground_labels, labels, average=\"macro\")\n",
        "recall=recall_score(ground_labels, labels, average=\"macro\")"
      ],
      "execution_count": null,
      "outputs": []
    },
    {
      "cell_type": "code",
      "metadata": {
        "id": "5nDFusAwjxCw"
      },
      "source": [
        "accuracy_scores_multiple.append(accuracy)\n",
        "f1_scores_multiple.append(f1_score_value)\n",
        "precision_scores_multiple.append(precision)\n",
        "recall_scores_multiple.append(recall)"
      ],
      "execution_count": null,
      "outputs": []
    },
    {
      "cell_type": "code",
      "metadata": {
        "id": "ckInj6HMjxCx",
        "colab": {
          "base_uri": "https://localhost:8080/"
        },
        "outputId": "dcfe9bc9-0792-45d4-e200-57f409aa36a5"
      },
      "source": [
        "print('accuracy: {}'.format(accuracy))\n",
        "print('f1 score: {}'.format(f1_score_value))\n",
        "print('precision: {}'.format(precision))\n",
        "print('recall: {}'.format(recall))"
      ],
      "execution_count": null,
      "outputs": [
        {
          "output_type": "stream",
          "name": "stdout",
          "text": [
            "accuracy: 0.46117867165575305\n",
            "f1 score: 0.3610991297197607\n",
            "precision: 0.3845639603386082\n",
            "recall: 0.437201867816092\n"
          ]
        }
      ]
    },
    {
      "cell_type": "code",
      "metadata": {
        "id": "BGan_HkYjxCx",
        "colab": {
          "base_uri": "https://localhost:8080/"
        },
        "outputId": "1f74fb66-3af0-4357-ae88-4d0b2771d4d0"
      },
      "source": [
        "policy"
      ],
      "execution_count": null,
      "outputs": [
        {
          "output_type": "execute_result",
          "data": {
            "text/plain": [
              "[['BOW', 'dependency_tree_stat', 'dependency'],\n",
              " ['dependency_tree_stat', 'dependency'],\n",
              " ['dependency'],\n",
              " []]"
            ]
          },
          "metadata": {},
          "execution_count": 230
        }
      ]
    },
    {
      "cell_type": "code",
      "metadata": {
        "id": "CROcgwu0jxCx"
      },
      "source": [
        "policy_set=[]\n",
        "\n",
        "for pol in policy:\n",
        "  policy_set+=pol\n",
        "\n",
        "policy_set=list(set(policy_set))\n",
        "\n",
        "for dataframe in dataframe_names_list:\n",
        "  if dataframe not in policy_set:\n",
        "    print(dataframe)"
      ],
      "execution_count": null,
      "outputs": []
    },
    {
      "cell_type": "markdown",
      "metadata": {
        "id": "nNp1VDcndQq4"
      },
      "source": [
        "## **POS dependency**"
      ]
    },
    {
      "cell_type": "code",
      "metadata": {
        "id": "6pI81SNHdQq5"
      },
      "source": [
        "dataframe_list=[POS,dependency,dependency_tree_stat]\n",
        "dataframe_names_list=['POS','dependency','dependency_tree_stat']"
      ],
      "execution_count": null,
      "outputs": []
    },
    {
      "cell_type": "code",
      "metadata": {
        "id": "0V4kC1mPdQq5",
        "colab": {
          "base_uri": "https://localhost:8080/"
        },
        "outputId": "ab21dbeb-6017-478f-d285-c0386f5fff7d"
      },
      "source": [
        "ground_labels, global_explainability_tabular, labels, _, _, policy=stc_procedure_multiple_dataset(dataframe_list,dataframe_names_list,true_labels)"
      ],
      "execution_count": null,
      "outputs": [
        {
          "output_type": "stream",
          "name": "stdout",
          "text": [
            ""
          ]
        }
      ]
    },
    {
      "cell_type": "code",
      "metadata": {
        "id": "n_kyUumGdQq6"
      },
      "source": [
        "accuracy=accuracy_score(ground_labels, labels)\n",
        "f1_score_value=f1_score(y_true=ground_labels, y_pred=labels, average=\"macro\")\n",
        "precision=precision_score(ground_labels, labels, average=\"macro\")\n",
        "recall=recall_score(ground_labels, labels, average=\"macro\")"
      ],
      "execution_count": null,
      "outputs": []
    },
    {
      "cell_type": "code",
      "metadata": {
        "id": "yxF96JJGdQq6"
      },
      "source": [
        "accuracy_scores_multiple.append(accuracy)\n",
        "f1_scores_multiple.append(f1_score_value)\n",
        "precision_scores_multiple.append(precision)\n",
        "recall_scores_multiple.append(recall)"
      ],
      "execution_count": null,
      "outputs": []
    },
    {
      "cell_type": "code",
      "metadata": {
        "id": "tk2nKXeHdQq6",
        "colab": {
          "base_uri": "https://localhost:8080/"
        },
        "outputId": "551a571d-03cc-4546-9e26-f5c8ef724d7f"
      },
      "source": [
        "print('accuracy: {}'.format(accuracy))\n",
        "print('f1 score: {}'.format(f1_score_value))\n",
        "print('precision: {}'.format(precision))\n",
        "print('recall: {}'.format(recall))"
      ],
      "execution_count": null,
      "outputs": [
        {
          "output_type": "stream",
          "name": "stdout",
          "text": [
            "accuracy: 0.5154349859681946\n",
            "f1 score: 0.3947345913692744\n",
            "precision: 0.4028914110699879\n",
            "recall: 0.4359806034482759\n"
          ]
        }
      ]
    },
    {
      "cell_type": "code",
      "metadata": {
        "id": "HOsdeZpfdQq6",
        "colab": {
          "base_uri": "https://localhost:8080/"
        },
        "outputId": "577fe319-4adb-491e-ace6-6f2e33397e9c"
      },
      "source": [
        "policy"
      ],
      "execution_count": null,
      "outputs": [
        {
          "output_type": "execute_result",
          "data": {
            "text/plain": [
              "[['dependency', 'dependency_tree_stat', 'POS'],\n",
              " ['dependency_tree_stat', 'POS'],\n",
              " ['POS'],\n",
              " []]"
            ]
          },
          "metadata": {},
          "execution_count": 237
        }
      ]
    },
    {
      "cell_type": "code",
      "metadata": {
        "id": "eP1OfE_KdQq6"
      },
      "source": [
        "policy_set=[]\n",
        "\n",
        "for pol in policy:\n",
        "  policy_set+=pol\n",
        "\n",
        "policy_set=list(set(policy_set))\n",
        "\n",
        "for dataframe in dataframe_names_list:\n",
        "  if dataframe not in policy_set:\n",
        "    print(dataframe)"
      ],
      "execution_count": null,
      "outputs": []
    },
    {
      "cell_type": "markdown",
      "metadata": {
        "id": "4q-NOgavTvOS"
      },
      "source": [
        "## **Bigrams words-POS**"
      ]
    },
    {
      "cell_type": "code",
      "metadata": {
        "id": "74kxNOD3TvOS"
      },
      "source": [
        "dataframe_list=[Bigram,bigram_POS]\n",
        "dataframe_names_list=['Bigram','bigram_POS']"
      ],
      "execution_count": null,
      "outputs": []
    },
    {
      "cell_type": "code",
      "metadata": {
        "id": "psHKiooATvOT",
        "colab": {
          "base_uri": "https://localhost:8080/"
        },
        "outputId": "710ab553-4af8-4add-c38e-6d91c47e4804"
      },
      "source": [
        "ground_labels, global_explainability_tabular, labels, _, _, policy=stc_procedure_multiple_dataset(dataframe_list,dataframe_names_list,true_labels)"
      ],
      "execution_count": null,
      "outputs": [
        {
          "output_type": "stream",
          "name": "stdout",
          "text": [
            ""
          ]
        }
      ]
    },
    {
      "cell_type": "code",
      "metadata": {
        "id": "KJnQrkjKTvOT"
      },
      "source": [
        "accuracy=accuracy_score(ground_labels, labels)\n",
        "f1_score_value=f1_score(y_true=ground_labels, y_pred=labels, average=\"macro\")\n",
        "precision=precision_score(ground_labels, labels, average=\"macro\")\n",
        "recall=recall_score(ground_labels, labels, average=\"macro\")"
      ],
      "execution_count": null,
      "outputs": []
    },
    {
      "cell_type": "code",
      "metadata": {
        "id": "JeC0ZWWgTvOT"
      },
      "source": [
        "accuracy_scores_multiple.append(accuracy)\n",
        "f1_scores_multiple.append(f1_score_value)\n",
        "precision_scores_multiple.append(precision)\n",
        "recall_scores_multiple.append(recall)"
      ],
      "execution_count": null,
      "outputs": []
    },
    {
      "cell_type": "code",
      "metadata": {
        "id": "FBaQ5nstTvOT",
        "colab": {
          "base_uri": "https://localhost:8080/"
        },
        "outputId": "60c49a22-055a-4f47-a3aa-b0ac3e2b458c"
      },
      "source": [
        "print('accuracy: {}'.format(accuracy))\n",
        "print('f1 score: {}'.format(f1_score_value))\n",
        "print('precision: {}'.format(precision))\n",
        "print('recall: {}'.format(recall))"
      ],
      "execution_count": null,
      "outputs": [
        {
          "output_type": "stream",
          "name": "stdout",
          "text": [
            "accuracy: 0.38260056127221703\n",
            "f1 score: 0.19201858151219797\n",
            "precision: 0.4592382751022978\n",
            "recall: 0.3380208333333334\n"
          ]
        }
      ]
    },
    {
      "cell_type": "code",
      "metadata": {
        "id": "_UFFQUGOTvOU",
        "colab": {
          "base_uri": "https://localhost:8080/"
        },
        "outputId": "11796cec-d7a2-43bb-d5b4-f66e00c5c9ef"
      },
      "source": [
        "policy"
      ],
      "execution_count": null,
      "outputs": [
        {
          "output_type": "execute_result",
          "data": {
            "text/plain": [
              "[['Bigram'], []]"
            ]
          },
          "metadata": {},
          "execution_count": 244
        }
      ]
    },
    {
      "cell_type": "code",
      "metadata": {
        "id": "uk5zU_LoTvOU",
        "colab": {
          "base_uri": "https://localhost:8080/"
        },
        "outputId": "f2a4b03d-5462-4987-9ebf-b15513b742d0"
      },
      "source": [
        "policy_set=[]\n",
        "\n",
        "for pol in policy:\n",
        "  policy_set+=pol\n",
        "\n",
        "policy_set=list(set(policy_set))\n",
        "\n",
        "for dataframe in dataframe_names_list:\n",
        "  if dataframe not in policy_set:\n",
        "    print(dataframe)"
      ],
      "execution_count": null,
      "outputs": [
        {
          "output_type": "stream",
          "name": "stdout",
          "text": [
            "bigram_POS\n"
          ]
        }
      ]
    },
    {
      "cell_type": "markdown",
      "metadata": {
        "id": "i0fow799JVWZ"
      },
      "source": [
        "## **Bigrams words-simple_POS**"
      ]
    },
    {
      "cell_type": "code",
      "metadata": {
        "id": "iIwhSlsmJVWa"
      },
      "source": [
        "dataframe_list=[Bigram,bigram_simple_POS]\n",
        "dataframe_names_list=['Bigram','bigram_simple_POS']"
      ],
      "execution_count": null,
      "outputs": []
    },
    {
      "cell_type": "code",
      "metadata": {
        "id": "y_RRdaNeJVWa",
        "colab": {
          "base_uri": "https://localhost:8080/"
        },
        "outputId": "1eb17bcb-51dc-4def-c25b-337315c5c04d"
      },
      "source": [
        "ground_labels, global_explainability_tabular, labels, _, _, policy=stc_procedure_multiple_dataset(dataframe_list,dataframe_names_list,true_labels)"
      ],
      "execution_count": null,
      "outputs": [
        {
          "output_type": "stream",
          "name": "stdout",
          "text": [
            ""
          ]
        }
      ]
    },
    {
      "cell_type": "code",
      "metadata": {
        "id": "TAmUeS1PJVWa"
      },
      "source": [
        "accuracy=accuracy_score(ground_labels, labels)\n",
        "f1_score_value=f1_score(y_true=ground_labels, y_pred=labels, average=\"macro\")\n",
        "precision=precision_score(ground_labels, labels, average=\"macro\")\n",
        "recall=recall_score(ground_labels, labels, average=\"macro\")"
      ],
      "execution_count": null,
      "outputs": []
    },
    {
      "cell_type": "code",
      "metadata": {
        "id": "xeb1nNRyJVWa"
      },
      "source": [
        "accuracy_scores_multiple.append(accuracy)\n",
        "f1_scores_multiple.append(f1_score_value)\n",
        "precision_scores_multiple.append(precision)\n",
        "recall_scores_multiple.append(recall)"
      ],
      "execution_count": null,
      "outputs": []
    },
    {
      "cell_type": "code",
      "metadata": {
        "id": "cidg3_1vJVWa",
        "colab": {
          "base_uri": "https://localhost:8080/"
        },
        "outputId": "8bb75a97-f3a1-4752-8be5-1c4d20d2d33d"
      },
      "source": [
        "print('accuracy: {}'.format(accuracy))\n",
        "print('f1 score: {}'.format(f1_score_value))\n",
        "print('precision: {}'.format(precision))\n",
        "print('recall: {}'.format(recall))"
      ],
      "execution_count": null,
      "outputs": [
        {
          "output_type": "stream",
          "name": "stdout",
          "text": [
            "accuracy: 0.38260056127221703\n",
            "f1 score: 0.19201858151219797\n",
            "precision: 0.4592382751022978\n",
            "recall: 0.3380208333333334\n"
          ]
        }
      ]
    },
    {
      "cell_type": "code",
      "metadata": {
        "id": "gOPfT7F3JVWa",
        "colab": {
          "base_uri": "https://localhost:8080/"
        },
        "outputId": "9941cbef-4294-4c5c-8362-e20d4b4a1db9"
      },
      "source": [
        "policy"
      ],
      "execution_count": null,
      "outputs": [
        {
          "output_type": "execute_result",
          "data": {
            "text/plain": [
              "[['Bigram'], []]"
            ]
          },
          "metadata": {},
          "execution_count": 251
        }
      ]
    },
    {
      "cell_type": "code",
      "metadata": {
        "id": "g1Fz2-JSJVWb",
        "colab": {
          "base_uri": "https://localhost:8080/"
        },
        "outputId": "8fc63ebc-552e-4581-d316-768b186c1a38"
      },
      "source": [
        "policy_set=[]\n",
        "\n",
        "for pol in policy:\n",
        "  policy_set+=pol\n",
        "\n",
        "policy_set=list(set(policy_set))\n",
        "\n",
        "for dataframe in dataframe_names_list:\n",
        "  if dataframe not in policy_set:\n",
        "    print(dataframe)"
      ],
      "execution_count": null,
      "outputs": [
        {
          "output_type": "stream",
          "name": "stdout",
          "text": [
            "bigram_simple_POS\n"
          ]
        }
      ]
    },
    {
      "cell_type": "markdown",
      "metadata": {
        "id": "fTVHlUUBq3Sl"
      },
      "source": [
        "## **LNE dependency**"
      ]
    },
    {
      "cell_type": "code",
      "metadata": {
        "id": "QW0yUeGOq3Sl"
      },
      "source": [
        "dataframe_list=[named_entity,dependency,dependency_tree_stat]\n",
        "dataframe_names_list=['named_entity','dependency','dependency_tree_stat']"
      ],
      "execution_count": null,
      "outputs": []
    },
    {
      "cell_type": "code",
      "metadata": {
        "colab": {
          "base_uri": "https://localhost:8080/"
        },
        "id": "7YrJA2qXq3Sm",
        "outputId": "1d239ffb-b20d-476f-bf7c-55e4a6783812"
      },
      "source": [
        "ground_labels, global_explainability_tabular, labels, _, _, policy=stc_procedure_multiple_dataset(dataframe_list,dataframe_names_list,true_labels)"
      ],
      "execution_count": null,
      "outputs": [
        {
          "output_type": "stream",
          "name": "stdout",
          "text": [
            ""
          ]
        }
      ]
    },
    {
      "cell_type": "code",
      "metadata": {
        "id": "7eaxTnA7q3Sm"
      },
      "source": [
        "accuracy=accuracy_score(ground_labels, labels)\n",
        "f1_score_value=f1_score(y_true=ground_labels, y_pred=labels, average=\"macro\")\n",
        "precision=precision_score(ground_labels, labels, average=\"macro\")\n",
        "recall=recall_score(ground_labels, labels, average=\"macro\")"
      ],
      "execution_count": null,
      "outputs": []
    },
    {
      "cell_type": "code",
      "metadata": {
        "id": "6KVwOH4Pq3Sm"
      },
      "source": [
        "accuracy_scores_multiple.append(accuracy)\n",
        "f1_scores_multiple.append(f1_score_value)\n",
        "precision_scores_multiple.append(precision)\n",
        "recall_scores_multiple.append(recall)"
      ],
      "execution_count": null,
      "outputs": []
    },
    {
      "cell_type": "code",
      "metadata": {
        "colab": {
          "base_uri": "https://localhost:8080/"
        },
        "id": "iMs12t9pq3Sm",
        "outputId": "645a8e4e-764a-4c6c-a719-232533c31acc"
      },
      "source": [
        "print('accuracy: {}'.format(accuracy))\n",
        "print('f1 score: {}'.format(f1_score_value))\n",
        "print('precision: {}'.format(precision))\n",
        "print('recall: {}'.format(recall))"
      ],
      "execution_count": null,
      "outputs": [
        {
          "output_type": "stream",
          "name": "stdout",
          "text": [
            "accuracy: 0.46024321796071094\n",
            "f1 score: 0.36026008807553733\n",
            "precision: 0.3819140598802832\n",
            "recall: 0.44515445402298853\n"
          ]
        }
      ]
    },
    {
      "cell_type": "code",
      "metadata": {
        "colab": {
          "base_uri": "https://localhost:8080/"
        },
        "id": "znxBJq6aq3Sm",
        "outputId": "02098315-2e2a-487e-e89d-fa2f1c3d7140"
      },
      "source": [
        "policy"
      ],
      "execution_count": null,
      "outputs": [
        {
          "output_type": "execute_result",
          "data": {
            "text/plain": [
              "[['named_entity', 'dependency_tree_stat', 'dependency'],\n",
              " ['dependency_tree_stat', 'dependency'],\n",
              " ['dependency'],\n",
              " []]"
            ]
          },
          "metadata": {},
          "execution_count": 258
        }
      ]
    },
    {
      "cell_type": "code",
      "metadata": {
        "id": "gpuEIjxvq3Sn"
      },
      "source": [
        "policy_set=[]\n",
        "\n",
        "for pol in policy:\n",
        "  policy_set+=pol\n",
        "\n",
        "policy_set=list(set(policy_set))\n",
        "\n",
        "for dataframe in dataframe_names_list:\n",
        "  if dataframe not in policy_set:\n",
        "    print(dataframe)"
      ],
      "execution_count": null,
      "outputs": []
    },
    {
      "cell_type": "markdown",
      "metadata": {
        "id": "ARPufvowrscE"
      },
      "source": [
        "## **LNE  BOW**"
      ]
    },
    {
      "cell_type": "code",
      "metadata": {
        "id": "YbtzYEbprscF"
      },
      "source": [
        "dataframe_list=[named_entity,BOW]\n",
        "dataframe_names_list=['named_entity','BOW']"
      ],
      "execution_count": null,
      "outputs": []
    },
    {
      "cell_type": "code",
      "metadata": {
        "colab": {
          "base_uri": "https://localhost:8080/"
        },
        "id": "k5ln1sOzrscG",
        "outputId": "76ff8814-d185-4682-a59a-f53df101b43c"
      },
      "source": [
        "ground_labels, global_explainability_tabular, labels, _, _, policy=stc_procedure_multiple_dataset(dataframe_list,dataframe_names_list,true_labels)"
      ],
      "execution_count": null,
      "outputs": [
        {
          "output_type": "stream",
          "name": "stdout",
          "text": [
            ""
          ]
        }
      ]
    },
    {
      "cell_type": "code",
      "metadata": {
        "id": "8WRhPTjprscH"
      },
      "source": [
        "accuracy=accuracy_score(ground_labels, labels)\n",
        "f1_score_value=f1_score(y_true=ground_labels, y_pred=labels, average=\"macro\")\n",
        "precision=precision_score(ground_labels, labels, average=\"macro\")\n",
        "recall=recall_score(ground_labels, labels, average=\"macro\")"
      ],
      "execution_count": null,
      "outputs": []
    },
    {
      "cell_type": "code",
      "metadata": {
        "id": "PA88CAV9rscI"
      },
      "source": [
        "accuracy_scores_multiple.append(accuracy)\n",
        "f1_scores_multiple.append(f1_score_value)\n",
        "precision_scores_multiple.append(precision)\n",
        "recall_scores_multiple.append(recall)"
      ],
      "execution_count": null,
      "outputs": []
    },
    {
      "cell_type": "code",
      "metadata": {
        "colab": {
          "base_uri": "https://localhost:8080/"
        },
        "id": "Y885UmmSrscI",
        "outputId": "585c6ef0-880a-43e9-fddb-373110a6751e"
      },
      "source": [
        "print('accuracy: {}'.format(accuracy))\n",
        "print('f1 score: {}'.format(f1_score_value))\n",
        "print('precision: {}'.format(precision))\n",
        "print('recall: {}'.format(recall))"
      ],
      "execution_count": null,
      "outputs": [
        {
          "output_type": "stream",
          "name": "stdout",
          "text": [
            "accuracy: 0.2011225444340505\n",
            "f1 score: 0.1769137858315439\n",
            "precision: 0.3482005292994523\n",
            "recall: 0.3795366379310345\n"
          ]
        }
      ]
    },
    {
      "cell_type": "code",
      "metadata": {
        "colab": {
          "base_uri": "https://localhost:8080/"
        },
        "id": "DKYPz7purscJ",
        "outputId": "98115bce-a2ab-4ff5-81cb-967d79011740"
      },
      "source": [
        "policy"
      ],
      "execution_count": null,
      "outputs": [
        {
          "output_type": "execute_result",
          "data": {
            "text/plain": [
              "[['named_entity', 'BOW'], ['BOW'], []]"
            ]
          },
          "metadata": {},
          "execution_count": 265
        }
      ]
    },
    {
      "cell_type": "code",
      "metadata": {
        "id": "mgCyhUHXrscK"
      },
      "source": [
        "policy_set=[]\n",
        "\n",
        "for pol in policy:\n",
        "  policy_set+=pol\n",
        "\n",
        "policy_set=list(set(policy_set))\n",
        "\n",
        "for dataframe in dataframe_names_list:\n",
        "  if dataframe not in policy_set:\n",
        "    print(dataframe)"
      ],
      "execution_count": null,
      "outputs": []
    },
    {
      "cell_type": "markdown",
      "metadata": {
        "id": "Ffz67GTFsJdl"
      },
      "source": [
        "## **LNE POS**"
      ]
    },
    {
      "cell_type": "code",
      "metadata": {
        "id": "MX6zNml5sJdm"
      },
      "source": [
        "dataframe_list=[named_entity,POS,simple_POS]\n",
        "dataframe_names_list=['named_entity','POS','simple_POS']"
      ],
      "execution_count": null,
      "outputs": []
    },
    {
      "cell_type": "code",
      "metadata": {
        "colab": {
          "base_uri": "https://localhost:8080/"
        },
        "id": "02ugmuunsJdm",
        "outputId": "80010230-92c1-422f-8bef-72c5faf89e59"
      },
      "source": [
        "ground_labels, global_explainability_tabular, labels, _, _, policy=stc_procedure_multiple_dataset(dataframe_list,dataframe_names_list,true_labels)"
      ],
      "execution_count": null,
      "outputs": [
        {
          "output_type": "stream",
          "name": "stdout",
          "text": [
            ""
          ]
        }
      ]
    },
    {
      "cell_type": "code",
      "metadata": {
        "id": "Um2d8nxCsJdm"
      },
      "source": [
        "accuracy=accuracy_score(ground_labels, labels)\n",
        "f1_score_value=f1_score(y_true=ground_labels, y_pred=labels, average=\"macro\")\n",
        "precision=precision_score(ground_labels, labels, average=\"macro\")\n",
        "recall=recall_score(ground_labels, labels, average=\"macro\")"
      ],
      "execution_count": null,
      "outputs": []
    },
    {
      "cell_type": "code",
      "metadata": {
        "id": "iXERUhWpsJdm"
      },
      "source": [
        "accuracy_scores_multiple.append(accuracy)\n",
        "f1_scores_multiple.append(f1_score_value)\n",
        "precision_scores_multiple.append(precision)\n",
        "recall_scores_multiple.append(recall)"
      ],
      "execution_count": null,
      "outputs": []
    },
    {
      "cell_type": "code",
      "metadata": {
        "id": "w6iqFsBpsJdm",
        "colab": {
          "base_uri": "https://localhost:8080/"
        },
        "outputId": "e1a8f9b7-15a2-4eff-facc-86c332a445ae"
      },
      "source": [
        "print('accuracy: {}'.format(accuracy))\n",
        "print('f1 score: {}'.format(f1_score_value))\n",
        "print('precision: {}'.format(precision))\n",
        "print('recall: {}'.format(recall))"
      ],
      "execution_count": null,
      "outputs": [
        {
          "output_type": "stream",
          "name": "stdout",
          "text": [
            "accuracy: 0.4087932647333957\n",
            "f1 score: 0.3145054387131238\n",
            "precision: 0.3966997728061595\n",
            "recall: 0.43233836206896553\n"
          ]
        }
      ]
    },
    {
      "cell_type": "code",
      "metadata": {
        "id": "hWADgFsYsJdm",
        "colab": {
          "base_uri": "https://localhost:8080/"
        },
        "outputId": "9b98b52b-c07e-4d54-9559-bc6f7c2455d3"
      },
      "source": [
        "policy"
      ],
      "execution_count": null,
      "outputs": [
        {
          "output_type": "execute_result",
          "data": {
            "text/plain": [
              "[['named_entity', 'POS', 'simple_POS'],\n",
              " ['POS', 'simple_POS'],\n",
              " ['simple_POS'],\n",
              " []]"
            ]
          },
          "metadata": {},
          "execution_count": 272
        }
      ]
    },
    {
      "cell_type": "code",
      "metadata": {
        "id": "yvOvp3s2sJdn"
      },
      "source": [
        "policy_set=[]\n",
        "\n",
        "for pol in policy:\n",
        "  policy_set+=pol\n",
        "\n",
        "policy_set=list(set(policy_set))\n",
        "\n",
        "for dataframe in dataframe_names_list:\n",
        "  if dataframe not in policy_set:\n",
        "    print(dataframe)"
      ],
      "execution_count": null,
      "outputs": []
    },
    {
      "cell_type": "markdown",
      "metadata": {
        "id": "kLSBrAfUOsjk"
      },
      "source": [
        "## **POS Dependency**"
      ]
    },
    {
      "cell_type": "code",
      "metadata": {
        "id": "AAJp1qgjOsjl"
      },
      "source": [
        "dataframe_list=[dependency,POS,simple_POS]\n",
        "dataframe_names_list=['dependency','POS','simple_POS']"
      ],
      "execution_count": null,
      "outputs": []
    },
    {
      "cell_type": "code",
      "metadata": {
        "colab": {
          "base_uri": "https://localhost:8080/"
        },
        "id": "SO7VLwuhOsjl",
        "outputId": "eb9a14a9-a2d8-4a3d-ef55-b028a618df27"
      },
      "source": [
        "ground_labels, global_explainability_tabular, labels, _, _, policy=stc_procedure_multiple_dataset(dataframe_list,dataframe_names_list,true_labels)"
      ],
      "execution_count": null,
      "outputs": [
        {
          "output_type": "stream",
          "name": "stdout",
          "text": [
            ""
          ]
        }
      ]
    },
    {
      "cell_type": "code",
      "metadata": {
        "id": "jPMo0HFqOsjl"
      },
      "source": [
        "accuracy=accuracy_score(ground_labels, labels)\n",
        "f1_score_value=f1_score(y_true=ground_labels, y_pred=labels, average=\"macro\")\n",
        "precision=precision_score(ground_labels, labels, average=\"macro\")\n",
        "recall=recall_score(ground_labels, labels, average=\"macro\")"
      ],
      "execution_count": null,
      "outputs": []
    },
    {
      "cell_type": "code",
      "metadata": {
        "id": "jyNTMiO6Osjl"
      },
      "source": [
        "accuracy_scores_multiple.append(accuracy)\n",
        "f1_scores_multiple.append(f1_score_value)\n",
        "precision_scores_multiple.append(precision)\n",
        "recall_scores_multiple.append(recall)"
      ],
      "execution_count": null,
      "outputs": []
    },
    {
      "cell_type": "code",
      "metadata": {
        "colab": {
          "base_uri": "https://localhost:8080/"
        },
        "id": "kPmRqpRbOsjm",
        "outputId": "00c88249-66fe-4bac-9963-056f711b7cf9"
      },
      "source": [
        "print('accuracy: {}'.format(accuracy))\n",
        "print('f1 score: {}'.format(f1_score_value))\n",
        "print('precision: {}'.format(precision))\n",
        "print('recall: {}'.format(recall))"
      ],
      "execution_count": null,
      "outputs": [
        {
          "output_type": "stream",
          "name": "stdout",
          "text": [
            "accuracy: 0.4237605238540692\n",
            "f1 score: 0.32318839052356463\n",
            "precision: 0.3997635664338821\n",
            "recall: 0.43376077586206896\n"
          ]
        }
      ]
    },
    {
      "cell_type": "code",
      "metadata": {
        "colab": {
          "base_uri": "https://localhost:8080/"
        },
        "id": "Pb_4YRb9Osjm",
        "outputId": "6c95113c-7984-475d-aee5-e90e6bd60c28"
      },
      "source": [
        "policy"
      ],
      "execution_count": null,
      "outputs": [
        {
          "output_type": "execute_result",
          "data": {
            "text/plain": [
              "[['POS', 'dependency', 'simple_POS'],\n",
              " ['dependency', 'simple_POS'],\n",
              " ['simple_POS'],\n",
              " []]"
            ]
          },
          "metadata": {},
          "execution_count": 279
        }
      ]
    },
    {
      "cell_type": "code",
      "metadata": {
        "id": "NJFeredMOsjm"
      },
      "source": [
        "policy_set=[]\n",
        "\n",
        "for pol in policy:\n",
        "  policy_set+=pol\n",
        "\n",
        "policy_set=list(set(policy_set))\n",
        "\n",
        "for dataframe in dataframe_names_list:\n",
        "  if dataframe not in policy_set:\n",
        "    print(dataframe)"
      ],
      "execution_count": null,
      "outputs": []
    },
    {
      "cell_type": "markdown",
      "metadata": {
        "id": "A9pwkRNN55Ok"
      },
      "source": [
        "# **Graph**"
      ]
    },
    {
      "cell_type": "code",
      "metadata": {
        "id": "a2UHRzwaK6x0"
      },
      "source": [
        "score={}\n",
        "microtext_score={}\n",
        "\n",
        "score[\"Accuracy\"]=accuracy_scores\n",
        "score[\"F1 score\"]=f1_scores\n",
        "score[\"Precision\"]=precision_scores\n",
        "score[\"Recall\"]=recall_scores\n",
        "\n",
        "microtext_score[\"Accuracy\"]=microtext_accuracy_scores\n",
        "microtext_score[\"F1 score\"]=microtext_f1_scores\n",
        "microtext_score[\"Precision\"]=microtext_precision_scores\n",
        "microtext_score[\"Recall\"]=microtext_recall_scores"
      ],
      "execution_count": null,
      "outputs": []
    },
    {
      "cell_type": "code",
      "metadata": {
        "id": "AjsNIQy4KZvP"
      },
      "source": [
        "plt.rcParams.update({'font.size': 18})"
      ],
      "execution_count": null,
      "outputs": []
    },
    {
      "cell_type": "code",
      "metadata": {
        "id": "rgNA9Ln9Ivub",
        "colab": {
          "base_uri": "https://localhost:8080/",
          "height": 1000
        },
        "outputId": "bef66d55-8b24-41a6-fb3d-f3ab114bab05"
      },
      "source": [
        "# Draw the plots of the performance for the various dataset.\n",
        "\n",
        "# Width of the bars for the graphs to draw.\n",
        "barWidth = 0.35\n",
        "\n",
        "# Plot the bar graphs.\n",
        "fig, axes = plt.subplots(nrows=4, ncols=1, figsize=(20, 30))\n",
        "fig.tight_layout(pad=9.0)\n",
        "data_names=[\"Stat.\",\"POS\",\"S-POS\", \"POS-B\",\"S-POS-B\",\"Dep.\", \"Dep. stat.\",\"LNE\",\"BOW\",\"Bigram\",\"N-gram\",\"Subj.\"]\n",
        "rows=[\"Accuracy\",\"F1 score\",\"Precision\",\"Recall\"]\n",
        "\n",
        "for row,axis in zip(rows,axes.flatten()):\n",
        "    axis.set_title(row)\n",
        "\n",
        "    # Location of labels on the x axis.\n",
        "    x_labels = np.arange(len(data_names))\n",
        "\n",
        "    # Create the bars.\n",
        "    axis.bar(x_labels, score[row], width = barWidth, color = 'blue', edgecolor = 'black', capsize=6)\n",
        "\n",
        "    # Lable the axis.\n",
        "    axis.set_xlabel(\"\\nTipologie di dati\")\n",
        "    axis.set_xticks(x_labels)\n",
        "    axis.set_xticklabels(data_names)\n",
        "    axis.set_ylabel(row)\n",
        "\n",
        "plt.show()  "
      ],
      "execution_count": null,
      "outputs": [
        {
          "output_type": "display_data",
          "data": {
            "image/png": "[encoded data removed]",
            "text/plain": [
              "<Figure size 1440x2160 with 4 Axes>"
            ]
          },
          "metadata": {
            "needs_background": "light"
          }
        }
      ]
    },
    {
      "cell_type": "code",
      "metadata": {
        "id": "SDHUN8OmNcmr",
        "colab": {
          "base_uri": "https://localhost:8080/",
          "height": 1000
        },
        "outputId": "9836977d-9fe4-427a-eccf-de5da35ccc22"
      },
      "source": [
        "# Plot the bar graphs.\n",
        "fig, axes = plt.subplots(nrows=4, ncols=1, figsize=(20, 30))\n",
        "fig.tight_layout(pad=9.0)\n",
        "data_names=[\"Stat.\",\"POS\",\"S-POS\", \"POS-B\",\"S-POS-B\",\"Dep.\", \"Dep. stat.\",\"LNE\",\"BOW\",\"Bigram\",\"N-gram\",\"Subj.\"]\n",
        "\n",
        "for row,axis in zip(rows,axes.flatten()):\n",
        "    axis.set_title(row)\n",
        "\n",
        "    # Location of labels on the x axis.\n",
        "    x_labels = np.arange(len(data_names))\n",
        "\n",
        "    # Create the bars.\n",
        "    axis.bar(x_labels, microtext_score[row], width = barWidth, color = 'blue', edgecolor = 'black', capsize=6)\n",
        "\n",
        "    # Lable the axis.\n",
        "    axis.set_xlabel(\"\\nTipologie di dati\")\n",
        "    axis.set_xticks(x_labels)\n",
        "    axis.set_xticklabels(data_names)\n",
        "    axis.set_ylabel(row)\n",
        "\n",
        "plt.show()  "
      ],
      "execution_count": null,
      "outputs": [
        {
          "output_type": "display_data",
          "data": {
            "image/png": "[encoded data removed]",
            "text/plain": [
              "<Figure size 1440x2160 with 4 Axes>"
            ]
          },
          "metadata": {
            "needs_background": "light"
          }
        }
      ]
    }
  ]
}