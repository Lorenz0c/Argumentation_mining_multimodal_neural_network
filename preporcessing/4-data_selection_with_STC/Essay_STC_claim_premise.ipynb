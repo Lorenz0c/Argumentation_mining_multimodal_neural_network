{
  "nbformat": 4,
  "nbformat_minor": 0,
  "metadata": {
    "colab": {
      "name": "Essay_STC_claim_premise.ipynb",
      "provenance": [],
      "collapsed_sections": [
        "CvVUmDHRFj0B"
      ]
    },
    "kernelspec": {
      "display_name": "Python 3",
      "name": "python3"
    },
    "language_info": {
      "name": "python"
    }
  },
  "cells": [
    {
      "cell_type": "code",
      "metadata": {
        "colab": {
          "base_uri": "https://localhost:8080/"
        },
        "id": "ZNbhBNubw7MK",
        "outputId": "6b4b2c99-fba8-4819-dcd2-c76ccc1f3bf3"
      },
      "source": [
        "pip install stc"
      ],
      "execution_count": null,
      "outputs": [
        {
          "output_type": "stream",
          "name": "stdout",
          "text": [
            "Collecting stc\n",
            "  Downloading stc-0.3.1-py3-none-any.whl (33 kB)\n",
            "Requirement already satisfied: sqlalchemy in /usr/local/lib/python3.7/dist-packages (from stc) (1.4.26)\n",
            "Requirement already satisfied: pandas in /usr/local/lib/python3.7/dist-packages (from stc) (1.1.5)\n",
            "Requirement already satisfied: numpy in /usr/local/lib/python3.7/dist-packages (from stc) (1.19.5)\n",
            "Requirement already satisfied: pytz>=2017.2 in /usr/local/lib/python3.7/dist-packages (from pandas->stc) (2018.9)\n",
            "Requirement already satisfied: python-dateutil>=2.7.3 in /usr/local/lib/python3.7/dist-packages (from pandas->stc) (2.8.2)\n",
            "Requirement already satisfied: six>=1.5 in /usr/local/lib/python3.7/dist-packages (from python-dateutil>=2.7.3->pandas->stc) (1.15.0)\n",
            "Requirement already satisfied: greenlet!=0.4.17 in /usr/local/lib/python3.7/dist-packages (from sqlalchemy->stc) (1.1.2)\n",
            "Requirement already satisfied: importlib-metadata in /usr/local/lib/python3.7/dist-packages (from sqlalchemy->stc) (4.8.2)\n",
            "Requirement already satisfied: zipp>=0.5 in /usr/local/lib/python3.7/dist-packages (from importlib-metadata->sqlalchemy->stc) (3.6.0)\n",
            "Requirement already satisfied: typing-extensions>=3.6.4 in /usr/local/lib/python3.7/dist-packages (from importlib-metadata->sqlalchemy->stc) (3.10.0.2)\n",
            "Installing collected packages: stc\n",
            "Successfully installed stc-0.3.1\n"
          ]
        }
      ]
    },
    {
      "cell_type": "code",
      "metadata": {
        "id": "xEMbAmz7w8NG"
      },
      "source": [
        "import pandas as pd\n",
        "import numpy as np\n",
        "from matplotlib import pyplot as plt\n",
        "import math\n",
        "\n",
        "from stc import SparseTensorClassifier\n",
        "\n",
        "from google.colab import files\n",
        "\n",
        "from sklearn.model_selection import train_test_split\n",
        "from sklearn.metrics import accuracy_score\n",
        "from sklearn.metrics import f1_score, recall_score, precision_score"
      ],
      "execution_count": null,
      "outputs": []
    },
    {
      "cell_type": "markdown",
      "metadata": {
        "id": "dcdqUOQvtBwR"
      },
      "source": [
        "# **Import datasets**"
      ]
    },
    {
      "cell_type": "code",
      "metadata": {
        "colab": {
          "resources": {
            "http://localhost:8080/nbextensions/google.colab/files.js": {
              "data": "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",
              "ok": true,
              "headers": [
                [
                  "content-type",
                  "application/javascript"
                ]
              ],
              "status": 200,
              "status_text": ""
            }
          },
          "base_uri": "https://localhost:8080/",
          "height": 1000
        },
        "id": "-pYf91N8sjKm",
        "outputId": "d5cc0844-1d85-4410-fb17-242f43c93e75"
      },
      "source": [
        "# Import the datasets previously produced containing BOW or other information\n",
        "# about the data to elaborate.\n",
        "# Each dataset containg a particular category of data retrived.\n",
        "\n",
        "# Import list of the sentences in the test set.\n",
        "print('\\nImport test_set_sentence_only_claim_or_only_premise.csv\\n')\n",
        "upload = files.upload()\n",
        "\n",
        "# Import the labels of the sentences to classify.\n",
        "print('\\nImport claim_premise_labels.csv\\n')\n",
        "upload = files.upload()\n",
        "\n",
        "# Import the statistics and positions information of the sentences to classify.\n",
        "print('\\nImport claim_premise_statistic.csv\\n')\n",
        "upload = files.upload()\n",
        "\n",
        "# Import the BOW of the POS of the sentences to classify.\n",
        "print('\\nImport claim_premise_POS.csv\\n')\n",
        "upload = files.upload()\n",
        "\n",
        "# Import the BOW of the simplyfied POS of the sentences to classify.\n",
        "print('\\nImport claim_premise_simple_POS.csv\\n')\n",
        "upload = files.upload()\n",
        "\n",
        "# Import the BOW for the bigrams of the POS of the sentences to classify.\n",
        "print('\\nImport claim_premise_bigram_POS.csv\\n')\n",
        "upload = files.upload()\n",
        "\n",
        "# Import the BOW for the bigrams of the simplyfied POS of the sentences to classify.\n",
        "print('\\nImport claim_premise_bigram_simple_POS.csv\\n')\n",
        "upload = files.upload()\n",
        "\n",
        "# Import the BOW of the dependency tag of the sentences to classify.\n",
        "print('\\nImport claim_premise_dependency.csv\\n')\n",
        "upload = files.upload()\n",
        "\n",
        "# Import the statistic relative to the tree of the dependency tag of the sentences to classify.\n",
        "print('\\nImport claim_premise_dependency_tree_stat.csv\\n')\n",
        "upload = files.upload()\n",
        "\n",
        "# Import the BOW of the labeled named entity of the sentences to classify.\n",
        "print('\\nImport claim_premise_named_entity_BOW.csv\\n')\n",
        "upload = files.upload()\n",
        "\n",
        "# Import the BOW of the sentences to classify.\n",
        "print('\\nImport claim_premise_BOW.csv\\n')\n",
        "upload = files.upload()\n",
        "\n",
        "# Import the BOW for the bigrams of the sentences to classify.\n",
        "print('\\nImport claim_premise_Bigram.csv\\n')\n",
        "upload = files.upload()\n",
        "\n",
        "# Import the BOW for secific n-grams of the sentences to classify.\n",
        "print('\\nImport claim_premise_BOW_appendix_words.csv\\n')\n",
        "upload = files.upload()\n",
        "\n",
        "# Import the remaining statistics of the sentences to classify.\n",
        "print('\\nImport claim_premise_remaining_stat.csv\\n')\n",
        "upload = files.upload()"
      ],
      "execution_count": null,
      "outputs": [
        {
          "output_type": "stream",
          "name": "stdout",
          "text": [
            "\n",
            "Import test_set_sentence_only_claim_or_only_premise.csv\n",
            "\n"
          ]
        },
        {
          "output_type": "display_data",
          "data": {
            "text/html": [
              "\n",
              "     <input type=\"file\" id=\"files-e4e8dfe7-f690-4faf-aef1-60567cecf3be\" name=\"files[]\" multiple disabled\n",
              "        style=\"border:none\" />\n",
              "     <output id=\"result-e4e8dfe7-f690-4faf-aef1-60567cecf3be\">\n",
              "      Upload widget is only available when the cell has been executed in the\n",
              "      current browser session. Please rerun this cell to enable.\n",
              "      </output>\n",
              "      <script src=\"/nbextensions/google.colab/files.js\"></script> "
            ],
            "text/plain": [
              "<IPython.core.display.HTML object>"
            ]
          },
          "metadata": {}
        },
        {
          "output_type": "stream",
          "name": "stdout",
          "text": [
            "\n",
            "Import claim_premise_labels.csv\n",
            "\n"
          ]
        },
        {
          "output_type": "display_data",
          "data": {
            "text/html": [
              "\n",
              "     <input type=\"file\" id=\"files-11b5c93b-8cd6-4552-a12f-6b3c7e8a8a18\" name=\"files[]\" multiple disabled\n",
              "        style=\"border:none\" />\n",
              "     <output id=\"result-11b5c93b-8cd6-4552-a12f-6b3c7e8a8a18\">\n",
              "      Upload widget is only available when the cell has been executed in the\n",
              "      current browser session. Please rerun this cell to enable.\n",
              "      </output>\n",
              "      <script src=\"/nbextensions/google.colab/files.js\"></script> "
            ],
            "text/plain": [
              "<IPython.core.display.HTML object>"
            ]
          },
          "metadata": {}
        },
        {
          "output_type": "stream",
          "name": "stdout",
          "text": [
            "\n",
            "Import claim_premise_statistic.csv\n",
            "\n"
          ]
        },
        {
          "output_type": "display_data",
          "data": {
            "text/html": [
              "\n",
              "     <input type=\"file\" id=\"files-d3d6aa6f-b259-4c9b-82c0-4ecf90080312\" name=\"files[]\" multiple disabled\n",
              "        style=\"border:none\" />\n",
              "     <output id=\"result-d3d6aa6f-b259-4c9b-82c0-4ecf90080312\">\n",
              "      Upload widget is only available when the cell has been executed in the\n",
              "      current browser session. Please rerun this cell to enable.\n",
              "      </output>\n",
              "      <script src=\"/nbextensions/google.colab/files.js\"></script> "
            ],
            "text/plain": [
              "<IPython.core.display.HTML object>"
            ]
          },
          "metadata": {}
        },
        {
          "output_type": "stream",
          "name": "stdout",
          "text": [
            "\n",
            "Import claim_premise_POS.csv\n",
            "\n"
          ]
        },
        {
          "output_type": "display_data",
          "data": {
            "text/html": [
              "\n",
              "     <input type=\"file\" id=\"files-735edc9e-b7c1-4478-8816-6e95d6f9fd05\" name=\"files[]\" multiple disabled\n",
              "        style=\"border:none\" />\n",
              "     <output id=\"result-735edc9e-b7c1-4478-8816-6e95d6f9fd05\">\n",
              "      Upload widget is only available when the cell has been executed in the\n",
              "      current browser session. Please rerun this cell to enable.\n",
              "      </output>\n",
              "      <script src=\"/nbextensions/google.colab/files.js\"></script> "
            ],
            "text/plain": [
              "<IPython.core.display.HTML object>"
            ]
          },
          "metadata": {}
        },
        {
          "output_type": "stream",
          "name": "stdout",
          "text": [
            "\n",
            "Import claim_premise_simple_POS.csv\n",
            "\n"
          ]
        },
        {
          "output_type": "display_data",
          "data": {
            "text/html": [
              "\n",
              "     <input type=\"file\" id=\"files-1439aba2-0bdf-4fe5-b4b3-41bcb960c13c\" name=\"files[]\" multiple disabled\n",
              "        style=\"border:none\" />\n",
              "     <output id=\"result-1439aba2-0bdf-4fe5-b4b3-41bcb960c13c\">\n",
              "      Upload widget is only available when the cell has been executed in the\n",
              "      current browser session. Please rerun this cell to enable.\n",
              "      </output>\n",
              "      <script src=\"/nbextensions/google.colab/files.js\"></script> "
            ],
            "text/plain": [
              "<IPython.core.display.HTML object>"
            ]
          },
          "metadata": {}
        },
        {
          "output_type": "stream",
          "name": "stdout",
          "text": [
            "\n",
            "Import claim_premise_bigram_POS.csv\n",
            "\n"
          ]
        },
        {
          "output_type": "display_data",
          "data": {
            "text/html": [
              "\n",
              "     <input type=\"file\" id=\"files-813b8d54-3305-462f-9f3e-856adf77340d\" name=\"files[]\" multiple disabled\n",
              "        style=\"border:none\" />\n",
              "     <output id=\"result-813b8d54-3305-462f-9f3e-856adf77340d\">\n",
              "      Upload widget is only available when the cell has been executed in the\n",
              "      current browser session. Please rerun this cell to enable.\n",
              "      </output>\n",
              "      <script src=\"/nbextensions/google.colab/files.js\"></script> "
            ],
            "text/plain": [
              "<IPython.core.display.HTML object>"
            ]
          },
          "metadata": {}
        },
        {
          "output_type": "stream",
          "name": "stdout",
          "text": [
            "\n",
            "Import claim_premise_bigram_simple_POS.csv\n",
            "\n"
          ]
        },
        {
          "output_type": "display_data",
          "data": {
            "text/html": [
              "\n",
              "     <input type=\"file\" id=\"files-57cd2bdb-cfc1-4f37-bbb1-9d7d89868a8c\" name=\"files[]\" multiple disabled\n",
              "        style=\"border:none\" />\n",
              "     <output id=\"result-57cd2bdb-cfc1-4f37-bbb1-9d7d89868a8c\">\n",
              "      Upload widget is only available when the cell has been executed in the\n",
              "      current browser session. Please rerun this cell to enable.\n",
              "      </output>\n",
              "      <script src=\"/nbextensions/google.colab/files.js\"></script> "
            ],
            "text/plain": [
              "<IPython.core.display.HTML object>"
            ]
          },
          "metadata": {}
        },
        {
          "output_type": "stream",
          "name": "stdout",
          "text": [
            "\n",
            "Import claim_premise_dependency.csv\n",
            "\n"
          ]
        },
        {
          "output_type": "display_data",
          "data": {
            "text/html": [
              "\n",
              "     <input type=\"file\" id=\"files-4916a635-ad2f-4b7c-a28e-0a22ff46cc0f\" name=\"files[]\" multiple disabled\n",
              "        style=\"border:none\" />\n",
              "     <output id=\"result-4916a635-ad2f-4b7c-a28e-0a22ff46cc0f\">\n",
              "      Upload widget is only available when the cell has been executed in the\n",
              "      current browser session. Please rerun this cell to enable.\n",
              "      </output>\n",
              "      <script src=\"/nbextensions/google.colab/files.js\"></script> "
            ],
            "text/plain": [
              "<IPython.core.display.HTML object>"
            ]
          },
          "metadata": {}
        },
        {
          "output_type": "stream",
          "name": "stdout",
          "text": [
            "\n",
            "Import claim_premise_dependency_tree_stat.csv\n",
            "\n"
          ]
        },
        {
          "output_type": "display_data",
          "data": {
            "text/html": [
              "\n",
              "     <input type=\"file\" id=\"files-cbae23a9-4626-4081-94ea-fb2d5c2f1724\" name=\"files[]\" multiple disabled\n",
              "        style=\"border:none\" />\n",
              "     <output id=\"result-cbae23a9-4626-4081-94ea-fb2d5c2f1724\">\n",
              "      Upload widget is only available when the cell has been executed in the\n",
              "      current browser session. Please rerun this cell to enable.\n",
              "      </output>\n",
              "      <script src=\"/nbextensions/google.colab/files.js\"></script> "
            ],
            "text/plain": [
              "<IPython.core.display.HTML object>"
            ]
          },
          "metadata": {}
        },
        {
          "output_type": "stream",
          "name": "stdout",
          "text": [
            "\n",
            "Import claim_premise_named_entity_BOW.csv\n",
            "\n"
          ]
        },
        {
          "output_type": "display_data",
          "data": {
            "text/html": [
              "\n",
              "     <input type=\"file\" id=\"files-8bad7dde-f9a7-4833-b7d5-46ab0024179a\" name=\"files[]\" multiple disabled\n",
              "        style=\"border:none\" />\n",
              "     <output id=\"result-8bad7dde-f9a7-4833-b7d5-46ab0024179a\">\n",
              "      Upload widget is only available when the cell has been executed in the\n",
              "      current browser session. Please rerun this cell to enable.\n",
              "      </output>\n",
              "      <script src=\"/nbextensions/google.colab/files.js\"></script> "
            ],
            "text/plain": [
              "<IPython.core.display.HTML object>"
            ]
          },
          "metadata": {}
        },
        {
          "output_type": "stream",
          "name": "stdout",
          "text": [
            "\n",
            "Import claim_premise_BOW.csv\n",
            "\n"
          ]
        },
        {
          "output_type": "display_data",
          "data": {
            "text/html": [
              "\n",
              "     <input type=\"file\" id=\"files-ec7db4ad-17bf-4007-b1c7-293d8416307c\" name=\"files[]\" multiple disabled\n",
              "        style=\"border:none\" />\n",
              "     <output id=\"result-ec7db4ad-17bf-4007-b1c7-293d8416307c\">\n",
              "      Upload widget is only available when the cell has been executed in the\n",
              "      current browser session. Please rerun this cell to enable.\n",
              "      </output>\n",
              "      <script src=\"/nbextensions/google.colab/files.js\"></script> "
            ],
            "text/plain": [
              "<IPython.core.display.HTML object>"
            ]
          },
          "metadata": {}
        },
        {
          "output_type": "stream",
          "name": "stdout",
          "text": [
            "\n",
            "Import claim_premise_Bigram.csv\n",
            "\n"
          ]
        },
        {
          "output_type": "display_data",
          "data": {
            "text/html": [
              "\n",
              "     <input type=\"file\" id=\"files-8d428738-f7cf-4f21-a31c-508af2fbef07\" name=\"files[]\" multiple disabled\n",
              "        style=\"border:none\" />\n",
              "     <output id=\"result-8d428738-f7cf-4f21-a31c-508af2fbef07\">\n",
              "      Upload widget is only available when the cell has been executed in the\n",
              "      current browser session. Please rerun this cell to enable.\n",
              "      </output>\n",
              "      <script src=\"/nbextensions/google.colab/files.js\"></script> "
            ],
            "text/plain": [
              "<IPython.core.display.HTML object>"
            ]
          },
          "metadata": {}
        },
        {
          "output_type": "stream",
          "name": "stdout",
          "text": [
            "\n",
            "Import claim_premise_BOW_appendix_words.csv\n",
            "\n"
          ]
        },
        {
          "output_type": "display_data",
          "data": {
            "text/html": [
              "\n",
              "     <input type=\"file\" id=\"files-64b0b09a-db43-4fff-b845-9ac11df3ab77\" name=\"files[]\" multiple disabled\n",
              "        style=\"border:none\" />\n",
              "     <output id=\"result-64b0b09a-db43-4fff-b845-9ac11df3ab77\">\n",
              "      Upload widget is only available when the cell has been executed in the\n",
              "      current browser session. Please rerun this cell to enable.\n",
              "      </output>\n",
              "      <script src=\"/nbextensions/google.colab/files.js\"></script> "
            ],
            "text/plain": [
              "<IPython.core.display.HTML object>"
            ]
          },
          "metadata": {}
        },
        {
          "output_type": "stream",
          "name": "stdout",
          "text": [
            "\n",
            "Import claim_premise_remaining_stat.csv\n",
            "\n"
          ]
        },
        {
          "output_type": "display_data",
          "data": {
            "text/html": [
              "\n",
              "     <input type=\"file\" id=\"files-84e60fa1-7b5d-4f12-bdde-edee5da9250e\" name=\"files[]\" multiple disabled\n",
              "        style=\"border:none\" />\n",
              "     <output id=\"result-84e60fa1-7b5d-4f12-bdde-edee5da9250e\">\n",
              "      Upload widget is only available when the cell has been executed in the\n",
              "      current browser session. Please rerun this cell to enable.\n",
              "      </output>\n",
              "      <script src=\"/nbextensions/google.colab/files.js\"></script> "
            ],
            "text/plain": [
              "<IPython.core.display.HTML object>"
            ]
          },
          "metadata": {}
        }
      ]
    },
    {
      "cell_type": "code",
      "metadata": {
        "id": "eQ3UJlJxx2v7"
      },
      "source": [
        "# Read the datasets retrieved by the Stab and Gurevych dataset.\n",
        "\n",
        "test_set=pd.read_csv(\"test_set_sentence_only_claim_or_only_premise.csv\")\n",
        "\n",
        "true_labels=pd.read_csv('claim_premise_labels.csv')\n",
        "\n",
        "statistic=pd.read_csv('claim_premise_statistic.csv')\n",
        "\n",
        "POS=pd.read_csv('claim_premise_POS.csv')\n",
        "\n",
        "simple_POS=pd.read_csv('claim_premise_simple_POS.csv')\n",
        "\n",
        "bigram_POS=pd.read_csv('claim_premise_bigram_POS.csv')\n",
        "\n",
        "bigram_simple_POS=pd.read_csv('claim_premise_bigram_simple_POS.csv')\n",
        "\n",
        "dependency=pd.read_csv('claim_premise_dependency.csv')\n",
        "\n",
        "dependency_tree_stat=pd.read_csv('claim_premise_dependency_tree_stat.csv')\n",
        "\n",
        "named_entity=pd.read_csv('claim_premise_named_entity_BOW.csv')\n",
        "\n",
        "BOW=pd.read_csv('claim_premise_BOW.csv')\n",
        "\n",
        "Bigram=pd.read_csv('claim_premise_Bigram.csv')\n",
        "\n",
        "imported_ngram=pd.read_csv('claim_premise_BOW_appendix_words.csv')\n",
        "\n",
        "others=pd.read_csv('claim_premise_remaining_stat.csv')"
      ],
      "execution_count": null,
      "outputs": []
    },
    {
      "cell_type": "code",
      "metadata": {
        "id": "MmqVmL-j5fPh"
      },
      "source": [
        "# Rename the true_lable dataset column.\n",
        "true_labels=true_labels.rename(columns={'0': 'argumentative'})\n",
        "true_labels=true_labels.astype({'argumentative':'str'})"
      ],
      "execution_count": null,
      "outputs": []
    },
    {
      "cell_type": "code",
      "metadata": {
        "id": "ZoYS9wEYBjgR"
      },
      "source": [
        "# Remove data types that are not categorical.\n",
        "statistic=statistic.drop(columns=['sentence length / media sentence length in essay'])\n",
        "others=others.drop(columns=['type token ratio'])\n",
        "statistic=statistic.round(0)\n",
        "others=others.round(0)"
      ],
      "execution_count": null,
      "outputs": []
    },
    {
      "cell_type": "code",
      "metadata": {
        "colab": {
          "base_uri": "https://localhost:8080/"
        },
        "id": "gAwUOOC61P8h",
        "outputId": "784b862e-4758-4fed-e1dd-c6f4cfdf790d"
      },
      "source": [
        "true_labels.shape[0]"
      ],
      "execution_count": null,
      "outputs": [
        {
          "output_type": "execute_result",
          "data": {
            "text/plain": [
              "5352"
            ]
          },
          "metadata": {},
          "execution_count": 7
        }
      ]
    },
    {
      "cell_type": "code",
      "metadata": {
        "colab": {
          "base_uri": "https://localhost:8080/",
          "height": 35
        },
        "id": "KqFRIr0k2Swm",
        "outputId": "30fd21bd-146e-44c8-da61-67584d0ed83e"
      },
      "source": [
        "true_labels['argumentative'][0]"
      ],
      "execution_count": null,
      "outputs": [
        {
          "output_type": "execute_result",
          "data": {
            "application/vnd.google.colaboratory.intrinsic+json": {
              "type": "string"
            },
            "text/plain": [
              "'True'"
            ]
          },
          "metadata": {},
          "execution_count": 8
        }
      ]
    },
    {
      "cell_type": "code",
      "metadata": {
        "colab": {
          "base_uri": "https://localhost:8080/",
          "height": 203
        },
        "id": "NiHug2TLASOt",
        "outputId": "ef85ba89-dcf4-48d5-fce1-607cebea2c27"
      },
      "source": [
        "true_labels.head()"
      ],
      "execution_count": null,
      "outputs": [
        {
          "output_type": "execute_result",
          "data": {
            "text/html": [
              "<div>\n",
              "<style scoped>\n",
              "    .dataframe tbody tr th:only-of-type {\n",
              "        vertical-align: middle;\n",
              "    }\n",
              "\n",
              "    .dataframe tbody tr th {\n",
              "        vertical-align: top;\n",
              "    }\n",
              "\n",
              "    .dataframe thead th {\n",
              "        text-align: right;\n",
              "    }\n",
              "</style>\n",
              "<table border=\"1\" class=\"dataframe\">\n",
              "  <thead>\n",
              "    <tr style=\"text-align: right;\">\n",
              "      <th></th>\n",
              "      <th>argumentative</th>\n",
              "    </tr>\n",
              "  </thead>\n",
              "  <tbody>\n",
              "    <tr>\n",
              "      <th>0</th>\n",
              "      <td>True</td>\n",
              "    </tr>\n",
              "    <tr>\n",
              "      <th>1</th>\n",
              "      <td>True</td>\n",
              "    </tr>\n",
              "    <tr>\n",
              "      <th>2</th>\n",
              "      <td>False</td>\n",
              "    </tr>\n",
              "    <tr>\n",
              "      <th>3</th>\n",
              "      <td>False</td>\n",
              "    </tr>\n",
              "    <tr>\n",
              "      <th>4</th>\n",
              "      <td>False</td>\n",
              "    </tr>\n",
              "  </tbody>\n",
              "</table>\n",
              "</div>"
            ],
            "text/plain": [
              "  argumentative\n",
              "0          True\n",
              "1          True\n",
              "2         False\n",
              "3         False\n",
              "4         False"
            ]
          },
          "metadata": {},
          "execution_count": 9
        }
      ]
    },
    {
      "cell_type": "code",
      "metadata": {
        "colab": {
          "base_uri": "https://localhost:8080/",
          "height": 97
        },
        "id": "F0ohD8ub4ZNj",
        "outputId": "308dd669-b60f-47fa-8e47-60fbb5e5c41d"
      },
      "source": [
        "statistic.iloc[0:1]"
      ],
      "execution_count": null,
      "outputs": [
        {
          "output_type": "execute_result",
          "data": {
            "text/html": [
              "<div>\n",
              "<style scoped>\n",
              "    .dataframe tbody tr th:only-of-type {\n",
              "        vertical-align: middle;\n",
              "    }\n",
              "\n",
              "    .dataframe tbody tr th {\n",
              "        vertical-align: top;\n",
              "    }\n",
              "\n",
              "    .dataframe thead th {\n",
              "        text-align: right;\n",
              "    }\n",
              "</style>\n",
              "<table border=\"1\" class=\"dataframe\">\n",
              "  <thead>\n",
              "    <tr style=\"text-align: right;\">\n",
              "      <th></th>\n",
              "      <th>paragraph in essay</th>\n",
              "      <th>sentence in paragraph</th>\n",
              "      <th>sentence in essay</th>\n",
              "      <th>total sentences in paragraph</th>\n",
              "      <th>total paragraphs in document</th>\n",
              "      <th>number words in sentence</th>\n",
              "    </tr>\n",
              "  </thead>\n",
              "  <tbody>\n",
              "    <tr>\n",
              "      <th>0</th>\n",
              "      <td>0</td>\n",
              "      <td>3</td>\n",
              "      <td>3</td>\n",
              "      <td>4</td>\n",
              "      <td>4</td>\n",
              "      <td>19</td>\n",
              "    </tr>\n",
              "  </tbody>\n",
              "</table>\n",
              "</div>"
            ],
            "text/plain": [
              "   paragraph in essay  ...  number words in sentence\n",
              "0                   0  ...                        19\n",
              "\n",
              "[1 rows x 6 columns]"
            ]
          },
          "metadata": {},
          "execution_count": 10
        }
      ]
    },
    {
      "cell_type": "code",
      "metadata": {
        "colab": {
          "base_uri": "https://localhost:8080/"
        },
        "id": "CF2Sf5-143Jc",
        "outputId": "a55dc203-ceb3-453b-f256-e8aad574dca6"
      },
      "source": [
        "statistic.shape[1]"
      ],
      "execution_count": null,
      "outputs": [
        {
          "output_type": "execute_result",
          "data": {
            "text/plain": [
              "6"
            ]
          },
          "metadata": {},
          "execution_count": 11
        }
      ]
    },
    {
      "cell_type": "code",
      "metadata": {
        "colab": {
          "base_uri": "https://localhost:8080/"
        },
        "id": "C9gW6cFO48pj",
        "outputId": "5e2cf15d-6a45-4d5f-d8a6-1642f43b2b30"
      },
      "source": [
        "others.shape[0]"
      ],
      "execution_count": null,
      "outputs": [
        {
          "output_type": "execute_result",
          "data": {
            "text/plain": [
              "5352"
            ]
          },
          "metadata": {},
          "execution_count": 12
        }
      ]
    },
    {
      "cell_type": "markdown",
      "metadata": {
        "id": "CvVUmDHRFj0B"
      },
      "source": [
        "# **Remove sentence from the test set (only Stab and Gurevych dataset)**"
      ]
    },
    {
      "cell_type": "code",
      "metadata": {
        "id": "pHz1bUGNF_1q"
      },
      "source": [
        "discard_sentence=test_set['0'].tolist()"
      ],
      "execution_count": null,
      "outputs": []
    },
    {
      "cell_type": "code",
      "metadata": {
        "id": "UTQ1Q7rH62PQ"
      },
      "source": [
        "# Remove test set.\n",
        "\n",
        "true_labels=true_labels.drop(index=discard_sentence)\n",
        "\n",
        "statistic=statistic.drop(index=discard_sentence)\n",
        "\n",
        "POS=POS.drop(index=discard_sentence)\n",
        "\n",
        "simple_POS=simple_POS.drop(index=discard_sentence)\n",
        "\n",
        "bigram_POS=bigram_POS.drop(index=discard_sentence)\n",
        "\n",
        "bigram_simple_POS=bigram_simple_POS.drop(index=discard_sentence)\n",
        "\n",
        "dependency=dependency.drop(index=discard_sentence)\n",
        "\n",
        "dependency_tree_stat=dependency_tree_stat.drop(index=discard_sentence)\n",
        "\n",
        "named_entity=named_entity.drop(index=discard_sentence)\n",
        "\n",
        "BOW=BOW.drop(index=discard_sentence)\n",
        "\n",
        "Bigram=Bigram.drop(index=discard_sentence)\n",
        "\n",
        "imported_ngram=imported_ngram.drop(index=discard_sentence)\n",
        "\n",
        "others=others.drop(index=discard_sentence)"
      ],
      "execution_count": null,
      "outputs": []
    },
    {
      "cell_type": "markdown",
      "metadata": {
        "id": "YfDe-ScS4wcs"
      },
      "source": [
        "# **Learning**"
      ]
    },
    {
      "cell_type": "code",
      "metadata": {
        "id": "oW81WTmL7piE"
      },
      "source": [
        "# Divide the items in a train and a test set.\n",
        "list_index=[i for i in range(others.shape[0])]\n",
        "\n",
        "train_index,test_index=train_test_split(list_index,test_size=0.2, random_state=32)"
      ],
      "execution_count": null,
      "outputs": []
    },
    {
      "cell_type": "code",
      "metadata": {
        "id": "zuVbuDGEXnkA"
      },
      "source": [
        "# Takes a dataframe in input and returns the JSON representation.\n",
        "def from_tabular_to_JSON(dataframe:pd.DataFrame):\n",
        "\n",
        "  column=dataframe.columns\n",
        "  features=[]\n",
        "  for i in range(len(column)-1):\n",
        "    features.append('d{}'.format(i))\n",
        "\n",
        "  items = []\n",
        "  for i, (_, row) in enumerate(dataframe.iterrows()):\n",
        "    item = {}\n",
        "    for i in range(len(column)-1):\n",
        "      item['d{}'.format(i)] = [f+\"=\"+str(row[f]) for f in [column[i]]]\n",
        "    item['argumentative'] = [row['argumentative']]\n",
        "    items.append(item)\n",
        "\n",
        "  return items, features"
      ],
      "execution_count": null,
      "outputs": []
    },
    {
      "cell_type": "code",
      "metadata": {
        "id": "J4h-qD4kEFS0"
      },
      "source": [
        "# The method takes in input a dataframe containing the data from which to predict\n",
        "# the output and the output labels desired and returns, the label for the \n",
        "# test set, the probabilities of the predicted classes, and the global and local \n",
        "# explanations of which features are most usefoul in predicting the labels.\n",
        "\n",
        "def stc_procedure(dataframe_input:pd.DataFrame,label:pd.DataFrame):\n",
        "  dataframe=dataframe_input\n",
        "  dataframe['argumentative']=label['argumentative'].tolist()\n",
        "\n",
        "  items,features=from_tabular_to_JSON(dataframe)\n",
        "\n",
        "  train_items,test_items=train_test_split(items,test_size=0.2, random_state=32)\n",
        "\n",
        "  STC = SparseTensorClassifier(targets=['argumentative'], features=features, collapse=False)\n",
        "\n",
        "  STC.fit(train_items)\n",
        "\n",
        "  STC.set({\"entropy\": 1, \"balance\": 1, \"power\": 1})\n",
        "\n",
        "  policy, score = STC.learn(max_iter=1, random_state=42)\n",
        "\n",
        "  global_explainability = STC.explain()\n",
        "\n",
        "  labels, probability, explainability = STC.predict(test_items)\n",
        "\n",
        "  ground_labels=[item['argumentative'][0] for item in test_items]  \n",
        "\n",
        "  return ground_labels, global_explainability, labels, probability, explainability, policy"
      ],
      "execution_count": null,
      "outputs": []
    },
    {
      "cell_type": "code",
      "metadata": {
        "id": "coS2xQ9Icitn"
      },
      "source": [
        "# The method takes in input a dataframe containing the data from which to predict\n",
        "# the output and the output labels desired and returns, the label for the \n",
        "# test set, the probabilities of the predicted classes, and the global and local \n",
        "# explanations of which features are most usefoul in predicting the labels.\n",
        "\n",
        "def stc_procedure_tabular(dataframe:pd.DataFrame,label:pd.DataFrame):\n",
        "\n",
        "  dataframe['argumentative']=label['argumentative'].tolist()\n",
        "\n",
        "  STC = SparseTensorClassifier(targets=['argumentative'], features=dataframe.columns[:-1])\n",
        "\n",
        "  STC.fit(dataframe.iloc[train_index])\n",
        "\n",
        "  STC.set({\"entropy\": 1, \"balance\": 1, \"power\": 1})\n",
        "\n",
        "  global_explainability = STC.explain()\n",
        "\n",
        "  labels, probability, explainability = STC.predict(dataframe.iloc[test_index])\n",
        "\n",
        "  return ground_labels, global_explainability, labels, probability, explainability, policy"
      ],
      "execution_count": null,
      "outputs": []
    },
    {
      "cell_type": "code",
      "metadata": {
        "id": "SCfji8mGRqt6"
      },
      "source": [
        "accuracy_scores=[]\n",
        "f1_scores=[]\n",
        "precision_scores=[]\n",
        "recall_scores=[]"
      ],
      "execution_count": null,
      "outputs": []
    },
    {
      "cell_type": "markdown",
      "metadata": {
        "id": "oTgEhkoT7e_c"
      },
      "source": [
        "## **Statistic dataframe**"
      ]
    },
    {
      "cell_type": "code",
      "metadata": {
        "colab": {
          "base_uri": "https://localhost:8080/"
        },
        "id": "YLMfbTLz5Qi9",
        "outputId": "46229383-0383-4ed5-df64-92dfc5bae8a0"
      },
      "source": [
        "ground_labels, _, labels, _, _, policy=stc_procedure(statistic,true_labels)"
      ],
      "execution_count": null,
      "outputs": [
        {
          "output_type": "stream",
          "name": "stdout",
          "text": [
            ""
          ]
        }
      ]
    },
    {
      "cell_type": "code",
      "metadata": {
        "colab": {
          "base_uri": "https://localhost:8080/"
        },
        "id": "ygkS3-Trcrb9",
        "outputId": "c60c6018-c8b3-4c6a-f53f-e06c623505c6"
      },
      "source": [
        "_, global_explainability_tabular, _, _, _, _=stc_procedure_tabular(statistic,true_labels)"
      ],
      "execution_count": null,
      "outputs": [
        {
          "output_type": "stream",
          "name": "stdout",
          "text": [
            ""
          ]
        }
      ]
    },
    {
      "cell_type": "code",
      "metadata": {
        "id": "bMztOOuZSS8f"
      },
      "source": [
        "accuracy=accuracy_score(ground_labels, labels)\n",
        "f1_score_value=f1_score(y_true=ground_labels, y_pred=labels, pos_label=\"True\")\n",
        "precision=precision_score(ground_labels, labels, pos_label=\"True\")\n",
        "recall=recall_score(ground_labels, labels, pos_label=\"True\")"
      ],
      "execution_count": null,
      "outputs": []
    },
    {
      "cell_type": "code",
      "metadata": {
        "id": "TJ45wn3qR5aI"
      },
      "source": [
        "accuracy_scores.append(accuracy)\n",
        "f1_scores.append(f1_score_value)\n",
        "precision_scores.append(precision)\n",
        "recall_scores.append(recall)"
      ],
      "execution_count": null,
      "outputs": []
    },
    {
      "cell_type": "code",
      "metadata": {
        "colab": {
          "base_uri": "https://localhost:8080/"
        },
        "id": "VloP_aYb8Ynl",
        "outputId": "0f6247de-43af-4b6f-852f-3416e887d201"
      },
      "source": [
        "print('accuracy: {}'.format(accuracy))\n",
        "print('f1 score: {}'.format(f1_score_value))\n",
        "print('precision: {}'.format(precision))\n",
        "print('recall: {}'.format(recall))"
      ],
      "execution_count": null,
      "outputs": [
        {
          "output_type": "stream",
          "name": "stdout",
          "text": [
            "accuracy: 0.73568281938326\n",
            "f1 score: 0.6470588235294118\n",
            "precision: 0.625\n",
            "recall: 0.6707317073170732\n"
          ]
        }
      ]
    },
    {
      "cell_type": "code",
      "metadata": {
        "colab": {
          "base_uri": "https://localhost:8080/"
        },
        "id": "l87UB891WP8R",
        "outputId": "6964188b-9cfa-4976-988b-aa6b783ccc71"
      },
      "source": [
        "policy"
      ],
      "execution_count": null,
      "outputs": [
        {
          "output_type": "execute_result",
          "data": {
            "text/plain": [
              "[['d3', 'd4', 'd2', 'd5', 'd1', 'd0'],\n",
              " ['d4', 'd2', 'd5', 'd1', 'd0'],\n",
              " ['d2', 'd5', 'd1', 'd0'],\n",
              " ['d5', 'd1', 'd0'],\n",
              " ['d1', 'd0'],\n",
              " ['d0'],\n",
              " []]"
            ]
          },
          "metadata": {},
          "execution_count": 25
        }
      ]
    },
    {
      "cell_type": "code",
      "metadata": {
        "colab": {
          "base_uri": "https://localhost:8080/"
        },
        "id": "IgEWO6Q1gz2K",
        "outputId": "e5c12df4-b0bb-499d-e69b-5dcdd6499fd8"
      },
      "source": [
        "policy_set=[]\n",
        "\n",
        "for pol in policy:\n",
        "  policy_set+=pol\n",
        "\n",
        "policy_set=list(set(policy_set))\n",
        "\n",
        "column=statistic.columns\n",
        "drop_features=[]\n",
        "for i in range(len(column)-1):\n",
        "  if not 'd{}'.format(i) in policy_set:\n",
        "    drop_features.append(column[i])\n",
        "\n",
        "drop_features"
      ],
      "execution_count": null,
      "outputs": [
        {
          "output_type": "execute_result",
          "data": {
            "text/plain": [
              "[]"
            ]
          },
          "metadata": {},
          "execution_count": 26
        }
      ]
    },
    {
      "cell_type": "code",
      "metadata": {
        "colab": {
          "base_uri": "https://localhost:8080/"
        },
        "id": "-FvsZ8JvioiY",
        "outputId": "5642eb43-d70e-4c41-89b8-da21bd90eb9d"
      },
      "source": [
        "len(drop_features)"
      ],
      "execution_count": null,
      "outputs": [
        {
          "output_type": "execute_result",
          "data": {
            "text/plain": [
              "0"
            ]
          },
          "metadata": {},
          "execution_count": 27
        }
      ]
    },
    {
      "cell_type": "code",
      "metadata": {
        "id": "EQo2QmPtJGgc"
      },
      "source": [
        "# Save features to drop into a text file.\n",
        "\n",
        "f = open(\"drop_claim_premise_statistic.txt\", \"a\")\n",
        "for feature in drop_features:\n",
        "  f.write(\"{}-\".format(feature))\n",
        "f.close()"
      ],
      "execution_count": null,
      "outputs": []
    },
    {
      "cell_type": "code",
      "metadata": {
        "id": "N_ZKlpqRiHA-"
      },
      "source": [
        "if len(policy_set)>1:\n",
        "  statistic=statistic.drop(columns=drop_features)"
      ],
      "execution_count": null,
      "outputs": []
    },
    {
      "cell_type": "code",
      "metadata": {
        "colab": {
          "base_uri": "https://localhost:8080/",
          "height": 542
        },
        "id": "gGNrSoVsPOSX",
        "outputId": "44fddc25-9c27-4965-adad-996812a8f781"
      },
      "source": [
        "global_explainability_tabular.loc[\"True\"][:15]"
      ],
      "execution_count": null,
      "outputs": [
        {
          "output_type": "execute_result",
          "data": {
            "text/html": [
              "<div>\n",
              "<style scoped>\n",
              "    .dataframe tbody tr th:only-of-type {\n",
              "        vertical-align: middle;\n",
              "    }\n",
              "\n",
              "    .dataframe tbody tr th {\n",
              "        vertical-align: top;\n",
              "    }\n",
              "\n",
              "    .dataframe thead th {\n",
              "        text-align: right;\n",
              "    }\n",
              "</style>\n",
              "<table border=\"1\" class=\"dataframe\">\n",
              "  <thead>\n",
              "    <tr style=\"text-align: right;\">\n",
              "      <th></th>\n",
              "      <th>features</th>\n",
              "      <th>score</th>\n",
              "    </tr>\n",
              "    <tr>\n",
              "      <th>argumentative</th>\n",
              "      <th></th>\n",
              "      <th></th>\n",
              "    </tr>\n",
              "  </thead>\n",
              "  <tbody>\n",
              "    <tr>\n",
              "      <th>True</th>\n",
              "      <td>paragraph in essay: 0</td>\n",
              "      <td>0.031464</td>\n",
              "    </tr>\n",
              "    <tr>\n",
              "      <th>True</th>\n",
              "      <td>sentence in paragraph: 0</td>\n",
              "      <td>0.028547</td>\n",
              "    </tr>\n",
              "    <tr>\n",
              "      <th>True</th>\n",
              "      <td>total sentences in paragraph: 2</td>\n",
              "      <td>0.020715</td>\n",
              "    </tr>\n",
              "    <tr>\n",
              "      <th>True</th>\n",
              "      <td>paragraph in essay: 4</td>\n",
              "      <td>0.013687</td>\n",
              "    </tr>\n",
              "    <tr>\n",
              "      <th>True</th>\n",
              "      <td>total sentences in paragraph: 1</td>\n",
              "      <td>0.011654</td>\n",
              "    </tr>\n",
              "    <tr>\n",
              "      <th>True</th>\n",
              "      <td>sentence in essay: 1</td>\n",
              "      <td>0.007211</td>\n",
              "    </tr>\n",
              "    <tr>\n",
              "      <th>True</th>\n",
              "      <td>sentence in essay: 2</td>\n",
              "      <td>0.007209</td>\n",
              "    </tr>\n",
              "    <tr>\n",
              "      <th>True</th>\n",
              "      <td>paragraph in essay: 1</td>\n",
              "      <td>0.003251</td>\n",
              "    </tr>\n",
              "    <tr>\n",
              "      <th>True</th>\n",
              "      <td>sentence in essay: 0</td>\n",
              "      <td>0.003008</td>\n",
              "    </tr>\n",
              "    <tr>\n",
              "      <th>True</th>\n",
              "      <td>total sentences in paragraph: 3</td>\n",
              "      <td>0.002646</td>\n",
              "    </tr>\n",
              "    <tr>\n",
              "      <th>True</th>\n",
              "      <td>paragraph in essay: 2</td>\n",
              "      <td>0.002319</td>\n",
              "    </tr>\n",
              "    <tr>\n",
              "      <th>True</th>\n",
              "      <td>sentence in essay: 3</td>\n",
              "      <td>0.001455</td>\n",
              "    </tr>\n",
              "    <tr>\n",
              "      <th>True</th>\n",
              "      <td>total sentences in paragraph: 6</td>\n",
              "      <td>0.001453</td>\n",
              "    </tr>\n",
              "    <tr>\n",
              "      <th>True</th>\n",
              "      <td>sentence in paragraph: 2</td>\n",
              "      <td>0.001410</td>\n",
              "    </tr>\n",
              "    <tr>\n",
              "      <th>True</th>\n",
              "      <td>paragraph in essay: 5</td>\n",
              "      <td>0.001288</td>\n",
              "    </tr>\n",
              "  </tbody>\n",
              "</table>\n",
              "</div>"
            ],
            "text/plain": [
              "                                      features     score\n",
              "argumentative                                           \n",
              "True                     paragraph in essay: 0  0.031464\n",
              "True                  sentence in paragraph: 0  0.028547\n",
              "True           total sentences in paragraph: 2  0.020715\n",
              "True                     paragraph in essay: 4  0.013687\n",
              "True           total sentences in paragraph: 1  0.011654\n",
              "True                      sentence in essay: 1  0.007211\n",
              "True                      sentence in essay: 2  0.007209\n",
              "True                     paragraph in essay: 1  0.003251\n",
              "True                      sentence in essay: 0  0.003008\n",
              "True           total sentences in paragraph: 3  0.002646\n",
              "True                     paragraph in essay: 2  0.002319\n",
              "True                      sentence in essay: 3  0.001455\n",
              "True           total sentences in paragraph: 6  0.001453\n",
              "True                  sentence in paragraph: 2  0.001410\n",
              "True                     paragraph in essay: 5  0.001288"
            ]
          },
          "metadata": {},
          "execution_count": 30
        }
      ]
    },
    {
      "cell_type": "code",
      "metadata": {
        "colab": {
          "base_uri": "https://localhost:8080/",
          "height": 388
        },
        "id": "f14npURSPfXA",
        "outputId": "a4a1b83c-79e2-4e5b-c125-7c7733a8da8c"
      },
      "source": [
        "global_explainability_tabular.loc[\"False\"][:10]"
      ],
      "execution_count": null,
      "outputs": [
        {
          "output_type": "execute_result",
          "data": {
            "text/html": [
              "<div>\n",
              "<style scoped>\n",
              "    .dataframe tbody tr th:only-of-type {\n",
              "        vertical-align: middle;\n",
              "    }\n",
              "\n",
              "    .dataframe tbody tr th {\n",
              "        vertical-align: top;\n",
              "    }\n",
              "\n",
              "    .dataframe thead th {\n",
              "        text-align: right;\n",
              "    }\n",
              "</style>\n",
              "<table border=\"1\" class=\"dataframe\">\n",
              "  <thead>\n",
              "    <tr style=\"text-align: right;\">\n",
              "      <th></th>\n",
              "      <th>features</th>\n",
              "      <th>score</th>\n",
              "    </tr>\n",
              "    <tr>\n",
              "      <th>argumentative</th>\n",
              "      <th></th>\n",
              "      <th></th>\n",
              "    </tr>\n",
              "  </thead>\n",
              "  <tbody>\n",
              "    <tr>\n",
              "      <th>False</th>\n",
              "      <td>paragraph in essay: 1</td>\n",
              "      <td>0.007100</td>\n",
              "    </tr>\n",
              "    <tr>\n",
              "      <th>False</th>\n",
              "      <td>sentence in paragraph: 0</td>\n",
              "      <td>0.005758</td>\n",
              "    </tr>\n",
              "    <tr>\n",
              "      <th>False</th>\n",
              "      <td>paragraph in essay: 2</td>\n",
              "      <td>0.004362</td>\n",
              "    </tr>\n",
              "    <tr>\n",
              "      <th>False</th>\n",
              "      <td>total sentences in paragraph: 7</td>\n",
              "      <td>0.003363</td>\n",
              "    </tr>\n",
              "    <tr>\n",
              "      <th>False</th>\n",
              "      <td>total sentences in paragraph: 6</td>\n",
              "      <td>0.003308</td>\n",
              "    </tr>\n",
              "    <tr>\n",
              "      <th>False</th>\n",
              "      <td>total sentences in paragraph: 8</td>\n",
              "      <td>0.002594</td>\n",
              "    </tr>\n",
              "    <tr>\n",
              "      <th>False</th>\n",
              "      <td>sentence in paragraph: 2</td>\n",
              "      <td>0.002545</td>\n",
              "    </tr>\n",
              "    <tr>\n",
              "      <th>False</th>\n",
              "      <td>total sentences in paragraph: 5</td>\n",
              "      <td>0.002027</td>\n",
              "    </tr>\n",
              "    <tr>\n",
              "      <th>False</th>\n",
              "      <td>sentence in paragraph: 4</td>\n",
              "      <td>0.001877</td>\n",
              "    </tr>\n",
              "    <tr>\n",
              "      <th>False</th>\n",
              "      <td>sentence in paragraph: 3</td>\n",
              "      <td>0.001874</td>\n",
              "    </tr>\n",
              "  </tbody>\n",
              "</table>\n",
              "</div>"
            ],
            "text/plain": [
              "                                      features     score\n",
              "argumentative                                           \n",
              "False                    paragraph in essay: 1  0.007100\n",
              "False                 sentence in paragraph: 0  0.005758\n",
              "False                    paragraph in essay: 2  0.004362\n",
              "False          total sentences in paragraph: 7  0.003363\n",
              "False          total sentences in paragraph: 6  0.003308\n",
              "False          total sentences in paragraph: 8  0.002594\n",
              "False                 sentence in paragraph: 2  0.002545\n",
              "False          total sentences in paragraph: 5  0.002027\n",
              "False                 sentence in paragraph: 4  0.001877\n",
              "False                 sentence in paragraph: 3  0.001874"
            ]
          },
          "metadata": {},
          "execution_count": 31
        }
      ]
    },
    {
      "cell_type": "markdown",
      "metadata": {
        "id": "rdmSiNpSDsTj"
      },
      "source": [
        "## **POS dataframe**"
      ]
    },
    {
      "cell_type": "code",
      "metadata": {
        "colab": {
          "base_uri": "https://localhost:8080/"
        },
        "id": "jVQKlL5Gddmt",
        "outputId": "e9d667db-90f2-4d27-f6cf-1b136f751dff"
      },
      "source": [
        "ground_labels, _, labels, _, _, policy=stc_procedure(POS,true_labels)"
      ],
      "execution_count": null,
      "outputs": [
        {
          "output_type": "stream",
          "name": "stdout",
          "text": [
            ""
          ]
        }
      ]
    },
    {
      "cell_type": "code",
      "metadata": {
        "colab": {
          "base_uri": "https://localhost:8080/"
        },
        "id": "lJlBssrlvN1N",
        "outputId": "b828ec26-f042-4fdd-a2fc-1c3c141c0510"
      },
      "source": [
        "_, global_explainability_tabular, _, _, _, _=stc_procedure_tabular(POS,true_labels)"
      ],
      "execution_count": null,
      "outputs": [
        {
          "output_type": "stream",
          "name": "stdout",
          "text": [
            ""
          ]
        }
      ]
    },
    {
      "cell_type": "code",
      "metadata": {
        "id": "bVWSIx8VzXYA"
      },
      "source": [
        "accuracy=accuracy_score(ground_labels, labels)\n",
        "f1_score_value=f1_score(y_true=ground_labels, y_pred=labels, pos_label=\"True\")\n",
        "precision=precision_score(ground_labels, labels, pos_label=\"True\")\n",
        "recall=recall_score(ground_labels, labels, pos_label=\"True\")"
      ],
      "execution_count": null,
      "outputs": []
    },
    {
      "cell_type": "code",
      "metadata": {
        "id": "xnsWm1fizXYA"
      },
      "source": [
        "accuracy_scores.append(accuracy)\n",
        "f1_scores.append(f1_score_value)\n",
        "precision_scores.append(precision)\n",
        "recall_scores.append(recall)"
      ],
      "execution_count": null,
      "outputs": []
    },
    {
      "cell_type": "code",
      "metadata": {
        "colab": {
          "base_uri": "https://localhost:8080/"
        },
        "id": "V9mjTdDXzXYA",
        "outputId": "63f04f1f-ece4-414e-fd24-ef81db117a2f"
      },
      "source": [
        "print('accuracy: {}'.format(accuracy))\n",
        "print('f1 score: {}'.format(f1_score_value))\n",
        "print('precision: {}'.format(precision))\n",
        "print('recall: {}'.format(recall))\n"
      ],
      "execution_count": null,
      "outputs": [
        {
          "output_type": "stream",
          "name": "stdout",
          "text": [
            "accuracy: 0.5770925110132159\n",
            "f1 score: 0.4434782608695652\n",
            "precision: 0.42265193370165743\n",
            "recall: 0.46646341463414637\n"
          ]
        }
      ]
    },
    {
      "cell_type": "code",
      "metadata": {
        "colab": {
          "base_uri": "https://localhost:8080/"
        },
        "id": "2V85d_8jddmw",
        "outputId": "8fa10263-b05f-4dff-8c98-d97ee4ff7be8"
      },
      "source": [
        "policy"
      ],
      "execution_count": null,
      "outputs": [
        {
          "output_type": "execute_result",
          "data": {
            "text/plain": [
              "[['d10', 'd28', 'd13', 'd30', 'd24', 'd14', 'd20', 'd18', 'd23', 'd4', 'd31'],\n",
              " ['d28', 'd13', 'd30', 'd24', 'd14', 'd20', 'd18', 'd23', 'd4', 'd31'],\n",
              " ['d13', 'd30', 'd24', 'd14', 'd20', 'd18', 'd23', 'd4', 'd31'],\n",
              " ['d30', 'd24', 'd14', 'd20', 'd18', 'd23', 'd4', 'd31'],\n",
              " ['d24', 'd14', 'd20', 'd18', 'd23', 'd4', 'd31'],\n",
              " ['d14', 'd20', 'd18', 'd23', 'd4', 'd31'],\n",
              " ['d20', 'd18', 'd23', 'd4', 'd31'],\n",
              " ['d18', 'd23', 'd4', 'd31'],\n",
              " ['d23', 'd4', 'd31'],\n",
              " ['d4', 'd31'],\n",
              " ['d31'],\n",
              " []]"
            ]
          },
          "metadata": {},
          "execution_count": 37
        }
      ]
    },
    {
      "cell_type": "code",
      "metadata": {
        "colab": {
          "base_uri": "https://localhost:8080/"
        },
        "id": "4UZQD0WZjIhd",
        "outputId": "dc514217-3bbe-4731-9343-acfef9ed3a55"
      },
      "source": [
        "policy_set=[]\n",
        "\n",
        "for pol in policy:\n",
        "  policy_set+=pol\n",
        "\n",
        "policy_set=list(set(policy_set))\n",
        "\n",
        "column=POS.columns\n",
        "drop_features=[]\n",
        "for i in range(len(column)-1):\n",
        "  if not 'd{}'.format(i) in policy_set:\n",
        "    drop_features.append(column[i])\n",
        "\n",
        "drop_features"
      ],
      "execution_count": null,
      "outputs": [
        {
          "output_type": "execute_result",
          "data": {
            "text/plain": [
              "['$',\n",
              " \"''\",\n",
              " '(',\n",
              " ')',\n",
              " '.',\n",
              " ':',\n",
              " '``',\n",
              " 'cc',\n",
              " 'cd',\n",
              " 'ex',\n",
              " 'fw',\n",
              " 'jjr',\n",
              " 'jjs',\n",
              " 'md',\n",
              " 'nnp',\n",
              " 'pdt',\n",
              " 'po',\n",
              " 'rbr',\n",
              " 'rp',\n",
              " 'sym',\n",
              " 'uh',\n",
              " 'vbg',\n",
              " 'vbn',\n",
              " 'vbp',\n",
              " 'vbz',\n",
              " 'wdt',\n",
              " 'wp',\n",
              " 'wrb']"
            ]
          },
          "metadata": {},
          "execution_count": 38
        }
      ]
    },
    {
      "cell_type": "code",
      "metadata": {
        "colab": {
          "base_uri": "https://localhost:8080/"
        },
        "id": "mLbwR0PHjIhe",
        "outputId": "6b3688ec-05ea-40a4-ff39-1c9d4fc097bc"
      },
      "source": [
        "len(drop_features)"
      ],
      "execution_count": null,
      "outputs": [
        {
          "output_type": "execute_result",
          "data": {
            "text/plain": [
              "28"
            ]
          },
          "metadata": {},
          "execution_count": 39
        }
      ]
    },
    {
      "cell_type": "code",
      "metadata": {
        "id": "Uv2q29d32YI7"
      },
      "source": [
        "# Save features to drop into a text file.\n",
        "\n",
        "f = open(\"drop_claim_premise_POS.txt\", \"a\")\n",
        "for feature in drop_features:\n",
        "  f.write(\"{}-\".format(feature))\n",
        "f.close()"
      ],
      "execution_count": null,
      "outputs": []
    },
    {
      "cell_type": "code",
      "metadata": {
        "id": "RAaqXCXUjIhe"
      },
      "source": [
        "if len(policy_set)>1:\n",
        "  POS=POS.drop(columns=drop_features)"
      ],
      "execution_count": null,
      "outputs": []
    },
    {
      "cell_type": "code",
      "metadata": {
        "colab": {
          "base_uri": "https://localhost:8080/",
          "height": 542
        },
        "id": "ouAppAifddmx",
        "outputId": "31620f48-ce38-4786-abc9-76d2d0b861d4"
      },
      "source": [
        "global_explainability_tabular.loc[\"True\"][:15]"
      ],
      "execution_count": null,
      "outputs": [
        {
          "output_type": "execute_result",
          "data": {
            "text/html": [
              "<div>\n",
              "<style scoped>\n",
              "    .dataframe tbody tr th:only-of-type {\n",
              "        vertical-align: middle;\n",
              "    }\n",
              "\n",
              "    .dataframe tbody tr th {\n",
              "        vertical-align: top;\n",
              "    }\n",
              "\n",
              "    .dataframe thead th {\n",
              "        text-align: right;\n",
              "    }\n",
              "</style>\n",
              "<table border=\"1\" class=\"dataframe\">\n",
              "  <thead>\n",
              "    <tr style=\"text-align: right;\">\n",
              "      <th></th>\n",
              "      <th>features</th>\n",
              "      <th>score</th>\n",
              "    </tr>\n",
              "    <tr>\n",
              "      <th>argumentative</th>\n",
              "      <th></th>\n",
              "      <th></th>\n",
              "    </tr>\n",
              "  </thead>\n",
              "  <tbody>\n",
              "    <tr>\n",
              "      <th>True</th>\n",
              "      <td>,: 0</td>\n",
              "      <td>0.000169</td>\n",
              "    </tr>\n",
              "    <tr>\n",
              "      <th>True</th>\n",
              "      <td>vbd: 1</td>\n",
              "      <td>0.000169</td>\n",
              "    </tr>\n",
              "    <tr>\n",
              "      <th>True</th>\n",
              "      <td>,: 1</td>\n",
              "      <td>0.000144</td>\n",
              "    </tr>\n",
              "    <tr>\n",
              "      <th>True</th>\n",
              "      <td>vbz: 1</td>\n",
              "      <td>0.000115</td>\n",
              "    </tr>\n",
              "    <tr>\n",
              "      <th>True</th>\n",
              "      <td>vbd: 0</td>\n",
              "      <td>0.000073</td>\n",
              "    </tr>\n",
              "    <tr>\n",
              "      <th>True</th>\n",
              "      <td>vbg: 1</td>\n",
              "      <td>0.000072</td>\n",
              "    </tr>\n",
              "    <tr>\n",
              "      <th>True</th>\n",
              "      <td>wrb: 1</td>\n",
              "      <td>0.000071</td>\n",
              "    </tr>\n",
              "    <tr>\n",
              "      <th>True</th>\n",
              "      <td>prp: 4</td>\n",
              "      <td>0.000052</td>\n",
              "    </tr>\n",
              "    <tr>\n",
              "      <th>True</th>\n",
              "      <td>vbd: 2</td>\n",
              "      <td>0.000049</td>\n",
              "    </tr>\n",
              "    <tr>\n",
              "      <th>True</th>\n",
              "      <td>md: 1</td>\n",
              "      <td>0.000045</td>\n",
              "    </tr>\n",
              "    <tr>\n",
              "      <th>True</th>\n",
              "      <td>cc: 0</td>\n",
              "      <td>0.000043</td>\n",
              "    </tr>\n",
              "    <tr>\n",
              "      <th>True</th>\n",
              "      <td>nns: 0</td>\n",
              "      <td>0.000043</td>\n",
              "    </tr>\n",
              "    <tr>\n",
              "      <th>True</th>\n",
              "      <td>rbr: 1</td>\n",
              "      <td>0.000043</td>\n",
              "    </tr>\n",
              "    <tr>\n",
              "      <th>True</th>\n",
              "      <td>vbg: 0</td>\n",
              "      <td>0.000043</td>\n",
              "    </tr>\n",
              "    <tr>\n",
              "      <th>True</th>\n",
              "      <td>vbz: 0</td>\n",
              "      <td>0.000042</td>\n",
              "    </tr>\n",
              "  </tbody>\n",
              "</table>\n",
              "</div>"
            ],
            "text/plain": [
              "              features     score\n",
              "argumentative                   \n",
              "True              ,: 0  0.000169\n",
              "True            vbd: 1  0.000169\n",
              "True              ,: 1  0.000144\n",
              "True            vbz: 1  0.000115\n",
              "True            vbd: 0  0.000073\n",
              "True            vbg: 1  0.000072\n",
              "True            wrb: 1  0.000071\n",
              "True            prp: 4  0.000052\n",
              "True            vbd: 2  0.000049\n",
              "True             md: 1  0.000045\n",
              "True             cc: 0  0.000043\n",
              "True            nns: 0  0.000043\n",
              "True            rbr: 1  0.000043\n",
              "True            vbg: 0  0.000043\n",
              "True            vbz: 0  0.000042"
            ]
          },
          "metadata": {},
          "execution_count": 42
        }
      ]
    },
    {
      "cell_type": "code",
      "metadata": {
        "colab": {
          "base_uri": "https://localhost:8080/",
          "height": 388
        },
        "id": "UpLHP_eEddmx",
        "outputId": "45bf5b2e-95b3-4ba0-8e26-7b153a7c697f"
      },
      "source": [
        "global_explainability_tabular.loc[\"False\"][:10]"
      ],
      "execution_count": null,
      "outputs": [
        {
          "output_type": "execute_result",
          "data": {
            "text/html": [
              "<div>\n",
              "<style scoped>\n",
              "    .dataframe tbody tr th:only-of-type {\n",
              "        vertical-align: middle;\n",
              "    }\n",
              "\n",
              "    .dataframe tbody tr th {\n",
              "        vertical-align: top;\n",
              "    }\n",
              "\n",
              "    .dataframe thead th {\n",
              "        text-align: right;\n",
              "    }\n",
              "</style>\n",
              "<table border=\"1\" class=\"dataframe\">\n",
              "  <thead>\n",
              "    <tr style=\"text-align: right;\">\n",
              "      <th></th>\n",
              "      <th>features</th>\n",
              "      <th>score</th>\n",
              "    </tr>\n",
              "    <tr>\n",
              "      <th>argumentative</th>\n",
              "      <th></th>\n",
              "      <th></th>\n",
              "    </tr>\n",
              "  </thead>\n",
              "  <tbody>\n",
              "    <tr>\n",
              "      <th>False</th>\n",
              "      <td>vbd: 1</td>\n",
              "      <td>0.000490</td>\n",
              "    </tr>\n",
              "    <tr>\n",
              "      <th>False</th>\n",
              "      <td>vbd: 2</td>\n",
              "      <td>0.000408</td>\n",
              "    </tr>\n",
              "    <tr>\n",
              "      <th>False</th>\n",
              "      <td>vbd: 3</td>\n",
              "      <td>0.000379</td>\n",
              "    </tr>\n",
              "    <tr>\n",
              "      <th>False</th>\n",
              "      <td>,: 0</td>\n",
              "      <td>0.000265</td>\n",
              "    </tr>\n",
              "    <tr>\n",
              "      <th>False</th>\n",
              "      <td>wrb: 1</td>\n",
              "      <td>0.000121</td>\n",
              "    </tr>\n",
              "    <tr>\n",
              "      <th>False</th>\n",
              "      <td>prp: 4</td>\n",
              "      <td>0.000119</td>\n",
              "    </tr>\n",
              "    <tr>\n",
              "      <th>False</th>\n",
              "      <td>,: 1</td>\n",
              "      <td>0.000114</td>\n",
              "    </tr>\n",
              "    <tr>\n",
              "      <th>False</th>\n",
              "      <td>vbz: 1</td>\n",
              "      <td>0.000089</td>\n",
              "    </tr>\n",
              "    <tr>\n",
              "      <th>False</th>\n",
              "      <td>.: 1</td>\n",
              "      <td>0.000067</td>\n",
              "    </tr>\n",
              "    <tr>\n",
              "      <th>False</th>\n",
              "      <td>vbd: 4</td>\n",
              "      <td>0.000067</td>\n",
              "    </tr>\n",
              "  </tbody>\n",
              "</table>\n",
              "</div>"
            ],
            "text/plain": [
              "              features     score\n",
              "argumentative                   \n",
              "False           vbd: 1  0.000490\n",
              "False           vbd: 2  0.000408\n",
              "False           vbd: 3  0.000379\n",
              "False             ,: 0  0.000265\n",
              "False           wrb: 1  0.000121\n",
              "False           prp: 4  0.000119\n",
              "False             ,: 1  0.000114\n",
              "False           vbz: 1  0.000089\n",
              "False             .: 1  0.000067\n",
              "False           vbd: 4  0.000067"
            ]
          },
          "metadata": {},
          "execution_count": 43
        }
      ]
    },
    {
      "cell_type": "markdown",
      "metadata": {
        "id": "ratGQCj3IE7q"
      },
      "source": [
        "## **Simple POS dataframe**"
      ]
    },
    {
      "cell_type": "code",
      "metadata": {
        "colab": {
          "base_uri": "https://localhost:8080/"
        },
        "id": "zhJxOHQWdnf-",
        "outputId": "bedc0b09-1aaa-4f2a-e43c-177473955229"
      },
      "source": [
        "ground_labels, _, labels, _, _, policy=stc_procedure(simple_POS,true_labels)"
      ],
      "execution_count": null,
      "outputs": [
        {
          "output_type": "stream",
          "name": "stdout",
          "text": [
            ""
          ]
        }
      ]
    },
    {
      "cell_type": "code",
      "metadata": {
        "colab": {
          "base_uri": "https://localhost:8080/"
        },
        "id": "QsjrMDPzvRNX",
        "outputId": "86fbf8c0-6a2c-45d7-e9ec-f938d5f1f2ec"
      },
      "source": [
        "_, global_explainability_tabular, _, _, _, _=stc_procedure_tabular(simple_POS,true_labels)"
      ],
      "execution_count": null,
      "outputs": [
        {
          "output_type": "stream",
          "name": "stdout",
          "text": [
            ""
          ]
        }
      ]
    },
    {
      "cell_type": "code",
      "metadata": {
        "id": "mpSfO461zaD3"
      },
      "source": [
        "accuracy=accuracy_score(ground_labels, labels)\n",
        "f1_score_value=f1_score(y_true=ground_labels, y_pred=labels, pos_label=\"True\")\n",
        "precision=precision_score(ground_labels, labels, pos_label=\"True\")\n",
        "recall=recall_score(ground_labels, labels, pos_label=\"True\")"
      ],
      "execution_count": null,
      "outputs": []
    },
    {
      "cell_type": "code",
      "metadata": {
        "id": "-sAUrrKtzaD3"
      },
      "source": [
        "accuracy_scores.append(accuracy)\n",
        "f1_scores.append(f1_score_value)\n",
        "precision_scores.append(precision)\n",
        "recall_scores.append(recall)"
      ],
      "execution_count": null,
      "outputs": []
    },
    {
      "cell_type": "code",
      "metadata": {
        "colab": {
          "base_uri": "https://localhost:8080/"
        },
        "id": "fuhXaLqyzaD3",
        "outputId": "0f4bcf2a-6d0b-4628-aaeb-c903f1da0fb7"
      },
      "source": [
        "print('accuracy: {}'.format(accuracy))\n",
        "print('f1 score: {}'.format(f1_score_value))\n",
        "print('precision: {}'.format(precision))\n",
        "print('recall: {}'.format(recall))"
      ],
      "execution_count": null,
      "outputs": [
        {
          "output_type": "stream",
          "name": "stdout",
          "text": [
            "accuracy: 0.5539647577092511\n",
            "f1 score: 0.4271570014144272\n",
            "precision: 0.39841688654353563\n",
            "recall: 0.4603658536585366\n"
          ]
        }
      ]
    },
    {
      "cell_type": "code",
      "metadata": {
        "colab": {
          "base_uri": "https://localhost:8080/"
        },
        "id": "l5KCxPUddngB",
        "outputId": "45325f13-4ecc-46e1-925d-0e70e3552f67"
      },
      "source": [
        "policy"
      ],
      "execution_count": null,
      "outputs": [
        {
          "output_type": "execute_result",
          "data": {
            "text/plain": [
              "[['d2', 'd4', 'd9', 'd1', 'd5', 'd10', 'd6', 'd8', 'd0'],\n",
              " ['d4', 'd9', 'd1', 'd5', 'd10', 'd6', 'd8', 'd0'],\n",
              " ['d9', 'd1', 'd5', 'd10', 'd6', 'd8', 'd0'],\n",
              " ['d1', 'd5', 'd10', 'd6', 'd8', 'd0'],\n",
              " ['d5', 'd10', 'd6', 'd8', 'd0'],\n",
              " ['d10', 'd6', 'd8', 'd0'],\n",
              " ['d6', 'd8', 'd0'],\n",
              " ['d8', 'd0'],\n",
              " ['d0'],\n",
              " []]"
            ]
          },
          "metadata": {},
          "execution_count": 49
        }
      ]
    },
    {
      "cell_type": "code",
      "metadata": {
        "colab": {
          "base_uri": "https://localhost:8080/"
        },
        "id": "-7kOeutZjQtA",
        "outputId": "b60fe52a-f2b9-4fb7-81d2-f6a8d32560cd"
      },
      "source": [
        "policy_set=[]\n",
        "\n",
        "for pol in policy:\n",
        "  policy_set+=pol\n",
        "\n",
        "policy_set=list(set(policy_set))\n",
        "\n",
        "column=simple_POS.columns\n",
        "drop_features=[]\n",
        "for i in range(len(column)-1):\n",
        "  if not 'd{}'.format(i) in policy_set:\n",
        "    drop_features.append(column[i])\n",
        "\n",
        "drop_features"
      ],
      "execution_count": null,
      "outputs": [
        {
          "output_type": "execute_result",
          "data": {
            "text/plain": [
              "['adv', 'num', 'x']"
            ]
          },
          "metadata": {},
          "execution_count": 50
        }
      ]
    },
    {
      "cell_type": "code",
      "metadata": {
        "colab": {
          "base_uri": "https://localhost:8080/"
        },
        "id": "bPxjckKjjQtB",
        "outputId": "a8a9bb95-493b-4273-ad6b-8b30a1a3907c"
      },
      "source": [
        "len(drop_features)"
      ],
      "execution_count": null,
      "outputs": [
        {
          "output_type": "execute_result",
          "data": {
            "text/plain": [
              "3"
            ]
          },
          "metadata": {},
          "execution_count": 51
        }
      ]
    },
    {
      "cell_type": "code",
      "metadata": {
        "id": "Ghbv7_Ar2dtT"
      },
      "source": [
        "# Save features to drop into a text file.\n",
        "\n",
        "f = open(\"drop_claim_premise_simple_POS.txt\", \"a\")\n",
        "for feature in drop_features:\n",
        "  f.write(\"{}-\".format(feature))\n",
        "f.close()"
      ],
      "execution_count": null,
      "outputs": []
    },
    {
      "cell_type": "code",
      "metadata": {
        "id": "gpoN1d0ijQtC"
      },
      "source": [
        "if len(policy_set)>1:\n",
        "  simple_POS=simple_POS.drop(columns=drop_features)"
      ],
      "execution_count": null,
      "outputs": []
    },
    {
      "cell_type": "code",
      "metadata": {
        "colab": {
          "base_uri": "https://localhost:8080/",
          "height": 542
        },
        "id": "dKCmdIMHdngB",
        "outputId": "04722e84-2d52-4c6a-fb9c-387e7b8e9326"
      },
      "source": [
        "global_explainability_tabular.loc[\"True\"][:15]"
      ],
      "execution_count": null,
      "outputs": [
        {
          "output_type": "execute_result",
          "data": {
            "text/html": [
              "<div>\n",
              "<style scoped>\n",
              "    .dataframe tbody tr th:only-of-type {\n",
              "        vertical-align: middle;\n",
              "    }\n",
              "\n",
              "    .dataframe tbody tr th {\n",
              "        vertical-align: top;\n",
              "    }\n",
              "\n",
              "    .dataframe thead th {\n",
              "        text-align: right;\n",
              "    }\n",
              "</style>\n",
              "<table border=\"1\" class=\"dataframe\">\n",
              "  <thead>\n",
              "    <tr style=\"text-align: right;\">\n",
              "      <th></th>\n",
              "      <th>features</th>\n",
              "      <th>score</th>\n",
              "    </tr>\n",
              "    <tr>\n",
              "      <th>argumentative</th>\n",
              "      <th></th>\n",
              "      <th></th>\n",
              "    </tr>\n",
              "  </thead>\n",
              "  <tbody>\n",
              "    <tr>\n",
              "      <th>True</th>\n",
              "      <td>.: 0</td>\n",
              "      <td>0.000537</td>\n",
              "    </tr>\n",
              "    <tr>\n",
              "      <th>True</th>\n",
              "      <td>.: 1</td>\n",
              "      <td>0.000463</td>\n",
              "    </tr>\n",
              "    <tr>\n",
              "      <th>True</th>\n",
              "      <td>pron: 0</td>\n",
              "      <td>0.000207</td>\n",
              "    </tr>\n",
              "    <tr>\n",
              "      <th>True</th>\n",
              "      <td>verb: 11</td>\n",
              "      <td>0.000204</td>\n",
              "    </tr>\n",
              "    <tr>\n",
              "      <th>True</th>\n",
              "      <td>conj: 0</td>\n",
              "      <td>0.000141</td>\n",
              "    </tr>\n",
              "    <tr>\n",
              "      <th>True</th>\n",
              "      <td>prt: 3</td>\n",
              "      <td>0.000132</td>\n",
              "    </tr>\n",
              "    <tr>\n",
              "      <th>True</th>\n",
              "      <td>adj: 0</td>\n",
              "      <td>0.000130</td>\n",
              "    </tr>\n",
              "    <tr>\n",
              "      <th>True</th>\n",
              "      <td>det: 9</td>\n",
              "      <td>0.000125</td>\n",
              "    </tr>\n",
              "    <tr>\n",
              "      <th>True</th>\n",
              "      <td>pron: 4</td>\n",
              "      <td>0.000124</td>\n",
              "    </tr>\n",
              "    <tr>\n",
              "      <th>True</th>\n",
              "      <td>det: 1</td>\n",
              "      <td>0.000117</td>\n",
              "    </tr>\n",
              "    <tr>\n",
              "      <th>True</th>\n",
              "      <td>.: 4</td>\n",
              "      <td>0.000099</td>\n",
              "    </tr>\n",
              "    <tr>\n",
              "      <th>True</th>\n",
              "      <td>pron: 3</td>\n",
              "      <td>0.000087</td>\n",
              "    </tr>\n",
              "    <tr>\n",
              "      <th>True</th>\n",
              "      <td>adj: 4</td>\n",
              "      <td>0.000082</td>\n",
              "    </tr>\n",
              "    <tr>\n",
              "      <th>True</th>\n",
              "      <td>verb: 9</td>\n",
              "      <td>0.000081</td>\n",
              "    </tr>\n",
              "    <tr>\n",
              "      <th>True</th>\n",
              "      <td>adj: 1</td>\n",
              "      <td>0.000072</td>\n",
              "    </tr>\n",
              "  </tbody>\n",
              "</table>\n",
              "</div>"
            ],
            "text/plain": [
              "               features     score\n",
              "argumentative                    \n",
              "True               .: 0  0.000537\n",
              "True               .: 1  0.000463\n",
              "True            pron: 0  0.000207\n",
              "True           verb: 11  0.000204\n",
              "True            conj: 0  0.000141\n",
              "True             prt: 3  0.000132\n",
              "True             adj: 0  0.000130\n",
              "True             det: 9  0.000125\n",
              "True            pron: 4  0.000124\n",
              "True             det: 1  0.000117\n",
              "True               .: 4  0.000099\n",
              "True            pron: 3  0.000087\n",
              "True             adj: 4  0.000082\n",
              "True            verb: 9  0.000081\n",
              "True             adj: 1  0.000072"
            ]
          },
          "metadata": {},
          "execution_count": 54
        }
      ]
    },
    {
      "cell_type": "code",
      "metadata": {
        "colab": {
          "base_uri": "https://localhost:8080/",
          "height": 388
        },
        "id": "Acts3UEGdngC",
        "outputId": "b6a5837d-36ed-4902-9874-06ed24e7a629"
      },
      "source": [
        "global_explainability_tabular.loc[\"False\"][:10]"
      ],
      "execution_count": null,
      "outputs": [
        {
          "output_type": "execute_result",
          "data": {
            "text/html": [
              "<div>\n",
              "<style scoped>\n",
              "    .dataframe tbody tr th:only-of-type {\n",
              "        vertical-align: middle;\n",
              "    }\n",
              "\n",
              "    .dataframe tbody tr th {\n",
              "        vertical-align: top;\n",
              "    }\n",
              "\n",
              "    .dataframe thead th {\n",
              "        text-align: right;\n",
              "    }\n",
              "</style>\n",
              "<table border=\"1\" class=\"dataframe\">\n",
              "  <thead>\n",
              "    <tr style=\"text-align: right;\">\n",
              "      <th></th>\n",
              "      <th>features</th>\n",
              "      <th>score</th>\n",
              "    </tr>\n",
              "    <tr>\n",
              "      <th>argumentative</th>\n",
              "      <th></th>\n",
              "      <th></th>\n",
              "    </tr>\n",
              "  </thead>\n",
              "  <tbody>\n",
              "    <tr>\n",
              "      <th>False</th>\n",
              "      <td>.: 0</td>\n",
              "      <td>0.000841</td>\n",
              "    </tr>\n",
              "    <tr>\n",
              "      <th>False</th>\n",
              "      <td>.: 1</td>\n",
              "      <td>0.000365</td>\n",
              "    </tr>\n",
              "    <tr>\n",
              "      <th>False</th>\n",
              "      <td>pron: 4</td>\n",
              "      <td>0.000239</td>\n",
              "    </tr>\n",
              "    <tr>\n",
              "      <th>False</th>\n",
              "      <td>.: 4</td>\n",
              "      <td>0.000203</td>\n",
              "    </tr>\n",
              "    <tr>\n",
              "      <th>False</th>\n",
              "      <td>adj: 0</td>\n",
              "      <td>0.000172</td>\n",
              "    </tr>\n",
              "    <tr>\n",
              "      <th>False</th>\n",
              "      <td>pron: 0</td>\n",
              "      <td>0.000172</td>\n",
              "    </tr>\n",
              "    <tr>\n",
              "      <th>False</th>\n",
              "      <td>pron: 5</td>\n",
              "      <td>0.000130</td>\n",
              "    </tr>\n",
              "    <tr>\n",
              "      <th>False</th>\n",
              "      <td>conj: 0</td>\n",
              "      <td>0.000123</td>\n",
              "    </tr>\n",
              "    <tr>\n",
              "      <th>False</th>\n",
              "      <td>pron: 3</td>\n",
              "      <td>0.000117</td>\n",
              "    </tr>\n",
              "    <tr>\n",
              "      <th>False</th>\n",
              "      <td>verb: 13</td>\n",
              "      <td>0.000109</td>\n",
              "    </tr>\n",
              "  </tbody>\n",
              "</table>\n",
              "</div>"
            ],
            "text/plain": [
              "               features     score\n",
              "argumentative                    \n",
              "False              .: 0  0.000841\n",
              "False              .: 1  0.000365\n",
              "False           pron: 4  0.000239\n",
              "False              .: 4  0.000203\n",
              "False            adj: 0  0.000172\n",
              "False           pron: 0  0.000172\n",
              "False           pron: 5  0.000130\n",
              "False           conj: 0  0.000123\n",
              "False           pron: 3  0.000117\n",
              "False          verb: 13  0.000109"
            ]
          },
          "metadata": {},
          "execution_count": 55
        }
      ]
    },
    {
      "cell_type": "markdown",
      "metadata": {
        "id": "a2q54EWlILlk"
      },
      "source": [
        "## **bigram POS dataframe**"
      ]
    },
    {
      "cell_type": "code",
      "metadata": {
        "colab": {
          "base_uri": "https://localhost:8080/"
        },
        "id": "vzyFRQOpdxoF",
        "outputId": "7f52d7fb-9bac-4bd3-d32e-84de333ed845"
      },
      "source": [
        "ground_labels, global_explainability_tabular, labels, _, _, policy=stc_procedure_tabular(bigram_POS,true_labels)"
      ],
      "execution_count": null,
      "outputs": [
        {
          "output_type": "stream",
          "name": "stdout",
          "text": [
            ""
          ]
        }
      ]
    },
    {
      "cell_type": "code",
      "metadata": {
        "id": "hJL-kKUgzcrJ"
      },
      "source": [
        "accuracy=accuracy_score(ground_labels, labels)\n",
        "f1_score_value=f1_score(y_true=ground_labels, y_pred=labels, pos_label=\"True\")\n",
        "precision=precision_score(ground_labels, labels, pos_label=\"True\")\n",
        "recall=recall_score(ground_labels, labels, pos_label=\"True\")"
      ],
      "execution_count": null,
      "outputs": []
    },
    {
      "cell_type": "code",
      "metadata": {
        "id": "RVjedp_YzcrK"
      },
      "source": [
        "accuracy_scores.append(accuracy)\n",
        "f1_scores.append(f1_score_value)\n",
        "precision_scores.append(precision)\n",
        "recall_scores.append(recall)"
      ],
      "execution_count": null,
      "outputs": []
    },
    {
      "cell_type": "code",
      "metadata": {
        "colab": {
          "base_uri": "https://localhost:8080/"
        },
        "id": "RVnBg4bozcrK",
        "outputId": "e0cb9581-8f25-4114-a562-9f67a3cf8d27"
      },
      "source": [
        "print('accuracy: {}'.format(accuracy))\n",
        "print('f1 score: {}'.format(f1_score_value))\n",
        "print('precision: {}'.format(precision))\n",
        "print('recall: {}'.format(recall))"
      ],
      "execution_count": null,
      "outputs": [
        {
          "output_type": "stream",
          "name": "stdout",
          "text": [
            "accuracy: 0.45704845814977973\n",
            "f1 score: 0.5133267522211254\n",
            "precision: 0.3795620437956204\n",
            "recall: 0.7926829268292683\n"
          ]
        }
      ]
    },
    {
      "cell_type": "code",
      "metadata": {
        "colab": {
          "base_uri": "https://localhost:8080/",
          "height": 542
        },
        "id": "FbDQRTRddxoG",
        "outputId": "f4e05a34-1686-4b4a-f09a-02f9946e613b"
      },
      "source": [
        "global_explainability_tabular.loc[\"True\"][:15]"
      ],
      "execution_count": null,
      "outputs": [
        {
          "output_type": "execute_result",
          "data": {
            "text/html": [
              "<div>\n",
              "<style scoped>\n",
              "    .dataframe tbody tr th:only-of-type {\n",
              "        vertical-align: middle;\n",
              "    }\n",
              "\n",
              "    .dataframe tbody tr th {\n",
              "        vertical-align: top;\n",
              "    }\n",
              "\n",
              "    .dataframe thead th {\n",
              "        text-align: right;\n",
              "    }\n",
              "</style>\n",
              "<table border=\"1\" class=\"dataframe\">\n",
              "  <thead>\n",
              "    <tr style=\"text-align: right;\">\n",
              "      <th></th>\n",
              "      <th>features</th>\n",
              "      <th>score</th>\n",
              "    </tr>\n",
              "    <tr>\n",
              "      <th>argumentative</th>\n",
              "      <th></th>\n",
              "      <th></th>\n",
              "    </tr>\n",
              "  </thead>\n",
              "  <tbody>\n",
              "    <tr>\n",
              "      <th>True</th>\n",
              "      <td>nns vbz: 1</td>\n",
              "      <td>0.000051</td>\n",
              "    </tr>\n",
              "    <tr>\n",
              "      <th>True</th>\n",
              "      <td>$ dt: 1</td>\n",
              "      <td>0.000030</td>\n",
              "    </tr>\n",
              "    <tr>\n",
              "      <th>True</th>\n",
              "      <td>nns to: 2</td>\n",
              "      <td>0.000028</td>\n",
              "    </tr>\n",
              "    <tr>\n",
              "      <th>True</th>\n",
              "      <td>rb vbd: 1</td>\n",
              "      <td>0.000022</td>\n",
              "    </tr>\n",
              "    <tr>\n",
              "      <th>True</th>\n",
              "      <td>po nn: 1</td>\n",
              "      <td>0.000020</td>\n",
              "    </tr>\n",
              "    <tr>\n",
              "      <th>True</th>\n",
              "      <td>prp to: 2</td>\n",
              "      <td>0.000016</td>\n",
              "    </tr>\n",
              "    <tr>\n",
              "      <th>True</th>\n",
              "      <td>po ,: 1</td>\n",
              "      <td>0.000016</td>\n",
              "    </tr>\n",
              "    <tr>\n",
              "      <th>True</th>\n",
              "      <td>'' wp: 1</td>\n",
              "      <td>0.000015</td>\n",
              "    </tr>\n",
              "    <tr>\n",
              "      <th>True</th>\n",
              "      <td>po '': 1</td>\n",
              "      <td>0.000015</td>\n",
              "    </tr>\n",
              "    <tr>\n",
              "      <th>True</th>\n",
              "      <td>$ rb: 1</td>\n",
              "      <td>0.000015</td>\n",
              "    </tr>\n",
              "    <tr>\n",
              "      <th>True</th>\n",
              "      <td>po vbp: 1</td>\n",
              "      <td>0.000015</td>\n",
              "    </tr>\n",
              "    <tr>\n",
              "      <th>True</th>\n",
              "      <td>nns vbn: 2</td>\n",
              "      <td>0.000015</td>\n",
              "    </tr>\n",
              "    <tr>\n",
              "      <th>True</th>\n",
              "      <td>nns vbz: 2</td>\n",
              "      <td>0.000015</td>\n",
              "    </tr>\n",
              "    <tr>\n",
              "      <th>True</th>\n",
              "      <td>'' jjr: 1</td>\n",
              "      <td>0.000015</td>\n",
              "    </tr>\n",
              "    <tr>\n",
              "      <th>True</th>\n",
              "      <td>nns wp: 1</td>\n",
              "      <td>0.000013</td>\n",
              "    </tr>\n",
              "  </tbody>\n",
              "</table>\n",
              "</div>"
            ],
            "text/plain": [
              "                 features     score\n",
              "argumentative                      \n",
              "True           nns vbz: 1  0.000051\n",
              "True              $ dt: 1  0.000030\n",
              "True            nns to: 2  0.000028\n",
              "True            rb vbd: 1  0.000022\n",
              "True             po nn: 1  0.000020\n",
              "True            prp to: 2  0.000016\n",
              "True              po ,: 1  0.000016\n",
              "True             '' wp: 1  0.000015\n",
              "True             po '': 1  0.000015\n",
              "True              $ rb: 1  0.000015\n",
              "True            po vbp: 1  0.000015\n",
              "True           nns vbn: 2  0.000015\n",
              "True           nns vbz: 2  0.000015\n",
              "True            '' jjr: 1  0.000015\n",
              "True            nns wp: 1  0.000013"
            ]
          },
          "metadata": {},
          "execution_count": 60
        }
      ]
    },
    {
      "cell_type": "code",
      "metadata": {
        "colab": {
          "base_uri": "https://localhost:8080/",
          "height": 388
        },
        "id": "N_p51tTDdxoG",
        "outputId": "3bbe2ee0-3506-47ca-f3ee-ade9bd79f94e"
      },
      "source": [
        "global_explainability_tabular.loc[\"False\"][:10]"
      ],
      "execution_count": null,
      "outputs": [
        {
          "output_type": "execute_result",
          "data": {
            "text/html": [
              "<div>\n",
              "<style scoped>\n",
              "    .dataframe tbody tr th:only-of-type {\n",
              "        vertical-align: middle;\n",
              "    }\n",
              "\n",
              "    .dataframe tbody tr th {\n",
              "        vertical-align: top;\n",
              "    }\n",
              "\n",
              "    .dataframe thead th {\n",
              "        text-align: right;\n",
              "    }\n",
              "</style>\n",
              "<table border=\"1\" class=\"dataframe\">\n",
              "  <thead>\n",
              "    <tr style=\"text-align: right;\">\n",
              "      <th></th>\n",
              "      <th>features</th>\n",
              "      <th>score</th>\n",
              "    </tr>\n",
              "    <tr>\n",
              "      <th>argumentative</th>\n",
              "      <th></th>\n",
              "      <th></th>\n",
              "    </tr>\n",
              "  </thead>\n",
              "  <tbody>\n",
              "    <tr>\n",
              "      <th>False</th>\n",
              "      <td>rb vbd: 1</td>\n",
              "      <td>0.000162</td>\n",
              "    </tr>\n",
              "    <tr>\n",
              "      <th>False</th>\n",
              "      <td>nns vbz: 1</td>\n",
              "      <td>0.000028</td>\n",
              "    </tr>\n",
              "    <tr>\n",
              "      <th>False</th>\n",
              "      <td>rb .: 1</td>\n",
              "      <td>0.000026</td>\n",
              "    </tr>\n",
              "    <tr>\n",
              "      <th>False</th>\n",
              "      <td>rb pdt: 1</td>\n",
              "      <td>0.000026</td>\n",
              "    </tr>\n",
              "    <tr>\n",
              "      <th>False</th>\n",
              "      <td>rb nn: 1</td>\n",
              "      <td>0.000021</td>\n",
              "    </tr>\n",
              "    <tr>\n",
              "      <th>False</th>\n",
              "      <td>nns wp: 1</td>\n",
              "      <td>0.000021</td>\n",
              "    </tr>\n",
              "    <tr>\n",
              "      <th>False</th>\n",
              "      <td>rb wp: 1</td>\n",
              "      <td>0.000017</td>\n",
              "    </tr>\n",
              "    <tr>\n",
              "      <th>False</th>\n",
              "      <td>nns vbp: 3</td>\n",
              "      <td>0.000017</td>\n",
              "    </tr>\n",
              "    <tr>\n",
              "      <th>False</th>\n",
              "      <td>'' nn: 1</td>\n",
              "      <td>0.000017</td>\n",
              "    </tr>\n",
              "    <tr>\n",
              "      <th>False</th>\n",
              "      <td>po nn: 1</td>\n",
              "      <td>0.000014</td>\n",
              "    </tr>\n",
              "  </tbody>\n",
              "</table>\n",
              "</div>"
            ],
            "text/plain": [
              "                 features     score\n",
              "argumentative                      \n",
              "False           rb vbd: 1  0.000162\n",
              "False          nns vbz: 1  0.000028\n",
              "False             rb .: 1  0.000026\n",
              "False           rb pdt: 1  0.000026\n",
              "False            rb nn: 1  0.000021\n",
              "False           nns wp: 1  0.000021\n",
              "False            rb wp: 1  0.000017\n",
              "False          nns vbp: 3  0.000017\n",
              "False            '' nn: 1  0.000017\n",
              "False            po nn: 1  0.000014"
            ]
          },
          "metadata": {},
          "execution_count": 61
        }
      ]
    },
    {
      "cell_type": "markdown",
      "metadata": {
        "id": "axXeMKBAIUEF"
      },
      "source": [
        "## **Bigram simple POS dataframe**"
      ]
    },
    {
      "cell_type": "code",
      "metadata": {
        "colab": {
          "base_uri": "https://localhost:8080/"
        },
        "id": "NjvkFAGCd5Px",
        "outputId": "c8300a46-0a54-4c18-f01b-e883abf5471e"
      },
      "source": [
        "ground_labels, _, labels, _, _, policy=stc_procedure(bigram_simple_POS,true_labels)"
      ],
      "execution_count": null,
      "outputs": [
        {
          "output_type": "stream",
          "name": "stdout",
          "text": [
            ""
          ]
        }
      ]
    },
    {
      "cell_type": "code",
      "metadata": {
        "id": "W-WETpSAd5Py",
        "colab": {
          "base_uri": "https://localhost:8080/"
        },
        "outputId": "218b6a9b-4ea2-4e8b-c00f-10c25018af92"
      },
      "source": [
        "_, global_explainability_tabular, _, _, _, _=stc_procedure_tabular(bigram_simple_POS,true_labels)"
      ],
      "execution_count": null,
      "outputs": [
        {
          "output_type": "stream",
          "name": "stdout",
          "text": [
            ""
          ]
        }
      ]
    },
    {
      "cell_type": "code",
      "metadata": {
        "id": "hu0ECimAze0J"
      },
      "source": [
        "accuracy=accuracy_score(ground_labels, labels)\n",
        "f1_score_value=f1_score(y_true=ground_labels, y_pred=labels, pos_label=\"True\")\n",
        "precision=precision_score(ground_labels, labels, pos_label=\"True\")\n",
        "recall=recall_score(ground_labels, labels, pos_label=\"True\")"
      ],
      "execution_count": null,
      "outputs": []
    },
    {
      "cell_type": "code",
      "metadata": {
        "id": "0kbBFw3Qze0K"
      },
      "source": [
        "accuracy_scores.append(accuracy)\n",
        "f1_scores.append(f1_score_value)\n",
        "precision_scores.append(precision)\n",
        "recall_scores.append(recall)"
      ],
      "execution_count": null,
      "outputs": []
    },
    {
      "cell_type": "code",
      "metadata": {
        "id": "JXxewMMHze0K",
        "colab": {
          "base_uri": "https://localhost:8080/"
        },
        "outputId": "8a6d5fa5-7c40-4c92-93d9-3c4cefe4d652"
      },
      "source": [
        "print('accuracy: {}'.format(accuracy))\n",
        "print('f1 score: {}'.format(f1_score_value))\n",
        "print('precision: {}'.format(precision))\n",
        "print('recall: {}'.format(recall))"
      ],
      "execution_count": null,
      "outputs": [
        {
          "output_type": "stream",
          "name": "stdout",
          "text": [
            "accuracy: 0.5649779735682819\n",
            "f1 score: 0.4444444444444444\n",
            "precision: 0.412532637075718\n",
            "recall: 0.4817073170731707\n"
          ]
        }
      ]
    },
    {
      "cell_type": "code",
      "metadata": {
        "id": "acxJFfyFd5P1",
        "colab": {
          "base_uri": "https://localhost:8080/"
        },
        "outputId": "9c3ef1ee-831a-4ab0-e3aa-f630fa6d5722"
      },
      "source": [
        "policy"
      ],
      "execution_count": null,
      "outputs": [
        {
          "output_type": "execute_result",
          "data": {
            "text/plain": [
              "[['d20',\n",
              "  'd40',\n",
              "  'd10',\n",
              "  'd29',\n",
              "  'd6',\n",
              "  'd41',\n",
              "  'd30',\n",
              "  'd23',\n",
              "  'd17',\n",
              "  'd45',\n",
              "  'd47',\n",
              "  'd4',\n",
              "  'd5',\n",
              "  'd22',\n",
              "  'd39',\n",
              "  'd32',\n",
              "  'd11',\n",
              "  'd27',\n",
              "  'd43',\n",
              "  'd33',\n",
              "  'd37',\n",
              "  'd28',\n",
              "  'd7',\n",
              "  'd3',\n",
              "  'd38',\n",
              "  'd9',\n",
              "  'd16',\n",
              "  'd1'],\n",
              " ['d40',\n",
              "  'd10',\n",
              "  'd29',\n",
              "  'd6',\n",
              "  'd41',\n",
              "  'd30',\n",
              "  'd23',\n",
              "  'd17',\n",
              "  'd45',\n",
              "  'd47',\n",
              "  'd4',\n",
              "  'd5',\n",
              "  'd22',\n",
              "  'd39',\n",
              "  'd32',\n",
              "  'd11',\n",
              "  'd27',\n",
              "  'd43',\n",
              "  'd33',\n",
              "  'd37',\n",
              "  'd28',\n",
              "  'd7',\n",
              "  'd3',\n",
              "  'd38',\n",
              "  'd9',\n",
              "  'd16',\n",
              "  'd1'],\n",
              " ['d10',\n",
              "  'd29',\n",
              "  'd6',\n",
              "  'd41',\n",
              "  'd30',\n",
              "  'd23',\n",
              "  'd17',\n",
              "  'd45',\n",
              "  'd47',\n",
              "  'd4',\n",
              "  'd5',\n",
              "  'd22',\n",
              "  'd39',\n",
              "  'd32',\n",
              "  'd11',\n",
              "  'd27',\n",
              "  'd43',\n",
              "  'd33',\n",
              "  'd37',\n",
              "  'd28',\n",
              "  'd7',\n",
              "  'd3',\n",
              "  'd38',\n",
              "  'd9',\n",
              "  'd16',\n",
              "  'd1'],\n",
              " ['d29',\n",
              "  'd6',\n",
              "  'd41',\n",
              "  'd30',\n",
              "  'd23',\n",
              "  'd17',\n",
              "  'd45',\n",
              "  'd47',\n",
              "  'd4',\n",
              "  'd5',\n",
              "  'd22',\n",
              "  'd39',\n",
              "  'd32',\n",
              "  'd11',\n",
              "  'd27',\n",
              "  'd43',\n",
              "  'd33',\n",
              "  'd37',\n",
              "  'd28',\n",
              "  'd7',\n",
              "  'd3',\n",
              "  'd38',\n",
              "  'd9',\n",
              "  'd16',\n",
              "  'd1'],\n",
              " ['d6',\n",
              "  'd41',\n",
              "  'd30',\n",
              "  'd23',\n",
              "  'd17',\n",
              "  'd45',\n",
              "  'd47',\n",
              "  'd4',\n",
              "  'd5',\n",
              "  'd22',\n",
              "  'd39',\n",
              "  'd32',\n",
              "  'd11',\n",
              "  'd27',\n",
              "  'd43',\n",
              "  'd33',\n",
              "  'd37',\n",
              "  'd28',\n",
              "  'd7',\n",
              "  'd3',\n",
              "  'd38',\n",
              "  'd9',\n",
              "  'd16',\n",
              "  'd1'],\n",
              " ['d41',\n",
              "  'd30',\n",
              "  'd23',\n",
              "  'd17',\n",
              "  'd45',\n",
              "  'd47',\n",
              "  'd4',\n",
              "  'd5',\n",
              "  'd22',\n",
              "  'd39',\n",
              "  'd32',\n",
              "  'd11',\n",
              "  'd27',\n",
              "  'd43',\n",
              "  'd33',\n",
              "  'd37',\n",
              "  'd28',\n",
              "  'd7',\n",
              "  'd3',\n",
              "  'd38',\n",
              "  'd9',\n",
              "  'd16',\n",
              "  'd1'],\n",
              " ['d30',\n",
              "  'd23',\n",
              "  'd17',\n",
              "  'd45',\n",
              "  'd47',\n",
              "  'd4',\n",
              "  'd5',\n",
              "  'd22',\n",
              "  'd39',\n",
              "  'd32',\n",
              "  'd11',\n",
              "  'd27',\n",
              "  'd43',\n",
              "  'd33',\n",
              "  'd37',\n",
              "  'd28',\n",
              "  'd7',\n",
              "  'd3',\n",
              "  'd38',\n",
              "  'd9',\n",
              "  'd16',\n",
              "  'd1'],\n",
              " ['d23',\n",
              "  'd17',\n",
              "  'd45',\n",
              "  'd47',\n",
              "  'd4',\n",
              "  'd5',\n",
              "  'd22',\n",
              "  'd39',\n",
              "  'd32',\n",
              "  'd11',\n",
              "  'd27',\n",
              "  'd43',\n",
              "  'd33',\n",
              "  'd37',\n",
              "  'd28',\n",
              "  'd7',\n",
              "  'd3',\n",
              "  'd38',\n",
              "  'd9',\n",
              "  'd16',\n",
              "  'd1'],\n",
              " ['d17',\n",
              "  'd45',\n",
              "  'd47',\n",
              "  'd4',\n",
              "  'd5',\n",
              "  'd22',\n",
              "  'd39',\n",
              "  'd32',\n",
              "  'd11',\n",
              "  'd27',\n",
              "  'd43',\n",
              "  'd33',\n",
              "  'd37',\n",
              "  'd28',\n",
              "  'd7',\n",
              "  'd3',\n",
              "  'd38',\n",
              "  'd9',\n",
              "  'd16',\n",
              "  'd1'],\n",
              " ['d45',\n",
              "  'd47',\n",
              "  'd4',\n",
              "  'd5',\n",
              "  'd22',\n",
              "  'd39',\n",
              "  'd32',\n",
              "  'd11',\n",
              "  'd27',\n",
              "  'd43',\n",
              "  'd33',\n",
              "  'd37',\n",
              "  'd28',\n",
              "  'd7',\n",
              "  'd3',\n",
              "  'd38',\n",
              "  'd9',\n",
              "  'd16',\n",
              "  'd1'],\n",
              " ['d47',\n",
              "  'd4',\n",
              "  'd5',\n",
              "  'd22',\n",
              "  'd39',\n",
              "  'd32',\n",
              "  'd11',\n",
              "  'd27',\n",
              "  'd43',\n",
              "  'd33',\n",
              "  'd37',\n",
              "  'd28',\n",
              "  'd7',\n",
              "  'd3',\n",
              "  'd38',\n",
              "  'd9',\n",
              "  'd16',\n",
              "  'd1'],\n",
              " ['d4',\n",
              "  'd5',\n",
              "  'd22',\n",
              "  'd39',\n",
              "  'd32',\n",
              "  'd11',\n",
              "  'd27',\n",
              "  'd43',\n",
              "  'd33',\n",
              "  'd37',\n",
              "  'd28',\n",
              "  'd7',\n",
              "  'd3',\n",
              "  'd38',\n",
              "  'd9',\n",
              "  'd16',\n",
              "  'd1'],\n",
              " ['d5',\n",
              "  'd22',\n",
              "  'd39',\n",
              "  'd32',\n",
              "  'd11',\n",
              "  'd27',\n",
              "  'd43',\n",
              "  'd33',\n",
              "  'd37',\n",
              "  'd28',\n",
              "  'd7',\n",
              "  'd3',\n",
              "  'd38',\n",
              "  'd9',\n",
              "  'd16',\n",
              "  'd1'],\n",
              " ['d22',\n",
              "  'd39',\n",
              "  'd32',\n",
              "  'd11',\n",
              "  'd27',\n",
              "  'd43',\n",
              "  'd33',\n",
              "  'd37',\n",
              "  'd28',\n",
              "  'd7',\n",
              "  'd3',\n",
              "  'd38',\n",
              "  'd9',\n",
              "  'd16',\n",
              "  'd1'],\n",
              " ['d39',\n",
              "  'd32',\n",
              "  'd11',\n",
              "  'd27',\n",
              "  'd43',\n",
              "  'd33',\n",
              "  'd37',\n",
              "  'd28',\n",
              "  'd7',\n",
              "  'd3',\n",
              "  'd38',\n",
              "  'd9',\n",
              "  'd16',\n",
              "  'd1'],\n",
              " ['d32',\n",
              "  'd11',\n",
              "  'd27',\n",
              "  'd43',\n",
              "  'd33',\n",
              "  'd37',\n",
              "  'd28',\n",
              "  'd7',\n",
              "  'd3',\n",
              "  'd38',\n",
              "  'd9',\n",
              "  'd16',\n",
              "  'd1'],\n",
              " ['d11',\n",
              "  'd27',\n",
              "  'd43',\n",
              "  'd33',\n",
              "  'd37',\n",
              "  'd28',\n",
              "  'd7',\n",
              "  'd3',\n",
              "  'd38',\n",
              "  'd9',\n",
              "  'd16',\n",
              "  'd1'],\n",
              " ['d27', 'd43', 'd33', 'd37', 'd28', 'd7', 'd3', 'd38', 'd9', 'd16', 'd1'],\n",
              " ['d43', 'd33', 'd37', 'd28', 'd7', 'd3', 'd38', 'd9', 'd16', 'd1'],\n",
              " ['d33', 'd37', 'd28', 'd7', 'd3', 'd38', 'd9', 'd16', 'd1'],\n",
              " ['d37', 'd28', 'd7', 'd3', 'd38', 'd9', 'd16', 'd1'],\n",
              " ['d28', 'd7', 'd3', 'd38', 'd9', 'd16', 'd1'],\n",
              " ['d7', 'd3', 'd38', 'd9', 'd16', 'd1'],\n",
              " ['d3', 'd38', 'd9', 'd16', 'd1'],\n",
              " ['d38', 'd9', 'd16', 'd1'],\n",
              " ['d9', 'd16', 'd1'],\n",
              " ['d16', 'd1'],\n",
              " ['d1'],\n",
              " []]"
            ]
          },
          "metadata": {},
          "execution_count": 67
        }
      ]
    },
    {
      "cell_type": "code",
      "metadata": {
        "id": "pM5sUFpGjsJp",
        "colab": {
          "base_uri": "https://localhost:8080/"
        },
        "outputId": "86b9a295-00f1-418a-c82a-91ae8e62aa38"
      },
      "source": [
        "policy_set=[]\n",
        "\n",
        "for pol in policy:\n",
        "  policy_set+=pol\n",
        "\n",
        "policy_set=list(set(policy_set))\n",
        "\n",
        "column=bigram_simple_POS.columns\n",
        "drop_features=[]\n",
        "for i in range(len(column)-1):\n",
        "  if not 'd{}'.format(i) in policy_set:\n",
        "    drop_features.append(column[i])\n",
        "\n",
        "drop_features"
      ],
      "execution_count": null,
      "outputs": [
        {
          "output_type": "execute_result",
          "data": {
            "text/plain": [
              "['num conj',\n",
              " 'conj adp',\n",
              " '. num',\n",
              " 'det conj',\n",
              " 'det det',\n",
              " 'conj num',\n",
              " 'conj adv',\n",
              " 'conj .',\n",
              " 'det adv',\n",
              " 'adj num',\n",
              " 'adj pron',\n",
              " '. .',\n",
              " '. adv',\n",
              " 'conj adj',\n",
              " 'det adp',\n",
              " 'adj conj',\n",
              " 'adj prt',\n",
              " 'adp conj',\n",
              " 'adj det',\n",
              " '. prt',\n",
              " 'adv conj',\n",
              " '. x']"
            ]
          },
          "metadata": {},
          "execution_count": 68
        }
      ]
    },
    {
      "cell_type": "code",
      "metadata": {
        "id": "1I2xz3pVjsJq",
        "colab": {
          "base_uri": "https://localhost:8080/"
        },
        "outputId": "5e472d6f-b17e-4997-8ba7-ea6841cfb0d8"
      },
      "source": [
        "len(drop_features)"
      ],
      "execution_count": null,
      "outputs": [
        {
          "output_type": "execute_result",
          "data": {
            "text/plain": [
              "22"
            ]
          },
          "metadata": {},
          "execution_count": 69
        }
      ]
    },
    {
      "cell_type": "code",
      "metadata": {
        "id": "W-Esp-K62oDo"
      },
      "source": [
        "# Save features to drop into a text file.\n",
        "\n",
        "f = open(\"drop_claim_premise_bigram_simple_POS.txt\", \"a\")\n",
        "for feature in drop_features:\n",
        "  f.write(\"{}-\".format(feature))\n",
        "f.close()"
      ],
      "execution_count": null,
      "outputs": []
    },
    {
      "cell_type": "code",
      "metadata": {
        "id": "dZ7_12IHjsJr"
      },
      "source": [
        "if len(policy_set)>1:\n",
        "  bigram_simple_POS=bigram_simple_POS.drop(columns=drop_features)"
      ],
      "execution_count": null,
      "outputs": []
    },
    {
      "cell_type": "code",
      "metadata": {
        "id": "gjk1eMsJd5P1",
        "colab": {
          "base_uri": "https://localhost:8080/",
          "height": 542
        },
        "outputId": "1e053120-16c3-4c48-9a36-1a2cb75c6de5"
      },
      "source": [
        "global_explainability_tabular.loc[\"True\"][:15]"
      ],
      "execution_count": null,
      "outputs": [
        {
          "output_type": "execute_result",
          "data": {
            "text/html": [
              "<div>\n",
              "<style scoped>\n",
              "    .dataframe tbody tr th:only-of-type {\n",
              "        vertical-align: middle;\n",
              "    }\n",
              "\n",
              "    .dataframe tbody tr th {\n",
              "        vertical-align: top;\n",
              "    }\n",
              "\n",
              "    .dataframe thead th {\n",
              "        text-align: right;\n",
              "    }\n",
              "</style>\n",
              "<table border=\"1\" class=\"dataframe\">\n",
              "  <thead>\n",
              "    <tr style=\"text-align: right;\">\n",
              "      <th></th>\n",
              "      <th>features</th>\n",
              "      <th>score</th>\n",
              "    </tr>\n",
              "    <tr>\n",
              "      <th>argumentative</th>\n",
              "      <th></th>\n",
              "      <th></th>\n",
              "    </tr>\n",
              "  </thead>\n",
              "  <tbody>\n",
              "    <tr>\n",
              "      <th>True</th>\n",
              "      <td>adj verb: 1</td>\n",
              "      <td>0.000211</td>\n",
              "    </tr>\n",
              "    <tr>\n",
              "      <th>True</th>\n",
              "      <td>noun verb: 0</td>\n",
              "      <td>0.000092</td>\n",
              "    </tr>\n",
              "    <tr>\n",
              "      <th>True</th>\n",
              "      <td>. verb: 1</td>\n",
              "      <td>0.000083</td>\n",
              "    </tr>\n",
              "    <tr>\n",
              "      <th>True</th>\n",
              "      <td>adj verb: 2</td>\n",
              "      <td>0.000060</td>\n",
              "    </tr>\n",
              "    <tr>\n",
              "      <th>True</th>\n",
              "      <td>det .: 1</td>\n",
              "      <td>0.000058</td>\n",
              "    </tr>\n",
              "    <tr>\n",
              "      <th>True</th>\n",
              "      <td>adj noun: 6</td>\n",
              "      <td>0.000039</td>\n",
              "    </tr>\n",
              "    <tr>\n",
              "      <th>True</th>\n",
              "      <td>adv noun: 1</td>\n",
              "      <td>0.000037</td>\n",
              "    </tr>\n",
              "    <tr>\n",
              "      <th>True</th>\n",
              "      <td>noun adp: 5</td>\n",
              "      <td>0.000033</td>\n",
              "    </tr>\n",
              "    <tr>\n",
              "      <th>True</th>\n",
              "      <td>det adj: 1</td>\n",
              "      <td>0.000030</td>\n",
              "    </tr>\n",
              "    <tr>\n",
              "      <th>True</th>\n",
              "      <td>adp noun: 3</td>\n",
              "      <td>0.000027</td>\n",
              "    </tr>\n",
              "    <tr>\n",
              "      <th>True</th>\n",
              "      <td>conj pron: 1</td>\n",
              "      <td>0.000027</td>\n",
              "    </tr>\n",
              "    <tr>\n",
              "      <th>True</th>\n",
              "      <td>noun verb: 1</td>\n",
              "      <td>0.000024</td>\n",
              "    </tr>\n",
              "    <tr>\n",
              "      <th>True</th>\n",
              "      <td>. pron: 1</td>\n",
              "      <td>0.000023</td>\n",
              "    </tr>\n",
              "    <tr>\n",
              "      <th>True</th>\n",
              "      <td>adv verb: 2</td>\n",
              "      <td>0.000022</td>\n",
              "    </tr>\n",
              "    <tr>\n",
              "      <th>True</th>\n",
              "      <td>adp .: 1</td>\n",
              "      <td>0.000020</td>\n",
              "    </tr>\n",
              "  </tbody>\n",
              "</table>\n",
              "</div>"
            ],
            "text/plain": [
              "                   features     score\n",
              "argumentative                        \n",
              "True            adj verb: 1  0.000211\n",
              "True           noun verb: 0  0.000092\n",
              "True              . verb: 1  0.000083\n",
              "True            adj verb: 2  0.000060\n",
              "True               det .: 1  0.000058\n",
              "True            adj noun: 6  0.000039\n",
              "True            adv noun: 1  0.000037\n",
              "True            noun adp: 5  0.000033\n",
              "True             det adj: 1  0.000030\n",
              "True            adp noun: 3  0.000027\n",
              "True           conj pron: 1  0.000027\n",
              "True           noun verb: 1  0.000024\n",
              "True              . pron: 1  0.000023\n",
              "True            adv verb: 2  0.000022\n",
              "True               adp .: 1  0.000020"
            ]
          },
          "metadata": {},
          "execution_count": 72
        }
      ]
    },
    {
      "cell_type": "code",
      "metadata": {
        "id": "olcs9t-ld5P2",
        "colab": {
          "base_uri": "https://localhost:8080/",
          "height": 388
        },
        "outputId": "7107ec53-5def-42b0-c94b-706f80a58d96"
      },
      "source": [
        "global_explainability_tabular.loc[\"False\"][:10]"
      ],
      "execution_count": null,
      "outputs": [
        {
          "output_type": "execute_result",
          "data": {
            "text/html": [
              "<div>\n",
              "<style scoped>\n",
              "    .dataframe tbody tr th:only-of-type {\n",
              "        vertical-align: middle;\n",
              "    }\n",
              "\n",
              "    .dataframe tbody tr th {\n",
              "        vertical-align: top;\n",
              "    }\n",
              "\n",
              "    .dataframe thead th {\n",
              "        text-align: right;\n",
              "    }\n",
              "</style>\n",
              "<table border=\"1\" class=\"dataframe\">\n",
              "  <thead>\n",
              "    <tr style=\"text-align: right;\">\n",
              "      <th></th>\n",
              "      <th>features</th>\n",
              "      <th>score</th>\n",
              "    </tr>\n",
              "    <tr>\n",
              "      <th>argumentative</th>\n",
              "      <th></th>\n",
              "      <th></th>\n",
              "    </tr>\n",
              "  </thead>\n",
              "  <tbody>\n",
              "    <tr>\n",
              "      <th>False</th>\n",
              "      <td>noun verb: 0</td>\n",
              "      <td>0.000130</td>\n",
              "    </tr>\n",
              "    <tr>\n",
              "      <th>False</th>\n",
              "      <td>adj verb: 1</td>\n",
              "      <td>0.000095</td>\n",
              "    </tr>\n",
              "    <tr>\n",
              "      <th>False</th>\n",
              "      <td>adv noun: 2</td>\n",
              "      <td>0.000070</td>\n",
              "    </tr>\n",
              "    <tr>\n",
              "      <th>False</th>\n",
              "      <td>adv noun: 1</td>\n",
              "      <td>0.000063</td>\n",
              "    </tr>\n",
              "    <tr>\n",
              "      <th>False</th>\n",
              "      <td>. verb: 1</td>\n",
              "      <td>0.000056</td>\n",
              "    </tr>\n",
              "    <tr>\n",
              "      <th>False</th>\n",
              "      <td>conj pron: 1</td>\n",
              "      <td>0.000045</td>\n",
              "    </tr>\n",
              "    <tr>\n",
              "      <th>False</th>\n",
              "      <td>adv verb: 2</td>\n",
              "      <td>0.000035</td>\n",
              "    </tr>\n",
              "    <tr>\n",
              "      <th>False</th>\n",
              "      <td>adp adj: 4</td>\n",
              "      <td>0.000035</td>\n",
              "    </tr>\n",
              "    <tr>\n",
              "      <th>False</th>\n",
              "      <td>. pron: 1</td>\n",
              "      <td>0.000029</td>\n",
              "    </tr>\n",
              "    <tr>\n",
              "      <th>False</th>\n",
              "      <td>. noun: 3</td>\n",
              "      <td>0.000028</td>\n",
              "    </tr>\n",
              "  </tbody>\n",
              "</table>\n",
              "</div>"
            ],
            "text/plain": [
              "                   features     score\n",
              "argumentative                        \n",
              "False          noun verb: 0  0.000130\n",
              "False           adj verb: 1  0.000095\n",
              "False           adv noun: 2  0.000070\n",
              "False           adv noun: 1  0.000063\n",
              "False             . verb: 1  0.000056\n",
              "False          conj pron: 1  0.000045\n",
              "False           adv verb: 2  0.000035\n",
              "False            adp adj: 4  0.000035\n",
              "False             . pron: 1  0.000029\n",
              "False             . noun: 3  0.000028"
            ]
          },
          "metadata": {},
          "execution_count": 73
        }
      ]
    },
    {
      "cell_type": "markdown",
      "metadata": {
        "id": "MGyHotXeIlnJ"
      },
      "source": [
        "## **Dependency BOW dataframe**"
      ]
    },
    {
      "cell_type": "code",
      "metadata": {
        "id": "bcxPubvMd--G",
        "colab": {
          "base_uri": "https://localhost:8080/"
        },
        "outputId": "35509133-eee2-408f-cbfa-cfca46d992e4"
      },
      "source": [
        "ground_labels, _, labels, _, _, policy=stc_procedure(dependency,true_labels)"
      ],
      "execution_count": null,
      "outputs": [
        {
          "output_type": "stream",
          "name": "stdout",
          "text": [
            ""
          ]
        }
      ]
    },
    {
      "cell_type": "code",
      "metadata": {
        "id": "7O1tkVoqxNEl",
        "colab": {
          "base_uri": "https://localhost:8080/"
        },
        "outputId": "4cb1f7ff-7921-4a72-da2a-ffa3a14320c0"
      },
      "source": [
        "_, global_explainability_tabular, _, _, _, _=stc_procedure_tabular(dependency,true_labels)"
      ],
      "execution_count": null,
      "outputs": [
        {
          "output_type": "stream",
          "name": "stdout",
          "text": [
            ""
          ]
        }
      ]
    },
    {
      "cell_type": "code",
      "metadata": {
        "id": "ahDQKMPqzhZM"
      },
      "source": [
        "accuracy=accuracy_score(ground_labels, labels)\n",
        "f1_score_value=f1_score(y_true=ground_labels, y_pred=labels, pos_label=\"True\")\n",
        "precision=precision_score(ground_labels, labels, pos_label=\"True\")\n",
        "recall=recall_score(ground_labels, labels, pos_label=\"True\")"
      ],
      "execution_count": null,
      "outputs": []
    },
    {
      "cell_type": "code",
      "metadata": {
        "id": "XV9Ywy6tzhZN"
      },
      "source": [
        "accuracy_scores.append(accuracy)\n",
        "f1_scores.append(f1_score_value)\n",
        "precision_scores.append(precision)\n",
        "recall_scores.append(recall)"
      ],
      "execution_count": null,
      "outputs": []
    },
    {
      "cell_type": "code",
      "metadata": {
        "id": "uLO4863mzhZN",
        "colab": {
          "base_uri": "https://localhost:8080/"
        },
        "outputId": "6b21a4e9-8f52-49ee-9496-65ba9071fb9f"
      },
      "source": [
        "print('accuracy: {}'.format(accuracy))\n",
        "print('f1 score: {}'.format(f1_score_value))\n",
        "print('precision: {}'.format(precision))\n",
        "print('recall: {}'.format(recall))"
      ],
      "execution_count": null,
      "outputs": [
        {
          "output_type": "stream",
          "name": "stdout",
          "text": [
            "accuracy: 0.5550660792951542\n",
            "f1 score: 0.4465753424657534\n",
            "precision: 0.4054726368159204\n",
            "recall: 0.4969512195121951\n"
          ]
        }
      ]
    },
    {
      "cell_type": "code",
      "metadata": {
        "id": "kIVgdz2nd--J",
        "colab": {
          "base_uri": "https://localhost:8080/"
        },
        "outputId": "87d6376d-1593-492a-af79-c8e75f4d7587"
      },
      "source": [
        "policy"
      ],
      "execution_count": null,
      "outputs": [
        {
          "output_type": "execute_result",
          "data": {
            "text/plain": [
              "[['d11',\n",
              "  'd6',\n",
              "  'd13',\n",
              "  'd0',\n",
              "  'd3',\n",
              "  'd8',\n",
              "  'd5',\n",
              "  'd20',\n",
              "  'd19',\n",
              "  'd34',\n",
              "  'd27',\n",
              "  'd12',\n",
              "  'd39'],\n",
              " ['d6',\n",
              "  'd13',\n",
              "  'd0',\n",
              "  'd3',\n",
              "  'd8',\n",
              "  'd5',\n",
              "  'd20',\n",
              "  'd19',\n",
              "  'd34',\n",
              "  'd27',\n",
              "  'd12',\n",
              "  'd39'],\n",
              " ['d13', 'd0', 'd3', 'd8', 'd5', 'd20', 'd19', 'd34', 'd27', 'd12', 'd39'],\n",
              " ['d0', 'd3', 'd8', 'd5', 'd20', 'd19', 'd34', 'd27', 'd12', 'd39'],\n",
              " ['d3', 'd8', 'd5', 'd20', 'd19', 'd34', 'd27', 'd12', 'd39'],\n",
              " ['d8', 'd5', 'd20', 'd19', 'd34', 'd27', 'd12', 'd39'],\n",
              " ['d5', 'd20', 'd19', 'd34', 'd27', 'd12', 'd39'],\n",
              " ['d20', 'd19', 'd34', 'd27', 'd12', 'd39'],\n",
              " ['d19', 'd34', 'd27', 'd12', 'd39'],\n",
              " ['d34', 'd27', 'd12', 'd39'],\n",
              " ['d27', 'd12', 'd39'],\n",
              " ['d12', 'd39'],\n",
              " ['d39'],\n",
              " []]"
            ]
          },
          "metadata": {},
          "execution_count": 79
        }
      ]
    },
    {
      "cell_type": "code",
      "metadata": {
        "id": "oG0XLvHEjtOC",
        "colab": {
          "base_uri": "https://localhost:8080/"
        },
        "outputId": "9ee725e4-7070-4ff2-e8be-5dbf1f1520b6"
      },
      "source": [
        "policy_set=[]\n",
        "\n",
        "for pol in policy:\n",
        "  policy_set+=pol\n",
        "\n",
        "policy_set=list(set(policy_set))\n",
        "\n",
        "column=dependency.columns\n",
        "drop_features=[]\n",
        "for i in range(len(column)-1):\n",
        "  if not 'd{}'.format(i) in policy_set:\n",
        "    drop_features.append(column[i])\n",
        "\n",
        "drop_features"
      ],
      "execution_count": null,
      "outputs": [
        {
          "output_type": "execute_result",
          "data": {
            "text/plain": [
              "['acomp',\n",
              " 'advcl',\n",
              " 'agent',\n",
              " 'attr',\n",
              " 'auxpass',\n",
              " 'case',\n",
              " 'conj',\n",
              " 'csubj',\n",
              " 'csubjpass',\n",
              " 'dative',\n",
              " 'dep',\n",
              " 'expl',\n",
              " 'intj',\n",
              " 'mark',\n",
              " 'neg',\n",
              " 'nmod',\n",
              " 'npadvmod',\n",
              " 'nsubjpass',\n",
              " 'nummod',\n",
              " 'oprd',\n",
              " 'parataxis',\n",
              " 'pcomp',\n",
              " 'po',\n",
              " 'preconj',\n",
              " 'predet',\n",
              " 'prep',\n",
              " 'prt',\n",
              " 'quantmod',\n",
              " 'relcl',\n",
              " 'root',\n",
              " 'xcomp']"
            ]
          },
          "metadata": {},
          "execution_count": 80
        }
      ]
    },
    {
      "cell_type": "code",
      "metadata": {
        "id": "sCgiRuQJjtOD",
        "colab": {
          "base_uri": "https://localhost:8080/"
        },
        "outputId": "3bb69cb2-d084-4863-eb0a-b1f42e807d39"
      },
      "source": [
        "len(drop_features)"
      ],
      "execution_count": null,
      "outputs": [
        {
          "output_type": "execute_result",
          "data": {
            "text/plain": [
              "31"
            ]
          },
          "metadata": {},
          "execution_count": 81
        }
      ]
    },
    {
      "cell_type": "code",
      "metadata": {
        "id": "o0MSaNRv2xa9"
      },
      "source": [
        "# Save features to drop into a text file.\n",
        "\n",
        "f = open(\"drop_claim_premise_dependency.txt\", \"a\")\n",
        "for feature in drop_features:\n",
        "  f.write(\"{}-\".format(feature))\n",
        "f.close()"
      ],
      "execution_count": null,
      "outputs": []
    },
    {
      "cell_type": "code",
      "metadata": {
        "id": "arQ7mkhEjtOE"
      },
      "source": [
        "if len(policy_set)>1:\n",
        "  dependency=dependency.drop(columns=drop_features)"
      ],
      "execution_count": null,
      "outputs": []
    },
    {
      "cell_type": "code",
      "metadata": {
        "id": "WgjlMKLCd--J",
        "colab": {
          "base_uri": "https://localhost:8080/",
          "height": 542
        },
        "outputId": "e031fd6a-983f-4290-a925-bc75b802366b"
      },
      "source": [
        "global_explainability_tabular.loc[\"True\"][:15]"
      ],
      "execution_count": null,
      "outputs": [
        {
          "output_type": "execute_result",
          "data": {
            "text/html": [
              "<div>\n",
              "<style scoped>\n",
              "    .dataframe tbody tr th:only-of-type {\n",
              "        vertical-align: middle;\n",
              "    }\n",
              "\n",
              "    .dataframe tbody tr th {\n",
              "        vertical-align: top;\n",
              "    }\n",
              "\n",
              "    .dataframe thead th {\n",
              "        text-align: right;\n",
              "    }\n",
              "</style>\n",
              "<table border=\"1\" class=\"dataframe\">\n",
              "  <thead>\n",
              "    <tr style=\"text-align: right;\">\n",
              "      <th></th>\n",
              "      <th>features</th>\n",
              "      <th>score</th>\n",
              "    </tr>\n",
              "    <tr>\n",
              "      <th>argumentative</th>\n",
              "      <th></th>\n",
              "      <th></th>\n",
              "    </tr>\n",
              "  </thead>\n",
              "  <tbody>\n",
              "    <tr>\n",
              "      <th>True</th>\n",
              "      <td>csubj: 1</td>\n",
              "      <td>0.000245</td>\n",
              "    </tr>\n",
              "    <tr>\n",
              "      <th>True</th>\n",
              "      <td>mark: 2</td>\n",
              "      <td>0.000145</td>\n",
              "    </tr>\n",
              "    <tr>\n",
              "      <th>True</th>\n",
              "      <td>ccomp: 1</td>\n",
              "      <td>0.000136</td>\n",
              "    </tr>\n",
              "    <tr>\n",
              "      <th>True</th>\n",
              "      <td>punct: 0</td>\n",
              "      <td>0.000133</td>\n",
              "    </tr>\n",
              "    <tr>\n",
              "      <th>True</th>\n",
              "      <td>punct: 1</td>\n",
              "      <td>0.000102</td>\n",
              "    </tr>\n",
              "    <tr>\n",
              "      <th>True</th>\n",
              "      <td>csubjpass: 1</td>\n",
              "      <td>0.000068</td>\n",
              "    </tr>\n",
              "    <tr>\n",
              "      <th>True</th>\n",
              "      <td>ccomp: 0</td>\n",
              "      <td>0.000067</td>\n",
              "    </tr>\n",
              "    <tr>\n",
              "      <th>True</th>\n",
              "      <td>acl: 1</td>\n",
              "      <td>0.000058</td>\n",
              "    </tr>\n",
              "    <tr>\n",
              "      <th>True</th>\n",
              "      <td>advmod: 0</td>\n",
              "      <td>0.000054</td>\n",
              "    </tr>\n",
              "    <tr>\n",
              "      <th>True</th>\n",
              "      <td>npadvmod: 1</td>\n",
              "      <td>0.000054</td>\n",
              "    </tr>\n",
              "    <tr>\n",
              "      <th>True</th>\n",
              "      <td>ccomp: 2</td>\n",
              "      <td>0.000047</td>\n",
              "    </tr>\n",
              "    <tr>\n",
              "      <th>True</th>\n",
              "      <td>amod: 7</td>\n",
              "      <td>0.000044</td>\n",
              "    </tr>\n",
              "    <tr>\n",
              "      <th>True</th>\n",
              "      <td>advmod: 1</td>\n",
              "      <td>0.000039</td>\n",
              "    </tr>\n",
              "    <tr>\n",
              "      <th>True</th>\n",
              "      <td>cc: 0</td>\n",
              "      <td>0.000039</td>\n",
              "    </tr>\n",
              "    <tr>\n",
              "      <th>True</th>\n",
              "      <td>mark: 0</td>\n",
              "      <td>0.000039</td>\n",
              "    </tr>\n",
              "  </tbody>\n",
              "</table>\n",
              "</div>"
            ],
            "text/plain": [
              "                   features     score\n",
              "argumentative                        \n",
              "True               csubj: 1  0.000245\n",
              "True                mark: 2  0.000145\n",
              "True               ccomp: 1  0.000136\n",
              "True               punct: 0  0.000133\n",
              "True               punct: 1  0.000102\n",
              "True           csubjpass: 1  0.000068\n",
              "True               ccomp: 0  0.000067\n",
              "True                 acl: 1  0.000058\n",
              "True              advmod: 0  0.000054\n",
              "True            npadvmod: 1  0.000054\n",
              "True               ccomp: 2  0.000047\n",
              "True                amod: 7  0.000044\n",
              "True              advmod: 1  0.000039\n",
              "True                  cc: 0  0.000039\n",
              "True                mark: 0  0.000039"
            ]
          },
          "metadata": {},
          "execution_count": 84
        }
      ]
    },
    {
      "cell_type": "code",
      "metadata": {
        "id": "j6WRJD3Od--K",
        "colab": {
          "base_uri": "https://localhost:8080/",
          "height": 388
        },
        "outputId": "95adc9e3-a7e8-4925-a1ad-f5e35fb7282a"
      },
      "source": [
        "global_explainability_tabular.loc[\"False\"][:10]"
      ],
      "execution_count": null,
      "outputs": [
        {
          "output_type": "execute_result",
          "data": {
            "text/html": [
              "<div>\n",
              "<style scoped>\n",
              "    .dataframe tbody tr th:only-of-type {\n",
              "        vertical-align: middle;\n",
              "    }\n",
              "\n",
              "    .dataframe tbody tr th {\n",
              "        vertical-align: top;\n",
              "    }\n",
              "\n",
              "    .dataframe thead th {\n",
              "        text-align: right;\n",
              "    }\n",
              "</style>\n",
              "<table border=\"1\" class=\"dataframe\">\n",
              "  <thead>\n",
              "    <tr style=\"text-align: right;\">\n",
              "      <th></th>\n",
              "      <th>features</th>\n",
              "      <th>score</th>\n",
              "    </tr>\n",
              "    <tr>\n",
              "      <th>argumentative</th>\n",
              "      <th></th>\n",
              "      <th></th>\n",
              "    </tr>\n",
              "  </thead>\n",
              "  <tbody>\n",
              "    <tr>\n",
              "      <th>False</th>\n",
              "      <td>punct: 0</td>\n",
              "      <td>0.000207</td>\n",
              "    </tr>\n",
              "    <tr>\n",
              "      <th>False</th>\n",
              "      <td>intj: 1</td>\n",
              "      <td>0.000135</td>\n",
              "    </tr>\n",
              "    <tr>\n",
              "      <th>False</th>\n",
              "      <td>compound: 4</td>\n",
              "      <td>0.000128</td>\n",
              "    </tr>\n",
              "    <tr>\n",
              "      <th>False</th>\n",
              "      <td>csubj: 1</td>\n",
              "      <td>0.000115</td>\n",
              "    </tr>\n",
              "    <tr>\n",
              "      <th>False</th>\n",
              "      <td>npadvmod: 1</td>\n",
              "      <td>0.000104</td>\n",
              "    </tr>\n",
              "    <tr>\n",
              "      <th>False</th>\n",
              "      <td>ccomp: 1</td>\n",
              "      <td>0.000098</td>\n",
              "    </tr>\n",
              "    <tr>\n",
              "      <th>False</th>\n",
              "      <td>dep: 1</td>\n",
              "      <td>0.000090</td>\n",
              "    </tr>\n",
              "    <tr>\n",
              "      <th>False</th>\n",
              "      <td>punct: 1</td>\n",
              "      <td>0.000082</td>\n",
              "    </tr>\n",
              "    <tr>\n",
              "      <th>False</th>\n",
              "      <td>ccomp: 0</td>\n",
              "      <td>0.000078</td>\n",
              "    </tr>\n",
              "    <tr>\n",
              "      <th>False</th>\n",
              "      <td>mark: 2</td>\n",
              "      <td>0.000074</td>\n",
              "    </tr>\n",
              "  </tbody>\n",
              "</table>\n",
              "</div>"
            ],
            "text/plain": [
              "                  features     score\n",
              "argumentative                       \n",
              "False             punct: 0  0.000207\n",
              "False              intj: 1  0.000135\n",
              "False          compound: 4  0.000128\n",
              "False             csubj: 1  0.000115\n",
              "False          npadvmod: 1  0.000104\n",
              "False             ccomp: 1  0.000098\n",
              "False               dep: 1  0.000090\n",
              "False             punct: 1  0.000082\n",
              "False             ccomp: 0  0.000078\n",
              "False              mark: 2  0.000074"
            ]
          },
          "metadata": {},
          "execution_count": 85
        }
      ]
    },
    {
      "cell_type": "markdown",
      "metadata": {
        "id": "oyDiCmkiIsnv"
      },
      "source": [
        "## **Dependency tree stat**"
      ]
    },
    {
      "cell_type": "code",
      "metadata": {
        "id": "JwvH9299eLmg",
        "colab": {
          "base_uri": "https://localhost:8080/"
        },
        "outputId": "8dd89502-9417-4233-fde8-8fa955603065"
      },
      "source": [
        "ground_labels, _, labels, _, _, policy=stc_procedure(dependency_tree_stat,true_labels)"
      ],
      "execution_count": null,
      "outputs": [
        {
          "output_type": "stream",
          "name": "stdout",
          "text": [
            ""
          ]
        }
      ]
    },
    {
      "cell_type": "code",
      "metadata": {
        "id": "RmnBVh9xxWZq",
        "colab": {
          "base_uri": "https://localhost:8080/"
        },
        "outputId": "6fa78ac9-c933-4c27-cfd9-33942e13b0d0"
      },
      "source": [
        "_, global_explainability_tabular, _, _, _, _=stc_procedure_tabular(dependency_tree_stat,true_labels)"
      ],
      "execution_count": null,
      "outputs": [
        {
          "output_type": "stream",
          "name": "stdout",
          "text": [
            ""
          ]
        }
      ]
    },
    {
      "cell_type": "code",
      "metadata": {
        "id": "Qkdy2TerzlUZ"
      },
      "source": [
        "accuracy=accuracy_score(ground_labels, labels)\n",
        "f1_score_value=f1_score(y_true=ground_labels, y_pred=labels, pos_label=\"True\")\n",
        "precision=precision_score(ground_labels, labels, pos_label=\"True\")\n",
        "recall=recall_score(ground_labels, labels, pos_label=\"True\")"
      ],
      "execution_count": null,
      "outputs": []
    },
    {
      "cell_type": "code",
      "metadata": {
        "id": "DXn9_zg6zlUa"
      },
      "source": [
        "accuracy_scores.append(accuracy)\n",
        "f1_scores.append(f1_score_value)\n",
        "precision_scores.append(precision)\n",
        "recall_scores.append(recall)"
      ],
      "execution_count": null,
      "outputs": []
    },
    {
      "cell_type": "code",
      "metadata": {
        "id": "YFu3ln29zlUb",
        "colab": {
          "base_uri": "https://localhost:8080/"
        },
        "outputId": "abd69687-2fd8-45bd-aaa3-a71208399280"
      },
      "source": [
        "print('accuracy: {}'.format(accuracy))\n",
        "print('f1 score: {}'.format(f1_score_value))\n",
        "print('precision: {}'.format(precision))\n",
        "print('recall: {}'.format(recall))"
      ],
      "execution_count": null,
      "outputs": [
        {
          "output_type": "stream",
          "name": "stdout",
          "text": [
            "accuracy: 0.512114537444934\n",
            "f1 score: 0.4269081500646831\n",
            "precision: 0.3707865168539326\n",
            "recall: 0.5030487804878049\n"
          ]
        }
      ]
    },
    {
      "cell_type": "code",
      "metadata": {
        "id": "sLzeW3FueLmj",
        "colab": {
          "base_uri": "https://localhost:8080/"
        },
        "outputId": "4cbbfb7b-b682-442d-c9fa-c092f781e495"
      },
      "source": [
        "policy"
      ],
      "execution_count": null,
      "outputs": [
        {
          "output_type": "execute_result",
          "data": {
            "text/plain": [
              "[['d0', 'd1'], ['d1'], []]"
            ]
          },
          "metadata": {},
          "execution_count": 91
        }
      ]
    },
    {
      "cell_type": "code",
      "metadata": {
        "id": "AZjdqts3juhD",
        "colab": {
          "base_uri": "https://localhost:8080/"
        },
        "outputId": "58b160d7-acad-4563-b53a-bfbbcbedf880"
      },
      "source": [
        "policy_set=[]\n",
        "\n",
        "for pol in policy:\n",
        "  policy_set+=pol\n",
        "\n",
        "policy_set=list(set(policy_set))\n",
        "\n",
        "column=dependency_tree_stat.columns\n",
        "drop_features=[]\n",
        "for i in range(len(column)-1):\n",
        "  if not 'd{}'.format(i) in policy_set:\n",
        "    drop_features.append(column[i])\n",
        "\n",
        "drop_features"
      ],
      "execution_count": null,
      "outputs": [
        {
          "output_type": "execute_result",
          "data": {
            "text/plain": [
              "[]"
            ]
          },
          "metadata": {},
          "execution_count": 92
        }
      ]
    },
    {
      "cell_type": "code",
      "metadata": {
        "id": "068HSYKajuhE",
        "colab": {
          "base_uri": "https://localhost:8080/"
        },
        "outputId": "cfb261ab-ffc5-4cb2-ab48-8f44e00eaf7b"
      },
      "source": [
        "len(drop_features)"
      ],
      "execution_count": null,
      "outputs": [
        {
          "output_type": "execute_result",
          "data": {
            "text/plain": [
              "0"
            ]
          },
          "metadata": {},
          "execution_count": 93
        }
      ]
    },
    {
      "cell_type": "code",
      "metadata": {
        "id": "MY6fqLdI25CP"
      },
      "source": [
        "# Save features to drop into a text file.\n",
        "\n",
        "f = open(\"drop_claim_premise_dependency_tree.txt\", \"a\")\n",
        "for feature in drop_features:\n",
        "  f.write(\"{}-\".format(feature))\n",
        "f.close()"
      ],
      "execution_count": null,
      "outputs": []
    },
    {
      "cell_type": "code",
      "metadata": {
        "id": "R7nPEas8juhE"
      },
      "source": [
        "if len(policy_set)>1:\n",
        "  dependency_tree_stat=dependency_tree_stat.drop(columns=drop_features)"
      ],
      "execution_count": null,
      "outputs": []
    },
    {
      "cell_type": "code",
      "metadata": {
        "id": "LFRC14lreLmj",
        "colab": {
          "base_uri": "https://localhost:8080/",
          "height": 542
        },
        "outputId": "4a59ed6c-01c1-4053-b802-64ce161ac6a4"
      },
      "source": [
        "global_explainability_tabular.loc[\"True\"][:15]"
      ],
      "execution_count": null,
      "outputs": [
        {
          "output_type": "execute_result",
          "data": {
            "text/html": [
              "<div>\n",
              "<style scoped>\n",
              "    .dataframe tbody tr th:only-of-type {\n",
              "        vertical-align: middle;\n",
              "    }\n",
              "\n",
              "    .dataframe tbody tr th {\n",
              "        vertical-align: top;\n",
              "    }\n",
              "\n",
              "    .dataframe thead th {\n",
              "        text-align: right;\n",
              "    }\n",
              "</style>\n",
              "<table border=\"1\" class=\"dataframe\">\n",
              "  <thead>\n",
              "    <tr style=\"text-align: right;\">\n",
              "      <th></th>\n",
              "      <th>features</th>\n",
              "      <th>score</th>\n",
              "    </tr>\n",
              "    <tr>\n",
              "      <th>argumentative</th>\n",
              "      <th></th>\n",
              "      <th></th>\n",
              "    </tr>\n",
              "  </thead>\n",
              "  <tbody>\n",
              "    <tr>\n",
              "      <th>True</th>\n",
              "      <td>max number of children of a ROOT node: 4</td>\n",
              "      <td>0.001205</td>\n",
              "    </tr>\n",
              "    <tr>\n",
              "      <th>True</th>\n",
              "      <td>max number of children of a ROOT node: 3</td>\n",
              "      <td>0.000769</td>\n",
              "    </tr>\n",
              "    <tr>\n",
              "      <th>True</th>\n",
              "      <td>tree depth: 7</td>\n",
              "      <td>0.000665</td>\n",
              "    </tr>\n",
              "    <tr>\n",
              "      <th>True</th>\n",
              "      <td>max number of children of a ROOT node: 9</td>\n",
              "      <td>0.000615</td>\n",
              "    </tr>\n",
              "    <tr>\n",
              "      <th>True</th>\n",
              "      <td>max number of children of a ROOT node: 2</td>\n",
              "      <td>0.000420</td>\n",
              "    </tr>\n",
              "    <tr>\n",
              "      <th>True</th>\n",
              "      <td>max number of children of a ROOT node: 5</td>\n",
              "      <td>0.000405</td>\n",
              "    </tr>\n",
              "    <tr>\n",
              "      <th>True</th>\n",
              "      <td>tree depth: 17</td>\n",
              "      <td>0.000376</td>\n",
              "    </tr>\n",
              "    <tr>\n",
              "      <th>True</th>\n",
              "      <td>max number of children of a ROOT node: 10</td>\n",
              "      <td>0.000222</td>\n",
              "    </tr>\n",
              "    <tr>\n",
              "      <th>True</th>\n",
              "      <td>tree depth: 8</td>\n",
              "      <td>0.000195</td>\n",
              "    </tr>\n",
              "    <tr>\n",
              "      <th>True</th>\n",
              "      <td>tree depth: 5</td>\n",
              "      <td>0.000180</td>\n",
              "    </tr>\n",
              "    <tr>\n",
              "      <th>True</th>\n",
              "      <td>max number of children of a ROOT node: 1</td>\n",
              "      <td>0.000175</td>\n",
              "    </tr>\n",
              "    <tr>\n",
              "      <th>True</th>\n",
              "      <td>tree depth: 10</td>\n",
              "      <td>0.000164</td>\n",
              "    </tr>\n",
              "    <tr>\n",
              "      <th>True</th>\n",
              "      <td>tree depth: 3</td>\n",
              "      <td>0.000160</td>\n",
              "    </tr>\n",
              "    <tr>\n",
              "      <th>True</th>\n",
              "      <td>tree depth: 9</td>\n",
              "      <td>0.000150</td>\n",
              "    </tr>\n",
              "    <tr>\n",
              "      <th>True</th>\n",
              "      <td>max number of children of a ROOT node: 11</td>\n",
              "      <td>0.000136</td>\n",
              "    </tr>\n",
              "  </tbody>\n",
              "</table>\n",
              "</div>"
            ],
            "text/plain": [
              "                                                features     score\n",
              "argumentative                                                     \n",
              "True            max number of children of a ROOT node: 4  0.001205\n",
              "True            max number of children of a ROOT node: 3  0.000769\n",
              "True                                       tree depth: 7  0.000665\n",
              "True            max number of children of a ROOT node: 9  0.000615\n",
              "True            max number of children of a ROOT node: 2  0.000420\n",
              "True            max number of children of a ROOT node: 5  0.000405\n",
              "True                                      tree depth: 17  0.000376\n",
              "True           max number of children of a ROOT node: 10  0.000222\n",
              "True                                       tree depth: 8  0.000195\n",
              "True                                       tree depth: 5  0.000180\n",
              "True            max number of children of a ROOT node: 1  0.000175\n",
              "True                                      tree depth: 10  0.000164\n",
              "True                                       tree depth: 3  0.000160\n",
              "True                                       tree depth: 9  0.000150\n",
              "True           max number of children of a ROOT node: 11  0.000136"
            ]
          },
          "metadata": {},
          "execution_count": 96
        }
      ]
    },
    {
      "cell_type": "code",
      "metadata": {
        "id": "yUfZ03E4eLmk",
        "colab": {
          "base_uri": "https://localhost:8080/",
          "height": 388
        },
        "outputId": "a1339d5d-1fe0-4185-d31d-87d21f0a7412"
      },
      "source": [
        "global_explainability_tabular.loc[\"False\"][:10]"
      ],
      "execution_count": null,
      "outputs": [
        {
          "output_type": "execute_result",
          "data": {
            "text/html": [
              "<div>\n",
              "<style scoped>\n",
              "    .dataframe tbody tr th:only-of-type {\n",
              "        vertical-align: middle;\n",
              "    }\n",
              "\n",
              "    .dataframe tbody tr th {\n",
              "        vertical-align: top;\n",
              "    }\n",
              "\n",
              "    .dataframe thead th {\n",
              "        text-align: right;\n",
              "    }\n",
              "</style>\n",
              "<table border=\"1\" class=\"dataframe\">\n",
              "  <thead>\n",
              "    <tr style=\"text-align: right;\">\n",
              "      <th></th>\n",
              "      <th>features</th>\n",
              "      <th>score</th>\n",
              "    </tr>\n",
              "    <tr>\n",
              "      <th>argumentative</th>\n",
              "      <th></th>\n",
              "      <th></th>\n",
              "    </tr>\n",
              "  </thead>\n",
              "  <tbody>\n",
              "    <tr>\n",
              "      <th>False</th>\n",
              "      <td>max number of children of a ROOT node: 9</td>\n",
              "      <td>0.001155</td>\n",
              "    </tr>\n",
              "    <tr>\n",
              "      <th>False</th>\n",
              "      <td>max number of children of a ROOT node: 3</td>\n",
              "      <td>0.001053</td>\n",
              "    </tr>\n",
              "    <tr>\n",
              "      <th>False</th>\n",
              "      <td>max number of children of a ROOT node: 4</td>\n",
              "      <td>0.000959</td>\n",
              "    </tr>\n",
              "    <tr>\n",
              "      <th>False</th>\n",
              "      <td>max number of children of a ROOT node: 11</td>\n",
              "      <td>0.000709</td>\n",
              "    </tr>\n",
              "    <tr>\n",
              "      <th>False</th>\n",
              "      <td>max number of children of a ROOT node: 1</td>\n",
              "      <td>0.000607</td>\n",
              "    </tr>\n",
              "    <tr>\n",
              "      <th>False</th>\n",
              "      <td>max number of children of a ROOT node: 10</td>\n",
              "      <td>0.000577</td>\n",
              "    </tr>\n",
              "    <tr>\n",
              "      <th>False</th>\n",
              "      <td>max number of children of a ROOT node: 2</td>\n",
              "      <td>0.000528</td>\n",
              "    </tr>\n",
              "    <tr>\n",
              "      <th>False</th>\n",
              "      <td>tree depth: 7</td>\n",
              "      <td>0.000527</td>\n",
              "    </tr>\n",
              "    <tr>\n",
              "      <th>False</th>\n",
              "      <td>max number of children of a ROOT node: 5</td>\n",
              "      <td>0.000353</td>\n",
              "    </tr>\n",
              "    <tr>\n",
              "      <th>False</th>\n",
              "      <td>max number of children of a ROOT node: 0</td>\n",
              "      <td>0.000217</td>\n",
              "    </tr>\n",
              "  </tbody>\n",
              "</table>\n",
              "</div>"
            ],
            "text/plain": [
              "                                                features     score\n",
              "argumentative                                                     \n",
              "False           max number of children of a ROOT node: 9  0.001155\n",
              "False           max number of children of a ROOT node: 3  0.001053\n",
              "False           max number of children of a ROOT node: 4  0.000959\n",
              "False          max number of children of a ROOT node: 11  0.000709\n",
              "False           max number of children of a ROOT node: 1  0.000607\n",
              "False          max number of children of a ROOT node: 10  0.000577\n",
              "False           max number of children of a ROOT node: 2  0.000528\n",
              "False                                      tree depth: 7  0.000527\n",
              "False           max number of children of a ROOT node: 5  0.000353\n",
              "False           max number of children of a ROOT node: 0  0.000217"
            ]
          },
          "metadata": {},
          "execution_count": 97
        }
      ]
    },
    {
      "cell_type": "markdown",
      "metadata": {
        "id": "pfWd-79JJB9j"
      },
      "source": [
        "## **Named entity**"
      ]
    },
    {
      "cell_type": "code",
      "metadata": {
        "id": "k8KbeLHueguN",
        "colab": {
          "base_uri": "https://localhost:8080/"
        },
        "outputId": "2c1b906e-0b51-46f1-e65e-398039698f2e"
      },
      "source": [
        "ground_labels, _, labels, _, _, policy=stc_procedure(named_entity,true_labels)"
      ],
      "execution_count": null,
      "outputs": [
        {
          "output_type": "stream",
          "name": "stdout",
          "text": [
            ""
          ]
        }
      ]
    },
    {
      "cell_type": "code",
      "metadata": {
        "id": "ohYc3-wvxc3c",
        "colab": {
          "base_uri": "https://localhost:8080/"
        },
        "outputId": "f95a1858-a240-4336-b3e0-f5171144bcbe"
      },
      "source": [
        "_, global_explainability_tabular, _, _, _, _=stc_procedure_tabular(named_entity,true_labels)"
      ],
      "execution_count": null,
      "outputs": [
        {
          "output_type": "stream",
          "name": "stdout",
          "text": [
            ""
          ]
        }
      ]
    },
    {
      "cell_type": "code",
      "metadata": {
        "id": "SugOxi0szoh5"
      },
      "source": [
        "accuracy=accuracy_score(ground_labels, labels)\n",
        "f1_score_value=f1_score(y_true=ground_labels, y_pred=labels, pos_label=\"True\")\n",
        "precision=precision_score(ground_labels, labels, pos_label=\"True\")\n",
        "recall=recall_score(ground_labels, labels, pos_label=\"True\")"
      ],
      "execution_count": null,
      "outputs": []
    },
    {
      "cell_type": "code",
      "metadata": {
        "id": "m5pcLh8Azoh5"
      },
      "source": [
        "accuracy_scores.append(accuracy)\n",
        "f1_scores.append(f1_score_value)\n",
        "precision_scores.append(precision)\n",
        "recall_scores.append(recall)"
      ],
      "execution_count": null,
      "outputs": []
    },
    {
      "cell_type": "code",
      "metadata": {
        "id": "CeSlJebjzoh5",
        "colab": {
          "base_uri": "https://localhost:8080/"
        },
        "outputId": "9bc6a1ac-02cb-40b9-a4fb-bbda9ceafe0d"
      },
      "source": [
        "print('accuracy: {}'.format(accuracy))\n",
        "print('f1 score: {}'.format(f1_score_value))\n",
        "print('precision: {}'.format(precision))\n",
        "print('recall: {}'.format(recall))"
      ],
      "execution_count": null,
      "outputs": [
        {
          "output_type": "stream",
          "name": "stdout",
          "text": [
            "accuracy: 0.42951541850220265\n",
            "f1 score: 0.5511265164644714\n",
            "precision: 0.38498789346246975\n",
            "recall: 0.9695121951219512\n"
          ]
        }
      ]
    },
    {
      "cell_type": "code",
      "metadata": {
        "id": "GVbOH3joeguR",
        "colab": {
          "base_uri": "https://localhost:8080/"
        },
        "outputId": "400c6dae-add0-4732-bcda-4020c5d44608"
      },
      "source": [
        "policy"
      ],
      "execution_count": null,
      "outputs": [
        {
          "output_type": "execute_result",
          "data": {
            "text/plain": [
              "[['d16', 'd3', 'd11', 'd0', 'd15', 'd4', 'd10', 'd1', 'd12', 'd8', 'd9'],\n",
              " ['d3', 'd11', 'd0', 'd15', 'd4', 'd10', 'd1', 'd12', 'd8', 'd9'],\n",
              " ['d11', 'd0', 'd15', 'd4', 'd10', 'd1', 'd12', 'd8', 'd9'],\n",
              " ['d0', 'd15', 'd4', 'd10', 'd1', 'd12', 'd8', 'd9'],\n",
              " ['d15', 'd4', 'd10', 'd1', 'd12', 'd8', 'd9'],\n",
              " ['d4', 'd10', 'd1', 'd12', 'd8', 'd9'],\n",
              " ['d10', 'd1', 'd12', 'd8', 'd9'],\n",
              " ['d1', 'd12', 'd8', 'd9'],\n",
              " ['d12', 'd8', 'd9'],\n",
              " ['d8', 'd9'],\n",
              " ['d9'],\n",
              " []]"
            ]
          },
          "metadata": {},
          "execution_count": 103
        }
      ]
    },
    {
      "cell_type": "code",
      "metadata": {
        "id": "5nZnfwVBjvsU",
        "colab": {
          "base_uri": "https://localhost:8080/"
        },
        "outputId": "aaed416a-3aa0-4577-e747-979d66275952"
      },
      "source": [
        "policy_set=[]\n",
        "\n",
        "for pol in policy:\n",
        "  policy_set+=pol\n",
        "\n",
        "policy_set=list(set(policy_set))\n",
        "\n",
        "column=named_entity.columns\n",
        "drop_features=[]\n",
        "for i in range(len(column)-1):\n",
        "  if not 'd{}'.format(i) in policy_set:\n",
        "    drop_features.append(column[i])\n",
        "\n",
        "drop_features"
      ],
      "execution_count": null,
      "outputs": [
        {
          "output_type": "execute_result",
          "data": {
            "text/plain": [
              "['event', 'language', 'loc', 'money', 'product', 'quantity']"
            ]
          },
          "metadata": {},
          "execution_count": 104
        }
      ]
    },
    {
      "cell_type": "code",
      "metadata": {
        "id": "xHw68Hy7jvsU",
        "colab": {
          "base_uri": "https://localhost:8080/"
        },
        "outputId": "6e2b5aed-e84b-4471-dcd1-c1ed6682e085"
      },
      "source": [
        "len(drop_features)"
      ],
      "execution_count": null,
      "outputs": [
        {
          "output_type": "execute_result",
          "data": {
            "text/plain": [
              "6"
            ]
          },
          "metadata": {},
          "execution_count": 105
        }
      ]
    },
    {
      "cell_type": "code",
      "metadata": {
        "id": "qrxBvs4J2_IE"
      },
      "source": [
        "# Save features to drop into a text file.\n",
        "\n",
        "f = open(\"drop_claim_premise_named_entity.txt\", \"a\")\n",
        "for feature in drop_features:\n",
        "  f.write(\"{}-\".format(feature))\n",
        "f.close()"
      ],
      "execution_count": null,
      "outputs": []
    },
    {
      "cell_type": "code",
      "metadata": {
        "id": "iaqDpFlyjvsV"
      },
      "source": [
        "if len(policy_set)>1:\n",
        "  named_entity=named_entity.drop(columns=drop_features)"
      ],
      "execution_count": null,
      "outputs": []
    },
    {
      "cell_type": "code",
      "metadata": {
        "id": "bONSbDH4eguR",
        "colab": {
          "base_uri": "https://localhost:8080/",
          "height": 542
        },
        "outputId": "d3d93b2b-4088-4739-acf4-f9909b4977be"
      },
      "source": [
        "global_explainability_tabular.loc[\"True\"][:15]"
      ],
      "execution_count": null,
      "outputs": [
        {
          "output_type": "execute_result",
          "data": {
            "text/html": [
              "<div>\n",
              "<style scoped>\n",
              "    .dataframe tbody tr th:only-of-type {\n",
              "        vertical-align: middle;\n",
              "    }\n",
              "\n",
              "    .dataframe tbody tr th {\n",
              "        vertical-align: top;\n",
              "    }\n",
              "\n",
              "    .dataframe thead th {\n",
              "        text-align: right;\n",
              "    }\n",
              "</style>\n",
              "<table border=\"1\" class=\"dataframe\">\n",
              "  <thead>\n",
              "    <tr style=\"text-align: right;\">\n",
              "      <th></th>\n",
              "      <th>features</th>\n",
              "      <th>score</th>\n",
              "    </tr>\n",
              "    <tr>\n",
              "      <th>argumentative</th>\n",
              "      <th></th>\n",
              "      <th></th>\n",
              "    </tr>\n",
              "  </thead>\n",
              "  <tbody>\n",
              "    <tr>\n",
              "      <th>True</th>\n",
              "      <td>ordinal: 1</td>\n",
              "      <td>0.000545</td>\n",
              "    </tr>\n",
              "    <tr>\n",
              "      <th>True</th>\n",
              "      <td>date: 1</td>\n",
              "      <td>0.000177</td>\n",
              "    </tr>\n",
              "    <tr>\n",
              "      <th>True</th>\n",
              "      <td>org: 1</td>\n",
              "      <td>0.000101</td>\n",
              "    </tr>\n",
              "    <tr>\n",
              "      <th>True</th>\n",
              "      <td>gpe: 1</td>\n",
              "      <td>0.000077</td>\n",
              "    </tr>\n",
              "    <tr>\n",
              "      <th>True</th>\n",
              "      <td>time: 1</td>\n",
              "      <td>0.000065</td>\n",
              "    </tr>\n",
              "    <tr>\n",
              "      <th>True</th>\n",
              "      <td>person: 1</td>\n",
              "      <td>0.000049</td>\n",
              "    </tr>\n",
              "    <tr>\n",
              "      <th>True</th>\n",
              "      <td>norp: 1</td>\n",
              "      <td>0.000043</td>\n",
              "    </tr>\n",
              "    <tr>\n",
              "      <th>True</th>\n",
              "      <td>ordinal: 0</td>\n",
              "      <td>0.000026</td>\n",
              "    </tr>\n",
              "    <tr>\n",
              "      <th>True</th>\n",
              "      <td>date: 2</td>\n",
              "      <td>0.000016</td>\n",
              "    </tr>\n",
              "    <tr>\n",
              "      <th>True</th>\n",
              "      <td>date: 0</td>\n",
              "      <td>0.000015</td>\n",
              "    </tr>\n",
              "    <tr>\n",
              "      <th>True</th>\n",
              "      <td>time: 2</td>\n",
              "      <td>0.000010</td>\n",
              "    </tr>\n",
              "    <tr>\n",
              "      <th>True</th>\n",
              "      <td>language: 1</td>\n",
              "      <td>0.000007</td>\n",
              "    </tr>\n",
              "    <tr>\n",
              "      <th>True</th>\n",
              "      <td>loc: 1</td>\n",
              "      <td>0.000006</td>\n",
              "    </tr>\n",
              "    <tr>\n",
              "      <th>True</th>\n",
              "      <td>org: 0</td>\n",
              "      <td>0.000006</td>\n",
              "    </tr>\n",
              "    <tr>\n",
              "      <th>True</th>\n",
              "      <td>gpe: 0</td>\n",
              "      <td>0.000004</td>\n",
              "    </tr>\n",
              "  </tbody>\n",
              "</table>\n",
              "</div>"
            ],
            "text/plain": [
              "                  features     score\n",
              "argumentative                       \n",
              "True            ordinal: 1  0.000545\n",
              "True               date: 1  0.000177\n",
              "True                org: 1  0.000101\n",
              "True                gpe: 1  0.000077\n",
              "True               time: 1  0.000065\n",
              "True             person: 1  0.000049\n",
              "True               norp: 1  0.000043\n",
              "True            ordinal: 0  0.000026\n",
              "True               date: 2  0.000016\n",
              "True               date: 0  0.000015\n",
              "True               time: 2  0.000010\n",
              "True           language: 1  0.000007\n",
              "True                loc: 1  0.000006\n",
              "True                org: 0  0.000006\n",
              "True                gpe: 0  0.000004"
            ]
          },
          "metadata": {},
          "execution_count": 108
        }
      ]
    },
    {
      "cell_type": "code",
      "metadata": {
        "id": "nDu9E6DKeguS",
        "colab": {
          "base_uri": "https://localhost:8080/",
          "height": 388
        },
        "outputId": "5a26d943-bd14-450a-edab-e663b08abf7f"
      },
      "source": [
        "global_explainability_tabular.loc[\"False\"][:10]"
      ],
      "execution_count": null,
      "outputs": [
        {
          "output_type": "execute_result",
          "data": {
            "text/html": [
              "<div>\n",
              "<style scoped>\n",
              "    .dataframe tbody tr th:only-of-type {\n",
              "        vertical-align: middle;\n",
              "    }\n",
              "\n",
              "    .dataframe tbody tr th {\n",
              "        vertical-align: top;\n",
              "    }\n",
              "\n",
              "    .dataframe thead th {\n",
              "        text-align: right;\n",
              "    }\n",
              "</style>\n",
              "<table border=\"1\" class=\"dataframe\">\n",
              "  <thead>\n",
              "    <tr style=\"text-align: right;\">\n",
              "      <th></th>\n",
              "      <th>features</th>\n",
              "      <th>score</th>\n",
              "    </tr>\n",
              "    <tr>\n",
              "      <th>argumentative</th>\n",
              "      <th></th>\n",
              "      <th></th>\n",
              "    </tr>\n",
              "  </thead>\n",
              "  <tbody>\n",
              "    <tr>\n",
              "      <th>False</th>\n",
              "      <td>org: 1</td>\n",
              "      <td>0.000553</td>\n",
              "    </tr>\n",
              "    <tr>\n",
              "      <th>False</th>\n",
              "      <td>gpe: 1</td>\n",
              "      <td>0.000498</td>\n",
              "    </tr>\n",
              "    <tr>\n",
              "      <th>False</th>\n",
              "      <td>person: 1</td>\n",
              "      <td>0.000483</td>\n",
              "    </tr>\n",
              "    <tr>\n",
              "      <th>False</th>\n",
              "      <td>date: 1</td>\n",
              "      <td>0.000454</td>\n",
              "    </tr>\n",
              "    <tr>\n",
              "      <th>False</th>\n",
              "      <td>norp: 1</td>\n",
              "      <td>0.000338</td>\n",
              "    </tr>\n",
              "    <tr>\n",
              "      <th>False</th>\n",
              "      <td>ordinal: 1</td>\n",
              "      <td>0.000250</td>\n",
              "    </tr>\n",
              "    <tr>\n",
              "      <th>False</th>\n",
              "      <td>time: 1</td>\n",
              "      <td>0.000209</td>\n",
              "    </tr>\n",
              "    <tr>\n",
              "      <th>False</th>\n",
              "      <td>quantity: 1</td>\n",
              "      <td>0.000128</td>\n",
              "    </tr>\n",
              "    <tr>\n",
              "      <th>False</th>\n",
              "      <td>gpe: 2</td>\n",
              "      <td>0.000128</td>\n",
              "    </tr>\n",
              "    <tr>\n",
              "      <th>False</th>\n",
              "      <td>org: 2</td>\n",
              "      <td>0.000128</td>\n",
              "    </tr>\n",
              "  </tbody>\n",
              "</table>\n",
              "</div>"
            ],
            "text/plain": [
              "                  features     score\n",
              "argumentative                       \n",
              "False               org: 1  0.000553\n",
              "False               gpe: 1  0.000498\n",
              "False            person: 1  0.000483\n",
              "False              date: 1  0.000454\n",
              "False              norp: 1  0.000338\n",
              "False           ordinal: 1  0.000250\n",
              "False              time: 1  0.000209\n",
              "False          quantity: 1  0.000128\n",
              "False               gpe: 2  0.000128\n",
              "False               org: 2  0.000128"
            ]
          },
          "metadata": {},
          "execution_count": 109
        }
      ]
    },
    {
      "cell_type": "markdown",
      "metadata": {
        "id": "rmG8oXyhJRnE"
      },
      "source": [
        "## **BOW**"
      ]
    },
    {
      "cell_type": "code",
      "metadata": {
        "id": "4d8JvDs0wVu8",
        "colab": {
          "base_uri": "https://localhost:8080/"
        },
        "outputId": "54ac3d9f-9149-4f57-e419-af26a082064d"
      },
      "source": [
        "ground_labels, global_explainability_tabular, labels, _, _, policy=stc_procedure_tabular(BOW,true_labels)"
      ],
      "execution_count": null,
      "outputs": [
        {
          "output_type": "stream",
          "name": "stdout",
          "text": [
            ""
          ]
        }
      ]
    },
    {
      "cell_type": "code",
      "metadata": {
        "id": "xl2TXsaizrhx"
      },
      "source": [
        "accuracy=accuracy_score(ground_labels, labels)\n",
        "f1_score_value=f1_score(y_true=ground_labels, y_pred=labels, pos_label=\"True\")\n",
        "precision=precision_score(ground_labels, labels, pos_label=\"True\")\n",
        "recall=recall_score(ground_labels, labels, pos_label=\"True\")"
      ],
      "execution_count": null,
      "outputs": []
    },
    {
      "cell_type": "code",
      "metadata": {
        "id": "NTxeIi2xzrhy"
      },
      "source": [
        "accuracy_scores.append(accuracy)\n",
        "f1_scores.append(f1_score_value)\n",
        "precision_scores.append(precision)\n",
        "recall_scores.append(recall)"
      ],
      "execution_count": null,
      "outputs": []
    },
    {
      "cell_type": "code",
      "metadata": {
        "id": "UyRdTCAnzrhz",
        "colab": {
          "base_uri": "https://localhost:8080/"
        },
        "outputId": "c16298f6-ddcc-45a6-e646-96c2cb3fa078"
      },
      "source": [
        "print('accuracy: {}'.format(accuracy))\n",
        "print('f1 score: {}'.format(f1_score_value))\n",
        "print('precision: {}'.format(precision))\n",
        "print('recall: {}'.format(recall))"
      ],
      "execution_count": null,
      "outputs": [
        {
          "output_type": "stream",
          "name": "stdout",
          "text": [
            "accuracy: 0.5341409691629956\n",
            "f1 score: 0.46387832699619774\n",
            "precision: 0.3969631236442516\n",
            "recall: 0.5579268292682927\n"
          ]
        }
      ]
    },
    {
      "cell_type": "code",
      "metadata": {
        "id": "Ecz2C_efeqxJ",
        "colab": {
          "base_uri": "https://localhost:8080/",
          "height": 542
        },
        "outputId": "04c60847-7167-451b-dd98-d693db2c6292"
      },
      "source": [
        "global_explainability_tabular.loc[\"True\"][:15]"
      ],
      "execution_count": null,
      "outputs": [
        {
          "output_type": "execute_result",
          "data": {
            "text/html": [
              "<div>\n",
              "<style scoped>\n",
              "    .dataframe tbody tr th:only-of-type {\n",
              "        vertical-align: middle;\n",
              "    }\n",
              "\n",
              "    .dataframe tbody tr th {\n",
              "        vertical-align: top;\n",
              "    }\n",
              "\n",
              "    .dataframe thead th {\n",
              "        text-align: right;\n",
              "    }\n",
              "</style>\n",
              "<table border=\"1\" class=\"dataframe\">\n",
              "  <thead>\n",
              "    <tr style=\"text-align: right;\">\n",
              "      <th></th>\n",
              "      <th>features</th>\n",
              "      <th>score</th>\n",
              "    </tr>\n",
              "    <tr>\n",
              "      <th>argumentative</th>\n",
              "      <th></th>\n",
              "      <th></th>\n",
              "    </tr>\n",
              "  </thead>\n",
              "  <tbody>\n",
              "    <tr>\n",
              "      <th>True</th>\n",
              "      <td>,: 0</td>\n",
              "      <td>1.319499e-04</td>\n",
              "    </tr>\n",
              "    <tr>\n",
              "      <th>True</th>\n",
              "      <td>,: 1</td>\n",
              "      <td>1.127077e-04</td>\n",
              "    </tr>\n",
              "    <tr>\n",
              "      <th>True</th>\n",
              "      <td>': 1</td>\n",
              "      <td>4.032546e-05</td>\n",
              "    </tr>\n",
              "    <tr>\n",
              "      <th>True</th>\n",
              "      <td>'a: 1</td>\n",
              "      <td>3.007519e-05</td>\n",
              "    </tr>\n",
              "    <tr>\n",
              "      <th>True</th>\n",
              "      <td>,: 4</td>\n",
              "      <td>2.158792e-05</td>\n",
              "    </tr>\n",
              "    <tr>\n",
              "      <th>True</th>\n",
              "      <td>-: 2</td>\n",
              "      <td>1.503759e-05</td>\n",
              "    </tr>\n",
              "    <tr>\n",
              "      <th>True</th>\n",
              "      <td>'dug: 1</td>\n",
              "      <td>1.503759e-05</td>\n",
              "    </tr>\n",
              "    <tr>\n",
              "      <th>True</th>\n",
              "      <td>': 2</td>\n",
              "      <td>6.988235e-06</td>\n",
              "    </tr>\n",
              "    <tr>\n",
              "      <th>True</th>\n",
              "      <td>'': 1</td>\n",
              "      <td>6.192631e-06</td>\n",
              "    </tr>\n",
              "    <tr>\n",
              "      <th>True</th>\n",
              "      <td>'s: 1</td>\n",
              "      <td>5.075740e-06</td>\n",
              "    </tr>\n",
              "    <tr>\n",
              "      <th>True</th>\n",
              "      <td>,: 6</td>\n",
              "      <td>3.500741e-06</td>\n",
              "    </tr>\n",
              "    <tr>\n",
              "      <th>True</th>\n",
              "      <td>adolescent: 1</td>\n",
              "      <td>2.670466e-06</td>\n",
              "    </tr>\n",
              "    <tr>\n",
              "      <th>True</th>\n",
              "      <td>,: 5</td>\n",
              "      <td>2.264487e-06</td>\n",
              "    </tr>\n",
              "    <tr>\n",
              "      <th>True</th>\n",
              "      <td>dormitory: 1</td>\n",
              "      <td>1.133930e-06</td>\n",
              "    </tr>\n",
              "    <tr>\n",
              "      <th>True</th>\n",
              "      <td>21st: 1</td>\n",
              "      <td>7.864476e-07</td>\n",
              "    </tr>\n",
              "  </tbody>\n",
              "</table>\n",
              "</div>"
            ],
            "text/plain": [
              "                    features         score\n",
              "argumentative                             \n",
              "True                    ,: 0  1.319499e-04\n",
              "True                    ,: 1  1.127077e-04\n",
              "True                    ': 1  4.032546e-05\n",
              "True                   'a: 1  3.007519e-05\n",
              "True                    ,: 4  2.158792e-05\n",
              "True                    -: 2  1.503759e-05\n",
              "True                 'dug: 1  1.503759e-05\n",
              "True                    ': 2  6.988235e-06\n",
              "True                   '': 1  6.192631e-06\n",
              "True                   's: 1  5.075740e-06\n",
              "True                    ,: 6  3.500741e-06\n",
              "True           adolescent: 1  2.670466e-06\n",
              "True                    ,: 5  2.264487e-06\n",
              "True            dormitory: 1  1.133930e-06\n",
              "True                 21st: 1  7.864476e-07"
            ]
          },
          "metadata": {},
          "execution_count": 114
        }
      ]
    },
    {
      "cell_type": "code",
      "metadata": {
        "id": "y2SNL8seeqxK",
        "colab": {
          "base_uri": "https://localhost:8080/",
          "height": 388
        },
        "outputId": "6692a258-4c7a-4bfe-c209-54c2005822cd"
      },
      "source": [
        "global_explainability_tabular.loc[\"False\"][:10]"
      ],
      "execution_count": null,
      "outputs": [
        {
          "output_type": "execute_result",
          "data": {
            "text/html": [
              "<div>\n",
              "<style scoped>\n",
              "    .dataframe tbody tr th:only-of-type {\n",
              "        vertical-align: middle;\n",
              "    }\n",
              "\n",
              "    .dataframe tbody tr th {\n",
              "        vertical-align: top;\n",
              "    }\n",
              "\n",
              "    .dataframe thead th {\n",
              "        text-align: right;\n",
              "    }\n",
              "</style>\n",
              "<table border=\"1\" class=\"dataframe\">\n",
              "  <thead>\n",
              "    <tr style=\"text-align: right;\">\n",
              "      <th></th>\n",
              "      <th>features</th>\n",
              "      <th>score</th>\n",
              "    </tr>\n",
              "    <tr>\n",
              "      <th>argumentative</th>\n",
              "      <th></th>\n",
              "      <th></th>\n",
              "    </tr>\n",
              "  </thead>\n",
              "  <tbody>\n",
              "    <tr>\n",
              "      <th>False</th>\n",
              "      <td>,: 0</td>\n",
              "      <td>0.000207</td>\n",
              "    </tr>\n",
              "    <tr>\n",
              "      <th>False</th>\n",
              "      <td>,: 1</td>\n",
              "      <td>0.000089</td>\n",
              "    </tr>\n",
              "    <tr>\n",
              "      <th>False</th>\n",
              "      <td>,: 4</td>\n",
              "      <td>0.000047</td>\n",
              "    </tr>\n",
              "    <tr>\n",
              "      <th>False</th>\n",
              "      <td>!: 1</td>\n",
              "      <td>0.000026</td>\n",
              "    </tr>\n",
              "    <tr>\n",
              "      <th>False</th>\n",
              "      <td>'ll: 1</td>\n",
              "      <td>0.000026</td>\n",
              "    </tr>\n",
              "    <tr>\n",
              "      <th>False</th>\n",
              "      <td>15: 1</td>\n",
              "      <td>0.000026</td>\n",
              "    </tr>\n",
              "    <tr>\n",
              "      <th>False</th>\n",
              "      <td>': 1</td>\n",
              "      <td>0.000021</td>\n",
              "    </tr>\n",
              "    <tr>\n",
              "      <th>False</th>\n",
              "      <td>2: 1</td>\n",
              "      <td>0.000017</td>\n",
              "    </tr>\n",
              "    <tr>\n",
              "      <th>False</th>\n",
              "      <td>1: 1</td>\n",
              "      <td>0.000017</td>\n",
              "    </tr>\n",
              "    <tr>\n",
              "      <th>False</th>\n",
              "      <td>,: 7</td>\n",
              "      <td>0.000017</td>\n",
              "    </tr>\n",
              "  </tbody>\n",
              "</table>\n",
              "</div>"
            ],
            "text/plain": [
              "              features     score\n",
              "argumentative                   \n",
              "False             ,: 0  0.000207\n",
              "False             ,: 1  0.000089\n",
              "False             ,: 4  0.000047\n",
              "False             !: 1  0.000026\n",
              "False           'll: 1  0.000026\n",
              "False            15: 1  0.000026\n",
              "False             ': 1  0.000021\n",
              "False             2: 1  0.000017\n",
              "False             1: 1  0.000017\n",
              "False             ,: 7  0.000017"
            ]
          },
          "metadata": {},
          "execution_count": 115
        }
      ]
    },
    {
      "cell_type": "markdown",
      "metadata": {
        "id": "qPZ9wr1ZJZuF"
      },
      "source": [
        "## **Bigrams**"
      ]
    },
    {
      "cell_type": "code",
      "metadata": {
        "id": "MrocDTG8wiEI",
        "colab": {
          "base_uri": "https://localhost:8080/"
        },
        "outputId": "258033d1-afd6-43fa-b941-4c41547625f1"
      },
      "source": [
        "ground_labels, global_explainability_tabular, labels, _, _, policy=stc_procedure_tabular(Bigram,true_labels)"
      ],
      "execution_count": null,
      "outputs": [
        {
          "output_type": "stream",
          "name": "stdout",
          "text": [
            ""
          ]
        }
      ]
    },
    {
      "cell_type": "code",
      "metadata": {
        "id": "T3DLztVqztjB"
      },
      "source": [
        "accuracy=accuracy_score(ground_labels, labels)\n",
        "f1_score_value=f1_score(y_true=ground_labels, y_pred=labels, pos_label=\"True\")\n",
        "precision=precision_score(ground_labels, labels, pos_label=\"True\")\n",
        "recall=recall_score(ground_labels, labels, pos_label=\"True\")"
      ],
      "execution_count": null,
      "outputs": []
    },
    {
      "cell_type": "code",
      "metadata": {
        "id": "zXDvXHZEztjB"
      },
      "source": [
        "accuracy_scores.append(accuracy)\n",
        "f1_scores.append(f1_score_value)\n",
        "precision_scores.append(precision)\n",
        "recall_scores.append(recall)"
      ],
      "execution_count": null,
      "outputs": []
    },
    {
      "cell_type": "code",
      "metadata": {
        "id": "bFrA9UIsztjC",
        "colab": {
          "base_uri": "https://localhost:8080/"
        },
        "outputId": "8cb43e74-6a4a-47b3-fbd0-716ed5e64358"
      },
      "source": [
        "print('accuracy: {}'.format(accuracy))\n",
        "print('f1 score: {}'.format(f1_score_value))\n",
        "print('precision: {}'.format(precision))\n",
        "print('recall: {}'.format(recall))"
      ],
      "execution_count": null,
      "outputs": [
        {
          "output_type": "stream",
          "name": "stdout",
          "text": [
            "accuracy: 0.6376651982378855\n",
            "f1 score: 0.006042296072507553\n",
            "precision: 0.3333333333333333\n",
            "recall: 0.003048780487804878\n"
          ]
        }
      ]
    },
    {
      "cell_type": "code",
      "metadata": {
        "id": "PTvsZ2KTezZj",
        "colab": {
          "base_uri": "https://localhost:8080/",
          "height": 542
        },
        "outputId": "2758a413-b51a-4053-d8b3-c0b8a2628034"
      },
      "source": [
        "global_explainability_tabular.loc[\"True\"][:15]"
      ],
      "execution_count": null,
      "outputs": [
        {
          "output_type": "execute_result",
          "data": {
            "text/html": [
              "<div>\n",
              "<style scoped>\n",
              "    .dataframe tbody tr th:only-of-type {\n",
              "        vertical-align: middle;\n",
              "    }\n",
              "\n",
              "    .dataframe tbody tr th {\n",
              "        vertical-align: top;\n",
              "    }\n",
              "\n",
              "    .dataframe thead th {\n",
              "        text-align: right;\n",
              "    }\n",
              "</style>\n",
              "<table border=\"1\" class=\"dataframe\">\n",
              "  <thead>\n",
              "    <tr style=\"text-align: right;\">\n",
              "      <th></th>\n",
              "      <th>features</th>\n",
              "      <th>score</th>\n",
              "    </tr>\n",
              "    <tr>\n",
              "      <th>argumentative</th>\n",
              "      <th></th>\n",
              "      <th></th>\n",
              "    </tr>\n",
              "  </thead>\n",
              "  <tbody>\n",
              "    <tr>\n",
              "      <th>True</th>\n",
              "      <td>' ,: 1</td>\n",
              "      <td>0.000030</td>\n",
              "    </tr>\n",
              "    <tr>\n",
              "      <th>True</th>\n",
              "      <td>' criticism: 1</td>\n",
              "      <td>0.000030</td>\n",
              "    </tr>\n",
              "    <tr>\n",
              "      <th>True</th>\n",
              "      <td>' future: 1</td>\n",
              "      <td>0.000030</td>\n",
              "    </tr>\n",
              "    <tr>\n",
              "      <th>True</th>\n",
              "      <td>' is: 1</td>\n",
              "      <td>0.000030</td>\n",
              "    </tr>\n",
              "    <tr>\n",
              "      <th>True</th>\n",
              "      <td>' life: 1</td>\n",
              "      <td>0.000016</td>\n",
              "    </tr>\n",
              "    <tr>\n",
              "      <th>True</th>\n",
              "      <td>' health: 1</td>\n",
              "      <td>0.000016</td>\n",
              "    </tr>\n",
              "    <tr>\n",
              "      <th>True</th>\n",
              "      <td>' permission: 1</td>\n",
              "      <td>0.000015</td>\n",
              "    </tr>\n",
              "    <tr>\n",
              "      <th>True</th>\n",
              "      <td>' learning: 1</td>\n",
              "      <td>0.000015</td>\n",
              "    </tr>\n",
              "    <tr>\n",
              "      <th>True</th>\n",
              "      <td>' right: 1</td>\n",
              "      <td>0.000015</td>\n",
              "    </tr>\n",
              "    <tr>\n",
              "      <th>True</th>\n",
              "      <td>' hardship: 1</td>\n",
              "      <td>0.000015</td>\n",
              "    </tr>\n",
              "    <tr>\n",
              "      <th>True</th>\n",
              "      <td>' offering: 1</td>\n",
              "      <td>0.000015</td>\n",
              "    </tr>\n",
              "    <tr>\n",
              "      <th>True</th>\n",
              "      <td>' live: 1</td>\n",
              "      <td>0.000015</td>\n",
              "    </tr>\n",
              "    <tr>\n",
              "      <th>True</th>\n",
              "      <td>' pressure: 1</td>\n",
              "      <td>0.000015</td>\n",
              "    </tr>\n",
              "    <tr>\n",
              "      <th>True</th>\n",
              "      <td>' attention: 1</td>\n",
              "      <td>0.000015</td>\n",
              "    </tr>\n",
              "    <tr>\n",
              "      <th>True</th>\n",
              "      <td>knowledge out: 1</td>\n",
              "      <td>0.000015</td>\n",
              "    </tr>\n",
              "  </tbody>\n",
              "</table>\n",
              "</div>"
            ],
            "text/plain": [
              "                       features     score\n",
              "argumentative                            \n",
              "True                     ' ,: 1  0.000030\n",
              "True             ' criticism: 1  0.000030\n",
              "True                ' future: 1  0.000030\n",
              "True                    ' is: 1  0.000030\n",
              "True                  ' life: 1  0.000016\n",
              "True                ' health: 1  0.000016\n",
              "True            ' permission: 1  0.000015\n",
              "True              ' learning: 1  0.000015\n",
              "True                 ' right: 1  0.000015\n",
              "True              ' hardship: 1  0.000015\n",
              "True              ' offering: 1  0.000015\n",
              "True                  ' live: 1  0.000015\n",
              "True              ' pressure: 1  0.000015\n",
              "True             ' attention: 1  0.000015\n",
              "True           knowledge out: 1  0.000015"
            ]
          },
          "metadata": {},
          "execution_count": 120
        }
      ]
    },
    {
      "cell_type": "code",
      "metadata": {
        "id": "JLm3Dpn4ezZk",
        "colab": {
          "base_uri": "https://localhost:8080/",
          "height": 388
        },
        "outputId": "a1a0a5d0-f46a-4b94-8ee5-e9f491f1694c"
      },
      "source": [
        "global_explainability_tabular.loc[\"False\"][:10]"
      ],
      "execution_count": null,
      "outputs": [
        {
          "output_type": "execute_result",
          "data": {
            "text/html": [
              "<div>\n",
              "<style scoped>\n",
              "    .dataframe tbody tr th:only-of-type {\n",
              "        vertical-align: middle;\n",
              "    }\n",
              "\n",
              "    .dataframe tbody tr th {\n",
              "        vertical-align: top;\n",
              "    }\n",
              "\n",
              "    .dataframe thead th {\n",
              "        text-align: right;\n",
              "    }\n",
              "</style>\n",
              "<table border=\"1\" class=\"dataframe\">\n",
              "  <thead>\n",
              "    <tr style=\"text-align: right;\">\n",
              "      <th></th>\n",
              "      <th>features</th>\n",
              "      <th>score</th>\n",
              "    </tr>\n",
              "    <tr>\n",
              "      <th>argumentative</th>\n",
              "      <th></th>\n",
              "      <th></th>\n",
              "    </tr>\n",
              "  </thead>\n",
              "  <tbody>\n",
              "    <tr>\n",
              "      <th>False</th>\n",
              "      <td>' behavior: 1</td>\n",
              "      <td>0.000017</td>\n",
              "    </tr>\n",
              "    <tr>\n",
              "      <th>False</th>\n",
              "      <td>% of: 1</td>\n",
              "      <td>0.000017</td>\n",
              "    </tr>\n",
              "    <tr>\n",
              "      <th>False</th>\n",
              "      <td>' money: 1</td>\n",
              "      <td>0.000017</td>\n",
              "    </tr>\n",
              "    <tr>\n",
              "      <th>False</th>\n",
              "      <td>' point: 1</td>\n",
              "      <td>0.000009</td>\n",
              "    </tr>\n",
              "    <tr>\n",
              "      <th>False</th>\n",
              "      <td>' personality: 1</td>\n",
              "      <td>0.000009</td>\n",
              "    </tr>\n",
              "    <tr>\n",
              "      <th>False</th>\n",
              "      <td>% excellent: 1</td>\n",
              "      <td>0.000009</td>\n",
              "    </tr>\n",
              "    <tr>\n",
              "      <th>False</th>\n",
              "      <td>' acted: 1</td>\n",
              "      <td>0.000009</td>\n",
              "    </tr>\n",
              "    <tr>\n",
              "      <th>False</th>\n",
              "      <td>' culture: 1</td>\n",
              "      <td>0.000009</td>\n",
              "    </tr>\n",
              "    <tr>\n",
              "      <th>False</th>\n",
              "      <td>' accommodation: 1</td>\n",
              "      <td>0.000009</td>\n",
              "    </tr>\n",
              "    <tr>\n",
              "      <th>False</th>\n",
              "      <td>' idea: 1</td>\n",
              "      <td>0.000009</td>\n",
              "    </tr>\n",
              "  </tbody>\n",
              "</table>\n",
              "</div>"
            ],
            "text/plain": [
              "                         features     score\n",
              "argumentative                              \n",
              "False               ' behavior: 1  0.000017\n",
              "False                     % of: 1  0.000017\n",
              "False                  ' money: 1  0.000017\n",
              "False                  ' point: 1  0.000009\n",
              "False            ' personality: 1  0.000009\n",
              "False              % excellent: 1  0.000009\n",
              "False                  ' acted: 1  0.000009\n",
              "False                ' culture: 1  0.000009\n",
              "False          ' accommodation: 1  0.000009\n",
              "False                   ' idea: 1  0.000009"
            ]
          },
          "metadata": {},
          "execution_count": 121
        }
      ]
    },
    {
      "cell_type": "markdown",
      "metadata": {
        "id": "VbYkyy7Nf6ka"
      },
      "source": [
        "## **Imported n-grams**"
      ]
    },
    {
      "cell_type": "code",
      "metadata": {
        "id": "VLgPl7fnwoDh",
        "colab": {
          "base_uri": "https://localhost:8080/"
        },
        "outputId": "a7c91208-8e7b-4e55-d6f4-1ec07f706474"
      },
      "source": [
        "ground_labels, global_explainability_tabular, labels, _, _, policy=stc_procedure_tabular(imported_ngram,true_labels)"
      ],
      "execution_count": null,
      "outputs": [
        {
          "output_type": "stream",
          "name": "stdout",
          "text": [
            ""
          ]
        }
      ]
    },
    {
      "cell_type": "code",
      "metadata": {
        "id": "C_fPE2T_zvs9"
      },
      "source": [
        "accuracy=accuracy_score(ground_labels, labels)\n",
        "f1_score_value=f1_score(y_true=ground_labels, y_pred=labels, pos_label=\"True\")\n",
        "precision=precision_score(ground_labels, labels, pos_label=\"True\")\n",
        "recall=recall_score(ground_labels, labels, pos_label=\"True\")"
      ],
      "execution_count": null,
      "outputs": []
    },
    {
      "cell_type": "code",
      "metadata": {
        "id": "15WRs2yMzvs-"
      },
      "source": [
        "accuracy_scores.append(accuracy)\n",
        "f1_scores.append(f1_score_value)\n",
        "precision_scores.append(precision)\n",
        "recall_scores.append(recall)"
      ],
      "execution_count": null,
      "outputs": []
    },
    {
      "cell_type": "code",
      "metadata": {
        "id": "wJrYsjS2zvs-",
        "colab": {
          "base_uri": "https://localhost:8080/"
        },
        "outputId": "0bf6a58e-b448-4877-be41-e40ee7e97e85"
      },
      "source": [
        "print('accuracy: {}'.format(accuracy))\n",
        "print('f1 score: {}'.format(f1_score_value))\n",
        "print('precision: {}'.format(precision))\n",
        "print('recall: {}'.format(recall))"
      ],
      "execution_count": null,
      "outputs": [
        {
          "output_type": "stream",
          "name": "stdout",
          "text": [
            "accuracy: 0.6861233480176211\n",
            "f1 score: 0.31325301204819284\n",
            "precision: 0.7471264367816092\n",
            "recall: 0.19817073170731708\n"
          ]
        }
      ]
    },
    {
      "cell_type": "code",
      "metadata": {
        "id": "3jSv_FU8f6ke",
        "colab": {
          "base_uri": "https://localhost:8080/",
          "height": 542
        },
        "outputId": "32b9670e-2996-48d1-b780-e35b7e26a1fe"
      },
      "source": [
        "global_explainability_tabular.loc[\"True\"][:15]"
      ],
      "execution_count": null,
      "outputs": [
        {
          "output_type": "execute_result",
          "data": {
            "text/html": [
              "<div>\n",
              "<style scoped>\n",
              "    .dataframe tbody tr th:only-of-type {\n",
              "        vertical-align: middle;\n",
              "    }\n",
              "\n",
              "    .dataframe tbody tr th {\n",
              "        vertical-align: top;\n",
              "    }\n",
              "\n",
              "    .dataframe thead th {\n",
              "        text-align: right;\n",
              "    }\n",
              "</style>\n",
              "<table border=\"1\" class=\"dataframe\">\n",
              "  <thead>\n",
              "    <tr style=\"text-align: right;\">\n",
              "      <th></th>\n",
              "      <th>features</th>\n",
              "      <th>score</th>\n",
              "    </tr>\n",
              "    <tr>\n",
              "      <th>argumentative</th>\n",
              "      <th></th>\n",
              "      <th></th>\n",
              "    </tr>\n",
              "  </thead>\n",
              "  <tbody>\n",
              "    <tr>\n",
              "      <th>True</th>\n",
              "      <td>in conclusion: 1</td>\n",
              "      <td>0.001805</td>\n",
              "    </tr>\n",
              "    <tr>\n",
              "      <th>True</th>\n",
              "      <td>to sum up: 1</td>\n",
              "      <td>0.000545</td>\n",
              "    </tr>\n",
              "    <tr>\n",
              "      <th>True</th>\n",
              "      <td>therefore: 1</td>\n",
              "      <td>0.000432</td>\n",
              "    </tr>\n",
              "    <tr>\n",
              "      <th>True</th>\n",
              "      <td>conclude that: 1</td>\n",
              "      <td>0.000094</td>\n",
              "    </tr>\n",
              "    <tr>\n",
              "      <th>True</th>\n",
              "      <td>for: 1</td>\n",
              "      <td>0.000043</td>\n",
              "    </tr>\n",
              "    <tr>\n",
              "      <th>True</th>\n",
              "      <td>moreover: 1</td>\n",
              "      <td>0.000029</td>\n",
              "    </tr>\n",
              "    <tr>\n",
              "      <th>True</th>\n",
              "      <td>hence: 1</td>\n",
              "      <td>0.000027</td>\n",
              "    </tr>\n",
              "    <tr>\n",
              "      <th>True</th>\n",
              "      <td>in conclusion: 0</td>\n",
              "      <td>0.000023</td>\n",
              "    </tr>\n",
              "    <tr>\n",
              "      <th>True</th>\n",
              "      <td>thus: 1</td>\n",
              "      <td>0.000020</td>\n",
              "    </tr>\n",
              "    <tr>\n",
              "      <th>True</th>\n",
              "      <td>for the reason that: 1</td>\n",
              "      <td>0.000019</td>\n",
              "    </tr>\n",
              "    <tr>\n",
              "      <th>True</th>\n",
              "      <td>for example: 0</td>\n",
              "      <td>0.000018</td>\n",
              "    </tr>\n",
              "    <tr>\n",
              "      <th>True</th>\n",
              "      <td>for example: 1</td>\n",
              "      <td>0.000017</td>\n",
              "    </tr>\n",
              "    <tr>\n",
              "      <th>True</th>\n",
              "      <td>for instance: 1</td>\n",
              "      <td>0.000016</td>\n",
              "    </tr>\n",
              "    <tr>\n",
              "      <th>True</th>\n",
              "      <td>because: 1</td>\n",
              "      <td>0.000014</td>\n",
              "    </tr>\n",
              "    <tr>\n",
              "      <th>True</th>\n",
              "      <td>for: 0</td>\n",
              "      <td>0.000014</td>\n",
              "    </tr>\n",
              "  </tbody>\n",
              "</table>\n",
              "</div>"
            ],
            "text/plain": [
              "                             features     score\n",
              "argumentative                                  \n",
              "True                 in conclusion: 1  0.001805\n",
              "True                     to sum up: 1  0.000545\n",
              "True                     therefore: 1  0.000432\n",
              "True                 conclude that: 1  0.000094\n",
              "True                           for: 1  0.000043\n",
              "True                      moreover: 1  0.000029\n",
              "True                         hence: 1  0.000027\n",
              "True                 in conclusion: 0  0.000023\n",
              "True                          thus: 1  0.000020\n",
              "True           for the reason that: 1  0.000019\n",
              "True                   for example: 0  0.000018\n",
              "True                   for example: 1  0.000017\n",
              "True                  for instance: 1  0.000016\n",
              "True                       because: 1  0.000014\n",
              "True                           for: 0  0.000014"
            ]
          },
          "metadata": {},
          "execution_count": 126
        }
      ]
    },
    {
      "cell_type": "code",
      "metadata": {
        "id": "zumKqAquf6kf",
        "colab": {
          "base_uri": "https://localhost:8080/",
          "height": 388
        },
        "outputId": "05f1f057-4b7e-4f2b-c2df-2f44cf90b169"
      },
      "source": [
        "global_explainability_tabular.loc[\"False\"][:10]"
      ],
      "execution_count": null,
      "outputs": [
        {
          "output_type": "execute_result",
          "data": {
            "text/html": [
              "<div>\n",
              "<style scoped>\n",
              "    .dataframe tbody tr th:only-of-type {\n",
              "        vertical-align: middle;\n",
              "    }\n",
              "\n",
              "    .dataframe tbody tr th {\n",
              "        vertical-align: top;\n",
              "    }\n",
              "\n",
              "    .dataframe thead th {\n",
              "        text-align: right;\n",
              "    }\n",
              "</style>\n",
              "<table border=\"1\" class=\"dataframe\">\n",
              "  <thead>\n",
              "    <tr style=\"text-align: right;\">\n",
              "      <th></th>\n",
              "      <th>features</th>\n",
              "      <th>score</th>\n",
              "    </tr>\n",
              "    <tr>\n",
              "      <th>argumentative</th>\n",
              "      <th></th>\n",
              "      <th></th>\n",
              "    </tr>\n",
              "  </thead>\n",
              "  <tbody>\n",
              "    <tr>\n",
              "      <th>False</th>\n",
              "      <td>for example: 1</td>\n",
              "      <td>0.001418</td>\n",
              "    </tr>\n",
              "    <tr>\n",
              "      <th>False</th>\n",
              "      <td>for instance: 1</td>\n",
              "      <td>0.000709</td>\n",
              "    </tr>\n",
              "    <tr>\n",
              "      <th>False</th>\n",
              "      <td>therefore: 1</td>\n",
              "      <td>0.000115</td>\n",
              "    </tr>\n",
              "    <tr>\n",
              "      <th>False</th>\n",
              "      <td>moreover: 1</td>\n",
              "      <td>0.000060</td>\n",
              "    </tr>\n",
              "    <tr>\n",
              "      <th>False</th>\n",
              "      <td>for: 1</td>\n",
              "      <td>0.000055</td>\n",
              "    </tr>\n",
              "    <tr>\n",
              "      <th>False</th>\n",
              "      <td>in conclusion: 0</td>\n",
              "      <td>0.000025</td>\n",
              "    </tr>\n",
              "    <tr>\n",
              "      <th>False</th>\n",
              "      <td>whereas: 1</td>\n",
              "      <td>0.000022</td>\n",
              "    </tr>\n",
              "    <tr>\n",
              "      <th>False</th>\n",
              "      <td>because: 1</td>\n",
              "      <td>0.000018</td>\n",
              "    </tr>\n",
              "    <tr>\n",
              "      <th>False</th>\n",
              "      <td>for example: 0</td>\n",
              "      <td>0.000017</td>\n",
              "    </tr>\n",
              "    <tr>\n",
              "      <th>False</th>\n",
              "      <td>thus: 1</td>\n",
              "      <td>0.000013</td>\n",
              "    </tr>\n",
              "  </tbody>\n",
              "</table>\n",
              "</div>"
            ],
            "text/plain": [
              "                       features     score\n",
              "argumentative                            \n",
              "False            for example: 1  0.001418\n",
              "False           for instance: 1  0.000709\n",
              "False              therefore: 1  0.000115\n",
              "False               moreover: 1  0.000060\n",
              "False                    for: 1  0.000055\n",
              "False          in conclusion: 0  0.000025\n",
              "False                whereas: 1  0.000022\n",
              "False                because: 1  0.000018\n",
              "False            for example: 0  0.000017\n",
              "False                   thus: 1  0.000013"
            ]
          },
          "metadata": {},
          "execution_count": 127
        }
      ]
    },
    {
      "cell_type": "markdown",
      "metadata": {
        "id": "LI_fDBH-J0Ak"
      },
      "source": [
        "## **Subjectivity**"
      ]
    },
    {
      "cell_type": "code",
      "metadata": {
        "id": "4gxOoukEw-8g",
        "colab": {
          "base_uri": "https://localhost:8080/"
        },
        "outputId": "f7b900af-edb3-4318-dc6f-1fbf0ff5e215"
      },
      "source": [
        "ground_labels, global_explainability_tabular, labels, _, _, policy=stc_procedure_tabular(others,true_labels)"
      ],
      "execution_count": null,
      "outputs": [
        {
          "output_type": "stream",
          "name": "stdout",
          "text": [
            ""
          ]
        }
      ]
    },
    {
      "cell_type": "code",
      "metadata": {
        "id": "-7ZDUB_Dzykm"
      },
      "source": [
        "accuracy=accuracy_score(ground_labels, labels)\n",
        "f1_score_value=f1_score(y_true=ground_labels, y_pred=labels, pos_label=\"True\")\n",
        "precision=precision_score(ground_labels, labels, pos_label=\"True\")\n",
        "recall=recall_score(ground_labels, labels, pos_label=\"True\")"
      ],
      "execution_count": null,
      "outputs": []
    },
    {
      "cell_type": "code",
      "metadata": {
        "id": "1riIduZGzykm"
      },
      "source": [
        "accuracy_scores.append(accuracy)\n",
        "f1_scores.append(f1_score_value)\n",
        "precision_scores.append(precision)\n",
        "recall_scores.append(recall)"
      ],
      "execution_count": null,
      "outputs": []
    },
    {
      "cell_type": "code",
      "metadata": {
        "id": "vCa8cDDezykm",
        "colab": {
          "base_uri": "https://localhost:8080/"
        },
        "outputId": "e0893c0f-166e-4e60-944f-1a8c9fbe35d6"
      },
      "source": [
        "print('accuracy: {}'.format(accuracy))\n",
        "print('f1 score: {}'.format(f1_score_value))\n",
        "print('precision: {}'.format(precision))\n",
        "print('recall: {}'.format(recall))"
      ],
      "execution_count": null,
      "outputs": [
        {
          "output_type": "stream",
          "name": "stdout",
          "text": [
            "accuracy: 0.5231277533039648\n",
            "f1 score: 0.45534591194968554\n",
            "precision: 0.3875802997858672\n",
            "recall: 0.551829268292683\n"
          ]
        }
      ]
    },
    {
      "cell_type": "code",
      "metadata": {
        "id": "XuBiXBfHe6LV",
        "colab": {
          "base_uri": "https://localhost:8080/",
          "height": 142
        },
        "outputId": "538262d5-3119-4e8b-df53-fd371f4ff24c"
      },
      "source": [
        "global_explainability_tabular.loc[\"True\"][:2]"
      ],
      "execution_count": null,
      "outputs": [
        {
          "output_type": "execute_result",
          "data": {
            "text/html": [
              "<div>\n",
              "<style scoped>\n",
              "    .dataframe tbody tr th:only-of-type {\n",
              "        vertical-align: middle;\n",
              "    }\n",
              "\n",
              "    .dataframe tbody tr th {\n",
              "        vertical-align: top;\n",
              "    }\n",
              "\n",
              "    .dataframe thead th {\n",
              "        text-align: right;\n",
              "    }\n",
              "</style>\n",
              "<table border=\"1\" class=\"dataframe\">\n",
              "  <thead>\n",
              "    <tr style=\"text-align: right;\">\n",
              "      <th></th>\n",
              "      <th>features</th>\n",
              "      <th>score</th>\n",
              "    </tr>\n",
              "    <tr>\n",
              "      <th>argumentative</th>\n",
              "      <th></th>\n",
              "      <th></th>\n",
              "    </tr>\n",
              "  </thead>\n",
              "  <tbody>\n",
              "    <tr>\n",
              "      <th>True</th>\n",
              "      <td>subjectivity score: 1.0</td>\n",
              "      <td>0.000136</td>\n",
              "    </tr>\n",
              "    <tr>\n",
              "      <th>True</th>\n",
              "      <td>subjectivity score: 0.0</td>\n",
              "      <td>0.000132</td>\n",
              "    </tr>\n",
              "  </tbody>\n",
              "</table>\n",
              "</div>"
            ],
            "text/plain": [
              "                              features     score\n",
              "argumentative                                   \n",
              "True           subjectivity score: 1.0  0.000136\n",
              "True           subjectivity score: 0.0  0.000132"
            ]
          },
          "metadata": {},
          "execution_count": 132
        }
      ]
    },
    {
      "cell_type": "code",
      "metadata": {
        "id": "AN59ctMYe6LV",
        "colab": {
          "base_uri": "https://localhost:8080/",
          "height": 142
        },
        "outputId": "d9abb975-edfc-4b8d-f127-3be6a666a3af"
      },
      "source": [
        "global_explainability_tabular.loc[\"False\"][:2]"
      ],
      "execution_count": null,
      "outputs": [
        {
          "output_type": "execute_result",
          "data": {
            "text/html": [
              "<div>\n",
              "<style scoped>\n",
              "    .dataframe tbody tr th:only-of-type {\n",
              "        vertical-align: middle;\n",
              "    }\n",
              "\n",
              "    .dataframe tbody tr th {\n",
              "        vertical-align: top;\n",
              "    }\n",
              "\n",
              "    .dataframe thead th {\n",
              "        text-align: right;\n",
              "    }\n",
              "</style>\n",
              "<table border=\"1\" class=\"dataframe\">\n",
              "  <thead>\n",
              "    <tr style=\"text-align: right;\">\n",
              "      <th></th>\n",
              "      <th>features</th>\n",
              "      <th>score</th>\n",
              "    </tr>\n",
              "    <tr>\n",
              "      <th>argumentative</th>\n",
              "      <th></th>\n",
              "      <th></th>\n",
              "    </tr>\n",
              "  </thead>\n",
              "  <tbody>\n",
              "    <tr>\n",
              "      <th>False</th>\n",
              "      <td>subjectivity score: 1.0</td>\n",
              "      <td>0.000141</td>\n",
              "    </tr>\n",
              "    <tr>\n",
              "      <th>False</th>\n",
              "      <td>subjectivity score: 0.0</td>\n",
              "      <td>0.000127</td>\n",
              "    </tr>\n",
              "  </tbody>\n",
              "</table>\n",
              "</div>"
            ],
            "text/plain": [
              "                              features     score\n",
              "argumentative                                   \n",
              "False          subjectivity score: 1.0  0.000141\n",
              "False          subjectivity score: 0.0  0.000127"
            ]
          },
          "metadata": {},
          "execution_count": 133
        }
      ]
    },
    {
      "cell_type": "markdown",
      "metadata": {
        "id": "SSKn7yq-A1IT"
      },
      "source": [
        "# **Statistic dataset comparison**"
      ]
    },
    {
      "cell_type": "code",
      "metadata": {
        "id": "UKmavj_iBP_v"
      },
      "source": [
        "# Convert the tabular data of more than one dataset into a single dataset o multivalued\n",
        "# attributes. Where each attribure contains the informations corresponding to a \n",
        "# particular dataset imported.\n",
        "\n",
        "def dataset_to_multivalued_attribute(columns,shape,row):\n",
        "\n",
        "  return [columns[j]+\"=\"+str(row[j]) for j in range(shape-1)]\n",
        "\n",
        "\n",
        "def dataset_list_to_JSON(dataset_list:list,dataset_names_list:list,label:pd.DataFrame):\n",
        "\n",
        "  items = []\n",
        "  for i in range(label.shape[0]):\n",
        "      item = {}\n",
        "      for j in range(len(dataset_names_list)):\n",
        "        item[dataset_names_list[j]] = dataset_to_multivalued_attribute(dataset_list[j].columns,dataset_list[j].shape[1],dataset_list[j].iloc[i])\n",
        "      item['argumentative'] = [label['argumentative'].iloc[i]]\n",
        "      items.append(item)\n",
        "\n",
        "  return items"
      ],
      "execution_count": null,
      "outputs": []
    },
    {
      "cell_type": "code",
      "metadata": {
        "id": "SELC0DwjDui1"
      },
      "source": [
        "# The method takes in input a dataframe containing the data from which to predict\n",
        "# the output and the output labels desired and returns, the label for the \n",
        "# test set, the probabilities of the predicted classes, and the global and local \n",
        "# explanations of which features are most usefoul in predicting the labels.\n",
        "\n",
        "def stc_procedure_multiple_dataset(dataset_list:list,dataset_names_list:list,label:pd.DataFrame):\n",
        "\n",
        "  items=dataset_list_to_JSON(dataset_list,dataset_names_list,label)\n",
        "\n",
        "  train_items,test_items=train_test_split(items,test_size=0.2, random_state=32)\n",
        "\n",
        "  STC = SparseTensorClassifier(targets=['argumentative'], features=dataset_names_list, collapse=False)\n",
        "\n",
        "  STC.fit(train_items)\n",
        "\n",
        "  STC.set({\"entropy\": 1, \"balance\": 1, \"power\": 1})\n",
        "\n",
        "  policy, score = STC.learn(max_iter=1, random_state=42)\n",
        "\n",
        "  global_explainability = STC.explain()\n",
        "\n",
        "  labels, probability, explainability = STC.predict(test_items)\n",
        "\n",
        "  ground_labels=[item['argumentative'][0] for item in test_items]\n",
        "\n",
        "  return ground_labels, global_explainability, labels, probability, explainability, policy"
      ],
      "execution_count": null,
      "outputs": []
    },
    {
      "cell_type": "code",
      "metadata": {
        "id": "ITVpLlHHE83b"
      },
      "source": [
        "accuracy_scores_multiple=[]\n",
        "f1_scores_multiple=[]\n",
        "precision_scores_multiple=[]\n",
        "recall_scores_multiple=[]"
      ],
      "execution_count": null,
      "outputs": []
    },
    {
      "cell_type": "markdown",
      "metadata": {
        "id": "hTNy9iT8pUdJ"
      },
      "source": [
        "## **BOW POS data**"
      ]
    },
    {
      "cell_type": "code",
      "metadata": {
        "id": "K7O394UypUdJ"
      },
      "source": [
        "dataframe_list=[statistic,POS,simple_POS]\n",
        "dataframe_names_list=['statistic','POS','simple_POS']"
      ],
      "execution_count": null,
      "outputs": []
    },
    {
      "cell_type": "code",
      "metadata": {
        "id": "1rthQXE9pUdK",
        "colab": {
          "base_uri": "https://localhost:8080/"
        },
        "outputId": "bff96a9b-785b-477c-b994-dd47cc0bf236"
      },
      "source": [
        "ground_labels, global_explainability_tabular, labels, _, _, policy=stc_procedure_multiple_dataset(dataframe_list,dataframe_names_list,true_labels)"
      ],
      "execution_count": null,
      "outputs": [
        {
          "output_type": "stream",
          "name": "stdout",
          "text": [
            ""
          ]
        }
      ]
    },
    {
      "cell_type": "code",
      "metadata": {
        "id": "_Ki2v8vrpUdL"
      },
      "source": [
        "accuracy=accuracy_score(ground_labels, labels)\n",
        "f1_score_value=f1_score(y_true=ground_labels, y_pred=labels, pos_label=\"True\")\n",
        "precision=precision_score(ground_labels, labels, pos_label=\"True\")\n",
        "recall=recall_score(ground_labels, labels, pos_label=\"True\")"
      ],
      "execution_count": null,
      "outputs": []
    },
    {
      "cell_type": "code",
      "metadata": {
        "id": "F_tY8c8mpUdL"
      },
      "source": [
        "accuracy_scores_multiple.append(accuracy)\n",
        "f1_scores_multiple.append(f1_score_value)\n",
        "precision_scores_multiple.append(precision)\n",
        "recall_scores_multiple.append(recall)"
      ],
      "execution_count": null,
      "outputs": []
    },
    {
      "cell_type": "code",
      "metadata": {
        "id": "_-EW95F3pUdM",
        "colab": {
          "base_uri": "https://localhost:8080/"
        },
        "outputId": "9a09e2ce-4d58-4d32-a9e1-30770e6420b9"
      },
      "source": [
        "print('accuracy: {}'.format(accuracy))\n",
        "print('f1 score: {}'.format(f1_score_value))\n",
        "print('precision: {}'.format(precision))\n",
        "print('recall: {}'.format(recall))"
      ],
      "execution_count": null,
      "outputs": [
        {
          "output_type": "stream",
          "name": "stdout",
          "text": [
            "accuracy: 0.8127753303964758\n",
            "f1 score: 0.7543352601156069\n",
            "precision: 0.717032967032967\n",
            "recall: 0.7957317073170732\n"
          ]
        }
      ]
    },
    {
      "cell_type": "code",
      "metadata": {
        "id": "yZt0Y0FPpUdM",
        "colab": {
          "base_uri": "https://localhost:8080/"
        },
        "outputId": "e055bb0a-db1b-43b6-f747-4f980a91dcdf"
      },
      "source": [
        "policy"
      ],
      "execution_count": null,
      "outputs": [
        {
          "output_type": "execute_result",
          "data": {
            "text/plain": [
              "[['POS', 'simple_POS', 'statistic'],\n",
              " ['simple_POS', 'statistic'],\n",
              " ['statistic'],\n",
              " []]"
            ]
          },
          "metadata": {},
          "execution_count": 142
        }
      ]
    },
    {
      "cell_type": "code",
      "metadata": {
        "id": "UbKGfgf6pUdN"
      },
      "source": [
        "policy_set=[]\n",
        "\n",
        "for pol in policy:\n",
        "  policy_set+=pol\n",
        "\n",
        "policy_set=list(set(policy_set))\n",
        "\n",
        "for dataframe in dataframe_names_list:\n",
        "  if dataframe not in policy_set:\n",
        "    print(dataframe)"
      ],
      "execution_count": null,
      "outputs": []
    },
    {
      "cell_type": "markdown",
      "metadata": {
        "id": "BU9_zo_3PhR8"
      },
      "source": [
        "## **Bigram POS data**"
      ]
    },
    {
      "cell_type": "code",
      "metadata": {
        "id": "kBcaK7erPhR-"
      },
      "source": [
        "dataframe_list=[statistic,bigram_POS]\n",
        "dataframe_names_list=['statistic','bigram_POS']"
      ],
      "execution_count": null,
      "outputs": []
    },
    {
      "cell_type": "code",
      "metadata": {
        "id": "Nr-zdaTxPhR-",
        "colab": {
          "base_uri": "https://localhost:8080/"
        },
        "outputId": "8dc14fc3-179b-40eb-fb98-db6263fec206"
      },
      "source": [
        "ground_labels, global_explainability_tabular, labels, _, _, policy=stc_procedure_multiple_dataset(dataframe_list,dataframe_names_list,true_labels)"
      ],
      "execution_count": null,
      "outputs": [
        {
          "output_type": "stream",
          "name": "stdout",
          "text": [
            ""
          ]
        }
      ]
    },
    {
      "cell_type": "code",
      "metadata": {
        "id": "3IKtOGnFPhSA"
      },
      "source": [
        "accuracy=accuracy_score(ground_labels, labels)\n",
        "f1_score_value=f1_score(y_true=ground_labels, y_pred=labels, pos_label=\"True\")\n",
        "precision=precision_score(ground_labels, labels, pos_label=\"True\")\n",
        "recall=recall_score(ground_labels, labels, pos_label=\"True\")"
      ],
      "execution_count": null,
      "outputs": []
    },
    {
      "cell_type": "code",
      "metadata": {
        "id": "jpOduCNGPhSA"
      },
      "source": [
        "accuracy_scores_multiple.append(accuracy)\n",
        "f1_scores_multiple.append(f1_score_value)\n",
        "precision_scores_multiple.append(precision)\n",
        "recall_scores_multiple.append(recall)"
      ],
      "execution_count": null,
      "outputs": []
    },
    {
      "cell_type": "code",
      "metadata": {
        "id": "hJNHdQEyPhSB",
        "colab": {
          "base_uri": "https://localhost:8080/"
        },
        "outputId": "7da695b9-0f58-4ae4-d4f5-b7730617ac35"
      },
      "source": [
        "print('accuracy: {}'.format(accuracy))\n",
        "print('f1 score: {}'.format(f1_score_value))\n",
        "print('precision: {}'.format(precision))\n",
        "print('recall: {}'.format(recall))"
      ],
      "execution_count": null,
      "outputs": [
        {
          "output_type": "stream",
          "name": "stdout",
          "text": [
            "accuracy: 0.8127753303964758\n",
            "f1 score: 0.75\n",
            "precision: 0.7244318181818182\n",
            "recall: 0.7774390243902439\n"
          ]
        }
      ]
    },
    {
      "cell_type": "code",
      "metadata": {
        "id": "UiSnEwTjPhSC",
        "colab": {
          "base_uri": "https://localhost:8080/"
        },
        "outputId": "ac91ff81-54da-4507-f9a0-ee3d9d056acc"
      },
      "source": [
        "policy"
      ],
      "execution_count": null,
      "outputs": [
        {
          "output_type": "execute_result",
          "data": {
            "text/plain": [
              "[['statistic'], []]"
            ]
          },
          "metadata": {},
          "execution_count": 149
        }
      ]
    },
    {
      "cell_type": "code",
      "metadata": {
        "id": "vaVzCy0xPhSC",
        "colab": {
          "base_uri": "https://localhost:8080/"
        },
        "outputId": "70bae105-e17b-4719-d149-84695c997a5a"
      },
      "source": [
        "policy_set=[]\n",
        "\n",
        "for pol in policy:\n",
        "  policy_set+=pol\n",
        "\n",
        "policy_set=list(set(policy_set))\n",
        "\n",
        "for dataframe in dataframe_names_list:\n",
        "  if dataframe not in policy_set:\n",
        "    print(dataframe)"
      ],
      "execution_count": null,
      "outputs": [
        {
          "output_type": "stream",
          "name": "stdout",
          "text": [
            "bigram_POS\n"
          ]
        }
      ]
    },
    {
      "cell_type": "markdown",
      "metadata": {
        "id": "wcfL5r33P1-R"
      },
      "source": [
        "## **simple POS data**"
      ]
    },
    {
      "cell_type": "code",
      "metadata": {
        "id": "wW1_g1ysP1-S"
      },
      "source": [
        "dataframe_list=[statistic,simple_POS,bigram_simple_POS]\n",
        "dataframe_names_list=['statistic','simple_POS','bigram_simple_POS']"
      ],
      "execution_count": null,
      "outputs": []
    },
    {
      "cell_type": "code",
      "metadata": {
        "id": "GZ6YBS3jP1-T",
        "colab": {
          "base_uri": "https://localhost:8080/"
        },
        "outputId": "f04dfb0f-b525-4b4d-a2d0-216ddec12dcb"
      },
      "source": [
        "ground_labels, global_explainability_tabular, labels, _, _, policy=stc_procedure_multiple_dataset(dataframe_list,dataframe_names_list,true_labels)"
      ],
      "execution_count": null,
      "outputs": [
        {
          "output_type": "stream",
          "name": "stdout",
          "text": [
            ""
          ]
        }
      ]
    },
    {
      "cell_type": "code",
      "metadata": {
        "id": "C7SMwNdtP1-U"
      },
      "source": [
        "accuracy=accuracy_score(ground_labels, labels)\n",
        "f1_score_value=f1_score(y_true=ground_labels, y_pred=labels, pos_label=\"True\")\n",
        "precision=precision_score(ground_labels, labels, pos_label=\"True\")\n",
        "recall=recall_score(ground_labels, labels, pos_label=\"True\")"
      ],
      "execution_count": null,
      "outputs": []
    },
    {
      "cell_type": "code",
      "metadata": {
        "id": "vNlIg2omP1-V"
      },
      "source": [
        "accuracy_scores_multiple.append(accuracy)\n",
        "f1_scores_multiple.append(f1_score_value)\n",
        "precision_scores_multiple.append(precision)\n",
        "recall_scores_multiple.append(recall)"
      ],
      "execution_count": null,
      "outputs": []
    },
    {
      "cell_type": "code",
      "metadata": {
        "id": "0EoYrvaHP1-W",
        "colab": {
          "base_uri": "https://localhost:8080/"
        },
        "outputId": "255da6a6-cf01-4a1b-c8e9-76ede2b084cb"
      },
      "source": [
        "print('accuracy: {}'.format(accuracy))\n",
        "print('f1 score: {}'.format(f1_score_value))\n",
        "print('precision: {}'.format(precision))\n",
        "print('recall: {}'.format(recall))"
      ],
      "execution_count": null,
      "outputs": [
        {
          "output_type": "stream",
          "name": "stdout",
          "text": [
            "accuracy: 0.8094713656387665\n",
            "f1 score: 0.748911465892598\n",
            "precision: 0.7146814404432132\n",
            "recall: 0.7865853658536586\n"
          ]
        }
      ]
    },
    {
      "cell_type": "code",
      "metadata": {
        "id": "sa_9BV7qP1-W",
        "colab": {
          "base_uri": "https://localhost:8080/"
        },
        "outputId": "47104834-0df4-4488-9b74-301632c9eae9"
      },
      "source": [
        "policy"
      ],
      "execution_count": null,
      "outputs": [
        {
          "output_type": "execute_result",
          "data": {
            "text/plain": [
              "[['bigram_simple_POS', 'simple_POS', 'statistic'],\n",
              " ['simple_POS', 'statistic'],\n",
              " ['statistic'],\n",
              " []]"
            ]
          },
          "metadata": {},
          "execution_count": 156
        }
      ]
    },
    {
      "cell_type": "code",
      "metadata": {
        "id": "E_R-43nFP1-X"
      },
      "source": [
        "policy_set=[]\n",
        "\n",
        "for pol in policy:\n",
        "  policy_set+=pol\n",
        "\n",
        "policy_set=list(set(policy_set))\n",
        "\n",
        "for dataframe in dataframe_names_list:\n",
        "  if dataframe not in policy_set:\n",
        "    print(dataframe)"
      ],
      "execution_count": null,
      "outputs": []
    },
    {
      "cell_type": "markdown",
      "metadata": {
        "id": "qTgEFwu_Gn10"
      },
      "source": [
        "## **BOW data**"
      ]
    },
    {
      "cell_type": "code",
      "metadata": {
        "id": "EVo5dttGGn11"
      },
      "source": [
        "dataframe_list=[statistic,BOW]\n",
        "dataframe_names_list=['statistic','BOW']"
      ],
      "execution_count": null,
      "outputs": []
    },
    {
      "cell_type": "code",
      "metadata": {
        "id": "tC0eamzJGn12",
        "colab": {
          "base_uri": "https://localhost:8080/"
        },
        "outputId": "937c2c6a-222e-4939-b981-d8531ffc0028"
      },
      "source": [
        "ground_labels, global_explainability_tabular, labels, _, _, policy=stc_procedure_multiple_dataset(dataframe_list,dataframe_names_list,true_labels)"
      ],
      "execution_count": null,
      "outputs": [
        {
          "output_type": "stream",
          "name": "stdout",
          "text": [
            ""
          ]
        }
      ]
    },
    {
      "cell_type": "code",
      "metadata": {
        "id": "8VjhuCAtGn12"
      },
      "source": [
        "accuracy=accuracy_score(ground_labels, labels)\n",
        "f1_score_value=f1_score(y_true=ground_labels, y_pred=labels, pos_label=\"True\")\n",
        "precision=precision_score(ground_labels, labels, pos_label=\"True\")\n",
        "recall=recall_score(ground_labels, labels, pos_label=\"True\")"
      ],
      "execution_count": null,
      "outputs": []
    },
    {
      "cell_type": "code",
      "metadata": {
        "id": "xDZ0ANnGGn13"
      },
      "source": [
        "accuracy_scores_multiple.append(accuracy)\n",
        "f1_scores_multiple.append(f1_score_value)\n",
        "precision_scores_multiple.append(precision)\n",
        "recall_scores_multiple.append(recall)"
      ],
      "execution_count": null,
      "outputs": []
    },
    {
      "cell_type": "code",
      "metadata": {
        "id": "wjoZpSBrGn14",
        "colab": {
          "base_uri": "https://localhost:8080/"
        },
        "outputId": "7821dd84-069f-4d3a-ca1e-28cfcdaf43f6"
      },
      "source": [
        "print('accuracy: {}'.format(accuracy))\n",
        "print('f1 score: {}'.format(f1_score_value))\n",
        "print('precision: {}'.format(precision))\n",
        "print('recall: {}'.format(recall))"
      ],
      "execution_count": null,
      "outputs": [
        {
          "output_type": "stream",
          "name": "stdout",
          "text": [
            "accuracy: 0.8127753303964758\n",
            "f1 score: 0.75\n",
            "precision: 0.7244318181818182\n",
            "recall: 0.7774390243902439\n"
          ]
        }
      ]
    },
    {
      "cell_type": "code",
      "metadata": {
        "id": "L3XhK9VAGn14",
        "colab": {
          "base_uri": "https://localhost:8080/"
        },
        "outputId": "4746e451-f723-4c49-afe7-3273bf307cd1"
      },
      "source": [
        "policy"
      ],
      "execution_count": null,
      "outputs": [
        {
          "output_type": "execute_result",
          "data": {
            "text/plain": [
              "[['BOW', 'statistic'], ['statistic'], []]"
            ]
          },
          "metadata": {},
          "execution_count": 163
        }
      ]
    },
    {
      "cell_type": "code",
      "metadata": {
        "id": "8YfqeEENGn15"
      },
      "source": [
        "policy_set=[]\n",
        "\n",
        "for pol in policy:\n",
        "  policy_set+=pol\n",
        "\n",
        "policy_set=list(set(policy_set))\n",
        "\n",
        "for dataframe in dataframe_names_list:\n",
        "  if dataframe not in policy_set:\n",
        "    print(dataframe)"
      ],
      "execution_count": null,
      "outputs": []
    },
    {
      "cell_type": "markdown",
      "metadata": {
        "id": "KqS5rtI4qCpL"
      },
      "source": [
        "## **Bigram data**"
      ]
    },
    {
      "cell_type": "code",
      "metadata": {
        "id": "oeA2UipvqCpM"
      },
      "source": [
        "dataframe_list=[statistic,Bigram]\n",
        "dataframe_names_list=['statistic','Bigram']"
      ],
      "execution_count": null,
      "outputs": []
    },
    {
      "cell_type": "code",
      "metadata": {
        "id": "S8uVxGhDqCpM",
        "colab": {
          "base_uri": "https://localhost:8080/"
        },
        "outputId": "e14cff83-743f-4f73-855a-07d241755623"
      },
      "source": [
        "ground_labels, global_explainability_tabular, labels, _, _, policy=stc_procedure_multiple_dataset(dataframe_list,dataframe_names_list,true_labels)"
      ],
      "execution_count": null,
      "outputs": [
        {
          "output_type": "stream",
          "name": "stdout",
          "text": [
            ""
          ]
        }
      ]
    },
    {
      "cell_type": "code",
      "metadata": {
        "id": "ft86vwy3qCpM"
      },
      "source": [
        "accuracy=accuracy_score(ground_labels, labels)\n",
        "f1_score_value=f1_score(y_true=ground_labels, y_pred=labels, pos_label=\"True\")\n",
        "precision=precision_score(ground_labels, labels, pos_label=\"True\")\n",
        "recall=recall_score(ground_labels, labels, pos_label=\"True\")"
      ],
      "execution_count": null,
      "outputs": []
    },
    {
      "cell_type": "code",
      "metadata": {
        "id": "P5aKvV7nqCpM"
      },
      "source": [
        "accuracy_scores_multiple.append(accuracy)\n",
        "f1_scores_multiple.append(f1_score_value)\n",
        "precision_scores_multiple.append(precision)\n",
        "recall_scores_multiple.append(recall)"
      ],
      "execution_count": null,
      "outputs": []
    },
    {
      "cell_type": "code",
      "metadata": {
        "id": "lHhXMH1cqCpM",
        "colab": {
          "base_uri": "https://localhost:8080/"
        },
        "outputId": "c2c3b247-ff6e-411e-b727-23c2440f4119"
      },
      "source": [
        "print('accuracy: {}'.format(accuracy))\n",
        "print('f1 score: {}'.format(f1_score_value))\n",
        "print('precision: {}'.format(precision))\n",
        "print('recall: {}'.format(recall))"
      ],
      "execution_count": null,
      "outputs": [
        {
          "output_type": "stream",
          "name": "stdout",
          "text": [
            "accuracy: 0.8127753303964758\n",
            "f1 score: 0.75\n",
            "precision: 0.7244318181818182\n",
            "recall: 0.7774390243902439\n"
          ]
        }
      ]
    },
    {
      "cell_type": "code",
      "metadata": {
        "id": "hGmPcYLvqCpM",
        "colab": {
          "base_uri": "https://localhost:8080/"
        },
        "outputId": "0f44d662-1337-410b-ad2d-3c34ad12fce1"
      },
      "source": [
        "policy"
      ],
      "execution_count": null,
      "outputs": [
        {
          "output_type": "execute_result",
          "data": {
            "text/plain": [
              "[['Bigram', 'statistic'], ['statistic'], []]"
            ]
          },
          "metadata": {},
          "execution_count": 170
        }
      ]
    },
    {
      "cell_type": "code",
      "metadata": {
        "id": "-MO6Eia2qCpM"
      },
      "source": [
        "policy_set=[]\n",
        "\n",
        "for pol in policy:\n",
        "  policy_set+=pol\n",
        "\n",
        "policy_set=list(set(policy_set))\n",
        "\n",
        "for dataframe in dataframe_names_list:\n",
        "  if dataframe not in policy_set:\n",
        "    print(dataframe)"
      ],
      "execution_count": null,
      "outputs": []
    },
    {
      "cell_type": "markdown",
      "metadata": {
        "id": "pQQ7mOkpqjtX"
      },
      "source": [
        "## **Imported n-gram data**"
      ]
    },
    {
      "cell_type": "code",
      "metadata": {
        "id": "quvRiONVqjtY"
      },
      "source": [
        "dataframe_list=[statistic,imported_ngram]\n",
        "dataframe_names_list=['statistic','imported_ngram']"
      ],
      "execution_count": null,
      "outputs": []
    },
    {
      "cell_type": "code",
      "metadata": {
        "id": "5Y4eDKiiqjtY",
        "colab": {
          "base_uri": "https://localhost:8080/"
        },
        "outputId": "e98c3241-939f-45f4-8aa8-df469e5254c5"
      },
      "source": [
        "ground_labels, global_explainability_tabular, labels, _, _, policy=stc_procedure_multiple_dataset(dataframe_list,dataframe_names_list,true_labels)"
      ],
      "execution_count": null,
      "outputs": [
        {
          "output_type": "stream",
          "name": "stdout",
          "text": [
            ""
          ]
        }
      ]
    },
    {
      "cell_type": "code",
      "metadata": {
        "id": "FNu2W2JmqjtY"
      },
      "source": [
        "accuracy=accuracy_score(ground_labels, labels)\n",
        "f1_score_value=f1_score(y_true=ground_labels, y_pred=labels, pos_label=\"True\")\n",
        "precision=precision_score(ground_labels, labels, pos_label=\"True\")\n",
        "recall=recall_score(ground_labels, labels, pos_label=\"True\")"
      ],
      "execution_count": null,
      "outputs": []
    },
    {
      "cell_type": "code",
      "metadata": {
        "id": "7SHdPpO_qjtY"
      },
      "source": [
        "accuracy_scores_multiple.append(accuracy)\n",
        "f1_scores_multiple.append(f1_score_value)\n",
        "precision_scores_multiple.append(precision)\n",
        "recall_scores_multiple.append(recall)"
      ],
      "execution_count": null,
      "outputs": []
    },
    {
      "cell_type": "code",
      "metadata": {
        "id": "CCCWmQzbqjtY",
        "colab": {
          "base_uri": "https://localhost:8080/"
        },
        "outputId": "95a7cb0f-3b1c-4286-b9f8-9dc0050aabb1"
      },
      "source": [
        "print('accuracy: {}'.format(accuracy))\n",
        "print('f1 score: {}'.format(f1_score_value))\n",
        "print('precision: {}'.format(precision))\n",
        "print('recall: {}'.format(recall))"
      ],
      "execution_count": null,
      "outputs": [
        {
          "output_type": "stream",
          "name": "stdout",
          "text": [
            "accuracy: 0.8127753303964758\n",
            "f1 score: 0.75\n",
            "precision: 0.7244318181818182\n",
            "recall: 0.7774390243902439\n"
          ]
        }
      ]
    },
    {
      "cell_type": "code",
      "metadata": {
        "id": "4ELxEQIxqjtY",
        "colab": {
          "base_uri": "https://localhost:8080/"
        },
        "outputId": "ae814bb7-06e8-4d12-aa33-e900c078ab38"
      },
      "source": [
        "policy"
      ],
      "execution_count": null,
      "outputs": [
        {
          "output_type": "execute_result",
          "data": {
            "text/plain": [
              "[['imported_ngram', 'statistic'], ['statistic'], []]"
            ]
          },
          "metadata": {},
          "execution_count": 177
        }
      ]
    },
    {
      "cell_type": "code",
      "metadata": {
        "id": "cLbcW4GmqjtY"
      },
      "source": [
        "policy_set=[]\n",
        "\n",
        "for pol in policy:\n",
        "  policy_set+=pol\n",
        "\n",
        "policy_set=list(set(policy_set))\n",
        "\n",
        "for dataframe in dataframe_names_list:\n",
        "  if dataframe not in policy_set:\n",
        "    print(dataframe)"
      ],
      "execution_count": null,
      "outputs": []
    },
    {
      "cell_type": "markdown",
      "metadata": {
        "id": "G0LsJbVXH02n"
      },
      "source": [
        "## **Dependency data**"
      ]
    },
    {
      "cell_type": "code",
      "metadata": {
        "id": "t-NtYIVhH02p"
      },
      "source": [
        "dataframe_list=[statistic,dependency, dependency_tree_stat]\n",
        "dataframe_names_list=['statistic','dependency','dependency_tree_stat']"
      ],
      "execution_count": null,
      "outputs": []
    },
    {
      "cell_type": "code",
      "metadata": {
        "id": "p1k5pJp6H02p",
        "colab": {
          "base_uri": "https://localhost:8080/"
        },
        "outputId": "bf4ab605-f5b0-41d0-c56e-0f81cab9ac3a"
      },
      "source": [
        "ground_labels, global_explainability_tabular, labels, _, _, policy=stc_procedure_multiple_dataset(dataframe_list,dataframe_names_list,true_labels)"
      ],
      "execution_count": null,
      "outputs": [
        {
          "output_type": "stream",
          "name": "stdout",
          "text": [
            ""
          ]
        }
      ]
    },
    {
      "cell_type": "code",
      "metadata": {
        "id": "0OiqmhTtH02q"
      },
      "source": [
        "accuracy=accuracy_score(ground_labels, labels)\n",
        "f1_score_value=f1_score(y_true=ground_labels, y_pred=labels, pos_label=\"True\")\n",
        "precision=precision_score(ground_labels, labels, pos_label=\"True\")\n",
        "recall=recall_score(ground_labels, labels, pos_label=\"True\")"
      ],
      "execution_count": null,
      "outputs": []
    },
    {
      "cell_type": "code",
      "metadata": {
        "id": "uezKugXtH02r"
      },
      "source": [
        "accuracy_scores_multiple.append(accuracy)\n",
        "f1_scores_multiple.append(f1_score_value)\n",
        "precision_scores_multiple.append(precision)\n",
        "recall_scores_multiple.append(recall)"
      ],
      "execution_count": null,
      "outputs": []
    },
    {
      "cell_type": "code",
      "metadata": {
        "id": "UOM9WHgOH02r",
        "colab": {
          "base_uri": "https://localhost:8080/"
        },
        "outputId": "2a3cfe42-17c1-41df-ece4-c8c97d408bf4"
      },
      "source": [
        "print('accuracy: {}'.format(accuracy))\n",
        "print('f1 score: {}'.format(f1_score_value))\n",
        "print('precision: {}'.format(precision))\n",
        "print('recall: {}'.format(recall))"
      ],
      "execution_count": null,
      "outputs": [
        {
          "output_type": "stream",
          "name": "stdout",
          "text": [
            "accuracy: 0.8039647577092511\n",
            "f1 score: 0.7366863905325444\n",
            "precision: 0.7155172413793104\n",
            "recall: 0.7591463414634146\n"
          ]
        }
      ]
    },
    {
      "cell_type": "code",
      "metadata": {
        "id": "_XXvy5IzH02s",
        "colab": {
          "base_uri": "https://localhost:8080/"
        },
        "outputId": "80da7436-ca5e-49a1-f0ad-720fdaef9193"
      },
      "source": [
        "policy"
      ],
      "execution_count": null,
      "outputs": [
        {
          "output_type": "execute_result",
          "data": {
            "text/plain": [
              "[['dependency', 'dependency_tree_stat', 'statistic'],\n",
              " ['dependency_tree_stat', 'statistic'],\n",
              " ['statistic'],\n",
              " []]"
            ]
          },
          "metadata": {},
          "execution_count": 184
        }
      ]
    },
    {
      "cell_type": "code",
      "metadata": {
        "id": "miG3yk9DH02s"
      },
      "source": [
        "policy_set=[]\n",
        "\n",
        "for pol in policy:\n",
        "  policy_set+=pol\n",
        "\n",
        "policy_set=list(set(policy_set))\n",
        "\n",
        "for dataframe in dataframe_names_list:\n",
        "  if dataframe not in policy_set:\n",
        "    print(dataframe)"
      ],
      "execution_count": null,
      "outputs": []
    },
    {
      "cell_type": "markdown",
      "metadata": {
        "id": "XqJ-WqaxHFgl"
      },
      "source": [
        "## **Named entity data**"
      ]
    },
    {
      "cell_type": "code",
      "metadata": {
        "id": "fzwVOyv2HFgm"
      },
      "source": [
        "dataframe_list=[statistic,named_entity]\n",
        "dataframe_names_list=['satistic', 'named_entity']"
      ],
      "execution_count": null,
      "outputs": []
    },
    {
      "cell_type": "code",
      "metadata": {
        "id": "JvMaTg-KHFgn",
        "colab": {
          "base_uri": "https://localhost:8080/"
        },
        "outputId": "6502340b-094c-453d-bfb8-cfe1f2059e5f"
      },
      "source": [
        "ground_labels, global_explainability_tabular, labels, _, _, policy=stc_procedure_multiple_dataset(dataframe_list,dataframe_names_list,true_labels)"
      ],
      "execution_count": null,
      "outputs": [
        {
          "output_type": "stream",
          "name": "stdout",
          "text": [
            ""
          ]
        }
      ]
    },
    {
      "cell_type": "code",
      "metadata": {
        "id": "ZjnB0vLEHFgo"
      },
      "source": [
        "accuracy=accuracy_score(ground_labels, labels)\n",
        "f1_score_value=f1_score(y_true=ground_labels, y_pred=labels, pos_label=\"True\")\n",
        "precision=precision_score(ground_labels, labels, pos_label=\"True\")\n",
        "recall=recall_score(ground_labels, labels, pos_label=\"True\")"
      ],
      "execution_count": null,
      "outputs": []
    },
    {
      "cell_type": "code",
      "metadata": {
        "id": "UgwG4XFCHFgo"
      },
      "source": [
        "accuracy_scores_multiple.append(accuracy)\n",
        "f1_scores_multiple.append(f1_score_value)\n",
        "precision_scores_multiple.append(precision)\n",
        "recall_scores_multiple.append(recall)"
      ],
      "execution_count": null,
      "outputs": []
    },
    {
      "cell_type": "code",
      "metadata": {
        "id": "r8jioajDHFgp",
        "colab": {
          "base_uri": "https://localhost:8080/"
        },
        "outputId": "51ee9be7-6076-473c-d4f8-c0040f8dff03"
      },
      "source": [
        "print('accuracy: {}'.format(accuracy))\n",
        "print('f1 score: {}'.format(f1_score_value))\n",
        "print('precision: {}'.format(precision))\n",
        "print('recall: {}'.format(recall))"
      ],
      "execution_count": null,
      "outputs": [
        {
          "output_type": "stream",
          "name": "stdout",
          "text": [
            "accuracy: 0.8127753303964758\n",
            "f1 score: 0.75\n",
            "precision: 0.7244318181818182\n",
            "recall: 0.7774390243902439\n"
          ]
        }
      ]
    },
    {
      "cell_type": "code",
      "metadata": {
        "id": "L6rbSgN2HFgq",
        "colab": {
          "base_uri": "https://localhost:8080/"
        },
        "outputId": "15d05c09-cea4-4302-9154-6e0a45f876f5"
      },
      "source": [
        "policy"
      ],
      "execution_count": null,
      "outputs": [
        {
          "output_type": "execute_result",
          "data": {
            "text/plain": [
              "[['named_entity', 'satistic'], ['satistic'], []]"
            ]
          },
          "metadata": {},
          "execution_count": 191
        }
      ]
    },
    {
      "cell_type": "code",
      "metadata": {
        "id": "dvb6z7p-HFgq"
      },
      "source": [
        "policy_set=[]\n",
        "\n",
        "for pol in policy:\n",
        "  policy_set+=pol\n",
        "\n",
        "policy_set=list(set(policy_set))\n",
        "\n",
        "for dataframe in dataframe_names_list:\n",
        "  if dataframe not in policy_set:\n",
        "    print(dataframe)"
      ],
      "execution_count": null,
      "outputs": []
    },
    {
      "cell_type": "markdown",
      "metadata": {
        "id": "mzWTpHXIrHOK"
      },
      "source": [
        "## **Subjectivity data**"
      ]
    },
    {
      "cell_type": "code",
      "metadata": {
        "id": "_FESwoQmrHOK"
      },
      "source": [
        "dataframe_list=[statistic,others]\n",
        "dataframe_names_list=['statistic','subjectivity']"
      ],
      "execution_count": null,
      "outputs": []
    },
    {
      "cell_type": "code",
      "metadata": {
        "id": "mWFk5tr6rHOK",
        "colab": {
          "base_uri": "https://localhost:8080/"
        },
        "outputId": "755626cb-d336-4adb-a905-9ada752551de"
      },
      "source": [
        "ground_labels, global_explainability_tabular, labels, _, _, policy=stc_procedure_multiple_dataset(dataframe_list,dataframe_names_list,true_labels)"
      ],
      "execution_count": null,
      "outputs": [
        {
          "output_type": "stream",
          "name": "stdout",
          "text": [
            ""
          ]
        }
      ]
    },
    {
      "cell_type": "code",
      "metadata": {
        "id": "S5OfFQBMrHOK"
      },
      "source": [
        "accuracy=accuracy_score(ground_labels, labels)\n",
        "f1_score_value=f1_score(y_true=ground_labels, y_pred=labels, pos_label=\"True\")\n",
        "precision=precision_score(ground_labels, labels, pos_label=\"True\")\n",
        "recall=recall_score(ground_labels, labels, pos_label=\"True\")"
      ],
      "execution_count": null,
      "outputs": []
    },
    {
      "cell_type": "code",
      "metadata": {
        "id": "b95mvJtSrHOK"
      },
      "source": [
        "accuracy_scores_multiple.append(accuracy)\n",
        "f1_scores_multiple.append(f1_score_value)\n",
        "precision_scores_multiple.append(precision)\n",
        "recall_scores_multiple.append(recall)"
      ],
      "execution_count": null,
      "outputs": []
    },
    {
      "cell_type": "code",
      "metadata": {
        "id": "TBL_GhlqrHOL",
        "colab": {
          "base_uri": "https://localhost:8080/"
        },
        "outputId": "346b51b1-de31-4d24-c352-b40cb05365f5"
      },
      "source": [
        "print('accuracy: {}'.format(accuracy))\n",
        "print('f1 score: {}'.format(f1_score_value))\n",
        "print('precision: {}'.format(precision))\n",
        "print('recall: {}'.format(recall))"
      ],
      "execution_count": null,
      "outputs": [
        {
          "output_type": "stream",
          "name": "stdout",
          "text": [
            "accuracy: 0.8127753303964758\n",
            "f1 score: 0.75\n",
            "precision: 0.7244318181818182\n",
            "recall: 0.7774390243902439\n"
          ]
        }
      ]
    },
    {
      "cell_type": "code",
      "metadata": {
        "id": "Nk_g112IrHOL",
        "colab": {
          "base_uri": "https://localhost:8080/"
        },
        "outputId": "545c4a6c-938b-4d2b-8ffe-2c216af700ca"
      },
      "source": [
        "policy"
      ],
      "execution_count": null,
      "outputs": [
        {
          "output_type": "execute_result",
          "data": {
            "text/plain": [
              "[['statistic'], []]"
            ]
          },
          "metadata": {},
          "execution_count": 198
        }
      ]
    },
    {
      "cell_type": "code",
      "metadata": {
        "id": "F6q7FzzUrHOL",
        "colab": {
          "base_uri": "https://localhost:8080/"
        },
        "outputId": "cec0e0d3-2787-4359-afec-4b5efe491dc8"
      },
      "source": [
        "policy_set=[]\n",
        "\n",
        "for pol in policy:\n",
        "  policy_set+=pol\n",
        "\n",
        "policy_set=list(set(policy_set))\n",
        "\n",
        "for dataframe in dataframe_names_list:\n",
        "  if dataframe not in policy_set:\n",
        "    print(dataframe)"
      ],
      "execution_count": null,
      "outputs": [
        {
          "output_type": "stream",
          "name": "stdout",
          "text": [
            "subjectivity\n"
          ]
        }
      ]
    },
    {
      "cell_type": "markdown",
      "metadata": {
        "id": "MdrW89vVv5l6"
      },
      "source": [
        "## **Bigram-words**"
      ]
    },
    {
      "cell_type": "code",
      "metadata": {
        "id": "Ahl7MT4Xv5l6"
      },
      "source": [
        "dataframe_list=[BOW,Bigram]\n",
        "dataframe_names_list=['BOW','Bigram']"
      ],
      "execution_count": null,
      "outputs": []
    },
    {
      "cell_type": "code",
      "metadata": {
        "id": "mwC5tWdvv5l7",
        "colab": {
          "base_uri": "https://localhost:8080/"
        },
        "outputId": "205f0921-a1c5-4552-db92-ac60b3f73c8d"
      },
      "source": [
        "ground_labels, global_explainability_tabular, labels, _, _, policy=stc_procedure_multiple_dataset(dataframe_list,dataframe_names_list,true_labels)"
      ],
      "execution_count": null,
      "outputs": [
        {
          "output_type": "stream",
          "name": "stdout",
          "text": [
            ""
          ]
        }
      ]
    },
    {
      "cell_type": "code",
      "metadata": {
        "id": "h3SlFK5fv5l7"
      },
      "source": [
        "accuracy=accuracy_score(ground_labels, labels)\n",
        "f1_score_value=f1_score(y_true=ground_labels, y_pred=labels, pos_label=\"True\")\n",
        "precision=precision_score(ground_labels, labels, pos_label=\"True\")\n",
        "recall=recall_score(ground_labels, labels, pos_label=\"True\")"
      ],
      "execution_count": null,
      "outputs": []
    },
    {
      "cell_type": "code",
      "metadata": {
        "id": "h1-n1cCmv5l7"
      },
      "source": [
        "accuracy_scores_multiple.append(accuracy)\n",
        "f1_scores_multiple.append(f1_score_value)\n",
        "precision_scores_multiple.append(precision)\n",
        "recall_scores_multiple.append(recall)"
      ],
      "execution_count": null,
      "outputs": []
    },
    {
      "cell_type": "code",
      "metadata": {
        "id": "pOdcfOmSv5l7",
        "colab": {
          "base_uri": "https://localhost:8080/"
        },
        "outputId": "ef7aefe4-2eb3-4114-9306-8e697b5157d4"
      },
      "source": [
        "print('accuracy: {}'.format(accuracy))\n",
        "print('f1 score: {}'.format(f1_score_value))\n",
        "print('precision: {}'.format(precision))\n",
        "print('recall: {}'.format(recall))"
      ],
      "execution_count": null,
      "outputs": [
        {
          "output_type": "stream",
          "name": "stdout",
          "text": [
            "accuracy: 0.5341409691629956\n",
            "f1 score: 0.46387832699619774\n",
            "precision: 0.3969631236442516\n",
            "recall: 0.5579268292682927\n"
          ]
        }
      ]
    },
    {
      "cell_type": "code",
      "metadata": {
        "id": "f0WVGohWv5l7",
        "colab": {
          "base_uri": "https://localhost:8080/"
        },
        "outputId": "73e426ac-94df-4364-d15c-460dc9e0b50f"
      },
      "source": [
        "policy"
      ],
      "execution_count": null,
      "outputs": [
        {
          "output_type": "execute_result",
          "data": {
            "text/plain": [
              "[['BOW'], []]"
            ]
          },
          "metadata": {},
          "execution_count": 205
        }
      ]
    },
    {
      "cell_type": "code",
      "metadata": {
        "id": "T3uUTai-v5l8",
        "colab": {
          "base_uri": "https://localhost:8080/"
        },
        "outputId": "9e3a43ab-b933-417e-97b4-83211343d457"
      },
      "source": [
        "policy_set=[]\n",
        "\n",
        "for pol in policy:\n",
        "  policy_set+=pol\n",
        "\n",
        "policy_set=list(set(policy_set))\n",
        "\n",
        "for dataframe in dataframe_names_list:\n",
        "  if dataframe not in policy_set:\n",
        "    print(dataframe)"
      ],
      "execution_count": null,
      "outputs": [
        {
          "output_type": "stream",
          "name": "stdout",
          "text": [
            "Bigram\n"
          ]
        }
      ]
    },
    {
      "cell_type": "markdown",
      "metadata": {
        "id": "33lYfPrQD4kB"
      },
      "source": [
        "## **BOW types part 1**"
      ]
    },
    {
      "cell_type": "code",
      "metadata": {
        "id": "5HIzLGEeD4kB"
      },
      "source": [
        "dataframe_list=[BOW,dependency,named_entity]\n",
        "dataframe_names_list=['BOW','dependency','named_entity']"
      ],
      "execution_count": null,
      "outputs": []
    },
    {
      "cell_type": "code",
      "metadata": {
        "id": "fWvzLmPCD4kB",
        "colab": {
          "base_uri": "https://localhost:8080/"
        },
        "outputId": "56b7efd2-e33f-4e5f-dd54-f79adb36039c"
      },
      "source": [
        "ground_labels, global_explainability_tabular, labels, _, _, policy=stc_procedure_multiple_dataset(dataframe_list,dataframe_names_list,true_labels)"
      ],
      "execution_count": null,
      "outputs": [
        {
          "output_type": "stream",
          "name": "stdout",
          "text": [
            ""
          ]
        }
      ]
    },
    {
      "cell_type": "code",
      "metadata": {
        "id": "lCl7_hyDD4kB"
      },
      "source": [
        "accuracy=accuracy_score(ground_labels, labels)\n",
        "f1_score_value=f1_score(y_true=ground_labels, y_pred=labels, pos_label=\"True\")\n",
        "precision=precision_score(ground_labels, labels, pos_label=\"True\")\n",
        "recall=recall_score(ground_labels, labels, pos_label=\"True\")"
      ],
      "execution_count": null,
      "outputs": []
    },
    {
      "cell_type": "code",
      "metadata": {
        "id": "mzsK1rz3D4kC"
      },
      "source": [
        "accuracy_scores_multiple.append(accuracy)\n",
        "f1_scores_multiple.append(f1_score_value)\n",
        "precision_scores_multiple.append(precision)\n",
        "recall_scores_multiple.append(recall)"
      ],
      "execution_count": null,
      "outputs": []
    },
    {
      "cell_type": "code",
      "metadata": {
        "id": "bzMI3ZopD4kC",
        "colab": {
          "base_uri": "https://localhost:8080/"
        },
        "outputId": "18b9d578-306c-4510-e392-dac0137159c0"
      },
      "source": [
        "print('accuracy: {}'.format(accuracy))\n",
        "print('f1 score: {}'.format(f1_score_value))\n",
        "print('precision: {}'.format(precision))\n",
        "print('recall: {}'.format(recall))"
      ],
      "execution_count": null,
      "outputs": [
        {
          "output_type": "stream",
          "name": "stdout",
          "text": [
            "accuracy: 0.5704845814977973\n",
            "f1 score: 0.4908616187989556\n",
            "precision: 0.4292237442922374\n",
            "recall: 0.573170731707317\n"
          ]
        }
      ]
    },
    {
      "cell_type": "code",
      "metadata": {
        "id": "vBFQk5R7D4kC",
        "colab": {
          "base_uri": "https://localhost:8080/"
        },
        "outputId": "1b954b9b-37fd-44a4-87f0-13a0e102e60f"
      },
      "source": [
        "policy"
      ],
      "execution_count": null,
      "outputs": [
        {
          "output_type": "execute_result",
          "data": {
            "text/plain": [
              "[['BOW', 'named_entity'], ['named_entity'], []]"
            ]
          },
          "metadata": {},
          "execution_count": 212
        }
      ]
    },
    {
      "cell_type": "code",
      "metadata": {
        "id": "f7wwH61kD4kC",
        "colab": {
          "base_uri": "https://localhost:8080/"
        },
        "outputId": "d68983b5-3282-4fd7-ee3e-fc224469c107"
      },
      "source": [
        "policy_set=[]\n",
        "\n",
        "for pol in policy:\n",
        "  policy_set+=pol\n",
        "\n",
        "policy_set=list(set(policy_set))\n",
        "\n",
        "for dataframe in dataframe_names_list:\n",
        "  if dataframe not in policy_set:\n",
        "    print(dataframe)"
      ],
      "execution_count": null,
      "outputs": [
        {
          "output_type": "stream",
          "name": "stdout",
          "text": [
            "dependency\n"
          ]
        }
      ]
    },
    {
      "cell_type": "markdown",
      "metadata": {
        "id": "Zk5OOE3UTXow"
      },
      "source": [
        "## **BOW types part 2**"
      ]
    },
    {
      "cell_type": "code",
      "metadata": {
        "id": "kaBFQdtlTXow"
      },
      "source": [
        "dataframe_list=[BOW,dependency,POS,simple_POS]\n",
        "dataframe_names_list=['BOW','POS','simple_POS']"
      ],
      "execution_count": null,
      "outputs": []
    },
    {
      "cell_type": "code",
      "metadata": {
        "id": "ghPqIGeBTXox",
        "colab": {
          "base_uri": "https://localhost:8080/"
        },
        "outputId": "8db8f0ed-d1b2-4b4d-84b4-26d4abc1ce0a"
      },
      "source": [
        "ground_labels, global_explainability_tabular, labels, _, _, policy=stc_procedure_multiple_dataset(dataframe_list,dataframe_names_list,true_labels)"
      ],
      "execution_count": null,
      "outputs": [
        {
          "output_type": "stream",
          "name": "stdout",
          "text": [
            ""
          ]
        }
      ]
    },
    {
      "cell_type": "code",
      "metadata": {
        "id": "bfzZOL2OTXox"
      },
      "source": [
        "accuracy=accuracy_score(ground_labels, labels)\n",
        "f1_score_value=f1_score(y_true=ground_labels, y_pred=labels, pos_label=\"True\")\n",
        "precision=precision_score(ground_labels, labels, pos_label=\"True\")\n",
        "recall=recall_score(ground_labels, labels, pos_label=\"True\")"
      ],
      "execution_count": null,
      "outputs": []
    },
    {
      "cell_type": "code",
      "metadata": {
        "id": "Kr8m5W8mTXox"
      },
      "source": [
        "accuracy_scores_multiple.append(accuracy)\n",
        "f1_scores_multiple.append(f1_score_value)\n",
        "precision_scores_multiple.append(precision)\n",
        "recall_scores_multiple.append(recall)"
      ],
      "execution_count": null,
      "outputs": []
    },
    {
      "cell_type": "code",
      "metadata": {
        "id": "vt6HHK5OTXox",
        "colab": {
          "base_uri": "https://localhost:8080/"
        },
        "outputId": "0793c9ba-a4c3-48b0-fac8-9d2a932c4e83"
      },
      "source": [
        "print('accuracy: {}'.format(accuracy))\n",
        "print('f1 score: {}'.format(f1_score_value))\n",
        "print('precision: {}'.format(precision))\n",
        "print('recall: {}'.format(recall))"
      ],
      "execution_count": null,
      "outputs": [
        {
          "output_type": "stream",
          "name": "stdout",
          "text": [
            "accuracy: 0.579295154185022\n",
            "f1 score: 0.5375302663438256\n",
            "precision: 0.4457831325301205\n",
            "recall: 0.676829268292683\n"
          ]
        }
      ]
    },
    {
      "cell_type": "code",
      "metadata": {
        "id": "yu8CB4oBTXox",
        "colab": {
          "base_uri": "https://localhost:8080/"
        },
        "outputId": "c5abc5c0-c53f-4296-d9ae-84dc77273dc3"
      },
      "source": [
        "policy"
      ],
      "execution_count": null,
      "outputs": [
        {
          "output_type": "execute_result",
          "data": {
            "text/plain": [
              "[['BOW', 'POS', 'simple_POS'], ['POS', 'simple_POS'], ['simple_POS'], []]"
            ]
          },
          "metadata": {},
          "execution_count": 219
        }
      ]
    },
    {
      "cell_type": "code",
      "metadata": {
        "id": "--x22obyTXox"
      },
      "source": [
        "policy_set=[]\n",
        "\n",
        "for pol in policy:\n",
        "  policy_set+=pol\n",
        "\n",
        "policy_set=list(set(policy_set))\n",
        "\n",
        "for dataframe in dataframe_names_list:\n",
        "  if dataframe not in policy_set:\n",
        "    print(dataframe)"
      ],
      "execution_count": null,
      "outputs": []
    },
    {
      "cell_type": "markdown",
      "metadata": {
        "id": "OcI4Z8VBjxCv"
      },
      "source": [
        "## **BOW dependency tree**"
      ]
    },
    {
      "cell_type": "code",
      "metadata": {
        "id": "Dh8JAJS2jxCv"
      },
      "source": [
        "dataframe_list=[BOW,dependency_tree_stat,named_entity]\n",
        "dataframe_names_list=['BOW','dependency_tree_stat','named_entity']"
      ],
      "execution_count": null,
      "outputs": []
    },
    {
      "cell_type": "code",
      "metadata": {
        "id": "jcqhvPBijxCw",
        "colab": {
          "base_uri": "https://localhost:8080/"
        },
        "outputId": "ad4449cb-3f0e-4708-ff5d-40c4aff217fb"
      },
      "source": [
        "ground_labels, global_explainability_tabular, labels, _, _, policy=stc_procedure_multiple_dataset(dataframe_list,dataframe_names_list,true_labels)"
      ],
      "execution_count": null,
      "outputs": [
        {
          "output_type": "stream",
          "name": "stdout",
          "text": [
            ""
          ]
        }
      ]
    },
    {
      "cell_type": "code",
      "metadata": {
        "id": "vg4e-xRXjxCw"
      },
      "source": [
        "accuracy=accuracy_score(ground_labels, labels)\n",
        "f1_score_value=f1_score(y_true=ground_labels, y_pred=labels, pos_label=\"True\")\n",
        "precision=precision_score(ground_labels, labels, pos_label=\"True\")\n",
        "recall=recall_score(ground_labels, labels, pos_label=\"True\")"
      ],
      "execution_count": null,
      "outputs": []
    },
    {
      "cell_type": "code",
      "metadata": {
        "id": "5nDFusAwjxCw"
      },
      "source": [
        "accuracy_scores_multiple.append(accuracy)\n",
        "f1_scores_multiple.append(f1_score_value)\n",
        "precision_scores_multiple.append(precision)\n",
        "recall_scores_multiple.append(recall)"
      ],
      "execution_count": null,
      "outputs": []
    },
    {
      "cell_type": "code",
      "metadata": {
        "id": "ckInj6HMjxCx",
        "colab": {
          "base_uri": "https://localhost:8080/"
        },
        "outputId": "9f819257-b70a-4847-c8e3-5fd2e872ff48"
      },
      "source": [
        "print('accuracy: {}'.format(accuracy))\n",
        "print('f1 score: {}'.format(f1_score_value))\n",
        "print('precision: {}'.format(precision))\n",
        "print('recall: {}'.format(recall))"
      ],
      "execution_count": null,
      "outputs": [
        {
          "output_type": "stream",
          "name": "stdout",
          "text": [
            "accuracy: 0.5704845814977973\n",
            "f1 score: 0.4908616187989556\n",
            "precision: 0.4292237442922374\n",
            "recall: 0.573170731707317\n"
          ]
        }
      ]
    },
    {
      "cell_type": "code",
      "metadata": {
        "id": "BGan_HkYjxCx",
        "colab": {
          "base_uri": "https://localhost:8080/"
        },
        "outputId": "31d10365-b98d-4206-89dc-61acf1c15db5"
      },
      "source": [
        "policy"
      ],
      "execution_count": null,
      "outputs": [
        {
          "output_type": "execute_result",
          "data": {
            "text/plain": [
              "[['BOW', 'named_entity'], ['named_entity'], []]"
            ]
          },
          "metadata": {},
          "execution_count": 226
        }
      ]
    },
    {
      "cell_type": "code",
      "metadata": {
        "id": "CROcgwu0jxCx",
        "colab": {
          "base_uri": "https://localhost:8080/"
        },
        "outputId": "a6807cba-5442-48b5-8c80-418279fcc995"
      },
      "source": [
        "policy_set=[]\n",
        "\n",
        "for pol in policy:\n",
        "  policy_set+=pol\n",
        "\n",
        "policy_set=list(set(policy_set))\n",
        "\n",
        "for dataframe in dataframe_names_list:\n",
        "  if dataframe not in policy_set:\n",
        "    print(dataframe)"
      ],
      "execution_count": null,
      "outputs": [
        {
          "output_type": "stream",
          "name": "stdout",
          "text": [
            "dependency_tree_stat\n"
          ]
        }
      ]
    },
    {
      "cell_type": "markdown",
      "metadata": {
        "id": "4q-NOgavTvOS"
      },
      "source": [
        "## **BOW-POS**"
      ]
    },
    {
      "cell_type": "code",
      "metadata": {
        "id": "74kxNOD3TvOS"
      },
      "source": [
        "dataframe_list=[BOW,bigram_simple_POS]\n",
        "dataframe_names_list=['BOW','bigram_simple_POS']"
      ],
      "execution_count": null,
      "outputs": []
    },
    {
      "cell_type": "code",
      "metadata": {
        "id": "psHKiooATvOT",
        "colab": {
          "base_uri": "https://localhost:8080/"
        },
        "outputId": "bdbdb24f-f26c-4ea2-b58d-578e3447a95a"
      },
      "source": [
        "ground_labels, global_explainability_tabular, labels, _, _, policy=stc_procedure_multiple_dataset(dataframe_list,dataframe_names_list,true_labels)"
      ],
      "execution_count": null,
      "outputs": [
        {
          "output_type": "stream",
          "name": "stdout",
          "text": [
            ""
          ]
        }
      ]
    },
    {
      "cell_type": "code",
      "metadata": {
        "id": "KJnQrkjKTvOT"
      },
      "source": [
        "accuracy=accuracy_score(ground_labels, labels)\n",
        "f1_score_value=f1_score(y_true=ground_labels, y_pred=labels, pos_label=\"True\")\n",
        "precision=precision_score(ground_labels, labels, pos_label=\"True\")\n",
        "recall=recall_score(ground_labels, labels, pos_label=\"True\")"
      ],
      "execution_count": null,
      "outputs": []
    },
    {
      "cell_type": "code",
      "metadata": {
        "id": "JeC0ZWWgTvOT"
      },
      "source": [
        "accuracy_scores_multiple.append(accuracy)\n",
        "f1_scores_multiple.append(f1_score_value)\n",
        "precision_scores_multiple.append(precision)\n",
        "recall_scores_multiple.append(recall)"
      ],
      "execution_count": null,
      "outputs": []
    },
    {
      "cell_type": "code",
      "metadata": {
        "id": "FBaQ5nstTvOT",
        "colab": {
          "base_uri": "https://localhost:8080/"
        },
        "outputId": "8778e0cb-9e87-4678-8e11-491577fceb26"
      },
      "source": [
        "print('accuracy: {}'.format(accuracy))\n",
        "print('f1 score: {}'.format(f1_score_value))\n",
        "print('precision: {}'.format(precision))\n",
        "print('recall: {}'.format(recall))"
      ],
      "execution_count": null,
      "outputs": [
        {
          "output_type": "stream",
          "name": "stdout",
          "text": [
            "accuracy: 0.5341409691629956\n",
            "f1 score: 0.46387832699619774\n",
            "precision: 0.3969631236442516\n",
            "recall: 0.5579268292682927\n"
          ]
        }
      ]
    },
    {
      "cell_type": "code",
      "metadata": {
        "id": "_UFFQUGOTvOU",
        "colab": {
          "base_uri": "https://localhost:8080/"
        },
        "outputId": "ae9d1701-4c68-49b3-b066-ba115c526595"
      },
      "source": [
        "policy"
      ],
      "execution_count": null,
      "outputs": [
        {
          "output_type": "execute_result",
          "data": {
            "text/plain": [
              "[['BOW'], []]"
            ]
          },
          "metadata": {},
          "execution_count": 233
        }
      ]
    },
    {
      "cell_type": "code",
      "metadata": {
        "id": "uk5zU_LoTvOU",
        "colab": {
          "base_uri": "https://localhost:8080/"
        },
        "outputId": "6ad5437a-25a9-47d4-cc31-6c7fd2d52ac1"
      },
      "source": [
        "policy_set=[]\n",
        "\n",
        "for pol in policy:\n",
        "  policy_set+=pol\n",
        "\n",
        "policy_set=list(set(policy_set))\n",
        "\n",
        "for dataframe in dataframe_names_list:\n",
        "  if dataframe not in policy_set:\n",
        "    print(dataframe)"
      ],
      "execution_count": null,
      "outputs": [
        {
          "output_type": "stream",
          "name": "stdout",
          "text": [
            "bigram_simple_POS\n"
          ]
        }
      ]
    },
    {
      "cell_type": "markdown",
      "metadata": {
        "id": "HflZWa5nm42P"
      },
      "source": [
        "## **BOW-ngram**"
      ]
    },
    {
      "cell_type": "code",
      "metadata": {
        "id": "HwkpFtU5m42Q"
      },
      "source": [
        "dataframe_list=[imported_ngram,BOW]\n",
        "dataframe_names_list=['imported ngram','BOW']"
      ],
      "execution_count": null,
      "outputs": []
    },
    {
      "cell_type": "code",
      "metadata": {
        "id": "RkBc-k3Qm42R",
        "colab": {
          "base_uri": "https://localhost:8080/"
        },
        "outputId": "3300e226-0a2c-459f-8807-ff529afe99a3"
      },
      "source": [
        "ground_labels, global_explainability_tabular, labels, _, _, policy=stc_procedure_multiple_dataset(dataframe_list,dataframe_names_list,true_labels)"
      ],
      "execution_count": null,
      "outputs": [
        {
          "output_type": "stream",
          "name": "stdout",
          "text": [
            ""
          ]
        }
      ]
    },
    {
      "cell_type": "code",
      "metadata": {
        "id": "eWQvVNl_m42S"
      },
      "source": [
        "accuracy=accuracy_score(ground_labels, labels)\n",
        "f1_score_value=f1_score(y_true=ground_labels, y_pred=labels, pos_label=\"True\")\n",
        "precision=precision_score(ground_labels, labels, pos_label=\"True\")\n",
        "recall=recall_score(ground_labels, labels, pos_label=\"True\")"
      ],
      "execution_count": null,
      "outputs": []
    },
    {
      "cell_type": "code",
      "metadata": {
        "id": "tYuNU1Elm42T"
      },
      "source": [
        "accuracy_scores_multiple.append(accuracy)\n",
        "f1_scores_multiple.append(f1_score_value)\n",
        "precision_scores_multiple.append(precision)\n",
        "recall_scores_multiple.append(recall)"
      ],
      "execution_count": null,
      "outputs": []
    },
    {
      "cell_type": "code",
      "metadata": {
        "id": "5SukFq14m42U",
        "colab": {
          "base_uri": "https://localhost:8080/"
        },
        "outputId": "b7062055-264e-4d50-c5e2-7f17e613f2f8"
      },
      "source": [
        "print('accuracy: {}'.format(accuracy))\n",
        "print('f1 score: {}'.format(f1_score_value))\n",
        "print('precision: {}'.format(precision))\n",
        "print('recall: {}'.format(recall))"
      ],
      "execution_count": null,
      "outputs": [
        {
          "output_type": "stream",
          "name": "stdout",
          "text": [
            "accuracy: 0.5837004405286343\n",
            "f1 score: 0.5153846153846153\n",
            "precision: 0.4446902654867257\n",
            "recall: 0.6128048780487805\n"
          ]
        }
      ]
    },
    {
      "cell_type": "code",
      "metadata": {
        "id": "kXTB1dWSm42V",
        "colab": {
          "base_uri": "https://localhost:8080/"
        },
        "outputId": "c7c30b8e-9aca-489e-99a9-d45a16a4bc1b"
      },
      "source": [
        "policy"
      ],
      "execution_count": null,
      "outputs": [
        {
          "output_type": "execute_result",
          "data": {
            "text/plain": [
              "[['BOW', 'imported ngram'], ['imported ngram'], []]"
            ]
          },
          "metadata": {},
          "execution_count": 240
        }
      ]
    },
    {
      "cell_type": "code",
      "metadata": {
        "id": "tg-XaYsym42V"
      },
      "source": [
        "policy_set=[]\n",
        "\n",
        "for pol in policy:\n",
        "  policy_set+=pol\n",
        "\n",
        "policy_set=list(set(policy_set))\n",
        "\n",
        "for dataframe in dataframe_names_list:\n",
        "  if dataframe not in policy_set:\n",
        "    print(dataframe)"
      ],
      "execution_count": null,
      "outputs": []
    },
    {
      "cell_type": "markdown",
      "metadata": {
        "id": "6fg8GoMP9fZJ"
      },
      "source": [
        "## **POS-ngram**"
      ]
    },
    {
      "cell_type": "code",
      "metadata": {
        "id": "R6hlDvpM9fZK"
      },
      "source": [
        "dataframe_list=[imported_ngram,POS,simple_POS]\n",
        "dataframe_names_list=['imported ngram','POS','simple_POS']"
      ],
      "execution_count": null,
      "outputs": []
    },
    {
      "cell_type": "code",
      "metadata": {
        "colab": {
          "base_uri": "https://localhost:8080/"
        },
        "id": "I_ls_3Cy9fZK",
        "outputId": "714a8071-67b4-485e-b9e1-c090e6a00deb"
      },
      "source": [
        "ground_labels, global_explainability_tabular, labels, _, _, policy=stc_procedure_multiple_dataset(dataframe_list,dataframe_names_list,true_labels)"
      ],
      "execution_count": null,
      "outputs": [
        {
          "output_type": "stream",
          "name": "stdout",
          "text": [
            ""
          ]
        }
      ]
    },
    {
      "cell_type": "code",
      "metadata": {
        "id": "skvXGfxv9fZL"
      },
      "source": [
        "accuracy=accuracy_score(ground_labels, labels)\n",
        "f1_score_value=f1_score(y_true=ground_labels, y_pred=labels, pos_label=\"True\")\n",
        "precision=precision_score(ground_labels, labels, pos_label=\"True\")\n",
        "recall=recall_score(ground_labels, labels, pos_label=\"True\")"
      ],
      "execution_count": null,
      "outputs": []
    },
    {
      "cell_type": "code",
      "metadata": {
        "id": "mrrY7lDy9fZL"
      },
      "source": [
        "accuracy_scores_multiple.append(accuracy)\n",
        "f1_scores_multiple.append(f1_score_value)\n",
        "precision_scores_multiple.append(precision)\n",
        "recall_scores_multiple.append(recall)"
      ],
      "execution_count": null,
      "outputs": []
    },
    {
      "cell_type": "code",
      "metadata": {
        "id": "kHbzypAj9fZL",
        "colab": {
          "base_uri": "https://localhost:8080/"
        },
        "outputId": "2c10c02d-97b4-499d-afc6-5d87b5543631"
      },
      "source": [
        "print('accuracy: {}'.format(accuracy))\n",
        "print('f1 score: {}'.format(f1_score_value))\n",
        "print('precision: {}'.format(precision))\n",
        "print('recall: {}'.format(recall))"
      ],
      "execution_count": null,
      "outputs": [
        {
          "output_type": "stream",
          "name": "stdout",
          "text": [
            "accuracy: 0.6861233480176211\n",
            "f1 score: 0.31325301204819284\n",
            "precision: 0.7471264367816092\n",
            "recall: 0.19817073170731708\n"
          ]
        }
      ]
    },
    {
      "cell_type": "code",
      "metadata": {
        "id": "t5dr2WfG9fZM",
        "colab": {
          "base_uri": "https://localhost:8080/"
        },
        "outputId": "a1dd153c-857a-48c8-a30b-0b7cb0e088fd"
      },
      "source": [
        "policy"
      ],
      "execution_count": null,
      "outputs": [
        {
          "output_type": "execute_result",
          "data": {
            "text/plain": [
              "[['imported ngram'], []]"
            ]
          },
          "metadata": {},
          "execution_count": 257
        }
      ]
    },
    {
      "cell_type": "code",
      "metadata": {
        "id": "AJ0VhPem9fZM",
        "colab": {
          "base_uri": "https://localhost:8080/"
        },
        "outputId": "d60f64cd-6300-4cda-c6e3-89bc46415371"
      },
      "source": [
        "policy_set=[]\n",
        "\n",
        "for pol in policy:\n",
        "  policy_set+=pol\n",
        "\n",
        "policy_set=list(set(policy_set))\n",
        "\n",
        "for dataframe in dataframe_names_list:\n",
        "  if dataframe not in policy_set:\n",
        "    print(dataframe)"
      ],
      "execution_count": null,
      "outputs": [
        {
          "output_type": "stream",
          "name": "stdout",
          "text": [
            "POS\n",
            "simple_POS\n"
          ]
        }
      ]
    },
    {
      "cell_type": "markdown",
      "metadata": {
        "id": "A9pwkRNN55Ok"
      },
      "source": [
        "# **Graph**"
      ]
    },
    {
      "cell_type": "code",
      "metadata": {
        "id": "a2UHRzwaK6x0"
      },
      "source": [
        "score={}\n",
        "debater_score={}\n",
        "\n",
        "score[\"Accuracy\"]=accuracy_scores\n",
        "score[\"F1 score\"]=f1_scores\n",
        "score[\"Precision\"]=precision_scores\n",
        "score[\"Recall\"]=recall_scores"
      ],
      "execution_count": null,
      "outputs": []
    },
    {
      "cell_type": "code",
      "metadata": {
        "id": "AjsNIQy4KZvP"
      },
      "source": [
        "plt.rcParams.update({'font.size': 18})"
      ],
      "execution_count": null,
      "outputs": []
    },
    {
      "cell_type": "code",
      "metadata": {
        "id": "rgNA9Ln9Ivub",
        "colab": {
          "base_uri": "https://localhost:8080/",
          "height": 1000
        },
        "outputId": "5941f589-9529-4987-9034-d4a57b602bbc"
      },
      "source": [
        "# Draw the plots of the performance for the various dataset.\n",
        "\n",
        "# Width of the bars for the graphs to draw.\n",
        "barWidth = 0.35\n",
        "\n",
        "# Plot the bar graphs.\n",
        "fig, axes = plt.subplots(nrows=4, ncols=1, figsize=(20, 30))\n",
        "fig.tight_layout(pad=10.0)\n",
        "data_names=[\"Stat.\",\"POS\",\"S-POS\", \"POS-B\",\"S-POS-B\",\"Dep.\", \"Dep. stat.\",\"LNE\",\"BOW\",\"Bigram\",\"N-gram\",\"Subj.\"]\n",
        "rows=[\"Accuracy\",\"F1 score\",\"Precision\",\"Recall\"]\n",
        "\n",
        "for row,axis in zip(rows,axes.flatten()):\n",
        "    axis.set_title(row)\n",
        "\n",
        "    # Location of labels on the x axis.\n",
        "    x_labels = np.arange(len(data_names))\n",
        "\n",
        "    # Create the bars.\n",
        "    axis.bar(x_labels, score[row], width = barWidth, color = 'blue', edgecolor = 'black', capsize=6)\n",
        "\n",
        "    # Lable the axis.\n",
        "    axis.set_xlabel(\"\\nTipologie di dati\")\n",
        "    axis.set_xticks(x_labels)\n",
        "    axis.set_xticklabels(data_names)\n",
        "    axis.set_ylabel(row)\n",
        "\n",
        "plt.show()  "
      ],
      "execution_count": null,
      "outputs": [
        {
          "output_type": "display_data",
          "data": {
            "image/png": "[encoded data removed]",
            "text/plain": [
              "<Figure size 1440x2160 with 4 Axes>"
            ]
          },
          "metadata": {
            "needs_background": "light"
          }
        }
      ]
    }
  ]
}