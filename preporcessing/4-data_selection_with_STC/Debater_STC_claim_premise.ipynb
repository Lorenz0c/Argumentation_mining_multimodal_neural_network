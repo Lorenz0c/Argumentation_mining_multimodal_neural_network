{
  "nbformat": 4,
  "nbformat_minor": 0,
  "metadata": {
    "colab": {
      "name": "Debater_STC_claim_premise.ipynb",
      "provenance": [],
      "collapsed_sections": []
    },
    "kernelspec": {
      "name": "python3",
      "display_name": "Python 3"
    },
    "language_info": {
      "name": "python"
    }
  },
  "cells": [
    {
      "cell_type": "code",
      "metadata": {
        "colab": {
          "base_uri": "https://localhost:8080/"
        },
        "id": "ZNbhBNubw7MK",
        "outputId": "24843376-d3dd-469b-c1f1-cf7a81c1bdf6"
      },
      "source": [
        "pip install stc"
      ],
      "execution_count": null,
      "outputs": [
        {
          "output_type": "stream",
          "name": "stdout",
          "text": [
            "Collecting stc\n",
            "  Downloading stc-0.3.1-py3-none-any.whl (33 kB)\n",
            "Requirement already satisfied: sqlalchemy in /usr/local/lib/python3.7/dist-packages (from stc) (1.4.26)\n",
            "Requirement already satisfied: pandas in /usr/local/lib/python3.7/dist-packages (from stc) (1.1.5)\n",
            "Requirement already satisfied: numpy in /usr/local/lib/python3.7/dist-packages (from stc) (1.19.5)\n",
            "Requirement already satisfied: pytz>=2017.2 in /usr/local/lib/python3.7/dist-packages (from pandas->stc) (2018.9)\n",
            "Requirement already satisfied: python-dateutil>=2.7.3 in /usr/local/lib/python3.7/dist-packages (from pandas->stc) (2.8.2)\n",
            "Requirement already satisfied: six>=1.5 in /usr/local/lib/python3.7/dist-packages (from python-dateutil>=2.7.3->pandas->stc) (1.15.0)\n",
            "Requirement already satisfied: importlib-metadata in /usr/local/lib/python3.7/dist-packages (from sqlalchemy->stc) (4.8.2)\n",
            "Requirement already satisfied: greenlet!=0.4.17 in /usr/local/lib/python3.7/dist-packages (from sqlalchemy->stc) (1.1.2)\n",
            "Requirement already satisfied: typing-extensions>=3.6.4 in /usr/local/lib/python3.7/dist-packages (from importlib-metadata->sqlalchemy->stc) (3.10.0.2)\n",
            "Requirement already satisfied: zipp>=0.5 in /usr/local/lib/python3.7/dist-packages (from importlib-metadata->sqlalchemy->stc) (3.6.0)\n",
            "Installing collected packages: stc\n",
            "Successfully installed stc-0.3.1\n"
          ]
        }
      ]
    },
    {
      "cell_type": "code",
      "metadata": {
        "id": "xEMbAmz7w8NG"
      },
      "source": [
        "import pandas as pd\n",
        "import numpy as np\n",
        "from matplotlib import pyplot as plt\n",
        "import math\n",
        "\n",
        "from stc import SparseTensorClassifier\n",
        "\n",
        "from google.colab import files\n",
        "\n",
        "from sklearn.model_selection import train_test_split\n",
        "from sklearn.metrics import accuracy_score\n",
        "from sklearn.metrics import f1_score, recall_score, precision_score"
      ],
      "execution_count": null,
      "outputs": []
    },
    {
      "cell_type": "markdown",
      "metadata": {
        "id": "dcdqUOQvtBwR"
      },
      "source": [
        "# **Import datasets**"
      ]
    },
    {
      "cell_type": "code",
      "metadata": {
        "colab": {
          "resources": {
            "http://localhost:8080/nbextensions/google.colab/files.js": {
              "data": "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",
              "ok": true,
              "headers": [
                [
                  "content-type",
                  "application/javascript"
                ]
              ],
              "status": 200,
              "status_text": ""
            }
          },
          "base_uri": "https://localhost:8080/",
          "height": 1000
        },
        "id": "1lKF817srKC9",
        "outputId": "feafbd49-2f4c-4139-915c-e49f5e3d400c"
      },
      "source": [
        "# Import the datasets previously produced containing BOW or other information\n",
        "# about the data to elaborate retrieved from the IBM Debater dataset.\n",
        "# Each dataset containg a particular category of data retrived.\n",
        "\n",
        "# Import list of the sentences in the test set.\n",
        "print('\\nImport test_set_Debater_only_claim_or_only_premise.csv\\n')\n",
        "upload = files.upload()\n",
        "\n",
        "# Import the labels of the sentences to classify.\n",
        "print('\\nImport Debater_claim_premise_labels.csv\\n')\n",
        "upload = files.upload()\n",
        "\n",
        "# Import the statistics and positions information of the sentences to classify.\n",
        "print('\\nImport Debater_claim_premise_statistic.csv\\n')\n",
        "upload = files.upload()\n",
        "\n",
        "# Import the BOW of the POS of the sentences to classify.\n",
        "print('\\nImport Debater_claim_premise_POS.csv\\n')\n",
        "upload = files.upload()\n",
        "\n",
        "# Import the BOW of the simplyfied POS of the sentences to classify.\n",
        "print('\\nImport Debater_claim_premise_simple_POS.csv\\n')\n",
        "upload = files.upload()\n",
        "\n",
        "# Import the BOW for the bigrams of the POS of the sentences to classify.\n",
        "print('\\nImport Debater_claim_premise_bigram_POS.csv\\n')\n",
        "upload = files.upload()\n",
        "\n",
        "# Import the BOW for the bigrams of the simplyfied POS of the sentences to classify.\n",
        "print('\\nImport Debater_claim_premise_bigram_simple_POS.csv\\n')\n",
        "upload = files.upload()\n",
        "\n",
        "# Import the BOW of the dependency tag of the sentences to classify.\n",
        "print('\\nImport Debater_claim_premise_dependency.csv\\n')\n",
        "upload = files.upload()\n",
        "\n",
        "# Import the statistic relative to the tree of the dependency tag of the sentences to classify.\n",
        "print('\\nImport Debater_claim_premise_dependency_tree_stat.csv\\n')\n",
        "upload = files.upload()\n",
        "\n",
        "# Import the BOW of the labeled named entity of the sentences to classify.\n",
        "print('\\nImport Debater_claim_premise_named_entity_BOW.csv\\n')\n",
        "upload = files.upload()\n",
        "\n",
        "# Import the BOW of the sentences to classify.\n",
        "print('\\nImport Debater_claim_premise_BOW.csv\\n')\n",
        "upload = files.upload()\n",
        "\n",
        "# Import the BOW for the bigrams of the sentences to classify.\n",
        "print('\\nImport Debater_claim_premise_Bigram.csv\\n')\n",
        "upload = files.upload()\n",
        "\n",
        "# Import the BOW for secific n-grams of the sentences to classify.\n",
        "print('\\nImport Debater_claim_premise__BOW_appendix_words.csv\\n')\n",
        "upload = files.upload()\n",
        "\n",
        "# Import the remaining statistics of the sentences to classify.\n",
        "print('\\nImport Debater_claim_premise__remaining_stat.csv\\n')\n",
        "upload = files.upload()"
      ],
      "execution_count": null,
      "outputs": [
        {
          "output_type": "stream",
          "name": "stdout",
          "text": [
            "\n",
            "Import test_set_Debater_only_claim_or_only_premise.csv\n",
            "\n"
          ]
        },
        {
          "output_type": "display_data",
          "data": {
            "text/html": [
              "\n",
              "     <input type=\"file\" id=\"files-60236c91-83a8-4e58-b005-4610e9a12641\" name=\"files[]\" multiple disabled\n",
              "        style=\"border:none\" />\n",
              "     <output id=\"result-60236c91-83a8-4e58-b005-4610e9a12641\">\n",
              "      Upload widget is only available when the cell has been executed in the\n",
              "      current browser session. Please rerun this cell to enable.\n",
              "      </output>\n",
              "      <script src=\"/nbextensions/google.colab/files.js\"></script> "
            ],
            "text/plain": [
              "<IPython.core.display.HTML object>"
            ]
          },
          "metadata": {}
        },
        {
          "output_type": "stream",
          "name": "stdout",
          "text": [
            "\n",
            "Import Debater_claim_premise_labels.csv\n",
            "\n"
          ]
        },
        {
          "output_type": "display_data",
          "data": {
            "text/html": [
              "\n",
              "     <input type=\"file\" id=\"files-d3d967f5-2f28-4190-86b4-99e573e8ff97\" name=\"files[]\" multiple disabled\n",
              "        style=\"border:none\" />\n",
              "     <output id=\"result-d3d967f5-2f28-4190-86b4-99e573e8ff97\">\n",
              "      Upload widget is only available when the cell has been executed in the\n",
              "      current browser session. Please rerun this cell to enable.\n",
              "      </output>\n",
              "      <script src=\"/nbextensions/google.colab/files.js\"></script> "
            ],
            "text/plain": [
              "<IPython.core.display.HTML object>"
            ]
          },
          "metadata": {}
        },
        {
          "output_type": "stream",
          "name": "stdout",
          "text": [
            "\n",
            "Import Debater_claim_premise_statistic.csv\n",
            "\n"
          ]
        },
        {
          "output_type": "display_data",
          "data": {
            "text/html": [
              "\n",
              "     <input type=\"file\" id=\"files-037b441b-60cd-4a6a-b7fc-416c0de394db\" name=\"files[]\" multiple disabled\n",
              "        style=\"border:none\" />\n",
              "     <output id=\"result-037b441b-60cd-4a6a-b7fc-416c0de394db\">\n",
              "      Upload widget is only available when the cell has been executed in the\n",
              "      current browser session. Please rerun this cell to enable.\n",
              "      </output>\n",
              "      <script src=\"/nbextensions/google.colab/files.js\"></script> "
            ],
            "text/plain": [
              "<IPython.core.display.HTML object>"
            ]
          },
          "metadata": {}
        },
        {
          "output_type": "stream",
          "name": "stdout",
          "text": [
            "\n",
            "Import Debater_claim_premise_POS.csv\n",
            "\n"
          ]
        },
        {
          "output_type": "display_data",
          "data": {
            "text/html": [
              "\n",
              "     <input type=\"file\" id=\"files-7a2b4095-87b3-42f4-98a9-be6b2b596754\" name=\"files[]\" multiple disabled\n",
              "        style=\"border:none\" />\n",
              "     <output id=\"result-7a2b4095-87b3-42f4-98a9-be6b2b596754\">\n",
              "      Upload widget is only available when the cell has been executed in the\n",
              "      current browser session. Please rerun this cell to enable.\n",
              "      </output>\n",
              "      <script src=\"/nbextensions/google.colab/files.js\"></script> "
            ],
            "text/plain": [
              "<IPython.core.display.HTML object>"
            ]
          },
          "metadata": {}
        },
        {
          "output_type": "stream",
          "name": "stdout",
          "text": [
            "\n",
            "Import Debater_claim_premise_simple_POS.csv\n",
            "\n"
          ]
        },
        {
          "output_type": "display_data",
          "data": {
            "text/html": [
              "\n",
              "     <input type=\"file\" id=\"files-d9c066e5-d280-4137-8b23-be12174207ce\" name=\"files[]\" multiple disabled\n",
              "        style=\"border:none\" />\n",
              "     <output id=\"result-d9c066e5-d280-4137-8b23-be12174207ce\">\n",
              "      Upload widget is only available when the cell has been executed in the\n",
              "      current browser session. Please rerun this cell to enable.\n",
              "      </output>\n",
              "      <script src=\"/nbextensions/google.colab/files.js\"></script> "
            ],
            "text/plain": [
              "<IPython.core.display.HTML object>"
            ]
          },
          "metadata": {}
        },
        {
          "output_type": "stream",
          "name": "stdout",
          "text": [
            "\n",
            "Import Debater_claim_premise_bigram_POS.csv\n",
            "\n"
          ]
        },
        {
          "output_type": "display_data",
          "data": {
            "text/html": [
              "\n",
              "     <input type=\"file\" id=\"files-bae8f097-0a42-4b6d-9534-b5f7ef27d39f\" name=\"files[]\" multiple disabled\n",
              "        style=\"border:none\" />\n",
              "     <output id=\"result-bae8f097-0a42-4b6d-9534-b5f7ef27d39f\">\n",
              "      Upload widget is only available when the cell has been executed in the\n",
              "      current browser session. Please rerun this cell to enable.\n",
              "      </output>\n",
              "      <script src=\"/nbextensions/google.colab/files.js\"></script> "
            ],
            "text/plain": [
              "<IPython.core.display.HTML object>"
            ]
          },
          "metadata": {}
        },
        {
          "output_type": "stream",
          "name": "stdout",
          "text": [
            "\n",
            "Import Debater_claim_premise_bigram_simple_POS.csv\n",
            "\n"
          ]
        },
        {
          "output_type": "display_data",
          "data": {
            "text/html": [
              "\n",
              "     <input type=\"file\" id=\"files-c9923f21-3d9f-4328-98d8-80d0c82b2893\" name=\"files[]\" multiple disabled\n",
              "        style=\"border:none\" />\n",
              "     <output id=\"result-c9923f21-3d9f-4328-98d8-80d0c82b2893\">\n",
              "      Upload widget is only available when the cell has been executed in the\n",
              "      current browser session. Please rerun this cell to enable.\n",
              "      </output>\n",
              "      <script src=\"/nbextensions/google.colab/files.js\"></script> "
            ],
            "text/plain": [
              "<IPython.core.display.HTML object>"
            ]
          },
          "metadata": {}
        },
        {
          "output_type": "stream",
          "name": "stdout",
          "text": [
            "\n",
            "Import Debater_claim_premise_dependency.csv\n",
            "\n"
          ]
        },
        {
          "output_type": "display_data",
          "data": {
            "text/html": [
              "\n",
              "     <input type=\"file\" id=\"files-bd792b2e-781e-4362-b769-6ad47237c250\" name=\"files[]\" multiple disabled\n",
              "        style=\"border:none\" />\n",
              "     <output id=\"result-bd792b2e-781e-4362-b769-6ad47237c250\">\n",
              "      Upload widget is only available when the cell has been executed in the\n",
              "      current browser session. Please rerun this cell to enable.\n",
              "      </output>\n",
              "      <script src=\"/nbextensions/google.colab/files.js\"></script> "
            ],
            "text/plain": [
              "<IPython.core.display.HTML object>"
            ]
          },
          "metadata": {}
        },
        {
          "output_type": "stream",
          "name": "stdout",
          "text": [
            "\n",
            "Import Debater_claim_premise_dependency_tree_stat.csv\n",
            "\n"
          ]
        },
        {
          "output_type": "display_data",
          "data": {
            "text/html": [
              "\n",
              "     <input type=\"file\" id=\"files-2946fa28-3e85-4a9f-ac02-e0716bb86f80\" name=\"files[]\" multiple disabled\n",
              "        style=\"border:none\" />\n",
              "     <output id=\"result-2946fa28-3e85-4a9f-ac02-e0716bb86f80\">\n",
              "      Upload widget is only available when the cell has been executed in the\n",
              "      current browser session. Please rerun this cell to enable.\n",
              "      </output>\n",
              "      <script src=\"/nbextensions/google.colab/files.js\"></script> "
            ],
            "text/plain": [
              "<IPython.core.display.HTML object>"
            ]
          },
          "metadata": {}
        },
        {
          "output_type": "stream",
          "name": "stdout",
          "text": [
            "\n",
            "Import Debater_claim_premise_named_entity_BOW.csv\n",
            "\n"
          ]
        },
        {
          "output_type": "display_data",
          "data": {
            "text/html": [
              "\n",
              "     <input type=\"file\" id=\"files-c0440229-88b4-4c25-a982-cd473efb47bf\" name=\"files[]\" multiple disabled\n",
              "        style=\"border:none\" />\n",
              "     <output id=\"result-c0440229-88b4-4c25-a982-cd473efb47bf\">\n",
              "      Upload widget is only available when the cell has been executed in the\n",
              "      current browser session. Please rerun this cell to enable.\n",
              "      </output>\n",
              "      <script src=\"/nbextensions/google.colab/files.js\"></script> "
            ],
            "text/plain": [
              "<IPython.core.display.HTML object>"
            ]
          },
          "metadata": {}
        },
        {
          "output_type": "stream",
          "name": "stdout",
          "text": [
            "\n",
            "Import Debater_claim_premise_BOW.csv\n",
            "\n"
          ]
        },
        {
          "output_type": "display_data",
          "data": {
            "text/html": [
              "\n",
              "     <input type=\"file\" id=\"files-227936ee-b56f-4d82-889f-6ab4d1cd30f8\" name=\"files[]\" multiple disabled\n",
              "        style=\"border:none\" />\n",
              "     <output id=\"result-227936ee-b56f-4d82-889f-6ab4d1cd30f8\">\n",
              "      Upload widget is only available when the cell has been executed in the\n",
              "      current browser session. Please rerun this cell to enable.\n",
              "      </output>\n",
              "      <script src=\"/nbextensions/google.colab/files.js\"></script> "
            ],
            "text/plain": [
              "<IPython.core.display.HTML object>"
            ]
          },
          "metadata": {}
        },
        {
          "output_type": "stream",
          "name": "stdout",
          "text": [
            "\n",
            "Import Debater_claim_premise_Bigram.csv\n",
            "\n"
          ]
        },
        {
          "output_type": "display_data",
          "data": {
            "text/html": [
              "\n",
              "     <input type=\"file\" id=\"files-4d73caaa-8c4f-4bf4-a789-04f9f39caf88\" name=\"files[]\" multiple disabled\n",
              "        style=\"border:none\" />\n",
              "     <output id=\"result-4d73caaa-8c4f-4bf4-a789-04f9f39caf88\">\n",
              "      Upload widget is only available when the cell has been executed in the\n",
              "      current browser session. Please rerun this cell to enable.\n",
              "      </output>\n",
              "      <script src=\"/nbextensions/google.colab/files.js\"></script> "
            ],
            "text/plain": [
              "<IPython.core.display.HTML object>"
            ]
          },
          "metadata": {}
        },
        {
          "output_type": "stream",
          "name": "stdout",
          "text": [
            "\n",
            "Import Debater_claim_premise__BOW_appendix_words.csv\n",
            "\n"
          ]
        },
        {
          "output_type": "display_data",
          "data": {
            "text/html": [
              "\n",
              "     <input type=\"file\" id=\"files-4d64986e-3f38-4178-947a-fc7a711990fc\" name=\"files[]\" multiple disabled\n",
              "        style=\"border:none\" />\n",
              "     <output id=\"result-4d64986e-3f38-4178-947a-fc7a711990fc\">\n",
              "      Upload widget is only available when the cell has been executed in the\n",
              "      current browser session. Please rerun this cell to enable.\n",
              "      </output>\n",
              "      <script src=\"/nbextensions/google.colab/files.js\"></script> "
            ],
            "text/plain": [
              "<IPython.core.display.HTML object>"
            ]
          },
          "metadata": {}
        },
        {
          "output_type": "stream",
          "name": "stdout",
          "text": [
            "\n",
            "Import Debater_claim_premise__remaining_stat.csv\n",
            "\n"
          ]
        },
        {
          "output_type": "display_data",
          "data": {
            "text/html": [
              "\n",
              "     <input type=\"file\" id=\"files-fd1896d6-de26-44e6-93f1-ef5e09d212d6\" name=\"files[]\" multiple disabled\n",
              "        style=\"border:none\" />\n",
              "     <output id=\"result-fd1896d6-de26-44e6-93f1-ef5e09d212d6\">\n",
              "      Upload widget is only available when the cell has been executed in the\n",
              "      current browser session. Please rerun this cell to enable.\n",
              "      </output>\n",
              "      <script src=\"/nbextensions/google.colab/files.js\"></script> "
            ],
            "text/plain": [
              "<IPython.core.display.HTML object>"
            ]
          },
          "metadata": {}
        }
      ]
    },
    {
      "cell_type": "code",
      "metadata": {
        "id": "3NrJ1rarrbSo"
      },
      "source": [
        "# Read the datasets retrieved by the Stab and Gurevych dataset.\n",
        "\n",
        "test_set=pd.read_csv(\"test_set_Debater_only_claim_or_only_premise.csv\")\n",
        "\n",
        "true_labels=pd.read_csv('Debater_claim_premise_labels.csv')\n",
        "\n",
        "statistic=pd.read_csv('Debater_claim_premise_statistic.csv')\n",
        "\n",
        "POS=pd.read_csv('Debater_claim_premise_POS.csv')\n",
        "\n",
        "simple_POS=pd.read_csv('Debater_claim_premise_simple_POS.csv')\n",
        "\n",
        "bigram_POS=pd.read_csv('Debater_claim_premise_bigram_POS.csv')\n",
        "\n",
        "bigram_simple_POS=pd.read_csv('Debater_claim_premise_bigram_simple_POS.csv')\n",
        "\n",
        "dependency=pd.read_csv('Debater_claim_premise_dependency.csv')\n",
        "\n",
        "dependency_tree_stat=pd.read_csv('Debater_claim_premise_dependency_tree_stat.csv')\n",
        "\n",
        "named_entity=pd.read_csv('Debater_claim_premise_named_entity_BOW.csv')\n",
        "\n",
        "BOW=pd.read_csv('Debater_claim_premise_BOW.csv')\n",
        "\n",
        "Bigram=pd.read_csv('Debater_claim_premise_Bigram.csv')\n",
        "\n",
        "imported_ngram=pd.read_csv('Debater_claim_premise_BOW_appendix_words.csv')\n",
        "\n",
        "others=pd.read_csv('Debater_claim_premise_remaining_stat.csv')"
      ],
      "execution_count": null,
      "outputs": []
    },
    {
      "cell_type": "code",
      "metadata": {
        "id": "MmqVmL-j5fPh"
      },
      "source": [
        "# Rename the true_lable dataset column.\n",
        "true_labels=true_labels.rename(columns={'0': 'argumentative'})\n",
        "true_labels=true_labels.astype({'argumentative':'str'})"
      ],
      "execution_count": null,
      "outputs": []
    },
    {
      "cell_type": "code",
      "metadata": {
        "id": "ZoYS9wEYBjgR"
      },
      "source": [
        "# Remove data types that are not categorical.\n",
        "statistic=statistic.drop(columns=['sentence length / media sentence length in essay'])\n",
        "others=others.drop(columns=['type token ratio'])\n",
        "statistic=statistic.round(0)\n",
        "others=others.round(0)"
      ],
      "execution_count": null,
      "outputs": []
    },
    {
      "cell_type": "code",
      "metadata": {
        "id": "gAwUOOC61P8h",
        "colab": {
          "base_uri": "https://localhost:8080/"
        },
        "outputId": "7529756d-c50a-4a36-9da6-7a540617c980"
      },
      "source": [
        "true_labels.shape[0]"
      ],
      "execution_count": null,
      "outputs": [
        {
          "output_type": "execute_result",
          "data": {
            "text/plain": [
              "2914"
            ]
          },
          "metadata": {},
          "execution_count": 7
        }
      ]
    },
    {
      "cell_type": "code",
      "metadata": {
        "id": "KqFRIr0k2Swm",
        "colab": {
          "base_uri": "https://localhost:8080/",
          "height": 35
        },
        "outputId": "2066eef2-5d63-4cd9-ec73-fda7833922a4"
      },
      "source": [
        "true_labels['argumentative'][0]"
      ],
      "execution_count": null,
      "outputs": [
        {
          "output_type": "execute_result",
          "data": {
            "application/vnd.google.colaboratory.intrinsic+json": {
              "type": "string"
            },
            "text/plain": [
              "'False'"
            ]
          },
          "metadata": {},
          "execution_count": 8
        }
      ]
    },
    {
      "cell_type": "code",
      "metadata": {
        "id": "NiHug2TLASOt",
        "colab": {
          "base_uri": "https://localhost:8080/",
          "height": 203
        },
        "outputId": "bf714fd4-1284-4a17-ffaf-65b803d321a2"
      },
      "source": [
        "true_labels.head()"
      ],
      "execution_count": null,
      "outputs": [
        {
          "output_type": "execute_result",
          "data": {
            "text/html": [
              "<div>\n",
              "<style scoped>\n",
              "    .dataframe tbody tr th:only-of-type {\n",
              "        vertical-align: middle;\n",
              "    }\n",
              "\n",
              "    .dataframe tbody tr th {\n",
              "        vertical-align: top;\n",
              "    }\n",
              "\n",
              "    .dataframe thead th {\n",
              "        text-align: right;\n",
              "    }\n",
              "</style>\n",
              "<table border=\"1\" class=\"dataframe\">\n",
              "  <thead>\n",
              "    <tr style=\"text-align: right;\">\n",
              "      <th></th>\n",
              "      <th>argumentative</th>\n",
              "    </tr>\n",
              "  </thead>\n",
              "  <tbody>\n",
              "    <tr>\n",
              "      <th>0</th>\n",
              "      <td>False</td>\n",
              "    </tr>\n",
              "    <tr>\n",
              "      <th>1</th>\n",
              "      <td>False</td>\n",
              "    </tr>\n",
              "    <tr>\n",
              "      <th>2</th>\n",
              "      <td>True</td>\n",
              "    </tr>\n",
              "    <tr>\n",
              "      <th>3</th>\n",
              "      <td>False</td>\n",
              "    </tr>\n",
              "    <tr>\n",
              "      <th>4</th>\n",
              "      <td>False</td>\n",
              "    </tr>\n",
              "  </tbody>\n",
              "</table>\n",
              "</div>"
            ],
            "text/plain": [
              "  argumentative\n",
              "0         False\n",
              "1         False\n",
              "2          True\n",
              "3         False\n",
              "4         False"
            ]
          },
          "metadata": {},
          "execution_count": 9
        }
      ]
    },
    {
      "cell_type": "code",
      "metadata": {
        "id": "F0ohD8ub4ZNj",
        "colab": {
          "base_uri": "https://localhost:8080/",
          "height": 97
        },
        "outputId": "0051a4a6-7291-4957-a57d-0849d4cb97b0"
      },
      "source": [
        "statistic.iloc[0:1]"
      ],
      "execution_count": null,
      "outputs": [
        {
          "output_type": "execute_result",
          "data": {
            "text/html": [
              "<div>\n",
              "<style scoped>\n",
              "    .dataframe tbody tr th:only-of-type {\n",
              "        vertical-align: middle;\n",
              "    }\n",
              "\n",
              "    .dataframe tbody tr th {\n",
              "        vertical-align: top;\n",
              "    }\n",
              "\n",
              "    .dataframe thead th {\n",
              "        text-align: right;\n",
              "    }\n",
              "</style>\n",
              "<table border=\"1\" class=\"dataframe\">\n",
              "  <thead>\n",
              "    <tr style=\"text-align: right;\">\n",
              "      <th></th>\n",
              "      <th>paragraph in essay</th>\n",
              "      <th>sentence in paragraph</th>\n",
              "      <th>sentence in essay</th>\n",
              "      <th>total sentences in paragraph</th>\n",
              "      <th>total paragraphs in document</th>\n",
              "      <th>number words in sentence</th>\n",
              "    </tr>\n",
              "  </thead>\n",
              "  <tbody>\n",
              "    <tr>\n",
              "      <th>0</th>\n",
              "      <td>8</td>\n",
              "      <td>1</td>\n",
              "      <td>17</td>\n",
              "      <td>3</td>\n",
              "      <td>86</td>\n",
              "      <td>49</td>\n",
              "    </tr>\n",
              "  </tbody>\n",
              "</table>\n",
              "</div>"
            ],
            "text/plain": [
              "   paragraph in essay  ...  number words in sentence\n",
              "0                   8  ...                        49\n",
              "\n",
              "[1 rows x 6 columns]"
            ]
          },
          "metadata": {},
          "execution_count": 10
        }
      ]
    },
    {
      "cell_type": "code",
      "metadata": {
        "id": "CF2Sf5-143Jc",
        "colab": {
          "base_uri": "https://localhost:8080/"
        },
        "outputId": "ad60e6a7-f2dd-4bc6-96d9-52b23339551f"
      },
      "source": [
        "statistic.shape[1]"
      ],
      "execution_count": null,
      "outputs": [
        {
          "output_type": "execute_result",
          "data": {
            "text/plain": [
              "6"
            ]
          },
          "metadata": {},
          "execution_count": 11
        }
      ]
    },
    {
      "cell_type": "code",
      "metadata": {
        "id": "C9gW6cFO48pj",
        "colab": {
          "base_uri": "https://localhost:8080/"
        },
        "outputId": "56f9d614-84af-458d-a0f2-14f5ef30d632"
      },
      "source": [
        "others.shape[0]"
      ],
      "execution_count": null,
      "outputs": [
        {
          "output_type": "execute_result",
          "data": {
            "text/plain": [
              "2914"
            ]
          },
          "metadata": {},
          "execution_count": 12
        }
      ]
    },
    {
      "cell_type": "markdown",
      "metadata": {
        "id": "CvVUmDHRFj0B"
      },
      "source": [
        "# **Remove sentence from the test set (only Stab and Gurevych dataset)**"
      ]
    },
    {
      "cell_type": "code",
      "metadata": {
        "id": "pHz1bUGNF_1q"
      },
      "source": [
        "discard_sentence=test_set['0'].tolist()"
      ],
      "execution_count": null,
      "outputs": []
    },
    {
      "cell_type": "code",
      "metadata": {
        "id": "UTQ1Q7rH62PQ"
      },
      "source": [
        "# Remove test set.\n",
        "\n",
        "true_labels=true_labels.drop(index=discard_sentence)\n",
        "\n",
        "statistic=statistic.drop(index=discard_sentence)\n",
        "\n",
        "POS=POS.drop(index=discard_sentence)\n",
        "\n",
        "simple_POS=simple_POS.drop(index=discard_sentence)\n",
        "\n",
        "bigram_POS=bigram_POS.drop(index=discard_sentence)\n",
        "\n",
        "bigram_simple_POS=bigram_simple_POS.drop(index=discard_sentence)\n",
        "\n",
        "dependency=dependency.drop(index=discard_sentence)\n",
        "\n",
        "dependency_tree_stat=dependency_tree_stat.drop(index=discard_sentence)\n",
        "\n",
        "named_entity=named_entity.drop(index=discard_sentence)\n",
        "\n",
        "BOW=BOW.drop(index=discard_sentence)\n",
        "\n",
        "Bigram=Bigram.drop(index=discard_sentence)\n",
        "\n",
        "imported_ngram=imported_ngram.drop(index=discard_sentence)\n",
        "\n",
        "others=others.drop(index=discard_sentence)"
      ],
      "execution_count": null,
      "outputs": []
    },
    {
      "cell_type": "markdown",
      "metadata": {
        "id": "YfDe-ScS4wcs"
      },
      "source": [
        "# **Learning**"
      ]
    },
    {
      "cell_type": "code",
      "metadata": {
        "id": "oW81WTmL7piE"
      },
      "source": [
        "# Divide the items in a train and a test set.\n",
        "list_index=[i for i in range(others.shape[0])]\n",
        "\n",
        "train_index,test_index=train_test_split(list_index,test_size=0.2, random_state=32)"
      ],
      "execution_count": null,
      "outputs": []
    },
    {
      "cell_type": "code",
      "metadata": {
        "id": "zuVbuDGEXnkA"
      },
      "source": [
        "# Takes a dataframe in input and returns the JSON representation.\n",
        "def from_tabular_to_JSON(dataframe:pd.DataFrame):\n",
        "\n",
        "  column=dataframe.columns\n",
        "  features=[]\n",
        "  for i in range(len(column)-1):\n",
        "    features.append('d{}'.format(i))\n",
        "\n",
        "  items = []\n",
        "  for i, (_, row) in enumerate(dataframe.iterrows()):\n",
        "    item = {}\n",
        "    for i in range(len(column)-1):\n",
        "      item['d{}'.format(i)] = [f+\"=\"+str(row[f]) for f in [column[i]]]\n",
        "    item['argumentative'] = [row['argumentative']]\n",
        "    items.append(item)\n",
        "\n",
        "  return items, features"
      ],
      "execution_count": null,
      "outputs": []
    },
    {
      "cell_type": "code",
      "metadata": {
        "id": "J4h-qD4kEFS0"
      },
      "source": [
        "# The method takes in input a dataframe containing the data from which to predict\n",
        "# the output and the output labels desired and returns, the label for the \n",
        "# test set, the probabilities of the predicted classes, and the global and local \n",
        "# explanations of which features are most usefoul in predicting the labels.\n",
        "\n",
        "def stc_procedure(dataframe_input:pd.DataFrame,label:pd.DataFrame):\n",
        "  dataframe=dataframe_input\n",
        "  dataframe['argumentative']=label['argumentative'].tolist()\n",
        "\n",
        "  items,features=from_tabular_to_JSON(dataframe)\n",
        "\n",
        "  train_items,test_items=train_test_split(items,test_size=0.2, random_state=32)\n",
        "\n",
        "  STC = SparseTensorClassifier(targets=['argumentative'], features=features, collapse=False)\n",
        "\n",
        "  STC.fit(train_items)\n",
        "\n",
        "  STC.set({\"entropy\": 1, \"balance\": 1, \"power\": 1})\n",
        "\n",
        "  policy, score = STC.learn(max_iter=1, random_state=42)\n",
        "\n",
        "  global_explainability = STC.explain()\n",
        "\n",
        "  labels, probability, explainability = STC.predict(test_items)\n",
        "\n",
        "  ground_labels=[item['argumentative'][0] for item in test_items]  \n",
        "\n",
        "  return ground_labels, global_explainability, labels, probability, explainability, policy"
      ],
      "execution_count": null,
      "outputs": []
    },
    {
      "cell_type": "code",
      "metadata": {
        "id": "coS2xQ9Icitn"
      },
      "source": [
        "# The method takes in input a dataframe containing the data from which to predict\n",
        "# the output and the output labels desired and returns, the label for the \n",
        "# test set, the probabilities of the predicted classes, and the global and local \n",
        "# explanations of which features are most usefoul in predicting the labels.\n",
        "\n",
        "def stc_procedure_tabular(dataframe:pd.DataFrame,label:pd.DataFrame):\n",
        "\n",
        "  dataframe['argumentative']=label['argumentative'].tolist()\n",
        "\n",
        "  STC = SparseTensorClassifier(targets=['argumentative'], features=dataframe.columns[:-1])\n",
        "\n",
        "  STC.fit(dataframe.iloc[train_index])\n",
        "\n",
        "  STC.set({\"entropy\": 1, \"balance\": 1, \"power\": 1})\n",
        "\n",
        "  global_explainability = STC.explain()\n",
        "\n",
        "  labels, probability, explainability = STC.predict(dataframe.iloc[test_index])\n",
        "\n",
        "  return ground_labels, global_explainability, labels, probability, explainability, policy"
      ],
      "execution_count": null,
      "outputs": []
    },
    {
      "cell_type": "code",
      "metadata": {
        "id": "SCfji8mGRqt6"
      },
      "source": [
        "accuracy_scores=[]\n",
        "f1_scores=[]\n",
        "precision_scores=[]\n",
        "recall_scores=[]"
      ],
      "execution_count": null,
      "outputs": []
    },
    {
      "cell_type": "markdown",
      "metadata": {
        "id": "oTgEhkoT7e_c"
      },
      "source": [
        "## **Statistic dataframe**"
      ]
    },
    {
      "cell_type": "code",
      "metadata": {
        "id": "YLMfbTLz5Qi9",
        "colab": {
          "base_uri": "https://localhost:8080/"
        },
        "outputId": "12f203cf-8e3a-4553-e107-66df3e2fcb9d"
      },
      "source": [
        "ground_labels, _, labels, _, _, policy=stc_procedure(statistic,true_labels)"
      ],
      "execution_count": null,
      "outputs": [
        {
          "output_type": "stream",
          "name": "stdout",
          "text": [
            ""
          ]
        }
      ]
    },
    {
      "cell_type": "code",
      "metadata": {
        "id": "ygkS3-Trcrb9",
        "colab": {
          "base_uri": "https://localhost:8080/"
        },
        "outputId": "c5e74c8a-adc1-4c6d-ad34-af45f5664617"
      },
      "source": [
        "_, global_explainability_tabular, _, _, _, _=stc_procedure_tabular(statistic,true_labels)"
      ],
      "execution_count": null,
      "outputs": [
        {
          "output_type": "stream",
          "name": "stdout",
          "text": [
            ""
          ]
        }
      ]
    },
    {
      "cell_type": "code",
      "metadata": {
        "id": "bMztOOuZSS8f"
      },
      "source": [
        "accuracy=accuracy_score(ground_labels, labels)\n",
        "f1_score_value=f1_score(y_true=ground_labels, y_pred=labels, pos_label=\"True\")\n",
        "precision=precision_score(ground_labels, labels, pos_label=\"True\")\n",
        "recall=recall_score(ground_labels, labels, pos_label=\"True\")"
      ],
      "execution_count": null,
      "outputs": []
    },
    {
      "cell_type": "code",
      "metadata": {
        "id": "TJ45wn3qR5aI"
      },
      "source": [
        "accuracy_scores.append(accuracy)\n",
        "f1_scores.append(f1_score_value)\n",
        "precision_scores.append(precision)\n",
        "recall_scores.append(recall)"
      ],
      "execution_count": null,
      "outputs": []
    },
    {
      "cell_type": "code",
      "metadata": {
        "id": "VloP_aYb8Ynl",
        "colab": {
          "base_uri": "https://localhost:8080/"
        },
        "outputId": "a2593f43-51fa-463d-d374-02d1d9c5229e"
      },
      "source": [
        "print('accuracy: {}'.format(accuracy))\n",
        "print('f1 score: {}'.format(f1_score_value))\n",
        "print('precision: {}'.format(precision))\n",
        "print('recall: {}'.format(recall))"
      ],
      "execution_count": null,
      "outputs": [
        {
          "output_type": "stream",
          "name": "stdout",
          "text": [
            "accuracy: 0.8231173380035026\n",
            "f1 score: 0.6666666666666665\n",
            "precision: 0.63125\n",
            "recall: 0.7062937062937062\n"
          ]
        }
      ]
    },
    {
      "cell_type": "code",
      "metadata": {
        "id": "l87UB891WP8R",
        "colab": {
          "base_uri": "https://localhost:8080/"
        },
        "outputId": "27394f8a-7cc3-4c0c-a79d-98f911eb6474"
      },
      "source": [
        "policy"
      ],
      "execution_count": null,
      "outputs": [
        {
          "output_type": "execute_result",
          "data": {
            "text/plain": [
              "[['d1', 'd3', 'd0', 'd4'], ['d3', 'd0', 'd4'], ['d0', 'd4'], ['d4'], []]"
            ]
          },
          "metadata": {},
          "execution_count": 25
        }
      ]
    },
    {
      "cell_type": "code",
      "metadata": {
        "id": "IgEWO6Q1gz2K",
        "colab": {
          "base_uri": "https://localhost:8080/"
        },
        "outputId": "c33d08b0-565d-4ec0-dab2-af83e008c067"
      },
      "source": [
        "policy_set=[]\n",
        "\n",
        "for pol in policy:\n",
        "  policy_set+=pol\n",
        "\n",
        "policy_set=list(set(policy_set))\n",
        "\n",
        "column=statistic.columns\n",
        "drop_features=[]\n",
        "for i in range(len(column)-1):\n",
        "  if not 'd{}'.format(i) in policy_set:\n",
        "    drop_features.append(column[i])\n",
        "\n",
        "drop_features"
      ],
      "execution_count": null,
      "outputs": [
        {
          "output_type": "execute_result",
          "data": {
            "text/plain": [
              "['sentence in essay', 'number words in sentence']"
            ]
          },
          "metadata": {},
          "execution_count": 26
        }
      ]
    },
    {
      "cell_type": "code",
      "metadata": {
        "id": "-FvsZ8JvioiY",
        "colab": {
          "base_uri": "https://localhost:8080/"
        },
        "outputId": "ec76ed5d-3cbd-4d95-d1b4-ddd79ca6cfd7"
      },
      "source": [
        "len(drop_features)"
      ],
      "execution_count": null,
      "outputs": [
        {
          "output_type": "execute_result",
          "data": {
            "text/plain": [
              "2"
            ]
          },
          "metadata": {},
          "execution_count": 27
        }
      ]
    },
    {
      "cell_type": "code",
      "metadata": {
        "id": "EQo2QmPtJGgc"
      },
      "source": [
        "# Save features to drop into a text file.\n",
        "\n",
        "f = open(\"Debater_drop_claim_premise_statistic.txt\", \"a\")\n",
        "for feature in drop_features:\n",
        "  f.write(\"{}-\".format(feature))\n",
        "f.close()"
      ],
      "execution_count": null,
      "outputs": []
    },
    {
      "cell_type": "code",
      "metadata": {
        "id": "N_ZKlpqRiHA-"
      },
      "source": [
        "if len(policy_set)>1:\n",
        "  statistic=statistic.drop(columns=drop_features)"
      ],
      "execution_count": null,
      "outputs": []
    },
    {
      "cell_type": "code",
      "metadata": {
        "id": "gGNrSoVsPOSX",
        "colab": {
          "base_uri": "https://localhost:8080/",
          "height": 542
        },
        "outputId": "c705bb07-be9e-43f4-b69c-ed6a9c14052c"
      },
      "source": [
        "global_explainability_tabular.loc[\"True\"][:15]"
      ],
      "execution_count": null,
      "outputs": [
        {
          "output_type": "execute_result",
          "data": {
            "text/html": [
              "<div>\n",
              "<style scoped>\n",
              "    .dataframe tbody tr th:only-of-type {\n",
              "        vertical-align: middle;\n",
              "    }\n",
              "\n",
              "    .dataframe tbody tr th {\n",
              "        vertical-align: top;\n",
              "    }\n",
              "\n",
              "    .dataframe thead th {\n",
              "        text-align: right;\n",
              "    }\n",
              "</style>\n",
              "<table border=\"1\" class=\"dataframe\">\n",
              "  <thead>\n",
              "    <tr style=\"text-align: right;\">\n",
              "      <th></th>\n",
              "      <th>features</th>\n",
              "      <th>score</th>\n",
              "    </tr>\n",
              "    <tr>\n",
              "      <th>argumentative</th>\n",
              "      <th></th>\n",
              "      <th></th>\n",
              "    </tr>\n",
              "  </thead>\n",
              "  <tbody>\n",
              "    <tr>\n",
              "      <th>True</th>\n",
              "      <td>total paragraphs in document: 74</td>\n",
              "      <td>0.002802</td>\n",
              "    </tr>\n",
              "    <tr>\n",
              "      <th>True</th>\n",
              "      <td>total paragraphs in document: 32</td>\n",
              "      <td>0.002444</td>\n",
              "    </tr>\n",
              "    <tr>\n",
              "      <th>True</th>\n",
              "      <td>paragraph in essay: 0</td>\n",
              "      <td>0.002433</td>\n",
              "    </tr>\n",
              "    <tr>\n",
              "      <th>True</th>\n",
              "      <td>sentence in paragraph: 0</td>\n",
              "      <td>0.002015</td>\n",
              "    </tr>\n",
              "    <tr>\n",
              "      <th>True</th>\n",
              "      <td>sentence in essay: 4</td>\n",
              "      <td>0.001867</td>\n",
              "    </tr>\n",
              "    <tr>\n",
              "      <th>True</th>\n",
              "      <td>sentence in essay: 2</td>\n",
              "      <td>0.001731</td>\n",
              "    </tr>\n",
              "    <tr>\n",
              "      <th>True</th>\n",
              "      <td>total sentences in paragraph: 1</td>\n",
              "      <td>0.001589</td>\n",
              "    </tr>\n",
              "    <tr>\n",
              "      <th>True</th>\n",
              "      <td>total paragraphs in document: 212</td>\n",
              "      <td>0.001567</td>\n",
              "    </tr>\n",
              "    <tr>\n",
              "      <th>True</th>\n",
              "      <td>paragraph in essay: 1</td>\n",
              "      <td>0.001529</td>\n",
              "    </tr>\n",
              "    <tr>\n",
              "      <th>True</th>\n",
              "      <td>total paragraphs in document: 106</td>\n",
              "      <td>0.001363</td>\n",
              "    </tr>\n",
              "    <tr>\n",
              "      <th>True</th>\n",
              "      <td>total paragraphs in document: 29</td>\n",
              "      <td>0.001309</td>\n",
              "    </tr>\n",
              "    <tr>\n",
              "      <th>True</th>\n",
              "      <td>total paragraphs in document: 39</td>\n",
              "      <td>0.001306</td>\n",
              "    </tr>\n",
              "    <tr>\n",
              "      <th>True</th>\n",
              "      <td>total paragraphs in document: 41</td>\n",
              "      <td>0.001285</td>\n",
              "    </tr>\n",
              "    <tr>\n",
              "      <th>True</th>\n",
              "      <td>sentence in essay: 3</td>\n",
              "      <td>0.001254</td>\n",
              "    </tr>\n",
              "    <tr>\n",
              "      <th>True</th>\n",
              "      <td>total paragraphs in document: 82</td>\n",
              "      <td>0.001188</td>\n",
              "    </tr>\n",
              "  </tbody>\n",
              "</table>\n",
              "</div>"
            ],
            "text/plain": [
              "                                        features     score\n",
              "argumentative                                             \n",
              "True            total paragraphs in document: 74  0.002802\n",
              "True            total paragraphs in document: 32  0.002444\n",
              "True                       paragraph in essay: 0  0.002433\n",
              "True                    sentence in paragraph: 0  0.002015\n",
              "True                        sentence in essay: 4  0.001867\n",
              "True                        sentence in essay: 2  0.001731\n",
              "True             total sentences in paragraph: 1  0.001589\n",
              "True           total paragraphs in document: 212  0.001567\n",
              "True                       paragraph in essay: 1  0.001529\n",
              "True           total paragraphs in document: 106  0.001363\n",
              "True            total paragraphs in document: 29  0.001309\n",
              "True            total paragraphs in document: 39  0.001306\n",
              "True            total paragraphs in document: 41  0.001285\n",
              "True                        sentence in essay: 3  0.001254\n",
              "True            total paragraphs in document: 82  0.001188"
            ]
          },
          "metadata": {},
          "execution_count": 30
        }
      ]
    },
    {
      "cell_type": "code",
      "metadata": {
        "id": "f14npURSPfXA",
        "colab": {
          "base_uri": "https://localhost:8080/",
          "height": 388
        },
        "outputId": "45101485-2ddf-4e34-9481-62f2ba14961c"
      },
      "source": [
        "global_explainability_tabular.loc[\"False\"][:10]"
      ],
      "execution_count": null,
      "outputs": [
        {
          "output_type": "execute_result",
          "data": {
            "text/html": [
              "<div>\n",
              "<style scoped>\n",
              "    .dataframe tbody tr th:only-of-type {\n",
              "        vertical-align: middle;\n",
              "    }\n",
              "\n",
              "    .dataframe tbody tr th {\n",
              "        vertical-align: top;\n",
              "    }\n",
              "\n",
              "    .dataframe thead th {\n",
              "        text-align: right;\n",
              "    }\n",
              "</style>\n",
              "<table border=\"1\" class=\"dataframe\">\n",
              "  <thead>\n",
              "    <tr style=\"text-align: right;\">\n",
              "      <th></th>\n",
              "      <th>features</th>\n",
              "      <th>score</th>\n",
              "    </tr>\n",
              "    <tr>\n",
              "      <th>argumentative</th>\n",
              "      <th></th>\n",
              "      <th></th>\n",
              "    </tr>\n",
              "  </thead>\n",
              "  <tbody>\n",
              "    <tr>\n",
              "      <th>False</th>\n",
              "      <td>total paragraphs in document: 482</td>\n",
              "      <td>0.007755</td>\n",
              "    </tr>\n",
              "    <tr>\n",
              "      <th>False</th>\n",
              "      <td>total paragraphs in document: 198</td>\n",
              "      <td>0.004112</td>\n",
              "    </tr>\n",
              "    <tr>\n",
              "      <th>False</th>\n",
              "      <td>number words in sentence: 1</td>\n",
              "      <td>0.004112</td>\n",
              "    </tr>\n",
              "    <tr>\n",
              "      <th>False</th>\n",
              "      <td>total paragraphs in document: 86</td>\n",
              "      <td>0.003027</td>\n",
              "    </tr>\n",
              "    <tr>\n",
              "      <th>False</th>\n",
              "      <td>total paragraphs in document: 107</td>\n",
              "      <td>0.002804</td>\n",
              "    </tr>\n",
              "    <tr>\n",
              "      <th>False</th>\n",
              "      <td>total paragraphs in document: 102</td>\n",
              "      <td>0.002639</td>\n",
              "    </tr>\n",
              "    <tr>\n",
              "      <th>False</th>\n",
              "      <td>number words in sentence: 46</td>\n",
              "      <td>0.002335</td>\n",
              "    </tr>\n",
              "    <tr>\n",
              "      <th>False</th>\n",
              "      <td>total paragraphs in document: 138</td>\n",
              "      <td>0.001796</td>\n",
              "    </tr>\n",
              "    <tr>\n",
              "      <th>False</th>\n",
              "      <td>total paragraphs in document: 111</td>\n",
              "      <td>0.001708</td>\n",
              "    </tr>\n",
              "    <tr>\n",
              "      <th>False</th>\n",
              "      <td>total paragraphs in document: 116</td>\n",
              "      <td>0.001624</td>\n",
              "    </tr>\n",
              "  </tbody>\n",
              "</table>\n",
              "</div>"
            ],
            "text/plain": [
              "                                        features     score\n",
              "argumentative                                             \n",
              "False          total paragraphs in document: 482  0.007755\n",
              "False          total paragraphs in document: 198  0.004112\n",
              "False                number words in sentence: 1  0.004112\n",
              "False           total paragraphs in document: 86  0.003027\n",
              "False          total paragraphs in document: 107  0.002804\n",
              "False          total paragraphs in document: 102  0.002639\n",
              "False               number words in sentence: 46  0.002335\n",
              "False          total paragraphs in document: 138  0.001796\n",
              "False          total paragraphs in document: 111  0.001708\n",
              "False          total paragraphs in document: 116  0.001624"
            ]
          },
          "metadata": {},
          "execution_count": 31
        }
      ]
    },
    {
      "cell_type": "markdown",
      "metadata": {
        "id": "rdmSiNpSDsTj"
      },
      "source": [
        "## **POS dataframe**"
      ]
    },
    {
      "cell_type": "code",
      "metadata": {
        "id": "jVQKlL5Gddmt",
        "colab": {
          "base_uri": "https://localhost:8080/"
        },
        "outputId": "0cd54d2e-bbe1-45fb-9eb2-7039b2b63829"
      },
      "source": [
        "ground_labels, _, labels, _, _, policy=stc_procedure(POS,true_labels)"
      ],
      "execution_count": null,
      "outputs": [
        {
          "output_type": "stream",
          "name": "stdout",
          "text": [
            ""
          ]
        }
      ]
    },
    {
      "cell_type": "code",
      "metadata": {
        "id": "lJlBssrlvN1N",
        "colab": {
          "base_uri": "https://localhost:8080/"
        },
        "outputId": "6096fa65-ec00-4016-a21b-0e9a6fe4d929"
      },
      "source": [
        "_, global_explainability_tabular, _, _, _, _=stc_procedure_tabular(POS,true_labels)"
      ],
      "execution_count": null,
      "outputs": [
        {
          "output_type": "stream",
          "name": "stdout",
          "text": [
            ""
          ]
        }
      ]
    },
    {
      "cell_type": "code",
      "metadata": {
        "id": "bVWSIx8VzXYA"
      },
      "source": [
        "accuracy=accuracy_score(ground_labels, labels)\n",
        "f1_score_value=f1_score(y_true=ground_labels, y_pred=labels, pos_label=\"True\")\n",
        "precision=precision_score(ground_labels, labels, pos_label=\"True\")\n",
        "recall=recall_score(ground_labels, labels, pos_label=\"True\")"
      ],
      "execution_count": null,
      "outputs": []
    },
    {
      "cell_type": "code",
      "metadata": {
        "id": "xnsWm1fizXYA"
      },
      "source": [
        "accuracy_scores.append(accuracy)\n",
        "f1_scores.append(f1_score_value)\n",
        "precision_scores.append(precision)\n",
        "recall_scores.append(recall)"
      ],
      "execution_count": null,
      "outputs": []
    },
    {
      "cell_type": "code",
      "metadata": {
        "id": "V9mjTdDXzXYA",
        "colab": {
          "base_uri": "https://localhost:8080/"
        },
        "outputId": "99a2f3cf-d5d3-49b0-9ebc-045013d75c49"
      },
      "source": [
        "print('accuracy: {}'.format(accuracy))\n",
        "print('f1 score: {}'.format(f1_score_value))\n",
        "print('precision: {}'.format(precision))\n",
        "print('recall: {}'.format(recall))\n"
      ],
      "execution_count": null,
      "outputs": [
        {
          "output_type": "stream",
          "name": "stdout",
          "text": [
            "accuracy: 0.660245183887916\n",
            "f1 score: 0.4457142857142857\n",
            "precision: 0.37681159420289856\n",
            "recall: 0.5454545454545454\n"
          ]
        }
      ]
    },
    {
      "cell_type": "code",
      "metadata": {
        "id": "2V85d_8jddmw",
        "colab": {
          "base_uri": "https://localhost:8080/"
        },
        "outputId": "1f22e65a-7e99-4a6f-9edb-2236f217101b"
      },
      "source": [
        "policy"
      ],
      "execution_count": null,
      "outputs": [
        {
          "output_type": "execute_result",
          "data": {
            "text/plain": [
              "[['d27', 'd22', 'd31', 'd5', 'd13', 'd23', 'd33', 'd1'],\n",
              " ['d22', 'd31', 'd5', 'd13', 'd23', 'd33', 'd1'],\n",
              " ['d31', 'd5', 'd13', 'd23', 'd33', 'd1'],\n",
              " ['d5', 'd13', 'd23', 'd33', 'd1'],\n",
              " ['d13', 'd23', 'd33', 'd1'],\n",
              " ['d23', 'd33', 'd1'],\n",
              " ['d33', 'd1'],\n",
              " ['d1'],\n",
              " []]"
            ]
          },
          "metadata": {},
          "execution_count": 37
        }
      ]
    },
    {
      "cell_type": "code",
      "metadata": {
        "id": "4UZQD0WZjIhd",
        "colab": {
          "base_uri": "https://localhost:8080/"
        },
        "outputId": "3c2838ae-1010-414a-beec-0b7d4a08c252"
      },
      "source": [
        "policy_set=[]\n",
        "\n",
        "for pol in policy:\n",
        "  policy_set+=pol\n",
        "\n",
        "policy_set=list(set(policy_set))\n",
        "\n",
        "column=POS.columns\n",
        "drop_features=[]\n",
        "for i in range(len(column)-1):\n",
        "  if not 'd{}'.format(i) in policy_set:\n",
        "    drop_features.append(column[i])\n",
        "\n",
        "drop_features"
      ],
      "execution_count": null,
      "outputs": [
        {
          "output_type": "execute_result",
          "data": {
            "text/plain": [
              "['uh',\n",
              " 'wrb',\n",
              " 'prp',\n",
              " 'cc',\n",
              " 'vbg',\n",
              " 'md',\n",
              " 'vbz',\n",
              " 'rbr',\n",
              " 'wp',\n",
              " ',',\n",
              " 'vbp',\n",
              " 'po',\n",
              " '``',\n",
              " 'nns',\n",
              " '.',\n",
              " ':',\n",
              " 'wdt',\n",
              " \"''\",\n",
              " 'vbn',\n",
              " 'jjr',\n",
              " 'nnp',\n",
              " 'fw',\n",
              " 'rp',\n",
              " '(',\n",
              " ')',\n",
              " 'sym',\n",
              " '$',\n",
              " 'ex',\n",
              " 'to',\n",
              " 'pdt',\n",
              " 'jjs']"
            ]
          },
          "metadata": {},
          "execution_count": 38
        }
      ]
    },
    {
      "cell_type": "code",
      "metadata": {
        "id": "mLbwR0PHjIhe",
        "colab": {
          "base_uri": "https://localhost:8080/"
        },
        "outputId": "395960af-b565-4cc0-da19-7855407e317b"
      },
      "source": [
        "len(drop_features)"
      ],
      "execution_count": null,
      "outputs": [
        {
          "output_type": "execute_result",
          "data": {
            "text/plain": [
              "31"
            ]
          },
          "metadata": {},
          "execution_count": 39
        }
      ]
    },
    {
      "cell_type": "code",
      "metadata": {
        "id": "Uv2q29d32YI7"
      },
      "source": [
        "# Save features to drop into a text file.\n",
        "\n",
        "f = open(\"Debater_drop_claim_premise_POS.txt\", \"a\")\n",
        "for feature in drop_features:\n",
        "  f.write(\"{}-\".format(feature))\n",
        "f.close()"
      ],
      "execution_count": null,
      "outputs": []
    },
    {
      "cell_type": "code",
      "metadata": {
        "id": "RAaqXCXUjIhe"
      },
      "source": [
        "if len(policy_set)>1:\n",
        "  POS=POS.drop(columns=drop_features)"
      ],
      "execution_count": null,
      "outputs": []
    },
    {
      "cell_type": "code",
      "metadata": {
        "id": "ouAppAifddmx",
        "colab": {
          "base_uri": "https://localhost:8080/",
          "height": 542
        },
        "outputId": "ccbfd298-f353-4fe3-975b-4f5624ae36ac"
      },
      "source": [
        "global_explainability_tabular.loc[\"True\"][:15]"
      ],
      "execution_count": null,
      "outputs": [
        {
          "output_type": "execute_result",
          "data": {
            "text/html": [
              "<div>\n",
              "<style scoped>\n",
              "    .dataframe tbody tr th:only-of-type {\n",
              "        vertical-align: middle;\n",
              "    }\n",
              "\n",
              "    .dataframe tbody tr th {\n",
              "        vertical-align: top;\n",
              "    }\n",
              "\n",
              "    .dataframe thead th {\n",
              "        text-align: right;\n",
              "    }\n",
              "</style>\n",
              "<table border=\"1\" class=\"dataframe\">\n",
              "  <thead>\n",
              "    <tr style=\"text-align: right;\">\n",
              "      <th></th>\n",
              "      <th>features</th>\n",
              "      <th>score</th>\n",
              "    </tr>\n",
              "    <tr>\n",
              "      <th>argumentative</th>\n",
              "      <th></th>\n",
              "      <th></th>\n",
              "    </tr>\n",
              "  </thead>\n",
              "  <tbody>\n",
              "    <tr>\n",
              "      <th>True</th>\n",
              "      <td>vbd: 0</td>\n",
              "      <td>0.001593</td>\n",
              "    </tr>\n",
              "    <tr>\n",
              "      <th>True</th>\n",
              "      <td>cd: 0</td>\n",
              "      <td>0.000798</td>\n",
              "    </tr>\n",
              "    <tr>\n",
              "      <th>True</th>\n",
              "      <td>md: 1</td>\n",
              "      <td>0.000714</td>\n",
              "    </tr>\n",
              "    <tr>\n",
              "      <th>True</th>\n",
              "      <td>vbd: 1</td>\n",
              "      <td>0.000481</td>\n",
              "    </tr>\n",
              "    <tr>\n",
              "      <th>True</th>\n",
              "      <td>vbz: 0</td>\n",
              "      <td>0.000457</td>\n",
              "    </tr>\n",
              "    <tr>\n",
              "      <th>True</th>\n",
              "      <td>vbd: 2</td>\n",
              "      <td>0.000312</td>\n",
              "    </tr>\n",
              "    <tr>\n",
              "      <th>True</th>\n",
              "      <td>vbz: 3</td>\n",
              "      <td>0.000305</td>\n",
              "    </tr>\n",
              "    <tr>\n",
              "      <th>True</th>\n",
              "      <td>vbp: 2</td>\n",
              "      <td>0.000290</td>\n",
              "    </tr>\n",
              "    <tr>\n",
              "      <th>True</th>\n",
              "      <td>vb: 0</td>\n",
              "      <td>0.000287</td>\n",
              "    </tr>\n",
              "    <tr>\n",
              "      <th>True</th>\n",
              "      <td>vbz: 1</td>\n",
              "      <td>0.000279</td>\n",
              "    </tr>\n",
              "    <tr>\n",
              "      <th>True</th>\n",
              "      <td>cd: 1</td>\n",
              "      <td>0.000265</td>\n",
              "    </tr>\n",
              "    <tr>\n",
              "      <th>True</th>\n",
              "      <td>vbz: 2</td>\n",
              "      <td>0.000243</td>\n",
              "    </tr>\n",
              "    <tr>\n",
              "      <th>True</th>\n",
              "      <td>'': 1</td>\n",
              "      <td>0.000232</td>\n",
              "    </tr>\n",
              "    <tr>\n",
              "      <th>True</th>\n",
              "      <td>``: 1</td>\n",
              "      <td>0.000231</td>\n",
              "    </tr>\n",
              "    <tr>\n",
              "      <th>True</th>\n",
              "      <td>vbp: 0</td>\n",
              "      <td>0.000228</td>\n",
              "    </tr>\n",
              "  </tbody>\n",
              "</table>\n",
              "</div>"
            ],
            "text/plain": [
              "              features     score\n",
              "argumentative                   \n",
              "True            vbd: 0  0.001593\n",
              "True             cd: 0  0.000798\n",
              "True             md: 1  0.000714\n",
              "True            vbd: 1  0.000481\n",
              "True            vbz: 0  0.000457\n",
              "True            vbd: 2  0.000312\n",
              "True            vbz: 3  0.000305\n",
              "True            vbp: 2  0.000290\n",
              "True             vb: 0  0.000287\n",
              "True            vbz: 1  0.000279\n",
              "True             cd: 1  0.000265\n",
              "True            vbz: 2  0.000243\n",
              "True             '': 1  0.000232\n",
              "True             ``: 1  0.000231\n",
              "True            vbp: 0  0.000228"
            ]
          },
          "metadata": {},
          "execution_count": 42
        }
      ]
    },
    {
      "cell_type": "code",
      "metadata": {
        "id": "UpLHP_eEddmx",
        "colab": {
          "base_uri": "https://localhost:8080/",
          "height": 388
        },
        "outputId": "1dc50866-1935-438d-cfdc-2c352c6c24a3"
      },
      "source": [
        "global_explainability_tabular.loc[\"False\"][:10]"
      ],
      "execution_count": null,
      "outputs": [
        {
          "output_type": "execute_result",
          "data": {
            "text/html": [
              "<div>\n",
              "<style scoped>\n",
              "    .dataframe tbody tr th:only-of-type {\n",
              "        vertical-align: middle;\n",
              "    }\n",
              "\n",
              "    .dataframe tbody tr th {\n",
              "        vertical-align: top;\n",
              "    }\n",
              "\n",
              "    .dataframe thead th {\n",
              "        text-align: right;\n",
              "    }\n",
              "</style>\n",
              "<table border=\"1\" class=\"dataframe\">\n",
              "  <thead>\n",
              "    <tr style=\"text-align: right;\">\n",
              "      <th></th>\n",
              "      <th>features</th>\n",
              "      <th>score</th>\n",
              "    </tr>\n",
              "    <tr>\n",
              "      <th>argumentative</th>\n",
              "      <th></th>\n",
              "      <th></th>\n",
              "    </tr>\n",
              "  </thead>\n",
              "  <tbody>\n",
              "    <tr>\n",
              "      <th>False</th>\n",
              "      <td>vbd: 1</td>\n",
              "      <td>0.001372</td>\n",
              "    </tr>\n",
              "    <tr>\n",
              "      <th>False</th>\n",
              "      <td>cd: 3</td>\n",
              "      <td>0.001121</td>\n",
              "    </tr>\n",
              "    <tr>\n",
              "      <th>False</th>\n",
              "      <td>vbd: 2</td>\n",
              "      <td>0.001092</td>\n",
              "    </tr>\n",
              "    <tr>\n",
              "      <th>False</th>\n",
              "      <td>cd: 2</td>\n",
              "      <td>0.000992</td>\n",
              "    </tr>\n",
              "    <tr>\n",
              "      <th>False</th>\n",
              "      <td>vbd: 0</td>\n",
              "      <td>0.000812</td>\n",
              "    </tr>\n",
              "    <tr>\n",
              "      <th>False</th>\n",
              "      <td>vbz: 0</td>\n",
              "      <td>0.000772</td>\n",
              "    </tr>\n",
              "    <tr>\n",
              "      <th>False</th>\n",
              "      <td>cd: 1</td>\n",
              "      <td>0.000622</td>\n",
              "    </tr>\n",
              "    <tr>\n",
              "      <th>False</th>\n",
              "      <td>'': 1</td>\n",
              "      <td>0.000582</td>\n",
              "    </tr>\n",
              "    <tr>\n",
              "      <th>False</th>\n",
              "      <td>``: 1</td>\n",
              "      <td>0.000532</td>\n",
              "    </tr>\n",
              "    <tr>\n",
              "      <th>False</th>\n",
              "      <td>cd: 0</td>\n",
              "      <td>0.000510</td>\n",
              "    </tr>\n",
              "  </tbody>\n",
              "</table>\n",
              "</div>"
            ],
            "text/plain": [
              "              features     score\n",
              "argumentative                   \n",
              "False           vbd: 1  0.001372\n",
              "False            cd: 3  0.001121\n",
              "False           vbd: 2  0.001092\n",
              "False            cd: 2  0.000992\n",
              "False           vbd: 0  0.000812\n",
              "False           vbz: 0  0.000772\n",
              "False            cd: 1  0.000622\n",
              "False            '': 1  0.000582\n",
              "False            ``: 1  0.000532\n",
              "False            cd: 0  0.000510"
            ]
          },
          "metadata": {},
          "execution_count": 43
        }
      ]
    },
    {
      "cell_type": "markdown",
      "metadata": {
        "id": "ratGQCj3IE7q"
      },
      "source": [
        "## **Simple POS dataframe**"
      ]
    },
    {
      "cell_type": "code",
      "metadata": {
        "id": "zhJxOHQWdnf-",
        "colab": {
          "base_uri": "https://localhost:8080/"
        },
        "outputId": "27611656-84ae-458f-f8d6-804c8f34b583"
      },
      "source": [
        "ground_labels, _, labels, _, _, policy=stc_procedure(simple_POS,true_labels)"
      ],
      "execution_count": null,
      "outputs": [
        {
          "output_type": "stream",
          "name": "stdout",
          "text": [
            ""
          ]
        }
      ]
    },
    {
      "cell_type": "code",
      "metadata": {
        "id": "QsjrMDPzvRNX",
        "colab": {
          "base_uri": "https://localhost:8080/"
        },
        "outputId": "7d5679b1-cc3b-44de-bff0-5abcf6818fa0"
      },
      "source": [
        "_, global_explainability_tabular, _, _, _, _=stc_procedure_tabular(simple_POS,true_labels)"
      ],
      "execution_count": null,
      "outputs": [
        {
          "output_type": "stream",
          "name": "stdout",
          "text": [
            ""
          ]
        }
      ]
    },
    {
      "cell_type": "code",
      "metadata": {
        "id": "mpSfO461zaD3"
      },
      "source": [
        "accuracy=accuracy_score(ground_labels, labels)\n",
        "f1_score_value=f1_score(y_true=ground_labels, y_pred=labels, pos_label=\"True\")\n",
        "precision=precision_score(ground_labels, labels, pos_label=\"True\")\n",
        "recall=recall_score(ground_labels, labels, pos_label=\"True\")"
      ],
      "execution_count": null,
      "outputs": []
    },
    {
      "cell_type": "code",
      "metadata": {
        "id": "-sAUrrKtzaD3"
      },
      "source": [
        "accuracy_scores.append(accuracy)\n",
        "f1_scores.append(f1_score_value)\n",
        "precision_scores.append(precision)\n",
        "recall_scores.append(recall)"
      ],
      "execution_count": null,
      "outputs": []
    },
    {
      "cell_type": "code",
      "metadata": {
        "id": "fuhXaLqyzaD3",
        "colab": {
          "base_uri": "https://localhost:8080/"
        },
        "outputId": "36fd9c78-f65e-4ee3-abf6-e0cbab9074b1"
      },
      "source": [
        "print('accuracy: {}'.format(accuracy))\n",
        "print('f1 score: {}'.format(f1_score_value))\n",
        "print('precision: {}'.format(precision))\n",
        "print('recall: {}'.format(recall))"
      ],
      "execution_count": null,
      "outputs": [
        {
          "output_type": "stream",
          "name": "stdout",
          "text": [
            "accuracy: 0.637478108581436\n",
            "f1 score: 0.4233983286908078\n",
            "precision: 0.35185185185185186\n",
            "recall: 0.5314685314685315\n"
          ]
        }
      ]
    },
    {
      "cell_type": "code",
      "metadata": {
        "id": "l5KCxPUddngB",
        "colab": {
          "base_uri": "https://localhost:8080/"
        },
        "outputId": "19df3ddd-0c60-4a8c-e01d-c51848f610d4"
      },
      "source": [
        "policy"
      ],
      "execution_count": null,
      "outputs": [
        {
          "output_type": "execute_result",
          "data": {
            "text/plain": [
              "[['d2', 'd1', 'd10', 'd7', 'd6', 'd9', 'd8'],\n",
              " ['d1', 'd10', 'd7', 'd6', 'd9', 'd8'],\n",
              " ['d10', 'd7', 'd6', 'd9', 'd8'],\n",
              " ['d7', 'd6', 'd9', 'd8'],\n",
              " ['d6', 'd9', 'd8'],\n",
              " ['d9', 'd8'],\n",
              " ['d8'],\n",
              " []]"
            ]
          },
          "metadata": {},
          "execution_count": 49
        }
      ]
    },
    {
      "cell_type": "code",
      "metadata": {
        "id": "-7kOeutZjQtA",
        "colab": {
          "base_uri": "https://localhost:8080/"
        },
        "outputId": "5b65526e-5dce-4f89-b887-d6acd74c0f06"
      },
      "source": [
        "policy_set=[]\n",
        "\n",
        "for pol in policy:\n",
        "  policy_set+=pol\n",
        "\n",
        "policy_set=list(set(policy_set))\n",
        "\n",
        "column=simple_POS.columns\n",
        "drop_features=[]\n",
        "for i in range(len(column)-1):\n",
        "  if not 'd{}'.format(i) in policy_set:\n",
        "    drop_features.append(column[i])\n",
        "\n",
        "drop_features"
      ],
      "execution_count": null,
      "outputs": [
        {
          "output_type": "execute_result",
          "data": {
            "text/plain": [
              "['pron', 'adp', '.', 'x', 'prt']"
            ]
          },
          "metadata": {},
          "execution_count": 50
        }
      ]
    },
    {
      "cell_type": "code",
      "metadata": {
        "id": "bPxjckKjjQtB",
        "colab": {
          "base_uri": "https://localhost:8080/"
        },
        "outputId": "9fe2f321-9f18-43a4-e627-db97c22ccc47"
      },
      "source": [
        "len(drop_features)"
      ],
      "execution_count": null,
      "outputs": [
        {
          "output_type": "execute_result",
          "data": {
            "text/plain": [
              "5"
            ]
          },
          "metadata": {},
          "execution_count": 51
        }
      ]
    },
    {
      "cell_type": "code",
      "metadata": {
        "id": "Ghbv7_Ar2dtT"
      },
      "source": [
        "# Save features to drop into a text file.\n",
        "\n",
        "f = open(\"Debater_drop_claim_premise_simple_POS.txt\", \"a\")\n",
        "for feature in drop_features:\n",
        "  f.write(\"{}-\".format(feature))\n",
        "f.close()"
      ],
      "execution_count": null,
      "outputs": []
    },
    {
      "cell_type": "code",
      "metadata": {
        "id": "gpoN1d0ijQtC"
      },
      "source": [
        "if len(policy_set)>1:\n",
        "  simple_POS=simple_POS.drop(columns=drop_features)"
      ],
      "execution_count": null,
      "outputs": []
    },
    {
      "cell_type": "code",
      "metadata": {
        "id": "dKCmdIMHdngB",
        "colab": {
          "base_uri": "https://localhost:8080/",
          "height": 542
        },
        "outputId": "a3da6b26-0d37-42fb-9fad-f7b10b0971b6"
      },
      "source": [
        "global_explainability_tabular.loc[\"True\"][:15]"
      ],
      "execution_count": null,
      "outputs": [
        {
          "output_type": "execute_result",
          "data": {
            "text/html": [
              "<div>\n",
              "<style scoped>\n",
              "    .dataframe tbody tr th:only-of-type {\n",
              "        vertical-align: middle;\n",
              "    }\n",
              "\n",
              "    .dataframe tbody tr th {\n",
              "        vertical-align: top;\n",
              "    }\n",
              "\n",
              "    .dataframe thead th {\n",
              "        text-align: right;\n",
              "    }\n",
              "</style>\n",
              "<table border=\"1\" class=\"dataframe\">\n",
              "  <thead>\n",
              "    <tr style=\"text-align: right;\">\n",
              "      <th></th>\n",
              "      <th>features</th>\n",
              "      <th>score</th>\n",
              "    </tr>\n",
              "    <tr>\n",
              "      <th>argumentative</th>\n",
              "      <th></th>\n",
              "      <th></th>\n",
              "    </tr>\n",
              "  </thead>\n",
              "  <tbody>\n",
              "    <tr>\n",
              "      <th>True</th>\n",
              "      <td>num: 0</td>\n",
              "      <td>0.002594</td>\n",
              "    </tr>\n",
              "    <tr>\n",
              "      <th>True</th>\n",
              "      <td>num: 1</td>\n",
              "      <td>0.000862</td>\n",
              "    </tr>\n",
              "    <tr>\n",
              "      <th>True</th>\n",
              "      <td>num: 2</td>\n",
              "      <td>0.000666</td>\n",
              "    </tr>\n",
              "    <tr>\n",
              "      <th>True</th>\n",
              "      <td>.: 0</td>\n",
              "      <td>0.000640</td>\n",
              "    </tr>\n",
              "    <tr>\n",
              "      <th>True</th>\n",
              "      <td>adv: 0</td>\n",
              "      <td>0.000580</td>\n",
              "    </tr>\n",
              "    <tr>\n",
              "      <th>True</th>\n",
              "      <td>adj: 0</td>\n",
              "      <td>0.000506</td>\n",
              "    </tr>\n",
              "    <tr>\n",
              "      <th>True</th>\n",
              "      <td>adp: 0</td>\n",
              "      <td>0.000326</td>\n",
              "    </tr>\n",
              "    <tr>\n",
              "      <th>True</th>\n",
              "      <td>verb: 0</td>\n",
              "      <td>0.000281</td>\n",
              "    </tr>\n",
              "    <tr>\n",
              "      <th>True</th>\n",
              "      <td>adv: 9</td>\n",
              "      <td>0.000261</td>\n",
              "    </tr>\n",
              "    <tr>\n",
              "      <th>True</th>\n",
              "      <td>adj: 18</td>\n",
              "      <td>0.000261</td>\n",
              "    </tr>\n",
              "    <tr>\n",
              "      <th>True</th>\n",
              "      <td>adp: 18</td>\n",
              "      <td>0.000261</td>\n",
              "    </tr>\n",
              "    <tr>\n",
              "      <th>True</th>\n",
              "      <td>adp: 2</td>\n",
              "      <td>0.000236</td>\n",
              "    </tr>\n",
              "    <tr>\n",
              "      <th>True</th>\n",
              "      <td>verb: 12</td>\n",
              "      <td>0.000227</td>\n",
              "    </tr>\n",
              "    <tr>\n",
              "      <th>True</th>\n",
              "      <td>verb: 13</td>\n",
              "      <td>0.000209</td>\n",
              "    </tr>\n",
              "    <tr>\n",
              "      <th>True</th>\n",
              "      <td>verb: 7</td>\n",
              "      <td>0.000200</td>\n",
              "    </tr>\n",
              "  </tbody>\n",
              "</table>\n",
              "</div>"
            ],
            "text/plain": [
              "               features     score\n",
              "argumentative                    \n",
              "True             num: 0  0.002594\n",
              "True             num: 1  0.000862\n",
              "True             num: 2  0.000666\n",
              "True               .: 0  0.000640\n",
              "True             adv: 0  0.000580\n",
              "True             adj: 0  0.000506\n",
              "True             adp: 0  0.000326\n",
              "True            verb: 0  0.000281\n",
              "True             adv: 9  0.000261\n",
              "True            adj: 18  0.000261\n",
              "True            adp: 18  0.000261\n",
              "True             adp: 2  0.000236\n",
              "True           verb: 12  0.000227\n",
              "True           verb: 13  0.000209\n",
              "True            verb: 7  0.000200"
            ]
          },
          "metadata": {},
          "execution_count": 54
        }
      ]
    },
    {
      "cell_type": "code",
      "metadata": {
        "id": "Acts3UEGdngC",
        "colab": {
          "base_uri": "https://localhost:8080/",
          "height": 388
        },
        "outputId": "f60cd0f0-8ae4-400e-8e5f-9b19634968e8"
      },
      "source": [
        "global_explainability_tabular.loc[\"False\"][:10]"
      ],
      "execution_count": null,
      "outputs": [
        {
          "output_type": "execute_result",
          "data": {
            "text/html": [
              "<div>\n",
              "<style scoped>\n",
              "    .dataframe tbody tr th:only-of-type {\n",
              "        vertical-align: middle;\n",
              "    }\n",
              "\n",
              "    .dataframe tbody tr th {\n",
              "        vertical-align: top;\n",
              "    }\n",
              "\n",
              "    .dataframe thead th {\n",
              "        text-align: right;\n",
              "    }\n",
              "</style>\n",
              "<table border=\"1\" class=\"dataframe\">\n",
              "  <thead>\n",
              "    <tr style=\"text-align: right;\">\n",
              "      <th></th>\n",
              "      <th>features</th>\n",
              "      <th>score</th>\n",
              "    </tr>\n",
              "    <tr>\n",
              "      <th>argumentative</th>\n",
              "      <th></th>\n",
              "      <th></th>\n",
              "    </tr>\n",
              "  </thead>\n",
              "  <tbody>\n",
              "    <tr>\n",
              "      <th>False</th>\n",
              "      <td>num: 3</td>\n",
              "      <td>0.003644</td>\n",
              "    </tr>\n",
              "    <tr>\n",
              "      <th>False</th>\n",
              "      <td>num: 2</td>\n",
              "      <td>0.003224</td>\n",
              "    </tr>\n",
              "    <tr>\n",
              "      <th>False</th>\n",
              "      <td>num: 1</td>\n",
              "      <td>0.002023</td>\n",
              "    </tr>\n",
              "    <tr>\n",
              "      <th>False</th>\n",
              "      <td>noun: 0</td>\n",
              "      <td>0.001744</td>\n",
              "    </tr>\n",
              "    <tr>\n",
              "      <th>False</th>\n",
              "      <td>num: 0</td>\n",
              "      <td>0.001658</td>\n",
              "    </tr>\n",
              "    <tr>\n",
              "      <th>False</th>\n",
              "      <td>num: 4</td>\n",
              "      <td>0.001235</td>\n",
              "    </tr>\n",
              "    <tr>\n",
              "      <th>False</th>\n",
              "      <td>verb: 0</td>\n",
              "      <td>0.001233</td>\n",
              "    </tr>\n",
              "    <tr>\n",
              "      <th>False</th>\n",
              "      <td>adj: 0</td>\n",
              "      <td>0.001193</td>\n",
              "    </tr>\n",
              "    <tr>\n",
              "      <th>False</th>\n",
              "      <td>num: 5</td>\n",
              "      <td>0.001015</td>\n",
              "    </tr>\n",
              "    <tr>\n",
              "      <th>False</th>\n",
              "      <td>adv: 0</td>\n",
              "      <td>0.000833</td>\n",
              "    </tr>\n",
              "  </tbody>\n",
              "</table>\n",
              "</div>"
            ],
            "text/plain": [
              "              features     score\n",
              "argumentative                   \n",
              "False           num: 3  0.003644\n",
              "False           num: 2  0.003224\n",
              "False           num: 1  0.002023\n",
              "False          noun: 0  0.001744\n",
              "False           num: 0  0.001658\n",
              "False           num: 4  0.001235\n",
              "False          verb: 0  0.001233\n",
              "False           adj: 0  0.001193\n",
              "False           num: 5  0.001015\n",
              "False           adv: 0  0.000833"
            ]
          },
          "metadata": {},
          "execution_count": 55
        }
      ]
    },
    {
      "cell_type": "markdown",
      "metadata": {
        "id": "a2q54EWlILlk"
      },
      "source": [
        "## **bigram POS dataframe**"
      ]
    },
    {
      "cell_type": "code",
      "metadata": {
        "id": "vzyFRQOpdxoF",
        "colab": {
          "base_uri": "https://localhost:8080/"
        },
        "outputId": "d701397c-8a33-455b-dc73-774aeae4ad60"
      },
      "source": [
        "ground_labels, global_explainability_tabular, labels, _, _, policy=stc_procedure_tabular(bigram_POS,true_labels)"
      ],
      "execution_count": null,
      "outputs": [
        {
          "output_type": "stream",
          "name": "stdout",
          "text": [
            ""
          ]
        }
      ]
    },
    {
      "cell_type": "code",
      "metadata": {
        "id": "hJL-kKUgzcrJ"
      },
      "source": [
        "accuracy=accuracy_score(ground_labels, labels)\n",
        "f1_score_value=f1_score(y_true=ground_labels, y_pred=labels, pos_label=\"True\")\n",
        "precision=precision_score(ground_labels, labels, pos_label=\"True\")\n",
        "recall=recall_score(ground_labels, labels, pos_label=\"True\")"
      ],
      "execution_count": null,
      "outputs": []
    },
    {
      "cell_type": "code",
      "metadata": {
        "id": "RVjedp_YzcrK"
      },
      "source": [
        "accuracy_scores.append(accuracy)\n",
        "f1_scores.append(f1_score_value)\n",
        "precision_scores.append(precision)\n",
        "recall_scores.append(recall)"
      ],
      "execution_count": null,
      "outputs": []
    },
    {
      "cell_type": "code",
      "metadata": {
        "id": "RVnBg4bozcrK",
        "colab": {
          "base_uri": "https://localhost:8080/"
        },
        "outputId": "2da4e8fe-216c-4b13-c391-f4ca3c0689b9"
      },
      "source": [
        "print('accuracy: {}'.format(accuracy))\n",
        "print('f1 score: {}'.format(f1_score_value))\n",
        "print('precision: {}'.format(precision))\n",
        "print('recall: {}'.format(recall))"
      ],
      "execution_count": null,
      "outputs": [
        {
          "output_type": "stream",
          "name": "stdout",
          "text": [
            "accuracy: 0.6234676007005254\n",
            "f1 score: 0.36950146627565983\n",
            "precision: 0.3181818181818182\n",
            "recall: 0.4405594405594406\n"
          ]
        }
      ]
    },
    {
      "cell_type": "code",
      "metadata": {
        "id": "FbDQRTRddxoG",
        "colab": {
          "base_uri": "https://localhost:8080/",
          "height": 542
        },
        "outputId": "b4b4a80c-3f2e-445a-b6af-314c3fbb43d3"
      },
      "source": [
        "global_explainability_tabular.loc[\"True\"][:15]"
      ],
      "execution_count": null,
      "outputs": [
        {
          "output_type": "execute_result",
          "data": {
            "text/html": [
              "<div>\n",
              "<style scoped>\n",
              "    .dataframe tbody tr th:only-of-type {\n",
              "        vertical-align: middle;\n",
              "    }\n",
              "\n",
              "    .dataframe tbody tr th {\n",
              "        vertical-align: top;\n",
              "    }\n",
              "\n",
              "    .dataframe thead th {\n",
              "        text-align: right;\n",
              "    }\n",
              "</style>\n",
              "<table border=\"1\" class=\"dataframe\">\n",
              "  <thead>\n",
              "    <tr style=\"text-align: right;\">\n",
              "      <th></th>\n",
              "      <th>features</th>\n",
              "      <th>score</th>\n",
              "    </tr>\n",
              "    <tr>\n",
              "      <th>argumentative</th>\n",
              "      <th></th>\n",
              "      <th></th>\n",
              "    </tr>\n",
              "  </thead>\n",
              "  <tbody>\n",
              "    <tr>\n",
              "      <th>True</th>\n",
              "      <td>nns vbp: 1</td>\n",
              "      <td>0.000326</td>\n",
              "    </tr>\n",
              "    <tr>\n",
              "      <th>True</th>\n",
              "      <td>nns vbz: 1</td>\n",
              "      <td>0.000247</td>\n",
              "    </tr>\n",
              "    <tr>\n",
              "      <th>True</th>\n",
              "      <td>rb vb: 1</td>\n",
              "      <td>0.000206</td>\n",
              "    </tr>\n",
              "    <tr>\n",
              "      <th>True</th>\n",
              "      <td>nns vbp: 2</td>\n",
              "      <td>0.000160</td>\n",
              "    </tr>\n",
              "    <tr>\n",
              "      <th>True</th>\n",
              "      <td>nns vbp: 0</td>\n",
              "      <td>0.000097</td>\n",
              "    </tr>\n",
              "    <tr>\n",
              "      <th>True</th>\n",
              "      <td>nns to: 1</td>\n",
              "      <td>0.000071</td>\n",
              "    </tr>\n",
              "    <tr>\n",
              "      <th>True</th>\n",
              "      <td>nns vbz: 2</td>\n",
              "      <td>0.000063</td>\n",
              "    </tr>\n",
              "    <tr>\n",
              "      <th>True</th>\n",
              "      <td>'' ): 1</td>\n",
              "      <td>0.000063</td>\n",
              "    </tr>\n",
              "    <tr>\n",
              "      <th>True</th>\n",
              "      <td>( dt: 1</td>\n",
              "      <td>0.000054</td>\n",
              "    </tr>\n",
              "    <tr>\n",
              "      <th>True</th>\n",
              "      <td>nns vb: 1</td>\n",
              "      <td>0.000050</td>\n",
              "    </tr>\n",
              "    <tr>\n",
              "      <th>True</th>\n",
              "      <td>rb vbd: 1</td>\n",
              "      <td>0.000050</td>\n",
              "    </tr>\n",
              "    <tr>\n",
              "      <th>True</th>\n",
              "      <td>rb vbz: 1</td>\n",
              "      <td>0.000045</td>\n",
              "    </tr>\n",
              "    <tr>\n",
              "      <th>True</th>\n",
              "      <td>( dt: 2</td>\n",
              "      <td>0.000031</td>\n",
              "    </tr>\n",
              "    <tr>\n",
              "      <th>True</th>\n",
              "      <td>'' ): 2</td>\n",
              "      <td>0.000031</td>\n",
              "    </tr>\n",
              "    <tr>\n",
              "      <th>True</th>\n",
              "      <td>nns vbp: 5</td>\n",
              "      <td>0.000031</td>\n",
              "    </tr>\n",
              "  </tbody>\n",
              "</table>\n",
              "</div>"
            ],
            "text/plain": [
              "                 features     score\n",
              "argumentative                      \n",
              "True           nns vbp: 1  0.000326\n",
              "True           nns vbz: 1  0.000247\n",
              "True             rb vb: 1  0.000206\n",
              "True           nns vbp: 2  0.000160\n",
              "True           nns vbp: 0  0.000097\n",
              "True            nns to: 1  0.000071\n",
              "True           nns vbz: 2  0.000063\n",
              "True              '' ): 1  0.000063\n",
              "True              ( dt: 1  0.000054\n",
              "True            nns vb: 1  0.000050\n",
              "True            rb vbd: 1  0.000050\n",
              "True            rb vbz: 1  0.000045\n",
              "True              ( dt: 2  0.000031\n",
              "True              '' ): 2  0.000031\n",
              "True           nns vbp: 5  0.000031"
            ]
          },
          "metadata": {},
          "execution_count": 60
        }
      ]
    },
    {
      "cell_type": "code",
      "metadata": {
        "id": "N_p51tTDdxoG",
        "colab": {
          "base_uri": "https://localhost:8080/",
          "height": 388
        },
        "outputId": "5ea6baa4-3214-47c7-cb4a-95d38b672a20"
      },
      "source": [
        "global_explainability_tabular.loc[\"False\"][:10]"
      ],
      "execution_count": null,
      "outputs": [
        {
          "output_type": "execute_result",
          "data": {
            "text/html": [
              "<div>\n",
              "<style scoped>\n",
              "    .dataframe tbody tr th:only-of-type {\n",
              "        vertical-align: middle;\n",
              "    }\n",
              "\n",
              "    .dataframe tbody tr th {\n",
              "        vertical-align: top;\n",
              "    }\n",
              "\n",
              "    .dataframe thead th {\n",
              "        text-align: right;\n",
              "    }\n",
              "</style>\n",
              "<table border=\"1\" class=\"dataframe\">\n",
              "  <thead>\n",
              "    <tr style=\"text-align: right;\">\n",
              "      <th></th>\n",
              "      <th>features</th>\n",
              "      <th>score</th>\n",
              "    </tr>\n",
              "    <tr>\n",
              "      <th>argumentative</th>\n",
              "      <th></th>\n",
              "      <th></th>\n",
              "    </tr>\n",
              "  </thead>\n",
              "  <tbody>\n",
              "    <tr>\n",
              "      <th>False</th>\n",
              "      <td>nns vbp: 1</td>\n",
              "      <td>0.000178</td>\n",
              "    </tr>\n",
              "    <tr>\n",
              "      <th>False</th>\n",
              "      <td>$ cd: 1</td>\n",
              "      <td>0.000138</td>\n",
              "    </tr>\n",
              "    <tr>\n",
              "      <th>False</th>\n",
              "      <td>nns vbp: 0</td>\n",
              "      <td>0.000119</td>\n",
              "    </tr>\n",
              "    <tr>\n",
              "      <th>False</th>\n",
              "      <td>rb vb: 1</td>\n",
              "      <td>0.000108</td>\n",
              "    </tr>\n",
              "    <tr>\n",
              "      <th>False</th>\n",
              "      <td>rb vbd: 1</td>\n",
              "      <td>0.000108</td>\n",
              "    </tr>\n",
              "    <tr>\n",
              "      <th>False</th>\n",
              "      <td>rb vbd: 2</td>\n",
              "      <td>0.000097</td>\n",
              "    </tr>\n",
              "    <tr>\n",
              "      <th>False</th>\n",
              "      <td>nns vbz: 1</td>\n",
              "      <td>0.000085</td>\n",
              "    </tr>\n",
              "    <tr>\n",
              "      <th>False</th>\n",
              "      <td>'' dt: 1</td>\n",
              "      <td>0.000084</td>\n",
              "    </tr>\n",
              "    <tr>\n",
              "      <th>False</th>\n",
              "      <td>'' nn: 1</td>\n",
              "      <td>0.000057</td>\n",
              "    </tr>\n",
              "    <tr>\n",
              "      <th>False</th>\n",
              "      <td>nns vbp: 2</td>\n",
              "      <td>0.000056</td>\n",
              "    </tr>\n",
              "  </tbody>\n",
              "</table>\n",
              "</div>"
            ],
            "text/plain": [
              "                 features     score\n",
              "argumentative                      \n",
              "False          nns vbp: 1  0.000178\n",
              "False             $ cd: 1  0.000138\n",
              "False          nns vbp: 0  0.000119\n",
              "False            rb vb: 1  0.000108\n",
              "False           rb vbd: 1  0.000108\n",
              "False           rb vbd: 2  0.000097\n",
              "False          nns vbz: 1  0.000085\n",
              "False            '' dt: 1  0.000084\n",
              "False            '' nn: 1  0.000057\n",
              "False          nns vbp: 2  0.000056"
            ]
          },
          "metadata": {},
          "execution_count": 61
        }
      ]
    },
    {
      "cell_type": "markdown",
      "metadata": {
        "id": "axXeMKBAIUEF"
      },
      "source": [
        "## **Bigram simple POS dataframe**"
      ]
    },
    {
      "cell_type": "code",
      "metadata": {
        "id": "NjvkFAGCd5Px",
        "colab": {
          "base_uri": "https://localhost:8080/"
        },
        "outputId": "cfcf3d59-b7f0-4399-fae6-f7a47c145346"
      },
      "source": [
        "ground_labels, _, labels, _, _, policy=stc_procedure(bigram_simple_POS,true_labels)"
      ],
      "execution_count": null,
      "outputs": [
        {
          "output_type": "stream",
          "name": "stdout",
          "text": [
            ""
          ]
        }
      ]
    },
    {
      "cell_type": "code",
      "metadata": {
        "id": "W-WETpSAd5Py",
        "colab": {
          "base_uri": "https://localhost:8080/"
        },
        "outputId": "207ab57e-380a-4bbf-c02c-7e9f7c5cdb93"
      },
      "source": [
        "_, global_explainability_tabular, _, _, _, _=stc_procedure_tabular(bigram_simple_POS,true_labels)"
      ],
      "execution_count": null,
      "outputs": [
        {
          "output_type": "stream",
          "name": "stdout",
          "text": [
            ""
          ]
        }
      ]
    },
    {
      "cell_type": "code",
      "metadata": {
        "id": "hu0ECimAze0J"
      },
      "source": [
        "accuracy=accuracy_score(ground_labels, labels)\n",
        "f1_score_value=f1_score(y_true=ground_labels, y_pred=labels, pos_label=\"True\")\n",
        "precision=precision_score(ground_labels, labels, pos_label=\"True\")\n",
        "recall=recall_score(ground_labels, labels, pos_label=\"True\")"
      ],
      "execution_count": null,
      "outputs": []
    },
    {
      "cell_type": "code",
      "metadata": {
        "id": "0kbBFw3Qze0K"
      },
      "source": [
        "accuracy_scores.append(accuracy)\n",
        "f1_scores.append(f1_score_value)\n",
        "precision_scores.append(precision)\n",
        "recall_scores.append(recall)"
      ],
      "execution_count": null,
      "outputs": []
    },
    {
      "cell_type": "code",
      "metadata": {
        "id": "JXxewMMHze0K",
        "colab": {
          "base_uri": "https://localhost:8080/"
        },
        "outputId": "5859883b-b227-4e2c-8ced-5f1d924ad963"
      },
      "source": [
        "print('accuracy: {}'.format(accuracy))\n",
        "print('f1 score: {}'.format(f1_score_value))\n",
        "print('precision: {}'.format(precision))\n",
        "print('recall: {}'.format(recall))"
      ],
      "execution_count": null,
      "outputs": [
        {
          "output_type": "stream",
          "name": "stdout",
          "text": [
            "accuracy: 0.6357267950963222\n",
            "f1 score: 0.40229885057471265\n",
            "precision: 0.34146341463414637\n",
            "recall: 0.48951048951048953\n"
          ]
        }
      ]
    },
    {
      "cell_type": "code",
      "metadata": {
        "id": "acxJFfyFd5P1",
        "colab": {
          "base_uri": "https://localhost:8080/"
        },
        "outputId": "c8b740ef-10f7-4ab1-9883-14594df847c7"
      },
      "source": [
        "policy"
      ],
      "execution_count": null,
      "outputs": [
        {
          "output_type": "execute_result",
          "data": {
            "text/plain": [
              "[['d9',\n",
              "  'd42',\n",
              "  'd30',\n",
              "  'd4',\n",
              "  'd36',\n",
              "  'd44',\n",
              "  'd5',\n",
              "  'd37',\n",
              "  'd39',\n",
              "  'd35',\n",
              "  'd41',\n",
              "  'd11',\n",
              "  'd23',\n",
              "  'd32',\n",
              "  'd22',\n",
              "  'd33',\n",
              "  'd28',\n",
              "  'd3',\n",
              "  'd38',\n",
              "  'd7',\n",
              "  'd1',\n",
              "  'd8'],\n",
              " ['d42',\n",
              "  'd30',\n",
              "  'd4',\n",
              "  'd36',\n",
              "  'd44',\n",
              "  'd5',\n",
              "  'd37',\n",
              "  'd39',\n",
              "  'd35',\n",
              "  'd41',\n",
              "  'd11',\n",
              "  'd23',\n",
              "  'd32',\n",
              "  'd22',\n",
              "  'd33',\n",
              "  'd28',\n",
              "  'd3',\n",
              "  'd38',\n",
              "  'd7',\n",
              "  'd1',\n",
              "  'd8'],\n",
              " ['d30',\n",
              "  'd4',\n",
              "  'd36',\n",
              "  'd44',\n",
              "  'd5',\n",
              "  'd37',\n",
              "  'd39',\n",
              "  'd35',\n",
              "  'd41',\n",
              "  'd11',\n",
              "  'd23',\n",
              "  'd32',\n",
              "  'd22',\n",
              "  'd33',\n",
              "  'd28',\n",
              "  'd3',\n",
              "  'd38',\n",
              "  'd7',\n",
              "  'd1',\n",
              "  'd8'],\n",
              " ['d4',\n",
              "  'd36',\n",
              "  'd44',\n",
              "  'd5',\n",
              "  'd37',\n",
              "  'd39',\n",
              "  'd35',\n",
              "  'd41',\n",
              "  'd11',\n",
              "  'd23',\n",
              "  'd32',\n",
              "  'd22',\n",
              "  'd33',\n",
              "  'd28',\n",
              "  'd3',\n",
              "  'd38',\n",
              "  'd7',\n",
              "  'd1',\n",
              "  'd8'],\n",
              " ['d36',\n",
              "  'd44',\n",
              "  'd5',\n",
              "  'd37',\n",
              "  'd39',\n",
              "  'd35',\n",
              "  'd41',\n",
              "  'd11',\n",
              "  'd23',\n",
              "  'd32',\n",
              "  'd22',\n",
              "  'd33',\n",
              "  'd28',\n",
              "  'd3',\n",
              "  'd38',\n",
              "  'd7',\n",
              "  'd1',\n",
              "  'd8'],\n",
              " ['d44',\n",
              "  'd5',\n",
              "  'd37',\n",
              "  'd39',\n",
              "  'd35',\n",
              "  'd41',\n",
              "  'd11',\n",
              "  'd23',\n",
              "  'd32',\n",
              "  'd22',\n",
              "  'd33',\n",
              "  'd28',\n",
              "  'd3',\n",
              "  'd38',\n",
              "  'd7',\n",
              "  'd1',\n",
              "  'd8'],\n",
              " ['d5',\n",
              "  'd37',\n",
              "  'd39',\n",
              "  'd35',\n",
              "  'd41',\n",
              "  'd11',\n",
              "  'd23',\n",
              "  'd32',\n",
              "  'd22',\n",
              "  'd33',\n",
              "  'd28',\n",
              "  'd3',\n",
              "  'd38',\n",
              "  'd7',\n",
              "  'd1',\n",
              "  'd8'],\n",
              " ['d37',\n",
              "  'd39',\n",
              "  'd35',\n",
              "  'd41',\n",
              "  'd11',\n",
              "  'd23',\n",
              "  'd32',\n",
              "  'd22',\n",
              "  'd33',\n",
              "  'd28',\n",
              "  'd3',\n",
              "  'd38',\n",
              "  'd7',\n",
              "  'd1',\n",
              "  'd8'],\n",
              " ['d39',\n",
              "  'd35',\n",
              "  'd41',\n",
              "  'd11',\n",
              "  'd23',\n",
              "  'd32',\n",
              "  'd22',\n",
              "  'd33',\n",
              "  'd28',\n",
              "  'd3',\n",
              "  'd38',\n",
              "  'd7',\n",
              "  'd1',\n",
              "  'd8'],\n",
              " ['d35',\n",
              "  'd41',\n",
              "  'd11',\n",
              "  'd23',\n",
              "  'd32',\n",
              "  'd22',\n",
              "  'd33',\n",
              "  'd28',\n",
              "  'd3',\n",
              "  'd38',\n",
              "  'd7',\n",
              "  'd1',\n",
              "  'd8'],\n",
              " ['d41',\n",
              "  'd11',\n",
              "  'd23',\n",
              "  'd32',\n",
              "  'd22',\n",
              "  'd33',\n",
              "  'd28',\n",
              "  'd3',\n",
              "  'd38',\n",
              "  'd7',\n",
              "  'd1',\n",
              "  'd8'],\n",
              " ['d11', 'd23', 'd32', 'd22', 'd33', 'd28', 'd3', 'd38', 'd7', 'd1', 'd8'],\n",
              " ['d23', 'd32', 'd22', 'd33', 'd28', 'd3', 'd38', 'd7', 'd1', 'd8'],\n",
              " ['d32', 'd22', 'd33', 'd28', 'd3', 'd38', 'd7', 'd1', 'd8'],\n",
              " ['d22', 'd33', 'd28', 'd3', 'd38', 'd7', 'd1', 'd8'],\n",
              " ['d33', 'd28', 'd3', 'd38', 'd7', 'd1', 'd8'],\n",
              " ['d28', 'd3', 'd38', 'd7', 'd1', 'd8'],\n",
              " ['d3', 'd38', 'd7', 'd1', 'd8'],\n",
              " ['d38', 'd7', 'd1', 'd8'],\n",
              " ['d7', 'd1', 'd8'],\n",
              " ['d1', 'd8'],\n",
              " ['d8'],\n",
              " []]"
            ]
          },
          "metadata": {},
          "execution_count": 67
        }
      ]
    },
    {
      "cell_type": "code",
      "metadata": {
        "id": "pM5sUFpGjsJp",
        "colab": {
          "base_uri": "https://localhost:8080/"
        },
        "outputId": "a0168adf-fc1e-42f7-cb5a-487efccb5216"
      },
      "source": [
        "policy_set=[]\n",
        "\n",
        "for pol in policy:\n",
        "  policy_set+=pol\n",
        "\n",
        "policy_set=list(set(policy_set))\n",
        "\n",
        "column=bigram_simple_POS.columns\n",
        "drop_features=[]\n",
        "for i in range(len(column)-1):\n",
        "  if not 'd{}'.format(i) in policy_set:\n",
        "    drop_features.append(column[i])\n",
        "\n",
        "drop_features"
      ],
      "execution_count": null,
      "outputs": [
        {
          "output_type": "execute_result",
          "data": {
            "text/plain": [
              "['num conj',\n",
              " 'conj adp',\n",
              " '. adp',\n",
              " 'adv adv',\n",
              " 'det conj',\n",
              " 'det det',\n",
              " 'conj num',\n",
              " 'conj adv',\n",
              " 'adj verb',\n",
              " 'adp prt',\n",
              " 'conj .',\n",
              " 'det adv',\n",
              " '. conj',\n",
              " 'adj num',\n",
              " 'adj pron',\n",
              " '. .',\n",
              " '. adv',\n",
              " 'conj verb',\n",
              " 'adp .',\n",
              " 'conj adj',\n",
              " 'det adp',\n",
              " 'det .',\n",
              " 'adv adj',\n",
              " 'adv pron',\n",
              " '. prt',\n",
              " 'conj pron',\n",
              " 'adv conj',\n",
              " '. x']"
            ]
          },
          "metadata": {},
          "execution_count": 68
        }
      ]
    },
    {
      "cell_type": "code",
      "metadata": {
        "id": "1I2xz3pVjsJq",
        "colab": {
          "base_uri": "https://localhost:8080/"
        },
        "outputId": "86ab40aa-bf84-4e6c-94bf-93b684716a9e"
      },
      "source": [
        "len(drop_features)"
      ],
      "execution_count": null,
      "outputs": [
        {
          "output_type": "execute_result",
          "data": {
            "text/plain": [
              "28"
            ]
          },
          "metadata": {},
          "execution_count": 69
        }
      ]
    },
    {
      "cell_type": "code",
      "metadata": {
        "id": "W-Esp-K62oDo"
      },
      "source": [
        "# Save features to drop into a text file.\n",
        "\n",
        "f = open(\"Debater_drop_claim_premise_bigram_simple_POS.txt\", \"a\")\n",
        "for feature in drop_features:\n",
        "  f.write(\"{}-\".format(feature))\n",
        "f.close()"
      ],
      "execution_count": null,
      "outputs": []
    },
    {
      "cell_type": "code",
      "metadata": {
        "id": "dZ7_12IHjsJr"
      },
      "source": [
        "if len(policy_set)>1:\n",
        "  bigram_simple_POS=bigram_simple_POS.drop(columns=drop_features)"
      ],
      "execution_count": null,
      "outputs": []
    },
    {
      "cell_type": "code",
      "metadata": {
        "id": "gjk1eMsJd5P1",
        "colab": {
          "base_uri": "https://localhost:8080/",
          "height": 542
        },
        "outputId": "5c91f709-9dc0-4c55-a76e-728af25ce62b"
      },
      "source": [
        "global_explainability_tabular.loc[\"True\"][:15]"
      ],
      "execution_count": null,
      "outputs": [
        {
          "output_type": "execute_result",
          "data": {
            "text/html": [
              "<div>\n",
              "<style scoped>\n",
              "    .dataframe tbody tr th:only-of-type {\n",
              "        vertical-align: middle;\n",
              "    }\n",
              "\n",
              "    .dataframe tbody tr th {\n",
              "        vertical-align: top;\n",
              "    }\n",
              "\n",
              "    .dataframe thead th {\n",
              "        text-align: right;\n",
              "    }\n",
              "</style>\n",
              "<table border=\"1\" class=\"dataframe\">\n",
              "  <thead>\n",
              "    <tr style=\"text-align: right;\">\n",
              "      <th></th>\n",
              "      <th>features</th>\n",
              "      <th>score</th>\n",
              "    </tr>\n",
              "    <tr>\n",
              "      <th>argumentative</th>\n",
              "      <th></th>\n",
              "      <th></th>\n",
              "    </tr>\n",
              "  </thead>\n",
              "  <tbody>\n",
              "    <tr>\n",
              "      <th>True</th>\n",
              "      <td>adp conj: 1</td>\n",
              "      <td>0.000202</td>\n",
              "    </tr>\n",
              "    <tr>\n",
              "      <th>True</th>\n",
              "      <td>adv verb: 2</td>\n",
              "      <td>0.000181</td>\n",
              "    </tr>\n",
              "    <tr>\n",
              "      <th>True</th>\n",
              "      <td>conj adp: 1</td>\n",
              "      <td>0.000141</td>\n",
              "    </tr>\n",
              "    <tr>\n",
              "      <th>True</th>\n",
              "      <td>. num: 1</td>\n",
              "      <td>0.000126</td>\n",
              "    </tr>\n",
              "    <tr>\n",
              "      <th>True</th>\n",
              "      <td>noun verb: 0</td>\n",
              "      <td>0.000115</td>\n",
              "    </tr>\n",
              "    <tr>\n",
              "      <th>True</th>\n",
              "      <td>adv adj: 1</td>\n",
              "      <td>0.000106</td>\n",
              "    </tr>\n",
              "    <tr>\n",
              "      <th>True</th>\n",
              "      <td>. adv: 3</td>\n",
              "      <td>0.000094</td>\n",
              "    </tr>\n",
              "    <tr>\n",
              "      <th>True</th>\n",
              "      <td>adj num: 1</td>\n",
              "      <td>0.000083</td>\n",
              "    </tr>\n",
              "    <tr>\n",
              "      <th>True</th>\n",
              "      <td>adj noun: 0</td>\n",
              "      <td>0.000081</td>\n",
              "    </tr>\n",
              "    <tr>\n",
              "      <th>True</th>\n",
              "      <td>. verb: 1</td>\n",
              "      <td>0.000076</td>\n",
              "    </tr>\n",
              "    <tr>\n",
              "      <th>True</th>\n",
              "      <td>adj prt: 1</td>\n",
              "      <td>0.000075</td>\n",
              "    </tr>\n",
              "    <tr>\n",
              "      <th>True</th>\n",
              "      <td>conj num: 1</td>\n",
              "      <td>0.000059</td>\n",
              "    </tr>\n",
              "    <tr>\n",
              "      <th>True</th>\n",
              "      <td>adj adp: 1</td>\n",
              "      <td>0.000056</td>\n",
              "    </tr>\n",
              "    <tr>\n",
              "      <th>True</th>\n",
              "      <td>adv adj: 2</td>\n",
              "      <td>0.000054</td>\n",
              "    </tr>\n",
              "    <tr>\n",
              "      <th>True</th>\n",
              "      <td>det adv: 1</td>\n",
              "      <td>0.000053</td>\n",
              "    </tr>\n",
              "  </tbody>\n",
              "</table>\n",
              "</div>"
            ],
            "text/plain": [
              "                   features     score\n",
              "argumentative                        \n",
              "True            adp conj: 1  0.000202\n",
              "True            adv verb: 2  0.000181\n",
              "True            conj adp: 1  0.000141\n",
              "True               . num: 1  0.000126\n",
              "True           noun verb: 0  0.000115\n",
              "True             adv adj: 1  0.000106\n",
              "True               . adv: 3  0.000094\n",
              "True             adj num: 1  0.000083\n",
              "True            adj noun: 0  0.000081\n",
              "True              . verb: 1  0.000076\n",
              "True             adj prt: 1  0.000075\n",
              "True            conj num: 1  0.000059\n",
              "True             adj adp: 1  0.000056\n",
              "True             adv adj: 2  0.000054\n",
              "True             det adv: 1  0.000053"
            ]
          },
          "metadata": {},
          "execution_count": 72
        }
      ]
    },
    {
      "cell_type": "code",
      "metadata": {
        "id": "olcs9t-ld5P2",
        "colab": {
          "base_uri": "https://localhost:8080/",
          "height": 388
        },
        "outputId": "5f47970c-ec25-41e8-cb97-6e48996eda36"
      },
      "source": [
        "global_explainability_tabular.loc[\"False\"][:10]"
      ],
      "execution_count": null,
      "outputs": [
        {
          "output_type": "execute_result",
          "data": {
            "text/html": [
              "<div>\n",
              "<style scoped>\n",
              "    .dataframe tbody tr th:only-of-type {\n",
              "        vertical-align: middle;\n",
              "    }\n",
              "\n",
              "    .dataframe tbody tr th {\n",
              "        vertical-align: top;\n",
              "    }\n",
              "\n",
              "    .dataframe thead th {\n",
              "        text-align: right;\n",
              "    }\n",
              "</style>\n",
              "<table border=\"1\" class=\"dataframe\">\n",
              "  <thead>\n",
              "    <tr style=\"text-align: right;\">\n",
              "      <th></th>\n",
              "      <th>features</th>\n",
              "      <th>score</th>\n",
              "    </tr>\n",
              "    <tr>\n",
              "      <th>argumentative</th>\n",
              "      <th></th>\n",
              "      <th></th>\n",
              "    </tr>\n",
              "  </thead>\n",
              "  <tbody>\n",
              "    <tr>\n",
              "      <th>False</th>\n",
              "      <td>. num: 1</td>\n",
              "      <td>0.000598</td>\n",
              "    </tr>\n",
              "    <tr>\n",
              "      <th>False</th>\n",
              "      <td>adj num: 1</td>\n",
              "      <td>0.000450</td>\n",
              "    </tr>\n",
              "    <tr>\n",
              "      <th>False</th>\n",
              "      <td>conj num: 1</td>\n",
              "      <td>0.000322</td>\n",
              "    </tr>\n",
              "    <tr>\n",
              "      <th>False</th>\n",
              "      <td>num conj: 1</td>\n",
              "      <td>0.000277</td>\n",
              "    </tr>\n",
              "    <tr>\n",
              "      <th>False</th>\n",
              "      <td>noun verb: 0</td>\n",
              "      <td>0.000194</td>\n",
              "    </tr>\n",
              "    <tr>\n",
              "      <th>False</th>\n",
              "      <td>. num: 2</td>\n",
              "      <td>0.000168</td>\n",
              "    </tr>\n",
              "    <tr>\n",
              "      <th>False</th>\n",
              "      <td>adj noun: 0</td>\n",
              "      <td>0.000128</td>\n",
              "    </tr>\n",
              "    <tr>\n",
              "      <th>False</th>\n",
              "      <td>. verb: 1</td>\n",
              "      <td>0.000110</td>\n",
              "    </tr>\n",
              "    <tr>\n",
              "      <th>False</th>\n",
              "      <td>. det: 2</td>\n",
              "      <td>0.000095</td>\n",
              "    </tr>\n",
              "    <tr>\n",
              "      <th>False</th>\n",
              "      <td>adj num: 2</td>\n",
              "      <td>0.000085</td>\n",
              "    </tr>\n",
              "  </tbody>\n",
              "</table>\n",
              "</div>"
            ],
            "text/plain": [
              "                   features     score\n",
              "argumentative                        \n",
              "False              . num: 1  0.000598\n",
              "False            adj num: 1  0.000450\n",
              "False           conj num: 1  0.000322\n",
              "False           num conj: 1  0.000277\n",
              "False          noun verb: 0  0.000194\n",
              "False              . num: 2  0.000168\n",
              "False           adj noun: 0  0.000128\n",
              "False             . verb: 1  0.000110\n",
              "False              . det: 2  0.000095\n",
              "False            adj num: 2  0.000085"
            ]
          },
          "metadata": {},
          "execution_count": 73
        }
      ]
    },
    {
      "cell_type": "markdown",
      "metadata": {
        "id": "MGyHotXeIlnJ"
      },
      "source": [
        "## **Dependency BOW dataframe**"
      ]
    },
    {
      "cell_type": "code",
      "metadata": {
        "id": "bcxPubvMd--G",
        "colab": {
          "base_uri": "https://localhost:8080/"
        },
        "outputId": "d08ed26f-bac4-4556-ebe8-6212a9a9d47a"
      },
      "source": [
        "ground_labels, _, labels, _, _, policy=stc_procedure(dependency,true_labels)"
      ],
      "execution_count": null,
      "outputs": [
        {
          "output_type": "stream",
          "name": "stdout",
          "text": [
            ""
          ]
        }
      ]
    },
    {
      "cell_type": "code",
      "metadata": {
        "id": "7O1tkVoqxNEl",
        "colab": {
          "base_uri": "https://localhost:8080/"
        },
        "outputId": "37548974-13d8-4095-aa34-d43356ab8ba2"
      },
      "source": [
        "_, global_explainability_tabular, _, _, _, _=stc_procedure_tabular(dependency,true_labels)"
      ],
      "execution_count": null,
      "outputs": [
        {
          "output_type": "stream",
          "name": "stdout",
          "text": [
            ""
          ]
        }
      ]
    },
    {
      "cell_type": "code",
      "metadata": {
        "id": "ahDQKMPqzhZM"
      },
      "source": [
        "accuracy=accuracy_score(ground_labels, labels)\n",
        "f1_score_value=f1_score(y_true=ground_labels, y_pred=labels, pos_label=\"True\")\n",
        "precision=precision_score(ground_labels, labels, pos_label=\"True\")\n",
        "recall=recall_score(ground_labels, labels, pos_label=\"True\")"
      ],
      "execution_count": null,
      "outputs": []
    },
    {
      "cell_type": "code",
      "metadata": {
        "id": "XV9Ywy6tzhZN"
      },
      "source": [
        "accuracy_scores.append(accuracy)\n",
        "f1_scores.append(f1_score_value)\n",
        "precision_scores.append(precision)\n",
        "recall_scores.append(recall)"
      ],
      "execution_count": null,
      "outputs": []
    },
    {
      "cell_type": "code",
      "metadata": {
        "id": "uLO4863mzhZN",
        "colab": {
          "base_uri": "https://localhost:8080/"
        },
        "outputId": "20b2511e-400d-41b8-9f2d-1d1f16222ef7"
      },
      "source": [
        "print('accuracy: {}'.format(accuracy))\n",
        "print('f1 score: {}'.format(f1_score_value))\n",
        "print('precision: {}'.format(precision))\n",
        "print('recall: {}'.format(recall))"
      ],
      "execution_count": null,
      "outputs": [
        {
          "output_type": "stream",
          "name": "stdout",
          "text": [
            "accuracy: 0.626970227670753\n",
            "f1 score: 0.4132231404958677\n",
            "precision: 0.3409090909090909\n",
            "recall: 0.5244755244755245\n"
          ]
        }
      ]
    },
    {
      "cell_type": "code",
      "metadata": {
        "id": "kIVgdz2nd--J",
        "colab": {
          "base_uri": "https://localhost:8080/"
        },
        "outputId": "a4278f3c-6d03-4eae-eb57-e7b97934816f"
      },
      "source": [
        "policy"
      ],
      "execution_count": null,
      "outputs": [
        {
          "output_type": "execute_result",
          "data": {
            "text/plain": [
              "[['d0', 'd15', 'd27', 'd33', 'd37', 'd21', 'd12', 'd10', 'd11'],\n",
              " ['d15', 'd27', 'd33', 'd37', 'd21', 'd12', 'd10', 'd11'],\n",
              " ['d27', 'd33', 'd37', 'd21', 'd12', 'd10', 'd11'],\n",
              " ['d33', 'd37', 'd21', 'd12', 'd10', 'd11'],\n",
              " ['d37', 'd21', 'd12', 'd10', 'd11'],\n",
              " ['d21', 'd12', 'd10', 'd11'],\n",
              " ['d12', 'd10', 'd11'],\n",
              " ['d10', 'd11'],\n",
              " ['d11'],\n",
              " []]"
            ]
          },
          "metadata": {},
          "execution_count": 79
        }
      ]
    },
    {
      "cell_type": "code",
      "metadata": {
        "id": "oG0XLvHEjtOC",
        "colab": {
          "base_uri": "https://localhost:8080/"
        },
        "outputId": "9f547e55-5d3a-43c9-aa7b-42ac1fc72d68"
      },
      "source": [
        "policy_set=[]\n",
        "\n",
        "for pol in policy:\n",
        "  policy_set+=pol\n",
        "\n",
        "policy_set=list(set(policy_set))\n",
        "\n",
        "column=dependency.columns\n",
        "drop_features=[]\n",
        "for i in range(len(column)-1):\n",
        "  if not 'd{}'.format(i) in policy_set:\n",
        "    drop_features.append(column[i])\n",
        "\n",
        "drop_features"
      ],
      "execution_count": null,
      "outputs": [
        {
          "output_type": "execute_result",
          "data": {
            "text/plain": [
              "['csubj',\n",
              " 'mark',\n",
              " 'conj',\n",
              " 'cc',\n",
              " 'npadvmod',\n",
              " 'xcomp',\n",
              " 'neg',\n",
              " 'acl',\n",
              " 'advcl',\n",
              " 'attr',\n",
              " 'agent',\n",
              " 'advmod',\n",
              " 'csubjpass',\n",
              " 'dative',\n",
              " 'root',\n",
              " 'case',\n",
              " 'preconj',\n",
              " 'intj',\n",
              " 'pcomp',\n",
              " 'quantmod',\n",
              " 'appos',\n",
              " 'po',\n",
              " 'parataxis',\n",
              " 'nmod',\n",
              " 'dep',\n",
              " 'relcl',\n",
              " 'nsubj',\n",
              " 'expl',\n",
              " 'nsubjpass',\n",
              " 'prt',\n",
              " 'auxpass',\n",
              " 'predet',\n",
              " 'pobj',\n",
              " 'aux',\n",
              " 'oprd']"
            ]
          },
          "metadata": {},
          "execution_count": 80
        }
      ]
    },
    {
      "cell_type": "code",
      "metadata": {
        "id": "sCgiRuQJjtOD",
        "colab": {
          "base_uri": "https://localhost:8080/"
        },
        "outputId": "8648b364-d8a3-41ab-8303-0239b3623c2f"
      },
      "source": [
        "len(drop_features)"
      ],
      "execution_count": null,
      "outputs": [
        {
          "output_type": "execute_result",
          "data": {
            "text/plain": [
              "35"
            ]
          },
          "metadata": {},
          "execution_count": 81
        }
      ]
    },
    {
      "cell_type": "code",
      "metadata": {
        "id": "o0MSaNRv2xa9"
      },
      "source": [
        "# Save features to drop into a text file.\n",
        "\n",
        "f = open(\"Debater_drop_claim_premise_dependency.txt\", \"a\")\n",
        "for feature in drop_features:\n",
        "  f.write(\"{}-\".format(feature))\n",
        "f.close()"
      ],
      "execution_count": null,
      "outputs": []
    },
    {
      "cell_type": "code",
      "metadata": {
        "id": "arQ7mkhEjtOE"
      },
      "source": [
        "if len(policy_set)>1:\n",
        "  dependency=dependency.drop(columns=drop_features)"
      ],
      "execution_count": null,
      "outputs": []
    },
    {
      "cell_type": "code",
      "metadata": {
        "id": "WgjlMKLCd--J",
        "colab": {
          "base_uri": "https://localhost:8080/",
          "height": 542
        },
        "outputId": "36d3aa70-bbe7-40a6-8ad7-09d39287ec49"
      },
      "source": [
        "global_explainability_tabular.loc[\"True\"][:15]"
      ],
      "execution_count": null,
      "outputs": [
        {
          "output_type": "execute_result",
          "data": {
            "text/html": [
              "<div>\n",
              "<style scoped>\n",
              "    .dataframe tbody tr th:only-of-type {\n",
              "        vertical-align: middle;\n",
              "    }\n",
              "\n",
              "    .dataframe tbody tr th {\n",
              "        vertical-align: top;\n",
              "    }\n",
              "\n",
              "    .dataframe thead th {\n",
              "        text-align: right;\n",
              "    }\n",
              "</style>\n",
              "<table border=\"1\" class=\"dataframe\">\n",
              "  <thead>\n",
              "    <tr style=\"text-align: right;\">\n",
              "      <th></th>\n",
              "      <th>features</th>\n",
              "      <th>score</th>\n",
              "    </tr>\n",
              "    <tr>\n",
              "      <th>argumentative</th>\n",
              "      <th></th>\n",
              "      <th></th>\n",
              "    </tr>\n",
              "  </thead>\n",
              "  <tbody>\n",
              "    <tr>\n",
              "      <th>True</th>\n",
              "      <td>nummod: 0</td>\n",
              "      <td>0.000395</td>\n",
              "    </tr>\n",
              "    <tr>\n",
              "      <th>True</th>\n",
              "      <td>acomp: 1</td>\n",
              "      <td>0.000343</td>\n",
              "    </tr>\n",
              "    <tr>\n",
              "      <th>True</th>\n",
              "      <td>nummod: 1</td>\n",
              "      <td>0.000288</td>\n",
              "    </tr>\n",
              "    <tr>\n",
              "      <th>True</th>\n",
              "      <td>csubj: 1</td>\n",
              "      <td>0.000253</td>\n",
              "    </tr>\n",
              "    <tr>\n",
              "      <th>True</th>\n",
              "      <td>aux: 0</td>\n",
              "      <td>0.000247</td>\n",
              "    </tr>\n",
              "    <tr>\n",
              "      <th>True</th>\n",
              "      <td>mark: 2</td>\n",
              "      <td>0.000220</td>\n",
              "    </tr>\n",
              "    <tr>\n",
              "      <th>True</th>\n",
              "      <td>mark: 0</td>\n",
              "      <td>0.000190</td>\n",
              "    </tr>\n",
              "    <tr>\n",
              "      <th>True</th>\n",
              "      <td>mark: 3</td>\n",
              "      <td>0.000170</td>\n",
              "    </tr>\n",
              "    <tr>\n",
              "      <th>True</th>\n",
              "      <td>prep: 1</td>\n",
              "      <td>0.000156</td>\n",
              "    </tr>\n",
              "    <tr>\n",
              "      <th>True</th>\n",
              "      <td>aux: 2</td>\n",
              "      <td>0.000145</td>\n",
              "    </tr>\n",
              "    <tr>\n",
              "      <th>True</th>\n",
              "      <td>pobj: 1</td>\n",
              "      <td>0.000145</td>\n",
              "    </tr>\n",
              "    <tr>\n",
              "      <th>True</th>\n",
              "      <td>advmod: 0</td>\n",
              "      <td>0.000144</td>\n",
              "    </tr>\n",
              "    <tr>\n",
              "      <th>True</th>\n",
              "      <td>amod: 0</td>\n",
              "      <td>0.000125</td>\n",
              "    </tr>\n",
              "    <tr>\n",
              "      <th>True</th>\n",
              "      <td>compound: 0</td>\n",
              "      <td>0.000122</td>\n",
              "    </tr>\n",
              "    <tr>\n",
              "      <th>True</th>\n",
              "      <td>neg: 1</td>\n",
              "      <td>0.000120</td>\n",
              "    </tr>\n",
              "  </tbody>\n",
              "</table>\n",
              "</div>"
            ],
            "text/plain": [
              "                  features     score\n",
              "argumentative                       \n",
              "True             nummod: 0  0.000395\n",
              "True              acomp: 1  0.000343\n",
              "True             nummod: 1  0.000288\n",
              "True              csubj: 1  0.000253\n",
              "True                aux: 0  0.000247\n",
              "True               mark: 2  0.000220\n",
              "True               mark: 0  0.000190\n",
              "True               mark: 3  0.000170\n",
              "True               prep: 1  0.000156\n",
              "True                aux: 2  0.000145\n",
              "True               pobj: 1  0.000145\n",
              "True             advmod: 0  0.000144\n",
              "True               amod: 0  0.000125\n",
              "True           compound: 0  0.000122\n",
              "True                neg: 1  0.000120"
            ]
          },
          "metadata": {},
          "execution_count": 84
        }
      ]
    },
    {
      "cell_type": "code",
      "metadata": {
        "id": "j6WRJD3Od--K",
        "colab": {
          "base_uri": "https://localhost:8080/",
          "height": 388
        },
        "outputId": "a201eb2f-1232-45e7-af06-db697238ac4a"
      },
      "source": [
        "global_explainability_tabular.loc[\"False\"][:10]"
      ],
      "execution_count": null,
      "outputs": [
        {
          "output_type": "execute_result",
          "data": {
            "text/html": [
              "<div>\n",
              "<style scoped>\n",
              "    .dataframe tbody tr th:only-of-type {\n",
              "        vertical-align: middle;\n",
              "    }\n",
              "\n",
              "    .dataframe tbody tr th {\n",
              "        vertical-align: top;\n",
              "    }\n",
              "\n",
              "    .dataframe thead th {\n",
              "        text-align: right;\n",
              "    }\n",
              "</style>\n",
              "<table border=\"1\" class=\"dataframe\">\n",
              "  <thead>\n",
              "    <tr style=\"text-align: right;\">\n",
              "      <th></th>\n",
              "      <th>features</th>\n",
              "      <th>score</th>\n",
              "    </tr>\n",
              "    <tr>\n",
              "      <th>argumentative</th>\n",
              "      <th></th>\n",
              "      <th></th>\n",
              "    </tr>\n",
              "  </thead>\n",
              "  <tbody>\n",
              "    <tr>\n",
              "      <th>False</th>\n",
              "      <td>nummod: 2</td>\n",
              "      <td>0.001101</td>\n",
              "    </tr>\n",
              "    <tr>\n",
              "      <th>False</th>\n",
              "      <td>nummod: 1</td>\n",
              "      <td>0.000904</td>\n",
              "    </tr>\n",
              "    <tr>\n",
              "      <th>False</th>\n",
              "      <td>compound: 4</td>\n",
              "      <td>0.000638</td>\n",
              "    </tr>\n",
              "    <tr>\n",
              "      <th>False</th>\n",
              "      <td>quantmod: 2</td>\n",
              "      <td>0.000498</td>\n",
              "    </tr>\n",
              "    <tr>\n",
              "      <th>False</th>\n",
              "      <td>aux: 0</td>\n",
              "      <td>0.000383</td>\n",
              "    </tr>\n",
              "    <tr>\n",
              "      <th>False</th>\n",
              "      <td>nummod: 3</td>\n",
              "      <td>0.000314</td>\n",
              "    </tr>\n",
              "    <tr>\n",
              "      <th>False</th>\n",
              "      <td>nummod: 0</td>\n",
              "      <td>0.000286</td>\n",
              "    </tr>\n",
              "    <tr>\n",
              "      <th>False</th>\n",
              "      <td>npadvmod: 1</td>\n",
              "      <td>0.000280</td>\n",
              "    </tr>\n",
              "    <tr>\n",
              "      <th>False</th>\n",
              "      <td>compound: 6</td>\n",
              "      <td>0.000270</td>\n",
              "    </tr>\n",
              "    <tr>\n",
              "      <th>False</th>\n",
              "      <td>mark: 0</td>\n",
              "      <td>0.000265</td>\n",
              "    </tr>\n",
              "  </tbody>\n",
              "</table>\n",
              "</div>"
            ],
            "text/plain": [
              "                  features     score\n",
              "argumentative                       \n",
              "False            nummod: 2  0.001101\n",
              "False            nummod: 1  0.000904\n",
              "False          compound: 4  0.000638\n",
              "False          quantmod: 2  0.000498\n",
              "False               aux: 0  0.000383\n",
              "False            nummod: 3  0.000314\n",
              "False            nummod: 0  0.000286\n",
              "False          npadvmod: 1  0.000280\n",
              "False          compound: 6  0.000270\n",
              "False              mark: 0  0.000265"
            ]
          },
          "metadata": {},
          "execution_count": 85
        }
      ]
    },
    {
      "cell_type": "markdown",
      "metadata": {
        "id": "oyDiCmkiIsnv"
      },
      "source": [
        "## **Dependency tree stat**"
      ]
    },
    {
      "cell_type": "code",
      "metadata": {
        "id": "JwvH9299eLmg",
        "colab": {
          "base_uri": "https://localhost:8080/"
        },
        "outputId": "ffbe1f1b-5d3f-4b21-e170-022a43e9cb52"
      },
      "source": [
        "ground_labels, _, labels, _, _, policy=stc_procedure(dependency_tree_stat,true_labels)"
      ],
      "execution_count": null,
      "outputs": [
        {
          "output_type": "stream",
          "name": "stdout",
          "text": [
            ""
          ]
        }
      ]
    },
    {
      "cell_type": "code",
      "metadata": {
        "id": "RmnBVh9xxWZq",
        "colab": {
          "base_uri": "https://localhost:8080/"
        },
        "outputId": "56be4393-b770-4249-d203-c11416ccb9d7"
      },
      "source": [
        "_, global_explainability_tabular, _, _, _, _=stc_procedure_tabular(dependency_tree_stat,true_labels)"
      ],
      "execution_count": null,
      "outputs": [
        {
          "output_type": "stream",
          "name": "stdout",
          "text": [
            ""
          ]
        }
      ]
    },
    {
      "cell_type": "code",
      "metadata": {
        "id": "Qkdy2TerzlUZ"
      },
      "source": [
        "accuracy=accuracy_score(ground_labels, labels)\n",
        "f1_score_value=f1_score(y_true=ground_labels, y_pred=labels, pos_label=\"True\")\n",
        "precision=precision_score(ground_labels, labels, pos_label=\"True\")\n",
        "recall=recall_score(ground_labels, labels, pos_label=\"True\")"
      ],
      "execution_count": null,
      "outputs": []
    },
    {
      "cell_type": "code",
      "metadata": {
        "id": "DXn9_zg6zlUa"
      },
      "source": [
        "accuracy_scores.append(accuracy)\n",
        "f1_scores.append(f1_score_value)\n",
        "precision_scores.append(precision)\n",
        "recall_scores.append(recall)"
      ],
      "execution_count": null,
      "outputs": []
    },
    {
      "cell_type": "code",
      "metadata": {
        "id": "YFu3ln29zlUb",
        "colab": {
          "base_uri": "https://localhost:8080/"
        },
        "outputId": "72ca1510-f276-458d-d43e-b5c6ee4dded6"
      },
      "source": [
        "print('accuracy: {}'.format(accuracy))\n",
        "print('f1 score: {}'.format(f1_score_value))\n",
        "print('precision: {}'.format(precision))\n",
        "print('recall: {}'.format(recall))"
      ],
      "execution_count": null,
      "outputs": [
        {
          "output_type": "stream",
          "name": "stdout",
          "text": [
            "accuracy: 0.5253940455341506\n",
            "f1 score: 0.40700218818380746\n",
            "precision: 0.2961783439490446\n",
            "recall: 0.6503496503496503\n"
          ]
        }
      ]
    },
    {
      "cell_type": "code",
      "metadata": {
        "id": "sLzeW3FueLmj",
        "colab": {
          "base_uri": "https://localhost:8080/"
        },
        "outputId": "09a6b0bd-747c-4f3a-cd1b-107c61e5011c"
      },
      "source": [
        "policy"
      ],
      "execution_count": null,
      "outputs": [
        {
          "output_type": "execute_result",
          "data": {
            "text/plain": [
              "[['d1', 'd0'], ['d0'], []]"
            ]
          },
          "metadata": {},
          "execution_count": 91
        }
      ]
    },
    {
      "cell_type": "code",
      "metadata": {
        "id": "AZjdqts3juhD",
        "colab": {
          "base_uri": "https://localhost:8080/"
        },
        "outputId": "fed43e95-76f2-424f-c164-00f6a0f92bff"
      },
      "source": [
        "policy_set=[]\n",
        "\n",
        "for pol in policy:\n",
        "  policy_set+=pol\n",
        "\n",
        "policy_set=list(set(policy_set))\n",
        "\n",
        "column=dependency_tree_stat.columns\n",
        "drop_features=[]\n",
        "for i in range(len(column)-1):\n",
        "  if not 'd{}'.format(i) in policy_set:\n",
        "    drop_features.append(column[i])\n",
        "\n",
        "drop_features"
      ],
      "execution_count": null,
      "outputs": [
        {
          "output_type": "execute_result",
          "data": {
            "text/plain": [
              "[]"
            ]
          },
          "metadata": {},
          "execution_count": 92
        }
      ]
    },
    {
      "cell_type": "code",
      "metadata": {
        "id": "068HSYKajuhE",
        "colab": {
          "base_uri": "https://localhost:8080/"
        },
        "outputId": "37b2e761-3e60-457b-aced-40a6fd51d016"
      },
      "source": [
        "len(drop_features)"
      ],
      "execution_count": null,
      "outputs": [
        {
          "output_type": "execute_result",
          "data": {
            "text/plain": [
              "0"
            ]
          },
          "metadata": {},
          "execution_count": 93
        }
      ]
    },
    {
      "cell_type": "code",
      "metadata": {
        "id": "MY6fqLdI25CP"
      },
      "source": [
        "# Save features to drop into a text file.\n",
        "\n",
        "f = open(\"Debater_drop_claim_premise_dependency_tree.txt\", \"a\")\n",
        "for feature in drop_features:\n",
        "  f.write(\"{}-\".format(feature))\n",
        "f.close()"
      ],
      "execution_count": null,
      "outputs": []
    },
    {
      "cell_type": "code",
      "metadata": {
        "id": "R7nPEas8juhE"
      },
      "source": [
        "if len(policy_set)>1:\n",
        "  dependency_tree_stat=dependency_tree_stat.drop(columns=drop_features)"
      ],
      "execution_count": null,
      "outputs": []
    },
    {
      "cell_type": "code",
      "metadata": {
        "id": "LFRC14lreLmj",
        "colab": {
          "base_uri": "https://localhost:8080/",
          "height": 542
        },
        "outputId": "2a9d04a7-8a53-4618-b71c-d76abe458690"
      },
      "source": [
        "global_explainability_tabular.loc[\"True\"][:15]"
      ],
      "execution_count": null,
      "outputs": [
        {
          "output_type": "execute_result",
          "data": {
            "text/html": [
              "<div>\n",
              "<style scoped>\n",
              "    .dataframe tbody tr th:only-of-type {\n",
              "        vertical-align: middle;\n",
              "    }\n",
              "\n",
              "    .dataframe tbody tr th {\n",
              "        vertical-align: top;\n",
              "    }\n",
              "\n",
              "    .dataframe thead th {\n",
              "        text-align: right;\n",
              "    }\n",
              "</style>\n",
              "<table border=\"1\" class=\"dataframe\">\n",
              "  <thead>\n",
              "    <tr style=\"text-align: right;\">\n",
              "      <th></th>\n",
              "      <th>features</th>\n",
              "      <th>score</th>\n",
              "    </tr>\n",
              "    <tr>\n",
              "      <th>argumentative</th>\n",
              "      <th></th>\n",
              "      <th></th>\n",
              "    </tr>\n",
              "  </thead>\n",
              "  <tbody>\n",
              "    <tr>\n",
              "      <th>True</th>\n",
              "      <td>max number of children of a ROOT node: 2</td>\n",
              "      <td>0.002123</td>\n",
              "    </tr>\n",
              "    <tr>\n",
              "      <th>True</th>\n",
              "      <td>tree depth: 20</td>\n",
              "      <td>0.001567</td>\n",
              "    </tr>\n",
              "    <tr>\n",
              "      <th>True</th>\n",
              "      <td>tree depth: 17</td>\n",
              "      <td>0.000784</td>\n",
              "    </tr>\n",
              "    <tr>\n",
              "      <th>True</th>\n",
              "      <td>tree depth: 25</td>\n",
              "      <td>0.000784</td>\n",
              "    </tr>\n",
              "    <tr>\n",
              "      <th>True</th>\n",
              "      <td>tree depth: 9</td>\n",
              "      <td>0.000608</td>\n",
              "    </tr>\n",
              "    <tr>\n",
              "      <th>True</th>\n",
              "      <td>tree depth: 0</td>\n",
              "      <td>0.000580</td>\n",
              "    </tr>\n",
              "    <tr>\n",
              "      <th>True</th>\n",
              "      <td>max number of children of a ROOT node: 0</td>\n",
              "      <td>0.000580</td>\n",
              "    </tr>\n",
              "    <tr>\n",
              "      <th>True</th>\n",
              "      <td>max number of children of a ROOT node: 6</td>\n",
              "      <td>0.000412</td>\n",
              "    </tr>\n",
              "    <tr>\n",
              "      <th>True</th>\n",
              "      <td>tree depth: 5</td>\n",
              "      <td>0.000301</td>\n",
              "    </tr>\n",
              "    <tr>\n",
              "      <th>True</th>\n",
              "      <td>max number of children of a ROOT node: 11</td>\n",
              "      <td>0.000277</td>\n",
              "    </tr>\n",
              "    <tr>\n",
              "      <th>True</th>\n",
              "      <td>tree depth: 6</td>\n",
              "      <td>0.000270</td>\n",
              "    </tr>\n",
              "    <tr>\n",
              "      <th>True</th>\n",
              "      <td>tree depth: 10</td>\n",
              "      <td>0.000261</td>\n",
              "    </tr>\n",
              "    <tr>\n",
              "      <th>True</th>\n",
              "      <td>tree depth: 3</td>\n",
              "      <td>0.000243</td>\n",
              "    </tr>\n",
              "    <tr>\n",
              "      <th>True</th>\n",
              "      <td>tree depth: 8</td>\n",
              "      <td>0.000214</td>\n",
              "    </tr>\n",
              "    <tr>\n",
              "      <th>True</th>\n",
              "      <td>max number of children of a ROOT node: 8</td>\n",
              "      <td>0.000197</td>\n",
              "    </tr>\n",
              "  </tbody>\n",
              "</table>\n",
              "</div>"
            ],
            "text/plain": [
              "                                                features     score\n",
              "argumentative                                                     \n",
              "True            max number of children of a ROOT node: 2  0.002123\n",
              "True                                      tree depth: 20  0.001567\n",
              "True                                      tree depth: 17  0.000784\n",
              "True                                      tree depth: 25  0.000784\n",
              "True                                       tree depth: 9  0.000608\n",
              "True                                       tree depth: 0  0.000580\n",
              "True            max number of children of a ROOT node: 0  0.000580\n",
              "True            max number of children of a ROOT node: 6  0.000412\n",
              "True                                       tree depth: 5  0.000301\n",
              "True           max number of children of a ROOT node: 11  0.000277\n",
              "True                                       tree depth: 6  0.000270\n",
              "True                                      tree depth: 10  0.000261\n",
              "True                                       tree depth: 3  0.000243\n",
              "True                                       tree depth: 8  0.000214\n",
              "True            max number of children of a ROOT node: 8  0.000197"
            ]
          },
          "metadata": {},
          "execution_count": 96
        }
      ]
    },
    {
      "cell_type": "code",
      "metadata": {
        "id": "yUfZ03E4eLmk",
        "colab": {
          "base_uri": "https://localhost:8080/",
          "height": 388
        },
        "outputId": "d9825c16-e9df-4563-9c09-e8af1c661d8c"
      },
      "source": [
        "global_explainability_tabular.loc[\"False\"][:10]"
      ],
      "execution_count": null,
      "outputs": [
        {
          "output_type": "execute_result",
          "data": {
            "text/html": [
              "<div>\n",
              "<style scoped>\n",
              "    .dataframe tbody tr th:only-of-type {\n",
              "        vertical-align: middle;\n",
              "    }\n",
              "\n",
              "    .dataframe tbody tr th {\n",
              "        vertical-align: top;\n",
              "    }\n",
              "\n",
              "    .dataframe thead th {\n",
              "        text-align: right;\n",
              "    }\n",
              "</style>\n",
              "<table border=\"1\" class=\"dataframe\">\n",
              "  <thead>\n",
              "    <tr style=\"text-align: right;\">\n",
              "      <th></th>\n",
              "      <th>features</th>\n",
              "      <th>score</th>\n",
              "    </tr>\n",
              "    <tr>\n",
              "      <th>argumentative</th>\n",
              "      <th></th>\n",
              "      <th></th>\n",
              "    </tr>\n",
              "  </thead>\n",
              "  <tbody>\n",
              "    <tr>\n",
              "      <th>False</th>\n",
              "      <td>tree depth: 0</td>\n",
              "      <td>0.012618</td>\n",
              "    </tr>\n",
              "    <tr>\n",
              "      <th>False</th>\n",
              "      <td>max number of children of a ROOT node: 0</td>\n",
              "      <td>0.012618</td>\n",
              "    </tr>\n",
              "    <tr>\n",
              "      <th>False</th>\n",
              "      <td>tree depth: 1</td>\n",
              "      <td>0.002741</td>\n",
              "    </tr>\n",
              "    <tr>\n",
              "      <th>False</th>\n",
              "      <td>max number of children of a ROOT node: 2</td>\n",
              "      <td>0.001556</td>\n",
              "    </tr>\n",
              "    <tr>\n",
              "      <th>False</th>\n",
              "      <td>tree depth: 15</td>\n",
              "      <td>0.000645</td>\n",
              "    </tr>\n",
              "    <tr>\n",
              "      <th>False</th>\n",
              "      <td>max number of children of a ROOT node: 6</td>\n",
              "      <td>0.000510</td>\n",
              "    </tr>\n",
              "    <tr>\n",
              "      <th>False</th>\n",
              "      <td>tree depth: 9</td>\n",
              "      <td>0.000465</td>\n",
              "    </tr>\n",
              "    <tr>\n",
              "      <th>False</th>\n",
              "      <td>tree depth: 5</td>\n",
              "      <td>0.000354</td>\n",
              "    </tr>\n",
              "    <tr>\n",
              "      <th>False</th>\n",
              "      <td>tree depth: 3</td>\n",
              "      <td>0.000322</td>\n",
              "    </tr>\n",
              "    <tr>\n",
              "      <th>False</th>\n",
              "      <td>max number of children of a ROOT node: 1</td>\n",
              "      <td>0.000310</td>\n",
              "    </tr>\n",
              "  </tbody>\n",
              "</table>\n",
              "</div>"
            ],
            "text/plain": [
              "                                               features     score\n",
              "argumentative                                                    \n",
              "False                                     tree depth: 0  0.012618\n",
              "False          max number of children of a ROOT node: 0  0.012618\n",
              "False                                     tree depth: 1  0.002741\n",
              "False          max number of children of a ROOT node: 2  0.001556\n",
              "False                                    tree depth: 15  0.000645\n",
              "False          max number of children of a ROOT node: 6  0.000510\n",
              "False                                     tree depth: 9  0.000465\n",
              "False                                     tree depth: 5  0.000354\n",
              "False                                     tree depth: 3  0.000322\n",
              "False          max number of children of a ROOT node: 1  0.000310"
            ]
          },
          "metadata": {},
          "execution_count": 97
        }
      ]
    },
    {
      "cell_type": "markdown",
      "metadata": {
        "id": "pfWd-79JJB9j"
      },
      "source": [
        "## **Named entity**"
      ]
    },
    {
      "cell_type": "code",
      "metadata": {
        "id": "k8KbeLHueguN",
        "colab": {
          "base_uri": "https://localhost:8080/"
        },
        "outputId": "4372ffa5-1323-4067-b128-27c099a23445"
      },
      "source": [
        "ground_labels, _, labels, _, _, policy=stc_procedure(named_entity,true_labels)"
      ],
      "execution_count": null,
      "outputs": [
        {
          "output_type": "stream",
          "name": "stdout",
          "text": [
            ""
          ]
        }
      ]
    },
    {
      "cell_type": "code",
      "metadata": {
        "id": "ohYc3-wvxc3c",
        "colab": {
          "base_uri": "https://localhost:8080/"
        },
        "outputId": "28fd89f4-f842-4739-cf44-8b030017aa53"
      },
      "source": [
        "_, global_explainability_tabular, _, _, _, _=stc_procedure_tabular(named_entity,true_labels)"
      ],
      "execution_count": null,
      "outputs": [
        {
          "output_type": "stream",
          "name": "stdout",
          "text": [
            ""
          ]
        }
      ]
    },
    {
      "cell_type": "code",
      "metadata": {
        "id": "SugOxi0szoh5"
      },
      "source": [
        "accuracy=accuracy_score(ground_labels, labels)\n",
        "f1_score_value=f1_score(y_true=ground_labels, y_pred=labels, pos_label=\"True\")\n",
        "precision=precision_score(ground_labels, labels, pos_label=\"True\")\n",
        "recall=recall_score(ground_labels, labels, pos_label=\"True\")"
      ],
      "execution_count": null,
      "outputs": []
    },
    {
      "cell_type": "code",
      "metadata": {
        "id": "m5pcLh8Azoh5"
      },
      "source": [
        "accuracy_scores.append(accuracy)\n",
        "f1_scores.append(f1_score_value)\n",
        "precision_scores.append(precision)\n",
        "recall_scores.append(recall)"
      ],
      "execution_count": null,
      "outputs": []
    },
    {
      "cell_type": "code",
      "metadata": {
        "id": "CeSlJebjzoh5",
        "colab": {
          "base_uri": "https://localhost:8080/"
        },
        "outputId": "dca16501-3746-4d0c-c0ef-dabce36ccced"
      },
      "source": [
        "print('accuracy: {}'.format(accuracy))\n",
        "print('f1 score: {}'.format(f1_score_value))\n",
        "print('precision: {}'.format(precision))\n",
        "print('recall: {}'.format(recall))"
      ],
      "execution_count": null,
      "outputs": [
        {
          "output_type": "stream",
          "name": "stdout",
          "text": [
            "accuracy: 0.6672504378283712\n",
            "f1 score: 0.5454545454545455\n",
            "precision: 0.41454545454545455\n",
            "recall: 0.7972027972027972\n"
          ]
        }
      ]
    },
    {
      "cell_type": "code",
      "metadata": {
        "id": "GVbOH3joeguR",
        "colab": {
          "base_uri": "https://localhost:8080/"
        },
        "outputId": "dff0bbff-0b8e-4789-8b18-a0fe0aef0c5d"
      },
      "source": [
        "policy"
      ],
      "execution_count": null,
      "outputs": [
        {
          "output_type": "execute_result",
          "data": {
            "text/plain": [
              "[['d3',\n",
              "  'd16',\n",
              "  'd17',\n",
              "  'd2',\n",
              "  'd10',\n",
              "  'd6',\n",
              "  'd8',\n",
              "  'd12',\n",
              "  'd0',\n",
              "  'd7',\n",
              "  'd4',\n",
              "  'd9',\n",
              "  'd11',\n",
              "  'd1',\n",
              "  'd13'],\n",
              " ['d16',\n",
              "  'd17',\n",
              "  'd2',\n",
              "  'd10',\n",
              "  'd6',\n",
              "  'd8',\n",
              "  'd12',\n",
              "  'd0',\n",
              "  'd7',\n",
              "  'd4',\n",
              "  'd9',\n",
              "  'd11',\n",
              "  'd1',\n",
              "  'd13'],\n",
              " ['d17',\n",
              "  'd2',\n",
              "  'd10',\n",
              "  'd6',\n",
              "  'd8',\n",
              "  'd12',\n",
              "  'd0',\n",
              "  'd7',\n",
              "  'd4',\n",
              "  'd9',\n",
              "  'd11',\n",
              "  'd1',\n",
              "  'd13'],\n",
              " ['d2', 'd10', 'd6', 'd8', 'd12', 'd0', 'd7', 'd4', 'd9', 'd11', 'd1', 'd13'],\n",
              " ['d10', 'd6', 'd8', 'd12', 'd0', 'd7', 'd4', 'd9', 'd11', 'd1', 'd13'],\n",
              " ['d6', 'd8', 'd12', 'd0', 'd7', 'd4', 'd9', 'd11', 'd1', 'd13'],\n",
              " ['d8', 'd12', 'd0', 'd7', 'd4', 'd9', 'd11', 'd1', 'd13'],\n",
              " ['d12', 'd0', 'd7', 'd4', 'd9', 'd11', 'd1', 'd13'],\n",
              " ['d0', 'd7', 'd4', 'd9', 'd11', 'd1', 'd13'],\n",
              " ['d7', 'd4', 'd9', 'd11', 'd1', 'd13'],\n",
              " ['d4', 'd9', 'd11', 'd1', 'd13'],\n",
              " ['d9', 'd11', 'd1', 'd13'],\n",
              " ['d11', 'd1', 'd13'],\n",
              " ['d1', 'd13'],\n",
              " ['d13'],\n",
              " []]"
            ]
          },
          "metadata": {},
          "execution_count": 103
        }
      ]
    },
    {
      "cell_type": "code",
      "metadata": {
        "id": "5nZnfwVBjvsU",
        "colab": {
          "base_uri": "https://localhost:8080/"
        },
        "outputId": "5eca21b3-10c5-4450-dd5e-bd7cc12bf086"
      },
      "source": [
        "policy_set=[]\n",
        "\n",
        "for pol in policy:\n",
        "  policy_set+=pol\n",
        "\n",
        "policy_set=list(set(policy_set))\n",
        "\n",
        "column=named_entity.columns\n",
        "drop_features=[]\n",
        "for i in range(len(column)-1):\n",
        "  if not 'd{}'.format(i) in policy_set:\n",
        "    drop_features.append(column[i])\n",
        "\n",
        "drop_features"
      ],
      "execution_count": null,
      "outputs": [
        {
          "output_type": "execute_result",
          "data": {
            "text/plain": [
              "['language', 'product', 'quantity']"
            ]
          },
          "metadata": {},
          "execution_count": 104
        }
      ]
    },
    {
      "cell_type": "code",
      "metadata": {
        "id": "xHw68Hy7jvsU",
        "colab": {
          "base_uri": "https://localhost:8080/"
        },
        "outputId": "062c7483-5703-4772-fdc8-ffb4f568bc3a"
      },
      "source": [
        "len(drop_features)"
      ],
      "execution_count": null,
      "outputs": [
        {
          "output_type": "execute_result",
          "data": {
            "text/plain": [
              "3"
            ]
          },
          "metadata": {},
          "execution_count": 105
        }
      ]
    },
    {
      "cell_type": "code",
      "metadata": {
        "id": "qrxBvs4J2_IE"
      },
      "source": [
        "# Save features to drop into a text file.\n",
        "\n",
        "f = open(\"Debater_drop_claim_premise_named_entity.txt\", \"a\")\n",
        "for feature in drop_features:\n",
        "  f.write(\"{}-\".format(feature))\n",
        "f.close()"
      ],
      "execution_count": null,
      "outputs": []
    },
    {
      "cell_type": "code",
      "metadata": {
        "id": "iaqDpFlyjvsV"
      },
      "source": [
        "if len(policy_set)>1:\n",
        "  named_entity=named_entity.drop(columns=drop_features)"
      ],
      "execution_count": null,
      "outputs": []
    },
    {
      "cell_type": "code",
      "metadata": {
        "id": "bONSbDH4eguR",
        "colab": {
          "base_uri": "https://localhost:8080/",
          "height": 542
        },
        "outputId": "8780eba8-68b3-4c0f-edde-d4bdfc89f67f"
      },
      "source": [
        "global_explainability_tabular.loc[\"True\"][:15]"
      ],
      "execution_count": null,
      "outputs": [
        {
          "output_type": "execute_result",
          "data": {
            "text/html": [
              "<div>\n",
              "<style scoped>\n",
              "    .dataframe tbody tr th:only-of-type {\n",
              "        vertical-align: middle;\n",
              "    }\n",
              "\n",
              "    .dataframe tbody tr th {\n",
              "        vertical-align: top;\n",
              "    }\n",
              "\n",
              "    .dataframe thead th {\n",
              "        text-align: right;\n",
              "    }\n",
              "</style>\n",
              "<table border=\"1\" class=\"dataframe\">\n",
              "  <thead>\n",
              "    <tr style=\"text-align: right;\">\n",
              "      <th></th>\n",
              "      <th>features</th>\n",
              "      <th>score</th>\n",
              "    </tr>\n",
              "    <tr>\n",
              "      <th>argumentative</th>\n",
              "      <th></th>\n",
              "      <th></th>\n",
              "    </tr>\n",
              "  </thead>\n",
              "  <tbody>\n",
              "    <tr>\n",
              "      <th>True</th>\n",
              "      <td>date: 1</td>\n",
              "      <td>0.000945</td>\n",
              "    </tr>\n",
              "    <tr>\n",
              "      <th>True</th>\n",
              "      <td>date: 0</td>\n",
              "      <td>0.000813</td>\n",
              "    </tr>\n",
              "    <tr>\n",
              "      <th>True</th>\n",
              "      <td>person: 1</td>\n",
              "      <td>0.000793</td>\n",
              "    </tr>\n",
              "    <tr>\n",
              "      <th>True</th>\n",
              "      <td>org: 1</td>\n",
              "      <td>0.000741</td>\n",
              "    </tr>\n",
              "    <tr>\n",
              "      <th>True</th>\n",
              "      <td>gpe: 1</td>\n",
              "      <td>0.000610</td>\n",
              "    </tr>\n",
              "    <tr>\n",
              "      <th>True</th>\n",
              "      <td>gpe: 0</td>\n",
              "      <td>0.000540</td>\n",
              "    </tr>\n",
              "    <tr>\n",
              "      <th>True</th>\n",
              "      <td>person: 0</td>\n",
              "      <td>0.000482</td>\n",
              "    </tr>\n",
              "    <tr>\n",
              "      <th>True</th>\n",
              "      <td>cardinal: 1</td>\n",
              "      <td>0.000454</td>\n",
              "    </tr>\n",
              "    <tr>\n",
              "      <th>True</th>\n",
              "      <td>org: 0</td>\n",
              "      <td>0.000446</td>\n",
              "    </tr>\n",
              "    <tr>\n",
              "      <th>True</th>\n",
              "      <td>gpe: 2</td>\n",
              "      <td>0.000284</td>\n",
              "    </tr>\n",
              "    <tr>\n",
              "      <th>True</th>\n",
              "      <td>cardinal: 0</td>\n",
              "      <td>0.000251</td>\n",
              "    </tr>\n",
              "    <tr>\n",
              "      <th>True</th>\n",
              "      <td>norp: 1</td>\n",
              "      <td>0.000214</td>\n",
              "    </tr>\n",
              "    <tr>\n",
              "      <th>True</th>\n",
              "      <td>cardinal: 2</td>\n",
              "      <td>0.000177</td>\n",
              "    </tr>\n",
              "    <tr>\n",
              "      <th>True</th>\n",
              "      <td>org: 2</td>\n",
              "      <td>0.000170</td>\n",
              "    </tr>\n",
              "    <tr>\n",
              "      <th>True</th>\n",
              "      <td>date: 2</td>\n",
              "      <td>0.000166</td>\n",
              "    </tr>\n",
              "  </tbody>\n",
              "</table>\n",
              "</div>"
            ],
            "text/plain": [
              "                  features     score\n",
              "argumentative                       \n",
              "True               date: 1  0.000945\n",
              "True               date: 0  0.000813\n",
              "True             person: 1  0.000793\n",
              "True                org: 1  0.000741\n",
              "True                gpe: 1  0.000610\n",
              "True                gpe: 0  0.000540\n",
              "True             person: 0  0.000482\n",
              "True           cardinal: 1  0.000454\n",
              "True                org: 0  0.000446\n",
              "True                gpe: 2  0.000284\n",
              "True           cardinal: 0  0.000251\n",
              "True               norp: 1  0.000214\n",
              "True           cardinal: 2  0.000177\n",
              "True                org: 2  0.000170\n",
              "True               date: 2  0.000166"
            ]
          },
          "metadata": {},
          "execution_count": 108
        }
      ]
    },
    {
      "cell_type": "code",
      "metadata": {
        "id": "nDu9E6DKeguS",
        "colab": {
          "base_uri": "https://localhost:8080/",
          "height": 388
        },
        "outputId": "5fcac46a-447a-4e50-a5f3-69bd4022f70a"
      },
      "source": [
        "global_explainability_tabular.loc[\"False\"][:10]"
      ],
      "execution_count": null,
      "outputs": [
        {
          "output_type": "execute_result",
          "data": {
            "text/html": [
              "<div>\n",
              "<style scoped>\n",
              "    .dataframe tbody tr th:only-of-type {\n",
              "        vertical-align: middle;\n",
              "    }\n",
              "\n",
              "    .dataframe tbody tr th {\n",
              "        vertical-align: top;\n",
              "    }\n",
              "\n",
              "    .dataframe thead th {\n",
              "        text-align: right;\n",
              "    }\n",
              "</style>\n",
              "<table border=\"1\" class=\"dataframe\">\n",
              "  <thead>\n",
              "    <tr style=\"text-align: right;\">\n",
              "      <th></th>\n",
              "      <th>features</th>\n",
              "      <th>score</th>\n",
              "    </tr>\n",
              "    <tr>\n",
              "      <th>argumentative</th>\n",
              "      <th></th>\n",
              "      <th></th>\n",
              "    </tr>\n",
              "  </thead>\n",
              "  <tbody>\n",
              "    <tr>\n",
              "      <th>False</th>\n",
              "      <td>person: 1</td>\n",
              "      <td>0.003971</td>\n",
              "    </tr>\n",
              "    <tr>\n",
              "      <th>False</th>\n",
              "      <td>date: 1</td>\n",
              "      <td>0.003698</td>\n",
              "    </tr>\n",
              "    <tr>\n",
              "      <th>False</th>\n",
              "      <td>org: 1</td>\n",
              "      <td>0.002366</td>\n",
              "    </tr>\n",
              "    <tr>\n",
              "      <th>False</th>\n",
              "      <td>percent: 1</td>\n",
              "      <td>0.001968</td>\n",
              "    </tr>\n",
              "    <tr>\n",
              "      <th>False</th>\n",
              "      <td>gpe: 1</td>\n",
              "      <td>0.001633</td>\n",
              "    </tr>\n",
              "    <tr>\n",
              "      <th>False</th>\n",
              "      <td>percent: 2</td>\n",
              "      <td>0.001387</td>\n",
              "    </tr>\n",
              "    <tr>\n",
              "      <th>False</th>\n",
              "      <td>cardinal: 1</td>\n",
              "      <td>0.001244</td>\n",
              "    </tr>\n",
              "    <tr>\n",
              "      <th>False</th>\n",
              "      <td>date: 2</td>\n",
              "      <td>0.001242</td>\n",
              "    </tr>\n",
              "    <tr>\n",
              "      <th>False</th>\n",
              "      <td>gpe: 2</td>\n",
              "      <td>0.001046</td>\n",
              "    </tr>\n",
              "    <tr>\n",
              "      <th>False</th>\n",
              "      <td>cardinal: 2</td>\n",
              "      <td>0.000738</td>\n",
              "    </tr>\n",
              "  </tbody>\n",
              "</table>\n",
              "</div>"
            ],
            "text/plain": [
              "                  features     score\n",
              "argumentative                       \n",
              "False            person: 1  0.003971\n",
              "False              date: 1  0.003698\n",
              "False               org: 1  0.002366\n",
              "False           percent: 1  0.001968\n",
              "False               gpe: 1  0.001633\n",
              "False           percent: 2  0.001387\n",
              "False          cardinal: 1  0.001244\n",
              "False              date: 2  0.001242\n",
              "False               gpe: 2  0.001046\n",
              "False          cardinal: 2  0.000738"
            ]
          },
          "metadata": {},
          "execution_count": 109
        }
      ]
    },
    {
      "cell_type": "markdown",
      "metadata": {
        "id": "rmG8oXyhJRnE"
      },
      "source": [
        "## **BOW**"
      ]
    },
    {
      "cell_type": "code",
      "metadata": {
        "id": "4d8JvDs0wVu8",
        "colab": {
          "base_uri": "https://localhost:8080/"
        },
        "outputId": "4fb87e20-e75f-4f89-8f7c-694b2a9ce2b5"
      },
      "source": [
        "ground_labels, global_explainability_tabular, labels, _, _, policy=stc_procedure_tabular(BOW,true_labels)"
      ],
      "execution_count": null,
      "outputs": [
        {
          "output_type": "stream",
          "name": "stdout",
          "text": [
            ""
          ]
        }
      ]
    },
    {
      "cell_type": "code",
      "metadata": {
        "id": "xl2TXsaizrhx"
      },
      "source": [
        "accuracy=accuracy_score(ground_labels, labels)\n",
        "f1_score_value=f1_score(y_true=ground_labels, y_pred=labels, pos_label=\"True\")\n",
        "precision=precision_score(ground_labels, labels, pos_label=\"True\")\n",
        "recall=recall_score(ground_labels, labels, pos_label=\"True\")"
      ],
      "execution_count": null,
      "outputs": []
    },
    {
      "cell_type": "code",
      "metadata": {
        "id": "NTxeIi2xzrhy"
      },
      "source": [
        "accuracy_scores.append(accuracy)\n",
        "f1_scores.append(f1_score_value)\n",
        "precision_scores.append(precision)\n",
        "recall_scores.append(recall)"
      ],
      "execution_count": null,
      "outputs": []
    },
    {
      "cell_type": "code",
      "metadata": {
        "id": "UyRdTCAnzrhz",
        "colab": {
          "base_uri": "https://localhost:8080/"
        },
        "outputId": "d7732639-416e-43a1-b332-e9fc3a456402"
      },
      "source": [
        "print('accuracy: {}'.format(accuracy))\n",
        "print('f1 score: {}'.format(f1_score_value))\n",
        "print('precision: {}'.format(precision))\n",
        "print('recall: {}'.format(recall))"
      ],
      "execution_count": null,
      "outputs": [
        {
          "output_type": "stream",
          "name": "stdout",
          "text": [
            "accuracy: 0.5166374781085814\n",
            "f1 score: 0.47328244274809167\n",
            "precision: 0.32545931758530183\n",
            "recall: 0.8671328671328671\n"
          ]
        }
      ]
    },
    {
      "cell_type": "code",
      "metadata": {
        "id": "Ecz2C_efeqxJ",
        "colab": {
          "base_uri": "https://localhost:8080/",
          "height": 542
        },
        "outputId": "919ce38e-6be9-465f-f5ff-b184505651e0"
      },
      "source": [
        "global_explainability_tabular.loc[\"True\"][:15]"
      ],
      "execution_count": null,
      "outputs": [
        {
          "output_type": "execute_result",
          "data": {
            "text/html": [
              "<div>\n",
              "<style scoped>\n",
              "    .dataframe tbody tr th:only-of-type {\n",
              "        vertical-align: middle;\n",
              "    }\n",
              "\n",
              "    .dataframe tbody tr th {\n",
              "        vertical-align: top;\n",
              "    }\n",
              "\n",
              "    .dataframe thead th {\n",
              "        text-align: right;\n",
              "    }\n",
              "</style>\n",
              "<table border=\"1\" class=\"dataframe\">\n",
              "  <thead>\n",
              "    <tr style=\"text-align: right;\">\n",
              "      <th></th>\n",
              "      <th>features</th>\n",
              "      <th>score</th>\n",
              "    </tr>\n",
              "    <tr>\n",
              "      <th>argumentative</th>\n",
              "      <th></th>\n",
              "      <th></th>\n",
              "    </tr>\n",
              "  </thead>\n",
              "  <tbody>\n",
              "    <tr>\n",
              "      <th>True</th>\n",
              "      <td>'': 1</td>\n",
              "      <td>0.000192</td>\n",
              "    </tr>\n",
              "    <tr>\n",
              "      <th>True</th>\n",
              "      <td>'': 0</td>\n",
              "      <td>0.000065</td>\n",
              "    </tr>\n",
              "    <tr>\n",
              "      <th>True</th>\n",
              "      <td>%: 1</td>\n",
              "      <td>0.000039</td>\n",
              "    </tr>\n",
              "    <tr>\n",
              "      <th>True</th>\n",
              "      <td>,: 4</td>\n",
              "      <td>0.000032</td>\n",
              "    </tr>\n",
              "    <tr>\n",
              "      <th>True</th>\n",
              "      <td>): 6</td>\n",
              "      <td>0.000031</td>\n",
              "    </tr>\n",
              "    <tr>\n",
              "      <th>True</th>\n",
              "      <td>(: 6</td>\n",
              "      <td>0.000031</td>\n",
              "    </tr>\n",
              "    <tr>\n",
              "      <th>True</th>\n",
              "      <td>': 3</td>\n",
              "      <td>0.000031</td>\n",
              "    </tr>\n",
              "    <tr>\n",
              "      <th>True</th>\n",
              "      <td>'re: 4</td>\n",
              "      <td>0.000031</td>\n",
              "    </tr>\n",
              "    <tr>\n",
              "      <th>True</th>\n",
              "      <td>': 4</td>\n",
              "      <td>0.000031</td>\n",
              "    </tr>\n",
              "    <tr>\n",
              "      <th>True</th>\n",
              "      <td>,: 13</td>\n",
              "      <td>0.000023</td>\n",
              "    </tr>\n",
              "    <tr>\n",
              "      <th>True</th>\n",
              "      <td>'': 2</td>\n",
              "      <td>0.000022</td>\n",
              "    </tr>\n",
              "    <tr>\n",
              "      <th>True</th>\n",
              "      <td>,: 0</td>\n",
              "      <td>0.000021</td>\n",
              "    </tr>\n",
              "    <tr>\n",
              "      <th>True</th>\n",
              "      <td>2010: 1</td>\n",
              "      <td>0.000019</td>\n",
              "    </tr>\n",
              "    <tr>\n",
              "      <th>True</th>\n",
              "      <td>%: 0</td>\n",
              "      <td>0.000018</td>\n",
              "    </tr>\n",
              "    <tr>\n",
              "      <th>True</th>\n",
              "      <td>'s: 2</td>\n",
              "      <td>0.000016</td>\n",
              "    </tr>\n",
              "  </tbody>\n",
              "</table>\n",
              "</div>"
            ],
            "text/plain": [
              "              features     score\n",
              "argumentative                   \n",
              "True             '': 1  0.000192\n",
              "True             '': 0  0.000065\n",
              "True              %: 1  0.000039\n",
              "True              ,: 4  0.000032\n",
              "True              ): 6  0.000031\n",
              "True              (: 6  0.000031\n",
              "True              ': 3  0.000031\n",
              "True            're: 4  0.000031\n",
              "True              ': 4  0.000031\n",
              "True             ,: 13  0.000023\n",
              "True             '': 2  0.000022\n",
              "True              ,: 0  0.000021\n",
              "True           2010: 1  0.000019\n",
              "True              %: 0  0.000018\n",
              "True             's: 2  0.000016"
            ]
          },
          "metadata": {},
          "execution_count": 114
        }
      ]
    },
    {
      "cell_type": "code",
      "metadata": {
        "id": "y2SNL8seeqxK",
        "colab": {
          "base_uri": "https://localhost:8080/",
          "height": 388
        },
        "outputId": "2c56c3fc-4a2b-456a-8f3d-584bf6accc7c"
      },
      "source": [
        "global_explainability_tabular.loc[\"False\"][:10]"
      ],
      "execution_count": null,
      "outputs": [
        {
          "output_type": "execute_result",
          "data": {
            "text/html": [
              "<div>\n",
              "<style scoped>\n",
              "    .dataframe tbody tr th:only-of-type {\n",
              "        vertical-align: middle;\n",
              "    }\n",
              "\n",
              "    .dataframe tbody tr th {\n",
              "        vertical-align: top;\n",
              "    }\n",
              "\n",
              "    .dataframe thead th {\n",
              "        text-align: right;\n",
              "    }\n",
              "</style>\n",
              "<table border=\"1\" class=\"dataframe\">\n",
              "  <thead>\n",
              "    <tr style=\"text-align: right;\">\n",
              "      <th></th>\n",
              "      <th>features</th>\n",
              "      <th>score</th>\n",
              "    </tr>\n",
              "    <tr>\n",
              "      <th>argumentative</th>\n",
              "      <th></th>\n",
              "      <th></th>\n",
              "    </tr>\n",
              "  </thead>\n",
              "  <tbody>\n",
              "    <tr>\n",
              "      <th>False</th>\n",
              "      <td>'': 1</td>\n",
              "      <td>0.000525</td>\n",
              "    </tr>\n",
              "    <tr>\n",
              "      <th>False</th>\n",
              "      <td>%: 2</td>\n",
              "      <td>0.000499</td>\n",
              "    </tr>\n",
              "    <tr>\n",
              "      <th>False</th>\n",
              "      <td>%: 1</td>\n",
              "      <td>0.000482</td>\n",
              "    </tr>\n",
              "    <tr>\n",
              "      <th>False</th>\n",
              "      <td>10: 1</td>\n",
              "      <td>0.000305</td>\n",
              "    </tr>\n",
              "    <tr>\n",
              "      <th>False</th>\n",
              "      <td>15: 1</td>\n",
              "      <td>0.000268</td>\n",
              "    </tr>\n",
              "    <tr>\n",
              "      <th>False</th>\n",
              "      <td>2010: 1</td>\n",
              "      <td>0.000220</td>\n",
              "    </tr>\n",
              "    <tr>\n",
              "      <th>False</th>\n",
              "      <td>3: 1</td>\n",
              "      <td>0.000122</td>\n",
              "    </tr>\n",
              "    <tr>\n",
              "      <th>False</th>\n",
              "      <td>adolescent: 1</td>\n",
              "      <td>0.000110</td>\n",
              "    </tr>\n",
              "    <tr>\n",
              "      <th>False</th>\n",
              "      <td>2003: 1</td>\n",
              "      <td>0.000097</td>\n",
              "    </tr>\n",
              "    <tr>\n",
              "      <th>False</th>\n",
              "      <td>(: 4</td>\n",
              "      <td>0.000085</td>\n",
              "    </tr>\n",
              "  </tbody>\n",
              "</table>\n",
              "</div>"
            ],
            "text/plain": [
              "                    features     score\n",
              "argumentative                         \n",
              "False                  '': 1  0.000525\n",
              "False                   %: 2  0.000499\n",
              "False                   %: 1  0.000482\n",
              "False                  10: 1  0.000305\n",
              "False                  15: 1  0.000268\n",
              "False                2010: 1  0.000220\n",
              "False                   3: 1  0.000122\n",
              "False          adolescent: 1  0.000110\n",
              "False                2003: 1  0.000097\n",
              "False                   (: 4  0.000085"
            ]
          },
          "metadata": {},
          "execution_count": 115
        }
      ]
    },
    {
      "cell_type": "markdown",
      "metadata": {
        "id": "qPZ9wr1ZJZuF"
      },
      "source": [
        "## **Bigrams**"
      ]
    },
    {
      "cell_type": "code",
      "metadata": {
        "id": "MrocDTG8wiEI",
        "colab": {
          "base_uri": "https://localhost:8080/"
        },
        "outputId": "f48a7922-75fa-4cac-c4af-c8049a710a17"
      },
      "source": [
        "ground_labels, global_explainability_tabular, labels, _, _, policy=stc_procedure_tabular(Bigram,true_labels)"
      ],
      "execution_count": null,
      "outputs": [
        {
          "output_type": "stream",
          "name": "stdout",
          "text": [
            ""
          ]
        }
      ]
    },
    {
      "cell_type": "code",
      "metadata": {
        "id": "T3DLztVqztjB"
      },
      "source": [
        "accuracy=accuracy_score(ground_labels, labels)\n",
        "f1_score_value=f1_score(y_true=ground_labels, y_pred=labels, pos_label=\"True\")\n",
        "precision=precision_score(ground_labels, labels, pos_label=\"True\")\n",
        "recall=recall_score(ground_labels, labels, pos_label=\"True\")"
      ],
      "execution_count": null,
      "outputs": []
    },
    {
      "cell_type": "code",
      "metadata": {
        "id": "zXDvXHZEztjB"
      },
      "source": [
        "accuracy_scores.append(accuracy)\n",
        "f1_scores.append(f1_score_value)\n",
        "precision_scores.append(precision)\n",
        "recall_scores.append(recall)"
      ],
      "execution_count": null,
      "outputs": []
    },
    {
      "cell_type": "code",
      "metadata": {
        "id": "bFrA9UIsztjC",
        "colab": {
          "base_uri": "https://localhost:8080/"
        },
        "outputId": "c61929a6-17df-4e56-df96-4650da175b67"
      },
      "source": [
        "print('accuracy: {}'.format(accuracy))\n",
        "print('f1 score: {}'.format(f1_score_value))\n",
        "print('precision: {}'.format(precision))\n",
        "print('recall: {}'.format(recall))"
      ],
      "execution_count": null,
      "outputs": [
        {
          "output_type": "stream",
          "name": "stdout",
          "text": [
            "accuracy: 0.2819614711033275\n",
            "f1 score: 0.410919540229885\n",
            "precision: 0.2585895117540687\n",
            "recall: 1.0\n"
          ]
        }
      ]
    },
    {
      "cell_type": "code",
      "metadata": {
        "id": "PTvsZ2KTezZj",
        "colab": {
          "base_uri": "https://localhost:8080/",
          "height": 542
        },
        "outputId": "304bd4eb-8cc2-40b6-8675-ec1dad2d495f"
      },
      "source": [
        "global_explainability_tabular.loc[\"True\"][:15]"
      ],
      "execution_count": null,
      "outputs": [
        {
          "output_type": "execute_result",
          "data": {
            "text/html": [
              "<div>\n",
              "<style scoped>\n",
              "    .dataframe tbody tr th:only-of-type {\n",
              "        vertical-align: middle;\n",
              "    }\n",
              "\n",
              "    .dataframe tbody tr th {\n",
              "        vertical-align: top;\n",
              "    }\n",
              "\n",
              "    .dataframe thead th {\n",
              "        text-align: right;\n",
              "    }\n",
              "</style>\n",
              "<table border=\"1\" class=\"dataframe\">\n",
              "  <thead>\n",
              "    <tr style=\"text-align: right;\">\n",
              "      <th></th>\n",
              "      <th>features</th>\n",
              "      <th>score</th>\n",
              "    </tr>\n",
              "    <tr>\n",
              "      <th>argumentative</th>\n",
              "      <th></th>\n",
              "      <th></th>\n",
              "    </tr>\n",
              "  </thead>\n",
              "  <tbody>\n",
              "    <tr>\n",
              "      <th>True</th>\n",
              "      <td>' ,: 1</td>\n",
              "      <td>6.269592e-05</td>\n",
              "    </tr>\n",
              "    <tr>\n",
              "      <th>True</th>\n",
              "      <td>' life: 1</td>\n",
              "      <td>3.134796e-05</td>\n",
              "    </tr>\n",
              "    <tr>\n",
              "      <th>True</th>\n",
              "      <td>' health: 1</td>\n",
              "      <td>3.134796e-05</td>\n",
              "    </tr>\n",
              "    <tr>\n",
              "      <th>True</th>\n",
              "      <td>% of: 0</td>\n",
              "      <td>6.069051e-06</td>\n",
              "    </tr>\n",
              "    <tr>\n",
              "      <th>True</th>\n",
              "      <td>' ,: 0</td>\n",
              "      <td>3.544315e-08</td>\n",
              "    </tr>\n",
              "    <tr>\n",
              "      <th>True</th>\n",
              "      <td>' life: 0</td>\n",
              "      <td>8.860801e-09</td>\n",
              "    </tr>\n",
              "    <tr>\n",
              "      <th>True</th>\n",
              "      <td>' health: 0</td>\n",
              "      <td>8.860801e-09</td>\n",
              "    </tr>\n",
              "    <tr>\n",
              "      <th>True</th>\n",
              "      <td>' behavior: 0</td>\n",
              "      <td>1.338544e-09</td>\n",
              "    </tr>\n",
              "    <tr>\n",
              "      <th>True</th>\n",
              "      <td>' culture: 0</td>\n",
              "      <td>1.338544e-09</td>\n",
              "    </tr>\n",
              "    <tr>\n",
              "      <th>True</th>\n",
              "      <td>' popularity: 0</td>\n",
              "      <td>0.000000e+00</td>\n",
              "    </tr>\n",
              "    <tr>\n",
              "      <th>True</th>\n",
              "      <td>' expectation: 0</td>\n",
              "      <td>0.000000e+00</td>\n",
              "    </tr>\n",
              "    <tr>\n",
              "      <th>True</th>\n",
              "      <td>' learning: 0</td>\n",
              "      <td>0.000000e+00</td>\n",
              "    </tr>\n",
              "    <tr>\n",
              "      <th>True</th>\n",
              "      <td>' primary: 0</td>\n",
              "      <td>0.000000e+00</td>\n",
              "    </tr>\n",
              "    <tr>\n",
              "      <th>True</th>\n",
              "      <td>' accommodation: 0</td>\n",
              "      <td>0.000000e+00</td>\n",
              "    </tr>\n",
              "    <tr>\n",
              "      <th>True</th>\n",
              "      <td>knowledge is: 0</td>\n",
              "      <td>0.000000e+00</td>\n",
              "    </tr>\n",
              "  </tbody>\n",
              "</table>\n",
              "</div>"
            ],
            "text/plain": [
              "                         features         score\n",
              "argumentative                                  \n",
              "True                       ' ,: 1  6.269592e-05\n",
              "True                    ' life: 1  3.134796e-05\n",
              "True                  ' health: 1  3.134796e-05\n",
              "True                      % of: 0  6.069051e-06\n",
              "True                       ' ,: 0  3.544315e-08\n",
              "True                    ' life: 0  8.860801e-09\n",
              "True                  ' health: 0  8.860801e-09\n",
              "True                ' behavior: 0  1.338544e-09\n",
              "True                 ' culture: 0  1.338544e-09\n",
              "True              ' popularity: 0  0.000000e+00\n",
              "True             ' expectation: 0  0.000000e+00\n",
              "True                ' learning: 0  0.000000e+00\n",
              "True                 ' primary: 0  0.000000e+00\n",
              "True           ' accommodation: 0  0.000000e+00\n",
              "True              knowledge is: 0  0.000000e+00"
            ]
          },
          "metadata": {},
          "execution_count": 120
        }
      ]
    },
    {
      "cell_type": "code",
      "metadata": {
        "id": "JLm3Dpn4ezZk",
        "colab": {
          "base_uri": "https://localhost:8080/",
          "height": 388
        },
        "outputId": "7037effd-6a1d-41bb-f55a-599aa4f7a46d"
      },
      "source": [
        "global_explainability_tabular.loc[\"False\"][:10]"
      ],
      "execution_count": null,
      "outputs": [
        {
          "output_type": "execute_result",
          "data": {
            "text/html": [
              "<div>\n",
              "<style scoped>\n",
              "    .dataframe tbody tr th:only-of-type {\n",
              "        vertical-align: middle;\n",
              "    }\n",
              "\n",
              "    .dataframe tbody tr th {\n",
              "        vertical-align: top;\n",
              "    }\n",
              "\n",
              "    .dataframe thead th {\n",
              "        text-align: right;\n",
              "    }\n",
              "</style>\n",
              "<table border=\"1\" class=\"dataframe\">\n",
              "  <thead>\n",
              "    <tr style=\"text-align: right;\">\n",
              "      <th></th>\n",
              "      <th>features</th>\n",
              "      <th>score</th>\n",
              "    </tr>\n",
              "    <tr>\n",
              "      <th>argumentative</th>\n",
              "      <th></th>\n",
              "      <th></th>\n",
              "    </tr>\n",
              "  </thead>\n",
              "  <tbody>\n",
              "    <tr>\n",
              "      <th>False</th>\n",
              "      <td>% of: 1</td>\n",
              "      <td>6.455542e-04</td>\n",
              "    </tr>\n",
              "    <tr>\n",
              "      <th>False</th>\n",
              "      <td>% of: 2</td>\n",
              "      <td>1.461632e-04</td>\n",
              "    </tr>\n",
              "    <tr>\n",
              "      <th>False</th>\n",
              "      <td>' culture: 1</td>\n",
              "      <td>1.218027e-05</td>\n",
              "    </tr>\n",
              "    <tr>\n",
              "      <th>False</th>\n",
              "      <td>' behavior: 1</td>\n",
              "      <td>1.218027e-05</td>\n",
              "    </tr>\n",
              "    <tr>\n",
              "      <th>False</th>\n",
              "      <td>% of: 3</td>\n",
              "      <td>1.218027e-05</td>\n",
              "    </tr>\n",
              "    <tr>\n",
              "      <th>False</th>\n",
              "      <td>% of: 0</td>\n",
              "      <td>5.825106e-06</td>\n",
              "    </tr>\n",
              "    <tr>\n",
              "      <th>False</th>\n",
              "      <td>' ,: 0</td>\n",
              "      <td>3.555460e-08</td>\n",
              "    </tr>\n",
              "    <tr>\n",
              "      <th>False</th>\n",
              "      <td>' life: 0</td>\n",
              "      <td>8.874711e-09</td>\n",
              "    </tr>\n",
              "    <tr>\n",
              "      <th>False</th>\n",
              "      <td>' health: 0</td>\n",
              "      <td>8.874711e-09</td>\n",
              "    </tr>\n",
              "    <tr>\n",
              "      <th>False</th>\n",
              "      <td>' behavior: 0</td>\n",
              "      <td>1.337729e-09</td>\n",
              "    </tr>\n",
              "  </tbody>\n",
              "</table>\n",
              "</div>"
            ],
            "text/plain": [
              "                    features         score\n",
              "argumentative                             \n",
              "False                % of: 1  6.455542e-04\n",
              "False                % of: 2  1.461632e-04\n",
              "False           ' culture: 1  1.218027e-05\n",
              "False          ' behavior: 1  1.218027e-05\n",
              "False                % of: 3  1.218027e-05\n",
              "False                % of: 0  5.825106e-06\n",
              "False                 ' ,: 0  3.555460e-08\n",
              "False              ' life: 0  8.874711e-09\n",
              "False            ' health: 0  8.874711e-09\n",
              "False          ' behavior: 0  1.337729e-09"
            ]
          },
          "metadata": {},
          "execution_count": 121
        }
      ]
    },
    {
      "cell_type": "markdown",
      "metadata": {
        "id": "VbYkyy7Nf6ka"
      },
      "source": [
        "## **Imported n-grams**"
      ]
    },
    {
      "cell_type": "code",
      "metadata": {
        "id": "VLgPl7fnwoDh",
        "colab": {
          "base_uri": "https://localhost:8080/"
        },
        "outputId": "fdb78400-641d-45fa-d106-6244c2c363e0"
      },
      "source": [
        "ground_labels, global_explainability_tabular, labels, _, _, policy=stc_procedure_tabular(imported_ngram,true_labels)"
      ],
      "execution_count": null,
      "outputs": [
        {
          "output_type": "stream",
          "name": "stdout",
          "text": [
            ""
          ]
        }
      ]
    },
    {
      "cell_type": "code",
      "metadata": {
        "id": "C_fPE2T_zvs9"
      },
      "source": [
        "accuracy=accuracy_score(ground_labels, labels)\n",
        "f1_score_value=f1_score(y_true=ground_labels, y_pred=labels, pos_label=\"True\")\n",
        "precision=precision_score(ground_labels, labels, pos_label=\"True\")\n",
        "recall=recall_score(ground_labels, labels, pos_label=\"True\")"
      ],
      "execution_count": null,
      "outputs": []
    },
    {
      "cell_type": "code",
      "metadata": {
        "id": "15WRs2yMzvs-"
      },
      "source": [
        "accuracy_scores.append(accuracy)\n",
        "f1_scores.append(f1_score_value)\n",
        "precision_scores.append(precision)\n",
        "recall_scores.append(recall)"
      ],
      "execution_count": null,
      "outputs": []
    },
    {
      "cell_type": "code",
      "metadata": {
        "id": "wJrYsjS2zvs-",
        "colab": {
          "base_uri": "https://localhost:8080/"
        },
        "outputId": "65ff0913-1e6e-496b-a3af-1530a741a305"
      },
      "source": [
        "print('accuracy: {}'.format(accuracy))\n",
        "print('f1 score: {}'.format(f1_score_value))\n",
        "print('precision: {}'.format(precision))\n",
        "print('recall: {}'.format(recall))"
      ],
      "execution_count": null,
      "outputs": [
        {
          "output_type": "stream",
          "name": "stdout",
          "text": [
            "accuracy: 0.6304728546409807\n",
            "f1 score: 0.17898832684824903\n",
            "precision: 0.20175438596491227\n",
            "recall: 0.16083916083916083\n"
          ]
        }
      ]
    },
    {
      "cell_type": "code",
      "metadata": {
        "id": "3jSv_FU8f6ke",
        "colab": {
          "base_uri": "https://localhost:8080/",
          "height": 542
        },
        "outputId": "92c7d60e-ceca-4989-b33a-3e2fd895d029"
      },
      "source": [
        "global_explainability_tabular.loc[\"True\"][:15]"
      ],
      "execution_count": null,
      "outputs": [
        {
          "output_type": "execute_result",
          "data": {
            "text/html": [
              "<div>\n",
              "<style scoped>\n",
              "    .dataframe tbody tr th:only-of-type {\n",
              "        vertical-align: middle;\n",
              "    }\n",
              "\n",
              "    .dataframe tbody tr th {\n",
              "        vertical-align: top;\n",
              "    }\n",
              "\n",
              "    .dataframe thead th {\n",
              "        text-align: right;\n",
              "    }\n",
              "</style>\n",
              "<table border=\"1\" class=\"dataframe\">\n",
              "  <thead>\n",
              "    <tr style=\"text-align: right;\">\n",
              "      <th></th>\n",
              "      <th>features</th>\n",
              "      <th>score</th>\n",
              "    </tr>\n",
              "    <tr>\n",
              "      <th>argumentative</th>\n",
              "      <th></th>\n",
              "      <th></th>\n",
              "    </tr>\n",
              "  </thead>\n",
              "  <tbody>\n",
              "    <tr>\n",
              "      <th>True</th>\n",
              "      <td>because: 1</td>\n",
              "      <td>0.000159</td>\n",
              "    </tr>\n",
              "    <tr>\n",
              "      <th>True</th>\n",
              "      <td>since: 1</td>\n",
              "      <td>0.000114</td>\n",
              "    </tr>\n",
              "    <tr>\n",
              "      <th>True</th>\n",
              "      <td>because: 2</td>\n",
              "      <td>0.000078</td>\n",
              "    </tr>\n",
              "    <tr>\n",
              "      <th>True</th>\n",
              "      <td>given that: 1</td>\n",
              "      <td>0.000039</td>\n",
              "    </tr>\n",
              "    <tr>\n",
              "      <th>True</th>\n",
              "      <td>besides: 1</td>\n",
              "      <td>0.000039</td>\n",
              "    </tr>\n",
              "    <tr>\n",
              "      <th>True</th>\n",
              "      <td>derived from: 1</td>\n",
              "      <td>0.000039</td>\n",
              "    </tr>\n",
              "    <tr>\n",
              "      <th>True</th>\n",
              "      <td>for example: 2</td>\n",
              "      <td>0.000039</td>\n",
              "    </tr>\n",
              "    <tr>\n",
              "      <th>True</th>\n",
              "      <td>because: 3</td>\n",
              "      <td>0.000039</td>\n",
              "    </tr>\n",
              "    <tr>\n",
              "      <th>True</th>\n",
              "      <td>in addition: 1</td>\n",
              "      <td>0.000034</td>\n",
              "    </tr>\n",
              "    <tr>\n",
              "      <th>True</th>\n",
              "      <td>thus: 1</td>\n",
              "      <td>0.000016</td>\n",
              "    </tr>\n",
              "    <tr>\n",
              "      <th>True</th>\n",
              "      <td>suggests that: 1</td>\n",
              "      <td>0.000014</td>\n",
              "    </tr>\n",
              "    <tr>\n",
              "      <th>True</th>\n",
              "      <td>clearly: 1</td>\n",
              "      <td>0.000006</td>\n",
              "    </tr>\n",
              "    <tr>\n",
              "      <th>True</th>\n",
              "      <td>because: 0</td>\n",
              "      <td>0.000006</td>\n",
              "    </tr>\n",
              "    <tr>\n",
              "      <th>True</th>\n",
              "      <td>hence: 1</td>\n",
              "      <td>0.000006</td>\n",
              "    </tr>\n",
              "    <tr>\n",
              "      <th>True</th>\n",
              "      <td>for: 1</td>\n",
              "      <td>0.000005</td>\n",
              "    </tr>\n",
              "  </tbody>\n",
              "</table>\n",
              "</div>"
            ],
            "text/plain": [
              "                       features     score\n",
              "argumentative                            \n",
              "True                 because: 1  0.000159\n",
              "True                   since: 1  0.000114\n",
              "True                 because: 2  0.000078\n",
              "True              given that: 1  0.000039\n",
              "True                 besides: 1  0.000039\n",
              "True            derived from: 1  0.000039\n",
              "True             for example: 2  0.000039\n",
              "True                 because: 3  0.000039\n",
              "True             in addition: 1  0.000034\n",
              "True                    thus: 1  0.000016\n",
              "True           suggests that: 1  0.000014\n",
              "True                 clearly: 1  0.000006\n",
              "True                 because: 0  0.000006\n",
              "True                   hence: 1  0.000006\n",
              "True                     for: 1  0.000005"
            ]
          },
          "metadata": {},
          "execution_count": 126
        }
      ]
    },
    {
      "cell_type": "code",
      "metadata": {
        "id": "zumKqAquf6kf",
        "colab": {
          "base_uri": "https://localhost:8080/",
          "height": 388
        },
        "outputId": "c8e1b640-61fd-45bf-81b5-0a613fcf6404"
      },
      "source": [
        "global_explainability_tabular.loc[\"False\"][:10]"
      ],
      "execution_count": null,
      "outputs": [
        {
          "output_type": "execute_result",
          "data": {
            "text/html": [
              "<div>\n",
              "<style scoped>\n",
              "    .dataframe tbody tr th:only-of-type {\n",
              "        vertical-align: middle;\n",
              "    }\n",
              "\n",
              "    .dataframe tbody tr th {\n",
              "        vertical-align: top;\n",
              "    }\n",
              "\n",
              "    .dataframe thead th {\n",
              "        text-align: right;\n",
              "    }\n",
              "</style>\n",
              "<table border=\"1\" class=\"dataframe\">\n",
              "  <thead>\n",
              "    <tr style=\"text-align: right;\">\n",
              "      <th></th>\n",
              "      <th>features</th>\n",
              "      <th>score</th>\n",
              "    </tr>\n",
              "    <tr>\n",
              "      <th>argumentative</th>\n",
              "      <th></th>\n",
              "      <th></th>\n",
              "    </tr>\n",
              "  </thead>\n",
              "  <tbody>\n",
              "    <tr>\n",
              "      <th>False</th>\n",
              "      <td>because: 1</td>\n",
              "      <td>0.000069</td>\n",
              "    </tr>\n",
              "    <tr>\n",
              "      <th>False</th>\n",
              "      <td>conclude that: 1</td>\n",
              "      <td>0.000061</td>\n",
              "    </tr>\n",
              "    <tr>\n",
              "      <th>False</th>\n",
              "      <td>since: 1</td>\n",
              "      <td>0.000046</td>\n",
              "    </tr>\n",
              "    <tr>\n",
              "      <th>False</th>\n",
              "      <td>whereas: 1</td>\n",
              "      <td>0.000046</td>\n",
              "    </tr>\n",
              "    <tr>\n",
              "      <th>False</th>\n",
              "      <td>in view of: 1</td>\n",
              "      <td>0.000030</td>\n",
              "    </tr>\n",
              "    <tr>\n",
              "      <th>False</th>\n",
              "      <td>clearly: 1</td>\n",
              "      <td>0.000017</td>\n",
              "    </tr>\n",
              "    <tr>\n",
              "      <th>False</th>\n",
              "      <td>in light of: 1</td>\n",
              "      <td>0.000015</td>\n",
              "    </tr>\n",
              "    <tr>\n",
              "      <th>False</th>\n",
              "      <td>for: 6</td>\n",
              "      <td>0.000015</td>\n",
              "    </tr>\n",
              "    <tr>\n",
              "      <th>False</th>\n",
              "      <td>demonstrates that: 1</td>\n",
              "      <td>0.000015</td>\n",
              "    </tr>\n",
              "    <tr>\n",
              "      <th>False</th>\n",
              "      <td>in addition: 1</td>\n",
              "      <td>0.000013</td>\n",
              "    </tr>\n",
              "  </tbody>\n",
              "</table>\n",
              "</div>"
            ],
            "text/plain": [
              "                           features     score\n",
              "argumentative                                \n",
              "False                    because: 1  0.000069\n",
              "False              conclude that: 1  0.000061\n",
              "False                      since: 1  0.000046\n",
              "False                    whereas: 1  0.000046\n",
              "False                 in view of: 1  0.000030\n",
              "False                    clearly: 1  0.000017\n",
              "False                in light of: 1  0.000015\n",
              "False                        for: 6  0.000015\n",
              "False          demonstrates that: 1  0.000015\n",
              "False                in addition: 1  0.000013"
            ]
          },
          "metadata": {},
          "execution_count": 127
        }
      ]
    },
    {
      "cell_type": "markdown",
      "metadata": {
        "id": "LI_fDBH-J0Ak"
      },
      "source": [
        "## **Subjectivity**"
      ]
    },
    {
      "cell_type": "code",
      "metadata": {
        "id": "4gxOoukEw-8g",
        "colab": {
          "base_uri": "https://localhost:8080/"
        },
        "outputId": "63b9a7cd-e94e-4d3e-f341-14fa7f46060f"
      },
      "source": [
        "ground_labels, global_explainability_tabular, labels, _, _, policy=stc_procedure_tabular(others,true_labels)"
      ],
      "execution_count": null,
      "outputs": [
        {
          "output_type": "stream",
          "name": "stdout",
          "text": [
            ""
          ]
        }
      ]
    },
    {
      "cell_type": "code",
      "metadata": {
        "id": "-7ZDUB_Dzykm"
      },
      "source": [
        "accuracy=accuracy_score(ground_labels, labels)\n",
        "f1_score_value=f1_score(y_true=ground_labels, y_pred=labels, pos_label=\"True\")\n",
        "precision=precision_score(ground_labels, labels, pos_label=\"True\")\n",
        "recall=recall_score(ground_labels, labels, pos_label=\"True\")"
      ],
      "execution_count": null,
      "outputs": []
    },
    {
      "cell_type": "code",
      "metadata": {
        "id": "1riIduZGzykm"
      },
      "source": [
        "accuracy_scores.append(accuracy)\n",
        "f1_scores.append(f1_score_value)\n",
        "precision_scores.append(precision)\n",
        "recall_scores.append(recall)"
      ],
      "execution_count": null,
      "outputs": []
    },
    {
      "cell_type": "code",
      "metadata": {
        "id": "vCa8cDDezykm",
        "colab": {
          "base_uri": "https://localhost:8080/"
        },
        "outputId": "1f737d47-3f6e-431d-aaba-82fd27a718e9"
      },
      "source": [
        "print('accuracy: {}'.format(accuracy))\n",
        "print('f1 score: {}'.format(f1_score_value))\n",
        "print('precision: {}'.format(precision))\n",
        "print('recall: {}'.format(recall))"
      ],
      "execution_count": null,
      "outputs": [
        {
          "output_type": "stream",
          "name": "stdout",
          "text": [
            "accuracy: 0.6567425569176882\n",
            "f1 score: 0.4166666666666667\n",
            "precision: 0.3626943005181347\n",
            "recall: 0.48951048951048953\n"
          ]
        }
      ]
    },
    {
      "cell_type": "code",
      "metadata": {
        "id": "XuBiXBfHe6LV",
        "colab": {
          "base_uri": "https://localhost:8080/",
          "height": 142
        },
        "outputId": "cdff2fd4-125d-40d6-8158-dd8e6b4f44c8"
      },
      "source": [
        "global_explainability_tabular.loc[\"True\"][:2]"
      ],
      "execution_count": null,
      "outputs": [
        {
          "output_type": "execute_result",
          "data": {
            "text/html": [
              "<div>\n",
              "<style scoped>\n",
              "    .dataframe tbody tr th:only-of-type {\n",
              "        vertical-align: middle;\n",
              "    }\n",
              "\n",
              "    .dataframe tbody tr th {\n",
              "        vertical-align: top;\n",
              "    }\n",
              "\n",
              "    .dataframe thead th {\n",
              "        text-align: right;\n",
              "    }\n",
              "</style>\n",
              "<table border=\"1\" class=\"dataframe\">\n",
              "  <thead>\n",
              "    <tr style=\"text-align: right;\">\n",
              "      <th></th>\n",
              "      <th>features</th>\n",
              "      <th>score</th>\n",
              "    </tr>\n",
              "    <tr>\n",
              "      <th>argumentative</th>\n",
              "      <th></th>\n",
              "      <th></th>\n",
              "    </tr>\n",
              "  </thead>\n",
              "  <tbody>\n",
              "    <tr>\n",
              "      <th>True</th>\n",
              "      <td>subjectivity score: 0.0</td>\n",
              "      <td>0.017856</td>\n",
              "    </tr>\n",
              "    <tr>\n",
              "      <th>True</th>\n",
              "      <td>subjectivity score: 1.0</td>\n",
              "      <td>0.007151</td>\n",
              "    </tr>\n",
              "  </tbody>\n",
              "</table>\n",
              "</div>"
            ],
            "text/plain": [
              "                              features     score\n",
              "argumentative                                   \n",
              "True           subjectivity score: 0.0  0.017856\n",
              "True           subjectivity score: 1.0  0.007151"
            ]
          },
          "metadata": {},
          "execution_count": 132
        }
      ]
    },
    {
      "cell_type": "code",
      "metadata": {
        "id": "AN59ctMYe6LV",
        "colab": {
          "base_uri": "https://localhost:8080/",
          "height": 142
        },
        "outputId": "1f9f1536-9dff-4d32-d908-e7cf05c437ad"
      },
      "source": [
        "global_explainability_tabular.loc[\"False\"][:2]"
      ],
      "execution_count": null,
      "outputs": [
        {
          "output_type": "execute_result",
          "data": {
            "text/html": [
              "<div>\n",
              "<style scoped>\n",
              "    .dataframe tbody tr th:only-of-type {\n",
              "        vertical-align: middle;\n",
              "    }\n",
              "\n",
              "    .dataframe tbody tr th {\n",
              "        vertical-align: top;\n",
              "    }\n",
              "\n",
              "    .dataframe thead th {\n",
              "        text-align: right;\n",
              "    }\n",
              "</style>\n",
              "<table border=\"1\" class=\"dataframe\">\n",
              "  <thead>\n",
              "    <tr style=\"text-align: right;\">\n",
              "      <th></th>\n",
              "      <th>features</th>\n",
              "      <th>score</th>\n",
              "    </tr>\n",
              "    <tr>\n",
              "      <th>argumentative</th>\n",
              "      <th></th>\n",
              "      <th></th>\n",
              "    </tr>\n",
              "  </thead>\n",
              "  <tbody>\n",
              "    <tr>\n",
              "      <th>False</th>\n",
              "      <td>subjectivity score: 0.0</td>\n",
              "      <td>0.011096</td>\n",
              "    </tr>\n",
              "    <tr>\n",
              "      <th>False</th>\n",
              "      <td>subjectivity score: 1.0</td>\n",
              "      <td>0.009365</td>\n",
              "    </tr>\n",
              "  </tbody>\n",
              "</table>\n",
              "</div>"
            ],
            "text/plain": [
              "                              features     score\n",
              "argumentative                                   \n",
              "False          subjectivity score: 0.0  0.011096\n",
              "False          subjectivity score: 1.0  0.009365"
            ]
          },
          "metadata": {},
          "execution_count": 133
        }
      ]
    },
    {
      "cell_type": "markdown",
      "metadata": {
        "id": "SSKn7yq-A1IT"
      },
      "source": [
        "# **Statistic dataset comparison**"
      ]
    },
    {
      "cell_type": "code",
      "metadata": {
        "id": "UKmavj_iBP_v"
      },
      "source": [
        "# Convert the tabular data of more than one dataset into a single dataset o multivalued\n",
        "# attributes. Where each attribure contains the informations corresponding to a \n",
        "# particular dataset imported.\n",
        "\n",
        "def dataset_to_multivalued_attribute(columns,shape,row):\n",
        "\n",
        "  return [columns[j]+\"=\"+str(row[j]) for j in range(shape-1)]\n",
        "\n",
        "\n",
        "def dataset_list_to_JSON(dataset_list:list,dataset_names_list:list,label:pd.DataFrame):\n",
        "\n",
        "  items = []\n",
        "  for i in range(label.shape[0]):\n",
        "      item = {}\n",
        "      for j in range(len(dataset_names_list)):\n",
        "        item[dataset_names_list[j]] = dataset_to_multivalued_attribute(dataset_list[j].columns,dataset_list[j].shape[1],dataset_list[j].iloc[i])\n",
        "      item['argumentative'] = [label['argumentative'].iloc[i]]\n",
        "      items.append(item)\n",
        "\n",
        "  return items"
      ],
      "execution_count": null,
      "outputs": []
    },
    {
      "cell_type": "code",
      "metadata": {
        "id": "SELC0DwjDui1"
      },
      "source": [
        "# The method takes in input a dataframe containing the data from which to predict\n",
        "# the output and the output labels desired and returns, the label for the \n",
        "# test set, the probabilities of the predicted classes, and the global and local \n",
        "# explanations of which features are most usefoul in predicting the labels.\n",
        "\n",
        "def stc_procedure_multiple_dataset(dataset_list:list,dataset_names_list:list,label:pd.DataFrame):\n",
        "\n",
        "  items=dataset_list_to_JSON(dataset_list,dataset_names_list,label)\n",
        "\n",
        "  train_items,test_items=train_test_split(items,test_size=0.2, random_state=32)\n",
        "\n",
        "  STC = SparseTensorClassifier(targets=['argumentative'], features=dataset_names_list, collapse=False)\n",
        "\n",
        "  STC.fit(train_items)\n",
        "\n",
        "  STC.set({\"entropy\": 1, \"balance\": 1, \"power\": 1})\n",
        "\n",
        "  policy, score = STC.learn(max_iter=1, random_state=42)\n",
        "\n",
        "  global_explainability = STC.explain()\n",
        "\n",
        "  labels, probability, explainability = STC.predict(test_items)\n",
        "\n",
        "  ground_labels=[item['argumentative'][0] for item in test_items]\n",
        "\n",
        "  return ground_labels, global_explainability, labels, probability, explainability, policy"
      ],
      "execution_count": null,
      "outputs": []
    },
    {
      "cell_type": "code",
      "metadata": {
        "id": "ITVpLlHHE83b"
      },
      "source": [
        "accuracy_scores_multiple=[]\n",
        "f1_scores_multiple=[]\n",
        "precision_scores_multiple=[]\n",
        "recall_scores_multiple=[]"
      ],
      "execution_count": null,
      "outputs": []
    },
    {
      "cell_type": "markdown",
      "metadata": {
        "id": "hTNy9iT8pUdJ"
      },
      "source": [
        "## **BOW POS data**"
      ]
    },
    {
      "cell_type": "code",
      "metadata": {
        "id": "K7O394UypUdJ"
      },
      "source": [
        "dataframe_list=[statistic,POS,simple_POS]\n",
        "dataframe_names_list=['statistic','POS','simple_POS']"
      ],
      "execution_count": null,
      "outputs": []
    },
    {
      "cell_type": "code",
      "metadata": {
        "id": "1rthQXE9pUdK",
        "colab": {
          "base_uri": "https://localhost:8080/"
        },
        "outputId": "f80e139d-048b-472d-9518-d6e1446ef7c8"
      },
      "source": [
        "ground_labels, global_explainability_tabular, labels, _, _, policy=stc_procedure_multiple_dataset(dataframe_list,dataframe_names_list,true_labels)"
      ],
      "execution_count": null,
      "outputs": [
        {
          "output_type": "stream",
          "name": "stdout",
          "text": [
            ""
          ]
        }
      ]
    },
    {
      "cell_type": "code",
      "metadata": {
        "id": "_Ki2v8vrpUdL"
      },
      "source": [
        "accuracy=accuracy_score(ground_labels, labels)\n",
        "f1_score_value=f1_score(y_true=ground_labels, y_pred=labels, pos_label=\"True\")\n",
        "precision=precision_score(ground_labels, labels, pos_label=\"True\")\n",
        "recall=recall_score(ground_labels, labels, pos_label=\"True\")"
      ],
      "execution_count": null,
      "outputs": []
    },
    {
      "cell_type": "code",
      "metadata": {
        "id": "F_tY8c8mpUdL"
      },
      "source": [
        "accuracy_scores_multiple.append(accuracy)\n",
        "f1_scores_multiple.append(f1_score_value)\n",
        "precision_scores_multiple.append(precision)\n",
        "recall_scores_multiple.append(recall)"
      ],
      "execution_count": null,
      "outputs": []
    },
    {
      "cell_type": "code",
      "metadata": {
        "id": "_-EW95F3pUdM",
        "colab": {
          "base_uri": "https://localhost:8080/"
        },
        "outputId": "8df5b6f5-c6c6-4a9e-a34d-a779723a6d6d"
      },
      "source": [
        "print('accuracy: {}'.format(accuracy))\n",
        "print('f1 score: {}'.format(f1_score_value))\n",
        "print('precision: {}'.format(precision))\n",
        "print('recall: {}'.format(recall))"
      ],
      "execution_count": null,
      "outputs": [
        {
          "output_type": "stream",
          "name": "stdout",
          "text": [
            "accuracy: 0.7793345008756567\n",
            "f1 score: 0.6358381502890175\n",
            "precision: 0.541871921182266\n",
            "recall: 0.7692307692307693\n"
          ]
        }
      ]
    },
    {
      "cell_type": "code",
      "metadata": {
        "id": "yZt0Y0FPpUdM",
        "colab": {
          "base_uri": "https://localhost:8080/"
        },
        "outputId": "3039e92a-fd4c-4ac1-dcf1-7b06de184b17"
      },
      "source": [
        "policy"
      ],
      "execution_count": null,
      "outputs": [
        {
          "output_type": "execute_result",
          "data": {
            "text/plain": [
              "[['simple_POS', 'POS', 'statistic'], ['POS', 'statistic'], ['statistic'], []]"
            ]
          },
          "metadata": {},
          "execution_count": 142
        }
      ]
    },
    {
      "cell_type": "code",
      "metadata": {
        "id": "UbKGfgf6pUdN"
      },
      "source": [
        "policy_set=[]\n",
        "\n",
        "for pol in policy:\n",
        "  policy_set+=pol\n",
        "\n",
        "policy_set=list(set(policy_set))\n",
        "\n",
        "for dataframe in dataframe_names_list:\n",
        "  if dataframe not in policy_set:\n",
        "    print(dataframe)"
      ],
      "execution_count": null,
      "outputs": []
    },
    {
      "cell_type": "markdown",
      "metadata": {
        "id": "BU9_zo_3PhR8"
      },
      "source": [
        "## **Bigram POS data**"
      ]
    },
    {
      "cell_type": "code",
      "metadata": {
        "id": "kBcaK7erPhR-"
      },
      "source": [
        "dataframe_list=[statistic,bigram_POS]\n",
        "dataframe_names_list=['statistic','bigram_POS']"
      ],
      "execution_count": null,
      "outputs": []
    },
    {
      "cell_type": "code",
      "metadata": {
        "id": "Nr-zdaTxPhR-",
        "colab": {
          "base_uri": "https://localhost:8080/"
        },
        "outputId": "a9dbe613-93c4-4666-f55b-59de6516384e"
      },
      "source": [
        "ground_labels, global_explainability_tabular, labels, _, _, policy=stc_procedure_multiple_dataset(dataframe_list,dataframe_names_list,true_labels)"
      ],
      "execution_count": null,
      "outputs": [
        {
          "output_type": "stream",
          "name": "stdout",
          "text": [
            ""
          ]
        }
      ]
    },
    {
      "cell_type": "code",
      "metadata": {
        "id": "3IKtOGnFPhSA"
      },
      "source": [
        "accuracy=accuracy_score(ground_labels, labels)\n",
        "f1_score_value=f1_score(y_true=ground_labels, y_pred=labels, pos_label=\"True\")\n",
        "precision=precision_score(ground_labels, labels, pos_label=\"True\")\n",
        "recall=recall_score(ground_labels, labels, pos_label=\"True\")"
      ],
      "execution_count": null,
      "outputs": []
    },
    {
      "cell_type": "code",
      "metadata": {
        "id": "jpOduCNGPhSA"
      },
      "source": [
        "accuracy_scores_multiple.append(accuracy)\n",
        "f1_scores_multiple.append(f1_score_value)\n",
        "precision_scores_multiple.append(precision)\n",
        "recall_scores_multiple.append(recall)"
      ],
      "execution_count": null,
      "outputs": []
    },
    {
      "cell_type": "code",
      "metadata": {
        "id": "hJNHdQEyPhSB",
        "colab": {
          "base_uri": "https://localhost:8080/"
        },
        "outputId": "ed48dd67-0527-4ae1-ebea-d3658d741440"
      },
      "source": [
        "print('accuracy: {}'.format(accuracy))\n",
        "print('f1 score: {}'.format(f1_score_value))\n",
        "print('precision: {}'.format(precision))\n",
        "print('recall: {}'.format(recall))"
      ],
      "execution_count": null,
      "outputs": [
        {
          "output_type": "stream",
          "name": "stdout",
          "text": [
            "accuracy: 0.6952714535901926\n",
            "f1 score: 0.5372340425531914\n",
            "precision: 0.4334763948497854\n",
            "recall: 0.7062937062937062\n"
          ]
        }
      ]
    },
    {
      "cell_type": "code",
      "metadata": {
        "id": "UiSnEwTjPhSC",
        "colab": {
          "base_uri": "https://localhost:8080/"
        },
        "outputId": "57c535b6-f330-4dda-cb84-6b727c6fb803"
      },
      "source": [
        "policy"
      ],
      "execution_count": null,
      "outputs": [
        {
          "output_type": "execute_result",
          "data": {
            "text/plain": [
              "[['bigram_POS', 'statistic'], ['statistic'], []]"
            ]
          },
          "metadata": {},
          "execution_count": 149
        }
      ]
    },
    {
      "cell_type": "code",
      "metadata": {
        "id": "vaVzCy0xPhSC"
      },
      "source": [
        "policy_set=[]\n",
        "\n",
        "for pol in policy:\n",
        "  policy_set+=pol\n",
        "\n",
        "policy_set=list(set(policy_set))\n",
        "\n",
        "for dataframe in dataframe_names_list:\n",
        "  if dataframe not in policy_set:\n",
        "    print(dataframe)"
      ],
      "execution_count": null,
      "outputs": []
    },
    {
      "cell_type": "markdown",
      "metadata": {
        "id": "wcfL5r33P1-R"
      },
      "source": [
        "## **simple POS data**"
      ]
    },
    {
      "cell_type": "code",
      "metadata": {
        "id": "wW1_g1ysP1-S"
      },
      "source": [
        "dataframe_list=[statistic,simple_POS,bigram_simple_POS]\n",
        "dataframe_names_list=['statistic','simple_POS','bigram_simple_POS']"
      ],
      "execution_count": null,
      "outputs": []
    },
    {
      "cell_type": "code",
      "metadata": {
        "id": "GZ6YBS3jP1-T",
        "colab": {
          "base_uri": "https://localhost:8080/"
        },
        "outputId": "99a5971d-4561-4b01-b003-ce2a04896e49"
      },
      "source": [
        "ground_labels, global_explainability_tabular, labels, _, _, policy=stc_procedure_multiple_dataset(dataframe_list,dataframe_names_list,true_labels)"
      ],
      "execution_count": null,
      "outputs": [
        {
          "output_type": "stream",
          "name": "stdout",
          "text": [
            ""
          ]
        }
      ]
    },
    {
      "cell_type": "code",
      "metadata": {
        "id": "C7SMwNdtP1-U"
      },
      "source": [
        "accuracy=accuracy_score(ground_labels, labels)\n",
        "f1_score_value=f1_score(y_true=ground_labels, y_pred=labels, pos_label=\"True\")\n",
        "precision=precision_score(ground_labels, labels, pos_label=\"True\")\n",
        "recall=recall_score(ground_labels, labels, pos_label=\"True\")"
      ],
      "execution_count": null,
      "outputs": []
    },
    {
      "cell_type": "code",
      "metadata": {
        "id": "vNlIg2omP1-V"
      },
      "source": [
        "accuracy_scores_multiple.append(accuracy)\n",
        "f1_scores_multiple.append(f1_score_value)\n",
        "precision_scores_multiple.append(precision)\n",
        "recall_scores_multiple.append(recall)"
      ],
      "execution_count": null,
      "outputs": []
    },
    {
      "cell_type": "code",
      "metadata": {
        "id": "0EoYrvaHP1-W",
        "colab": {
          "base_uri": "https://localhost:8080/"
        },
        "outputId": "4a41b6f8-d44f-4c7f-f238-f8880673b5f3"
      },
      "source": [
        "print('accuracy: {}'.format(accuracy))\n",
        "print('f1 score: {}'.format(f1_score_value))\n",
        "print('precision: {}'.format(precision))\n",
        "print('recall: {}'.format(recall))"
      ],
      "execution_count": null,
      "outputs": [
        {
          "output_type": "stream",
          "name": "stdout",
          "text": [
            "accuracy: 0.7793345008756567\n",
            "f1 score: 0.633720930232558\n",
            "precision: 0.5422885572139303\n",
            "recall: 0.7622377622377622\n"
          ]
        }
      ]
    },
    {
      "cell_type": "code",
      "metadata": {
        "id": "sa_9BV7qP1-W",
        "colab": {
          "base_uri": "https://localhost:8080/"
        },
        "outputId": "e9af68f9-e71d-4e52-936f-96b2f2456fa0"
      },
      "source": [
        "policy"
      ],
      "execution_count": null,
      "outputs": [
        {
          "output_type": "execute_result",
          "data": {
            "text/plain": [
              "[['simple_POS', 'statistic'], ['statistic'], []]"
            ]
          },
          "metadata": {},
          "execution_count": 156
        }
      ]
    },
    {
      "cell_type": "code",
      "metadata": {
        "id": "E_R-43nFP1-X",
        "colab": {
          "base_uri": "https://localhost:8080/"
        },
        "outputId": "bb3c0786-592b-4e71-8cac-ec1b07f32217"
      },
      "source": [
        "policy_set=[]\n",
        "\n",
        "for pol in policy:\n",
        "  policy_set+=pol\n",
        "\n",
        "policy_set=list(set(policy_set))\n",
        "\n",
        "for dataframe in dataframe_names_list:\n",
        "  if dataframe not in policy_set:\n",
        "    print(dataframe)"
      ],
      "execution_count": null,
      "outputs": [
        {
          "output_type": "stream",
          "name": "stdout",
          "text": [
            "bigram_simple_POS\n"
          ]
        }
      ]
    },
    {
      "cell_type": "markdown",
      "metadata": {
        "id": "qTgEFwu_Gn10"
      },
      "source": [
        "## **BOW data**"
      ]
    },
    {
      "cell_type": "code",
      "metadata": {
        "id": "EVo5dttGGn11"
      },
      "source": [
        "dataframe_list=[statistic,BOW]\n",
        "dataframe_names_list=['statistic','BOW']"
      ],
      "execution_count": null,
      "outputs": []
    },
    {
      "cell_type": "code",
      "metadata": {
        "id": "tC0eamzJGn12",
        "colab": {
          "base_uri": "https://localhost:8080/"
        },
        "outputId": "100a68ea-f51f-4ead-805c-787330bf3923"
      },
      "source": [
        "ground_labels, global_explainability_tabular, labels, _, _, policy=stc_procedure_multiple_dataset(dataframe_list,dataframe_names_list,true_labels)"
      ],
      "execution_count": null,
      "outputs": [
        {
          "output_type": "stream",
          "name": "stdout",
          "text": [
            ""
          ]
        }
      ]
    },
    {
      "cell_type": "code",
      "metadata": {
        "id": "8VjhuCAtGn12"
      },
      "source": [
        "accuracy=accuracy_score(ground_labels, labels)\n",
        "f1_score_value=f1_score(y_true=ground_labels, y_pred=labels, pos_label=\"True\")\n",
        "precision=precision_score(ground_labels, labels, pos_label=\"True\")\n",
        "recall=recall_score(ground_labels, labels, pos_label=\"True\")"
      ],
      "execution_count": null,
      "outputs": []
    },
    {
      "cell_type": "code",
      "metadata": {
        "id": "xDZ0ANnGGn13"
      },
      "source": [
        "accuracy_scores_multiple.append(accuracy)\n",
        "f1_scores_multiple.append(f1_score_value)\n",
        "precision_scores_multiple.append(precision)\n",
        "recall_scores_multiple.append(recall)"
      ],
      "execution_count": null,
      "outputs": []
    },
    {
      "cell_type": "code",
      "metadata": {
        "id": "wjoZpSBrGn14",
        "colab": {
          "base_uri": "https://localhost:8080/"
        },
        "outputId": "c665e504-38a3-4e64-c037-d88733c17846"
      },
      "source": [
        "print('accuracy: {}'.format(accuracy))\n",
        "print('f1 score: {}'.format(f1_score_value))\n",
        "print('precision: {}'.format(precision))\n",
        "print('recall: {}'.format(recall))"
      ],
      "execution_count": null,
      "outputs": [
        {
          "output_type": "stream",
          "name": "stdout",
          "text": [
            "accuracy: 0.6970227670753065\n",
            "f1 score: 0.5435356200527705\n",
            "precision: 0.4364406779661017\n",
            "recall: 0.7202797202797203\n"
          ]
        }
      ]
    },
    {
      "cell_type": "code",
      "metadata": {
        "id": "L3XhK9VAGn14",
        "colab": {
          "base_uri": "https://localhost:8080/"
        },
        "outputId": "6b03c7f2-12a4-47b5-a550-3ca51fd4a8b1"
      },
      "source": [
        "policy"
      ],
      "execution_count": null,
      "outputs": [
        {
          "output_type": "execute_result",
          "data": {
            "text/plain": [
              "[['BOW', 'statistic'], ['statistic'], []]"
            ]
          },
          "metadata": {},
          "execution_count": 163
        }
      ]
    },
    {
      "cell_type": "code",
      "metadata": {
        "id": "8YfqeEENGn15"
      },
      "source": [
        "policy_set=[]\n",
        "\n",
        "for pol in policy:\n",
        "  policy_set+=pol\n",
        "\n",
        "policy_set=list(set(policy_set))\n",
        "\n",
        "for dataframe in dataframe_names_list:\n",
        "  if dataframe not in policy_set:\n",
        "    print(dataframe)"
      ],
      "execution_count": null,
      "outputs": []
    },
    {
      "cell_type": "markdown",
      "metadata": {
        "id": "KqS5rtI4qCpL"
      },
      "source": [
        "## **Bigram data**"
      ]
    },
    {
      "cell_type": "code",
      "metadata": {
        "id": "oeA2UipvqCpM"
      },
      "source": [
        "dataframe_list=[statistic,Bigram]\n",
        "dataframe_names_list=['statistic','Bigram']"
      ],
      "execution_count": null,
      "outputs": []
    },
    {
      "cell_type": "code",
      "metadata": {
        "id": "S8uVxGhDqCpM",
        "colab": {
          "base_uri": "https://localhost:8080/"
        },
        "outputId": "7fb8a97e-4bb6-4979-ec44-62f6056ece4d"
      },
      "source": [
        "ground_labels, global_explainability_tabular, labels, _, _, policy=stc_procedure_multiple_dataset(dataframe_list,dataframe_names_list,true_labels)"
      ],
      "execution_count": null,
      "outputs": [
        {
          "output_type": "stream",
          "name": "stdout",
          "text": [
            ""
          ]
        }
      ]
    },
    {
      "cell_type": "code",
      "metadata": {
        "id": "ft86vwy3qCpM"
      },
      "source": [
        "accuracy=accuracy_score(ground_labels, labels)\n",
        "f1_score_value=f1_score(y_true=ground_labels, y_pred=labels, pos_label=\"True\")\n",
        "precision=precision_score(ground_labels, labels, pos_label=\"True\")\n",
        "recall=recall_score(ground_labels, labels, pos_label=\"True\")"
      ],
      "execution_count": null,
      "outputs": []
    },
    {
      "cell_type": "code",
      "metadata": {
        "id": "P5aKvV7nqCpM"
      },
      "source": [
        "accuracy_scores_multiple.append(accuracy)\n",
        "f1_scores_multiple.append(f1_score_value)\n",
        "precision_scores_multiple.append(precision)\n",
        "recall_scores_multiple.append(recall)"
      ],
      "execution_count": null,
      "outputs": []
    },
    {
      "cell_type": "code",
      "metadata": {
        "id": "lHhXMH1cqCpM",
        "colab": {
          "base_uri": "https://localhost:8080/"
        },
        "outputId": "075d28df-e915-4df7-f1df-0c379d3cda41"
      },
      "source": [
        "print('accuracy: {}'.format(accuracy))\n",
        "print('f1 score: {}'.format(f1_score_value))\n",
        "print('precision: {}'.format(precision))\n",
        "print('recall: {}'.format(recall))"
      ],
      "execution_count": null,
      "outputs": [
        {
          "output_type": "stream",
          "name": "stdout",
          "text": [
            "accuracy: 0.6865148861646234\n",
            "f1 score: 0.5301837270341206\n",
            "precision: 0.42436974789915966\n",
            "recall: 0.7062937062937062\n"
          ]
        }
      ]
    },
    {
      "cell_type": "code",
      "metadata": {
        "id": "hGmPcYLvqCpM",
        "colab": {
          "base_uri": "https://localhost:8080/"
        },
        "outputId": "68deabd4-d420-4f85-899a-c9fdb9280261"
      },
      "source": [
        "policy"
      ],
      "execution_count": null,
      "outputs": [
        {
          "output_type": "execute_result",
          "data": {
            "text/plain": [
              "[['Bigram', 'statistic'], ['statistic'], []]"
            ]
          },
          "metadata": {},
          "execution_count": 170
        }
      ]
    },
    {
      "cell_type": "code",
      "metadata": {
        "id": "-MO6Eia2qCpM"
      },
      "source": [
        "policy_set=[]\n",
        "\n",
        "for pol in policy:\n",
        "  policy_set+=pol\n",
        "\n",
        "policy_set=list(set(policy_set))\n",
        "\n",
        "for dataframe in dataframe_names_list:\n",
        "  if dataframe not in policy_set:\n",
        "    print(dataframe)"
      ],
      "execution_count": null,
      "outputs": []
    },
    {
      "cell_type": "markdown",
      "metadata": {
        "id": "pQQ7mOkpqjtX"
      },
      "source": [
        "## **Imported n-gram data**"
      ]
    },
    {
      "cell_type": "code",
      "metadata": {
        "id": "quvRiONVqjtY"
      },
      "source": [
        "dataframe_list=[statistic,imported_ngram]\n",
        "dataframe_names_list=['statistic','imported_ngram']"
      ],
      "execution_count": null,
      "outputs": []
    },
    {
      "cell_type": "code",
      "metadata": {
        "id": "5Y4eDKiiqjtY",
        "colab": {
          "base_uri": "https://localhost:8080/"
        },
        "outputId": "c6860cbd-588a-4303-a89b-9c0eeb5ae494"
      },
      "source": [
        "ground_labels, global_explainability_tabular, labels, _, _, policy=stc_procedure_multiple_dataset(dataframe_list,dataframe_names_list,true_labels)"
      ],
      "execution_count": null,
      "outputs": [
        {
          "output_type": "stream",
          "name": "stdout",
          "text": [
            ""
          ]
        }
      ]
    },
    {
      "cell_type": "code",
      "metadata": {
        "id": "FNu2W2JmqjtY"
      },
      "source": [
        "accuracy=accuracy_score(ground_labels, labels)\n",
        "f1_score_value=f1_score(y_true=ground_labels, y_pred=labels, pos_label=\"True\")\n",
        "precision=precision_score(ground_labels, labels, pos_label=\"True\")\n",
        "recall=recall_score(ground_labels, labels, pos_label=\"True\")"
      ],
      "execution_count": null,
      "outputs": []
    },
    {
      "cell_type": "code",
      "metadata": {
        "id": "7SHdPpO_qjtY"
      },
      "source": [
        "accuracy_scores_multiple.append(accuracy)\n",
        "f1_scores_multiple.append(f1_score_value)\n",
        "precision_scores_multiple.append(precision)\n",
        "recall_scores_multiple.append(recall)"
      ],
      "execution_count": null,
      "outputs": []
    },
    {
      "cell_type": "code",
      "metadata": {
        "id": "CCCWmQzbqjtY",
        "colab": {
          "base_uri": "https://localhost:8080/"
        },
        "outputId": "198220fe-75b9-44a2-8002-4fc1b651ccda"
      },
      "source": [
        "print('accuracy: {}'.format(accuracy))\n",
        "print('f1 score: {}'.format(f1_score_value))\n",
        "print('precision: {}'.format(precision))\n",
        "print('recall: {}'.format(recall))"
      ],
      "execution_count": null,
      "outputs": [
        {
          "output_type": "stream",
          "name": "stdout",
          "text": [
            "accuracy: 0.691768826619965\n",
            "f1 score: 0.5319148936170213\n",
            "precision: 0.4291845493562232\n",
            "recall: 0.6993006993006993\n"
          ]
        }
      ]
    },
    {
      "cell_type": "code",
      "metadata": {
        "id": "4ELxEQIxqjtY",
        "colab": {
          "base_uri": "https://localhost:8080/"
        },
        "outputId": "fc5e2e52-2dd4-4b5e-db36-b4aa8d2ecc28"
      },
      "source": [
        "policy"
      ],
      "execution_count": null,
      "outputs": [
        {
          "output_type": "execute_result",
          "data": {
            "text/plain": [
              "[['imported_ngram', 'statistic'], ['statistic'], []]"
            ]
          },
          "metadata": {},
          "execution_count": 177
        }
      ]
    },
    {
      "cell_type": "code",
      "metadata": {
        "id": "cLbcW4GmqjtY"
      },
      "source": [
        "policy_set=[]\n",
        "\n",
        "for pol in policy:\n",
        "  policy_set+=pol\n",
        "\n",
        "policy_set=list(set(policy_set))\n",
        "\n",
        "for dataframe in dataframe_names_list:\n",
        "  if dataframe not in policy_set:\n",
        "    print(dataframe)"
      ],
      "execution_count": null,
      "outputs": []
    },
    {
      "cell_type": "markdown",
      "metadata": {
        "id": "G0LsJbVXH02n"
      },
      "source": [
        "## **Dependency data**"
      ]
    },
    {
      "cell_type": "code",
      "metadata": {
        "id": "t-NtYIVhH02p"
      },
      "source": [
        "dataframe_list=[statistic,dependency, dependency_tree_stat]\n",
        "dataframe_names_list=['statistic','dependency','dependency_tree_stat']"
      ],
      "execution_count": null,
      "outputs": []
    },
    {
      "cell_type": "code",
      "metadata": {
        "id": "p1k5pJp6H02p",
        "colab": {
          "base_uri": "https://localhost:8080/"
        },
        "outputId": "84369829-f745-4863-ef38-88873a11b450"
      },
      "source": [
        "ground_labels, global_explainability_tabular, labels, _, _, policy=stc_procedure_multiple_dataset(dataframe_list,dataframe_names_list,true_labels)"
      ],
      "execution_count": null,
      "outputs": [
        {
          "output_type": "stream",
          "name": "stdout",
          "text": [
            ""
          ]
        }
      ]
    },
    {
      "cell_type": "code",
      "metadata": {
        "id": "0OiqmhTtH02q"
      },
      "source": [
        "accuracy=accuracy_score(ground_labels, labels)\n",
        "f1_score_value=f1_score(y_true=ground_labels, y_pred=labels, pos_label=\"True\")\n",
        "precision=precision_score(ground_labels, labels, pos_label=\"True\")\n",
        "recall=recall_score(ground_labels, labels, pos_label=\"True\")"
      ],
      "execution_count": null,
      "outputs": []
    },
    {
      "cell_type": "code",
      "metadata": {
        "id": "uezKugXtH02r"
      },
      "source": [
        "accuracy_scores_multiple.append(accuracy)\n",
        "f1_scores_multiple.append(f1_score_value)\n",
        "precision_scores_multiple.append(precision)\n",
        "recall_scores_multiple.append(recall)"
      ],
      "execution_count": null,
      "outputs": []
    },
    {
      "cell_type": "code",
      "metadata": {
        "id": "UOM9WHgOH02r",
        "colab": {
          "base_uri": "https://localhost:8080/"
        },
        "outputId": "be6273fb-b021-42d8-eec5-2865b20b8f9b"
      },
      "source": [
        "print('accuracy: {}'.format(accuracy))\n",
        "print('f1 score: {}'.format(f1_score_value))\n",
        "print('precision: {}'.format(precision))\n",
        "print('recall: {}'.format(recall))"
      ],
      "execution_count": null,
      "outputs": [
        {
          "output_type": "stream",
          "name": "stdout",
          "text": [
            "accuracy: 0.6777583187390543\n",
            "f1 score: 0.47727272727272724\n",
            "precision: 0.4019138755980861\n",
            "recall: 0.5874125874125874\n"
          ]
        }
      ]
    },
    {
      "cell_type": "code",
      "metadata": {
        "id": "_XXvy5IzH02s",
        "colab": {
          "base_uri": "https://localhost:8080/"
        },
        "outputId": "316c7174-0eaa-4f07-d394-c82a1c23a627"
      },
      "source": [
        "policy"
      ],
      "execution_count": null,
      "outputs": [
        {
          "output_type": "execute_result",
          "data": {
            "text/plain": [
              "[['dependency_tree_stat', 'statistic'], ['statistic'], []]"
            ]
          },
          "metadata": {},
          "execution_count": 184
        }
      ]
    },
    {
      "cell_type": "code",
      "metadata": {
        "id": "miG3yk9DH02s",
        "colab": {
          "base_uri": "https://localhost:8080/"
        },
        "outputId": "15a5e147-1813-40f0-85e6-72ec2f0e3721"
      },
      "source": [
        "policy_set=[]\n",
        "\n",
        "for pol in policy:\n",
        "  policy_set+=pol\n",
        "\n",
        "policy_set=list(set(policy_set))\n",
        "\n",
        "for dataframe in dataframe_names_list:\n",
        "  if dataframe not in policy_set:\n",
        "    print(dataframe)"
      ],
      "execution_count": null,
      "outputs": [
        {
          "output_type": "stream",
          "name": "stdout",
          "text": [
            "dependency\n"
          ]
        }
      ]
    },
    {
      "cell_type": "markdown",
      "metadata": {
        "id": "XqJ-WqaxHFgl"
      },
      "source": [
        "## **Named entity data**"
      ]
    },
    {
      "cell_type": "code",
      "metadata": {
        "id": "fzwVOyv2HFgm"
      },
      "source": [
        "dataframe_list=[statistic,named_entity]\n",
        "dataframe_names_list=['satistic', 'named_entity']"
      ],
      "execution_count": null,
      "outputs": []
    },
    {
      "cell_type": "code",
      "metadata": {
        "id": "JvMaTg-KHFgn",
        "colab": {
          "base_uri": "https://localhost:8080/"
        },
        "outputId": "f53d8dba-2ac9-4f5d-bfbe-a3220503bf3c"
      },
      "source": [
        "ground_labels, global_explainability_tabular, labels, _, _, policy=stc_procedure_multiple_dataset(dataframe_list,dataframe_names_list,true_labels)"
      ],
      "execution_count": null,
      "outputs": [
        {
          "output_type": "stream",
          "name": "stdout",
          "text": [
            ""
          ]
        }
      ]
    },
    {
      "cell_type": "code",
      "metadata": {
        "id": "ZjnB0vLEHFgo"
      },
      "source": [
        "accuracy=accuracy_score(ground_labels, labels)\n",
        "f1_score_value=f1_score(y_true=ground_labels, y_pred=labels, pos_label=\"True\")\n",
        "precision=precision_score(ground_labels, labels, pos_label=\"True\")\n",
        "recall=recall_score(ground_labels, labels, pos_label=\"True\")"
      ],
      "execution_count": null,
      "outputs": []
    },
    {
      "cell_type": "code",
      "metadata": {
        "id": "UgwG4XFCHFgo"
      },
      "source": [
        "accuracy_scores_multiple.append(accuracy)\n",
        "f1_scores_multiple.append(f1_score_value)\n",
        "precision_scores_multiple.append(precision)\n",
        "recall_scores_multiple.append(recall)"
      ],
      "execution_count": null,
      "outputs": []
    },
    {
      "cell_type": "code",
      "metadata": {
        "id": "r8jioajDHFgp",
        "colab": {
          "base_uri": "https://localhost:8080/"
        },
        "outputId": "f2b8a6b9-a8c2-40e8-9b32-73a52c886beb"
      },
      "source": [
        "print('accuracy: {}'.format(accuracy))\n",
        "print('f1 score: {}'.format(f1_score_value))\n",
        "print('precision: {}'.format(precision))\n",
        "print('recall: {}'.format(recall))"
      ],
      "execution_count": null,
      "outputs": [
        {
          "output_type": "stream",
          "name": "stdout",
          "text": [
            "accuracy: 0.6970227670753065\n",
            "f1 score: 0.5685785536159601\n",
            "precision: 0.4418604651162791\n",
            "recall: 0.7972027972027972\n"
          ]
        }
      ]
    },
    {
      "cell_type": "code",
      "metadata": {
        "id": "L6rbSgN2HFgq",
        "colab": {
          "base_uri": "https://localhost:8080/"
        },
        "outputId": "5fc9ef97-6c7e-42d2-ea53-24b6bc3a3076"
      },
      "source": [
        "policy"
      ],
      "execution_count": null,
      "outputs": [
        {
          "output_type": "execute_result",
          "data": {
            "text/plain": [
              "[['named_entity', 'satistic'], ['satistic'], []]"
            ]
          },
          "metadata": {},
          "execution_count": 191
        }
      ]
    },
    {
      "cell_type": "code",
      "metadata": {
        "id": "dvb6z7p-HFgq"
      },
      "source": [
        "policy_set=[]\n",
        "\n",
        "for pol in policy:\n",
        "  policy_set+=pol\n",
        "\n",
        "policy_set=list(set(policy_set))\n",
        "\n",
        "for dataframe in dataframe_names_list:\n",
        "  if dataframe not in policy_set:\n",
        "    print(dataframe)"
      ],
      "execution_count": null,
      "outputs": []
    },
    {
      "cell_type": "markdown",
      "metadata": {
        "id": "mzWTpHXIrHOK"
      },
      "source": [
        "## **Subjectivity data**"
      ]
    },
    {
      "cell_type": "code",
      "metadata": {
        "id": "_FESwoQmrHOK"
      },
      "source": [
        "dataframe_list=[statistic,others]\n",
        "dataframe_names_list=['statistic','subjectivity']"
      ],
      "execution_count": null,
      "outputs": []
    },
    {
      "cell_type": "code",
      "metadata": {
        "id": "mWFk5tr6rHOK",
        "colab": {
          "base_uri": "https://localhost:8080/"
        },
        "outputId": "3854b081-773d-4f5d-89a6-c88af516af71"
      },
      "source": [
        "ground_labels, global_explainability_tabular, labels, _, _, policy=stc_procedure_multiple_dataset(dataframe_list,dataframe_names_list,true_labels)"
      ],
      "execution_count": null,
      "outputs": [
        {
          "output_type": "stream",
          "name": "stdout",
          "text": [
            ""
          ]
        }
      ]
    },
    {
      "cell_type": "code",
      "metadata": {
        "id": "S5OfFQBMrHOK"
      },
      "source": [
        "accuracy=accuracy_score(ground_labels, labels)\n",
        "f1_score_value=f1_score(y_true=ground_labels, y_pred=labels, pos_label=\"True\")\n",
        "precision=precision_score(ground_labels, labels, pos_label=\"True\")\n",
        "recall=recall_score(ground_labels, labels, pos_label=\"True\")"
      ],
      "execution_count": null,
      "outputs": []
    },
    {
      "cell_type": "code",
      "metadata": {
        "id": "b95mvJtSrHOK"
      },
      "source": [
        "accuracy_scores_multiple.append(accuracy)\n",
        "f1_scores_multiple.append(f1_score_value)\n",
        "precision_scores_multiple.append(precision)\n",
        "recall_scores_multiple.append(recall)"
      ],
      "execution_count": null,
      "outputs": []
    },
    {
      "cell_type": "code",
      "metadata": {
        "id": "TBL_GhlqrHOL",
        "colab": {
          "base_uri": "https://localhost:8080/"
        },
        "outputId": "430f34e8-34e0-4389-b322-6b1960ffc137"
      },
      "source": [
        "print('accuracy: {}'.format(accuracy))\n",
        "print('f1 score: {}'.format(f1_score_value))\n",
        "print('precision: {}'.format(precision))\n",
        "print('recall: {}'.format(recall))"
      ],
      "execution_count": null,
      "outputs": [
        {
          "output_type": "stream",
          "name": "stdout",
          "text": [
            "accuracy: 0.7180385288966725\n",
            "f1 score: 0.5278592375366569\n",
            "precision: 0.45454545454545453\n",
            "recall: 0.6293706293706294\n"
          ]
        }
      ]
    },
    {
      "cell_type": "code",
      "metadata": {
        "id": "Nk_g112IrHOL",
        "colab": {
          "base_uri": "https://localhost:8080/"
        },
        "outputId": "fd17dc32-9d35-4837-aff1-be51e690ec0a"
      },
      "source": [
        "policy"
      ],
      "execution_count": null,
      "outputs": [
        {
          "output_type": "execute_result",
          "data": {
            "text/plain": [
              "[['subjectivity', 'statistic'], ['statistic'], []]"
            ]
          },
          "metadata": {},
          "execution_count": 198
        }
      ]
    },
    {
      "cell_type": "code",
      "metadata": {
        "id": "F6q7FzzUrHOL"
      },
      "source": [
        "policy_set=[]\n",
        "\n",
        "for pol in policy:\n",
        "  policy_set+=pol\n",
        "\n",
        "policy_set=list(set(policy_set))\n",
        "\n",
        "for dataframe in dataframe_names_list:\n",
        "  if dataframe not in policy_set:\n",
        "    print(dataframe)"
      ],
      "execution_count": null,
      "outputs": []
    },
    {
      "cell_type": "markdown",
      "metadata": {
        "id": "zfC3VSY9uhGe"
      },
      "source": [
        "## **Bigram-words**"
      ]
    },
    {
      "cell_type": "code",
      "metadata": {
        "id": "8JwRff4quhGf"
      },
      "source": [
        "dataframe_list=[BOW,Bigram]\n",
        "dataframe_names_list=['BOW','Bigram']"
      ],
      "execution_count": null,
      "outputs": []
    },
    {
      "cell_type": "code",
      "metadata": {
        "id": "DEn8V6iwuhGf",
        "colab": {
          "base_uri": "https://localhost:8080/"
        },
        "outputId": "4e5a5269-c01e-40d6-aea1-674d4d092d67"
      },
      "source": [
        "ground_labels, global_explainability_tabular, labels, _, _, policy=stc_procedure_multiple_dataset(dataframe_list,dataframe_names_list,true_labels)"
      ],
      "execution_count": null,
      "outputs": [
        {
          "output_type": "stream",
          "name": "stdout",
          "text": [
            ""
          ]
        }
      ]
    },
    {
      "cell_type": "code",
      "metadata": {
        "id": "Q-KjcQQpuhGf"
      },
      "source": [
        "accuracy=accuracy_score(ground_labels, labels)\n",
        "f1_score_value=f1_score(y_true=ground_labels, y_pred=labels, pos_label=\"True\")\n",
        "precision=precision_score(ground_labels, labels, pos_label=\"True\")\n",
        "recall=recall_score(ground_labels, labels, pos_label=\"True\")"
      ],
      "execution_count": null,
      "outputs": []
    },
    {
      "cell_type": "code",
      "metadata": {
        "id": "uJZ3Mj-UuhGf"
      },
      "source": [
        "accuracy_scores_multiple.append(accuracy)\n",
        "f1_scores_multiple.append(f1_score_value)\n",
        "precision_scores_multiple.append(precision)\n",
        "recall_scores_multiple.append(recall)"
      ],
      "execution_count": null,
      "outputs": []
    },
    {
      "cell_type": "code",
      "metadata": {
        "id": "U3bI11ALuhGf",
        "colab": {
          "base_uri": "https://localhost:8080/"
        },
        "outputId": "ab1230c8-e276-447d-ba39-7f48361aad8e"
      },
      "source": [
        "print('accuracy: {}'.format(accuracy))\n",
        "print('f1 score: {}'.format(f1_score_value))\n",
        "print('precision: {}'.format(precision))\n",
        "print('recall: {}'.format(recall))"
      ],
      "execution_count": null,
      "outputs": [
        {
          "output_type": "stream",
          "name": "stdout",
          "text": [
            "accuracy: 0.5148861646234676\n",
            "f1 score: 0.4723809523809524\n",
            "precision: 0.32460732984293195\n",
            "recall: 0.8671328671328671\n"
          ]
        }
      ]
    },
    {
      "cell_type": "code",
      "metadata": {
        "id": "R9ftUvFzuhGg",
        "colab": {
          "base_uri": "https://localhost:8080/"
        },
        "outputId": "ec643056-7ff0-48b9-931c-cba68de0292a"
      },
      "source": [
        "policy"
      ],
      "execution_count": null,
      "outputs": [
        {
          "output_type": "execute_result",
          "data": {
            "text/plain": [
              "[['Bigram', 'BOW'], ['BOW'], []]"
            ]
          },
          "metadata": {},
          "execution_count": 205
        }
      ]
    },
    {
      "cell_type": "code",
      "metadata": {
        "id": "CR0WL_ACuhGg"
      },
      "source": [
        "policy_set=[]\n",
        "\n",
        "for pol in policy:\n",
        "  policy_set+=pol\n",
        "\n",
        "policy_set=list(set(policy_set))\n",
        "\n",
        "for dataframe in dataframe_names_list:\n",
        "  if dataframe not in policy_set:\n",
        "    print(dataframe)"
      ],
      "execution_count": null,
      "outputs": []
    },
    {
      "cell_type": "markdown",
      "metadata": {
        "id": "MdrW89vVv5l6"
      },
      "source": [
        "## **Bigram-LNE-subjectivity**"
      ]
    },
    {
      "cell_type": "code",
      "metadata": {
        "id": "Ahl7MT4Xv5l6"
      },
      "source": [
        "dataframe_list=[others,named_entity,Bigram]\n",
        "dataframe_names_list=['subjectivity','named_entity','Bigram']"
      ],
      "execution_count": null,
      "outputs": []
    },
    {
      "cell_type": "code",
      "metadata": {
        "id": "mwC5tWdvv5l7",
        "colab": {
          "base_uri": "https://localhost:8080/"
        },
        "outputId": "db1a93f5-6bfd-4cdc-e9f4-c78e77434bbd"
      },
      "source": [
        "ground_labels, global_explainability_tabular, labels, _, _, policy=stc_procedure_multiple_dataset(dataframe_list,dataframe_names_list,true_labels)"
      ],
      "execution_count": null,
      "outputs": [
        {
          "output_type": "stream",
          "name": "stdout",
          "text": [
            ""
          ]
        }
      ]
    },
    {
      "cell_type": "code",
      "metadata": {
        "id": "h3SlFK5fv5l7"
      },
      "source": [
        "accuracy=accuracy_score(ground_labels, labels)\n",
        "f1_score_value=f1_score(y_true=ground_labels, y_pred=labels, pos_label=\"True\")\n",
        "precision=precision_score(ground_labels, labels, pos_label=\"True\")\n",
        "recall=recall_score(ground_labels, labels, pos_label=\"True\")"
      ],
      "execution_count": null,
      "outputs": []
    },
    {
      "cell_type": "code",
      "metadata": {
        "id": "h1-n1cCmv5l7"
      },
      "source": [
        "accuracy_scores_multiple.append(accuracy)\n",
        "f1_scores_multiple.append(f1_score_value)\n",
        "precision_scores_multiple.append(precision)\n",
        "recall_scores_multiple.append(recall)"
      ],
      "execution_count": null,
      "outputs": []
    },
    {
      "cell_type": "code",
      "metadata": {
        "id": "pOdcfOmSv5l7",
        "colab": {
          "base_uri": "https://localhost:8080/"
        },
        "outputId": "ad44fba9-9331-4bec-bb05-55f74b1e2933"
      },
      "source": [
        "print('accuracy: {}'.format(accuracy))\n",
        "print('f1 score: {}'.format(f1_score_value))\n",
        "print('precision: {}'.format(precision))\n",
        "print('recall: {}'.format(recall))"
      ],
      "execution_count": null,
      "outputs": [
        {
          "output_type": "stream",
          "name": "stdout",
          "text": [
            "accuracy: 0.7057793345008757\n",
            "f1 score: 0.5647668393782384\n",
            "precision: 0.448559670781893\n",
            "recall: 0.7622377622377622\n"
          ]
        }
      ]
    },
    {
      "cell_type": "code",
      "metadata": {
        "id": "f0WVGohWv5l7",
        "colab": {
          "base_uri": "https://localhost:8080/"
        },
        "outputId": "e8b91bc7-9deb-483d-b07f-5cd41b9c0a53"
      },
      "source": [
        "policy"
      ],
      "execution_count": null,
      "outputs": [
        {
          "output_type": "execute_result",
          "data": {
            "text/plain": [
              "[['Bigram', 'named_entity'], ['named_entity'], []]"
            ]
          },
          "metadata": {},
          "execution_count": 212
        }
      ]
    },
    {
      "cell_type": "code",
      "metadata": {
        "id": "T3uUTai-v5l8",
        "colab": {
          "base_uri": "https://localhost:8080/"
        },
        "outputId": "fb62b64d-01e3-473c-d287-07d8dad2b2e5"
      },
      "source": [
        "policy_set=[]\n",
        "\n",
        "for pol in policy:\n",
        "  policy_set+=pol\n",
        "\n",
        "policy_set=list(set(policy_set))\n",
        "\n",
        "for dataframe in dataframe_names_list:\n",
        "  if dataframe not in policy_set:\n",
        "    print(dataframe)"
      ],
      "execution_count": null,
      "outputs": [
        {
          "output_type": "stream",
          "name": "stdout",
          "text": [
            "subjectivity\n"
          ]
        }
      ]
    },
    {
      "cell_type": "markdown",
      "metadata": {
        "id": "Zk5OOE3UTXow"
      },
      "source": [
        "## **POS**"
      ]
    },
    {
      "cell_type": "code",
      "metadata": {
        "id": "kaBFQdtlTXow"
      },
      "source": [
        "dataframe_list=[bigram_POS,dependency,POS,simple_POS]\n",
        "dataframe_names_list=['bigram_POS','POS','simple_POS']"
      ],
      "execution_count": null,
      "outputs": []
    },
    {
      "cell_type": "code",
      "metadata": {
        "id": "ghPqIGeBTXox",
        "colab": {
          "base_uri": "https://localhost:8080/"
        },
        "outputId": "c994a4a5-8d19-4bbb-f968-3507e24b5b0f"
      },
      "source": [
        "ground_labels, global_explainability_tabular, labels, _, _, policy=stc_procedure_multiple_dataset(dataframe_list,dataframe_names_list,true_labels)"
      ],
      "execution_count": null,
      "outputs": [
        {
          "output_type": "stream",
          "name": "stdout",
          "text": [
            ""
          ]
        }
      ]
    },
    {
      "cell_type": "code",
      "metadata": {
        "id": "bfzZOL2OTXox"
      },
      "source": [
        "accuracy=accuracy_score(ground_labels, labels)\n",
        "f1_score_value=f1_score(y_true=ground_labels, y_pred=labels, pos_label=\"True\")\n",
        "precision=precision_score(ground_labels, labels, pos_label=\"True\")\n",
        "recall=recall_score(ground_labels, labels, pos_label=\"True\")"
      ],
      "execution_count": null,
      "outputs": []
    },
    {
      "cell_type": "code",
      "metadata": {
        "id": "Kr8m5W8mTXox"
      },
      "source": [
        "accuracy_scores_multiple.append(accuracy)\n",
        "f1_scores_multiple.append(f1_score_value)\n",
        "precision_scores_multiple.append(precision)\n",
        "recall_scores_multiple.append(recall)"
      ],
      "execution_count": null,
      "outputs": []
    },
    {
      "cell_type": "code",
      "metadata": {
        "id": "vt6HHK5OTXox",
        "colab": {
          "base_uri": "https://localhost:8080/"
        },
        "outputId": "2fd4d5ac-bbc8-4048-f9af-1b4d299ce8bb"
      },
      "source": [
        "print('accuracy: {}'.format(accuracy))\n",
        "print('f1 score: {}'.format(f1_score_value))\n",
        "print('precision: {}'.format(precision))\n",
        "print('recall: {}'.format(recall))"
      ],
      "execution_count": null,
      "outputs": [
        {
          "output_type": "stream",
          "name": "stdout",
          "text": [
            "accuracy: 0.6830122591943958\n",
            "f1 score: 0.5617433414043583\n",
            "precision: 0.42962962962962964\n",
            "recall: 0.8111888111888111\n"
          ]
        }
      ]
    },
    {
      "cell_type": "code",
      "metadata": {
        "id": "yu8CB4oBTXox",
        "colab": {
          "base_uri": "https://localhost:8080/"
        },
        "outputId": "9069ab58-1c8d-4dbd-8319-ba3076939943"
      },
      "source": [
        "policy"
      ],
      "execution_count": null,
      "outputs": [
        {
          "output_type": "execute_result",
          "data": {
            "text/plain": [
              "[['bigram_POS', 'POS', 'simple_POS'],\n",
              " ['POS', 'simple_POS'],\n",
              " ['simple_POS'],\n",
              " []]"
            ]
          },
          "metadata": {},
          "execution_count": 219
        }
      ]
    },
    {
      "cell_type": "code",
      "metadata": {
        "id": "--x22obyTXox"
      },
      "source": [
        "policy_set=[]\n",
        "\n",
        "for pol in policy:\n",
        "  policy_set+=pol\n",
        "\n",
        "policy_set=list(set(policy_set))\n",
        "\n",
        "for dataframe in dataframe_names_list:\n",
        "  if dataframe not in policy_set:\n",
        "    print(dataframe)"
      ],
      "execution_count": null,
      "outputs": []
    },
    {
      "cell_type": "markdown",
      "metadata": {
        "id": "OcI4Z8VBjxCv"
      },
      "source": [
        "## **LNE - dependency tree**"
      ]
    },
    {
      "cell_type": "code",
      "metadata": {
        "id": "Dh8JAJS2jxCv"
      },
      "source": [
        "dataframe_list=[dependency_tree_stat,named_entity]\n",
        "dataframe_names_list=['dependency_tree_stat','named_entity']"
      ],
      "execution_count": null,
      "outputs": []
    },
    {
      "cell_type": "code",
      "metadata": {
        "id": "jcqhvPBijxCw",
        "colab": {
          "base_uri": "https://localhost:8080/"
        },
        "outputId": "44844312-fa70-427b-8dfe-ef1c1dfb4dfc"
      },
      "source": [
        "ground_labels, global_explainability_tabular, labels, _, _, policy=stc_procedure_multiple_dataset(dataframe_list,dataframe_names_list,true_labels)"
      ],
      "execution_count": null,
      "outputs": [
        {
          "output_type": "stream",
          "name": "stdout",
          "text": [
            ""
          ]
        }
      ]
    },
    {
      "cell_type": "code",
      "metadata": {
        "id": "vg4e-xRXjxCw"
      },
      "source": [
        "accuracy=accuracy_score(ground_labels, labels)\n",
        "f1_score_value=f1_score(y_true=ground_labels, y_pred=labels, pos_label=\"True\")\n",
        "precision=precision_score(ground_labels, labels, pos_label=\"True\")\n",
        "recall=recall_score(ground_labels, labels, pos_label=\"True\")"
      ],
      "execution_count": null,
      "outputs": []
    },
    {
      "cell_type": "code",
      "metadata": {
        "id": "5nDFusAwjxCw"
      },
      "source": [
        "accuracy_scores_multiple.append(accuracy)\n",
        "f1_scores_multiple.append(f1_score_value)\n",
        "precision_scores_multiple.append(precision)\n",
        "recall_scores_multiple.append(recall)"
      ],
      "execution_count": null,
      "outputs": []
    },
    {
      "cell_type": "code",
      "metadata": {
        "id": "ckInj6HMjxCx",
        "colab": {
          "base_uri": "https://localhost:8080/"
        },
        "outputId": "a4d05dbf-50ec-40a6-c7b2-85205a1f7812"
      },
      "source": [
        "print('accuracy: {}'.format(accuracy))\n",
        "print('f1 score: {}'.format(f1_score_value))\n",
        "print('precision: {}'.format(precision))\n",
        "print('recall: {}'.format(recall))"
      ],
      "execution_count": null,
      "outputs": [
        {
          "output_type": "stream",
          "name": "stdout",
          "text": [
            "accuracy: 0.7057793345008757\n",
            "f1 score: 0.5647668393782384\n",
            "precision: 0.448559670781893\n",
            "recall: 0.7622377622377622\n"
          ]
        }
      ]
    },
    {
      "cell_type": "code",
      "metadata": {
        "id": "BGan_HkYjxCx",
        "colab": {
          "base_uri": "https://localhost:8080/"
        },
        "outputId": "6fa9b04f-15cf-4cc0-cfbe-3b16348319e5"
      },
      "source": [
        "policy"
      ],
      "execution_count": null,
      "outputs": [
        {
          "output_type": "execute_result",
          "data": {
            "text/plain": [
              "[['named_entity'], []]"
            ]
          },
          "metadata": {},
          "execution_count": 226
        }
      ]
    },
    {
      "cell_type": "code",
      "metadata": {
        "id": "CROcgwu0jxCx",
        "colab": {
          "base_uri": "https://localhost:8080/"
        },
        "outputId": "a357b3c7-6bf0-4d38-9398-f0de14cdb758"
      },
      "source": [
        "policy_set=[]\n",
        "\n",
        "for pol in policy:\n",
        "  policy_set+=pol\n",
        "\n",
        "policy_set=list(set(policy_set))\n",
        "\n",
        "for dataframe in dataframe_names_list:\n",
        "  if dataframe not in policy_set:\n",
        "    print(dataframe)"
      ],
      "execution_count": null,
      "outputs": [
        {
          "output_type": "stream",
          "name": "stdout",
          "text": [
            "dependency_tree_stat\n"
          ]
        }
      ]
    },
    {
      "cell_type": "markdown",
      "metadata": {
        "id": "4q-NOgavTvOS"
      },
      "source": [
        "## **Bigrams words-POS**"
      ]
    },
    {
      "cell_type": "code",
      "metadata": {
        "id": "74kxNOD3TvOS"
      },
      "source": [
        "dataframe_list=[Bigram,bigram_POS]\n",
        "dataframe_names_list=['Bigram','bigram_POS']"
      ],
      "execution_count": null,
      "outputs": []
    },
    {
      "cell_type": "code",
      "metadata": {
        "id": "psHKiooATvOT",
        "colab": {
          "base_uri": "https://localhost:8080/"
        },
        "outputId": "0c10c9f1-b381-4a6f-ddc4-fc4752bec3e7"
      },
      "source": [
        "ground_labels, global_explainability_tabular, labels, _, _, policy=stc_procedure_multiple_dataset(dataframe_list,dataframe_names_list,true_labels)"
      ],
      "execution_count": null,
      "outputs": [
        {
          "output_type": "stream",
          "name": "stdout",
          "text": [
            ""
          ]
        }
      ]
    },
    {
      "cell_type": "code",
      "metadata": {
        "id": "KJnQrkjKTvOT"
      },
      "source": [
        "accuracy=accuracy_score(ground_labels, labels)\n",
        "f1_score_value=f1_score(y_true=ground_labels, y_pred=labels, pos_label=\"True\")\n",
        "precision=precision_score(ground_labels, labels, pos_label=\"True\")\n",
        "recall=recall_score(ground_labels, labels, pos_label=\"True\")"
      ],
      "execution_count": null,
      "outputs": []
    },
    {
      "cell_type": "code",
      "metadata": {
        "id": "JeC0ZWWgTvOT"
      },
      "source": [
        "accuracy_scores_multiple.append(accuracy)\n",
        "f1_scores_multiple.append(f1_score_value)\n",
        "precision_scores_multiple.append(precision)\n",
        "recall_scores_multiple.append(recall)"
      ],
      "execution_count": null,
      "outputs": []
    },
    {
      "cell_type": "code",
      "metadata": {
        "id": "FBaQ5nstTvOT",
        "colab": {
          "base_uri": "https://localhost:8080/"
        },
        "outputId": "1efcbe45-11b1-4da1-9822-b317c5919685"
      },
      "source": [
        "print('accuracy: {}'.format(accuracy))\n",
        "print('f1 score: {}'.format(f1_score_value))\n",
        "print('precision: {}'.format(precision))\n",
        "print('recall: {}'.format(recall))"
      ],
      "execution_count": null,
      "outputs": [
        {
          "output_type": "stream",
          "name": "stdout",
          "text": [
            "accuracy: 0.6339754816112084\n",
            "f1 score: 0.37611940298507457\n",
            "precision: 0.328125\n",
            "recall: 0.4405594405594406\n"
          ]
        }
      ]
    },
    {
      "cell_type": "code",
      "metadata": {
        "id": "_UFFQUGOTvOU",
        "colab": {
          "base_uri": "https://localhost:8080/"
        },
        "outputId": "eccef17e-b219-4fdf-ec63-f8d2b45bfe6b"
      },
      "source": [
        "policy"
      ],
      "execution_count": null,
      "outputs": [
        {
          "output_type": "execute_result",
          "data": {
            "text/plain": [
              "[['Bigram', 'bigram_POS'], ['bigram_POS'], []]"
            ]
          },
          "metadata": {},
          "execution_count": 233
        }
      ]
    },
    {
      "cell_type": "code",
      "metadata": {
        "id": "uk5zU_LoTvOU"
      },
      "source": [
        "policy_set=[]\n",
        "\n",
        "for pol in policy:\n",
        "  policy_set+=pol\n",
        "\n",
        "policy_set=list(set(policy_set))\n",
        "\n",
        "for dataframe in dataframe_names_list:\n",
        "  if dataframe not in policy_set:\n",
        "    print(dataframe)"
      ],
      "execution_count": null,
      "outputs": []
    },
    {
      "cell_type": "markdown",
      "metadata": {
        "id": "HflZWa5nm42P"
      },
      "source": [
        "## **LNE-ngram**"
      ]
    },
    {
      "cell_type": "code",
      "metadata": {
        "id": "HwkpFtU5m42Q"
      },
      "source": [
        "dataframe_list=[imported_ngram,named_entity]\n",
        "dataframe_names_list=['imported ngram','named_entity']"
      ],
      "execution_count": null,
      "outputs": []
    },
    {
      "cell_type": "code",
      "metadata": {
        "id": "RkBc-k3Qm42R",
        "colab": {
          "base_uri": "https://localhost:8080/"
        },
        "outputId": "4567dc04-6293-4269-d227-0bf415b48c40"
      },
      "source": [
        "ground_labels, global_explainability_tabular, labels, _, _, policy=stc_procedure_multiple_dataset(dataframe_list,dataframe_names_list,true_labels)"
      ],
      "execution_count": null,
      "outputs": [
        {
          "output_type": "stream",
          "name": "stdout",
          "text": [
            ""
          ]
        }
      ]
    },
    {
      "cell_type": "code",
      "metadata": {
        "id": "eWQvVNl_m42S"
      },
      "source": [
        "accuracy=accuracy_score(ground_labels, labels)\n",
        "f1_score_value=f1_score(y_true=ground_labels, y_pred=labels, pos_label=\"True\")\n",
        "precision=precision_score(ground_labels, labels, pos_label=\"True\")\n",
        "recall=recall_score(ground_labels, labels, pos_label=\"True\")"
      ],
      "execution_count": null,
      "outputs": []
    },
    {
      "cell_type": "code",
      "metadata": {
        "id": "tYuNU1Elm42T"
      },
      "source": [
        "accuracy_scores_multiple.append(accuracy)\n",
        "f1_scores_multiple.append(f1_score_value)\n",
        "precision_scores_multiple.append(precision)\n",
        "recall_scores_multiple.append(recall)"
      ],
      "execution_count": null,
      "outputs": []
    },
    {
      "cell_type": "code",
      "metadata": {
        "id": "5SukFq14m42U",
        "colab": {
          "base_uri": "https://localhost:8080/"
        },
        "outputId": "2a62c24f-0910-41da-9c41-fbe3b89a2d3c"
      },
      "source": [
        "print('accuracy: {}'.format(accuracy))\n",
        "print('f1 score: {}'.format(f1_score_value))\n",
        "print('precision: {}'.format(precision))\n",
        "print('recall: {}'.format(recall))"
      ],
      "execution_count": null,
      "outputs": [
        {
          "output_type": "stream",
          "name": "stdout",
          "text": [
            "accuracy: 0.7057793345008757\n",
            "f1 score: 0.5647668393782384\n",
            "precision: 0.448559670781893\n",
            "recall: 0.7622377622377622\n"
          ]
        }
      ]
    },
    {
      "cell_type": "code",
      "metadata": {
        "id": "kXTB1dWSm42V",
        "colab": {
          "base_uri": "https://localhost:8080/"
        },
        "outputId": "3e9b5d06-16f9-4ea8-98d3-57250613752b"
      },
      "source": [
        "policy"
      ],
      "execution_count": null,
      "outputs": [
        {
          "output_type": "execute_result",
          "data": {
            "text/plain": [
              "[['imported ngram', 'named_entity'], ['named_entity'], []]"
            ]
          },
          "metadata": {},
          "execution_count": 240
        }
      ]
    },
    {
      "cell_type": "code",
      "metadata": {
        "id": "tg-XaYsym42V"
      },
      "source": [
        "policy_set=[]\n",
        "\n",
        "for pol in policy:\n",
        "  policy_set+=pol\n",
        "\n",
        "policy_set=list(set(policy_set))\n",
        "\n",
        "for dataframe in dataframe_names_list:\n",
        "  if dataframe not in policy_set:\n",
        "    print(dataframe)"
      ],
      "execution_count": null,
      "outputs": []
    },
    {
      "cell_type": "markdown",
      "metadata": {
        "id": "6fg8GoMP9fZJ"
      },
      "source": [
        "## **POS bigram-ngram**"
      ]
    },
    {
      "cell_type": "code",
      "metadata": {
        "id": "R6hlDvpM9fZK"
      },
      "source": [
        "dataframe_list=[imported_ngram,bigram_POS]\n",
        "dataframe_names_list=['imported ngram','bigram_POS']"
      ],
      "execution_count": null,
      "outputs": []
    },
    {
      "cell_type": "code",
      "metadata": {
        "id": "I_ls_3Cy9fZK",
        "colab": {
          "base_uri": "https://localhost:8080/"
        },
        "outputId": "c780702e-98e8-4f3d-f6a1-d137862f008d"
      },
      "source": [
        "ground_labels, global_explainability_tabular, labels, _, _, policy=stc_procedure_multiple_dataset(dataframe_list,dataframe_names_list,true_labels)"
      ],
      "execution_count": null,
      "outputs": [
        {
          "output_type": "stream",
          "name": "stdout",
          "text": [
            ""
          ]
        }
      ]
    },
    {
      "cell_type": "code",
      "metadata": {
        "id": "skvXGfxv9fZL"
      },
      "source": [
        "accuracy=accuracy_score(ground_labels, labels)\n",
        "f1_score_value=f1_score(y_true=ground_labels, y_pred=labels, pos_label=\"True\")\n",
        "precision=precision_score(ground_labels, labels, pos_label=\"True\")\n",
        "recall=recall_score(ground_labels, labels, pos_label=\"True\")"
      ],
      "execution_count": null,
      "outputs": []
    },
    {
      "cell_type": "code",
      "metadata": {
        "id": "mrrY7lDy9fZL"
      },
      "source": [
        "accuracy_scores_multiple.append(accuracy)\n",
        "f1_scores_multiple.append(f1_score_value)\n",
        "precision_scores_multiple.append(precision)\n",
        "recall_scores_multiple.append(recall)"
      ],
      "execution_count": null,
      "outputs": []
    },
    {
      "cell_type": "code",
      "metadata": {
        "id": "kHbzypAj9fZL",
        "colab": {
          "base_uri": "https://localhost:8080/"
        },
        "outputId": "6987a03b-588b-4e6d-ddc4-73ac0b9f8498"
      },
      "source": [
        "print('accuracy: {}'.format(accuracy))\n",
        "print('f1 score: {}'.format(f1_score_value))\n",
        "print('precision: {}'.format(precision))\n",
        "print('recall: {}'.format(recall))"
      ],
      "execution_count": null,
      "outputs": [
        {
          "output_type": "stream",
          "name": "stdout",
          "text": [
            "accuracy: 0.6234676007005254\n",
            "f1 score: 0.36950146627565983\n",
            "precision: 0.3181818181818182\n",
            "recall: 0.4405594405594406\n"
          ]
        }
      ]
    },
    {
      "cell_type": "code",
      "metadata": {
        "id": "t5dr2WfG9fZM",
        "colab": {
          "base_uri": "https://localhost:8080/"
        },
        "outputId": "065a8632-2a6a-4792-c222-6e8b246311f3"
      },
      "source": [
        "policy"
      ],
      "execution_count": null,
      "outputs": [
        {
          "output_type": "execute_result",
          "data": {
            "text/plain": [
              "[['bigram_POS'], []]"
            ]
          },
          "metadata": {},
          "execution_count": 247
        }
      ]
    },
    {
      "cell_type": "code",
      "metadata": {
        "id": "AJ0VhPem9fZM",
        "colab": {
          "base_uri": "https://localhost:8080/"
        },
        "outputId": "a6129628-f336-4fe7-abb5-d8d1d431ab46"
      },
      "source": [
        "policy_set=[]\n",
        "\n",
        "for pol in policy:\n",
        "  policy_set+=pol\n",
        "\n",
        "policy_set=list(set(policy_set))\n",
        "\n",
        "for dataframe in dataframe_names_list:\n",
        "  if dataframe not in policy_set:\n",
        "    print(dataframe)"
      ],
      "execution_count": null,
      "outputs": [
        {
          "output_type": "stream",
          "name": "stdout",
          "text": [
            "imported ngram\n"
          ]
        }
      ]
    },
    {
      "cell_type": "markdown",
      "metadata": {
        "id": "zK9863RR6Fe3"
      },
      "source": [
        "## **Bigrams words- words POS**"
      ]
    },
    {
      "cell_type": "code",
      "metadata": {
        "id": "FMXgN24I6Fe4"
      },
      "source": [
        "dataframe_list=[Bigram,named_entity,statistic]\n",
        "dataframe_names_list=['Bigram','named_entity','statistic']"
      ],
      "execution_count": null,
      "outputs": []
    },
    {
      "cell_type": "code",
      "metadata": {
        "id": "45IUj83E6Fe4",
        "colab": {
          "base_uri": "https://localhost:8080/"
        },
        "outputId": "216e82fe-ea10-47a7-dda8-ad5575de09e6"
      },
      "source": [
        "ground_labels, global_explainability_tabular, labels, _, _, policy=stc_procedure_multiple_dataset(dataframe_list,dataframe_names_list,true_labels)"
      ],
      "execution_count": null,
      "outputs": [
        {
          "output_type": "stream",
          "name": "stdout",
          "text": [
            ""
          ]
        }
      ]
    },
    {
      "cell_type": "code",
      "metadata": {
        "id": "c5VuSQp06Fe4"
      },
      "source": [
        "accuracy=accuracy_score(ground_labels, labels)\n",
        "f1_score_value=f1_score(y_true=ground_labels, y_pred=labels, pos_label=\"True\")\n",
        "precision=precision_score(ground_labels, labels, pos_label=\"True\")\n",
        "recall=recall_score(ground_labels, labels, pos_label=\"True\")"
      ],
      "execution_count": null,
      "outputs": []
    },
    {
      "cell_type": "code",
      "metadata": {
        "id": "eifiLygi6Fe7"
      },
      "source": [
        "accuracy_scores_multiple.append(accuracy)\n",
        "f1_scores_multiple.append(f1_score_value)\n",
        "precision_scores_multiple.append(precision)\n",
        "recall_scores_multiple.append(recall)"
      ],
      "execution_count": null,
      "outputs": []
    },
    {
      "cell_type": "code",
      "metadata": {
        "id": "FKfJ5mmc6Fe7",
        "colab": {
          "base_uri": "https://localhost:8080/"
        },
        "outputId": "23436e43-280d-4fb8-a2ff-9d1c341c1cd4"
      },
      "source": [
        "print('accuracy: {}'.format(accuracy))\n",
        "print('f1 score: {}'.format(f1_score_value))\n",
        "print('precision: {}'.format(precision))\n",
        "print('recall: {}'.format(recall))"
      ],
      "execution_count": null,
      "outputs": [
        {
          "output_type": "stream",
          "name": "stdout",
          "text": [
            "accuracy: 0.6970227670753065\n",
            "f1 score: 0.5685785536159601\n",
            "precision: 0.4418604651162791\n",
            "recall: 0.7972027972027972\n"
          ]
        }
      ]
    },
    {
      "cell_type": "code",
      "metadata": {
        "id": "kG15xLSP6Fe7",
        "colab": {
          "base_uri": "https://localhost:8080/"
        },
        "outputId": "c129f9fd-d366-487f-d1e4-7929755f7a49"
      },
      "source": [
        "policy"
      ],
      "execution_count": null,
      "outputs": [
        {
          "output_type": "execute_result",
          "data": {
            "text/plain": [
              "[['Bigram', 'named_entity', 'statistic'],\n",
              " ['named_entity', 'statistic'],\n",
              " ['statistic'],\n",
              " []]"
            ]
          },
          "metadata": {},
          "execution_count": 254
        }
      ]
    },
    {
      "cell_type": "code",
      "metadata": {
        "id": "t58hDgFP6Fe8"
      },
      "source": [
        "policy_set=[]\n",
        "\n",
        "for pol in policy:\n",
        "  policy_set+=pol\n",
        "\n",
        "policy_set=list(set(policy_set))\n",
        "\n",
        "for dataframe in dataframe_names_list:\n",
        "  if dataframe not in policy_set:\n",
        "    print(dataframe)"
      ],
      "execution_count": null,
      "outputs": []
    },
    {
      "cell_type": "markdown",
      "metadata": {
        "id": "NYtBDXnwDouJ"
      },
      "source": [
        "## **LNE- words POS**"
      ]
    },
    {
      "cell_type": "code",
      "metadata": {
        "id": "oAgaxipSDouJ"
      },
      "source": [
        "dataframe_list=[named_entity,POS,simple_POS]\n",
        "dataframe_names_list=['named_entity','POS','simple_POS']"
      ],
      "execution_count": null,
      "outputs": []
    },
    {
      "cell_type": "code",
      "metadata": {
        "id": "aiwfFuUSDouK",
        "colab": {
          "base_uri": "https://localhost:8080/"
        },
        "outputId": "fd17799a-f9f6-4489-eb64-82c559555787"
      },
      "source": [
        "ground_labels, global_explainability_tabular, labels, _, _, policy=stc_procedure_multiple_dataset(dataframe_list,dataframe_names_list,true_labels)"
      ],
      "execution_count": null,
      "outputs": [
        {
          "output_type": "stream",
          "name": "stdout",
          "text": [
            ""
          ]
        }
      ]
    },
    {
      "cell_type": "code",
      "metadata": {
        "id": "qlluWX5KDouK"
      },
      "source": [
        "accuracy=accuracy_score(ground_labels, labels)\n",
        "f1_score_value=f1_score(y_true=ground_labels, y_pred=labels, pos_label=\"True\")\n",
        "precision=precision_score(ground_labels, labels, pos_label=\"True\")\n",
        "recall=recall_score(ground_labels, labels, pos_label=\"True\")"
      ],
      "execution_count": null,
      "outputs": []
    },
    {
      "cell_type": "code",
      "metadata": {
        "id": "osHBF0bPDouK"
      },
      "source": [
        "accuracy_scores_multiple.append(accuracy)\n",
        "f1_scores_multiple.append(f1_score_value)\n",
        "precision_scores_multiple.append(precision)\n",
        "recall_scores_multiple.append(recall)"
      ],
      "execution_count": null,
      "outputs": []
    },
    {
      "cell_type": "code",
      "metadata": {
        "id": "-LG5omAwDouK",
        "colab": {
          "base_uri": "https://localhost:8080/"
        },
        "outputId": "3099f7f0-129f-46d0-8739-2dc8c8d7f145"
      },
      "source": [
        "print('accuracy: {}'.format(accuracy))\n",
        "print('f1 score: {}'.format(f1_score_value))\n",
        "print('precision: {}'.format(precision))\n",
        "print('recall: {}'.format(recall))"
      ],
      "execution_count": null,
      "outputs": [
        {
          "output_type": "stream",
          "name": "stdout",
          "text": [
            "accuracy: 0.7057793345008757\n",
            "f1 score: 0.5647668393782384\n",
            "precision: 0.448559670781893\n",
            "recall: 0.7622377622377622\n"
          ]
        }
      ]
    },
    {
      "cell_type": "code",
      "metadata": {
        "id": "4Rax86p_DouK",
        "colab": {
          "base_uri": "https://localhost:8080/"
        },
        "outputId": "64c54ea5-751c-4019-db36-125462d9b188"
      },
      "source": [
        "policy"
      ],
      "execution_count": null,
      "outputs": [
        {
          "output_type": "execute_result",
          "data": {
            "text/plain": [
              "[['named_entity'], []]"
            ]
          },
          "metadata": {},
          "execution_count": 261
        }
      ]
    },
    {
      "cell_type": "code",
      "metadata": {
        "id": "ZjjAi5S_DouK",
        "colab": {
          "base_uri": "https://localhost:8080/"
        },
        "outputId": "1f115784-c937-465a-bd3b-f31fa7b1d446"
      },
      "source": [
        "policy_set=[]\n",
        "\n",
        "for pol in policy:\n",
        "  policy_set+=pol\n",
        "\n",
        "policy_set=list(set(policy_set))\n",
        "\n",
        "for dataframe in dataframe_names_list:\n",
        "  if dataframe not in policy_set:\n",
        "    print(dataframe)"
      ],
      "execution_count": null,
      "outputs": [
        {
          "output_type": "stream",
          "name": "stdout",
          "text": [
            "POS\n",
            "simple_POS\n"
          ]
        }
      ]
    },
    {
      "cell_type": "markdown",
      "metadata": {
        "id": "A9pwkRNN55Ok"
      },
      "source": [
        "# **Graph**"
      ]
    },
    {
      "cell_type": "code",
      "metadata": {
        "id": "a2UHRzwaK6x0"
      },
      "source": [
        "score={}\n",
        "debater_score={}\n",
        "\n",
        "score[\"Accuracy\"]=accuracy_scores\n",
        "score[\"F1 score\"]=f1_scores\n",
        "score[\"Precision\"]=precision_scores\n",
        "score[\"Recall\"]=recall_scores"
      ],
      "execution_count": null,
      "outputs": []
    },
    {
      "cell_type": "code",
      "metadata": {
        "id": "AjsNIQy4KZvP"
      },
      "source": [
        "plt.rcParams.update({'font.size': 18})"
      ],
      "execution_count": null,
      "outputs": []
    },
    {
      "cell_type": "code",
      "metadata": {
        "id": "rgNA9Ln9Ivub",
        "colab": {
          "base_uri": "https://localhost:8080/",
          "height": 1000
        },
        "outputId": "41614d32-f8c5-40f2-bdeb-1f595a21f21d"
      },
      "source": [
        "# Draw the plots of the performance for the various dataset.\n",
        "\n",
        "# Width of the bars for the graphs to draw.\n",
        "barWidth = 0.35\n",
        "\n",
        "# Plot the bar graphs.\n",
        "fig, axes = plt.subplots(nrows=4, ncols=1, figsize=(20, 30))\n",
        "fig.tight_layout(pad=10.0)\n",
        "data_names=[\"Stat.\",\"POS\",\"S-POS\", \"POS-B\",\"S-POS-B\",\"Dep.\", \"Dep. stat.\",\"LNE\",\"BOW\",\"Bigram\",\"N-gram\",\"Subj.\"]\n",
        "rows=[\"Accuracy\",\"F1 score\",\"Precision\",\"Recall\"]\n",
        "\n",
        "for row,axis in zip(rows,axes.flatten()):\n",
        "    axis.set_title(row)\n",
        "\n",
        "    # Location of labels on the x axis.\n",
        "    x_labels = np.arange(len(data_names))\n",
        "\n",
        "    # Create the bars.\n",
        "    axis.bar(x_labels, score[row], width = barWidth, color = 'blue', edgecolor = 'black', capsize=6)\n",
        "\n",
        "    # Lable the axis.\n",
        "    axis.set_xlabel(\"\\nTipologie di dati\")\n",
        "    axis.set_xticks(x_labels)\n",
        "    axis.set_xticklabels(data_names)\n",
        "    axis.set_ylabel(row)\n",
        "\n",
        "plt.show()  "
      ],
      "execution_count": null,
      "outputs": [
        {
          "output_type": "display_data",
          "data": {
            "image/png": "[encoded data removed]",
            "text/plain": [
              "<Figure size 1440x2160 with 4 Axes>"
            ]
          },
          "metadata": {
            "needs_background": "light"
          }
        }
      ]
    }
  ]
}