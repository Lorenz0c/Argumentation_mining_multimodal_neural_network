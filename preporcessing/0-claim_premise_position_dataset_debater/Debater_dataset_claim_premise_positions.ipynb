{
  "nbformat": 4,
  "nbformat_minor": 0,
  "metadata": {
    "colab": {
      "name": "Debater_dataset_claim_premise_positions.ipynb",
      "provenance": [],
      "collapsed_sections": []
    },
    "kernelspec": {
      "name": "python3",
      "display_name": "Python 3"
    },
    "language_info": {
      "name": "python"
    }
  },
  "cells": [
    {
      "cell_type": "code",
      "metadata": {
        "id": "BklOuMfjrMpZ"
      },
      "source": [
        "from google.colab import files\n",
        "import zipfile\n",
        "import regex as re\n",
        "import glob"
      ],
      "execution_count": null,
      "outputs": []
    },
    {
      "cell_type": "code",
      "metadata": {
        "colab": {
          "resources": {
            "http://localhost:8080/nbextensions/google.colab/files.js": {
              "data": "Ly8gQ29weXJpZ2h0IDIwMTcgR29vZ2xlIExMQwovLwovLyBMaWNlbnNlZCB1bmRlciB0aGUgQXBhY2hlIExpY2Vuc2UsIFZlcnNpb24gMi4wICh0aGUgIkxpY2Vuc2UiKTsKLy8geW91IG1heSBub3QgdXNlIHRoaXMgZmlsZSBleGNlcHQgaW4gY29tcGxpYW5jZSB3aXRoIHRoZSBMaWNlbnNlLgovLyBZb3UgbWF5IG9idGFpbiBhIGNvcHkgb2YgdGhlIExpY2Vuc2UgYXQKLy8KLy8gICAgICBodHRwOi8vd3d3LmFwYWNoZS5vcmcvbGljZW5zZXMvTElDRU5TRS0yLjAKLy8KLy8gVW5sZXNzIHJlcXVpcmVkIGJ5IGFwcGxpY2FibGUgbGF3IG9yIGFncmVlZCB0byBpbiB3cml0aW5nLCBzb2Z0d2FyZQovLyBkaXN0cmlidXRlZCB1bmRlciB0aGUgTGljZW5zZSBpcyBkaXN0cmlidXRlZCBvbiBhbiAiQVMgSVMiIEJBU0lTLAovLyBXSVRIT1VUIFdBUlJBTlRJRVMgT1IgQ09ORElUSU9OUyBPRiBBTlkgS0lORCwgZWl0aGVyIGV4cHJlc3Mgb3IgaW1wbGllZC4KLy8gU2VlIHRoZSBMaWNlbnNlIGZvciB0aGUgc3BlY2lmaWMgbGFuZ3VhZ2UgZ292ZXJuaW5nIHBlcm1pc3Npb25zIGFuZAovLyBsaW1pdGF0aW9ucyB1bmRlciB0aGUgTGljZW5zZS4KCi8qKgogKiBAZmlsZW92ZXJ2aWV3IEhlbHBlcnMgZm9yIGdvb2dsZS5jb2xhYiBQeXRob24gbW9kdWxlLgogKi8KKGZ1bmN0aW9uKHNjb3BlKSB7CmZ1bmN0aW9uIHNwYW4odGV4dCwgc3R5bGVBdHRyaWJ1dGVzID0ge30pIHsKICBjb25zdCBlbGVtZW50ID0gZG9jdW1lbnQuY3JlYXRlRWxlbWVudCgnc3BhbicpOwogIGVsZW1lbnQudGV4dENvbnRlbnQgPSB0ZXh0OwogIGZvciAoY29uc3Qga2V5IG9mIE9iamVjdC5rZXlzKHN0eWxlQXR0cmlidXRlcykpIHsKICAgIGVsZW1lbnQuc3R5bGVba2V5XSA9IHN0eWxlQXR0cmlidXRlc1trZXldOwogIH0KICByZXR1cm4gZWxlbWVudDsKfQoKLy8gTWF4IG51bWJlciBvZiBieXRlcyB3aGljaCB3aWxsIGJlIHVwbG9hZGVkIGF0IGEgdGltZS4KY29uc3QgTUFYX1BBWUxPQURfU0laRSA9IDEwMCAqIDEwMjQ7CgpmdW5jdGlvbiBfdXBsb2FkRmlsZXMoaW5wdXRJZCwgb3V0cHV0SWQpIHsKICBjb25zdCBzdGVwcyA9IHVwbG9hZEZpbGVzU3RlcChpbnB1dElkLCBvdXRwdXRJZCk7CiAgY29uc3Qgb3V0cHV0RWxlbWVudCA9IGRvY3VtZW50LmdldEVsZW1lbnRCeUlkKG91dHB1dElkKTsKICAvLyBDYWNoZSBzdGVwcyBvbiB0aGUgb3V0cHV0RWxlbWVudCB0byBtYWtlIGl0IGF2YWlsYWJsZSBmb3IgdGhlIG5leHQgY2FsbAogIC8vIHRvIHVwbG9hZEZpbGVzQ29udGludWUgZnJvbSBQeXRob24uCiAgb3V0cHV0RWxlbWVudC5zdGVwcyA9IHN0ZXBzOwoKICByZXR1cm4gX3VwbG9hZEZpbGVzQ29udGludWUob3V0cHV0SWQpOwp9CgovLyBUaGlzIGlzIHJvdWdobHkgYW4gYXN5bmMgZ2VuZXJhdG9yIChub3Qgc3VwcG9ydGVkIGluIHRoZSBicm93c2VyIHlldCksCi8vIHdoZXJlIHRoZXJlIGFyZSBtdWx0aXBsZSBhc3luY2hyb25vdXMgc3RlcHMgYW5kIHRoZSBQeXRob24gc2lkZSBpcyBnb2luZwovLyB0byBwb2xsIGZvciBjb21wbGV0aW9uIG9mIGVhY2ggc3RlcC4KLy8gVGhpcyB1c2VzIGEgUHJvbWlzZSB0byBibG9jayB0aGUgcHl0aG9uIHNpZGUgb24gY29tcGxldGlvbiBvZiBlYWNoIHN0ZXAsCi8vIHRoZW4gcGFzc2VzIHRoZSByZXN1bHQgb2YgdGhlIHByZXZpb3VzIHN0ZXAgYXMgdGhlIGlucHV0IHRvIHRoZSBuZXh0IHN0ZXAuCmZ1bmN0aW9uIF91cGxvYWRGaWxlc0NvbnRpbnVlKG91dHB1dElkKSB7CiAgY29uc3Qgb3V0cHV0RWxlbWVudCA9IGRvY3VtZW50LmdldEVsZW1lbnRCeUlkKG91dHB1dElkKTsKICBjb25zdCBzdGVwcyA9IG91dHB1dEVsZW1lbnQuc3RlcHM7CgogIGNvbnN0IG5leHQgPSBzdGVwcy5uZXh0KG91dHB1dEVsZW1lbnQubGFzdFByb21pc2VWYWx1ZSk7CiAgcmV0dXJuIFByb21pc2UucmVzb2x2ZShuZXh0LnZhbHVlLnByb21pc2UpLnRoZW4oKHZhbHVlKSA9PiB7CiAgICAvLyBDYWNoZSB0aGUgbGFzdCBwcm9taXNlIHZhbHVlIHRvIG1ha2UgaXQgYXZhaWxhYmxlIHRvIHRoZSBuZXh0CiAgICAvLyBzdGVwIG9mIHRoZSBnZW5lcmF0b3IuCiAgICBvdXRwdXRFbGVtZW50Lmxhc3RQcm9taXNlVmFsdWUgPSB2YWx1ZTsKICAgIHJldHVybiBuZXh0LnZhbHVlLnJlc3BvbnNlOwogIH0pOwp9CgovKioKICogR2VuZXJhdG9yIGZ1bmN0aW9uIHdoaWNoIGlzIGNhbGxlZCBiZXR3ZWVuIGVhY2ggYXN5bmMgc3RlcCBvZiB0aGUgdXBsb2FkCiAqIHByb2Nlc3MuCiAqIEBwYXJhbSB7c3RyaW5nfSBpbnB1dElkIEVsZW1lbnQgSUQgb2YgdGhlIGlucHV0IGZpbGUgcGlja2VyIGVsZW1lbnQuCiAqIEBwYXJhbSB7c3RyaW5nfSBvdXRwdXRJZCBFbGVtZW50IElEIG9mIHRoZSBvdXRwdXQgZGlzcGxheS4KICogQHJldHVybiB7IUl0ZXJhYmxlPCFPYmplY3Q+fSBJdGVyYWJsZSBvZiBuZXh0IHN0ZXBzLgogKi8KZnVuY3Rpb24qIHVwbG9hZEZpbGVzU3RlcChpbnB1dElkLCBvdXRwdXRJZCkgewogIGNvbnN0IGlucHV0RWxlbWVudCA9IGRvY3VtZW50LmdldEVsZW1lbnRCeUlkKGlucHV0SWQpOwogIGlucHV0RWxlbWVudC5kaXNhYmxlZCA9IGZhbHNlOwoKICBjb25zdCBvdXRwdXRFbGVtZW50ID0gZG9jdW1lbnQuZ2V0RWxlbWVudEJ5SWQob3V0cHV0SWQpOwogIG91dHB1dEVsZW1lbnQuaW5uZXJIVE1MID0gJyc7CgogIGNvbnN0IHBpY2tlZFByb21pc2UgPSBuZXcgUHJvbWlzZSgocmVzb2x2ZSkgPT4gewogICAgaW5wdXRFbGVtZW50LmFkZEV2ZW50TGlzdGVuZXIoJ2NoYW5nZScsIChlKSA9PiB7CiAgICAgIHJlc29sdmUoZS50YXJnZXQuZmlsZXMpOwogICAgfSk7CiAgfSk7CgogIGNvbnN0IGNhbmNlbCA9IGRvY3VtZW50LmNyZWF0ZUVsZW1lbnQoJ2J1dHRvbicpOwogIGlucHV0RWxlbWVudC5wYXJlbnRFbGVtZW50LmFwcGVuZENoaWxkKGNhbmNlbCk7CiAgY2FuY2VsLnRleHRDb250ZW50ID0gJ0NhbmNlbCB1cGxvYWQnOwogIGNvbnN0IGNhbmNlbFByb21pc2UgPSBuZXcgUHJvbWlzZSgocmVzb2x2ZSkgPT4gewogICAgY2FuY2VsLm9uY2xpY2sgPSAoKSA9PiB7CiAgICAgIHJlc29sdmUobnVsbCk7CiAgICB9OwogIH0pOwoKICAvLyBXYWl0IGZvciB0aGUgdXNlciB0byBwaWNrIHRoZSBmaWxlcy4KICBjb25zdCBmaWxlcyA9IHlpZWxkIHsKICAgIHByb21pc2U6IFByb21pc2UucmFjZShbcGlja2VkUHJvbWlzZSwgY2FuY2VsUHJvbWlzZV0pLAogICAgcmVzcG9uc2U6IHsKICAgICAgYWN0aW9uOiAnc3RhcnRpbmcnLAogICAgfQogIH07CgogIGNhbmNlbC5yZW1vdmUoKTsKCiAgLy8gRGlzYWJsZSB0aGUgaW5wdXQgZWxlbWVudCBzaW5jZSBmdXJ0aGVyIHBpY2tzIGFyZSBub3QgYWxsb3dlZC4KICBpbnB1dEVsZW1lbnQuZGlzYWJsZWQgPSB0cnVlOwoKICBpZiAoIWZpbGVzKSB7CiAgICByZXR1cm4gewogICAgICByZXNwb25zZTogewogICAgICAgIGFjdGlvbjogJ2NvbXBsZXRlJywKICAgICAgfQogICAgfTsKICB9CgogIGZvciAoY29uc3QgZmlsZSBvZiBmaWxlcykgewogICAgY29uc3QgbGkgPSBkb2N1bWVudC5jcmVhdGVFbGVtZW50KCdsaScpOwogICAgbGkuYXBwZW5kKHNwYW4oZmlsZS5uYW1lLCB7Zm9udFdlaWdodDogJ2JvbGQnfSkpOwogICAgbGkuYXBwZW5kKHNwYW4oCiAgICAgICAgYCgke2ZpbGUudHlwZSB8fCAnbi9hJ30pIC0gJHtmaWxlLnNpemV9IGJ5dGVzLCBgICsKICAgICAgICBgbGFzdCBtb2RpZmllZDogJHsKICAgICAgICAgICAgZmlsZS5sYXN0TW9kaWZpZWREYXRlID8gZmlsZS5sYXN0TW9kaWZpZWREYXRlLnRvTG9jYWxlRGF0ZVN0cmluZygpIDoKICAgICAgICAgICAgICAgICAgICAgICAgICAgICAgICAgICAgJ24vYSd9IC0gYCkpOwogICAgY29uc3QgcGVyY2VudCA9IHNwYW4oJzAlIGRvbmUnKTsKICAgIGxpLmFwcGVuZENoaWxkKHBlcmNlbnQpOwoKICAgIG91dHB1dEVsZW1lbnQuYXBwZW5kQ2hpbGQobGkpOwoKICAgIGNvbnN0IGZpbGVEYXRhUHJvbWlzZSA9IG5ldyBQcm9taXNlKChyZXNvbHZlKSA9PiB7CiAgICAgIGNvbnN0IHJlYWRlciA9IG5ldyBGaWxlUmVhZGVyKCk7CiAgICAgIHJlYWRlci5vbmxvYWQgPSAoZSkgPT4gewogICAgICAgIHJlc29sdmUoZS50YXJnZXQucmVzdWx0KTsKICAgICAgfTsKICAgICAgcmVhZGVyLnJlYWRBc0FycmF5QnVmZmVyKGZpbGUpOwogICAgfSk7CiAgICAvLyBXYWl0IGZvciB0aGUgZGF0YSB0byBiZSByZWFkeS4KICAgIGxldCBmaWxlRGF0YSA9IHlpZWxkIHsKICAgICAgcHJvbWlzZTogZmlsZURhdGFQcm9taXNlLAogICAgICByZXNwb25zZTogewogICAgICAgIGFjdGlvbjogJ2NvbnRpbnVlJywKICAgICAgfQogICAgfTsKCiAgICAvLyBVc2UgYSBjaHVua2VkIHNlbmRpbmcgdG8gYXZvaWQgbWVzc2FnZSBzaXplIGxpbWl0cy4gU2VlIGIvNjIxMTU2NjAuCiAgICBsZXQgcG9zaXRpb24gPSAwOwogICAgZG8gewogICAgICBjb25zdCBsZW5ndGggPSBNYXRoLm1pbihmaWxlRGF0YS5ieXRlTGVuZ3RoIC0gcG9zaXRpb24sIE1BWF9QQVlMT0FEX1NJWkUpOwogICAgICBjb25zdCBjaHVuayA9IG5ldyBVaW50OEFycmF5KGZpbGVEYXRhLCBwb3NpdGlvbiwgbGVuZ3RoKTsKICAgICAgcG9zaXRpb24gKz0gbGVuZ3RoOwoKICAgICAgY29uc3QgYmFzZTY0ID0gYnRvYShTdHJpbmcuZnJvbUNoYXJDb2RlLmFwcGx5KG51bGwsIGNodW5rKSk7CiAgICAgIHlpZWxkIHsKICAgICAgICByZXNwb25zZTogewogICAgICAgICAgYWN0aW9uOiAnYXBwZW5kJywKICAgICAgICAgIGZpbGU6IGZpbGUubmFtZSwKICAgICAgICAgIGRhdGE6IGJhc2U2NCwKICAgICAgICB9LAogICAgICB9OwoKICAgICAgbGV0IHBlcmNlbnREb25lID0gZmlsZURhdGEuYnl0ZUxlbmd0aCA9PT0gMCA/CiAgICAgICAgICAxMDAgOgogICAgICAgICAgTWF0aC5yb3VuZCgocG9zaXRpb24gLyBmaWxlRGF0YS5ieXRlTGVuZ3RoKSAqIDEwMCk7CiAgICAgIHBlcmNlbnQudGV4dENvbnRlbnQgPSBgJHtwZXJjZW50RG9uZX0lIGRvbmVgOwoKICAgIH0gd2hpbGUgKHBvc2l0aW9uIDwgZmlsZURhdGEuYnl0ZUxlbmd0aCk7CiAgfQoKICAvLyBBbGwgZG9uZS4KICB5aWVsZCB7CiAgICByZXNwb25zZTogewogICAgICBhY3Rpb246ICdjb21wbGV0ZScsCiAgICB9CiAgfTsKfQoKc2NvcGUuZ29vZ2xlID0gc2NvcGUuZ29vZ2xlIHx8IHt9OwpzY29wZS5nb29nbGUuY29sYWIgPSBzY29wZS5nb29nbGUuY29sYWIgfHwge307CnNjb3BlLmdvb2dsZS5jb2xhYi5fZmlsZXMgPSB7CiAgX3VwbG9hZEZpbGVzLAogIF91cGxvYWRGaWxlc0NvbnRpbnVlLAp9Owp9KShzZWxmKTsK",
              "ok": true,
              "headers": [
                [
                  "content-type",
                  "application/javascript"
                ]
              ],
              "status": 200,
              "status_text": ""
            }
          },
          "base_uri": "https://localhost:8080/",
          "height": 73
        },
        "id": "1cviHDTmoSJD",
        "outputId": "52edb3ad-3287-4556-8da8-332f1f8deeeb"
      },
      "source": [
        "# Import the IBM Debater dataset.\n",
        "\n",
        "uploaded = files.upload()"
      ],
      "execution_count": null,
      "outputs": [
        {
          "output_type": "display_data",
          "data": {
            "text/html": [
              "\n",
              "     <input type=\"file\" id=\"files-a68cc840-82e6-4ba8-9fa8-86a1ccacc004\" name=\"files[]\" multiple disabled\n",
              "        style=\"border:none\" />\n",
              "     <output id=\"result-a68cc840-82e6-4ba8-9fa8-86a1ccacc004\">\n",
              "      Upload widget is only available when the cell has been executed in the\n",
              "      current browser session. Please rerun this cell to enable.\n",
              "      </output>\n",
              "      <script src=\"/nbextensions/google.colab/files.js\"></script> "
            ],
            "text/plain": [
              "<IPython.core.display.HTML object>"
            ]
          },
          "metadata": {}
        },
        {
          "output_type": "stream",
          "name": "stdout",
          "text": [
            "Saving IBM_Debater_(R)_CE-EMNLP-2015.v3.zip to IBM_Debater_(R)_CE-EMNLP-2015.v3.zip\n"
          ]
        }
      ]
    },
    {
      "cell_type": "code",
      "metadata": {
        "id": "riCJg7CErUaw"
      },
      "source": [
        "# Extract a zip file.\n",
        "def import_zip(source: str, destination =\"\"):\n",
        "  with zipfile.ZipFile(source, 'r') as zip_ref:\n",
        "    zip_ref.extractall(destination)"
      ],
      "execution_count": null,
      "outputs": []
    },
    {
      "cell_type": "code",
      "metadata": {
        "id": "oY3RFtT9rtFU"
      },
      "source": [
        "# Extract dataset.\n",
        "import_zip(\"IBM_Debater_(R)_CE-EMNLP-2015.v3.zip\")"
      ],
      "execution_count": null,
      "outputs": []
    },
    {
      "cell_type": "markdown",
      "metadata": {
        "id": "qrYVEKiDx63b"
      },
      "source": [
        "# **Claim and premise extraction**"
      ]
    },
    {
      "cell_type": "code",
      "metadata": {
        "id": "UZ8NFHqrsorb"
      },
      "source": [
        "# Read the files containing the labeled claim and premises.\n",
        "claim_text=open(\"IBM_Debater_(R)_CE-EMNLP-2015.v3/claims.txt\").read()\n",
        "premise_text=open(\"IBM_Debater_(R)_CE-EMNLP-2015.v3/evidence.txt\").read()"
      ],
      "execution_count": null,
      "outputs": []
    },
    {
      "cell_type": "code",
      "metadata": {
        "colab": {
          "base_uri": "https://localhost:8080/",
          "height": 119
        },
        "id": "L0XPZDL3tMSw",
        "outputId": "b639de2b-823b-40b7-ee59-bf33717eef02"
      },
      "source": [
        "# Print the file containing the claim.\n",
        "claim_text[:800]"
      ],
      "execution_count": null,
      "outputs": [
        {
          "output_type": "execute_result",
          "data": {
            "application/vnd.google.colaboratory.intrinsic+json": {
              "type": "string"
            },
            "text/plain": [
              "'Topic\\tClaim original text\\tClaim corrected version\\nThis house believes that the sale of violent video games to minors should be banned\\tExposure to violent video games causes at least a temporary increase in aggression and this exposure correlates with aggression in the real world\\texposure to violent video games causes at least a temporary increase in aggression and that this exposure correlates with aggression in the real world\\nThis house believes that the sale of violent video games to minors should be banned\\tvideo game violence is not related to serious aggressive behavior in real life\\tvideo game violence is not related to serious aggressive behavior in real life\\nThis house believes that the sale of violent video games to minors should be banned\\tsome violent video games may actually have '"
            ]
          },
          "metadata": {},
          "execution_count": 6
        }
      ]
    },
    {
      "cell_type": "code",
      "metadata": {
        "id": "5w9Q8b36uc4E"
      },
      "source": [
        "# Create a list which contains as elements the lines in the original document.\n",
        "claim_lines=claim_text.split(\"\\n\")\n",
        "premise_lines=premise_text.split(\"\\n\")"
      ],
      "execution_count": null,
      "outputs": []
    },
    {
      "cell_type": "code",
      "metadata": {
        "colab": {
          "base_uri": "https://localhost:8080/"
        },
        "id": "6c7MlodTuopp",
        "outputId": "ee1f153b-a737-4efb-8f0c-76f43d6f8aa8"
      },
      "source": [
        "claim_lines[:3]"
      ],
      "execution_count": null,
      "outputs": [
        {
          "output_type": "execute_result",
          "data": {
            "text/plain": [
              "['Topic\\tClaim original text\\tClaim corrected version',\n",
              " 'This house believes that the sale of violent video games to minors should be banned\\tExposure to violent video games causes at least a temporary increase in aggression and this exposure correlates with aggression in the real world\\texposure to violent video games causes at least a temporary increase in aggression and that this exposure correlates with aggression in the real world',\n",
              " 'This house believes that the sale of violent video games to minors should be banned\\tvideo game violence is not related to serious aggressive behavior in real life\\tvideo game violence is not related to serious aggressive behavior in real life']"
            ]
          },
          "metadata": {},
          "execution_count": 8
        }
      ]
    },
    {
      "cell_type": "code",
      "metadata": {
        "colab": {
          "base_uri": "https://localhost:8080/"
        },
        "id": "z4n65nbTBSTE",
        "outputId": "5291a989-bcfc-45f1-d6db-fc0f3f855d3a"
      },
      "source": [
        "premise_lines[:3]"
      ],
      "execution_count": null,
      "outputs": [
        {
          "output_type": "execute_result",
          "data": {
            "text/plain": [
              "['This house believes that the sale of violent video games to minors should be banned\\tExposure to violent video games causes at least a temporary increase in aggression and this exposure correlates with aggression in the real world\\tA 2001 study found that exposure to violent video games causes at least a temporary increase in aggression and that this exposure correlates with aggression in the real world\\t[STUDY]',\n",
              " 'This house believes that the sale of violent video games to minors should be banned\\tExposure to violent video games causes at least a temporary increase in aggression and this exposure correlates with aggression in the real world\\tThe most recent large scale meta-anlysis-- examining 130 studies with over 130,000 subjects worldwide-- concluded that exposure to violent video games causes both short term and long term aggression in players\\t[STUDY]',\n",
              " 'This house believes that the sale of violent video games to minors should be banned\\tExposure to violent video games causes at least a temporary increase in aggression and this exposure correlates with aggression in the real world\\tOne study did find an increase in reports of bullying, noting, \"Our research found that certain patterns of video game play were much more likely to be associated with these types of behavioral problems\\t[STUDY]']"
            ]
          },
          "metadata": {},
          "execution_count": 9
        }
      ]
    },
    {
      "cell_type": "code",
      "metadata": {
        "colab": {
          "base_uri": "https://localhost:8080/"
        },
        "id": "q1GG4d_mu-nB",
        "outputId": "869adacd-4224-4799-fdd0-256829acb412"
      },
      "source": [
        "len(claim_lines)"
      ],
      "execution_count": null,
      "outputs": [
        {
          "output_type": "execute_result",
          "data": {
            "text/plain": [
              "2296"
            ]
          },
          "metadata": {},
          "execution_count": 10
        }
      ]
    },
    {
      "cell_type": "code",
      "metadata": {
        "id": "3fkyVo1txJ0a"
      },
      "source": [
        "# Separate each line of the document passed at the character '\\t'.\n",
        "# This character is the one used to separate the various component in each line\n",
        "# of the document.\n",
        "# In case of claims, also separate the first line from the rest of the document.\n",
        "# The first line contains the description of the content of the other lines.\n",
        "\n",
        "claim_list=[line.split(\"\\t\") for line in claim_lines][1:-1]\n",
        "premise_list=[line.split(\"\\t\") for line in premise_lines][:-1]"
      ],
      "execution_count": null,
      "outputs": []
    },
    {
      "cell_type": "code",
      "metadata": {
        "colab": {
          "base_uri": "https://localhost:8080/"
        },
        "id": "cHcBDOEE81Q7",
        "outputId": "e114be0f-25e3-432d-a18f-a8d3ec337ccb"
      },
      "source": [
        "claim_list[0:10]"
      ],
      "execution_count": null,
      "outputs": [
        {
          "output_type": "execute_result",
          "data": {
            "text/plain": [
              "[['This house believes that the sale of violent video games to minors should be banned',\n",
              "  'Exposure to violent video games causes at least a temporary increase in aggression and this exposure correlates with aggression in the real world',\n",
              "  'exposure to violent video games causes at least a temporary increase in aggression and that this exposure correlates with aggression in the real world'],\n",
              " ['This house believes that the sale of violent video games to minors should be banned',\n",
              "  'video game violence is not related to serious aggressive behavior in real life',\n",
              "  'video game violence is not related to serious aggressive behavior in real life'],\n",
              " ['This house believes that the sale of violent video games to minors should be banned',\n",
              "  'some violent video games may actually have a prosocial effect in some contexts',\n",
              "  'some violent video games may actually have a prosocial effect in some contexts'],\n",
              " ['This house believes that the sale of violent video games to minors should be banned',\n",
              "  'exposure to violent video games causes both short term and long term aggression in players and decreases empathy and prosocial behavior',\n",
              "  'exposure to violent video games causes both short term and long term aggression in players and decreases empathy and prosocial behavior'],\n",
              " ['This house believes that the sale of violent video games to minors should be banned',\n",
              "  'Violent video games increase the violent tendencies among youth',\n",
              "  'they increase the violent tendencies among youth'],\n",
              " ['This house believes that the sale of violent video games to minors should be banned',\n",
              "  'No conclusive link was found between video game usage and violent activity',\n",
              "  'have shown no conclusive link between video game usage and violent activity'],\n",
              " ['This house believes that the sale of violent video games to minors should be banned',\n",
              "  'violent video games are significantly associated with: increased aggressive behavior, thoughts, and affect; increased physiological arousal; and decreased pro-social (helping) behavior',\n",
              "  'violent video games are significantly associated with: increased aggressive behavior, thoughts, and affect; increased physiological arousal; and decreased pro-social (helping) behavior'],\n",
              " ['This house believes that the sale of violent video games to minors should be banned',\n",
              "  'video game publishers unethically train children in the use of weapons and, more importantly, harden them emotionally to the act of murder',\n",
              "  'video game publishers unethically train children in the use of weapons and, more importantly, harden them emotionally to the act of murder'],\n",
              " ['This house believes that the sale of violent video games to minors should be banned',\n",
              "  'violent video games may increase mild forms of aggressive behavior in children and young adults',\n",
              "  'violent video games may increase mild forms of aggressive behavior in children and young adults'],\n",
              " ['This house believes that the sale of violent video games to minors should be banned',\n",
              "  'exposure to violent video games results in increased physiological arousal, aggression-related thoughts and feelings as well as decreased prosocial behavior',\n",
              "  'exposure to violent video games results in increased physiological arousal, aggression-related thoughts and feelings as well as decreased prosocial behavior']]"
            ]
          },
          "metadata": {},
          "execution_count": 12
        }
      ]
    },
    {
      "cell_type": "code",
      "metadata": {
        "colab": {
          "base_uri": "https://localhost:8080/"
        },
        "id": "NnjPYI9xxv6i",
        "outputId": "728b5285-f573-45f6-dcfc-1fa7053c0535"
      },
      "source": [
        "premise_list[0:2]"
      ],
      "execution_count": null,
      "outputs": [
        {
          "output_type": "execute_result",
          "data": {
            "text/plain": [
              "[['This house believes that the sale of violent video games to minors should be banned',\n",
              "  'Exposure to violent video games causes at least a temporary increase in aggression and this exposure correlates with aggression in the real world',\n",
              "  'A 2001 study found that exposure to violent video games causes at least a temporary increase in aggression and that this exposure correlates with aggression in the real world',\n",
              "  '[STUDY]'],\n",
              " ['This house believes that the sale of violent video games to minors should be banned',\n",
              "  'Exposure to violent video games causes at least a temporary increase in aggression and this exposure correlates with aggression in the real world',\n",
              "  'The most recent large scale meta-anlysis-- examining 130 studies with over 130,000 subjects worldwide-- concluded that exposure to violent video games causes both short term and long term aggression in players',\n",
              "  '[STUDY]']]"
            ]
          },
          "metadata": {},
          "execution_count": 13
        }
      ]
    },
    {
      "cell_type": "code",
      "metadata": {
        "colab": {
          "base_uri": "https://localhost:8080/"
        },
        "id": "Iv_UzCSnx_uc",
        "outputId": "51c501d0-f8d6-40a5-e22f-493ab330b846"
      },
      "source": [
        "len(claim_list)"
      ],
      "execution_count": null,
      "outputs": [
        {
          "output_type": "execute_result",
          "data": {
            "text/plain": [
              "2294"
            ]
          },
          "metadata": {},
          "execution_count": 14
        }
      ]
    },
    {
      "cell_type": "code",
      "metadata": {
        "colab": {
          "base_uri": "https://localhost:8080/"
        },
        "id": "esJVaMIvGII8",
        "outputId": "70da8138-c5db-4123-fb6e-3281c298bda6"
      },
      "source": [
        "len(premise_list)"
      ],
      "execution_count": null,
      "outputs": [
        {
          "output_type": "execute_result",
          "data": {
            "text/plain": [
              "4692"
            ]
          },
          "metadata": {},
          "execution_count": 15
        }
      ]
    },
    {
      "cell_type": "markdown",
      "metadata": {
        "id": "-z3DgiPFyQGo"
      },
      "source": [
        "# **Articles extraction**"
      ]
    },
    {
      "cell_type": "code",
      "metadata": {
        "id": "EYSGkbGSyU5k"
      },
      "source": [
        "# Extract original articles text.\n",
        "import_zip(\"IBM_Debater_(R)_CE-EMNLP-2015.v3/articles.zip\",\"IBM_Debater_(R)_CE-EMNLP-2015.v3\")"
      ],
      "execution_count": null,
      "outputs": []
    },
    {
      "cell_type": "code",
      "metadata": {
        "id": "lwMueMU6y7oZ"
      },
      "source": [
        "# Read the files containing the description of the articles.\n",
        "article_description=open(\"IBM_Debater_(R)_CE-EMNLP-2015.v3/articles.txt\").read()"
      ],
      "execution_count": null,
      "outputs": []
    },
    {
      "cell_type": "code",
      "metadata": {
        "colab": {
          "base_uri": "https://localhost:8080/",
          "height": 69
        },
        "id": "DbcxRLNVzO7f",
        "outputId": "6bc9e041-38a5-4206-ab2d-534a5b15b94e"
      },
      "source": [
        "article_description[:300]"
      ],
      "execution_count": null,
      "outputs": [
        {
          "output_type": "execute_result",
          "data": {
            "application/vnd.google.colaboratory.intrinsic+json": {
              "type": "string"
            },
            "text/plain": [
              "'Topic\\tTitle\\tarticle Id\\nThis house believes that the sale of violent video games to minors should be banned\\tVideo game content rating system\\t567\\nThis house believes that the sale of violent video games to minors should be banned\\tGrand Theft Childhood\\t524\\nThis house believes that the sale of violent v'"
            ]
          },
          "metadata": {},
          "execution_count": 18
        }
      ]
    },
    {
      "cell_type": "code",
      "metadata": {
        "id": "uA1SztZ2zkWh"
      },
      "source": [
        "# Create a list which contains as elements the lines in the original document.\n",
        "article_description_lines=article_description.split(\"\\n\")"
      ],
      "execution_count": null,
      "outputs": []
    },
    {
      "cell_type": "code",
      "metadata": {
        "id": "GncdQ2pLzsQC"
      },
      "source": [
        "article_description_list=[line.split(\"\\t\") for line in article_description_lines][1:-1]"
      ],
      "execution_count": null,
      "outputs": []
    },
    {
      "cell_type": "code",
      "metadata": {
        "colab": {
          "base_uri": "https://localhost:8080/"
        },
        "id": "Mwc5pO7Ez9qv",
        "outputId": "6b49d2af-626d-4f71-a873-442ca04c97ba"
      },
      "source": [
        "article_description_list[:2]"
      ],
      "execution_count": null,
      "outputs": [
        {
          "output_type": "execute_result",
          "data": {
            "text/plain": [
              "[['This house believes that the sale of violent video games to minors should be banned',\n",
              "  'Video game content rating system',\n",
              "  '567'],\n",
              " ['This house believes that the sale of violent video games to minors should be banned',\n",
              "  'Grand Theft Childhood',\n",
              "  '524']]"
            ]
          },
          "metadata": {},
          "execution_count": 21
        }
      ]
    },
    {
      "cell_type": "code",
      "metadata": {
        "id": "dS1o9VL00vw4"
      },
      "source": [
        "# Read the list of articles used in the dataset.\n",
        "txt_articles = sorted(glob.glob(\"IBM_Debater_(R)_CE-EMNLP-2015.v3/articles/clean_*.txt\"))\n",
        "\n",
        "articles_text=[open(file).read() for file in txt_articles]"
      ],
      "execution_count": null,
      "outputs": []
    },
    {
      "cell_type": "code",
      "metadata": {
        "colab": {
          "base_uri": "https://localhost:8080/"
        },
        "id": "x8smz_XLJCEZ",
        "outputId": "af4608f1-d0aa-48ae-fe27-cadc8293b06e"
      },
      "source": [
        "len(articles_text)"
      ],
      "execution_count": null,
      "outputs": [
        {
          "output_type": "execute_result",
          "data": {
            "text/plain": [
              "1289"
            ]
          },
          "metadata": {},
          "execution_count": 23
        }
      ]
    },
    {
      "cell_type": "code",
      "metadata": {
        "colab": {
          "base_uri": "https://localhost:8080/",
          "height": 137
        },
        "id": "3SAXLL6X4FcH",
        "outputId": "d7d0ef0d-ca8f-4d45-8290-e94a6d3fb166"
      },
      "source": [
        "articles_text[0][:1000]"
      ],
      "execution_count": null,
      "outputs": [
        {
          "output_type": "execute_result",
          "data": {
            "application/vnd.google.colaboratory.intrinsic+json": {
              "type": "string"
            },
            "text/plain": [
              "'. \\n\\nControversies over video games often center on topics such as video game graphic violence, sex and sexism, violent and gory scenes, partial or full nudity, portrayal of criminal behavior, racism, and other provocative and objectionable material. \\n\\nVideo games have been studied for links to addiction and aggression. Earlier meta-analyses (an analysis of several studies) were conflicting. A 2001 study found that exposure to violent video games causes at least a temporary increase in aggression and that this exposure correlates with aggression in the real world. A decrease in prosocial behavior (caring about the welfare and rights of others) was also noted [REF]. Another 2001 meta-analyses using similar methods[REF] and a more recent 2009 study focusing specifically on serious aggressive behavior[REF] concluded that video game violence is not related to serious aggressive behavior in real life. \\n\\nMany potential positive effects have been proposed [REF]. Recent research has suggested t'"
            ]
          },
          "metadata": {},
          "execution_count": 24
        }
      ]
    },
    {
      "cell_type": "code",
      "metadata": {
        "id": "FtuCdk70920z"
      },
      "source": [
        "# Search for the positions of the premises in the texts.\n",
        "article_premise=[]\n",
        "position_premise=[]\n",
        "\n",
        "premise_not_found=[]\n",
        "\n",
        "for premise_id in range(len(premise_list)):\n",
        "  article_id=0\n",
        "  found=False\n",
        "  while not found:\n",
        "    articles=articles_text[article_id].lower()\n",
        "    x=articles.find(premise_list[premise_id][2].lower())\n",
        "    if not x==-1 :\n",
        "      article_premise.append(article_id)\n",
        "      position_premise.append(x)\n",
        "      found=True\n",
        "    else:\n",
        "      article_id+=1\n",
        "      if article_id==len(articles_text) :\n",
        "        article_id=0\n",
        "        found=True\n",
        "        premise_not_found.append(premise_id)"
      ],
      "execution_count": null,
      "outputs": []
    },
    {
      "cell_type": "code",
      "metadata": {
        "colab": {
          "base_uri": "https://localhost:8080/"
        },
        "id": "rqdBuFXcCnVK",
        "outputId": "e6d7d42f-c617-4127-f6c0-f559648c1818"
      },
      "source": [
        "len(premise_not_found)"
      ],
      "execution_count": null,
      "outputs": [
        {
          "output_type": "execute_result",
          "data": {
            "text/plain": [
              "236"
            ]
          },
          "metadata": {},
          "execution_count": 26
        }
      ]
    },
    {
      "cell_type": "code",
      "metadata": {
        "colab": {
          "base_uri": "https://localhost:8080/"
        },
        "id": "oWyzTYTAd1OB",
        "outputId": "60fcd902-b318-48f9-ef1c-f9381af74129"
      },
      "source": [
        "premise_not_found[:10]"
      ],
      "execution_count": null,
      "outputs": [
        {
          "output_type": "execute_result",
          "data": {
            "text/plain": [
              "[43, 135, 152, 321, 340, 367, 383, 467, 501, 505]"
            ]
          },
          "metadata": {},
          "execution_count": 27
        }
      ]
    },
    {
      "cell_type": "code",
      "metadata": {
        "colab": {
          "base_uri": "https://localhost:8080/",
          "height": 52
        },
        "id": "oa2lgymCN9N7",
        "outputId": "142de350-01a8-47ca-d173-b67cb9400f35"
      },
      "source": [
        "articles_text[article_premise[0]][position_premise[0]:position_premise[0]+len(premise_list[0][2])]"
      ],
      "execution_count": null,
      "outputs": [
        {
          "output_type": "execute_result",
          "data": {
            "application/vnd.google.colaboratory.intrinsic+json": {
              "type": "string"
            },
            "text/plain": [
              "'A 2001 study found that exposure to violent video games causes at least a temporary increase in aggression and that this exposure correlates with aggression in the real world'"
            ]
          },
          "metadata": {},
          "execution_count": 28
        }
      ]
    },
    {
      "cell_type": "code",
      "metadata": {
        "id": "Qssi-4LRRtj8"
      },
      "source": [
        "# Search for the positions of the claims in the texts.\n",
        "article_claim=[]\n",
        "position_claim=[]\n",
        "\n",
        "claim_not_found=[]\n",
        "\n",
        "for claim_id in range(len(claim_list)):\n",
        "  article_id=0\n",
        "  found=False\n",
        "  while not found:\n",
        "    articles=articles_text[article_id].lower()\n",
        "    x=articles.find(claim_list[claim_id][2].lower())\n",
        "    if not x==-1 :\n",
        "      article_claim.append(article_id)\n",
        "      position_claim.append(x)\n",
        "      found=True\n",
        "    else:\n",
        "      article_id+=1\n",
        "      if article_id==len(articles_text) :\n",
        "        article_id=0\n",
        "        found=True\n",
        "        claim_not_found.append(claim_id)"
      ],
      "execution_count": null,
      "outputs": []
    },
    {
      "cell_type": "code",
      "metadata": {
        "colab": {
          "base_uri": "https://localhost:8080/"
        },
        "id": "PzHMMc4vThgi",
        "outputId": "ac48f8d6-5b6a-4bf4-f262-2e9d9c2c3c0a"
      },
      "source": [
        "len(claim_not_found)"
      ],
      "execution_count": null,
      "outputs": [
        {
          "output_type": "execute_result",
          "data": {
            "text/plain": [
              "3"
            ]
          },
          "metadata": {},
          "execution_count": 30
        }
      ]
    },
    {
      "cell_type": "code",
      "metadata": {
        "colab": {
          "base_uri": "https://localhost:8080/"
        },
        "id": "nB0bYYw2Jkal",
        "outputId": "e55cd125-db42-4f14-9026-7ba8d9146c5b"
      },
      "source": [
        "len(position_claim)"
      ],
      "execution_count": null,
      "outputs": [
        {
          "output_type": "execute_result",
          "data": {
            "text/plain": [
              "2291"
            ]
          },
          "metadata": {},
          "execution_count": 31
        }
      ]
    },
    {
      "cell_type": "markdown",
      "metadata": {
        "id": "wmTx8Ax1SLvP"
      },
      "source": [
        "# **Write the values in a document**"
      ]
    },
    {
      "cell_type": "code",
      "metadata": {
        "id": "DmCjIgzuVsM8"
      },
      "source": [
        "# List of argumentative sentences found in the search.\n",
        "def remove_not_found(argumentative_list:list,remove_list:list)->list:\n",
        "  current_element_to_remove=0\n",
        "  export_list=[]\n",
        "  remove_list.append(0)\n",
        "  for i in range(len(argumentative_list)):\n",
        "    if remove_list[current_element_to_remove]==i:\n",
        "      current_element_to_remove+=1\n",
        "    else:\n",
        "      export_list.append(argumentative_list[i][2]) \n",
        "\n",
        "  return export_list    "
      ],
      "execution_count": null,
      "outputs": []
    },
    {
      "cell_type": "code",
      "metadata": {
        "id": "WJDNIWsldWZ8"
      },
      "source": [
        "export_premise_list=remove_not_found(premise_list,premise_not_found)\n",
        "export_claim_list=remove_not_found(claim_list,claim_not_found)"
      ],
      "execution_count": null,
      "outputs": []
    },
    {
      "cell_type": "code",
      "metadata": {
        "colab": {
          "base_uri": "https://localhost:8080/",
          "height": 35
        },
        "id": "qf2ga4-dov0_",
        "outputId": "2af6a588-a524-4822-8f0a-f35c0e0e4683"
      },
      "source": [
        "articles_text[795][position_claim[1617]:position_claim[1617]+len(export_claim_list[1617])]"
      ],
      "execution_count": null,
      "outputs": [
        {
          "output_type": "execute_result",
          "data": {
            "application/vnd.google.colaboratory.intrinsic+json": {
              "type": "string"
            },
            "text/plain": [
              "'predates Christianity. St. Paul made this argument when he insisted that pagans '"
            ]
          },
          "metadata": {},
          "execution_count": 34
        }
      ]
    },
    {
      "cell_type": "code",
      "metadata": {
        "colab": {
          "base_uri": "https://localhost:8080/"
        },
        "id": "z4UBKRRgZ39f",
        "outputId": "bf13d12a-6601-4e57-d9d3-e8be2ec20420"
      },
      "source": [
        "print(len(export_claim_list))"
      ],
      "execution_count": null,
      "outputs": [
        {
          "output_type": "stream",
          "name": "stdout",
          "text": [
            "2291\n"
          ]
        }
      ]
    },
    {
      "cell_type": "code",
      "metadata": {
        "colab": {
          "base_uri": "https://localhost:8080/"
        },
        "id": "K1iFhW1UmJ3X",
        "outputId": "ea828a2a-e9c1-44fe-d748-d4f0677b8552"
      },
      "source": [
        "print(len(article_premise))"
      ],
      "execution_count": null,
      "outputs": [
        {
          "output_type": "stream",
          "name": "stdout",
          "text": [
            "4456\n"
          ]
        }
      ]
    },
    {
      "cell_type": "code",
      "metadata": {
        "id": "Rx7MnRNoSQFb"
      },
      "source": [
        "# Write the article and the position in the text of each premises found.\n",
        "# The elements for the same sentence are separated by the character \"\\t\", the \n",
        "# elementes of different sentences are separated by the character \"\\n\".\n",
        "f = open(\"premise-positions.txt\", \"a\")\n",
        "f.write(\"Sentence\\tArticle position in list\\tSentence starting point\\tSentence ending point\\n\")\n",
        "for i in range(len(article_premise)):\n",
        "  f.write(\"{}\\t{}\\t{}\\t{}\\n\".format(export_premise_list[i],article_premise[i],position_premise[i],position_premise[i]+len(export_premise_list[i])))"
      ],
      "execution_count": null,
      "outputs": []
    },
    {
      "cell_type": "code",
      "metadata": {
        "id": "aI0o0Jp6W99R"
      },
      "source": [
        "# Write the article and the position in the text of each premises found.\n",
        "# The elements for the same sentence are separated by the character \"\\t\", the \n",
        "# elementes of different sentences are separated by the character \"\\n\".\n",
        "f = open(\"claim-positions.txt\", \"a\")\n",
        "f.write(\"Sentence\\tArticle position in list\\tSentence starting point\\tSentence ending point\\n\")\n",
        "for i in range(len(article_claim)):\n",
        "  f.write(\"{}\\t{}\\t{}\\t{}\\n\".format(export_claim_list[i],article_claim[i],position_claim[i],position_claim[i]+len(export_claim_list[i])))"
      ],
      "execution_count": null,
      "outputs": []
    }
  ]
}