{
  "cells": [
    {
      "cell_type": "code",
      "execution_count": null,
      "metadata": {
        "colab": {
          "base_uri": "https://localhost:8080/"
        },
        "id": "06I5cxENSPwP",
        "outputId": "06e888a9-44fd-4631-ceb3-3cf089b10c4b"
      },
      "outputs": [
        {
          "output_type": "stream",
          "name": "stdout",
          "text": [
            "Collecting mendelai-brat-parser\n",
            "  Downloading mendelai_brat_parser-0.0.11.tar.gz (4.6 kB)\n",
            "Building wheels for collected packages: mendelai-brat-parser\n",
            "  Building wheel for mendelai-brat-parser (setup.py) ... \u001b[?25l\u001b[?25hdone\n",
            "  Created wheel for mendelai-brat-parser: filename=mendelai_brat_parser-0.0.11-py3-none-any.whl size=4945 sha256=57cf8afec3d71d222319e0c59155446c2b0cdccd4869546ea87066742b44c7a8\n",
            "  Stored in directory: /root/.cache/pip/wheels/7e/40/73/4f68f4fa597be33e250400cd56c28c85862b1cba5b3c7c33f1\n",
            "Successfully built mendelai-brat-parser\n",
            "Installing collected packages: mendelai-brat-parser\n",
            "Successfully installed mendelai-brat-parser-0.0.11\n",
            "[nltk_data] Downloading package punkt to /root/nltk_data...\n",
            "[nltk_data]   Unzipping tokenizers/punkt.zip.\n",
            "[nltk_data] Downloading package wordnet to /root/nltk_data...\n",
            "[nltk_data]   Unzipping corpora/wordnet.zip.\n",
            "[nltk_data] Downloading package averaged_perceptron_tagger to\n",
            "[nltk_data]     /root/nltk_data...\n",
            "[nltk_data]   Unzipping taggers/averaged_perceptron_tagger.zip.\n",
            "[nltk_data] Downloading package universal_tagset to /root/nltk_data...\n",
            "[nltk_data]   Unzipping taggers/universal_tagset.zip.\n"
          ]
        },
        {
          "output_type": "execute_result",
          "data": {
            "text/plain": [
              "True"
            ]
          },
          "metadata": {},
          "execution_count": 1
        }
      ],
      "source": [
        "!pip install mendelai-brat-parser\n",
        "\n",
        "import nltk\n",
        "nltk.download('punkt')\n",
        "nltk.download('wordnet')\n",
        "nltk.download('averaged_perceptron_tagger')\n",
        "\n",
        "nltk.download('universal_tagset')"
      ]
    },
    {
      "cell_type": "code",
      "execution_count": null,
      "metadata": {
        "id": "4YTGrEc9Dy-X"
      },
      "outputs": [],
      "source": [
        "import pandas as pd\n",
        "import numpy as np\n",
        "from matplotlib import pyplot as plt\n",
        "import regex as re\n",
        "from collections import Counter\n",
        "import math\n",
        "\n",
        "from google.colab import files\n",
        "import zipfile\n",
        "import glob\n",
        "\n",
        "import xml.etree.ElementTree as ET\n",
        "from brat_parser import get_entities_relations_attributes_groups\n",
        "\n",
        "from nltk.tag import pos_tag, map_tag\n",
        "\n",
        "from sklearn.model_selection import train_test_split\n",
        "from nltk.stem import WordNetLemmatizer\n",
        "from sklearn.feature_extraction.text import CountVectorizer\n",
        "import spacy\n",
        "from keras.preprocessing.sequence import pad_sequences\n",
        "from keras.preprocessing.text import Tokenizer\n",
        "\n",
        "from brat_parser import get_entities_relations_attributes_groups\n",
        "\n",
        "import gensim\n",
        "import gensim.downloader as api\n",
        "from gensim.models import Word2Vec\n",
        "\n",
        "from sklearn.metrics import classification_report\n",
        "from keras.utils.np_utils import to_categorical\n",
        "\n",
        "from sklearn.metrics import confusion_matrix\n",
        "from sklearn.metrics import ConfusionMatrixDisplay"
      ]
    },
    {
      "cell_type": "code",
      "execution_count": null,
      "metadata": {
        "id": "Ph7XogQnx4f0"
      },
      "outputs": [],
      "source": [
        "# Neural network imports.\n",
        "from keras.models import Sequential\n",
        "from keras.layers import Embedding\n",
        "from keras.layers import Dense, Input, Dropout\n",
        "from keras.layers import TimeDistributed\n",
        "from keras.layers import Concatenate\n",
        "from keras.layers import LSTM, GRU, Bidirectional\n",
        "from tensorflow.keras.callbacks import EarlyStopping\n",
        "from keras.models import Model, Input"
      ]
    },
    {
      "cell_type": "markdown",
      "metadata": {
        "id": "Of8JJZriJyvS"
      },
      "source": [
        "# **Relations Dataframes**"
      ]
    },
    {
      "cell_type": "code",
      "execution_count": null,
      "metadata": {
        "colab": {
          "base_uri": "https://localhost:8080/",
          "height": 126,
          "resources": {
            "http://localhost:8080/nbextensions/google.colab/files.js": {
              "data": "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",
              "headers": [
                [
                  "content-type",
                  "application/javascript"
                ]
              ],
              "ok": true,
              "status": 200,
              "status_text": ""
            }
          }
        },
        "id": "L2MZbtoKr85s",
        "outputId": "700f41f2-ae4d-428d-da5f-689c45f54bd2"
      },
      "outputs": [
        {
          "output_type": "stream",
          "name": "stdout",
          "text": [
            "\n",
            "Import essay_relation_dataset.csv\n",
            "\n"
          ]
        },
        {
          "output_type": "display_data",
          "data": {
            "text/html": [
              "\n",
              "     <input type=\"file\" id=\"files-6e3d306d-13d8-4e16-bacd-e84c44936eb0\" name=\"files[]\" multiple disabled\n",
              "        style=\"border:none\" />\n",
              "     <output id=\"result-6e3d306d-13d8-4e16-bacd-e84c44936eb0\">\n",
              "      Upload widget is only available when the cell has been executed in the\n",
              "      current browser session. Please rerun this cell to enable.\n",
              "      </output>\n",
              "      <script src=\"/nbextensions/google.colab/files.js\"></script> "
            ],
            "text/plain": [
              "<IPython.core.display.HTML object>"
            ]
          },
          "metadata": {}
        },
        {
          "output_type": "stream",
          "name": "stdout",
          "text": [
            "Saving essay_relation_dataset.csv to essay_relation_dataset.csv\n"
          ]
        }
      ],
      "source": [
        "# Import the datataset, created in a previous moment, (essay_relation_dataset.csv) \n",
        "# containing an entry for each relation of the Stab and Gurevych dataset.\n",
        "# Each entry is composed as: \n",
        "# (type,doc_id,supporting_text,supporting_type,supporting_sentence_id,supporting_section_length,supported_text,supported_type,supported_sentence_id,supported_section_length)\n",
        "# where type is the relation tipe (attack, support, none).\n",
        "# supporting and supported refer to the two section of the corpus that are in a relation:\n",
        "# text refers to their original texts, type if they are a premise or a claim, the length to the number of sentences in the arg. section after the first one,  and sentence_id\n",
        "# indicates the position in the corpus of the sentence that contains them.\n",
        "print('\\nImport essay_relation_dataset.csv\\n')\n",
        "uploaded = files.upload()"
      ]
    },
    {
      "cell_type": "code",
      "execution_count": null,
      "metadata": {
        "colab": {
          "base_uri": "https://localhost:8080/",
          "height": 126,
          "resources": {
            "http://localhost:8080/nbextensions/google.colab/files.js": {
              "data": "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",
              "headers": [
                [
                  "content-type",
                  "application/javascript"
                ]
              ],
              "ok": true,
              "status": 200,
              "status_text": ""
            }
          }
        },
        "id": "yEYVu-XTsey8",
        "outputId": "5e896cd7-6aaa-4286-ad43-0364fcf92c0b"
      },
      "outputs": [
        {
          "output_type": "stream",
          "name": "stdout",
          "text": [
            "\n",
            "Import microtext_relation_dataset.csv\n",
            "\n"
          ]
        },
        {
          "output_type": "display_data",
          "data": {
            "text/html": [
              "\n",
              "     <input type=\"file\" id=\"files-318d8f0b-8b5c-44eb-8a0c-770b7daa1f65\" name=\"files[]\" multiple disabled\n",
              "        style=\"border:none\" />\n",
              "     <output id=\"result-318d8f0b-8b5c-44eb-8a0c-770b7daa1f65\">\n",
              "      Upload widget is only available when the cell has been executed in the\n",
              "      current browser session. Please rerun this cell to enable.\n",
              "      </output>\n",
              "      <script src=\"/nbextensions/google.colab/files.js\"></script> "
            ],
            "text/plain": [
              "<IPython.core.display.HTML object>"
            ]
          },
          "metadata": {}
        },
        {
          "output_type": "stream",
          "name": "stdout",
          "text": [
            "Saving microtext_relation_dataset.csv to microtext_relation_dataset.csv\n"
          ]
        }
      ],
      "source": [
        "# Import the datataset created in a previous moment (microtext_relation_dataset.csv) \n",
        "# containing an entry for each relation of the arg-microtext dataset.\n",
        "# Each entry is composed as: \n",
        "# (doc_id,supporting_text,supporting_sentence_id,supporting_section_length,supported_text,supported_sentence_id,supported_section_length)\n",
        "# where type is the relation tipe (attack, support, none).\n",
        "# supporting and supported refer to the two section of the corpus that are in a relation:\n",
        "# text refers to their original texts, the length to the number of sentences in the arg. section after the first one,  and sentence_id\n",
        "# indicates the position in the corpus of the sentence that contains them.\n",
        "print('\\nImport microtext_relation_dataset.csv\\n')\n",
        "uploaded = files.upload()"
      ]
    },
    {
      "cell_type": "code",
      "execution_count": null,
      "metadata": {
        "colab": {
          "base_uri": "https://localhost:8080/",
          "height": 234,
          "resources": {
            "http://localhost:8080/nbextensions/google.colab/files.js": {
              "data": "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",
              "headers": [
                [
                  "content-type",
                  "application/javascript"
                ]
              ],
              "ok": true,
              "status": 200,
              "status_text": ""
            }
          }
        },
        "id": "2of9ytlxYLS3",
        "outputId": "17b983ab-bb13-4610-b220-fbb85135b586"
      },
      "outputs": [
        {
          "output_type": "stream",
          "name": "stdout",
          "text": [
            "\n",
            "Import relation_statistic.csv\n",
            "\n"
          ]
        },
        {
          "output_type": "display_data",
          "data": {
            "text/html": [
              "\n",
              "     <input type=\"file\" id=\"files-3c704fe4-911d-4937-9c8f-e2d5aa55fb3e\" name=\"files[]\" multiple disabled\n",
              "        style=\"border:none\" />\n",
              "     <output id=\"result-3c704fe4-911d-4937-9c8f-e2d5aa55fb3e\">\n",
              "      Upload widget is only available when the cell has been executed in the\n",
              "      current browser session. Please rerun this cell to enable.\n",
              "      </output>\n",
              "      <script src=\"/nbextensions/google.colab/files.js\"></script> "
            ],
            "text/plain": [
              "<IPython.core.display.HTML object>"
            ]
          },
          "metadata": {}
        },
        {
          "output_type": "stream",
          "name": "stdout",
          "text": [
            "Saving ArgumentAnnotatedEssays-2.0.zip to ArgumentAnnotatedEssays-2.0.zip\n",
            "\n",
            "Import relation_remaining_stat.csv\n",
            "\n"
          ]
        },
        {
          "output_type": "display_data",
          "data": {
            "text/html": [
              "\n",
              "     <input type=\"file\" id=\"files-138d7b4d-71f6-4d19-9a81-0802688a34a5\" name=\"files[]\" multiple disabled\n",
              "        style=\"border:none\" />\n",
              "     <output id=\"result-138d7b4d-71f6-4d19-9a81-0802688a34a5\">\n",
              "      Upload widget is only available when the cell has been executed in the\n",
              "      current browser session. Please rerun this cell to enable.\n",
              "      </output>\n",
              "      <script src=\"/nbextensions/google.colab/files.js\"></script> "
            ],
            "text/plain": [
              "<IPython.core.display.HTML object>"
            ]
          },
          "metadata": {}
        },
        {
          "output_type": "stream",
          "name": "stdout",
          "text": [
            "Saving arg-microtexts-master.zip to arg-microtexts-master.zip\n"
          ]
        }
      ],
      "source": [
        "# Stab and Gurevych dataset.\n",
        "\n",
        "# Import the statistics and positions information of the sentences to classify.\n",
        "print('\\nImport relation_statistic.csv\\n')\n",
        "upload = files.upload()\n",
        "\n",
        "# Import the remaining statistics of the sentences to classify.\n",
        "print('\\nImport relation_remaining_stat.csv\\n')\n",
        "upload = files.upload()"
      ]
    },
    {
      "cell_type": "code",
      "execution_count": null,
      "metadata": {
        "colab": {
          "base_uri": "https://localhost:8080/",
          "height": 165,
          "resources": {
            "http://localhost:8080/nbextensions/google.colab/files.js": {
              "data": "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",
              "headers": [
                [
                  "content-type",
                  "application/javascript"
                ]
              ],
              "ok": true,
              "status": 200,
              "status_text": ""
            }
          }
        },
        "id": "yqS_7MzmYMRr",
        "outputId": "fd8614d8-73d5-4966-c5a4-0e8ba3950525"
      },
      "outputs": [
        {
          "output_type": "stream",
          "name": "stdout",
          "text": [
            "\n",
            "Import microtext_relation_statistic.csv\n",
            "\n"
          ]
        },
        {
          "output_type": "display_data",
          "data": {
            "text/html": [
              "\n",
              "     <input type=\"file\" id=\"files-b0d7f09e-964d-4c51-894f-2c4a22fbe6eb\" name=\"files[]\" multiple disabled\n",
              "        style=\"border:none\" />\n",
              "     <output id=\"result-b0d7f09e-964d-4c51-894f-2c4a22fbe6eb\">\n",
              "      Upload widget is only available when the cell has been executed in the\n",
              "      current browser session. Please rerun this cell to enable.\n",
              "      </output>\n",
              "      <script src=\"/nbextensions/google.colab/files.js\"></script> "
            ],
            "text/plain": [
              "<IPython.core.display.HTML object>"
            ]
          },
          "metadata": {}
        },
        {
          "output_type": "stream",
          "name": "stdout",
          "text": [
            "\n",
            "Import microtext_relation_remaining_stat.csv\n",
            "\n"
          ]
        },
        {
          "output_type": "display_data",
          "data": {
            "text/html": [
              "\n",
              "     <input type=\"file\" id=\"files-bdc258b7-1108-4260-aca9-838bbc63364a\" name=\"files[]\" multiple disabled\n",
              "        style=\"border:none\" />\n",
              "     <output id=\"result-bdc258b7-1108-4260-aca9-838bbc63364a\">\n",
              "      Upload widget is only available when the cell has been executed in the\n",
              "      current browser session. Please rerun this cell to enable.\n",
              "      </output>\n",
              "      <script src=\"/nbextensions/google.colab/files.js\"></script> "
            ],
            "text/plain": [
              "<IPython.core.display.HTML object>"
            ]
          },
          "metadata": {}
        }
      ],
      "source": [
        "# Microtext dataset.\n",
        "\n",
        "# Import the statistics and positions information of the sentences to classify.\n",
        "print('\\nImport microtext_relation_statistic.csv\\n')\n",
        "upload = files.upload()\n",
        "\n",
        "# Import the remaining statistics of the sentences to classify.\n",
        "print('\\nImport microtext_relation_remaining_stat.csv\\n')\n",
        "upload = files.upload()"
      ]
    },
    {
      "cell_type": "code",
      "execution_count": null,
      "metadata": {
        "colab": {
          "base_uri": "https://localhost:8080/",
          "height": 39,
          "resources": {
            "http://localhost:8080/nbextensions/google.colab/files.js": {
              "data": "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",
              "headers": [
                [
                  "content-type",
                  "application/javascript"
                ]
              ],
              "ok": true,
              "status": 200,
              "status_text": ""
            }
          }
        },
        "id": "_B0zeTFGOJp7",
        "outputId": "ec5290f1-a0e3-4393-de72-af70e44ca818"
      },
      "outputs": [
        {
          "output_type": "display_data",
          "data": {
            "text/html": [
              "\n",
              "     <input type=\"file\" id=\"files-8273ce31-0745-4bd9-a2ba-d0eac5ea531c\" name=\"files[]\" multiple disabled\n",
              "        style=\"border:none\" />\n",
              "     <output id=\"result-8273ce31-0745-4bd9-a2ba-d0eac5ea531c\">\n",
              "      Upload widget is only available when the cell has been executed in the\n",
              "      current browser session. Please rerun this cell to enable.\n",
              "      </output>\n",
              "      <script src=\"/nbextensions/google.colab/files.js\"></script> "
            ],
            "text/plain": [
              "<IPython.core.display.HTML object>"
            ]
          },
          "metadata": {}
        }
      ],
      "source": [
        "# Import the original Stab and Gurevych dataset (2017 version).\n",
        "\n",
        "uploaded = files.upload()"
      ]
    },
    {
      "cell_type": "code",
      "execution_count": null,
      "metadata": {
        "colab": {
          "base_uri": "https://localhost:8080/",
          "height": 39,
          "resources": {
            "http://localhost:8080/nbextensions/google.colab/files.js": {
              "data": "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",
              "headers": [
                [
                  "content-type",
                  "application/javascript"
                ]
              ],
              "ok": true,
              "status": 200,
              "status_text": ""
            }
          }
        },
        "id": "i__XtIQC7gOp",
        "outputId": "584ec24e-3b89-4a12-d012-55c59184a3b3"
      },
      "outputs": [
        {
          "output_type": "display_data",
          "data": {
            "text/html": [
              "\n",
              "     <input type=\"file\" id=\"files-045e3d45-5742-4951-8ddc-2acc7f26fc60\" name=\"files[]\" multiple disabled\n",
              "        style=\"border:none\" />\n",
              "     <output id=\"result-045e3d45-5742-4951-8ddc-2acc7f26fc60\">\n",
              "      Upload widget is only available when the cell has been executed in the\n",
              "      current browser session. Please rerun this cell to enable.\n",
              "      </output>\n",
              "      <script src=\"/nbextensions/google.colab/files.js\"></script> "
            ],
            "text/plain": [
              "<IPython.core.display.HTML object>"
            ]
          },
          "metadata": {}
        }
      ],
      "source": [
        "# Import the microtexts dataset.\n",
        "\n",
        "uploaded = files.upload()"
      ]
    },
    {
      "cell_type": "code",
      "execution_count": null,
      "metadata": {
        "id": "ztZJPnfKs7tA"
      },
      "outputs": [],
      "source": [
        "# The imported dataset is here directly used.\n",
        "\n",
        "microtext_relation_ann_dataset=pd.read_csv('microtext_relation_dataset.csv')"
      ]
    },
    {
      "cell_type": "code",
      "execution_count": null,
      "metadata": {
        "colab": {
          "base_uri": "https://localhost:8080/",
          "height": 337
        },
        "id": "NThO5wrwBMMU",
        "outputId": "a70d94b7-baa7-4239-dc1d-f1816485843c"
      },
      "outputs": [
        {
          "output_type": "execute_result",
          "data": {
            "text/html": [
              "\n",
              "  <div id=\"df-462415a4-a417-401f-9866-78c8d129c816\">\n",
              "    <div class=\"colab-df-container\">\n",
              "      <div>\n",
              "<style scoped>\n",
              "    .dataframe tbody tr th:only-of-type {\n",
              "        vertical-align: middle;\n",
              "    }\n",
              "\n",
              "    .dataframe tbody tr th {\n",
              "        vertical-align: top;\n",
              "    }\n",
              "\n",
              "    .dataframe thead th {\n",
              "        text-align: right;\n",
              "    }\n",
              "</style>\n",
              "<table border=\"1\" class=\"dataframe\">\n",
              "  <thead>\n",
              "    <tr style=\"text-align: right;\">\n",
              "      <th></th>\n",
              "      <th>type</th>\n",
              "      <th>doc_id</th>\n",
              "      <th>supporting_text</th>\n",
              "      <th>supporting_sentence_id</th>\n",
              "      <th>supported_text</th>\n",
              "      <th>supported_sentence_id</th>\n",
              "    </tr>\n",
              "  </thead>\n",
              "  <tbody>\n",
              "    <tr>\n",
              "      <th>0</th>\n",
              "      <td>attacks</td>\n",
              "      <td>0</td>\n",
              "      <td>Yes, it's annoying and cumbersome to separate ...</td>\n",
              "      <td>0</td>\n",
              "      <td>We Berliners should take the chance and become...</td>\n",
              "      <td>3</td>\n",
              "    </tr>\n",
              "    <tr>\n",
              "      <th>1</th>\n",
              "      <td>supports</td>\n",
              "      <td>0</td>\n",
              "      <td>Three different bin bags stink away in the kit...</td>\n",
              "      <td>1</td>\n",
              "      <td>Yes, it's annoying and cumbersome to separate ...</td>\n",
              "      <td>0</td>\n",
              "    </tr>\n",
              "    <tr>\n",
              "      <th>2</th>\n",
              "      <td>supports</td>\n",
              "      <td>1</td>\n",
              "      <td>One can hardly move in Friedrichshain or Neukö...</td>\n",
              "      <td>4</td>\n",
              "      <td>Higher fines are therefore the right measure a...</td>\n",
              "      <td>6</td>\n",
              "    </tr>\n",
              "    <tr>\n",
              "      <th>3</th>\n",
              "      <td>supports</td>\n",
              "      <td>1</td>\n",
              "      <td>And when bad luck does strike and you step int...</td>\n",
              "      <td>5</td>\n",
              "      <td>Higher fines are therefore the right measure a...</td>\n",
              "      <td>6</td>\n",
              "    </tr>\n",
              "    <tr>\n",
              "      <th>4</th>\n",
              "      <td>attacks</td>\n",
              "      <td>1</td>\n",
              "      <td>Of course, first they'd actually need to be ca...</td>\n",
              "      <td>7</td>\n",
              "      <td>Higher fines are therefore the right measure a...</td>\n",
              "      <td>6</td>\n",
              "    </tr>\n",
              "  </tbody>\n",
              "</table>\n",
              "</div>\n",
              "      <button class=\"colab-df-convert\" onclick=\"convertToInteractive('df-462415a4-a417-401f-9866-78c8d129c816')\"\n",
              "              title=\"Convert this dataframe to an interactive table.\"\n",
              "              style=\"display:none;\">\n",
              "        \n",
              "  <svg xmlns=\"http://www.w3.org/2000/svg\" height=\"24px\"viewBox=\"0 0 24 24\"\n",
              "       width=\"24px\">\n",
              "    <path d=\"M0 0h24v24H0V0z\" fill=\"none\"/>\n",
              "    <path d=\"M18.56 5.44l.94 2.06.94-2.06 2.06-.94-2.06-.94-.94-2.06-.94 2.06-2.06.94zm-11 1L8.5 8.5l.94-2.06 2.06-.94-2.06-.94L8.5 2.5l-.94 2.06-2.06.94zm10 10l.94 2.06.94-2.06 2.06-.94-2.06-.94-.94-2.06-.94 2.06-2.06.94z\"/><path d=\"M17.41 7.96l-1.37-1.37c-.4-.4-.92-.59-1.43-.59-.52 0-1.04.2-1.43.59L10.3 9.45l-7.72 7.72c-.78.78-.78 2.05 0 2.83L4 21.41c.39.39.9.59 1.41.59.51 0 1.02-.2 1.41-.59l7.78-7.78 2.81-2.81c.8-.78.8-2.07 0-2.86zM5.41 20L4 18.59l7.72-7.72 1.47 1.35L5.41 20z\"/>\n",
              "  </svg>\n",
              "      </button>\n",
              "      \n",
              "  <style>\n",
              "    .colab-df-container {\n",
              "      display:flex;\n",
              "      flex-wrap:wrap;\n",
              "      gap: 12px;\n",
              "    }\n",
              "\n",
              "    .colab-df-convert {\n",
              "      background-color: #E8F0FE;\n",
              "      border: none;\n",
              "      border-radius: 50%;\n",
              "      cursor: pointer;\n",
              "      display: none;\n",
              "      fill: #1967D2;\n",
              "      height: 32px;\n",
              "      padding: 0 0 0 0;\n",
              "      width: 32px;\n",
              "    }\n",
              "\n",
              "    .colab-df-convert:hover {\n",
              "      background-color: #E2EBFA;\n",
              "      box-shadow: 0px 1px 2px rgba(60, 64, 67, 0.3), 0px 1px 3px 1px rgba(60, 64, 67, 0.15);\n",
              "      fill: #174EA6;\n",
              "    }\n",
              "\n",
              "    [theme=dark] .colab-df-convert {\n",
              "      background-color: #3B4455;\n",
              "      fill: #D2E3FC;\n",
              "    }\n",
              "\n",
              "    [theme=dark] .colab-df-convert:hover {\n",
              "      background-color: #434B5C;\n",
              "      box-shadow: 0px 1px 3px 1px rgba(0, 0, 0, 0.15);\n",
              "      filter: drop-shadow(0px 1px 2px rgba(0, 0, 0, 0.3));\n",
              "      fill: #FFFFFF;\n",
              "    }\n",
              "  </style>\n",
              "\n",
              "      <script>\n",
              "        const buttonEl =\n",
              "          document.querySelector('#df-462415a4-a417-401f-9866-78c8d129c816 button.colab-df-convert');\n",
              "        buttonEl.style.display =\n",
              "          google.colab.kernel.accessAllowed ? 'block' : 'none';\n",
              "\n",
              "        async function convertToInteractive(key) {\n",
              "          const element = document.querySelector('#df-462415a4-a417-401f-9866-78c8d129c816');\n",
              "          const dataTable =\n",
              "            await google.colab.kernel.invokeFunction('convertToInteractive',\n",
              "                                                     [key], {});\n",
              "          if (!dataTable) return;\n",
              "\n",
              "          const docLinkHtml = 'Like what you see? Visit the ' +\n",
              "            '<a target=\"_blank\" href=https://colab.research.google.com/notebooks/data_table.ipynb>data table notebook</a>'\n",
              "            + ' to learn more about interactive tables.';\n",
              "          element.innerHTML = '';\n",
              "          dataTable['output_type'] = 'display_data';\n",
              "          await google.colab.output.renderOutput(dataTable, element);\n",
              "          const docLink = document.createElement('div');\n",
              "          docLink.innerHTML = docLinkHtml;\n",
              "          element.appendChild(docLink);\n",
              "        }\n",
              "      </script>\n",
              "    </div>\n",
              "  </div>\n",
              "  "
            ],
            "text/plain": [
              "       type  ...  supported_sentence_id\n",
              "0   attacks  ...                      3\n",
              "1  supports  ...                      0\n",
              "2  supports  ...                      6\n",
              "3  supports  ...                      6\n",
              "4   attacks  ...                      6\n",
              "\n",
              "[5 rows x 6 columns]"
            ]
          },
          "metadata": {},
          "execution_count": 11
        }
      ],
      "source": [
        "microtext_relation_ann_dataset.head()"
      ]
    },
    {
      "cell_type": "code",
      "execution_count": null,
      "metadata": {
        "id": "DAVDHW7kOlNz"
      },
      "outputs": [],
      "source": [
        "number_documents=len(list(set(microtext_relation_ann_dataset['doc_id'].tolist())))"
      ]
    },
    {
      "cell_type": "code",
      "execution_count": null,
      "metadata": {
        "id": "JdU3890Z3kW7"
      },
      "outputs": [],
      "source": [
        "# The imported dataset is here directly used.\n",
        "# MajorClaim have been removed from the argumentations in the imported dataset (they don't have labeled relations).\n",
        "\n",
        "relation_ann_dataset=pd.read_csv('essay_relation_dataset.csv')\n",
        "\n",
        "relation_ann_dataset=relation_ann_dataset.drop(['supporting_type', 'supported_type'], axis=1)"
      ]
    },
    {
      "cell_type": "code",
      "execution_count": null,
      "metadata": {
        "colab": {
          "base_uri": "https://localhost:8080/",
          "height": 530
        },
        "id": "0RvtcIuEDGgY",
        "outputId": "99920514-dec4-4b40-bcde-b7cc2e990ae5"
      },
      "outputs": [
        {
          "output_type": "execute_result",
          "data": {
            "text/html": [
              "\n",
              "  <div id=\"df-b0170394-b6d0-4b55-a6e0-349c832e2df3\">\n",
              "    <div class=\"colab-df-container\">\n",
              "      <div>\n",
              "<style scoped>\n",
              "    .dataframe tbody tr th:only-of-type {\n",
              "        vertical-align: middle;\n",
              "    }\n",
              "\n",
              "    .dataframe tbody tr th {\n",
              "        vertical-align: top;\n",
              "    }\n",
              "\n",
              "    .dataframe thead th {\n",
              "        text-align: right;\n",
              "    }\n",
              "</style>\n",
              "<table border=\"1\" class=\"dataframe\">\n",
              "  <thead>\n",
              "    <tr style=\"text-align: right;\">\n",
              "      <th></th>\n",
              "      <th>type</th>\n",
              "      <th>doc_id</th>\n",
              "      <th>supporting_text</th>\n",
              "      <th>supporting_sentence_id</th>\n",
              "      <th>supporting_section_length</th>\n",
              "      <th>supported_text</th>\n",
              "      <th>supported_sentence_id</th>\n",
              "      <th>supported_section_length</th>\n",
              "    </tr>\n",
              "  </thead>\n",
              "  <tbody>\n",
              "    <tr>\n",
              "      <th>0</th>\n",
              "      <td>supports</td>\n",
              "      <td>0</td>\n",
              "      <td>What we acquired from team work is not only ho...</td>\n",
              "      <td>5</td>\n",
              "      <td>0</td>\n",
              "      <td>through cooperation, children can learn about ...</td>\n",
              "      <td>4</td>\n",
              "      <td>0</td>\n",
              "    </tr>\n",
              "    <tr>\n",
              "      <th>1</th>\n",
              "      <td>supports</td>\n",
              "      <td>0</td>\n",
              "      <td>During the process of cooperation, children ca...</td>\n",
              "      <td>6</td>\n",
              "      <td>0</td>\n",
              "      <td>through cooperation, children can learn about ...</td>\n",
              "      <td>4</td>\n",
              "      <td>0</td>\n",
              "    </tr>\n",
              "    <tr>\n",
              "      <th>2</th>\n",
              "      <td>supports</td>\n",
              "      <td>0</td>\n",
              "      <td>All of these skills help them to get on well w...</td>\n",
              "      <td>7</td>\n",
              "      <td>0</td>\n",
              "      <td>through cooperation, children can learn about ...</td>\n",
              "      <td>4</td>\n",
              "      <td>0</td>\n",
              "    </tr>\n",
              "    <tr>\n",
              "      <th>3</th>\n",
              "      <td>supports</td>\n",
              "      <td>0</td>\n",
              "      <td>the significance of competition is that how to...</td>\n",
              "      <td>8</td>\n",
              "      <td>0</td>\n",
              "      <td>competition makes the society more effective</td>\n",
              "      <td>9</td>\n",
              "      <td>0</td>\n",
              "    </tr>\n",
              "    <tr>\n",
              "      <th>4</th>\n",
              "      <td>supports</td>\n",
              "      <td>0</td>\n",
              "      <td>when we consider about the question that how t...</td>\n",
              "      <td>10</td>\n",
              "      <td>0</td>\n",
              "      <td>without the cooperation, there would be no vic...</td>\n",
              "      <td>14</td>\n",
              "      <td>0</td>\n",
              "    </tr>\n",
              "  </tbody>\n",
              "</table>\n",
              "</div>\n",
              "      <button class=\"colab-df-convert\" onclick=\"convertToInteractive('df-b0170394-b6d0-4b55-a6e0-349c832e2df3')\"\n",
              "              title=\"Convert this dataframe to an interactive table.\"\n",
              "              style=\"display:none;\">\n",
              "        \n",
              "  <svg xmlns=\"http://www.w3.org/2000/svg\" height=\"24px\"viewBox=\"0 0 24 24\"\n",
              "       width=\"24px\">\n",
              "    <path d=\"M0 0h24v24H0V0z\" fill=\"none\"/>\n",
              "    <path d=\"M18.56 5.44l.94 2.06.94-2.06 2.06-.94-2.06-.94-.94-2.06-.94 2.06-2.06.94zm-11 1L8.5 8.5l.94-2.06 2.06-.94-2.06-.94L8.5 2.5l-.94 2.06-2.06.94zm10 10l.94 2.06.94-2.06 2.06-.94-2.06-.94-.94-2.06-.94 2.06-2.06.94z\"/><path d=\"M17.41 7.96l-1.37-1.37c-.4-.4-.92-.59-1.43-.59-.52 0-1.04.2-1.43.59L10.3 9.45l-7.72 7.72c-.78.78-.78 2.05 0 2.83L4 21.41c.39.39.9.59 1.41.59.51 0 1.02-.2 1.41-.59l7.78-7.78 2.81-2.81c.8-.78.8-2.07 0-2.86zM5.41 20L4 18.59l7.72-7.72 1.47 1.35L5.41 20z\"/>\n",
              "  </svg>\n",
              "      </button>\n",
              "      \n",
              "  <style>\n",
              "    .colab-df-container {\n",
              "      display:flex;\n",
              "      flex-wrap:wrap;\n",
              "      gap: 12px;\n",
              "    }\n",
              "\n",
              "    .colab-df-convert {\n",
              "      background-color: #E8F0FE;\n",
              "      border: none;\n",
              "      border-radius: 50%;\n",
              "      cursor: pointer;\n",
              "      display: none;\n",
              "      fill: #1967D2;\n",
              "      height: 32px;\n",
              "      padding: 0 0 0 0;\n",
              "      width: 32px;\n",
              "    }\n",
              "\n",
              "    .colab-df-convert:hover {\n",
              "      background-color: #E2EBFA;\n",
              "      box-shadow: 0px 1px 2px rgba(60, 64, 67, 0.3), 0px 1px 3px 1px rgba(60, 64, 67, 0.15);\n",
              "      fill: #174EA6;\n",
              "    }\n",
              "\n",
              "    [theme=dark] .colab-df-convert {\n",
              "      background-color: #3B4455;\n",
              "      fill: #D2E3FC;\n",
              "    }\n",
              "\n",
              "    [theme=dark] .colab-df-convert:hover {\n",
              "      background-color: #434B5C;\n",
              "      box-shadow: 0px 1px 3px 1px rgba(0, 0, 0, 0.15);\n",
              "      filter: drop-shadow(0px 1px 2px rgba(0, 0, 0, 0.3));\n",
              "      fill: #FFFFFF;\n",
              "    }\n",
              "  </style>\n",
              "\n",
              "      <script>\n",
              "        const buttonEl =\n",
              "          document.querySelector('#df-b0170394-b6d0-4b55-a6e0-349c832e2df3 button.colab-df-convert');\n",
              "        buttonEl.style.display =\n",
              "          google.colab.kernel.accessAllowed ? 'block' : 'none';\n",
              "\n",
              "        async function convertToInteractive(key) {\n",
              "          const element = document.querySelector('#df-b0170394-b6d0-4b55-a6e0-349c832e2df3');\n",
              "          const dataTable =\n",
              "            await google.colab.kernel.invokeFunction('convertToInteractive',\n",
              "                                                     [key], {});\n",
              "          if (!dataTable) return;\n",
              "\n",
              "          const docLinkHtml = 'Like what you see? Visit the ' +\n",
              "            '<a target=\"_blank\" href=https://colab.research.google.com/notebooks/data_table.ipynb>data table notebook</a>'\n",
              "            + ' to learn more about interactive tables.';\n",
              "          element.innerHTML = '';\n",
              "          dataTable['output_type'] = 'display_data';\n",
              "          await google.colab.output.renderOutput(dataTable, element);\n",
              "          const docLink = document.createElement('div');\n",
              "          docLink.innerHTML = docLinkHtml;\n",
              "          element.appendChild(docLink);\n",
              "        }\n",
              "      </script>\n",
              "    </div>\n",
              "  </div>\n",
              "  "
            ],
            "text/plain": [
              "       type  doc_id  ... supported_sentence_id  supported_section_length\n",
              "0  supports       0  ...                     4                         0\n",
              "1  supports       0  ...                     4                         0\n",
              "2  supports       0  ...                     4                         0\n",
              "3  supports       0  ...                     9                         0\n",
              "4  supports       0  ...                    14                         0\n",
              "\n",
              "[5 rows x 8 columns]"
            ]
          },
          "metadata": {},
          "execution_count": 14
        }
      ],
      "source": [
        "relation_ann_dataset.head()"
      ]
    },
    {
      "cell_type": "code",
      "execution_count": null,
      "metadata": {
        "id": "419pKNHTA-3L"
      },
      "outputs": [],
      "source": [
        "# The Microtext dataset.\n",
        "\n",
        "relation_microtext_dataset=pd.read_csv('microtext_relation_dataset.csv')"
      ]
    },
    {
      "cell_type": "code",
      "execution_count": null,
      "metadata": {
        "colab": {
          "base_uri": "https://localhost:8080/",
          "height": 337
        },
        "id": "UhLbHwxRfvBk",
        "outputId": "320ef0a8-177e-4358-8788-0961c47fd323"
      },
      "outputs": [
        {
          "output_type": "execute_result",
          "data": {
            "text/html": [
              "\n",
              "  <div id=\"df-84f22cb3-446a-45ab-b6b2-078f3dc1ca6c\">\n",
              "    <div class=\"colab-df-container\">\n",
              "      <div>\n",
              "<style scoped>\n",
              "    .dataframe tbody tr th:only-of-type {\n",
              "        vertical-align: middle;\n",
              "    }\n",
              "\n",
              "    .dataframe tbody tr th {\n",
              "        vertical-align: top;\n",
              "    }\n",
              "\n",
              "    .dataframe thead th {\n",
              "        text-align: right;\n",
              "    }\n",
              "</style>\n",
              "<table border=\"1\" class=\"dataframe\">\n",
              "  <thead>\n",
              "    <tr style=\"text-align: right;\">\n",
              "      <th></th>\n",
              "      <th>type</th>\n",
              "      <th>doc_id</th>\n",
              "      <th>supporting_text</th>\n",
              "      <th>supporting_sentence_id</th>\n",
              "      <th>supported_text</th>\n",
              "      <th>supported_sentence_id</th>\n",
              "    </tr>\n",
              "  </thead>\n",
              "  <tbody>\n",
              "    <tr>\n",
              "      <th>0</th>\n",
              "      <td>attacks</td>\n",
              "      <td>0</td>\n",
              "      <td>Yes, it's annoying and cumbersome to separate ...</td>\n",
              "      <td>0</td>\n",
              "      <td>We Berliners should take the chance and become...</td>\n",
              "      <td>3</td>\n",
              "    </tr>\n",
              "    <tr>\n",
              "      <th>1</th>\n",
              "      <td>supports</td>\n",
              "      <td>0</td>\n",
              "      <td>Three different bin bags stink away in the kit...</td>\n",
              "      <td>1</td>\n",
              "      <td>Yes, it's annoying and cumbersome to separate ...</td>\n",
              "      <td>0</td>\n",
              "    </tr>\n",
              "    <tr>\n",
              "      <th>2</th>\n",
              "      <td>supports</td>\n",
              "      <td>1</td>\n",
              "      <td>One can hardly move in Friedrichshain or Neukö...</td>\n",
              "      <td>4</td>\n",
              "      <td>Higher fines are therefore the right measure a...</td>\n",
              "      <td>6</td>\n",
              "    </tr>\n",
              "    <tr>\n",
              "      <th>3</th>\n",
              "      <td>supports</td>\n",
              "      <td>1</td>\n",
              "      <td>And when bad luck does strike and you step int...</td>\n",
              "      <td>5</td>\n",
              "      <td>Higher fines are therefore the right measure a...</td>\n",
              "      <td>6</td>\n",
              "    </tr>\n",
              "    <tr>\n",
              "      <th>4</th>\n",
              "      <td>attacks</td>\n",
              "      <td>1</td>\n",
              "      <td>Of course, first they'd actually need to be ca...</td>\n",
              "      <td>7</td>\n",
              "      <td>Higher fines are therefore the right measure a...</td>\n",
              "      <td>6</td>\n",
              "    </tr>\n",
              "  </tbody>\n",
              "</table>\n",
              "</div>\n",
              "      <button class=\"colab-df-convert\" onclick=\"convertToInteractive('df-84f22cb3-446a-45ab-b6b2-078f3dc1ca6c')\"\n",
              "              title=\"Convert this dataframe to an interactive table.\"\n",
              "              style=\"display:none;\">\n",
              "        \n",
              "  <svg xmlns=\"http://www.w3.org/2000/svg\" height=\"24px\"viewBox=\"0 0 24 24\"\n",
              "       width=\"24px\">\n",
              "    <path d=\"M0 0h24v24H0V0z\" fill=\"none\"/>\n",
              "    <path d=\"M18.56 5.44l.94 2.06.94-2.06 2.06-.94-2.06-.94-.94-2.06-.94 2.06-2.06.94zm-11 1L8.5 8.5l.94-2.06 2.06-.94-2.06-.94L8.5 2.5l-.94 2.06-2.06.94zm10 10l.94 2.06.94-2.06 2.06-.94-2.06-.94-.94-2.06-.94 2.06-2.06.94z\"/><path d=\"M17.41 7.96l-1.37-1.37c-.4-.4-.92-.59-1.43-.59-.52 0-1.04.2-1.43.59L10.3 9.45l-7.72 7.72c-.78.78-.78 2.05 0 2.83L4 21.41c.39.39.9.59 1.41.59.51 0 1.02-.2 1.41-.59l7.78-7.78 2.81-2.81c.8-.78.8-2.07 0-2.86zM5.41 20L4 18.59l7.72-7.72 1.47 1.35L5.41 20z\"/>\n",
              "  </svg>\n",
              "      </button>\n",
              "      \n",
              "  <style>\n",
              "    .colab-df-container {\n",
              "      display:flex;\n",
              "      flex-wrap:wrap;\n",
              "      gap: 12px;\n",
              "    }\n",
              "\n",
              "    .colab-df-convert {\n",
              "      background-color: #E8F0FE;\n",
              "      border: none;\n",
              "      border-radius: 50%;\n",
              "      cursor: pointer;\n",
              "      display: none;\n",
              "      fill: #1967D2;\n",
              "      height: 32px;\n",
              "      padding: 0 0 0 0;\n",
              "      width: 32px;\n",
              "    }\n",
              "\n",
              "    .colab-df-convert:hover {\n",
              "      background-color: #E2EBFA;\n",
              "      box-shadow: 0px 1px 2px rgba(60, 64, 67, 0.3), 0px 1px 3px 1px rgba(60, 64, 67, 0.15);\n",
              "      fill: #174EA6;\n",
              "    }\n",
              "\n",
              "    [theme=dark] .colab-df-convert {\n",
              "      background-color: #3B4455;\n",
              "      fill: #D2E3FC;\n",
              "    }\n",
              "\n",
              "    [theme=dark] .colab-df-convert:hover {\n",
              "      background-color: #434B5C;\n",
              "      box-shadow: 0px 1px 3px 1px rgba(0, 0, 0, 0.15);\n",
              "      filter: drop-shadow(0px 1px 2px rgba(0, 0, 0, 0.3));\n",
              "      fill: #FFFFFF;\n",
              "    }\n",
              "  </style>\n",
              "\n",
              "      <script>\n",
              "        const buttonEl =\n",
              "          document.querySelector('#df-84f22cb3-446a-45ab-b6b2-078f3dc1ca6c button.colab-df-convert');\n",
              "        buttonEl.style.display =\n",
              "          google.colab.kernel.accessAllowed ? 'block' : 'none';\n",
              "\n",
              "        async function convertToInteractive(key) {\n",
              "          const element = document.querySelector('#df-84f22cb3-446a-45ab-b6b2-078f3dc1ca6c');\n",
              "          const dataTable =\n",
              "            await google.colab.kernel.invokeFunction('convertToInteractive',\n",
              "                                                     [key], {});\n",
              "          if (!dataTable) return;\n",
              "\n",
              "          const docLinkHtml = 'Like what you see? Visit the ' +\n",
              "            '<a target=\"_blank\" href=https://colab.research.google.com/notebooks/data_table.ipynb>data table notebook</a>'\n",
              "            + ' to learn more about interactive tables.';\n",
              "          element.innerHTML = '';\n",
              "          dataTable['output_type'] = 'display_data';\n",
              "          await google.colab.output.renderOutput(dataTable, element);\n",
              "          const docLink = document.createElement('div');\n",
              "          docLink.innerHTML = docLinkHtml;\n",
              "          element.appendChild(docLink);\n",
              "        }\n",
              "      </script>\n",
              "    </div>\n",
              "  </div>\n",
              "  "
            ],
            "text/plain": [
              "       type  ...  supported_sentence_id\n",
              "0   attacks  ...                      3\n",
              "1  supports  ...                      0\n",
              "2  supports  ...                      6\n",
              "3  supports  ...                      6\n",
              "4   attacks  ...                      6\n",
              "\n",
              "[5 rows x 6 columns]"
            ]
          },
          "metadata": {},
          "execution_count": 16
        }
      ],
      "source": [
        "relation_microtext_dataset.head()"
      ]
    },
    {
      "cell_type": "markdown",
      "metadata": {
        "id": "h13UiYyFOV6c"
      },
      "source": [
        "# **Stab Gurevych dataset**"
      ]
    },
    {
      "cell_type": "code",
      "execution_count": null,
      "metadata": {
        "id": "GMgahsgcrTws"
      },
      "outputs": [],
      "source": [
        "# Function to extract zip file.\n",
        "# Takes in input the path to the zip file (path_zip) and the one to store the destination directory (path_destination).\n",
        "\n",
        "def extract_zip(path_zip,path_destination):\n",
        "  with zipfile.ZipFile(path_zip, 'r') as zip_ref:\n",
        "    zip_ref.extractall(path_destination)\n"
      ]
    },
    {
      "cell_type": "code",
      "execution_count": null,
      "metadata": {
        "id": "cE_5p8qap-Ib"
      },
      "outputs": [],
      "source": [
        "# Extract zip file (two zip files one inside the other).\n",
        "\n",
        "extract_zip('ArgumentAnnotatedEssays-2.0.zip','ArgumentAnnotatedEssays-2.0')\n",
        "\n",
        "extract_zip('ArgumentAnnotatedEssays-2.0/ArgumentAnnotatedEssays-2.0/brat-project-final.zip','ArgumentAnnotatedEssays')"
      ]
    },
    {
      "cell_type": "markdown",
      "metadata": {
        "id": "OrsWTewaCnPf"
      },
      "source": [
        "## **Create and visualize the required Dataframe**"
      ]
    },
    {
      "cell_type": "code",
      "execution_count": null,
      "metadata": {
        "id": "rdAvNRWA08Sg"
      },
      "outputs": [],
      "source": [
        "# Extract the list of text files of the essays in the dataset.\n",
        "txt_files = sorted(glob.glob(\"ArgumentAnnotatedEssays/brat-project-final/essay*.txt\"))\n",
        "\n",
        "# Extract the list of text files of the essays in the dataset.\n",
        "ann_files = sorted(glob.glob(\"ArgumentAnnotatedEssays/brat-project-final/essay*.ann\"))"
      ]
    },
    {
      "cell_type": "code",
      "execution_count": null,
      "metadata": {
        "colab": {
          "base_uri": "https://localhost:8080/"
        },
        "id": "s1yFSufe1iFC",
        "outputId": "32d9ebba-3ce1-4169-f28a-68591bc5741b"
      },
      "outputs": [
        {
          "output_type": "execute_result",
          "data": {
            "text/plain": [
              "['ArgumentAnnotatedEssays/brat-project-final/essay001.txt',\n",
              " 'ArgumentAnnotatedEssays/brat-project-final/essay002.txt',\n",
              " 'ArgumentAnnotatedEssays/brat-project-final/essay003.txt',\n",
              " 'ArgumentAnnotatedEssays/brat-project-final/essay004.txt',\n",
              " 'ArgumentAnnotatedEssays/brat-project-final/essay005.txt']"
            ]
          },
          "metadata": {},
          "execution_count": 20
        }
      ],
      "source": [
        "# List of text files of the essays.\n",
        "txt_files[0:5]"
      ]
    },
    {
      "cell_type": "code",
      "execution_count": null,
      "metadata": {
        "colab": {
          "base_uri": "https://localhost:8080/"
        },
        "id": "8yoE-YHW1ykn",
        "outputId": "4f12efbf-79b5-47be-8146-b933dbc6e3b6"
      },
      "outputs": [
        {
          "output_type": "execute_result",
          "data": {
            "text/plain": [
              "['ArgumentAnnotatedEssays/brat-project-final/essay001.ann',\n",
              " 'ArgumentAnnotatedEssays/brat-project-final/essay002.ann',\n",
              " 'ArgumentAnnotatedEssays/brat-project-final/essay003.ann',\n",
              " 'ArgumentAnnotatedEssays/brat-project-final/essay004.ann',\n",
              " 'ArgumentAnnotatedEssays/brat-project-final/essay005.ann']"
            ]
          },
          "metadata": {},
          "execution_count": 21
        }
      ],
      "source": [
        "# List of the annotated files of the essays.\n",
        "ann_files[0:5]"
      ]
    },
    {
      "cell_type": "code",
      "execution_count": null,
      "metadata": {
        "id": "SJtZWteKCka4"
      },
      "outputs": [],
      "source": [
        "# Transfor the ann files into four dictionaries.\n",
        "ann_disctionaries=[get_entities_relations_attributes_groups(file) for file in ann_files]\n",
        "\n",
        "# Transform the first dictionary (entities) obtained from each ann file into a dataset.\n",
        "essay_ann_datasets = [pd.DataFrame.from_dict(entities, orient='index') for entities,_,_,_ in ann_disctionaries]"
      ]
    },
    {
      "cell_type": "code",
      "execution_count": null,
      "metadata": {
        "id": "Kswy-aEyMIE6"
      },
      "outputs": [],
      "source": [
        "# Sort the lists composed of a (entity) dataset for each essay.\n",
        "essay_ann_datasets=[dataset.sort_values(by='span', key=lambda col: col.map(lambda x: x[0][0])) for dataset in essay_ann_datasets]  \n",
        "\n",
        "# Add a coloumn into the dataset that identifies the document\n",
        "for i in range(len(essay_ann_datasets)):\n",
        "  essay_ann_datasets[i].insert(0,'doc_id',i)\n",
        "\n",
        "# Create a common dataset\n",
        "essay_argument_dataset = pd.concat(essay_ann_datasets)"
      ]
    },
    {
      "cell_type": "code",
      "execution_count": null,
      "metadata": {
        "colab": {
          "base_uri": "https://localhost:8080/"
        },
        "id": "ShAWlc_o3RoB",
        "outputId": "9530aa72-e05a-439a-a794-3e23671f00a2"
      },
      "outputs": [
        {
          "output_type": "stream",
          "name": "stderr",
          "text": [
            "/usr/local/lib/python3.7/dist-packages/ipykernel_launcher.py:3: SettingWithCopyWarning: \n",
            "A value is trying to be set on a copy of a slice from a DataFrame\n",
            "\n",
            "See the caveats in the documentation: https://pandas.pydata.org/pandas-docs/stable/user_guide/indexing.html#returning-a-view-versus-a-copy\n",
            "  This is separate from the ipykernel package so we can avoid doing imports until\n"
          ]
        }
      ],
      "source": [
        "# Sobstitue the values in the \"span\" feature (substitute each tuple with its first inner tuple)\n",
        "for i in range(len(essay_argument_dataset.index)):\n",
        "  essay_argument_dataset['span'][i]=essay_argument_dataset['span'][i][0]"
      ]
    },
    {
      "cell_type": "code",
      "execution_count": null,
      "metadata": {
        "colab": {
          "base_uri": "https://localhost:8080/"
        },
        "id": "g9dtVgGNFCwA",
        "outputId": "7be2de29-59f0-4077-e549-f82a7e46bcaf"
      },
      "outputs": [
        {
          "output_type": "execute_result",
          "data": {
            "text/html": [
              "\n",
              "  <div id=\"df-ca8ad282-859b-4dbd-ac9c-2b79d98feee3\">\n",
              "    <div class=\"colab-df-container\">\n",
              "      <div>\n",
              "<style scoped>\n",
              "    .dataframe tbody tr th:only-of-type {\n",
              "        vertical-align: middle;\n",
              "    }\n",
              "\n",
              "    .dataframe tbody tr th {\n",
              "        vertical-align: top;\n",
              "    }\n",
              "\n",
              "    .dataframe thead th {\n",
              "        text-align: right;\n",
              "    }\n",
              "</style>\n",
              "<table border=\"1\" class=\"dataframe\">\n",
              "  <thead>\n",
              "    <tr style=\"text-align: right;\">\n",
              "      <th></th>\n",
              "      <th>doc_id</th>\n",
              "      <th>id</th>\n",
              "      <th>type</th>\n",
              "      <th>span</th>\n",
              "      <th>text</th>\n",
              "    </tr>\n",
              "  </thead>\n",
              "  <tbody>\n",
              "    <tr>\n",
              "      <th>T1</th>\n",
              "      <td>0</td>\n",
              "      <td>T1</td>\n",
              "      <td>MajorClaim</td>\n",
              "      <td>(503, 575)</td>\n",
              "      <td>we should attach more importance to cooperatio...</td>\n",
              "    </tr>\n",
              "    <tr>\n",
              "      <th>T3</th>\n",
              "      <td>0</td>\n",
              "      <td>T3</td>\n",
              "      <td>Claim</td>\n",
              "      <td>(591, 714)</td>\n",
              "      <td>through cooperation, children can learn about ...</td>\n",
              "    </tr>\n",
              "    <tr>\n",
              "      <th>T4</th>\n",
              "      <td>0</td>\n",
              "      <td>T4</td>\n",
              "      <td>Premise</td>\n",
              "      <td>(716, 851)</td>\n",
              "      <td>What we acquired from team work is not only ho...</td>\n",
              "    </tr>\n",
              "    <tr>\n",
              "      <th>T5</th>\n",
              "      <td>0</td>\n",
              "      <td>T5</td>\n",
              "      <td>Premise</td>\n",
              "      <td>(853, 1086)</td>\n",
              "      <td>During the process of cooperation, children ca...</td>\n",
              "    </tr>\n",
              "    <tr>\n",
              "      <th>T6</th>\n",
              "      <td>0</td>\n",
              "      <td>T6</td>\n",
              "      <td>Premise</td>\n",
              "      <td>(1088, 1191)</td>\n",
              "      <td>All of these skills help them to get on well w...</td>\n",
              "    </tr>\n",
              "  </tbody>\n",
              "</table>\n",
              "</div>\n",
              "      <button class=\"colab-df-convert\" onclick=\"convertToInteractive('df-ca8ad282-859b-4dbd-ac9c-2b79d98feee3')\"\n",
              "              title=\"Convert this dataframe to an interactive table.\"\n",
              "              style=\"display:none;\">\n",
              "        \n",
              "  <svg xmlns=\"http://www.w3.org/2000/svg\" height=\"24px\"viewBox=\"0 0 24 24\"\n",
              "       width=\"24px\">\n",
              "    <path d=\"M0 0h24v24H0V0z\" fill=\"none\"/>\n",
              "    <path d=\"M18.56 5.44l.94 2.06.94-2.06 2.06-.94-2.06-.94-.94-2.06-.94 2.06-2.06.94zm-11 1L8.5 8.5l.94-2.06 2.06-.94-2.06-.94L8.5 2.5l-.94 2.06-2.06.94zm10 10l.94 2.06.94-2.06 2.06-.94-2.06-.94-.94-2.06-.94 2.06-2.06.94z\"/><path d=\"M17.41 7.96l-1.37-1.37c-.4-.4-.92-.59-1.43-.59-.52 0-1.04.2-1.43.59L10.3 9.45l-7.72 7.72c-.78.78-.78 2.05 0 2.83L4 21.41c.39.39.9.59 1.41.59.51 0 1.02-.2 1.41-.59l7.78-7.78 2.81-2.81c.8-.78.8-2.07 0-2.86zM5.41 20L4 18.59l7.72-7.72 1.47 1.35L5.41 20z\"/>\n",
              "  </svg>\n",
              "      </button>\n",
              "      \n",
              "  <style>\n",
              "    .colab-df-container {\n",
              "      display:flex;\n",
              "      flex-wrap:wrap;\n",
              "      gap: 12px;\n",
              "    }\n",
              "\n",
              "    .colab-df-convert {\n",
              "      background-color: #E8F0FE;\n",
              "      border: none;\n",
              "      border-radius: 50%;\n",
              "      cursor: pointer;\n",
              "      display: none;\n",
              "      fill: #1967D2;\n",
              "      height: 32px;\n",
              "      padding: 0 0 0 0;\n",
              "      width: 32px;\n",
              "    }\n",
              "\n",
              "    .colab-df-convert:hover {\n",
              "      background-color: #E2EBFA;\n",
              "      box-shadow: 0px 1px 2px rgba(60, 64, 67, 0.3), 0px 1px 3px 1px rgba(60, 64, 67, 0.15);\n",
              "      fill: #174EA6;\n",
              "    }\n",
              "\n",
              "    [theme=dark] .colab-df-convert {\n",
              "      background-color: #3B4455;\n",
              "      fill: #D2E3FC;\n",
              "    }\n",
              "\n",
              "    [theme=dark] .colab-df-convert:hover {\n",
              "      background-color: #434B5C;\n",
              "      box-shadow: 0px 1px 3px 1px rgba(0, 0, 0, 0.15);\n",
              "      filter: drop-shadow(0px 1px 2px rgba(0, 0, 0, 0.3));\n",
              "      fill: #FFFFFF;\n",
              "    }\n",
              "  </style>\n",
              "\n",
              "      <script>\n",
              "        const buttonEl =\n",
              "          document.querySelector('#df-ca8ad282-859b-4dbd-ac9c-2b79d98feee3 button.colab-df-convert');\n",
              "        buttonEl.style.display =\n",
              "          google.colab.kernel.accessAllowed ? 'block' : 'none';\n",
              "\n",
              "        async function convertToInteractive(key) {\n",
              "          const element = document.querySelector('#df-ca8ad282-859b-4dbd-ac9c-2b79d98feee3');\n",
              "          const dataTable =\n",
              "            await google.colab.kernel.invokeFunction('convertToInteractive',\n",
              "                                                     [key], {});\n",
              "          if (!dataTable) return;\n",
              "\n",
              "          const docLinkHtml = 'Like what you see? Visit the ' +\n",
              "            '<a target=\"_blank\" href=https://colab.research.google.com/notebooks/data_table.ipynb>data table notebook</a>'\n",
              "            + ' to learn more about interactive tables.';\n",
              "          element.innerHTML = '';\n",
              "          dataTable['output_type'] = 'display_data';\n",
              "          await google.colab.output.renderOutput(dataTable, element);\n",
              "          const docLink = document.createElement('div');\n",
              "          docLink.innerHTML = docLinkHtml;\n",
              "          element.appendChild(docLink);\n",
              "        }\n",
              "      </script>\n",
              "    </div>\n",
              "  </div>\n",
              "  "
            ],
            "text/plain": [
              "    doc_id  id  ...          span                                               text\n",
              "T1       0  T1  ...    (503, 575)  we should attach more importance to cooperatio...\n",
              "T3       0  T3  ...    (591, 714)  through cooperation, children can learn about ...\n",
              "T4       0  T4  ...    (716, 851)  What we acquired from team work is not only ho...\n",
              "T5       0  T5  ...   (853, 1086)  During the process of cooperation, children ca...\n",
              "T6       0  T6  ...  (1088, 1191)  All of these skills help them to get on well w...\n",
              "\n",
              "[5 rows x 5 columns]"
            ]
          },
          "metadata": {},
          "execution_count": 25
        }
      ],
      "source": [
        "essay_argument_dataset.head()"
      ]
    },
    {
      "cell_type": "markdown",
      "metadata": {
        "id": "0697g-wg76g8"
      },
      "source": [
        "## **Word list of the Corpus**"
      ]
    },
    {
      "cell_type": "code",
      "execution_count": null,
      "metadata": {
        "id": "En1l-2YSD7_z"
      },
      "outputs": [],
      "source": [
        "# List of texts of the essays\n",
        "files_text=[open(file).read() for file in txt_files]"
      ]
    },
    {
      "cell_type": "code",
      "execution_count": null,
      "metadata": {
        "id": "c-Xv3S56l_HC"
      },
      "outputs": [],
      "source": [
        "# Get the start and finish points of each argumentative section of each of the text.\n",
        "# Also get the type of each argumentative section.\n",
        "# This points are indicated in the \"span\" coloumn of the Dataframe of the annotation.\n",
        "\n",
        "sorted_span=[list(essay_argument_dataset.loc[essay_argument_dataset['doc_id'] == i,['span','type']].values) for i in range(len(ann_files))]"
      ]
    },
    {
      "cell_type": "code",
      "execution_count": null,
      "metadata": {
        "colab": {
          "base_uri": "https://localhost:8080/"
        },
        "id": "FY761IVz8g2z",
        "outputId": "461050fe-4991-4ac8-adee-db5b27d3acde"
      },
      "outputs": [
        {
          "output_type": "execute_result",
          "data": {
            "text/plain": [
              "[array([(503, 575), 'MajorClaim'], dtype=object),\n",
              " array([(591, 714), 'Claim'], dtype=object),\n",
              " array([(716, 851), 'Premise'], dtype=object),\n",
              " array([(853, 1086), 'Premise'], dtype=object),\n",
              " array([(1088, 1191), 'Premise'], dtype=object),\n",
              " array([(1212, 1301), 'Premise'], dtype=object),\n",
              " array([(1332, 1376), 'Claim'], dtype=object),\n",
              " array([(1387, 1492), 'Premise'], dtype=object),\n",
              " array([(1549, 1846), 'Premise'], dtype=object),\n",
              " array([(1927, 1992), 'Claim'], dtype=object),\n",
              " array([(2154, 2231), 'MajorClaim'], dtype=object)]"
            ]
          },
          "metadata": {},
          "execution_count": 28
        }
      ],
      "source": [
        "sorted_span[0]"
      ]
    },
    {
      "cell_type": "code",
      "execution_count": null,
      "metadata": {
        "id": "IB7ydWo78-x2"
      },
      "outputs": [],
      "source": [
        "# Tranform the couples of points ((start,end) of each section) to a list (separator of different section).\n",
        "\n",
        "span_points=[]\n",
        "\n",
        "for i in range(len(sorted_span)):\n",
        "  list_points=[sep for sub in sorted_span[i] for sep in sub[0]]\n",
        "  # Insert starting point of the text\n",
        "  list_points.insert(0,0)\n",
        "  list_points.append(len(files_text[i]))\n",
        "  span_points.append(list_points)"
      ]
    },
    {
      "cell_type": "code",
      "execution_count": null,
      "metadata": {
        "colab": {
          "base_uri": "https://localhost:8080/"
        },
        "id": "LFHv8OFV-MER",
        "outputId": "481bd88f-e29f-4d86-f447-da2690264042"
      },
      "outputs": [
        {
          "output_type": "execute_result",
          "data": {
            "text/plain": [
              "[0,\n",
              " 503,\n",
              " 575,\n",
              " 591,\n",
              " 714,\n",
              " 716,\n",
              " 851,\n",
              " 853,\n",
              " 1086,\n",
              " 1088,\n",
              " 1191,\n",
              " 1212,\n",
              " 1301,\n",
              " 1332,\n",
              " 1376,\n",
              " 1387,\n",
              " 1492,\n",
              " 1549,\n",
              " 1846,\n",
              " 1927,\n",
              " 1992,\n",
              " 2154,\n",
              " 2231,\n",
              " 2232]"
            ]
          },
          "metadata": {},
          "execution_count": 30
        }
      ],
      "source": [
        "span_points[0]"
      ]
    },
    {
      "cell_type": "code",
      "execution_count": null,
      "metadata": {
        "id": "YV3tm2bS-p_t"
      },
      "outputs": [],
      "source": [
        "# Separate the texts at the point indicated for the different sections\n",
        "\n",
        "split_text=[]\n",
        "\n",
        "for z in range(len(files_text)):\n",
        "  split_text.append([files_text[z][i: j] for i, j in zip(span_points[z], span_points[z][1:])])"
      ]
    },
    {
      "cell_type": "code",
      "execution_count": null,
      "metadata": {
        "colab": {
          "base_uri": "https://localhost:8080/"
        },
        "id": "YyylYuLL_SEb",
        "outputId": "70aeb0bc-3885-40cc-bc27-90567579b189"
      },
      "outputs": [
        {
          "output_type": "execute_result",
          "data": {
            "text/plain": [
              "[\"Should students be taught to compete or to cooperate?\\n\\nIt is always said that competition can effectively promote the development of economy. In order to survive in the competition, companies continue to improve their products and service, and as a result, the whole society prospers. However, when we discuss the issue of competition or cooperation, what we are concerned about is not the whole society, but the development of an individual's whole life. From this point of view, I firmly believe that \",\n",
              " 'we should attach more importance to cooperation during primary education',\n",
              " '.\\nFirst of all, ',\n",
              " 'through cooperation, children can learn about interpersonal skills which are significant in the future life of all students',\n",
              " '. ',\n",
              " 'What we acquired from team work is not only how to achieve the same goal with others but more importantly, how to get along with others',\n",
              " '. ',\n",
              " 'During the process of cooperation, children can learn about how to listen to opinions of others, how to communicate with others, how to think comprehensively, and even how to compromise with other team members when conflicts occurred',\n",
              " '. ',\n",
              " 'All of these skills help them to get on well with other people and will benefit them for the whole life']"
            ]
          },
          "metadata": {},
          "execution_count": 32
        }
      ],
      "source": [
        "split_text[0][0:10]"
      ]
    },
    {
      "cell_type": "code",
      "execution_count": null,
      "metadata": {
        "id": "lYVRUlXHAwa3"
      },
      "outputs": [],
      "source": [
        "# Get the list of the words of each essay.\n",
        "\n",
        "X_essay_word_list=[]\n",
        "\n",
        "for i in range(len(split_text)):\n",
        "  \n",
        "  essay_word_list=[]\n",
        "\n",
        "  # Remove title from essay considered (splitted_text)\n",
        "  no_title=[re.sub(r\".*\\n\\n\",\"\",text) for text in split_text[i]]\n",
        "\n",
        "  for section in no_title:\n",
        "\n",
        "    # Divide the text into token.\n",
        "    seq=nltk.word_tokenize(section.lower())\n",
        "\n",
        "    essay_word_list+=seq\n",
        "\n",
        "  X_essay_word_list.append(essay_word_list)"
      ]
    },
    {
      "cell_type": "code",
      "execution_count": null,
      "metadata": {
        "colab": {
          "base_uri": "https://localhost:8080/"
        },
        "id": "IK9ZdPIJC2VA",
        "outputId": "e6749d68-6ebc-426c-9c47-0abe1ae0c3c8"
      },
      "outputs": [
        {
          "output_type": "execute_result",
          "data": {
            "text/plain": [
              "['i',\n",
              " 'firmly',\n",
              " 'believe',\n",
              " 'that',\n",
              " 'we',\n",
              " 'should',\n",
              " 'attach',\n",
              " 'more',\n",
              " 'importance',\n",
              " 'to',\n",
              " 'cooperation',\n",
              " 'during',\n",
              " 'primary',\n",
              " 'education',\n",
              " '.',\n",
              " 'first',\n",
              " 'of',\n",
              " 'all',\n",
              " ',',\n",
              " 'through',\n",
              " 'cooperation',\n",
              " ',',\n",
              " 'children',\n",
              " 'can',\n",
              " 'learn',\n",
              " 'about',\n",
              " 'interpersonal',\n",
              " 'skills',\n",
              " 'which',\n",
              " 'are',\n",
              " 'significant',\n",
              " 'in',\n",
              " 'the',\n",
              " 'future',\n",
              " 'life',\n",
              " 'of',\n",
              " 'all',\n",
              " 'students',\n",
              " '.',\n",
              " 'what']"
            ]
          },
          "metadata": {},
          "execution_count": 34
        }
      ],
      "source": [
        "X_essay_word_list[0][80:120]"
      ]
    },
    {
      "cell_type": "markdown",
      "metadata": {
        "id": "pov3Yk0pUbjm"
      },
      "source": [
        "## **Find out sentences list**"
      ]
    },
    {
      "cell_type": "code",
      "execution_count": null,
      "metadata": {
        "id": "QPcb2rgQUmzn"
      },
      "outputs": [],
      "source": [
        "# Get the list of all the sentences.\n",
        "\n",
        "sentence_list=[]\n",
        "\n",
        "# Get the list of the id of the essay for each of the sentences of the corpus.\n",
        "essay_id_list=[]\n",
        "\n",
        "\n",
        "for essay_id in range(len(X_essay_word_list)):\n",
        "  sentence=\"\"\n",
        "\n",
        "  for word_id in range(len(X_essay_word_list[essay_id])):\n",
        "    \n",
        "    word=X_essay_word_list[essay_id][word_id]\n",
        "\n",
        "    # Add to the sentence every word that is not a simple \\n or the end of the sentence (\".\").\n",
        "    if not ( word==\".\" ):\n",
        "      sentence+=word+\" \"\n",
        "          \n",
        "    # . is the end of the sentence.       \n",
        "    if word in [\".\",\"?\",\"!\"] and ( not sentence==\"\"):\n",
        "      sentence_list.append(sentence)\n",
        "      essay_id_list.append(essay_id)\n",
        "\n",
        "      sentence=\"\"\n",
        "\n",
        "  if not (sentence==\"\"):\n",
        "      sentence_list.append(sentence)\n",
        "      essay_id_list.append(essay_id)"
      ]
    },
    {
      "cell_type": "code",
      "execution_count": null,
      "metadata": {
        "colab": {
          "base_uri": "https://localhost:8080/"
        },
        "id": "OvBdpsbtQUcq",
        "outputId": "241f5906-1195-417b-cb69-262635a2572d"
      },
      "outputs": [
        {
          "output_type": "execute_result",
          "data": {
            "text/plain": [
              "6738"
            ]
          },
          "metadata": {},
          "execution_count": 36
        }
      ],
      "source": [
        "len(sentence_list)"
      ]
    },
    {
      "cell_type": "markdown",
      "metadata": {
        "id": "n8USF6Roumqs"
      },
      "source": [
        "## **Select the sections to classify and the labels**"
      ]
    },
    {
      "cell_type": "code",
      "execution_count": null,
      "metadata": {
        "id": "_DJF2cMNe6Rf"
      },
      "outputs": [],
      "source": [
        "# Get the list of the words of each argumentative section that is part of a \n",
        "# relation.\n",
        "\n",
        "# List of the argumentative sections in the relations imported.\n",
        "X_supporting_section_list=[]\n",
        "X_supported_section_list=[]\n",
        "\n",
        "# List of the sentences before each argumentative sections in the relations imported.\n",
        "X_supporting_section_list_before=[]\n",
        "X_supported_section_list_before=[]\n",
        "\n",
        "# List of the sentences after each argumentative sections in the relations imported.\n",
        "X_supporting_section_list_after=[]\n",
        "X_supported_section_list_after=[]\n",
        "\n",
        "for relation in relation_ann_dataset.itertuples():\n",
        "\n",
        "  supporting=\"\"\n",
        "  supported=\"\"\n",
        "\n",
        "  supporting_sequence=relation.supporting_text\n",
        "  supported_sequence=relation.supported_text\n",
        "\n",
        "  supporting_sentence_id=relation.supporting_sentence_id\n",
        "  supported_sentence_id=relation.supported_sentence_id\n",
        "\n",
        "  supporting_section_length=relation.supporting_section_length\n",
        "  supported_section_length=relation.supported_section_length\n",
        "\n",
        "  # Divide the sections into token.\n",
        "  supporting_seq_word=nltk.word_tokenize(supporting_sequence.lower())\n",
        "  supported_seq_word=nltk.word_tokenize(supported_sequence.lower())\n",
        "\n",
        "  for word in supporting_seq_word:\n",
        "    supporting+=word+\" \"\n",
        "\n",
        "  for word in supported_seq_word:\n",
        "    supported+=word+\" \"\n",
        "\n",
        "  # Concatenate the sentences before and atfer the ones that contain the argumentation\n",
        "  # separately.\n",
        "  # If the sentences don't end with a \"?\" or a \"!\", add a period (\".\") at the end;\n",
        "  # the sentences are stored without the periods.\n",
        "  supporting_sentence=sentence_list[supporting_sentence_id]\n",
        "\n",
        "  for j in range(supporting_section_length):\n",
        "    if not (supporting_sentence[-2]=='?' or supporting_sentence[-2]=='!'):\n",
        "      supporting_sentence+=\". \"+sentence_list[supporting_sentence_id+j+1]\n",
        "    else:\n",
        "      supporting_sentence+=sentence_list[supporting_sentence_id+j+1]\n",
        "\n",
        "  supported_sentence=sentence_list[supported_sentence_id]\n",
        "\n",
        "  for j in range(supported_section_length):\n",
        "    if not (supported_sentence[-2]=='?' or supported_sentence[-2]=='!'):\n",
        "      supported_sentence+=\". \"+sentence_list[supported_sentence_id+j+1]\n",
        "    else:\n",
        "      supported_sentence+=sentence_list[supported_sentence_id+j+1]    \n",
        "\n",
        "  # Get the parts of the sentence containing the argumentative section before\n",
        "  # and after the section.\n",
        "  supporting_before,supporting_after=supporting_sentence.split(supporting)\n",
        "  supported_before,supported_after=supported_sentence.split(supported)\n",
        "\n",
        "  # If the section it isn't in the first sentence of an essay attach to the\n",
        "  # already retrieved preciding section the entire sentence before the one \n",
        "  # containing the section. \n",
        "\n",
        "  if (supporting_sentence_id>0) and (essay_id_list[supporting_sentence_id]==essay_id_list[supporting_sentence_id-1]):\n",
        "    sentence_before=sentence_list[supporting_sentence_id-1]\n",
        "    if not (sentence_before[-2]=='?' or sentence_before[-2]=='!'):\n",
        "      supporting_before=sentence_before+\". \"+supporting_before\n",
        "    else:\n",
        "      supporting_before=sentence_before+\" \"+supporting_before\n",
        "\n",
        "\n",
        "  if (supported_sentence_id>0) and (essay_id_list[supported_sentence_id]==essay_id_list[supported_sentence_id-1]):\n",
        "    sentence_before=sentence_list[supported_sentence_id-1]\n",
        "    if not (sentence_before[-2]=='?' or sentence_before[-2]=='!'):\n",
        "      supported_before=sentence_before+\". \"+supported_before\n",
        "    else:\n",
        "      supported_before=sentence_before+\" \"+supported_before \n",
        "\n",
        "  # If the section it isn't in the last sentence of an essay attach to the\n",
        "  # already retrieved following section the entire sentence after the one \n",
        "  # containing the section. \n",
        "\n",
        "  if (supporting_sentence_id<len(sentence_list)-1) and (essay_id_list[supporting_sentence_id]==essay_id_list[supporting_sentence_id+1]):\n",
        "    sentence_after=sentence_list[supporting_sentence_id+supporting_section_length+1]\n",
        "    if len(supporting_after)>1 and (supporting_after[-2]=='?' or supporting_after[-2]=='!'):\n",
        "      supporting_after=supporting_after+\" \"+sentence_after\n",
        "    else:\n",
        "      supporting_after=supporting_after+\". \"+sentence_after\n",
        "\n",
        "  if (supported_sentence_id<len(sentence_list)-1) and (essay_id_list[supported_sentence_id]==essay_id_list[supported_sentence_id+1]):\n",
        "    sentence_after=sentence_list[supported_sentence_id+supported_section_length+1]\n",
        "    if len(supported_after)>1 and (supported_after[-2]=='?' or supported_after[-2]=='!'):\n",
        "      supported_after=supported_after+\" \"+sentence_after\n",
        "    else:\n",
        "      supported_after=supported_after+\". \"+sentence_after  \n",
        "\n",
        "  X_supporting_section_list.append(supporting)\n",
        "  X_supported_section_list.append(supported)\n",
        "  X_supporting_section_list_before.append(supporting_before)\n",
        "  X_supported_section_list_before.append(supported_before)\n",
        "  X_supporting_section_list_after.append(supporting_after)\n",
        "  X_supported_section_list_after.append(supported_after)"
      ]
    },
    {
      "cell_type": "code",
      "execution_count": null,
      "metadata": {
        "colab": {
          "base_uri": "https://localhost:8080/"
        },
        "id": "YzDNCB2Se6Rg",
        "outputId": "66c34e74-18ae-4696-a719-a1111b59cf5a"
      },
      "outputs": [
        {
          "output_type": "execute_result",
          "data": {
            "text/plain": [
              "['what we acquired from team work is not only how to achieve the same goal with others but more importantly , how to get along with others ',\n",
              " 'during the process of cooperation , children can learn about how to listen to opinions of others , how to communicate with others , how to think comprehensively , and even how to compromise with other team members when conflicts occurred ',\n",
              " 'all of these skills help them to get on well with other people and will benefit them for the whole life ',\n",
              " 'the significance of competition is that how to become more excellence to gain the victory ',\n",
              " 'when we consider about the question that how to win the game , we always find that we need the cooperation ']"
            ]
          },
          "metadata": {},
          "execution_count": 38
        }
      ],
      "source": [
        "X_supporting_section_list[:5]"
      ]
    },
    {
      "cell_type": "code",
      "execution_count": null,
      "metadata": {
        "colab": {
          "base_uri": "https://localhost:8080/"
        },
        "id": "eJXVD8gsZ9D3",
        "outputId": "f3953d5a-5d2b-401d-a1de-26bd544b4940"
      },
      "outputs": [
        {
          "output_type": "execute_result",
          "data": {
            "text/plain": [
              "['first of all , through cooperation , children can learn about interpersonal skills which are significant in the future life of all students . ',\n",
              " 'what we acquired from team work is not only how to achieve the same goal with others but more importantly , how to get along with others . ',\n",
              " 'during the process of cooperation , children can learn about how to listen to opinions of others , how to communicate with others , how to think comprehensively , and even how to compromise with other team members when conflicts occurred . ',\n",
              " 'all of these skills help them to get on well with other people and will benefit them for the whole life . on the other hand , ',\n",
              " 'hence it is always said that competition makes the society more effective . however , ']"
            ]
          },
          "metadata": {},
          "execution_count": 39
        }
      ],
      "source": [
        "X_supporting_section_list_before[:5]"
      ]
    },
    {
      "cell_type": "code",
      "execution_count": null,
      "metadata": {
        "colab": {
          "base_uri": "https://localhost:8080/"
        },
        "id": "CNfSwI_FZ-5a",
        "outputId": "168da11d-b299-43e2-c07b-107c6521ff7f"
      },
      "outputs": [
        {
          "output_type": "execute_result",
          "data": {
            "text/plain": [
              "['. during the process of cooperation , children can learn about how to listen to opinions of others , how to communicate with others , how to think comprehensively , and even how to compromise with other team members when conflicts occurred ',\n",
              " '. all of these skills help them to get on well with other people and will benefit them for the whole life ',\n",
              " '. on the other hand , the significance of competition is that how to become more excellence to gain the victory ',\n",
              " '. hence it is always said that competition makes the society more effective ',\n",
              " '. the greater our goal is , the more competition we need ']"
            ]
          },
          "metadata": {},
          "execution_count": 40
        }
      ],
      "source": [
        "X_supporting_section_list_after[:5]"
      ]
    },
    {
      "cell_type": "code",
      "execution_count": null,
      "metadata": {
        "colab": {
          "base_uri": "https://localhost:8080/"
        },
        "id": "F86gVuNfe6Rg",
        "outputId": "ea5424fd-5d32-4aea-dafa-e48e5b934d54"
      },
      "outputs": [
        {
          "output_type": "execute_result",
          "data": {
            "text/plain": [
              "['through cooperation , children can learn about interpersonal skills which are significant in the future life of all students ',\n",
              " 'through cooperation , children can learn about interpersonal skills which are significant in the future life of all students ',\n",
              " 'through cooperation , children can learn about interpersonal skills which are significant in the future life of all students ',\n",
              " 'competition makes the society more effective ',\n",
              " 'without the cooperation , there would be no victory of competition ']"
            ]
          },
          "metadata": {},
          "execution_count": 41
        }
      ],
      "source": [
        "X_supported_section_list[:5]"
      ]
    },
    {
      "cell_type": "code",
      "execution_count": null,
      "metadata": {
        "colab": {
          "base_uri": "https://localhost:8080/"
        },
        "id": "NssSv2ihaB5c",
        "outputId": "efed62f4-c340-415b-d28a-86f8b800da2b"
      },
      "outputs": [
        {
          "output_type": "execute_result",
          "data": {
            "text/plain": [
              "['from this point of view , i firmly believe that we should attach more importance to cooperation during primary education . first of all , ',\n",
              " 'from this point of view , i firmly believe that we should attach more importance to cooperation during primary education . first of all , ',\n",
              " 'from this point of view , i firmly believe that we should attach more importance to cooperation during primary education . first of all , ',\n",
              " 'on the other hand , the significance of competition is that how to become more excellence to gain the victory . hence it is always said that ',\n",
              " 'the winner is the athlete but the success belongs to the whole team . therefore ']"
            ]
          },
          "metadata": {},
          "execution_count": 42
        }
      ],
      "source": [
        "X_supported_section_list_before[:5]"
      ]
    },
    {
      "cell_type": "code",
      "execution_count": null,
      "metadata": {
        "colab": {
          "base_uri": "https://localhost:8080/"
        },
        "id": "2aW2Q5lMaDhK",
        "outputId": "b2ef60fd-4e33-4d26-84e5-8eedab5fa1eb"
      },
      "outputs": [
        {
          "output_type": "execute_result",
          "data": {
            "text/plain": [
              "['. what we acquired from team work is not only how to achieve the same goal with others but more importantly , how to get along with others ',\n",
              " '. what we acquired from team work is not only how to achieve the same goal with others but more importantly , how to get along with others ',\n",
              " '. what we acquired from team work is not only how to achieve the same goal with others but more importantly , how to get along with others ',\n",
              " '. however , when we consider about the question that how to win the game , we always find that we need the cooperation ',\n",
              " \". consequently , no matter from the view of individual development or the relationship between competition and cooperation we can receive the same conclusion that a more cooperative attitudes towards life is more profitable in one 's success \"]"
            ]
          },
          "metadata": {},
          "execution_count": 43
        }
      ],
      "source": [
        "X_supported_section_list_after[:5]"
      ]
    },
    {
      "cell_type": "code",
      "execution_count": null,
      "metadata": {
        "id": "Spe8ctrYeDXX"
      },
      "outputs": [],
      "source": [
        "X_supported_word_list_after=[nltk.word_tokenize(section) for section in X_supported_section_list_after]\n",
        "X_supporting_word_list_after=[nltk.word_tokenize(section) for section in X_supporting_section_list_after]\n",
        "X_supported_word_list_before=[nltk.word_tokenize(section) for section in X_supported_section_list_before]\n",
        "X_supporting_word_list_before=[nltk.word_tokenize(section) for section in X_supporting_section_list_before]\n",
        "X_supported_word_list=[nltk.word_tokenize(section) for section in X_supported_section_list]\n",
        "X_supporting_word_list=[nltk.word_tokenize(section) for section in X_supporting_section_list]"
      ]
    },
    {
      "cell_type": "code",
      "execution_count": null,
      "metadata": {
        "colab": {
          "base_uri": "https://localhost:8080/"
        },
        "id": "3sFFaZ7Ve6Rh",
        "outputId": "a4cbbda7-e056-4c2f-b527-d4f547669370"
      },
      "outputs": [
        {
          "output_type": "execute_result",
          "data": {
            "text/plain": [
              "['supports',\n",
              " 'supports',\n",
              " 'supports',\n",
              " 'supports',\n",
              " 'supports',\n",
              " 'supports',\n",
              " 'supports',\n",
              " 'supports',\n",
              " 'supports',\n",
              " 'None']"
            ]
          },
          "metadata": {},
          "execution_count": 45
        }
      ],
      "source": [
        "Y_relation_type=relation_ann_dataset[\"type\"].tolist()\n",
        "\n",
        "Y_relation_type[:10]"
      ]
    },
    {
      "cell_type": "code",
      "execution_count": null,
      "metadata": {
        "colab": {
          "base_uri": "https://localhost:8080/"
        },
        "id": "GpN0MzaAe6Rh",
        "outputId": "9ce96bbe-c459-4aaa-b755-397a3393194b"
      },
      "outputs": [
        {
          "output_type": "execute_result",
          "data": {
            "text/plain": [
              "[1, 1, 1, 1, 1, 1, 1, 1, 1, 0]"
            ]
          },
          "metadata": {},
          "execution_count": 46
        }
      ],
      "source": [
        "Y_relation_type_temp=[]\n",
        "\n",
        "for rel in Y_relation_type:\n",
        "  if rel==\"supports\":\n",
        "    Y_relation_type_temp.append(1)\n",
        "  else:\n",
        "    if rel==\"None\":\n",
        "      Y_relation_type_temp.append(0)\n",
        "    else:\n",
        "      Y_relation_type_temp.append(2)\n",
        "\n",
        "Y_relation_type=Y_relation_type_temp\n",
        "\n",
        "Y_relation_type[:10]"
      ]
    },
    {
      "cell_type": "code",
      "execution_count": null,
      "metadata": {
        "id": "9JQu1gZ2e6Rh"
      },
      "outputs": [],
      "source": [
        "# Definition of the class weights to reduce the impact of the imbalance in the dataset.\n",
        "class_weights={0: 1, 1: 1, 2:8}"
      ]
    },
    {
      "cell_type": "markdown",
      "metadata": {
        "id": "c0aJCVSowSqu"
      },
      "source": [
        "### **Import sentences' statistic**"
      ]
    },
    {
      "cell_type": "code",
      "execution_count": null,
      "metadata": {
        "colab": {
          "base_uri": "https://localhost:8080/"
        },
        "id": "y9jCYEyWtMDI",
        "outputId": "8e7fca9b-047b-46d6-d6eb-80fd70647c4e"
      },
      "outputs": [
        {
          "output_type": "execute_result",
          "data": {
            "text/html": [
              "\n",
              "  <div id=\"df-d1262452-e691-45ca-8d35-6252e4fb9197\">\n",
              "    <div class=\"colab-df-container\">\n",
              "      <div>\n",
              "<style scoped>\n",
              "    .dataframe tbody tr th:only-of-type {\n",
              "        vertical-align: middle;\n",
              "    }\n",
              "\n",
              "    .dataframe tbody tr th {\n",
              "        vertical-align: top;\n",
              "    }\n",
              "\n",
              "    .dataframe thead th {\n",
              "        text-align: right;\n",
              "    }\n",
              "</style>\n",
              "<table border=\"1\" class=\"dataframe\">\n",
              "  <thead>\n",
              "    <tr style=\"text-align: right;\">\n",
              "      <th></th>\n",
              "      <th>paragraph distance</th>\n",
              "      <th>position_in_essay_distance</th>\n",
              "      <th>length_sentence_ratio</th>\n",
              "      <th>supporting: type token ratio</th>\n",
              "      <th>supported: type token ratio</th>\n",
              "    </tr>\n",
              "  </thead>\n",
              "  <tbody>\n",
              "    <tr>\n",
              "      <th>0</th>\n",
              "      <td>0</td>\n",
              "      <td>-1</td>\n",
              "      <td>0.807692</td>\n",
              "      <td>85.185185</td>\n",
              "      <td>86.956522</td>\n",
              "    </tr>\n",
              "    <tr>\n",
              "      <th>1</th>\n",
              "      <td>0</td>\n",
              "      <td>-2</td>\n",
              "      <td>0.567568</td>\n",
              "      <td>68.292683</td>\n",
              "      <td>86.956522</td>\n",
              "    </tr>\n",
              "    <tr>\n",
              "      <th>2</th>\n",
              "      <td>0</td>\n",
              "      <td>-3</td>\n",
              "      <td>1.000000</td>\n",
              "      <td>95.238095</td>\n",
              "      <td>86.956522</td>\n",
              "    </tr>\n",
              "    <tr>\n",
              "      <th>3</th>\n",
              "      <td>0</td>\n",
              "      <td>1</td>\n",
              "      <td>0.631579</td>\n",
              "      <td>85.000000</td>\n",
              "      <td>100.000000</td>\n",
              "    </tr>\n",
              "    <tr>\n",
              "      <th>4</th>\n",
              "      <td>0</td>\n",
              "      <td>4</td>\n",
              "      <td>0.523810</td>\n",
              "      <td>73.913043</td>\n",
              "      <td>100.000000</td>\n",
              "    </tr>\n",
              "  </tbody>\n",
              "</table>\n",
              "</div>\n",
              "      <button class=\"colab-df-convert\" onclick=\"convertToInteractive('df-d1262452-e691-45ca-8d35-6252e4fb9197')\"\n",
              "              title=\"Convert this dataframe to an interactive table.\"\n",
              "              style=\"display:none;\">\n",
              "        \n",
              "  <svg xmlns=\"http://www.w3.org/2000/svg\" height=\"24px\"viewBox=\"0 0 24 24\"\n",
              "       width=\"24px\">\n",
              "    <path d=\"M0 0h24v24H0V0z\" fill=\"none\"/>\n",
              "    <path d=\"M18.56 5.44l.94 2.06.94-2.06 2.06-.94-2.06-.94-.94-2.06-.94 2.06-2.06.94zm-11 1L8.5 8.5l.94-2.06 2.06-.94-2.06-.94L8.5 2.5l-.94 2.06-2.06.94zm10 10l.94 2.06.94-2.06 2.06-.94-2.06-.94-.94-2.06-.94 2.06-2.06.94z\"/><path d=\"M17.41 7.96l-1.37-1.37c-.4-.4-.92-.59-1.43-.59-.52 0-1.04.2-1.43.59L10.3 9.45l-7.72 7.72c-.78.78-.78 2.05 0 2.83L4 21.41c.39.39.9.59 1.41.59.51 0 1.02-.2 1.41-.59l7.78-7.78 2.81-2.81c.8-.78.8-2.07 0-2.86zM5.41 20L4 18.59l7.72-7.72 1.47 1.35L5.41 20z\"/>\n",
              "  </svg>\n",
              "      </button>\n",
              "      \n",
              "  <style>\n",
              "    .colab-df-container {\n",
              "      display:flex;\n",
              "      flex-wrap:wrap;\n",
              "      gap: 12px;\n",
              "    }\n",
              "\n",
              "    .colab-df-convert {\n",
              "      background-color: #E8F0FE;\n",
              "      border: none;\n",
              "      border-radius: 50%;\n",
              "      cursor: pointer;\n",
              "      display: none;\n",
              "      fill: #1967D2;\n",
              "      height: 32px;\n",
              "      padding: 0 0 0 0;\n",
              "      width: 32px;\n",
              "    }\n",
              "\n",
              "    .colab-df-convert:hover {\n",
              "      background-color: #E2EBFA;\n",
              "      box-shadow: 0px 1px 2px rgba(60, 64, 67, 0.3), 0px 1px 3px 1px rgba(60, 64, 67, 0.15);\n",
              "      fill: #174EA6;\n",
              "    }\n",
              "\n",
              "    [theme=dark] .colab-df-convert {\n",
              "      background-color: #3B4455;\n",
              "      fill: #D2E3FC;\n",
              "    }\n",
              "\n",
              "    [theme=dark] .colab-df-convert:hover {\n",
              "      background-color: #434B5C;\n",
              "      box-shadow: 0px 1px 3px 1px rgba(0, 0, 0, 0.15);\n",
              "      filter: drop-shadow(0px 1px 2px rgba(0, 0, 0, 0.3));\n",
              "      fill: #FFFFFF;\n",
              "    }\n",
              "  </style>\n",
              "\n",
              "      <script>\n",
              "        const buttonEl =\n",
              "          document.querySelector('#df-d1262452-e691-45ca-8d35-6252e4fb9197 button.colab-df-convert');\n",
              "        buttonEl.style.display =\n",
              "          google.colab.kernel.accessAllowed ? 'block' : 'none';\n",
              "\n",
              "        async function convertToInteractive(key) {\n",
              "          const element = document.querySelector('#df-d1262452-e691-45ca-8d35-6252e4fb9197');\n",
              "          const dataTable =\n",
              "            await google.colab.kernel.invokeFunction('convertToInteractive',\n",
              "                                                     [key], {});\n",
              "          if (!dataTable) return;\n",
              "\n",
              "          const docLinkHtml = 'Like what you see? Visit the ' +\n",
              "            '<a target=\"_blank\" href=https://colab.research.google.com/notebooks/data_table.ipynb>data table notebook</a>'\n",
              "            + ' to learn more about interactive tables.';\n",
              "          element.innerHTML = '';\n",
              "          dataTable['output_type'] = 'display_data';\n",
              "          await google.colab.output.renderOutput(dataTable, element);\n",
              "          const docLink = document.createElement('div');\n",
              "          docLink.innerHTML = docLinkHtml;\n",
              "          element.appendChild(docLink);\n",
              "        }\n",
              "      </script>\n",
              "    </div>\n",
              "  </div>\n",
              "  "
            ],
            "text/plain": [
              "   paragraph distance  ...  supported: type token ratio\n",
              "0                   0  ...                    86.956522\n",
              "1                   0  ...                    86.956522\n",
              "2                   0  ...                    86.956522\n",
              "3                   0  ...                   100.000000\n",
              "4                   0  ...                   100.000000\n",
              "\n",
              "[5 rows x 5 columns]"
            ]
          },
          "metadata": {},
          "execution_count": 48
        }
      ],
      "source": [
        "# Create dataframe of the feature extracted until now over the statistic of the \n",
        "# related sentences in the text and their distance in the text.\n",
        "\n",
        "sentence_stat_dataframe=pd.read_csv('relation_statistic.csv')\n",
        "\n",
        "temp_sentence_stat_dataframe=pd.read_csv('relation_remaining_stat.csv')\n",
        "\n",
        "sentence_stat_dataframe[\"supporting: type token ratio\"]=temp_sentence_stat_dataframe['supporting: type token ratio']\n",
        "sentence_stat_dataframe[\"supported: type token ratio\"]=temp_sentence_stat_dataframe['supported: type token ratio']\n",
        "\n",
        "sentence_stat_dataframe.head()"
      ]
    },
    {
      "cell_type": "code",
      "execution_count": null,
      "metadata": {
        "colab": {
          "base_uri": "https://localhost:8080/"
        },
        "id": "ulAZFoXiZAPC",
        "outputId": "782cf468-3d56-4f17-e496-4e882b3a30e2"
      },
      "outputs": [
        {
          "output_type": "execute_result",
          "data": {
            "text/plain": [
              "(6243, 5)"
            ]
          },
          "metadata": {},
          "execution_count": 49
        }
      ],
      "source": [
        "X_sentence_stat_dataframe=sentence_stat_dataframe.to_numpy()\n",
        "\n",
        "X_sentence_stat_dataframe.shape"
      ]
    },
    {
      "cell_type": "markdown",
      "metadata": {
        "id": "Um-eNw2yfO4w"
      },
      "source": [
        "# **Microtext Dataset**"
      ]
    },
    {
      "cell_type": "code",
      "execution_count": null,
      "metadata": {
        "id": "rq9YeH2LmrOs"
      },
      "outputs": [],
      "source": [
        "# Function to extract zip file.\n",
        "# Takes in input the path to the zip file (path_zip) and the one to store the destination directory (path_destination).\n",
        "\n",
        "def extract_zip(path_zip,path_destination):\n",
        "  with zipfile.ZipFile(path_zip, 'r') as zip_ref:\n",
        "    zip_ref.extractall(path_destination)"
      ]
    },
    {
      "cell_type": "code",
      "execution_count": null,
      "metadata": {
        "id": "AqHyoIBamyF3"
      },
      "outputs": [],
      "source": [
        "# Extract zip file.\n",
        "\n",
        "extract_zip('arg-microtexts-master.zip','arg-microtexts-master')"
      ]
    },
    {
      "cell_type": "markdown",
      "metadata": {
        "id": "Kw2e7LzofezK"
      },
      "source": [
        "## **Extract argumentative sections and their relations**"
      ]
    },
    {
      "cell_type": "code",
      "execution_count": null,
      "metadata": {
        "id": "7DevYxwAnSM5"
      },
      "outputs": [],
      "source": [
        "# Extract the list of xml files containing the argumentative sections in the \n",
        "# dataset and their relations.\n",
        "\n",
        "xml_files = sorted(glob.glob(\"arg-microtexts-master/arg-microtexts-master/corpus/en/micro_*.xml\"))"
      ]
    },
    {
      "cell_type": "code",
      "execution_count": null,
      "metadata": {
        "colab": {
          "base_uri": "https://localhost:8080/"
        },
        "id": "mtLsSo_ToNmb",
        "outputId": "23f5bd5e-f0a5-48f6-e1f6-63a213472d33"
      },
      "outputs": [
        {
          "output_type": "execute_result",
          "data": {
            "text/plain": [
              "['arg-microtexts-master/arg-microtexts-master/corpus/en/micro_b001.xml',\n",
              " 'arg-microtexts-master/arg-microtexts-master/corpus/en/micro_b002.xml',\n",
              " 'arg-microtexts-master/arg-microtexts-master/corpus/en/micro_b003.xml',\n",
              " 'arg-microtexts-master/arg-microtexts-master/corpus/en/micro_b004.xml',\n",
              " 'arg-microtexts-master/arg-microtexts-master/corpus/en/micro_b005.xml']"
            ]
          },
          "metadata": {},
          "execution_count": 53
        }
      ],
      "source": [
        "# List of xml files of the essays.\n",
        "xml_files[0:5]"
      ]
    },
    {
      "cell_type": "code",
      "execution_count": null,
      "metadata": {
        "id": "zzUf3TJ7ogEx"
      },
      "outputs": [],
      "source": [
        "# Transform each xml file into the xml tree representation.\n",
        "\n",
        "list_xml_tree_representation=[ET.parse(xml_file) for xml_file in xml_files]\n",
        "\n",
        "# Than extract from each tree its root.\n",
        "\n",
        "list_xml_root=[tree.getroot() for tree in list_xml_tree_representation]"
      ]
    },
    {
      "cell_type": "code",
      "execution_count": null,
      "metadata": {
        "id": "k3f-td1Epkrf"
      },
      "outputs": [],
      "source": [
        "# list_argumentative_sections will contain the lists, for each document in the\n",
        "# corpus, of its argumentative sections.\n",
        "list_argumentative_sections=[]\n",
        "# list_arg_section_id_in_document will contain the lists, for each document in\n",
        "# the corpus, of the id that identify the sections inside the document.\n",
        "list_arg_section_id_in_document=[]\n",
        "\n",
        "\n",
        "for root_id in range(len(list_xml_root)):\n",
        "  temp_list_argumentative_sections=[]\n",
        "  temp_list_arg_section_id_in_document=[]\n",
        "  new_temp_list_arg_section_id_in_document=[]\n",
        "  for child in list_xml_root[root_id]:\n",
        "    # The nodes tagged with 'edu' contains the text of the arg. section and an unique identifier in the document.\n",
        "    if child.tag=='edu':\n",
        "      temp_list_argumentative_sections.append(child.text)\n",
        "      temp_list_arg_section_id_in_document.append(child.get('id'))\n",
        "    # In the 'edge' nodes the original id of the sections (in src) are sobstitute with new ones (in trg).\n",
        "    if (child.tag=='edge'):\n",
        "      src=child.get('src')\n",
        "      trg=child.get('trg')\n",
        "      if src in temp_list_arg_section_id_in_document:\n",
        "        new_temp_list_arg_section_id_in_document.append(trg)\n",
        "\n",
        "  list_argumentative_sections.append(temp_list_argumentative_sections)\n",
        "  list_arg_section_id_in_document.append(new_temp_list_arg_section_id_in_document)"
      ]
    },
    {
      "cell_type": "code",
      "execution_count": null,
      "metadata": {
        "colab": {
          "base_uri": "https://localhost:8080/"
        },
        "id": "gpwZU57o1mG8",
        "outputId": "5a39cfb0-5ad3-4b1c-d5ae-ea5c7e9569c0"
      },
      "outputs": [
        {
          "output_type": "stream",
          "name": "stdout",
          "text": [
            "section a1 in document 0: Yes, it's annoying and cumbersome to separate your rubbish properly all the time.\n",
            "section a2 in document 0: Three different bin bags stink away in the kitchen and have to be sorted into different wheelie bins.\n",
            "section a3 in document 0: But still Germany produces way too much rubbish\n",
            "section a4 in document 0: and too many resources are lost when what actually should be separated and recycled is burnt.\n",
            "section a5 in document 0: We Berliners should take the chance and become pioneers in waste separation!\n"
          ]
        }
      ],
      "source": [
        "for i in range(len(list_argumentative_sections[0])):\n",
        "  print(\"section {} in document {}: {}\".format(list_arg_section_id_in_document[0][i],0,list_argumentative_sections[0][i]))"
      ]
    },
    {
      "cell_type": "markdown",
      "metadata": {
        "id": "vX6NxN8X5WHQ"
      },
      "source": [
        "## **Extract sentences**"
      ]
    },
    {
      "cell_type": "code",
      "execution_count": null,
      "metadata": {
        "id": "NOj56cDk5dvV"
      },
      "outputs": [],
      "source": [
        "# All the argumentative sections are contained in a single sentence.\n",
        "\n",
        "# Get the list of all the sentences.\n",
        "microtext_sentence_list=[]\n",
        "\n",
        "# Get the list of the document containing each sentence(one element per sentence).\n",
        "microtext_sentence_document=[]\n",
        "\n",
        "for i in range(len(list_argumentative_sections)):\n",
        "  sentence=\"\"\n",
        "  for j in range(len(list_argumentative_sections[i])):\n",
        "\n",
        "    sentence+=list_argumentative_sections[i][j]\n",
        "\n",
        "    # An argumentative section which ends a sentence has a '.' as last character.\n",
        "    if sentence[-1] in ['.','!','?']:\n",
        "      microtext_sentence_list.append(sentence)\n",
        "      # Add an id of the document in which the sentence appear in the correspondent list.\n",
        "      microtext_sentence_document.append(i)\n",
        "      sentence=\"\"\n",
        "\n",
        "  if not (sentence==\"\"):  \n",
        "    microtext_sentence_list.append(sentence)\n",
        "    # Add an id of the document in which the sentence appear in the correspondent list.\n",
        "    microtext_sentence_document.append(i)\n",
        "    sentence=\"\" "
      ]
    },
    {
      "cell_type": "code",
      "execution_count": null,
      "metadata": {
        "colab": {
          "base_uri": "https://localhost:8080/"
        },
        "id": "dbsz02upVZS8",
        "outputId": "1cdaea40-06e9-467a-8589-4c38016f8604"
      },
      "outputs": [
        {
          "output_type": "execute_result",
          "data": {
            "text/plain": [
              "[\"Yes, it's annoying and cumbersome to separate your rubbish properly all the time.\",\n",
              " 'Three different bin bags stink away in the kitchen and have to be sorted into different wheelie bins.',\n",
              " 'But still Germany produces way too much rubbishand too many resources are lost when what actually should be separated and recycled is burnt.',\n",
              " 'We Berliners should take the chance and become pioneers in waste separation!',\n",
              " 'One can hardly move in Friedrichshain or Neukölln these days without permanently scanning the ground for dog dirt.',\n",
              " \"And when bad luck does strike and you step into one of the many 'land mines' you have to painstakingly scrape the remains off your soles.\",\n",
              " 'Higher fines are therefore the right measure against negligent, lazy or simply thoughtless dog owners.',\n",
              " \"Of course, first they'd actually need to be caught in the act by public order officers,but once they have to dig into their pockets, their laziness will sure vanish!\",\n",
              " 'Health insurance companies should not cover treatment in complementary medicineunless the promised effect and its medical benefit have been concretely proven.',\n",
              " 'Yet this very proof is lacking in most cases.']"
            ]
          },
          "metadata": {},
          "execution_count": 58
        }
      ],
      "source": [
        "microtext_sentence_list[:10]"
      ]
    },
    {
      "cell_type": "code",
      "execution_count": null,
      "metadata": {
        "colab": {
          "base_uri": "https://localhost:8080/"
        },
        "id": "Om38xPbz_ocT",
        "outputId": "f701372a-ab91-4b5a-94cd-9561fac030d2"
      },
      "outputs": [
        {
          "output_type": "execute_result",
          "data": {
            "text/plain": [
              "450"
            ]
          },
          "metadata": {},
          "execution_count": 59
        }
      ],
      "source": [
        "len(microtext_sentence_list)"
      ]
    },
    {
      "cell_type": "markdown",
      "metadata": {
        "id": "am7Vk_E_gSKc"
      },
      "source": [
        "## **Select the sections to classify and the labels**"
      ]
    },
    {
      "cell_type": "code",
      "execution_count": null,
      "metadata": {
        "id": "DXljHjgRgSKd"
      },
      "outputs": [],
      "source": [
        "# Get the list of the words of each argumentative section that is part of a \n",
        "# relation.\n",
        "\n",
        "# List of the argumentative sections in the relations imported.\n",
        "X_microtext_supporting_section_list=[]\n",
        "X_microtext_supported_section_list=[]\n",
        "\n",
        "# List of the sentences before each argumentative sections in the relations imported.\n",
        "X_microtext_supporting_section_list_before=[]\n",
        "X_microtext_supported_section_list_before=[]\n",
        "\n",
        "# List of the sentences after each argumentative sections in the relations imported.\n",
        "X_microtext_supporting_section_list_after=[]\n",
        "X_microtext_supported_section_list_after=[]\n",
        "\n",
        "for relation in relation_microtext_dataset.itertuples():\n",
        "\n",
        "  supporting_sequence=relation.supporting_text\n",
        "  supported_sequence=relation.supported_text\n",
        "\n",
        "  supporting_sentence_id=relation.supporting_sentence_id\n",
        "  supported_sentence_id=relation.supported_sentence_id\n",
        "\n",
        "  # Concatenate the sentences before and atfer the ones that contain the argumentation\n",
        "  # separately.\n",
        "  supporting_sentence=microtext_sentence_list[supporting_sentence_id]\n",
        "\n",
        "  supported_sentence=microtext_sentence_list[supported_sentence_id] \n",
        "\n",
        "  # Get the parts of the sentence containing the argumentative section before\n",
        "  # and after the section.\n",
        "  supporting_before,supporting_after=supporting_sentence.split(supporting_sequence)\n",
        "  supported_before,supported_after=supported_sentence.split(supported_sequence)\n",
        "\n",
        "  # If the section it isn't in the first sentence of an essay attach to the\n",
        "  # already retrieved preciding section the entire sentence before the one \n",
        "  # containing the section.\n",
        "  if (supporting_sentence_id>0) and (microtext_sentence_document[supporting_sentence_id]==microtext_sentence_document[supporting_sentence_id-1]):\n",
        "    supporting_before=microtext_sentence_list[supporting_sentence_id-1]+\" \"+supporting_before\n",
        "\n",
        "  if (supported_sentence_id>0) and (microtext_sentence_document[supporting_sentence_id]==microtext_sentence_document[supporting_sentence_id-1]):\n",
        "    supported_before=microtext_sentence_list[supported_sentence_id-1]+\" \"+supported_before\n",
        "\n",
        "  # If the section it isn't in the last sentence of an essay attach to the\n",
        "  # already retrieved following section the entire sentence after the one \n",
        "  # containing the section. \n",
        "\n",
        "  if (supporting_sentence_id<len(microtext_sentence_list)-1) and (microtext_sentence_document[supporting_sentence_id]==microtext_sentence_document[supporting_sentence_id+1]):\n",
        "      supporting_after=supporting_after+\" \"+microtext_sentence_list[supporting_sentence_id+1]\n",
        "\n",
        "  if (supported_sentence_id<len(microtext_sentence_list)-1) and (microtext_sentence_document[supported_sentence_id]==microtext_sentence_document[supported_sentence_id+1]):\n",
        "      supported_after=supported_after+\" \"+microtext_sentence_list[supported_sentence_id+1]\n",
        "\n",
        "\n",
        "  # Divide the sections into token.\n",
        "  supporting_seq_word=nltk.word_tokenize(supporting_sequence.lower())\n",
        "  supported_seq_word=nltk.word_tokenize(supported_sequence.lower())\n",
        "\n",
        "  supporting=\"\"\n",
        "  supported=\"\"\n",
        "\n",
        "  for word in supporting_seq_word:\n",
        "    supporting+=word+\" \"\n",
        "\n",
        "  for word in supported_seq_word:\n",
        "    supported+=word+\" \"  \n",
        "\n",
        "  X_microtext_supporting_section_list.append(supporting)\n",
        "  X_microtext_supported_section_list.append(supported)\n",
        "\n",
        "  supporting_seq_word=nltk.word_tokenize(supporting_before.lower())\n",
        "  supported_seq_word=nltk.word_tokenize(supported_before.lower())\n",
        "\n",
        "  supporting_before=\"\"\n",
        "  supported_before=\"\"\n",
        "\n",
        "  for word in supporting_seq_word:\n",
        "    supporting_before+=word+\" \"\n",
        "\n",
        "  for word in supported_seq_word:\n",
        "    supported_before+=word+\" \" \n",
        "\n",
        "  X_microtext_supporting_section_list_before.append(supporting_before)\n",
        "  X_microtext_supported_section_list_before.append(supported_before)\n",
        "\n",
        "  supporting_seq_word=nltk.word_tokenize(supporting_after.lower())\n",
        "  supported_seq_word=nltk.word_tokenize(supported_after.lower())\n",
        "\n",
        "  supporting_after=\"\"\n",
        "  supported_after=\"\"\n",
        "\n",
        "  for word in supporting_seq_word:\n",
        "    supporting_after+=word+\" \"\n",
        "\n",
        "  for word in supported_seq_word:\n",
        "    supported_after+=word+\" \" \n",
        "\n",
        "  X_microtext_supporting_section_list_after.append(supporting_after)\n",
        "  X_microtext_supported_section_list_after.append(supported_after)"
      ]
    },
    {
      "cell_type": "code",
      "execution_count": null,
      "metadata": {
        "colab": {
          "base_uri": "https://localhost:8080/"
        },
        "id": "Izc_sw02gSKe",
        "outputId": "e94f1ef6-da60-4c76-cd40-9ded6c077231"
      },
      "outputs": [
        {
          "output_type": "execute_result",
          "data": {
            "text/plain": [
              "[\"yes , it 's annoying and cumbersome to separate your rubbish properly all the time . \",\n",
              " 'three different bin bags stink away in the kitchen and have to be sorted into different wheelie bins . ',\n",
              " 'one can hardly move in friedrichshain or neukölln these days without permanently scanning the ground for dog dirt . ',\n",
              " \"and when bad luck does strike and you step into one of the many 'land mines ' you have to painstakingly scrape the remains off your soles . \",\n",
              " \"of course , first they 'd actually need to be caught in the act by public order officers , \"]"
            ]
          },
          "metadata": {},
          "execution_count": 61
        }
      ],
      "source": [
        "X_microtext_supporting_section_list[:5]"
      ]
    },
    {
      "cell_type": "code",
      "execution_count": null,
      "metadata": {
        "colab": {
          "base_uri": "https://localhost:8080/"
        },
        "id": "syXNgwfcgSKe",
        "outputId": "b31e0fa6-9359-4925-a877-09b4530f6334"
      },
      "outputs": [
        {
          "output_type": "execute_result",
          "data": {
            "text/plain": [
              "['',\n",
              " \"yes , it 's annoying and cumbersome to separate your rubbish properly all the time . \",\n",
              " '',\n",
              " 'one can hardly move in friedrichshain or neukölln these days without permanently scanning the ground for dog dirt . ',\n",
              " 'higher fines are therefore the right measure against negligent , lazy or simply thoughtless dog owners . ']"
            ]
          },
          "metadata": {},
          "execution_count": 62
        }
      ],
      "source": [
        "X_microtext_supporting_section_list_before[:5]"
      ]
    },
    {
      "cell_type": "code",
      "execution_count": null,
      "metadata": {
        "colab": {
          "base_uri": "https://localhost:8080/"
        },
        "id": "eSMbbe12gSKe",
        "outputId": "f05f7958-8488-4095-bd6f-9584e6108e7e"
      },
      "outputs": [
        {
          "output_type": "execute_result",
          "data": {
            "text/plain": [
              "['three different bin bags stink away in the kitchen and have to be sorted into different wheelie bins . ',\n",
              " 'but still germany produces way too much rubbishand too many resources are lost when what actually should be separated and recycled is burnt . ',\n",
              " \"and when bad luck does strike and you step into one of the many 'land mines ' you have to painstakingly scrape the remains off your soles . \",\n",
              " 'higher fines are therefore the right measure against negligent , lazy or simply thoughtless dog owners . ',\n",
              " 'but once they have to dig into their pockets , their laziness will sure vanish ! ']"
            ]
          },
          "metadata": {},
          "execution_count": 63
        }
      ],
      "source": [
        "X_microtext_supporting_section_list_after[:5]"
      ]
    },
    {
      "cell_type": "code",
      "execution_count": null,
      "metadata": {
        "colab": {
          "base_uri": "https://localhost:8080/"
        },
        "id": "8kKz3Xp-gSKf",
        "outputId": "42560315-ecd1-4b32-dbd5-92b72150de9a"
      },
      "outputs": [
        {
          "output_type": "execute_result",
          "data": {
            "text/plain": [
              "['we berliners should take the chance and become pioneers in waste separation ! ',\n",
              " \"yes , it 's annoying and cumbersome to separate your rubbish properly all the time . \",\n",
              " 'higher fines are therefore the right measure against negligent , lazy or simply thoughtless dog owners . ',\n",
              " 'higher fines are therefore the right measure against negligent , lazy or simply thoughtless dog owners . ',\n",
              " 'higher fines are therefore the right measure against negligent , lazy or simply thoughtless dog owners . ']"
            ]
          },
          "metadata": {},
          "execution_count": 64
        }
      ],
      "source": [
        "X_microtext_supported_section_list[:5]"
      ]
    },
    {
      "cell_type": "code",
      "execution_count": null,
      "metadata": {
        "colab": {
          "base_uri": "https://localhost:8080/"
        },
        "id": "sg9qVf80gSKf",
        "outputId": "aa60b9d7-fb28-4272-f545-922eea8ad3a9"
      },
      "outputs": [
        {
          "output_type": "execute_result",
          "data": {
            "text/plain": [
              "['',\n",
              " '',\n",
              " '',\n",
              " \"and when bad luck does strike and you step into one of the many 'land mines ' you have to painstakingly scrape the remains off your soles . \",\n",
              " \"and when bad luck does strike and you step into one of the many 'land mines ' you have to painstakingly scrape the remains off your soles . \"]"
            ]
          },
          "metadata": {},
          "execution_count": 65
        }
      ],
      "source": [
        "X_microtext_supported_section_list_before[:5]"
      ]
    },
    {
      "cell_type": "code",
      "execution_count": null,
      "metadata": {
        "colab": {
          "base_uri": "https://localhost:8080/"
        },
        "id": "Gs17N_8VgSKf",
        "outputId": "a322c2f1-bf85-4426-f83b-f350771f1d0d"
      },
      "outputs": [
        {
          "output_type": "execute_result",
          "data": {
            "text/plain": [
              "['',\n",
              " 'three different bin bags stink away in the kitchen and have to be sorted into different wheelie bins . ',\n",
              " \"of course , first they 'd actually need to be caught in the act by public order officers , but once they have to dig into their pockets , their laziness will sure vanish ! \",\n",
              " \"of course , first they 'd actually need to be caught in the act by public order officers , but once they have to dig into their pockets , their laziness will sure vanish ! \",\n",
              " \"of course , first they 'd actually need to be caught in the act by public order officers , but once they have to dig into their pockets , their laziness will sure vanish ! \"]"
            ]
          },
          "metadata": {},
          "execution_count": 66
        }
      ],
      "source": [
        "X_microtext_supported_section_list_after[:5]"
      ]
    },
    {
      "cell_type": "code",
      "execution_count": null,
      "metadata": {
        "id": "H4PN2X9WgSKg"
      },
      "outputs": [],
      "source": [
        "X_microtext_supported_word_list_after=[nltk.word_tokenize(section) for section in X_microtext_supported_section_list_after]\n",
        "X_microtext_supporting_word_list_after=[nltk.word_tokenize(section) for section in X_microtext_supporting_section_list_after]\n",
        "X_microtext_supported_word_list_before=[nltk.word_tokenize(section) for section in X_microtext_supported_section_list_before]\n",
        "X_microtext_supporting_word_list_before=[nltk.word_tokenize(section) for section in X_microtext_supporting_section_list_before]\n",
        "X_microtext_supported_word_list=[nltk.word_tokenize(section) for section in X_microtext_supported_section_list]\n",
        "X_microtext_supporting_word_list=[nltk.word_tokenize(section) for section in X_microtext_supporting_section_list]"
      ]
    },
    {
      "cell_type": "code",
      "execution_count": null,
      "metadata": {
        "colab": {
          "base_uri": "https://localhost:8080/"
        },
        "id": "ADJqs1T7gSKg",
        "outputId": "714cabc6-ebcb-4518-e813-6dd5004768e5"
      },
      "outputs": [
        {
          "output_type": "execute_result",
          "data": {
            "text/plain": [
              "['attacks',\n",
              " 'supports',\n",
              " 'supports',\n",
              " 'supports',\n",
              " 'attacks',\n",
              " 'attacks',\n",
              " 'attacks',\n",
              " 'attacks',\n",
              " 'attacks',\n",
              " 'attacks']"
            ]
          },
          "metadata": {},
          "execution_count": 68
        }
      ],
      "source": [
        "Y_microtext_relation_type=relation_microtext_dataset[\"type\"].tolist()\n",
        "\n",
        "Y_microtext_relation_type[:10]"
      ]
    },
    {
      "cell_type": "code",
      "execution_count": null,
      "metadata": {
        "colab": {
          "base_uri": "https://localhost:8080/"
        },
        "id": "7zbnWxSigSKh",
        "outputId": "1b6b8a15-c35b-4e11-a67c-88ccef439d2f"
      },
      "outputs": [
        {
          "output_type": "execute_result",
          "data": {
            "text/plain": [
              "[2, 1, 1, 1, 2, 2, 2, 2, 2, 2]"
            ]
          },
          "metadata": {},
          "execution_count": 69
        }
      ],
      "source": [
        "Y_microtext_relation_type_temp=[]\n",
        "\n",
        "for rel in Y_microtext_relation_type:\n",
        "  if rel==\"supports\":\n",
        "    Y_microtext_relation_type_temp.append(1)\n",
        "  else:\n",
        "    if rel==\"None\":\n",
        "      Y_microtext_relation_type_temp.append(0)\n",
        "    else:\n",
        "      Y_microtext_relation_type_temp.append(2)\n",
        "\n",
        "Y_microtext_relation_type=Y_microtext_relation_type_temp\n",
        "\n",
        "Y_microtext_relation_type[:10]"
      ]
    },
    {
      "cell_type": "code",
      "execution_count": null,
      "metadata": {
        "id": "fhxUG_NdiQXO"
      },
      "outputs": [],
      "source": [
        "Y_relation_type=Y_relation_type+Y_microtext_relation_type"
      ]
    },
    {
      "cell_type": "markdown",
      "metadata": {
        "id": "jNSWzqAZfDXY"
      },
      "source": [
        "## **Import sentences' statistic**"
      ]
    },
    {
      "cell_type": "code",
      "execution_count": null,
      "metadata": {
        "colab": {
          "base_uri": "https://localhost:8080/"
        },
        "id": "xRjCVLO-fDXY",
        "outputId": "c135b965-2093-446a-9a52-cfaabf734814"
      },
      "outputs": [
        {
          "output_type": "execute_result",
          "data": {
            "text/html": [
              "\n",
              "  <div id=\"df-6a7fc207-791c-4a80-ba6f-d6b4f5a6e8c5\">\n",
              "    <div class=\"colab-df-container\">\n",
              "      <div>\n",
              "<style scoped>\n",
              "    .dataframe tbody tr th:only-of-type {\n",
              "        vertical-align: middle;\n",
              "    }\n",
              "\n",
              "    .dataframe tbody tr th {\n",
              "        vertical-align: top;\n",
              "    }\n",
              "\n",
              "    .dataframe thead th {\n",
              "        text-align: right;\n",
              "    }\n",
              "</style>\n",
              "<table border=\"1\" class=\"dataframe\">\n",
              "  <thead>\n",
              "    <tr style=\"text-align: right;\">\n",
              "      <th></th>\n",
              "      <th>paragraph distance</th>\n",
              "      <th>position_in_essay_distance</th>\n",
              "      <th>length_sentence</th>\n",
              "      <th>supporting: type token ratio</th>\n",
              "      <th>supported: type token ratio</th>\n",
              "    </tr>\n",
              "  </thead>\n",
              "  <tbody>\n",
              "    <tr>\n",
              "      <th>0</th>\n",
              "      <td>0</td>\n",
              "      <td>3.0</td>\n",
              "      <td>0.857143</td>\n",
              "      <td>100.000000</td>\n",
              "      <td>100.0</td>\n",
              "    </tr>\n",
              "    <tr>\n",
              "      <th>1</th>\n",
              "      <td>0</td>\n",
              "      <td>-1.0</td>\n",
              "      <td>0.777778</td>\n",
              "      <td>94.736842</td>\n",
              "      <td>100.0</td>\n",
              "    </tr>\n",
              "    <tr>\n",
              "      <th>2</th>\n",
              "      <td>0</td>\n",
              "      <td>2.0</td>\n",
              "      <td>0.833333</td>\n",
              "      <td>100.000000</td>\n",
              "      <td>100.0</td>\n",
              "    </tr>\n",
              "    <tr>\n",
              "      <th>3</th>\n",
              "      <td>0</td>\n",
              "      <td>1.0</td>\n",
              "      <td>0.576923</td>\n",
              "      <td>92.857143</td>\n",
              "      <td>100.0</td>\n",
              "    </tr>\n",
              "    <tr>\n",
              "      <th>4</th>\n",
              "      <td>0</td>\n",
              "      <td>-1.0</td>\n",
              "      <td>0.483871</td>\n",
              "      <td>85.714286</td>\n",
              "      <td>100.0</td>\n",
              "    </tr>\n",
              "  </tbody>\n",
              "</table>\n",
              "</div>\n",
              "      <button class=\"colab-df-convert\" onclick=\"convertToInteractive('df-6a7fc207-791c-4a80-ba6f-d6b4f5a6e8c5')\"\n",
              "              title=\"Convert this dataframe to an interactive table.\"\n",
              "              style=\"display:none;\">\n",
              "        \n",
              "  <svg xmlns=\"http://www.w3.org/2000/svg\" height=\"24px\"viewBox=\"0 0 24 24\"\n",
              "       width=\"24px\">\n",
              "    <path d=\"M0 0h24v24H0V0z\" fill=\"none\"/>\n",
              "    <path d=\"M18.56 5.44l.94 2.06.94-2.06 2.06-.94-2.06-.94-.94-2.06-.94 2.06-2.06.94zm-11 1L8.5 8.5l.94-2.06 2.06-.94-2.06-.94L8.5 2.5l-.94 2.06-2.06.94zm10 10l.94 2.06.94-2.06 2.06-.94-2.06-.94-.94-2.06-.94 2.06-2.06.94z\"/><path d=\"M17.41 7.96l-1.37-1.37c-.4-.4-.92-.59-1.43-.59-.52 0-1.04.2-1.43.59L10.3 9.45l-7.72 7.72c-.78.78-.78 2.05 0 2.83L4 21.41c.39.39.9.59 1.41.59.51 0 1.02-.2 1.41-.59l7.78-7.78 2.81-2.81c.8-.78.8-2.07 0-2.86zM5.41 20L4 18.59l7.72-7.72 1.47 1.35L5.41 20z\"/>\n",
              "  </svg>\n",
              "      </button>\n",
              "      \n",
              "  <style>\n",
              "    .colab-df-container {\n",
              "      display:flex;\n",
              "      flex-wrap:wrap;\n",
              "      gap: 12px;\n",
              "    }\n",
              "\n",
              "    .colab-df-convert {\n",
              "      background-color: #E8F0FE;\n",
              "      border: none;\n",
              "      border-radius: 50%;\n",
              "      cursor: pointer;\n",
              "      display: none;\n",
              "      fill: #1967D2;\n",
              "      height: 32px;\n",
              "      padding: 0 0 0 0;\n",
              "      width: 32px;\n",
              "    }\n",
              "\n",
              "    .colab-df-convert:hover {\n",
              "      background-color: #E2EBFA;\n",
              "      box-shadow: 0px 1px 2px rgba(60, 64, 67, 0.3), 0px 1px 3px 1px rgba(60, 64, 67, 0.15);\n",
              "      fill: #174EA6;\n",
              "    }\n",
              "\n",
              "    [theme=dark] .colab-df-convert {\n",
              "      background-color: #3B4455;\n",
              "      fill: #D2E3FC;\n",
              "    }\n",
              "\n",
              "    [theme=dark] .colab-df-convert:hover {\n",
              "      background-color: #434B5C;\n",
              "      box-shadow: 0px 1px 3px 1px rgba(0, 0, 0, 0.15);\n",
              "      filter: drop-shadow(0px 1px 2px rgba(0, 0, 0, 0.3));\n",
              "      fill: #FFFFFF;\n",
              "    }\n",
              "  </style>\n",
              "\n",
              "      <script>\n",
              "        const buttonEl =\n",
              "          document.querySelector('#df-6a7fc207-791c-4a80-ba6f-d6b4f5a6e8c5 button.colab-df-convert');\n",
              "        buttonEl.style.display =\n",
              "          google.colab.kernel.accessAllowed ? 'block' : 'none';\n",
              "\n",
              "        async function convertToInteractive(key) {\n",
              "          const element = document.querySelector('#df-6a7fc207-791c-4a80-ba6f-d6b4f5a6e8c5');\n",
              "          const dataTable =\n",
              "            await google.colab.kernel.invokeFunction('convertToInteractive',\n",
              "                                                     [key], {});\n",
              "          if (!dataTable) return;\n",
              "\n",
              "          const docLinkHtml = 'Like what you see? Visit the ' +\n",
              "            '<a target=\"_blank\" href=https://colab.research.google.com/notebooks/data_table.ipynb>data table notebook</a>'\n",
              "            + ' to learn more about interactive tables.';\n",
              "          element.innerHTML = '';\n",
              "          dataTable['output_type'] = 'display_data';\n",
              "          await google.colab.output.renderOutput(dataTable, element);\n",
              "          const docLink = document.createElement('div');\n",
              "          docLink.innerHTML = docLinkHtml;\n",
              "          element.appendChild(docLink);\n",
              "        }\n",
              "      </script>\n",
              "    </div>\n",
              "  </div>\n",
              "  "
            ],
            "text/plain": [
              "   paragraph distance  ...  supported: type token ratio\n",
              "0                   0  ...                        100.0\n",
              "1                   0  ...                        100.0\n",
              "2                   0  ...                        100.0\n",
              "3                   0  ...                        100.0\n",
              "4                   0  ...                        100.0\n",
              "\n",
              "[5 rows x 5 columns]"
            ]
          },
          "metadata": {},
          "execution_count": 71
        }
      ],
      "source": [
        "# Create dataframe of the feature extracted until now over the statistic of the \n",
        "# related sentences in the text and their distance in the text.\n",
        "\n",
        "microtext_sentence_stat_dataframe=pd.read_csv('microtext_relation_statistic.csv')\n",
        "temp_microtext_sentence_stat_dataframe=pd.read_csv('microtext_relation_remaining_stat.csv')\n",
        "\n",
        "microtext_sentence_stat_dataframe[\"supporting: type token ratio\"]=temp_microtext_sentence_stat_dataframe['supporting: type token ratio']\n",
        "microtext_sentence_stat_dataframe[\"supported: type token ratio\"]=temp_microtext_sentence_stat_dataframe['supported: type token ratio']\n",
        "\n",
        "microtext_sentence_stat_dataframe.head()"
      ]
    },
    {
      "cell_type": "code",
      "execution_count": null,
      "metadata": {
        "colab": {
          "base_uri": "https://localhost:8080/"
        },
        "id": "aZkTTz6cfDXY",
        "outputId": "32147a6c-1d77-45c6-8982-8d897bc191ff"
      },
      "outputs": [
        {
          "output_type": "execute_result",
          "data": {
            "text/plain": [
              "(6614, 5)"
            ]
          },
          "metadata": {},
          "execution_count": 72
        }
      ],
      "source": [
        "X_sentence_stat_dataframe=np.concatenate((X_sentence_stat_dataframe,microtext_sentence_stat_dataframe.to_numpy()), axis=0)\n",
        "\n",
        "X_sentence_stat_dataframe.shape"
      ]
    },
    {
      "cell_type": "markdown",
      "metadata": {
        "id": "roYver9XG2EM"
      },
      "source": [
        "# **Word2vec and one-hot-encoding**"
      ]
    },
    {
      "cell_type": "code",
      "execution_count": null,
      "metadata": {
        "colab": {
          "base_uri": "https://localhost:8080/"
        },
        "id": "Y-0mZxPrPngr",
        "outputId": "ab156e60-4340-4609-d379-899aee5b603c"
      },
      "outputs": [
        {
          "output_type": "stream",
          "name": "stdout",
          "text": [
            "[==================================================] 100.0% 1662.8/1662.8MB downloaded\n",
            "/root/gensim-data/word2vec-google-news-300/word2vec-google-news-300.gz\n"
          ]
        }
      ],
      "source": [
        "import gensim\n",
        "import gensim.downloader as api\n",
        "\n",
        "path = api.load(\"word2vec-google-news-300\", return_path=True)\n",
        "print(path)"
      ]
    },
    {
      "cell_type": "code",
      "execution_count": null,
      "metadata": {
        "id": "tQDehuUEG0He"
      },
      "outputs": [],
      "source": [
        "# Load Google Word2Vec model\n",
        "word2vec_model = gensim.models.KeyedVectors.load_word2vec_format(path, binary=True)  "
      ]
    },
    {
      "cell_type": "code",
      "execution_count": null,
      "metadata": {
        "colab": {
          "base_uri": "https://localhost:8080/"
        },
        "id": "CMyLPxJecM0r",
        "outputId": "87eb5f9f-fb35-47d3-a136-bd914e44f133"
      },
      "outputs": [
        {
          "output_type": "stream",
          "name": "stdout",
          "text": [
            "Max lenght of the supporting argumentative sections: 72\n",
            "Max lenght of the supporting argumentative sections: 50\n",
            "Max lenght of the supporting argumentative sections: 72\n",
            "Max lenght of the supporting argumentative sections: 50\n",
            "Max lenght of the supporting argumentative sections: 72\n",
            "Max lenght of the supporting argumentative sections: 50\n"
          ]
        }
      ],
      "source": [
        "# Get the maximum lenght of the argumentative sections of the essays.\n",
        "\n",
        "text_len = [len(text) for text in X_supporting_word_list+X_microtext_supporting_word_list]\n",
        "MAX_LEN_SUPPORTING = max(text_len)\n",
        "print(\"Max lenght of the supporting argumentative sections: {}\".format(MAX_LEN_SUPPORTING))\n",
        "\n",
        "text_len = [len(text) for text in X_supported_word_list+X_microtext_supported_word_list]\n",
        "MAX_LEN_SUPPORTED = max(text_len)\n",
        "print(\"Max lenght of the supporting argumentative sections: {}\".format(MAX_LEN_SUPPORTED))\n",
        "\n",
        "text_len = [len(text) for text in X_supporting_word_list+X_microtext_supporting_word_list]\n",
        "MAX_LEN_SUPPORTING_BEFORE = max(text_len)\n",
        "print(\"Max lenght of the supporting argumentative sections: {}\".format(MAX_LEN_SUPPORTING_BEFORE))\n",
        "\n",
        "text_len = [len(text) for text in X_supported_word_list+X_microtext_supported_word_list]\n",
        "MAX_LEN_SUPPORTED_BEFORE = max(text_len)\n",
        "print(\"Max lenght of the supporting argumentative sections: {}\".format(MAX_LEN_SUPPORTED_BEFORE))\n",
        "\n",
        "text_len = [len(text) for text in X_supporting_word_list+X_microtext_supporting_word_list]\n",
        "MAX_LEN_SUPPORTING_AFTER = max(text_len)\n",
        "print(\"Max lenght of the supporting argumentative sections: {}\".format(MAX_LEN_SUPPORTING_AFTER))\n",
        "\n",
        "text_len = [len(text) for text in X_supported_word_list+X_microtext_supported_word_list]\n",
        "MAX_LEN_SUPPORTED_AFTER = max(text_len)\n",
        "print(\"Max lenght of the supporting argumentative sections: {}\".format(MAX_LEN_SUPPORTED_AFTER))"
      ]
    },
    {
      "cell_type": "code",
      "execution_count": null,
      "metadata": {
        "id": "KljJ3ZlgbhyZ"
      },
      "outputs": [],
      "source": [
        "text_tokenizer_supporting = Tokenizer()\n",
        "text_tokenizer_supporting.fit_on_texts(X_supporting_word_list+X_microtext_supporting_word_list)\n",
        "X_supporting = text_tokenizer_supporting.texts_to_sequences(X_supporting_word_list+X_microtext_supporting_word_list)\n",
        "X_supporting = pad_sequences(X_supporting, maxlen=MAX_LEN_SUPPORTING, padding=\"pre\")\n",
        "\n",
        "text_tokenizer_supported = Tokenizer()\n",
        "text_tokenizer_supported.fit_on_texts(X_supported_word_list+X_microtext_supported_word_list)\n",
        "X_supported = text_tokenizer_supported.texts_to_sequences(X_supported_word_list+X_microtext_supported_word_list)\n",
        "X_supported = pad_sequences(X_supported, maxlen=MAX_LEN_SUPPORTED, padding=\"pre\")\n",
        "\n",
        "text_tokenizer_supporting_before = Tokenizer()\n",
        "text_tokenizer_supporting_before.fit_on_texts(X_supporting_word_list_before+X_microtext_supporting_word_list_before)\n",
        "X_supporting_before = text_tokenizer_supporting_before.texts_to_sequences(X_supporting_word_list_before+X_microtext_supporting_word_list_before)\n",
        "X_supporting_before = pad_sequences(X_supporting_before, maxlen=MAX_LEN_SUPPORTING_BEFORE, padding=\"pre\")\n",
        "\n",
        "text_tokenizer_supported_before = Tokenizer()\n",
        "text_tokenizer_supported_before.fit_on_texts(X_supported_word_list_before+X_microtext_supported_word_list_before)\n",
        "X_supported_before = text_tokenizer_supported_before.texts_to_sequences(X_supported_word_list_before+X_microtext_supported_word_list_before)\n",
        "X_supported_before = pad_sequences(X_supported_before, maxlen=MAX_LEN_SUPPORTED_BEFORE, padding=\"pre\")\n",
        "\n",
        "text_tokenizer_supporting_after = Tokenizer()\n",
        "text_tokenizer_supporting_after.fit_on_texts(X_supporting_word_list_after+X_microtext_supporting_word_list_after)\n",
        "X_supporting_after = text_tokenizer_supporting_after.texts_to_sequences(X_supporting_word_list_after+X_microtext_supporting_word_list_after)\n",
        "X_supporting_after = pad_sequences(X_supporting_after, maxlen=MAX_LEN_SUPPORTING_AFTER, padding=\"pre\")\n",
        "\n",
        "text_tokenizer_supported_after = Tokenizer()\n",
        "text_tokenizer_supported_after.fit_on_texts(X_supported_word_list_after+X_microtext_supported_word_list_after)\n",
        "X_supported_after = text_tokenizer_supported_after.texts_to_sequences(X_supported_word_list_after+X_microtext_supported_word_list_after)\n",
        "X_supported_after = pad_sequences(X_supported_after, maxlen=MAX_LEN_SUPPORTED_AFTER, padding=\"pre\")"
      ]
    },
    {
      "cell_type": "code",
      "execution_count": null,
      "metadata": {
        "colab": {
          "base_uri": "https://localhost:8080/"
        },
        "id": "1-BY4Z4khofK",
        "outputId": "f8c3d87a-c17b-4cd3-cc40-1060e50f0842"
      },
      "outputs": [
        {
          "output_type": "stream",
          "name": "stdout",
          "text": [
            "to\n",
            ",\n",
            "and\n",
            "of\n",
            "a\n",
            "'s\n",
            ".\n",
            "'\n",
            ";\n",
            "’\n",
            "``\n",
            "''\n",
            "part-time\n",
            "(\n",
            ")\n",
            ":\n",
            "his/her\n",
            "-\n",
            "15\n",
            "face-to-face\n",
            "co-worker\n",
            "e-mail\n",
            "high-tech\n",
            "toefl\n",
            "“\n",
            "co-operative\n",
            "penalty-kick\n",
            "dish-washing\n",
            "!\n",
            "centre\n",
            "well-being\n",
            "learnt\n",
            "30\n",
            "long-time\n",
            "travelling\n",
            "40\n",
            "multiple-choice\n",
            "20\n",
            "non-environmentally\n",
            "he/she\n",
            "?\n",
            "morning-after\n",
            "co-tenant\n",
            "10\n",
            "2008\n",
            "co-operation\n",
            "state-of-the-art\n",
            "–\n",
            "well-rounded\n",
            "well-trained\n",
            "--\n",
            "labelled\n",
            "100\n",
            "off-campus\n",
            "comities\n",
            "behaviour\n",
            "environmentally-friendly\n",
            "well-paid\n",
            "devoiding\n",
            "white-collar\n",
            "team-working\n",
            "artcrafts\n",
            "e-learning\n",
            "re-plays\n",
            "self-independence\n",
            "short-sighted\n",
            "indira\n",
            "89\n",
            "cutting-edge\n",
            "archuleta\n",
            "high-quality\n",
            "2003\n",
            "test-takers\n",
            "ibt\n",
            "face-to\n",
            "clear-cut\n",
            "'halo\n",
            "cutting-edged\n",
            "group-studying\n",
            "non-renewable\n",
            "un-recyclable\n",
            "co-workers\n",
            "politian\n",
            "indonesians\n",
            "4:00\n",
            "twenty-four\n",
            "20th\n",
            "sugesstions\n",
            "foxconn\n",
            "self-control\n",
            "theoritical\n",
            "top-level\n",
            "to-do\n",
            "trivials\n",
            "high-ranking\n",
            "burn-out\n",
            "justing\n",
            "british-ruled\n",
            "behaviours\n",
            "mncs\n",
            "tradition-related\n",
            "defence\n",
            "programmes\n",
            "non-globalized\n",
            "”\n",
            "‘\n",
            "ivory-tower\n",
            "one-third\n",
            "gorvernment\n",
            "1960\n",
            "falseful\n",
            "2010\n",
            "enthuasism\n",
            "garther\n",
            "occupation-related\n",
            "short-time\n",
            "michaelangelo\n",
            "picasso\n",
            "rushdie\n",
            "bangladeshi\n",
            "taslima\n",
            "nasrin\n",
            "zappa\n",
            "self-defense\n",
            "co-education\n",
            "recognise\n",
            "brain-washed\n",
            "sudanese\n",
            "poverty-stricken\n",
            "baby-born\n",
            "criticise\n",
            "seagames\n",
            "19\n",
            "e-books\n",
            "brunei\n",
            "so-called\n",
            "organisation\n",
            "high-end\n",
            "acquaintant\n",
            "well-regulated\n",
            "feature-computer\n",
            "distance-learning\n",
            "would-be\n",
            "millan\n",
            "show-off\n",
            "a+\n",
            "well-preparation\n",
            "state-of-art\n",
            "up-to-date\n",
            "in-born\n",
            "animlas\n",
            "170\n",
            "consumer-oriented\n",
            "longer-than-usual\n",
            "full-length\n",
            "1969\n",
            "apperant\n",
            "entertainmening\n",
            "long-lasting\n",
            "of-course\n",
            "in-touch\n",
            "insemenation\n",
            "same-old-same-old\n",
            "99\n",
            "16\n",
            "video-games\n",
            "him/her\n",
            "self-confidence\n",
            "brain-storming\n",
            "art-imagination\n",
            "fifty-fifty\n",
            "commuincation\n",
            "fast-food\n",
            "esy\n",
            "instend\n",
            "subordinaries\n",
            "prerequisit\n",
            "patiant\n",
            "theatre\n",
            "exerice\n",
            "2050\n",
            "self-employed\n",
            "25\n",
            "one-way\n",
            "over-time\n",
            "actor/actress\n",
            "sunsilk\n",
            "pieter\n",
            "oramaki\n",
            "self-made\n",
            "gujarati\n",
            "burstling\n",
            "overly-teemed\n",
            "country-\n",
            "khmer\n",
            "cutures\n",
            "tosix\n",
            "offence\n",
            "licence\n",
            "tegel\n",
            "programme\n",
            "63\n",
            "inner-city\n",
            "ex-girlfriend\n",
            "cambodia\n",
            "angkowat\n",
            "under-age\n",
            "himself/herself\n",
            "well-established\n",
            "self-centered\n",
            "payements\n",
            "eight-hour\n",
            "non-stop\n",
            "labour\n",
            "50\n",
            "75\n",
            "hands-on\n",
            "irak\n",
            "footballworld\n",
            "organised\n",
            "hydro-kinetic\n",
            "interest-free\n",
            "online-courses\n",
            "top-of-the-range\n",
            "online-teaching\n",
            "target-oriented\n",
            "lesser-known\n",
            "'your\n",
            "judgement\n",
            "seventeen-year-old\n",
            "macro-economic\n",
            "speed-up\n",
            "rush-hours\n",
            "eco-system\n",
            "eco-friendly\n",
            "non-human\n",
            "michallengo\n",
            "criticises\n",
            "memorising\n",
            "onlines\n",
            "worthlessly\n",
            "mohammedanism\n",
            "minh\n",
            "bone-by-bone\n",
            "17th\n",
            "multi-aspect\n",
            "test-wise\n",
            "must-haves\n",
            "trumm\n",
            "'teachers\n",
            "group'-\n",
            "'this\n",
            "non-verbal\n",
            "pressurising\n",
            "vapour\n",
            "2030\n",
            "she/he\n",
            "corporational\n",
            "labours\n",
            "mediabank\n",
            "organisations\n",
            "crimea\n",
            "far-off\n",
            "poverty-line\n",
            "kochhar\n",
            "icici\n",
            "'social\n",
            "'low\n",
            "osetia\n",
            "gossip-based\n",
            "salt-panic\n",
            "90-minute-games\n",
            "dioxid\n",
            "yandex\n",
            "enrolment\n",
            "three-dimensional\n",
            "24\n",
            "vairtey\n",
            "fast-paced\n",
            "non-profit\n",
            "40,000\n",
            "long-term\n",
            "beneficed\n",
            "palme\n",
            "swimpool\n",
            "main-stream\n",
            "second-hand\n",
            "well-prepared\n",
            "wdtv\n",
            "85\n",
            "self-finance\n",
            "mphils\n",
            "phds\n",
            "mr.\n",
            "tussaud\n",
            "well-organised\n",
            "high-paying\n",
            "obessed\n",
            "cancelled\n",
            "infinete\n",
            "life-long\n",
            "home-earth\n",
            "man/woman\n",
            "straight-forward\n",
            "company-\n",
            "apple-\n",
            "euopren\n",
            "destiny-beethoven\n",
            "21st\n",
            "commuincating\n",
            "low-level\n",
            "self-study\n",
            "university-level\n",
            "theorically\n",
            "i.e\n",
            "80\n",
            "on-online\n",
            "90\n",
            "on-line\n",
            "self-improvement\n",
            "time-consuming\n",
            "sales-man\n",
            "sub-continent\n",
            "month-long\n",
            "dramaticly\n",
            "acknowledgement\n",
            "high-salary\n",
            "14\n",
            "10000\n",
            "several-these\n",
            "longer-term\n",
            "univesity\n",
            "asistans\n",
            "tete-a-tete\n",
            "whatsapp\n",
            "centeries\n",
            "weichat\n",
            "well-known\n",
            "favourite\n",
            "370\n",
            "work-place\n",
            "open-minded\n",
            "out-performance\n",
            "old-fashioned\n",
            "fundermentaly\n",
            "tradtions\n",
            "non-fuel-based\n",
            "1980\n",
            "blossmed\n",
            "environment-friendly\n",
            "irrisistible\n",
            "viber\n",
            "heart-related\n",
            "antioxydant\n",
            "globalisation\n",
            "ever-increasing\n",
            "huntings\n",
            "distinction-driven\n",
            "over-fried\n",
            "health-care\n",
            "reseachs\n",
            "everywhre\n",
            "air-conditioners\n",
            "well-qualified\n",
            "well-educated\n",
            "non-abiding\n",
            "self-sufficient\n",
            "well-informed\n",
            "exposured\n",
            "k-pop\n",
            "labourous\n",
            "highly-productive\n",
            "old-physical\n",
            "restorated\n",
            "well-behaved\n",
            "team-player\n",
            "friedrichshain\n",
            "neukölln\n",
            "'land\n",
            "licencing\n",
            "musikantenstadl\n",
            "snowden\n",
            "ground-focused\n",
            "'morning-after\n",
            "'doctor\n",
            "counselling\n",
            "120\n",
            "'life\n",
            "3-10\n",
            "funding-wise\n",
            "brand-name\n",
            "self-development\n",
            "and/or\n",
            "off-times\n",
            "tempelhofer\n",
            "'leisure\n",
            "private/personal\n",
            "metres\n",
            "favour\n",
            "owner-run\n",
            "laid-back\n",
            "anti-virus\n",
            "x-diaries\n",
            "ralf\n",
            "sceptical\n",
            "resource-intensive\n",
            "schweinsteiger\n",
            "jack-knifes\n",
            "jochen\n",
            "tatort\n",
            "tagesthemen\n",
            "non-academics\n",
            "re-letting\n",
            "€100\n",
            "€200\n",
            "centres\n",
            "drawn-out\n",
            "'never\n",
            "profit-oriented\n",
            "'an\n",
            "re-introduction\n",
            "'property\n",
            "neighbourhoods\n",
            "10pm\n",
            "bag-dispensers\n",
            "'living\n",
            "walk-in\n",
            "over-the-counter\n",
            "dirt-free\n",
            "to\n",
            ",\n",
            "of\n",
            "and\n",
            "a\n",
            "'s\n",
            ".\n",
            "'\n",
            "’\n",
            "e-mail\n",
            ";\n",
            "``\n",
            "co-workers\n",
            "face-to-face\n",
            "''\n",
            "-\n",
            "centre\n",
            "63\n",
            ":\n",
            "part-time\n",
            "centres\n",
            "(\n",
            ")\n",
            "learnt\n",
            "morning-after\n",
            "co-operation\n",
            "penalty-kick\n",
            "fulfil\n",
            "licence\n",
            "high-tech\n",
            "long-term\n",
            "15\n",
            "group-studying\n",
            "co-worker\n",
            "him/herself\n",
            "industry-related\n",
            "his/her\n",
            "well-known\n",
            "long-time\n",
            "co-operative\n",
            "over-dependent\n",
            "cctvs\n",
            "labour\n",
            "'a\n",
            "football/basketball\n",
            "over-the-counter\n",
            "time-consuming\n",
            "self-improvement\n",
            "programmes\n",
            "30\n",
            "sales-man\n",
            "hard-work\n",
            "!\n",
            "tempelhofer\n",
            "tegel\n",
            "co-tenant\n",
            "10\n",
            "behaviour\n",
            "favour\n",
            "in-depth\n",
            "well-trained\n",
            "acquaintant\n",
            "unicq\n",
            "50\n",
            "75\n",
            "short-sighted\n",
            "video-game\n",
            "work-related\n",
            "research-friendly\n",
            "dish-washing\n",
            "notorous\n",
            "zdf\n",
            "non-medical\n",
            "non-tangible\n",
            "close-downs\n",
            "opprotunities\n",
            "profit-oriented\n",
            "judgement\n",
            "eco-friendly\n",
            "win-win\n",
            "'dug\n",
            "responsibl\n",
            "high-quality\n",
            "fifty-five\n",
            "face-to\n",
            "'social\n",
            "'low\n",
            "20\n",
            "a+\n",
            "socialization-\n",
            "up-to-date\n",
            "him/her\n",
            "he/she\n",
            "problem-solving\n",
            "man/woman\n",
            "company-\n",
            "apple-\n",
            "state-of-the-art\n",
            "hard-working\n",
            "extra-curriculum\n",
            "non-smoking\n",
            "pre-empt\n",
            "atmoshphere\n",
            "fatherood\n",
            "65\n",
            "re-introduce\n",
            "anti-virus\n",
            "re-conceptualized\n",
            "easy-to-cook\n",
            "2008\n",
            "distance-learning\n",
            "teacher-student\n",
            "well-equipped\n",
            "less-used\n",
            "“\n",
            "self-awareness\n",
            "poverty-stricken\n",
            "worthlessly\n",
            "all-round\n",
            "toefl\n",
            "long-distance\n",
            "clear-cut\n",
            "well-preparation\n",
            "state-of-art\n",
            "living-level\n",
            "non-native\n",
            "step-by-step\n",
            "co-citizens\n",
            "non-renewable\n",
            "non-environmentally\n",
            "main-stream\n",
            "second-hand\n",
            "long-lasting\n",
            "of-course\n",
            "85\n",
            "now-a-days\n",
            "high-paying\n",
            "low-level\n",
            "university-level\n",
            "i.e\n",
            "on-line\n",
            "acknowledgement\n",
            "14\n",
            "10000\n",
            "justing\n",
            "longer-term\n",
            "weichat\n",
            "communicatio\n",
            "tradition-related\n",
            "20th\n",
            "self-made\n",
            "comfot\n",
            "demines\n",
            "glamour\n",
            "law-aiding\n",
            "120\n",
            "tv/radio\n",
            "citizens/households\n",
            "travellers\n",
            "counselling\n",
            "programme\n",
            "tokio\n",
            "ralf\n",
            "merkel\n",
            "cambodia\n",
            "angkowat\n",
            "self-centered\n",
            "payements\n",
            "well-organized\n",
            "falseful\n",
            "hands-on\n",
            "interest-free\n",
            "bangladeshi\n",
            "taslima\n",
            "nasrin\n",
            "zappa\n",
            "michaelangelo\n",
            "picasso\n",
            "rushdie\n",
            "'your\n",
            "self-defense\n",
            "indira\n",
            "colourful\n",
            "macro-economic\n",
            "baby-born\n",
            "criticise\n",
            "brunei\n",
            "organisation\n",
            "test-takers\n",
            "multiple-choice\n",
            "well-being\n",
            "high-end\n",
            "corporational\n",
            "labours\n",
            "mediabank\n",
            "feature-computer\n",
            "ibt\n",
            "far-off\n",
            "poverty-line\n",
            "labelled\n",
            "100\n",
            "off-campus\n",
            "'halo\n",
            "show-off\n",
            "90-minute-games\n",
            "comities\n",
            "enrolment\n",
            "fast-paced\n",
            "non-profit\n",
            "open-minded\n",
            "in-born\n",
            "animlas\n",
            "170\n",
            "un-recyclable\n",
            "short-term\n",
            "politian\n",
            "devoiding\n",
            "white-collar\n",
            "team-working\n",
            "entertainmening\n",
            "insemenation\n",
            "well-prepared\n",
            "99\n",
            "16\n",
            "self-finance\n",
            "sugesstions\n",
            "89\n",
            "brain-storming\n",
            "life-long\n",
            "home-earth\n",
            "fifty-fifty\n",
            "self-recognition\n",
            "self-control\n",
            "theatre\n",
            "high-ranking\n",
            "sub-continent\n",
            "burn-out\n",
            "2050\n",
            "e-learning\n",
            "25\n",
            "british-ruled\n",
            "40\n",
            "environmentally-friendly\n",
            "sunsilk\n",
            "pieter\n",
            "work-place\n",
            "lifestlyle\n",
            "travelling\n",
            "tradtions\n",
            "stabilising\n",
            "1980\n",
            "viber\n",
            "khmer\n",
            "reseachs\n",
            "accelarates\n",
            "non-globalized\n",
            "well-informed\n",
            "labourous\n",
            "e.g\n",
            "parantage\n",
            "berliners\n",
            "'morning-after\n",
            "3-10\n",
            "and/or\n",
            "full-time\n",
            "–\n",
            "xyz-123\n",
            "ex-girlfriends\n",
            "stone-cold\n",
            "sceptical\n",
            "€100\n",
            "€200\n",
            "'never\n",
            "'an\n",
            ",\n",
            ".\n",
            "to\n",
            "of\n",
            "and\n",
            "a\n",
            "'s\n",
            "'\n",
            ";\n",
            "’\n",
            "``\n",
            ":\n",
            "''\n",
            "?\n",
            "part-time\n",
            "e-mail\n",
            "(\n",
            ")\n",
            "-\n",
            "centre\n",
            "face-to-face\n",
            "15\n",
            "his/her\n",
            "high-tech\n",
            "!\n",
            "co-worker\n",
            "programmes\n",
            "toefl\n",
            "face-to\n",
            "30\n",
            "100\n",
            "he/she\n",
            "63\n",
            "well-known\n",
            "“\n",
            "self-improvement\n",
            "state-of-the-art\n",
            "behaviour\n",
            "learnt\n",
            "well-paid\n",
            "co-operation\n",
            "long-time\n",
            "co-operative\n",
            "long-term\n",
            "well-being\n",
            "ibt\n",
            "fast-paced\n",
            "co-workers\n",
            "foxconn\n",
            "commuincation\n",
            "low-level\n",
            "nowaday\n",
            "high-salary\n",
            "morning-after\n",
            "centres\n",
            "‘\n",
            "falseful\n",
            "16\n",
            "judgement\n",
            "favour\n",
            "20\n",
            "'a\n",
            "independly\n",
            "team-working\n",
            "same-old-same-old\n",
            "self-study\n",
            "penalty-kick\n",
            "multiple-choice\n",
            "commuincating\n",
            "sales-man\n",
            "burn-out\n",
            "14\n",
            "longer-term\n",
            "dish-washing\n",
            "re-plays\n",
            "fulfil\n",
            "humans.both\n",
            "futhermore\n",
            "team-player\n",
            "”\n",
            "licence\n",
            "tempelhofer\n",
            "programme\n",
            "50\n",
            "2008\n",
            "analysing\n",
            "less-used\n",
            "travelling\n",
            "well-rounded\n",
            "bone-by-bone\n",
            "brunei\n",
            "test-wise\n",
            "acquaintant\n",
            "organisations\n",
            "--\n",
            "'social\n",
            "'low\n",
            "90-minute-games\n",
            "socialization-\n",
            "non-profit\n",
            "animlas\n",
            "politian\n",
            "indonesians\n",
            "4:00\n",
            "entertainmening\n",
            "up-to-date\n",
            "20th\n",
            "him/her\n",
            "now-a-days\n",
            "him/herself\n",
            "industry-related\n",
            "fifty-fifty\n",
            "rapid-changing\n",
            "21st\n",
            "futuermore\n",
            "i.e\n",
            "month-long\n",
            "25\n",
            "whatsapp\n",
            "over-time\n",
            "ever-accelerated\n",
            "environmentally-friendly\n",
            "pieter\n",
            "self-made\n",
            "extra-curriculum\n",
            "irrisistible\n",
            "secondy\n",
            "relegious\n",
            "everywhre\n",
            "over-the-counter\n",
            "re-conceptualized\n",
            "corpore\n",
            "co-tenant\n",
            "ivory-tower\n",
            "labour\n",
            "one-third\n",
            "organised\n",
            "distance-learning\n",
            "online-courses\n",
            "top-of-the-range\n",
            "well-equipped\n",
            "zappa\n",
            "self-defense\n",
            "over-dependent\n",
            "10\n",
            "89\n",
            "far-reaching\n",
            "eco-friendly\n",
            "onlines\n",
            "cctvs\n",
            "cutting-edge\n",
            "responsibl\n",
            "19\n",
            "17th\n",
            "so-called\n",
            "fifty-five\n",
            "must-haves\n",
            "–\n",
            "2030\n",
            "well-trained\n",
            "mediabank\n",
            "labelled\n",
            "unicq\n",
            "clear-cut\n",
            "75\n",
            "millan\n",
            "cutting-edged\n",
            "24\n",
            "...\n",
            "non-native\n",
            "step-by-step\n",
            "group-studying\n",
            "in-born\n",
            "swimpool\n",
            "non-academic\n",
            "longer-than-usual\n",
            "full-length\n",
            "main-stream\n",
            "apperant\n",
            "second-hand\n",
            "short-sighted\n",
            "wdtv\n",
            "video-game\n",
            "video-games\n",
            "self-finance\n",
            "sugesstions\n",
            "high-paying\n",
            "obessed\n",
            "life-long\n",
            "problem-solving\n",
            "man/woman\n",
            "straight-forward\n",
            "self-recognition\n",
            "self-control\n",
            "top-level\n",
            "u.s\n",
            "theorically\n",
            "80\n",
            "on-online\n",
            "90\n",
            "acknowledgement\n",
            "theatre\n",
            "furthermore/moreover\n",
            "self-employed\n",
            "tradition-related\n",
            "defence\n",
            "well-off\n",
            "out-performance\n",
            "tradtions\n",
            "blossmed\n",
            "cutures\n",
            "well-qualified\n",
            "well-educated\n",
            "tosix\n",
            "labourous\n",
            "restorated\n",
            "licencing\n",
            "re-introduce\n",
            "citizensand\n",
            "tegel\n",
            "professionsand\n",
            "50km\n",
            "cross-country\n",
            "owner-run\n",
            "inner-city\n",
            "anti-virus\n",
            "tokio\n",
            "–in\n",
            "3.2km\n",
            "xyz-123\n",
            "tatort\n",
            "re-letting\n",
            "'never\n",
            "10pm\n",
            "cambodia\n",
            "angkowat\n",
            "under-age\n",
            "close-downs\n",
            "payements\n",
            "eight-hour\n",
            "overweighing\n",
            "side-effects\n",
            "1960\n",
            "opprotunities\n",
            "2010\n",
            "enthuasism\n",
            "garther\n",
            "irak\n",
            "footballworld\n",
            "interest-free\n",
            "teacher-student\n",
            "online-degrees\n",
            "target-oriented\n",
            "bangladeshi\n",
            "taslima\n",
            "nasrin\n",
            "co-education\n",
            "profit-oriented\n",
            "seventeen-year-old\n",
            "sudanese\n",
            "eco-system\n",
            "poverty-stricken\n",
            "non-human\n",
            "baby-born\n",
            "criticise\n",
            "win-win\n",
            "'dug\n",
            "seagames\n",
            "minh\n",
            "e-books\n",
            "multi-aspect\n",
            "high-quality\n",
            "organisation\n",
            "2003\n",
            "test-takers\n",
            "trumm\n",
            "'teachers\n",
            "group'-\n",
            "'this\n",
            "non-verbal\n",
            "pressurising\n",
            "vapour\n",
            "in-depth\n",
            "she/he\n",
            "well-regulated\n",
            "all-round\n",
            "feature-computer\n",
            "prioritised\n",
            "long-distance\n",
            "would-be\n",
            "off-campus\n",
            "'halo\n",
            "non-smokers\n",
            "osetia\n",
            "show-off\n",
            "dioxid\n",
            "comities\n",
            "yandex\n",
            "living-level\n",
            "three-dimensional\n",
            "vairtey\n",
            "40,000\n",
            "beneficed\n",
            "open-minded\n",
            "non-renewable\n",
            "un-recyclable\n",
            "non-environmentally\n",
            "1969\n",
            "twenty-four\n",
            "long-lasting\n",
            "of-course\n",
            "time-consuming\n",
            "insemenation\n",
            "mr.\n",
            "artcrafts\n",
            "well-organised\n",
            "cancelled\n",
            "infinete\n",
            "art-imagination\n",
            "company-\n",
            "apple-\n",
            "theoritical\n",
            "fast-food\n",
            "football/basketball\n",
            "coniders\n",
            "esy\n",
            "instend\n",
            "to-do\n",
            "trivials\n",
            "on-line\n",
            "exerice\n",
            "research-friendly\n",
            "sub-continent\n",
            "2050\n",
            "e-learning\n",
            "10000\n",
            "justing\n",
            "environmental-friendly\n",
            "hard-work\n",
            "one-way\n",
            "tete-a-tete\n",
            "actor/actress\n",
            "mncs\n",
            "sunsilk\n",
            "hard-working\n",
            "favourite\n",
            "370\n",
            "oramaki\n",
            "work-place\n",
            "old-fashioned\n",
            "fundermentaly\n",
            "non-fuel-based\n",
            "burstling\n",
            "overly-teemed\n",
            "stabilising\n",
            "non-smoking\n",
            "1980\n",
            "comfot\n",
            "antioxydant\n",
            "country-\n",
            "globalisation\n",
            "ever-increasing\n",
            "huntings\n",
            "khmer\n",
            "pre-empt\n",
            "reseachs\n",
            "air-conditioners\n",
            "kidvids\n",
            "non-globalized\n",
            "atmoshphere\n",
            "non-abiding\n",
            "self-sufficient\n",
            "well-informed\n",
            "law-aiding\n",
            "exposured\n",
            "e.g\n",
            "parantage\n",
            "fatherood\n",
            "friedrichshain\n",
            "neukölln\n",
            "medicineunless\n",
            "musikantenstadl\n",
            "ground-focused\n",
            "'morning-after\n",
            "'western\n",
            "zdf\n",
            "65\n",
            "'life\n",
            "3-10\n",
            "non-medical\n",
            "tv/radio\n",
            "citizens/households\n",
            "areaswhich\n",
            "problemsand\n",
            "and/or\n",
            "daydue\n",
            "travellers\n",
            "full-time\n",
            "off-times\n",
            "'leisure\n",
            "armand\n",
            "60:87\n",
            "mannheimers\n",
            "sold-out\n",
            "–aside\n",
            "ex-girlfriends\n",
            "ralf\n",
            "in-house\n",
            "merkel\n",
            "sceptical\n",
            "jack-knifes\n",
            "tagesthemen\n",
            "nerve-racking\n",
            "emptieras\n",
            "€100\n",
            "€200\n",
            "projectand\n",
            "bag-dispensers\n",
            "walk-in\n",
            "gynaecological\n",
            ",\n",
            ".\n",
            "to\n",
            "of\n",
            "and\n",
            "a\n",
            "'s\n",
            "'\n",
            ";\n",
            "’\n",
            "``\n",
            "''\n",
            ":\n",
            "part-time\n",
            "e-mail\n",
            "?\n",
            "his/her\n",
            "!\n",
            "face-to-face\n",
            "toefl\n",
            "co-operative\n",
            "ibt\n",
            "licence\n",
            "(\n",
            ")\n",
            "he/she\n",
            "time-consuming\n",
            "-\n",
            "15\n",
            "up-to-date\n",
            "learnt\n",
            "programmes\n",
            "travelling\n",
            "co-workers\n",
            "99\n",
            "high-ranking\n",
            "re-plays\n",
            "co-tenant\n",
            "falseful\n",
            "whole-heartedly\n",
            "favour\n",
            "prioritised\n",
            "well-preparation\n",
            "state-of-art\n",
            "behaviour\n",
            "obessed\n",
            "morning-after\n",
            "self-centered\n",
            "10\n",
            "distance-learning\n",
            "co-operation\n",
            "co-education\n",
            "judgement\n",
            "well-rounded\n",
            "criticises\n",
            "memorising\n",
            "well-being\n",
            "group-studying\n",
            "co-worker\n",
            "foxconn\n",
            "self-control\n",
            "commuincation\n",
            "e-learning\n",
            "10000\n",
            "40\n",
            "humans.both\n",
            "misconcept\n",
            "relegious\n",
            "corpore\n",
            "well-known\n",
            "hands-on\n",
            "analysing\n",
            "online-teaching\n",
            "well-equipped\n",
            "high-tech\n",
            "–\n",
            "macro-economic\n",
            "speed-up\n",
            "rush-hours\n",
            "eco-system\n",
            "michallengo\n",
            "archuleta\n",
            "2003\n",
            "enrolment\n",
            "three-dimensional\n",
            "environmentally-friendly\n",
            "politian\n",
            "second-hand\n",
            "well-prepared\n",
            "wdtv\n",
            "“\n",
            "”\n",
            "home-earth\n",
            "man/woman\n",
            "21st\n",
            "university-level\n",
            "sales-man\n",
            "burn-out\n",
            "furthermore/moreover\n",
            "british-ruled\n",
            "behaviours\n",
            "fulfil\n",
            "environment-friendly\n",
            "counselling\n",
            "-and\n",
            "professionsand\n",
            "himself/herself\n",
            "self-independence\n",
            "well-established\n",
            "ivory-tower\n",
            "'your\n",
            "profit-oriented\n",
            "far-reaching\n",
            "mohammedanism\n",
            "long-term\n",
            "multiple-choice\n",
            "50\n",
            "75\n",
            "centre\n",
            "mr.\n",
            "well-organised\n",
            "30\n",
            "problem-solving\n",
            "penalty-kick\n",
            "euopren\n",
            "destiny-beethoven\n",
            "top-level\n",
            "subordinaries\n",
            "prerequisit\n",
            "patiant\n",
            "theatre\n",
            "research-friendly\n",
            "longer-term\n",
            "univesity\n",
            "asistans\n",
            "whatsapp\n",
            "dish-washing\n",
            "defence\n",
            "gujarati\n",
            "over-fried\n",
            "well-qualified\n",
            "well-behaved\n",
            "individualitybut\n",
            "centres\n",
            "tempelhofer\n",
            "star-players\n",
            "short-term\n",
            "ex-girlfriend\n",
            "drawn-out\n",
            "non-stop\n",
            "opprotunities\n",
            "online-degrees\n",
            "less-used\n",
            "lesser-known\n",
            "state-of-the-art\n",
            "sudanese\n",
            "eco-friendly\n",
            "e-books\n",
            "trumm\n",
            "'teachers\n",
            "group'-\n",
            "'this\n",
            "non-verbal\n",
            "well-trained\n",
            "far-off\n",
            "poverty-line\n",
            "dioxid\n",
            "comities\n",
            "a+\n",
            "cutting-edged\n",
            "40,000\n",
            "170\n",
            "non-environmentally\n",
            "consumer-oriented\n",
            "long-lasting\n",
            "of-course\n",
            "easy-to-use\n",
            "time-saving\n",
            "85\n",
            "him/her\n",
            "mphils\n",
            "phds\n",
            "self-confidence\n",
            "fifty-fifty\n",
            "commuincating\n",
            "build-up\n",
            "low-level\n",
            "self-study\n",
            "nowaday\n",
            "month-long\n",
            "14\n",
            "several-these\n",
            "--\n",
            "over-time\n",
            "weichat\n",
            "ever-accelerated\n",
            "pieter\n",
            "well-off\n",
            "self-made\n",
            "tradtions\n",
            "futhermore\n",
            "irrisistible\n",
            "viber\n",
            "khmer\n",
            "well-educated\n",
            "non-abiding\n",
            "parantage\n",
            "fatherood\n",
            "team-player\n",
            "'land\n",
            "licencing\n",
            "musikantenstadl\n",
            "funding-wise\n",
            "self-development\n",
            "private/personal\n",
            "tegel\n",
            "anti-virus\n",
            "neighbourhood\n",
            "resource-intensive\n",
            "jochen\n",
            "wannabe-adventurer\n",
            "12:00\n",
            "'an\n",
            "under-age\n",
            "easy-to-cook\n",
            "gorvernment\n",
            "non-governmental\n",
            "2010\n",
            "2008\n",
            "organised\n",
            "long-time\n",
            "bangladeshi\n",
            "taslima\n",
            "nasrin\n",
            "89\n",
            "brain-washed\n",
            "poverty-stricken\n",
            "non-human\n",
            "onlines\n",
            "cutting-edge\n",
            "win-win\n",
            "responsibl\n",
            "19\n",
            "multi-aspect\n",
            "high-quality\n",
            "fifty-five\n",
            "test-wise\n",
            "test-takers\n",
            "labour\n",
            "2030\n",
            "all-round\n",
            "mediabank\n",
            "feature-computer\n",
            "organisations\n",
            "face-to\n",
            "labelled\n",
            "20\n",
            "off-campus\n",
            "'halo\n",
            "90-minute-games\n",
            "socialization-\n",
            "fast-paced\n",
            "'a\n",
            "non-native\n",
            "step-by-step\n",
            "in-born\n",
            "animlas\n",
            "co-citizens\n",
            "palme\n",
            "non-renewable\n",
            "longer-than-usual\n",
            "full-length\n",
            "independly\n",
            "apperant\n",
            "team-working\n",
            "twenty-four\n",
            "short-sighted\n",
            "same-old-same-old\n",
            "20th\n",
            "video-games\n",
            "now-a-days\n",
            "artcrafts\n",
            "him/herself\n",
            "well-paid\n",
            "high-paying\n",
            "cost-effective\n",
            "art-imagination\n",
            "straight-forward\n",
            "company-\n",
            "apple-\n",
            "self-identification\n",
            "rapid-changing\n",
            "theoritical\n",
            "football/basketball\n",
            "coniders\n",
            "16\n",
            "i.e\n",
            "above-mentioned\n",
            "100\n",
            "25\n",
            "so-called\n",
            "tradition-related\n",
            "hard-working\n",
            "out-performance\n",
            "extra-curriculum\n",
            "old-fashioned\n",
            "fundermentaly\n",
            "non-smoking\n",
            "1980\n",
            "notorous\n",
            "secondy\n",
            "cutures\n",
            "pre-empt\n",
            "devoiding\n",
            "white-collar\n",
            "everywhre\n",
            "tosix\n",
            "self-sufficient\n",
            "highly-productive\n",
            "old-physical\n",
            "restorated\n",
            "labourous\n",
            "snowden\n",
            "'morning-after\n",
            "'doctor\n",
            "tv/radio\n",
            "citizens/households\n",
            "citizensand\n",
            "50km\n",
            "cross-country\n",
            "laid-back\n",
            "owner-run\n",
            "armand\n",
            "programme\n",
            "tokio\n",
            "x-diaries\n",
            "xyz-123\n",
            "ex-girlfriends\n",
            "soonand\n",
            "run-up\n",
            "merkel\n",
            "schweinsteiger\n",
            "re-letting\n",
            "'never\n",
            "10pm\n",
            "'living\n",
            "over-the-counter\n",
            ",\n",
            ".\n",
            "to\n",
            "and\n",
            "of\n",
            "a\n",
            "'s\n",
            "'\n",
            ";\n",
            "’\n",
            "``\n",
            "''\n",
            "?\n",
            ":\n",
            "part-time\n",
            "e-mail\n",
            "face-to-face\n",
            "!\n",
            "(\n",
            ")\n",
            "-\n",
            "centre\n",
            "co-worker\n",
            "co-operation\n",
            "–\n",
            "15\n",
            "well-being\n",
            "travelling\n",
            "co-operative\n",
            "20\n",
            "high-quality\n",
            "30\n",
            "his/her\n",
            "high-tech\n",
            "toefl\n",
            "group-studying\n",
            "high-paying\n",
            "“\n",
            "dish-washing\n",
            "well-known\n",
            "time-consuming\n",
            "10\n",
            "above-mentioned\n",
            "environmentally-friendly\n",
            "co-workers\n",
            "team-working\n",
            "second-hand\n",
            "he/she\n",
            "him/her\n",
            "home-earth\n",
            "well-qualified\n",
            "morning-after\n",
            "face-to\n",
            "--\n",
            "20th\n",
            "self-confidence\n",
            "university-level\n",
            "demines\n",
            "co-tenant\n",
            "brain-washed\n",
            "programmes\n",
            "multiple-choice\n",
            "well-trained\n",
            "short-term\n",
            "apperant\n",
            "wdtv\n",
            "him/herself\n",
            "penalty-kick\n",
            "fifty-fifty\n",
            "21st\n",
            "burn-out\n",
            "2050\n",
            "10000\n",
            "tradition-related\n",
            "fulfil\n",
            "cutures\n",
            "over-fried\n",
            "”\n",
            "licence\n",
            "63\n",
            "well-established\n",
            "falseful\n",
            "2010\n",
            "well-prepared\n",
            "long-time\n",
            "89\n",
            "non-profit\n",
            "colourful\n",
            "40\n",
            "poverty-stricken\n",
            "michallengo\n",
            "criticise\n",
            "onlines\n",
            "worthlessly\n",
            "archuleta\n",
            "trumm\n",
            "'teachers\n",
            "group'-\n",
            "'this\n",
            "non-verbal\n",
            "labour\n",
            "high-end\n",
            "a+\n",
            "well-preparation\n",
            "state-of-art\n",
            "long-term\n",
            "open-minded\n",
            "behaviour\n",
            "un-recyclable\n",
            "consumer-oriented\n",
            "twenty-four\n",
            "same-old-same-old\n",
            "85\n",
            "mr.\n",
            "self-recognition\n",
            "top-level\n",
            "nowaday\n",
            "acknowledgement\n",
            "several-these\n",
            "environmental-friendly\n",
            "25\n",
            "tete-a-tete\n",
            "re-plays\n",
            "futhermore\n",
            "khmer\n",
            "well-educated\n",
            "team-player\n",
            "tegel\n",
            "centres\n",
            "‘\n",
            "non-tangible\n",
            "under-age\n",
            "self-independence\n",
            "close-downs\n",
            "ivory-tower\n",
            "well-organized\n",
            "over-rated\n",
            "75\n",
            "2008\n",
            "irak\n",
            "footballworld\n",
            "teacher-student\n",
            "short-time\n",
            "lesser-known\n",
            "'your\n",
            "co-education\n",
            "macro-economic\n",
            "man-made\n",
            "criticises\n",
            "memorising\n",
            "minh\n",
            "pressurising\n",
            "vapour\n",
            "in-depth\n",
            "ibt\n",
            "'social\n",
            "'low\n",
            "50\n",
            "millan\n",
            "'halo\n",
            "judgement\n",
            "yandex\n",
            "enrolment\n",
            "vairtey\n",
            "...\n",
            "40,000\n",
            "swimpool\n",
            "170\n",
            "politian\n",
            "non-academic\n",
            "main-stream\n",
            "short-sighted\n",
            "insemenation\n",
            "99\n",
            "mphils\n",
            "phds\n",
            "foxconn\n",
            "cancelled\n",
            "infinete\n",
            "company-\n",
            "apple-\n",
            "commuincation\n",
            "futuermore\n",
            "low-level\n",
            "to-do\n",
            "trivials\n",
            "u.s\n",
            "learnt\n",
            "on-line\n",
            "high-ranking\n",
            "sales-man\n",
            "dramaticly\n",
            "100\n",
            "british-ruled\n",
            "so-called\n",
            "behaviours\n",
            "ever-accelerated\n",
            "pieter\n",
            "defence\n",
            "370\n",
            "well-off\n",
            "self-made\n",
            "gujarati\n",
            "extra-curriculum\n",
            "irrisistible\n",
            "secondy\n",
            "relegious\n",
            "sumarize\n",
            "country-\n",
            "self-sufficient\n",
            "highly-productive\n",
            "old-physical\n",
            "technogy\n",
            "'doctor\n",
            "'uniform-free\n",
            "brand-name\n",
            "counselling\n",
            "servicesfor\n",
            "full-time\n",
            "berliners\n",
            "over-the-counter\n",
            "metres\n",
            "laid-back\n",
            "neighbourhood\n",
            "wannabe-adventurer\n",
            "tagesthemen\n",
            "drawn-out\n",
            "cambodia\n",
            "angkowat\n",
            "self-centered\n",
            "non-stop\n",
            "easy-to-cook\n",
            "opprotunities\n",
            "enthuasism\n",
            "hands-on\n",
            "harder-working\n",
            "organised\n",
            "hydro-kinetic\n",
            "interest-free\n",
            "online-courses\n",
            "top-of-the-range\n",
            "online-degrees\n",
            "distance-learning\n",
            "occupation-related\n",
            "well-equipped\n",
            "less-used\n",
            "bangladeshi\n",
            "taslima\n",
            "nasrin\n",
            "self-awareness\n",
            "self-improvement\n",
            "self-defense\n",
            "indira\n",
            "state-of-the-art\n",
            "recognise\n",
            "speed-up\n",
            "rush-hours\n",
            "sudanese\n",
            "emphasise\n",
            "well-rounded\n",
            "eco-friendly\n",
            "cctvs\n",
            "win-win\n",
            "seagames\n",
            "19\n",
            "17th\n",
            "brunei\n",
            "2003\n",
            "test-takers\n",
            "2030\n",
            "well-regulated\n",
            "all-round\n",
            "feature-computer\n",
            "crimea\n",
            "far-off\n",
            "poverty-line\n",
            "long-distance\n",
            "kochhar\n",
            "icici\n",
            "would-be\n",
            "labelled\n",
            "unicq\n",
            "off-campus\n",
            "osetia\n",
            "gossip-based\n",
            "salt-panic\n",
            "show-off\n",
            "90-minute-games\n",
            "dioxid\n",
            "cutting-edged\n",
            "living-level\n",
            "three-dimensional\n",
            "socialization-\n",
            "up-to-date\n",
            "'a\n",
            "animlas\n",
            "co-citizens\n",
            "palme\n",
            "non-environmentally\n",
            "longer-than-usual\n",
            "full-length\n",
            "1969\n",
            "indonesians\n",
            "4:00\n",
            "entertainmening\n",
            "in-touch\n",
            "video-games\n",
            "self-finance\n",
            "coclusion\n",
            "well-organised\n",
            "industry-related\n",
            "brain-storming\n",
            "life-long\n",
            "problem-solving\n",
            "straight-forward\n",
            "euopren\n",
            "destiny-beethoven\n",
            "self-identification\n",
            "commuincating\n",
            "fast-food\n",
            "subordinaries\n",
            "prerequisit\n",
            "patiant\n",
            "self-study\n",
            "theatre\n",
            "16\n",
            "e-learning\n",
            "self-employed\n",
            "longer-term\n",
            "hard-work\n",
            "univesity\n",
            "asistans\n",
            "whatsapp\n",
            "over-time\n",
            "centeries\n",
            "'cult\n",
            "weichat\n",
            "communicatio\n",
            "mncs\n",
            "hard-working\n",
            "well-of\n",
            "out-performance\n",
            "tradtions\n",
            "non-fuel-based\n",
            "stabilising\n",
            "environment-friendly\n",
            "notorous\n",
            "comfot\n",
            "ever-increasing\n",
            "huntings\n",
            "distinction-driven\n",
            "pre-empt\n",
            "health-care\n",
            "accelarates\n",
            "kidvids\n",
            "unrivalled\n",
            "non-abiding\n",
            "well-informed\n",
            "glamour\n",
            "law-aiding\n",
            "already-high\n",
            "k-pop\n",
            "restorated\n",
            "well-behaved\n",
            "fatherood\n",
            "rubbishand\n",
            "'land\n",
            "musikantenstadl\n",
            "'western\n",
            "-and\n",
            "120\n",
            "3-10\n",
            "funding-wise\n",
            "and/or\n",
            "individualitybut\n",
            "citizensand\n",
            "off-times\n",
            "tempelhofer\n",
            "favour\n",
            "'leisure\n",
            "private/personal\n",
            "50km\n",
            "cross-country\n",
            "challengeas\n",
            "inner-city\n",
            "60:87\n",
            "mannheimers\n",
            "sold-out\n",
            "star-players\n",
            "anti-virus\n",
            "programme\n",
            "3.2km\n",
            "–aside\n",
            "x-diaries\n",
            "resolutionand\n",
            "ralf\n",
            "stone-cold\n",
            "ex-girlfriend\n",
            "in-house\n",
            "run-up\n",
            "merkel\n",
            "resource-intensive\n",
            "'hypo\n",
            "three-figure\n",
            "jack-knifes\n",
            "jochen\n",
            "tatort\n",
            "non-academics\n",
            "nerve-racking\n",
            "emptieras\n",
            "onalthough\n",
            "€100\n",
            "€200\n",
            "12:00\n",
            "'an\n",
            "10pm\n",
            "'living\n",
            "gynaecological\n",
            ",\n",
            ".\n",
            "to\n",
            "and\n",
            "of\n",
            "a\n",
            "'s\n",
            ";\n",
            "'\n",
            "’\n",
            "``\n",
            "''\n",
            "part-time\n",
            "?\n",
            "e-mail\n",
            "face-to-face\n",
            "!\n",
            ":\n",
            "-\n",
            "co-operative\n",
            "well-being\n",
            "learnt\n",
            "long-term\n",
            "(\n",
            ")\n",
            "garther\n",
            "short-sighted\n",
            "state-of-the-art\n",
            "15\n",
            "high-tech\n",
            "face-to\n",
            "co-workers\n",
            "commuincation\n",
            "20\n",
            "his/her\n",
            "30\n",
            "well-known\n",
            "up-to-date\n",
            "fifty-fifty\n",
            "research-friendly\n",
            "dish-washing\n",
            "–\n",
            "well-rounded\n",
            "distance-learning\n",
            "100\n",
            "co-worker\n",
            "cancelled\n",
            "infinete\n",
            "tete-a-tete\n",
            "morning-after\n",
            "long-time\n",
            "89\n",
            "judgement\n",
            "non-human\n",
            "e-books\n",
            "...\n",
            "second-hand\n",
            "artcrafts\n",
            "high-paying\n",
            "travelling\n",
            "penalty-kick\n",
            "whatsapp\n",
            "oramaki\n",
            "blossmed\n",
            "team-player\n",
            "bag-dispensers\n",
            "co-tenant\n",
            "one-third\n",
            "1960\n",
            "50\n",
            "analysing\n",
            "organising\n",
            "co-operation\n",
            "centre\n",
            "cutting-edge\n",
            "seagames\n",
            "2008\n",
            "brunei\n",
            "programmes\n",
            "must-haves\n",
            "24\n",
            "non-renewable\n",
            "short-term\n",
            "16\n",
            "self-finance\n",
            "foxconn\n",
            "art-imagination\n",
            "man/woman\n",
            "rapid-changing\n",
            "self-control\n",
            "time-consuming\n",
            "40\n",
            "sunsilk\n",
            "re-plays\n",
            "defence\n",
            "antioxydant\n",
            "well-qualified\n",
            "50km\n",
            "cross-country\n",
            "programme\n",
            "“\n",
            "”\n",
            "10pm\n",
            "self-independence\n",
            "eight-hour\n",
            "non-stop\n",
            "falseful\n",
            "2010\n",
            "have-nots\n",
            "bangladeshi\n",
            "taslima\n",
            "nasrin\n",
            "non-profit\n",
            "brain-washed\n",
            "colourful\n",
            "seventeen-year-old\n",
            "macro-economic\n",
            "baby-born\n",
            "'dug\n",
            "bone-by-bone\n",
            "17th\n",
            "multi-aspect\n",
            "so-called\n",
            "organisation\n",
            "she/he\n",
            "organisations\n",
            "'social\n",
            "'low\n",
            "above-mentioned\n",
            "millan\n",
            "comities\n",
            "fast-paced\n",
            "'a\n",
            "environmentally-friendly\n",
            "same-old-same-old\n",
            "20th\n",
            "well-paid\n",
            "21st\n",
            "low-level\n",
            "self-study\n",
            "theorically\n",
            "i.e\n",
            "month-long\n",
            "one-way\n",
            "actor/actress\n",
            "1980\n",
            "globalisation\n",
            "khmer\n",
            "tosix\n",
            "problemsand\n",
            "and/or\n",
            "daydue\n",
            "3.2km\n",
            "–aside\n",
            "in-house\n",
            "jack-knifes\n",
            "projectand\n",
            "drawn-out\n",
            "dirt-free\n",
            "payements\n",
            "over-rated\n",
            "irak\n",
            "footballworld\n",
            "online-teaching\n",
            "short-time\n",
            "well-equipped\n",
            "less-used\n",
            "lesser-known\n",
            "self-defense\n",
            "poverty-stricken\n",
            "eco-friendly\n",
            "cctvs\n",
            "mohammedanism\n",
            "responsibl\n",
            "2003\n",
            "test-wise\n",
            "well-regulated\n",
            "corporational\n",
            "labours\n",
            "crimea\n",
            "unicq\n",
            "cutting-edged\n",
            "beneficed\n",
            "un-recyclable\n",
            "consumer-oriented\n",
            "politian\n",
            "devoiding\n",
            "white-collar\n",
            "main-stream\n",
            "1969\n",
            "in-touch\n",
            "long-lasting\n",
            "of-course\n",
            "time-saving\n",
            "well-prepared\n",
            "him/her\n",
            "sugesstions\n",
            "self-confidence\n",
            "life-long\n",
            "home-earth\n",
            "self-recognition\n",
            "esy\n",
            "instend\n",
            "to-do\n",
            "trivials\n",
            "theatre\n",
            "80\n",
            "on-online\n",
            "90\n",
            "exerice\n",
            "sub-continent\n",
            "2050\n",
            "several-these\n",
            "environmental-friendly\n",
            "furthermore/moreover\n",
            "over-time\n",
            "centeries\n",
            "behaviours\n",
            "communicatio\n",
            "pieter\n",
            "fulfil\n",
            "old-fashioned\n",
            "fundermentaly\n",
            "non-personal\n",
            "developed-skills\n",
            "heart-related\n",
            "cutures\n",
            "reseachs\n",
            "everywhre\n",
            "air-conditioners\n",
            "non-globalized\n",
            "exposured\n",
            "e.g\n",
            "'western\n",
            "brand-name\n",
            "–in\n",
            "x-diaries\n",
            "resolutionand\n",
            "sceptical\n",
            "tatort\n",
            "tagesthemen\n",
            "re-introduction\n",
            "walk-in\n",
            "gynaecological\n",
            "himself/herself\n",
            "well-established\n",
            "gorvernment\n",
            "enthuasism\n",
            "hands-on\n",
            "hydro-kinetic\n",
            "online-courses\n",
            "top-of-the-range\n",
            "self-improvement\n",
            "'your\n",
            "indira\n",
            "profit-oriented\n",
            "recognise\n",
            "sudanese\n",
            "criticises\n",
            "memorising\n",
            "19\n",
            "archuleta\n",
            "labour\n",
            "high-end\n",
            "pressurising\n",
            "vapour\n",
            "in-depth\n",
            "well-trained\n",
            "mediabank\n",
            "toefl\n",
            "ibt\n",
            "long-distance\n",
            "self-regulated\n",
            "labelled\n",
            "clear-cut\n",
            "off-campus\n",
            "90-minute-games\n",
            "high-quality\n",
            "a+\n",
            "yandex\n",
            "enrolment\n",
            "non-environmentally\n",
            "longer-than-usual\n",
            "full-length\n",
            "apperant\n",
            "team-working\n",
            "he/she\n",
            "entertainmening\n",
            "85\n",
            "video-game\n",
            "mr.\n",
            "tussaud\n",
            "well-organised\n",
            "obessed\n",
            "industry-related\n",
            "company-\n",
            "apple-\n",
            "euopren\n",
            "destiny-beethoven\n",
            "self-identification\n",
            "u.s\n",
            "university-level\n",
            "burn-out\n",
            "dramaticly\n",
            "self-employed\n",
            "british-ruled\n",
            "longer-term\n",
            "'cult\n",
            "mncs\n",
            "ever-accelerated\n",
            "tradition-related\n",
            "favourite\n",
            "work-place\n",
            "out-performance\n",
            "futhermore\n",
            "harmonial\n",
            "comfot\n",
            "secondy\n",
            "relegious\n",
            "sumarize\n",
            "over-fried\n",
            "health-care\n",
            "well-educated\n",
            "offence\n",
            "glamour\n",
            "labourous\n",
            "technogy\n",
            "highly-productive\n",
            "old-physical\n",
            "well-behaved\n",
            "snowden\n",
            "'doctor\n",
            "off-times\n",
            "berliners\n",
            "metres\n",
            "laid-back\n",
            "inner-city\n",
            "tegel\n",
            "armand\n",
            "anti-virus\n",
            "ralf\n",
            "ex-girlfriends\n",
            "ex-girlfriend\n",
            "'hypo\n",
            "three-figure\n",
            "'an\n",
            "neighbourhoods\n",
            "'living\n"
          ]
        }
      ],
      "source": [
        "# Each word in the Word2vec model used is embedded trough a vector of size 300\n",
        "EMBEDDING_SIZE  = 300\n",
        "\n",
        "# Size of the vocabulary used\n",
        "VOCABULARY_SIZE_SUPPORTING = len(text_tokenizer_supporting.word_index) + 1\n",
        "VOCABULARY_SIZE_SUPPORTED = len(text_tokenizer_supported.word_index) + 1\n",
        "VOCABULARY_SIZE_SUPPORTING_BEFORE = len(text_tokenizer_supporting_before.word_index) + 1\n",
        "VOCABULARY_SIZE_SUPPORTED_BEFORE = len(text_tokenizer_supported_before.word_index) + 1\n",
        "VOCABULARY_SIZE_SUPPORTING_AFTER = len(text_tokenizer_supporting_after.word_index) + 1\n",
        "VOCABULARY_SIZE_SUPPORTED_AFTER = len(text_tokenizer_supported_after.word_index) + 1\n",
        "\n",
        "# Create an empty embedding matix\n",
        "embedding_weights_supporting = np.zeros((VOCABULARY_SIZE_SUPPORTING, EMBEDDING_SIZE))\n",
        "embedding_weights_supported = np.zeros((VOCABULARY_SIZE_SUPPORTED, EMBEDDING_SIZE))\n",
        "embedding_weights_supporting_before = np.zeros((VOCABULARY_SIZE_SUPPORTING_BEFORE, EMBEDDING_SIZE))\n",
        "embedding_weights_supported_before = np.zeros((VOCABULARY_SIZE_SUPPORTED_BEFORE, EMBEDDING_SIZE))\n",
        "embedding_weights_supporting_after = np.zeros((VOCABULARY_SIZE_SUPPORTING_AFTER , EMBEDDING_SIZE))\n",
        "embedding_weights_supported_after = np.zeros((VOCABULARY_SIZE_SUPPORTED_AFTER , EMBEDDING_SIZE))\n",
        "\n",
        "# Create a word to index dictionary mapping\n",
        "word2id_supporting = text_tokenizer_supporting.word_index\n",
        "word2id_supported = text_tokenizer_supported.word_index\n",
        "word2id_supporting_before = text_tokenizer_supporting_before.word_index\n",
        "word2id_supported_before = text_tokenizer_supported_before.word_index\n",
        "word2id_supporting_after = text_tokenizer_supporting_after.word_index\n",
        "word2id_supported_after = text_tokenizer_supported_after.word_index\n",
        "\n",
        "# Copy vectors from word2vec model to the words present in corpus\n",
        "for word, index in word2id_supporting.items():\n",
        "    try:\n",
        "        embedding_weights_supporting[index, :] = word2vec_model[word]\n",
        "    except KeyError:\n",
        "        print(word)\n",
        "\n",
        "for word, index in word2id_supported.items():\n",
        "    try:\n",
        "        embedding_weights_supported[index, :] = word2vec_model[word]\n",
        "    except KeyError:\n",
        "        print(word)        \n",
        "\n",
        "for word, index in word2id_supporting_before.items():\n",
        "    try:\n",
        "        embedding_weights_supporting_before[index, :] = word2vec_model[word]\n",
        "    except KeyError:\n",
        "        print(word)\n",
        "\n",
        "for word, index in word2id_supported_before.items():\n",
        "    try:\n",
        "        embedding_weights_supported_before[index, :] = word2vec_model[word]\n",
        "    except KeyError:\n",
        "        print(word)        \n",
        "\n",
        "for word, index in word2id_supporting_after.items():\n",
        "    try:\n",
        "        embedding_weights_supporting_after[index, :] = word2vec_model[word]\n",
        "    except KeyError:\n",
        "        print(word)\n",
        "\n",
        "for word, index in word2id_supported_after.items():\n",
        "    try:\n",
        "        embedding_weights_supported_after[index, :] = word2vec_model[word]\n",
        "    except KeyError:\n",
        "        print(word)    "
      ]
    },
    {
      "cell_type": "markdown",
      "metadata": {
        "id": "V5ah4d7RwxYI"
      },
      "source": [
        "# **Split Train and Test set**"
      ]
    },
    {
      "cell_type": "code",
      "execution_count": null,
      "metadata": {
        "id": "mrvu9lSByLfh"
      },
      "outputs": [],
      "source": [
        "# Create a list of values between 0 and 401, where each value indicate an essay\n",
        "# in the corpus.\n",
        "\n",
        "essay_id_list=[i for i in range(402)]\n",
        "\n",
        "microtext_id_list=[i for i in range(number_documents)]"
      ]
    },
    {
      "cell_type": "code",
      "execution_count": null,
      "metadata": {
        "id": "hbhPLcCuw12o"
      },
      "outputs": [],
      "source": [
        "# Divide the corpus (documents containing the essay) in test and train test.\n",
        "train_set,test_set=train_test_split(essay_id_list,test_size=0.15,random_state=42)\n",
        "\n",
        "\n",
        "microtext_test_set=microtext_id_list\n",
        "microtext_train_set=[]"
      ]
    },
    {
      "cell_type": "code",
      "execution_count": null,
      "metadata": {
        "colab": {
          "base_uri": "https://localhost:8080/"
        },
        "id": "1fpSwg0hyt8v",
        "outputId": "7cbb5742-cfaa-46e0-cb0a-a5c6dd30cb15"
      },
      "outputs": [
        {
          "output_type": "stream",
          "name": "stdout",
          "text": [
            "0\n"
          ]
        },
        {
          "output_type": "execute_result",
          "data": {
            "text/plain": [
              "[]"
            ]
          },
          "metadata": {},
          "execution_count": 80
        }
      ],
      "source": [
        "print(len(microtext_train_set))\n",
        "\n",
        "microtext_train_set[:10]"
      ]
    },
    {
      "cell_type": "code",
      "execution_count": null,
      "metadata": {
        "colab": {
          "base_uri": "https://localhost:8080/"
        },
        "id": "KPQoIUW6yxF-",
        "outputId": "691f45db-93a0-4d68-f47b-b4e935b6fe89"
      },
      "outputs": [
        {
          "output_type": "stream",
          "name": "stdout",
          "text": [
            "112\n"
          ]
        },
        {
          "output_type": "execute_result",
          "data": {
            "text/plain": [
              "[0, 1, 2, 3, 4, 5, 6, 7, 8, 9]"
            ]
          },
          "metadata": {},
          "execution_count": 81
        }
      ],
      "source": [
        "print(len(microtext_test_set))\n",
        "\n",
        "microtext_test_set[:10]"
      ]
    },
    {
      "cell_type": "code",
      "execution_count": null,
      "metadata": {
        "id": "yquXKCOF4zqi"
      },
      "outputs": [],
      "source": [
        "X_argumentative_sections_doc=list(relation_ann_dataset['doc_id'])\n",
        "\n",
        "len_skip=len(X_argumentative_sections_doc)\n",
        "\n",
        "sections_train_set=[]\n",
        "sections_test_microtext_set=[]\n",
        "sections_test_set=[]\n",
        "\n",
        "for i in range(len(X_argumentative_sections_doc)):\n",
        "  if X_argumentative_sections_doc[i] in test_set:\n",
        "    sections_test_set.append(i)\n",
        "  else:\n",
        "    sections_train_set.append(i)\n",
        "\n",
        "X_argumentative_sections_doc=list(microtext_relation_ann_dataset['doc_id'])    \n",
        "\n",
        "for i in range(len(X_argumentative_sections_doc)):\n",
        "  if X_argumentative_sections_doc[i] in microtext_test_set:\n",
        "    sections_test_microtext_set.append(i+len_skip)\n",
        "  else:\n",
        "    sections_train_set.append(i+len_skip)    "
      ]
    },
    {
      "cell_type": "markdown",
      "metadata": {
        "id": "xgW9BSwMmrkL"
      },
      "source": [
        "# **RNN**"
      ]
    },
    {
      "cell_type": "code",
      "execution_count": null,
      "metadata": {
        "id": "Foxe5Z4JmPay"
      },
      "outputs": [],
      "source": [
        "# Create and train recurrent models.\n",
        "\n",
        "def train_supporting_model(X_train:np.ndarray)->Model:\n",
        "\n",
        "  # Create the BLSTM model\n",
        "  input = Input(shape=(MAX_LEN_SUPPORTING,))\n",
        "\n",
        "  model = Embedding(input_dim=VOCABULARY_SIZE_SUPPORTING, output_dim=EMBEDDING_SIZE, input_length=MAX_LEN_SUPPORTING, weights= [embedding_weights_supporting], trainable=True, mask_zero=True)(input)\n",
        "  model = Bidirectional(LSTM(4))(model)\n",
        "  model = Dropout(0.1)(model)\n",
        "\n",
        "  final_model=Model(input,model)\n",
        "\n",
        "  return model,input"
      ]
    },
    {
      "cell_type": "code",
      "execution_count": null,
      "metadata": {
        "id": "cp9kpePagtR9"
      },
      "outputs": [],
      "source": [
        "# Create and train recurrent models.\n",
        "\n",
        "def train_supporting_before_model(X_train:np.ndarray)->Model:\n",
        "\n",
        "  # Create the BLSTM model\n",
        "  input = Input(shape=(MAX_LEN_SUPPORTING_BEFORE,))\n",
        "\n",
        "  model = Embedding(input_dim=VOCABULARY_SIZE_SUPPORTING_BEFORE, output_dim=EMBEDDING_SIZE, input_length=MAX_LEN_SUPPORTING_BEFORE, weights= [embedding_weights_supporting_before], trainable=True, mask_zero=True)(input)\n",
        "  model = Bidirectional(LSTM(4))(model)\n",
        "  model = Dropout(0.1)(model)\n",
        "\n",
        "  final_model=Model(input,model)\n",
        "\n",
        "  return model,input"
      ]
    },
    {
      "cell_type": "code",
      "execution_count": null,
      "metadata": {
        "id": "_cqngPQJg4Gg"
      },
      "outputs": [],
      "source": [
        "# Create and train recurrent models.\n",
        "\n",
        "def train_supporting_after_model(X_train:np.ndarray)->Model:\n",
        "\n",
        "  # Create the BLSTM model\n",
        "  input = Input(shape=(MAX_LEN_SUPPORTING_AFTER,))\n",
        "\n",
        "  model = Embedding(input_dim=VOCABULARY_SIZE_SUPPORTING_AFTER, output_dim=EMBEDDING_SIZE, input_length=MAX_LEN_SUPPORTING_AFTER, weights= [embedding_weights_supporting_after], trainable=True, mask_zero=True)(input)\n",
        "  model = Bidirectional(LSTM(4))(model)\n",
        "  model = Dropout(0.1)(model)\n",
        "\n",
        "  final_model=Model(input,model)\n",
        "\n",
        "  return model,input"
      ]
    },
    {
      "cell_type": "code",
      "execution_count": null,
      "metadata": {
        "id": "KUX6G4g02HdE"
      },
      "outputs": [],
      "source": [
        "# Bidirectional LSTM model for the section preceding the argomentative ones.\n",
        "\n",
        "def train_supported_model(X_train:np.ndarray)->Model:\n",
        "\n",
        "  # Create the BLSTM model\n",
        "  input = Input(shape=(MAX_LEN_SUPPORTED,))\n",
        "\n",
        "  model = Embedding(input_dim=VOCABULARY_SIZE_SUPPORTED, output_dim=EMBEDDING_SIZE, input_length=MAX_LEN_SUPPORTED, weights= [embedding_weights_supported], trainable=True, mask_zero=True)(input)\n",
        "  model = Bidirectional(LSTM(4))(model)\n",
        "  model = Dropout(0.1)(model)\n",
        "\n",
        "  final_model=Model(input,model)\n",
        "\n",
        "  return model,input"
      ]
    },
    {
      "cell_type": "code",
      "execution_count": null,
      "metadata": {
        "id": "ASaLBcSDg_Kf"
      },
      "outputs": [],
      "source": [
        "# Create and train recurrent models.\n",
        "\n",
        "def train_supported_before_model(X_train:np.ndarray)->Model:\n",
        "\n",
        "  # Create the BLSTM model\n",
        "  input = Input(shape=(MAX_LEN_SUPPORTED_BEFORE,))\n",
        "\n",
        "  model = Embedding(input_dim=VOCABULARY_SIZE_SUPPORTED_BEFORE, output_dim=EMBEDDING_SIZE, input_length=MAX_LEN_SUPPORTED_BEFORE, weights= [embedding_weights_supported_before], trainable=True, mask_zero=True)(input)\n",
        "  model = Bidirectional(LSTM(4))(model)\n",
        "  model = Dropout(0.1)(model)\n",
        "\n",
        "  final_model=Model(input,model)\n",
        "\n",
        "  return model,input"
      ]
    },
    {
      "cell_type": "code",
      "execution_count": null,
      "metadata": {
        "id": "nmlIWDN8g_Xh"
      },
      "outputs": [],
      "source": [
        "# Create and train recurrent models.\n",
        "\n",
        "def train_supported_after_model(X_train:np.ndarray)->Model:\n",
        "\n",
        "  # Create the BLSTM model\n",
        "  input = Input(shape=(MAX_LEN_SUPPORTED_AFTER,))\n",
        "\n",
        "  model = Embedding(input_dim=VOCABULARY_SIZE_SUPPORTED_AFTER, output_dim=EMBEDDING_SIZE, input_length=MAX_LEN_SUPPORTED_AFTER, weights= [embedding_weights_supported_after], trainable=True, mask_zero=True)(input)\n",
        "  model = Bidirectional(LSTM(4))(model)\n",
        "  model = Dropout(0.1)(model)\n",
        "\n",
        "  final_model=Model(input,model)\n",
        "\n",
        "  return model,input"
      ]
    },
    {
      "cell_type": "code",
      "execution_count": null,
      "metadata": {
        "id": "ZN8JNJvzdz30"
      },
      "outputs": [],
      "source": [
        "def train_stat_model(X_train:np.ndarray,Y_train:np.ndarray):\n",
        "\n",
        "  # Create the model\n",
        "  input = Input(shape=(X_sentence_stat_dataframe.shape[1]))\n",
        "\n",
        "  model = Dense(16, activation='relu')(input)\n",
        "  model = Dropout(0.2)(model)\n",
        "  \n",
        "  output = Dense(3, 'sigmoid')(model)\n",
        "\n",
        "  final_model=Model(input,output)\n",
        "\n",
        "  final_model.compile(loss='categorical_crossentropy',\n",
        "                  optimizer='nadam',\n",
        "                  metrics=['acc'])\n",
        "  \n",
        "  training_results= final_model.fit(X_train, Y_train, batch_size=64, epochs=150, validation_split=0.15, verbose=False, callbacks=[EarlyStopping(\"val_loss\", mode='min', patience=4),])\n",
        "\n",
        "  # visualise training history\n",
        "  plt.plot(training_results.history['acc'])\n",
        "  plt.plot(training_results.history['val_acc'])\n",
        "  plt.title('model accuracy')\n",
        "  plt.ylabel('accuracy')\n",
        "  plt.xlabel('epoch')\n",
        "  plt.legend(['train', 'test'], loc=\"lower right\")\n",
        "  plt.show()\n",
        "\n",
        "  return model,input,final_model"
      ]
    },
    {
      "cell_type": "code",
      "execution_count": null,
      "metadata": {
        "id": "QPe5aQHOxT9T"
      },
      "outputs": [],
      "source": [
        "# Multimodal model.\n",
        "\n",
        "def train_MultiModal(X_supporting_train:np.array, X_supported_train:np.array, X_supporting_before_train:np.array, X_supported_before_train:np.array,X_supporting_after_train:np.array, X_supported_after_train:np.array, X_stat_train:np.array, Y_train:np.ndarray)->(Model,Model):\n",
        "\n",
        "  # Create the others models.\n",
        "  model_supporting,input_supporting=train_supporting_model(X_supporting_train)\n",
        "  model_supported,input_supported=train_supported_model(X_supported_train)\n",
        "  model_supporting_before,input_supporting_before=train_supporting_before_model(X_supporting_before_train)\n",
        "  model_supported_before,input_supported_before=train_supported_before_model(X_supported_before_train)\n",
        "  model_supporting_after,input_supporting_after=train_supporting_after_model(X_supporting_after_train)\n",
        "  model_supported_after,input_supported_after=train_supported_after_model(X_supported_after_train)\n",
        "\n",
        "  model_stat,input_stat, final_model_stat=train_stat_model(X_stat_train,Y_train)\n",
        "\n",
        "  # Concatenate togheter the previous NN.\n",
        "  concatenation_layer = Concatenate()([model_supporting,model_supported,model_supporting_before,model_supported_before,model_supporting_after,model_supported_after,model_stat])\n",
        "\n",
        "  output = Dense(3, activation='softmax')(concatenation_layer)\n",
        "\n",
        "  final_model=Model([input_supporting,input_supported,input_supporting_before,input_supported_before,input_supporting_after,input_supported_after,input_stat],output)\n",
        "\n",
        "  final_model.compile(loss='categorical_crossentropy',\n",
        "                  optimizer='nadam',\n",
        "                  metrics=['acc'])\n",
        "  \n",
        "  training_results= final_model.fit([X_supporting_train,X_supported_train,X_supporting_before_train,X_supported_before_train,X_supporting_after_train,X_supported_after_train,X_stat_train], Y_train, batch_size=64, class_weight=class_weights, epochs=50, validation_split=0.15, verbose=False, callbacks=[EarlyStopping(\"val_loss\", mode='min', patience=2),])\n",
        "\n",
        "  # visualise training history\n",
        "  plt.plot(training_results.history['acc'])\n",
        "  plt.plot(training_results.history['val_acc'])\n",
        "  plt.title('model accuracy')\n",
        "  plt.ylabel('accuracy')\n",
        "  plt.xlabel('epoch')\n",
        "  plt.legend(['train', 'test'], loc=\"lower right\")\n",
        "  plt.show()\n",
        "\n",
        "  return final_model, final_model_stat"
      ]
    },
    {
      "cell_type": "code",
      "execution_count": null,
      "metadata": {
        "colab": {
          "base_uri": "https://localhost:8080/"
        },
        "id": "qJRb65A43VPE",
        "outputId": "13f262ed-c1bb-47d8-a517-fdf858d4bcd9"
      },
      "outputs": [
        {
          "output_type": "display_data",
          "data": {
            "image/png": "[encoded data removed]",
            "text/plain": [
              "<Figure size 432x288 with 1 Axes>"
            ]
          },
          "metadata": {
            "needs_background": "light"
          }
        },
        {
          "output_type": "display_data",
          "data": {
            "image/png": "[encoded data removed]",
            "text/plain": [
              "<Figure size 432x288 with 1 Axes>"
            ]
          },
          "metadata": {
            "needs_background": "light"
          }
        }
      ],
      "source": [
        "target_names=['None','Support','Attack']\n",
        " \n",
        "y_pred=[]\n",
        "y_true=[]\n",
        "\n",
        "# Assign one-hot encodings to Y values (0,1,2).\n",
        "categorical_Y = to_categorical(Y_relation_type)\n",
        "\n",
        "X_supporting_train, X_supporting_test, X_supporting_microtext_test  = X_supporting[sections_train_set], X_supporting[sections_test_set], X_supporting[sections_test_microtext_set]\n",
        "X_supported_train, X_supported_test, X_supported_microtext_test  = X_supported[sections_train_set], X_supported[sections_test_set], X_supported[sections_test_microtext_set]\n",
        "X_supporting_before_train, X_supporting_before_test, X_supporting_microtext_before_test = X_supporting_before[sections_train_set], X_supporting_before[sections_test_set], X_supporting_before[sections_test_microtext_set]\n",
        "X_supported_before_train, X_supported_before_test, X_supported_microtext_before_test = X_supported_before[sections_train_set], X_supported_before[sections_test_set], X_supported_before[sections_test_microtext_set]\n",
        "X_supporting_after_train, X_supporting_after_test, X_supporting_microtext_after_test = X_supporting_after[sections_train_set], X_supporting_after[sections_test_set], X_supporting_after[sections_test_microtext_set]\n",
        "X_supported_after_train, X_supported_after_test, X_supported_microtext_after_test = X_supported_after[sections_train_set], X_supported_after[sections_test_set], X_supported_after[sections_test_microtext_set]\n",
        "X_stat_train, X_stat_test, X_stat_microtext_test = X_sentence_stat_dataframe[sections_train_set], X_sentence_stat_dataframe[sections_test_set], X_sentence_stat_dataframe[sections_test_microtext_set]\n",
        "Y_train, Y_test, Y_microtext_test = categorical_Y[sections_train_set], categorical_Y[sections_test_set], categorical_Y[sections_test_microtext_set]\n",
        "\n",
        "# Train the model.\n",
        "model,model_stat=train_MultiModal(X_supporting_train,X_supported_train,X_supporting_before_train,X_supported_before_train,X_supporting_after_train,X_supported_after_train,X_stat_train,Y_train)\n",
        "\n",
        "y_pred_temp=model.predict([X_supporting_microtext_test,X_supported_microtext_test,X_supporting_microtext_before_test,X_supported_microtext_before_test,X_supporting_microtext_after_test,X_supported_microtext_after_test,X_stat_microtext_test])\n",
        "for i in range(len(Y_microtext_test)):\n",
        "  y_pred.append(np.argmax(y_pred_temp[i]))\n",
        "  y_true.append(np.argmax(Y_microtext_test[i].tolist()))"
      ]
    },
    {
      "cell_type": "code",
      "execution_count": null,
      "metadata": {
        "colab": {
          "base_uri": "https://localhost:8080/"
        },
        "id": "BdRjPwKs4eLD",
        "outputId": "43625de8-1eae-447c-af1c-b2937923ad44"
      },
      "outputs": [
        {
          "output_type": "stream",
          "name": "stdout",
          "text": [
            "              precision    recall  f1-score   support\n",
            "\n",
            "        None       0.00      0.00      0.00         0\n",
            "     Support       0.74      0.51      0.60       263\n",
            "      Attack       0.32      0.06      0.09       108\n",
            "\n",
            "    accuracy                           0.38       371\n",
            "   macro avg       0.35      0.19      0.23       371\n",
            "weighted avg       0.61      0.38      0.45       371\n",
            "\n"
          ]
        },
        {
          "output_type": "stream",
          "name": "stderr",
          "text": [
            "/usr/local/lib/python3.7/dist-packages/sklearn/metrics/_classification.py:1318: UndefinedMetricWarning: Recall and F-score are ill-defined and being set to 0.0 in labels with no true samples. Use `zero_division` parameter to control this behavior.\n",
            "  _warn_prf(average, modifier, msg_start, len(result))\n",
            "/usr/local/lib/python3.7/dist-packages/sklearn/metrics/_classification.py:1318: UndefinedMetricWarning: Recall and F-score are ill-defined and being set to 0.0 in labels with no true samples. Use `zero_division` parameter to control this behavior.\n",
            "  _warn_prf(average, modifier, msg_start, len(result))\n",
            "/usr/local/lib/python3.7/dist-packages/sklearn/metrics/_classification.py:1318: UndefinedMetricWarning: Recall and F-score are ill-defined and being set to 0.0 in labels with no true samples. Use `zero_division` parameter to control this behavior.\n",
            "  _warn_prf(average, modifier, msg_start, len(result))\n"
          ]
        }
      ],
      "source": [
        "# Print the classification report of the result of the models created\n",
        "print(classification_report(y_true, y_pred, target_names=target_names))   "
      ]
    },
    {
      "cell_type": "code",
      "execution_count": null,
      "metadata": {
        "colab": {
          "base_uri": "https://localhost:8080/"
        },
        "id": "ctGkhwiw_sfX",
        "outputId": "9cc834a3-736d-4c6f-8416-c4bc90c5d829"
      },
      "outputs": [
        {
          "output_type": "display_data",
          "data": {
            "image/png": "[encoded data removed]",
            "text/plain": [
              "<Figure size 432x288 with 2 Axes>"
            ]
          },
          "metadata": {
            "needs_background": "light"
          }
        }
      ],
      "source": [
        "# Print the confusion matrix.\n",
        "cm=confusion_matrix(y_true, y_pred,normalize='true')\n",
        "\n",
        "cm_disp=ConfusionMatrixDisplay(confusion_matrix=cm,display_labels=target_names)\n",
        "cm_disp.plot()\n",
        "plt.show()"
      ]
    },
    {
      "cell_type": "markdown",
      "metadata": {
        "id": "OAHvxXD46ZZJ"
      },
      "source": [
        "## **Stat model results Microtext**"
      ]
    },
    {
      "cell_type": "code",
      "execution_count": null,
      "metadata": {
        "id": "2MDwpSRS6YvY"
      },
      "outputs": [],
      "source": [
        "y_pred=[]\n",
        "y_true=[]\n",
        "\n",
        "# Transform probabilities predicted in the most probable value (0 or 1).\n",
        "y_pred_temp=model_stat.predict(X_stat_microtext_test).tolist()\n",
        "for i in range(len(Y_microtext_test)):\n",
        "  y_pred.append(np.argmax(y_pred_temp[i]))\n",
        "  y_true.append(np.argmax(Y_microtext_test[i].tolist()))"
      ]
    },
    {
      "cell_type": "code",
      "execution_count": null,
      "metadata": {
        "colab": {
          "base_uri": "https://localhost:8080/"
        },
        "id": "Ag3FbyMv6uQd",
        "outputId": "e7fdef31-508d-4ca0-d853-e8b3273e3878"
      },
      "outputs": [
        {
          "output_type": "stream",
          "name": "stdout",
          "text": [
            "              precision    recall  f1-score   support\n",
            "\n",
            "        None       0.00      0.00      0.00         0\n",
            "     Support       0.71      0.99      0.83       263\n",
            "      Attack       0.00      0.00      0.00       108\n",
            "\n",
            "    accuracy                           0.70       371\n",
            "   macro avg       0.24      0.33      0.28       371\n",
            "weighted avg       0.50      0.70      0.59       371\n",
            "\n"
          ]
        },
        {
          "output_type": "stream",
          "name": "stderr",
          "text": [
            "/usr/local/lib/python3.7/dist-packages/sklearn/metrics/_classification.py:1318: UndefinedMetricWarning: Precision and F-score are ill-defined and being set to 0.0 in labels with no predicted samples. Use `zero_division` parameter to control this behavior.\n",
            "  _warn_prf(average, modifier, msg_start, len(result))\n",
            "/usr/local/lib/python3.7/dist-packages/sklearn/metrics/_classification.py:1318: UndefinedMetricWarning: Recall and F-score are ill-defined and being set to 0.0 in labels with no true samples. Use `zero_division` parameter to control this behavior.\n",
            "  _warn_prf(average, modifier, msg_start, len(result))\n",
            "/usr/local/lib/python3.7/dist-packages/sklearn/metrics/_classification.py:1318: UndefinedMetricWarning: Precision and F-score are ill-defined and being set to 0.0 in labels with no predicted samples. Use `zero_division` parameter to control this behavior.\n",
            "  _warn_prf(average, modifier, msg_start, len(result))\n",
            "/usr/local/lib/python3.7/dist-packages/sklearn/metrics/_classification.py:1318: UndefinedMetricWarning: Recall and F-score are ill-defined and being set to 0.0 in labels with no true samples. Use `zero_division` parameter to control this behavior.\n",
            "  _warn_prf(average, modifier, msg_start, len(result))\n",
            "/usr/local/lib/python3.7/dist-packages/sklearn/metrics/_classification.py:1318: UndefinedMetricWarning: Precision and F-score are ill-defined and being set to 0.0 in labels with no predicted samples. Use `zero_division` parameter to control this behavior.\n",
            "  _warn_prf(average, modifier, msg_start, len(result))\n",
            "/usr/local/lib/python3.7/dist-packages/sklearn/metrics/_classification.py:1318: UndefinedMetricWarning: Recall and F-score are ill-defined and being set to 0.0 in labels with no true samples. Use `zero_division` parameter to control this behavior.\n",
            "  _warn_prf(average, modifier, msg_start, len(result))\n"
          ]
        }
      ],
      "source": [
        "# Print the classification report of the result of the models created\n",
        "print(classification_report(y_true, y_pred, target_names=target_names)) "
      ]
    },
    {
      "cell_type": "code",
      "execution_count": null,
      "metadata": {
        "colab": {
          "base_uri": "https://localhost:8080/"
        },
        "id": "JXkjm9h66wBL",
        "outputId": "bf287f16-f587-4e00-8a48-9b1d62d8dbce"
      },
      "outputs": [
        {
          "output_type": "display_data",
          "data": {
            "image/png": "[encoded data removed]",
            "text/plain": [
              "<Figure size 432x288 with 2 Axes>"
            ]
          },
          "metadata": {
            "needs_background": "light"
          }
        }
      ],
      "source": [
        "# Print the confusion matrix.\n",
        "cm=confusion_matrix(y_true, y_pred,normalize='true')\n",
        "\n",
        "cm_disp=ConfusionMatrixDisplay(confusion_matrix=cm,display_labels=target_names)\n",
        "cm_disp.plot()\n",
        "plt.show()"
      ]
    },
    {
      "cell_type": "markdown",
      "metadata": {
        "id": "W8dpVZ79XMPA"
      },
      "source": [
        "## **Stab and Gurevych test set**"
      ]
    },
    {
      "cell_type": "code",
      "execution_count": null,
      "metadata": {
        "colab": {
          "base_uri": "https://localhost:8080/"
        },
        "id": "qd2yTBNlXGgg",
        "outputId": "3c445f13-1468-4a1d-e3e2-78f12b8900db"
      },
      "outputs": [
        {
          "output_type": "stream",
          "name": "stdout",
          "text": [
            "              precision    recall  f1-score   support\n",
            "\n",
            "        None       0.56      0.86      0.68       319\n",
            "     Support       0.87      0.61      0.72       542\n",
            "      Attack       0.13      0.07      0.09        28\n",
            "\n",
            "    accuracy                           0.68       889\n",
            "   macro avg       0.52      0.51      0.50       889\n",
            "weighted avg       0.73      0.68      0.68       889\n",
            "\n"
          ]
        }
      ],
      "source": [
        "y_pred=[]\n",
        "y_true=[]\n",
        "\n",
        "y_pred_temp=model.predict([X_supporting_test,X_supported_test,X_supporting_before_test,X_supported_before_test,X_supporting_after_test,X_supported_after_test,X_stat_test])\n",
        "for i in range(len(Y_test)):\n",
        "  y_pred.append(np.argmax(y_pred_temp[i]))\n",
        "  y_true.append(np.argmax(Y_test[i].tolist()))\n",
        "\n",
        "# Print the classification report of the result of the models created\n",
        "print(classification_report(y_true, y_pred, target_names=target_names))"
      ]
    },
    {
      "cell_type": "code",
      "execution_count": null,
      "metadata": {
        "colab": {
          "base_uri": "https://localhost:8080/"
        },
        "id": "LhidasLdXWCo",
        "outputId": "b55538b0-3cfb-4de7-f5ca-c6fd539f3848"
      },
      "outputs": [
        {
          "output_type": "display_data",
          "data": {
            "image/png": "[encoded data removed]",
            "text/plain": [
              "<Figure size 432x288 with 2 Axes>"
            ]
          },
          "metadata": {
            "needs_background": "light"
          }
        }
      ],
      "source": [
        "# Print the confusion matrix.\n",
        "cm=confusion_matrix(y_true, y_pred,normalize='true')\n",
        "\n",
        "cm_disp=ConfusionMatrixDisplay(confusion_matrix=cm,display_labels=target_names)\n",
        "cm_disp.plot()\n",
        "plt.show()"
      ]
    },
    {
      "cell_type": "markdown",
      "metadata": {
        "id": "rClCKVAyeOYI"
      },
      "source": [
        "## **Stat model results Stab and Gurevych**"
      ]
    },
    {
      "cell_type": "code",
      "execution_count": null,
      "metadata": {
        "id": "4hcY1_NaeOYI"
      },
      "outputs": [],
      "source": [
        "y_pred=[]\n",
        "y_true=[]\n",
        "\n",
        "# Transform probabilities predicted in the most probable value (0 or 1).\n",
        "y_pred_temp=model_stat.predict(X_stat_test).tolist()\n",
        "for i in range(len(Y_test)):\n",
        "  y_pred.append(np.argmax(y_pred_temp[i]))\n",
        "  y_true.append(np.argmax(Y_test[i].tolist()))"
      ]
    },
    {
      "cell_type": "code",
      "execution_count": null,
      "metadata": {
        "colab": {
          "base_uri": "https://localhost:8080/"
        },
        "id": "IO7WpyD8eOYI",
        "outputId": "c3605cd7-1c5d-4584-d6dd-b93b9f64b824"
      },
      "outputs": [
        {
          "output_type": "stream",
          "name": "stdout",
          "text": [
            "              precision    recall  f1-score   support\n",
            "\n",
            "        None       0.82      0.74      0.78       319\n",
            "     Support       0.82      0.91      0.86       542\n",
            "      Attack       0.00      0.00      0.00        28\n",
            "\n",
            "    accuracy                           0.82       889\n",
            "   macro avg       0.55      0.55      0.55       889\n",
            "weighted avg       0.79      0.82      0.80       889\n",
            "\n"
          ]
        },
        {
          "output_type": "stream",
          "name": "stderr",
          "text": [
            "/usr/local/lib/python3.7/dist-packages/sklearn/metrics/_classification.py:1318: UndefinedMetricWarning: Precision and F-score are ill-defined and being set to 0.0 in labels with no predicted samples. Use `zero_division` parameter to control this behavior.\n",
            "  _warn_prf(average, modifier, msg_start, len(result))\n",
            "/usr/local/lib/python3.7/dist-packages/sklearn/metrics/_classification.py:1318: UndefinedMetricWarning: Precision and F-score are ill-defined and being set to 0.0 in labels with no predicted samples. Use `zero_division` parameter to control this behavior.\n",
            "  _warn_prf(average, modifier, msg_start, len(result))\n",
            "/usr/local/lib/python3.7/dist-packages/sklearn/metrics/_classification.py:1318: UndefinedMetricWarning: Precision and F-score are ill-defined and being set to 0.0 in labels with no predicted samples. Use `zero_division` parameter to control this behavior.\n",
            "  _warn_prf(average, modifier, msg_start, len(result))\n"
          ]
        }
      ],
      "source": [
        "# Print the classification report of the result of the models created\n",
        "print(classification_report(y_true, y_pred, target_names=target_names)) "
      ]
    },
    {
      "cell_type": "code",
      "execution_count": null,
      "metadata": {
        "colab": {
          "base_uri": "https://localhost:8080/"
        },
        "id": "aPhNe_EkeOYI",
        "outputId": "7c2477bf-91d0-42c7-e5ed-f205973b0789"
      },
      "outputs": [
        {
          "output_type": "display_data",
          "data": {
            "image/png": "[encoded data removed]",
            "text/plain": [
              "<Figure size 432x288 with 2 Axes>"
            ]
          },
          "metadata": {
            "needs_background": "light"
          }
        }
      ],
      "source": [
        "# Print the confusion matrix.\n",
        "cm=confusion_matrix(y_true, y_pred,normalize='true')\n",
        "\n",
        "cm_disp=ConfusionMatrixDisplay(confusion_matrix=cm,display_labels=target_names)\n",
        "cm_disp.plot()\n",
        "plt.show()"
      ]
    }
  ],
  "metadata": {
    "colab": {
      "name": "Microtext_Rel(3)_TTR.ipynb",
      "provenance": [],
      "collapsed_sections": [
        "h13UiYyFOV6c",
        "OrsWTewaCnPf",
        "0697g-wg76g8",
        "pov3Yk0pUbjm",
        "n8USF6Roumqs",
        "c0aJCVSowSqu",
        "Um-eNw2yfO4w",
        "Kw2e7LzofezK",
        "vX6NxN8X5WHQ",
        "am7Vk_E_gSKc",
        "jNSWzqAZfDXY",
        "roYver9XG2EM",
        "V5ah4d7RwxYI"
      ]
    },
    "kernelspec": {
      "display_name": "Python 3",
      "name": "python3"
    },
    "language_info": {
      "name": "python"
    }
  },
  "nbformat": 4,
  "nbformat_minor": 0
}