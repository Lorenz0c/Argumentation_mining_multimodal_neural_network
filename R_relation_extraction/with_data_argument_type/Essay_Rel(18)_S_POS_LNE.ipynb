{
  "cells": [
    {
      "cell_type": "code",
      "execution_count": null,
      "metadata": {
        "colab": {
          "base_uri": "https://localhost:8080/"
        },
        "id": "06I5cxENSPwP",
        "outputId": "ab3cfe6e-34d7-48c1-aee1-74ce2d0f3e2d"
      },
      "outputs": [
        {
          "output_type": "stream",
          "name": "stdout",
          "text": [
            "Collecting mendelai-brat-parser\n",
            "  Downloading mendelai_brat_parser-0.0.8.tar.gz (4.6 kB)\n",
            "Building wheels for collected packages: mendelai-brat-parser\n",
            "  Building wheel for mendelai-brat-parser (setup.py) ... \u001b[?25l\u001b[?25hdone\n",
            "  Created wheel for mendelai-brat-parser: filename=mendelai_brat_parser-0.0.8-py3-none-any.whl size=4847 sha256=de43101d85741a2d7549845e9409339295c07c102d67a5a455122602eeca3323\n",
            "  Stored in directory: /root/.cache/pip/wheels/63/ad/4c/8bf3f686c12a241375b9e8a1f51016ed192144808b278831dd\n",
            "Successfully built mendelai-brat-parser\n",
            "Installing collected packages: mendelai-brat-parser\n",
            "Successfully installed mendelai-brat-parser-0.0.8\n",
            "[nltk_data] Downloading package punkt to /root/nltk_data...\n",
            "[nltk_data]   Unzipping tokenizers/punkt.zip.\n",
            "[nltk_data] Downloading package wordnet to /root/nltk_data...\n",
            "[nltk_data]   Unzipping corpora/wordnet.zip.\n",
            "[nltk_data] Downloading package averaged_perceptron_tagger to\n",
            "[nltk_data]     /root/nltk_data...\n",
            "[nltk_data]   Unzipping taggers/averaged_perceptron_tagger.zip.\n",
            "[nltk_data] Downloading package universal_tagset to /root/nltk_data...\n",
            "[nltk_data]   Unzipping taggers/universal_tagset.zip.\n"
          ]
        },
        {
          "output_type": "execute_result",
          "data": {
            "text/plain": [
              "True"
            ]
          },
          "metadata": {},
          "execution_count": 1
        }
      ],
      "source": [
        "!pip install mendelai-brat-parser\n",
        "\n",
        "import nltk\n",
        "nltk.download('punkt')\n",
        "nltk.download('wordnet')\n",
        "nltk.download('averaged_perceptron_tagger')\n",
        "\n",
        "nltk.download('universal_tagset')"
      ]
    },
    {
      "cell_type": "code",
      "execution_count": null,
      "metadata": {
        "id": "4YTGrEc9Dy-X"
      },
      "outputs": [],
      "source": [
        "import pandas as pd\n",
        "import numpy as np\n",
        "from matplotlib import pyplot as plt\n",
        "import regex as re\n",
        "from collections import Counter\n",
        "import math\n",
        "\n",
        "from google.colab import files\n",
        "import zipfile\n",
        "import glob\n",
        "\n",
        "from brat_parser import get_entities_relations_attributes_groups\n",
        "\n",
        "from nltk.tag import pos_tag, map_tag\n",
        "\n",
        "from sklearn.model_selection import train_test_split\n",
        "from nltk.stem import WordNetLemmatizer\n",
        "from sklearn.feature_extraction.text import CountVectorizer\n",
        "import spacy\n",
        "from keras.preprocessing.sequence import pad_sequences\n",
        "from keras.preprocessing.text import Tokenizer\n",
        "\n",
        "from brat_parser import get_entities_relations_attributes_groups\n",
        "\n",
        "import gensim\n",
        "import gensim.downloader as api\n",
        "from gensim.models import Word2Vec\n",
        "\n",
        "from sklearn.metrics import classification_report\n",
        "from keras.utils.np_utils import to_categorical\n",
        "\n",
        "from sklearn.metrics import confusion_matrix\n",
        "from sklearn.metrics import ConfusionMatrixDisplay"
      ]
    },
    {
      "cell_type": "code",
      "execution_count": null,
      "metadata": {
        "id": "Ph7XogQnx4f0"
      },
      "outputs": [],
      "source": [
        "# Neural network imports.\n",
        "from keras.models import Sequential\n",
        "from keras.layers import Embedding\n",
        "from keras.layers import Dense, Input, Dropout\n",
        "from keras.layers import TimeDistributed\n",
        "from keras.layers import Concatenate\n",
        "from keras.layers import LSTM, GRU, Bidirectional\n",
        "from tensorflow.keras.callbacks import EarlyStopping\n",
        "from keras.models import Model, Input"
      ]
    },
    {
      "cell_type": "markdown",
      "metadata": {
        "id": "Of8JJZriJyvS"
      },
      "source": [
        "# **Relations Dataframe**"
      ]
    },
    {
      "cell_type": "code",
      "execution_count": null,
      "metadata": {
        "colab": {
          "base_uri": "https://localhost:8080/",
          "height": 126,
          "resources": {
            "http://localhost:8080/nbextensions/google.colab/files.js": {
              "data": "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",
              "headers": [
                [
                  "content-type",
                  "application/javascript"
                ]
              ],
              "ok": true,
              "status": 200,
              "status_text": ""
            }
          }
        },
        "id": "L2MZbtoKr85s",
        "outputId": "a3fdefa3-3a63-4b42-ae7e-1ec3713839c0"
      },
      "outputs": [
        {
          "output_type": "stream",
          "name": "stdout",
          "text": [
            "\n",
            "Import essay_relation_dataset.csv\n",
            "\n"
          ]
        },
        {
          "output_type": "display_data",
          "data": {
            "text/html": [
              "\n",
              "     <input type=\"file\" id=\"files-a1140cad-40b6-46cc-b58b-c2666df1770a\" name=\"files[]\" multiple disabled\n",
              "        style=\"border:none\" />\n",
              "     <output id=\"result-a1140cad-40b6-46cc-b58b-c2666df1770a\">\n",
              "      Upload widget is only available when the cell has been executed in the\n",
              "      current browser session. Please rerun this cell to enable.\n",
              "      </output>\n",
              "      <script src=\"/nbextensions/google.colab/files.js\"></script> "
            ],
            "text/plain": [
              "<IPython.core.display.HTML object>"
            ]
          },
          "metadata": {}
        },
        {
          "output_type": "stream",
          "name": "stdout",
          "text": [
            "Saving essay_relation_dataset.csv to essay_relation_dataset.csv\n"
          ]
        }
      ],
      "source": [
        "# Import the datataset, created in a previous moment, (essay_relation_dataset.csv) \n",
        "# containing an entry for each relation of the Stab and Gurevych dataset.\n",
        "# Each entry is composed as: \n",
        "# (type,doc_id,supporting_text,supporting_type,supporting_sentence_id,supporting_section_length,supported_text,supported_type,supported_sentence_id,supported_section_length)\n",
        "# where type is the relation tipe (attack, support, none).\n",
        "# supporting and supported refer to the two section of the corpus that are in a relation:\n",
        "# text refers to their original texts, type if they are a premise or a claim, the length to the number of sentences in the arg. section after the first one,  and sentence_id\n",
        "# indicates the position in the corpus of the sentence that contains them.\n",
        "print('\\nImport essay_relation_dataset.csv\\n')\n",
        "uploaded = files.upload()"
      ]
    },
    {
      "cell_type": "code",
      "execution_count": null,
      "metadata": {
        "colab": {
          "base_uri": "https://localhost:8080/",
          "height": 239,
          "resources": {
            "http://localhost:8080/nbextensions/google.colab/files.js": {
              "data": "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",
              "headers": [
                [
                  "content-type",
                  "application/javascript"
                ]
              ],
              "ok": true,
              "status": 200,
              "status_text": ""
            }
          }
        },
        "id": "NC1zxAkQYPzf",
        "outputId": "74f60699-bb32-4b14-9a42-a7a4465c9195"
      },
      "outputs": [
        {
          "output_type": "stream",
          "name": "stdout",
          "text": [
            "\n",
            "Import relation_statistic.csv\n",
            "\n"
          ]
        },
        {
          "output_type": "display_data",
          "data": {
            "text/html": [
              "\n",
              "     <input type=\"file\" id=\"files-6c325a7a-7071-4611-8b5d-73479cea62c1\" name=\"files[]\" multiple disabled\n",
              "        style=\"border:none\" />\n",
              "     <output id=\"result-6c325a7a-7071-4611-8b5d-73479cea62c1\">\n",
              "      Upload widget is only available when the cell has been executed in the\n",
              "      current browser session. Please rerun this cell to enable.\n",
              "      </output>\n",
              "      <script src=\"/nbextensions/google.colab/files.js\"></script> "
            ],
            "text/plain": [
              "<IPython.core.display.HTML object>"
            ]
          },
          "metadata": {}
        },
        {
          "output_type": "stream",
          "name": "stdout",
          "text": [
            "\n",
            "Import relation_named_entity_BOW.csv\n",
            "\n"
          ]
        },
        {
          "output_type": "display_data",
          "data": {
            "text/html": [
              "\n",
              "     <input type=\"file\" id=\"files-33db782a-9f3d-434d-80bf-e0ada4cc6c2d\" name=\"files[]\" multiple disabled\n",
              "        style=\"border:none\" />\n",
              "     <output id=\"result-33db782a-9f3d-434d-80bf-e0ada4cc6c2d\">\n",
              "      Upload widget is only available when the cell has been executed in the\n",
              "      current browser session. Please rerun this cell to enable.\n",
              "      </output>\n",
              "      <script src=\"/nbextensions/google.colab/files.js\"></script> "
            ],
            "text/plain": [
              "<IPython.core.display.HTML object>"
            ]
          },
          "metadata": {}
        },
        {
          "output_type": "stream",
          "name": "stdout",
          "text": [
            "\n",
            "Import relation_simple_POS.csv\n",
            "\n"
          ]
        },
        {
          "output_type": "display_data",
          "data": {
            "text/html": [
              "\n",
              "     <input type=\"file\" id=\"files-3ba4a46d-2e45-44e8-8556-5e363739d558\" name=\"files[]\" multiple disabled\n",
              "        style=\"border:none\" />\n",
              "     <output id=\"result-3ba4a46d-2e45-44e8-8556-5e363739d558\">\n",
              "      Upload widget is only available when the cell has been executed in the\n",
              "      current browser session. Please rerun this cell to enable.\n",
              "      </output>\n",
              "      <script src=\"/nbextensions/google.colab/files.js\"></script> "
            ],
            "text/plain": [
              "<IPython.core.display.HTML object>"
            ]
          },
          "metadata": {}
        }
      ],
      "source": [
        "# Import the statistics and positions information of the sentences to classify.\n",
        "print('\\nImport relation_statistic.csv\\n')\n",
        "upload = files.upload()\n",
        "\n",
        "# Import the BOW of the labeled named entity of the sentences to classify.\n",
        "print('\\nImport relation_named_entity_BOW.csv\\n')\n",
        "upload = files.upload()\n",
        "\n",
        "# Import the BOW of the simplifyed POS of the sentences to classify.\n",
        "print('\\nImport relation_simple_POS.csv\\n')\n",
        "upload = files.upload()"
      ]
    },
    {
      "cell_type": "code",
      "execution_count": null,
      "metadata": {
        "colab": {
          "base_uri": "https://localhost:8080/",
          "height": 165,
          "resources": {
            "http://localhost:8080/nbextensions/google.colab/files.js": {
              "data": "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",
              "headers": [
                [
                  "content-type",
                  "application/javascript"
                ]
              ],
              "ok": true,
              "status": 200,
              "status_text": ""
            }
          }
        },
        "id": "Hj1akbGk-ng6",
        "outputId": "0d1104e0-5051-4b6e-cd4b-88a8fd5c3418"
      },
      "outputs": [
        {
          "output_type": "stream",
          "name": "stdout",
          "text": [
            "\n",
            "Import drop_relation_named_entity.txt\n",
            "\n"
          ]
        },
        {
          "output_type": "display_data",
          "data": {
            "text/html": [
              "\n",
              "     <input type=\"file\" id=\"files-7bf8f795-0677-4598-8a85-5505b09b5821\" name=\"files[]\" multiple disabled\n",
              "        style=\"border:none\" />\n",
              "     <output id=\"result-7bf8f795-0677-4598-8a85-5505b09b5821\">\n",
              "      Upload widget is only available when the cell has been executed in the\n",
              "      current browser session. Please rerun this cell to enable.\n",
              "      </output>\n",
              "      <script src=\"/nbextensions/google.colab/files.js\"></script> "
            ],
            "text/plain": [
              "<IPython.core.display.HTML object>"
            ]
          },
          "metadata": {}
        },
        {
          "output_type": "stream",
          "name": "stdout",
          "text": [
            "\n",
            "Import drop_relation_simple_POS.txt\n",
            "\n"
          ]
        },
        {
          "output_type": "display_data",
          "data": {
            "text/html": [
              "\n",
              "     <input type=\"file\" id=\"files-e7e502fd-d738-4bd0-802b-ab385475ff1c\" name=\"files[]\" multiple disabled\n",
              "        style=\"border:none\" />\n",
              "     <output id=\"result-e7e502fd-d738-4bd0-802b-ab385475ff1c\">\n",
              "      Upload widget is only available when the cell has been executed in the\n",
              "      current browser session. Please rerun this cell to enable.\n",
              "      </output>\n",
              "      <script src=\"/nbextensions/google.colab/files.js\"></script> "
            ],
            "text/plain": [
              "<IPython.core.display.HTML object>"
            ]
          },
          "metadata": {}
        }
      ],
      "source": [
        "# Import the feature relative to the labeled named entity of the sentences not to use.\n",
        "# (drop_claim_premise_named_entity.txt).\n",
        "print('\\nImport drop_relation_named_entity.txt\\n')\n",
        "upload = files.upload()\n",
        "\n",
        "# Import the feature relative to the simple POS tag of the sentences not to use.\n",
        "# (drop_claim_premise_named_entity.txt).\n",
        "print('\\nImport drop_relation_simple_POS.txt\\n')\n",
        "upload = files.upload()"
      ]
    },
    {
      "cell_type": "code",
      "execution_count": null,
      "metadata": {
        "colab": {
          "base_uri": "https://localhost:8080/",
          "height": 74,
          "resources": {
            "http://localhost:8080/nbextensions/google.colab/files.js": {
              "data": "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",
              "headers": [
                [
                  "content-type",
                  "application/javascript"
                ]
              ],
              "ok": true,
              "status": 200,
              "status_text": ""
            }
          }
        },
        "id": "_B0zeTFGOJp7",
        "outputId": "3cf5b3e8-ba4c-4fd3-c3f7-7e610ee39425"
      },
      "outputs": [
        {
          "output_type": "display_data",
          "data": {
            "text/html": [
              "\n",
              "     <input type=\"file\" id=\"files-999e18bf-581a-4f51-a746-d20754183901\" name=\"files[]\" multiple disabled\n",
              "        style=\"border:none\" />\n",
              "     <output id=\"result-999e18bf-581a-4f51-a746-d20754183901\">\n",
              "      Upload widget is only available when the cell has been executed in the\n",
              "      current browser session. Please rerun this cell to enable.\n",
              "      </output>\n",
              "      <script src=\"/nbextensions/google.colab/files.js\"></script> "
            ],
            "text/plain": [
              "<IPython.core.display.HTML object>"
            ]
          },
          "metadata": {}
        },
        {
          "output_type": "stream",
          "name": "stdout",
          "text": [
            "Saving ArgumentAnnotatedEssays-2.0.zip to ArgumentAnnotatedEssays-2.0.zip\n"
          ]
        }
      ],
      "source": [
        "# Import the original Stab and Gurevych dataset (2017 version).\n",
        "\n",
        "uploaded = files.upload()"
      ]
    },
    {
      "cell_type": "code",
      "execution_count": null,
      "metadata": {
        "id": "JdU3890Z3kW7"
      },
      "outputs": [],
      "source": [
        "# The imported dataset is here directly used.\n",
        "# MajorClaim have been removed from the argumentations in the imported dataset (they don't have labeled relations).\n",
        "\n",
        "relation_ann_dataset=pd.read_csv('essay_relation_dataset.csv')"
      ]
    },
    {
      "cell_type": "code",
      "execution_count": null,
      "metadata": {
        "colab": {
          "base_uri": "https://localhost:8080/",
          "height": 486
        },
        "id": "0RvtcIuEDGgY",
        "outputId": "d81e7f90-e29c-4697-eb00-3103f53d9667"
      },
      "outputs": [
        {
          "output_type": "execute_result",
          "data": {
            "text/html": [
              "<div>\n",
              "<style scoped>\n",
              "    .dataframe tbody tr th:only-of-type {\n",
              "        vertical-align: middle;\n",
              "    }\n",
              "\n",
              "    .dataframe tbody tr th {\n",
              "        vertical-align: top;\n",
              "    }\n",
              "\n",
              "    .dataframe thead th {\n",
              "        text-align: right;\n",
              "    }\n",
              "</style>\n",
              "<table border=\"1\" class=\"dataframe\">\n",
              "  <thead>\n",
              "    <tr style=\"text-align: right;\">\n",
              "      <th></th>\n",
              "      <th>type</th>\n",
              "      <th>doc_id</th>\n",
              "      <th>supporting_text</th>\n",
              "      <th>supporting_type</th>\n",
              "      <th>supporting_sentence_id</th>\n",
              "      <th>supporting_section_length</th>\n",
              "      <th>supported_text</th>\n",
              "      <th>supported_type</th>\n",
              "      <th>supported_sentence_id</th>\n",
              "      <th>supported_section_length</th>\n",
              "    </tr>\n",
              "  </thead>\n",
              "  <tbody>\n",
              "    <tr>\n",
              "      <th>0</th>\n",
              "      <td>supports</td>\n",
              "      <td>0</td>\n",
              "      <td>What we acquired from team work is not only ho...</td>\n",
              "      <td>Premise</td>\n",
              "      <td>5</td>\n",
              "      <td>0</td>\n",
              "      <td>through cooperation, children can learn about ...</td>\n",
              "      <td>Claim</td>\n",
              "      <td>4</td>\n",
              "      <td>0</td>\n",
              "    </tr>\n",
              "    <tr>\n",
              "      <th>1</th>\n",
              "      <td>supports</td>\n",
              "      <td>0</td>\n",
              "      <td>During the process of cooperation, children ca...</td>\n",
              "      <td>Premise</td>\n",
              "      <td>6</td>\n",
              "      <td>0</td>\n",
              "      <td>through cooperation, children can learn about ...</td>\n",
              "      <td>Claim</td>\n",
              "      <td>4</td>\n",
              "      <td>0</td>\n",
              "    </tr>\n",
              "    <tr>\n",
              "      <th>2</th>\n",
              "      <td>supports</td>\n",
              "      <td>0</td>\n",
              "      <td>All of these skills help them to get on well w...</td>\n",
              "      <td>Premise</td>\n",
              "      <td>7</td>\n",
              "      <td>0</td>\n",
              "      <td>through cooperation, children can learn about ...</td>\n",
              "      <td>Claim</td>\n",
              "      <td>4</td>\n",
              "      <td>0</td>\n",
              "    </tr>\n",
              "    <tr>\n",
              "      <th>3</th>\n",
              "      <td>supports</td>\n",
              "      <td>0</td>\n",
              "      <td>the significance of competition is that how to...</td>\n",
              "      <td>Premise</td>\n",
              "      <td>8</td>\n",
              "      <td>0</td>\n",
              "      <td>competition makes the society more effective</td>\n",
              "      <td>Claim</td>\n",
              "      <td>9</td>\n",
              "      <td>0</td>\n",
              "    </tr>\n",
              "    <tr>\n",
              "      <th>4</th>\n",
              "      <td>supports</td>\n",
              "      <td>0</td>\n",
              "      <td>when we consider about the question that how t...</td>\n",
              "      <td>Premise</td>\n",
              "      <td>10</td>\n",
              "      <td>0</td>\n",
              "      <td>without the cooperation, there would be no vic...</td>\n",
              "      <td>Claim</td>\n",
              "      <td>14</td>\n",
              "      <td>0</td>\n",
              "    </tr>\n",
              "  </tbody>\n",
              "</table>\n",
              "</div>"
            ],
            "text/plain": [
              "       type  doc_id  ... supported_sentence_id supported_section_length\n",
              "0  supports       0  ...                     4                        0\n",
              "1  supports       0  ...                     4                        0\n",
              "2  supports       0  ...                     4                        0\n",
              "3  supports       0  ...                     9                        0\n",
              "4  supports       0  ...                    14                        0\n",
              "\n",
              "[5 rows x 10 columns]"
            ]
          },
          "metadata": {},
          "execution_count": 9
        }
      ],
      "source": [
        "relation_ann_dataset.head()"
      ]
    },
    {
      "cell_type": "code",
      "execution_count": null,
      "metadata": {
        "colab": {
          "base_uri": "https://localhost:8080/"
        },
        "id": "Gc5iWDhJDY5z",
        "outputId": "2f78edd9-7ea1-44d9-8c90-5467b68fbcda"
      },
      "outputs": [
        {
          "output_type": "stream",
          "name": "stdout",
          "text": [
            "Informations about the dataset:\n",
            "\n",
            "Number element in the dataset: 6243\n",
            "Number effective relations: 3832\n",
            "Number support relations: 3613\n",
            "Number attack relations: 219\n",
            "Number premise supported by other premises: 667\n"
          ]
        }
      ],
      "source": [
        "# Print some the dataset characteristics.\n",
        "print(\"Informations about the dataset:\\n\")\n",
        "print(\"Number element in the dataset: {}\".format(len(relation_ann_dataset)))\n",
        "print(\"Number effective relations: {}\".format(len(relation_ann_dataset.loc[relation_ann_dataset['type']!='None'])))\n",
        "print(\"Number support relations: {}\".format(len(relation_ann_dataset.loc[relation_ann_dataset['type']=='supports'])))\n",
        "print(\"Number attack relations: {}\".format(len(relation_ann_dataset.loc[relation_ann_dataset['type']=='attacks'])))\n",
        "print(\"Number premise supported by other premises: {}\".format(len(relation_ann_dataset.loc[(relation_ann_dataset['supported_type']=='Premise')&(relation_ann_dataset['type']=='supports')])))"
      ]
    },
    {
      "cell_type": "markdown",
      "metadata": {
        "id": "h13UiYyFOV6c"
      },
      "source": [
        "# **Original dataset**"
      ]
    },
    {
      "cell_type": "code",
      "execution_count": null,
      "metadata": {
        "id": "GMgahsgcrTws"
      },
      "outputs": [],
      "source": [
        "# Function to extract zip file.\n",
        "# Takes in input the path to the zip file (path_zip) and the one to store the destination directory (path_destination).\n",
        "\n",
        "def extract_zip(path_zip,path_destination):\n",
        "  with zipfile.ZipFile(path_zip, 'r') as zip_ref:\n",
        "    zip_ref.extractall(path_destination)\n"
      ]
    },
    {
      "cell_type": "code",
      "execution_count": null,
      "metadata": {
        "id": "cE_5p8qap-Ib"
      },
      "outputs": [],
      "source": [
        "# Extract zip file (two zip files one inside the other).\n",
        "\n",
        "extract_zip('ArgumentAnnotatedEssays-2.0.zip','ArgumentAnnotatedEssays-2.0')\n",
        "\n",
        "extract_zip('ArgumentAnnotatedEssays-2.0/ArgumentAnnotatedEssays-2.0/brat-project-final.zip','ArgumentAnnotatedEssays')"
      ]
    },
    {
      "cell_type": "markdown",
      "metadata": {
        "id": "OrsWTewaCnPf"
      },
      "source": [
        "# **Create and visualize the required Dataframe**"
      ]
    },
    {
      "cell_type": "code",
      "execution_count": null,
      "metadata": {
        "id": "rdAvNRWA08Sg"
      },
      "outputs": [],
      "source": [
        "# Extract the list of text files of the essays in the dataset.\n",
        "txt_files = sorted(glob.glob(\"ArgumentAnnotatedEssays/brat-project-final/essay*.txt\"))\n",
        "\n",
        "# Extract the list of text files of the essays in the dataset.\n",
        "ann_files = sorted(glob.glob(\"ArgumentAnnotatedEssays/brat-project-final/essay*.ann\"))"
      ]
    },
    {
      "cell_type": "code",
      "execution_count": null,
      "metadata": {
        "colab": {
          "base_uri": "https://localhost:8080/"
        },
        "id": "s1yFSufe1iFC",
        "outputId": "4db9d960-084e-4ab2-a8c4-689cc9a21c36"
      },
      "outputs": [
        {
          "output_type": "execute_result",
          "data": {
            "text/plain": [
              "['ArgumentAnnotatedEssays/brat-project-final/essay001.txt',\n",
              " 'ArgumentAnnotatedEssays/brat-project-final/essay002.txt',\n",
              " 'ArgumentAnnotatedEssays/brat-project-final/essay003.txt',\n",
              " 'ArgumentAnnotatedEssays/brat-project-final/essay004.txt',\n",
              " 'ArgumentAnnotatedEssays/brat-project-final/essay005.txt']"
            ]
          },
          "metadata": {},
          "execution_count": 14
        }
      ],
      "source": [
        "# List of text files of the essays.\n",
        "txt_files[0:5]"
      ]
    },
    {
      "cell_type": "code",
      "execution_count": null,
      "metadata": {
        "colab": {
          "base_uri": "https://localhost:8080/"
        },
        "id": "8yoE-YHW1ykn",
        "outputId": "61e4e5cb-234c-4216-8e89-ca1200fcb4b5"
      },
      "outputs": [
        {
          "output_type": "execute_result",
          "data": {
            "text/plain": [
              "['ArgumentAnnotatedEssays/brat-project-final/essay001.ann',\n",
              " 'ArgumentAnnotatedEssays/brat-project-final/essay002.ann',\n",
              " 'ArgumentAnnotatedEssays/brat-project-final/essay003.ann',\n",
              " 'ArgumentAnnotatedEssays/brat-project-final/essay004.ann',\n",
              " 'ArgumentAnnotatedEssays/brat-project-final/essay005.ann']"
            ]
          },
          "metadata": {},
          "execution_count": 15
        }
      ],
      "source": [
        "# List of the annotated files of the essays.\n",
        "ann_files[0:5]"
      ]
    },
    {
      "cell_type": "code",
      "execution_count": null,
      "metadata": {
        "id": "SJtZWteKCka4"
      },
      "outputs": [],
      "source": [
        "# Transfor the ann files into four dictionaries.\n",
        "ann_disctionaries=[get_entities_relations_attributes_groups(file) for file in ann_files]\n",
        "\n",
        "# Transform the first dictionary (entities) obtained from each ann file into a dataset.\n",
        "essay_ann_datasets = [pd.DataFrame.from_dict(entities, orient='index') for entities,_,_,_ in ann_disctionaries]"
      ]
    },
    {
      "cell_type": "code",
      "execution_count": null,
      "metadata": {
        "id": "Kswy-aEyMIE6"
      },
      "outputs": [],
      "source": [
        "# Sort the lists composed of a (entity) dataset for each essay.\n",
        "essay_ann_datasets=[dataset.sort_values(by='span', key=lambda col: col.map(lambda x: x[0][0])) for dataset in essay_ann_datasets]  \n",
        "\n",
        "# Add a coloumn into the dataset that identifies the document\n",
        "for i in range(len(essay_ann_datasets)):\n",
        "  essay_ann_datasets[i].insert(0,'doc_id',i)\n",
        "\n",
        "# Create a common dataset\n",
        "essay_argument_dataset = pd.concat(essay_ann_datasets)"
      ]
    },
    {
      "cell_type": "code",
      "execution_count": null,
      "metadata": {
        "colab": {
          "base_uri": "https://localhost:8080/"
        },
        "id": "ShAWlc_o3RoB",
        "outputId": "fa74a477-f643-4255-ad40-d492dffafff9"
      },
      "outputs": [
        {
          "output_type": "stream",
          "name": "stderr",
          "text": [
            "/usr/local/lib/python3.7/dist-packages/ipykernel_launcher.py:3: SettingWithCopyWarning: \n",
            "A value is trying to be set on a copy of a slice from a DataFrame\n",
            "\n",
            "See the caveats in the documentation: https://pandas.pydata.org/pandas-docs/stable/user_guide/indexing.html#returning-a-view-versus-a-copy\n",
            "  This is separate from the ipykernel package so we can avoid doing imports until\n"
          ]
        }
      ],
      "source": [
        "# Sobstitue the values in the \"span\" feature (substitute each tuple with its first inner tuple)\n",
        "for i in range(len(essay_argument_dataset.index)):\n",
        "  essay_argument_dataset['span'][i]=essay_argument_dataset['span'][i][0]"
      ]
    },
    {
      "cell_type": "code",
      "execution_count": null,
      "metadata": {
        "colab": {
          "base_uri": "https://localhost:8080/",
          "height": 206
        },
        "id": "g9dtVgGNFCwA",
        "outputId": "1271adc1-5d99-41f5-bce8-ab7b5bfe6797"
      },
      "outputs": [
        {
          "output_type": "execute_result",
          "data": {
            "text/html": [
              "<div>\n",
              "<style scoped>\n",
              "    .dataframe tbody tr th:only-of-type {\n",
              "        vertical-align: middle;\n",
              "    }\n",
              "\n",
              "    .dataframe tbody tr th {\n",
              "        vertical-align: top;\n",
              "    }\n",
              "\n",
              "    .dataframe thead th {\n",
              "        text-align: right;\n",
              "    }\n",
              "</style>\n",
              "<table border=\"1\" class=\"dataframe\">\n",
              "  <thead>\n",
              "    <tr style=\"text-align: right;\">\n",
              "      <th></th>\n",
              "      <th>doc_id</th>\n",
              "      <th>id</th>\n",
              "      <th>type</th>\n",
              "      <th>span</th>\n",
              "      <th>text</th>\n",
              "    </tr>\n",
              "  </thead>\n",
              "  <tbody>\n",
              "    <tr>\n",
              "      <th>T1</th>\n",
              "      <td>0</td>\n",
              "      <td>T1</td>\n",
              "      <td>MajorClaim</td>\n",
              "      <td>(503, 575)</td>\n",
              "      <td>we should attach more importance to cooperatio...</td>\n",
              "    </tr>\n",
              "    <tr>\n",
              "      <th>T3</th>\n",
              "      <td>0</td>\n",
              "      <td>T3</td>\n",
              "      <td>Claim</td>\n",
              "      <td>(591, 714)</td>\n",
              "      <td>through cooperation, children can learn about ...</td>\n",
              "    </tr>\n",
              "    <tr>\n",
              "      <th>T4</th>\n",
              "      <td>0</td>\n",
              "      <td>T4</td>\n",
              "      <td>Premise</td>\n",
              "      <td>(716, 851)</td>\n",
              "      <td>What we acquired from team work is not only ho...</td>\n",
              "    </tr>\n",
              "    <tr>\n",
              "      <th>T5</th>\n",
              "      <td>0</td>\n",
              "      <td>T5</td>\n",
              "      <td>Premise</td>\n",
              "      <td>(853, 1086)</td>\n",
              "      <td>During the process of cooperation, children ca...</td>\n",
              "    </tr>\n",
              "    <tr>\n",
              "      <th>T6</th>\n",
              "      <td>0</td>\n",
              "      <td>T6</td>\n",
              "      <td>Premise</td>\n",
              "      <td>(1088, 1191)</td>\n",
              "      <td>All of these skills help them to get on well w...</td>\n",
              "    </tr>\n",
              "  </tbody>\n",
              "</table>\n",
              "</div>"
            ],
            "text/plain": [
              "    doc_id  id  ...          span                                               text\n",
              "T1       0  T1  ...    (503, 575)  we should attach more importance to cooperatio...\n",
              "T3       0  T3  ...    (591, 714)  through cooperation, children can learn about ...\n",
              "T4       0  T4  ...    (716, 851)  What we acquired from team work is not only ho...\n",
              "T5       0  T5  ...   (853, 1086)  During the process of cooperation, children ca...\n",
              "T6       0  T6  ...  (1088, 1191)  All of these skills help them to get on well w...\n",
              "\n",
              "[5 rows x 5 columns]"
            ]
          },
          "metadata": {},
          "execution_count": 19
        }
      ],
      "source": [
        "essay_argument_dataset.head()"
      ]
    },
    {
      "cell_type": "markdown",
      "metadata": {
        "id": "0697g-wg76g8"
      },
      "source": [
        "# **Word list of the Corpus**"
      ]
    },
    {
      "cell_type": "code",
      "execution_count": null,
      "metadata": {
        "id": "En1l-2YSD7_z"
      },
      "outputs": [],
      "source": [
        "# List of texts of the essays\n",
        "files_text=[open(file).read() for file in txt_files]"
      ]
    },
    {
      "cell_type": "code",
      "execution_count": null,
      "metadata": {
        "id": "c-Xv3S56l_HC"
      },
      "outputs": [],
      "source": [
        "# Get the start and finish points of each argumentative section of each of the text.\n",
        "# Also get the type of each argumentative section.\n",
        "# This points are indicated in the \"span\" coloumn of the Dataframe of the annotation.\n",
        "\n",
        "sorted_span=[list(essay_argument_dataset.loc[essay_argument_dataset['doc_id'] == i,['span','type']].values) for i in range(len(ann_files))]"
      ]
    },
    {
      "cell_type": "code",
      "execution_count": null,
      "metadata": {
        "colab": {
          "base_uri": "https://localhost:8080/"
        },
        "id": "FY761IVz8g2z",
        "outputId": "77e4bcb1-e5ba-4473-9336-3ebcbc8a0e5f"
      },
      "outputs": [
        {
          "output_type": "execute_result",
          "data": {
            "text/plain": [
              "[array([(503, 575), 'MajorClaim'], dtype=object),\n",
              " array([(591, 714), 'Claim'], dtype=object),\n",
              " array([(716, 851), 'Premise'], dtype=object),\n",
              " array([(853, 1086), 'Premise'], dtype=object),\n",
              " array([(1088, 1191), 'Premise'], dtype=object),\n",
              " array([(1212, 1301), 'Premise'], dtype=object),\n",
              " array([(1332, 1376), 'Claim'], dtype=object),\n",
              " array([(1387, 1492), 'Premise'], dtype=object),\n",
              " array([(1549, 1846), 'Premise'], dtype=object),\n",
              " array([(1927, 1992), 'Claim'], dtype=object),\n",
              " array([(2154, 2231), 'MajorClaim'], dtype=object)]"
            ]
          },
          "metadata": {},
          "execution_count": 22
        }
      ],
      "source": [
        "sorted_span[0]"
      ]
    },
    {
      "cell_type": "code",
      "execution_count": null,
      "metadata": {
        "id": "IB7ydWo78-x2"
      },
      "outputs": [],
      "source": [
        "# Tranform the couples of points ((start,end) of each section) to a list (separator of different section).\n",
        "\n",
        "span_points=[]\n",
        "\n",
        "for i in range(len(sorted_span)):\n",
        "  list_points=[sep for sub in sorted_span[i] for sep in sub[0]]\n",
        "  # Insert starting point of the text\n",
        "  list_points.insert(0,0)\n",
        "  list_points.append(len(files_text[i]))\n",
        "  span_points.append(list_points)"
      ]
    },
    {
      "cell_type": "code",
      "execution_count": null,
      "metadata": {
        "colab": {
          "base_uri": "https://localhost:8080/"
        },
        "id": "LFHv8OFV-MER",
        "outputId": "974f01bc-ac2e-4907-87ff-14bc9f4b4e01"
      },
      "outputs": [
        {
          "output_type": "execute_result",
          "data": {
            "text/plain": [
              "[0,\n",
              " 503,\n",
              " 575,\n",
              " 591,\n",
              " 714,\n",
              " 716,\n",
              " 851,\n",
              " 853,\n",
              " 1086,\n",
              " 1088,\n",
              " 1191,\n",
              " 1212,\n",
              " 1301,\n",
              " 1332,\n",
              " 1376,\n",
              " 1387,\n",
              " 1492,\n",
              " 1549,\n",
              " 1846,\n",
              " 1927,\n",
              " 1992,\n",
              " 2154,\n",
              " 2231,\n",
              " 2232]"
            ]
          },
          "metadata": {},
          "execution_count": 24
        }
      ],
      "source": [
        "span_points[0]"
      ]
    },
    {
      "cell_type": "code",
      "execution_count": null,
      "metadata": {
        "id": "YV3tm2bS-p_t"
      },
      "outputs": [],
      "source": [
        "# Separate the texts at the point indicated for the different sections\n",
        "\n",
        "split_text=[]\n",
        "\n",
        "for z in range(len(files_text)):\n",
        "  split_text.append([files_text[z][i: j] for i, j in zip(span_points[z], span_points[z][1:])])"
      ]
    },
    {
      "cell_type": "code",
      "execution_count": null,
      "metadata": {
        "colab": {
          "base_uri": "https://localhost:8080/"
        },
        "id": "YyylYuLL_SEb",
        "outputId": "93608702-7ce2-443a-e04b-d8a8ceee620f"
      },
      "outputs": [
        {
          "output_type": "execute_result",
          "data": {
            "text/plain": [
              "[\"Should students be taught to compete or to cooperate?\\n\\nIt is always said that competition can effectively promote the development of economy. In order to survive in the competition, companies continue to improve their products and service, and as a result, the whole society prospers. However, when we discuss the issue of competition or cooperation, what we are concerned about is not the whole society, but the development of an individual's whole life. From this point of view, I firmly believe that \",\n",
              " 'we should attach more importance to cooperation during primary education',\n",
              " '.\\nFirst of all, ',\n",
              " 'through cooperation, children can learn about interpersonal skills which are significant in the future life of all students',\n",
              " '. ',\n",
              " 'What we acquired from team work is not only how to achieve the same goal with others but more importantly, how to get along with others',\n",
              " '. ',\n",
              " 'During the process of cooperation, children can learn about how to listen to opinions of others, how to communicate with others, how to think comprehensively, and even how to compromise with other team members when conflicts occurred',\n",
              " '. ',\n",
              " 'All of these skills help them to get on well with other people and will benefit them for the whole life']"
            ]
          },
          "metadata": {},
          "execution_count": 26
        }
      ],
      "source": [
        "split_text[0][0:10]"
      ]
    },
    {
      "cell_type": "code",
      "execution_count": null,
      "metadata": {
        "id": "lYVRUlXHAwa3"
      },
      "outputs": [],
      "source": [
        "# Get the list of the words of each essay.\n",
        "\n",
        "X_essay_word_list=[]\n",
        "\n",
        "for i in range(len(split_text)):\n",
        "  \n",
        "  essay_word_list=[]\n",
        "\n",
        "  # Remove title from essay considered (splitted_text)\n",
        "  no_title=[re.sub(r\".*\\n\\n\",\"\",text) for text in split_text[i]]\n",
        "\n",
        "  for section in no_title:\n",
        "\n",
        "    # Divide the text into token.\n",
        "    seq=nltk.word_tokenize(section.lower())\n",
        "\n",
        "    essay_word_list+=seq\n",
        "\n",
        "  X_essay_word_list.append(essay_word_list)"
      ]
    },
    {
      "cell_type": "code",
      "execution_count": null,
      "metadata": {
        "colab": {
          "base_uri": "https://localhost:8080/"
        },
        "id": "IK9ZdPIJC2VA",
        "outputId": "ffcc90de-cde7-4d8d-da02-c35a96d2827f"
      },
      "outputs": [
        {
          "output_type": "execute_result",
          "data": {
            "text/plain": [
              "['i',\n",
              " 'firmly',\n",
              " 'believe',\n",
              " 'that',\n",
              " 'we',\n",
              " 'should',\n",
              " 'attach',\n",
              " 'more',\n",
              " 'importance',\n",
              " 'to',\n",
              " 'cooperation',\n",
              " 'during',\n",
              " 'primary',\n",
              " 'education',\n",
              " '.',\n",
              " 'first',\n",
              " 'of',\n",
              " 'all',\n",
              " ',',\n",
              " 'through',\n",
              " 'cooperation',\n",
              " ',',\n",
              " 'children',\n",
              " 'can',\n",
              " 'learn',\n",
              " 'about',\n",
              " 'interpersonal',\n",
              " 'skills',\n",
              " 'which',\n",
              " 'are',\n",
              " 'significant',\n",
              " 'in',\n",
              " 'the',\n",
              " 'future',\n",
              " 'life',\n",
              " 'of',\n",
              " 'all',\n",
              " 'students',\n",
              " '.',\n",
              " 'what']"
            ]
          },
          "metadata": {},
          "execution_count": 28
        }
      ],
      "source": [
        "X_essay_word_list[0][80:120]"
      ]
    },
    {
      "cell_type": "markdown",
      "metadata": {
        "id": "pov3Yk0pUbjm"
      },
      "source": [
        "# **Find out sentences list**"
      ]
    },
    {
      "cell_type": "code",
      "execution_count": null,
      "metadata": {
        "id": "QPcb2rgQUmzn"
      },
      "outputs": [],
      "source": [
        "# Get the list of all the sentences.\n",
        "\n",
        "sentence_list=[]\n",
        "\n",
        "# Get the list of the id of the essay for each of the sentences of the corpus.\n",
        "essay_id_list=[]\n",
        "\n",
        "\n",
        "for essay_id in range(len(X_essay_word_list)):\n",
        "  sentence=\"\"\n",
        "\n",
        "  for word_id in range(len(X_essay_word_list[essay_id])):\n",
        "    \n",
        "    word=X_essay_word_list[essay_id][word_id]\n",
        "\n",
        "    # Add to the sentence every word that is not a simple \\n or the end of the sentence (\".\").\n",
        "    if not ( word==\".\" ):\n",
        "      sentence+=word+\" \"\n",
        "          \n",
        "    # . is the end of the sentence.       \n",
        "    if word in [\".\",\"?\",\"!\"] and ( not sentence==\"\"):\n",
        "      sentence_list.append(sentence)\n",
        "      essay_id_list.append(essay_id)\n",
        "\n",
        "      sentence=\"\"\n",
        "\n",
        "  if not (sentence==\"\"):\n",
        "      sentence_list.append(sentence)\n",
        "      essay_id_list.append(essay_id)"
      ]
    },
    {
      "cell_type": "code",
      "execution_count": null,
      "metadata": {
        "colab": {
          "base_uri": "https://localhost:8080/"
        },
        "id": "OvBdpsbtQUcq",
        "outputId": "1d806365-4231-4734-a77a-90c4d2a70bdc"
      },
      "outputs": [
        {
          "output_type": "execute_result",
          "data": {
            "text/plain": [
              "6738"
            ]
          },
          "metadata": {},
          "execution_count": 30
        }
      ],
      "source": [
        "len(sentence_list)"
      ]
    },
    {
      "cell_type": "markdown",
      "metadata": {
        "id": "n8USF6Roumqs"
      },
      "source": [
        "# **Select the sections to classify and the labels**"
      ]
    },
    {
      "cell_type": "code",
      "execution_count": null,
      "metadata": {
        "id": "FI3BSxek7du_"
      },
      "outputs": [],
      "source": [
        "# Get the list of the words of each argumentative section that is part of a \n",
        "# relation.\n",
        "\n",
        "# List of the argumentative sections in the relations imported.\n",
        "X_supporting_section_list=[]\n",
        "X_supported_section_list=[]\n",
        "\n",
        "# List of the sentences before each argumentative sections in the relations imported.\n",
        "X_supporting_section_list_before=[]\n",
        "X_supported_section_list_before=[]\n",
        "\n",
        "# List of the sentences after each argumentative sections in the relations imported.\n",
        "X_supporting_section_list_after=[]\n",
        "X_supported_section_list_after=[]\n",
        "\n",
        "# List ot the types of the two arg. sections for each relation.\n",
        "X_type=[]\n",
        "\n",
        "for relation in relation_ann_dataset.itertuples():\n",
        "\n",
        "  supporting=\"\"\n",
        "  supported=\"\"\n",
        "\n",
        "  supporting_sequence=relation.supporting_text\n",
        "  supported_sequence=relation.supported_text\n",
        "\n",
        "  type_supporting=relation.supporting_type\n",
        "  type_supported=relation.supported_type\n",
        "\n",
        "  supporting_sentence_id=relation.supporting_sentence_id\n",
        "  supported_sentence_id=relation.supported_sentence_id\n",
        "\n",
        "  supporting_section_length=relation.supporting_section_length\n",
        "  supported_section_length=relation.supported_section_length\n",
        "\n",
        "  # Divide the sections into token.\n",
        "  supporting_seq_word=nltk.word_tokenize(supporting_sequence.lower())\n",
        "  supported_seq_word=nltk.word_tokenize(supported_sequence.lower())\n",
        "\n",
        "  for word in supporting_seq_word:\n",
        "    supporting+=word+\" \"\n",
        "\n",
        "  for word in supported_seq_word:\n",
        "    supported+=word+\" \"\n",
        "\n",
        "  # Concatenate the sentences before and atfer the ones that contain the argumentation\n",
        "  # separately.\n",
        "  # If the sentences don't end with a \"?\" or a \"!\", add a period (\".\") at the end;\n",
        "  # the sentences are stored without the periods.\n",
        "  supporting_sentence=sentence_list[supporting_sentence_id]\n",
        "\n",
        "  for j in range(supporting_section_length):\n",
        "    if not (supporting_sentence[-2]=='?' or supporting_sentence[-2]=='!'):\n",
        "      supporting_sentence+=\". \"+sentence_list[supporting_sentence_id+j+1]\n",
        "    else:\n",
        "      supporting_sentence+=sentence_list[supporting_sentence_id+j+1]\n",
        "\n",
        "  supported_sentence=sentence_list[supported_sentence_id]\n",
        "\n",
        "  for j in range(supported_section_length):\n",
        "    if not (supported_sentence[-2]=='?' or supported_sentence[-2]=='!'):\n",
        "      supported_sentence+=\". \"+sentence_list[supported_sentence_id+j+1]\n",
        "    else:\n",
        "      supported_sentence+=sentence_list[supported_sentence_id+j+1]    \n",
        "\n",
        "  # Get the parts of the sentence containing the argumentative section before\n",
        "  # and after the section.\n",
        "  supporting_before,supporting_after=supporting_sentence.split(supporting)\n",
        "  supported_before,supported_after=supported_sentence.split(supported)\n",
        "\n",
        "  # If the section it isn't in the first sentence of an essay attach to the\n",
        "  # already retrieved preciding section the entire sentence before the one \n",
        "  # containing the section. \n",
        "\n",
        "  if (supporting_sentence_id>0) and (essay_id_list[supporting_sentence_id]==essay_id_list[supporting_sentence_id-1]):\n",
        "    sentence_before=sentence_list[supporting_sentence_id-1]\n",
        "    if not (sentence_before[-2]=='?' or sentence_before[-2]=='!'):\n",
        "      supporting_before=sentence_before+\". \"+supporting_before\n",
        "    else:\n",
        "      supporting_before=sentence_before+\" \"+supporting_before\n",
        "\n",
        "\n",
        "  if (supported_sentence_id>0) and (essay_id_list[supported_sentence_id]==essay_id_list[supported_sentence_id-1]):\n",
        "    sentence_before=sentence_list[supported_sentence_id-1]\n",
        "    if not (sentence_before[-2]=='?' or sentence_before[-2]=='!'):\n",
        "      supported_before=sentence_before+\". \"+supported_before\n",
        "    else:\n",
        "      supported_before=sentence_before+\" \"+supported_before \n",
        "\n",
        "  # If the section it isn't in the last sentence of an essay attach to the\n",
        "  # already retrieved following section the entire sentence after the one \n",
        "  # containing the section. \n",
        "\n",
        "  if (supporting_sentence_id<len(sentence_list)-1) and (essay_id_list[supporting_sentence_id]==essay_id_list[supporting_sentence_id+1]):\n",
        "    sentence_after=sentence_list[supporting_sentence_id+supporting_section_length+1]\n",
        "    if len(supporting_after)>1 and (supporting_after[-2]=='?' or supporting_after[-2]=='!'):\n",
        "      supporting_after=supporting_after+\" \"+sentence_after\n",
        "    else:\n",
        "      supporting_after=supporting_after+\". \"+sentence_after\n",
        "\n",
        "  if (supported_sentence_id<len(sentence_list)-1) and (essay_id_list[supported_sentence_id]==essay_id_list[supported_sentence_id+1]):\n",
        "    sentence_after=sentence_list[supported_sentence_id+supported_section_length+1]\n",
        "    if len(supported_after)>1 and (supported_after[-2]=='?' or supported_after[-2]=='!'):\n",
        "      supported_after=supported_after+\" \"+sentence_after\n",
        "    else:\n",
        "      supported_after=supported_after+\". \"+sentence_after  \n",
        "\n",
        "  X_supporting_section_list.append(supporting)\n",
        "  X_supported_section_list.append(supported)\n",
        "  X_supporting_section_list_before.append(supporting_before)\n",
        "  X_supported_section_list_before.append(supported_before)\n",
        "  X_supporting_section_list_after.append(supporting_after)\n",
        "  X_supported_section_list_after.append(supported_after)\n",
        "  X_type.append([type_supporting,type_supported])"
      ]
    },
    {
      "cell_type": "code",
      "execution_count": null,
      "metadata": {
        "colab": {
          "base_uri": "https://localhost:8080/"
        },
        "id": "GmW0xTwK_Tvt",
        "outputId": "48f0bf0e-258d-495a-9ed8-e83009fedf6a"
      },
      "outputs": [
        {
          "output_type": "execute_result",
          "data": {
            "text/plain": [
              "['what we acquired from team work is not only how to achieve the same goal with others but more importantly , how to get along with others ',\n",
              " 'during the process of cooperation , children can learn about how to listen to opinions of others , how to communicate with others , how to think comprehensively , and even how to compromise with other team members when conflicts occurred ',\n",
              " 'all of these skills help them to get on well with other people and will benefit them for the whole life ',\n",
              " 'the significance of competition is that how to become more excellence to gain the victory ',\n",
              " 'when we consider about the question that how to win the game , we always find that we need the cooperation ']"
            ]
          },
          "metadata": {},
          "execution_count": 32
        }
      ],
      "source": [
        "X_supporting_section_list[:5]"
      ]
    },
    {
      "cell_type": "code",
      "execution_count": null,
      "metadata": {
        "colab": {
          "base_uri": "https://localhost:8080/"
        },
        "id": "eJXVD8gsZ9D3",
        "outputId": "a3646f94-4658-43b2-bf5e-3f90c3cec507"
      },
      "outputs": [
        {
          "output_type": "execute_result",
          "data": {
            "text/plain": [
              "['first of all , through cooperation , children can learn about interpersonal skills which are significant in the future life of all students . ',\n",
              " 'what we acquired from team work is not only how to achieve the same goal with others but more importantly , how to get along with others . ',\n",
              " 'during the process of cooperation , children can learn about how to listen to opinions of others , how to communicate with others , how to think comprehensively , and even how to compromise with other team members when conflicts occurred . ',\n",
              " 'all of these skills help them to get on well with other people and will benefit them for the whole life . on the other hand , ',\n",
              " 'hence it is always said that competition makes the society more effective . however , ']"
            ]
          },
          "metadata": {},
          "execution_count": 33
        }
      ],
      "source": [
        "X_supporting_section_list_before[:5]"
      ]
    },
    {
      "cell_type": "code",
      "execution_count": null,
      "metadata": {
        "colab": {
          "base_uri": "https://localhost:8080/"
        },
        "id": "CNfSwI_FZ-5a",
        "outputId": "60a7f221-feda-478a-d042-14396ac0d324"
      },
      "outputs": [
        {
          "output_type": "execute_result",
          "data": {
            "text/plain": [
              "['. during the process of cooperation , children can learn about how to listen to opinions of others , how to communicate with others , how to think comprehensively , and even how to compromise with other team members when conflicts occurred ',\n",
              " '. all of these skills help them to get on well with other people and will benefit them for the whole life ',\n",
              " '. on the other hand , the significance of competition is that how to become more excellence to gain the victory ',\n",
              " '. hence it is always said that competition makes the society more effective ',\n",
              " '. the greater our goal is , the more competition we need ']"
            ]
          },
          "metadata": {},
          "execution_count": 34
        }
      ],
      "source": [
        "X_supporting_section_list_after[:5]"
      ]
    },
    {
      "cell_type": "code",
      "execution_count": null,
      "metadata": {
        "colab": {
          "base_uri": "https://localhost:8080/"
        },
        "id": "Sq60Y2yv_Wu9",
        "outputId": "b9494d97-f7a5-427f-bc80-a05743a80524"
      },
      "outputs": [
        {
          "output_type": "execute_result",
          "data": {
            "text/plain": [
              "['through cooperation , children can learn about interpersonal skills which are significant in the future life of all students ',\n",
              " 'through cooperation , children can learn about interpersonal skills which are significant in the future life of all students ',\n",
              " 'through cooperation , children can learn about interpersonal skills which are significant in the future life of all students ',\n",
              " 'competition makes the society more effective ',\n",
              " 'without the cooperation , there would be no victory of competition ']"
            ]
          },
          "metadata": {},
          "execution_count": 35
        }
      ],
      "source": [
        "X_supported_section_list[:5]"
      ]
    },
    {
      "cell_type": "code",
      "execution_count": null,
      "metadata": {
        "colab": {
          "base_uri": "https://localhost:8080/"
        },
        "id": "NssSv2ihaB5c",
        "outputId": "16e6dd20-bf24-4c45-cc9d-126a2c1779ff"
      },
      "outputs": [
        {
          "output_type": "execute_result",
          "data": {
            "text/plain": [
              "['from this point of view , i firmly believe that we should attach more importance to cooperation during primary education . first of all , ',\n",
              " 'from this point of view , i firmly believe that we should attach more importance to cooperation during primary education . first of all , ',\n",
              " 'from this point of view , i firmly believe that we should attach more importance to cooperation during primary education . first of all , ',\n",
              " 'on the other hand , the significance of competition is that how to become more excellence to gain the victory . hence it is always said that ',\n",
              " 'the winner is the athlete but the success belongs to the whole team . therefore ']"
            ]
          },
          "metadata": {},
          "execution_count": 36
        }
      ],
      "source": [
        "X_supported_section_list_before[:5]"
      ]
    },
    {
      "cell_type": "code",
      "execution_count": null,
      "metadata": {
        "colab": {
          "base_uri": "https://localhost:8080/"
        },
        "id": "2aW2Q5lMaDhK",
        "outputId": "3fc78494-2681-466c-a979-2d79f909ba8c"
      },
      "outputs": [
        {
          "output_type": "execute_result",
          "data": {
            "text/plain": [
              "['. what we acquired from team work is not only how to achieve the same goal with others but more importantly , how to get along with others ',\n",
              " '. what we acquired from team work is not only how to achieve the same goal with others but more importantly , how to get along with others ',\n",
              " '. what we acquired from team work is not only how to achieve the same goal with others but more importantly , how to get along with others ',\n",
              " '. however , when we consider about the question that how to win the game , we always find that we need the cooperation ',\n",
              " \". consequently , no matter from the view of individual development or the relationship between competition and cooperation we can receive the same conclusion that a more cooperative attitudes towards life is more profitable in one 's success \"]"
            ]
          },
          "metadata": {},
          "execution_count": 37
        }
      ],
      "source": [
        "X_supported_section_list_after[:5]"
      ]
    },
    {
      "cell_type": "code",
      "execution_count": null,
      "metadata": {
        "colab": {
          "base_uri": "https://localhost:8080/"
        },
        "id": "UPCf5xASm23C",
        "outputId": "fdeac393-c4f4-4b0e-ab4a-fc621adc7c22"
      },
      "outputs": [
        {
          "output_type": "execute_result",
          "data": {
            "text/plain": [
              "[['Premise', 'Claim'],\n",
              " ['Premise', 'Claim'],\n",
              " ['Premise', 'Claim'],\n",
              " ['Premise', 'Claim'],\n",
              " ['Premise', 'Claim']]"
            ]
          },
          "metadata": {},
          "execution_count": 38
        }
      ],
      "source": [
        "X_type[:5]"
      ]
    },
    {
      "cell_type": "code",
      "execution_count": null,
      "metadata": {
        "colab": {
          "base_uri": "https://localhost:8080/"
        },
        "id": "-N_gtZF2nBHe",
        "outputId": "c4117ca8-6ad6-4f44-b57c-0fcd22fb161c"
      },
      "outputs": [
        {
          "output_type": "execute_result",
          "data": {
            "text/plain": [
              "[[1, 0], [1, 0], [1, 0], [1, 0], [1, 0]]"
            ]
          },
          "metadata": {},
          "execution_count": 39
        }
      ],
      "source": [
        "X_type_temp=[]\n",
        "\n",
        "for supporting, supported in X_type:\n",
        "\n",
        "  if supporting==\"Premise\":\n",
        "    supporting_type=1\n",
        "  else:\n",
        "    supporting_type=0\n",
        "\n",
        "  if supported==\"Premise\":\n",
        "    supported_type=1\n",
        "  else:\n",
        "    supported_type=0\n",
        "\n",
        "  X_type_temp.append([supporting_type,supported_type])\n",
        "\n",
        "X_type=X_type_temp\n",
        "\n",
        "X_type_temp[:5]"
      ]
    },
    {
      "cell_type": "code",
      "execution_count": null,
      "metadata": {
        "id": "8oAK7Pwgm7nY"
      },
      "outputs": [],
      "source": [
        "X_type=np.array(X_type)"
      ]
    },
    {
      "cell_type": "code",
      "execution_count": null,
      "metadata": {
        "id": "Spe8ctrYeDXX"
      },
      "outputs": [],
      "source": [
        "X_supported_word_list_after=[nltk.word_tokenize(section) for section in X_supported_section_list_after]\n",
        "X_supporting_word_list_after=[nltk.word_tokenize(section) for section in X_supporting_section_list_after]\n",
        "X_supported_word_list_before=[nltk.word_tokenize(section) for section in X_supported_section_list_before]\n",
        "X_supporting_word_list_before=[nltk.word_tokenize(section) for section in X_supporting_section_list_before]\n",
        "X_supported_word_list=[nltk.word_tokenize(section) for section in X_supported_section_list]\n",
        "X_supporting_word_list=[nltk.word_tokenize(section) for section in X_supporting_section_list]"
      ]
    },
    {
      "cell_type": "code",
      "execution_count": null,
      "metadata": {
        "colab": {
          "base_uri": "https://localhost:8080/"
        },
        "id": "nck0_hx_B6wJ",
        "outputId": "fdbee75c-48ad-4bf0-c689-8f4aea6229b7"
      },
      "outputs": [
        {
          "output_type": "execute_result",
          "data": {
            "text/plain": [
              "['supports',\n",
              " 'supports',\n",
              " 'supports',\n",
              " 'supports',\n",
              " 'supports',\n",
              " 'supports',\n",
              " 'supports',\n",
              " 'supports',\n",
              " 'supports',\n",
              " 'None']"
            ]
          },
          "metadata": {},
          "execution_count": 42
        }
      ],
      "source": [
        "Y_relation_type=relation_ann_dataset[\"type\"].tolist()\n",
        "\n",
        "Y_relation_type[:10]"
      ]
    },
    {
      "cell_type": "code",
      "execution_count": null,
      "metadata": {
        "colab": {
          "base_uri": "https://localhost:8080/"
        },
        "id": "dQi_JOc_IiiS",
        "outputId": "38f82aad-e11e-413e-99b9-b88d0a333317"
      },
      "outputs": [
        {
          "output_type": "execute_result",
          "data": {
            "text/plain": [
              "[1, 1, 1, 1, 1, 1, 1, 1, 1, 0]"
            ]
          },
          "metadata": {},
          "execution_count": 43
        }
      ],
      "source": [
        "Y_relation_type_temp=[]\n",
        "\n",
        "for rel in Y_relation_type:\n",
        "  if rel==\"supports\":\n",
        "    Y_relation_type_temp.append(1)\n",
        "  else:\n",
        "    if rel==\"None\":\n",
        "      Y_relation_type_temp.append(0)\n",
        "    else:\n",
        "      Y_relation_type_temp.append(2)\n",
        "\n",
        "Y_relation_type=Y_relation_type_temp\n",
        "\n",
        "Y_relation_type[:10]"
      ]
    },
    {
      "cell_type": "code",
      "execution_count": null,
      "metadata": {
        "id": "LyEtCgY_oWgC"
      },
      "outputs": [],
      "source": [
        "# Definition of the class weights to reduce the impact of the imbalance in the dataset.\n",
        "class_weights={0: 1, 1: 1, 2:8}"
      ]
    },
    {
      "cell_type": "markdown",
      "metadata": {
        "id": "c0aJCVSowSqu"
      },
      "source": [
        "# **Import sentences' statistic**"
      ]
    },
    {
      "cell_type": "code",
      "execution_count": null,
      "metadata": {
        "colab": {
          "base_uri": "https://localhost:8080/",
          "height": 206
        },
        "id": "y9jCYEyWtMDI",
        "outputId": "bcd76e20-e8d2-495f-ba40-70ca35c287c3"
      },
      "outputs": [
        {
          "output_type": "execute_result",
          "data": {
            "text/html": [
              "<div>\n",
              "<style scoped>\n",
              "    .dataframe tbody tr th:only-of-type {\n",
              "        vertical-align: middle;\n",
              "    }\n",
              "\n",
              "    .dataframe tbody tr th {\n",
              "        vertical-align: top;\n",
              "    }\n",
              "\n",
              "    .dataframe thead th {\n",
              "        text-align: right;\n",
              "    }\n",
              "</style>\n",
              "<table border=\"1\" class=\"dataframe\">\n",
              "  <thead>\n",
              "    <tr style=\"text-align: right;\">\n",
              "      <th></th>\n",
              "      <th>paragraph distance</th>\n",
              "      <th>position_in_essay_distance</th>\n",
              "      <th>length_sentence_ratio</th>\n",
              "      <th>type supporting</th>\n",
              "      <th>type supported</th>\n",
              "    </tr>\n",
              "  </thead>\n",
              "  <tbody>\n",
              "    <tr>\n",
              "      <th>0</th>\n",
              "      <td>0</td>\n",
              "      <td>-1</td>\n",
              "      <td>0.807692</td>\n",
              "      <td>1</td>\n",
              "      <td>0</td>\n",
              "    </tr>\n",
              "    <tr>\n",
              "      <th>1</th>\n",
              "      <td>0</td>\n",
              "      <td>-2</td>\n",
              "      <td>0.567568</td>\n",
              "      <td>1</td>\n",
              "      <td>0</td>\n",
              "    </tr>\n",
              "    <tr>\n",
              "      <th>2</th>\n",
              "      <td>0</td>\n",
              "      <td>-3</td>\n",
              "      <td>1.000000</td>\n",
              "      <td>1</td>\n",
              "      <td>0</td>\n",
              "    </tr>\n",
              "    <tr>\n",
              "      <th>3</th>\n",
              "      <td>0</td>\n",
              "      <td>1</td>\n",
              "      <td>0.631579</td>\n",
              "      <td>1</td>\n",
              "      <td>0</td>\n",
              "    </tr>\n",
              "    <tr>\n",
              "      <th>4</th>\n",
              "      <td>0</td>\n",
              "      <td>4</td>\n",
              "      <td>0.523810</td>\n",
              "      <td>1</td>\n",
              "      <td>0</td>\n",
              "    </tr>\n",
              "  </tbody>\n",
              "</table>\n",
              "</div>"
            ],
            "text/plain": [
              "   paragraph distance  ...  type supported\n",
              "0                   0  ...               0\n",
              "1                   0  ...               0\n",
              "2                   0  ...               0\n",
              "3                   0  ...               0\n",
              "4                   0  ...               0\n",
              "\n",
              "[5 rows x 5 columns]"
            ]
          },
          "metadata": {},
          "execution_count": 45
        }
      ],
      "source": [
        "# Create dataframe of the feature extracted until now over the statistic of the \n",
        "# related sentences in the text and their distance in the text.\n",
        "\n",
        "sentence_stat_dataframe=pd.read_csv('relation_statistic.csv')\n",
        "\n",
        "sentence_stat_dataframe[\"type supporting\"]=[type[0] for type in X_type.tolist()]\n",
        "sentence_stat_dataframe[\"type supported\"]=[type[1] for type in X_type.tolist()]\n",
        "\n",
        "sentence_stat_dataframe.head()"
      ]
    },
    {
      "cell_type": "markdown",
      "metadata": {
        "id": "ojjYE04AggwG"
      },
      "source": [
        "### **LNE**"
      ]
    },
    {
      "cell_type": "code",
      "execution_count": null,
      "metadata": {
        "colab": {
          "base_uri": "https://localhost:8080/"
        },
        "id": "SCcpzqKN-7uw",
        "outputId": "7ca6a752-f228-4d3f-fcf0-71d23f9597d7"
      },
      "outputs": [
        {
          "output_type": "execute_result",
          "data": {
            "text/plain": [
              "['event',\n",
              " 'fac',\n",
              " 'language',\n",
              " 'loc',\n",
              " 'money',\n",
              " 'percent',\n",
              " 'person',\n",
              " 'product',\n",
              " 'quantity',\n",
              " 'work_of_art']"
            ]
          },
          "metadata": {},
          "execution_count": 46
        }
      ],
      "source": [
        "# Read the files containing the statistic feature to remove.\n",
        "stat_data=open(\"drop_relation_named_entity.txt\").read()\n",
        "\n",
        "stat_data=stat_data.split(\"-\")\n",
        "\n",
        "stat_data=stat_data[:-1]\n",
        "\n",
        "stat_data"
      ]
    },
    {
      "cell_type": "code",
      "execution_count": null,
      "metadata": {
        "colab": {
          "base_uri": "https://localhost:8080/",
          "height": 223
        },
        "id": "_gwr90bx9rdC",
        "outputId": "abff549f-72be-49b1-e4dd-ab17f423eb21"
      },
      "outputs": [
        {
          "output_type": "execute_result",
          "data": {
            "text/html": [
              "<div>\n",
              "<style scoped>\n",
              "    .dataframe tbody tr th:only-of-type {\n",
              "        vertical-align: middle;\n",
              "    }\n",
              "\n",
              "    .dataframe tbody tr th {\n",
              "        vertical-align: top;\n",
              "    }\n",
              "\n",
              "    .dataframe thead th {\n",
              "        text-align: right;\n",
              "    }\n",
              "</style>\n",
              "<table border=\"1\" class=\"dataframe\">\n",
              "  <thead>\n",
              "    <tr style=\"text-align: right;\">\n",
              "      <th></th>\n",
              "      <th>paragraph distance</th>\n",
              "      <th>position_in_essay_distance</th>\n",
              "      <th>length_sentence_ratio</th>\n",
              "      <th>type supporting</th>\n",
              "      <th>type supported</th>\n",
              "      <th>cardinal</th>\n",
              "      <th>date</th>\n",
              "      <th>gpe</th>\n",
              "      <th>norp</th>\n",
              "      <th>ordinal</th>\n",
              "      <th>org</th>\n",
              "      <th>time</th>\n",
              "    </tr>\n",
              "  </thead>\n",
              "  <tbody>\n",
              "    <tr>\n",
              "      <th>0</th>\n",
              "      <td>0</td>\n",
              "      <td>-1</td>\n",
              "      <td>0.807692</td>\n",
              "      <td>1</td>\n",
              "      <td>0</td>\n",
              "      <td>0</td>\n",
              "      <td>0</td>\n",
              "      <td>0</td>\n",
              "      <td>0</td>\n",
              "      <td>0</td>\n",
              "      <td>0</td>\n",
              "      <td>0</td>\n",
              "    </tr>\n",
              "    <tr>\n",
              "      <th>1</th>\n",
              "      <td>0</td>\n",
              "      <td>-2</td>\n",
              "      <td>0.567568</td>\n",
              "      <td>1</td>\n",
              "      <td>0</td>\n",
              "      <td>0</td>\n",
              "      <td>0</td>\n",
              "      <td>0</td>\n",
              "      <td>0</td>\n",
              "      <td>0</td>\n",
              "      <td>0</td>\n",
              "      <td>0</td>\n",
              "    </tr>\n",
              "    <tr>\n",
              "      <th>2</th>\n",
              "      <td>0</td>\n",
              "      <td>-3</td>\n",
              "      <td>1.000000</td>\n",
              "      <td>1</td>\n",
              "      <td>0</td>\n",
              "      <td>0</td>\n",
              "      <td>0</td>\n",
              "      <td>0</td>\n",
              "      <td>0</td>\n",
              "      <td>0</td>\n",
              "      <td>0</td>\n",
              "      <td>0</td>\n",
              "    </tr>\n",
              "    <tr>\n",
              "      <th>3</th>\n",
              "      <td>0</td>\n",
              "      <td>1</td>\n",
              "      <td>0.631579</td>\n",
              "      <td>1</td>\n",
              "      <td>0</td>\n",
              "      <td>0</td>\n",
              "      <td>0</td>\n",
              "      <td>0</td>\n",
              "      <td>0</td>\n",
              "      <td>0</td>\n",
              "      <td>0</td>\n",
              "      <td>0</td>\n",
              "    </tr>\n",
              "    <tr>\n",
              "      <th>4</th>\n",
              "      <td>0</td>\n",
              "      <td>4</td>\n",
              "      <td>0.523810</td>\n",
              "      <td>1</td>\n",
              "      <td>0</td>\n",
              "      <td>0</td>\n",
              "      <td>0</td>\n",
              "      <td>0</td>\n",
              "      <td>0</td>\n",
              "      <td>0</td>\n",
              "      <td>0</td>\n",
              "      <td>0</td>\n",
              "    </tr>\n",
              "  </tbody>\n",
              "</table>\n",
              "</div>"
            ],
            "text/plain": [
              "   paragraph distance  position_in_essay_distance  ...  org  time\n",
              "0                   0                          -1  ...    0     0\n",
              "1                   0                          -2  ...    0     0\n",
              "2                   0                          -3  ...    0     0\n",
              "3                   0                           1  ...    0     0\n",
              "4                   0                           4  ...    0     0\n",
              "\n",
              "[5 rows x 12 columns]"
            ]
          },
          "metadata": {},
          "execution_count": 47
        }
      ],
      "source": [
        "# BOW of labeled named entity of the sentence.\n",
        "temp_sentence_stat_dataframe=pd.read_csv('relation_named_entity_BOW.csv')\n",
        "\n",
        "temp_sentence_stat_dataframe=temp_sentence_stat_dataframe.drop(columns=stat_data)\n",
        "\n",
        "sentence_stat_dataframe=pd.concat([sentence_stat_dataframe,temp_sentence_stat_dataframe], axis=1)\n",
        "\n",
        "sentence_stat_dataframe.head()"
      ]
    },
    {
      "cell_type": "markdown",
      "metadata": {
        "id": "LSF9ya_uuoq3"
      },
      "source": [
        "### **Simple POS**"
      ]
    },
    {
      "cell_type": "code",
      "execution_count": null,
      "metadata": {
        "colab": {
          "base_uri": "https://localhost:8080/"
        },
        "id": "dORP_ze5uoq5",
        "outputId": "62be9c1f-d9a0-49df-a32e-00bef8919231"
      },
      "outputs": [
        {
          "output_type": "execute_result",
          "data": {
            "text/plain": [
              "['num', 'x']"
            ]
          },
          "metadata": {},
          "execution_count": 48
        }
      ],
      "source": [
        "# Read the files containing the statistic feature to remove.\n",
        "stat_data_simple_POS=open(\"drop_relation_simple_POS.txt\").read()\n",
        "\n",
        "stat_data_simple_POS=stat_data_simple_POS.split(\"-\")\n",
        "\n",
        "stat_data_simple_POS=stat_data_simple_POS[:-1]\n",
        "\n",
        "stat_data_simple_POS"
      ]
    },
    {
      "cell_type": "code",
      "execution_count": null,
      "metadata": {
        "colab": {
          "base_uri": "https://localhost:8080/",
          "height": 243
        },
        "id": "4uPJIFcAuoq7",
        "outputId": "5d5199aa-760e-49db-e7e7-2503ac9ffc85"
      },
      "outputs": [
        {
          "output_type": "execute_result",
          "data": {
            "text/html": [
              "<div>\n",
              "<style scoped>\n",
              "    .dataframe tbody tr th:only-of-type {\n",
              "        vertical-align: middle;\n",
              "    }\n",
              "\n",
              "    .dataframe tbody tr th {\n",
              "        vertical-align: top;\n",
              "    }\n",
              "\n",
              "    .dataframe thead th {\n",
              "        text-align: right;\n",
              "    }\n",
              "</style>\n",
              "<table border=\"1\" class=\"dataframe\">\n",
              "  <thead>\n",
              "    <tr style=\"text-align: right;\">\n",
              "      <th></th>\n",
              "      <th>paragraph distance</th>\n",
              "      <th>position_in_essay_distance</th>\n",
              "      <th>length_sentence_ratio</th>\n",
              "      <th>type supporting</th>\n",
              "      <th>type supported</th>\n",
              "      <th>cardinal</th>\n",
              "      <th>date</th>\n",
              "      <th>gpe</th>\n",
              "      <th>norp</th>\n",
              "      <th>ordinal</th>\n",
              "      <th>org</th>\n",
              "      <th>time</th>\n",
              "      <th>.</th>\n",
              "      <th>adj</th>\n",
              "      <th>adp</th>\n",
              "      <th>adv</th>\n",
              "      <th>conj</th>\n",
              "      <th>det</th>\n",
              "      <th>noun</th>\n",
              "      <th>pron</th>\n",
              "      <th>prt</th>\n",
              "      <th>verb</th>\n",
              "    </tr>\n",
              "  </thead>\n",
              "  <tbody>\n",
              "    <tr>\n",
              "      <th>0</th>\n",
              "      <td>0</td>\n",
              "      <td>-1</td>\n",
              "      <td>0.807692</td>\n",
              "      <td>1</td>\n",
              "      <td>0</td>\n",
              "      <td>0</td>\n",
              "      <td>0</td>\n",
              "      <td>0</td>\n",
              "      <td>0</td>\n",
              "      <td>0</td>\n",
              "      <td>0</td>\n",
              "      <td>0</td>\n",
              "      <td>1</td>\n",
              "      <td>2</td>\n",
              "      <td>4</td>\n",
              "      <td>1</td>\n",
              "      <td>0</td>\n",
              "      <td>1</td>\n",
              "      <td>5</td>\n",
              "      <td>0</td>\n",
              "      <td>0</td>\n",
              "      <td>3</td>\n",
              "    </tr>\n",
              "    <tr>\n",
              "      <th>1</th>\n",
              "      <td>0</td>\n",
              "      <td>-2</td>\n",
              "      <td>0.567568</td>\n",
              "      <td>1</td>\n",
              "      <td>0</td>\n",
              "      <td>0</td>\n",
              "      <td>0</td>\n",
              "      <td>0</td>\n",
              "      <td>0</td>\n",
              "      <td>0</td>\n",
              "      <td>0</td>\n",
              "      <td>0</td>\n",
              "      <td>2</td>\n",
              "      <td>1</td>\n",
              "      <td>5</td>\n",
              "      <td>1</td>\n",
              "      <td>0</td>\n",
              "      <td>1</td>\n",
              "      <td>5</td>\n",
              "      <td>0</td>\n",
              "      <td>0</td>\n",
              "      <td>3</td>\n",
              "    </tr>\n",
              "    <tr>\n",
              "      <th>2</th>\n",
              "      <td>0</td>\n",
              "      <td>-3</td>\n",
              "      <td>1.000000</td>\n",
              "      <td>1</td>\n",
              "      <td>0</td>\n",
              "      <td>0</td>\n",
              "      <td>0</td>\n",
              "      <td>0</td>\n",
              "      <td>0</td>\n",
              "      <td>0</td>\n",
              "      <td>0</td>\n",
              "      <td>0</td>\n",
              "      <td>0</td>\n",
              "      <td>2</td>\n",
              "      <td>4</td>\n",
              "      <td>1</td>\n",
              "      <td>0</td>\n",
              "      <td>3</td>\n",
              "      <td>3</td>\n",
              "      <td>0</td>\n",
              "      <td>0</td>\n",
              "      <td>3</td>\n",
              "    </tr>\n",
              "    <tr>\n",
              "      <th>3</th>\n",
              "      <td>0</td>\n",
              "      <td>1</td>\n",
              "      <td>0.631579</td>\n",
              "      <td>1</td>\n",
              "      <td>0</td>\n",
              "      <td>0</td>\n",
              "      <td>0</td>\n",
              "      <td>0</td>\n",
              "      <td>0</td>\n",
              "      <td>0</td>\n",
              "      <td>0</td>\n",
              "      <td>0</td>\n",
              "      <td>0</td>\n",
              "      <td>1</td>\n",
              "      <td>1</td>\n",
              "      <td>1</td>\n",
              "      <td>0</td>\n",
              "      <td>1</td>\n",
              "      <td>3</td>\n",
              "      <td>0</td>\n",
              "      <td>0</td>\n",
              "      <td>3</td>\n",
              "    </tr>\n",
              "    <tr>\n",
              "      <th>4</th>\n",
              "      <td>0</td>\n",
              "      <td>4</td>\n",
              "      <td>0.523810</td>\n",
              "      <td>1</td>\n",
              "      <td>0</td>\n",
              "      <td>0</td>\n",
              "      <td>0</td>\n",
              "      <td>0</td>\n",
              "      <td>0</td>\n",
              "      <td>0</td>\n",
              "      <td>0</td>\n",
              "      <td>0</td>\n",
              "      <td>1</td>\n",
              "      <td>0</td>\n",
              "      <td>2</td>\n",
              "      <td>1</td>\n",
              "      <td>0</td>\n",
              "      <td>3</td>\n",
              "      <td>3</td>\n",
              "      <td>0</td>\n",
              "      <td>0</td>\n",
              "      <td>2</td>\n",
              "    </tr>\n",
              "  </tbody>\n",
              "</table>\n",
              "</div>"
            ],
            "text/plain": [
              "   paragraph distance  position_in_essay_distance  ...  prt  verb\n",
              "0                   0                          -1  ...    0     3\n",
              "1                   0                          -2  ...    0     3\n",
              "2                   0                          -3  ...    0     3\n",
              "3                   0                           1  ...    0     3\n",
              "4                   0                           4  ...    0     2\n",
              "\n",
              "[5 rows x 22 columns]"
            ]
          },
          "metadata": {},
          "execution_count": 49
        }
      ],
      "source": [
        "# BOW of simple POS tag of the sentence.\n",
        "temp_sentence_stat_dataframe=pd.read_csv('relation_simple_POS.csv')\n",
        "\n",
        "temp_sentence_stat_dataframe=temp_sentence_stat_dataframe.drop(columns=stat_data_simple_POS)\n",
        "\n",
        "sentence_stat_dataframe=pd.concat([sentence_stat_dataframe,temp_sentence_stat_dataframe], axis=1)\n",
        "\n",
        "sentence_stat_dataframe.head()"
      ]
    },
    {
      "cell_type": "markdown",
      "metadata": {
        "id": "rz0_Ndlfg036"
      },
      "source": [
        "### **Final statistic dataframe**"
      ]
    },
    {
      "cell_type": "code",
      "execution_count": null,
      "metadata": {
        "colab": {
          "base_uri": "https://localhost:8080/"
        },
        "id": "ulAZFoXiZAPC",
        "outputId": "d6f653d6-0c08-4ec2-ac29-4cfcf5a61e3e"
      },
      "outputs": [
        {
          "output_type": "execute_result",
          "data": {
            "text/plain": [
              "(6243, 22)"
            ]
          },
          "metadata": {},
          "execution_count": 50
        }
      ],
      "source": [
        "X_sentence_stat_dataframe=sentence_stat_dataframe.to_numpy()\n",
        "\n",
        "X_sentence_stat_dataframe.shape"
      ]
    },
    {
      "cell_type": "markdown",
      "metadata": {
        "id": "roYver9XG2EM"
      },
      "source": [
        "# **Word2vec and one-hot-encoding**"
      ]
    },
    {
      "cell_type": "code",
      "execution_count": null,
      "metadata": {
        "colab": {
          "base_uri": "https://localhost:8080/"
        },
        "id": "Y-0mZxPrPngr",
        "outputId": "dab6b801-0bae-439d-d03d-6b273e6f7c3f"
      },
      "outputs": [
        {
          "output_type": "stream",
          "name": "stdout",
          "text": [
            "[==================================================] 100.0% 1662.8/1662.8MB downloaded\n",
            "/root/gensim-data/word2vec-google-news-300/word2vec-google-news-300.gz\n"
          ]
        }
      ],
      "source": [
        "import gensim\n",
        "import gensim.downloader as api\n",
        "\n",
        "path = api.load(\"word2vec-google-news-300\", return_path=True)\n",
        "print(path)"
      ]
    },
    {
      "cell_type": "code",
      "execution_count": null,
      "metadata": {
        "id": "tQDehuUEG0He"
      },
      "outputs": [],
      "source": [
        "# Load Google Word2Vec model\n",
        "word2vec_model = gensim.models.KeyedVectors.load_word2vec_format(path, binary=True)  "
      ]
    },
    {
      "cell_type": "code",
      "execution_count": null,
      "metadata": {
        "colab": {
          "base_uri": "https://localhost:8080/"
        },
        "id": "CMyLPxJecM0r",
        "outputId": "5ff0cdbf-e32c-4df0-f6ce-9eb51f95c027"
      },
      "outputs": [
        {
          "output_type": "stream",
          "name": "stdout",
          "text": [
            "Max lenght of the supporting argumentative sections: 72\n",
            "Max lenght of the supporting argumentative sections: 50\n",
            "Max lenght of the supporting argumentative sections: 76\n",
            "Max lenght of the supporting argumentative sections: 105\n",
            "Max lenght of the supporting argumentative sections: 88\n",
            "Max lenght of the supporting argumentative sections: 103\n"
          ]
        }
      ],
      "source": [
        "# Get the maximum lenght of the argumentative sections of the essays.\n",
        "\n",
        "text_len = [len(text) for text in X_supporting_word_list]\n",
        "MAX_LEN_SUPPORTING = max(text_len)\n",
        "print(\"Max lenght of the supporting argumentative sections: {}\".format(MAX_LEN_SUPPORTING))\n",
        "\n",
        "text_len = [len(text) for text in X_supported_word_list]\n",
        "MAX_LEN_SUPPORTED = max(text_len)\n",
        "print(\"Max lenght of the supporting argumentative sections: {}\".format(MAX_LEN_SUPPORTED))\n",
        "\n",
        "text_len = [len(text) for text in X_supporting_word_list_before]\n",
        "MAX_LEN_SUPPORTING_BEFORE = max(text_len)\n",
        "print(\"Max lenght of the supporting argumentative sections: {}\".format(MAX_LEN_SUPPORTING_BEFORE))\n",
        "\n",
        "text_len = [len(text) for text in X_supported_word_list_before]\n",
        "MAX_LEN_SUPPORTED_BEFORE = max(text_len)\n",
        "print(\"Max lenght of the supporting argumentative sections: {}\".format(MAX_LEN_SUPPORTED_BEFORE))\n",
        "\n",
        "text_len = [len(text) for text in X_supporting_word_list_after]\n",
        "MAX_LEN_SUPPORTING_AFTER = max(text_len)\n",
        "print(\"Max lenght of the supporting argumentative sections: {}\".format(MAX_LEN_SUPPORTING_AFTER))\n",
        "\n",
        "text_len = [len(text) for text in X_supported_word_list_after]\n",
        "MAX_LEN_SUPPORTED_AFTER = max(text_len)\n",
        "print(\"Max lenght of the supporting argumentative sections: {}\".format(MAX_LEN_SUPPORTED_AFTER))"
      ]
    },
    {
      "cell_type": "code",
      "execution_count": null,
      "metadata": {
        "id": "KljJ3ZlgbhyZ"
      },
      "outputs": [],
      "source": [
        "text_tokenizer_supporting = Tokenizer()\n",
        "text_tokenizer_supporting.fit_on_texts(X_supporting_word_list)\n",
        "X_supporting = text_tokenizer_supporting.texts_to_sequences(X_supporting_word_list)\n",
        "X_supporting = pad_sequences(X_supporting, maxlen=MAX_LEN_SUPPORTING, padding=\"pre\")\n",
        "\n",
        "text_tokenizer_supported = Tokenizer()\n",
        "text_tokenizer_supported.fit_on_texts(X_supported_word_list)\n",
        "X_supported = text_tokenizer_supported.texts_to_sequences(X_supported_word_list)\n",
        "X_supported = pad_sequences(X_supported, maxlen=MAX_LEN_SUPPORTED, padding=\"pre\")\n",
        "\n",
        "text_tokenizer_supporting_before = Tokenizer()\n",
        "text_tokenizer_supporting_before.fit_on_texts(X_supporting_word_list_before)\n",
        "X_supporting_before = text_tokenizer_supporting_before.texts_to_sequences(X_supporting_word_list_before)\n",
        "X_supporting_before = pad_sequences(X_supporting_before, maxlen=MAX_LEN_SUPPORTING_BEFORE, padding=\"pre\")\n",
        "\n",
        "text_tokenizer_supported_before = Tokenizer()\n",
        "text_tokenizer_supported_before.fit_on_texts(X_supported_word_list_before)\n",
        "X_supported_before = text_tokenizer_supported_before.texts_to_sequences(X_supported_word_list_before)\n",
        "X_supported_before = pad_sequences(X_supported_before, maxlen=MAX_LEN_SUPPORTED_BEFORE, padding=\"pre\")\n",
        "\n",
        "text_tokenizer_supporting_after = Tokenizer()\n",
        "text_tokenizer_supporting_after.fit_on_texts(X_supporting_word_list_after)\n",
        "X_supporting_after = text_tokenizer_supporting_after.texts_to_sequences(X_supporting_word_list_after)\n",
        "X_supporting_after = pad_sequences(X_supporting_after, maxlen=MAX_LEN_SUPPORTING_AFTER, padding=\"pre\")\n",
        "\n",
        "text_tokenizer_supported_after = Tokenizer()\n",
        "text_tokenizer_supported_after.fit_on_texts(X_supported_word_list_after)\n",
        "X_supported_after = text_tokenizer_supported_after.texts_to_sequences(X_supported_word_list_after)\n",
        "X_supported_after = pad_sequences(X_supported_after, maxlen=MAX_LEN_SUPPORTED_AFTER, padding=\"pre\")"
      ]
    },
    {
      "cell_type": "code",
      "execution_count": null,
      "metadata": {
        "colab": {
          "base_uri": "https://localhost:8080/"
        },
        "id": "1-BY4Z4khofK",
        "outputId": "0f5d7a84-c517-4b00-fe3b-5a530a035db0"
      },
      "outputs": [
        {
          "output_type": "stream",
          "name": "stdout",
          "text": [
            "to\n",
            ",\n",
            "and\n",
            "of\n",
            "a\n",
            "'s\n",
            "'\n",
            ";\n",
            "’\n",
            "``\n",
            "''\n",
            "part-time\n",
            ":\n",
            "his/her\n",
            "face-to-face\n",
            "15\n",
            "co-worker\n",
            "-\n",
            "e-mail\n",
            "high-tech\n",
            ".\n",
            "(\n",
            ")\n",
            "toefl\n",
            "co-operative\n",
            "penalty-kick\n",
            "dish-washing\n",
            "centre\n",
            "well-being\n",
            "learnt\n",
            "30\n",
            "long-time\n",
            "travelling\n",
            "multiple-choice\n",
            "non-environmentally\n",
            "he/she\n",
            "co-tenant\n",
            "10\n",
            "2008\n",
            "co-operation\n",
            "“\n",
            "40\n",
            "well-rounded\n",
            "well-trained\n",
            "--\n",
            "labelled\n",
            "100\n",
            "off-campus\n",
            "comities\n",
            "behaviour\n",
            "environmentally-friendly\n",
            "well-paid\n",
            "devoiding\n",
            "white-collar\n",
            "team-working\n",
            "artcrafts\n",
            "e-learning\n",
            "re-plays\n",
            "self-independence\n",
            "short-sighted\n",
            "indira\n",
            "89\n",
            "state-of-the-art\n",
            "–\n",
            "cutting-edge\n",
            "archuleta\n",
            "high-quality\n",
            "2003\n",
            "test-takers\n",
            "ibt\n",
            "face-to\n",
            "clear-cut\n",
            "'halo\n",
            "cutting-edged\n",
            "group-studying\n",
            "non-renewable\n",
            "un-recyclable\n",
            "co-workers\n",
            "politian\n",
            "indonesians\n",
            "4:00\n",
            "twenty-four\n",
            "20th\n",
            "sugesstions\n",
            "foxconn\n",
            "self-control\n",
            "theoritical\n",
            "top-level\n",
            "to-do\n",
            "trivials\n",
            "high-ranking\n",
            "burn-out\n",
            "justing\n",
            "british-ruled\n",
            "behaviours\n",
            "mncs\n",
            "tradition-related\n",
            "defence\n",
            "non-globalized\n",
            "‘\n",
            "ivory-tower\n",
            "one-third\n",
            "gorvernment\n",
            "1960\n",
            "falseful\n",
            "2010\n",
            "enthuasism\n",
            "garther\n",
            "occupation-related\n",
            "short-time\n",
            "michaelangelo\n",
            "picasso\n",
            "rushdie\n",
            "bangladeshi\n",
            "taslima\n",
            "nasrin\n",
            "zappa\n",
            "self-defense\n",
            "co-education\n",
            "recognise\n",
            "brain-washed\n",
            "sudanese\n",
            "poverty-stricken\n",
            "baby-born\n",
            "criticise\n",
            "seagames\n",
            "19\n",
            "e-books\n",
            "brunei\n",
            "so-called\n",
            "organisation\n",
            "high-end\n",
            "acquaintant\n",
            "well-regulated\n",
            "feature-computer\n",
            "distance-learning\n",
            "would-be\n",
            "20\n",
            "millan\n",
            "show-off\n",
            "a+\n",
            "well-preparation\n",
            "state-of-art\n",
            "up-to-date\n",
            "in-born\n",
            "animlas\n",
            "170\n",
            "consumer-oriented\n",
            "longer-than-usual\n",
            "full-length\n",
            "1969\n",
            "apperant\n",
            "entertainmening\n",
            "long-lasting\n",
            "of-course\n",
            "in-touch\n",
            "insemenation\n",
            "same-old-same-old\n",
            "99\n",
            "16\n",
            "video-games\n",
            "him/her\n",
            "self-confidence\n",
            "brain-storming\n",
            "art-imagination\n",
            "fifty-fifty\n",
            "commuincation\n",
            "fast-food\n",
            "esy\n",
            "instend\n",
            "subordinaries\n",
            "prerequisit\n",
            "patiant\n",
            "theatre\n",
            "exerice\n",
            "2050\n",
            "self-employed\n",
            "25\n",
            "one-way\n",
            "over-time\n",
            "actor/actress\n",
            "sunsilk\n",
            "pieter\n",
            "oramaki\n",
            "self-made\n",
            "gujarati\n",
            "burstling\n",
            "overly-teemed\n",
            "country-\n",
            "khmer\n",
            "cutures\n",
            "tosix\n",
            "offence\n",
            "cambodia\n",
            "angkowat\n",
            "under-age\n",
            "himself/herself\n",
            "well-established\n",
            "self-centered\n",
            "payements\n",
            "eight-hour\n",
            "non-stop\n",
            "labour\n",
            "50\n",
            "75\n",
            "hands-on\n",
            "irak\n",
            "footballworld\n",
            "organised\n",
            "hydro-kinetic\n",
            "interest-free\n",
            "online-courses\n",
            "top-of-the-range\n",
            "online-teaching\n",
            "target-oriented\n",
            "lesser-known\n",
            "'your\n",
            "judgement\n",
            "seventeen-year-old\n",
            "macro-economic\n",
            "speed-up\n",
            "rush-hours\n",
            "eco-system\n",
            "eco-friendly\n",
            "non-human\n",
            "michallengo\n",
            "criticises\n",
            "memorising\n",
            "onlines\n",
            "worthlessly\n",
            "mohammedanism\n",
            "minh\n",
            "bone-by-bone\n",
            "17th\n",
            "multi-aspect\n",
            "test-wise\n",
            "must-haves\n",
            "trumm\n",
            "'teachers\n",
            "group'-\n",
            "'this\n",
            "non-verbal\n",
            "pressurising\n",
            "vapour\n",
            "2030\n",
            "she/he\n",
            "corporational\n",
            "labours\n",
            "mediabank\n",
            "organisations\n",
            "crimea\n",
            "far-off\n",
            "poverty-line\n",
            "kochhar\n",
            "icici\n",
            "'social\n",
            "'low\n",
            "osetia\n",
            "gossip-based\n",
            "salt-panic\n",
            "90-minute-games\n",
            "dioxid\n",
            "yandex\n",
            "enrolment\n",
            "three-dimensional\n",
            "24\n",
            "vairtey\n",
            "fast-paced\n",
            "non-profit\n",
            "40,000\n",
            "long-term\n",
            "beneficed\n",
            "palme\n",
            "swimpool\n",
            "main-stream\n",
            "second-hand\n",
            "well-prepared\n",
            "wdtv\n",
            "85\n",
            "self-finance\n",
            "mphils\n",
            "phds\n",
            "mr.\n",
            "tussaud\n",
            "well-organised\n",
            "high-paying\n",
            "obessed\n",
            "cancelled\n",
            "infinete\n",
            "life-long\n",
            "home-earth\n",
            "man/woman\n",
            "straight-forward\n",
            "company-\n",
            "apple-\n",
            "euopren\n",
            "destiny-beethoven\n",
            "21st\n",
            "commuincating\n",
            "low-level\n",
            "self-study\n",
            "university-level\n",
            "theorically\n",
            "i.e\n",
            "80\n",
            "on-online\n",
            "90\n",
            "on-line\n",
            "self-improvement\n",
            "time-consuming\n",
            "sales-man\n",
            "sub-continent\n",
            "month-long\n",
            "dramaticly\n",
            "acknowledgement\n",
            "high-salary\n",
            "14\n",
            "10000\n",
            "several-these\n",
            "longer-term\n",
            "univesity\n",
            "asistans\n",
            "tete-a-tete\n",
            "whatsapp\n",
            "centeries\n",
            "weichat\n",
            "well-known\n",
            "favourite\n",
            "370\n",
            "work-place\n",
            "open-minded\n",
            "out-performance\n",
            "old-fashioned\n",
            "fundermentaly\n",
            "tradtions\n",
            "non-fuel-based\n",
            "1980\n",
            "blossmed\n",
            "environment-friendly\n",
            "irrisistible\n",
            "viber\n",
            "heart-related\n",
            "antioxydant\n",
            "globalisation\n",
            "ever-increasing\n",
            "huntings\n",
            "distinction-driven\n",
            "programmes\n",
            "over-fried\n",
            "health-care\n",
            "reseachs\n",
            "everywhre\n",
            "air-conditioners\n",
            "well-qualified\n",
            "well-educated\n",
            "non-abiding\n",
            "self-sufficient\n",
            "well-informed\n",
            "exposured\n",
            "k-pop\n",
            "labourous\n",
            "highly-productive\n",
            "old-physical\n",
            "restorated\n",
            "well-behaved\n",
            "team-player\n",
            "to\n",
            ",\n",
            "of\n",
            "and\n",
            "a\n",
            "'s\n",
            "'\n",
            "’\n",
            "e-mail\n",
            ";\n",
            "``\n",
            "co-workers\n",
            "face-to-face\n",
            "''\n",
            "centre\n",
            "part-time\n",
            ":\n",
            "-\n",
            "learnt\n",
            "co-operation\n",
            "penalty-kick\n",
            "fulfil\n",
            "high-tech\n",
            "long-term\n",
            "group-studying\n",
            "co-worker\n",
            "him/herself\n",
            "industry-related\n",
            "his/her\n",
            "well-known\n",
            ".\n",
            "long-time\n",
            "co-operative\n",
            "over-dependent\n",
            "cctvs\n",
            "'a\n",
            "football/basketball\n",
            "time-consuming\n",
            "self-improvement\n",
            "programmes\n",
            "15\n",
            "30\n",
            "sales-man\n",
            "hard-work\n",
            "(\n",
            ")\n",
            "co-tenant\n",
            "10\n",
            "behaviour\n",
            "in-depth\n",
            "well-trained\n",
            "acquaintant\n",
            "unicq\n",
            "50\n",
            "75\n",
            "short-sighted\n",
            "video-game\n",
            "work-related\n",
            "research-friendly\n",
            "dish-washing\n",
            "notorous\n",
            "non-tangible\n",
            "close-downs\n",
            "opprotunities\n",
            "profit-oriented\n",
            "judgement\n",
            "eco-friendly\n",
            "win-win\n",
            "'dug\n",
            "responsibl\n",
            "high-quality\n",
            "fifty-five\n",
            "labour\n",
            "face-to\n",
            "'social\n",
            "'low\n",
            "a+\n",
            "socialization-\n",
            "up-to-date\n",
            "him/her\n",
            "he/she\n",
            "problem-solving\n",
            "man/woman\n",
            "company-\n",
            "apple-\n",
            "state-of-the-art\n",
            "hard-working\n",
            "extra-curriculum\n",
            "non-smoking\n",
            "pre-empt\n",
            "atmoshphere\n",
            "fatherood\n",
            "easy-to-cook\n",
            "2008\n",
            "distance-learning\n",
            "teacher-student\n",
            "well-equipped\n",
            "less-used\n",
            "“\n",
            "self-awareness\n",
            "poverty-stricken\n",
            "worthlessly\n",
            "all-round\n",
            "toefl\n",
            "long-distance\n",
            "20\n",
            "clear-cut\n",
            "well-preparation\n",
            "state-of-art\n",
            "living-level\n",
            "non-native\n",
            "step-by-step\n",
            "co-citizens\n",
            "non-renewable\n",
            "non-environmentally\n",
            "main-stream\n",
            "second-hand\n",
            "long-lasting\n",
            "of-course\n",
            "85\n",
            "now-a-days\n",
            "high-paying\n",
            "low-level\n",
            "university-level\n",
            "i.e\n",
            "on-line\n",
            "acknowledgement\n",
            "14\n",
            "10000\n",
            "justing\n",
            "longer-term\n",
            "weichat\n",
            "communicatio\n",
            "tradition-related\n",
            "20th\n",
            "self-made\n",
            "comfot\n",
            "demines\n",
            "glamour\n",
            "law-aiding\n",
            "cambodia\n",
            "angkowat\n",
            "self-centered\n",
            "payements\n",
            "well-organized\n",
            "falseful\n",
            "hands-on\n",
            "interest-free\n",
            "bangladeshi\n",
            "taslima\n",
            "nasrin\n",
            "zappa\n",
            "michaelangelo\n",
            "picasso\n",
            "rushdie\n",
            "'your\n",
            "self-defense\n",
            "indira\n",
            "colourful\n",
            "macro-economic\n",
            "baby-born\n",
            "criticise\n",
            "brunei\n",
            "organisation\n",
            "favour\n",
            "test-takers\n",
            "multiple-choice\n",
            "well-being\n",
            "high-end\n",
            "corporational\n",
            "labours\n",
            "mediabank\n",
            "feature-computer\n",
            "ibt\n",
            "far-off\n",
            "poverty-line\n",
            "labelled\n",
            "100\n",
            "off-campus\n",
            "'halo\n",
            "show-off\n",
            "90-minute-games\n",
            "comities\n",
            "enrolment\n",
            "fast-paced\n",
            "non-profit\n",
            "open-minded\n",
            "in-born\n",
            "animlas\n",
            "170\n",
            "un-recyclable\n",
            "short-term\n",
            "politian\n",
            "devoiding\n",
            "white-collar\n",
            "team-working\n",
            "entertainmening\n",
            "insemenation\n",
            "well-prepared\n",
            "99\n",
            "16\n",
            "self-finance\n",
            "sugesstions\n",
            "89\n",
            "brain-storming\n",
            "life-long\n",
            "home-earth\n",
            "fifty-fifty\n",
            "self-recognition\n",
            "self-control\n",
            "theatre\n",
            "high-ranking\n",
            "sub-continent\n",
            "burn-out\n",
            "2050\n",
            "e-learning\n",
            "25\n",
            "british-ruled\n",
            "40\n",
            "environmentally-friendly\n",
            "sunsilk\n",
            "pieter\n",
            "work-place\n",
            "lifestlyle\n",
            "travelling\n",
            "tradtions\n",
            "stabilising\n",
            "1980\n",
            "viber\n",
            "khmer\n",
            "reseachs\n",
            "accelarates\n",
            "non-globalized\n",
            "well-informed\n",
            "labourous\n",
            "e.g\n",
            "parantage\n",
            ",\n",
            ".\n",
            "to\n",
            "of\n",
            "and\n",
            "a\n",
            "'s\n",
            "'\n",
            ";\n",
            "’\n",
            "``\n",
            "''\n",
            ":\n",
            "part-time\n",
            "?\n",
            "e-mail\n",
            "centre\n",
            "-\n",
            "face-to-face\n",
            "15\n",
            "his/her\n",
            "high-tech\n",
            "co-worker\n",
            "toefl\n",
            "face-to\n",
            "30\n",
            "programmes\n",
            "100\n",
            "he/she\n",
            "(\n",
            ")\n",
            "well-known\n",
            "self-improvement\n",
            "behaviour\n",
            "!\n",
            "learnt\n",
            "well-paid\n",
            "co-operation\n",
            "long-time\n",
            "co-operative\n",
            "long-term\n",
            "well-being\n",
            "ibt\n",
            "fast-paced\n",
            "co-workers\n",
            "foxconn\n",
            "commuincation\n",
            "low-level\n",
            "nowaday\n",
            "high-salary\n",
            "‘\n",
            "falseful\n",
            "16\n",
            "state-of-the-art\n",
            "judgement\n",
            "'a\n",
            "independly\n",
            "team-working\n",
            "same-old-same-old\n",
            "self-study\n",
            "penalty-kick\n",
            "multiple-choice\n",
            "commuincating\n",
            "sales-man\n",
            "burn-out\n",
            "14\n",
            "longer-term\n",
            "dish-washing\n",
            "re-plays\n",
            "fulfil\n",
            "humans.both\n",
            "futhermore\n",
            "team-player\n",
            "50\n",
            "2008\n",
            "analysing\n",
            "less-used\n",
            "travelling\n",
            "“\n",
            "well-rounded\n",
            "bone-by-bone\n",
            "brunei\n",
            "test-wise\n",
            "acquaintant\n",
            "organisations\n",
            "--\n",
            "'social\n",
            "'low\n",
            "90-minute-games\n",
            "socialization-\n",
            "non-profit\n",
            "animlas\n",
            "politian\n",
            "indonesians\n",
            "4:00\n",
            "entertainmening\n",
            "up-to-date\n",
            "20th\n",
            "him/her\n",
            "now-a-days\n",
            "him/herself\n",
            "industry-related\n",
            "fifty-fifty\n",
            "rapid-changing\n",
            "21st\n",
            "futuermore\n",
            "i.e\n",
            "month-long\n",
            "25\n",
            "whatsapp\n",
            "over-time\n",
            "ever-accelerated\n",
            "environmentally-friendly\n",
            "pieter\n",
            "self-made\n",
            "extra-curriculum\n",
            "irrisistible\n",
            "secondy\n",
            "relegious\n",
            "everywhre\n",
            "corpore\n",
            "co-tenant\n",
            "ivory-tower\n",
            "labour\n",
            "one-third\n",
            "organised\n",
            "distance-learning\n",
            "online-courses\n",
            "top-of-the-range\n",
            "well-equipped\n",
            "zappa\n",
            "self-defense\n",
            "over-dependent\n",
            "10\n",
            "89\n",
            "far-reaching\n",
            "eco-friendly\n",
            "onlines\n",
            "cctvs\n",
            "cutting-edge\n",
            "responsibl\n",
            "19\n",
            "17th\n",
            "so-called\n",
            "fifty-five\n",
            "favour\n",
            "must-haves\n",
            "2030\n",
            "well-trained\n",
            "mediabank\n",
            "labelled\n",
            "20\n",
            "unicq\n",
            "clear-cut\n",
            "75\n",
            "millan\n",
            "cutting-edged\n",
            "24\n",
            "...\n",
            "non-native\n",
            "step-by-step\n",
            "group-studying\n",
            "in-born\n",
            "swimpool\n",
            "non-academic\n",
            "longer-than-usual\n",
            "full-length\n",
            "main-stream\n",
            "apperant\n",
            "second-hand\n",
            "short-sighted\n",
            "wdtv\n",
            "video-game\n",
            "video-games\n",
            "self-finance\n",
            "sugesstions\n",
            "high-paying\n",
            "obessed\n",
            "life-long\n",
            "problem-solving\n",
            "man/woman\n",
            "straight-forward\n",
            "self-recognition\n",
            "self-control\n",
            "top-level\n",
            "u.s\n",
            "theorically\n",
            "80\n",
            "on-online\n",
            "90\n",
            "acknowledgement\n",
            "theatre\n",
            "furthermore/moreover\n",
            "self-employed\n",
            "tradition-related\n",
            "defence\n",
            "well-off\n",
            "out-performance\n",
            "tradtions\n",
            "blossmed\n",
            "cutures\n",
            "well-qualified\n",
            "well-educated\n",
            "tosix\n",
            "labourous\n",
            "restorated\n",
            "cambodia\n",
            "angkowat\n",
            "under-age\n",
            "close-downs\n",
            "payements\n",
            "eight-hour\n",
            "overweighing\n",
            "side-effects\n",
            "1960\n",
            "opprotunities\n",
            "2010\n",
            "enthuasism\n",
            "garther\n",
            "irak\n",
            "footballworld\n",
            "interest-free\n",
            "teacher-student\n",
            "online-degrees\n",
            "target-oriented\n",
            "bangladeshi\n",
            "taslima\n",
            "nasrin\n",
            "co-education\n",
            "profit-oriented\n",
            "seventeen-year-old\n",
            "sudanese\n",
            "eco-system\n",
            "poverty-stricken\n",
            "non-human\n",
            "baby-born\n",
            "criticise\n",
            "win-win\n",
            "'dug\n",
            "seagames\n",
            "minh\n",
            "e-books\n",
            "multi-aspect\n",
            "high-quality\n",
            "organisation\n",
            "2003\n",
            "test-takers\n",
            "trumm\n",
            "–\n",
            "'teachers\n",
            "group'-\n",
            "'this\n",
            "non-verbal\n",
            "pressurising\n",
            "vapour\n",
            "in-depth\n",
            "she/he\n",
            "well-regulated\n",
            "all-round\n",
            "feature-computer\n",
            "prioritised\n",
            "long-distance\n",
            "would-be\n",
            "off-campus\n",
            "'halo\n",
            "non-smokers\n",
            "osetia\n",
            "show-off\n",
            "dioxid\n",
            "comities\n",
            "yandex\n",
            "living-level\n",
            "three-dimensional\n",
            "vairtey\n",
            "40,000\n",
            "beneficed\n",
            "open-minded\n",
            "non-renewable\n",
            "un-recyclable\n",
            "non-environmentally\n",
            "1969\n",
            "twenty-four\n",
            "long-lasting\n",
            "of-course\n",
            "time-consuming\n",
            "insemenation\n",
            "mr.\n",
            "artcrafts\n",
            "well-organised\n",
            "cancelled\n",
            "infinete\n",
            "art-imagination\n",
            "company-\n",
            "apple-\n",
            "theoritical\n",
            "fast-food\n",
            "football/basketball\n",
            "coniders\n",
            "esy\n",
            "instend\n",
            "to-do\n",
            "trivials\n",
            "on-line\n",
            "exerice\n",
            "research-friendly\n",
            "sub-continent\n",
            "2050\n",
            "e-learning\n",
            "10000\n",
            "justing\n",
            "environmental-friendly\n",
            "hard-work\n",
            "one-way\n",
            "tete-a-tete\n",
            "actor/actress\n",
            "mncs\n",
            "sunsilk\n",
            "hard-working\n",
            "favourite\n",
            "370\n",
            "oramaki\n",
            "work-place\n",
            "old-fashioned\n",
            "fundermentaly\n",
            "non-fuel-based\n",
            "burstling\n",
            "overly-teemed\n",
            "stabilising\n",
            "non-smoking\n",
            "1980\n",
            "comfot\n",
            "antioxydant\n",
            "country-\n",
            "globalisation\n",
            "ever-increasing\n",
            "huntings\n",
            "khmer\n",
            "pre-empt\n",
            "reseachs\n",
            "air-conditioners\n",
            "kidvids\n",
            "non-globalized\n",
            "atmoshphere\n",
            "non-abiding\n",
            "self-sufficient\n",
            "well-informed\n",
            "law-aiding\n",
            "exposured\n",
            "e.g\n",
            "parantage\n",
            "fatherood\n",
            ",\n",
            ".\n",
            "to\n",
            "of\n",
            "and\n",
            "a\n",
            "'s\n",
            "'\n",
            ";\n",
            "’\n",
            "``\n",
            "''\n",
            ":\n",
            "part-time\n",
            "e-mail\n",
            "his/her\n",
            "face-to-face\n",
            "toefl\n",
            "co-operative\n",
            "ibt\n",
            "?\n",
            "he/she\n",
            "time-consuming\n",
            "15\n",
            "up-to-date\n",
            "learnt\n",
            "travelling\n",
            "co-workers\n",
            "-\n",
            "99\n",
            "!\n",
            "high-ranking\n",
            "re-plays\n",
            "co-tenant\n",
            "falseful\n",
            "whole-heartedly\n",
            "favour\n",
            "prioritised\n",
            "well-preparation\n",
            "state-of-art\n",
            "behaviour\n",
            "obessed\n",
            "self-centered\n",
            "10\n",
            "distance-learning\n",
            "co-operation\n",
            "co-education\n",
            "judgement\n",
            "well-rounded\n",
            "criticises\n",
            "memorising\n",
            "well-being\n",
            "group-studying\n",
            "co-worker\n",
            "foxconn\n",
            "self-control\n",
            "commuincation\n",
            "e-learning\n",
            "10000\n",
            "humans.both\n",
            "misconcept\n",
            "relegious\n",
            "corpore\n",
            "well-known\n",
            "hands-on\n",
            "analysing\n",
            "online-teaching\n",
            "well-equipped\n",
            "high-tech\n",
            "–\n",
            "macro-economic\n",
            "speed-up\n",
            "rush-hours\n",
            "eco-system\n",
            "michallengo\n",
            "archuleta\n",
            "2003\n",
            "enrolment\n",
            "three-dimensional\n",
            "environmentally-friendly\n",
            "politian\n",
            "second-hand\n",
            "well-prepared\n",
            "wdtv\n",
            "home-earth\n",
            "man/woman\n",
            "21st\n",
            "university-level\n",
            "sales-man\n",
            "burn-out\n",
            "furthermore/moreover\n",
            "british-ruled\n",
            "behaviours\n",
            "fulfil\n",
            "environment-friendly\n",
            "programmes\n",
            "himself/herself\n",
            "self-independence\n",
            "well-established\n",
            "(\n",
            ")\n",
            "ivory-tower\n",
            "'your\n",
            "far-reaching\n",
            "mohammedanism\n",
            "long-term\n",
            "multiple-choice\n",
            "50\n",
            "75\n",
            "centre\n",
            "mr.\n",
            "well-organised\n",
            "30\n",
            "problem-solving\n",
            "penalty-kick\n",
            "euopren\n",
            "destiny-beethoven\n",
            "top-level\n",
            "subordinaries\n",
            "prerequisit\n",
            "patiant\n",
            "theatre\n",
            "research-friendly\n",
            "longer-term\n",
            "univesity\n",
            "asistans\n",
            "whatsapp\n",
            "40\n",
            "dish-washing\n",
            "defence\n",
            "gujarati\n",
            "over-fried\n",
            "well-behaved\n",
            "non-stop\n",
            "opprotunities\n",
            "online-degrees\n",
            "less-used\n",
            "lesser-known\n",
            "state-of-the-art\n",
            "sudanese\n",
            "eco-friendly\n",
            "e-books\n",
            "trumm\n",
            "'teachers\n",
            "group'-\n",
            "'this\n",
            "non-verbal\n",
            "well-trained\n",
            "far-off\n",
            "poverty-line\n",
            "dioxid\n",
            "comities\n",
            "a+\n",
            "cutting-edged\n",
            "40,000\n",
            "170\n",
            "non-environmentally\n",
            "consumer-oriented\n",
            "long-lasting\n",
            "of-course\n",
            "easy-to-use\n",
            "time-saving\n",
            "85\n",
            "him/her\n",
            "“\n",
            "”\n",
            "mphils\n",
            "phds\n",
            "self-confidence\n",
            "fifty-fifty\n",
            "commuincating\n",
            "build-up\n",
            "low-level\n",
            "self-study\n",
            "nowaday\n",
            "month-long\n",
            "14\n",
            "several-these\n",
            "--\n",
            "over-time\n",
            "weichat\n",
            "ever-accelerated\n",
            "pieter\n",
            "well-off\n",
            "self-made\n",
            "tradtions\n",
            "futhermore\n",
            "irrisistible\n",
            "viber\n",
            "khmer\n",
            "well-qualified\n",
            "well-educated\n",
            "non-abiding\n",
            "parantage\n",
            "fatherood\n",
            "team-player\n",
            "under-age\n",
            "easy-to-cook\n",
            "gorvernment\n",
            "non-governmental\n",
            "2010\n",
            "2008\n",
            "organised\n",
            "long-time\n",
            "bangladeshi\n",
            "taslima\n",
            "nasrin\n",
            "89\n",
            "profit-oriented\n",
            "brain-washed\n",
            "poverty-stricken\n",
            "non-human\n",
            "onlines\n",
            "cutting-edge\n",
            "win-win\n",
            "responsibl\n",
            "19\n",
            "multi-aspect\n",
            "high-quality\n",
            "fifty-five\n",
            "test-wise\n",
            "test-takers\n",
            "labour\n",
            "2030\n",
            "all-round\n",
            "mediabank\n",
            "feature-computer\n",
            "organisations\n",
            "face-to\n",
            "labelled\n",
            "20\n",
            "off-campus\n",
            "'halo\n",
            "90-minute-games\n",
            "socialization-\n",
            "fast-paced\n",
            "'a\n",
            "non-native\n",
            "step-by-step\n",
            "in-born\n",
            "animlas\n",
            "co-citizens\n",
            "palme\n",
            "non-renewable\n",
            "longer-than-usual\n",
            "full-length\n",
            "independly\n",
            "apperant\n",
            "team-working\n",
            "twenty-four\n",
            "short-sighted\n",
            "same-old-same-old\n",
            "20th\n",
            "video-games\n",
            "now-a-days\n",
            "artcrafts\n",
            "him/herself\n",
            "well-paid\n",
            "high-paying\n",
            "cost-effective\n",
            "art-imagination\n",
            "straight-forward\n",
            "company-\n",
            "apple-\n",
            "self-identification\n",
            "rapid-changing\n",
            "theoritical\n",
            "football/basketball\n",
            "coniders\n",
            "16\n",
            "i.e\n",
            "above-mentioned\n",
            "100\n",
            "25\n",
            "so-called\n",
            "tradition-related\n",
            "hard-working\n",
            "out-performance\n",
            "extra-curriculum\n",
            "old-fashioned\n",
            "fundermentaly\n",
            "non-smoking\n",
            "1980\n",
            "notorous\n",
            "secondy\n",
            "cutures\n",
            "pre-empt\n",
            "devoiding\n",
            "white-collar\n",
            "everywhre\n",
            "tosix\n",
            "self-sufficient\n",
            "highly-productive\n",
            "old-physical\n",
            "restorated\n",
            "labourous\n",
            ",\n",
            ".\n",
            "to\n",
            "and\n",
            "of\n",
            "a\n",
            "'s\n",
            "'\n",
            ";\n",
            "’\n",
            "``\n",
            "''\n",
            ":\n",
            "part-time\n",
            "e-mail\n",
            "face-to-face\n",
            "?\n",
            "!\n",
            "centre\n",
            "-\n",
            "co-worker\n",
            "co-operation\n",
            "–\n",
            "well-being\n",
            "travelling\n",
            "co-operative\n",
            "15\n",
            "high-quality\n",
            "(\n",
            ")\n",
            "30\n",
            "his/her\n",
            "high-tech\n",
            "toefl\n",
            "group-studying\n",
            "high-paying\n",
            "dish-washing\n",
            "well-known\n",
            "time-consuming\n",
            "10\n",
            "above-mentioned\n",
            "environmentally-friendly\n",
            "co-workers\n",
            "team-working\n",
            "second-hand\n",
            "he/she\n",
            "him/her\n",
            "home-earth\n",
            "face-to\n",
            "--\n",
            "20th\n",
            "self-confidence\n",
            "university-level\n",
            "demines\n",
            "co-tenant\n",
            "brain-washed\n",
            "multiple-choice\n",
            "well-trained\n",
            "20\n",
            "apperant\n",
            "wdtv\n",
            "him/herself\n",
            "penalty-kick\n",
            "fifty-fifty\n",
            "21st\n",
            "burn-out\n",
            "2050\n",
            "10000\n",
            "tradition-related\n",
            "fulfil\n",
            "cutures\n",
            "over-fried\n",
            "well-established\n",
            "falseful\n",
            "2010\n",
            "well-prepared\n",
            "long-time\n",
            "89\n",
            "non-profit\n",
            "colourful\n",
            "poverty-stricken\n",
            "michallengo\n",
            "criticise\n",
            "onlines\n",
            "worthlessly\n",
            "archuleta\n",
            "programmes\n",
            "trumm\n",
            "'teachers\n",
            "group'-\n",
            "'this\n",
            "non-verbal\n",
            "high-end\n",
            "a+\n",
            "well-preparation\n",
            "state-of-art\n",
            "long-term\n",
            "open-minded\n",
            "behaviour\n",
            "un-recyclable\n",
            "consumer-oriented\n",
            "twenty-four\n",
            "same-old-same-old\n",
            "85\n",
            "mr.\n",
            "“\n",
            "self-recognition\n",
            "top-level\n",
            "nowaday\n",
            "acknowledgement\n",
            "several-these\n",
            "environmental-friendly\n",
            "25\n",
            "tete-a-tete\n",
            "re-plays\n",
            "futhermore\n",
            "khmer\n",
            "well-qualified\n",
            "well-educated\n",
            "team-player\n",
            "‘\n",
            "non-tangible\n",
            "under-age\n",
            "self-independence\n",
            "close-downs\n",
            "ivory-tower\n",
            "well-organized\n",
            "over-rated\n",
            "75\n",
            "2008\n",
            "irak\n",
            "footballworld\n",
            "teacher-student\n",
            "short-time\n",
            "lesser-known\n",
            "'your\n",
            "co-education\n",
            "macro-economic\n",
            "40\n",
            "man-made\n",
            "criticises\n",
            "memorising\n",
            "minh\n",
            "labour\n",
            "pressurising\n",
            "vapour\n",
            "in-depth\n",
            "ibt\n",
            "'social\n",
            "'low\n",
            "50\n",
            "millan\n",
            "'halo\n",
            "judgement\n",
            "yandex\n",
            "enrolment\n",
            "vairtey\n",
            "...\n",
            "40,000\n",
            "swimpool\n",
            "170\n",
            "short-term\n",
            "politian\n",
            "non-academic\n",
            "main-stream\n",
            "short-sighted\n",
            "insemenation\n",
            "99\n",
            "mphils\n",
            "phds\n",
            "foxconn\n",
            "cancelled\n",
            "infinete\n",
            "company-\n",
            "apple-\n",
            "commuincation\n",
            "futuermore\n",
            "low-level\n",
            "to-do\n",
            "trivials\n",
            "u.s\n",
            "learnt\n",
            "on-line\n",
            "high-ranking\n",
            "sales-man\n",
            "dramaticly\n",
            "100\n",
            "british-ruled\n",
            "so-called\n",
            "behaviours\n",
            "ever-accelerated\n",
            "pieter\n",
            "defence\n",
            "370\n",
            "well-off\n",
            "self-made\n",
            "gujarati\n",
            "extra-curriculum\n",
            "irrisistible\n",
            "secondy\n",
            "relegious\n",
            "sumarize\n",
            "country-\n",
            "self-sufficient\n",
            "highly-productive\n",
            "old-physical\n",
            "technogy\n",
            "cambodia\n",
            "angkowat\n",
            "self-centered\n",
            "non-stop\n",
            "easy-to-cook\n",
            "opprotunities\n",
            "enthuasism\n",
            "hands-on\n",
            "harder-working\n",
            "organised\n",
            "hydro-kinetic\n",
            "interest-free\n",
            "online-courses\n",
            "top-of-the-range\n",
            "online-degrees\n",
            "distance-learning\n",
            "occupation-related\n",
            "well-equipped\n",
            "less-used\n",
            "bangladeshi\n",
            "taslima\n",
            "nasrin\n",
            "self-awareness\n",
            "self-improvement\n",
            "self-defense\n",
            "indira\n",
            "state-of-the-art\n",
            "recognise\n",
            "speed-up\n",
            "rush-hours\n",
            "sudanese\n",
            "emphasise\n",
            "well-rounded\n",
            "eco-friendly\n",
            "cctvs\n",
            "win-win\n",
            "seagames\n",
            "19\n",
            "17th\n",
            "brunei\n",
            "2003\n",
            "test-takers\n",
            "2030\n",
            "well-regulated\n",
            "all-round\n",
            "feature-computer\n",
            "crimea\n",
            "far-off\n",
            "poverty-line\n",
            "long-distance\n",
            "kochhar\n",
            "icici\n",
            "would-be\n",
            "labelled\n",
            "unicq\n",
            "off-campus\n",
            "osetia\n",
            "gossip-based\n",
            "salt-panic\n",
            "show-off\n",
            "90-minute-games\n",
            "dioxid\n",
            "cutting-edged\n",
            "living-level\n",
            "three-dimensional\n",
            "socialization-\n",
            "up-to-date\n",
            "'a\n",
            "animlas\n",
            "co-citizens\n",
            "palme\n",
            "non-environmentally\n",
            "longer-than-usual\n",
            "full-length\n",
            "1969\n",
            "indonesians\n",
            "4:00\n",
            "entertainmening\n",
            "in-touch\n",
            "video-games\n",
            "self-finance\n",
            "coclusion\n",
            "well-organised\n",
            "industry-related\n",
            "brain-storming\n",
            "life-long\n",
            "problem-solving\n",
            "straight-forward\n",
            "euopren\n",
            "destiny-beethoven\n",
            "self-identification\n",
            "commuincating\n",
            "fast-food\n",
            "subordinaries\n",
            "prerequisit\n",
            "patiant\n",
            "self-study\n",
            "theatre\n",
            "16\n",
            "e-learning\n",
            "self-employed\n",
            "longer-term\n",
            "hard-work\n",
            "univesity\n",
            "asistans\n",
            "whatsapp\n",
            "over-time\n",
            "centeries\n",
            "'cult\n",
            "weichat\n",
            "communicatio\n",
            "mncs\n",
            "hard-working\n",
            "well-of\n",
            "out-performance\n",
            "tradtions\n",
            "non-fuel-based\n",
            "stabilising\n",
            "environment-friendly\n",
            "notorous\n",
            "comfot\n",
            "ever-increasing\n",
            "huntings\n",
            "distinction-driven\n",
            "pre-empt\n",
            "health-care\n",
            "accelarates\n",
            "kidvids\n",
            "unrivalled\n",
            "non-abiding\n",
            "well-informed\n",
            "glamour\n",
            "law-aiding\n",
            "already-high\n",
            "k-pop\n",
            "restorated\n",
            "well-behaved\n",
            "fatherood\n",
            ",\n",
            ".\n",
            "to\n",
            "and\n",
            "of\n",
            "a\n",
            "'s\n",
            ";\n",
            "'\n",
            "’\n",
            "``\n",
            "''\n",
            "part-time\n",
            "?\n",
            "e-mail\n",
            "face-to-face\n",
            "co-operative\n",
            "-\n",
            ":\n",
            "well-being\n",
            "!\n",
            "learnt\n",
            "long-term\n",
            "garther\n",
            "short-sighted\n",
            "15\n",
            "high-tech\n",
            "face-to\n",
            "co-workers\n",
            "commuincation\n",
            "his/her\n",
            "30\n",
            "well-known\n",
            "state-of-the-art\n",
            "up-to-date\n",
            "fifty-fifty\n",
            "research-friendly\n",
            "dish-washing\n",
            "–\n",
            "well-rounded\n",
            "distance-learning\n",
            "20\n",
            "100\n",
            "co-worker\n",
            "cancelled\n",
            "infinete\n",
            "tete-a-tete\n",
            "long-time\n",
            "89\n",
            "judgement\n",
            "non-human\n",
            "e-books\n",
            "...\n",
            "second-hand\n",
            "artcrafts\n",
            "high-paying\n",
            "travelling\n",
            "penalty-kick\n",
            "whatsapp\n",
            "oramaki\n",
            "blossmed\n",
            "team-player\n",
            "co-tenant\n",
            "one-third\n",
            "1960\n",
            "50\n",
            "analysing\n",
            "organising\n",
            "co-operation\n",
            "centre\n",
            "cutting-edge\n",
            "seagames\n",
            "2008\n",
            "brunei\n",
            "programmes\n",
            "must-haves\n",
            "24\n",
            "non-renewable\n",
            "16\n",
            "self-finance\n",
            "foxconn\n",
            "art-imagination\n",
            "man/woman\n",
            "rapid-changing\n",
            "self-control\n",
            "time-consuming\n",
            "sunsilk\n",
            "re-plays\n",
            "defence\n",
            "antioxydant\n",
            "self-independence\n",
            "(\n",
            ")\n",
            "eight-hour\n",
            "non-stop\n",
            "falseful\n",
            "2010\n",
            "have-nots\n",
            "bangladeshi\n",
            "taslima\n",
            "nasrin\n",
            "non-profit\n",
            "brain-washed\n",
            "colourful\n",
            "seventeen-year-old\n",
            "macro-economic\n",
            "baby-born\n",
            "'dug\n",
            "bone-by-bone\n",
            "17th\n",
            "multi-aspect\n",
            "so-called\n",
            "organisation\n",
            "she/he\n",
            "organisations\n",
            "'social\n",
            "'low\n",
            "above-mentioned\n",
            "millan\n",
            "comities\n",
            "fast-paced\n",
            "'a\n",
            "environmentally-friendly\n",
            "same-old-same-old\n",
            "20th\n",
            "well-paid\n",
            "21st\n",
            "low-level\n",
            "self-study\n",
            "theorically\n",
            "i.e\n",
            "month-long\n",
            "one-way\n",
            "actor/actress\n",
            "1980\n",
            "globalisation\n",
            "khmer\n",
            "tosix\n",
            "payements\n",
            "over-rated\n",
            "irak\n",
            "footballworld\n",
            "online-teaching\n",
            "short-time\n",
            "well-equipped\n",
            "less-used\n",
            "lesser-known\n",
            "self-defense\n",
            "poverty-stricken\n",
            "eco-friendly\n",
            "cctvs\n",
            "mohammedanism\n",
            "responsibl\n",
            "2003\n",
            "test-wise\n",
            "well-regulated\n",
            "corporational\n",
            "labours\n",
            "crimea\n",
            "unicq\n",
            "cutting-edged\n",
            "beneficed\n",
            "un-recyclable\n",
            "short-term\n",
            "consumer-oriented\n",
            "politian\n",
            "devoiding\n",
            "white-collar\n",
            "main-stream\n",
            "1969\n",
            "in-touch\n",
            "long-lasting\n",
            "of-course\n",
            "time-saving\n",
            "well-prepared\n",
            "him/her\n",
            "sugesstions\n",
            "self-confidence\n",
            "life-long\n",
            "home-earth\n",
            "self-recognition\n",
            "esy\n",
            "instend\n",
            "to-do\n",
            "trivials\n",
            "theatre\n",
            "80\n",
            "on-online\n",
            "90\n",
            "exerice\n",
            "sub-continent\n",
            "2050\n",
            "several-these\n",
            "environmental-friendly\n",
            "furthermore/moreover\n",
            "40\n",
            "over-time\n",
            "centeries\n",
            "behaviours\n",
            "communicatio\n",
            "pieter\n",
            "fulfil\n",
            "old-fashioned\n",
            "fundermentaly\n",
            "non-personal\n",
            "developed-skills\n",
            "heart-related\n",
            "cutures\n",
            "reseachs\n",
            "everywhre\n",
            "air-conditioners\n",
            "non-globalized\n",
            "exposured\n",
            "e.g\n",
            "himself/herself\n",
            "well-established\n",
            "gorvernment\n",
            "enthuasism\n",
            "hands-on\n",
            "hydro-kinetic\n",
            "online-courses\n",
            "top-of-the-range\n",
            "self-improvement\n",
            "'your\n",
            "indira\n",
            "profit-oriented\n",
            "recognise\n",
            "sudanese\n",
            "criticises\n",
            "memorising\n",
            "19\n",
            "archuleta\n",
            "labour\n",
            "high-end\n",
            "pressurising\n",
            "vapour\n",
            "in-depth\n",
            "well-trained\n",
            "mediabank\n",
            "toefl\n",
            "ibt\n",
            "long-distance\n",
            "self-regulated\n",
            "labelled\n",
            "clear-cut\n",
            "off-campus\n",
            "90-minute-games\n",
            "high-quality\n",
            "a+\n",
            "yandex\n",
            "enrolment\n",
            "non-environmentally\n",
            "longer-than-usual\n",
            "full-length\n",
            "apperant\n",
            "team-working\n",
            "he/she\n",
            "entertainmening\n",
            "85\n",
            "video-game\n",
            "mr.\n",
            "tussaud\n",
            "well-organised\n",
            "obessed\n",
            "industry-related\n",
            "company-\n",
            "apple-\n",
            "euopren\n",
            "destiny-beethoven\n",
            "self-identification\n",
            "u.s\n",
            "university-level\n",
            "burn-out\n",
            "dramaticly\n",
            "self-employed\n",
            "british-ruled\n",
            "longer-term\n",
            "'cult\n",
            "mncs\n",
            "ever-accelerated\n",
            "tradition-related\n",
            "favourite\n",
            "work-place\n",
            "out-performance\n",
            "futhermore\n",
            "harmonial\n",
            "comfot\n",
            "secondy\n",
            "relegious\n",
            "sumarize\n",
            "over-fried\n",
            "health-care\n",
            "well-qualified\n",
            "well-educated\n",
            "offence\n",
            "glamour\n",
            "labourous\n",
            "technogy\n",
            "highly-productive\n",
            "old-physical\n",
            "well-behaved\n"
          ]
        }
      ],
      "source": [
        "# Each word in the Word2vec model used is embedded trough a vector of size 300\n",
        "EMBEDDING_SIZE  = 300\n",
        "\n",
        "# Size of the vocabulary used\n",
        "VOCABULARY_SIZE_SUPPORTING = len(text_tokenizer_supporting.word_index) + 1\n",
        "VOCABULARY_SIZE_SUPPORTED = len(text_tokenizer_supported.word_index) + 1\n",
        "VOCABULARY_SIZE_SUPPORTING_BEFORE = len(text_tokenizer_supporting_before.word_index) + 1\n",
        "VOCABULARY_SIZE_SUPPORTED_BEFORE = len(text_tokenizer_supported_before.word_index) + 1\n",
        "VOCABULARY_SIZE_SUPPORTING_AFTER = len(text_tokenizer_supporting_after.word_index) + 1\n",
        "VOCABULARY_SIZE_SUPPORTED_AFTER = len(text_tokenizer_supported_after.word_index) + 1\n",
        "\n",
        "# Create an empty embedding matix\n",
        "embedding_weights_supporting = np.zeros((VOCABULARY_SIZE_SUPPORTING, EMBEDDING_SIZE))\n",
        "embedding_weights_supported = np.zeros((VOCABULARY_SIZE_SUPPORTED, EMBEDDING_SIZE))\n",
        "embedding_weights_supporting_before = np.zeros((VOCABULARY_SIZE_SUPPORTING_BEFORE, EMBEDDING_SIZE))\n",
        "embedding_weights_supported_before = np.zeros((VOCABULARY_SIZE_SUPPORTED_BEFORE, EMBEDDING_SIZE))\n",
        "embedding_weights_supporting_after = np.zeros((VOCABULARY_SIZE_SUPPORTING_AFTER , EMBEDDING_SIZE))\n",
        "embedding_weights_supported_after = np.zeros((VOCABULARY_SIZE_SUPPORTED_AFTER , EMBEDDING_SIZE))\n",
        "\n",
        "# Create a word to index dictionary mapping\n",
        "word2id_supporting = text_tokenizer_supporting.word_index\n",
        "word2id_supported = text_tokenizer_supported.word_index\n",
        "word2id_supporting_before = text_tokenizer_supporting_before.word_index\n",
        "word2id_supported_before = text_tokenizer_supported_before.word_index\n",
        "word2id_supporting_after = text_tokenizer_supporting_after.word_index\n",
        "word2id_supported_after = text_tokenizer_supported_after.word_index\n",
        "\n",
        "# Copy vectors from word2vec model to the words present in corpus\n",
        "for word, index in word2id_supporting.items():\n",
        "    try:\n",
        "        embedding_weights_supporting[index, :] = word2vec_model[word]\n",
        "    except KeyError:\n",
        "        print(word)\n",
        "\n",
        "for word, index in word2id_supported.items():\n",
        "    try:\n",
        "        embedding_weights_supported[index, :] = word2vec_model[word]\n",
        "    except KeyError:\n",
        "        print(word)        \n",
        "\n",
        "for word, index in word2id_supporting_before.items():\n",
        "    try:\n",
        "        embedding_weights_supporting_before[index, :] = word2vec_model[word]\n",
        "    except KeyError:\n",
        "        print(word)\n",
        "\n",
        "for word, index in word2id_supported_before.items():\n",
        "    try:\n",
        "        embedding_weights_supported_before[index, :] = word2vec_model[word]\n",
        "    except KeyError:\n",
        "        print(word)        \n",
        "\n",
        "for word, index in word2id_supporting_after.items():\n",
        "    try:\n",
        "        embedding_weights_supporting_after[index, :] = word2vec_model[word]\n",
        "    except KeyError:\n",
        "        print(word)\n",
        "\n",
        "for word, index in word2id_supported_after.items():\n",
        "    try:\n",
        "        embedding_weights_supported_after[index, :] = word2vec_model[word]\n",
        "    except KeyError:\n",
        "        print(word)                        "
      ]
    },
    {
      "cell_type": "markdown",
      "metadata": {
        "id": "V5ah4d7RwxYI"
      },
      "source": [
        "# **Split Train and Test set**"
      ]
    },
    {
      "cell_type": "code",
      "execution_count": null,
      "metadata": {
        "id": "mrvu9lSByLfh"
      },
      "outputs": [],
      "source": [
        "# Create a list of values between 0 and 401, where each value indicate an essay\n",
        "# in the corpus.\n",
        "\n",
        "essay_id_list=[i for i in range(402)]"
      ]
    },
    {
      "cell_type": "code",
      "execution_count": null,
      "metadata": {
        "id": "hbhPLcCuw12o"
      },
      "outputs": [],
      "source": [
        "# Divide the corpus (documents containing the essay) in test and train test.\n",
        "train_set,test_set=train_test_split(essay_id_list,test_size=0.15,random_state=42)"
      ]
    },
    {
      "cell_type": "code",
      "execution_count": null,
      "metadata": {
        "colab": {
          "base_uri": "https://localhost:8080/"
        },
        "id": "1fpSwg0hyt8v",
        "outputId": "ebd79024-d00e-4084-8458-1ba67edcedb5"
      },
      "outputs": [
        {
          "output_type": "stream",
          "name": "stdout",
          "text": [
            "341\n"
          ]
        },
        {
          "output_type": "execute_result",
          "data": {
            "text/plain": [
              "[253, 282, 78, 101, 31, 274, 222, 233, 73, 287]"
            ]
          },
          "metadata": {},
          "execution_count": 58
        }
      ],
      "source": [
        "print(len(train_set))\n",
        "\n",
        "train_set[:10]"
      ]
    },
    {
      "cell_type": "code",
      "execution_count": null,
      "metadata": {
        "colab": {
          "base_uri": "https://localhost:8080/"
        },
        "id": "KPQoIUW6yxF-",
        "outputId": "69c0ae7c-c2f8-46b7-89fc-1308393d7dd7"
      },
      "outputs": [
        {
          "output_type": "stream",
          "name": "stdout",
          "text": [
            "61\n"
          ]
        },
        {
          "output_type": "execute_result",
          "data": {
            "text/plain": [
              "[285, 281, 33, 211, 93, 84, 391, 94, 225, 126]"
            ]
          },
          "metadata": {},
          "execution_count": 59
        }
      ],
      "source": [
        "print(len(test_set))\n",
        "\n",
        "test_set[:10]"
      ]
    },
    {
      "cell_type": "code",
      "execution_count": null,
      "metadata": {
        "id": "yquXKCOF4zqi"
      },
      "outputs": [],
      "source": [
        "X_argumentative_sections_doc=list(relation_ann_dataset['doc_id'])\n",
        "\n",
        "sections_train_set=[]\n",
        "sections_test_set=[]\n",
        "\n",
        "for i in range(len(X_argumentative_sections_doc)):\n",
        "  if X_argumentative_sections_doc[i] in test_set:\n",
        "    sections_test_set.append(i)\n",
        "  else:\n",
        "    sections_train_set.append(i)"
      ]
    },
    {
      "cell_type": "markdown",
      "metadata": {
        "id": "xgW9BSwMmrkL"
      },
      "source": [
        "# **RNN**"
      ]
    },
    {
      "cell_type": "code",
      "execution_count": null,
      "metadata": {
        "id": "Foxe5Z4JmPay"
      },
      "outputs": [],
      "source": [
        "# Create and train recurrent models.\n",
        "\n",
        "def train_supporting_model(X_train:np.ndarray)->Model:\n",
        "\n",
        "  # Create the BLSTM model\n",
        "  input = Input(shape=(MAX_LEN_SUPPORTING,))\n",
        "\n",
        "  model = Embedding(input_dim=VOCABULARY_SIZE_SUPPORTING, output_dim=EMBEDDING_SIZE, input_length=MAX_LEN_SUPPORTING, weights= [embedding_weights_supporting], trainable=True, mask_zero=True)(input)\n",
        "  model = Bidirectional(LSTM(4))(model)\n",
        "  model = Dropout(0.1)(model)\n",
        "\n",
        "  final_model=Model(input,model)\n",
        "\n",
        "  return model,input"
      ]
    },
    {
      "cell_type": "code",
      "execution_count": null,
      "metadata": {
        "id": "cp9kpePagtR9"
      },
      "outputs": [],
      "source": [
        "# Create and train recurrent models.\n",
        "\n",
        "def train_supporting_before_model(X_train:np.ndarray)->Model:\n",
        "\n",
        "  # Create the BLSTM model\n",
        "  input = Input(shape=(MAX_LEN_SUPPORTING_BEFORE,))\n",
        "\n",
        "  model = Embedding(input_dim=VOCABULARY_SIZE_SUPPORTING_BEFORE, output_dim=EMBEDDING_SIZE, input_length=MAX_LEN_SUPPORTING_BEFORE, weights= [embedding_weights_supporting_before], trainable=True, mask_zero=True)(input)\n",
        "  model = Bidirectional(LSTM(4))(model)\n",
        "  model = Dropout(0.1)(model)\n",
        "\n",
        "  final_model=Model(input,model)\n",
        "\n",
        "  return model,input"
      ]
    },
    {
      "cell_type": "code",
      "execution_count": null,
      "metadata": {
        "id": "_cqngPQJg4Gg"
      },
      "outputs": [],
      "source": [
        "# Create and train recurrent models.\n",
        "\n",
        "def train_supporting_after_model(X_train:np.ndarray)->Model:\n",
        "\n",
        "  # Create the BLSTM model\n",
        "  input = Input(shape=(MAX_LEN_SUPPORTING_AFTER,))\n",
        "\n",
        "  model = Embedding(input_dim=VOCABULARY_SIZE_SUPPORTING_AFTER, output_dim=EMBEDDING_SIZE, input_length=MAX_LEN_SUPPORTING_AFTER, weights= [embedding_weights_supporting_after], trainable=True, mask_zero=True)(input)\n",
        "  model = Bidirectional(LSTM(4))(model)\n",
        "  model = Dropout(0.1)(model)\n",
        "\n",
        "  final_model=Model(input,model)\n",
        "\n",
        "  return model,input"
      ]
    },
    {
      "cell_type": "code",
      "execution_count": null,
      "metadata": {
        "id": "ASaLBcSDg_Kf"
      },
      "outputs": [],
      "source": [
        "# Create and train recurrent models.\n",
        "\n",
        "def train_supported_before_model(X_train:np.ndarray)->Model:\n",
        "\n",
        "  # Create the BLSTM model\n",
        "  input = Input(shape=(MAX_LEN_SUPPORTED_BEFORE,))\n",
        "\n",
        "  model = Embedding(input_dim=VOCABULARY_SIZE_SUPPORTED_BEFORE, output_dim=EMBEDDING_SIZE, input_length=MAX_LEN_SUPPORTED_BEFORE, weights= [embedding_weights_supported_before], trainable=True, mask_zero=True)(input)\n",
        "  model = Bidirectional(LSTM(4))(model)\n",
        "  model = Dropout(0.1)(model)\n",
        "\n",
        "  final_model=Model(input,model)\n",
        "\n",
        "  return model,input"
      ]
    },
    {
      "cell_type": "code",
      "execution_count": null,
      "metadata": {
        "id": "nmlIWDN8g_Xh"
      },
      "outputs": [],
      "source": [
        "# Create and train recurrent models.\n",
        "\n",
        "def train_supported_after_model(X_train:np.ndarray)->Model:\n",
        "\n",
        "  # Create the BLSTM model\n",
        "  input = Input(shape=(MAX_LEN_SUPPORTED_AFTER,))\n",
        "\n",
        "  model = Embedding(input_dim=VOCABULARY_SIZE_SUPPORTED_AFTER, output_dim=EMBEDDING_SIZE, input_length=MAX_LEN_SUPPORTED_AFTER, weights= [embedding_weights_supported_after], trainable=True, mask_zero=True)(input)\n",
        "  model = Bidirectional(LSTM(4))(model)\n",
        "  model = Dropout(0.1)(model)\n",
        "\n",
        "  final_model=Model(input,model)\n",
        "\n",
        "  return model,input"
      ]
    },
    {
      "cell_type": "code",
      "execution_count": null,
      "metadata": {
        "id": "KUX6G4g02HdE"
      },
      "outputs": [],
      "source": [
        "# Bidirectional LSTM model for the section preceding the argomentative ones.\n",
        "\n",
        "def train_supported_model(X_train:np.ndarray)->Model:\n",
        "\n",
        "  # Create the BLSTM model\n",
        "  input = Input(shape=(MAX_LEN_SUPPORTED,))\n",
        "\n",
        "  model = Embedding(input_dim=VOCABULARY_SIZE_SUPPORTED, output_dim=EMBEDDING_SIZE, input_length=MAX_LEN_SUPPORTED, weights= [embedding_weights_supported], trainable=True, mask_zero=True)(input)\n",
        "  model = Bidirectional(LSTM(4))(model)\n",
        "  model = Dropout(0.1)(model)\n",
        "\n",
        "  final_model=Model(input,model)\n",
        "\n",
        "  return model,input"
      ]
    },
    {
      "cell_type": "code",
      "execution_count": null,
      "metadata": {
        "id": "pUW5CLu2ZCuP"
      },
      "outputs": [],
      "source": [
        "def train_stat_model(X_train:np.ndarray,Y_train:np.ndarray):\n",
        "\n",
        "  # Create the model\n",
        "  input = Input(shape=(X_sentence_stat_dataframe.shape[1]))\n",
        "\n",
        "  model = Dense(16, activation='relu')(input)\n",
        "  model = Dense(16, activation='relu')(model)\n",
        "  model = Dropout(0.2)(model)\n",
        "  model = Dense(8, activation='relu')(model)\n",
        "  model = Dropout(0.1)(model)\n",
        "  \n",
        "  output = Dense(3, 'sigmoid')(model)\n",
        "\n",
        "  final_model=Model(input,output)\n",
        "\n",
        "  final_model.compile(loss='categorical_crossentropy',\n",
        "                  optimizer='nadam',\n",
        "                  metrics=['acc'])\n",
        "  \n",
        "  training_results= final_model.fit(X_train, Y_train, batch_size=64, epochs=150, validation_split=0.15, verbose=False, callbacks=[EarlyStopping(\"val_loss\", mode='min', patience=4),])\n",
        "\n",
        "  # visualise training history\n",
        "  plt.plot(training_results.history['acc'])\n",
        "  plt.plot(training_results.history['val_acc'])\n",
        "  plt.title('model accuracy')\n",
        "  plt.ylabel('accuracy')\n",
        "  plt.xlabel('epoch')\n",
        "  plt.legend(['train', 'test'], loc=\"lower right\")\n",
        "  plt.show()\n",
        "\n",
        "  return model,input,final_model"
      ]
    },
    {
      "cell_type": "code",
      "execution_count": null,
      "metadata": {
        "id": "QPe5aQHOxT9T"
      },
      "outputs": [],
      "source": [
        "# Multimodal model.\n",
        "\n",
        "def train_MultiModal(X_supporting_train:np.array, X_supported_train:np.array, X_supporting_before_train:np.array, X_supported_before_train:np.array,X_supporting_after_train:np.array, X_supported_after_train:np.array, X_stat_train:np.array, Y_train:np.ndarray)->(Model,Model):\n",
        "\n",
        "  # Create the others models.\n",
        "  model_supporting,input_supporting=train_supporting_model(X_supporting_train)\n",
        "  model_supported,input_supported=train_supported_model(X_supported_train)\n",
        "  model_supporting_before,input_supporting_before=train_supporting_before_model(X_supporting_before_train)\n",
        "  model_supported_before,input_supported_before=train_supported_before_model(X_supported_before_train)\n",
        "  model_supporting_after,input_supporting_after=train_supporting_after_model(X_supporting_after_train)\n",
        "  model_supported_after,input_supported_after=train_supported_after_model(X_supported_after_train)\n",
        "\n",
        "  model_stat,input_stat, final_model_stat=train_stat_model(X_stat_train,Y_train)\n",
        "\n",
        "  # Concatenate togheter the previous NN.\n",
        "  concatenation_layer = Concatenate()([model_supporting,model_supported,model_supporting_before,model_supported_before,model_supporting_after,model_supported_after,model_stat])\n",
        "\n",
        "  output = Dense(3, activation='softmax')(concatenation_layer)\n",
        "\n",
        "  final_model=Model([input_supporting,input_supported,input_supporting_before,input_supported_before,input_supporting_after,input_supported_after,input_stat],output)\n",
        "\n",
        "  final_model.compile(loss='categorical_crossentropy',\n",
        "                  optimizer='nadam',\n",
        "                  metrics=['acc'])\n",
        "  \n",
        "  training_results= final_model.fit([X_supporting_train,X_supported_train,X_supporting_before_train,X_supported_before_train,X_supporting_after_train,X_supported_after_train,X_stat_train], Y_train, batch_size=64, class_weight=class_weights, epochs=50, validation_split=0.15, verbose=False, callbacks=[EarlyStopping(\"val_loss\", mode='min', patience=2),])\n",
        "\n",
        "  # visualise training history\n",
        "  plt.plot(training_results.history['acc'])\n",
        "  plt.plot(training_results.history['val_acc'])\n",
        "  plt.title('model accuracy')\n",
        "  plt.ylabel('accuracy')\n",
        "  plt.xlabel('epoch')\n",
        "  plt.legend(['train', 'test'], loc=\"lower right\")\n",
        "  plt.show()\n",
        "\n",
        "  return final_model, final_model_stat"
      ]
    },
    {
      "cell_type": "code",
      "execution_count": null,
      "metadata": {
        "colab": {
          "base_uri": "https://localhost:8080/",
          "height": 573
        },
        "id": "qJRb65A43VPE",
        "outputId": "0b4bc3b4-a891-4ec2-b220-a31ea118e395"
      },
      "outputs": [
        {
          "output_type": "display_data",
          "data": {
            "image/png": "[encoded data removed]",
            "text/plain": [
              "<Figure size 432x288 with 1 Axes>"
            ]
          },
          "metadata": {
            "needs_background": "light"
          }
        },
        {
          "output_type": "display_data",
          "data": {
            "image/png": "[encoded data removed]",
            "text/plain": [
              "<Figure size 432x288 with 1 Axes>"
            ]
          },
          "metadata": {
            "needs_background": "light"
          }
        }
      ],
      "source": [
        "target_names=['None','Support','Attack']\n",
        " \n",
        "y_pred=[]\n",
        "y_true=[]\n",
        "\n",
        "# Assign one-hot encodings to Y values (0,1,2).\n",
        "categorical_Y = to_categorical(Y_relation_type)\n",
        "\n",
        "X_supporting_train, X_supporting_test = X_supporting[sections_train_set], X_supporting[sections_test_set]\n",
        "X_supported_train, X_supported_test = X_supported[sections_train_set], X_supported[sections_test_set]\n",
        "X_supporting_before_train, X_supporting_before_test = X_supporting_before[sections_train_set], X_supporting_before[sections_test_set]\n",
        "X_supported_before_train, X_supported_before_test = X_supported_before[sections_train_set], X_supported_before[sections_test_set]\n",
        "X_supporting_after_train, X_supporting_after_test = X_supporting_after[sections_train_set], X_supporting_after[sections_test_set]\n",
        "X_supported_after_train, X_supported_after_test = X_supported_after[sections_train_set], X_supported_after[sections_test_set]\n",
        "X_stat_train, X_stat_test = X_sentence_stat_dataframe[sections_train_set], X_sentence_stat_dataframe[sections_test_set]\n",
        "Y_train, Y_test = categorical_Y[sections_train_set], categorical_Y[sections_test_set]\n",
        "\n",
        "# Train the model.\n",
        "model,model_stat=train_MultiModal(X_supporting_train,X_supported_train,X_supporting_before_train,X_supported_before_train,X_supporting_after_train,X_supported_after_train,X_stat_train,Y_train)\n",
        "\n",
        "y_pred_temp=model.predict([X_supporting_test,X_supported_test,X_supporting_before_test,X_supported_before_test,X_supporting_after_test,X_supported_after_test,X_stat_test])\n",
        "for i in range(len(Y_test)):\n",
        "  y_pred.append(np.argmax(y_pred_temp[i]))\n",
        "  y_true.append(np.argmax(Y_test[i].tolist()))"
      ]
    },
    {
      "cell_type": "code",
      "execution_count": null,
      "metadata": {
        "colab": {
          "base_uri": "https://localhost:8080/"
        },
        "id": "BdRjPwKs4eLD",
        "outputId": "1f28a378-9e1f-4705-8977-b984466929c0"
      },
      "outputs": [
        {
          "output_type": "stream",
          "name": "stdout",
          "text": [
            "              precision    recall  f1-score   support\n",
            "\n",
            "        None       0.91      0.87      0.89       319\n",
            "     Support       0.88      0.95      0.92       542\n",
            "      Attack       0.67      0.07      0.13        28\n",
            "\n",
            "    accuracy                           0.89       889\n",
            "   macro avg       0.82      0.63      0.64       889\n",
            "weighted avg       0.89      0.89      0.88       889\n",
            "\n"
          ]
        }
      ],
      "source": [
        "# Print the classification report of the result of the models created\n",
        "print(classification_report(y_true, y_pred, target_names=target_names))   "
      ]
    },
    {
      "cell_type": "code",
      "execution_count": null,
      "metadata": {
        "colab": {
          "base_uri": "https://localhost:8080/",
          "height": 279
        },
        "id": "ctGkhwiw_sfX",
        "outputId": "fdb19b7f-7d7d-4c49-da2a-7491e652c015"
      },
      "outputs": [
        {
          "output_type": "display_data",
          "data": {
            "image/png": "[encoded data removed]",
            "text/plain": [
              "<Figure size 432x288 with 2 Axes>"
            ]
          },
          "metadata": {
            "needs_background": "light"
          }
        }
      ],
      "source": [
        "# Print the confusion matrix.\n",
        "cm=confusion_matrix(y_true, y_pred,normalize='true')\n",
        "\n",
        "cm_disp=ConfusionMatrixDisplay(confusion_matrix=cm,display_labels=target_names)\n",
        "cm_disp.plot()\n",
        "plt.show()"
      ]
    },
    {
      "cell_type": "markdown",
      "metadata": {
        "id": "OAHvxXD46ZZJ"
      },
      "source": [
        "## **Stat model results**"
      ]
    },
    {
      "cell_type": "code",
      "execution_count": null,
      "metadata": {
        "id": "2MDwpSRS6YvY"
      },
      "outputs": [],
      "source": [
        "y_pred=[]\n",
        "y_true=[]\n",
        "\n",
        "# Transform probabilities predicted in the most probable value (0 or 1).\n",
        "y_pred_temp=model_stat.predict(X_stat_test).tolist()\n",
        "for i in range(len(Y_test)):\n",
        "  y_pred.append(np.argmax(y_pred_temp[i]))\n",
        "  y_true.append(np.argmax(Y_test[i].tolist()))"
      ]
    },
    {
      "cell_type": "code",
      "execution_count": null,
      "metadata": {
        "colab": {
          "base_uri": "https://localhost:8080/"
        },
        "id": "Ag3FbyMv6uQd",
        "outputId": "fa97776d-babb-4229-a886-7fcd3c0cc849"
      },
      "outputs": [
        {
          "output_type": "stream",
          "name": "stdout",
          "text": [
            "              precision    recall  f1-score   support\n",
            "\n",
            "        None       0.76      0.97      0.85       319\n",
            "     Support       0.93      0.83      0.88       542\n",
            "      Attack       0.00      0.00      0.00        28\n",
            "\n",
            "    accuracy                           0.85       889\n",
            "   macro avg       0.56      0.60      0.58       889\n",
            "weighted avg       0.84      0.85      0.84       889\n",
            "\n"
          ]
        },
        {
          "output_type": "stream",
          "name": "stderr",
          "text": [
            "/usr/local/lib/python3.7/dist-packages/sklearn/metrics/_classification.py:1308: UndefinedMetricWarning: Precision and F-score are ill-defined and being set to 0.0 in labels with no predicted samples. Use `zero_division` parameter to control this behavior.\n",
            "  _warn_prf(average, modifier, msg_start, len(result))\n",
            "/usr/local/lib/python3.7/dist-packages/sklearn/metrics/_classification.py:1308: UndefinedMetricWarning: Precision and F-score are ill-defined and being set to 0.0 in labels with no predicted samples. Use `zero_division` parameter to control this behavior.\n",
            "  _warn_prf(average, modifier, msg_start, len(result))\n",
            "/usr/local/lib/python3.7/dist-packages/sklearn/metrics/_classification.py:1308: UndefinedMetricWarning: Precision and F-score are ill-defined and being set to 0.0 in labels with no predicted samples. Use `zero_division` parameter to control this behavior.\n",
            "  _warn_prf(average, modifier, msg_start, len(result))\n"
          ]
        }
      ],
      "source": [
        "# Print the classification report of the result of the models created\n",
        "print(classification_report(y_true, y_pred, target_names=target_names)) "
      ]
    },
    {
      "cell_type": "code",
      "execution_count": null,
      "metadata": {
        "colab": {
          "base_uri": "https://localhost:8080/"
        },
        "id": "JXkjm9h66wBL",
        "outputId": "3c385a4f-b7da-4600-cdc2-2445c19c2833"
      },
      "outputs": [
        {
          "output_type": "display_data",
          "data": {
            "image/png": "[encoded data removed]",
            "text/plain": [
              "<Figure size 432x288 with 2 Axes>"
            ]
          },
          "metadata": {
            "needs_background": "light"
          }
        }
      ],
      "source": [
        "# Print the confusion matrix.\n",
        "cm=confusion_matrix(y_true, y_pred,normalize='true')\n",
        "\n",
        "cm_disp=ConfusionMatrixDisplay(confusion_matrix=cm,display_labels=target_names)\n",
        "cm_disp.plot()\n",
        "plt.show()"
      ]
    }
  ],
  "metadata": {
    "colab": {
      "collapsed_sections": [
        "0697g-wg76g8",
        "pov3Yk0pUbjm",
        "n8USF6Roumqs",
        "roYver9XG2EM",
        "V5ah4d7RwxYI"
      ],
      "name": "Essay_Rel(18)_S-POS_LNE.ipynb",
      "provenance": []
    },
    "kernelspec": {
      "display_name": "Python 3",
      "name": "python3"
    },
    "language_info": {
      "name": "python"
    }
  },
  "nbformat": 4,
  "nbformat_minor": 0
}