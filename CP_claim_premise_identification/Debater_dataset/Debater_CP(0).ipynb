{
  "nbformat": 4,
  "nbformat_minor": 0,
  "metadata": {
    "colab": {
      "name": "Debater_CP(0).ipynb",
      "provenance": []
    },
    "kernelspec": {
      "name": "python3",
      "display_name": "Python 3"
    },
    "language_info": {
      "name": "python"
    }
  },
  "cells": [
    {
      "cell_type": "code",
      "metadata": {
        "colab": {
          "base_uri": "https://localhost:8080/"
        },
        "id": "06I5cxENSPwP",
        "outputId": "e2df093e-bfec-491c-ae42-ee01a24865a1"
      },
      "source": [
        "!pip install mendelai-brat-parser\n",
        "\n",
        "import nltk\n",
        "nltk.download('punkt')\n",
        "nltk.download('wordnet')\n",
        "nltk.download('averaged_perceptron_tagger')\n",
        "\n",
        "nltk.download('universal_tagset')"
      ],
      "execution_count": null,
      "outputs": [
        {
          "output_type": "stream",
          "name": "stdout",
          "text": [
            "Collecting mendelai-brat-parser\n",
            "  Downloading mendelai_brat_parser-0.0.4-py3-none-any.whl (4.2 kB)\n",
            "Installing collected packages: mendelai-brat-parser\n",
            "Successfully installed mendelai-brat-parser-0.0.4\n",
            "[nltk_data] Downloading package punkt to /root/nltk_data...\n",
            "[nltk_data]   Unzipping tokenizers/punkt.zip.\n",
            "[nltk_data] Downloading package wordnet to /root/nltk_data...\n",
            "[nltk_data]   Unzipping corpora/wordnet.zip.\n",
            "[nltk_data] Downloading package averaged_perceptron_tagger to\n",
            "[nltk_data]     /root/nltk_data...\n",
            "[nltk_data]   Unzipping taggers/averaged_perceptron_tagger.zip.\n",
            "[nltk_data] Downloading package universal_tagset to /root/nltk_data...\n",
            "[nltk_data]   Unzipping taggers/universal_tagset.zip.\n"
          ]
        },
        {
          "output_type": "execute_result",
          "data": {
            "text/plain": [
              "True"
            ]
          },
          "metadata": {},
          "execution_count": 1
        }
      ]
    },
    {
      "cell_type": "code",
      "metadata": {
        "id": "4YTGrEc9Dy-X"
      },
      "source": [
        "import pandas as pd\n",
        "import numpy as np\n",
        "from matplotlib import pyplot as plt\n",
        "import regex as re\n",
        "from collections import Counter\n",
        "import math\n",
        "\n",
        "from google.colab import files\n",
        "import zipfile\n",
        "import glob\n",
        "\n",
        "from brat_parser import get_entities_relations_attributes_groups\n",
        "\n",
        "from nltk.tag import pos_tag, map_tag\n",
        "\n",
        "from sklearn.model_selection import train_test_split\n",
        "from nltk.stem import WordNetLemmatizer\n",
        "from sklearn.feature_extraction.text import CountVectorizer\n",
        "import spacy\n",
        "from keras.preprocessing.sequence import pad_sequences\n",
        "from keras.preprocessing.text import Tokenizer\n",
        "\n",
        "from brat_parser import get_entities_relations_attributes_groups\n",
        "\n",
        "import gensim\n",
        "import gensim.downloader as api\n",
        "from gensim.models import Word2Vec\n",
        "\n",
        "from sklearn.metrics import classification_report\n",
        "from keras.utils.np_utils import to_categorical\n",
        "\n",
        "from sklearn.metrics import confusion_matrix\n",
        "from sklearn.metrics import ConfusionMatrixDisplay"
      ],
      "execution_count": null,
      "outputs": []
    },
    {
      "cell_type": "code",
      "metadata": {
        "id": "Ph7XogQnx4f0"
      },
      "source": [
        "# Neural network imports.\n",
        "from keras.models import Sequential\n",
        "from keras.layers import Embedding\n",
        "from keras.layers import Dense, Input, Dropout\n",
        "from keras.layers import TimeDistributed\n",
        "from keras.layers import Concatenate\n",
        "from keras.layers import LSTM, GRU, Bidirectional\n",
        "from tensorflow.keras.callbacks import EarlyStopping\n",
        "from keras.models import Model, Input"
      ],
      "execution_count": null,
      "outputs": []
    },
    {
      "cell_type": "code",
      "metadata": {
        "id": "FrZUlMkHm5jY",
        "colab": {
          "resources": {
            "http://localhost:8080/nbextensions/google.colab/files.js": {
              "data": "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",
              "ok": true,
              "headers": [
                [
                  "content-type",
                  "application/javascript"
                ]
              ],
              "status": 200,
              "status_text": ""
            }
          },
          "base_uri": "https://localhost:8080/",
          "height": 130
        },
        "outputId": "f1412b02-aeb2-4815-c704-afb7236f5b72"
      },
      "source": [
        "# Import the premise positions in the articles for the IBM Debater dataset (premise-positions.txt).\n",
        "\n",
        "uploaded = files.upload()\n",
        "\n",
        "# Import the claims positions in the articles for the IBM Debater dataset (claim-positions.txt).\n",
        "\n",
        "uploaded = files.upload()"
      ],
      "execution_count": null,
      "outputs": [
        {
          "output_type": "display_data",
          "data": {
            "text/html": [
              "\n",
              "     <input type=\"file\" id=\"files-0543da7b-7715-4416-8419-d9eb802cc451\" name=\"files[]\" multiple disabled\n",
              "        style=\"border:none\" />\n",
              "     <output id=\"result-0543da7b-7715-4416-8419-d9eb802cc451\">\n",
              "      Upload widget is only available when the cell has been executed in the\n",
              "      current browser session. Please rerun this cell to enable.\n",
              "      </output>\n",
              "      <script src=\"/nbextensions/google.colab/files.js\"></script> "
            ],
            "text/plain": [
              "<IPython.core.display.HTML object>"
            ]
          },
          "metadata": {}
        },
        {
          "output_type": "stream",
          "name": "stdout",
          "text": [
            "Saving claim-positions.txt to claim-positions.txt\n"
          ]
        },
        {
          "output_type": "display_data",
          "data": {
            "text/html": [
              "\n",
              "     <input type=\"file\" id=\"files-7f2bafbe-2720-4aed-88ab-fd69d9bdcb52\" name=\"files[]\" multiple disabled\n",
              "        style=\"border:none\" />\n",
              "     <output id=\"result-7f2bafbe-2720-4aed-88ab-fd69d9bdcb52\">\n",
              "      Upload widget is only available when the cell has been executed in the\n",
              "      current browser session. Please rerun this cell to enable.\n",
              "      </output>\n",
              "      <script src=\"/nbextensions/google.colab/files.js\"></script> "
            ],
            "text/plain": [
              "<IPython.core.display.HTML object>"
            ]
          },
          "metadata": {}
        },
        {
          "output_type": "stream",
          "name": "stdout",
          "text": [
            "Saving premise-positions.txt to premise-positions.txt\n"
          ]
        }
      ]
    },
    {
      "cell_type": "code",
      "metadata": {
        "colab": {
          "resources": {
            "http://localhost:8080/nbextensions/google.colab/files.js": {
              "data": "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",
              "ok": true,
              "headers": [
                [
                  "content-type",
                  "application/javascript"
                ]
              ],
              "status": 200,
              "status_text": ""
            }
          },
          "base_uri": "https://localhost:8080/",
          "height": 74
        },
        "id": "PUbTXxUspdvd",
        "outputId": "7545fc90-1a6e-4f9b-9aa4-464beaf1aa5d"
      },
      "source": [
        "# Import the IBM Debater dataset (2015 version).\n",
        "\n",
        "uploaded = files.upload()"
      ],
      "execution_count": null,
      "outputs": [
        {
          "output_type": "display_data",
          "data": {
            "text/html": [
              "\n",
              "     <input type=\"file\" id=\"files-54a1ded6-8e9e-4445-97e2-ad53acc65378\" name=\"files[]\" multiple disabled\n",
              "        style=\"border:none\" />\n",
              "     <output id=\"result-54a1ded6-8e9e-4445-97e2-ad53acc65378\">\n",
              "      Upload widget is only available when the cell has been executed in the\n",
              "      current browser session. Please rerun this cell to enable.\n",
              "      </output>\n",
              "      <script src=\"/nbextensions/google.colab/files.js\"></script> "
            ],
            "text/plain": [
              "<IPython.core.display.HTML object>"
            ]
          },
          "metadata": {}
        },
        {
          "output_type": "stream",
          "name": "stdout",
          "text": [
            "Saving IBM_Debater_(R)_CE-EMNLP-2015.v3.zip to IBM_Debater_(R)_CE-EMNLP-2015.v3.zip\n"
          ]
        }
      ]
    },
    {
      "cell_type": "code",
      "metadata": {
        "colab": {
          "resources": {
            "http://localhost:8080/nbextensions/google.colab/files.js": {
              "data": "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",
              "ok": true,
              "headers": [
                [
                  "content-type",
                  "application/javascript"
                ]
              ],
              "status": 200,
              "status_text": ""
            }
          },
          "base_uri": "https://localhost:8080/",
          "height": 74
        },
        "id": "vpO5P3dIpWhh",
        "outputId": "3aebe0b7-f4d1-4b1c-a761-d7b435093a25"
      },
      "source": [
        "# Import the Stab and Gurevych dataset.\n",
        "\n",
        "uploaded = files.upload()"
      ],
      "execution_count": null,
      "outputs": [
        {
          "output_type": "display_data",
          "data": {
            "text/html": [
              "\n",
              "     <input type=\"file\" id=\"files-d5d4e6d5-0c50-46a6-8870-0d3f73cd7eed\" name=\"files[]\" multiple disabled\n",
              "        style=\"border:none\" />\n",
              "     <output id=\"result-d5d4e6d5-0c50-46a6-8870-0d3f73cd7eed\">\n",
              "      Upload widget is only available when the cell has been executed in the\n",
              "      current browser session. Please rerun this cell to enable.\n",
              "      </output>\n",
              "      <script src=\"/nbextensions/google.colab/files.js\"></script> "
            ],
            "text/plain": [
              "<IPython.core.display.HTML object>"
            ]
          },
          "metadata": {}
        },
        {
          "output_type": "stream",
          "name": "stdout",
          "text": [
            "Saving ArgumentAnnotatedEssays-2.0.zip to ArgumentAnnotatedEssays-2.0.zip\n"
          ]
        }
      ]
    },
    {
      "cell_type": "markdown",
      "metadata": {
        "id": "hq1sP9uxUwY_"
      },
      "source": [
        "# **Stab and Gurevych Dataset**"
      ]
    },
    {
      "cell_type": "code",
      "metadata": {
        "id": "GMgahsgcrTws"
      },
      "source": [
        "# Function to extract zip file.\n",
        "# Takes in input the path to the zip file (path_zip) and the one to store the destination directory (path_destination).\n",
        "\n",
        "def extract_zip(path_zip,path_destination):\n",
        "  with zipfile.ZipFile(path_zip, 'r') as zip_ref:\n",
        "    zip_ref.extractall(path_destination)\n"
      ],
      "execution_count": null,
      "outputs": []
    },
    {
      "cell_type": "code",
      "metadata": {
        "id": "cE_5p8qap-Ib"
      },
      "source": [
        "# Extract zip file (two zip files one inside the other).\n",
        "\n",
        "extract_zip('ArgumentAnnotatedEssays-2.0.zip','ArgumentAnnotatedEssays-2.0')\n",
        "\n",
        "extract_zip('ArgumentAnnotatedEssays-2.0/ArgumentAnnotatedEssays-2.0/brat-project-final.zip','ArgumentAnnotatedEssays')"
      ],
      "execution_count": null,
      "outputs": []
    },
    {
      "cell_type": "markdown",
      "metadata": {
        "id": "OrsWTewaCnPf"
      },
      "source": [
        "## **Create and visualize the required Dataframe**"
      ]
    },
    {
      "cell_type": "code",
      "metadata": {
        "id": "rdAvNRWA08Sg"
      },
      "source": [
        "# Extract the list of text files of the essays in the dataset.\n",
        "txt_files = sorted(glob.glob(\"ArgumentAnnotatedEssays/brat-project-final/essay*.txt\"))\n",
        "\n",
        "# Extract the list of text files of the essays in the dataset.\n",
        "ann_files = sorted(glob.glob(\"ArgumentAnnotatedEssays/brat-project-final/essay*.ann\"))"
      ],
      "execution_count": null,
      "outputs": []
    },
    {
      "cell_type": "code",
      "metadata": {
        "colab": {
          "base_uri": "https://localhost:8080/"
        },
        "id": "s1yFSufe1iFC",
        "outputId": "07b319b0-36fb-4327-e646-a12d1a27c1a8"
      },
      "source": [
        "# List of text files of the essays.\n",
        "txt_files[0:5]"
      ],
      "execution_count": null,
      "outputs": [
        {
          "output_type": "execute_result",
          "data": {
            "text/plain": [
              "['ArgumentAnnotatedEssays/brat-project-final/essay001.txt',\n",
              " 'ArgumentAnnotatedEssays/brat-project-final/essay002.txt',\n",
              " 'ArgumentAnnotatedEssays/brat-project-final/essay003.txt',\n",
              " 'ArgumentAnnotatedEssays/brat-project-final/essay004.txt',\n",
              " 'ArgumentAnnotatedEssays/brat-project-final/essay005.txt']"
            ]
          },
          "metadata": {},
          "execution_count": 10
        }
      ]
    },
    {
      "cell_type": "code",
      "metadata": {
        "colab": {
          "base_uri": "https://localhost:8080/"
        },
        "id": "8yoE-YHW1ykn",
        "outputId": "f7aef856-47f5-42d2-bd06-7e4447138aad"
      },
      "source": [
        "# List of the annotated files of the essays.\n",
        "ann_files[0:5]"
      ],
      "execution_count": null,
      "outputs": [
        {
          "output_type": "execute_result",
          "data": {
            "text/plain": [
              "['ArgumentAnnotatedEssays/brat-project-final/essay001.ann',\n",
              " 'ArgumentAnnotatedEssays/brat-project-final/essay002.ann',\n",
              " 'ArgumentAnnotatedEssays/brat-project-final/essay003.ann',\n",
              " 'ArgumentAnnotatedEssays/brat-project-final/essay004.ann',\n",
              " 'ArgumentAnnotatedEssays/brat-project-final/essay005.ann']"
            ]
          },
          "metadata": {},
          "execution_count": 11
        }
      ]
    },
    {
      "cell_type": "code",
      "metadata": {
        "id": "SJtZWteKCka4"
      },
      "source": [
        "# Transfor the ann files into four dictionaries.\n",
        "ann_disctionaries=[get_entities_relations_attributes_groups(file) for file in ann_files]\n",
        "\n",
        "# Transform the first dictionary (entities) obtained from each ann file into a dataset.\n",
        "essay_ann_datasets = [pd.DataFrame.from_dict(entities, orient='index') for entities,_,_,_ in ann_disctionaries]"
      ],
      "execution_count": null,
      "outputs": []
    },
    {
      "cell_type": "code",
      "metadata": {
        "id": "Kswy-aEyMIE6"
      },
      "source": [
        "# Sort the lists composed of a (entity) dataset for each essay.\n",
        "essay_ann_datasets=[dataset.sort_values(by='span', key=lambda col: col.map(lambda x: x[0][0])) for dataset in essay_ann_datasets]  \n",
        "\n",
        "# Add a coloumn into the dataset that identifies the document\n",
        "for i in range(len(essay_ann_datasets)):\n",
        "  essay_ann_datasets[i].insert(0,'doc_id',i)\n",
        "\n",
        "# Create a common dataset\n",
        "essay_argument_dataset = pd.concat(essay_ann_datasets)"
      ],
      "execution_count": null,
      "outputs": []
    },
    {
      "cell_type": "code",
      "metadata": {
        "colab": {
          "base_uri": "https://localhost:8080/"
        },
        "id": "ShAWlc_o3RoB",
        "outputId": "91b33c17-d95b-4195-cc1f-bdf2b9b16c20"
      },
      "source": [
        "# Sobstitue the values in the \"span\" feature (substitute each tuple with its first inner tuple)\n",
        "for i in range(len(essay_argument_dataset.index)):\n",
        "  essay_argument_dataset['span'][i]=essay_argument_dataset['span'][i][0]"
      ],
      "execution_count": null,
      "outputs": [
        {
          "output_type": "stream",
          "name": "stderr",
          "text": [
            "/usr/local/lib/python3.7/dist-packages/ipykernel_launcher.py:3: SettingWithCopyWarning: \n",
            "A value is trying to be set on a copy of a slice from a DataFrame\n",
            "\n",
            "See the caveats in the documentation: https://pandas.pydata.org/pandas-docs/stable/user_guide/indexing.html#returning-a-view-versus-a-copy\n",
            "  This is separate from the ipykernel package so we can avoid doing imports until\n"
          ]
        }
      ]
    },
    {
      "cell_type": "code",
      "metadata": {
        "colab": {
          "base_uri": "https://localhost:8080/",
          "height": 206
        },
        "id": "g9dtVgGNFCwA",
        "outputId": "05f08ea1-e74e-428d-f24e-77fa77f01423"
      },
      "source": [
        "essay_argument_dataset.head()"
      ],
      "execution_count": null,
      "outputs": [
        {
          "output_type": "execute_result",
          "data": {
            "text/html": [
              "<div>\n",
              "<style scoped>\n",
              "    .dataframe tbody tr th:only-of-type {\n",
              "        vertical-align: middle;\n",
              "    }\n",
              "\n",
              "    .dataframe tbody tr th {\n",
              "        vertical-align: top;\n",
              "    }\n",
              "\n",
              "    .dataframe thead th {\n",
              "        text-align: right;\n",
              "    }\n",
              "</style>\n",
              "<table border=\"1\" class=\"dataframe\">\n",
              "  <thead>\n",
              "    <tr style=\"text-align: right;\">\n",
              "      <th></th>\n",
              "      <th>doc_id</th>\n",
              "      <th>id</th>\n",
              "      <th>type</th>\n",
              "      <th>span</th>\n",
              "      <th>text</th>\n",
              "    </tr>\n",
              "  </thead>\n",
              "  <tbody>\n",
              "    <tr>\n",
              "      <th>T1</th>\n",
              "      <td>0</td>\n",
              "      <td>T1</td>\n",
              "      <td>MajorClaim</td>\n",
              "      <td>(503, 575)</td>\n",
              "      <td>we should attach more importance to cooperatio...</td>\n",
              "    </tr>\n",
              "    <tr>\n",
              "      <th>T3</th>\n",
              "      <td>0</td>\n",
              "      <td>T3</td>\n",
              "      <td>Claim</td>\n",
              "      <td>(591, 714)</td>\n",
              "      <td>through cooperation, children can learn about ...</td>\n",
              "    </tr>\n",
              "    <tr>\n",
              "      <th>T4</th>\n",
              "      <td>0</td>\n",
              "      <td>T4</td>\n",
              "      <td>Premise</td>\n",
              "      <td>(716, 851)</td>\n",
              "      <td>What we acquired from team work is not only ho...</td>\n",
              "    </tr>\n",
              "    <tr>\n",
              "      <th>T5</th>\n",
              "      <td>0</td>\n",
              "      <td>T5</td>\n",
              "      <td>Premise</td>\n",
              "      <td>(853, 1086)</td>\n",
              "      <td>During the process of cooperation, children ca...</td>\n",
              "    </tr>\n",
              "    <tr>\n",
              "      <th>T6</th>\n",
              "      <td>0</td>\n",
              "      <td>T6</td>\n",
              "      <td>Premise</td>\n",
              "      <td>(1088, 1191)</td>\n",
              "      <td>All of these skills help them to get on well w...</td>\n",
              "    </tr>\n",
              "  </tbody>\n",
              "</table>\n",
              "</div>"
            ],
            "text/plain": [
              "    doc_id  id  ...          span                                               text\n",
              "T1       0  T1  ...    (503, 575)  we should attach more importance to cooperatio...\n",
              "T3       0  T3  ...    (591, 714)  through cooperation, children can learn about ...\n",
              "T4       0  T4  ...    (716, 851)  What we acquired from team work is not only ho...\n",
              "T5       0  T5  ...   (853, 1086)  During the process of cooperation, children ca...\n",
              "T6       0  T6  ...  (1088, 1191)  All of these skills help them to get on well w...\n",
              "\n",
              "[5 rows x 5 columns]"
            ]
          },
          "metadata": {},
          "execution_count": 15
        }
      ]
    },
    {
      "cell_type": "markdown",
      "metadata": {
        "id": "f5sfEfh7ku2o"
      },
      "source": [
        "## **IOB and word list of the Corpus**"
      ]
    },
    {
      "cell_type": "code",
      "metadata": {
        "id": "En1l-2YSD7_z"
      },
      "source": [
        "# List of texts of the essays\n",
        "files_text=[open(file).read() for file in txt_files]"
      ],
      "execution_count": null,
      "outputs": []
    },
    {
      "cell_type": "code",
      "metadata": {
        "id": "c-Xv3S56l_HC"
      },
      "source": [
        "# Get the start and finish points of each argumentative section of each of the text.\n",
        "# Also get the type of each argumentative section.\n",
        "# This points are indicated in the \"span\" coloumn of the Dataframe of the annotation.\n",
        "\n",
        "sorted_span=[list(essay_argument_dataset.loc[essay_argument_dataset['doc_id'] == i,['span','type']].values) for i in range(len(ann_files))]"
      ],
      "execution_count": null,
      "outputs": []
    },
    {
      "cell_type": "code",
      "metadata": {
        "colab": {
          "base_uri": "https://localhost:8080/"
        },
        "id": "FY761IVz8g2z",
        "outputId": "a26a28bd-f54b-4d19-9af2-b87964346f99"
      },
      "source": [
        "sorted_span[0]"
      ],
      "execution_count": null,
      "outputs": [
        {
          "output_type": "execute_result",
          "data": {
            "text/plain": [
              "[array([(503, 575), 'MajorClaim'], dtype=object),\n",
              " array([(591, 714), 'Claim'], dtype=object),\n",
              " array([(716, 851), 'Premise'], dtype=object),\n",
              " array([(853, 1086), 'Premise'], dtype=object),\n",
              " array([(1088, 1191), 'Premise'], dtype=object),\n",
              " array([(1212, 1301), 'Premise'], dtype=object),\n",
              " array([(1332, 1376), 'Claim'], dtype=object),\n",
              " array([(1387, 1492), 'Premise'], dtype=object),\n",
              " array([(1549, 1846), 'Premise'], dtype=object),\n",
              " array([(1927, 1992), 'Claim'], dtype=object),\n",
              " array([(2154, 2231), 'MajorClaim'], dtype=object)]"
            ]
          },
          "metadata": {},
          "execution_count": 18
        }
      ]
    },
    {
      "cell_type": "code",
      "metadata": {
        "id": "IB7ydWo78-x2"
      },
      "source": [
        "# Tranform the couples of points ((start,end) of each section) to a list (separator of different section).\n",
        "\n",
        "span_points=[]\n",
        "\n",
        "for i in range(len(sorted_span)):\n",
        "  list_points=[sep for sub in sorted_span[i] for sep in sub[0]]\n",
        "  # Insert starting point of the text\n",
        "  list_points.insert(0,0)\n",
        "  list_points.append(len(files_text[i]))\n",
        "  span_points.append(list_points)"
      ],
      "execution_count": null,
      "outputs": []
    },
    {
      "cell_type": "code",
      "metadata": {
        "colab": {
          "base_uri": "https://localhost:8080/"
        },
        "id": "LFHv8OFV-MER",
        "outputId": "b49add9a-8c01-4ed7-be52-f261a181d9f3"
      },
      "source": [
        "span_points[0]"
      ],
      "execution_count": null,
      "outputs": [
        {
          "output_type": "execute_result",
          "data": {
            "text/plain": [
              "[0,\n",
              " 503,\n",
              " 575,\n",
              " 591,\n",
              " 714,\n",
              " 716,\n",
              " 851,\n",
              " 853,\n",
              " 1086,\n",
              " 1088,\n",
              " 1191,\n",
              " 1212,\n",
              " 1301,\n",
              " 1332,\n",
              " 1376,\n",
              " 1387,\n",
              " 1492,\n",
              " 1549,\n",
              " 1846,\n",
              " 1927,\n",
              " 1992,\n",
              " 2154,\n",
              " 2231,\n",
              " 2232]"
            ]
          },
          "metadata": {},
          "execution_count": 20
        }
      ]
    },
    {
      "cell_type": "code",
      "metadata": {
        "id": "YV3tm2bS-p_t"
      },
      "source": [
        "# Separate the texts at the point indicated for the different sections\n",
        "\n",
        "split_text=[]\n",
        "\n",
        "for z in range(len(files_text)):\n",
        "  split_text.append([files_text[z][i: j] for i, j in zip(span_points[z], span_points[z][1:])])"
      ],
      "execution_count": null,
      "outputs": []
    },
    {
      "cell_type": "code",
      "metadata": {
        "colab": {
          "base_uri": "https://localhost:8080/"
        },
        "id": "YyylYuLL_SEb",
        "outputId": "6ec1d597-ad85-42f6-aa19-183addda8182"
      },
      "source": [
        "split_text[0][0:10]"
      ],
      "execution_count": null,
      "outputs": [
        {
          "output_type": "execute_result",
          "data": {
            "text/plain": [
              "[\"Should students be taught to compete or to cooperate?\\n\\nIt is always said that competition can effectively promote the development of economy. In order to survive in the competition, companies continue to improve their products and service, and as a result, the whole society prospers. However, when we discuss the issue of competition or cooperation, what we are concerned about is not the whole society, but the development of an individual's whole life. From this point of view, I firmly believe that \",\n",
              " 'we should attach more importance to cooperation during primary education',\n",
              " '.\\nFirst of all, ',\n",
              " 'through cooperation, children can learn about interpersonal skills which are significant in the future life of all students',\n",
              " '. ',\n",
              " 'What we acquired from team work is not only how to achieve the same goal with others but more importantly, how to get along with others',\n",
              " '. ',\n",
              " 'During the process of cooperation, children can learn about how to listen to opinions of others, how to communicate with others, how to think comprehensively, and even how to compromise with other team members when conflicts occurred',\n",
              " '. ',\n",
              " 'All of these skills help them to get on well with other people and will benefit them for the whole life']"
            ]
          },
          "metadata": {},
          "execution_count": 22
        }
      ]
    },
    {
      "cell_type": "code",
      "metadata": {
        "id": "lYVRUlXHAwa3"
      },
      "source": [
        "# Get the list of the words of each essay and the corresponding labels \n",
        "# ( argumentative section, premise or claim indicated through IOB).\n",
        "\n",
        "Y_IOB=[]\n",
        "X_essay_word_list=[]\n",
        "\n",
        "for i in range(len(split_text)):\n",
        "  \n",
        "  IOB=[]\n",
        "  essay_word_list=[]\n",
        "\n",
        "  # next_type is the next position still not considered in the list of argumentative sections of the essay examined.\n",
        "  next_type=0\n",
        "\n",
        "  # Remove title from essay considered (splitted_text)\n",
        "  no_title=[re.sub(r\".*\\n\\n\",\"\",text) for text in split_text[i]]\n",
        "\n",
        "  # Set boolean value next_token_is_argumentative to false.\n",
        "  # (first section of each essay is never argumentative, it's the one containing the title).\n",
        "  next_token_is_argumentative=False\n",
        "\n",
        "  for section in no_title:\n",
        "\n",
        "    # Divide the text into token.\n",
        "    seq=nltk.word_tokenize(section.lower())\n",
        "\n",
        "    essay_word_list+=seq\n",
        "\n",
        "    if next_token_is_argumentative:\n",
        "      if sorted_span[i][next_type][1]=='Premise':\n",
        "        for token in range(len(seq)):\n",
        "          IOB+=['P']\n",
        "      else:\n",
        "        for token in range(len(seq)):\n",
        "          IOB+=['C']\n",
        "      next_type += 1\n",
        "    else:\n",
        "      for token in range(len(seq)):\n",
        "        IOB+=['O']\n",
        "\n",
        "    # An argumentative section is followed by a non-argumentative section and vice-versa    \n",
        "    next_token_is_argumentative=not next_token_is_argumentative\n",
        "\n",
        "  Y_IOB.append(IOB)\n",
        "  X_essay_word_list.append(essay_word_list)"
      ],
      "execution_count": null,
      "outputs": []
    },
    {
      "cell_type": "code",
      "metadata": {
        "colab": {
          "base_uri": "https://localhost:8080/"
        },
        "id": "IK9ZdPIJC2VA",
        "outputId": "64c7188c-ebf5-4001-aedc-9290fa163c1a"
      },
      "source": [
        "for i in range(80,120):\n",
        "  print(X_essay_word_list[0][i]+\" - \"+Y_IOB[0][i])"
      ],
      "execution_count": null,
      "outputs": [
        {
          "output_type": "stream",
          "name": "stdout",
          "text": [
            "i - O\n",
            "firmly - O\n",
            "believe - O\n",
            "that - O\n",
            "we - C\n",
            "should - C\n",
            "attach - C\n",
            "more - C\n",
            "importance - C\n",
            "to - C\n",
            "cooperation - C\n",
            "during - C\n",
            "primary - C\n",
            "education - C\n",
            ". - O\n",
            "first - O\n",
            "of - O\n",
            "all - O\n",
            ", - O\n",
            "through - C\n",
            "cooperation - C\n",
            ", - C\n",
            "children - C\n",
            "can - C\n",
            "learn - C\n",
            "about - C\n",
            "interpersonal - C\n",
            "skills - C\n",
            "which - C\n",
            "are - C\n",
            "significant - C\n",
            "in - C\n",
            "the - C\n",
            "future - C\n",
            "life - C\n",
            "of - C\n",
            "all - C\n",
            "students - C\n",
            ". - O\n",
            "what - P\n"
          ]
        }
      ]
    },
    {
      "cell_type": "markdown",
      "metadata": {
        "id": "XFtPa9P8ku2q"
      },
      "source": [
        "## **Find out sentences which contain argumentative section**"
      ]
    },
    {
      "cell_type": "code",
      "metadata": {
        "id": "_71uPCaMku2q"
      },
      "source": [
        "# Get the list of all the sentences.\n",
        "\n",
        "sentence_list=[]\n",
        "\n",
        "# Get the list of all the argumentative sections.\n",
        "\n",
        "arg_sections_list=[]\n",
        "\n",
        "# List of the number of sentences that are part of an agumentative sections \n",
        "# besides the first one.\n",
        "# One element for each argumentative section.\n",
        "\n",
        "arg_section_len_list=[]\n",
        "\n",
        "# Get the list containing the label of each argumentative section.\n",
        "# The label will be 0 for a claim and 1 for a premise. \n",
        "\n",
        "labels_list=[]\n",
        "\n",
        "# List that contains for all the argumentative sections of the corpus the corresponding\n",
        "# starting sentence (odered by essay and starting point and starting point in the text). \n",
        "argument_to_sentence_map=[]\n",
        "\n",
        "\n",
        "for essay_id in range(len(X_essay_word_list)):\n",
        "  sentence=\"\"\n",
        "  arg_section=\"\"\n",
        "  argument=False\n",
        "  # Number of sentences that are part of an agumentative sections besides the first one.\n",
        "  count_sentences_in_arg_section=0\n",
        "\n",
        "  for word_id in range(len(X_essay_word_list[essay_id])):\n",
        "    \n",
        "    word=X_essay_word_list[essay_id][word_id]\n",
        "    bio_of_word=Y_IOB[essay_id][word_id]\n",
        "\n",
        "    if not (bio_of_word=='O'):\n",
        "      arg_section+=word+\" \"\n",
        "      # For each argumentative section found, store the corresponding starting sentence.\n",
        "      if not argument:\n",
        "        argument_to_sentence_map.append(len(sentence_list))\n",
        "        argument=True\n",
        "        if bio_of_word=='C':\n",
        "          labels_list.append(0)\n",
        "        else:\n",
        "          labels_list.append(1)\n",
        "    else:\n",
        "      # Check if it the first word out of an argomentative sections.\n",
        "      if argument:\n",
        "        arg_sections_list.append(arg_section)\n",
        "        arg_section_len_list.append(count_sentences_in_arg_section)\n",
        "        arg_section=\"\"\n",
        "        count_sentences_in_arg_section=0\n",
        "      argument=False\n",
        "\n",
        "    # Add to the sentence every word that is not a simple \\n or the end of the sentence (\".\").\n",
        "    if not ( word==\".\" ):\n",
        "      sentence+=word+\" \"\n",
        "          \n",
        "    # . is the end of the sentence.       \n",
        "    if word in [\".\",\"?\",\"!\"] and ( not sentence==\"\"):\n",
        "      sentence_list.append(sentence)\n",
        "      \n",
        "      if argument:\n",
        "        count_sentences_in_arg_section+=1\n",
        "\n",
        "      sentence=\"\"\n",
        "    \n",
        "  if not (arg_section==\"\"):\n",
        "        arg_sections_list.append(arg_section)\n",
        "        arg_section_len_list.append(count_sentences_in_arg_section)\n",
        "        arg_section=\"\"\n",
        "        count_sentences_in_arg_section=0\n",
        "        argument=False\n",
        "\n",
        "  if not (sentence==\"\"):\n",
        "      sentence_list.append(sentence)\n",
        "      \n",
        "      if argument:\n",
        "        count_sentences_in_arg_section+=1\n",
        "\n",
        "      sentence=\"\""
      ],
      "execution_count": null,
      "outputs": []
    },
    {
      "cell_type": "code",
      "metadata": {
        "colab": {
          "base_uri": "https://localhost:8080/"
        },
        "id": "B-Taebdzku2q",
        "outputId": "8fd17178-88f2-43be-ee61-4217ca8238e5"
      },
      "source": [
        "len(sentence_list)"
      ],
      "execution_count": null,
      "outputs": [
        {
          "output_type": "execute_result",
          "data": {
            "text/plain": [
              "6738"
            ]
          },
          "metadata": {},
          "execution_count": 26
        }
      ]
    },
    {
      "cell_type": "code",
      "metadata": {
        "colab": {
          "base_uri": "https://localhost:8080/"
        },
        "id": "0Hmtt5QWku2q",
        "outputId": "33a386b2-50ec-41e8-8235-731120154aa3"
      },
      "source": [
        "len(argument_to_sentence_map)"
      ],
      "execution_count": null,
      "outputs": [
        {
          "output_type": "execute_result",
          "data": {
            "text/plain": [
              "6089"
            ]
          },
          "metadata": {},
          "execution_count": 27
        }
      ]
    },
    {
      "cell_type": "code",
      "metadata": {
        "colab": {
          "base_uri": "https://localhost:8080/"
        },
        "id": "Vth0HXQfku2r",
        "outputId": "19a6d4f7-e137-4817-f0c2-d636bb10cf2e"
      },
      "source": [
        "len(labels_list)"
      ],
      "execution_count": null,
      "outputs": [
        {
          "output_type": "execute_result",
          "data": {
            "text/plain": [
              "6089"
            ]
          },
          "metadata": {},
          "execution_count": 28
        }
      ]
    },
    {
      "cell_type": "code",
      "metadata": {
        "colab": {
          "base_uri": "https://localhost:8080/"
        },
        "id": "YW5RGWuqku2r",
        "outputId": "e33407bb-9753-4ab0-fecd-290873a18e5b"
      },
      "source": [
        "len(arg_sections_list)"
      ],
      "execution_count": null,
      "outputs": [
        {
          "output_type": "execute_result",
          "data": {
            "text/plain": [
              "6089"
            ]
          },
          "metadata": {},
          "execution_count": 29
        }
      ]
    },
    {
      "cell_type": "code",
      "metadata": {
        "colab": {
          "base_uri": "https://localhost:8080/"
        },
        "id": "-gPH7lE0ku2r",
        "outputId": "1539b0fc-3d8e-4445-95f5-82dadda32ba8"
      },
      "source": [
        "len(arg_section_len_list)"
      ],
      "execution_count": null,
      "outputs": [
        {
          "output_type": "execute_result",
          "data": {
            "text/plain": [
              "6089"
            ]
          },
          "metadata": {},
          "execution_count": 30
        }
      ]
    },
    {
      "cell_type": "code",
      "metadata": {
        "colab": {
          "base_uri": "https://localhost:8080/"
        },
        "id": "1xOnq5xhku2r",
        "outputId": "36934c1a-051f-4ec8-930d-fc521349e4d7"
      },
      "source": [
        "count=0\n",
        "\n",
        "for count_sentences in arg_section_len_list:\n",
        "  if count_sentences>0:\n",
        "    count+=1\n",
        "\n",
        "print(count)     "
      ],
      "execution_count": null,
      "outputs": [
        {
          "output_type": "stream",
          "name": "stdout",
          "text": [
            "4\n"
          ]
        }
      ]
    },
    {
      "cell_type": "markdown",
      "metadata": {
        "id": "59pO6zsUku2r"
      },
      "source": [
        "## **Select the sections to classify and the labels**"
      ]
    },
    {
      "cell_type": "code",
      "metadata": {
        "colab": {
          "base_uri": "https://localhost:8080/"
        },
        "id": "-Jj2K3snku2s",
        "outputId": "1e08e27d-00e5-4de5-d9b4-330ac62e6f98"
      },
      "source": [
        "arg_sections_list[0:10]"
      ],
      "execution_count": null,
      "outputs": [
        {
          "output_type": "execute_result",
          "data": {
            "text/plain": [
              "['we should attach more importance to cooperation during primary education ',\n",
              " 'through cooperation , children can learn about interpersonal skills which are significant in the future life of all students ',\n",
              " 'what we acquired from team work is not only how to achieve the same goal with others but more importantly , how to get along with others ',\n",
              " 'during the process of cooperation , children can learn about how to listen to opinions of others , how to communicate with others , how to think comprehensively , and even how to compromise with other team members when conflicts occurred ',\n",
              " 'all of these skills help them to get on well with other people and will benefit them for the whole life ',\n",
              " 'the significance of competition is that how to become more excellence to gain the victory ',\n",
              " 'competition makes the society more effective ',\n",
              " 'when we consider about the question that how to win the game , we always find that we need the cooperation ',\n",
              " 'take olympic games which is a form of competition for instance , it is hard to imagine how an athlete could win the game without the training of his or her coach , and the help of other professional staffs such as the people who take care of his diet , and those who are in charge of the medical care ',\n",
              " 'without the cooperation , there would be no victory of competition ']"
            ]
          },
          "metadata": {},
          "execution_count": 32
        }
      ]
    },
    {
      "cell_type": "code",
      "metadata": {
        "id": "hbZLhtH6ku2s"
      },
      "source": [
        "# Transform the sections in the sequences of their words.\n",
        "X_sections_word_list=[nltk.word_tokenize(section) for section in arg_sections_list]"
      ],
      "execution_count": null,
      "outputs": []
    },
    {
      "cell_type": "code",
      "metadata": {
        "colab": {
          "base_uri": "https://localhost:8080/"
        },
        "id": "TobQpE34ku2s",
        "outputId": "e6e2a49c-66ec-47e3-94a2-2d2cf8a3f703"
      },
      "source": [
        "# Extract labels, assign label 1 for the premises and 0 for the claims.\n",
        "\n",
        "Y=np.array(labels_list)\n",
        "\n",
        "Y"
      ],
      "execution_count": null,
      "outputs": [
        {
          "output_type": "execute_result",
          "data": {
            "text/plain": [
              "array([0, 0, 1, ..., 1, 1, 0])"
            ]
          },
          "metadata": {},
          "execution_count": 34
        }
      ]
    },
    {
      "cell_type": "markdown",
      "metadata": {
        "id": "rMP3ItCDVAlV"
      },
      "source": [
        "# **Debater Dataset**"
      ]
    },
    {
      "cell_type": "markdown",
      "metadata": {
        "id": "qrYVEKiDx63b"
      },
      "source": [
        "## **Claim and premise extraction**"
      ]
    },
    {
      "cell_type": "code",
      "metadata": {
        "id": "riCJg7CErUaw"
      },
      "source": [
        "# Extract a zip file.\n",
        "def import_zip(source: str, destination =\"\"):\n",
        "  with zipfile.ZipFile(source, 'r') as zip_ref:\n",
        "    zip_ref.extractall(destination)"
      ],
      "execution_count": null,
      "outputs": []
    },
    {
      "cell_type": "code",
      "metadata": {
        "id": "oY3RFtT9rtFU"
      },
      "source": [
        "# Extract the dataset.\n",
        "import_zip(\"IBM_Debater_(R)_CE-EMNLP-2015.v3.zip\")"
      ],
      "execution_count": null,
      "outputs": []
    },
    {
      "cell_type": "code",
      "metadata": {
        "id": "UZ8NFHqrsorb"
      },
      "source": [
        "# Read the files containing the labeled claim and premises.\n",
        "claim_data=open(\"claim-positions.txt\").read()\n",
        "premise_data=open(\"premise-positions.txt\").read()"
      ],
      "execution_count": null,
      "outputs": []
    },
    {
      "cell_type": "code",
      "metadata": {
        "id": "5rS2Dzy0nkwi"
      },
      "source": [
        "# Create a list which contains as elements the lines in the original document.\n",
        "claim_lines=claim_data.split(\"\\n\")\n",
        "premise_lines=premise_data.split(\"\\n\")"
      ],
      "execution_count": null,
      "outputs": []
    },
    {
      "cell_type": "code",
      "metadata": {
        "id": "U-dELd2lnrgn"
      },
      "source": [
        "# Separate each line of the document passed at the character '\\t'.\n",
        "# This character is the one used to separate the various component in each line\n",
        "# of the document.\n",
        "# In case of claims, also separate the first line from the rest of the document.\n",
        "# The first line contains the description of the content of the other lines.\n",
        "\n",
        "claim_list=[line.split(\"\\t\") for line in claim_lines][:-1]\n",
        "premise_list=[line.split(\"\\t\") for line in premise_lines][:-1]"
      ],
      "execution_count": null,
      "outputs": []
    },
    {
      "cell_type": "code",
      "metadata": {
        "colab": {
          "base_uri": "https://localhost:8080/"
        },
        "id": "EjjU90BOqc73",
        "outputId": "1c6e017c-1ee9-48f6-8e63-8ddead2aff3e"
      },
      "source": [
        "claim_list[:2]"
      ],
      "execution_count": null,
      "outputs": [
        {
          "output_type": "execute_result",
          "data": {
            "text/plain": [
              "[['Sentence',\n",
              "  'Article position in list',\n",
              "  'Sentence starting point',\n",
              "  'Sentence ending point'],\n",
              " ['exposure to violent video games causes at least a temporary increase in aggression and that this exposure correlates with aggression in the real world',\n",
              "  '0',\n",
              "  '418',\n",
              "  '568']]"
            ]
          },
          "metadata": {},
          "execution_count": 40
        }
      ]
    },
    {
      "cell_type": "code",
      "metadata": {
        "id": "kNY9i0UDoJda"
      },
      "source": [
        "# Create the two dataframes (trainsform the string representing numeric values into integer).\n",
        "\n",
        "claim_dataframe=pd.DataFrame(claim_list[1:],columns=['sentence','article_id','start','end'])\n",
        "claim_dataframe=claim_dataframe.astype({'article_id':int,'start':int,'end':int})\n",
        "\n",
        "premise_dataframe=pd.DataFrame(premise_list[1:],columns=['sentence','article_id','start','end'])\n",
        "premise_dataframe=premise_dataframe.astype({'article_id':int,'start':int,'end':int})"
      ],
      "execution_count": null,
      "outputs": []
    },
    {
      "cell_type": "code",
      "metadata": {
        "colab": {
          "base_uri": "https://localhost:8080/"
        },
        "id": "4Dnj1hQxohYx",
        "outputId": "f720f172-2ad9-449d-d8c7-2f9a723d08c2"
      },
      "source": [
        "claim_dataframe.head()"
      ],
      "execution_count": null,
      "outputs": [
        {
          "output_type": "execute_result",
          "data": {
            "text/html": [
              "<div>\n",
              "<style scoped>\n",
              "    .dataframe tbody tr th:only-of-type {\n",
              "        vertical-align: middle;\n",
              "    }\n",
              "\n",
              "    .dataframe tbody tr th {\n",
              "        vertical-align: top;\n",
              "    }\n",
              "\n",
              "    .dataframe thead th {\n",
              "        text-align: right;\n",
              "    }\n",
              "</style>\n",
              "<table border=\"1\" class=\"dataframe\">\n",
              "  <thead>\n",
              "    <tr style=\"text-align: right;\">\n",
              "      <th></th>\n",
              "      <th>sentence</th>\n",
              "      <th>article_id</th>\n",
              "      <th>start</th>\n",
              "      <th>end</th>\n",
              "    </tr>\n",
              "  </thead>\n",
              "  <tbody>\n",
              "    <tr>\n",
              "      <th>0</th>\n",
              "      <td>exposure to violent video games causes at leas...</td>\n",
              "      <td>0</td>\n",
              "      <td>418</td>\n",
              "      <td>568</td>\n",
              "    </tr>\n",
              "    <tr>\n",
              "      <th>1</th>\n",
              "      <td>video game violence is not related to serious ...</td>\n",
              "      <td>0</td>\n",
              "      <td>829</td>\n",
              "      <td>907</td>\n",
              "    </tr>\n",
              "    <tr>\n",
              "      <th>2</th>\n",
              "      <td>some violent video games may actually have a p...</td>\n",
              "      <td>0</td>\n",
              "      <td>1004</td>\n",
              "      <td>1082</td>\n",
              "    </tr>\n",
              "    <tr>\n",
              "      <th>3</th>\n",
              "      <td>exposure to violent video games causes both sh...</td>\n",
              "      <td>0</td>\n",
              "      <td>1442</td>\n",
              "      <td>1577</td>\n",
              "    </tr>\n",
              "    <tr>\n",
              "      <th>4</th>\n",
              "      <td>they increase the violent tendencies among youth</td>\n",
              "      <td>0</td>\n",
              "      <td>3900</td>\n",
              "      <td>3948</td>\n",
              "    </tr>\n",
              "  </tbody>\n",
              "</table>\n",
              "</div>"
            ],
            "text/plain": [
              "                                            sentence  article_id  start   end\n",
              "0  exposure to violent video games causes at leas...           0    418   568\n",
              "1  video game violence is not related to serious ...           0    829   907\n",
              "2  some violent video games may actually have a p...           0   1004  1082\n",
              "3  exposure to violent video games causes both sh...           0   1442  1577\n",
              "4   they increase the violent tendencies among youth           0   3900  3948"
            ]
          },
          "metadata": {},
          "execution_count": 42
        }
      ]
    },
    {
      "cell_type": "code",
      "metadata": {
        "id": "S1cRAT1YsTeq"
      },
      "source": [
        "# Add the type of argumentative sections into the dataframes.\n",
        "premise_type=[\"premise\" for p in range(len(premise_list)-1)]\n",
        "claim_type=[\"claim\" for c in range(len(claim_list)-1)]\n",
        "\n",
        "claim_dataframe[\"type\"]=claim_type\n",
        "premise_dataframe[\"type\"]=premise_type"
      ],
      "execution_count": null,
      "outputs": []
    },
    {
      "cell_type": "code",
      "metadata": {
        "colab": {
          "base_uri": "https://localhost:8080/"
        },
        "id": "nnCIM19LszMC",
        "outputId": "c8a9622e-d157-4400-ab90-7d9f62ba6018"
      },
      "source": [
        "claim_dataframe.head()"
      ],
      "execution_count": null,
      "outputs": [
        {
          "output_type": "execute_result",
          "data": {
            "text/html": [
              "<div>\n",
              "<style scoped>\n",
              "    .dataframe tbody tr th:only-of-type {\n",
              "        vertical-align: middle;\n",
              "    }\n",
              "\n",
              "    .dataframe tbody tr th {\n",
              "        vertical-align: top;\n",
              "    }\n",
              "\n",
              "    .dataframe thead th {\n",
              "        text-align: right;\n",
              "    }\n",
              "</style>\n",
              "<table border=\"1\" class=\"dataframe\">\n",
              "  <thead>\n",
              "    <tr style=\"text-align: right;\">\n",
              "      <th></th>\n",
              "      <th>sentence</th>\n",
              "      <th>article_id</th>\n",
              "      <th>start</th>\n",
              "      <th>end</th>\n",
              "      <th>type</th>\n",
              "    </tr>\n",
              "  </thead>\n",
              "  <tbody>\n",
              "    <tr>\n",
              "      <th>0</th>\n",
              "      <td>exposure to violent video games causes at leas...</td>\n",
              "      <td>0</td>\n",
              "      <td>418</td>\n",
              "      <td>568</td>\n",
              "      <td>claim</td>\n",
              "    </tr>\n",
              "    <tr>\n",
              "      <th>1</th>\n",
              "      <td>video game violence is not related to serious ...</td>\n",
              "      <td>0</td>\n",
              "      <td>829</td>\n",
              "      <td>907</td>\n",
              "      <td>claim</td>\n",
              "    </tr>\n",
              "    <tr>\n",
              "      <th>2</th>\n",
              "      <td>some violent video games may actually have a p...</td>\n",
              "      <td>0</td>\n",
              "      <td>1004</td>\n",
              "      <td>1082</td>\n",
              "      <td>claim</td>\n",
              "    </tr>\n",
              "    <tr>\n",
              "      <th>3</th>\n",
              "      <td>exposure to violent video games causes both sh...</td>\n",
              "      <td>0</td>\n",
              "      <td>1442</td>\n",
              "      <td>1577</td>\n",
              "      <td>claim</td>\n",
              "    </tr>\n",
              "    <tr>\n",
              "      <th>4</th>\n",
              "      <td>they increase the violent tendencies among youth</td>\n",
              "      <td>0</td>\n",
              "      <td>3900</td>\n",
              "      <td>3948</td>\n",
              "      <td>claim</td>\n",
              "    </tr>\n",
              "  </tbody>\n",
              "</table>\n",
              "</div>"
            ],
            "text/plain": [
              "                                            sentence  article_id  ...   end   type\n",
              "0  exposure to violent video games causes at leas...           0  ...   568  claim\n",
              "1  video game violence is not related to serious ...           0  ...   907  claim\n",
              "2  some violent video games may actually have a p...           0  ...  1082  claim\n",
              "3  exposure to violent video games causes both sh...           0  ...  1577  claim\n",
              "4   they increase the violent tendencies among youth           0  ...  3948  claim\n",
              "\n",
              "[5 rows x 5 columns]"
            ]
          },
          "metadata": {},
          "execution_count": 44
        }
      ]
    },
    {
      "cell_type": "code",
      "metadata": {
        "id": "ZV9ChG-TtT60"
      },
      "source": [
        "# Concatenate the two dataframes into one.\n",
        "argumentative_dataframe=pd.concat([claim_dataframe,premise_dataframe])"
      ],
      "execution_count": null,
      "outputs": []
    },
    {
      "cell_type": "markdown",
      "metadata": {
        "id": "0697g-wg76g8"
      },
      "source": [
        "## **IOB and word list**"
      ]
    },
    {
      "cell_type": "code",
      "metadata": {
        "id": "MOTEjToCwOy0"
      },
      "source": [
        "# Extract original articles text.\n",
        "import_zip(\"IBM_Debater_(R)_CE-EMNLP-2015.v3/articles.zip\",\"IBM_Debater_(R)_CE-EMNLP-2015.v3\")"
      ],
      "execution_count": null,
      "outputs": []
    },
    {
      "cell_type": "code",
      "metadata": {
        "id": "dS1o9VL00vw4"
      },
      "source": [
        "# Read the list of articles used in the dataset.\n",
        "txt_articles = sorted(glob.glob(\"IBM_Debater_(R)_CE-EMNLP-2015.v3/articles/clean_*.txt\"))\n",
        "\n",
        "articles_text=[open(file).read() for file in txt_articles]"
      ],
      "execution_count": null,
      "outputs": []
    },
    {
      "cell_type": "code",
      "metadata": {
        "colab": {
          "base_uri": "https://localhost:8080/"
        },
        "id": "WwzXVNHYv8Uo",
        "outputId": "111fb832-6d55-4850-c696-9be4c6eca9f2"
      },
      "source": [
        "articles_text[0]"
      ],
      "execution_count": null,
      "outputs": [
        {
          "output_type": "execute_result",
          "data": {
            "application/vnd.google.colaboratory.intrinsic+json": {
              "type": "string"
            },
            "text/plain": [
              "'. \\n\\nControversies over video games often center on topics such as video game graphic violence, sex and sexism, violent and gory scenes, partial or full nudity, portrayal of criminal behavior, racism, and other provocative and objectionable material. \\n\\nVideo games have been studied for links to addiction and aggression. Earlier meta-analyses (an analysis of several studies) were conflicting. A 2001 study found that exposure to violent video games causes at least a temporary increase in aggression and that this exposure correlates with aggression in the real world. A decrease in prosocial behavior (caring about the welfare and rights of others) was also noted [REF]. Another 2001 meta-analyses using similar methods[REF] and a more recent 2009 study focusing specifically on serious aggressive behavior[REF] concluded that video game violence is not related to serious aggressive behavior in real life. \\n\\nMany potential positive effects have been proposed [REF]. Recent research has suggested that some violent video games may actually have a prosocial effect in some contexts, for example, team play [REF]. \\n\\nIt has been argued there is generally a lack of quality studies which can be relied upon and that the video game industry has become an easy target for the media to blame for many modern day problems [REF]. The most recent large scale meta-anlysis-- examining 130 studies with over 130,000 subjects worldwide-- concluded that exposure to violent video games causes both short term and long term aggression in players and decreases empathy and prosocial behavior. However, this meta-analysis was severely criticized in the same issue of the same journal for a number of methodological flaws, including failure to distinguish clinically valid from unstandardized aggression measures and for failing to solicit studies from researchers who have questioned whether causal links exist, thus biasing the sample of included studies [REF].\\n\\nThe Entertainment Software Association states that 20% of video game players are boys under the age of 17, 26% are over 50 (regardless of gender), and that the average game player is 37 [REF].\\nIn a survey of 1,102 teenagers aged 12 to 17, 97% of them said that they play video games; moreover, half of the survey respondents said that they had played a video game in the last day. Three-quarters of parents who were surveyed said that they check the ratings on their kid\\'s games. However, half of the boys who were asked about their favorite game listed a game with an “M” or “AO” rating as their favorite, compared with 14% of girls [REF].\\nThe adult demographic is the fastest-growing segment of the American video games market with 32% of adults playing video games,[REF] although critics have suggested that such statistics are often used to deflect from the fact that almost all American children are exposed to video games [REF].\\n\\nAs of 2011, over 40% of players are female [REF]. However, a 1998 study conducted at the University of Central Florida found that of the 33 games sampled, 41% do not feature female characters, 28% portrayed women as sex objects, 21% depicted violence against women, and 30% did not represent the female population at all. Furthermore, characterizations of women tended to be stereotypical: highly sexualized (\"visions of beauty with large breasts and hips\"), dependent (\"victim or as the proverbial \\'Damsel in Distress\\'\"), opposed (\"evil or as obstacles to the goal of the game\"), and trivial (\"females depicted [..] in fairly non-significant roles\") [REF]. \\n\\nHowever, this report has been criticized[REF] for not representing a wide range of video games, and that the games analysed, being up to 20 years old, do not represent the current status of the video game industry,[REF] and that strong female characters are now increasingly more prevalent [REF].\\n\\nOne of the most common criticisms of video games is that they increase the violent tendencies among youth [REF]. However, several major studies by groups such as The Harvard Medical School Center for Mental Health, The Journal of Adolescent Health, and The British Medical Journal have shown no conclusive link between video game usage and violent activity.\"[REF][REF][REF] One study did find an increase in reports of bullying, noting, \"Our research found that certain patterns of video game play were much more likely to be associated with these types of behavioral problems than with major violent crime such as school shootings [REF]. One of the first widely accepted controversial video games was developer Exidy\\'s 1976 title Death Race, in which players controlled cars that ran over pixelated representations of \"gremlins\". The game caused such an outcry that it was pulled from store shelves and profiled on 60 Minutes. Long Island PTA president Ronnie Lamm pushed for legislation in the early 1980s to place restrictions on how close video game arcades could be to schools, asserting that they caused children to fight [REF]. Portrayals of violence allegedly became more realistic with time, and so politicians such as U.S. Senator Joe Lieberman conducted hearings during the 1990s regarding what he referred to as \"violent video games\" which, in his opinion, included such games as Mortal Kombat. His sentiments have been echoed by certain researchers, such as Dr. Craig A. Anderson who testified before the Senate, \"Some studies have yielded nonsignificant video game effects, just as some smoking studies failed to find a significant link to lung cancer. But when one combines all relevant empirical studies using meta-analytic techniques it shows that violent video games are significantly associated with: increased aggressive behavior, thoughts, and affect; increased physiological arousal; and decreased pro-social (helping) behavior.\"[REF][REF] Anderson himself was later criticized in a 2005 video game court case for failing to cite research that differed from his view [REF]. \\n\\nGrand Theft Auto: Vice City is an example of a video game that caused controversy, over and above the debate surrounding the violent gameplay, for allegedly encouraging racist hate crimes. The game takes place in \"Vice City\", a fictionalized Miami, in 1986, and involves a gang war between Haitians and Cuban refugees, with the player\\'s character getting involved and encouraging the inter-ethnic violence. For example, in a shoot-out with the Haitian gang, the player\\'s character uses phrases such as \"kill the Haitian dickheads\", which highly incensed both Haitian and Cuban anti-defamation groups; after the Haitian-American Coalition threatened to sue, Rockstar removed the word \"Haitians\" from this phrase in the game\\'s subtitles. \\n\\nLt. Col. David Grossman, a former West Point psychology professor, has written several books that pertain to the subject of violence in the media, including On Killing and Stop Teaching Our Kids to Kill. During heights of video game controversy he has been interviewed on the content of his books, and has repeatedly used the term \"murder simulator\" to describe first-person shooter games. He argues that video game publishers unethically train children in the use of weapons and, more importantly, harden them emotionally to the act of murder by simulating the killing of hundreds or thousands of opponents in a single typical video game. Grossman\\'s conclusions have been criticized by some scholars, however, as highly selective and misleading [REF]. \\n\\nResearch published in 2001 suggested that violent video games may increase mild forms of aggressive behavior in children and young adults. Analyses also showed that exposure to violent video games results in increased physiological arousal, aggression-related thoughts and feelings as well as decreased prosocial behavior. The research comprised a meta analysis, laboratory and field studies [REF]. However meta-analyses by other groups have not replicated these findings [REF][REF] and these other groups have been critical of attempts to link violent games with aggression. For instance John Sherry has said (2007) \"Further, why do some researchers (e.g. Gentile & Anderson, 2003) continue to argue that video games are dangerous despite evidence to the contrary?” (p.&nbsp;244). \\n\\nA study by Dr. Craig A. Anderson et al. compared the effects of violent video games to those of smoking on lung cancer [REF][REF] This view has been challenged, however. For instance, Ferguson (2010) has ruled out a relationship between video game violence and serious aggression, concluding \"Taken together these meta-analyses range from those which argue against meaningful effects to those which find weak effects. Thus the debate on video game violence has been reduced to whether video game violence produces no effects…or almost no effects.\" [REF] . \\n\\nOther studies reach the conclusion that violence in video games is not causally linked with aggressive tendencies. This was the conclusion of a 1999 study by the U.S. government, prompting Surgeon General David Satcher to say, \"We clearly associate media violence to aggressive behavior. But the impact was very small compared to other things. Some may not be happy with that, but that’s where the science is.\"[REF] A meta-analysis by psychologist Jonathan Freedman, who reviewed over 200 published studies and found that the \"vast and overwhelming majority\" did not find a causal link, also reached this conclusion [REF]. A US Secret Service study found that only 12% of those involved in school shootings were attracted to violent video games, while 24% read violent books and 27% were attracted to violent films [REF]. An Australian study found that only children already predisposed to violence were affected by violent games [REF]. A recent long-term outcome study of youth found no long-term relationship between playing violent video game and youth violence or bullying [REF] . \\n\\nA recent longitudinal study of youth in Germany found that aggressive children tend to select more violent video games, not the inverse. This study found no evidence violent games are psychologically harmful to minors. The authors further speculated other studies may have found spurious effects due to focusing on youth self-report of aggression rather than reports by parents or teachers, the so called \"single responder bias\" [REF]. \\n\\nIn Grand Theft Childhood: The Surprising Truth About Violent Video Games and What Parents Can Do, researchers/authors Lawrence Kutner, PhD, and Cheryl K. Olson, ScD, refute claims of violent behavior increase caused by violent video games. The researchers\\' study shows that adolescents that don\\'t play video games at all are most at-risk for violent behavior (but without statistical significance), claiming that video game play is part of an adolescent boy\\'s normal social setting. However, they do not completely deny violent (M-rated) video games\\' negative influences on pre-teens and teenagers [REF]. Kutner and Olson say the views of both alarmists and the video game industry are often supported by flawed or misconstrued studies. The real risks according to them are not just about exposure to violence, gore and sex but are more subtle with some children at greater risk than others [REF]. \\n\\nOfficial records show that violent crime rates have declined dramatically since the early 1990s in the USA, among both juveniles[REF] and adults [REF]. This is despite sales of violent video games exploding and their content becoming increasingly graphic during the same period [REF]. [REF]Video game violence is not the primary contributor to societal violence, however, as there are many other factors at play [REF]. \\n\\nAccording to media scholar Henry Jenkins: .\\n\\nFears have been expressed about exposure to violent video games. For example, politicians and other people and organizations have considered video games effects on society, where the causative factor was not clear, \"there has been some fears specially from UK news service that hijackers may have used flight simulator software to practice flying jet planes, also, Beam Breakers removed all references to the World Trade Center already used in the game 1\" [REF].\\n\\nSome researchers believe that while playing violent video games leads to violent actions, there are also biological influences that impact a person\\'s choices. According to Sean P. Neubert of Rochester Institute of Technology, a person who is biologically predisposed to aggression will be more strongly influenced by violent scenes and thus will have a greater risk for carrying out destructive actions. For example someone with antisocial personality disorder has a greater risk of going out and shooting someone after playing hours of Grand Theft Auto or a game of a similar nature [REF]. \\n\\nOther biological theories of aggression and violence have specifically excluded video game and other media effects. For instance the Catalyst Model proposed by Ferguson and Beaver [REF] specifically exclude media violence as a contributor to violence, arguing research evidence for such effects have been weak, and media violence is too distal a factor to have much influence.\\n\\nSexual themes in video games are much less tolerated in the US than violent themes; the most well-known example of this is the Hot Coffee controversy. In June 2005, an entire portion of unused code was found within the main script of Grand Theft Auto: San Andreas, allowing the player to simulate sex with the main character\\'s girlfriends. The game could be accessed in the PC version via a mod, and through Action Replay codes in the PS2 and Xbox versions [REF]. The fact that the scene was left on the disc, and could be accessed by altering a few bytes of the game\\'s code via a hex editor, prompted the Entertainment Software Rating Board (ESRB) to change the rating of San Andreas to \"Adults Only\" on July 20, 2005. The game was pulled from many stores; Rockstar Games posted a loss of $28.8 million that quarter [REF]. The most controversial video game of this nature was Rapelay, a game revolving around rape. Worldwide public campaigns against it led to the game being banned [REF].\\n\\nAlmost no North American video games display full frontal nudity. Sexual themes are more common in Japanese PC games, but console companies such as Microsoft, Nintendo and Sony do not license adult-only content games for their systems.\\n\\nBias of gender exists in games. Terry Flew writes that generally representations of gender in digital games are stereotyped. In many games, male characters are portrayed as hard bodied, muscled men, and female characters are portrayed as soft bodied, nearly naked women with large breasts. In addition, Flew also believes that female characters in games are usually portrayed in a narrowly stereotypical manner. Females are usually constructed as visual objects who wait for male rescue and need to be protected, whereas men are portrayed with more power. Such depiction of females in games reflects underlying social ideas of dominance of male over female and themes of masculinity. Although not all video games contain such stereotypes, there are enough to make it a general trait. Ultimately, Flew ends with the statement of the broad demographic\\'s excessive demands, in that \\'..different genders have different gaming.\\'[REF] . \\n\\nHowever, some video games do not conform to traditional gender roles such as the male being dominant and the female being submissive. One such example would be the protagonist Lara Croft in the Tomb Raider video game series, who is presented as a beautiful, clever, athletic, and brave English archaeologist-adventurer. Lara Croft has achieved popularity with both males and females as an action heroine, although depending on what feminist perspective is applied she can either represent \\'a positive role model for young girls\\' or a \\'combination of eye and thumb candy for the boys\\' [REF]. Recently the emergence of female gamers and developers in the industry has led to changes in video games to accommodate this demographic; where Lara Croft is concerned, this has led to games developer Eidos remodelling the character for Tomb Raider: Legend, so that the character has a more believable figure and less skimpy outfits so as not to offend female gamers [REF]. Although many video games emphasize a hypermasculine identity for male characters, this may in fact reflect current gender roles and stereotypes found in Western society; whereas, video games originating from Asia often include androgynous male characters, influenced by anime, with thinner bodies, softer faces, big eyes and long hair, such as the iconic characters of Sephiroth in Final Fantasy VII and Link in the Legend of Zelda. \\n\\nReinforcement of sexist stereotypes has also been claimed as an effect of violent video games [REF].\\n\\nLesbian, gay, bisexual, and transgender (LGBT) characters have been depicted in some video games since the 1980s. LGBT content has been subject to changing rules and regulations by game companies,[REF] which are generally examples of heterosexism in that heterosexuality is normalized while homosexuality is subject to additional censorship or ridicule [REF]. Sexual orientation and gender identity have served a significant role in some console and personal computer games, with the trend being toward greater visibility of LGBT identities, in special in Japanese popular culture[REF] and games marketed to LGBT consumers [REF].\\n\\nOver two hundred studies have been published which examine the effects of violence in entertainment media and which at least partially focus on violence in video games in particular. Some psychological studies[REF] have shown a correlation between children playing violent video games and suffering psychological effects, although many other studies find no such link causation. \\n\\nIn 2004 the American Psychological Association summarized the issue as \"Psychological research confirms that violent video games can increase children\\'s aggression, but that parents moderate the negative effects.\"[REF] A more recent press release by the APA in 2010 summarized recent research findings as \"Bad effects depend on certain personality traits; games can offer learning opportunities for others\" [REF]. Craig Anderson has conducted meta-analysis of previous studies and claimed they have demonstrated five effects: \"increased aggressive behavior, thoughts, and affect; increased physiological arousal; and decreased pro-social (helping) behavior\" [REF]. Nevertheless, other studies have explicitly denied that such a connection exists, most notably Anderson and Ford (1986), Winkel et al. (1987), Scott (1995), Ballard and Lineberger (1999), and Jonathan Freedman (2002) [REF]. More recently, Block and Crain (2007) claim that in a critical paper by Anderson (and his co-author, Bushman), data was improperly calculated and produced fallacious results [REF]. Other meta-analyses by other groups, such as by Ferguson and Kilburn (2009) and Sherry (2007) have repudiated any links between video game violence and aggression, as have recent reviews by the Australian Government (2010) and the US Supreme Court (June, 2011). \\n\\nAfter conducting a two-year study of more than 1,200 Middle School children about their attitudes towards video games, Harvard Medical School researchers Lawrence Kutner and Cheryl Olson found that playing video games did not have a particularly negative effect on the researched group [REF]. \\n\\nThe portrayal of race in video games has also recently become an issue, seen in games such as the Grand Theft Auto series, 50 Cent: Bulletproof, and Def Jam: Fight for NY. In 2009, the issue of race emerged with the release of Resident Evil 5, which has the player kill numerous African enemies, resulting in arguments from both sides of the issue. Supporters of Resident Evil 5 argued however that to censor the portrayal of black antagonists was discrimination in itself [REF]. A similar outrage also occurred when it was revealed that \"Left 4 Dead 2\", set in New Orleans, would include African-American zombies. These and other games demonstrate an interesting trend towards the increased presence of racial differences in video games. Indeed, it is true that “Significantly, these games, and particularly their questionable claims of authenticity, establish compelling learning environments that help facilitate how young gamers develop their knowledge of and familiarity with popular views of race and urban culture.”[REF] .\\n\\nVideo game addiction is excessive or compulsive use of computer and video games that interferes with daily life. Instances have been reported in which users play compulsively, isolating themselves from family and friends or from other forms of social contact, and focus almost entirely on in-game achievements rather than broader life events [REF]. The first video game to attract political controversy for its \"addictive properties\" was the 1978 arcade game Space Invaders [REF].\\n\\nSeveral incidents speculated to be related to video games in recent decades have helped fuel controversy. \\n\\nOn November 22, 1997, thirteen-year-old Noah Wilson died when his friend Yancy stabbed him in the chest with a kitchen knife. The mother of Noah, Andrea Wilson, alleged that her son was stabbed to death because of an obsession with the Midway game Mortal Kombat. She alleged that Yancy S. was so obsessed with the game that he believed himself to be the character Cyrax. This character purportedly uses a finishing move which involves getting the opponent in a headlock and stabbing them in the chest. Although Wilson alleged that this was the reason for her son\\'s death, the character Cyrax does not actually perform this move at all. The conclusion of Wilson v. Midway Games, Inc. was, according to the court case report, \"Wilson\\'s complaint fails to state a claim upon which relief can be granted.\"[REF]\\nOn April 20, 1999, 18-year-old Eric Harris and 17-year-old Dylan Klebold killed 12 students and a teacher in the Columbine High School massacre. The two were allegedly obsessed with the video game Doom. Harris also created WADs for the game, and created a large mod named \"Tier\" which he called his \"life\\'s work\". Contrary to certain rumors, however, neither student had made a Doom level mimicking the school\\'s layout, and there is no evidence the pair practiced the massacre in Doom [REF].\\nIn April 2000, 16-year-old Spanish teenager José Rabadán Pardo murdered his father, mother and his sister with a katana, proclaiming that he was on an \"avenging mission\" by Squall Leonhart, the main character of the video game Final Fantasy VIII [REF].\\nIn November 2001, 21-year-old American Shawn Woolley committed suicide after what his mother claimed was an addiction to EverQuest. Woolley\\'s mother stated, \"I think the way the game is written is that when you first start playing it, it is fun, and you make great accomplishments. And then the further you get into it, the higher level you get, the longer you have to stay on it to move onward, and then it isn\\'t fun anymore. But by then you\\'re addicted, and you can\\'t leave it.\"[REF]\\nIn February 2003, 16-year-old American Dustin Lynch was charged with aggravated murder and made an insanity defense that he was \"obsessed\" with Grand Theft Auto III. Long time video game opponent and former attorney Jack Thompson encouraged the father of victim JoLynn Mishne to pass a note to the judge that said \"the attorneys had better tell the jury about the violent video game that trained this kid [and] showed him how to kill our daughter, JoLynn. If they don\\'t, I will.\"[REF] Lynch later retracted his insanity plea, and his mother Jerrilyn Thomas commented, \"It has nothing to do with video games or Paxil, and my son\\'s no murderer.\"[REF]\\nOn June 7, 2003, 18-year-old American Devin Moore shot and killed two policemen and a dispatcher after grabbing one of the officers\\' weapons following an arrest for the possession of a stolen vehicle. At trial, the defense claimed that Moore had been inspired by the video game Grand Theft Auto: Vice City [REF].\\nOn June 25, 2003, two American step brothers, Joshua and William Buckner, aged 14 and 16, respectively, used a rifle to fire at vehicles on Interstate 40 in Tennessee, killing a 45-year-old man and wounding a 19-year-old woman. The two shooters told investigators they had been inspired by Grand Theft Auto III [REF].\\nOn February 27, 2004 in Leicester, UK, 17-year-old Warren Leblanc lured 14-year-old Stefan Pakeerah into a park and murdered him by stabbing him repeatedly with a claw hammer and knife. Leblanc was reportedly obsessed with Manhunt, although investigation quickly revealed that the killer did not even own a copy of the game. The victim\\'s mother Giselle Pakeerah has been campaigning against violent video games in the UK ever since [REF]. The police investigating the case have dismissed any link, as discussed in the relevant articles [REF].\\nIn October 2004, a 41-year-old Chinese man named Qiu Chengwei stabbed 26-year-old Zhu Caoyuan to death over a dispute regarding the sale of a virtual weapon the two had jointly won in the game The Legend of Mir 3 [REF].\\nOn December 27, 2004, 13-year-old Xiao Yi committed suicide by jumping from a twenty-four story building in Tianjin, China, as a result of the effects of his addiction, hoping to be \"reunited\" with his fellow gamers in the afterlife, according to his suicide notes. Prior to his death, he had spent 36 consecutive hours playing Warcraft III [REF].\\nIn August 2005, 28-year-old South Korean Lee Seung Seop died after playing StarCraft for 50 hours straight [REF].\\nIn June 2007, 22-year-old Alejandro Garcia from Texas shot dead his cousin after arguing over whose turn it was to play the game Scarface: The World Is Yours. He pleaded guilty for murder at his trial on April 6, 2011, and will serve 15 to 30 years in prison [REF].\\nIn September 2007, a Chinese man in Guangzhou, China, died after playing Internet video games for three consecutive days in an Internet cafe [REF].\\nIn September 2007 in Ohio, 16-year-old Daniel Petric snuck out of his bedroom window to purchase the game Halo 3 against the orders of his father, a minister at New Life Assembly of God in Wellington, Ohio, U.S [REF]. His parents eventually banned him from the game after he spent up to 18 hours a day with it, and secured it in a lockbox in a closet where the father also kept a 9mm handgun, according to prosecutors [REF]. In October 2007, Daniel used his father\\'s key to open the lockbox and remove the gun and the game. He then entered the living room of his house and shot both of them in the head, killing his mother and wounding his father. Petric is sentenced to life in prison without parole, which was later commuted to 23 years in imprisonment [REF]. Defense attorneys argued that Petric was influenced by video game addiction, the court dismissed these claims. The judge, James Burge commented that while he thought there was ample evidence the boy knew what he was doing, Burge thought the game had affected him like a drug, saying \"I firmly believe that Daniel Petric had no idea at the time he hatched this plot that if he killed his parents they would be dead forever.\"[REF]\\nIn December 2007, 17-year-old Lamar Roberts and 16-year-old Heather Trujillo were accused of beating a seven-year-old girl to death. They are said to have been imitating the moves taken from the game \"Mortal Kombat\" [REF].\\nIn December 2007, a Russian man was beaten to death over an argument in the MMORPG Lineage II. The man was killed when his guild and a rival one challenged each other to a real-life brawl [REF].\\nFalse reports initially claimed that Seung-Hui Cho, the killer in the 2007 Virginia Tech massacre was an avid Counter-Strike player. However, police reports said that roommates of Cho had never seen him play any video games [REF]. Despite these discoveries, disbarred attorney Jack Thompson continued to erroneously claim that video games were to blame. \\nIn June 2008, four teens allegedly obsessed with Grand Theft Auto IV went on a crime spree after being in New Hyde Park, New York. They first robbed a man, knocking his teeth out and then they stopped a woman driving a black BMW and stole her car and her cigarettes [REF].\\nOn August 2, 2008, Polwat Chinno, a 19-year-old Thai teenager, stabbed a Bangkok taxi driver to death during an attempt to steal the driver\\'s cab in order to obtain money to buy a copy of Grand Theft Auto IV. A police official said that the teen was trying to copy a similar act in the game. As a consequence, officials ordered the banning of the game itself and later the series, which led its distributor, New Era Interactive Media, to withdraw it, including the aforementioned, then-upcoming installment, from shops across Thailand [REF].\\nOn October 13, 2008, the disappearance of Brandon Crisp and his subsequent death involving, according to his parents, obsessive playing of Call of Duty 4: Modern Warfare has been referenced in discussions about video game obsession and spawned a report aired by CBC\\'s the fifth estate on video game addiction and Brandon\\'s story titled \"Top Gun\", subtitled \"When a video gaming obsession turns to addiction and tragedy\" [REF].\\nIn January 2010, 9-year-old Anthony Maldonado was stabbed by relative Alejandro Morales after an argument regarding Maldonado\\'s recently purchased copy of Tony Hawk: Ride and PlayStation 3 console [REF].\\nIn January 2010, Gary Alcock punched, slapped and pinched his partner\\'s 15-month-old daughter in the three weeks leading up to her death before he delivered a fatal blow to the stomach which tore her internal organs because she interrupted him playing his Xbox. She died from internal bleeding after suffering 35 separate injuries including multiple bruises, rib fractures and brain damage, which were comparable to injuries suffered in a car crash. Alcock was jailed for life and must serve at least 21 years [REF].\\nIn May 2010, French gamer Julien Barreaux located and stabbed a fellow player who had stabbed Barreaux on the game Counter-Strike. The judge at his trial called him \"a menace to society.\"[REF]\\nOn November 29, 2010 in South Philadelphia, Pennsylvania, 16-year-old boy Kendall Anderson bludgeoned his mother to death in her sleep with a claw hammer after she took away his PlayStation [REF].\\nOn April 9, 2011 in Alphen Aan Den Rijn, The Netherlands, 24-year-old Tristan van der Vlis opened fire in a shopping mall, releasing more than a hundred bullets with a semi-automatic rifle and a handgun, killing 6 people and wounding 17 others, after which he also killed himself [REF]. A fair amount of attention was given to the fact that Van Der Vlis had been playing Call of Duty: Modern Warfare 2 and to the alleged similarities between the events in Alphen a/d Rijn and the controversial \"No Russian\" mission in the game (also known as the \\'Airport Massacre\\') where the player can choose to (or choose not to) partake in the killing of a large group of innocent people inside an airport terminal [REF].\\n\\nSeveral theoretical approaches have been applied to potential video game violence effects (or lack of effects). These models compete, attempting to explain how video games may or may not have effects on players. \\n\\nFor example the Catalyst Model of aggression comes from a diathesis-stress perspective, implying that aggression is due to a combination of genetic risk and environmental strain [REF]. The Catalyst Model suggests that stress, coupled with antisocial personalities is most salient in the creation of aggression. The Catalyst Model does allow that proximal influences such as family or peers may influence aggressiveness. However the Catalyst Model specifically states that media influences are too weak and distant to have much influence. \\n\\nThe General Aggression Model (GAM) models video games as having an influence on people, proposing that a participant\\'s thoughts, feelings and physical arousal can be affected by simulated violence. The GAM asserts this creates an effect on an individual\\'s interpretation of an aggressive or violent act [REF]. \\n\\nThe GAM claims that video games have both short- and long-term effects. In the short-term the aggressive cognitions, affects and arousal are posited to increase while long-term effects are asserted to be possible, but not yet accurately determined. Anderson and Bushman claim violent video games promote violent behavior, attitudes and beliefs by desensitizing an individual to aggression.\\n\\nIn response to concerns about video games, governments around the globe have enacted or attempted to enact legislation regulating, prohibiting, or outright banning video games. Similarly, support for video game and media regulation has been linked to moral panic [REF]. To that end, different video game content rating systems have been introduced across the globe. \\n\\nPsychology professor Chris Ferguson discusses in an interview how these myths are perpetuated. When asked to describe the nature of how negative propaganda is spread by activist against video games, Ferguson explained that many respected academics and elected officials develop apprehension towards the media in question and formulate disproportionate accusations of harm. Those claims are out in the public when expert evidence proves them to be invalid, making it difficult to withdraw from such allegations. Possible motivations for why activist claims are not retracted are “…there are certain financial incentives and political incentives. It’s hard to get grant money arguing that something *isn’t* a problem…and some scholars take money from anti-media lobbying groups. Politically scholars to support a government mandated censorship regimen naturally intend to be in charge of that regimen themselves”. Ferguson adds that present research on violence in video games confirms no valid link, “The best studies now coming out — those which take care to use well-validated clinical outcome measures and which carefully control for other important risk factors — provide no support for the belief that VVG contributes to youth violence”[REF] . \\n\\nVoluntary rating systems adopted by the video game industry, such as the ESRB rating system in the United States and Canada, as well as the Pan European Game Information (PEGI) rating system in Europe, that are aimed at informing parents about the types of games their children are playing (or are asking to play). Certain game publishers’ decision to have controversial games rated seems to show that they are not targeted at young children. They are rated by the ESRB as \"Mature\" (M) or \"Adults Only\" (AO) in the US, or given British Board of Film Classification (BBFC) ratings of 15 or 18 in the UK. The packaging notes that these games should not be sold to children. In the US, ESRB ratings are not legally binding, but many retailers take it upon themselves to refuse the sale of these games to minors. In the United Kingdom (UK), the BBFC ratings are backed up by law, so it is actually illegal to sell the game to anyone under the indicated age, and many UK retailers go beyond that and also enforce the PEGI ratings, which are not backed up by law. No video game console manufacturer has yet to allow any game to be published in North America with the harshest ESRB rating, \"Adults Only\", signaling that the game is only appropriate for ages 18 years and up. Additionally, no major retailers are willing to set aside shelf space for AO-rated games. Although Grand Theft Auto San Andreas was given a rating of AO after widespread surfacing of an add-on originally deleted from the game, \"Hot Coffee,\" in which the player controls a fully clothed sexual encounter. It was later fully removed and the game retained the M rating. GTA San Andreas is the best selling game to ever receive the AO rating. \\n\\nThe sales of M- and AO-rated games to minors has been an issue of much concern to parent groups and public officials, and bills have been submitted to government agencies, including the Video Games Ratings Enforcement Act introduced to the US House of Representatives in both the 109th Congress and 110th Congress. The proposed legislation would require an ID check for M- and AO-rated game purchases. The bill was not passed into law, and other proposed bills were stopped[REF] because of First Amendment violations. \\n\\nAlthough no law mandates ID checking for games with adult content, a 2008 secret shopper survey done by the Federal Trade Commission shows that video game retailers have voluntarily increased ID verification for M- and AO-rated games, and sales of those games to underage potential buyers have been reduced from 83% in 2000 to only 20% in 2008. \\n\\nIn April 2011, the Federal Trade Commission undercover shopper survey found that video game retailers continue to enforce the ratings by allowing only 13% of underage teenage shoppers to buy M-rated video games, a statistically significant improvement from the 20% purchase rate in 2009 [REF]. By contrast, underage shoppers purchased R-rated movies 38% of the time, and unrated movies 47% of the time [REF]. \\n\\nOn January 7, 2009, Representative Joe Baca of California’s 43rd District introduced H.R. 231, the Video Game Health Labelling Act. This bill called for labels to be placed in a “clear and conspicuous location on the packaging” which states “WARNING: Excessive exposure to violent video games and other violent media has been linked to aggressive behaviour.” The proposed legislation mandated that all video games with an ESRB rating of T (Teen) or higher be subjected to the compulsory labelling [REF]. The press release accompanying the introduction of the bill referred to scientific studies from the Pediatrics Journal, Indiana University, University of Missouri and Michigan State University which pointed to a “neurological link between playing violent video games and aggressive behaviour in children and teenagers.”[REF] The proposed legislation was referred on to the Subcommittee on Commerce, Trade and Consumer Protection. On January 24, 2011; Rep. Joe Baca reintroduced the Video Game Health Labelling Act as H.R. 400 of the 112th Congress [REF]. The bill was once again passed onto the Subcommittee. \\n\\nOn June 27, 2011, the Supreme Court of the United States ruled on Brown v. Entertainment Merchants Association, cited video games as protected speech under the First Amendment. The case centered on a California law that sought to restrict sales of violent video games to minors. The video game industry, led by the Entertainment Merchants Association and the Entertainment Software Association successfully obtained an injunction on the bill, believing that definition of violence defined by the California law was too vague and would not treat video games as protected speech. This opinion was upheld in lower courts, and supported by the Supreme Court\\'s decision. In the decision, the Court determined that there was no direct link between violent video games and their influence on children, in as much as compared to other types of media like television and pictures, and that they could not create a new class of restricted speech that is not applied to other forms of media [REF].\\n\\nNumerous researchers have proposed potential positive effects of video games on aspects of social and cognitive development and psychological well-being [REF]. It has been shown that action video game players have better hand-eye coordination and visuo-motor skills, such as their resistance to distraction, their sensitivity to information in the peripheral vision and their ability to count briefly presented objects, than non-players [REF].\\nVideo games also develop the individual\\'s intelligence, and in social games develop the social capabilities of the individual. \\n\\nAnother way in which the usage of video games might provide a benefit is in the relief of stress. There is a study being conducted by Dr.Cheryl Olson and her team at Massachusetts General Hospital’s (MGH) Center for Mental Health and Media and Harvard to prove that violent games help students deal with stress and aggression. She has found that over 49% of boys and 25% of girls use violent games such as Grand Theft Auto IV as an outlet for their anger. Dr. Olson has come to the conclusion that violent games affect students positively and not negatively because the violent crime rate is going down while the popularity of M-rated video games has increased. She suggests that instead of stopping children from playing M-rated games completely, parents should just monitor how much time their children spend playing games; parents should take responsibility. \\n[REF] . \\n\\nSeveral studies have explored the possible benefits of multiplayer video games in a family setting. The most recent study found that girls 11-16 who played video games with their parents had better mental health and less aggressive behavior, with a stronger connection if they played age-appropriate games [REF]. \\n\\nMany studies have been done on gaming and its integration into the classroom in order to support the educator. \"The use of gaming has the ability to actively involve students in learning.\"[REF] On-line gaming is especially important in helping students build collaborative skills while completing given tasks. \\n\\nTo date, video game training appears to be one of the more interesting and promising means to improve perceptual, attentional, and cognitive abilities. One of its promises is that, compared to traditional training, it can be engaging and entertaining. This has led some companies to begin to market video games for the specific purpose of improving cognition. For example, Nintendo advertises \"Big Brain Academy\" as a game that \"trains your brain with a course load of mind-bending activities across five categories: think, memorize, analyze, compute, and identify\" [REF]. \\n\\nIt enables players to explore various aspects of their identity in a virtual world [REF]. \\n\\nJournalist and author, David Sheff, believes that many skills can be learned from the gaming experience, it builds practical and intellectual skills, \"by playing video games children gain problem solving abilities, perseverance, pattern recognition, hypothesis testing, estimating skills, inductive skills, resources management, logistics mapping, memory, quick thinking and reasonable judgements\" [REF]. \\n\\nResearch at University of Rochester suggest that playing video games that contain high levels of action can improve eyesight [REF]. \\n\\nMany authors disagree with the notion that suggests that the media can cause violence, they propose media cannot cause violence because humans have the ability to recognize what is wrong, and what is right. They suggest people are not going to mistake fiction for reality. Some people who criticize the proposed negative effects based their research are Terry Flew, Sal Humphreys, Martin Barker and Jonathan Freedman. \\n[REF][REF][REF] . \\n\\nJ.C. Herz argued that many so-called negative effects of video games, such as aggression and lack of pro-social behavior, are both necessary and useful traits to have in a capitalistic society. Specifically, Herz argued that many academic researchers have an anti-capitalist bias, and thus failed to notice the benefits of such traits [REF]. \\n\\nSome authors also suggest that video games have many healthy and positive aspects, for example they can be a safe outlet for aggression and frustration [REF].'"
            ]
          },
          "metadata": {},
          "execution_count": 48
        }
      ]
    },
    {
      "cell_type": "code",
      "metadata": {
        "id": "eP1LDZGfwbl7"
      },
      "source": [
        "# Get the sorted list of the indicators of the articles used. \n",
        "articles_used=sorted(list(set(argumentative_dataframe['article_id'])))"
      ],
      "execution_count": null,
      "outputs": []
    },
    {
      "cell_type": "code",
      "metadata": {
        "colab": {
          "base_uri": "https://localhost:8080/"
        },
        "id": "h9lLxTzR0yMS",
        "outputId": "276163ed-cc51-49a6-c9ae-179a3d04ee88"
      },
      "source": [
        "len(articles_used)"
      ],
      "execution_count": null,
      "outputs": [
        {
          "output_type": "execute_result",
          "data": {
            "text/plain": [
              "513"
            ]
          },
          "metadata": {},
          "execution_count": 50
        }
      ]
    },
    {
      "cell_type": "code",
      "metadata": {
        "colab": {
          "base_uri": "https://localhost:8080/"
        },
        "id": "o1Z2qoDVwzv6",
        "outputId": "8fce6331-374e-44ab-81ee-ede1eb352cb8"
      },
      "source": [
        "articles_used[:5]"
      ],
      "execution_count": null,
      "outputs": [
        {
          "output_type": "execute_result",
          "data": {
            "text/plain": [
              "[0, 3, 19, 21, 32]"
            ]
          },
          "metadata": {},
          "execution_count": 51
        }
      ]
    },
    {
      "cell_type": "code",
      "metadata": {
        "id": "EUJcLRaDPcbh"
      },
      "source": [
        "# Get the start and finish points of each argumentative section of each of the text.\n",
        "# Also get the type of each argumentative section.\n",
        "# This points are indicated in the \"start\" and \"end\" coloumns of the Dataframe \n",
        "# created containing both types of argumentative sentences (argumentative_dataframe).\n",
        "\n",
        "sorted_span=[sorted(list(argumentative_dataframe.loc[argumentative_dataframe['article_id'] == article,['start','end','type','article_id']].values), key=lambda element: element[0] ) for article in articles_used]"
      ],
      "execution_count": null,
      "outputs": []
    },
    {
      "cell_type": "code",
      "metadata": {
        "colab": {
          "base_uri": "https://localhost:8080/"
        },
        "id": "hdWHb_MOv4MY",
        "outputId": "7d8d80f0-5544-43e8-8423-d6d71917b722"
      },
      "source": [
        "len(sorted_span)"
      ],
      "execution_count": null,
      "outputs": [
        {
          "output_type": "execute_result",
          "data": {
            "text/plain": [
              "513"
            ]
          },
          "metadata": {},
          "execution_count": 53
        }
      ]
    },
    {
      "cell_type": "code",
      "metadata": {
        "colab": {
          "base_uri": "https://localhost:8080/"
        },
        "id": "7di30v0t1FAZ",
        "outputId": "811acee6-732a-4bed-c303-ad1bda773f25"
      },
      "source": [
        "sorted_span[0][0:10]"
      ],
      "execution_count": null,
      "outputs": [
        {
          "output_type": "execute_result",
          "data": {
            "text/plain": [
              "[array([394, 568, 'premise', 0], dtype=object),\n",
              " array([394, 670, 'premise', 0], dtype=object),\n",
              " array([394, 568, 'premise', 0], dtype=object),\n",
              " array([394, 670, 'premise', 0], dtype=object),\n",
              " array([394, 670, 'premise', 0], dtype=object),\n",
              " array([394, 568, 'premise', 0], dtype=object),\n",
              " array([394, 568, 'premise', 0], dtype=object),\n",
              " array([394, 568, 'premise', 0], dtype=object),\n",
              " array([394, 568, 'premise', 0], dtype=object),\n",
              " array([418, 568, 'claim', 0], dtype=object)]"
            ]
          },
          "metadata": {},
          "execution_count": 54
        }
      ]
    },
    {
      "cell_type": "code",
      "metadata": {
        "id": "QyHlsO3SQO3Y"
      },
      "source": [
        "# Join toghether all the argumentative section relating to the same section of \n",
        "# the text.\n",
        "\n",
        "non_repeated_argumentative=[]\n",
        "\n",
        "for article in sorted_span:\n",
        "  non_repeated=[]\n",
        "  article_id=article[0][3]\n",
        "  start=article[0][0]\n",
        "  end=article[0][1]\n",
        "  argument_type=article[0][2]\n",
        "  for i in range(1,len(article)):\n",
        "    if end>article[i][0]:\n",
        "      start=min(start,article[i][0])\n",
        "      end=max(end,article[i][1])\n",
        "      if not argument_type==article[i][2]:\n",
        "        argument_type=\"both\"\n",
        "    else:\n",
        "      non_repeated.append([start,end,argument_type,article_id])\n",
        "      start=article[i][0]\n",
        "      end=article[i][1]\n",
        "      argument_type=article[i][2]\n",
        "  non_repeated_argumentative.append(non_repeated)"
      ],
      "execution_count": null,
      "outputs": []
    },
    {
      "cell_type": "code",
      "metadata": {
        "colab": {
          "base_uri": "https://localhost:8080/"
        },
        "id": "97lDG8_YTtuF",
        "outputId": "ff429e1e-2980-426e-8d99-b035b2b9eaf2"
      },
      "source": [
        "non_repeated_argumentative[0][0:20]"
      ],
      "execution_count": null,
      "outputs": [
        {
          "output_type": "execute_result",
          "data": {
            "text/plain": [
              "[[394, 670, 'both', 0],\n",
              " [673, 907, 'both', 0],\n",
              " [911, 1111, 'both', 0],\n",
              " [1323, 1577, 'both', 0],\n",
              " [2944, 3540, 'premise', 0],\n",
              " [3900, 3948, 'claim', 0],\n",
              " [3965, 4215, 'both', 0],\n",
              " [4217, 4479, 'premise', 0],\n",
              " [5514, 5803, 'both', 0],\n",
              " [6679, 7317, 'both', 0],\n",
              " [7434, 7830, 'both', 0],\n",
              " [7833, 8213, 'premise', 0],\n",
              " [8402, 8770, 'premise', 0],\n",
              " [8776, 9190, 'both', 0],\n",
              " [9192, 9396, 'premise', 0],\n",
              " [9713, 9857, 'both', 0],\n",
              " [9863, 10296, 'both', 0],\n",
              " [10301, 10782, 'both', 0],\n",
              " [11201, 11483, 'premise', 0],\n",
              " [12724, 13099, 'both', 0]]"
            ]
          },
          "metadata": {},
          "execution_count": 56
        }
      ]
    },
    {
      "cell_type": "code",
      "metadata": {
        "colab": {
          "base_uri": "https://localhost:8080/"
        },
        "id": "2MMmKDBmfAc2",
        "outputId": "9dd48fff-d047-4367-f9fd-f8cffec2e75e"
      },
      "source": [
        "# Number of argumentative section remaining.\n",
        "sum([len(non_repeated) for non_repeated in non_repeated_argumentative])"
      ],
      "execution_count": null,
      "outputs": [
        {
          "output_type": "execute_result",
          "data": {
            "text/plain": [
              "2925"
            ]
          },
          "metadata": {},
          "execution_count": 57
        }
      ]
    },
    {
      "cell_type": "code",
      "metadata": {
        "id": "iC0vOkJ8r2ta"
      },
      "source": [
        "# Tranform the couples of points ((start,end) of each non-repeated section) \n",
        "# to a list (separator of different section).\n",
        "non_repeated_span_points=[]\n",
        "\n",
        "for i in range(len(non_repeated_argumentative)):\n",
        "  list_points=[]\n",
        "  for sect in non_repeated_argumentative[i]:\n",
        "    list_points.append(sect[0])\n",
        "    list_points.append(sect[1])\n",
        "  # Insert starting point of the text\n",
        "  list_points.insert(0,0)\n",
        "  list_points.append(len(articles_text[articles_used[i]]))\n",
        "  non_repeated_span_points.append(list_points)"
      ],
      "execution_count": null,
      "outputs": []
    },
    {
      "cell_type": "code",
      "metadata": {
        "colab": {
          "base_uri": "https://localhost:8080/"
        },
        "id": "0-woJSt9sxSb",
        "outputId": "d2a09d9f-27f8-4bd7-aa1e-5b420850eb93"
      },
      "source": [
        "non_repeated_span_points[0][0:10]"
      ],
      "execution_count": null,
      "outputs": [
        {
          "output_type": "execute_result",
          "data": {
            "text/plain": [
              "[0, 394, 670, 673, 907, 911, 1111, 1323, 1577, 2944]"
            ]
          },
          "metadata": {},
          "execution_count": 59
        }
      ]
    },
    {
      "cell_type": "code",
      "metadata": {
        "id": "buU_p1hRQbPI"
      },
      "source": [
        "# Separate the texts at the point indicated for the different sections\n",
        "\n",
        "split_text=[]\n",
        "\n",
        "for z in range(len(articles_used)):\n",
        "  split_text.append([articles_text[articles_used[z]][i: j] for i, j in zip(non_repeated_span_points[z], non_repeated_span_points[z][1:])])"
      ],
      "execution_count": null,
      "outputs": []
    },
    {
      "cell_type": "code",
      "metadata": {
        "colab": {
          "base_uri": "https://localhost:8080/"
        },
        "id": "G_YOWeYOQ_sR",
        "outputId": "9f24b3b4-3afc-42fa-8852-13d30dc37f65"
      },
      "source": [
        "split_text[0][:10]"
      ],
      "execution_count": null,
      "outputs": [
        {
          "output_type": "execute_result",
          "data": {
            "text/plain": [
              "['. \\n\\nControversies over video games often center on topics such as video game graphic violence, sex and sexism, violent and gory scenes, partial or full nudity, portrayal of criminal behavior, racism, and other provocative and objectionable material. \\n\\nVideo games have been studied for links to addiction and aggression. Earlier meta-analyses (an analysis of several studies) were conflicting. ',\n",
              " 'A 2001 study found that exposure to violent video games causes at least a temporary increase in aggression and that this exposure correlates with aggression in the real world. A decrease in prosocial behavior (caring about the welfare and rights of others) was also noted [REF',\n",
              " ']. ',\n",
              " 'Another 2001 meta-analyses using similar methods[REF] and a more recent 2009 study focusing specifically on serious aggressive behavior[REF] concluded that video game violence is not related to serious aggressive behavior in real life',\n",
              " '. \\n\\n',\n",
              " 'Many potential positive effects have been proposed [REF]. Recent research has suggested that some violent video games may actually have a prosocial effect in some contexts, for example, team play [REF',\n",
              " ']. \\n\\nIt has been argued there is generally a lack of quality studies which can be relied upon and that the video game industry has become an easy target for the media to blame for many modern day problems [REF]. ',\n",
              " 'The most recent large scale meta-anlysis-- examining 130 studies with over 130,000 subjects worldwide-- concluded that exposure to violent video games causes both short term and long term aggression in players and decreases empathy and prosocial behavior',\n",
              " \". However, this meta-analysis was severely criticized in the same issue of the same journal for a number of methodological flaws, including failure to distinguish clinically valid from unstandardized aggression measures and for failing to solicit studies from researchers who have questioned whether causal links exist, thus biasing the sample of included studies [REF].\\n\\nThe Entertainment Software Association states that 20% of video game players are boys under the age of 17, 26% are over 50 (regardless of gender), and that the average game player is 37 [REF].\\nIn a survey of 1,102 teenagers aged 12 to 17, 97% of them said that they play video games; moreover, half of the survey respondents said that they had played a video game in the last day. Three-quarters of parents who were surveyed said that they check the ratings on their kid's games. However, half of the boys who were asked about their favorite game listed a game with an “M” or “AO” rating as their favorite, compared with 14% of girls [REF].\\nThe adult demographic is the fastest-growing segment of the American video games market with 32% of adults playing video games,[REF] although critics have suggested that such statistics are often used to deflect from the fact that almost all American children are exposed to video games [REF].\\n\\nAs of 2011, over 40% of players are female [REF]. However, \",\n",
              " 'a 1998 study conducted at the University of Central Florida found that of the 33 games sampled, 41% do not feature female characters, 28% portrayed women as sex objects, 21% depicted violence against women, and 30% did not represent the female population at all. Furthermore, characterizations of women tended to be stereotypical: highly sexualized (\"visions of beauty with large breasts and hips\"), dependent (\"victim or as the proverbial \\'Damsel in Distress\\'\"), opposed (\"evil or as obstacles to the goal of the game\"), and trivial (\"females depicted [..] in fairly non-significant roles\") [REF']"
            ]
          },
          "metadata": {},
          "execution_count": 61
        }
      ]
    },
    {
      "cell_type": "code",
      "metadata": {
        "id": "WcdfVoBUT5US"
      },
      "source": [
        "# Remove articles with less than 6 section between argumentative and non argumentative.\n",
        "not_remove=[i for i in range(len(split_text)) if len(split_text[i])>5]\n",
        "split_text=[split_text[i] for i in not_remove]\n",
        "non_repeated_argumentative=[non_repeated_argumentative[i] for i in not_remove]\n",
        "articles_used=[articles_used[i] for i in not_remove]"
      ],
      "execution_count": null,
      "outputs": []
    },
    {
      "cell_type": "code",
      "metadata": {
        "colab": {
          "base_uri": "https://localhost:8080/"
        },
        "id": "D-8e0tfaWDt7",
        "outputId": "40d269f7-ab33-4a52-d535-30384968fd2c"
      },
      "source": [
        "len(split_text)"
      ],
      "execution_count": null,
      "outputs": [
        {
          "output_type": "execute_result",
          "data": {
            "text/plain": [
              "271"
            ]
          },
          "metadata": {},
          "execution_count": 63
        }
      ]
    },
    {
      "cell_type": "code",
      "metadata": {
        "id": "9pCNsUL_RqMx"
      },
      "source": [
        "Y_IOB_Debater=[]\n",
        "X_article_word_list=[]\n",
        "\n",
        "for i in range(len(split_text)):\n",
        "  \n",
        "  IOB=[]\n",
        "  article_word_list=[]\n",
        "\n",
        "  # next_type is the next position still not considered in the list of argumentative sections of the articlele examined.\n",
        "  next_type=0\n",
        "  \n",
        "  # Remove the \"[REF]\" and \"|-\" from the text.\n",
        "  texts=[re.sub(r\"\\[REF[\\]$]*\",\"\",text) for text in split_text[i]]\n",
        "  texts=[re.sub(r\"^\\]\",\"\",text) for text in texts]\n",
        "  texts=[re.sub(r\"|-\",\"\",text) for text in texts]\n",
        "\n",
        "  # Set boolean value next_token_is_argumentative to false.\n",
        "  # (first section is never argumentative, in case first sentence was argumentative\n",
        "  # a fake section as been added previously).\n",
        "  next_token_is_argumentative=False\n",
        "\n",
        "  for section in texts:\n",
        "\n",
        "    # Divide the text into token.\n",
        "    seq=nltk.word_tokenize(section.lower())\n",
        "\n",
        "    article_word_list+=seq\n",
        "\n",
        "    if next_token_is_argumentative:\n",
        "      if non_repeated_argumentative[i][next_type][2]=='premise':\n",
        "        IOB+=['B-P']\n",
        "        for token in range(len(seq)-1):\n",
        "          IOB+=['I-P']\n",
        "      else:\n",
        "        if non_repeated_argumentative[i][next_type][2]=='claim':\n",
        "          IOB+=['B-C']\n",
        "          for token in range(len(seq)-1):\n",
        "            IOB+=['I-C']\n",
        "        else:\n",
        "          IOB+=['B-B']\n",
        "          for token in range(len(seq)-1):\n",
        "            IOB+=['I-B']  \n",
        "      next_type += 1\n",
        "    else:\n",
        "      for token in range(len(seq)):\n",
        "        IOB+=['O']\n",
        "\n",
        "    # An argumentative section is followed by a non-argumentative section and vice-versa    \n",
        "    next_token_is_argumentative=not next_token_is_argumentative\n",
        "\n",
        "  Y_IOB_Debater.append(IOB)\n",
        "  X_article_word_list.append(article_word_list)"
      ],
      "execution_count": null,
      "outputs": []
    },
    {
      "cell_type": "code",
      "metadata": {
        "colab": {
          "base_uri": "https://localhost:8080/"
        },
        "id": "S3eVzHcCMUoB",
        "outputId": "39fc5750-8dc3-413d-a678-329566dc8196"
      },
      "source": [
        "for i in range(80,100):\n",
        "  print(X_article_word_list[0][i]+\" - \"+Y_IOB_Debater[0][i])"
      ],
      "execution_count": null,
      "outputs": [
        {
          "output_type": "stream",
          "name": "stdout",
          "text": [
            "least - I-B\n",
            "a - I-B\n",
            "temporary - I-B\n",
            "increase - I-B\n",
            "in - I-B\n",
            "aggression - I-B\n",
            "and - I-B\n",
            "that - I-B\n",
            "this - I-B\n",
            "exposure - I-B\n",
            "correlates - I-B\n",
            "with - I-B\n",
            "aggression - I-B\n",
            "in - I-B\n",
            "the - I-B\n",
            "real - I-B\n",
            "world - I-B\n",
            ". - I-B\n",
            "a - I-B\n",
            "decrease - I-B\n"
          ]
        }
      ]
    },
    {
      "cell_type": "markdown",
      "metadata": {
        "id": "pov3Yk0pUbjm"
      },
      "source": [
        "## **Find out sentences which contain argumentative section**"
      ]
    },
    {
      "cell_type": "code",
      "metadata": {
        "id": "QPcb2rgQUmzn"
      },
      "source": [
        "# Get the list of sententences of each artile.\n",
        "\n",
        "articles_Debater_sentence_list=[]\n",
        "\n",
        "for article_id in range(len(X_article_word_list)):\n",
        "  temp_article_Debater_sentence_list=[]\n",
        "  sentence=\"\"\n",
        "\n",
        "  for word_id in range(len(X_article_word_list[article_id])):\n",
        "    \n",
        "    word=X_article_word_list[article_id][word_id]\n",
        "\n",
        "    # Add to the sentence every word that is not a simple \\n or the end of the sentence (\".\").\n",
        "    if not ( word==\".\" ):\n",
        "      sentence+=word+\" \"\n",
        "          \n",
        "    # . is the end of the sentence.       \n",
        "    if word in [\".\",\"?\",\"!\"] and (not sentence==\"\"):\n",
        "      temp_article_Debater_sentence_list.append(sentence)\n",
        "      sentence=\"\"\n",
        "      \n",
        "  articles_Debater_sentence_list.append(temp_article_Debater_sentence_list)"
      ],
      "execution_count": null,
      "outputs": []
    },
    {
      "cell_type": "code",
      "metadata": {
        "id": "NQZZ9bsSc7w4"
      },
      "source": [
        "sentences_word_list=[[nltk.word_tokenize(sentence) for sentence in article] for article in articles_Debater_sentence_list]"
      ],
      "execution_count": null,
      "outputs": []
    },
    {
      "cell_type": "code",
      "metadata": {
        "id": "4SdpaLUOkapq"
      },
      "source": [
        "# Remove articles with sections of more than 150 words.\n",
        "not_remove=[i for i in range(len(sentences_word_list)) if max([len(sentence) for sentence in sentences_word_list[i]])<=150]\n",
        "X_article_word_list=[X_article_word_list[i] for i in not_remove]\n",
        "Y_IOB_Debater=[Y_IOB_Debater[i] for i in not_remove]\n",
        "split_text=[split_text[i] for i in not_remove]\n",
        "non_repeated_argumentative=[non_repeated_argumentative[i] for i in not_remove]\n",
        "articles_used=[articles_used[i] for i in not_remove]"
      ],
      "execution_count": null,
      "outputs": []
    },
    {
      "cell_type": "code",
      "metadata": {
        "id": "29v1zyzpkjsW",
        "colab": {
          "base_uri": "https://localhost:8080/"
        },
        "outputId": "b1b70fa5-f81b-4e00-f9ad-2856695ee643"
      },
      "source": [
        "len(not_remove)"
      ],
      "execution_count": null,
      "outputs": [
        {
          "output_type": "execute_result",
          "data": {
            "text/plain": [
              "251"
            ]
          },
          "metadata": {},
          "execution_count": 69
        }
      ]
    },
    {
      "cell_type": "code",
      "metadata": {
        "id": "iig43CkWMHND"
      },
      "source": [
        "# Get the list of all the sentences.\n",
        "\n",
        "Debater_sentence_list=[]\n",
        "\n",
        "# Get the list of all the argumentative sections.\n",
        "\n",
        "Debater_arg_sections_list=[]\n",
        "\n",
        "# List of the number of sentences that are part of an agumentative sections \n",
        "# besides the first one.\n",
        "# One element for each argumentative section.\n",
        "\n",
        "Debater_arg_section_len_list=[]\n",
        "\n",
        "# Get the list containing the label of each argumentative section.\n",
        "# The label will be 0 for a claim and 1 for a premise. \n",
        "\n",
        "Debater_labels_list=[]\n",
        "\n",
        "# List that contains for all the argumentative sections of the corpus the corresponding\n",
        "# starting sentence (odered by article and starting point and starting point in the text). \n",
        "Debater_argument_to_sentence_map=[]\n",
        "\n",
        "\n",
        "for article_id in range(len(X_article_word_list)):\n",
        "  sentence=\"\"\n",
        "  arg_section=\"\"\n",
        "  argument=False\n",
        "  # Number of sentences that are part of an agumentative sections besides the first one.\n",
        "  count_sentences_in_arg_section=0\n",
        "\n",
        "  for word_id in range(len(X_article_word_list[article_id])):\n",
        "    \n",
        "    word=X_article_word_list[article_id][word_id]\n",
        "    bio_of_word=Y_IOB_Debater[article_id][word_id]\n",
        "\n",
        "    if not (bio_of_word=='O' or bio_of_word=='B-B' or bio_of_word=='I-B'):\n",
        "      # For each argumentative section found, store the corresponding starting sentence.\n",
        "      if bio_of_word=='B-C' or bio_of_word=='B-P':\n",
        "        if not (arg_section==\"\"):\n",
        "          Debater_arg_sections_list.append(arg_section)\n",
        "          Debater_arg_section_len_list.append(count_sentences_in_arg_section)\n",
        "          arg_section=\"\"\n",
        "          count_sentences_in_arg_section=0\n",
        "        Debater_argument_to_sentence_map.append(len(Debater_sentence_list))\n",
        "        argument=True\n",
        "        if bio_of_word=='B-C':\n",
        "          Debater_labels_list.append(0)\n",
        "        else:\n",
        "          Debater_labels_list.append(1)\n",
        "      arg_section+=word+\" \"\n",
        "\n",
        "    else:\n",
        "      # Check if it the first word out of an argomentative sections.\n",
        "      if argument:\n",
        "        Debater_arg_sections_list.append(arg_section)\n",
        "        Debater_arg_section_len_list.append(count_sentences_in_arg_section)\n",
        "        arg_section=\"\"\n",
        "        count_sentences_in_arg_section=0\n",
        "      argument=False\n",
        "\n",
        "    # Add to the sentence every word that is not a simple \\n or the end of the sentence (\".\").\n",
        "    if not ( word==\".\" ):\n",
        "      sentence+=word+\" \"\n",
        "          \n",
        "    # . is the end of the sentence.       \n",
        "    if word in [\".\",\"?\",\"!\"] and ( not sentence==\"\"):\n",
        "      Debater_sentence_list.append(sentence)\n",
        "      \n",
        "      if argument:\n",
        "        count_sentences_in_arg_section+=1\n",
        "\n",
        "      sentence=\"\"\n",
        "    \n",
        "  if not (arg_section==\"\"):\n",
        "        Debater_arg_sections_list.append(arg_section)\n",
        "        Debater_arg_section_len_list.append(count_sentences_in_arg_section)\n",
        "        arg_section=\"\"\n",
        "        count_sentences_in_arg_section=0\n",
        "        argument=False\n",
        "\n",
        "  if not (sentence==\"\"):\n",
        "      Debater_sentence_list.append(sentence)\n",
        "      \n",
        "      if argument:\n",
        "        count_sentences_in_arg_section+=1\n",
        "\n",
        "      sentence=\"\""
      ],
      "execution_count": null,
      "outputs": []
    },
    {
      "cell_type": "code",
      "metadata": {
        "id": "OvBdpsbtQUcq",
        "colab": {
          "base_uri": "https://localhost:8080/"
        },
        "outputId": "19c7baf9-4ca3-460f-8fde-553fd2548837"
      },
      "source": [
        "len(Debater_sentence_list)"
      ],
      "execution_count": null,
      "outputs": [
        {
          "output_type": "execute_result",
          "data": {
            "text/plain": [
              "44936"
            ]
          },
          "metadata": {},
          "execution_count": 71
        }
      ]
    },
    {
      "cell_type": "code",
      "metadata": {
        "id": "xSOgpuRXQ9hi",
        "colab": {
          "base_uri": "https://localhost:8080/"
        },
        "outputId": "f75cb756-34bc-426c-835e-59060b9282bb"
      },
      "source": [
        "len(Debater_argument_to_sentence_map)"
      ],
      "execution_count": null,
      "outputs": [
        {
          "output_type": "execute_result",
          "data": {
            "text/plain": [
              "2062"
            ]
          },
          "metadata": {},
          "execution_count": 72
        }
      ]
    },
    {
      "cell_type": "code",
      "metadata": {
        "id": "V73kwnQPERqg",
        "colab": {
          "base_uri": "https://localhost:8080/"
        },
        "outputId": "a9ed3a26-5bf3-4d6a-a3ce-15e2910322e4"
      },
      "source": [
        "len(Debater_labels_list)"
      ],
      "execution_count": null,
      "outputs": [
        {
          "output_type": "execute_result",
          "data": {
            "text/plain": [
              "2062"
            ]
          },
          "metadata": {},
          "execution_count": 73
        }
      ]
    },
    {
      "cell_type": "code",
      "metadata": {
        "id": "dYcTAwVrET6d",
        "colab": {
          "base_uri": "https://localhost:8080/"
        },
        "outputId": "95e563cd-627e-4861-e332-f230538624b0"
      },
      "source": [
        "len(Debater_arg_sections_list)"
      ],
      "execution_count": null,
      "outputs": [
        {
          "output_type": "execute_result",
          "data": {
            "text/plain": [
              "2062"
            ]
          },
          "metadata": {},
          "execution_count": 74
        }
      ]
    },
    {
      "cell_type": "code",
      "metadata": {
        "id": "n58VJk7XMAEA",
        "colab": {
          "base_uri": "https://localhost:8080/"
        },
        "outputId": "fd7611de-abc9-4d0f-cead-2e205aeef490"
      },
      "source": [
        "len(Debater_arg_section_len_list)"
      ],
      "execution_count": null,
      "outputs": [
        {
          "output_type": "execute_result",
          "data": {
            "text/plain": [
              "2062"
            ]
          },
          "metadata": {},
          "execution_count": 75
        }
      ]
    },
    {
      "cell_type": "code",
      "metadata": {
        "id": "26H-AYjyMGFB",
        "colab": {
          "base_uri": "https://localhost:8080/"
        },
        "outputId": "94c6fc8a-c020-43e3-cd2a-39f9412739bd"
      },
      "source": [
        "count=0\n",
        "\n",
        "for count_sentences in Debater_arg_section_len_list:\n",
        "  if count_sentences>0:\n",
        "    count+=1\n",
        "\n",
        "print(count)     "
      ],
      "execution_count": null,
      "outputs": [
        {
          "output_type": "stream",
          "name": "stdout",
          "text": [
            "571\n"
          ]
        }
      ]
    },
    {
      "cell_type": "markdown",
      "metadata": {
        "id": "qqPZxo-PJLmB"
      },
      "source": [
        "## **Select the sections to classify and the labels**"
      ]
    },
    {
      "cell_type": "code",
      "metadata": {
        "id": "Alfv7FZqJTnQ",
        "colab": {
          "base_uri": "https://localhost:8080/"
        },
        "outputId": "dba01ea9-1aef-4109-dbe5-a0e1b1efc735"
      },
      "source": [
        "Debater_arg_sections_list[0:10]"
      ],
      "execution_count": null,
      "outputs": [
        {
          "output_type": "execute_result",
          "data": {
            "text/plain": [
              "[\"a 1998 study conducted at the university of central florida found that of the 33 games sampled , 41 % do not feature female characters , 28 % portrayed women as sex objects , 21 % depicted violence against women , and 30 % did not represent the female population at all . furthermore , characterizations of women tended to be stereotypical : highly sexualized ( `` visions of beauty with large breasts and hips '' ) , dependent ( `` victim or as the proverbial 'damsel in distress ' '' ) , opposed ( `` evil or as obstacles to the goal of the game '' ) , and trivial ( `` females depicted [ .. ] in fairly nonsignificant roles '' ) \",\n",
              " 'they increase the violent tendencies among youth ',\n",
              " 'one study did find an increase in reports of bullying , noting , `` our research found that certain patterns of video game play were much more likely to be associated with these types of behavioral problems than with major violent crime such as school shootings ',\n",
              " 'however metaanalyses by other groups have not replicated these findings and these other groups have been critical of attempts to link violent games with aggression . for instance john sherry has said ( 2007 ) `` further , why do some researchers ( e.g . gentile & anderson , 2003 ) continue to argue that video games are dangerous despite evidence to the contrary ? ” ( p. & nbsp ; 244 ',\n",
              " \"ferguson ( 2010 ) has ruled out a relationship between video game violence and serious aggression , concluding `` taken together these metaanalyses range from those which argue against meaningful effects to those which find weak effects . thus the debate on video game violence has been reduced to whether video game violence produces no effects…or almost no effects . '' \",\n",
              " \"a metaanalysis by psychologist jonathan freedman , who reviewed over 200 published studies and found that the `` vast and overwhelming majority '' did not find a causal link , also reached this conclusion \",\n",
              " 'official records show that violent crime rates have declined dramatically since the early 1990s in the usa , among both juveniles and adults . this is despite sales of violent video games exploding and their content becoming increasingly graphic during the same period ',\n",
              " \"terry flew writes that generally representations of gender in digital games are stereotyped . in many games , male characters are portrayed as hard bodied , muscled men , and female characters are portrayed as soft bodied , nearly naked women with large breasts . in addition , flew also believes that female characters in games are usually portrayed in a narrowly stereotypical manner . females are usually constructed as visual objects who wait for male rescue and need to be protected , whereas men are portrayed with more power . such depiction of females in games reflects underlying social ideas of dominance of male over female and themes of masculinity . although not all video games contain such stereotypes , there are enough to make it a general trait . ultimately , flew ends with the statement of the broad demographic 's excessive demands , in that '..different genders have different gaming . ' \",\n",
              " 'reinforcement of sexist stereotypes has also been claimed as an effect of violent video games ',\n",
              " \"a more recent press release by the apa in 2010 summarized recent research findings as `` bad effects depend on certain personality traits ; games can offer learning opportunities for others '' \"]"
            ]
          },
          "metadata": {},
          "execution_count": 77
        }
      ]
    },
    {
      "cell_type": "code",
      "metadata": {
        "id": "NN0pTO1_geM9"
      },
      "source": [
        "# Transform the sections in the sequences of their words.\n",
        "X_Debater_sections_word_list=[nltk.word_tokenize(section) for section in Debater_arg_sections_list]"
      ],
      "execution_count": null,
      "outputs": []
    },
    {
      "cell_type": "code",
      "metadata": {
        "id": "penyiboZKIRV",
        "colab": {
          "base_uri": "https://localhost:8080/"
        },
        "outputId": "c8f6b184-c68d-4b99-f6a3-f294bb5a0e57"
      },
      "source": [
        "# Extract labels, assign label 1 for the premises and 0 for the claims.\n",
        "\n",
        "Y_Debater=np.array(Debater_labels_list)\n",
        "\n",
        "Y_Debater"
      ],
      "execution_count": null,
      "outputs": [
        {
          "output_type": "execute_result",
          "data": {
            "text/plain": [
              "array([1, 0, 1, ..., 1, 1, 1])"
            ]
          },
          "metadata": {},
          "execution_count": 79
        }
      ]
    },
    {
      "cell_type": "markdown",
      "metadata": {
        "id": "roYver9XG2EM"
      },
      "source": [
        "# **Word2vec and one-hot-encoding**"
      ]
    },
    {
      "cell_type": "code",
      "metadata": {
        "colab": {
          "base_uri": "https://localhost:8080/"
        },
        "id": "Y-0mZxPrPngr",
        "outputId": "c147923e-2dbf-4f77-89a4-0fe854b24de2"
      },
      "source": [
        "path = api.load(\"word2vec-google-news-300\", return_path=True)\n",
        "print(path)"
      ],
      "execution_count": null,
      "outputs": [
        {
          "output_type": "stream",
          "name": "stdout",
          "text": [
            "[==================================================] 100.0% 1662.8/1662.8MB downloaded\n",
            "/root/gensim-data/word2vec-google-news-300/word2vec-google-news-300.gz\n"
          ]
        }
      ]
    },
    {
      "cell_type": "code",
      "metadata": {
        "id": "tQDehuUEG0He"
      },
      "source": [
        "# Load Google Word2Vec model\n",
        "word2vec_model = gensim.models.KeyedVectors.load_word2vec_format(path, binary=True)  "
      ],
      "execution_count": null,
      "outputs": []
    },
    {
      "cell_type": "code",
      "metadata": {
        "id": "CMyLPxJecM0r",
        "colab": {
          "base_uri": "https://localhost:8080/"
        },
        "outputId": "a7142f7a-5819-49a8-f31e-fea5ca53df29"
      },
      "source": [
        "# Get the maximum lenght of the argumentative sections of the essays.\n",
        "\n",
        "X_sections_word_list=X_sections_word_list+X_Debater_sections_word_list\n",
        "\n",
        "text_len = [len(text) for text in X_sections_word_list]\n",
        "MAX_LEN = max(text_len)\n",
        "print(\"Max lenght of the argumentative sections: {}\".format(MAX_LEN))"
      ],
      "execution_count": null,
      "outputs": [
        {
          "output_type": "stream",
          "name": "stdout",
          "text": [
            "Max lenght of the argumentative sections: 264\n"
          ]
        }
      ]
    },
    {
      "cell_type": "code",
      "metadata": {
        "id": "KljJ3ZlgbhyZ"
      },
      "source": [
        "text_tokenizer = Tokenizer()\n",
        "text_tokenizer.fit_on_texts(X_sections_word_list)\n",
        "X = text_tokenizer.texts_to_sequences(X_sections_word_list)\n",
        "X = pad_sequences(X, maxlen=MAX_LEN, padding=\"pre\")"
      ],
      "execution_count": null,
      "outputs": []
    },
    {
      "cell_type": "code",
      "metadata": {
        "id": "1-BY4Z4khofK",
        "colab": {
          "base_uri": "https://localhost:8080/"
        },
        "outputId": "e9869bf9-eb0c-4670-eaa7-87a49d12aab7"
      },
      "source": [
        "# Each word in the Word2vec model used is embedded trough a vector of size 300\n",
        "EMBEDDING_SIZE  = 300\n",
        "\n",
        "# Size of the vocabulary used\n",
        "VOCABULARY_SIZE = len(text_tokenizer.word_index) + 1\n",
        "\n",
        "# Create an empty embedding matix\n",
        "embedding_weights = np.zeros((VOCABULARY_SIZE, EMBEDDING_SIZE))\n",
        "\n",
        "# Create a word to index dictionary mapping\n",
        "word2id = text_tokenizer.word_index\n",
        "\n",
        "# Copy vectors from word2vec model to the words present in corpus\n",
        "for word, index in word2id.items():\n",
        "    try:\n",
        "        embedding_weights[index, :] = word2vec_model[word]\n",
        "    except KeyError:\n",
        "        print(word)"
      ],
      "execution_count": null,
      "outputs": [
        {
          "output_type": "stream",
          "name": "stdout",
          "text": [
            ",\n",
            "to\n",
            "of\n",
            "and\n",
            "a\n",
            ".\n",
            "'s\n",
            "``\n",
            "''\n",
            "(\n",
            ")\n",
            "'\n",
            ";\n",
            ":\n",
            "’\n",
            "2008\n",
            "u.s.\n",
            "]\n",
            "[\n",
            "2010\n",
            "2009\n",
            "2007\n",
            "2011\n",
            "15\n",
            "10\n",
            "“\n",
            "30\n",
            "”\n",
            "2000\n",
            "40\n",
            "part-time\n",
            "20\n",
            "100\n",
            "2006\n",
            "12\n",
            "27\n",
            "60\n",
            "25\n",
            "2002\n",
            "2001\n",
            "2003\n",
            "e-mail\n",
            "atf\n",
            "centre\n",
            "..\n",
            "14\n",
            "1999\n",
            "13\n",
            "sderot\n",
            "face-to-face\n",
            "–\n",
            "16\n",
            "2005\n",
            "70\n",
            "goldstone\n",
            "his/her\n",
            "19\n",
            "80\n",
            "2004\n",
            "1990\n",
            "onechild\n",
            "ptsd\n",
            "well-being\n",
            "90\n",
            "28\n",
            "1996\n",
            "labour\n",
            "-\n",
            "200\n",
            "1997\n",
            "—\n",
            "300\n",
            "11\n",
            "‘\n",
            "50\n",
            "75\n",
            "behaviour\n",
            "20th\n",
            "1998\n",
            "1990s\n",
            "dr.\n",
            "1979\n",
            "criticised\n",
            "merton\n",
            "high-tech\n",
            "co-operation\n",
            "24\n",
            "85\n",
            "1980\n",
            "21\n",
            "1994\n",
            "65\n",
            "1970s\n",
            "2012\n",
            "hitchens\n",
            "dawkins\n",
            "abstinenceonly\n",
            "co-operative\n",
            "co-worker\n",
            "co-workers\n",
            "21st\n",
            "i.e\n",
            "e.g\n",
            "?\n",
            "17\n",
            "k.\n",
            "1993\n",
            "35\n",
            "26\n",
            "aquinas\n",
            "kleck\n",
            "ashkelon\n",
            "distance-learning\n",
            "favour\n",
            "toefl\n",
            "learnt\n",
            "he/she\n",
            "16yearold\n",
            "36\n",
            "18\n",
            "29\n",
            "1970\n",
            "31\n",
            "1980s\n",
            "1985\n",
            "hiv/aids\n",
            "g.\n",
            "j.\n",
            "44\n",
            "programme\n",
            "3,000\n",
            "ehud\n",
            "tunisia\n",
            "lipstadt\n",
            "balanitis\n",
            "oneloss\n",
            "travelling\n",
            "rushdie\n",
            "organisation\n",
            "programmes\n",
            "organisations\n",
            "group-studying\n",
            "metaanalyses\n",
            "1995\n",
            "22\n",
            "petric\n",
            "2.3\n",
            "1989\n",
            "51\n",
            "1930s\n",
            "1991\n",
            "hoxby\n",
            "mahmoud\n",
            "merkel\n",
            "400\n",
            "20,000\n",
            "43\n",
            "st.\n",
            "selfexistence\n",
            "1977\n",
            "5.4\n",
            "1,000\n",
            "falk\n",
            "hrw\n",
            "dershowitz\n",
            "unrwa\n",
            "haniyeh\n",
            "1.5\n",
            "gazan\n",
            "aviv\n",
            "goidel\n",
            "faurisson\n",
            "okinawa\n",
            "governorgeneral\n",
            "high-quality\n",
            "co-tenant\n",
            "well-known\n",
            "time-consuming\n",
            "long-time\n",
            "short-sighted\n",
            "89\n",
            "state-of-the-art\n",
            "long-term\n",
            "brunei\n",
            "2030\n",
            "ibt\n",
            "face-to\n",
            "1969\n",
            "self-control\n",
            "dish-washing\n",
            "defence\n",
            "1987\n",
            "17yearold\n",
            "u.s\n",
            "23\n",
            "1965\n",
            "1971\n",
            "95\n",
            "nonspeech\n",
            "keegstra\n",
            "1972\n",
            "1982\n",
            "1981\n",
            "38\n",
            "200,000\n",
            "kissinger\n",
            "tretyakov\n",
            "250\n",
            "unfpa\n",
            "maimonides\n",
            "aristotle\n",
            "gradelevel\n",
            "detty\n",
            "42\n",
            "350\n",
            "batra\n",
            "127\n",
            "79\n",
            "56\n",
            "1960s\n",
            "45\n",
            "1950\n",
            "100,000\n",
            "1.1\n",
            "2.4\n",
            "7.5\n",
            "1988\n",
            "68\n",
            "1975\n",
            "10,000\n",
            "54\n",
            "b'tselem\n",
            "jcpa\n",
            "800\n",
            "u.n.\n",
            "olmert\n",
            "km²\n",
            "emphasised\n",
            "khaled\n",
            "500,000\n",
            "1949\n",
            "paik\n",
            "stis\n",
            "falloppio\n",
            "durkheim\n",
            "sorrells\n",
            "hirschi\n",
            "22.1\n",
            "1960\n",
            "well-prepared\n",
            "organised\n",
            "online-teaching\n",
            "bangladeshi\n",
            "taslima\n",
            "nasrin\n",
            "self-improvement\n",
            "co-education\n",
            "indira\n",
            "non-profit\n",
            "judgement\n",
            "sudanese\n",
            "well-rounded\n",
            "eco-friendly\n",
            "criticise\n",
            "cutting-edge\n",
            "17th\n",
            "e-books\n",
            "so-called\n",
            "multiple-choice\n",
            "well-trained\n",
            "--\n",
            "labelled\n",
            "40,000\n",
            "'a\n",
            "up-to-date\n",
            "open-minded\n",
            "170\n",
            "environmentally-friendly\n",
            "well-paid\n",
            "devoiding\n",
            "white-collar\n",
            "non-academic\n",
            "team-working\n",
            "time-saving\n",
            "him/her\n",
            "penalty-kick\n",
            "commuincation\n",
            "top-level\n",
            "low-level\n",
            "theatre\n",
            "on-line\n",
            "2050\n",
            "fulfil\n",
            "kidvids\n",
            "offence\n",
            "parantage\n",
            "41\n",
            "244\n",
            "1986\n",
            "yancy\n",
            "18yearold\n",
            "woolley\n",
            "jolynn\n",
            "19yearold\n",
            "leblanc\n",
            "burge\n",
            "barreaux\n",
            "alphen\n",
            "rijn\n",
            "vlis\n",
            "lyndon\n",
            "11246\n",
            "539\n",
            "petronas\n",
            "1957/58\n",
            "154\n",
            "1.8\n",
            "flagburning\n",
            "recognised\n",
            "leisuretime\n",
            "wbc\n",
            "neill\n",
            "mould\n",
            "roemer\n",
            "kaplan\n",
            "2025\n",
            "1973\n",
            "broughton\n",
            "chávez\n",
            "76\n",
            "1945\n",
            "hague\n",
            "shultz\n",
            "nunn\n",
            "1974\n",
            "mearsheimer\n",
            "ahmadinejad\n",
            "nicolas\n",
            "bulgarian\n",
            "cdu\n",
            "potsdam\n",
            "nishimura\n",
            "1984\n",
            "blainey\n",
            "auster\n",
            "1.54\n",
            "guangdong\n",
            "1978\n",
            "1951\n",
            "selfaware\n",
            "1992\n",
            "augustine\n",
            "2020\n",
            "39\n",
            "gunwalking\n",
            "2007.\n",
            "dodson\n",
            "2,020\n",
            "cct\n",
            "alberto\n",
            "500\n",
            "92\n",
            "15,000\n",
            "crossnational\n",
            "260\n",
            "giovanni\n",
            "1940s\n",
            "bertrand\n",
            "dennett\n",
            "pius\n",
            "sartre\n",
            "1938\n",
            "civilised\n",
            "clifford\n",
            "persinger\n",
            "beale\n",
            "peerreviewed\n",
            "62,000\n",
            "orthodoxly\n",
            "1931\n",
            "1917\n",
            "licences\n",
            "kahnawake\n",
            "rep.\n",
            "uigea\n",
            "monterrey\n",
            "1566\n",
            "realme\n",
            "fleischer\n",
            "90,000\n",
            "1966\n",
            "19th\n",
            "99.9\n",
            "€24.7bn\n",
            "10.6\n",
            "€5.2bn\n",
            "sideeffect\n",
            "6.9\n",
            "28.4\n",
            "111,000\n",
            "19.9\n",
            "22.0\n",
            "48.1\n",
            "suicidebygun\n",
            "1968\n",
            "1962\n",
            "aung\n",
            "suu\n",
            "nld\n",
            "2,100\n",
            "d.c.\n",
            "gunrelated\n",
            "cvr\n",
            "52\n",
            "53\n",
            "alfakhura\n",
            "builtup\n",
            "tselem\n",
            "'reconsidering\n",
            "2,700\n",
            "700\n",
            "alhawa\n",
            "gazans\n",
            "4,000\n",
            "48\n",
            "…\n",
            "kimoon\n",
            "jvp\n",
            "estonia\n",
            "ortega\n",
            "zardari\n",
            "mehmood\n",
            "qureshi\n",
            "bildt\n",
            "tajikistan\n",
            "miliband\n",
            "tnam\n",
            "63\n",
            "2001.\n",
            "sapir\n",
            "1000\n",
            "94\n",
            "serry\n",
            "selfselection\n",
            "portillo\n",
            "twigg\n",
            "807\n",
            "aikenhead\n",
            "safi\n",
            "jyllandsposten\n",
            "rasmussen\n",
            "lehto\n",
            "offences\n",
            "albashir\n",
            "criminaltype\n",
            "and/or\n",
            "pillay\n",
            "posner\n",
            "wedgwood\n",
            "50,000\n",
            "auschwitz\n",
            "noam\n",
            "chomsky\n",
            "trippi\n",
            "mathematica\n",
            "metastudy\n",
            "19yearolds\n",
            "91\n",
            "levywarren\n",
            "healy\n",
            "gpas\n",
            "47\n",
            "0.9\n",
            "personyears\n",
            "nonaq\n",
            "twoloss\n",
            "111\n",
            "62\n",
            "12yearold\n",
            "bosnian\n",
            "koza\n",
            "forestdependent\n",
            "finetouch\n",
            "gairdner\n",
            "metzitzah\n",
            "meatal\n",
            "cesare\n",
            "lombroso\n",
            "messner\n",
            "rosenfeld\n",
            "iqs\n",
            "ipsosreid\n",
            "whitlam\n",
            "maclean\n",
            "maistre\n",
            "hakluyt\n",
            "foti\n",
            "comstock\n",
            "whyte\n",
            "newson\n",
            "usoc\n",
            "kreischa\n",
            "1940\n",
            "allcause\n",
            "iccpr\n",
            "smokingrelated\n",
            "13.2\n",
            "14.5\n",
            "11.9\n",
            "0.8\n",
            "cambodia\n",
            "angkowat\n",
            "non-tangible\n",
            "under-age\n",
            "himself/herself\n",
            "self-independence\n",
            "close-downs\n",
            "well-established\n",
            "self-centered\n",
            "payements\n",
            "eight-hour\n",
            "ivory-tower\n",
            "non-stop\n",
            "easy-to-cook\n",
            "one-third\n",
            "gorvernment\n",
            "well-organized\n",
            "overweighing\n",
            "side-effects\n",
            "opprotunities\n",
            "falseful\n",
            "over-rated\n",
            "enthuasism\n",
            "garther\n",
            "hands-on\n",
            "harder-working\n",
            "irak\n",
            "footballworld\n",
            "hydro-kinetic\n",
            "interest-free\n",
            "online-courses\n",
            "top-of-the-range\n",
            "teacher-student\n",
            "occupation-related\n",
            "well-equipped\n",
            "short-time\n",
            "less-used\n",
            "target-oriented\n",
            "lesser-known\n",
            "michaelangelo\n",
            "picasso\n",
            "zappa\n",
            "self-awareness\n",
            "'your\n",
            "self-defense\n",
            "over-dependent\n",
            "profit-oriented\n",
            "recognise\n",
            "brain-washed\n",
            "colourful\n",
            "seventeen-year-old\n",
            "macro-economic\n",
            "speed-up\n",
            "rush-hours\n",
            "emphasise\n",
            "eco-system\n",
            "man-made\n",
            "poverty-stricken\n",
            "non-human\n",
            "baby-born\n",
            "michallengo\n",
            "criticises\n",
            "memorising\n",
            "onlines\n",
            "worthlessly\n",
            "cctvs\n",
            "mohammedanism\n",
            "win-win\n",
            "'dug\n",
            "seagames\n",
            "minh\n",
            "responsibl\n",
            "archuleta\n",
            "bone-by-bone\n",
            "multi-aspect\n",
            "fifty-five\n",
            "test-wise\n",
            "test-takers\n",
            "'innovate\n",
            "must-haves\n",
            "trumm\n",
            "'teachers\n",
            "group'-\n",
            "'this\n",
            "non-verbal\n",
            "conseilieurs\n",
            "high-end\n",
            "pressurising\n",
            "vapour\n",
            "in-depth\n",
            "acquaintant\n",
            "she/he\n",
            "well-regulated\n",
            "all-round\n",
            "corporational\n",
            "labours\n",
            "mediabank\n",
            "feature-computer\n",
            "prioritised\n",
            "crimea\n",
            "far-off\n",
            "poverty-line\n",
            "long-distance\n",
            "self-regulated\n",
            "kochhar\n",
            "icici\n",
            "'social\n",
            "'low\n",
            "would-be\n",
            "unicq\n",
            "clear-cut\n",
            "off-campus\n",
            "millan\n",
            "'halo\n",
            "non-smokers\n",
            "osetia\n",
            "gossip-based\n",
            "salt-panic\n",
            "show-off\n",
            "90-minute-games\n",
            "dioxid\n",
            "comities\n",
            "a+\n",
            "yandex\n",
            "enrolment\n",
            "cutting-edged\n",
            "well-preparation\n",
            "state-of-art\n",
            "living-level\n",
            "three-dimensional\n",
            "socialization-\n",
            "vairtey\n",
            "fast-paced\n",
            "non-native\n",
            "step-by-step\n",
            "beneficed\n",
            "in-born\n",
            "animlas\n",
            "co-citizens\n",
            "palme\n",
            "swimpool\n",
            "non-renewable\n",
            "un-recyclable\n",
            "non-environmentally\n",
            "consumer-oriented\n",
            "short-term\n",
            "politian\n",
            "longer-than-usual\n",
            "full-length\n",
            "main-stream\n",
            "indonesians\n",
            "4:00\n",
            "independly\n",
            "apperant\n",
            "capablity\n",
            "second-hand\n",
            "entertainmening\n",
            "twenty-four\n",
            "long-lasting\n",
            "of-course\n",
            "in-touch\n",
            "easy-to-use\n",
            "insemenation\n",
            "same-old-same-old\n",
            "99\n",
            "wdtv\n",
            "video-game\n",
            "video-games\n",
            "now-a-days\n",
            "self-finance\n",
            "mphils\n",
            "phds\n",
            "him/herself\n",
            "mr.\n",
            "sugesstions\n",
            "artcrafts\n",
            "tussaud\n",
            "well-organised\n",
            "self-confidence\n",
            "foxconn\n",
            "high-paying\n",
            "obessed\n",
            "cancelled\n",
            "infinete\n",
            "e-mails\n",
            "industry-related\n",
            "brain-storming\n",
            "art-imagination\n",
            "life-long\n",
            "problem-solving\n",
            "home-earth\n",
            "man/woman\n",
            "fifty-fifty\n",
            "straight-forward\n",
            "company-\n",
            "apple-\n",
            "euopren\n",
            "destiny-beethoven\n",
            "work-related\n",
            "self-recognition\n",
            "self-identification\n",
            "theoritical\n",
            "commuincating\n",
            "fast-food\n",
            "build-up\n",
            "football/basketball\n",
            "esy\n",
            "instend\n",
            "subordinaries\n",
            "prerequisit\n",
            "patiant\n",
            "to-do\n",
            "trivials\n",
            "self-study\n",
            "university-level\n",
            "theorically\n",
            "on-online\n",
            "exerice\n",
            "high-ranking\n",
            "research-friendly\n",
            "sales-man\n",
            "sub-continent\n",
            "month-long\n",
            "burn-out\n",
            "dramaticly\n",
            "e-learning\n",
            "acknowledgement\n",
            "overweighs\n",
            "high-salary\n",
            "10000\n",
            "justing\n",
            "several-these\n",
            "environmental-friendly\n",
            "self-employed\n",
            "british-ruled\n",
            "longer-term\n",
            "hard-work\n",
            "univesity\n",
            "asistans\n",
            "one-way\n",
            "tete-a-tete\n",
            "whatsapp\n",
            "over-time\n",
            "centeries\n",
            "actor/actress\n",
            "'cult\n",
            "behaviours\n",
            "weichat\n",
            "communicatio\n",
            "mncs\n",
            "tradition-related\n",
            "sunsilk\n",
            "pieter\n",
            "re-plays\n",
            "hard-working\n",
            "favourite\n",
            "370\n",
            "oramaki\n",
            "work-place\n",
            "well-off\n",
            "well-of\n",
            "lifestlyle\n",
            "endeavour\n",
            "out-performance\n",
            "self-made\n",
            "gujarati\n",
            "extra-curriculum\n",
            "old-fashioned\n",
            "fundermentaly\n",
            "tradtions\n",
            "non-fuel-based\n",
            "burstling\n",
            "overly-teemed\n",
            "non-personal\n",
            "stabilising\n",
            "developed-skills\n",
            "non-smoking\n",
            "blossmed\n",
            "environment-friendly\n",
            "notorous\n",
            "harmonial\n",
            "irrisistible\n",
            "viber\n",
            "comfot\n",
            "heart-related\n",
            "relegious\n",
            "antioxydant\n",
            "self-esteem\n",
            "country-\n",
            "demines\n",
            "globalisation\n",
            "ever-increasing\n",
            "huntings\n",
            "distinction-driven\n",
            "khmer\n",
            "cutures\n",
            "over-fried\n",
            "pre-empt\n",
            "health-care\n",
            "reseachs\n",
            "everywhre\n",
            "accelarates\n",
            "air-conditioners\n",
            "non-globalized\n",
            "well-qualified\n",
            "well-educated\n",
            "atmoshphere\n",
            "unrivalled\n",
            "tosix\n",
            "non-abiding\n",
            "self-sufficient\n",
            "well-informed\n",
            "glamour\n",
            "law-aiding\n",
            "exposured\n",
            "already-high\n",
            "k-pop\n",
            "labourous\n",
            "highly-productive\n",
            "old-physical\n",
            "restorated\n",
            "technogy\n",
            "well-behaved\n",
            "fatherood\n",
            "team-player\n",
            "33\n",
            "'damsel\n",
            "effects…or\n",
            "'..different\n",
            "winkel\n",
            "lineberger\n",
            "kilburn\n",
            "1,200\n",
            "kutner\n",
            "olson\n",
            "thirteenyearold\n",
            "cyrax\n",
            "klebold\n",
            "josé\n",
            "rabadán\n",
            "pardo\n",
            "leonhart\n",
            "21yearold\n",
            "everquest\n",
            "mishne\n",
            "buckner\n",
            "45yearold\n",
            "14yearold\n",
            "pakeerah\n",
            "41yearold\n",
            "chengwei\n",
            "26yearold\n",
            "caoyuan\n",
            "13yearold\n",
            "twentyfour\n",
            "tianjin\n",
            "22yearold\n",
            "alejandro\n",
            "trujillo\n",
            "sevenyearold\n",
            "polwat\n",
            "chinno\n",
            "alcock\n",
            "15monthold\n",
            "julien\n",
            "24yearold\n",
            "tristan\n",
            "a/d\n",
            "'airport\n",
            "wellvalidated\n",
            "vvg\n",
            "1116\n",
            "ageappropriate\n",
            "j.c.\n",
            "herz\n",
            "2.2\n",
            "gratz\n",
            "1960.\n",
            "134\n",
            "288\n",
            "228\n",
            "1967/68\n",
            "329\n",
            "245\n",
            "390\n",
            "300.\n",
            "chinese/malays\n",
            "2.1\n",
            "indians/malays\n",
            "1.7\n",
            "nonmalays\n",
            "northafrican\n",
            "zillich\n",
            "universitypreparatory\n",
            "allwomen\n",
            "congressled\n",
            "eichman\n",
            "alberta—in\n",
            "misbehaviour\n",
            "hicklin\n",
            "ranjit\n",
            "udeshi\n",
            "881\n",
            "292\n",
            "i.p.c\n",
            "chatterley\n",
            "1961\n",
            "1955\n",
            "workrelated\n",
            "9.4\n",
            "10.3\n",
            "18.7\n",
            "16.7\n",
            "38.5\n",
            "40.0\n",
            "36.8\n",
            "39.9\n",
            "fourteenround\n",
            "12th\n",
            "summerhill\n",
            "moulded\n",
            "a.s.\n",
            "1883\n",
            "pendleton\n",
            "confucius\n",
            "165\n",
            "connerly\n",
            "'affirmative\n",
            "friedmans\n",
            "wellconnected\n",
            "bhikhu\n",
            "parekh\n",
            "selfchosen\n",
            "são\n",
            "1933\n",
            "interacademy\n",
            "50year\n",
            "fao\n",
            "ghanabased\n",
            "15–20\n",
            "industrialised\n",
            "aaas\n",
            "rate..\n",
            "marginalised\n",
            "1520\n",
            "j.a\n",
            "corsellis\n",
            "59\n",
            "shapiro\n",
            "brandeis\n",
            "886,000\n",
            "betterqualified\n",
            "equallyqualified\n",
            "1743\n",
            "1867\n",
            "queensberry\n",
            "1882\n",
            "c.m\n",
            "perpupil\n",
            "cashhandout\n",
            "guntype\n",
            "hiroshima\n",
            "implosiontype\n",
            "nagasaki\n",
            "people—mostly\n",
            "civilians—from\n",
            "mediumrange\n",
            "intermediaterange\n",
            "chagai\n",
            "28th\n",
            "30th\n",
            "svr\n",
            "statecreated\n",
            "chetek\n",
            "1991.\n",
            "novaya\n",
            "zemlya\n",
            "vladimir\n",
            "dmitriev\n",
            "pre–cold\n",
            "france/britain\n",
            "5–56\n",
            "50–66\n",
            "characterised\n",
            "christiane\n",
            "amanpour\n",
            "'nuclear\n",
            "nuclearweapon\n",
            "a.q\n",
            "network—including\n",
            "hiroshimasize\n",
            "coldwar\n",
            "headsofstate\n",
            "exprime\n",
            "expremier\n",
            "aznar\n",
            "marinova\n",
            "christidi\n",
            "wwii\n",
            "bulgaria\n",
            "josei\n",
            "soka\n",
            "gakkai\n",
            "1957\n",
            "shingo\n",
            "keizo\n",
            "obuchi\n",
            "rothkopf\n",
            "freire\n",
            "essentialize\n",
            "antibritish\n",
            "geoffrey\n",
            "antimulticulturalist\n",
            "sentamu\n",
            "nazirali\n",
            "okin\n",
            "antiwestern\n",
            "26,200\n",
            "fetzer\n",
            "balkans\n",
            "1950s\n",
            "'one\n",
            "ageing\n",
            "5.9\n",
            "2.9\n",
            "huaiji\n",
            "johansson\n",
            "nygren\n",
            "74.6\n",
            "42.2\n",
            "alsoran\n",
            "nonrepublicans\n",
            "selfidentified\n",
            "orfield\n",
            "lessthanideal\n",
            "abecedarian\n",
            "selfgovernment\n",
            "10–15\n",
            "85–90\n",
            "mcdonagh\n",
            "life..since\n",
            "libertychoice\n",
            "consentonce\n",
            "selfmotivation\n",
            "selfawareness\n",
            "selfconsciousness\n",
            "jarvis\n",
            "noonan\n",
            "6632\n",
            "stenberg\n",
            "carhart\n",
            "530\n",
            "914\n",
            "partialbirth\n",
            "breyer\n",
            "ginsburg\n",
            "halakhah\n",
            "talmud\n",
            "shulchan\n",
            "aruch\n",
            "118:100\n",
            "hainan\n",
            "130:100\n",
            "104:100\n",
            "lowerclass\n",
            "94,000\n",
            "64,000\n",
            "450\n",
            "ar15s\n",
            "ak47s\n",
            ".38s\n",
            "doj\n",
            "olindo\n",
            "voth\n",
            "macallister\n",
            "1,608\n",
            "phoenixarea\n",
            "179\n",
            "130\n",
            "ak47\n",
            ".50\n",
            ".38\n",
            "fivesevens\n",
            "389\n",
            "276\n",
            "sinaloa\n",
            "grassley\n",
            "welltargeted\n",
            "sayeeda\n",
            "warsi\n",
            "'something\n",
            "55\n",
            "175page\n",
            "1988.\n",
            "fujimori\n",
            "1990–2000\n",
            "10fold\n",
            "akerlof\n",
            "backalley\n",
            "namibia\n",
            "16–19\n",
            "s.k.b\n",
            "asante\n",
            "subsidise\n",
            "oecd\n",
            "prorich\n",
            "2002.\n",
            "dollar/collier\n",
            "anup\n",
            "thalif\n",
            "1.00\n",
            "'share\n",
            "18101969\n",
            "1929\n",
            "..as\n",
            "uslaner\n",
            "andersen\n",
            "fetner\n",
            "fajnzylber\n",
            "pickett\n",
            "schor\n",
            "galor\n",
            "zeira\n",
            "perotti\n",
            "cornia\n",
            ".25\n",
            ".40\n",
            "ostry\n",
            "alesina\n",
            "tella\n",
            "macculloch\n",
            "axinn\n",
            "1935\n",
            "romber\n",
            "tanf\n",
            "238\n",
            "axiological\n",
            "fulldevelopment\n",
            "euhemerus\n",
            "330–260\n",
            "unverifiability\n",
            "atheists—such\n",
            "dawkins—have\n",
            "aristotelian\n",
            "order—that\n",
            "rudolf\n",
            "deum\n",
            "naturali\n",
            "rationis\n",
            "lumine\n",
            "quae\n",
            "facta\n",
            "visibilia\n",
            "creationis\n",
            "tanquam\n",
            "causam\n",
            "effectus\n",
            "certo\n",
            "cognosci\n",
            "adeoque\n",
            "demostrari\n",
            "etiam\n",
            "profiteor\n",
            "nonsupernatural\n",
            "atheistexistentialist\n",
            "jeanpaul\n",
            "poursoi\n",
            "beingforitself\n",
            "ensoi\n",
            "beinginitself\n",
            "grimus\n",
            "selfcontradictory\n",
            "samkhya\n",
            "sigmund\n",
            "niall\n",
            "apothegm\n",
            "chesterton\n",
            "étienne\n",
            "1862\n",
            "19thcentury\n",
            "selfcreation\n",
            "liddle\n",
            "'question\n",
            "'submit\n",
            "selfcriticism\n",
            "bolsheviks\n",
            "1918\n",
            "1925\n",
            "1967\n",
            "enver\n",
            "hoxha\n",
            "albania\n",
            "lifeaffirming\n",
            "machiavelli\n",
            "pickover\n",
            "sagan\n",
            "demonhaunted\n",
            "ufos\n",
            "vilayanur\n",
            "ramachandran\n",
            "neardeath\n",
            "laurentian\n",
            "religiousity\n",
            "theodore\n",
            "498\n",
            "34\n",
            "selfactualization\n",
            "850\n",
            "wellconducted\n",
            "drug/alcohol\n",
            "use/abuse\n",
            "khomeini\n",
            "lajja\n",
            "shirin\n",
            "ebadi\n",
            "illinformed\n",
            "paley\n",
            "darrell\n",
            "—the\n",
            "design—in\n",
            "selforiginated\n",
            "timaeus\n",
            "plotinus\n",
            "thirdcentury\n",
            "platonist\n",
            "creatio\n",
            "proclus\n",
            "'the\n",
            "1225–1274\n",
            "avicenna\n",
            "..and\n",
            "gottfried\n",
            "leibniz\n",
            "1714\n",
            "protagoras\n",
            "pyrrho\n",
            "carneades\n",
            "highpayoffs\n",
            "breiter\n",
            "gamblinglike\n",
            "184\n",
            "lesieur\n",
            "fiftyeight\n",
            "98\n",
            "reservationbased\n",
            "mathematicallydetermined\n",
            "moines\n",
            "americanize\n",
            "courtmartialed\n",
            "leavenworth\n",
            "malesonly\n",
            "lowrisk\n",
            "costtobenefit\n",
            "rofessionallyskilled\n",
            "draftbased\n",
            "barbuda\n",
            "830\n",
            "2046\n",
            "h.r\n",
            "2267\n",
            "s490\n",
            "£660.74\n",
            "£1.9\n",
            "5000\n",
            "11.2\n",
            "£13,456.07\n",
            "governmentfunded\n",
            "development—but\n",
            "gnp\n",
            "governmenttogovernment\n",
            "martijn\n",
            "nitzsche\n",
            "1569.\n",
            "towardes\n",
            "1612\n",
            "jamestown\n",
            "1740s\n",
            "1755\n",
            "1758\n",
            "exportled\n",
            "nfidcs\n",
            "4.6\n",
            "66\n",
            "2002:40\n",
            "viner\n",
            "bjørn\n",
            "lomborg\n",
            "1845\n",
            "davoll\n",
            "woodbury\n",
            "own..as\n",
            "ipintensive\n",
            "72\n",
            "nonipintensive\n",
            "stategranted\n",
            "höffner\n",
            "piratbyrån\n",
            "rasmus\n",
            "2.0\n",
            "copyrightenforced\n",
            "greenwald\n",
            "2010.\n",
            "2013\n",
            "50megawatt\n",
            "65,000\n",
            "115,000\n",
            "windgenerated\n",
            "nondispatchable\n",
            "peakload\n",
            "86\n",
            "samsø\n",
            "6,273\n",
            "1970.\n",
            "daisyworld\n",
            "corelation\n",
            "grinols\n",
            "nondiverse\n",
            "'punish\n",
            "'punishing\n",
            "'crimes\n",
            "papademos\n",
            ".the\n",
            "method—namely\n",
            "levitt\n",
            "kellermann\n",
            "states..\n",
            "whim..\n",
            "7.2\n",
            "233,251\n",
            "1946\n",
            "wellarmed\n",
            "2.5\n",
            "firearmrelated\n",
            "1976\n",
            "8888\n",
            "shwedagon\n",
            "nargis\n",
            "ricefarming\n",
            "irrawaddy\n",
            "kokang\n",
            "kachin\n",
            "8–12\n",
            "yunnan\n",
            "neighbouring\n",
            "429\n",
            "84\n",
            "mcdowall\n",
            "64,615\n",
            "0.2\n",
            "0.83\n",
            "2.45\n",
            "selfprotection\n",
            "554\n",
            "570\n",
            "1822\n",
            "1799\n",
            "270\n",
            "f.3d\n",
            "203\n",
            "minxin\n",
            "3,500\n",
            "rizhao\n",
            "shandong\n",
            "3050\n",
            "transcanada\n",
            "146\n",
            "350.org\n",
            "patagonia\n",
            "strahan\n",
            "iea\n",
            "schindler\n",
            "athabasca\n",
            "117page\n",
            "highprecision\n",
            "rabbo\n",
            "csis\n",
            "airland\n",
            "37,000\n",
            "accodance\n",
            "147\n",
            "8000\n",
            "30,000\n",
            "11yearold\n",
            "rightsisrael\n",
            "maj.gen\n",
            "yoav\n",
            "chinkin\n",
            "moyers\n",
            "almaqadmah\n",
            "jabilyah\n",
            "airtoground\n",
            "night..\n",
            "alsamouni\n",
            "zeytoun\n",
            "alsamounis\n",
            "nationsrun\n",
            "jabaliya\n",
            "1,300\n",
            "quds\n",
            "wafa\n",
            "berkley\n",
            "eliot\n",
            "engel\n",
            "yael\n",
            "landes\n",
            "diskin\n",
            "terms..it\n",
            "tzipi\n",
            "livni\n",
            "87\n",
            "negev\n",
            "alarabiya\n",
            "qassams\n",
            "230\n",
            "iaf\n",
            "precisionguided\n",
            "nehushtan\n",
            "nonprecisionguided\n",
            "15.\n",
            "750,000\n",
            "alzahar\n",
            "gaza..\n",
            "macgregor\n",
            "71\n",
            "donatella\n",
            "rovera\n",
            "neighbourhoods\n",
            "givati\n",
            "majed\n",
            "600–700\n",
            "satellitebased\n",
            "2,692\n",
            "220\n",
            "167\n",
            "104\n",
            "714\n",
            "187\n",
            "0.28\n",
            "2,232\n",
            "22.32\n",
            "analysed\n",
            "ashdod\n",
            "beersheba\n",
            "gedera\n",
            "1/8\n",
            "302\n",
            "102\n",
            "fatah\n",
            "750\n",
            "182\n",
            "584\n",
            "219\n",
            "122\n",
            "undp\n",
            "14,000\n",
            "600,000\n",
            "700,000\n",
            "88\n",
            "'we\n",
            "d'escoto\n",
            "brockmann\n",
            "internationalis\n",
            "335\n",
            "stabilisation\n",
            "ouyahia\n",
            "bahraini\n",
            "milorad\n",
            "dodik\n",
            "shimon\n",
            "peres\n",
            "srpska\n",
            "antiisrael\n",
            "bosnia\n",
            "herzegovina\n",
            "darussalam\n",
            "croatian\n",
            "stjepan\n",
            "mesić\n",
            "cypriot\n",
            "emphasises\n",
            "intrapalestinian\n",
            "mirek\n",
            "topolánek\n",
            "jiří\n",
            "potužník\n",
            "stig\n",
            "møller\n",
            "correa\n",
            "6060th\n",
            "urmas\n",
            "paet\n",
            "gambian\n",
            "yahya\n",
            "jammeh\n",
            "threedayold\n",
            "steg\n",
            "bakoyannis\n",
            "deescalation\n",
            "guatemala\n",
            "israelipalestinian\n",
            "micheál\n",
            "lithuanian\n",
            "badawi\n",
            "mauritian\n",
            "navin\n",
            "ramgoolam\n",
            "balkenende\n",
            "want..\n",
            "dprk\n",
            "gahr\n",
            "støre\n",
            "fahd\n",
            "yousuf\n",
            "gilani\n",
            "haroon\n",
            "cristian\n",
            "diaconescu\n",
            "antonella\n",
            "mularoni\n",
            "slovak\n",
            "hajaig\n",
            "moratinos\n",
            "arabisraeli\n",
            "tanzanian\n",
            "jakaya\n",
            "kikwete\n",
            "tanzania\n",
            "palestineisrael\n",
            "mullin\n",
            "renato\n",
            "martino\n",
            "mcclatchy\n",
            "/\n",
            "8,600\n",
            "jaabari\n",
            "alaqsa\n",
            "5,000\n",
            "22,000\n",
            "2008–2009\n",
            "gradtype\n",
            "10–11\n",
            "24,000\n",
            "3000\n",
            "yuli\n",
            "tamir\n",
            "4–18\n",
            "yair\n",
            "barchaim\n",
            "hosen\n",
            "posttrauma\n",
            "mashaal\n",
            "'problem\n",
            "hanley\n",
            "'further\n",
            "…nihilism\n",
            "dunleavy\n",
            "mivtza\n",
            "horef\n",
            "criticising\n",
            "jabalya\n",
            "sajiyah\n",
            "totalled\n",
            "maj.\n",
            "avital\n",
            "leibovich\n",
            "johndroe\n",
            "slovenia\n",
            "suleiman\n",
            "mauritania\n",
            "nouakchott\n",
            "erdogan\n",
            "singledetached\n",
            "kenworthy\n",
            "32\n",
            "welldesigned\n",
            "lowerdensity\n",
            "lowdensity\n",
            "..the\n",
            "1997.\n",
            "enfield\n",
            "mcallister\n",
            "studlar\n",
            "721\n",
            "180\n",
            "807808\n",
            "808\n",
            "heidelberg\n",
            "20yearold\n",
            "1697.\n",
            "scotsman\n",
            "'offence\n",
            "disgrace…a\n",
            "godfixated\n",
            "louay\n",
            "jyllandspoten\n",
            "antimuslim\n",
            "nonislamic\n",
            "lci\n",
            "freivalds\n",
            "tayyip\n",
            "erdoğan\n",
            "algeria\n",
            "bosniaherzegovina\n",
            "fogh\n",
            "frevert\n",
            "mikkelsen\n",
            "holger\n",
            "bayslon\n",
            "68page\n",
            "kalman\n",
            "strasbourg\n",
            "1805\n",
            "tampere\n",
            "seppo\n",
            "antiblasphemy\n",
            "doudou\n",
            "diène\n",
            "portales\n",
            "jeanbaptiste\n",
            "mattei\n",
            "muhammed\n",
            "antiislamic\n",
            "incitingly\n",
            "quereshi\n",
            "jamaateislami\n",
            "wilders\n",
            "miliation\n",
            "gisha\n",
            "prejune\n",
            "emad\n",
            "alahram\n",
            "rafah\n",
            "gaylard\n",
            "39.3\n",
            "37.4\n",
            "51.8\n",
            "50.7\n",
            "9–12\n",
            "61\n",
            "eunida\n",
            "46\n",
            "icrc\n",
            "3,425\n",
            "12–15\n",
            "preblockade\n",
            "2008.\n",
            "90s\n",
            "4000\n",
            "190\n",
            "nezar\n",
            "ayyash\n",
            "dov\n",
            "weisglass\n",
            "justus\n",
            "undersecretarygeneral\n",
            "34page\n",
            "kristalina\n",
            "georgieva\n",
            "crisis..was\n",
            "oxfam\n",
            "1967.\n",
            "umanity\n",
            "propalestinian\n",
            "maxime\n",
            "verhagen\n",
            "össur\n",
            "skarphéðinsson\n",
            "arate\n",
            "hamas—or\n",
            "bilgi\n",
            "turgut\n",
            "tarhanlı\n",
            "navanethem\n",
            "lawati\n",
            "dubaibased\n",
            "gaza–jericho\n",
            "f16\n",
            "110\n",
            "186\n",
            "400,000500,000\n",
            "hamascontrolled\n",
            "islamize\n",
            "alhroub\n",
            "talibanlike\n",
            "ittee\n",
            "inqu\n",
            "mposed\n",
            "ssor\n",
            "sepulveda\n",
            "mauthausen\n",
            "chatila\n",
            "ḥayim\n",
            "josie\n",
            "sandercock\n",
            "niewyk\n",
            "revisionism—the\n",
            "lessbiased\n",
            "information—may\n",
            "jeanclaude\n",
            "pressac\n",
            "mcvay\n",
            "wiesenthal\n",
            "alt.revisionism\n",
            "nizkor\n",
            "pronazi\n",
            "yelland\n",
            "shulman\n",
            "baudrillard\n",
            "ageold\n",
            "trivialising\n",
            "laurette\n",
            "onkelinx\n",
            "gayssot\n",
            "nuremberg\n",
            "194546.\n",
            "censorship..\n",
            "winchester\n",
            "oxbridge\n",
            "statemonopolized\n",
            "eactivists\n",
            "1989–2009\n",
            "6.73\n",
            "6.15\n",
            "5.16\n",
            "5.02\n",
            "3.79\n",
            "asiapacific\n",
            "apec\n",
            "2.83\n",
            "susilo\n",
            "bambang\n",
            "yudhoyono\n",
            "kindendall\n",
            "yougov\n",
            "siecus\n",
            "..study\n",
            "abstinenceonlyuntilmarriage\n",
            "std/hiv\n",
            "47.8\n",
            "sondik\n",
            "83\n",
            "10.7\n",
            "67\n",
            "kolbe\n",
            "o'connell\n",
            "mcdonough\n",
            "selfcontempt\n",
            "marsha\n",
            "bernadine\n",
            "anythinggoes\n",
            "stepp\n",
            "melisa\n",
            "girlology\n",
            "dunlap\n",
            "marist\n",
            "beall\n",
            "endall\n",
            "lukas\n",
            "2/3\n",
            "74\n",
            "grodsky\n",
            ".16\n",
            "selfidentify\n",
            "120.\n",
            "550\n",
            "today/gallup\n",
            "'speech\n",
            "involved..there\n",
            "alone..we\n",
            "aspirations..the\n",
            "'disagreeable\n",
            "governmentpromoted\n",
            "16th\n",
            "gabriele\n",
            "1490s\n",
            "12–14\n",
            "6.7\n",
            "80–95\n",
            "virus2\n",
            "programs..\n",
            "fagan\n",
            "1789\n",
            "congress..\n",
            "1787–88\n",
            "otis\n",
            "done..\n",
            "fenimore\n",
            "78\n",
            "a360,000\n",
            "fouryearold\n",
            "düsseldorf\n",
            "bhisho\n",
            "posthitis\n",
            "hutchinson\n",
            "remondino\n",
            "1891\n",
            "1890\n",
            "nocirc\n",
            "milos\n",
            "r.n\n",
            "unaids\n",
            "somerville\n",
            "povenmire\n",
            "presidentelect\n",
            "kroft\n",
            "quinnipiac\n",
            "pastpresident\n",
            "season.this\n",
            "nonbcs\n",
            ".0101\n",
            "eightteam\n",
            "137\n",
            "18th\n",
            "1983\n",
            "cronon\n",
            "17thcentury\n",
            "1500\n",
            "42,000\n",
            "313\n",
            "1,500\n",
            "251\n",
            "mankoff\n",
            "5,634\n",
            "385\n",
            "306\n",
            "2,827\n",
            "condoleezza\n",
            "bangladeshindia\n",
            "panicstricken\n",
            "bangladeshis\n",
            "1956–57\n",
            "1956\n",
            "34.1\n",
            "28.3\n",
            "swedishborn\n",
            "9.50\n",
            "warneford\n",
            "6,743\n",
            "agematched\n",
            "okinawan\n",
            "1959\n",
            "121\n",
            "baserelated\n",
            "planet—perhaps\n",
            "1218\n",
            "'carbon\n",
            "1.6\n",
            "nepstad\n",
            "mirna\n",
            "17,234\n",
            "9041\n",
            "899\n",
            "274\n",
            "4,715\n",
            "0.161\n",
            "0.078\n",
            "0.040\n",
            "meissner\n",
            "singhgrewal\n",
            "racp\n",
            "1,000,000\n",
            "anaesthesia\n",
            "chordee\n",
            "epispadias\n",
            "practise\n",
            "b'peh\n",
            "bipeh\n",
            "metzizah\n",
            "huffington\n",
            "twoweekold\n",
            "meatus\n",
            "dsmiv\n",
            "anaesthetic\n",
            "bma\n",
            "taddio\n",
            "behavioural\n",
            "emla\n",
            "anaethesia\n",
            "99.9+\n",
            "<\n",
            "0.001\n",
            "schoen\n",
            "quigley\n",
            "subsaharan\n",
            "11.1\n",
            "18.8\n",
            "100.\n",
            "meatitis\n",
            "fergusson\n",
            "7.6\n",
            "14.4\n",
            "crosssectional\n",
            "398\n",
            "fakjian\n",
            "12.5\n",
            "wiswell\n",
            "intraurethral\n",
            "uropathogenic\n",
            "africanamerican\n",
            "beccaria\n",
            "1763–64\n",
            "bentham\n",
            "enrico\n",
            "ferri\n",
            "adolphe\n",
            "quetelet\n",
            "émile\n",
            "mckay\n",
            "mertonian\n",
            "cloward\n",
            "ohlin\n",
            "wagepaying\n",
            "selfinterest\n",
            "kellor\n",
            "johan\n",
            "thorsten\n",
            "willem\n",
            "bonger\n",
            "wolfgang\n",
            "hubert\n",
            "blalock\n",
            "chambliss\n",
            "classmotivated\n",
            "gottfredson\n",
            "povertystricken\n",
            "hirshi\n",
            "lowest/1st\n",
            "selfcontrol\n",
            "goetz\n",
            "homocides\n",
            "49\n",
            "34.\n",
            "stansted\n",
            "brookings\n",
            "69.7\n",
            "onefifth\n",
            "morallybased\n",
            "polyarchy\n",
            "ethnicdiscrimination\n",
            "genderdiscriminative\n",
            "johann\n",
            "tejerazo\n",
            "bhumibol\n",
            "twointhree\n",
            "hegel\n",
            "gough\n",
            "halfsenate\n",
            "donolo\n",
            "hobbes\n",
            "honourable\n",
            "0.47\n",
            "156th\n",
            "muchreduced\n",
            "uncondoned\n",
            "10.1\n",
            "234\n",
            "16.4\n",
            "2040\n",
            "17.8\n",
            "11.8\n",
            "kautilya\n",
            "350283\n",
            "khaldoun\n",
            "botero\n",
            "1540–1617\n",
            "1527–1616\n",
            "throughe\n",
            "seldome\n",
            "sickness..\n",
            "growen\n",
            "thousandes\n",
            "havinge\n",
            "seeke\n",
            "leaste\n",
            "commonwealthe\n",
            "1584\n",
            "malthus\n",
            "1974.\n",
            "2050.\n",
            "pimentel\n",
            "giampietro\n",
            "inran\n",
            "mckibben\n",
            "eidos\n",
            "co.\n",
            "nukem\n",
            "babcock\n",
            "ass'n\n",
            "maleng\n",
            "1880s\n",
            "huesmann\n",
            "leland\n",
            "humphrey\n",
            "2003–07\n",
            "10yearold\n",
            "bulger\n",
            "feb.\n",
            "1993.\n",
            "'that\n",
            "humphreys\n",
            "goldstein\n",
            "maturerated\n",
            "shall..\n",
            "genderreassignment\n",
            "kimveer\n",
            "knud\n",
            "enemark\n",
            "ronicol\n",
            "cypionate\n",
            "furazabol\n",
            "worldrecord\n",
            "exum\n",
            "ashford\n",
            "200m\n",
            "moustache\n",
            "dresden\n",
            "12,000\n",
            "penalised\n",
            "anabolica\n",
            "stasi\n",
            "gdr\n",
            "jenapharm\n",
            "1928\n",
            "cycliste\n",
            "iaaf\n",
            "legalised\n",
            "13month\n",
            "320\n",
            "steroidusing\n",
            "nathaniel\n",
            "branden\n",
            "chrysostom\n",
            "alexandria\n",
            "hippolytus\n",
            "nonprocreative\n",
            "humanae\n",
            "1968.\n",
            "dignitas\n",
            "contragestion\n",
            "morningafter\n",
            "1930\n",
            "casti\n",
            "connubii\n",
            "secondary—unitive—purpose\n",
            "godfried\n",
            "danneels\n",
            "thoman\n",
            "parran\n",
            "doseresponse\n",
            "moderateintensity\n",
            "survival..\n",
            "highintensity\n",
            "cicero\n",
            "133\n",
            "6,000\n",
            "precensorship\n",
            "'is\n",
            "discretion..such\n",
            "ohralik\n",
            "sexualinnuendolaced\n",
            "schoolsponsored\n",
            "writings..\n",
            "4.9\n",
            "1954\n",
            "1964\n",
            "tobaccorelated\n",
            "1/3\n",
            "ifpri\n",
            "24bn\n",
            "40bn\n",
            "36.7\n",
            "subsidised\n",
            "17.9\n",
            "34,486\n",
            "25–30\n",
            "20–30\n",
            "38,000\n",
            "3,400\n",
            "34,439\n",
            "1900–1909\n",
            "35–70\n",
            "70–80\n",
            "80–90\n",
            "1920s\n",
            "koul\n",
            "subcontinentasian\n",
            "519524\n",
            "6times\n"
          ]
        }
      ]
    },
    {
      "cell_type": "markdown",
      "metadata": {
        "id": "qsZtlGELlAfY"
      },
      "source": [
        "# **Split Train and Test set Stab and Gurevych**"
      ]
    },
    {
      "cell_type": "code",
      "metadata": {
        "id": "1ZhdHxsKlAfa"
      },
      "source": [
        "# Create a list of values between 0 and 401, where each value indicate an essay\n",
        "# in the corpus.\n",
        "\n",
        "essay_id_list=[i for i in range(402)]"
      ],
      "execution_count": null,
      "outputs": []
    },
    {
      "cell_type": "code",
      "metadata": {
        "id": "alg8S7WolAfa"
      },
      "source": [
        "# Divide the corpus (documents containing the essay) in test and train test.\n",
        "train_set,test_set=train_test_split(essay_id_list,test_size=0.15,random_state=42)"
      ],
      "execution_count": null,
      "outputs": []
    },
    {
      "cell_type": "code",
      "metadata": {
        "colab": {
          "base_uri": "https://localhost:8080/"
        },
        "id": "NV79NoGJlAfb",
        "outputId": "b2a2a428-3307-43a9-bbd5-4920cec484ea"
      },
      "source": [
        "print(len(train_set))\n",
        "\n",
        "train_set[:10]"
      ],
      "execution_count": null,
      "outputs": [
        {
          "output_type": "stream",
          "name": "stdout",
          "text": [
            "341\n"
          ]
        },
        {
          "output_type": "execute_result",
          "data": {
            "text/plain": [
              "[253, 282, 78, 101, 31, 274, 222, 233, 73, 287]"
            ]
          },
          "metadata": {},
          "execution_count": 87
        }
      ]
    },
    {
      "cell_type": "code",
      "metadata": {
        "colab": {
          "base_uri": "https://localhost:8080/"
        },
        "id": "gHwYiA1elAfc",
        "outputId": "26689248-557d-4635-c5c6-feb9a92a4278"
      },
      "source": [
        "print(len(test_set))\n",
        "\n",
        "test_set[:10]"
      ],
      "execution_count": null,
      "outputs": [
        {
          "output_type": "stream",
          "name": "stdout",
          "text": [
            "61\n"
          ]
        },
        {
          "output_type": "execute_result",
          "data": {
            "text/plain": [
              "[285, 281, 33, 211, 93, 84, 391, 94, 225, 126]"
            ]
          },
          "metadata": {},
          "execution_count": 88
        }
      ]
    },
    {
      "cell_type": "code",
      "metadata": {
        "id": "_HZDUqCplAfc"
      },
      "source": [
        "X_argumentative_sections_doc=list(essay_argument_dataset['doc_id'])\n",
        "\n",
        "sections_train_set=[]\n",
        "sections_test_set=[]\n",
        "\n",
        "for i in range(len(X_argumentative_sections_doc)):\n",
        "  if X_argumentative_sections_doc[i] in test_set:\n",
        "    sections_test_set.append(i)\n",
        "  else:\n",
        "    sections_train_set.append(i)"
      ],
      "execution_count": null,
      "outputs": []
    },
    {
      "cell_type": "code",
      "metadata": {
        "colab": {
          "base_uri": "https://localhost:8080/"
        },
        "id": "5MQr-j_VlAfd",
        "outputId": "3a022a75-4387-4121-ca8f-7f8f782201bb"
      },
      "source": [
        "len(sections_test_set)"
      ],
      "execution_count": null,
      "outputs": [
        {
          "output_type": "execute_result",
          "data": {
            "text/plain": [
              "900"
            ]
          },
          "metadata": {},
          "execution_count": 90
        }
      ]
    },
    {
      "cell_type": "code",
      "metadata": {
        "colab": {
          "base_uri": "https://localhost:8080/"
        },
        "id": "TxObXDQWlAfe",
        "outputId": "b567b2f1-b3a0-4717-ae04-46b84be9fb9e"
      },
      "source": [
        "len(sections_train_set)"
      ],
      "execution_count": null,
      "outputs": [
        {
          "output_type": "execute_result",
          "data": {
            "text/plain": [
              "5189"
            ]
          },
          "metadata": {},
          "execution_count": 91
        }
      ]
    },
    {
      "cell_type": "markdown",
      "metadata": {
        "id": "V5ah4d7RwxYI"
      },
      "source": [
        "# **Split Train and Test set Debater**"
      ]
    },
    {
      "cell_type": "code",
      "metadata": {
        "colab": {
          "base_uri": "https://localhost:8080/"
        },
        "id": "toKp28ZUp9KL",
        "outputId": "0a912fe4-f355-4573-8087-7eda799f54cd"
      },
      "source": [
        "X_argumentative_sections_doc=[]\n",
        "for article in non_repeated_argumentative:\n",
        "  for section in article:\n",
        "    if not section[2]=='both':\n",
        "      X_argumentative_sections_doc.append(section[3])\n",
        "\n",
        "print(len(X_argumentative_sections_doc))     "
      ],
      "execution_count": null,
      "outputs": [
        {
          "output_type": "stream",
          "name": "stdout",
          "text": [
            "2062\n"
          ]
        }
      ]
    },
    {
      "cell_type": "code",
      "metadata": {
        "id": "mrvu9lSByLfh"
      },
      "source": [
        "# Create a list of values of articles' id, where each value indicate an article\n",
        "# in the corpus.\n",
        "\n",
        "article_id_list=list(set(X_argumentative_sections_doc))"
      ],
      "execution_count": null,
      "outputs": []
    },
    {
      "cell_type": "code",
      "metadata": {
        "id": "hbhPLcCuw12o"
      },
      "source": [
        "# Divide the corpus (documents containing the essay) in test and train test.\n",
        "train_set,test_set=train_test_split(article_id_list,test_size=0.25,random_state=42)"
      ],
      "execution_count": null,
      "outputs": []
    },
    {
      "cell_type": "code",
      "metadata": {
        "id": "1fpSwg0hyt8v",
        "colab": {
          "base_uri": "https://localhost:8080/"
        },
        "outputId": "bb21b66e-cd38-41f7-96e6-51c80586f82f"
      },
      "source": [
        "print(len(train_set))\n",
        "\n",
        "train_set[:10]"
      ],
      "execution_count": null,
      "outputs": [
        {
          "output_type": "stream",
          "name": "stdout",
          "text": [
            "188\n"
          ]
        },
        {
          "output_type": "execute_result",
          "data": {
            "text/plain": [
              "[798, 673, 419, 783, 818, 386, 625, 1214, 633, 686]"
            ]
          },
          "metadata": {},
          "execution_count": 95
        }
      ]
    },
    {
      "cell_type": "code",
      "metadata": {
        "id": "KPQoIUW6yxF-",
        "colab": {
          "base_uri": "https://localhost:8080/"
        },
        "outputId": "8b23b55e-0242-4923-ba40-ba7c98e27b0c"
      },
      "source": [
        "print(len(test_set))\n",
        "\n",
        "test_set[:10]"
      ],
      "execution_count": null,
      "outputs": [
        {
          "output_type": "stream",
          "name": "stdout",
          "text": [
            "63\n"
          ]
        },
        {
          "output_type": "execute_result",
          "data": {
            "text/plain": [
              "[806, 520, 313, 1116, 689, 853, 389, 506, 528, 1215]"
            ]
          },
          "metadata": {},
          "execution_count": 96
        }
      ]
    },
    {
      "cell_type": "code",
      "metadata": {
        "id": "l1fiGcrzywzb"
      },
      "source": [
        "Debater_sections_train_set=[]\n",
        "Debater_sections_test_set=[]\n",
        "\n",
        "for i in range(len(X_argumentative_sections_doc)):\n",
        "  if X_argumentative_sections_doc[i] in test_set:\n",
        "    Debater_sections_test_set.append(i)\n",
        "  else:\n",
        "    Debater_sections_train_set.append(i)"
      ],
      "execution_count": null,
      "outputs": []
    },
    {
      "cell_type": "code",
      "metadata": {
        "id": "5Sagy6RozvD0",
        "colab": {
          "base_uri": "https://localhost:8080/"
        },
        "outputId": "feb1077f-9c73-4133-b859-f802ad4d623d"
      },
      "source": [
        "len(Debater_sections_test_set)"
      ],
      "execution_count": null,
      "outputs": [
        {
          "output_type": "execute_result",
          "data": {
            "text/plain": [
              "514"
            ]
          },
          "metadata": {},
          "execution_count": 98
        }
      ]
    },
    {
      "cell_type": "code",
      "metadata": {
        "id": "UbuacOcjzyIF",
        "colab": {
          "base_uri": "https://localhost:8080/"
        },
        "outputId": "a6289cc8-63e9-4589-ae7c-366f11e9c12f"
      },
      "source": [
        "len(Debater_sections_train_set)"
      ],
      "execution_count": null,
      "outputs": [
        {
          "output_type": "execute_result",
          "data": {
            "text/plain": [
              "1548"
            ]
          },
          "metadata": {},
          "execution_count": 99
        }
      ]
    },
    {
      "cell_type": "markdown",
      "metadata": {
        "id": "xgW9BSwMmrkL"
      },
      "source": [
        "# **RNN**"
      ]
    },
    {
      "cell_type": "code",
      "metadata": {
        "id": "Foxe5Z4JmPay"
      },
      "source": [
        "# Create and train recurrent models.\n",
        "\n",
        "# Bidirectional LSTM model.\n",
        "\n",
        "def train_BLSTM(X_train:np.ndarray, Y_train:np.ndarray)->Model:\n",
        "\n",
        "  # Create the BLSTM model.\n",
        "  input = Input(shape=(MAX_LEN,))\n",
        "\n",
        "  model = Embedding(input_dim=VOCABULARY_SIZE, output_dim=EMBEDDING_SIZE, input_length=MAX_LEN, weights= [embedding_weights], trainable=True, mask_zero=True)(input)\n",
        "  model = Bidirectional(LSTM(32))(model)\n",
        "  model = Dropout(0.3)(model)\n",
        "  output = Dense(1, activation='sigmoid')(model)\n",
        "\n",
        "  final_model=Model(input,output)\n",
        "\n",
        "  final_model.compile(loss='binary_crossentropy',\n",
        "                  optimizer='nadam',\n",
        "                  metrics=['acc'])\n",
        "    \n",
        "  training_results= final_model.fit(X_train, Y_train, batch_size=64, epochs=50, validation_split=0.15, verbose=False, callbacks=[EarlyStopping(\"val_loss\", mode='min', patience=2),])\n",
        "\n",
        "  # visualise training history.\n",
        "  plt.plot(training_results.history['acc'])\n",
        "  plt.plot(training_results.history['val_acc'])\n",
        "  plt.title('model accuracy')\n",
        "  plt.ylabel('accuracy')\n",
        "  plt.xlabel('epoch')\n",
        "  plt.legend(['train', 'test'], loc=\"lower right\")\n",
        "  plt.show()\n",
        "\n",
        "  return final_model"
      ],
      "execution_count": null,
      "outputs": []
    },
    {
      "cell_type": "code",
      "metadata": {
        "id": "qJRb65A43VPE",
        "colab": {
          "base_uri": "https://localhost:8080/",
          "height": 295
        },
        "outputId": "e33b13ce-c96c-4501-c972-bd8466f4fcee"
      },
      "source": [
        "target_names=['Claim','Premise']\n",
        " \n",
        "y_pred=[]\n",
        "y_true=[]\n",
        "\n",
        "X_sg,X_Debater=X[:len(labels_list)], X[len(labels_list):]\n",
        "\n",
        "X_train, X_test = X_Debater[Debater_sections_train_set], X_Debater[Debater_sections_test_set]\n",
        "Y_train, Y_test = Y_Debater[Debater_sections_train_set], Y_Debater[Debater_sections_test_set]\n",
        "\n",
        "# Train the model.\n",
        "model=train_BLSTM(X_train,Y_train)\n",
        "\n",
        "# Transform probabilities predicted in the most probable value (0 or 1).\n",
        "y_pred_temp=model.predict(X_test).tolist()\n",
        "for input in y_pred_temp:\n",
        "    y_pred.append(round(input[0]))\n",
        "y_true+=Y_test.tolist()"
      ],
      "execution_count": null,
      "outputs": [
        {
          "output_type": "display_data",
          "data": {
            "image/png": "[encoded data removed]",
            "text/plain": [
              "<Figure size 432x288 with 1 Axes>"
            ]
          },
          "metadata": {
            "needs_background": "light"
          }
        }
      ]
    },
    {
      "cell_type": "code",
      "metadata": {
        "id": "BdRjPwKs4eLD",
        "colab": {
          "base_uri": "https://localhost:8080/"
        },
        "outputId": "b54e12da-3085-421e-d7cf-ac1897afbb6c"
      },
      "source": [
        "# Print the classification report of the result of the models created\n",
        "print(classification_report(y_true, y_pred, target_names=target_names))   "
      ],
      "execution_count": null,
      "outputs": [
        {
          "output_type": "stream",
          "name": "stdout",
          "text": [
            "              precision    recall  f1-score   support\n",
            "\n",
            "       Claim       0.98      0.94      0.96       222\n",
            "     Premise       0.96      0.99      0.97       292\n",
            "\n",
            "    accuracy                           0.97       514\n",
            "   macro avg       0.97      0.96      0.97       514\n",
            "weighted avg       0.97      0.97      0.97       514\n",
            "\n"
          ]
        }
      ]
    },
    {
      "cell_type": "code",
      "metadata": {
        "id": "ctGkhwiw_sfX",
        "colab": {
          "base_uri": "https://localhost:8080/"
        },
        "outputId": "3d812bf0-f013-40c0-db94-cad426d347cd"
      },
      "source": [
        "# Print the confusion matrix.\n",
        "cm=confusion_matrix(y_true, y_pred,normalize='true')\n",
        "\n",
        "cm_disp=ConfusionMatrixDisplay(confusion_matrix=cm,display_labels=target_names)\n",
        "cm_disp.plot()\n",
        "plt.show()"
      ],
      "execution_count": null,
      "outputs": [
        {
          "output_type": "display_data",
          "data": {
            "image/png": "[encoded data removed]",
            "text/plain": [
              "<Figure size 432x288 with 2 Axes>"
            ]
          },
          "metadata": {
            "needs_background": "light"
          }
        }
      ]
    },
    {
      "cell_type": "markdown",
      "metadata": {
        "id": "7KCVIRWOWmB5"
      },
      "source": [
        "# **Stab Gurevych Predictions**"
      ]
    },
    {
      "cell_type": "code",
      "metadata": {
        "id": "QGyjRMEsWpF_"
      },
      "source": [
        "X_sg_train, X_sg_test = X_sg[sections_train_set], X_sg[sections_test_set]\n",
        "Y_sg_test=Y[sections_test_set]"
      ],
      "execution_count": null,
      "outputs": []
    },
    {
      "cell_type": "code",
      "metadata": {
        "id": "8BbHwD0BjFR4"
      },
      "source": [
        "y_pred=[]\n",
        "y_true=[]\n",
        "\n",
        "# Transform probabilities predicted in the most probable value (0 or 1).\n",
        "y_pred_temp=model.predict(X_sg_test).tolist()\n",
        "for input in y_pred_temp:\n",
        "    y_pred.append(round(input[0]))\n",
        "y_true+=Y_sg_test.tolist()"
      ],
      "execution_count": null,
      "outputs": []
    },
    {
      "cell_type": "code",
      "metadata": {
        "id": "FyLAU4nMjT5c",
        "colab": {
          "base_uri": "https://localhost:8080/"
        },
        "outputId": "d9aa5723-8699-4dd0-cfb2-07c812507ea1"
      },
      "source": [
        "# Print the classification report of the result of the models created\n",
        "print(classification_report(y_true, y_pred, target_names=target_names))   "
      ],
      "execution_count": null,
      "outputs": [
        {
          "output_type": "stream",
          "name": "stdout",
          "text": [
            "              precision    recall  f1-score   support\n",
            "\n",
            "       Claim       0.42      0.93      0.58       330\n",
            "     Premise       0.86      0.25      0.39       570\n",
            "\n",
            "    accuracy                           0.50       900\n",
            "   macro avg       0.64      0.59      0.48       900\n",
            "weighted avg       0.69      0.50      0.46       900\n",
            "\n"
          ]
        }
      ]
    }
  ]
}